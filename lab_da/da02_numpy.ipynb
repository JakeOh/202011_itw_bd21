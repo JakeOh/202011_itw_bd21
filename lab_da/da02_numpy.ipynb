{
  "nbformat": 4,
  "nbformat_minor": 0,
  "metadata": {
    "colab": {
      "name": "da02_numpy.ipynb",
      "provenance": [],
      "collapsed_sections": [],
      "authorship_tag": "ABX9TyNKipfnu020mhw9GfoRDZ3K",
      "include_colab_link": true
    },
    "kernelspec": {
      "name": "python3",
      "display_name": "Python 3"
    }
  },
  "cells": [
    {
      "cell_type": "markdown",
      "metadata": {
        "id": "view-in-github",
        "colab_type": "text"
      },
      "source": [
        "<a href=\"https://colab.research.google.com/github/JakeOh/202011_itw_bd21/blob/main/lab_da/da02_numpy.ipynb\" target=\"_parent\"><img src=\"https://colab.research.google.com/assets/colab-badge.svg\" alt=\"Open In Colab\"/></a>"
      ]
    },
    {
      "cell_type": "markdown",
      "metadata": {
        "id": "ogCbxhEtDUPh"
      },
      "source": [
        "# np.ndarray 객체 생성 함수들"
      ]
    },
    {
      "cell_type": "code",
      "metadata": {
        "id": "I8i99_d7D3Sm"
      },
      "source": [
        "import numpy as np"
      ],
      "execution_count": 1,
      "outputs": []
    },
    {
      "cell_type": "markdown",
      "metadata": {
        "id": "ei7zydbPDpgH"
      },
      "source": [
        "**`np.array(array-like object)` 함수**\r\n",
        "\r\n",
        "*   array-like object: list, tuple, ndarray\r\n"
      ]
    },
    {
      "cell_type": "code",
      "metadata": {
        "colab": {
          "base_uri": "https://localhost:8080/"
        },
        "id": "1KF0X9AvDIqD",
        "outputId": "613a07d4-b732-4a54-8c39-9a0270ed3a19"
      },
      "source": [
        "arr = np.array([1, 2, 3])\r\n",
        "print(arr)"
      ],
      "execution_count": 2,
      "outputs": [
        {
          "output_type": "stream",
          "text": [
            "[1 2 3]\n"
          ],
          "name": "stdout"
        }
      ]
    },
    {
      "cell_type": "code",
      "metadata": {
        "colab": {
          "base_uri": "https://localhost:8080/"
        },
        "id": "cB5pAEmOIBmB",
        "outputId": "3543861c-8223-4064-e998-82331371a7fd"
      },
      "source": [
        "arr = np.array([2 * x for x in range(5)])\r\n",
        "print(arr)"
      ],
      "execution_count": 3,
      "outputs": [
        {
          "output_type": "stream",
          "text": [
            "[0 2 4 6 8]\n"
          ],
          "name": "stdout"
        }
      ]
    },
    {
      "cell_type": "markdown",
      "metadata": {
        "id": "OMHyyLJdIZIU"
      },
      "source": [
        "**`np.arange(start, end, step)` 함수**\r\n",
        "\r\n",
        "*   array using range.\r\n",
        "*   1-d array를 생성.\r\n",
        "*   range(end), range(start, end), range(start, end, step)\r\n"
      ]
    },
    {
      "cell_type": "code",
      "metadata": {
        "colab": {
          "base_uri": "https://localhost:8080/"
        },
        "id": "_EaWXme_JMLR",
        "outputId": "0d14baec-e7c7-42d2-8a29-c349a3e3644d"
      },
      "source": [
        "print(np.arange(5))\r\n",
        "print(np.arange(1, 6))\r\n",
        "print(np.arange(0, 10, 2))"
      ],
      "execution_count": 4,
      "outputs": [
        {
          "output_type": "stream",
          "text": [
            "[0 1 2 3 4]\n",
            "[1 2 3 4 5]\n",
            "[0 2 4 6 8]\n"
          ],
          "name": "stdout"
        }
      ]
    },
    {
      "cell_type": "markdown",
      "metadata": {
        "id": "PilWhu2YJrYG"
      },
      "source": [
        "**`ndarray.reshape(shape)` 메서드**\r\n",
        "\r\n",
        "*   `ndarray.reshape(tuple)`\r\n",
        "*   `ndarray.reshape(x, y, ...)`"
      ]
    },
    {
      "cell_type": "code",
      "metadata": {
        "colab": {
          "base_uri": "https://localhost:8080/"
        },
        "id": "DFp0yW_6J_z2",
        "outputId": "2220d5ee-73ee-465a-8a78-5a9383261ca2"
      },
      "source": [
        "arr_1d = np.arange(6)\r\n",
        "print(arr_1d)\r\n",
        "\r\n",
        "arr_2d = arr_1d.reshape((2, 3))  # arr_1d.reshape(2, 3)\r\n",
        "print(arr_2d)"
      ],
      "execution_count": 5,
      "outputs": [
        {
          "output_type": "stream",
          "text": [
            "[0 1 2 3 4 5]\n",
            "[[0 1 2]\n",
            " [3 4 5]]\n"
          ],
          "name": "stdout"
        }
      ]
    },
    {
      "cell_type": "code",
      "metadata": {
        "colab": {
          "base_uri": "https://localhost:8080/"
        },
        "id": "7ylhu1OSKu65",
        "outputId": "4a59f0a2-387e-452c-8a36-366a8a5e62f5"
      },
      "source": [
        "print(np.arange(6).reshape((3, 2)))"
      ],
      "execution_count": 6,
      "outputs": [
        {
          "output_type": "stream",
          "text": [
            "[[0 1]\n",
            " [2 3]\n",
            " [4 5]]\n"
          ],
          "name": "stdout"
        }
      ]
    },
    {
      "cell_type": "markdown",
      "metadata": {
        "id": "Om_KmW1CNUkR"
      },
      "source": [
        "**`np.zeros(shape)` 함수**\r\n",
        "\r\n",
        "*   모든 원소가 0인 ndarray를 생성\r\n"
      ]
    },
    {
      "cell_type": "code",
      "metadata": {
        "colab": {
          "base_uri": "https://localhost:8080/"
        },
        "id": "jOatMmTwNpK_",
        "outputId": "70b02453-cffb-4aff-8ce9-4a295fec05a8"
      },
      "source": [
        "arr = np.zeros((2, 3))\r\n",
        "print(arr)"
      ],
      "execution_count": 7,
      "outputs": [
        {
          "output_type": "stream",
          "text": [
            "[[0. 0. 0.]\n",
            " [0. 0. 0.]]\n"
          ],
          "name": "stdout"
        }
      ]
    },
    {
      "cell_type": "code",
      "metadata": {
        "colab": {
          "base_uri": "https://localhost:8080/"
        },
        "id": "Vbi62yN4PUnC",
        "outputId": "83ca7759-7e4c-4ee3-fc15-1b9225195fc4"
      },
      "source": [
        "arr.dtype"
      ],
      "execution_count": 8,
      "outputs": [
        {
          "output_type": "execute_result",
          "data": {
            "text/plain": [
              "dtype('float64')"
            ]
          },
          "metadata": {
            "tags": []
          },
          "execution_count": 8
        }
      ]
    },
    {
      "cell_type": "code",
      "metadata": {
        "colab": {
          "base_uri": "https://localhost:8080/"
        },
        "id": "K0mlMWFTPk9o",
        "outputId": "9f06aafd-4ae1-4fd8-8055-b5e62bc3728f"
      },
      "source": [
        "print(np.zeros((2, 3), dtype=int))"
      ],
      "execution_count": 9,
      "outputs": [
        {
          "output_type": "stream",
          "text": [
            "[[0 0 0]\n",
            " [0 0 0]]\n"
          ],
          "name": "stdout"
        }
      ]
    },
    {
      "cell_type": "code",
      "metadata": {
        "colab": {
          "base_uri": "https://localhost:8080/",
          "height": 215
        },
        "id": "ptqVHt-gNn5l",
        "outputId": "d1c26699-f673-4dc4-abdb-3bef47270260"
      },
      "source": [
        "print(np.zeros(2, 3))\r\n",
        "#> TypeError 발생"
      ],
      "execution_count": 10,
      "outputs": [
        {
          "output_type": "error",
          "ename": "TypeError",
          "evalue": "ignored",
          "traceback": [
            "\u001b[0;31m---------------------------------------------------------------------------\u001b[0m",
            "\u001b[0;31mTypeError\u001b[0m                                 Traceback (most recent call last)",
            "\u001b[0;32m<ipython-input-10-3e945ff91dd8>\u001b[0m in \u001b[0;36m<module>\u001b[0;34m()\u001b[0m\n\u001b[0;32m----> 1\u001b[0;31m \u001b[0mprint\u001b[0m\u001b[0;34m(\u001b[0m\u001b[0mnp\u001b[0m\u001b[0;34m.\u001b[0m\u001b[0mzeros\u001b[0m\u001b[0;34m(\u001b[0m\u001b[0;36m2\u001b[0m\u001b[0;34m,\u001b[0m \u001b[0;36m3\u001b[0m\u001b[0;34m)\u001b[0m\u001b[0;34m)\u001b[0m\u001b[0;34m\u001b[0m\u001b[0;34m\u001b[0m\u001b[0m\n\u001b[0m\u001b[1;32m      2\u001b[0m \u001b[0;31m#> TypeError 발생\u001b[0m\u001b[0;34m\u001b[0m\u001b[0;34m\u001b[0m\u001b[0;34m\u001b[0m\u001b[0m\n",
            "\u001b[0;31mTypeError\u001b[0m: Cannot interpret '3' as a data type"
          ]
        }
      ]
    },
    {
      "cell_type": "markdown",
      "metadata": {
        "id": "xiynzVonO5iy"
      },
      "source": [
        "**`np.ones(shape)` 함수**\r\n",
        "\r\n",
        "*   모든 원소가 1로 이루어진 ndarray를 생성.\r\n"
      ]
    },
    {
      "cell_type": "code",
      "metadata": {
        "colab": {
          "base_uri": "https://localhost:8080/"
        },
        "id": "y6FYAZdmQTRq",
        "outputId": "1f08445d-9471-4647-e7a2-ce1c4addcfcb"
      },
      "source": [
        "arr = np.ones((2, 3))\r\n",
        "print(arr)"
      ],
      "execution_count": 11,
      "outputs": [
        {
          "output_type": "stream",
          "text": [
            "[[1. 1. 1.]\n",
            " [1. 1. 1.]]\n"
          ],
          "name": "stdout"
        }
      ]
    },
    {
      "cell_type": "markdown",
      "metadata": {
        "id": "BdWZDCUIQ-up"
      },
      "source": [
        "**`np.eye()` 함수**\r\n",
        "\r\n",
        "*   대각선에는 1, 그 이외에는 0으로 채워진 2-d ndarray를 생성.\r\n"
      ]
    },
    {
      "cell_type": "code",
      "metadata": {
        "colab": {
          "base_uri": "https://localhost:8080/"
        },
        "id": "zvHRGy5tQ-UL",
        "outputId": "e1a7bbfe-8dc8-40cc-ee39-ac102034f74b"
      },
      "source": [
        "arr = np.eye(3, dtype=int)\r\n",
        "print(arr)  #> (3, 3)"
      ],
      "execution_count": 12,
      "outputs": [
        {
          "output_type": "stream",
          "text": [
            "[[1 0 0]\n",
            " [0 1 0]\n",
            " [0 0 1]]\n"
          ],
          "name": "stdout"
        }
      ]
    },
    {
      "cell_type": "code",
      "metadata": {
        "colab": {
          "base_uri": "https://localhost:8080/"
        },
        "id": "zh9ZVsH2R3GQ",
        "outputId": "eef064bc-dbae-4ab9-ac5a-1b1a9c27df0e"
      },
      "source": [
        "print(np.eye(3, 4, dtype=int))  #> (3, 4)"
      ],
      "execution_count": 13,
      "outputs": [
        {
          "output_type": "stream",
          "text": [
            "[[1 0 0 0]\n",
            " [0 1 0 0]\n",
            " [0 0 1 0]]\n"
          ],
          "name": "stdout"
        }
      ]
    },
    {
      "cell_type": "code",
      "metadata": {
        "colab": {
          "base_uri": "https://localhost:8080/"
        },
        "id": "0vxGIpLlSCup",
        "outputId": "9a4d1e4f-4f1c-46da-a222-6a9b5f7b894c"
      },
      "source": [
        "print(np.eye(4, k=1, dtype=int))  #> (4, 4), 인덱스 1번 컬럼에서부터 대각선 생성."
      ],
      "execution_count": 14,
      "outputs": [
        {
          "output_type": "stream",
          "text": [
            "[[0 1 0 0]\n",
            " [0 0 1 0]\n",
            " [0 0 0 1]\n",
            " [0 0 0 0]]\n"
          ],
          "name": "stdout"
        }
      ]
    },
    {
      "cell_type": "markdown",
      "metadata": {
        "id": "eHs3tDj6aUaf"
      },
      "source": [
        "**`np.random.rand(d0, d1, ...)` 함수**: \r\n",
        "\r\n",
        "0 <= r < 1 난수들로 이루어진 ndarray를 생성\r\n"
      ]
    },
    {
      "cell_type": "code",
      "metadata": {
        "colab": {
          "base_uri": "https://localhost:8080/"
        },
        "id": "89HSbnZ5bBJJ",
        "outputId": "9889465b-3358-42dc-d1cb-59ebde55deb5"
      },
      "source": [
        "arr = np.random.rand(5)\r\n",
        "print(arr)"
      ],
      "execution_count": 15,
      "outputs": [
        {
          "output_type": "stream",
          "text": [
            "[0.50538968 0.10808349 0.24029363 0.31242837 0.40038432]\n"
          ],
          "name": "stdout"
        }
      ]
    },
    {
      "cell_type": "code",
      "metadata": {
        "colab": {
          "base_uri": "https://localhost:8080/"
        },
        "id": "PohPr3TNb-N3",
        "outputId": "d03be836-aa45-4051-eab0-d475d80c93d7"
      },
      "source": [
        "arr = np.random.rand(3, 2)\r\n",
        "print(arr)"
      ],
      "execution_count": 16,
      "outputs": [
        {
          "output_type": "stream",
          "text": [
            "[[0.40626772 0.55659527]\n",
            " [0.84233542 0.03684263]\n",
            " [0.23624793 0.09092811]]\n"
          ],
          "name": "stdout"
        }
      ]
    },
    {
      "cell_type": "markdown",
      "metadata": {
        "id": "wjiKfv2wcdhV"
      },
      "source": [
        "**`np.random.randn(d0, d1, ..., dn)` 함수**: \r\n",
        "\r\n",
        "평균이 0이고, 표준편차가 1인 표준정규분포(standard normal distribution)를 따르는 난수들의 배열을 생성."
      ]
    },
    {
      "cell_type": "code",
      "metadata": {
        "colab": {
          "base_uri": "https://localhost:8080/"
        },
        "id": "eMhZuskPdY09",
        "outputId": "201c4432-5cb8-414a-8467-a606a41e2107"
      },
      "source": [
        "arr = np.random.randn(10)\r\n",
        "print(arr)"
      ],
      "execution_count": 19,
      "outputs": [
        {
          "output_type": "stream",
          "text": [
            "[ 1.32232687  0.51187603 -1.06279873  0.19425842  1.73546691  1.37107731\n",
            "  0.47288974 -1.03607895  1.52916943  1.10309286]\n"
          ],
          "name": "stdout"
        }
      ]
    },
    {
      "cell_type": "code",
      "metadata": {
        "colab": {
          "base_uri": "https://localhost:8080/"
        },
        "id": "AlIo84Gvd2QX",
        "outputId": "da4120a1-61ce-45f4-fb00-104a50f053a4"
      },
      "source": [
        "arr = np.random.randn(4, 3)\r\n",
        "print(arr)"
      ],
      "execution_count": 20,
      "outputs": [
        {
          "output_type": "stream",
          "text": [
            "[[-0.05805151  0.43101269 -0.33286644]\n",
            " [ 1.39153698  1.15177327  0.79829169]\n",
            " [ 1.29921611  0.49708884  2.05996418]\n",
            " [ 0.68684524  0.25330925  0.76983063]]\n"
          ],
          "name": "stdout"
        }
      ]
    },
    {
      "cell_type": "markdown",
      "metadata": {
        "id": "lzPPRh5teq6m"
      },
      "source": [
        "**`np.random.randint(low, high, size, dtype)` 함수**\r\n",
        "\r\n",
        "*   low <= r < high 범위의 정수 난수들로 이루어진 배열을 생성.\r\n",
        "*   size 파라미터에는 ndarray의 **shape**을 argument로 전달해야 함."
      ]
    },
    {
      "cell_type": "code",
      "metadata": {
        "colab": {
          "base_uri": "https://localhost:8080/"
        },
        "id": "OfyfK91sfBEl",
        "outputId": "a0e115ce-96cb-4c9f-fbad-01a7afb7014e"
      },
      "source": [
        "arr = np.random.randint(1, 4, size=10)\r\n",
        "print(arr)"
      ],
      "execution_count": 21,
      "outputs": [
        {
          "output_type": "stream",
          "text": [
            "[2 3 3 1 2 3 2 2 1 2]\n"
          ],
          "name": "stdout"
        }
      ]
    },
    {
      "cell_type": "code",
      "metadata": {
        "colab": {
          "base_uri": "https://localhost:8080/"
        },
        "id": "xAj8S3ybeNRO",
        "outputId": "4dbc91c7-825c-46b0-d6a5-e66ee36147cd"
      },
      "source": [
        "arr = np.random.randint(1, 4, size=(3, 4))\r\n",
        "print(arr)"
      ],
      "execution_count": 22,
      "outputs": [
        {
          "output_type": "stream",
          "text": [
            "[[2 1 3 3]\n",
            " [3 1 1 1]\n",
            " [2 1 1 2]]\n"
          ],
          "name": "stdout"
        }
      ]
    },
    {
      "cell_type": "code",
      "metadata": {
        "id": "1-5g2Vxrmkk1"
      },
      "source": [
        "import matplotlib.pyplot as plt"
      ],
      "execution_count": 23,
      "outputs": []
    },
    {
      "cell_type": "code",
      "metadata": {
        "colab": {
          "base_uri": "https://localhost:8080/"
        },
        "id": "6SZu42lZna_H",
        "outputId": "fb3773e5-a279-40db-a2ef-c1d2186fcdfb"
      },
      "source": [
        "x = np.arange(-3, 3, 1)\r\n",
        "print(x)\r\n",
        "\r\n",
        "y = x ** 2\r\n",
        "print(y)"
      ],
      "execution_count": 26,
      "outputs": [
        {
          "output_type": "stream",
          "text": [
            "[-3 -2 -1  0  1  2]\n",
            "[9 4 1 0 1 4]\n"
          ],
          "name": "stdout"
        }
      ]
    },
    {
      "cell_type": "code",
      "metadata": {
        "colab": {
          "base_uri": "https://localhost:8080/",
          "height": 265
        },
        "id": "w_Y173kkn2vr",
        "outputId": "c2c9fe97-f8f3-4a7d-b9ca-d1d56718d463"
      },
      "source": [
        "plt.plot(x, y)\r\n",
        "plt.grid()\r\n",
        "plt.show()"
      ],
      "execution_count": 28,
      "outputs": [
        {
          "output_type": "display_data",
          "data": {
            "image/png": "[encoded data removed]",
            "text/plain": [
              "<Figure size 432x288 with 1 Axes>"
            ]
          },
          "metadata": {
            "tags": [],
            "needs_background": "light"
          }
        }
      ]
    },
    {
      "cell_type": "code",
      "metadata": {
        "colab": {
          "base_uri": "https://localhost:8080/"
        },
        "id": "sbdHzaNwoMlE",
        "outputId": "ea48e53e-44c7-40aa-bea3-06ca8094a9f9"
      },
      "source": [
        "x = np.arange(-3, 3, 0.01)\r\n",
        "print(x[:10])\r\n",
        "print(x[-10:])\r\n",
        "\r\n",
        "y = x ** 2"
      ],
      "execution_count": 32,
      "outputs": [
        {
          "output_type": "stream",
          "text": [
            "[-3.   -2.99 -2.98 -2.97 -2.96 -2.95 -2.94 -2.93 -2.92 -2.91]\n",
            "[2.9  2.91 2.92 2.93 2.94 2.95 2.96 2.97 2.98 2.99]\n"
          ],
          "name": "stdout"
        }
      ]
    },
    {
      "cell_type": "code",
      "metadata": {
        "colab": {
          "base_uri": "https://localhost:8080/",
          "height": 265
        },
        "id": "6UGU_LjwouBb",
        "outputId": "1aed7687-b9ba-4194-92e1-a927dbe467a3"
      },
      "source": [
        "plt.plot(x, y)\r\n",
        "plt.grid()\r\n",
        "plt.show()"
      ],
      "execution_count": 33,
      "outputs": [
        {
          "output_type": "display_data",
          "data": {
            "image/png": "[encoded data removed]",
            "text/plain": [
              "<Figure size 432x288 with 1 Axes>"
            ]
          },
          "metadata": {
            "tags": [],
            "needs_background": "light"
          }
        }
      ]
    },
    {
      "cell_type": "code",
      "metadata": {
        "colab": {
          "base_uri": "https://localhost:8080/",
          "height": 265
        },
        "id": "KE39v49fpY8E",
        "outputId": "aa4c5415-1d0d-471b-9b26-7dc10e2c999e"
      },
      "source": [
        "x = np.arange(-1.1, 1.1, 0.01)\r\n",
        "y = x ** 3 - x\r\n",
        "\r\n",
        "plt.plot(x, y)\r\n",
        "plt.grid()\r\n",
        "plt.show()"
      ],
      "execution_count": 35,
      "outputs": [
        {
          "output_type": "display_data",
          "data": {
            "image/png": "[encoded data removed]",
            "text/plain": [
              "<Figure size 432x288 with 1 Axes>"
            ]
          },
          "metadata": {
            "tags": [],
            "needs_background": "light"
          }
        }
      ]
    },
    {
      "cell_type": "code",
      "metadata": {
        "colab": {
          "base_uri": "https://localhost:8080/",
          "height": 265
        },
        "id": "lowPMG55qXfl",
        "outputId": "f90ac4d7-eed6-45ba-d302-0052d7b4641b"
      },
      "source": [
        "x = np.arange(-3, 3, 0.001)\r\n",
        "y = 2 ** x\r\n",
        "\r\n",
        "plt.plot(x, y)\r\n",
        "plt.grid()\r\n",
        "plt.show()"
      ],
      "execution_count": 36,
      "outputs": [
        {
          "output_type": "display_data",
          "data": {
            "image/png": "[encoded data removed]",
            "text/plain": [
              "<Figure size 432x288 with 1 Axes>"
            ]
          },
          "metadata": {
            "tags": [],
            "needs_background": "light"
          }
        }
      ]
    },
    {
      "cell_type": "code",
      "metadata": {
        "colab": {
          "base_uri": "https://localhost:8080/",
          "height": 265
        },
        "id": "_6Y1dHziryCE",
        "outputId": "75da3f31-8b9b-40e2-c716-9f5ebdbcf1da"
      },
      "source": [
        "x = np.arange(-3, 3, 0.001)\r\n",
        "y = 0.5 ** x\r\n",
        "\r\n",
        "plt.plot(x, y)\r\n",
        "plt.grid()\r\n",
        "plt.show()"
      ],
      "execution_count": 37,
      "outputs": [
        {
          "output_type": "display_data",
          "data": {
            "image/png": "[encoded data removed]",
            "text/plain": [
              "<Figure size 432x288 with 1 Axes>"
            ]
          },
          "metadata": {
            "tags": [],
            "needs_background": "light"
          }
        }
      ]
    }
  ]
}