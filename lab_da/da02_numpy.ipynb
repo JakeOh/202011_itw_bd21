{
  "nbformat": 4,
  "nbformat_minor": 0,
  "metadata": {
    "colab": {
      "name": "da02_numpy.ipynb",
      "provenance": [],
      "collapsed_sections": [],
      "authorship_tag": "ABX9TyN0+d/4asUU3ZpDy41EPJj5",
      "include_colab_link": true
    },
    "kernelspec": {
      "name": "python3",
      "display_name": "Python 3"
    }
  },
  "cells": [
    {
      "cell_type": "markdown",
      "metadata": {
        "id": "view-in-github",
        "colab_type": "text"
      },
      "source": [
        "<a href=\"https://colab.research.google.com/github/JakeOh/202011_itw_bd21/blob/main/lab_da/da02_numpy.ipynb\" target=\"_parent\"><img src=\"https://colab.research.google.com/assets/colab-badge.svg\" alt=\"Open In Colab\"/></a>"
      ]
    },
    {
      "cell_type": "markdown",
      "metadata": {
        "id": "ogCbxhEtDUPh"
      },
      "source": [
        "# np.ndarray 객체 생성 함수들"
      ]
    },
    {
      "cell_type": "code",
      "metadata": {
        "id": "I8i99_d7D3Sm"
      },
      "source": [
        "import numpy as np"
      ],
      "execution_count": 1,
      "outputs": []
    },
    {
      "cell_type": "markdown",
      "metadata": {
        "id": "ei7zydbPDpgH"
      },
      "source": [
        "**`np.array(array-like object)` 함수**\r\n",
        "\r\n",
        "*   array-like object: list, tuple, ndarray\r\n"
      ]
    },
    {
      "cell_type": "code",
      "metadata": {
        "colab": {
          "base_uri": "https://localhost:8080/"
        },
        "id": "1KF0X9AvDIqD",
        "outputId": "af9dc413-05af-4be2-ca67-d31685bbe44f"
      },
      "source": [
        "arr = np.array([1, 2, 3])\r\n",
        "print(arr)"
      ],
      "execution_count": 2,
      "outputs": [
        {
          "output_type": "stream",
          "text": [
            "[1 2 3]\n"
          ],
          "name": "stdout"
        }
      ]
    },
    {
      "cell_type": "code",
      "metadata": {
        "colab": {
          "base_uri": "https://localhost:8080/"
        },
        "id": "cB5pAEmOIBmB",
        "outputId": "f1d39142-d775-4fab-a834-5441805df820"
      },
      "source": [
        "arr = np.array([2 * x for x in range(5)])\r\n",
        "print(arr)"
      ],
      "execution_count": 5,
      "outputs": [
        {
          "output_type": "stream",
          "text": [
            "[0 2 4 6 8]\n"
          ],
          "name": "stdout"
        }
      ]
    },
    {
      "cell_type": "markdown",
      "metadata": {
        "id": "OMHyyLJdIZIU"
      },
      "source": [
        "**`np.arange(start, end, step)` 함수**\r\n",
        "\r\n",
        "*   array using range.\r\n",
        "*   1-d array를 생성.\r\n",
        "*   range(end), range(start, end), range(start, end, step)\r\n"
      ]
    },
    {
      "cell_type": "code",
      "metadata": {
        "colab": {
          "base_uri": "https://localhost:8080/"
        },
        "id": "_EaWXme_JMLR",
        "outputId": "2243c54a-c2c3-4b1c-d5ba-b7da132d5dbd"
      },
      "source": [
        "print(np.arange(5))\r\n",
        "print(np.arange(1, 6))\r\n",
        "print(np.arange(0, 10, 2))"
      ],
      "execution_count": 8,
      "outputs": [
        {
          "output_type": "stream",
          "text": [
            "[0 1 2 3 4]\n",
            "[1 2 3 4 5]\n",
            "[0 2 4 6 8]\n"
          ],
          "name": "stdout"
        }
      ]
    },
    {
      "cell_type": "markdown",
      "metadata": {
        "id": "PilWhu2YJrYG"
      },
      "source": [
        "**`ndarray.reshape(shape)` 메서드**\r\n",
        "\r\n",
        "*   `ndarray.reshape(tuple)`\r\n",
        "*   `ndarray.reshape(x, y, ...)`"
      ]
    },
    {
      "cell_type": "code",
      "metadata": {
        "colab": {
          "base_uri": "https://localhost:8080/"
        },
        "id": "DFp0yW_6J_z2",
        "outputId": "7d0c6a9b-9f02-4f21-878a-bc03a1d01057"
      },
      "source": [
        "arr_1d = np.arange(6)\r\n",
        "print(arr_1d)\r\n",
        "\r\n",
        "arr_2d = arr_1d.reshape((2, 3))  # arr_1d.reshape(2, 3)\r\n",
        "print(arr_2d)"
      ],
      "execution_count": 11,
      "outputs": [
        {
          "output_type": "stream",
          "text": [
            "[0 1 2 3 4 5]\n",
            "[[0 1 2]\n",
            " [3 4 5]]\n"
          ],
          "name": "stdout"
        }
      ]
    },
    {
      "cell_type": "code",
      "metadata": {
        "colab": {
          "base_uri": "https://localhost:8080/"
        },
        "id": "7ylhu1OSKu65",
        "outputId": "0372f57c-71b4-4647-9b1f-337db1768264"
      },
      "source": [
        "print(np.arange(6).reshape((3, 2)))"
      ],
      "execution_count": 13,
      "outputs": [
        {
          "output_type": "stream",
          "text": [
            "[[0 1]\n",
            " [2 3]\n",
            " [4 5]]\n"
          ],
          "name": "stdout"
        }
      ]
    },
    {
      "cell_type": "markdown",
      "metadata": {
        "id": "Om_KmW1CNUkR"
      },
      "source": [
        "**`np.zeros(shape)` 함수**\r\n",
        "\r\n",
        "*   모든 원소가 0인 ndarray를 생성\r\n"
      ]
    },
    {
      "cell_type": "code",
      "metadata": {
        "colab": {
          "base_uri": "https://localhost:8080/"
        },
        "id": "jOatMmTwNpK_",
        "outputId": "88eb23a9-5a58-471c-f03e-59c1c45417de"
      },
      "source": [
        "arr = np.zeros((2, 3))\r\n",
        "print(arr)"
      ],
      "execution_count": 14,
      "outputs": [
        {
          "output_type": "stream",
          "text": [
            "[[0. 0. 0.]\n",
            " [0. 0. 0.]]\n"
          ],
          "name": "stdout"
        }
      ]
    },
    {
      "cell_type": "code",
      "metadata": {
        "colab": {
          "base_uri": "https://localhost:8080/"
        },
        "id": "Vbi62yN4PUnC",
        "outputId": "a902df52-488f-47a7-f42a-101558ccbca8"
      },
      "source": [
        "arr.dtype"
      ],
      "execution_count": 17,
      "outputs": [
        {
          "output_type": "execute_result",
          "data": {
            "text/plain": [
              "dtype('float64')"
            ]
          },
          "metadata": {
            "tags": []
          },
          "execution_count": 17
        }
      ]
    },
    {
      "cell_type": "code",
      "metadata": {
        "colab": {
          "base_uri": "https://localhost:8080/"
        },
        "id": "K0mlMWFTPk9o",
        "outputId": "a396471f-8dbc-4e12-d828-a140365bcf9e"
      },
      "source": [
        "print(np.zeros((2, 3), dtype=int))"
      ],
      "execution_count": 18,
      "outputs": [
        {
          "output_type": "stream",
          "text": [
            "[[0 0 0]\n",
            " [0 0 0]]\n"
          ],
          "name": "stdout"
        }
      ]
    },
    {
      "cell_type": "code",
      "metadata": {
        "colab": {
          "base_uri": "https://localhost:8080/",
          "height": 195
        },
        "id": "ptqVHt-gNn5l",
        "outputId": "6f497fe5-724c-49e8-df8d-cfee13962ad2"
      },
      "source": [
        "print(np.zeros(2, 3))\r\n",
        "#> TypeError 발생"
      ],
      "execution_count": 16,
      "outputs": [
        {
          "output_type": "error",
          "ename": "TypeError",
          "evalue": "ignored",
          "traceback": [
            "\u001b[0;31m---------------------------------------------------------------------------\u001b[0m",
            "\u001b[0;31mTypeError\u001b[0m                                 Traceback (most recent call last)",
            "\u001b[0;32m<ipython-input-16-1a6d1a725713>\u001b[0m in \u001b[0;36m<module>\u001b[0;34m()\u001b[0m\n\u001b[0;32m----> 1\u001b[0;31m \u001b[0mprint\u001b[0m\u001b[0;34m(\u001b[0m\u001b[0mnp\u001b[0m\u001b[0;34m.\u001b[0m\u001b[0mzeros\u001b[0m\u001b[0;34m(\u001b[0m\u001b[0;36m2\u001b[0m\u001b[0;34m,\u001b[0m \u001b[0;36m3\u001b[0m\u001b[0;34m)\u001b[0m\u001b[0;34m)\u001b[0m\u001b[0;34m\u001b[0m\u001b[0;34m\u001b[0m\u001b[0m\n\u001b[0m",
            "\u001b[0;31mTypeError\u001b[0m: Cannot interpret '3' as a data type"
          ]
        }
      ]
    },
    {
      "cell_type": "markdown",
      "metadata": {
        "id": "xiynzVonO5iy"
      },
      "source": [
        "**`np.ones(shape)` 함수**\r\n",
        "\r\n",
        "*   모든 원소가 1로 이루어진 ndarray를 생성.\r\n"
      ]
    },
    {
      "cell_type": "code",
      "metadata": {
        "colab": {
          "base_uri": "https://localhost:8080/"
        },
        "id": "y6FYAZdmQTRq",
        "outputId": "5c7bc5c2-26c0-45d3-b692-76f066f69377"
      },
      "source": [
        "arr = np.ones((2, 3))\r\n",
        "print(arr)"
      ],
      "execution_count": 21,
      "outputs": [
        {
          "output_type": "stream",
          "text": [
            "[[1. 1. 1.]\n",
            " [1. 1. 1.]]\n"
          ],
          "name": "stdout"
        }
      ]
    },
    {
      "cell_type": "markdown",
      "metadata": {
        "id": "BdWZDCUIQ-up"
      },
      "source": [
        "**`np.eye()` 함수**\r\n",
        "\r\n",
        "*   대각선에는 1, 그 이외에는 0으로 채워진 2-d ndarray를 생성.\r\n"
      ]
    },
    {
      "cell_type": "code",
      "metadata": {
        "colab": {
          "base_uri": "https://localhost:8080/"
        },
        "id": "zvHRGy5tQ-UL",
        "outputId": "d01c705a-a18c-4fae-afc6-3f14e4665bb6"
      },
      "source": [
        "arr = np.eye(3, dtype=int)\r\n",
        "print(arr)  #> (3, 3)"
      ],
      "execution_count": 22,
      "outputs": [
        {
          "output_type": "stream",
          "text": [
            "[[1 0 0]\n",
            " [0 1 0]\n",
            " [0 0 1]]\n"
          ],
          "name": "stdout"
        }
      ]
    },
    {
      "cell_type": "code",
      "metadata": {
        "colab": {
          "base_uri": "https://localhost:8080/"
        },
        "id": "zh9ZVsH2R3GQ",
        "outputId": "3a3f9068-6541-454e-b73e-acabab11407e"
      },
      "source": [
        "print(np.eye(3, 4, dtype=int))  #> (3, 4)"
      ],
      "execution_count": 23,
      "outputs": [
        {
          "output_type": "stream",
          "text": [
            "[[1 0 0 0]\n",
            " [0 1 0 0]\n",
            " [0 0 1 0]]\n"
          ],
          "name": "stdout"
        }
      ]
    },
    {
      "cell_type": "code",
      "metadata": {
        "colab": {
          "base_uri": "https://localhost:8080/"
        },
        "id": "0vxGIpLlSCup",
        "outputId": "2845e5e3-75f8-4673-96fb-caa41bf433e1"
      },
      "source": [
        "print(np.eye(4, k=1, dtype=int))  #> (4, 4), 인덱스 1번 컬럼에서부터 대각선 생성."
      ],
      "execution_count": 24,
      "outputs": [
        {
          "output_type": "stream",
          "text": [
            "[[0 1 0 0]\n",
            " [0 0 1 0]\n",
            " [0 0 0 1]\n",
            " [0 0 0 0]]\n"
          ],
          "name": "stdout"
        }
      ]
    }
  ]
}