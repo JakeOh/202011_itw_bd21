{
  "nbformat": 4,
  "nbformat_minor": 0,
  "metadata": {
    "colab": {
      "name": "da17_apt201910.ipynb",
      "provenance": [],
      "collapsed_sections": [],
      "authorship_tag": "ABX9TyMk4uYxKa4X0JPWCrfr0yVY",
      "include_colab_link": true
    },
    "kernelspec": {
      "name": "python3",
      "display_name": "Python 3"
    }
  },
  "cells": [
    {
      "cell_type": "markdown",
      "metadata": {
        "id": "view-in-github",
        "colab_type": "text"
      },
      "source": [
        "<a href=\"https://colab.research.google.com/github/JakeOh/202011_itw_bd21/blob/main/lab_da/da17_apt201910.ipynb\" target=\"_parent\"><img src=\"https://colab.research.google.com/assets/colab-badge.svg\" alt=\"Open In Colab\"/></a>"
      ]
    },
    {
      "cell_type": "markdown",
      "metadata": {
        "id": "xH7ky5dAJkq7"
      },
      "source": [
        "\r\n",
        "*   [apt_201910.csv](https://github.com/JakeOh/202011_itw_bd21/raw/main/datasets/apt_201910.csv) 파일을 읽어서 데이터 프레임 생성\r\n",
        "    *   encoding 파라미터 설정\r\n",
        "    *   '가격' 컬럼에는 숫자 자릿수를 구분하는 comma가 사용되고 있음(예: 10,000)\r\n",
        "        *   '가격' 컬럼은 숫자 타입이어야 함!\r\n",
        "*   데이터 프레임 파악\r\n",
        "    *   info, head, tail, describe, dtypes, ...\r\n",
        "*   '시군구' 컬럼의 값을 이용해서, 'province' 파생 변수(도, 광역시 이름) 만듦.\r\n",
        "    *   '강원도 강릉시 견소동' -> '강원도'\r\n",
        "*   '계약년월' 컬럼의 값을 이용해서, 'year(계약년도)', 'month(계약월)' 파생 변수 만듦.\r\n",
        "    *   201910 -> 2019, 10\r\n",
        "*    서울특별시 아파트들의 동별 아파트 가격의 개수, 평균, 최솟값, 최댓값\r\n",
        "*    도/광역시별 아파트 가격 개수, 평균, 최솟값, 최댓값\r\n",
        "*    면적이  $84 m^2$  이상  $100 m^2$  미만의 서울특별시 아파트들 중에서, 동별 아파트 가격 개수, 평균, 최솟값, 최댓값\r\n",
        "*    면적이 $84 m^2$ 이상 $100 m^2$ 미만의 아파트들 중에서, 도/광역시별 아파트 가격 개수, 평균, 최솟값, 최댓값\r\n",
        "    *   결과를 평균의 내림차순으로 정렬해서 출력\r\n",
        "    *   결과를 최댓값의 내림차순으로 정렬해서 출력\r\n",
        "    *   결과를 최솟값의 오름차순으로 정렬해서 출력\r\n"
      ]
    },
    {
      "cell_type": "code",
      "metadata": {
        "id": "k0hdw1Vt0QPA"
      },
      "source": [
        "import numpy as np\r\n",
        "import pandas as pd\r\n",
        "import matplotlib.pyplot as plt\r\n",
        "import seaborn as sns"
      ],
      "execution_count": 3,
      "outputs": []
    },
    {
      "cell_type": "code",
      "metadata": {
        "id": "JNcQV0XzJXT6"
      },
      "source": [
        "file_path = 'https://github.com/JakeOh/202011_itw_bd21/raw/main/datasets/apt_201910.csv'"
      ],
      "execution_count": 4,
      "outputs": []
    },
    {
      "cell_type": "code",
      "metadata": {
        "id": "B1MpUHxj0K0g"
      },
      "source": [
        "apt = pd.read_csv(file_path, encoding='cp949', thousands=',')\r\n",
        "#> encoding: 파일의 인코딩 타입(utf-8, cp949: 한글 Windows, cp1252: 영문 Windows, ...)\r\n",
        "#> thousands: 숫자의 천자리 구분자로 사용되는 문자"
      ],
      "execution_count": 10,
      "outputs": []
    },
    {
      "cell_type": "code",
      "metadata": {
        "colab": {
          "base_uri": "https://localhost:8080/",
          "height": 214
        },
        "id": "0npyupHa0ZRA",
        "outputId": "ebfe6d52-633e-4097-cc2e-f24c3a2dd3ad"
      },
      "source": [
        "apt.head()"
      ],
      "execution_count": 11,
      "outputs": [
        {
          "output_type": "execute_result",
          "data": {
            "text/html": [
              "<div>\n",
              "<style scoped>\n",
              "    .dataframe tbody tr th:only-of-type {\n",
              "        vertical-align: middle;\n",
              "    }\n",
              "\n",
              "    .dataframe tbody tr th {\n",
              "        vertical-align: top;\n",
              "    }\n",
              "\n",
              "    .dataframe thead th {\n",
              "        text-align: right;\n",
              "    }\n",
              "</style>\n",
              "<table border=\"1\" class=\"dataframe\">\n",
              "  <thead>\n",
              "    <tr style=\"text-align: right;\">\n",
              "      <th></th>\n",
              "      <th>시군구</th>\n",
              "      <th>번지</th>\n",
              "      <th>본번</th>\n",
              "      <th>부번</th>\n",
              "      <th>단지명</th>\n",
              "      <th>면적</th>\n",
              "      <th>계약년월</th>\n",
              "      <th>계약일</th>\n",
              "      <th>가격</th>\n",
              "      <th>층</th>\n",
              "      <th>건축년도</th>\n",
              "      <th>도로명</th>\n",
              "    </tr>\n",
              "  </thead>\n",
              "  <tbody>\n",
              "    <tr>\n",
              "      <th>0</th>\n",
              "      <td>강원도 강릉시 견소동</td>\n",
              "      <td>202</td>\n",
              "      <td>202</td>\n",
              "      <td>0</td>\n",
              "      <td>송정한신</td>\n",
              "      <td>59.800</td>\n",
              "      <td>201910</td>\n",
              "      <td>4</td>\n",
              "      <td>10900</td>\n",
              "      <td>5</td>\n",
              "      <td>1997</td>\n",
              "      <td>경강로2539번길 8</td>\n",
              "    </tr>\n",
              "    <tr>\n",
              "      <th>1</th>\n",
              "      <td>강원도 강릉시 견소동</td>\n",
              "      <td>202</td>\n",
              "      <td>202</td>\n",
              "      <td>0</td>\n",
              "      <td>송정한신</td>\n",
              "      <td>116.175</td>\n",
              "      <td>201910</td>\n",
              "      <td>31</td>\n",
              "      <td>18500</td>\n",
              "      <td>10</td>\n",
              "      <td>1997</td>\n",
              "      <td>경강로2539번길 8</td>\n",
              "    </tr>\n",
              "    <tr>\n",
              "      <th>2</th>\n",
              "      <td>강원도 강릉시 견소동</td>\n",
              "      <td>289</td>\n",
              "      <td>289</td>\n",
              "      <td>0</td>\n",
              "      <td>송정해변신도브래뉴아파트</td>\n",
              "      <td>84.990</td>\n",
              "      <td>201910</td>\n",
              "      <td>5</td>\n",
              "      <td>25000</td>\n",
              "      <td>6</td>\n",
              "      <td>2005</td>\n",
              "      <td>경강로2539번길 22</td>\n",
              "    </tr>\n",
              "    <tr>\n",
              "      <th>3</th>\n",
              "      <td>강원도 강릉시 견소동</td>\n",
              "      <td>289</td>\n",
              "      <td>289</td>\n",
              "      <td>0</td>\n",
              "      <td>송정해변신도브래뉴아파트</td>\n",
              "      <td>84.990</td>\n",
              "      <td>201910</td>\n",
              "      <td>12</td>\n",
              "      <td>20600</td>\n",
              "      <td>3</td>\n",
              "      <td>2005</td>\n",
              "      <td>경강로2539번길 22</td>\n",
              "    </tr>\n",
              "    <tr>\n",
              "      <th>4</th>\n",
              "      <td>강원도 강릉시 견소동</td>\n",
              "      <td>289</td>\n",
              "      <td>289</td>\n",
              "      <td>0</td>\n",
              "      <td>송정해변신도브래뉴아파트</td>\n",
              "      <td>84.990</td>\n",
              "      <td>201910</td>\n",
              "      <td>20</td>\n",
              "      <td>20500</td>\n",
              "      <td>1</td>\n",
              "      <td>2005</td>\n",
              "      <td>경강로2539번길 22</td>\n",
              "    </tr>\n",
              "  </tbody>\n",
              "</table>\n",
              "</div>"
            ],
            "text/plain": [
              "           시군구   번지   본번  부번           단지명  ...  계약일     가격   층  건축년도           도로명\n",
              "0  강원도 강릉시 견소동  202  202   0          송정한신  ...    4  10900   5  1997   경강로2539번길 8\n",
              "1  강원도 강릉시 견소동  202  202   0          송정한신  ...   31  18500  10  1997   경강로2539번길 8\n",
              "2  강원도 강릉시 견소동  289  289   0  송정해변신도브래뉴아파트  ...    5  25000   6  2005  경강로2539번길 22\n",
              "3  강원도 강릉시 견소동  289  289   0  송정해변신도브래뉴아파트  ...   12  20600   3  2005  경강로2539번길 22\n",
              "4  강원도 강릉시 견소동  289  289   0  송정해변신도브래뉴아파트  ...   20  20500   1  2005  경강로2539번길 22\n",
              "\n",
              "[5 rows x 12 columns]"
            ]
          },
          "metadata": {
            "tags": []
          },
          "execution_count": 11
        }
      ]
    },
    {
      "cell_type": "code",
      "metadata": {
        "colab": {
          "base_uri": "https://localhost:8080/",
          "height": 214
        },
        "id": "2J2AlfT506Io",
        "outputId": "4e259456-9c76-4dda-9903-adcad7a37ac4"
      },
      "source": [
        "apt.tail()"
      ],
      "execution_count": 12,
      "outputs": [
        {
          "output_type": "execute_result",
          "data": {
            "text/html": [
              "<div>\n",
              "<style scoped>\n",
              "    .dataframe tbody tr th:only-of-type {\n",
              "        vertical-align: middle;\n",
              "    }\n",
              "\n",
              "    .dataframe tbody tr th {\n",
              "        vertical-align: top;\n",
              "    }\n",
              "\n",
              "    .dataframe thead th {\n",
              "        text-align: right;\n",
              "    }\n",
              "</style>\n",
              "<table border=\"1\" class=\"dataframe\">\n",
              "  <thead>\n",
              "    <tr style=\"text-align: right;\">\n",
              "      <th></th>\n",
              "      <th>시군구</th>\n",
              "      <th>번지</th>\n",
              "      <th>본번</th>\n",
              "      <th>부번</th>\n",
              "      <th>단지명</th>\n",
              "      <th>면적</th>\n",
              "      <th>계약년월</th>\n",
              "      <th>계약일</th>\n",
              "      <th>가격</th>\n",
              "      <th>층</th>\n",
              "      <th>건축년도</th>\n",
              "      <th>도로명</th>\n",
              "    </tr>\n",
              "  </thead>\n",
              "  <tbody>\n",
              "    <tr>\n",
              "      <th>42753</th>\n",
              "      <td>충청북도 충주시 호암동</td>\n",
              "      <td>547-6</td>\n",
              "      <td>547</td>\n",
              "      <td>6</td>\n",
              "      <td>호반현대</td>\n",
              "      <td>59.76</td>\n",
              "      <td>201910</td>\n",
              "      <td>29</td>\n",
              "      <td>7000</td>\n",
              "      <td>3</td>\n",
              "      <td>1994</td>\n",
              "      <td>신촌2길 28</td>\n",
              "    </tr>\n",
              "    <tr>\n",
              "      <th>42754</th>\n",
              "      <td>충청북도 충주시 호암동</td>\n",
              "      <td>221-23</td>\n",
              "      <td>221</td>\n",
              "      <td>23</td>\n",
              "      <td>호암리버빌(1단지)</td>\n",
              "      <td>84.68</td>\n",
              "      <td>201910</td>\n",
              "      <td>5</td>\n",
              "      <td>12000</td>\n",
              "      <td>15</td>\n",
              "      <td>2002</td>\n",
              "      <td>원호암5길 32</td>\n",
              "    </tr>\n",
              "    <tr>\n",
              "      <th>42755</th>\n",
              "      <td>충청북도 충주시 호암동</td>\n",
              "      <td>221-23</td>\n",
              "      <td>221</td>\n",
              "      <td>23</td>\n",
              "      <td>호암리버빌(1단지)</td>\n",
              "      <td>84.68</td>\n",
              "      <td>201910</td>\n",
              "      <td>15</td>\n",
              "      <td>11000</td>\n",
              "      <td>7</td>\n",
              "      <td>2002</td>\n",
              "      <td>원호암5길 32</td>\n",
              "    </tr>\n",
              "    <tr>\n",
              "      <th>42756</th>\n",
              "      <td>충청북도 충주시 호암동</td>\n",
              "      <td>221-23</td>\n",
              "      <td>221</td>\n",
              "      <td>23</td>\n",
              "      <td>호암리버빌(1단지)</td>\n",
              "      <td>84.68</td>\n",
              "      <td>201910</td>\n",
              "      <td>17</td>\n",
              "      <td>12000</td>\n",
              "      <td>14</td>\n",
              "      <td>2002</td>\n",
              "      <td>원호암5길 32</td>\n",
              "    </tr>\n",
              "    <tr>\n",
              "      <th>42757</th>\n",
              "      <td>충청북도 충주시 호암동</td>\n",
              "      <td>221-23</td>\n",
              "      <td>221</td>\n",
              "      <td>23</td>\n",
              "      <td>호암리버빌(1단지)</td>\n",
              "      <td>84.68</td>\n",
              "      <td>201910</td>\n",
              "      <td>26</td>\n",
              "      <td>11200</td>\n",
              "      <td>11</td>\n",
              "      <td>2002</td>\n",
              "      <td>원호암5길 32</td>\n",
              "    </tr>\n",
              "  </tbody>\n",
              "</table>\n",
              "</div>"
            ],
            "text/plain": [
              "                시군구      번지   본번  부번  ...     가격   층  건축년도       도로명\n",
              "42753  충청북도 충주시 호암동   547-6  547   6  ...   7000   3  1994   신촌2길 28\n",
              "42754  충청북도 충주시 호암동  221-23  221  23  ...  12000  15  2002  원호암5길 32\n",
              "42755  충청북도 충주시 호암동  221-23  221  23  ...  11000   7  2002  원호암5길 32\n",
              "42756  충청북도 충주시 호암동  221-23  221  23  ...  12000  14  2002  원호암5길 32\n",
              "42757  충청북도 충주시 호암동  221-23  221  23  ...  11200  11  2002  원호암5길 32\n",
              "\n",
              "[5 rows x 12 columns]"
            ]
          },
          "metadata": {
            "tags": []
          },
          "execution_count": 12
        }
      ]
    },
    {
      "cell_type": "code",
      "metadata": {
        "colab": {
          "base_uri": "https://localhost:8080/"
        },
        "id": "pPuXpGeB2IBH",
        "outputId": "f4b164a2-ceae-4eab-89ee-964f9694d3e3"
      },
      "source": [
        "apt.info()"
      ],
      "execution_count": 13,
      "outputs": [
        {
          "output_type": "stream",
          "text": [
            "<class 'pandas.core.frame.DataFrame'>\n",
            "RangeIndex: 42758 entries, 0 to 42757\n",
            "Data columns (total 12 columns):\n",
            " #   Column  Non-Null Count  Dtype  \n",
            "---  ------  --------------  -----  \n",
            " 0   시군구     42758 non-null  object \n",
            " 1   번지      42758 non-null  object \n",
            " 2   본번      42758 non-null  object \n",
            " 3   부번      42758 non-null  int64  \n",
            " 4   단지명     42758 non-null  object \n",
            " 5   면적      42758 non-null  float64\n",
            " 6   계약년월    42758 non-null  int64  \n",
            " 7   계약일     42758 non-null  int64  \n",
            " 8   가격      42758 non-null  int64  \n",
            " 9   층       42758 non-null  int64  \n",
            " 10  건축년도    42758 non-null  int64  \n",
            " 11  도로명     42758 non-null  object \n",
            "dtypes: float64(1), int64(6), object(5)\n",
            "memory usage: 3.9+ MB\n"
          ],
          "name": "stdout"
        }
      ]
    },
    {
      "cell_type": "code",
      "metadata": {
        "colab": {
          "base_uri": "https://localhost:8080/",
          "height": 312
        },
        "id": "C59l_CGx5FlH",
        "outputId": "39be8c1f-5067-449a-8b35-22121fcb562c"
      },
      "source": [
        "apt.describe()"
      ],
      "execution_count": 14,
      "outputs": [
        {
          "output_type": "execute_result",
          "data": {
            "text/html": [
              "<div>\n",
              "<style scoped>\n",
              "    .dataframe tbody tr th:only-of-type {\n",
              "        vertical-align: middle;\n",
              "    }\n",
              "\n",
              "    .dataframe tbody tr th {\n",
              "        vertical-align: top;\n",
              "    }\n",
              "\n",
              "    .dataframe thead th {\n",
              "        text-align: right;\n",
              "    }\n",
              "</style>\n",
              "<table border=\"1\" class=\"dataframe\">\n",
              "  <thead>\n",
              "    <tr style=\"text-align: right;\">\n",
              "      <th></th>\n",
              "      <th>부번</th>\n",
              "      <th>면적</th>\n",
              "      <th>계약년월</th>\n",
              "      <th>계약일</th>\n",
              "      <th>가격</th>\n",
              "      <th>층</th>\n",
              "      <th>건축년도</th>\n",
              "    </tr>\n",
              "  </thead>\n",
              "  <tbody>\n",
              "    <tr>\n",
              "      <th>count</th>\n",
              "      <td>42758.000000</td>\n",
              "      <td>42758.000000</td>\n",
              "      <td>42758.0</td>\n",
              "      <td>42758.000000</td>\n",
              "      <td>42758.000000</td>\n",
              "      <td>42758.000000</td>\n",
              "      <td>42758.000000</td>\n",
              "    </tr>\n",
              "    <tr>\n",
              "      <th>mean</th>\n",
              "      <td>4.257051</td>\n",
              "      <td>75.990614</td>\n",
              "      <td>201910.0</td>\n",
              "      <td>14.246410</td>\n",
              "      <td>31719.163946</td>\n",
              "      <td>9.614575</td>\n",
              "      <td>2002.652252</td>\n",
              "    </tr>\n",
              "    <tr>\n",
              "      <th>std</th>\n",
              "      <td>35.928135</td>\n",
              "      <td>24.816118</td>\n",
              "      <td>0.0</td>\n",
              "      <td>8.678427</td>\n",
              "      <td>26001.893045</td>\n",
              "      <td>6.582509</td>\n",
              "      <td>9.716009</td>\n",
              "    </tr>\n",
              "    <tr>\n",
              "      <th>min</th>\n",
              "      <td>0.000000</td>\n",
              "      <td>10.020000</td>\n",
              "      <td>201910.0</td>\n",
              "      <td>1.000000</td>\n",
              "      <td>600.000000</td>\n",
              "      <td>-1.000000</td>\n",
              "      <td>1962.000000</td>\n",
              "    </tr>\n",
              "    <tr>\n",
              "      <th>25%</th>\n",
              "      <td>0.000000</td>\n",
              "      <td>59.820000</td>\n",
              "      <td>201910.0</td>\n",
              "      <td>7.000000</td>\n",
              "      <td>15500.000000</td>\n",
              "      <td>4.000000</td>\n",
              "      <td>1995.000000</td>\n",
              "    </tr>\n",
              "    <tr>\n",
              "      <th>50%</th>\n",
              "      <td>0.000000</td>\n",
              "      <td>82.536900</td>\n",
              "      <td>201910.0</td>\n",
              "      <td>14.000000</td>\n",
              "      <td>25400.000000</td>\n",
              "      <td>9.000000</td>\n",
              "      <td>2003.000000</td>\n",
              "    </tr>\n",
              "    <tr>\n",
              "      <th>75%</th>\n",
              "      <td>1.000000</td>\n",
              "      <td>84.961200</td>\n",
              "      <td>201910.0</td>\n",
              "      <td>21.000000</td>\n",
              "      <td>40000.000000</td>\n",
              "      <td>13.000000</td>\n",
              "      <td>2011.000000</td>\n",
              "    </tr>\n",
              "    <tr>\n",
              "      <th>max</th>\n",
              "      <td>2269.000000</td>\n",
              "      <td>291.336000</td>\n",
              "      <td>201910.0</td>\n",
              "      <td>31.000000</td>\n",
              "      <td>485000.000000</td>\n",
              "      <td>70.000000</td>\n",
              "      <td>2019.000000</td>\n",
              "    </tr>\n",
              "  </tbody>\n",
              "</table>\n",
              "</div>"
            ],
            "text/plain": [
              "                 부번            면적  ...             층          건축년도\n",
              "count  42758.000000  42758.000000  ...  42758.000000  42758.000000\n",
              "mean       4.257051     75.990614  ...      9.614575   2002.652252\n",
              "std       35.928135     24.816118  ...      6.582509      9.716009\n",
              "min        0.000000     10.020000  ...     -1.000000   1962.000000\n",
              "25%        0.000000     59.820000  ...      4.000000   1995.000000\n",
              "50%        0.000000     82.536900  ...      9.000000   2003.000000\n",
              "75%        1.000000     84.961200  ...     13.000000   2011.000000\n",
              "max     2269.000000    291.336000  ...     70.000000   2019.000000\n",
              "\n",
              "[8 rows x 7 columns]"
            ]
          },
          "metadata": {
            "tags": []
          },
          "execution_count": 14
        }
      ]
    },
    {
      "cell_type": "code",
      "metadata": {
        "colab": {
          "base_uri": "https://localhost:8080/",
          "height": 266
        },
        "id": "yOd3Qsok6DBO",
        "outputId": "05c9ead6-62b0-4f7a-e4a2-0fb1e18e141d"
      },
      "source": [
        "plt.boxplot(x=apt['면적'])\r\n",
        "plt.show()"
      ],
      "execution_count": 16,
      "outputs": [
        {
          "output_type": "display_data",
          "data": {
            "image/png": "[encoded data removed]",
            "text/plain": [
              "<Figure size 432x288 with 1 Axes>"
            ]
          },
          "metadata": {
            "tags": [],
            "needs_background": "light"
          }
        }
      ]
    },
    {
      "cell_type": "code",
      "metadata": {
        "colab": {
          "base_uri": "https://localhost:8080/",
          "height": 268
        },
        "id": "BL1KBKBN6-6R",
        "outputId": "82a5271a-79af-4774-f28c-8f351bb9a95a"
      },
      "source": [
        "plt.hist(x=apt['면적'], bins=15)\r\n",
        "plt.show()"
      ],
      "execution_count": 20,
      "outputs": [
        {
          "output_type": "display_data",
          "data": {
            "image/png": "[encoded data removed]",
            "text/plain": [
              "<Figure size 432x288 with 1 Axes>"
            ]
          },
          "metadata": {
            "tags": [],
            "needs_background": "light"
          }
        }
      ]
    }
  ]
}