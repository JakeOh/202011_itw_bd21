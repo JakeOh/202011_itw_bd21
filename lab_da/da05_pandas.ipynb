{
  "nbformat": 4,
  "nbformat_minor": 0,
  "metadata": {
    "colab": {
      "name": "da05_pandas.ipynb",
      "provenance": [],
      "collapsed_sections": [],
      "authorship_tag": "ABX9TyOzjN/zD0bFwq9N+mL3PA/K",
      "include_colab_link": true
    },
    "kernelspec": {
      "name": "python3",
      "display_name": "Python 3"
    }
  },
  "cells": [
    {
      "cell_type": "markdown",
      "metadata": {
        "id": "view-in-github",
        "colab_type": "text"
      },
      "source": [
        "<a href=\"https://colab.research.google.com/github/JakeOh/202011_itw_bd21/blob/main/lab_da/da05_pandas.ipynb\" target=\"_parent\"><img src=\"https://colab.research.google.com/assets/colab-badge.svg\" alt=\"Open In Colab\"/></a>"
      ]
    },
    {
      "cell_type": "markdown",
      "metadata": {
        "id": "IH09YhbNTXns"
      },
      "source": [
        "*   NumPy 패키지\r\n",
        "    *   클래스: ndarray(n-dimensional array)\r\n",
        "    *   배열(array) 또는 행렬(matrix)과 같은 숫자형 데이터들을 빠르게 연산.\r\n",
        "*   pandas 패키지\r\n",
        "    *   클래스: Series(1차원 데이터), DataFrame(2차원 데이터)\r\n",
        "    *   표(table)와 같은 형태의 데이터를 분석, 정제, 조작하는 기능.\r\n",
        "*   matplotlib 패키지\r\n",
        "    *   시각화(visualization). 그래프."
      ]
    },
    {
      "cell_type": "code",
      "metadata": {
        "id": "soyk4vy2TM5m"
      },
      "source": [
        "# pandas 패키지 import\r\n",
        "import pandas as pd"
      ],
      "execution_count": 1,
      "outputs": []
    },
    {
      "cell_type": "code",
      "metadata": {
        "colab": {
          "base_uri": "https://localhost:8080/",
          "height": 38
        },
        "id": "Seq_aibGWHr9",
        "outputId": "3801f523-ef91-4462-ac92-025bae52491f"
      },
      "source": [
        "pd.__version__  # Colab에서 설치된 pandas 패키지의 버전"
      ],
      "execution_count": 2,
      "outputs": [
        {
          "output_type": "execute_result",
          "data": {
            "application/vnd.google.colaboratory.intrinsic+json": {
              "type": "string"
            },
            "text/plain": [
              "'1.1.5'"
            ]
          },
          "metadata": {
            "tags": []
          },
          "execution_count": 2
        }
      ]
    },
    {
      "cell_type": "code",
      "metadata": {
        "colab": {
          "base_uri": "https://localhost:8080/"
        },
        "id": "ySQAWhBPWJ3K",
        "outputId": "b3df3d6e-9a93-450e-f4c8-e8202492c64c"
      },
      "source": [
        "# pandas.Series: 한가지 타입의 값 여러개를 저장할 수 있는 1차원 모양의 데이터 타입(클래스)\r\n",
        "# One-dimensional ndarray with axis labels\r\n",
        "s = pd.Series([1, 3, -5, 7])\r\n",
        "print(s)"
      ],
      "execution_count": 3,
      "outputs": [
        {
          "output_type": "stream",
          "text": [
            "0    1\n",
            "1    3\n",
            "2   -5\n",
            "3    7\n",
            "dtype: int64\n"
          ],
          "name": "stdout"
        }
      ]
    },
    {
      "cell_type": "code",
      "metadata": {
        "colab": {
          "base_uri": "https://localhost:8080/"
        },
        "id": "sdnmqVZGZTPc",
        "outputId": "27549a64-9905-4f46-adf2-70be4b5241a4"
      },
      "source": [
        "print(type(s))"
      ],
      "execution_count": 4,
      "outputs": [
        {
          "output_type": "stream",
          "text": [
            "<class 'pandas.core.series.Series'>\n"
          ],
          "name": "stdout"
        }
      ]
    },
    {
      "cell_type": "code",
      "metadata": {
        "colab": {
          "base_uri": "https://localhost:8080/"
        },
        "id": "tDZo9Ys2Za5L",
        "outputId": "954b3adf-e0a7-4ad2-b736-7b5dc426ccbc"
      },
      "source": [
        "print(s.index)"
      ],
      "execution_count": 5,
      "outputs": [
        {
          "output_type": "stream",
          "text": [
            "RangeIndex(start=0, stop=4, step=1)\n"
          ],
          "name": "stdout"
        }
      ]
    },
    {
      "cell_type": "code",
      "metadata": {
        "colab": {
          "base_uri": "https://localhost:8080/"
        },
        "id": "q1usPhUYZtsJ",
        "outputId": "47ae6109-e21a-4178-e798-cf2fea41ec16"
      },
      "source": [
        "print(s.values)  # Series.values: 저장된 값들(ndarray)"
      ],
      "execution_count": 6,
      "outputs": [
        {
          "output_type": "stream",
          "text": [
            "[ 1  3 -5  7]\n"
          ],
          "name": "stdout"
        }
      ]
    },
    {
      "cell_type": "code",
      "metadata": {
        "colab": {
          "base_uri": "https://localhost:8080/"
        },
        "id": "wsXp91BMaTHS",
        "outputId": "cbcda916-5e3b-4679-e3d5-76a8e899c063"
      },
      "source": [
        "# Series의 원소 접근 - 인덱스를 사용. indexing, slicing, ...\r\n",
        "print(s[0])"
      ],
      "execution_count": 7,
      "outputs": [
        {
          "output_type": "stream",
          "text": [
            "1\n"
          ],
          "name": "stdout"
        }
      ]
    },
    {
      "cell_type": "code",
      "metadata": {
        "colab": {
          "base_uri": "https://localhost:8080/"
        },
        "id": "XKEsxRp_aoSo",
        "outputId": "7d6d27d8-bd7a-4c8a-ef64-c34f57e36bf3"
      },
      "source": [
        "print(s[1:3])"
      ],
      "execution_count": 9,
      "outputs": [
        {
          "output_type": "stream",
          "text": [
            "1    3\n",
            "2   -5\n",
            "dtype: int64\n"
          ],
          "name": "stdout"
        }
      ]
    },
    {
      "cell_type": "code",
      "metadata": {
        "colab": {
          "base_uri": "https://localhost:8080/"
        },
        "id": "YggB0BoDbGdZ",
        "outputId": "bbd00c5f-3975-4340-ff5a-4bbaf99bdfcc"
      },
      "source": [
        "print(s[:3])"
      ],
      "execution_count": 11,
      "outputs": [
        {
          "output_type": "stream",
          "text": [
            "0    1\n",
            "1    3\n",
            "2   -5\n",
            "dtype: int64\n"
          ],
          "name": "stdout"
        }
      ]
    },
    {
      "cell_type": "code",
      "metadata": {
        "colab": {
          "base_uri": "https://localhost:8080/"
        },
        "id": "-t53dVmRbMd5",
        "outputId": "ee686e07-e07c-4c3d-afb8-23f91686d9a6"
      },
      "source": [
        "print(s[2:])"
      ],
      "execution_count": 14,
      "outputs": [
        {
          "output_type": "stream",
          "text": [
            "2   -5\n",
            "3    7\n",
            "dtype: int64\n"
          ],
          "name": "stdout"
        }
      ]
    }
  ]
}