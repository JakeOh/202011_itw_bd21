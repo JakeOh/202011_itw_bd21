{
  "nbformat": 4,
  "nbformat_minor": 0,
  "metadata": {
    "colab": {
      "name": "da05_pandas.ipynb",
      "provenance": [],
      "collapsed_sections": [],
      "authorship_tag": "ABX9TyNGUmXOE0R915rmqOKFW5Bq",
      "include_colab_link": true
    },
    "kernelspec": {
      "name": "python3",
      "display_name": "Python 3"
    }
  },
  "cells": [
    {
      "cell_type": "markdown",
      "metadata": {
        "id": "view-in-github",
        "colab_type": "text"
      },
      "source": [
        "<a href=\"https://colab.research.google.com/github/JakeOh/202011_itw_bd21/blob/main/lab_da/da05_pandas.ipynb\" target=\"_parent\"><img src=\"https://colab.research.google.com/assets/colab-badge.svg\" alt=\"Open In Colab\"/></a>"
      ]
    },
    {
      "cell_type": "markdown",
      "metadata": {
        "id": "IH09YhbNTXns"
      },
      "source": [
        "*   NumPy 패키지\r\n",
        "    *   클래스: ndarray(n-dimensional array)\r\n",
        "    *   배열(array) 또는 행렬(matrix)과 같은 숫자형 데이터들을 빠르게 연산.\r\n",
        "*   pandas 패키지\r\n",
        "    *   클래스: Series(1차원 데이터), DataFrame(2차원 데이터)\r\n",
        "    *   표(table)와 같은 형태의 데이터를 분석, 정제, 조작하는 기능.\r\n",
        "*   matplotlib 패키지\r\n",
        "    *   시각화(visualization). 그래프."
      ]
    },
    {
      "cell_type": "code",
      "metadata": {
        "id": "soyk4vy2TM5m"
      },
      "source": [
        "# pandas 패키지 import\r\n",
        "import pandas as pd"
      ],
      "execution_count": 1,
      "outputs": []
    },
    {
      "cell_type": "code",
      "metadata": {
        "colab": {
          "base_uri": "https://localhost:8080/",
          "height": 38
        },
        "id": "Seq_aibGWHr9",
        "outputId": "3801f523-ef91-4462-ac92-025bae52491f"
      },
      "source": [
        "pd.__version__  # Colab에서 설치된 pandas 패키지의 버전"
      ],
      "execution_count": 2,
      "outputs": [
        {
          "output_type": "execute_result",
          "data": {
            "application/vnd.google.colaboratory.intrinsic+json": {
              "type": "string"
            },
            "text/plain": [
              "'1.1.5'"
            ]
          },
          "metadata": {
            "tags": []
          },
          "execution_count": 2
        }
      ]
    },
    {
      "cell_type": "code",
      "metadata": {
        "colab": {
          "base_uri": "https://localhost:8080/"
        },
        "id": "ySQAWhBPWJ3K",
        "outputId": "b3df3d6e-9a93-450e-f4c8-e8202492c64c"
      },
      "source": [
        "# pandas.Series: 한가지 타입의 값 여러개를 저장할 수 있는 1차원 모양의 데이터 타입(클래스)\r\n",
        "# One-dimensional ndarray with axis labels\r\n",
        "s = pd.Series([1, 3, -5, 7])\r\n",
        "print(s)"
      ],
      "execution_count": 3,
      "outputs": [
        {
          "output_type": "stream",
          "text": [
            "0    1\n",
            "1    3\n",
            "2   -5\n",
            "3    7\n",
            "dtype: int64\n"
          ],
          "name": "stdout"
        }
      ]
    },
    {
      "cell_type": "code",
      "metadata": {
        "colab": {
          "base_uri": "https://localhost:8080/"
        },
        "id": "sdnmqVZGZTPc",
        "outputId": "27549a64-9905-4f46-adf2-70be4b5241a4"
      },
      "source": [
        "print(type(s))"
      ],
      "execution_count": 4,
      "outputs": [
        {
          "output_type": "stream",
          "text": [
            "<class 'pandas.core.series.Series'>\n"
          ],
          "name": "stdout"
        }
      ]
    },
    {
      "cell_type": "code",
      "metadata": {
        "colab": {
          "base_uri": "https://localhost:8080/"
        },
        "id": "tDZo9Ys2Za5L",
        "outputId": "954b3adf-e0a7-4ad2-b736-7b5dc426ccbc"
      },
      "source": [
        "print(s.index)"
      ],
      "execution_count": 5,
      "outputs": [
        {
          "output_type": "stream",
          "text": [
            "RangeIndex(start=0, stop=4, step=1)\n"
          ],
          "name": "stdout"
        }
      ]
    },
    {
      "cell_type": "code",
      "metadata": {
        "colab": {
          "base_uri": "https://localhost:8080/"
        },
        "id": "q1usPhUYZtsJ",
        "outputId": "47ae6109-e21a-4178-e798-cf2fea41ec16"
      },
      "source": [
        "print(s.values)  # Series.values: 저장된 값들(ndarray)"
      ],
      "execution_count": 6,
      "outputs": [
        {
          "output_type": "stream",
          "text": [
            "[ 1  3 -5  7]\n"
          ],
          "name": "stdout"
        }
      ]
    },
    {
      "cell_type": "code",
      "metadata": {
        "colab": {
          "base_uri": "https://localhost:8080/"
        },
        "id": "wsXp91BMaTHS",
        "outputId": "cbcda916-5e3b-4679-e3d5-76a8e899c063"
      },
      "source": [
        "# Series의 원소 접근 - 인덱스를 사용. indexing, slicing, ...\r\n",
        "print(s[0])\r\n",
        "# print(s[-1])  #> Error"
      ],
      "execution_count": 7,
      "outputs": [
        {
          "output_type": "stream",
          "text": [
            "1\n"
          ],
          "name": "stdout"
        }
      ]
    },
    {
      "cell_type": "code",
      "metadata": {
        "colab": {
          "base_uri": "https://localhost:8080/"
        },
        "id": "XKEsxRp_aoSo",
        "outputId": "7d6d27d8-bd7a-4c8a-ef64-c34f57e36bf3"
      },
      "source": [
        "print(s[1:3])"
      ],
      "execution_count": 9,
      "outputs": [
        {
          "output_type": "stream",
          "text": [
            "1    3\n",
            "2   -5\n",
            "dtype: int64\n"
          ],
          "name": "stdout"
        }
      ]
    },
    {
      "cell_type": "code",
      "metadata": {
        "colab": {
          "base_uri": "https://localhost:8080/"
        },
        "id": "YggB0BoDbGdZ",
        "outputId": "bbd00c5f-3975-4340-ff5a-4bbaf99bdfcc"
      },
      "source": [
        "print(s[:3])"
      ],
      "execution_count": 11,
      "outputs": [
        {
          "output_type": "stream",
          "text": [
            "0    1\n",
            "1    3\n",
            "2   -5\n",
            "dtype: int64\n"
          ],
          "name": "stdout"
        }
      ]
    },
    {
      "cell_type": "code",
      "metadata": {
        "colab": {
          "base_uri": "https://localhost:8080/"
        },
        "id": "-t53dVmRbMd5",
        "outputId": "ee686e07-e07c-4c3d-afb8-23f91686d9a6"
      },
      "source": [
        "print(s[2:])"
      ],
      "execution_count": 14,
      "outputs": [
        {
          "output_type": "stream",
          "text": [
            "2   -5\n",
            "3    7\n",
            "dtype: int64\n"
          ],
          "name": "stdout"
        }
      ]
    },
    {
      "cell_type": "code",
      "metadata": {
        "colab": {
          "base_uri": "https://localhost:8080/"
        },
        "id": "bybWKO2GfYMY",
        "outputId": "485e9c1a-f2dc-41aa-c959-a93031432f80"
      },
      "source": [
        "# fancy indexing - list, array와 같은 객체로 indexing\r\n",
        "print(s[[0, 2]])"
      ],
      "execution_count": 15,
      "outputs": [
        {
          "output_type": "stream",
          "text": [
            "0    1\n",
            "2   -5\n",
            "dtype: int64\n"
          ],
          "name": "stdout"
        }
      ]
    },
    {
      "cell_type": "code",
      "metadata": {
        "colab": {
          "base_uri": "https://localhost:8080/"
        },
        "id": "o3vyOzuYf0HA",
        "outputId": "2c0c9c03-f0be-4285-e62c-f44e89e43af4"
      },
      "source": [
        "# boolean indexing - boolean들의 list(또는 array 또는 Series)로 indexing\r\n",
        "print(s[[True, False, True, False]])"
      ],
      "execution_count": 16,
      "outputs": [
        {
          "output_type": "stream",
          "text": [
            "0    1\n",
            "2   -5\n",
            "dtype: int64\n"
          ],
          "name": "stdout"
        }
      ]
    },
    {
      "cell_type": "code",
      "metadata": {
        "colab": {
          "base_uri": "https://localhost:8080/"
        },
        "id": "V8JFozn7gEdv",
        "outputId": "4b0cba26-4254-4f75-a9d2-05a1bb852b80"
      },
      "source": [
        "print(s > 0)"
      ],
      "execution_count": 18,
      "outputs": [
        {
          "output_type": "stream",
          "text": [
            "0     True\n",
            "1     True\n",
            "2    False\n",
            "3     True\n",
            "dtype: bool\n"
          ],
          "name": "stdout"
        }
      ]
    },
    {
      "cell_type": "code",
      "metadata": {
        "colab": {
          "base_uri": "https://localhost:8080/"
        },
        "id": "yx5-x9Sjge5I",
        "outputId": "ce80f080-bdb7-4329-c210-586baa85d91c"
      },
      "source": [
        "print(s[s > 0])"
      ],
      "execution_count": 19,
      "outputs": [
        {
          "output_type": "stream",
          "text": [
            "0    1\n",
            "1    3\n",
            "3    7\n",
            "dtype: int64\n"
          ],
          "name": "stdout"
        }
      ]
    },
    {
      "cell_type": "code",
      "metadata": {
        "colab": {
          "base_uri": "https://localhost:8080/"
        },
        "id": "0UQQcqHPg8aQ",
        "outputId": "3220464c-4cf3-47a9-9b05-a89bc339db3b"
      },
      "source": [
        "# Series.loc[label]: label-base location(index)\r\n",
        "# Series.iloc[integer]: integer-base location(index)\r\n",
        "s = pd.Series(data=[1, 3, -5, 7], index=['a', 'b', 'c', 'd'])\r\n",
        "print(s)"
      ],
      "execution_count": 24,
      "outputs": [
        {
          "output_type": "stream",
          "text": [
            "a    1\n",
            "b    3\n",
            "c   -5\n",
            "d    7\n",
            "dtype: int64\n"
          ],
          "name": "stdout"
        }
      ]
    },
    {
      "cell_type": "code",
      "metadata": {
        "colab": {
          "base_uri": "https://localhost:8080/"
        },
        "id": "LQFRnwsriNuW",
        "outputId": "bc15bf17-1a44-473b-f85c-8e0aa2dc6169"
      },
      "source": [
        "print(s['a'], s[0])"
      ],
      "execution_count": 27,
      "outputs": [
        {
          "output_type": "stream",
          "text": [
            "1 1\n"
          ],
          "name": "stdout"
        }
      ]
    },
    {
      "cell_type": "code",
      "metadata": {
        "colab": {
          "base_uri": "https://localhost:8080/"
        },
        "id": "vrEjpYZ0ii1H",
        "outputId": "c3258a81-0f2a-49ff-d508-2f56347ad90a"
      },
      "source": [
        "print(s['d'], s[3], s[-1])"
      ],
      "execution_count": 30,
      "outputs": [
        {
          "output_type": "stream",
          "text": [
            "7 7 7\n"
          ],
          "name": "stdout"
        }
      ]
    },
    {
      "cell_type": "code",
      "metadata": {
        "colab": {
          "base_uri": "https://localhost:8080/"
        },
        "id": "EX7edgvsjD1n",
        "outputId": "e6e89538-5754-41eb-b322-7df2f2609492"
      },
      "source": [
        "print(s.loc['a'])\r\n",
        "# print(s.loc[0])  #> Error"
      ],
      "execution_count": 33,
      "outputs": [
        {
          "output_type": "stream",
          "text": [
            "1\n"
          ],
          "name": "stdout"
        }
      ]
    },
    {
      "cell_type": "code",
      "metadata": {
        "colab": {
          "base_uri": "https://localhost:8080/"
        },
        "id": "Ra5J5X-bjeNH",
        "outputId": "bae5512a-c375-4439-9d81-0129586878c2"
      },
      "source": [
        "print(s.iloc[0])\r\n",
        "# print(s.iloc['a'])  #> Error"
      ],
      "execution_count": 36,
      "outputs": [
        {
          "output_type": "stream",
          "text": [
            "1\n"
          ],
          "name": "stdout"
        }
      ]
    },
    {
      "cell_type": "code",
      "metadata": {
        "colab": {
          "base_uri": "https://localhost:8080/"
        },
        "id": "q3do7IQikBqH",
        "outputId": "661c7101-f8e6-4863-a090-1b60d6a5fd98"
      },
      "source": [
        "# slicing에서 loc와 iloc의 차이!!\r\n",
        "print(s.loc['a':'c'])  #> s.loc['a']와 s.loc['c'] 모두 포함됨!"
      ],
      "execution_count": 40,
      "outputs": [
        {
          "output_type": "stream",
          "text": [
            "a    1\n",
            "b    3\n",
            "c   -5\n",
            "dtype: int64\n"
          ],
          "name": "stdout"
        }
      ]
    },
    {
      "cell_type": "code",
      "metadata": {
        "colab": {
          "base_uri": "https://localhost:8080/"
        },
        "id": "wAC8tCcUkHG2",
        "outputId": "ee361465-bc6d-40e4-a364-228b734c394c"
      },
      "source": [
        "print(s.iloc[0:2])  #> 0 <= i < 2 범위 slicing. s.iloc[2]이 포함되지 않음!!"
      ],
      "execution_count": 41,
      "outputs": [
        {
          "output_type": "stream",
          "text": [
            "a    1\n",
            "b    3\n",
            "dtype: int64\n"
          ],
          "name": "stdout"
        }
      ]
    },
    {
      "cell_type": "code",
      "metadata": {
        "colab": {
          "base_uri": "https://localhost:8080/"
        },
        "id": "Gd2-CxtTkkgO",
        "outputId": "c510dbb2-9a60-4bfa-e676-8dd8a9989e76"
      },
      "source": [
        "s = pd.Series([1, 3, 5, 7, 9])\r\n",
        "print(s)\r\n",
        "\r\n",
        "print()\r\n",
        "print(s.loc[1:3])\r\n",
        "\r\n",
        "print()\r\n",
        "print(s.iloc[1:3])"
      ],
      "execution_count": 45,
      "outputs": [
        {
          "output_type": "stream",
          "text": [
            "0    1\n",
            "1    3\n",
            "2    5\n",
            "3    7\n",
            "4    9\n",
            "dtype: int64\n",
            "\n",
            "1    3\n",
            "2    5\n",
            "3    7\n",
            "dtype: int64\n",
            "\n",
            "1    3\n",
            "2    5\n",
            "dtype: int64\n"
          ],
          "name": "stdout"
        }
      ]
    },
    {
      "cell_type": "code",
      "metadata": {
        "colab": {
          "base_uri": "https://localhost:8080/"
        },
        "id": "CPW8DZd8m-En",
        "outputId": "af59a665-22d0-449a-ee1d-3962bf9ca738"
      },
      "source": [
        "print(s.loc[4], s.iloc[4], s.iloc[-1])"
      ],
      "execution_count": 48,
      "outputs": [
        {
          "output_type": "stream",
          "text": [
            "9 9 9\n"
          ],
          "name": "stdout"
        }
      ]
    },
    {
      "cell_type": "code",
      "metadata": {
        "colab": {
          "base_uri": "https://localhost:8080/"
        },
        "id": "pIVD4aTanmR4",
        "outputId": "b3b9c7bb-e669-4b8c-b3c4-1c4673a74029"
      },
      "source": [
        "city_pop = {'서울': 10_000_000, '경기': 15_000_000, '인천': 1_000_000}  # dict\r\n",
        "print(city_pop)"
      ],
      "execution_count": 49,
      "outputs": [
        {
          "output_type": "stream",
          "text": [
            "{'서울': 10000000, '경기': 15000000, '인천': 1000000}\n"
          ],
          "name": "stdout"
        }
      ]
    },
    {
      "cell_type": "code",
      "metadata": {
        "colab": {
          "base_uri": "https://localhost:8080/"
        },
        "id": "iz6WQdTwn9DP",
        "outputId": "e9f91f9d-c67c-4998-930e-206e87ea0b5c"
      },
      "source": [
        "s = pd.Series(data=city_pop)\r\n",
        "print(s)\r\n",
        "#> dict의 key가 Series의 index가 되고, dict의 values가 Series의 values가 됨. "
      ],
      "execution_count": 51,
      "outputs": [
        {
          "output_type": "stream",
          "text": [
            "서울    10000000\n",
            "경기    15000000\n",
            "인천     1000000\n",
            "dtype: int64\n"
          ],
          "name": "stdout"
        }
      ]
    },
    {
      "cell_type": "code",
      "metadata": {
        "colab": {
          "base_uri": "https://localhost:8080/"
        },
        "id": "x4y1aGicoWw9",
        "outputId": "303ef51c-c6f0-438e-ce46-76c78230a6ce"
      },
      "source": [
        "# loc를 사용한 fancy indexing\r\n",
        "print(s.loc[['경기', '서울']])"
      ],
      "execution_count": 53,
      "outputs": [
        {
          "output_type": "stream",
          "text": [
            "경기    15000000\n",
            "서울    10000000\n",
            "dtype: int64\n"
          ],
          "name": "stdout"
        }
      ]
    },
    {
      "cell_type": "code",
      "metadata": {
        "colab": {
          "base_uri": "https://localhost:8080/"
        },
        "id": "-cxQuZosoI4d",
        "outputId": "663bfcba-9fd9-4056-ae05-db2914740c58"
      },
      "source": [
        "# iloc를 사용한 fancy indexing\r\n",
        "print(s.iloc[[1, 0]])"
      ],
      "execution_count": 54,
      "outputs": [
        {
          "output_type": "stream",
          "text": [
            "경기    15000000\n",
            "서울    10000000\n",
            "dtype: int64\n"
          ],
          "name": "stdout"
        }
      ]
    },
    {
      "cell_type": "code",
      "metadata": {
        "colab": {
          "base_uri": "https://localhost:8080/"
        },
        "id": "vLwQDbtwstqi",
        "outputId": "c2e16fb9-a496-4e16-94dd-3dec91f74f9c"
      },
      "source": [
        "# pandas.DataFrame: 2차원 표(table) 형태의 데이터 타입(클래스)\r\n",
        "data = {\r\n",
        "    'city': ['서울', '서울', '서울', '경기', '경기', '경기'],\r\n",
        "    'year': [2018, 2019, 2020, 2018, 2019, 2020],\r\n",
        "    'pop': [0.85, 0.9, 0.92, 1.1, 1.2, 1.5]\r\n",
        "}\r\n",
        "print(data)"
      ],
      "execution_count": 55,
      "outputs": [
        {
          "output_type": "stream",
          "text": [
            "{'city': ['서울', '서울', '서울', '경기', '경기', '경기'], 'year': [2018, 2019, 2020, 2018, 2019, 2020], 'pop': [0.85, 0.9, 0.92, 1.1, 1.2, 1.5]}\n"
          ],
          "name": "stdout"
        }
      ]
    },
    {
      "cell_type": "code",
      "metadata": {
        "colab": {
          "base_uri": "https://localhost:8080/"
        },
        "id": "SvOu282sto5k",
        "outputId": "280561c7-d894-4e54-84e6-7447d958338c"
      },
      "source": [
        "df = pd.DataFrame(data)\r\n",
        "print(df)  #> 6 rows, 3 columns"
      ],
      "execution_count": 56,
      "outputs": [
        {
          "output_type": "stream",
          "text": [
            "  city  year   pop\n",
            "0   서울  2018  0.85\n",
            "1   서울  2019  0.90\n",
            "2   서울  2020  0.92\n",
            "3   경기  2018  1.10\n",
            "4   경기  2019  1.20\n",
            "5   경기  2020  1.50\n"
          ],
          "name": "stdout"
        }
      ]
    },
    {
      "cell_type": "code",
      "metadata": {
        "colab": {
          "base_uri": "https://localhost:8080/",
          "height": 247
        },
        "id": "k0xmBREAug9w",
        "outputId": "55c8cb6d-e2ba-485e-9235-596ee85cfc3e"
      },
      "source": [
        "df  #> Jupyter Notebook은 DataFrame을 HTML table 형식으로 출력해줌."
      ],
      "execution_count": 57,
      "outputs": [
        {
          "output_type": "execute_result",
          "data": {
            "text/html": [
              "<div>\n",
              "<style scoped>\n",
              "    .dataframe tbody tr th:only-of-type {\n",
              "        vertical-align: middle;\n",
              "    }\n",
              "\n",
              "    .dataframe tbody tr th {\n",
              "        vertical-align: top;\n",
              "    }\n",
              "\n",
              "    .dataframe thead th {\n",
              "        text-align: right;\n",
              "    }\n",
              "</style>\n",
              "<table border=\"1\" class=\"dataframe\">\n",
              "  <thead>\n",
              "    <tr style=\"text-align: right;\">\n",
              "      <th></th>\n",
              "      <th>city</th>\n",
              "      <th>year</th>\n",
              "      <th>pop</th>\n",
              "    </tr>\n",
              "  </thead>\n",
              "  <tbody>\n",
              "    <tr>\n",
              "      <th>0</th>\n",
              "      <td>서울</td>\n",
              "      <td>2018</td>\n",
              "      <td>0.85</td>\n",
              "    </tr>\n",
              "    <tr>\n",
              "      <th>1</th>\n",
              "      <td>서울</td>\n",
              "      <td>2019</td>\n",
              "      <td>0.90</td>\n",
              "    </tr>\n",
              "    <tr>\n",
              "      <th>2</th>\n",
              "      <td>서울</td>\n",
              "      <td>2020</td>\n",
              "      <td>0.92</td>\n",
              "    </tr>\n",
              "    <tr>\n",
              "      <th>3</th>\n",
              "      <td>경기</td>\n",
              "      <td>2018</td>\n",
              "      <td>1.10</td>\n",
              "    </tr>\n",
              "    <tr>\n",
              "      <th>4</th>\n",
              "      <td>경기</td>\n",
              "      <td>2019</td>\n",
              "      <td>1.20</td>\n",
              "    </tr>\n",
              "    <tr>\n",
              "      <th>5</th>\n",
              "      <td>경기</td>\n",
              "      <td>2020</td>\n",
              "      <td>1.50</td>\n",
              "    </tr>\n",
              "  </tbody>\n",
              "</table>\n",
              "</div>"
            ],
            "text/plain": [
              "  city  year   pop\n",
              "0   서울  2018  0.85\n",
              "1   서울  2019  0.90\n",
              "2   서울  2020  0.92\n",
              "3   경기  2018  1.10\n",
              "4   경기  2019  1.20\n",
              "5   경기  2020  1.50"
            ]
          },
          "metadata": {
            "tags": []
          },
          "execution_count": 57
        }
      ]
    },
    {
      "cell_type": "code",
      "metadata": {
        "colab": {
          "base_uri": "https://localhost:8080/"
        },
        "id": "e-XH5QV8vIfS",
        "outputId": "a21c8586-12bc-4492-94b3-5adb616bc684"
      },
      "source": [
        "# DataFrame 객체의 속성들(attributes)\r\n",
        "print('shape:', df.shape)  # (row 개수, column 개수)\r\n",
        "print('index:', df.index)  # row index\r\n",
        "print('columns:', df.columns)  # column index. 컬럼 이름들"
      ],
      "execution_count": 63,
      "outputs": [
        {
          "output_type": "stream",
          "text": [
            "shape: (6, 3)\n",
            "index: RangeIndex(start=0, stop=6, step=1)\n",
            "columns: Index(['city', 'year', 'pop'], dtype='object')\n"
          ],
          "name": "stdout"
        }
      ]
    },
    {
      "cell_type": "code",
      "metadata": {
        "colab": {
          "base_uri": "https://localhost:8080/"
        },
        "id": "2MdPfYXqwmZb",
        "outputId": "a12b6d32-25cf-4669-fde7-a867563d1a86"
      },
      "source": [
        "# DataFrame에서 column을 선택하는 방법\r\n",
        "# 1) df['column_name'] - dict에서 key를 사용해서 value 값을 읽는 방법과 유사.\r\n",
        "df['city']"
      ],
      "execution_count": 64,
      "outputs": [
        {
          "output_type": "execute_result",
          "data": {
            "text/plain": [
              "0    서울\n",
              "1    서울\n",
              "2    서울\n",
              "3    경기\n",
              "4    경기\n",
              "5    경기\n",
              "Name: city, dtype: object"
            ]
          },
          "metadata": {
            "tags": []
          },
          "execution_count": 64
        }
      ]
    },
    {
      "cell_type": "code",
      "metadata": {
        "colab": {
          "base_uri": "https://localhost:8080/"
        },
        "id": "sgZOfKdvxbVC",
        "outputId": "e95302ae-043c-4610-dc79-20a9009e7136"
      },
      "source": [
        "# 2) df.column_name - 클래스 객체의 attribute 이름으로 값을 읽는 방법과 유사.\r\n",
        "df.city"
      ],
      "execution_count": 65,
      "outputs": [
        {
          "output_type": "execute_result",
          "data": {
            "text/plain": [
              "0    서울\n",
              "1    서울\n",
              "2    서울\n",
              "3    경기\n",
              "4    경기\n",
              "5    경기\n",
              "Name: city, dtype: object"
            ]
          },
          "metadata": {
            "tags": []
          },
          "execution_count": 65
        }
      ]
    },
    {
      "cell_type": "code",
      "metadata": {
        "colab": {
          "base_uri": "https://localhost:8080/",
          "height": 149
        },
        "id": "XzK-p3hrx3eK",
        "outputId": "b232aa78-64ba-4f65-c932-c05d5dc2e090"
      },
      "source": [
        "df = pd.DataFrame(data={\r\n",
        "    'col_1': [1, 2, 3],\r\n",
        "    '2_x': [4, 5, 6],\r\n",
        "    'class': ['a', 'a', 'b']\r\n",
        "})\r\n",
        "df"
      ],
      "execution_count": 70,
      "outputs": [
        {
          "output_type": "execute_result",
          "data": {
            "text/html": [
              "<div>\n",
              "<style scoped>\n",
              "    .dataframe tbody tr th:only-of-type {\n",
              "        vertical-align: middle;\n",
              "    }\n",
              "\n",
              "    .dataframe tbody tr th {\n",
              "        vertical-align: top;\n",
              "    }\n",
              "\n",
              "    .dataframe thead th {\n",
              "        text-align: right;\n",
              "    }\n",
              "</style>\n",
              "<table border=\"1\" class=\"dataframe\">\n",
              "  <thead>\n",
              "    <tr style=\"text-align: right;\">\n",
              "      <th></th>\n",
              "      <th>col_1</th>\n",
              "      <th>2_x</th>\n",
              "      <th>class</th>\n",
              "    </tr>\n",
              "  </thead>\n",
              "  <tbody>\n",
              "    <tr>\n",
              "      <th>0</th>\n",
              "      <td>1</td>\n",
              "      <td>4</td>\n",
              "      <td>a</td>\n",
              "    </tr>\n",
              "    <tr>\n",
              "      <th>1</th>\n",
              "      <td>2</td>\n",
              "      <td>5</td>\n",
              "      <td>a</td>\n",
              "    </tr>\n",
              "    <tr>\n",
              "      <th>2</th>\n",
              "      <td>3</td>\n",
              "      <td>6</td>\n",
              "      <td>b</td>\n",
              "    </tr>\n",
              "  </tbody>\n",
              "</table>\n",
              "</div>"
            ],
            "text/plain": [
              "   col_1  2_x class\n",
              "0      1    4     a\n",
              "1      2    5     a\n",
              "2      3    6     b"
            ]
          },
          "metadata": {
            "tags": []
          },
          "execution_count": 70
        }
      ]
    },
    {
      "cell_type": "code",
      "metadata": {
        "colab": {
          "base_uri": "https://localhost:8080/"
        },
        "id": "UPyUGml7zFMR",
        "outputId": "b108ba3a-54bd-445c-9639-b691c60cc47b"
      },
      "source": [
        "print(df['col_1'])\r\n",
        "print()\r\n",
        "print(df.col_1)"
      ],
      "execution_count": 72,
      "outputs": [
        {
          "output_type": "stream",
          "text": [
            "0    1\n",
            "1    2\n",
            "2    3\n",
            "Name: col_1, dtype: int64\n",
            "\n",
            "0    1\n",
            "1    2\n",
            "2    3\n",
            "Name: col_1, dtype: int64\n"
          ],
          "name": "stdout"
        }
      ]
    },
    {
      "cell_type": "code",
      "metadata": {
        "colab": {
          "base_uri": "https://localhost:8080/"
        },
        "id": "XsSDz-yazcUJ",
        "outputId": "018180a9-a0b9-4dfa-b866-b09636e7b22a"
      },
      "source": [
        "print(df['2_x'])\r\n",
        "# print(df.2_x)  #> SyntaxError"
      ],
      "execution_count": 75,
      "outputs": [
        {
          "output_type": "stream",
          "text": [
            "0    4\n",
            "1    5\n",
            "2    6\n",
            "Name: 2_x, dtype: int64\n"
          ],
          "name": "stdout"
        }
      ]
    },
    {
      "cell_type": "code",
      "metadata": {
        "colab": {
          "base_uri": "https://localhost:8080/"
        },
        "id": "r_ZB-BqmzwGh",
        "outputId": "b395ea10-62e1-4112-d6a2-a5d766cffebd"
      },
      "source": [
        "print(df['class'])\r\n",
        "# print(df.class)  #> SyntaxError"
      ],
      "execution_count": 78,
      "outputs": [
        {
          "output_type": "stream",
          "text": [
            "0    a\n",
            "1    a\n",
            "2    b\n",
            "Name: class, dtype: object\n"
          ],
          "name": "stdout"
        }
      ]
    },
    {
      "cell_type": "code",
      "metadata": {
        "colab": {
          "base_uri": "https://localhost:8080/",
          "height": 247
        },
        "id": "NXD9WwF40foa",
        "outputId": "14dfe460-231d-4b78-dca9-1b667e4b363e"
      },
      "source": [
        "# DataFrame에서 row를 선택하는 방법:\r\n",
        "# 1) df.loc[label]\r\n",
        "# 2) df.iloc[integer]\r\n",
        "df = pd.DataFrame(data)\r\n",
        "df"
      ],
      "execution_count": 81,
      "outputs": [
        {
          "output_type": "execute_result",
          "data": {
            "text/html": [
              "<div>\n",
              "<style scoped>\n",
              "    .dataframe tbody tr th:only-of-type {\n",
              "        vertical-align: middle;\n",
              "    }\n",
              "\n",
              "    .dataframe tbody tr th {\n",
              "        vertical-align: top;\n",
              "    }\n",
              "\n",
              "    .dataframe thead th {\n",
              "        text-align: right;\n",
              "    }\n",
              "</style>\n",
              "<table border=\"1\" class=\"dataframe\">\n",
              "  <thead>\n",
              "    <tr style=\"text-align: right;\">\n",
              "      <th></th>\n",
              "      <th>city</th>\n",
              "      <th>year</th>\n",
              "      <th>pop</th>\n",
              "    </tr>\n",
              "  </thead>\n",
              "  <tbody>\n",
              "    <tr>\n",
              "      <th>0</th>\n",
              "      <td>서울</td>\n",
              "      <td>2018</td>\n",
              "      <td>0.85</td>\n",
              "    </tr>\n",
              "    <tr>\n",
              "      <th>1</th>\n",
              "      <td>서울</td>\n",
              "      <td>2019</td>\n",
              "      <td>0.90</td>\n",
              "    </tr>\n",
              "    <tr>\n",
              "      <th>2</th>\n",
              "      <td>서울</td>\n",
              "      <td>2020</td>\n",
              "      <td>0.92</td>\n",
              "    </tr>\n",
              "    <tr>\n",
              "      <th>3</th>\n",
              "      <td>경기</td>\n",
              "      <td>2018</td>\n",
              "      <td>1.10</td>\n",
              "    </tr>\n",
              "    <tr>\n",
              "      <th>4</th>\n",
              "      <td>경기</td>\n",
              "      <td>2019</td>\n",
              "      <td>1.20</td>\n",
              "    </tr>\n",
              "    <tr>\n",
              "      <th>5</th>\n",
              "      <td>경기</td>\n",
              "      <td>2020</td>\n",
              "      <td>1.50</td>\n",
              "    </tr>\n",
              "  </tbody>\n",
              "</table>\n",
              "</div>"
            ],
            "text/plain": [
              "  city  year   pop\n",
              "0   서울  2018  0.85\n",
              "1   서울  2019  0.90\n",
              "2   서울  2020  0.92\n",
              "3   경기  2018  1.10\n",
              "4   경기  2019  1.20\n",
              "5   경기  2020  1.50"
            ]
          },
          "metadata": {
            "tags": []
          },
          "execution_count": 81
        }
      ]
    },
    {
      "cell_type": "code",
      "metadata": {
        "colab": {
          "base_uri": "https://localhost:8080/"
        },
        "id": "gqgxr2Ul00-S",
        "outputId": "283ff95f-b50d-4000-c563-30b81aea04a7"
      },
      "source": [
        "df.loc[2]  # Series 타입"
      ],
      "execution_count": 87,
      "outputs": [
        {
          "output_type": "execute_result",
          "data": {
            "text/plain": [
              "city      서울\n",
              "year    2020\n",
              "pop     0.92\n",
              "Name: 2, dtype: object"
            ]
          },
          "metadata": {
            "tags": []
          },
          "execution_count": 87
        }
      ]
    }
  ]
}