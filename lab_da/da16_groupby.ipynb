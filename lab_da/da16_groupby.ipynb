{
  "nbformat": 4,
  "nbformat_minor": 0,
  "metadata": {
    "colab": {
      "name": "da16_groupby.ipynb",
      "provenance": [],
      "collapsed_sections": [],
      "authorship_tag": "ABX9TyOl999+y0FJa5fKyLXBnNRk",
      "include_colab_link": true
    },
    "kernelspec": {
      "name": "python3",
      "display_name": "Python 3"
    }
  },
  "cells": [
    {
      "cell_type": "markdown",
      "metadata": {
        "id": "view-in-github",
        "colab_type": "text"
      },
      "source": [
        "<a href=\"https://colab.research.google.com/github/JakeOh/202011_itw_bd21/blob/main/lab_da/da16_groupby.ipynb\" target=\"_parent\"><img src=\"https://colab.research.google.com/assets/colab-badge.svg\" alt=\"Open In Colab\"/></a>"
      ]
    },
    {
      "cell_type": "markdown",
      "metadata": {
        "id": "a1qupOv8sGwI"
      },
      "source": [
        "# GroupBy\r\n",
        "\r\n",
        "*   분리(split) - 적용(apply) - 결합(combine)\r\n"
      ]
    },
    {
      "cell_type": "code",
      "metadata": {
        "id": "O4lNoULCr81A"
      },
      "source": [
        "import numpy as np\r\n",
        "import pandas as pd\r\n",
        "import matplotlib.pyplot as plt\r\n",
        "import seaborn as sns"
      ],
      "execution_count": 1,
      "outputs": []
    },
    {
      "cell_type": "code",
      "metadata": {
        "id": "EtLOMXDNso4h"
      },
      "source": [
        "tips = sns.load_dataset('tips')"
      ],
      "execution_count": 2,
      "outputs": []
    },
    {
      "cell_type": "code",
      "metadata": {
        "colab": {
          "base_uri": "https://localhost:8080/",
          "height": 214
        },
        "id": "y8Clle1-sy8v",
        "outputId": "b894fa6a-a774-4537-90b4-a4796e21fb42"
      },
      "source": [
        "tips.head()"
      ],
      "execution_count": 3,
      "outputs": [
        {
          "output_type": "execute_result",
          "data": {
            "text/html": [
              "<div>\n",
              "<style scoped>\n",
              "    .dataframe tbody tr th:only-of-type {\n",
              "        vertical-align: middle;\n",
              "    }\n",
              "\n",
              "    .dataframe tbody tr th {\n",
              "        vertical-align: top;\n",
              "    }\n",
              "\n",
              "    .dataframe thead th {\n",
              "        text-align: right;\n",
              "    }\n",
              "</style>\n",
              "<table border=\"1\" class=\"dataframe\">\n",
              "  <thead>\n",
              "    <tr style=\"text-align: right;\">\n",
              "      <th></th>\n",
              "      <th>total_bill</th>\n",
              "      <th>tip</th>\n",
              "      <th>sex</th>\n",
              "      <th>smoker</th>\n",
              "      <th>day</th>\n",
              "      <th>time</th>\n",
              "      <th>size</th>\n",
              "    </tr>\n",
              "  </thead>\n",
              "  <tbody>\n",
              "    <tr>\n",
              "      <th>0</th>\n",
              "      <td>16.99</td>\n",
              "      <td>1.01</td>\n",
              "      <td>Female</td>\n",
              "      <td>No</td>\n",
              "      <td>Sun</td>\n",
              "      <td>Dinner</td>\n",
              "      <td>2</td>\n",
              "    </tr>\n",
              "    <tr>\n",
              "      <th>1</th>\n",
              "      <td>10.34</td>\n",
              "      <td>1.66</td>\n",
              "      <td>Male</td>\n",
              "      <td>No</td>\n",
              "      <td>Sun</td>\n",
              "      <td>Dinner</td>\n",
              "      <td>3</td>\n",
              "    </tr>\n",
              "    <tr>\n",
              "      <th>2</th>\n",
              "      <td>21.01</td>\n",
              "      <td>3.50</td>\n",
              "      <td>Male</td>\n",
              "      <td>No</td>\n",
              "      <td>Sun</td>\n",
              "      <td>Dinner</td>\n",
              "      <td>3</td>\n",
              "    </tr>\n",
              "    <tr>\n",
              "      <th>3</th>\n",
              "      <td>23.68</td>\n",
              "      <td>3.31</td>\n",
              "      <td>Male</td>\n",
              "      <td>No</td>\n",
              "      <td>Sun</td>\n",
              "      <td>Dinner</td>\n",
              "      <td>2</td>\n",
              "    </tr>\n",
              "    <tr>\n",
              "      <th>4</th>\n",
              "      <td>24.59</td>\n",
              "      <td>3.61</td>\n",
              "      <td>Female</td>\n",
              "      <td>No</td>\n",
              "      <td>Sun</td>\n",
              "      <td>Dinner</td>\n",
              "      <td>4</td>\n",
              "    </tr>\n",
              "  </tbody>\n",
              "</table>\n",
              "</div>"
            ],
            "text/plain": [
              "   total_bill   tip     sex smoker  day    time  size\n",
              "0       16.99  1.01  Female     No  Sun  Dinner     2\n",
              "1       10.34  1.66    Male     No  Sun  Dinner     3\n",
              "2       21.01  3.50    Male     No  Sun  Dinner     3\n",
              "3       23.68  3.31    Male     No  Sun  Dinner     2\n",
              "4       24.59  3.61  Female     No  Sun  Dinner     4"
            ]
          },
          "metadata": {
            "tags": []
          },
          "execution_count": 3
        }
      ]
    },
    {
      "cell_type": "code",
      "metadata": {
        "colab": {
          "base_uri": "https://localhost:8080/"
        },
        "id": "924sCP1gs0Ro",
        "outputId": "0fa3a86e-6b93-497b-f034-863c83621914"
      },
      "source": [
        "tips.shape"
      ],
      "execution_count": 4,
      "outputs": [
        {
          "output_type": "execute_result",
          "data": {
            "text/plain": [
              "(244, 7)"
            ]
          },
          "metadata": {
            "tags": []
          },
          "execution_count": 4
        }
      ]
    },
    {
      "cell_type": "code",
      "metadata": {
        "colab": {
          "base_uri": "https://localhost:8080/"
        },
        "id": "QevYTXBss7YH",
        "outputId": "0d23aa95-7349-41f1-b710-c1f9e2501db7"
      },
      "source": [
        "tips.info()"
      ],
      "execution_count": 5,
      "outputs": [
        {
          "output_type": "stream",
          "text": [
            "<class 'pandas.core.frame.DataFrame'>\n",
            "RangeIndex: 244 entries, 0 to 243\n",
            "Data columns (total 7 columns):\n",
            " #   Column      Non-Null Count  Dtype   \n",
            "---  ------      --------------  -----   \n",
            " 0   total_bill  244 non-null    float64 \n",
            " 1   tip         244 non-null    float64 \n",
            " 2   sex         244 non-null    category\n",
            " 3   smoker      244 non-null    category\n",
            " 4   day         244 non-null    category\n",
            " 5   time        244 non-null    category\n",
            " 6   size        244 non-null    int64   \n",
            "dtypes: category(4), float64(2), int64(1)\n",
            "memory usage: 7.3 KB\n"
          ],
          "name": "stdout"
        }
      ]
    },
    {
      "cell_type": "code",
      "metadata": {
        "colab": {
          "base_uri": "https://localhost:8080/",
          "height": 312
        },
        "id": "GdPSekBvtvKv",
        "outputId": "72feaa66-02cb-41b4-d457-77e3189ca9c7"
      },
      "source": [
        "tips.describe()"
      ],
      "execution_count": 6,
      "outputs": [
        {
          "output_type": "execute_result",
          "data": {
            "text/html": [
              "<div>\n",
              "<style scoped>\n",
              "    .dataframe tbody tr th:only-of-type {\n",
              "        vertical-align: middle;\n",
              "    }\n",
              "\n",
              "    .dataframe tbody tr th {\n",
              "        vertical-align: top;\n",
              "    }\n",
              "\n",
              "    .dataframe thead th {\n",
              "        text-align: right;\n",
              "    }\n",
              "</style>\n",
              "<table border=\"1\" class=\"dataframe\">\n",
              "  <thead>\n",
              "    <tr style=\"text-align: right;\">\n",
              "      <th></th>\n",
              "      <th>total_bill</th>\n",
              "      <th>tip</th>\n",
              "      <th>size</th>\n",
              "    </tr>\n",
              "  </thead>\n",
              "  <tbody>\n",
              "    <tr>\n",
              "      <th>count</th>\n",
              "      <td>244.000000</td>\n",
              "      <td>244.000000</td>\n",
              "      <td>244.000000</td>\n",
              "    </tr>\n",
              "    <tr>\n",
              "      <th>mean</th>\n",
              "      <td>19.785943</td>\n",
              "      <td>2.998279</td>\n",
              "      <td>2.569672</td>\n",
              "    </tr>\n",
              "    <tr>\n",
              "      <th>std</th>\n",
              "      <td>8.902412</td>\n",
              "      <td>1.383638</td>\n",
              "      <td>0.951100</td>\n",
              "    </tr>\n",
              "    <tr>\n",
              "      <th>min</th>\n",
              "      <td>3.070000</td>\n",
              "      <td>1.000000</td>\n",
              "      <td>1.000000</td>\n",
              "    </tr>\n",
              "    <tr>\n",
              "      <th>25%</th>\n",
              "      <td>13.347500</td>\n",
              "      <td>2.000000</td>\n",
              "      <td>2.000000</td>\n",
              "    </tr>\n",
              "    <tr>\n",
              "      <th>50%</th>\n",
              "      <td>17.795000</td>\n",
              "      <td>2.900000</td>\n",
              "      <td>2.000000</td>\n",
              "    </tr>\n",
              "    <tr>\n",
              "      <th>75%</th>\n",
              "      <td>24.127500</td>\n",
              "      <td>3.562500</td>\n",
              "      <td>3.000000</td>\n",
              "    </tr>\n",
              "    <tr>\n",
              "      <th>max</th>\n",
              "      <td>50.810000</td>\n",
              "      <td>10.000000</td>\n",
              "      <td>6.000000</td>\n",
              "    </tr>\n",
              "  </tbody>\n",
              "</table>\n",
              "</div>"
            ],
            "text/plain": [
              "       total_bill         tip        size\n",
              "count  244.000000  244.000000  244.000000\n",
              "mean    19.785943    2.998279    2.569672\n",
              "std      8.902412    1.383638    0.951100\n",
              "min      3.070000    1.000000    1.000000\n",
              "25%     13.347500    2.000000    2.000000\n",
              "50%     17.795000    2.900000    2.000000\n",
              "75%     24.127500    3.562500    3.000000\n",
              "max     50.810000   10.000000    6.000000"
            ]
          },
          "metadata": {
            "tags": []
          },
          "execution_count": 6
        }
      ]
    },
    {
      "cell_type": "code",
      "metadata": {
        "colab": {
          "base_uri": "https://localhost:8080/"
        },
        "id": "wvvrgBhct_qQ",
        "outputId": "26e52290-d8ed-4b6a-c51f-db131cc4b7ba"
      },
      "source": [
        "tips['sex'].value_counts()"
      ],
      "execution_count": 7,
      "outputs": [
        {
          "output_type": "execute_result",
          "data": {
            "text/plain": [
              "Male      157\n",
              "Female     87\n",
              "Name: sex, dtype: int64"
            ]
          },
          "metadata": {
            "tags": []
          },
          "execution_count": 7
        }
      ]
    },
    {
      "cell_type": "code",
      "metadata": {
        "colab": {
          "base_uri": "https://localhost:8080/"
        },
        "id": "y1CZ7l-uuQmg",
        "outputId": "e760a81d-0b73-458e-cb17-21825a58ee36"
      },
      "source": [
        "tips.index"
      ],
      "execution_count": 8,
      "outputs": [
        {
          "output_type": "execute_result",
          "data": {
            "text/plain": [
              "RangeIndex(start=0, stop=244, step=1)"
            ]
          },
          "metadata": {
            "tags": []
          },
          "execution_count": 8
        }
      ]
    },
    {
      "cell_type": "code",
      "metadata": {
        "colab": {
          "base_uri": "https://localhost:8080/"
        },
        "id": "ZJPK8OOKuRuv",
        "outputId": "b4eb8126-14b3-462f-b321-a01e2620c19b"
      },
      "source": [
        "tips.index.nlevels"
      ],
      "execution_count": 9,
      "outputs": [
        {
          "output_type": "execute_result",
          "data": {
            "text/plain": [
              "1"
            ]
          },
          "metadata": {
            "tags": []
          },
          "execution_count": 9
        }
      ]
    },
    {
      "cell_type": "code",
      "metadata": {
        "colab": {
          "base_uri": "https://localhost:8080/"
        },
        "id": "zkqXvAZ9uYg-",
        "outputId": "0a952071-dd88-4bba-bf49-58b26dc5e3f8"
      },
      "source": [
        "tips.columns"
      ],
      "execution_count": 10,
      "outputs": [
        {
          "output_type": "execute_result",
          "data": {
            "text/plain": [
              "Index(['total_bill', 'tip', 'sex', 'smoker', 'day', 'time', 'size'], dtype='object')"
            ]
          },
          "metadata": {
            "tags": []
          },
          "execution_count": 10
        }
      ]
    },
    {
      "cell_type": "code",
      "metadata": {
        "colab": {
          "base_uri": "https://localhost:8080/"
        },
        "id": "tDe68wEiuiyu",
        "outputId": "975d637b-9910-4c70-f25c-7bc5c78a96c9"
      },
      "source": [
        "tips.columns.nlevels"
      ],
      "execution_count": 11,
      "outputs": [
        {
          "output_type": "execute_result",
          "data": {
            "text/plain": [
              "1"
            ]
          },
          "metadata": {
            "tags": []
          },
          "execution_count": 11
        }
      ]
    },
    {
      "cell_type": "markdown",
      "metadata": {
        "id": "AhNbVv_9uwCO"
      },
      "source": [
        "*   성별 팁의 평균\r\n",
        "    1. 성별(Female, Male) 부분집합을 찾는다 -> split(분리)\r\n",
        "    2. 각 부분집합에서 팁 변수의 평균을 계산한다 -> apply(적용)\r\n",
        "    3. 2번에서 계산된 결과를 하나로 합쳐서 표현 -> combine(결합)"
      ]
    },
    {
      "cell_type": "markdown",
      "metadata": {
        "id": "mzDhPXXoz85H"
      },
      "source": [
        "1. Split"
      ]
    },
    {
      "cell_type": "code",
      "metadata": {
        "colab": {
          "base_uri": "https://localhost:8080/"
        },
        "id": "-gezS5uKuvTX",
        "outputId": "711cc305-18b2-4b09-eda3-254346c26454"
      },
      "source": [
        "genders = tips['sex'].unique()\r\n",
        "genders"
      ],
      "execution_count": 12,
      "outputs": [
        {
          "output_type": "execute_result",
          "data": {
            "text/plain": [
              "['Female', 'Male']\n",
              "Categories (2, object): ['Female', 'Male']"
            ]
          },
          "metadata": {
            "tags": []
          },
          "execution_count": 12
        }
      ]
    },
    {
      "cell_type": "code",
      "metadata": {
        "id": "lZpcXOH3vuBB"
      },
      "source": [
        "female = tips[tips['sex'] == 'Female']\r\n",
        "male = tips[tips['sex'] == 'Male']"
      ],
      "execution_count": 13,
      "outputs": []
    },
    {
      "cell_type": "code",
      "metadata": {
        "colab": {
          "base_uri": "https://localhost:8080/",
          "height": 441
        },
        "id": "jd6bG-JewD1u",
        "outputId": "26e85482-997d-45b7-f4ad-39798dbfda5c"
      },
      "source": [
        "female"
      ],
      "execution_count": 14,
      "outputs": [
        {
          "output_type": "execute_result",
          "data": {
            "text/html": [
              "<div>\n",
              "<style scoped>\n",
              "    .dataframe tbody tr th:only-of-type {\n",
              "        vertical-align: middle;\n",
              "    }\n",
              "\n",
              "    .dataframe tbody tr th {\n",
              "        vertical-align: top;\n",
              "    }\n",
              "\n",
              "    .dataframe thead th {\n",
              "        text-align: right;\n",
              "    }\n",
              "</style>\n",
              "<table border=\"1\" class=\"dataframe\">\n",
              "  <thead>\n",
              "    <tr style=\"text-align: right;\">\n",
              "      <th></th>\n",
              "      <th>total_bill</th>\n",
              "      <th>tip</th>\n",
              "      <th>sex</th>\n",
              "      <th>smoker</th>\n",
              "      <th>day</th>\n",
              "      <th>time</th>\n",
              "      <th>size</th>\n",
              "    </tr>\n",
              "  </thead>\n",
              "  <tbody>\n",
              "    <tr>\n",
              "      <th>0</th>\n",
              "      <td>16.99</td>\n",
              "      <td>1.01</td>\n",
              "      <td>Female</td>\n",
              "      <td>No</td>\n",
              "      <td>Sun</td>\n",
              "      <td>Dinner</td>\n",
              "      <td>2</td>\n",
              "    </tr>\n",
              "    <tr>\n",
              "      <th>4</th>\n",
              "      <td>24.59</td>\n",
              "      <td>3.61</td>\n",
              "      <td>Female</td>\n",
              "      <td>No</td>\n",
              "      <td>Sun</td>\n",
              "      <td>Dinner</td>\n",
              "      <td>4</td>\n",
              "    </tr>\n",
              "    <tr>\n",
              "      <th>11</th>\n",
              "      <td>35.26</td>\n",
              "      <td>5.00</td>\n",
              "      <td>Female</td>\n",
              "      <td>No</td>\n",
              "      <td>Sun</td>\n",
              "      <td>Dinner</td>\n",
              "      <td>4</td>\n",
              "    </tr>\n",
              "    <tr>\n",
              "      <th>14</th>\n",
              "      <td>14.83</td>\n",
              "      <td>3.02</td>\n",
              "      <td>Female</td>\n",
              "      <td>No</td>\n",
              "      <td>Sun</td>\n",
              "      <td>Dinner</td>\n",
              "      <td>2</td>\n",
              "    </tr>\n",
              "    <tr>\n",
              "      <th>16</th>\n",
              "      <td>10.33</td>\n",
              "      <td>1.67</td>\n",
              "      <td>Female</td>\n",
              "      <td>No</td>\n",
              "      <td>Sun</td>\n",
              "      <td>Dinner</td>\n",
              "      <td>3</td>\n",
              "    </tr>\n",
              "    <tr>\n",
              "      <th>...</th>\n",
              "      <td>...</td>\n",
              "      <td>...</td>\n",
              "      <td>...</td>\n",
              "      <td>...</td>\n",
              "      <td>...</td>\n",
              "      <td>...</td>\n",
              "      <td>...</td>\n",
              "    </tr>\n",
              "    <tr>\n",
              "      <th>226</th>\n",
              "      <td>10.09</td>\n",
              "      <td>2.00</td>\n",
              "      <td>Female</td>\n",
              "      <td>Yes</td>\n",
              "      <td>Fri</td>\n",
              "      <td>Lunch</td>\n",
              "      <td>2</td>\n",
              "    </tr>\n",
              "    <tr>\n",
              "      <th>229</th>\n",
              "      <td>22.12</td>\n",
              "      <td>2.88</td>\n",
              "      <td>Female</td>\n",
              "      <td>Yes</td>\n",
              "      <td>Sat</td>\n",
              "      <td>Dinner</td>\n",
              "      <td>2</td>\n",
              "    </tr>\n",
              "    <tr>\n",
              "      <th>238</th>\n",
              "      <td>35.83</td>\n",
              "      <td>4.67</td>\n",
              "      <td>Female</td>\n",
              "      <td>No</td>\n",
              "      <td>Sat</td>\n",
              "      <td>Dinner</td>\n",
              "      <td>3</td>\n",
              "    </tr>\n",
              "    <tr>\n",
              "      <th>240</th>\n",
              "      <td>27.18</td>\n",
              "      <td>2.00</td>\n",
              "      <td>Female</td>\n",
              "      <td>Yes</td>\n",
              "      <td>Sat</td>\n",
              "      <td>Dinner</td>\n",
              "      <td>2</td>\n",
              "    </tr>\n",
              "    <tr>\n",
              "      <th>243</th>\n",
              "      <td>18.78</td>\n",
              "      <td>3.00</td>\n",
              "      <td>Female</td>\n",
              "      <td>No</td>\n",
              "      <td>Thur</td>\n",
              "      <td>Dinner</td>\n",
              "      <td>2</td>\n",
              "    </tr>\n",
              "  </tbody>\n",
              "</table>\n",
              "<p>87 rows × 7 columns</p>\n",
              "</div>"
            ],
            "text/plain": [
              "     total_bill   tip     sex smoker   day    time  size\n",
              "0         16.99  1.01  Female     No   Sun  Dinner     2\n",
              "4         24.59  3.61  Female     No   Sun  Dinner     4\n",
              "11        35.26  5.00  Female     No   Sun  Dinner     4\n",
              "14        14.83  3.02  Female     No   Sun  Dinner     2\n",
              "16        10.33  1.67  Female     No   Sun  Dinner     3\n",
              "..          ...   ...     ...    ...   ...     ...   ...\n",
              "226       10.09  2.00  Female    Yes   Fri   Lunch     2\n",
              "229       22.12  2.88  Female    Yes   Sat  Dinner     2\n",
              "238       35.83  4.67  Female     No   Sat  Dinner     3\n",
              "240       27.18  2.00  Female    Yes   Sat  Dinner     2\n",
              "243       18.78  3.00  Female     No  Thur  Dinner     2\n",
              "\n",
              "[87 rows x 7 columns]"
            ]
          },
          "metadata": {
            "tags": []
          },
          "execution_count": 14
        }
      ]
    },
    {
      "cell_type": "code",
      "metadata": {
        "colab": {
          "base_uri": "https://localhost:8080/",
          "height": 441
        },
        "id": "UDpQOS2kwEoQ",
        "outputId": "58be362f-7676-4204-bead-0a7ed3c81feb"
      },
      "source": [
        "male"
      ],
      "execution_count": 15,
      "outputs": [
        {
          "output_type": "execute_result",
          "data": {
            "text/html": [
              "<div>\n",
              "<style scoped>\n",
              "    .dataframe tbody tr th:only-of-type {\n",
              "        vertical-align: middle;\n",
              "    }\n",
              "\n",
              "    .dataframe tbody tr th {\n",
              "        vertical-align: top;\n",
              "    }\n",
              "\n",
              "    .dataframe thead th {\n",
              "        text-align: right;\n",
              "    }\n",
              "</style>\n",
              "<table border=\"1\" class=\"dataframe\">\n",
              "  <thead>\n",
              "    <tr style=\"text-align: right;\">\n",
              "      <th></th>\n",
              "      <th>total_bill</th>\n",
              "      <th>tip</th>\n",
              "      <th>sex</th>\n",
              "      <th>smoker</th>\n",
              "      <th>day</th>\n",
              "      <th>time</th>\n",
              "      <th>size</th>\n",
              "    </tr>\n",
              "  </thead>\n",
              "  <tbody>\n",
              "    <tr>\n",
              "      <th>1</th>\n",
              "      <td>10.34</td>\n",
              "      <td>1.66</td>\n",
              "      <td>Male</td>\n",
              "      <td>No</td>\n",
              "      <td>Sun</td>\n",
              "      <td>Dinner</td>\n",
              "      <td>3</td>\n",
              "    </tr>\n",
              "    <tr>\n",
              "      <th>2</th>\n",
              "      <td>21.01</td>\n",
              "      <td>3.50</td>\n",
              "      <td>Male</td>\n",
              "      <td>No</td>\n",
              "      <td>Sun</td>\n",
              "      <td>Dinner</td>\n",
              "      <td>3</td>\n",
              "    </tr>\n",
              "    <tr>\n",
              "      <th>3</th>\n",
              "      <td>23.68</td>\n",
              "      <td>3.31</td>\n",
              "      <td>Male</td>\n",
              "      <td>No</td>\n",
              "      <td>Sun</td>\n",
              "      <td>Dinner</td>\n",
              "      <td>2</td>\n",
              "    </tr>\n",
              "    <tr>\n",
              "      <th>5</th>\n",
              "      <td>25.29</td>\n",
              "      <td>4.71</td>\n",
              "      <td>Male</td>\n",
              "      <td>No</td>\n",
              "      <td>Sun</td>\n",
              "      <td>Dinner</td>\n",
              "      <td>4</td>\n",
              "    </tr>\n",
              "    <tr>\n",
              "      <th>6</th>\n",
              "      <td>8.77</td>\n",
              "      <td>2.00</td>\n",
              "      <td>Male</td>\n",
              "      <td>No</td>\n",
              "      <td>Sun</td>\n",
              "      <td>Dinner</td>\n",
              "      <td>2</td>\n",
              "    </tr>\n",
              "    <tr>\n",
              "      <th>...</th>\n",
              "      <td>...</td>\n",
              "      <td>...</td>\n",
              "      <td>...</td>\n",
              "      <td>...</td>\n",
              "      <td>...</td>\n",
              "      <td>...</td>\n",
              "      <td>...</td>\n",
              "    </tr>\n",
              "    <tr>\n",
              "      <th>236</th>\n",
              "      <td>12.60</td>\n",
              "      <td>1.00</td>\n",
              "      <td>Male</td>\n",
              "      <td>Yes</td>\n",
              "      <td>Sat</td>\n",
              "      <td>Dinner</td>\n",
              "      <td>2</td>\n",
              "    </tr>\n",
              "    <tr>\n",
              "      <th>237</th>\n",
              "      <td>32.83</td>\n",
              "      <td>1.17</td>\n",
              "      <td>Male</td>\n",
              "      <td>Yes</td>\n",
              "      <td>Sat</td>\n",
              "      <td>Dinner</td>\n",
              "      <td>2</td>\n",
              "    </tr>\n",
              "    <tr>\n",
              "      <th>239</th>\n",
              "      <td>29.03</td>\n",
              "      <td>5.92</td>\n",
              "      <td>Male</td>\n",
              "      <td>No</td>\n",
              "      <td>Sat</td>\n",
              "      <td>Dinner</td>\n",
              "      <td>3</td>\n",
              "    </tr>\n",
              "    <tr>\n",
              "      <th>241</th>\n",
              "      <td>22.67</td>\n",
              "      <td>2.00</td>\n",
              "      <td>Male</td>\n",
              "      <td>Yes</td>\n",
              "      <td>Sat</td>\n",
              "      <td>Dinner</td>\n",
              "      <td>2</td>\n",
              "    </tr>\n",
              "    <tr>\n",
              "      <th>242</th>\n",
              "      <td>17.82</td>\n",
              "      <td>1.75</td>\n",
              "      <td>Male</td>\n",
              "      <td>No</td>\n",
              "      <td>Sat</td>\n",
              "      <td>Dinner</td>\n",
              "      <td>2</td>\n",
              "    </tr>\n",
              "  </tbody>\n",
              "</table>\n",
              "<p>157 rows × 7 columns</p>\n",
              "</div>"
            ],
            "text/plain": [
              "     total_bill   tip   sex smoker  day    time  size\n",
              "1         10.34  1.66  Male     No  Sun  Dinner     3\n",
              "2         21.01  3.50  Male     No  Sun  Dinner     3\n",
              "3         23.68  3.31  Male     No  Sun  Dinner     2\n",
              "5         25.29  4.71  Male     No  Sun  Dinner     4\n",
              "6          8.77  2.00  Male     No  Sun  Dinner     2\n",
              "..          ...   ...   ...    ...  ...     ...   ...\n",
              "236       12.60  1.00  Male    Yes  Sat  Dinner     2\n",
              "237       32.83  1.17  Male    Yes  Sat  Dinner     2\n",
              "239       29.03  5.92  Male     No  Sat  Dinner     3\n",
              "241       22.67  2.00  Male    Yes  Sat  Dinner     2\n",
              "242       17.82  1.75  Male     No  Sat  Dinner     2\n",
              "\n",
              "[157 rows x 7 columns]"
            ]
          },
          "metadata": {
            "tags": []
          },
          "execution_count": 15
        }
      ]
    },
    {
      "cell_type": "markdown",
      "metadata": {
        "id": "aq8VQY1A0BWt"
      },
      "source": [
        "2. Apply"
      ]
    },
    {
      "cell_type": "code",
      "metadata": {
        "id": "UWyvO804wS0w"
      },
      "source": [
        "female_tip = female['tip'].mean()\r\n",
        "male_tip = male['tip'].mean()"
      ],
      "execution_count": 16,
      "outputs": []
    },
    {
      "cell_type": "code",
      "metadata": {
        "colab": {
          "base_uri": "https://localhost:8080/"
        },
        "id": "MaAE5lYbwcle",
        "outputId": "5304351c-7072-4284-f36b-f0cb55167ee5"
      },
      "source": [
        "print('female tip mean:', female_tip)\r\n",
        "print('male tip mean:', male_tip)"
      ],
      "execution_count": 17,
      "outputs": [
        {
          "output_type": "stream",
          "text": [
            "female tip mean: 2.833448275862069\n",
            "male tip mean: 3.0896178343949052\n"
          ],
          "name": "stdout"
        }
      ]
    },
    {
      "cell_type": "markdown",
      "metadata": {
        "id": "wmoiStoE0D9c"
      },
      "source": [
        "3. Combine"
      ]
    },
    {
      "cell_type": "code",
      "metadata": {
        "colab": {
          "base_uri": "https://localhost:8080/"
        },
        "id": "LLEnNadAwjQO",
        "outputId": "414a4683-b9c1-492e-da00-ad6166893a11"
      },
      "source": [
        "# genders = tips['sex'].unique()\r\n",
        "s = pd.Series(data=[female_tip, male_tip], index=genders)\r\n",
        "s"
      ],
      "execution_count": 18,
      "outputs": [
        {
          "output_type": "execute_result",
          "data": {
            "text/plain": [
              "Female    2.833448\n",
              "Male      3.089618\n",
              "dtype: float64"
            ]
          },
          "metadata": {
            "tags": []
          },
          "execution_count": 18
        }
      ]
    },
    {
      "cell_type": "code",
      "metadata": {
        "colab": {
          "base_uri": "https://localhost:8080/",
          "height": 116
        },
        "id": "2grjk_OGxFe3",
        "outputId": "3999471d-f944-4233-d0fc-9c4b5536f7ff"
      },
      "source": [
        "df = pd.DataFrame(data={'tip': [female_tip, male_tip]}, index=genders)\r\n",
        "df"
      ],
      "execution_count": 20,
      "outputs": [
        {
          "output_type": "execute_result",
          "data": {
            "text/html": [
              "<div>\n",
              "<style scoped>\n",
              "    .dataframe tbody tr th:only-of-type {\n",
              "        vertical-align: middle;\n",
              "    }\n",
              "\n",
              "    .dataframe tbody tr th {\n",
              "        vertical-align: top;\n",
              "    }\n",
              "\n",
              "    .dataframe thead th {\n",
              "        text-align: right;\n",
              "    }\n",
              "</style>\n",
              "<table border=\"1\" class=\"dataframe\">\n",
              "  <thead>\n",
              "    <tr style=\"text-align: right;\">\n",
              "      <th></th>\n",
              "      <th>tip</th>\n",
              "    </tr>\n",
              "  </thead>\n",
              "  <tbody>\n",
              "    <tr>\n",
              "      <th>Female</th>\n",
              "      <td>2.833448</td>\n",
              "    </tr>\n",
              "    <tr>\n",
              "      <th>Male</th>\n",
              "      <td>3.089618</td>\n",
              "    </tr>\n",
              "  </tbody>\n",
              "</table>\n",
              "</div>"
            ],
            "text/plain": [
              "             tip\n",
              "Female  2.833448\n",
              "Male    3.089618"
            ]
          },
          "metadata": {
            "tags": []
          },
          "execution_count": 20
        }
      ]
    },
    {
      "cell_type": "code",
      "metadata": {
        "id": "eqP9aOAw2eIp"
      },
      "source": [
        "def groupby_mean(df, by, value):\r\n",
        "    \"\"\"\r\n",
        "    :param df: DataFrame\r\n",
        "    :param by: str. 그룹을 나눌 컬럼 이름.\r\n",
        "    :param value: str. mean을 적용할 변수 이름.\r\n",
        "    :param func: np.func\r\n",
        "    \"\"\"\r\n",
        "    categories = df[by].unique()\r\n",
        "    mean_by_category = []\r\n",
        "    for c in categories:\r\n",
        "        subset = df[df[by] == c]  # split\r\n",
        "        avg = subset[value].mean()  # apply\r\n",
        "        mean_by_category.append(avg)\r\n",
        "    # combine\r\n",
        "    # result = pd.Series(data=mean_by_category, index=categories)\r\n",
        "    result = pd.DataFrame(data={value: mean_by_category}, index=categories)\r\n",
        "    \r\n",
        "    # 결과 리턴\r\n",
        "    return result"
      ],
      "execution_count": 27,
      "outputs": []
    },
    {
      "cell_type": "code",
      "metadata": {
        "colab": {
          "base_uri": "https://localhost:8080/",
          "height": 116
        },
        "id": "EgLNFNkN4ULW",
        "outputId": "dc2530a4-eb60-48f0-a404-612ae41ab97c"
      },
      "source": [
        "groupby_mean(df=tips, by='sex', value='tip')"
      ],
      "execution_count": 28,
      "outputs": [
        {
          "output_type": "execute_result",
          "data": {
            "text/html": [
              "<div>\n",
              "<style scoped>\n",
              "    .dataframe tbody tr th:only-of-type {\n",
              "        vertical-align: middle;\n",
              "    }\n",
              "\n",
              "    .dataframe tbody tr th {\n",
              "        vertical-align: top;\n",
              "    }\n",
              "\n",
              "    .dataframe thead th {\n",
              "        text-align: right;\n",
              "    }\n",
              "</style>\n",
              "<table border=\"1\" class=\"dataframe\">\n",
              "  <thead>\n",
              "    <tr style=\"text-align: right;\">\n",
              "      <th></th>\n",
              "      <th>tip</th>\n",
              "    </tr>\n",
              "  </thead>\n",
              "  <tbody>\n",
              "    <tr>\n",
              "      <th>Female</th>\n",
              "      <td>2.833448</td>\n",
              "    </tr>\n",
              "    <tr>\n",
              "      <th>Male</th>\n",
              "      <td>3.089618</td>\n",
              "    </tr>\n",
              "  </tbody>\n",
              "</table>\n",
              "</div>"
            ],
            "text/plain": [
              "             tip\n",
              "Female  2.833448\n",
              "Male    3.089618"
            ]
          },
          "metadata": {
            "tags": []
          },
          "execution_count": 28
        }
      ]
    },
    {
      "cell_type": "code",
      "metadata": {
        "colab": {
          "base_uri": "https://localhost:8080/",
          "height": 149
        },
        "id": "XDLEg_S76HYb",
        "outputId": "ad79f948-ceed-4392-c074-0806beb2068d"
      },
      "source": [
        "tips.pivot_table(values='tip', index='sex', aggfunc='mean')"
      ],
      "execution_count": 29,
      "outputs": [
        {
          "output_type": "execute_result",
          "data": {
            "text/html": [
              "<div>\n",
              "<style scoped>\n",
              "    .dataframe tbody tr th:only-of-type {\n",
              "        vertical-align: middle;\n",
              "    }\n",
              "\n",
              "    .dataframe tbody tr th {\n",
              "        vertical-align: top;\n",
              "    }\n",
              "\n",
              "    .dataframe thead th {\n",
              "        text-align: right;\n",
              "    }\n",
              "</style>\n",
              "<table border=\"1\" class=\"dataframe\">\n",
              "  <thead>\n",
              "    <tr style=\"text-align: right;\">\n",
              "      <th></th>\n",
              "      <th>tip</th>\n",
              "    </tr>\n",
              "    <tr>\n",
              "      <th>sex</th>\n",
              "      <th></th>\n",
              "    </tr>\n",
              "  </thead>\n",
              "  <tbody>\n",
              "    <tr>\n",
              "      <th>Male</th>\n",
              "      <td>3.089618</td>\n",
              "    </tr>\n",
              "    <tr>\n",
              "      <th>Female</th>\n",
              "      <td>2.833448</td>\n",
              "    </tr>\n",
              "  </tbody>\n",
              "</table>\n",
              "</div>"
            ],
            "text/plain": [
              "             tip\n",
              "sex             \n",
              "Male    3.089618\n",
              "Female  2.833448"
            ]
          },
          "metadata": {
            "tags": []
          },
          "execution_count": 29
        }
      ]
    },
    {
      "cell_type": "code",
      "metadata": {
        "colab": {
          "base_uri": "https://localhost:8080/",
          "height": 116
        },
        "id": "pG5Zc9yo4dns",
        "outputId": "c5d207b6-93c7-4fab-8a65-6ca534f37594"
      },
      "source": [
        "groupby_mean(df=tips, by='sex', value='total_bill')"
      ],
      "execution_count": 30,
      "outputs": [
        {
          "output_type": "execute_result",
          "data": {
            "text/html": [
              "<div>\n",
              "<style scoped>\n",
              "    .dataframe tbody tr th:only-of-type {\n",
              "        vertical-align: middle;\n",
              "    }\n",
              "\n",
              "    .dataframe tbody tr th {\n",
              "        vertical-align: top;\n",
              "    }\n",
              "\n",
              "    .dataframe thead th {\n",
              "        text-align: right;\n",
              "    }\n",
              "</style>\n",
              "<table border=\"1\" class=\"dataframe\">\n",
              "  <thead>\n",
              "    <tr style=\"text-align: right;\">\n",
              "      <th></th>\n",
              "      <th>total_bill</th>\n",
              "    </tr>\n",
              "  </thead>\n",
              "  <tbody>\n",
              "    <tr>\n",
              "      <th>Female</th>\n",
              "      <td>18.056897</td>\n",
              "    </tr>\n",
              "    <tr>\n",
              "      <th>Male</th>\n",
              "      <td>20.744076</td>\n",
              "    </tr>\n",
              "  </tbody>\n",
              "</table>\n",
              "</div>"
            ],
            "text/plain": [
              "        total_bill\n",
              "Female   18.056897\n",
              "Male     20.744076"
            ]
          },
          "metadata": {
            "tags": []
          },
          "execution_count": 30
        }
      ]
    },
    {
      "cell_type": "code",
      "metadata": {
        "colab": {
          "base_uri": "https://localhost:8080/"
        },
        "id": "raTsAxlC4qtz",
        "outputId": "4e34b43e-56df-40a6-faa3-ee434aea7cf3"
      },
      "source": [
        "tips[tips['sex'] == 'Female']['total_bill'].mean()"
      ],
      "execution_count": 24,
      "outputs": [
        {
          "output_type": "execute_result",
          "data": {
            "text/plain": [
              "18.056896551724137"
            ]
          },
          "metadata": {
            "tags": []
          },
          "execution_count": 24
        }
      ]
    },
    {
      "cell_type": "code",
      "metadata": {
        "colab": {
          "base_uri": "https://localhost:8080/",
          "height": 149
        },
        "id": "-0xdHe-V6phF",
        "outputId": "3e37e18e-0ba9-4fc0-e7b1-dbd27df27817"
      },
      "source": [
        "tips.pivot_table(index='sex', values='total_bill', aggfunc='mean')"
      ],
      "execution_count": 31,
      "outputs": [
        {
          "output_type": "execute_result",
          "data": {
            "text/html": [
              "<div>\n",
              "<style scoped>\n",
              "    .dataframe tbody tr th:only-of-type {\n",
              "        vertical-align: middle;\n",
              "    }\n",
              "\n",
              "    .dataframe tbody tr th {\n",
              "        vertical-align: top;\n",
              "    }\n",
              "\n",
              "    .dataframe thead th {\n",
              "        text-align: right;\n",
              "    }\n",
              "</style>\n",
              "<table border=\"1\" class=\"dataframe\">\n",
              "  <thead>\n",
              "    <tr style=\"text-align: right;\">\n",
              "      <th></th>\n",
              "      <th>total_bill</th>\n",
              "    </tr>\n",
              "    <tr>\n",
              "      <th>sex</th>\n",
              "      <th></th>\n",
              "    </tr>\n",
              "  </thead>\n",
              "  <tbody>\n",
              "    <tr>\n",
              "      <th>Male</th>\n",
              "      <td>20.744076</td>\n",
              "    </tr>\n",
              "    <tr>\n",
              "      <th>Female</th>\n",
              "      <td>18.056897</td>\n",
              "    </tr>\n",
              "  </tbody>\n",
              "</table>\n",
              "</div>"
            ],
            "text/plain": [
              "        total_bill\n",
              "sex               \n",
              "Male     20.744076\n",
              "Female   18.056897"
            ]
          },
          "metadata": {
            "tags": []
          },
          "execution_count": 31
        }
      ]
    },
    {
      "cell_type": "code",
      "metadata": {
        "colab": {
          "base_uri": "https://localhost:8080/",
          "height": 181
        },
        "id": "KCCbMHJL42L_",
        "outputId": "2f5a4fdf-4317-4493-8ef8-82a1a1994eb4"
      },
      "source": [
        "groupby_mean(df=tips, by='day', value='tip')"
      ],
      "execution_count": 32,
      "outputs": [
        {
          "output_type": "execute_result",
          "data": {
            "text/html": [
              "<div>\n",
              "<style scoped>\n",
              "    .dataframe tbody tr th:only-of-type {\n",
              "        vertical-align: middle;\n",
              "    }\n",
              "\n",
              "    .dataframe tbody tr th {\n",
              "        vertical-align: top;\n",
              "    }\n",
              "\n",
              "    .dataframe thead th {\n",
              "        text-align: right;\n",
              "    }\n",
              "</style>\n",
              "<table border=\"1\" class=\"dataframe\">\n",
              "  <thead>\n",
              "    <tr style=\"text-align: right;\">\n",
              "      <th></th>\n",
              "      <th>tip</th>\n",
              "    </tr>\n",
              "  </thead>\n",
              "  <tbody>\n",
              "    <tr>\n",
              "      <th>Sun</th>\n",
              "      <td>3.255132</td>\n",
              "    </tr>\n",
              "    <tr>\n",
              "      <th>Sat</th>\n",
              "      <td>2.993103</td>\n",
              "    </tr>\n",
              "    <tr>\n",
              "      <th>Thur</th>\n",
              "      <td>2.771452</td>\n",
              "    </tr>\n",
              "    <tr>\n",
              "      <th>Fri</th>\n",
              "      <td>2.734737</td>\n",
              "    </tr>\n",
              "  </tbody>\n",
              "</table>\n",
              "</div>"
            ],
            "text/plain": [
              "           tip\n",
              "Sun   3.255132\n",
              "Sat   2.993103\n",
              "Thur  2.771452\n",
              "Fri   2.734737"
            ]
          },
          "metadata": {
            "tags": []
          },
          "execution_count": 32
        }
      ]
    },
    {
      "cell_type": "code",
      "metadata": {
        "colab": {
          "base_uri": "https://localhost:8080/"
        },
        "id": "_RbD8wen48N8",
        "outputId": "316c4d26-c60b-4e67-ad6b-ab106e0df992"
      },
      "source": [
        "tips[tips['day'] == 'Thur']['tip'].mean()"
      ],
      "execution_count": 26,
      "outputs": [
        {
          "output_type": "execute_result",
          "data": {
            "text/plain": [
              "2.771451612903226"
            ]
          },
          "metadata": {
            "tags": []
          },
          "execution_count": 26
        }
      ]
    },
    {
      "cell_type": "code",
      "metadata": {
        "colab": {
          "base_uri": "https://localhost:8080/",
          "height": 214
        },
        "id": "9pNVODjQ5FZk",
        "outputId": "16b8b9d0-dbbe-46c3-8514-66d7c3d88275"
      },
      "source": [
        "tips.pivot_table(index='day', values='tip', aggfunc='mean')"
      ],
      "execution_count": 33,
      "outputs": [
        {
          "output_type": "execute_result",
          "data": {
            "text/html": [
              "<div>\n",
              "<style scoped>\n",
              "    .dataframe tbody tr th:only-of-type {\n",
              "        vertical-align: middle;\n",
              "    }\n",
              "\n",
              "    .dataframe tbody tr th {\n",
              "        vertical-align: top;\n",
              "    }\n",
              "\n",
              "    .dataframe thead th {\n",
              "        text-align: right;\n",
              "    }\n",
              "</style>\n",
              "<table border=\"1\" class=\"dataframe\">\n",
              "  <thead>\n",
              "    <tr style=\"text-align: right;\">\n",
              "      <th></th>\n",
              "      <th>tip</th>\n",
              "    </tr>\n",
              "    <tr>\n",
              "      <th>day</th>\n",
              "      <th></th>\n",
              "    </tr>\n",
              "  </thead>\n",
              "  <tbody>\n",
              "    <tr>\n",
              "      <th>Thur</th>\n",
              "      <td>2.771452</td>\n",
              "    </tr>\n",
              "    <tr>\n",
              "      <th>Fri</th>\n",
              "      <td>2.734737</td>\n",
              "    </tr>\n",
              "    <tr>\n",
              "      <th>Sat</th>\n",
              "      <td>2.993103</td>\n",
              "    </tr>\n",
              "    <tr>\n",
              "      <th>Sun</th>\n",
              "      <td>3.255132</td>\n",
              "    </tr>\n",
              "  </tbody>\n",
              "</table>\n",
              "</div>"
            ],
            "text/plain": [
              "           tip\n",
              "day           \n",
              "Thur  2.771452\n",
              "Fri   2.734737\n",
              "Sat   2.993103\n",
              "Sun   3.255132"
            ]
          },
          "metadata": {
            "tags": []
          },
          "execution_count": 33
        }
      ]
    },
    {
      "cell_type": "markdown",
      "metadata": {
        "id": "c-bxm7QY7shL"
      },
      "source": [
        "\r\n",
        "`pd.DataFrame.groupby()` 메서드\r\n"
      ]
    },
    {
      "cell_type": "code",
      "metadata": {
        "colab": {
          "base_uri": "https://localhost:8080/"
        },
        "id": "f05FgPwo7KaT",
        "outputId": "16d0bd44-9744-4dae-efce-f6cf5893cf55"
      },
      "source": [
        "grouped = tips.groupby(by='sex')\r\n",
        "grouped"
      ],
      "execution_count": 34,
      "outputs": [
        {
          "output_type": "execute_result",
          "data": {
            "text/plain": [
              "<pandas.core.groupby.generic.DataFrameGroupBy object at 0x7f25cc2b7390>"
            ]
          },
          "metadata": {
            "tags": []
          },
          "execution_count": 34
        }
      ]
    },
    {
      "cell_type": "code",
      "metadata": {
        "colab": {
          "base_uri": "https://localhost:8080/"
        },
        "id": "ai0r54Iw773D",
        "outputId": "d8df2dcc-297c-4971-b267-2704c7e4e28b"
      },
      "source": [
        "for cls, subset in grouped:\r\n",
        "    print('Class:', cls)\r\n",
        "    print(subset)\r\n",
        "    print('-' * 50, '\\n')"
      ],
      "execution_count": 37,
      "outputs": [
        {
          "output_type": "stream",
          "text": [
            "Class: Male\n",
            "     total_bill   tip   sex smoker  day    time  size\n",
            "1         10.34  1.66  Male     No  Sun  Dinner     3\n",
            "2         21.01  3.50  Male     No  Sun  Dinner     3\n",
            "3         23.68  3.31  Male     No  Sun  Dinner     2\n",
            "5         25.29  4.71  Male     No  Sun  Dinner     4\n",
            "6          8.77  2.00  Male     No  Sun  Dinner     2\n",
            "..          ...   ...   ...    ...  ...     ...   ...\n",
            "236       12.60  1.00  Male    Yes  Sat  Dinner     2\n",
            "237       32.83  1.17  Male    Yes  Sat  Dinner     2\n",
            "239       29.03  5.92  Male     No  Sat  Dinner     3\n",
            "241       22.67  2.00  Male    Yes  Sat  Dinner     2\n",
            "242       17.82  1.75  Male     No  Sat  Dinner     2\n",
            "\n",
            "[157 rows x 7 columns]\n",
            "-------------------------------------------------- \n",
            "\n",
            "Class: Female\n",
            "     total_bill   tip     sex smoker   day    time  size\n",
            "0         16.99  1.01  Female     No   Sun  Dinner     2\n",
            "4         24.59  3.61  Female     No   Sun  Dinner     4\n",
            "11        35.26  5.00  Female     No   Sun  Dinner     4\n",
            "14        14.83  3.02  Female     No   Sun  Dinner     2\n",
            "16        10.33  1.67  Female     No   Sun  Dinner     3\n",
            "..          ...   ...     ...    ...   ...     ...   ...\n",
            "226       10.09  2.00  Female    Yes   Fri   Lunch     2\n",
            "229       22.12  2.88  Female    Yes   Sat  Dinner     2\n",
            "238       35.83  4.67  Female     No   Sat  Dinner     3\n",
            "240       27.18  2.00  Female    Yes   Sat  Dinner     2\n",
            "243       18.78  3.00  Female     No  Thur  Dinner     2\n",
            "\n",
            "[87 rows x 7 columns]\n",
            "-------------------------------------------------- \n",
            "\n"
          ],
          "name": "stdout"
        }
      ]
    },
    {
      "cell_type": "code",
      "metadata": {
        "colab": {
          "base_uri": "https://localhost:8080/"
        },
        "id": "1m_Q3FJO9S_j",
        "outputId": "f9c9b8d3-0975-4a19-dd71-232e82af5f21"
      },
      "source": [
        "grouped = tips.groupby(by='day')\r\n",
        "for cls, subset in grouped:\r\n",
        "    print(cls)\r\n",
        "    print(subset)\r\n",
        "    print('-' * 50, '\\n')"
      ],
      "execution_count": 38,
      "outputs": [
        {
          "output_type": "stream",
          "text": [
            "Thur\n",
            "     total_bill   tip     sex smoker   day    time  size\n",
            "77        27.20  4.00    Male     No  Thur   Lunch     4\n",
            "78        22.76  3.00    Male     No  Thur   Lunch     2\n",
            "79        17.29  2.71    Male     No  Thur   Lunch     2\n",
            "80        19.44  3.00    Male    Yes  Thur   Lunch     2\n",
            "81        16.66  3.40    Male     No  Thur   Lunch     2\n",
            "..          ...   ...     ...    ...   ...     ...   ...\n",
            "202       13.00  2.00  Female    Yes  Thur   Lunch     2\n",
            "203       16.40  2.50  Female    Yes  Thur   Lunch     2\n",
            "204       20.53  4.00    Male    Yes  Thur   Lunch     4\n",
            "205       16.47  3.23  Female    Yes  Thur   Lunch     3\n",
            "243       18.78  3.00  Female     No  Thur  Dinner     2\n",
            "\n",
            "[62 rows x 7 columns]\n",
            "-------------------------------------------------- \n",
            "\n",
            "Fri\n",
            "     total_bill   tip     sex smoker  day    time  size\n",
            "90        28.97  3.00    Male    Yes  Fri  Dinner     2\n",
            "91        22.49  3.50    Male     No  Fri  Dinner     2\n",
            "92         5.75  1.00  Female    Yes  Fri  Dinner     2\n",
            "93        16.32  4.30  Female    Yes  Fri  Dinner     2\n",
            "94        22.75  3.25  Female     No  Fri  Dinner     2\n",
            "95        40.17  4.73    Male    Yes  Fri  Dinner     4\n",
            "96        27.28  4.00    Male    Yes  Fri  Dinner     2\n",
            "97        12.03  1.50    Male    Yes  Fri  Dinner     2\n",
            "98        21.01  3.00    Male    Yes  Fri  Dinner     2\n",
            "99        12.46  1.50    Male     No  Fri  Dinner     2\n",
            "100       11.35  2.50  Female    Yes  Fri  Dinner     2\n",
            "101       15.38  3.00  Female    Yes  Fri  Dinner     2\n",
            "220       12.16  2.20    Male    Yes  Fri   Lunch     2\n",
            "221       13.42  3.48  Female    Yes  Fri   Lunch     2\n",
            "222        8.58  1.92    Male    Yes  Fri   Lunch     1\n",
            "223       15.98  3.00  Female     No  Fri   Lunch     3\n",
            "224       13.42  1.58    Male    Yes  Fri   Lunch     2\n",
            "225       16.27  2.50  Female    Yes  Fri   Lunch     2\n",
            "226       10.09  2.00  Female    Yes  Fri   Lunch     2\n",
            "-------------------------------------------------- \n",
            "\n",
            "Sat\n",
            "     total_bill   tip     sex smoker  day    time  size\n",
            "19        20.65  3.35    Male     No  Sat  Dinner     3\n",
            "20        17.92  4.08    Male     No  Sat  Dinner     2\n",
            "21        20.29  2.75  Female     No  Sat  Dinner     2\n",
            "22        15.77  2.23  Female     No  Sat  Dinner     2\n",
            "23        39.42  7.58    Male     No  Sat  Dinner     4\n",
            "..          ...   ...     ...    ...  ...     ...   ...\n",
            "238       35.83  4.67  Female     No  Sat  Dinner     3\n",
            "239       29.03  5.92    Male     No  Sat  Dinner     3\n",
            "240       27.18  2.00  Female    Yes  Sat  Dinner     2\n",
            "241       22.67  2.00    Male    Yes  Sat  Dinner     2\n",
            "242       17.82  1.75    Male     No  Sat  Dinner     2\n",
            "\n",
            "[87 rows x 7 columns]\n",
            "-------------------------------------------------- \n",
            "\n",
            "Sun\n",
            "     total_bill   tip     sex smoker  day    time  size\n",
            "0         16.99  1.01  Female     No  Sun  Dinner     2\n",
            "1         10.34  1.66    Male     No  Sun  Dinner     3\n",
            "2         21.01  3.50    Male     No  Sun  Dinner     3\n",
            "3         23.68  3.31    Male     No  Sun  Dinner     2\n",
            "4         24.59  3.61  Female     No  Sun  Dinner     4\n",
            "..          ...   ...     ...    ...  ...     ...   ...\n",
            "186       20.90  3.50  Female    Yes  Sun  Dinner     3\n",
            "187       30.46  2.00    Male    Yes  Sun  Dinner     5\n",
            "188       18.15  3.50  Female    Yes  Sun  Dinner     3\n",
            "189       23.10  4.00    Male    Yes  Sun  Dinner     3\n",
            "190       15.69  1.50    Male    Yes  Sun  Dinner     2\n",
            "\n",
            "[76 rows x 7 columns]\n",
            "-------------------------------------------------- \n",
            "\n"
          ],
          "name": "stdout"
        }
      ]
    },
    {
      "cell_type": "code",
      "metadata": {
        "colab": {
          "base_uri": "https://localhost:8080/"
        },
        "id": "hjGbzSb39yhq",
        "outputId": "f891d79a-3d1f-47c3-bf98-73fb58d2fc9a"
      },
      "source": [
        "# 성별 tip의 평균\r\n",
        "tips.groupby(by='sex')['tip'].mean()  #> Series: shape(2,)"
      ],
      "execution_count": 39,
      "outputs": [
        {
          "output_type": "execute_result",
          "data": {
            "text/plain": [
              "sex\n",
              "Male      3.089618\n",
              "Female    2.833448\n",
              "Name: tip, dtype: float64"
            ]
          },
          "metadata": {
            "tags": []
          },
          "execution_count": 39
        }
      ]
    },
    {
      "cell_type": "code",
      "metadata": {
        "colab": {
          "base_uri": "https://localhost:8080/",
          "height": 149
        },
        "id": "IANZPW1V-Pnr",
        "outputId": "30fbdc34-700c-4dae-b94f-503624628c67"
      },
      "source": [
        "tips.groupby(by='sex')[['tip']].mean()  #> DataFrame: shape(2, 1)"
      ],
      "execution_count": 40,
      "outputs": [
        {
          "output_type": "execute_result",
          "data": {
            "text/html": [
              "<div>\n",
              "<style scoped>\n",
              "    .dataframe tbody tr th:only-of-type {\n",
              "        vertical-align: middle;\n",
              "    }\n",
              "\n",
              "    .dataframe tbody tr th {\n",
              "        vertical-align: top;\n",
              "    }\n",
              "\n",
              "    .dataframe thead th {\n",
              "        text-align: right;\n",
              "    }\n",
              "</style>\n",
              "<table border=\"1\" class=\"dataframe\">\n",
              "  <thead>\n",
              "    <tr style=\"text-align: right;\">\n",
              "      <th></th>\n",
              "      <th>tip</th>\n",
              "    </tr>\n",
              "    <tr>\n",
              "      <th>sex</th>\n",
              "      <th></th>\n",
              "    </tr>\n",
              "  </thead>\n",
              "  <tbody>\n",
              "    <tr>\n",
              "      <th>Male</th>\n",
              "      <td>3.089618</td>\n",
              "    </tr>\n",
              "    <tr>\n",
              "      <th>Female</th>\n",
              "      <td>2.833448</td>\n",
              "    </tr>\n",
              "  </tbody>\n",
              "</table>\n",
              "</div>"
            ],
            "text/plain": [
              "             tip\n",
              "sex             \n",
              "Male    3.089618\n",
              "Female  2.833448"
            ]
          },
          "metadata": {
            "tags": []
          },
          "execution_count": 40
        }
      ]
    },
    {
      "cell_type": "markdown",
      "metadata": {
        "id": "xEG_pJ73DkqJ"
      },
      "source": [
        "*   성별 total_bill과 tip의 중앙값"
      ]
    },
    {
      "cell_type": "code",
      "metadata": {
        "colab": {
          "base_uri": "https://localhost:8080/",
          "height": 149
        },
        "id": "QW2oHzrlA1qh",
        "outputId": "116ac1ba-07bb-484d-b175-d445d576aa92"
      },
      "source": [
        "# groupby() 메서드\r\n",
        "g = tips.groupby(by='sex')[['total_bill', 'tip']].median()\r\n",
        "g"
      ],
      "execution_count": 44,
      "outputs": [
        {
          "output_type": "execute_result",
          "data": {
            "text/html": [
              "<div>\n",
              "<style scoped>\n",
              "    .dataframe tbody tr th:only-of-type {\n",
              "        vertical-align: middle;\n",
              "    }\n",
              "\n",
              "    .dataframe tbody tr th {\n",
              "        vertical-align: top;\n",
              "    }\n",
              "\n",
              "    .dataframe thead th {\n",
              "        text-align: right;\n",
              "    }\n",
              "</style>\n",
              "<table border=\"1\" class=\"dataframe\">\n",
              "  <thead>\n",
              "    <tr style=\"text-align: right;\">\n",
              "      <th></th>\n",
              "      <th>total_bill</th>\n",
              "      <th>tip</th>\n",
              "    </tr>\n",
              "    <tr>\n",
              "      <th>sex</th>\n",
              "      <th></th>\n",
              "      <th></th>\n",
              "    </tr>\n",
              "  </thead>\n",
              "  <tbody>\n",
              "    <tr>\n",
              "      <th>Male</th>\n",
              "      <td>18.35</td>\n",
              "      <td>3.00</td>\n",
              "    </tr>\n",
              "    <tr>\n",
              "      <th>Female</th>\n",
              "      <td>16.40</td>\n",
              "      <td>2.75</td>\n",
              "    </tr>\n",
              "  </tbody>\n",
              "</table>\n",
              "</div>"
            ],
            "text/plain": [
              "        total_bill   tip\n",
              "sex                     \n",
              "Male         18.35  3.00\n",
              "Female       16.40  2.75"
            ]
          },
          "metadata": {
            "tags": []
          },
          "execution_count": 44
        }
      ]
    },
    {
      "cell_type": "code",
      "metadata": {
        "colab": {
          "base_uri": "https://localhost:8080/",
          "height": 149
        },
        "id": "sfbPBa-0DZWi",
        "outputId": "b93ed522-108a-494b-b4c8-b6803d07981d"
      },
      "source": [
        "# pivot_table() 메서드\r\n",
        "p = tips.pivot_table(index='sex', values=['total_bill', 'tip'], aggfunc='median')\r\n",
        "p"
      ],
      "execution_count": 47,
      "outputs": [
        {
          "output_type": "execute_result",
          "data": {
            "text/html": [
              "<div>\n",
              "<style scoped>\n",
              "    .dataframe tbody tr th:only-of-type {\n",
              "        vertical-align: middle;\n",
              "    }\n",
              "\n",
              "    .dataframe tbody tr th {\n",
              "        vertical-align: top;\n",
              "    }\n",
              "\n",
              "    .dataframe thead th {\n",
              "        text-align: right;\n",
              "    }\n",
              "</style>\n",
              "<table border=\"1\" class=\"dataframe\">\n",
              "  <thead>\n",
              "    <tr style=\"text-align: right;\">\n",
              "      <th></th>\n",
              "      <th>tip</th>\n",
              "      <th>total_bill</th>\n",
              "    </tr>\n",
              "    <tr>\n",
              "      <th>sex</th>\n",
              "      <th></th>\n",
              "      <th></th>\n",
              "    </tr>\n",
              "  </thead>\n",
              "  <tbody>\n",
              "    <tr>\n",
              "      <th>Male</th>\n",
              "      <td>3.00</td>\n",
              "      <td>18.35</td>\n",
              "    </tr>\n",
              "    <tr>\n",
              "      <th>Female</th>\n",
              "      <td>2.75</td>\n",
              "      <td>16.40</td>\n",
              "    </tr>\n",
              "  </tbody>\n",
              "</table>\n",
              "</div>"
            ],
            "text/plain": [
              "         tip  total_bill\n",
              "sex                     \n",
              "Male    3.00       18.35\n",
              "Female  2.75       16.40"
            ]
          },
          "metadata": {
            "tags": []
          },
          "execution_count": 47
        }
      ]
    },
    {
      "cell_type": "code",
      "metadata": {
        "colab": {
          "base_uri": "https://localhost:8080/",
          "height": 281
        },
        "id": "jn6h8PiMGUpA",
        "outputId": "c65952f1-67c6-4367-b07f-164d01379502"
      },
      "source": [
        "fig, axes = plt.subplots(nrows=1, ncols=2)\r\n",
        "\r\n",
        "axes[0].bar(x=g.index, height=g['total_bill'])\r\n",
        "axes[0].set_title('Total bill')\r\n",
        "\r\n",
        "axes[1].bar(x=g.index, height=g['tip'])\r\n",
        "axes[1].set_title('Tip')\r\n",
        "\r\n",
        "plt.show()"
      ],
      "execution_count": 51,
      "outputs": [
        {
          "output_type": "display_data",
          "data": {
            "image/png": "[encoded data removed]",
            "text/plain": [
              "<Figure size 432x288 with 2 Axes>"
            ]
          },
          "metadata": {
            "tags": [],
            "needs_background": "light"
          }
        }
      ]
    },
    {
      "cell_type": "markdown",
      "metadata": {
        "id": "lqp7_mNADsRI"
      },
      "source": [
        "*   성별, 흡연여부별 tip의 평균"
      ]
    },
    {
      "cell_type": "code",
      "metadata": {
        "colab": {
          "base_uri": "https://localhost:8080/",
          "height": 214
        },
        "id": "O9TK-9FrDxGo",
        "outputId": "0093f797-64e6-4049-a28f-7a4d1f6b6a97"
      },
      "source": [
        "g = tips.groupby(by=['sex', 'smoker'])[['tip']].mean()\r\n",
        "g"
      ],
      "execution_count": 52,
      "outputs": [
        {
          "output_type": "execute_result",
          "data": {
            "text/html": [
              "<div>\n",
              "<style scoped>\n",
              "    .dataframe tbody tr th:only-of-type {\n",
              "        vertical-align: middle;\n",
              "    }\n",
              "\n",
              "    .dataframe tbody tr th {\n",
              "        vertical-align: top;\n",
              "    }\n",
              "\n",
              "    .dataframe thead th {\n",
              "        text-align: right;\n",
              "    }\n",
              "</style>\n",
              "<table border=\"1\" class=\"dataframe\">\n",
              "  <thead>\n",
              "    <tr style=\"text-align: right;\">\n",
              "      <th></th>\n",
              "      <th></th>\n",
              "      <th>tip</th>\n",
              "    </tr>\n",
              "    <tr>\n",
              "      <th>sex</th>\n",
              "      <th>smoker</th>\n",
              "      <th></th>\n",
              "    </tr>\n",
              "  </thead>\n",
              "  <tbody>\n",
              "    <tr>\n",
              "      <th rowspan=\"2\" valign=\"top\">Male</th>\n",
              "      <th>Yes</th>\n",
              "      <td>3.051167</td>\n",
              "    </tr>\n",
              "    <tr>\n",
              "      <th>No</th>\n",
              "      <td>3.113402</td>\n",
              "    </tr>\n",
              "    <tr>\n",
              "      <th rowspan=\"2\" valign=\"top\">Female</th>\n",
              "      <th>Yes</th>\n",
              "      <td>2.931515</td>\n",
              "    </tr>\n",
              "    <tr>\n",
              "      <th>No</th>\n",
              "      <td>2.773519</td>\n",
              "    </tr>\n",
              "  </tbody>\n",
              "</table>\n",
              "</div>"
            ],
            "text/plain": [
              "                    tip\n",
              "sex    smoker          \n",
              "Male   Yes     3.051167\n",
              "       No      3.113402\n",
              "Female Yes     2.931515\n",
              "       No      2.773519"
            ]
          },
          "metadata": {
            "tags": []
          },
          "execution_count": 52
        }
      ]
    },
    {
      "cell_type": "code",
      "metadata": {
        "colab": {
          "base_uri": "https://localhost:8080/",
          "height": 181
        },
        "id": "T7w8cOuTJUNH",
        "outputId": "eaa946fa-d131-42ec-d718-339b5b06c7e2"
      },
      "source": [
        "df = g.unstack()  # unstack() 메서드: multi-index를 column으로 변환.\r\n",
        "df"
      ],
      "execution_count": 64,
      "outputs": [
        {
          "output_type": "execute_result",
          "data": {
            "text/html": [
              "<div>\n",
              "<style scoped>\n",
              "    .dataframe tbody tr th:only-of-type {\n",
              "        vertical-align: middle;\n",
              "    }\n",
              "\n",
              "    .dataframe tbody tr th {\n",
              "        vertical-align: top;\n",
              "    }\n",
              "\n",
              "    .dataframe thead tr th {\n",
              "        text-align: left;\n",
              "    }\n",
              "\n",
              "    .dataframe thead tr:last-of-type th {\n",
              "        text-align: right;\n",
              "    }\n",
              "</style>\n",
              "<table border=\"1\" class=\"dataframe\">\n",
              "  <thead>\n",
              "    <tr>\n",
              "      <th></th>\n",
              "      <th colspan=\"2\" halign=\"left\">tip</th>\n",
              "    </tr>\n",
              "    <tr>\n",
              "      <th>smoker</th>\n",
              "      <th>Yes</th>\n",
              "      <th>No</th>\n",
              "    </tr>\n",
              "    <tr>\n",
              "      <th>sex</th>\n",
              "      <th></th>\n",
              "      <th></th>\n",
              "    </tr>\n",
              "  </thead>\n",
              "  <tbody>\n",
              "    <tr>\n",
              "      <th>Male</th>\n",
              "      <td>3.051167</td>\n",
              "      <td>3.113402</td>\n",
              "    </tr>\n",
              "    <tr>\n",
              "      <th>Female</th>\n",
              "      <td>2.931515</td>\n",
              "      <td>2.773519</td>\n",
              "    </tr>\n",
              "  </tbody>\n",
              "</table>\n",
              "</div>"
            ],
            "text/plain": [
              "             tip          \n",
              "smoker       Yes        No\n",
              "sex                       \n",
              "Male    3.051167  3.113402\n",
              "Female  2.931515  2.773519"
            ]
          },
          "metadata": {
            "tags": []
          },
          "execution_count": 64
        }
      ]
    },
    {
      "cell_type": "code",
      "metadata": {
        "colab": {
          "base_uri": "https://localhost:8080/",
          "height": 281
        },
        "id": "3lRvMZE6LfAA",
        "outputId": "28b4398f-4c99-4dac-b33c-38dc228c97e7"
      },
      "source": [
        "fig, axes = plt.subplots(nrows=1, ncols=2)\r\n",
        "\r\n",
        "axes[0].bar(x=df.index, height=df[('tip', 'Yes')])\r\n",
        "axes[0].set_title('Smoker=Yes')\r\n",
        "\r\n",
        "axes[1].bar(x=df.index, height=df[('tip', 'No')])\r\n",
        "axes[1].set_title('Smoker=No')\r\n",
        "\r\n",
        "plt.show()"
      ],
      "execution_count": 66,
      "outputs": [
        {
          "output_type": "display_data",
          "data": {
            "image/png": "[encoded data removed]",
            "text/plain": [
              "<Figure size 432x288 with 2 Axes>"
            ]
          },
          "metadata": {
            "tags": [],
            "needs_background": "light"
          }
        }
      ]
    },
    {
      "cell_type": "code",
      "metadata": {
        "colab": {
          "base_uri": "https://localhost:8080/"
        },
        "id": "KvYJq9XJKM8R",
        "outputId": "70a42200-d5b6-4577-f743-f35bfdbe9c81"
      },
      "source": [
        "g.unstack()[('tip', 'No')]"
      ],
      "execution_count": 59,
      "outputs": [
        {
          "output_type": "execute_result",
          "data": {
            "text/plain": [
              "sex\n",
              "Male      3.113402\n",
              "Female    2.773519\n",
              "Name: (tip, No), dtype: float64"
            ]
          },
          "metadata": {
            "tags": []
          },
          "execution_count": 59
        }
      ]
    },
    {
      "cell_type": "code",
      "metadata": {
        "colab": {
          "base_uri": "https://localhost:8080/",
          "height": 214
        },
        "id": "-kyGA2M2Dxet",
        "outputId": "f02176c7-ef17-400d-c380-72dca2717a1f"
      },
      "source": [
        "tips.pivot_table(index=['sex', 'smoker'], values='tip')"
      ],
      "execution_count": 54,
      "outputs": [
        {
          "output_type": "execute_result",
          "data": {
            "text/html": [
              "<div>\n",
              "<style scoped>\n",
              "    .dataframe tbody tr th:only-of-type {\n",
              "        vertical-align: middle;\n",
              "    }\n",
              "\n",
              "    .dataframe tbody tr th {\n",
              "        vertical-align: top;\n",
              "    }\n",
              "\n",
              "    .dataframe thead th {\n",
              "        text-align: right;\n",
              "    }\n",
              "</style>\n",
              "<table border=\"1\" class=\"dataframe\">\n",
              "  <thead>\n",
              "    <tr style=\"text-align: right;\">\n",
              "      <th></th>\n",
              "      <th></th>\n",
              "      <th>tip</th>\n",
              "    </tr>\n",
              "    <tr>\n",
              "      <th>sex</th>\n",
              "      <th>smoker</th>\n",
              "      <th></th>\n",
              "    </tr>\n",
              "  </thead>\n",
              "  <tbody>\n",
              "    <tr>\n",
              "      <th rowspan=\"2\" valign=\"top\">Male</th>\n",
              "      <th>Yes</th>\n",
              "      <td>3.051167</td>\n",
              "    </tr>\n",
              "    <tr>\n",
              "      <th>No</th>\n",
              "      <td>3.113402</td>\n",
              "    </tr>\n",
              "    <tr>\n",
              "      <th rowspan=\"2\" valign=\"top\">Female</th>\n",
              "      <th>Yes</th>\n",
              "      <td>2.931515</td>\n",
              "    </tr>\n",
              "    <tr>\n",
              "      <th>No</th>\n",
              "      <td>2.773519</td>\n",
              "    </tr>\n",
              "  </tbody>\n",
              "</table>\n",
              "</div>"
            ],
            "text/plain": [
              "                    tip\n",
              "sex    smoker          \n",
              "Male   Yes     3.051167\n",
              "       No      3.113402\n",
              "Female Yes     2.931515\n",
              "       No      2.773519"
            ]
          },
          "metadata": {
            "tags": []
          },
          "execution_count": 54
        }
      ]
    },
    {
      "cell_type": "code",
      "metadata": {
        "colab": {
          "base_uri": "https://localhost:8080/",
          "height": 149
        },
        "id": "J20oiJMDIyxZ",
        "outputId": "9f99d5dd-9c7f-403b-a950-6f9a4b4a857b"
      },
      "source": [
        "tips.pivot_table(index='sex', columns='smoker', values='tip')"
      ],
      "execution_count": 55,
      "outputs": [
        {
          "output_type": "execute_result",
          "data": {
            "text/html": [
              "<div>\n",
              "<style scoped>\n",
              "    .dataframe tbody tr th:only-of-type {\n",
              "        vertical-align: middle;\n",
              "    }\n",
              "\n",
              "    .dataframe tbody tr th {\n",
              "        vertical-align: top;\n",
              "    }\n",
              "\n",
              "    .dataframe thead th {\n",
              "        text-align: right;\n",
              "    }\n",
              "</style>\n",
              "<table border=\"1\" class=\"dataframe\">\n",
              "  <thead>\n",
              "    <tr style=\"text-align: right;\">\n",
              "      <th>smoker</th>\n",
              "      <th>Yes</th>\n",
              "      <th>No</th>\n",
              "    </tr>\n",
              "    <tr>\n",
              "      <th>sex</th>\n",
              "      <th></th>\n",
              "      <th></th>\n",
              "    </tr>\n",
              "  </thead>\n",
              "  <tbody>\n",
              "    <tr>\n",
              "      <th>Male</th>\n",
              "      <td>3.051167</td>\n",
              "      <td>3.113402</td>\n",
              "    </tr>\n",
              "    <tr>\n",
              "      <th>Female</th>\n",
              "      <td>2.931515</td>\n",
              "      <td>2.773519</td>\n",
              "    </tr>\n",
              "  </tbody>\n",
              "</table>\n",
              "</div>"
            ],
            "text/plain": [
              "smoker       Yes        No\n",
              "sex                       \n",
              "Male    3.051167  3.113402\n",
              "Female  2.931515  2.773519"
            ]
          },
          "metadata": {
            "tags": []
          },
          "execution_count": 55
        }
      ]
    },
    {
      "cell_type": "code",
      "metadata": {
        "colab": {
          "base_uri": "https://localhost:8080/",
          "height": 383
        },
        "id": "Nirz_PVLKcGY",
        "outputId": "b22a722b-2d21-49f0-a4dd-4bcc7e26d8d4"
      },
      "source": [
        "sns.catplot(data=tips, x='sex', y='tip', col='smoker', kind='bar')\r\n",
        "plt.show()"
      ],
      "execution_count": 63,
      "outputs": [
        {
          "output_type": "display_data",
          "data": {
            "image/png": "[encoded data removed]",
            "text/plain": [
              "<Figure size 720x360 with 2 Axes>"
            ]
          },
          "metadata": {
            "tags": [],
            "needs_background": "light"
          }
        }
      ]
    },
    {
      "cell_type": "markdown",
      "metadata": {
        "id": "MxzNWK-XeS1z"
      },
      "source": [
        "*   성별 tip의 최댓값"
      ]
    },
    {
      "cell_type": "code",
      "metadata": {
        "colab": {
          "base_uri": "https://localhost:8080/",
          "height": 149
        },
        "id": "i0cR259IeZfo",
        "outputId": "0297f272-b59e-4e63-8ac9-e2701e29d73c"
      },
      "source": [
        "tips.groupby(by='sex')[['tip']].max()"
      ],
      "execution_count": 67,
      "outputs": [
        {
          "output_type": "execute_result",
          "data": {
            "text/html": [
              "<div>\n",
              "<style scoped>\n",
              "    .dataframe tbody tr th:only-of-type {\n",
              "        vertical-align: middle;\n",
              "    }\n",
              "\n",
              "    .dataframe tbody tr th {\n",
              "        vertical-align: top;\n",
              "    }\n",
              "\n",
              "    .dataframe thead th {\n",
              "        text-align: right;\n",
              "    }\n",
              "</style>\n",
              "<table border=\"1\" class=\"dataframe\">\n",
              "  <thead>\n",
              "    <tr style=\"text-align: right;\">\n",
              "      <th></th>\n",
              "      <th>tip</th>\n",
              "    </tr>\n",
              "    <tr>\n",
              "      <th>sex</th>\n",
              "      <th></th>\n",
              "    </tr>\n",
              "  </thead>\n",
              "  <tbody>\n",
              "    <tr>\n",
              "      <th>Male</th>\n",
              "      <td>10.0</td>\n",
              "    </tr>\n",
              "    <tr>\n",
              "      <th>Female</th>\n",
              "      <td>6.5</td>\n",
              "    </tr>\n",
              "  </tbody>\n",
              "</table>\n",
              "</div>"
            ],
            "text/plain": [
              "         tip\n",
              "sex         \n",
              "Male    10.0\n",
              "Female   6.5"
            ]
          },
          "metadata": {
            "tags": []
          },
          "execution_count": 67
        }
      ]
    },
    {
      "cell_type": "code",
      "metadata": {
        "colab": {
          "base_uri": "https://localhost:8080/",
          "height": 149
        },
        "id": "0JNMX8qiewiC",
        "outputId": "1d33bfae-98e6-4c0e-dc1a-42630f061b4e"
      },
      "source": [
        "tips.pivot_table(values='tip', index='sex', aggfunc='max')"
      ],
      "execution_count": 69,
      "outputs": [
        {
          "output_type": "execute_result",
          "data": {
            "text/html": [
              "<div>\n",
              "<style scoped>\n",
              "    .dataframe tbody tr th:only-of-type {\n",
              "        vertical-align: middle;\n",
              "    }\n",
              "\n",
              "    .dataframe tbody tr th {\n",
              "        vertical-align: top;\n",
              "    }\n",
              "\n",
              "    .dataframe thead th {\n",
              "        text-align: right;\n",
              "    }\n",
              "</style>\n",
              "<table border=\"1\" class=\"dataframe\">\n",
              "  <thead>\n",
              "    <tr style=\"text-align: right;\">\n",
              "      <th></th>\n",
              "      <th>tip</th>\n",
              "    </tr>\n",
              "    <tr>\n",
              "      <th>sex</th>\n",
              "      <th></th>\n",
              "    </tr>\n",
              "  </thead>\n",
              "  <tbody>\n",
              "    <tr>\n",
              "      <th>Male</th>\n",
              "      <td>10.0</td>\n",
              "    </tr>\n",
              "    <tr>\n",
              "      <th>Female</th>\n",
              "      <td>6.5</td>\n",
              "    </tr>\n",
              "  </tbody>\n",
              "</table>\n",
              "</div>"
            ],
            "text/plain": [
              "         tip\n",
              "sex         \n",
              "Male    10.0\n",
              "Female   6.5"
            ]
          },
          "metadata": {
            "tags": []
          },
          "execution_count": 69
        }
      ]
    },
    {
      "cell_type": "markdown",
      "metadata": {
        "id": "CIpa9k8LfDlu"
      },
      "source": [
        "*   성별 tip의 최솟값"
      ]
    },
    {
      "cell_type": "code",
      "metadata": {
        "colab": {
          "base_uri": "https://localhost:8080/",
          "height": 149
        },
        "id": "CHXvd0ehfDSo",
        "outputId": "90779836-bed0-4ec3-bada-552645ecb357"
      },
      "source": [
        "tips.groupby(by='sex')[['tip']].min()"
      ],
      "execution_count": 70,
      "outputs": [
        {
          "output_type": "execute_result",
          "data": {
            "text/html": [
              "<div>\n",
              "<style scoped>\n",
              "    .dataframe tbody tr th:only-of-type {\n",
              "        vertical-align: middle;\n",
              "    }\n",
              "\n",
              "    .dataframe tbody tr th {\n",
              "        vertical-align: top;\n",
              "    }\n",
              "\n",
              "    .dataframe thead th {\n",
              "        text-align: right;\n",
              "    }\n",
              "</style>\n",
              "<table border=\"1\" class=\"dataframe\">\n",
              "  <thead>\n",
              "    <tr style=\"text-align: right;\">\n",
              "      <th></th>\n",
              "      <th>tip</th>\n",
              "    </tr>\n",
              "    <tr>\n",
              "      <th>sex</th>\n",
              "      <th></th>\n",
              "    </tr>\n",
              "  </thead>\n",
              "  <tbody>\n",
              "    <tr>\n",
              "      <th>Male</th>\n",
              "      <td>1.0</td>\n",
              "    </tr>\n",
              "    <tr>\n",
              "      <th>Female</th>\n",
              "      <td>1.0</td>\n",
              "    </tr>\n",
              "  </tbody>\n",
              "</table>\n",
              "</div>"
            ],
            "text/plain": [
              "        tip\n",
              "sex        \n",
              "Male    1.0\n",
              "Female  1.0"
            ]
          },
          "metadata": {
            "tags": []
          },
          "execution_count": 70
        }
      ]
    },
    {
      "cell_type": "code",
      "metadata": {
        "colab": {
          "base_uri": "https://localhost:8080/",
          "height": 181
        },
        "id": "pZH3fIx4fmAw",
        "outputId": "ee7b7143-19aa-42a2-d146-bdb2f9cc3018"
      },
      "source": [
        "tips.pivot_table(values='tip', index='sex', aggfunc=['max', 'min'])"
      ],
      "execution_count": 71,
      "outputs": [
        {
          "output_type": "execute_result",
          "data": {
            "text/html": [
              "<div>\n",
              "<style scoped>\n",
              "    .dataframe tbody tr th:only-of-type {\n",
              "        vertical-align: middle;\n",
              "    }\n",
              "\n",
              "    .dataframe tbody tr th {\n",
              "        vertical-align: top;\n",
              "    }\n",
              "\n",
              "    .dataframe thead tr th {\n",
              "        text-align: left;\n",
              "    }\n",
              "\n",
              "    .dataframe thead tr:last-of-type th {\n",
              "        text-align: right;\n",
              "    }\n",
              "</style>\n",
              "<table border=\"1\" class=\"dataframe\">\n",
              "  <thead>\n",
              "    <tr>\n",
              "      <th></th>\n",
              "      <th>max</th>\n",
              "      <th>min</th>\n",
              "    </tr>\n",
              "    <tr>\n",
              "      <th></th>\n",
              "      <th>tip</th>\n",
              "      <th>tip</th>\n",
              "    </tr>\n",
              "    <tr>\n",
              "      <th>sex</th>\n",
              "      <th></th>\n",
              "      <th></th>\n",
              "    </tr>\n",
              "  </thead>\n",
              "  <tbody>\n",
              "    <tr>\n",
              "      <th>Male</th>\n",
              "      <td>10.0</td>\n",
              "      <td>1.0</td>\n",
              "    </tr>\n",
              "    <tr>\n",
              "      <th>Female</th>\n",
              "      <td>6.5</td>\n",
              "      <td>1.0</td>\n",
              "    </tr>\n",
              "  </tbody>\n",
              "</table>\n",
              "</div>"
            ],
            "text/plain": [
              "         max  min\n",
              "         tip  tip\n",
              "sex              \n",
              "Male    10.0  1.0\n",
              "Female   6.5  1.0"
            ]
          },
          "metadata": {
            "tags": []
          },
          "execution_count": 71
        }
      ]
    },
    {
      "cell_type": "markdown",
      "metadata": {
        "id": "Re_zbUuEgJCx"
      },
      "source": [
        "*   성별 시간별 팁의 중앙값"
      ]
    },
    {
      "cell_type": "code",
      "metadata": {
        "colab": {
          "base_uri": "https://localhost:8080/",
          "height": 214
        },
        "id": "NNc5rYH8gF_w",
        "outputId": "43a149d7-5e1b-41e3-ee34-3a352f44c520"
      },
      "source": [
        "g = tips.groupby(by=['sex', 'time'])[['tip']].median()\r\n",
        "g"
      ],
      "execution_count": 76,
      "outputs": [
        {
          "output_type": "execute_result",
          "data": {
            "text/html": [
              "<div>\n",
              "<style scoped>\n",
              "    .dataframe tbody tr th:only-of-type {\n",
              "        vertical-align: middle;\n",
              "    }\n",
              "\n",
              "    .dataframe tbody tr th {\n",
              "        vertical-align: top;\n",
              "    }\n",
              "\n",
              "    .dataframe thead th {\n",
              "        text-align: right;\n",
              "    }\n",
              "</style>\n",
              "<table border=\"1\" class=\"dataframe\">\n",
              "  <thead>\n",
              "    <tr style=\"text-align: right;\">\n",
              "      <th></th>\n",
              "      <th></th>\n",
              "      <th>tip</th>\n",
              "    </tr>\n",
              "    <tr>\n",
              "      <th>sex</th>\n",
              "      <th>time</th>\n",
              "      <th></th>\n",
              "    </tr>\n",
              "  </thead>\n",
              "  <tbody>\n",
              "    <tr>\n",
              "      <th rowspan=\"2\" valign=\"top\">Male</th>\n",
              "      <th>Lunch</th>\n",
              "      <td>2.31</td>\n",
              "    </tr>\n",
              "    <tr>\n",
              "      <th>Dinner</th>\n",
              "      <td>3.00</td>\n",
              "    </tr>\n",
              "    <tr>\n",
              "      <th rowspan=\"2\" valign=\"top\">Female</th>\n",
              "      <th>Lunch</th>\n",
              "      <td>2.01</td>\n",
              "    </tr>\n",
              "    <tr>\n",
              "      <th>Dinner</th>\n",
              "      <td>3.00</td>\n",
              "    </tr>\n",
              "  </tbody>\n",
              "</table>\n",
              "</div>"
            ],
            "text/plain": [
              "                tip\n",
              "sex    time        \n",
              "Male   Lunch   2.31\n",
              "       Dinner  3.00\n",
              "Female Lunch   2.01\n",
              "       Dinner  3.00"
            ]
          },
          "metadata": {
            "tags": []
          },
          "execution_count": 76
        }
      ]
    },
    {
      "cell_type": "code",
      "metadata": {
        "colab": {
          "base_uri": "https://localhost:8080/",
          "height": 181
        },
        "id": "JszK7nGLi_No",
        "outputId": "3e6400c1-a45f-468c-bc2e-d6222039096d"
      },
      "source": [
        "g.unstack()  # multi-index -> columns"
      ],
      "execution_count": 77,
      "outputs": [
        {
          "output_type": "execute_result",
          "data": {
            "text/html": [
              "<div>\n",
              "<style scoped>\n",
              "    .dataframe tbody tr th:only-of-type {\n",
              "        vertical-align: middle;\n",
              "    }\n",
              "\n",
              "    .dataframe tbody tr th {\n",
              "        vertical-align: top;\n",
              "    }\n",
              "\n",
              "    .dataframe thead tr th {\n",
              "        text-align: left;\n",
              "    }\n",
              "\n",
              "    .dataframe thead tr:last-of-type th {\n",
              "        text-align: right;\n",
              "    }\n",
              "</style>\n",
              "<table border=\"1\" class=\"dataframe\">\n",
              "  <thead>\n",
              "    <tr>\n",
              "      <th></th>\n",
              "      <th colspan=\"2\" halign=\"left\">tip</th>\n",
              "    </tr>\n",
              "    <tr>\n",
              "      <th>time</th>\n",
              "      <th>Lunch</th>\n",
              "      <th>Dinner</th>\n",
              "    </tr>\n",
              "    <tr>\n",
              "      <th>sex</th>\n",
              "      <th></th>\n",
              "      <th></th>\n",
              "    </tr>\n",
              "  </thead>\n",
              "  <tbody>\n",
              "    <tr>\n",
              "      <th>Male</th>\n",
              "      <td>2.31</td>\n",
              "      <td>3.0</td>\n",
              "    </tr>\n",
              "    <tr>\n",
              "      <th>Female</th>\n",
              "      <td>2.01</td>\n",
              "      <td>3.0</td>\n",
              "    </tr>\n",
              "  </tbody>\n",
              "</table>\n",
              "</div>"
            ],
            "text/plain": [
              "         tip       \n",
              "time   Lunch Dinner\n",
              "sex                \n",
              "Male    2.31    3.0\n",
              "Female  2.01    3.0"
            ]
          },
          "metadata": {
            "tags": []
          },
          "execution_count": 77
        }
      ]
    },
    {
      "cell_type": "code",
      "metadata": {
        "colab": {
          "base_uri": "https://localhost:8080/",
          "height": 181
        },
        "id": "VHUv1efgjSrG",
        "outputId": "88d36fb5-edb8-4b76-c568-a521affdbc03"
      },
      "source": [
        "g.unstack(level=0)"
      ],
      "execution_count": 78,
      "outputs": [
        {
          "output_type": "execute_result",
          "data": {
            "text/html": [
              "<div>\n",
              "<style scoped>\n",
              "    .dataframe tbody tr th:only-of-type {\n",
              "        vertical-align: middle;\n",
              "    }\n",
              "\n",
              "    .dataframe tbody tr th {\n",
              "        vertical-align: top;\n",
              "    }\n",
              "\n",
              "    .dataframe thead tr th {\n",
              "        text-align: left;\n",
              "    }\n",
              "\n",
              "    .dataframe thead tr:last-of-type th {\n",
              "        text-align: right;\n",
              "    }\n",
              "</style>\n",
              "<table border=\"1\" class=\"dataframe\">\n",
              "  <thead>\n",
              "    <tr>\n",
              "      <th></th>\n",
              "      <th colspan=\"2\" halign=\"left\">tip</th>\n",
              "    </tr>\n",
              "    <tr>\n",
              "      <th>sex</th>\n",
              "      <th>Male</th>\n",
              "      <th>Female</th>\n",
              "    </tr>\n",
              "    <tr>\n",
              "      <th>time</th>\n",
              "      <th></th>\n",
              "      <th></th>\n",
              "    </tr>\n",
              "  </thead>\n",
              "  <tbody>\n",
              "    <tr>\n",
              "      <th>Lunch</th>\n",
              "      <td>2.31</td>\n",
              "      <td>2.01</td>\n",
              "    </tr>\n",
              "    <tr>\n",
              "      <th>Dinner</th>\n",
              "      <td>3.00</td>\n",
              "      <td>3.00</td>\n",
              "    </tr>\n",
              "  </tbody>\n",
              "</table>\n",
              "</div>"
            ],
            "text/plain": [
              "         tip       \n",
              "sex     Male Female\n",
              "time               \n",
              "Lunch   2.31   2.01\n",
              "Dinner  3.00   3.00"
            ]
          },
          "metadata": {
            "tags": []
          },
          "execution_count": 78
        }
      ]
    },
    {
      "cell_type": "code",
      "metadata": {
        "colab": {
          "base_uri": "https://localhost:8080/",
          "height": 214
        },
        "id": "TlrIdowWibCY",
        "outputId": "0d764e92-2bc8-4151-ea28-fe4b2482ad17"
      },
      "source": [
        "tips.pivot_table(values='tip', index=['sex', 'time'], aggfunc='median')"
      ],
      "execution_count": 73,
      "outputs": [
        {
          "output_type": "execute_result",
          "data": {
            "text/html": [
              "<div>\n",
              "<style scoped>\n",
              "    .dataframe tbody tr th:only-of-type {\n",
              "        vertical-align: middle;\n",
              "    }\n",
              "\n",
              "    .dataframe tbody tr th {\n",
              "        vertical-align: top;\n",
              "    }\n",
              "\n",
              "    .dataframe thead th {\n",
              "        text-align: right;\n",
              "    }\n",
              "</style>\n",
              "<table border=\"1\" class=\"dataframe\">\n",
              "  <thead>\n",
              "    <tr style=\"text-align: right;\">\n",
              "      <th></th>\n",
              "      <th></th>\n",
              "      <th>tip</th>\n",
              "    </tr>\n",
              "    <tr>\n",
              "      <th>sex</th>\n",
              "      <th>time</th>\n",
              "      <th></th>\n",
              "    </tr>\n",
              "  </thead>\n",
              "  <tbody>\n",
              "    <tr>\n",
              "      <th rowspan=\"2\" valign=\"top\">Male</th>\n",
              "      <th>Lunch</th>\n",
              "      <td>2.31</td>\n",
              "    </tr>\n",
              "    <tr>\n",
              "      <th>Dinner</th>\n",
              "      <td>3.00</td>\n",
              "    </tr>\n",
              "    <tr>\n",
              "      <th rowspan=\"2\" valign=\"top\">Female</th>\n",
              "      <th>Lunch</th>\n",
              "      <td>2.01</td>\n",
              "    </tr>\n",
              "    <tr>\n",
              "      <th>Dinner</th>\n",
              "      <td>3.00</td>\n",
              "    </tr>\n",
              "  </tbody>\n",
              "</table>\n",
              "</div>"
            ],
            "text/plain": [
              "                tip\n",
              "sex    time        \n",
              "Male   Lunch   2.31\n",
              "       Dinner  3.00\n",
              "Female Lunch   2.01\n",
              "       Dinner  3.00"
            ]
          },
          "metadata": {
            "tags": []
          },
          "execution_count": 73
        }
      ]
    },
    {
      "cell_type": "code",
      "metadata": {
        "colab": {
          "base_uri": "https://localhost:8080/",
          "height": 149
        },
        "id": "LMAz1ee1ioG2",
        "outputId": "8910d6d6-402e-4bed-8d7a-448301178bb1"
      },
      "source": [
        "tips.pivot_table(values='tip', index='sex', columns='time', aggfunc='median')"
      ],
      "execution_count": 74,
      "outputs": [
        {
          "output_type": "execute_result",
          "data": {
            "text/html": [
              "<div>\n",
              "<style scoped>\n",
              "    .dataframe tbody tr th:only-of-type {\n",
              "        vertical-align: middle;\n",
              "    }\n",
              "\n",
              "    .dataframe tbody tr th {\n",
              "        vertical-align: top;\n",
              "    }\n",
              "\n",
              "    .dataframe thead th {\n",
              "        text-align: right;\n",
              "    }\n",
              "</style>\n",
              "<table border=\"1\" class=\"dataframe\">\n",
              "  <thead>\n",
              "    <tr style=\"text-align: right;\">\n",
              "      <th>time</th>\n",
              "      <th>Lunch</th>\n",
              "      <th>Dinner</th>\n",
              "    </tr>\n",
              "    <tr>\n",
              "      <th>sex</th>\n",
              "      <th></th>\n",
              "      <th></th>\n",
              "    </tr>\n",
              "  </thead>\n",
              "  <tbody>\n",
              "    <tr>\n",
              "      <th>Male</th>\n",
              "      <td>2.31</td>\n",
              "      <td>3.0</td>\n",
              "    </tr>\n",
              "    <tr>\n",
              "      <th>Female</th>\n",
              "      <td>2.01</td>\n",
              "      <td>3.0</td>\n",
              "    </tr>\n",
              "  </tbody>\n",
              "</table>\n",
              "</div>"
            ],
            "text/plain": [
              "time    Lunch  Dinner\n",
              "sex                  \n",
              "Male     2.31     3.0\n",
              "Female   2.01     3.0"
            ]
          },
          "metadata": {
            "tags": []
          },
          "execution_count": 74
        }
      ]
    },
    {
      "cell_type": "markdown",
      "metadata": {
        "id": "_F67CxZ4gOrR"
      },
      "source": [
        "*   성별, 시간별, 요일별 total_bill의 중앙값"
      ]
    },
    {
      "cell_type": "code",
      "metadata": {
        "colab": {
          "base_uri": "https://localhost:8080/",
          "height": 606
        },
        "id": "5SjLzqLngVv3",
        "outputId": "ffe0b72e-8764-47e5-c80f-dec5e42c8c95"
      },
      "source": [
        "g = tips.groupby(by=['sex', 'time', 'day'])[['total_bill']].median()\r\n",
        "g"
      ],
      "execution_count": 80,
      "outputs": [
        {
          "output_type": "execute_result",
          "data": {
            "text/html": [
              "<div>\n",
              "<style scoped>\n",
              "    .dataframe tbody tr th:only-of-type {\n",
              "        vertical-align: middle;\n",
              "    }\n",
              "\n",
              "    .dataframe tbody tr th {\n",
              "        vertical-align: top;\n",
              "    }\n",
              "\n",
              "    .dataframe thead th {\n",
              "        text-align: right;\n",
              "    }\n",
              "</style>\n",
              "<table border=\"1\" class=\"dataframe\">\n",
              "  <thead>\n",
              "    <tr style=\"text-align: right;\">\n",
              "      <th></th>\n",
              "      <th></th>\n",
              "      <th></th>\n",
              "      <th>total_bill</th>\n",
              "    </tr>\n",
              "    <tr>\n",
              "      <th>sex</th>\n",
              "      <th>time</th>\n",
              "      <th>day</th>\n",
              "      <th></th>\n",
              "    </tr>\n",
              "  </thead>\n",
              "  <tbody>\n",
              "    <tr>\n",
              "      <th rowspan=\"8\" valign=\"top\">Male</th>\n",
              "      <th rowspan=\"4\" valign=\"top\">Lunch</th>\n",
              "      <th>Thur</th>\n",
              "      <td>16.975</td>\n",
              "    </tr>\n",
              "    <tr>\n",
              "      <th>Fri</th>\n",
              "      <td>12.160</td>\n",
              "    </tr>\n",
              "    <tr>\n",
              "      <th>Sat</th>\n",
              "      <td>NaN</td>\n",
              "    </tr>\n",
              "    <tr>\n",
              "      <th>Sun</th>\n",
              "      <td>NaN</td>\n",
              "    </tr>\n",
              "    <tr>\n",
              "      <th rowspan=\"4\" valign=\"top\">Dinner</th>\n",
              "      <th>Thur</th>\n",
              "      <td>NaN</td>\n",
              "    </tr>\n",
              "    <tr>\n",
              "      <th>Fri</th>\n",
              "      <td>22.490</td>\n",
              "    </tr>\n",
              "    <tr>\n",
              "      <th>Sat</th>\n",
              "      <td>18.240</td>\n",
              "    </tr>\n",
              "    <tr>\n",
              "      <th>Sun</th>\n",
              "      <td>20.725</td>\n",
              "    </tr>\n",
              "    <tr>\n",
              "      <th rowspan=\"8\" valign=\"top\">Female</th>\n",
              "      <th rowspan=\"4\" valign=\"top\">Lunch</th>\n",
              "      <th>Thur</th>\n",
              "      <td>13.420</td>\n",
              "    </tr>\n",
              "    <tr>\n",
              "      <th>Fri</th>\n",
              "      <td>14.700</td>\n",
              "    </tr>\n",
              "    <tr>\n",
              "      <th>Sat</th>\n",
              "      <td>NaN</td>\n",
              "    </tr>\n",
              "    <tr>\n",
              "      <th>Sun</th>\n",
              "      <td>NaN</td>\n",
              "    </tr>\n",
              "    <tr>\n",
              "      <th rowspan=\"4\" valign=\"top\">Dinner</th>\n",
              "      <th>Thur</th>\n",
              "      <td>18.780</td>\n",
              "    </tr>\n",
              "    <tr>\n",
              "      <th>Fri</th>\n",
              "      <td>15.380</td>\n",
              "    </tr>\n",
              "    <tr>\n",
              "      <th>Sat</th>\n",
              "      <td>18.360</td>\n",
              "    </tr>\n",
              "    <tr>\n",
              "      <th>Sun</th>\n",
              "      <td>17.410</td>\n",
              "    </tr>\n",
              "  </tbody>\n",
              "</table>\n",
              "</div>"
            ],
            "text/plain": [
              "                    total_bill\n",
              "sex    time   day             \n",
              "Male   Lunch  Thur      16.975\n",
              "              Fri       12.160\n",
              "              Sat          NaN\n",
              "              Sun          NaN\n",
              "       Dinner Thur         NaN\n",
              "              Fri       22.490\n",
              "              Sat       18.240\n",
              "              Sun       20.725\n",
              "Female Lunch  Thur      13.420\n",
              "              Fri       14.700\n",
              "              Sat          NaN\n",
              "              Sun          NaN\n",
              "       Dinner Thur      18.780\n",
              "              Fri       15.380\n",
              "              Sat       18.360\n",
              "              Sun       17.410"
            ]
          },
          "metadata": {
            "tags": []
          },
          "execution_count": 80
        }
      ]
    },
    {
      "cell_type": "code",
      "metadata": {
        "colab": {
          "base_uri": "https://localhost:8080/",
          "height": 247
        },
        "id": "bKtxdWg2k5Hy",
        "outputId": "cd653c81-419d-4252-ba49-7592c3ba1d47"
      },
      "source": [
        "g.unstack()"
      ],
      "execution_count": 81,
      "outputs": [
        {
          "output_type": "execute_result",
          "data": {
            "text/html": [
              "<div>\n",
              "<style scoped>\n",
              "    .dataframe tbody tr th:only-of-type {\n",
              "        vertical-align: middle;\n",
              "    }\n",
              "\n",
              "    .dataframe tbody tr th {\n",
              "        vertical-align: top;\n",
              "    }\n",
              "\n",
              "    .dataframe thead tr th {\n",
              "        text-align: left;\n",
              "    }\n",
              "\n",
              "    .dataframe thead tr:last-of-type th {\n",
              "        text-align: right;\n",
              "    }\n",
              "</style>\n",
              "<table border=\"1\" class=\"dataframe\">\n",
              "  <thead>\n",
              "    <tr>\n",
              "      <th></th>\n",
              "      <th></th>\n",
              "      <th colspan=\"4\" halign=\"left\">total_bill</th>\n",
              "    </tr>\n",
              "    <tr>\n",
              "      <th></th>\n",
              "      <th>day</th>\n",
              "      <th>Thur</th>\n",
              "      <th>Fri</th>\n",
              "      <th>Sat</th>\n",
              "      <th>Sun</th>\n",
              "    </tr>\n",
              "    <tr>\n",
              "      <th>sex</th>\n",
              "      <th>time</th>\n",
              "      <th></th>\n",
              "      <th></th>\n",
              "      <th></th>\n",
              "      <th></th>\n",
              "    </tr>\n",
              "  </thead>\n",
              "  <tbody>\n",
              "    <tr>\n",
              "      <th rowspan=\"2\" valign=\"top\">Male</th>\n",
              "      <th>Lunch</th>\n",
              "      <td>16.975</td>\n",
              "      <td>12.16</td>\n",
              "      <td>NaN</td>\n",
              "      <td>NaN</td>\n",
              "    </tr>\n",
              "    <tr>\n",
              "      <th>Dinner</th>\n",
              "      <td>NaN</td>\n",
              "      <td>22.49</td>\n",
              "      <td>18.24</td>\n",
              "      <td>20.725</td>\n",
              "    </tr>\n",
              "    <tr>\n",
              "      <th rowspan=\"2\" valign=\"top\">Female</th>\n",
              "      <th>Lunch</th>\n",
              "      <td>13.420</td>\n",
              "      <td>14.70</td>\n",
              "      <td>NaN</td>\n",
              "      <td>NaN</td>\n",
              "    </tr>\n",
              "    <tr>\n",
              "      <th>Dinner</th>\n",
              "      <td>18.780</td>\n",
              "      <td>15.38</td>\n",
              "      <td>18.36</td>\n",
              "      <td>17.410</td>\n",
              "    </tr>\n",
              "  </tbody>\n",
              "</table>\n",
              "</div>"
            ],
            "text/plain": [
              "              total_bill                      \n",
              "day                 Thur    Fri    Sat     Sun\n",
              "sex    time                                   \n",
              "Male   Lunch      16.975  12.16    NaN     NaN\n",
              "       Dinner        NaN  22.49  18.24  20.725\n",
              "Female Lunch      13.420  14.70    NaN     NaN\n",
              "       Dinner     18.780  15.38  18.36  17.410"
            ]
          },
          "metadata": {
            "tags": []
          },
          "execution_count": 81
        }
      ]
    },
    {
      "cell_type": "code",
      "metadata": {
        "colab": {
          "base_uri": "https://localhost:8080/",
          "height": 214
        },
        "id": "8eHX8kjrk-nd",
        "outputId": "a3320ff9-0e3a-4e3d-a96c-e7fd65e717d3"
      },
      "source": [
        "g.unstack(level=[1, 2])"
      ],
      "execution_count": 84,
      "outputs": [
        {
          "output_type": "execute_result",
          "data": {
            "text/html": [
              "<div>\n",
              "<style scoped>\n",
              "    .dataframe tbody tr th:only-of-type {\n",
              "        vertical-align: middle;\n",
              "    }\n",
              "\n",
              "    .dataframe tbody tr th {\n",
              "        vertical-align: top;\n",
              "    }\n",
              "\n",
              "    .dataframe thead tr th {\n",
              "        text-align: left;\n",
              "    }\n",
              "\n",
              "    .dataframe thead tr:last-of-type th {\n",
              "        text-align: right;\n",
              "    }\n",
              "</style>\n",
              "<table border=\"1\" class=\"dataframe\">\n",
              "  <thead>\n",
              "    <tr>\n",
              "      <th></th>\n",
              "      <th colspan=\"8\" halign=\"left\">total_bill</th>\n",
              "    </tr>\n",
              "    <tr>\n",
              "      <th>time</th>\n",
              "      <th colspan=\"4\" halign=\"left\">Lunch</th>\n",
              "      <th colspan=\"4\" halign=\"left\">Dinner</th>\n",
              "    </tr>\n",
              "    <tr>\n",
              "      <th>day</th>\n",
              "      <th>Thur</th>\n",
              "      <th>Fri</th>\n",
              "      <th>Sat</th>\n",
              "      <th>Sun</th>\n",
              "      <th>Thur</th>\n",
              "      <th>Fri</th>\n",
              "      <th>Sat</th>\n",
              "      <th>Sun</th>\n",
              "    </tr>\n",
              "    <tr>\n",
              "      <th>sex</th>\n",
              "      <th></th>\n",
              "      <th></th>\n",
              "      <th></th>\n",
              "      <th></th>\n",
              "      <th></th>\n",
              "      <th></th>\n",
              "      <th></th>\n",
              "      <th></th>\n",
              "    </tr>\n",
              "  </thead>\n",
              "  <tbody>\n",
              "    <tr>\n",
              "      <th>Male</th>\n",
              "      <td>16.975</td>\n",
              "      <td>12.16</td>\n",
              "      <td>NaN</td>\n",
              "      <td>NaN</td>\n",
              "      <td>NaN</td>\n",
              "      <td>22.49</td>\n",
              "      <td>18.24</td>\n",
              "      <td>20.725</td>\n",
              "    </tr>\n",
              "    <tr>\n",
              "      <th>Female</th>\n",
              "      <td>13.420</td>\n",
              "      <td>14.70</td>\n",
              "      <td>NaN</td>\n",
              "      <td>NaN</td>\n",
              "      <td>18.78</td>\n",
              "      <td>15.38</td>\n",
              "      <td>18.36</td>\n",
              "      <td>17.410</td>\n",
              "    </tr>\n",
              "  </tbody>\n",
              "</table>\n",
              "</div>"
            ],
            "text/plain": [
              "       total_bill                                            \n",
              "time        Lunch                Dinner                      \n",
              "day          Thur    Fri Sat Sun   Thur    Fri    Sat     Sun\n",
              "sex                                                          \n",
              "Male       16.975  12.16 NaN NaN    NaN  22.49  18.24  20.725\n",
              "Female     13.420  14.70 NaN NaN  18.78  15.38  18.36  17.410"
            ]
          },
          "metadata": {
            "tags": []
          },
          "execution_count": 84
        }
      ]
    },
    {
      "cell_type": "code",
      "metadata": {
        "colab": {
          "base_uri": "https://localhost:8080/",
          "height": 443
        },
        "id": "3QZwxlGUl3qO",
        "outputId": "8c2e0200-c01f-4f49-904e-ddefa8f385e6"
      },
      "source": [
        "tips.pivot_table(values='tip', index=['sex', 'time', 'day'], aggfunc='median')\r\n",
        "# 참고: dropna=True/False"
      ],
      "execution_count": 91,
      "outputs": [
        {
          "output_type": "execute_result",
          "data": {
            "text/html": [
              "<div>\n",
              "<style scoped>\n",
              "    .dataframe tbody tr th:only-of-type {\n",
              "        vertical-align: middle;\n",
              "    }\n",
              "\n",
              "    .dataframe tbody tr th {\n",
              "        vertical-align: top;\n",
              "    }\n",
              "\n",
              "    .dataframe thead th {\n",
              "        text-align: right;\n",
              "    }\n",
              "</style>\n",
              "<table border=\"1\" class=\"dataframe\">\n",
              "  <thead>\n",
              "    <tr style=\"text-align: right;\">\n",
              "      <th></th>\n",
              "      <th></th>\n",
              "      <th></th>\n",
              "      <th>tip</th>\n",
              "    </tr>\n",
              "    <tr>\n",
              "      <th>sex</th>\n",
              "      <th>time</th>\n",
              "      <th>day</th>\n",
              "      <th></th>\n",
              "    </tr>\n",
              "  </thead>\n",
              "  <tbody>\n",
              "    <tr>\n",
              "      <th rowspan=\"5\" valign=\"top\">Male</th>\n",
              "      <th rowspan=\"2\" valign=\"top\">Lunch</th>\n",
              "      <th>Thur</th>\n",
              "      <td>2.530</td>\n",
              "    </tr>\n",
              "    <tr>\n",
              "      <th>Fri</th>\n",
              "      <td>1.920</td>\n",
              "    </tr>\n",
              "    <tr>\n",
              "      <th rowspan=\"3\" valign=\"top\">Dinner</th>\n",
              "      <th>Fri</th>\n",
              "      <td>3.000</td>\n",
              "    </tr>\n",
              "    <tr>\n",
              "      <th>Sat</th>\n",
              "      <td>3.000</td>\n",
              "    </tr>\n",
              "    <tr>\n",
              "      <th>Sun</th>\n",
              "      <td>3.085</td>\n",
              "    </tr>\n",
              "    <tr>\n",
              "      <th rowspan=\"6\" valign=\"top\">Female</th>\n",
              "      <th rowspan=\"2\" valign=\"top\">Lunch</th>\n",
              "      <th>Thur</th>\n",
              "      <td>2.000</td>\n",
              "    </tr>\n",
              "    <tr>\n",
              "      <th>Fri</th>\n",
              "      <td>2.750</td>\n",
              "    </tr>\n",
              "    <tr>\n",
              "      <th rowspan=\"4\" valign=\"top\">Dinner</th>\n",
              "      <th>Thur</th>\n",
              "      <td>3.000</td>\n",
              "    </tr>\n",
              "    <tr>\n",
              "      <th>Fri</th>\n",
              "      <td>3.000</td>\n",
              "    </tr>\n",
              "    <tr>\n",
              "      <th>Sat</th>\n",
              "      <td>2.625</td>\n",
              "    </tr>\n",
              "    <tr>\n",
              "      <th>Sun</th>\n",
              "      <td>3.500</td>\n",
              "    </tr>\n",
              "  </tbody>\n",
              "</table>\n",
              "</div>"
            ],
            "text/plain": [
              "                      tip\n",
              "sex    time   day        \n",
              "Male   Lunch  Thur  2.530\n",
              "              Fri   1.920\n",
              "       Dinner Fri   3.000\n",
              "              Sat   3.000\n",
              "              Sun   3.085\n",
              "Female Lunch  Thur  2.000\n",
              "              Fri   2.750\n",
              "       Dinner Thur  3.000\n",
              "              Fri   3.000\n",
              "              Sat   2.625\n",
              "              Sun   3.500"
            ]
          },
          "metadata": {
            "tags": []
          },
          "execution_count": 91
        }
      ]
    },
    {
      "cell_type": "code",
      "metadata": {
        "colab": {
          "base_uri": "https://localhost:8080/",
          "height": 214
        },
        "id": "bsS4OXconKUO",
        "outputId": "c7d99e41-f592-4788-b476-134f418996a0"
      },
      "source": [
        "tips.pivot_table(values='tip', index=['sex', 'time'], columns=['day'], aggfunc='median')"
      ],
      "execution_count": 92,
      "outputs": [
        {
          "output_type": "execute_result",
          "data": {
            "text/html": [
              "<div>\n",
              "<style scoped>\n",
              "    .dataframe tbody tr th:only-of-type {\n",
              "        vertical-align: middle;\n",
              "    }\n",
              "\n",
              "    .dataframe tbody tr th {\n",
              "        vertical-align: top;\n",
              "    }\n",
              "\n",
              "    .dataframe thead th {\n",
              "        text-align: right;\n",
              "    }\n",
              "</style>\n",
              "<table border=\"1\" class=\"dataframe\">\n",
              "  <thead>\n",
              "    <tr style=\"text-align: right;\">\n",
              "      <th></th>\n",
              "      <th>day</th>\n",
              "      <th>Thur</th>\n",
              "      <th>Fri</th>\n",
              "      <th>Sat</th>\n",
              "      <th>Sun</th>\n",
              "    </tr>\n",
              "    <tr>\n",
              "      <th>sex</th>\n",
              "      <th>time</th>\n",
              "      <th></th>\n",
              "      <th></th>\n",
              "      <th></th>\n",
              "      <th></th>\n",
              "    </tr>\n",
              "  </thead>\n",
              "  <tbody>\n",
              "    <tr>\n",
              "      <th rowspan=\"2\" valign=\"top\">Male</th>\n",
              "      <th>Lunch</th>\n",
              "      <td>2.53</td>\n",
              "      <td>1.92</td>\n",
              "      <td>NaN</td>\n",
              "      <td>NaN</td>\n",
              "    </tr>\n",
              "    <tr>\n",
              "      <th>Dinner</th>\n",
              "      <td>NaN</td>\n",
              "      <td>3.00</td>\n",
              "      <td>3.000</td>\n",
              "      <td>3.085</td>\n",
              "    </tr>\n",
              "    <tr>\n",
              "      <th rowspan=\"2\" valign=\"top\">Female</th>\n",
              "      <th>Lunch</th>\n",
              "      <td>2.00</td>\n",
              "      <td>2.75</td>\n",
              "      <td>NaN</td>\n",
              "      <td>NaN</td>\n",
              "    </tr>\n",
              "    <tr>\n",
              "      <th>Dinner</th>\n",
              "      <td>3.00</td>\n",
              "      <td>3.00</td>\n",
              "      <td>2.625</td>\n",
              "      <td>3.500</td>\n",
              "    </tr>\n",
              "  </tbody>\n",
              "</table>\n",
              "</div>"
            ],
            "text/plain": [
              "day            Thur   Fri    Sat    Sun\n",
              "sex    time                            \n",
              "Male   Lunch   2.53  1.92    NaN    NaN\n",
              "       Dinner   NaN  3.00  3.000  3.085\n",
              "Female Lunch   2.00  2.75    NaN    NaN\n",
              "       Dinner  3.00  3.00  2.625  3.500"
            ]
          },
          "metadata": {
            "tags": []
          },
          "execution_count": 92
        }
      ]
    },
    {
      "cell_type": "code",
      "metadata": {
        "colab": {
          "base_uri": "https://localhost:8080/",
          "height": 181
        },
        "id": "v4lAhqF_noCe",
        "outputId": "d102d761-edf6-48a0-b312-2b782d6de6e9"
      },
      "source": [
        "tips.pivot_table(values='tip', index='sex', columns=['time', 'day'], aggfunc='median', dropna=False)"
      ],
      "execution_count": 94,
      "outputs": [
        {
          "output_type": "execute_result",
          "data": {
            "text/html": [
              "<div>\n",
              "<style scoped>\n",
              "    .dataframe tbody tr th:only-of-type {\n",
              "        vertical-align: middle;\n",
              "    }\n",
              "\n",
              "    .dataframe tbody tr th {\n",
              "        vertical-align: top;\n",
              "    }\n",
              "\n",
              "    .dataframe thead tr th {\n",
              "        text-align: left;\n",
              "    }\n",
              "\n",
              "    .dataframe thead tr:last-of-type th {\n",
              "        text-align: right;\n",
              "    }\n",
              "</style>\n",
              "<table border=\"1\" class=\"dataframe\">\n",
              "  <thead>\n",
              "    <tr>\n",
              "      <th>time</th>\n",
              "      <th colspan=\"4\" halign=\"left\">Lunch</th>\n",
              "      <th colspan=\"4\" halign=\"left\">Dinner</th>\n",
              "    </tr>\n",
              "    <tr>\n",
              "      <th>day</th>\n",
              "      <th>Thur</th>\n",
              "      <th>Fri</th>\n",
              "      <th>Sat</th>\n",
              "      <th>Sun</th>\n",
              "      <th>Thur</th>\n",
              "      <th>Fri</th>\n",
              "      <th>Sat</th>\n",
              "      <th>Sun</th>\n",
              "    </tr>\n",
              "    <tr>\n",
              "      <th>sex</th>\n",
              "      <th></th>\n",
              "      <th></th>\n",
              "      <th></th>\n",
              "      <th></th>\n",
              "      <th></th>\n",
              "      <th></th>\n",
              "      <th></th>\n",
              "      <th></th>\n",
              "    </tr>\n",
              "  </thead>\n",
              "  <tbody>\n",
              "    <tr>\n",
              "      <th>Male</th>\n",
              "      <td>2.53</td>\n",
              "      <td>1.92</td>\n",
              "      <td>NaN</td>\n",
              "      <td>NaN</td>\n",
              "      <td>NaN</td>\n",
              "      <td>3.0</td>\n",
              "      <td>3.000</td>\n",
              "      <td>3.085</td>\n",
              "    </tr>\n",
              "    <tr>\n",
              "      <th>Female</th>\n",
              "      <td>2.00</td>\n",
              "      <td>2.75</td>\n",
              "      <td>NaN</td>\n",
              "      <td>NaN</td>\n",
              "      <td>3.0</td>\n",
              "      <td>3.0</td>\n",
              "      <td>2.625</td>\n",
              "      <td>3.500</td>\n",
              "    </tr>\n",
              "  </tbody>\n",
              "</table>\n",
              "</div>"
            ],
            "text/plain": [
              "time   Lunch               Dinner                   \n",
              "day     Thur   Fri Sat Sun   Thur  Fri    Sat    Sun\n",
              "sex                                                 \n",
              "Male    2.53  1.92 NaN NaN    NaN  3.0  3.000  3.085\n",
              "Female  2.00  2.75 NaN NaN    3.0  3.0  2.625  3.500"
            ]
          },
          "metadata": {
            "tags": []
          },
          "execution_count": 94
        }
      ]
    },
    {
      "cell_type": "markdown",
      "metadata": {
        "id": "pP9K_Hm1gWQ3"
      },
      "source": [
        "*   성별, 흡연여부별, 시간별, 요일별 total_bill의 중앙값"
      ]
    },
    {
      "cell_type": "code",
      "metadata": {
        "colab": {
          "base_uri": "https://localhost:8080/",
          "height": 1000
        },
        "id": "S076-v3DgeH3",
        "outputId": "c18d8c7e-94bf-475e-dc5c-0a402583cc54"
      },
      "source": [
        "g = tips.groupby(by=['sex', 'smoker', 'time', 'day'])[['total_bill']].median()\r\n",
        "g"
      ],
      "execution_count": 98,
      "outputs": [
        {
          "output_type": "execute_result",
          "data": {
            "text/html": [
              "<div>\n",
              "<style scoped>\n",
              "    .dataframe tbody tr th:only-of-type {\n",
              "        vertical-align: middle;\n",
              "    }\n",
              "\n",
              "    .dataframe tbody tr th {\n",
              "        vertical-align: top;\n",
              "    }\n",
              "\n",
              "    .dataframe thead th {\n",
              "        text-align: right;\n",
              "    }\n",
              "</style>\n",
              "<table border=\"1\" class=\"dataframe\">\n",
              "  <thead>\n",
              "    <tr style=\"text-align: right;\">\n",
              "      <th></th>\n",
              "      <th></th>\n",
              "      <th></th>\n",
              "      <th></th>\n",
              "      <th>total_bill</th>\n",
              "    </tr>\n",
              "    <tr>\n",
              "      <th>sex</th>\n",
              "      <th>smoker</th>\n",
              "      <th>time</th>\n",
              "      <th>day</th>\n",
              "      <th></th>\n",
              "    </tr>\n",
              "  </thead>\n",
              "  <tbody>\n",
              "    <tr>\n",
              "      <th rowspan=\"16\" valign=\"top\">Male</th>\n",
              "      <th rowspan=\"8\" valign=\"top\">Yes</th>\n",
              "      <th rowspan=\"4\" valign=\"top\">Lunch</th>\n",
              "      <th>Thur</th>\n",
              "      <td>17.645</td>\n",
              "    </tr>\n",
              "    <tr>\n",
              "      <th>Fri</th>\n",
              "      <td>12.160</td>\n",
              "    </tr>\n",
              "    <tr>\n",
              "      <th>Sat</th>\n",
              "      <td>NaN</td>\n",
              "    </tr>\n",
              "    <tr>\n",
              "      <th>Sun</th>\n",
              "      <td>NaN</td>\n",
              "    </tr>\n",
              "    <tr>\n",
              "      <th rowspan=\"4\" valign=\"top\">Dinner</th>\n",
              "      <th>Thur</th>\n",
              "      <td>NaN</td>\n",
              "    </tr>\n",
              "    <tr>\n",
              "      <th>Fri</th>\n",
              "      <td>27.280</td>\n",
              "    </tr>\n",
              "    <tr>\n",
              "      <th>Sat</th>\n",
              "      <td>20.290</td>\n",
              "    </tr>\n",
              "    <tr>\n",
              "      <th>Sun</th>\n",
              "      <td>23.330</td>\n",
              "    </tr>\n",
              "    <tr>\n",
              "      <th rowspan=\"8\" valign=\"top\">No</th>\n",
              "      <th rowspan=\"4\" valign=\"top\">Lunch</th>\n",
              "      <th>Thur</th>\n",
              "      <td>16.975</td>\n",
              "    </tr>\n",
              "    <tr>\n",
              "      <th>Fri</th>\n",
              "      <td>NaN</td>\n",
              "    </tr>\n",
              "    <tr>\n",
              "      <th>Sat</th>\n",
              "      <td>NaN</td>\n",
              "    </tr>\n",
              "    <tr>\n",
              "      <th>Sun</th>\n",
              "      <td>NaN</td>\n",
              "    </tr>\n",
              "    <tr>\n",
              "      <th rowspan=\"4\" valign=\"top\">Dinner</th>\n",
              "      <th>Thur</th>\n",
              "      <td>NaN</td>\n",
              "    </tr>\n",
              "    <tr>\n",
              "      <th>Fri</th>\n",
              "      <td>17.475</td>\n",
              "    </tr>\n",
              "    <tr>\n",
              "      <th>Sat</th>\n",
              "      <td>17.870</td>\n",
              "    </tr>\n",
              "    <tr>\n",
              "      <th>Sun</th>\n",
              "      <td>19.490</td>\n",
              "    </tr>\n",
              "    <tr>\n",
              "      <th rowspan=\"16\" valign=\"top\">Female</th>\n",
              "      <th rowspan=\"8\" valign=\"top\">Yes</th>\n",
              "      <th rowspan=\"4\" valign=\"top\">Lunch</th>\n",
              "      <th>Thur</th>\n",
              "      <td>16.400</td>\n",
              "    </tr>\n",
              "    <tr>\n",
              "      <th>Fri</th>\n",
              "      <td>13.420</td>\n",
              "    </tr>\n",
              "    <tr>\n",
              "      <th>Sat</th>\n",
              "      <td>NaN</td>\n",
              "    </tr>\n",
              "    <tr>\n",
              "      <th>Sun</th>\n",
              "      <td>NaN</td>\n",
              "    </tr>\n",
              "    <tr>\n",
              "      <th rowspan=\"4\" valign=\"top\">Dinner</th>\n",
              "      <th>Thur</th>\n",
              "      <td>NaN</td>\n",
              "    </tr>\n",
              "    <tr>\n",
              "      <th>Fri</th>\n",
              "      <td>13.365</td>\n",
              "    </tr>\n",
              "    <tr>\n",
              "      <th>Sat</th>\n",
              "      <td>22.120</td>\n",
              "    </tr>\n",
              "    <tr>\n",
              "      <th>Sun</th>\n",
              "      <td>17.830</td>\n",
              "    </tr>\n",
              "    <tr>\n",
              "      <th rowspan=\"8\" valign=\"top\">No</th>\n",
              "      <th rowspan=\"4\" valign=\"top\">Lunch</th>\n",
              "      <th>Thur</th>\n",
              "      <td>13.290</td>\n",
              "    </tr>\n",
              "    <tr>\n",
              "      <th>Fri</th>\n",
              "      <td>15.980</td>\n",
              "    </tr>\n",
              "    <tr>\n",
              "      <th>Sat</th>\n",
              "      <td>NaN</td>\n",
              "    </tr>\n",
              "    <tr>\n",
              "      <th>Sun</th>\n",
              "      <td>NaN</td>\n",
              "    </tr>\n",
              "    <tr>\n",
              "      <th rowspan=\"4\" valign=\"top\">Dinner</th>\n",
              "      <th>Thur</th>\n",
              "      <td>18.780</td>\n",
              "    </tr>\n",
              "    <tr>\n",
              "      <th>Fri</th>\n",
              "      <td>22.750</td>\n",
              "    </tr>\n",
              "    <tr>\n",
              "      <th>Sat</th>\n",
              "      <td>17.070</td>\n",
              "    </tr>\n",
              "    <tr>\n",
              "      <th>Sun</th>\n",
              "      <td>17.150</td>\n",
              "    </tr>\n",
              "  </tbody>\n",
              "</table>\n",
              "</div>"
            ],
            "text/plain": [
              "                           total_bill\n",
              "sex    smoker time   day             \n",
              "Male   Yes    Lunch  Thur      17.645\n",
              "                     Fri       12.160\n",
              "                     Sat          NaN\n",
              "                     Sun          NaN\n",
              "              Dinner Thur         NaN\n",
              "                     Fri       27.280\n",
              "                     Sat       20.290\n",
              "                     Sun       23.330\n",
              "       No     Lunch  Thur      16.975\n",
              "                     Fri          NaN\n",
              "                     Sat          NaN\n",
              "                     Sun          NaN\n",
              "              Dinner Thur         NaN\n",
              "                     Fri       17.475\n",
              "                     Sat       17.870\n",
              "                     Sun       19.490\n",
              "Female Yes    Lunch  Thur      16.400\n",
              "                     Fri       13.420\n",
              "                     Sat          NaN\n",
              "                     Sun          NaN\n",
              "              Dinner Thur         NaN\n",
              "                     Fri       13.365\n",
              "                     Sat       22.120\n",
              "                     Sun       17.830\n",
              "       No     Lunch  Thur      13.290\n",
              "                     Fri       15.980\n",
              "                     Sat          NaN\n",
              "                     Sun          NaN\n",
              "              Dinner Thur      18.780\n",
              "                     Fri       22.750\n",
              "                     Sat       17.070\n",
              "                     Sun       17.150"
            ]
          },
          "metadata": {
            "tags": []
          },
          "execution_count": 98
        }
      ]
    },
    {
      "cell_type": "markdown",
      "metadata": {
        "id": "ZRJv3-65gfZf"
      },
      "source": [
        "*   성별, 흡연여부별, 시간별, 요일별 total_bill, tip의 평균"
      ]
    },
    {
      "cell_type": "code",
      "metadata": {
        "colab": {
          "base_uri": "https://localhost:8080/",
          "height": 1000
        },
        "id": "QwAvpW_XglQX",
        "outputId": "d5e42292-322b-4623-e42b-c97044db4421"
      },
      "source": [
        "g = tips.groupby(by=['sex', 'smoker', 'time', 'day'])[['total_bill', 'tip']].mean()\r\n",
        "g"
      ],
      "execution_count": 99,
      "outputs": [
        {
          "output_type": "execute_result",
          "data": {
            "text/html": [
              "<div>\n",
              "<style scoped>\n",
              "    .dataframe tbody tr th:only-of-type {\n",
              "        vertical-align: middle;\n",
              "    }\n",
              "\n",
              "    .dataframe tbody tr th {\n",
              "        vertical-align: top;\n",
              "    }\n",
              "\n",
              "    .dataframe thead th {\n",
              "        text-align: right;\n",
              "    }\n",
              "</style>\n",
              "<table border=\"1\" class=\"dataframe\">\n",
              "  <thead>\n",
              "    <tr style=\"text-align: right;\">\n",
              "      <th></th>\n",
              "      <th></th>\n",
              "      <th></th>\n",
              "      <th></th>\n",
              "      <th>total_bill</th>\n",
              "      <th>tip</th>\n",
              "    </tr>\n",
              "    <tr>\n",
              "      <th>sex</th>\n",
              "      <th>smoker</th>\n",
              "      <th>time</th>\n",
              "      <th>day</th>\n",
              "      <th></th>\n",
              "      <th></th>\n",
              "    </tr>\n",
              "  </thead>\n",
              "  <tbody>\n",
              "    <tr>\n",
              "      <th rowspan=\"16\" valign=\"top\">Male</th>\n",
              "      <th rowspan=\"8\" valign=\"top\">Yes</th>\n",
              "      <th rowspan=\"4\" valign=\"top\">Lunch</th>\n",
              "      <th>Thur</th>\n",
              "      <td>19.171000</td>\n",
              "      <td>3.058000</td>\n",
              "    </tr>\n",
              "    <tr>\n",
              "      <th>Fri</th>\n",
              "      <td>11.386667</td>\n",
              "      <td>1.900000</td>\n",
              "    </tr>\n",
              "    <tr>\n",
              "      <th>Sat</th>\n",
              "      <td>NaN</td>\n",
              "      <td>NaN</td>\n",
              "    </tr>\n",
              "    <tr>\n",
              "      <th>Sun</th>\n",
              "      <td>NaN</td>\n",
              "      <td>NaN</td>\n",
              "    </tr>\n",
              "    <tr>\n",
              "      <th rowspan=\"4\" valign=\"top\">Dinner</th>\n",
              "      <th>Thur</th>\n",
              "      <td>NaN</td>\n",
              "      <td>NaN</td>\n",
              "    </tr>\n",
              "    <tr>\n",
              "      <th>Fri</th>\n",
              "      <td>25.892000</td>\n",
              "      <td>3.246000</td>\n",
              "    </tr>\n",
              "    <tr>\n",
              "      <th>Sat</th>\n",
              "      <td>21.837778</td>\n",
              "      <td>2.879259</td>\n",
              "    </tr>\n",
              "    <tr>\n",
              "      <th>Sun</th>\n",
              "      <td>26.141333</td>\n",
              "      <td>3.521333</td>\n",
              "    </tr>\n",
              "    <tr>\n",
              "      <th rowspan=\"8\" valign=\"top\">No</th>\n",
              "      <th rowspan=\"4\" valign=\"top\">Lunch</th>\n",
              "      <th>Thur</th>\n",
              "      <td>18.486500</td>\n",
              "      <td>2.941500</td>\n",
              "    </tr>\n",
              "    <tr>\n",
              "      <th>Fri</th>\n",
              "      <td>NaN</td>\n",
              "      <td>NaN</td>\n",
              "    </tr>\n",
              "    <tr>\n",
              "      <th>Sat</th>\n",
              "      <td>NaN</td>\n",
              "      <td>NaN</td>\n",
              "    </tr>\n",
              "    <tr>\n",
              "      <th>Sun</th>\n",
              "      <td>NaN</td>\n",
              "      <td>NaN</td>\n",
              "    </tr>\n",
              "    <tr>\n",
              "      <th rowspan=\"4\" valign=\"top\">Dinner</th>\n",
              "      <th>Thur</th>\n",
              "      <td>NaN</td>\n",
              "      <td>NaN</td>\n",
              "    </tr>\n",
              "    <tr>\n",
              "      <th>Fri</th>\n",
              "      <td>17.475000</td>\n",
              "      <td>2.500000</td>\n",
              "    </tr>\n",
              "    <tr>\n",
              "      <th>Sat</th>\n",
              "      <td>19.929063</td>\n",
              "      <td>3.256563</td>\n",
              "    </tr>\n",
              "    <tr>\n",
              "      <th>Sun</th>\n",
              "      <td>20.403256</td>\n",
              "      <td>3.115349</td>\n",
              "    </tr>\n",
              "    <tr>\n",
              "      <th rowspan=\"16\" valign=\"top\">Female</th>\n",
              "      <th rowspan=\"8\" valign=\"top\">Yes</th>\n",
              "      <th rowspan=\"4\" valign=\"top\">Lunch</th>\n",
              "      <th>Thur</th>\n",
              "      <td>19.218571</td>\n",
              "      <td>2.990000</td>\n",
              "    </tr>\n",
              "    <tr>\n",
              "      <th>Fri</th>\n",
              "      <td>13.260000</td>\n",
              "      <td>2.660000</td>\n",
              "    </tr>\n",
              "    <tr>\n",
              "      <th>Sat</th>\n",
              "      <td>NaN</td>\n",
              "      <td>NaN</td>\n",
              "    </tr>\n",
              "    <tr>\n",
              "      <th>Sun</th>\n",
              "      <td>NaN</td>\n",
              "      <td>NaN</td>\n",
              "    </tr>\n",
              "    <tr>\n",
              "      <th rowspan=\"4\" valign=\"top\">Dinner</th>\n",
              "      <th>Thur</th>\n",
              "      <td>NaN</td>\n",
              "      <td>NaN</td>\n",
              "    </tr>\n",
              "    <tr>\n",
              "      <th>Fri</th>\n",
              "      <td>12.200000</td>\n",
              "      <td>2.700000</td>\n",
              "    </tr>\n",
              "    <tr>\n",
              "      <th>Sat</th>\n",
              "      <td>20.266667</td>\n",
              "      <td>2.868667</td>\n",
              "    </tr>\n",
              "    <tr>\n",
              "      <th>Sun</th>\n",
              "      <td>16.540000</td>\n",
              "      <td>3.500000</td>\n",
              "    </tr>\n",
              "    <tr>\n",
              "      <th rowspan=\"8\" valign=\"top\">No</th>\n",
              "      <th rowspan=\"4\" valign=\"top\">Lunch</th>\n",
              "      <th>Thur</th>\n",
              "      <td>15.899167</td>\n",
              "      <td>2.437083</td>\n",
              "    </tr>\n",
              "    <tr>\n",
              "      <th>Fri</th>\n",
              "      <td>15.980000</td>\n",
              "      <td>3.000000</td>\n",
              "    </tr>\n",
              "    <tr>\n",
              "      <th>Sat</th>\n",
              "      <td>NaN</td>\n",
              "      <td>NaN</td>\n",
              "    </tr>\n",
              "    <tr>\n",
              "      <th>Sun</th>\n",
              "      <td>NaN</td>\n",
              "      <td>NaN</td>\n",
              "    </tr>\n",
              "    <tr>\n",
              "      <th rowspan=\"4\" valign=\"top\">Dinner</th>\n",
              "      <th>Thur</th>\n",
              "      <td>18.780000</td>\n",
              "      <td>3.000000</td>\n",
              "    </tr>\n",
              "    <tr>\n",
              "      <th>Fri</th>\n",
              "      <td>22.750000</td>\n",
              "      <td>3.250000</td>\n",
              "    </tr>\n",
              "    <tr>\n",
              "      <th>Sat</th>\n",
              "      <td>19.003846</td>\n",
              "      <td>2.724615</td>\n",
              "    </tr>\n",
              "    <tr>\n",
              "      <th>Sun</th>\n",
              "      <td>20.824286</td>\n",
              "      <td>3.329286</td>\n",
              "    </tr>\n",
              "  </tbody>\n",
              "</table>\n",
              "</div>"
            ],
            "text/plain": [
              "                           total_bill       tip\n",
              "sex    smoker time   day                       \n",
              "Male   Yes    Lunch  Thur   19.171000  3.058000\n",
              "                     Fri    11.386667  1.900000\n",
              "                     Sat          NaN       NaN\n",
              "                     Sun          NaN       NaN\n",
              "              Dinner Thur         NaN       NaN\n",
              "                     Fri    25.892000  3.246000\n",
              "                     Sat    21.837778  2.879259\n",
              "                     Sun    26.141333  3.521333\n",
              "       No     Lunch  Thur   18.486500  2.941500\n",
              "                     Fri          NaN       NaN\n",
              "                     Sat          NaN       NaN\n",
              "                     Sun          NaN       NaN\n",
              "              Dinner Thur         NaN       NaN\n",
              "                     Fri    17.475000  2.500000\n",
              "                     Sat    19.929063  3.256563\n",
              "                     Sun    20.403256  3.115349\n",
              "Female Yes    Lunch  Thur   19.218571  2.990000\n",
              "                     Fri    13.260000  2.660000\n",
              "                     Sat          NaN       NaN\n",
              "                     Sun          NaN       NaN\n",
              "              Dinner Thur         NaN       NaN\n",
              "                     Fri    12.200000  2.700000\n",
              "                     Sat    20.266667  2.868667\n",
              "                     Sun    16.540000  3.500000\n",
              "       No     Lunch  Thur   15.899167  2.437083\n",
              "                     Fri    15.980000  3.000000\n",
              "                     Sat          NaN       NaN\n",
              "                     Sun          NaN       NaN\n",
              "              Dinner Thur   18.780000  3.000000\n",
              "                     Fri    22.750000  3.250000\n",
              "                     Sat    19.003846  2.724615\n",
              "                     Sun    20.824286  3.329286"
            ]
          },
          "metadata": {
            "tags": []
          },
          "execution_count": 99
        }
      ]
    },
    {
      "cell_type": "markdown",
      "metadata": {
        "id": "8QrAKVZusGE7"
      },
      "source": [
        "## 두 개 이상의 집계 함수 적용"
      ]
    },
    {
      "cell_type": "markdown",
      "metadata": {
        "id": "KH4jgF9ssUBU"
      },
      "source": [
        "* 1개 변수에 2개 이상의 집계 함수 적용"
      ]
    },
    {
      "cell_type": "code",
      "metadata": {
        "colab": {
          "base_uri": "https://localhost:8080/",
          "height": 181
        },
        "id": "P6bGliptsY5s",
        "outputId": "a8db16e4-5596-44c8-d4b9-3596dbdda49d"
      },
      "source": [
        "# 시간별 tip의 최솟값, 최댓값\r\n",
        "tips.groupby(by='time')[['tip']].aggregate(['min', 'max'])\r\n",
        "# aggregate(), agg()는 동일"
      ],
      "execution_count": 100,
      "outputs": [
        {
          "output_type": "execute_result",
          "data": {
            "text/html": [
              "<div>\n",
              "<style scoped>\n",
              "    .dataframe tbody tr th:only-of-type {\n",
              "        vertical-align: middle;\n",
              "    }\n",
              "\n",
              "    .dataframe tbody tr th {\n",
              "        vertical-align: top;\n",
              "    }\n",
              "\n",
              "    .dataframe thead tr th {\n",
              "        text-align: left;\n",
              "    }\n",
              "\n",
              "    .dataframe thead tr:last-of-type th {\n",
              "        text-align: right;\n",
              "    }\n",
              "</style>\n",
              "<table border=\"1\" class=\"dataframe\">\n",
              "  <thead>\n",
              "    <tr>\n",
              "      <th></th>\n",
              "      <th colspan=\"2\" halign=\"left\">tip</th>\n",
              "    </tr>\n",
              "    <tr>\n",
              "      <th></th>\n",
              "      <th>min</th>\n",
              "      <th>max</th>\n",
              "    </tr>\n",
              "    <tr>\n",
              "      <th>time</th>\n",
              "      <th></th>\n",
              "      <th></th>\n",
              "    </tr>\n",
              "  </thead>\n",
              "  <tbody>\n",
              "    <tr>\n",
              "      <th>Lunch</th>\n",
              "      <td>1.25</td>\n",
              "      <td>6.7</td>\n",
              "    </tr>\n",
              "    <tr>\n",
              "      <th>Dinner</th>\n",
              "      <td>1.00</td>\n",
              "      <td>10.0</td>\n",
              "    </tr>\n",
              "  </tbody>\n",
              "</table>\n",
              "</div>"
            ],
            "text/plain": [
              "         tip      \n",
              "         min   max\n",
              "time              \n",
              "Lunch   1.25   6.7\n",
              "Dinner  1.00  10.0"
            ]
          },
          "metadata": {
            "tags": []
          },
          "execution_count": 100
        }
      ]
    },
    {
      "cell_type": "code",
      "metadata": {
        "colab": {
          "base_uri": "https://localhost:8080/",
          "height": 181
        },
        "id": "BbOXER27uFaA",
        "outputId": "6781b49d-3146-4e42-aeca-b8ed1051129d"
      },
      "source": [
        "tips.pivot_table(values='tip', index='time', aggfunc=['min', 'max'])"
      ],
      "execution_count": 101,
      "outputs": [
        {
          "output_type": "execute_result",
          "data": {
            "text/html": [
              "<div>\n",
              "<style scoped>\n",
              "    .dataframe tbody tr th:only-of-type {\n",
              "        vertical-align: middle;\n",
              "    }\n",
              "\n",
              "    .dataframe tbody tr th {\n",
              "        vertical-align: top;\n",
              "    }\n",
              "\n",
              "    .dataframe thead tr th {\n",
              "        text-align: left;\n",
              "    }\n",
              "\n",
              "    .dataframe thead tr:last-of-type th {\n",
              "        text-align: right;\n",
              "    }\n",
              "</style>\n",
              "<table border=\"1\" class=\"dataframe\">\n",
              "  <thead>\n",
              "    <tr>\n",
              "      <th></th>\n",
              "      <th>min</th>\n",
              "      <th>max</th>\n",
              "    </tr>\n",
              "    <tr>\n",
              "      <th></th>\n",
              "      <th>tip</th>\n",
              "      <th>tip</th>\n",
              "    </tr>\n",
              "    <tr>\n",
              "      <th>time</th>\n",
              "      <th></th>\n",
              "      <th></th>\n",
              "    </tr>\n",
              "  </thead>\n",
              "  <tbody>\n",
              "    <tr>\n",
              "      <th>Lunch</th>\n",
              "      <td>1.25</td>\n",
              "      <td>6.7</td>\n",
              "    </tr>\n",
              "    <tr>\n",
              "      <th>Dinner</th>\n",
              "      <td>1.00</td>\n",
              "      <td>10.0</td>\n",
              "    </tr>\n",
              "  </tbody>\n",
              "</table>\n",
              "</div>"
            ],
            "text/plain": [
              "         min   max\n",
              "         tip   tip\n",
              "time              \n",
              "Lunch   1.25   6.7\n",
              "Dinner  1.00  10.0"
            ]
          },
          "metadata": {
            "tags": []
          },
          "execution_count": 101
        }
      ]
    },
    {
      "cell_type": "markdown",
      "metadata": {
        "id": "mQ1RahMfubxJ"
      },
      "source": [
        "*   2개 이상의 변수에 2개 이상의 집계 함수 동일하게 적용"
      ]
    },
    {
      "cell_type": "code",
      "metadata": {
        "colab": {
          "base_uri": "https://localhost:8080/",
          "height": 181
        },
        "id": "lWkAz-Yqugo5",
        "outputId": "ec261dc3-1ee2-471f-d915-29909aa7b374"
      },
      "source": [
        "# 시간별 total_bill, tip의 최솟값, 최댓값\r\n",
        "tips.groupby(by='time')[['total_bill', 'tip']].agg(['min', 'max'])"
      ],
      "execution_count": 102,
      "outputs": [
        {
          "output_type": "execute_result",
          "data": {
            "text/html": [
              "<div>\n",
              "<style scoped>\n",
              "    .dataframe tbody tr th:only-of-type {\n",
              "        vertical-align: middle;\n",
              "    }\n",
              "\n",
              "    .dataframe tbody tr th {\n",
              "        vertical-align: top;\n",
              "    }\n",
              "\n",
              "    .dataframe thead tr th {\n",
              "        text-align: left;\n",
              "    }\n",
              "\n",
              "    .dataframe thead tr:last-of-type th {\n",
              "        text-align: right;\n",
              "    }\n",
              "</style>\n",
              "<table border=\"1\" class=\"dataframe\">\n",
              "  <thead>\n",
              "    <tr>\n",
              "      <th></th>\n",
              "      <th colspan=\"2\" halign=\"left\">total_bill</th>\n",
              "      <th colspan=\"2\" halign=\"left\">tip</th>\n",
              "    </tr>\n",
              "    <tr>\n",
              "      <th></th>\n",
              "      <th>min</th>\n",
              "      <th>max</th>\n",
              "      <th>min</th>\n",
              "      <th>max</th>\n",
              "    </tr>\n",
              "    <tr>\n",
              "      <th>time</th>\n",
              "      <th></th>\n",
              "      <th></th>\n",
              "      <th></th>\n",
              "      <th></th>\n",
              "    </tr>\n",
              "  </thead>\n",
              "  <tbody>\n",
              "    <tr>\n",
              "      <th>Lunch</th>\n",
              "      <td>7.51</td>\n",
              "      <td>43.11</td>\n",
              "      <td>1.25</td>\n",
              "      <td>6.7</td>\n",
              "    </tr>\n",
              "    <tr>\n",
              "      <th>Dinner</th>\n",
              "      <td>3.07</td>\n",
              "      <td>50.81</td>\n",
              "      <td>1.00</td>\n",
              "      <td>10.0</td>\n",
              "    </tr>\n",
              "  </tbody>\n",
              "</table>\n",
              "</div>"
            ],
            "text/plain": [
              "       total_bill          tip      \n",
              "              min    max   min   max\n",
              "time                                \n",
              "Lunch        7.51  43.11  1.25   6.7\n",
              "Dinner       3.07  50.81  1.00  10.0"
            ]
          },
          "metadata": {
            "tags": []
          },
          "execution_count": 102
        }
      ]
    },
    {
      "cell_type": "code",
      "metadata": {
        "colab": {
          "base_uri": "https://localhost:8080/",
          "height": 181
        },
        "id": "78MgZuvbvUEP",
        "outputId": "9ae1d2fe-f321-4428-9e78-61dde4eb820b"
      },
      "source": [
        "tips.pivot_table(values=['total_bill', 'tip'], index='time', aggfunc=['min', 'max'])"
      ],
      "execution_count": 103,
      "outputs": [
        {
          "output_type": "execute_result",
          "data": {
            "text/html": [
              "<div>\n",
              "<style scoped>\n",
              "    .dataframe tbody tr th:only-of-type {\n",
              "        vertical-align: middle;\n",
              "    }\n",
              "\n",
              "    .dataframe tbody tr th {\n",
              "        vertical-align: top;\n",
              "    }\n",
              "\n",
              "    .dataframe thead tr th {\n",
              "        text-align: left;\n",
              "    }\n",
              "\n",
              "    .dataframe thead tr:last-of-type th {\n",
              "        text-align: right;\n",
              "    }\n",
              "</style>\n",
              "<table border=\"1\" class=\"dataframe\">\n",
              "  <thead>\n",
              "    <tr>\n",
              "      <th></th>\n",
              "      <th colspan=\"2\" halign=\"left\">min</th>\n",
              "      <th colspan=\"2\" halign=\"left\">max</th>\n",
              "    </tr>\n",
              "    <tr>\n",
              "      <th></th>\n",
              "      <th>tip</th>\n",
              "      <th>total_bill</th>\n",
              "      <th>tip</th>\n",
              "      <th>total_bill</th>\n",
              "    </tr>\n",
              "    <tr>\n",
              "      <th>time</th>\n",
              "      <th></th>\n",
              "      <th></th>\n",
              "      <th></th>\n",
              "      <th></th>\n",
              "    </tr>\n",
              "  </thead>\n",
              "  <tbody>\n",
              "    <tr>\n",
              "      <th>Lunch</th>\n",
              "      <td>1.25</td>\n",
              "      <td>7.51</td>\n",
              "      <td>6.7</td>\n",
              "      <td>43.11</td>\n",
              "    </tr>\n",
              "    <tr>\n",
              "      <th>Dinner</th>\n",
              "      <td>1.00</td>\n",
              "      <td>3.07</td>\n",
              "      <td>10.0</td>\n",
              "      <td>50.81</td>\n",
              "    </tr>\n",
              "  </tbody>\n",
              "</table>\n",
              "</div>"
            ],
            "text/plain": [
              "         min              max           \n",
              "         tip total_bill   tip total_bill\n",
              "time                                    \n",
              "Lunch   1.25       7.51   6.7      43.11\n",
              "Dinner  1.00       3.07  10.0      50.81"
            ]
          },
          "metadata": {
            "tags": []
          },
          "execution_count": 103
        }
      ]
    },
    {
      "cell_type": "markdown",
      "metadata": {
        "id": "_d-jM3Qvv509"
      },
      "source": [
        "*   2개 이상의 변수에 각각 다른 집계 함수(들)을 적용"
      ]
    },
    {
      "cell_type": "code",
      "metadata": {
        "colab": {
          "base_uri": "https://localhost:8080/",
          "height": 181
        },
        "id": "l_rXBvaJwHy0",
        "outputId": "b8c49233-c3d2-4261-8c83-0ade3552751d"
      },
      "source": [
        "# 시간별 total_bill의 평균, tip의 최솟값과 최댓값\r\n",
        "tips.groupby(by='time')[['total_bill', 'tip']].agg({'total_bill': 'mean',\r\n",
        "                                                    'tip': ['min', 'max']})"
      ],
      "execution_count": 104,
      "outputs": [
        {
          "output_type": "execute_result",
          "data": {
            "text/html": [
              "<div>\n",
              "<style scoped>\n",
              "    .dataframe tbody tr th:only-of-type {\n",
              "        vertical-align: middle;\n",
              "    }\n",
              "\n",
              "    .dataframe tbody tr th {\n",
              "        vertical-align: top;\n",
              "    }\n",
              "\n",
              "    .dataframe thead tr th {\n",
              "        text-align: left;\n",
              "    }\n",
              "\n",
              "    .dataframe thead tr:last-of-type th {\n",
              "        text-align: right;\n",
              "    }\n",
              "</style>\n",
              "<table border=\"1\" class=\"dataframe\">\n",
              "  <thead>\n",
              "    <tr>\n",
              "      <th></th>\n",
              "      <th>total_bill</th>\n",
              "      <th colspan=\"2\" halign=\"left\">tip</th>\n",
              "    </tr>\n",
              "    <tr>\n",
              "      <th></th>\n",
              "      <th>mean</th>\n",
              "      <th>min</th>\n",
              "      <th>max</th>\n",
              "    </tr>\n",
              "    <tr>\n",
              "      <th>time</th>\n",
              "      <th></th>\n",
              "      <th></th>\n",
              "      <th></th>\n",
              "    </tr>\n",
              "  </thead>\n",
              "  <tbody>\n",
              "    <tr>\n",
              "      <th>Lunch</th>\n",
              "      <td>17.168676</td>\n",
              "      <td>1.25</td>\n",
              "      <td>6.7</td>\n",
              "    </tr>\n",
              "    <tr>\n",
              "      <th>Dinner</th>\n",
              "      <td>20.797159</td>\n",
              "      <td>1.00</td>\n",
              "      <td>10.0</td>\n",
              "    </tr>\n",
              "  </tbody>\n",
              "</table>\n",
              "</div>"
            ],
            "text/plain": [
              "       total_bill   tip      \n",
              "             mean   min   max\n",
              "time                         \n",
              "Lunch   17.168676  1.25   6.7\n",
              "Dinner  20.797159  1.00  10.0"
            ]
          },
          "metadata": {
            "tags": []
          },
          "execution_count": 104
        }
      ]
    },
    {
      "cell_type": "code",
      "metadata": {
        "colab": {
          "base_uri": "https://localhost:8080/",
          "height": 181
        },
        "id": "zu3qFcsDxqtz",
        "outputId": "ad9c0522-a372-4c1a-b57e-ea8ddcd877cc"
      },
      "source": [
        "tips.pivot_table(values=['total_bill', 'tip'],\r\n",
        "                 index='time',\r\n",
        "                 aggfunc={'total_bill': 'mean', \r\n",
        "                          'tip': ['min', 'max']})"
      ],
      "execution_count": 105,
      "outputs": [
        {
          "output_type": "execute_result",
          "data": {
            "text/html": [
              "<div>\n",
              "<style scoped>\n",
              "    .dataframe tbody tr th:only-of-type {\n",
              "        vertical-align: middle;\n",
              "    }\n",
              "\n",
              "    .dataframe tbody tr th {\n",
              "        vertical-align: top;\n",
              "    }\n",
              "\n",
              "    .dataframe thead tr th {\n",
              "        text-align: left;\n",
              "    }\n",
              "\n",
              "    .dataframe thead tr:last-of-type th {\n",
              "        text-align: right;\n",
              "    }\n",
              "</style>\n",
              "<table border=\"1\" class=\"dataframe\">\n",
              "  <thead>\n",
              "    <tr>\n",
              "      <th></th>\n",
              "      <th colspan=\"2\" halign=\"left\">tip</th>\n",
              "      <th>total_bill</th>\n",
              "    </tr>\n",
              "    <tr>\n",
              "      <th></th>\n",
              "      <th>max</th>\n",
              "      <th>min</th>\n",
              "      <th>mean</th>\n",
              "    </tr>\n",
              "    <tr>\n",
              "      <th>time</th>\n",
              "      <th></th>\n",
              "      <th></th>\n",
              "      <th></th>\n",
              "    </tr>\n",
              "  </thead>\n",
              "  <tbody>\n",
              "    <tr>\n",
              "      <th>Lunch</th>\n",
              "      <td>6.7</td>\n",
              "      <td>1.25</td>\n",
              "      <td>17.168676</td>\n",
              "    </tr>\n",
              "    <tr>\n",
              "      <th>Dinner</th>\n",
              "      <td>10.0</td>\n",
              "      <td>1.00</td>\n",
              "      <td>20.797159</td>\n",
              "    </tr>\n",
              "  </tbody>\n",
              "</table>\n",
              "</div>"
            ],
            "text/plain": [
              "         tip       total_bill\n",
              "         max   min       mean\n",
              "time                         \n",
              "Lunch    6.7  1.25  17.168676\n",
              "Dinner  10.0  1.00  20.797159"
            ]
          },
          "metadata": {
            "tags": []
          },
          "execution_count": 105
        }
      ]
    },
    {
      "cell_type": "markdown",
      "metadata": {
        "id": "O7572chYyWbp"
      },
      "source": [
        "*   tips 데이터 프레임에 `tip_pct = tip / total_bill` 파생 변수 추가\r\n",
        "*   시간별, 흡연여부별, 요일별 total_bill의 평균, tip_pct의 평균과 표준편차, tip의 최댓값과 최솟값"
      ]
    },
    {
      "cell_type": "code",
      "metadata": {
        "colab": {
          "base_uri": "https://localhost:8080/",
          "height": 214
        },
        "id": "jhZzXIyYy8pa",
        "outputId": "3e8f30b3-64f7-47c8-d470-87ae753b8ea2"
      },
      "source": [
        "tips['tip_pct'] = tips['tip'] / tips['total_bill']\r\n",
        "tips.head()"
      ],
      "execution_count": 106,
      "outputs": [
        {
          "output_type": "execute_result",
          "data": {
            "text/html": [
              "<div>\n",
              "<style scoped>\n",
              "    .dataframe tbody tr th:only-of-type {\n",
              "        vertical-align: middle;\n",
              "    }\n",
              "\n",
              "    .dataframe tbody tr th {\n",
              "        vertical-align: top;\n",
              "    }\n",
              "\n",
              "    .dataframe thead th {\n",
              "        text-align: right;\n",
              "    }\n",
              "</style>\n",
              "<table border=\"1\" class=\"dataframe\">\n",
              "  <thead>\n",
              "    <tr style=\"text-align: right;\">\n",
              "      <th></th>\n",
              "      <th>total_bill</th>\n",
              "      <th>tip</th>\n",
              "      <th>sex</th>\n",
              "      <th>smoker</th>\n",
              "      <th>day</th>\n",
              "      <th>time</th>\n",
              "      <th>size</th>\n",
              "      <th>tip_pct</th>\n",
              "    </tr>\n",
              "  </thead>\n",
              "  <tbody>\n",
              "    <tr>\n",
              "      <th>0</th>\n",
              "      <td>16.99</td>\n",
              "      <td>1.01</td>\n",
              "      <td>Female</td>\n",
              "      <td>No</td>\n",
              "      <td>Sun</td>\n",
              "      <td>Dinner</td>\n",
              "      <td>2</td>\n",
              "      <td>0.059447</td>\n",
              "    </tr>\n",
              "    <tr>\n",
              "      <th>1</th>\n",
              "      <td>10.34</td>\n",
              "      <td>1.66</td>\n",
              "      <td>Male</td>\n",
              "      <td>No</td>\n",
              "      <td>Sun</td>\n",
              "      <td>Dinner</td>\n",
              "      <td>3</td>\n",
              "      <td>0.160542</td>\n",
              "    </tr>\n",
              "    <tr>\n",
              "      <th>2</th>\n",
              "      <td>21.01</td>\n",
              "      <td>3.50</td>\n",
              "      <td>Male</td>\n",
              "      <td>No</td>\n",
              "      <td>Sun</td>\n",
              "      <td>Dinner</td>\n",
              "      <td>3</td>\n",
              "      <td>0.166587</td>\n",
              "    </tr>\n",
              "    <tr>\n",
              "      <th>3</th>\n",
              "      <td>23.68</td>\n",
              "      <td>3.31</td>\n",
              "      <td>Male</td>\n",
              "      <td>No</td>\n",
              "      <td>Sun</td>\n",
              "      <td>Dinner</td>\n",
              "      <td>2</td>\n",
              "      <td>0.139780</td>\n",
              "    </tr>\n",
              "    <tr>\n",
              "      <th>4</th>\n",
              "      <td>24.59</td>\n",
              "      <td>3.61</td>\n",
              "      <td>Female</td>\n",
              "      <td>No</td>\n",
              "      <td>Sun</td>\n",
              "      <td>Dinner</td>\n",
              "      <td>4</td>\n",
              "      <td>0.146808</td>\n",
              "    </tr>\n",
              "  </tbody>\n",
              "</table>\n",
              "</div>"
            ],
            "text/plain": [
              "   total_bill   tip     sex smoker  day    time  size   tip_pct\n",
              "0       16.99  1.01  Female     No  Sun  Dinner     2  0.059447\n",
              "1       10.34  1.66    Male     No  Sun  Dinner     3  0.160542\n",
              "2       21.01  3.50    Male     No  Sun  Dinner     3  0.166587\n",
              "3       23.68  3.31    Male     No  Sun  Dinner     2  0.139780\n",
              "4       24.59  3.61  Female     No  Sun  Dinner     4  0.146808"
            ]
          },
          "metadata": {
            "tags": []
          },
          "execution_count": 106
        }
      ]
    },
    {
      "cell_type": "code",
      "metadata": {
        "colab": {
          "base_uri": "https://localhost:8080/",
          "height": 639
        },
        "id": "ig7eAnrz2HxT",
        "outputId": "750b7382-5280-44eb-bc99-0cc224bf7353"
      },
      "source": [
        "tips.groupby(by=['time', 'smoker', 'day'])[['total_bill', 'tip_pct', 'tip']].agg({\r\n",
        "    'total_bill': 'mean',\r\n",
        "    'tip_pct': ['mean', 'std'],\r\n",
        "    'tip': ['min', 'max']\r\n",
        "})"
      ],
      "execution_count": 107,
      "outputs": [
        {
          "output_type": "execute_result",
          "data": {
            "text/html": [
              "<div>\n",
              "<style scoped>\n",
              "    .dataframe tbody tr th:only-of-type {\n",
              "        vertical-align: middle;\n",
              "    }\n",
              "\n",
              "    .dataframe tbody tr th {\n",
              "        vertical-align: top;\n",
              "    }\n",
              "\n",
              "    .dataframe thead tr th {\n",
              "        text-align: left;\n",
              "    }\n",
              "\n",
              "    .dataframe thead tr:last-of-type th {\n",
              "        text-align: right;\n",
              "    }\n",
              "</style>\n",
              "<table border=\"1\" class=\"dataframe\">\n",
              "  <thead>\n",
              "    <tr>\n",
              "      <th></th>\n",
              "      <th></th>\n",
              "      <th></th>\n",
              "      <th>total_bill</th>\n",
              "      <th colspan=\"2\" halign=\"left\">tip_pct</th>\n",
              "      <th colspan=\"2\" halign=\"left\">tip</th>\n",
              "    </tr>\n",
              "    <tr>\n",
              "      <th></th>\n",
              "      <th></th>\n",
              "      <th></th>\n",
              "      <th>mean</th>\n",
              "      <th>mean</th>\n",
              "      <th>std</th>\n",
              "      <th>min</th>\n",
              "      <th>max</th>\n",
              "    </tr>\n",
              "    <tr>\n",
              "      <th>time</th>\n",
              "      <th>smoker</th>\n",
              "      <th>day</th>\n",
              "      <th></th>\n",
              "      <th></th>\n",
              "      <th></th>\n",
              "      <th></th>\n",
              "      <th></th>\n",
              "    </tr>\n",
              "  </thead>\n",
              "  <tbody>\n",
              "    <tr>\n",
              "      <th rowspan=\"8\" valign=\"top\">Lunch</th>\n",
              "      <th rowspan=\"4\" valign=\"top\">Yes</th>\n",
              "      <th>Thur</th>\n",
              "      <td>19.190588</td>\n",
              "      <td>0.163863</td>\n",
              "      <td>0.039389</td>\n",
              "      <td>2.00</td>\n",
              "      <td>5.00</td>\n",
              "    </tr>\n",
              "    <tr>\n",
              "      <th>Fri</th>\n",
              "      <td>12.323333</td>\n",
              "      <td>0.188937</td>\n",
              "      <td>0.050262</td>\n",
              "      <td>1.58</td>\n",
              "      <td>3.48</td>\n",
              "    </tr>\n",
              "    <tr>\n",
              "      <th>Sat</th>\n",
              "      <td>NaN</td>\n",
              "      <td>NaN</td>\n",
              "      <td>NaN</td>\n",
              "      <td>NaN</td>\n",
              "      <td>NaN</td>\n",
              "    </tr>\n",
              "    <tr>\n",
              "      <th>Sun</th>\n",
              "      <td>NaN</td>\n",
              "      <td>NaN</td>\n",
              "      <td>NaN</td>\n",
              "      <td>NaN</td>\n",
              "      <td>NaN</td>\n",
              "    </tr>\n",
              "    <tr>\n",
              "      <th rowspan=\"4\" valign=\"top\">No</th>\n",
              "      <th>Thur</th>\n",
              "      <td>17.075227</td>\n",
              "      <td>0.160311</td>\n",
              "      <td>0.039222</td>\n",
              "      <td>1.25</td>\n",
              "      <td>6.70</td>\n",
              "    </tr>\n",
              "    <tr>\n",
              "      <th>Fri</th>\n",
              "      <td>15.980000</td>\n",
              "      <td>0.187735</td>\n",
              "      <td>NaN</td>\n",
              "      <td>3.00</td>\n",
              "      <td>3.00</td>\n",
              "    </tr>\n",
              "    <tr>\n",
              "      <th>Sat</th>\n",
              "      <td>NaN</td>\n",
              "      <td>NaN</td>\n",
              "      <td>NaN</td>\n",
              "      <td>NaN</td>\n",
              "      <td>NaN</td>\n",
              "    </tr>\n",
              "    <tr>\n",
              "      <th>Sun</th>\n",
              "      <td>NaN</td>\n",
              "      <td>NaN</td>\n",
              "      <td>NaN</td>\n",
              "      <td>NaN</td>\n",
              "      <td>NaN</td>\n",
              "    </tr>\n",
              "    <tr>\n",
              "      <th rowspan=\"8\" valign=\"top\">Dinner</th>\n",
              "      <th rowspan=\"4\" valign=\"top\">Yes</th>\n",
              "      <th>Thur</th>\n",
              "      <td>NaN</td>\n",
              "      <td>NaN</td>\n",
              "      <td>NaN</td>\n",
              "      <td>NaN</td>\n",
              "      <td>NaN</td>\n",
              "    </tr>\n",
              "    <tr>\n",
              "      <th>Fri</th>\n",
              "      <td>19.806667</td>\n",
              "      <td>0.165347</td>\n",
              "      <td>0.052676</td>\n",
              "      <td>1.00</td>\n",
              "      <td>4.73</td>\n",
              "    </tr>\n",
              "    <tr>\n",
              "      <th>Sat</th>\n",
              "      <td>21.276667</td>\n",
              "      <td>0.147906</td>\n",
              "      <td>0.061375</td>\n",
              "      <td>1.00</td>\n",
              "      <td>10.00</td>\n",
              "    </tr>\n",
              "    <tr>\n",
              "      <th>Sun</th>\n",
              "      <td>24.120000</td>\n",
              "      <td>0.187250</td>\n",
              "      <td>0.154134</td>\n",
              "      <td>1.50</td>\n",
              "      <td>6.50</td>\n",
              "    </tr>\n",
              "    <tr>\n",
              "      <th rowspan=\"4\" valign=\"top\">No</th>\n",
              "      <th>Thur</th>\n",
              "      <td>18.780000</td>\n",
              "      <td>0.159744</td>\n",
              "      <td>NaN</td>\n",
              "      <td>3.00</td>\n",
              "      <td>3.00</td>\n",
              "    </tr>\n",
              "    <tr>\n",
              "      <th>Fri</th>\n",
              "      <td>19.233333</td>\n",
              "      <td>0.139622</td>\n",
              "      <td>0.017841</td>\n",
              "      <td>1.50</td>\n",
              "      <td>3.50</td>\n",
              "    </tr>\n",
              "    <tr>\n",
              "      <th>Sat</th>\n",
              "      <td>19.661778</td>\n",
              "      <td>0.158048</td>\n",
              "      <td>0.039767</td>\n",
              "      <td>1.00</td>\n",
              "      <td>9.00</td>\n",
              "    </tr>\n",
              "    <tr>\n",
              "      <th>Sun</th>\n",
              "      <td>20.506667</td>\n",
              "      <td>0.160113</td>\n",
              "      <td>0.042347</td>\n",
              "      <td>1.01</td>\n",
              "      <td>6.00</td>\n",
              "    </tr>\n",
              "  </tbody>\n",
              "</table>\n",
              "</div>"
            ],
            "text/plain": [
              "                   total_bill   tip_pct             tip       \n",
              "                         mean      mean       std   min    max\n",
              "time   smoker day                                             \n",
              "Lunch  Yes    Thur  19.190588  0.163863  0.039389  2.00   5.00\n",
              "              Fri   12.323333  0.188937  0.050262  1.58   3.48\n",
              "              Sat         NaN       NaN       NaN   NaN    NaN\n",
              "              Sun         NaN       NaN       NaN   NaN    NaN\n",
              "       No     Thur  17.075227  0.160311  0.039222  1.25   6.70\n",
              "              Fri   15.980000  0.187735       NaN  3.00   3.00\n",
              "              Sat         NaN       NaN       NaN   NaN    NaN\n",
              "              Sun         NaN       NaN       NaN   NaN    NaN\n",
              "Dinner Yes    Thur        NaN       NaN       NaN   NaN    NaN\n",
              "              Fri   19.806667  0.165347  0.052676  1.00   4.73\n",
              "              Sat   21.276667  0.147906  0.061375  1.00  10.00\n",
              "              Sun   24.120000  0.187250  0.154134  1.50   6.50\n",
              "       No     Thur  18.780000  0.159744       NaN  3.00   3.00\n",
              "              Fri   19.233333  0.139622  0.017841  1.50   3.50\n",
              "              Sat   19.661778  0.158048  0.039767  1.00   9.00\n",
              "              Sun   20.506667  0.160113  0.042347  1.01   6.00"
            ]
          },
          "metadata": {
            "tags": []
          },
          "execution_count": 107
        }
      ]
    },
    {
      "cell_type": "markdown",
      "metadata": {
        "id": "eJ7pVt1O0RaZ"
      },
      "source": [
        "*   [gapminder.tsv](https://github.com/JakeOh/202011_itw_bd21/raw/main/datasets/gapminder.tsv) 파일을 읽고 DataFrame을 생성\r\n",
        "*   연도별 대륙별 인구 숫자를 `groupby`를 사용해서 집계\r\n",
        "*   연도별 대륙별 인구 숫자를 `pivot_table`을 사용해서 집계\r\n",
        "*   선그래프(x축-연도, y축-인구, 색깔-대륙) 그릴 수 있도록 groupby 결과를 변형\r\n",
        "*   선그래프 시각화"
      ]
    },
    {
      "cell_type": "code",
      "metadata": {
        "colab": {
          "base_uri": "https://localhost:8080/",
          "height": 214
        },
        "id": "x1q9fY8l0Q7a",
        "outputId": "3c9a72ec-e145-4f70-d802-75e97bb1839d"
      },
      "source": [
        "file_path = 'https://github.com/JakeOh/202011_itw_bd21/raw/main/datasets/gapminder.tsv'\r\n",
        "gapminder = pd.read_csv(file_path, sep='\\t')\r\n",
        "gapminder.head()"
      ],
      "execution_count": 108,
      "outputs": [
        {
          "output_type": "execute_result",
          "data": {
            "text/html": [
              "<div>\n",
              "<style scoped>\n",
              "    .dataframe tbody tr th:only-of-type {\n",
              "        vertical-align: middle;\n",
              "    }\n",
              "\n",
              "    .dataframe tbody tr th {\n",
              "        vertical-align: top;\n",
              "    }\n",
              "\n",
              "    .dataframe thead th {\n",
              "        text-align: right;\n",
              "    }\n",
              "</style>\n",
              "<table border=\"1\" class=\"dataframe\">\n",
              "  <thead>\n",
              "    <tr style=\"text-align: right;\">\n",
              "      <th></th>\n",
              "      <th>country</th>\n",
              "      <th>continent</th>\n",
              "      <th>year</th>\n",
              "      <th>lifeExp</th>\n",
              "      <th>pop</th>\n",
              "      <th>gdpPercap</th>\n",
              "    </tr>\n",
              "  </thead>\n",
              "  <tbody>\n",
              "    <tr>\n",
              "      <th>0</th>\n",
              "      <td>Afghanistan</td>\n",
              "      <td>Asia</td>\n",
              "      <td>1952</td>\n",
              "      <td>28.801</td>\n",
              "      <td>8425333</td>\n",
              "      <td>779.445314</td>\n",
              "    </tr>\n",
              "    <tr>\n",
              "      <th>1</th>\n",
              "      <td>Afghanistan</td>\n",
              "      <td>Asia</td>\n",
              "      <td>1957</td>\n",
              "      <td>30.332</td>\n",
              "      <td>9240934</td>\n",
              "      <td>820.853030</td>\n",
              "    </tr>\n",
              "    <tr>\n",
              "      <th>2</th>\n",
              "      <td>Afghanistan</td>\n",
              "      <td>Asia</td>\n",
              "      <td>1962</td>\n",
              "      <td>31.997</td>\n",
              "      <td>10267083</td>\n",
              "      <td>853.100710</td>\n",
              "    </tr>\n",
              "    <tr>\n",
              "      <th>3</th>\n",
              "      <td>Afghanistan</td>\n",
              "      <td>Asia</td>\n",
              "      <td>1967</td>\n",
              "      <td>34.020</td>\n",
              "      <td>11537966</td>\n",
              "      <td>836.197138</td>\n",
              "    </tr>\n",
              "    <tr>\n",
              "      <th>4</th>\n",
              "      <td>Afghanistan</td>\n",
              "      <td>Asia</td>\n",
              "      <td>1972</td>\n",
              "      <td>36.088</td>\n",
              "      <td>13079460</td>\n",
              "      <td>739.981106</td>\n",
              "    </tr>\n",
              "  </tbody>\n",
              "</table>\n",
              "</div>"
            ],
            "text/plain": [
              "       country continent  year  lifeExp       pop   gdpPercap\n",
              "0  Afghanistan      Asia  1952   28.801   8425333  779.445314\n",
              "1  Afghanistan      Asia  1957   30.332   9240934  820.853030\n",
              "2  Afghanistan      Asia  1962   31.997  10267083  853.100710\n",
              "3  Afghanistan      Asia  1967   34.020  11537966  836.197138\n",
              "4  Afghanistan      Asia  1972   36.088  13079460  739.981106"
            ]
          },
          "metadata": {
            "tags": []
          },
          "execution_count": 108
        }
      ]
    },
    {
      "cell_type": "code",
      "metadata": {
        "colab": {
          "base_uri": "https://localhost:8080/"
        },
        "id": "T2ndz95--lG2",
        "outputId": "c166b282-c00a-4330-aade-ee1d34275c44"
      },
      "source": [
        "gapminder.shape"
      ],
      "execution_count": 109,
      "outputs": [
        {
          "output_type": "execute_result",
          "data": {
            "text/plain": [
              "(1704, 6)"
            ]
          },
          "metadata": {
            "tags": []
          },
          "execution_count": 109
        }
      ]
    },
    {
      "cell_type": "code",
      "metadata": {
        "colab": {
          "base_uri": "https://localhost:8080/",
          "height": 214
        },
        "id": "uarUdRlp-qOf",
        "outputId": "c9718900-cb53-4ee1-b56a-c62093b8b063"
      },
      "source": [
        "gapminder.tail()"
      ],
      "execution_count": 110,
      "outputs": [
        {
          "output_type": "execute_result",
          "data": {
            "text/html": [
              "<div>\n",
              "<style scoped>\n",
              "    .dataframe tbody tr th:only-of-type {\n",
              "        vertical-align: middle;\n",
              "    }\n",
              "\n",
              "    .dataframe tbody tr th {\n",
              "        vertical-align: top;\n",
              "    }\n",
              "\n",
              "    .dataframe thead th {\n",
              "        text-align: right;\n",
              "    }\n",
              "</style>\n",
              "<table border=\"1\" class=\"dataframe\">\n",
              "  <thead>\n",
              "    <tr style=\"text-align: right;\">\n",
              "      <th></th>\n",
              "      <th>country</th>\n",
              "      <th>continent</th>\n",
              "      <th>year</th>\n",
              "      <th>lifeExp</th>\n",
              "      <th>pop</th>\n",
              "      <th>gdpPercap</th>\n",
              "    </tr>\n",
              "  </thead>\n",
              "  <tbody>\n",
              "    <tr>\n",
              "      <th>1699</th>\n",
              "      <td>Zimbabwe</td>\n",
              "      <td>Africa</td>\n",
              "      <td>1987</td>\n",
              "      <td>62.351</td>\n",
              "      <td>9216418</td>\n",
              "      <td>706.157306</td>\n",
              "    </tr>\n",
              "    <tr>\n",
              "      <th>1700</th>\n",
              "      <td>Zimbabwe</td>\n",
              "      <td>Africa</td>\n",
              "      <td>1992</td>\n",
              "      <td>60.377</td>\n",
              "      <td>10704340</td>\n",
              "      <td>693.420786</td>\n",
              "    </tr>\n",
              "    <tr>\n",
              "      <th>1701</th>\n",
              "      <td>Zimbabwe</td>\n",
              "      <td>Africa</td>\n",
              "      <td>1997</td>\n",
              "      <td>46.809</td>\n",
              "      <td>11404948</td>\n",
              "      <td>792.449960</td>\n",
              "    </tr>\n",
              "    <tr>\n",
              "      <th>1702</th>\n",
              "      <td>Zimbabwe</td>\n",
              "      <td>Africa</td>\n",
              "      <td>2002</td>\n",
              "      <td>39.989</td>\n",
              "      <td>11926563</td>\n",
              "      <td>672.038623</td>\n",
              "    </tr>\n",
              "    <tr>\n",
              "      <th>1703</th>\n",
              "      <td>Zimbabwe</td>\n",
              "      <td>Africa</td>\n",
              "      <td>2007</td>\n",
              "      <td>43.487</td>\n",
              "      <td>12311143</td>\n",
              "      <td>469.709298</td>\n",
              "    </tr>\n",
              "  </tbody>\n",
              "</table>\n",
              "</div>"
            ],
            "text/plain": [
              "       country continent  year  lifeExp       pop   gdpPercap\n",
              "1699  Zimbabwe    Africa  1987   62.351   9216418  706.157306\n",
              "1700  Zimbabwe    Africa  1992   60.377  10704340  693.420786\n",
              "1701  Zimbabwe    Africa  1997   46.809  11404948  792.449960\n",
              "1702  Zimbabwe    Africa  2002   39.989  11926563  672.038623\n",
              "1703  Zimbabwe    Africa  2007   43.487  12311143  469.709298"
            ]
          },
          "metadata": {
            "tags": []
          },
          "execution_count": 110
        }
      ]
    },
    {
      "cell_type": "code",
      "metadata": {
        "colab": {
          "base_uri": "https://localhost:8080/"
        },
        "id": "IaI1A6u3-uqO",
        "outputId": "6d2ebe89-8275-46d8-c04a-192f2723e48b"
      },
      "source": [
        "gapminder.info()"
      ],
      "execution_count": 111,
      "outputs": [
        {
          "output_type": "stream",
          "text": [
            "<class 'pandas.core.frame.DataFrame'>\n",
            "RangeIndex: 1704 entries, 0 to 1703\n",
            "Data columns (total 6 columns):\n",
            " #   Column     Non-Null Count  Dtype  \n",
            "---  ------     --------------  -----  \n",
            " 0   country    1704 non-null   object \n",
            " 1   continent  1704 non-null   object \n",
            " 2   year       1704 non-null   int64  \n",
            " 3   lifeExp    1704 non-null   float64\n",
            " 4   pop        1704 non-null   int64  \n",
            " 5   gdpPercap  1704 non-null   float64\n",
            "dtypes: float64(2), int64(2), object(2)\n",
            "memory usage: 80.0+ KB\n"
          ],
          "name": "stdout"
        }
      ]
    },
    {
      "cell_type": "code",
      "metadata": {
        "colab": {
          "base_uri": "https://localhost:8080/",
          "height": 1000
        },
        "id": "yjaOJahV_Dt3",
        "outputId": "f6092b7c-dca8-4ce8-a00a-be91b67ba447"
      },
      "source": [
        "grouped = gapminder.groupby(by=['year', 'continent'])[['pop']].sum()\r\n",
        "grouped"
      ],
      "execution_count": 113,
      "outputs": [
        {
          "output_type": "execute_result",
          "data": {
            "text/html": [
              "<div>\n",
              "<style scoped>\n",
              "    .dataframe tbody tr th:only-of-type {\n",
              "        vertical-align: middle;\n",
              "    }\n",
              "\n",
              "    .dataframe tbody tr th {\n",
              "        vertical-align: top;\n",
              "    }\n",
              "\n",
              "    .dataframe thead th {\n",
              "        text-align: right;\n",
              "    }\n",
              "</style>\n",
              "<table border=\"1\" class=\"dataframe\">\n",
              "  <thead>\n",
              "    <tr style=\"text-align: right;\">\n",
              "      <th></th>\n",
              "      <th></th>\n",
              "      <th>pop</th>\n",
              "    </tr>\n",
              "    <tr>\n",
              "      <th>year</th>\n",
              "      <th>continent</th>\n",
              "      <th></th>\n",
              "    </tr>\n",
              "  </thead>\n",
              "  <tbody>\n",
              "    <tr>\n",
              "      <th rowspan=\"5\" valign=\"top\">1952</th>\n",
              "      <th>Africa</th>\n",
              "      <td>237640501</td>\n",
              "    </tr>\n",
              "    <tr>\n",
              "      <th>Americas</th>\n",
              "      <td>345152446</td>\n",
              "    </tr>\n",
              "    <tr>\n",
              "      <th>Asia</th>\n",
              "      <td>1395357351</td>\n",
              "    </tr>\n",
              "    <tr>\n",
              "      <th>Europe</th>\n",
              "      <td>418120846</td>\n",
              "    </tr>\n",
              "    <tr>\n",
              "      <th>Oceania</th>\n",
              "      <td>10686006</td>\n",
              "    </tr>\n",
              "    <tr>\n",
              "      <th rowspan=\"5\" valign=\"top\">1957</th>\n",
              "      <th>Africa</th>\n",
              "      <td>264837738</td>\n",
              "    </tr>\n",
              "    <tr>\n",
              "      <th>Americas</th>\n",
              "      <td>386953916</td>\n",
              "    </tr>\n",
              "    <tr>\n",
              "      <th>Asia</th>\n",
              "      <td>1562780599</td>\n",
              "    </tr>\n",
              "    <tr>\n",
              "      <th>Europe</th>\n",
              "      <td>437890351</td>\n",
              "    </tr>\n",
              "    <tr>\n",
              "      <th>Oceania</th>\n",
              "      <td>11941976</td>\n",
              "    </tr>\n",
              "    <tr>\n",
              "      <th rowspan=\"5\" valign=\"top\">1962</th>\n",
              "      <th>Africa</th>\n",
              "      <td>296516865</td>\n",
              "    </tr>\n",
              "    <tr>\n",
              "      <th>Americas</th>\n",
              "      <td>433270254</td>\n",
              "    </tr>\n",
              "    <tr>\n",
              "      <th>Asia</th>\n",
              "      <td>1696357182</td>\n",
              "    </tr>\n",
              "    <tr>\n",
              "      <th>Europe</th>\n",
              "      <td>460355155</td>\n",
              "    </tr>\n",
              "    <tr>\n",
              "      <th>Oceania</th>\n",
              "      <td>13283518</td>\n",
              "    </tr>\n",
              "    <tr>\n",
              "      <th rowspan=\"5\" valign=\"top\">1967</th>\n",
              "      <th>Africa</th>\n",
              "      <td>335289489</td>\n",
              "    </tr>\n",
              "    <tr>\n",
              "      <th>Americas</th>\n",
              "      <td>480746623</td>\n",
              "    </tr>\n",
              "    <tr>\n",
              "      <th>Asia</th>\n",
              "      <td>1905662900</td>\n",
              "    </tr>\n",
              "    <tr>\n",
              "      <th>Europe</th>\n",
              "      <td>481178958</td>\n",
              "    </tr>\n",
              "    <tr>\n",
              "      <th>Oceania</th>\n",
              "      <td>14600414</td>\n",
              "    </tr>\n",
              "    <tr>\n",
              "      <th rowspan=\"5\" valign=\"top\">1972</th>\n",
              "      <th>Africa</th>\n",
              "      <td>379879541</td>\n",
              "    </tr>\n",
              "    <tr>\n",
              "      <th>Americas</th>\n",
              "      <td>529384210</td>\n",
              "    </tr>\n",
              "    <tr>\n",
              "      <th>Asia</th>\n",
              "      <td>2150972248</td>\n",
              "    </tr>\n",
              "    <tr>\n",
              "      <th>Europe</th>\n",
              "      <td>500635059</td>\n",
              "    </tr>\n",
              "    <tr>\n",
              "      <th>Oceania</th>\n",
              "      <td>16106100</td>\n",
              "    </tr>\n",
              "    <tr>\n",
              "      <th rowspan=\"5\" valign=\"top\">1977</th>\n",
              "      <th>Africa</th>\n",
              "      <td>433061021</td>\n",
              "    </tr>\n",
              "    <tr>\n",
              "      <th>Americas</th>\n",
              "      <td>578067699</td>\n",
              "    </tr>\n",
              "    <tr>\n",
              "      <th>Asia</th>\n",
              "      <td>2384513556</td>\n",
              "    </tr>\n",
              "    <tr>\n",
              "      <th>Europe</th>\n",
              "      <td>517164531</td>\n",
              "    </tr>\n",
              "    <tr>\n",
              "      <th>Oceania</th>\n",
              "      <td>17239000</td>\n",
              "    </tr>\n",
              "    <tr>\n",
              "      <th rowspan=\"5\" valign=\"top\">1982</th>\n",
              "      <th>Africa</th>\n",
              "      <td>499348587</td>\n",
              "    </tr>\n",
              "    <tr>\n",
              "      <th>Americas</th>\n",
              "      <td>630290920</td>\n",
              "    </tr>\n",
              "    <tr>\n",
              "      <th>Asia</th>\n",
              "      <td>2610135582</td>\n",
              "    </tr>\n",
              "    <tr>\n",
              "      <th>Europe</th>\n",
              "      <td>531266901</td>\n",
              "    </tr>\n",
              "    <tr>\n",
              "      <th>Oceania</th>\n",
              "      <td>18394850</td>\n",
              "    </tr>\n",
              "    <tr>\n",
              "      <th rowspan=\"5\" valign=\"top\">1987</th>\n",
              "      <th>Africa</th>\n",
              "      <td>574834110</td>\n",
              "    </tr>\n",
              "    <tr>\n",
              "      <th>Americas</th>\n",
              "      <td>682753971</td>\n",
              "    </tr>\n",
              "    <tr>\n",
              "      <th>Asia</th>\n",
              "      <td>2871220762</td>\n",
              "    </tr>\n",
              "    <tr>\n",
              "      <th>Europe</th>\n",
              "      <td>543094160</td>\n",
              "    </tr>\n",
              "    <tr>\n",
              "      <th>Oceania</th>\n",
              "      <td>19574415</td>\n",
              "    </tr>\n",
              "    <tr>\n",
              "      <th rowspan=\"5\" valign=\"top\">1992</th>\n",
              "      <th>Africa</th>\n",
              "      <td>659081517</td>\n",
              "    </tr>\n",
              "    <tr>\n",
              "      <th>Americas</th>\n",
              "      <td>739274104</td>\n",
              "    </tr>\n",
              "    <tr>\n",
              "      <th>Asia</th>\n",
              "      <td>3133292191</td>\n",
              "    </tr>\n",
              "    <tr>\n",
              "      <th>Europe</th>\n",
              "      <td>558142797</td>\n",
              "    </tr>\n",
              "    <tr>\n",
              "      <th>Oceania</th>\n",
              "      <td>20919651</td>\n",
              "    </tr>\n",
              "    <tr>\n",
              "      <th rowspan=\"5\" valign=\"top\">1997</th>\n",
              "      <th>Africa</th>\n",
              "      <td>743832984</td>\n",
              "    </tr>\n",
              "    <tr>\n",
              "      <th>Americas</th>\n",
              "      <td>796900410</td>\n",
              "    </tr>\n",
              "    <tr>\n",
              "      <th>Asia</th>\n",
              "      <td>3383285500</td>\n",
              "    </tr>\n",
              "    <tr>\n",
              "      <th>Europe</th>\n",
              "      <td>568944148</td>\n",
              "    </tr>\n",
              "    <tr>\n",
              "      <th>Oceania</th>\n",
              "      <td>22241430</td>\n",
              "    </tr>\n",
              "    <tr>\n",
              "      <th rowspan=\"5\" valign=\"top\">2002</th>\n",
              "      <th>Africa</th>\n",
              "      <td>833723916</td>\n",
              "    </tr>\n",
              "    <tr>\n",
              "      <th>Americas</th>\n",
              "      <td>849772762</td>\n",
              "    </tr>\n",
              "    <tr>\n",
              "      <th>Asia</th>\n",
              "      <td>3601802203</td>\n",
              "    </tr>\n",
              "    <tr>\n",
              "      <th>Europe</th>\n",
              "      <td>578223869</td>\n",
              "    </tr>\n",
              "    <tr>\n",
              "      <th>Oceania</th>\n",
              "      <td>23454829</td>\n",
              "    </tr>\n",
              "    <tr>\n",
              "      <th rowspan=\"5\" valign=\"top\">2007</th>\n",
              "      <th>Africa</th>\n",
              "      <td>929539692</td>\n",
              "    </tr>\n",
              "    <tr>\n",
              "      <th>Americas</th>\n",
              "      <td>898871184</td>\n",
              "    </tr>\n",
              "    <tr>\n",
              "      <th>Asia</th>\n",
              "      <td>3811953827</td>\n",
              "    </tr>\n",
              "    <tr>\n",
              "      <th>Europe</th>\n",
              "      <td>586098529</td>\n",
              "    </tr>\n",
              "    <tr>\n",
              "      <th>Oceania</th>\n",
              "      <td>24549947</td>\n",
              "    </tr>\n",
              "  </tbody>\n",
              "</table>\n",
              "</div>"
            ],
            "text/plain": [
              "                       pop\n",
              "year continent            \n",
              "1952 Africa      237640501\n",
              "     Americas    345152446\n",
              "     Asia       1395357351\n",
              "     Europe      418120846\n",
              "     Oceania      10686006\n",
              "1957 Africa      264837738\n",
              "     Americas    386953916\n",
              "     Asia       1562780599\n",
              "     Europe      437890351\n",
              "     Oceania      11941976\n",
              "1962 Africa      296516865\n",
              "     Americas    433270254\n",
              "     Asia       1696357182\n",
              "     Europe      460355155\n",
              "     Oceania      13283518\n",
              "1967 Africa      335289489\n",
              "     Americas    480746623\n",
              "     Asia       1905662900\n",
              "     Europe      481178958\n",
              "     Oceania      14600414\n",
              "1972 Africa      379879541\n",
              "     Americas    529384210\n",
              "     Asia       2150972248\n",
              "     Europe      500635059\n",
              "     Oceania      16106100\n",
              "1977 Africa      433061021\n",
              "     Americas    578067699\n",
              "     Asia       2384513556\n",
              "     Europe      517164531\n",
              "     Oceania      17239000\n",
              "1982 Africa      499348587\n",
              "     Americas    630290920\n",
              "     Asia       2610135582\n",
              "     Europe      531266901\n",
              "     Oceania      18394850\n",
              "1987 Africa      574834110\n",
              "     Americas    682753971\n",
              "     Asia       2871220762\n",
              "     Europe      543094160\n",
              "     Oceania      19574415\n",
              "1992 Africa      659081517\n",
              "     Americas    739274104\n",
              "     Asia       3133292191\n",
              "     Europe      558142797\n",
              "     Oceania      20919651\n",
              "1997 Africa      743832984\n",
              "     Americas    796900410\n",
              "     Asia       3383285500\n",
              "     Europe      568944148\n",
              "     Oceania      22241430\n",
              "2002 Africa      833723916\n",
              "     Americas    849772762\n",
              "     Asia       3601802203\n",
              "     Europe      578223869\n",
              "     Oceania      23454829\n",
              "2007 Africa      929539692\n",
              "     Americas    898871184\n",
              "     Asia       3811953827\n",
              "     Europe      586098529\n",
              "     Oceania      24549947"
            ]
          },
          "metadata": {
            "tags": []
          },
          "execution_count": 113
        }
      ]
    },
    {
      "cell_type": "code",
      "metadata": {
        "colab": {
          "base_uri": "https://localhost:8080/",
          "height": 508
        },
        "id": "DvHELUo3_8Vw",
        "outputId": "f2198fca-c6b6-451a-c8a0-418673d6c188"
      },
      "source": [
        "df = grouped.unstack()\r\n",
        "df"
      ],
      "execution_count": 115,
      "outputs": [
        {
          "output_type": "execute_result",
          "data": {
            "text/html": [
              "<div>\n",
              "<style scoped>\n",
              "    .dataframe tbody tr th:only-of-type {\n",
              "        vertical-align: middle;\n",
              "    }\n",
              "\n",
              "    .dataframe tbody tr th {\n",
              "        vertical-align: top;\n",
              "    }\n",
              "\n",
              "    .dataframe thead tr th {\n",
              "        text-align: left;\n",
              "    }\n",
              "\n",
              "    .dataframe thead tr:last-of-type th {\n",
              "        text-align: right;\n",
              "    }\n",
              "</style>\n",
              "<table border=\"1\" class=\"dataframe\">\n",
              "  <thead>\n",
              "    <tr>\n",
              "      <th></th>\n",
              "      <th colspan=\"5\" halign=\"left\">pop</th>\n",
              "    </tr>\n",
              "    <tr>\n",
              "      <th>continent</th>\n",
              "      <th>Africa</th>\n",
              "      <th>Americas</th>\n",
              "      <th>Asia</th>\n",
              "      <th>Europe</th>\n",
              "      <th>Oceania</th>\n",
              "    </tr>\n",
              "    <tr>\n",
              "      <th>year</th>\n",
              "      <th></th>\n",
              "      <th></th>\n",
              "      <th></th>\n",
              "      <th></th>\n",
              "      <th></th>\n",
              "    </tr>\n",
              "  </thead>\n",
              "  <tbody>\n",
              "    <tr>\n",
              "      <th>1952</th>\n",
              "      <td>237640501</td>\n",
              "      <td>345152446</td>\n",
              "      <td>1395357351</td>\n",
              "      <td>418120846</td>\n",
              "      <td>10686006</td>\n",
              "    </tr>\n",
              "    <tr>\n",
              "      <th>1957</th>\n",
              "      <td>264837738</td>\n",
              "      <td>386953916</td>\n",
              "      <td>1562780599</td>\n",
              "      <td>437890351</td>\n",
              "      <td>11941976</td>\n",
              "    </tr>\n",
              "    <tr>\n",
              "      <th>1962</th>\n",
              "      <td>296516865</td>\n",
              "      <td>433270254</td>\n",
              "      <td>1696357182</td>\n",
              "      <td>460355155</td>\n",
              "      <td>13283518</td>\n",
              "    </tr>\n",
              "    <tr>\n",
              "      <th>1967</th>\n",
              "      <td>335289489</td>\n",
              "      <td>480746623</td>\n",
              "      <td>1905662900</td>\n",
              "      <td>481178958</td>\n",
              "      <td>14600414</td>\n",
              "    </tr>\n",
              "    <tr>\n",
              "      <th>1972</th>\n",
              "      <td>379879541</td>\n",
              "      <td>529384210</td>\n",
              "      <td>2150972248</td>\n",
              "      <td>500635059</td>\n",
              "      <td>16106100</td>\n",
              "    </tr>\n",
              "    <tr>\n",
              "      <th>1977</th>\n",
              "      <td>433061021</td>\n",
              "      <td>578067699</td>\n",
              "      <td>2384513556</td>\n",
              "      <td>517164531</td>\n",
              "      <td>17239000</td>\n",
              "    </tr>\n",
              "    <tr>\n",
              "      <th>1982</th>\n",
              "      <td>499348587</td>\n",
              "      <td>630290920</td>\n",
              "      <td>2610135582</td>\n",
              "      <td>531266901</td>\n",
              "      <td>18394850</td>\n",
              "    </tr>\n",
              "    <tr>\n",
              "      <th>1987</th>\n",
              "      <td>574834110</td>\n",
              "      <td>682753971</td>\n",
              "      <td>2871220762</td>\n",
              "      <td>543094160</td>\n",
              "      <td>19574415</td>\n",
              "    </tr>\n",
              "    <tr>\n",
              "      <th>1992</th>\n",
              "      <td>659081517</td>\n",
              "      <td>739274104</td>\n",
              "      <td>3133292191</td>\n",
              "      <td>558142797</td>\n",
              "      <td>20919651</td>\n",
              "    </tr>\n",
              "    <tr>\n",
              "      <th>1997</th>\n",
              "      <td>743832984</td>\n",
              "      <td>796900410</td>\n",
              "      <td>3383285500</td>\n",
              "      <td>568944148</td>\n",
              "      <td>22241430</td>\n",
              "    </tr>\n",
              "    <tr>\n",
              "      <th>2002</th>\n",
              "      <td>833723916</td>\n",
              "      <td>849772762</td>\n",
              "      <td>3601802203</td>\n",
              "      <td>578223869</td>\n",
              "      <td>23454829</td>\n",
              "    </tr>\n",
              "    <tr>\n",
              "      <th>2007</th>\n",
              "      <td>929539692</td>\n",
              "      <td>898871184</td>\n",
              "      <td>3811953827</td>\n",
              "      <td>586098529</td>\n",
              "      <td>24549947</td>\n",
              "    </tr>\n",
              "  </tbody>\n",
              "</table>\n",
              "</div>"
            ],
            "text/plain": [
              "                 pop                                            \n",
              "continent     Africa   Americas        Asia     Europe   Oceania\n",
              "year                                                            \n",
              "1952       237640501  345152446  1395357351  418120846  10686006\n",
              "1957       264837738  386953916  1562780599  437890351  11941976\n",
              "1962       296516865  433270254  1696357182  460355155  13283518\n",
              "1967       335289489  480746623  1905662900  481178958  14600414\n",
              "1972       379879541  529384210  2150972248  500635059  16106100\n",
              "1977       433061021  578067699  2384513556  517164531  17239000\n",
              "1982       499348587  630290920  2610135582  531266901  18394850\n",
              "1987       574834110  682753971  2871220762  543094160  19574415\n",
              "1992       659081517  739274104  3133292191  558142797  20919651\n",
              "1997       743832984  796900410  3383285500  568944148  22241430\n",
              "2002       833723916  849772762  3601802203  578223869  23454829\n",
              "2007       929539692  898871184  3811953827  586098529  24549947"
            ]
          },
          "metadata": {
            "tags": []
          },
          "execution_count": 115
        }
      ]
    },
    {
      "cell_type": "code",
      "metadata": {
        "colab": {
          "base_uri": "https://localhost:8080/",
          "height": 475
        },
        "id": "H022_baLAMqe",
        "outputId": "60948e36-052c-4c9a-e789-d10015821035"
      },
      "source": [
        "gapminder.pivot_table(values='pop', index='year', columns='continent', aggfunc='sum')"
      ],
      "execution_count": 116,
      "outputs": [
        {
          "output_type": "execute_result",
          "data": {
            "text/html": [
              "<div>\n",
              "<style scoped>\n",
              "    .dataframe tbody tr th:only-of-type {\n",
              "        vertical-align: middle;\n",
              "    }\n",
              "\n",
              "    .dataframe tbody tr th {\n",
              "        vertical-align: top;\n",
              "    }\n",
              "\n",
              "    .dataframe thead th {\n",
              "        text-align: right;\n",
              "    }\n",
              "</style>\n",
              "<table border=\"1\" class=\"dataframe\">\n",
              "  <thead>\n",
              "    <tr style=\"text-align: right;\">\n",
              "      <th>continent</th>\n",
              "      <th>Africa</th>\n",
              "      <th>Americas</th>\n",
              "      <th>Asia</th>\n",
              "      <th>Europe</th>\n",
              "      <th>Oceania</th>\n",
              "    </tr>\n",
              "    <tr>\n",
              "      <th>year</th>\n",
              "      <th></th>\n",
              "      <th></th>\n",
              "      <th></th>\n",
              "      <th></th>\n",
              "      <th></th>\n",
              "    </tr>\n",
              "  </thead>\n",
              "  <tbody>\n",
              "    <tr>\n",
              "      <th>1952</th>\n",
              "      <td>237640501</td>\n",
              "      <td>345152446</td>\n",
              "      <td>1395357351</td>\n",
              "      <td>418120846</td>\n",
              "      <td>10686006</td>\n",
              "    </tr>\n",
              "    <tr>\n",
              "      <th>1957</th>\n",
              "      <td>264837738</td>\n",
              "      <td>386953916</td>\n",
              "      <td>1562780599</td>\n",
              "      <td>437890351</td>\n",
              "      <td>11941976</td>\n",
              "    </tr>\n",
              "    <tr>\n",
              "      <th>1962</th>\n",
              "      <td>296516865</td>\n",
              "      <td>433270254</td>\n",
              "      <td>1696357182</td>\n",
              "      <td>460355155</td>\n",
              "      <td>13283518</td>\n",
              "    </tr>\n",
              "    <tr>\n",
              "      <th>1967</th>\n",
              "      <td>335289489</td>\n",
              "      <td>480746623</td>\n",
              "      <td>1905662900</td>\n",
              "      <td>481178958</td>\n",
              "      <td>14600414</td>\n",
              "    </tr>\n",
              "    <tr>\n",
              "      <th>1972</th>\n",
              "      <td>379879541</td>\n",
              "      <td>529384210</td>\n",
              "      <td>2150972248</td>\n",
              "      <td>500635059</td>\n",
              "      <td>16106100</td>\n",
              "    </tr>\n",
              "    <tr>\n",
              "      <th>1977</th>\n",
              "      <td>433061021</td>\n",
              "      <td>578067699</td>\n",
              "      <td>2384513556</td>\n",
              "      <td>517164531</td>\n",
              "      <td>17239000</td>\n",
              "    </tr>\n",
              "    <tr>\n",
              "      <th>1982</th>\n",
              "      <td>499348587</td>\n",
              "      <td>630290920</td>\n",
              "      <td>2610135582</td>\n",
              "      <td>531266901</td>\n",
              "      <td>18394850</td>\n",
              "    </tr>\n",
              "    <tr>\n",
              "      <th>1987</th>\n",
              "      <td>574834110</td>\n",
              "      <td>682753971</td>\n",
              "      <td>2871220762</td>\n",
              "      <td>543094160</td>\n",
              "      <td>19574415</td>\n",
              "    </tr>\n",
              "    <tr>\n",
              "      <th>1992</th>\n",
              "      <td>659081517</td>\n",
              "      <td>739274104</td>\n",
              "      <td>3133292191</td>\n",
              "      <td>558142797</td>\n",
              "      <td>20919651</td>\n",
              "    </tr>\n",
              "    <tr>\n",
              "      <th>1997</th>\n",
              "      <td>743832984</td>\n",
              "      <td>796900410</td>\n",
              "      <td>3383285500</td>\n",
              "      <td>568944148</td>\n",
              "      <td>22241430</td>\n",
              "    </tr>\n",
              "    <tr>\n",
              "      <th>2002</th>\n",
              "      <td>833723916</td>\n",
              "      <td>849772762</td>\n",
              "      <td>3601802203</td>\n",
              "      <td>578223869</td>\n",
              "      <td>23454829</td>\n",
              "    </tr>\n",
              "    <tr>\n",
              "      <th>2007</th>\n",
              "      <td>929539692</td>\n",
              "      <td>898871184</td>\n",
              "      <td>3811953827</td>\n",
              "      <td>586098529</td>\n",
              "      <td>24549947</td>\n",
              "    </tr>\n",
              "  </tbody>\n",
              "</table>\n",
              "</div>"
            ],
            "text/plain": [
              "continent     Africa   Americas        Asia     Europe   Oceania\n",
              "year                                                            \n",
              "1952       237640501  345152446  1395357351  418120846  10686006\n",
              "1957       264837738  386953916  1562780599  437890351  11941976\n",
              "1962       296516865  433270254  1696357182  460355155  13283518\n",
              "1967       335289489  480746623  1905662900  481178958  14600414\n",
              "1972       379879541  529384210  2150972248  500635059  16106100\n",
              "1977       433061021  578067699  2384513556  517164531  17239000\n",
              "1982       499348587  630290920  2610135582  531266901  18394850\n",
              "1987       574834110  682753971  2871220762  543094160  19574415\n",
              "1992       659081517  739274104  3133292191  558142797  20919651\n",
              "1997       743832984  796900410  3383285500  568944148  22241430\n",
              "2002       833723916  849772762  3601802203  578223869  23454829\n",
              "2007       929539692  898871184  3811953827  586098529  24549947"
            ]
          },
          "metadata": {
            "tags": []
          },
          "execution_count": 116
        }
      ]
    },
    {
      "cell_type": "code",
      "metadata": {
        "colab": {
          "base_uri": "https://localhost:8080/"
        },
        "id": "vZNP_ItABgsw",
        "outputId": "3634c49f-3f83-47c6-8176-9616bf89bad0"
      },
      "source": [
        "df.columns"
      ],
      "execution_count": 125,
      "outputs": [
        {
          "output_type": "execute_result",
          "data": {
            "text/plain": [
              "MultiIndex([('pop',   'Africa'),\n",
              "            ('pop', 'Americas'),\n",
              "            ('pop',     'Asia'),\n",
              "            ('pop',   'Europe'),\n",
              "            ('pop',  'Oceania')],\n",
              "           names=[None, 'continent'])"
            ]
          },
          "metadata": {
            "tags": []
          },
          "execution_count": 125
        }
      ]
    },
    {
      "cell_type": "code",
      "metadata": {
        "colab": {
          "base_uri": "https://localhost:8080/",
          "height": 276
        },
        "id": "8yaWAiFOAl9N",
        "outputId": "9e47a332-a21c-449a-8c10-b9eba977253f"
      },
      "source": [
        "# plt.plot(df.index, df[('pop', 'Asia')], 'o-')\r\n",
        "# plt.plot(df.index, df[('pop', 'Africa')], 'o-')\r\n",
        "# plt.plot(df.index, df[('pop', 'Americas')], 'o-')\r\n",
        "for col in df.columns:\r\n",
        "    plt.plot(df.index, df[col], 'o-', label=col[1])\r\n",
        "\r\n",
        "plt.legend()\r\n",
        "plt.show()"
      ],
      "execution_count": 127,
      "outputs": [
        {
          "output_type": "display_data",
          "data": {
            "image/png": "[encoded data removed]",
            "text/plain": [
              "<Figure size 432x288 with 1 Axes>"
            ]
          },
          "metadata": {
            "tags": [],
            "needs_background": "light"
          }
        }
      ]
    },
    {
      "cell_type": "code",
      "metadata": {
        "colab": {
          "base_uri": "https://localhost:8080/",
          "height": 290
        },
        "id": "AWwN5RobCzw0",
        "outputId": "8e4bb9fe-cddd-41fc-d496-98896eba681b"
      },
      "source": [
        "sns.lineplot(data=gapminder, x='year', y='pop', hue='continent', estimator='sum',\r\n",
        "             err_style=None, marker='o')\r\n",
        "plt.show()"
      ],
      "execution_count": 128,
      "outputs": [
        {
          "output_type": "display_data",
          "data": {
            "image/png": "[encoded data removed]",
            "text/plain": [
              "<Figure size 432x288 with 1 Axes>"
            ]
          },
          "metadata": {
            "tags": [],
            "needs_background": "light"
          }
        }
      ]
    },
    {
      "cell_type": "code",
      "metadata": {
        "colab": {
          "base_uri": "https://localhost:8080/",
          "height": 290
        },
        "id": "TGmTSMbuDg6w",
        "outputId": "6fd90b94-3f70-46bb-a7c0-9dee9d33d98e"
      },
      "source": [
        "sns.lineplot(data=grouped, x='year', y='pop', hue='continent', marker='o')\r\n",
        "plt.show()"
      ],
      "execution_count": 134,
      "outputs": [
        {
          "output_type": "display_data",
          "data": {
            "image/png": "[encoded data removed]",
            "text/plain": [
              "<Figure size 432x288 with 1 Axes>"
            ]
          },
          "metadata": {
            "tags": [],
            "needs_background": "light"
          }
        }
      ]
    },
    {
      "cell_type": "code",
      "metadata": {
        "colab": {
          "base_uri": "https://localhost:8080/",
          "height": 279
        },
        "id": "xhDGwiJUEmBx",
        "outputId": "f1241ca3-29de-4481-a762-275d01f475f9"
      },
      "source": [
        "df.head()"
      ],
      "execution_count": 135,
      "outputs": [
        {
          "output_type": "execute_result",
          "data": {
            "text/html": [
              "<div>\n",
              "<style scoped>\n",
              "    .dataframe tbody tr th:only-of-type {\n",
              "        vertical-align: middle;\n",
              "    }\n",
              "\n",
              "    .dataframe tbody tr th {\n",
              "        vertical-align: top;\n",
              "    }\n",
              "\n",
              "    .dataframe thead tr th {\n",
              "        text-align: left;\n",
              "    }\n",
              "\n",
              "    .dataframe thead tr:last-of-type th {\n",
              "        text-align: right;\n",
              "    }\n",
              "</style>\n",
              "<table border=\"1\" class=\"dataframe\">\n",
              "  <thead>\n",
              "    <tr>\n",
              "      <th></th>\n",
              "      <th colspan=\"5\" halign=\"left\">pop</th>\n",
              "    </tr>\n",
              "    <tr>\n",
              "      <th>continent</th>\n",
              "      <th>Africa</th>\n",
              "      <th>Americas</th>\n",
              "      <th>Asia</th>\n",
              "      <th>Europe</th>\n",
              "      <th>Oceania</th>\n",
              "    </tr>\n",
              "    <tr>\n",
              "      <th>year</th>\n",
              "      <th></th>\n",
              "      <th></th>\n",
              "      <th></th>\n",
              "      <th></th>\n",
              "      <th></th>\n",
              "    </tr>\n",
              "  </thead>\n",
              "  <tbody>\n",
              "    <tr>\n",
              "      <th>1952</th>\n",
              "      <td>237640501</td>\n",
              "      <td>345152446</td>\n",
              "      <td>1395357351</td>\n",
              "      <td>418120846</td>\n",
              "      <td>10686006</td>\n",
              "    </tr>\n",
              "    <tr>\n",
              "      <th>1957</th>\n",
              "      <td>264837738</td>\n",
              "      <td>386953916</td>\n",
              "      <td>1562780599</td>\n",
              "      <td>437890351</td>\n",
              "      <td>11941976</td>\n",
              "    </tr>\n",
              "    <tr>\n",
              "      <th>1962</th>\n",
              "      <td>296516865</td>\n",
              "      <td>433270254</td>\n",
              "      <td>1696357182</td>\n",
              "      <td>460355155</td>\n",
              "      <td>13283518</td>\n",
              "    </tr>\n",
              "    <tr>\n",
              "      <th>1967</th>\n",
              "      <td>335289489</td>\n",
              "      <td>480746623</td>\n",
              "      <td>1905662900</td>\n",
              "      <td>481178958</td>\n",
              "      <td>14600414</td>\n",
              "    </tr>\n",
              "    <tr>\n",
              "      <th>1972</th>\n",
              "      <td>379879541</td>\n",
              "      <td>529384210</td>\n",
              "      <td>2150972248</td>\n",
              "      <td>500635059</td>\n",
              "      <td>16106100</td>\n",
              "    </tr>\n",
              "  </tbody>\n",
              "</table>\n",
              "</div>"
            ],
            "text/plain": [
              "                 pop                                            \n",
              "continent     Africa   Americas        Asia     Europe   Oceania\n",
              "year                                                            \n",
              "1952       237640501  345152446  1395357351  418120846  10686006\n",
              "1957       264837738  386953916  1562780599  437890351  11941976\n",
              "1962       296516865  433270254  1696357182  460355155  13283518\n",
              "1967       335289489  480746623  1905662900  481178958  14600414\n",
              "1972       379879541  529384210  2150972248  500635059  16106100"
            ]
          },
          "metadata": {
            "tags": []
          },
          "execution_count": 135
        }
      ]
    },
    {
      "cell_type": "code",
      "metadata": {
        "colab": {
          "base_uri": "https://localhost:8080/",
          "height": 290
        },
        "id": "PY59-_3IEXuu",
        "outputId": "a4022a8b-e107-4434-d0ad-51006c79f236"
      },
      "source": [
        "for col in df.columns: \r\n",
        "    sns.lineplot(data=df, x='year', y=col, marker='o')\r\n",
        "plt.show()"
      ],
      "execution_count": 140,
      "outputs": [
        {
          "output_type": "display_data",
          "data": {
            "image/png": "[encoded data removed]",
            "text/plain": [
              "<Figure size 432x288 with 1 Axes>"
            ]
          },
          "metadata": {
            "tags": [],
            "needs_background": "light"
          }
        }
      ]
    }
  ]
}