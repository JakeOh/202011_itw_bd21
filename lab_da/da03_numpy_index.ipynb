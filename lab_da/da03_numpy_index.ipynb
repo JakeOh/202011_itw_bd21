{
  "nbformat": 4,
  "nbformat_minor": 0,
  "metadata": {
    "colab": {
      "name": "da03_numpy_index.ipynb",
      "provenance": [],
      "collapsed_sections": [],
      "authorship_tag": "ABX9TyPHE8Q3vlSlVKe0vY/YMjHk",
      "include_colab_link": true
    },
    "kernelspec": {
      "name": "python3",
      "display_name": "Python 3"
    }
  },
  "cells": [
    {
      "cell_type": "markdown",
      "metadata": {
        "id": "view-in-github",
        "colab_type": "text"
      },
      "source": [
        "<a href=\"https://colab.research.google.com/github/JakeOh/202011_itw_bd21/blob/main/lab_da/da03_numpy_index.ipynb\" target=\"_parent\"><img src=\"https://colab.research.google.com/assets/colab-badge.svg\" alt=\"Open In Colab\"/></a>"
      ]
    },
    {
      "cell_type": "code",
      "metadata": {
        "id": "arnPWg9KFDUQ"
      },
      "source": [
        "import numpy as np"
      ],
      "execution_count": 1,
      "outputs": []
    },
    {
      "cell_type": "code",
      "metadata": {
        "colab": {
          "base_uri": "https://localhost:8080/"
        },
        "id": "VqtUeoR1Feum",
        "outputId": "d7b406c2-e1e7-426b-9446-dd6290718a5b"
      },
      "source": [
        "# Python의 list\r\n",
        "array = [x for x in range(1, 11)]\r\n",
        "print(array)\r\n",
        "print(array[0])\r\n",
        "print(array[-1])\r\n",
        "print(array[1:5])  # slicing\r\n",
        "print(array[:5])\r\n",
        "print(array[5:])\r\n",
        "print(array[-3:])"
      ],
      "execution_count": 8,
      "outputs": [
        {
          "output_type": "stream",
          "text": [
            "[1, 2, 3, 4, 5, 6, 7, 8, 9, 10]\n",
            "1\n",
            "10\n",
            "[2, 3, 4, 5]\n",
            "[1, 2, 3, 4, 5]\n",
            "[6, 7, 8, 9, 10]\n",
            "[8, 9, 10]\n"
          ],
          "name": "stdout"
        }
      ]
    },
    {
      "cell_type": "code",
      "metadata": {
        "colab": {
          "base_uri": "https://localhost:8080/"
        },
        "id": "-rGuOcLIG0SU",
        "outputId": "26b94944-34c4-4bd9-a49b-bad6bb87fa7e"
      },
      "source": [
        "# numpy.ndarray\r\n",
        "array = np.arange(1, 11)\r\n",
        "print(array)\r\n",
        "print(array[0])\r\n",
        "print(array[9], array[-1])\r\n",
        "print(array[1:5])  # slicing\r\n",
        "print(array[:3])  # slicing할 때 시작 인덱스를 생략하면 첫번째 원소(인덱스 0번 원소)부터\r\n",
        "print(array[7:])  # slicing할 때 끝 인덱스를 생략하면 마지막 원소까지\r\n",
        "print(array[-3:])"
      ],
      "execution_count": 16,
      "outputs": [
        {
          "output_type": "stream",
          "text": [
            "[ 1  2  3  4  5  6  7  8  9 10]\n",
            "1\n",
            "10 10\n",
            "[2 3 4 5]\n",
            "[1 2 3]\n",
            "[ 8  9 10]\n",
            "[ 8  9 10]\n"
          ],
          "name": "stdout"
        }
      ]
    },
    {
      "cell_type": "code",
      "metadata": {
        "id": "IQ05XxqyHD7d"
      },
      "source": [
        ""
      ],
      "execution_count": null,
      "outputs": []
    }
  ]
}