{
  "nbformat": 4,
  "nbformat_minor": 0,
  "metadata": {
    "colab": {
      "name": "da03_numpy_index.ipynb",
      "provenance": [],
      "collapsed_sections": [],
      "authorship_tag": "ABX9TyM99E428SzggaxQ+jqDYf1C",
      "include_colab_link": true
    },
    "kernelspec": {
      "name": "python3",
      "display_name": "Python 3"
    }
  },
  "cells": [
    {
      "cell_type": "markdown",
      "metadata": {
        "id": "view-in-github",
        "colab_type": "text"
      },
      "source": [
        "<a href=\"https://colab.research.google.com/github/JakeOh/202011_itw_bd21/blob/main/lab_da/da03_numpy_index.ipynb\" target=\"_parent\"><img src=\"https://colab.research.google.com/assets/colab-badge.svg\" alt=\"Open In Colab\"/></a>"
      ]
    },
    {
      "cell_type": "code",
      "metadata": {
        "id": "arnPWg9KFDUQ"
      },
      "source": [
        "import numpy as np"
      ],
      "execution_count": 1,
      "outputs": []
    },
    {
      "cell_type": "code",
      "metadata": {
        "colab": {
          "base_uri": "https://localhost:8080/"
        },
        "id": "VqtUeoR1Feum",
        "outputId": "d7b406c2-e1e7-426b-9446-dd6290718a5b"
      },
      "source": [
        "# Python의 list\r\n",
        "array = [x for x in range(1, 11)]\r\n",
        "print(array)\r\n",
        "print(array[0])\r\n",
        "print(array[-1])\r\n",
        "print(array[1:5])  # slicing\r\n",
        "print(array[:5])\r\n",
        "print(array[5:])\r\n",
        "print(array[-3:])"
      ],
      "execution_count": 8,
      "outputs": [
        {
          "output_type": "stream",
          "text": [
            "[1, 2, 3, 4, 5, 6, 7, 8, 9, 10]\n",
            "1\n",
            "10\n",
            "[2, 3, 4, 5]\n",
            "[1, 2, 3, 4, 5]\n",
            "[6, 7, 8, 9, 10]\n",
            "[8, 9, 10]\n"
          ],
          "name": "stdout"
        }
      ]
    },
    {
      "cell_type": "code",
      "metadata": {
        "colab": {
          "base_uri": "https://localhost:8080/"
        },
        "id": "-rGuOcLIG0SU",
        "outputId": "26b94944-34c4-4bd9-a49b-bad6bb87fa7e"
      },
      "source": [
        "# numpy.ndarray\r\n",
        "array = np.arange(1, 11)\r\n",
        "print(array)\r\n",
        "print(array[0])\r\n",
        "print(array[9], array[-1])\r\n",
        "print(array[1:5])  # slicing\r\n",
        "print(array[:3])  # slicing할 때 시작 인덱스를 생략하면 첫번째 원소(인덱스 0번 원소)부터\r\n",
        "print(array[7:])  # slicing할 때 끝 인덱스를 생략하면 마지막 원소까지\r\n",
        "print(array[-3:])"
      ],
      "execution_count": 16,
      "outputs": [
        {
          "output_type": "stream",
          "text": [
            "[ 1  2  3  4  5  6  7  8  9 10]\n",
            "1\n",
            "10 10\n",
            "[2 3 4 5]\n",
            "[1 2 3]\n",
            "[ 8  9 10]\n",
            "[ 8  9 10]\n"
          ],
          "name": "stdout"
        }
      ]
    },
    {
      "cell_type": "markdown",
      "metadata": {
        "id": "kflypnIZMU6t"
      },
      "source": [
        "**fancy indexing**\r\n",
        "\r\n",
        "배열과 비슷한 객체(array-like object: ndarray, list, tuple, ...)를 사용한 indexing 방법."
      ]
    },
    {
      "cell_type": "code",
      "metadata": {
        "colab": {
          "base_uri": "https://localhost:8080/"
        },
        "id": "IQ05XxqyHD7d",
        "outputId": "5097ed23-7fb6-4b80-e7b2-2b02b83f8a20"
      },
      "source": [
        "array = np.arange(1, 11)\r\n",
        "print(array)\r\n",
        "print(array[[0, 2, 4]])\r\n",
        "print(array[[0, 1, 8, 9]])"
      ],
      "execution_count": 21,
      "outputs": [
        {
          "output_type": "stream",
          "text": [
            "[ 1  2  3  4  5  6  7  8  9 10]\n",
            "[1 3 5]\n",
            "[ 1  2  9 10]\n"
          ],
          "name": "stdout"
        }
      ]
    },
    {
      "cell_type": "markdown",
      "metadata": {
        "id": "IbqKkcyZOEp7"
      },
      "source": [
        "**boolean indexing**\r\n",
        "\r\n",
        "*   논릿값(True, False)들의 리스트(튜플, 배열 등)을 사용한 indexing 방법\r\n",
        "*   numpy.ndarray의 원소들 중에서 조건을 만족하는 원소들로 이루어진 부분 집합 배열을 찾을 때 사용할 수 있음"
      ]
    },
    {
      "cell_type": "code",
      "metadata": {
        "colab": {
          "base_uri": "https://localhost:8080/"
        },
        "id": "8v3RP8_wOUk5",
        "outputId": "086ed687-8a47-4e99-d698-487b70997fa6"
      },
      "source": [
        "array = np.array([1, 10, 100, 99, 88])\r\n",
        "print(array)\r\n",
        "\r\n",
        "indexer = [True, False, True, False, True]\r\n",
        "print(indexer)\r\n",
        "\r\n",
        "print(array[indexer])"
      ],
      "execution_count": 24,
      "outputs": [
        {
          "output_type": "stream",
          "text": [
            "[  1  10 100  99  88]\n",
            "[True, False, True, False, True]\n",
            "[  1 100  88]\n"
          ],
          "name": "stdout"
        }
      ]
    },
    {
      "cell_type": "code",
      "metadata": {
        "colab": {
          "base_uri": "https://localhost:8080/"
        },
        "id": "D6OIU3POPmtM",
        "outputId": "bbf6e912-bb3c-4944-e294-50e61b3bd298"
      },
      "source": [
        "# 0 이상 10 미만의 정수 난수 10개를 갖는 1-d ndarray를 생성\r\n",
        "np.random.seed(1)\r\n",
        "array = np.random.randint(0, 10, size=10)\r\n",
        "print(array)\r\n",
        "\r\n",
        "# array에서 짝수들만 선택\r\n",
        "print(array % 2 == 0)  #> 1-d ndarray\r\n",
        "print(array[array % 2 == 0])  #> boolean indexing\r\n",
        "\r\n",
        "# array에서 홀수들만 선택\r\n",
        "print(array[array % 2 == 1])"
      ],
      "execution_count": 29,
      "outputs": [
        {
          "output_type": "stream",
          "text": [
            "[5 8 9 5 0 0 1 7 6 9]\n",
            "[False  True False False  True  True False False  True False]\n",
            "[8 0 0 6]\n",
            "[5 9 5 1 7 9]\n"
          ],
          "name": "stdout"
        }
      ]
    },
    {
      "cell_type": "markdown",
      "metadata": {
        "id": "laV4PGWwRV6t"
      },
      "source": [
        "*   boolean indexing에서는 Python의 논리 연산자(and, or, not)을 사용할 수 없음!\r\n",
        "*   boolean indexing에서는 &, |, ~ 연산자를 사용함.\r\n",
        "*   boolean indexing에서 &, |, ~ 연산자를 사용할 때는 연산 순서를 명시하기 위해서 *반드시* ()를 사용해야 함."
      ]
    },
    {
      "cell_type": "code",
      "metadata": {
        "colab": {
          "base_uri": "https://localhost:8080/"
        },
        "id": "hsVtzqdbSWEy",
        "outputId": "344468a3-73db-4906-9c5b-65c89805e95b"
      },
      "source": [
        "# 0 이상 20 미만의 정수 난수 10개를 갖는 1-d ndarray를 생성\r\n",
        "np.random.seed(42)\r\n",
        "array = np.random.randint(0, 20, size=10)\r\n",
        "print(array)\r\n",
        "\r\n",
        "# array의 원소들 중에서 5 이상 15 미만의 숫자들로 이루어진 배열\r\n",
        "print(array[(array >= 5) & (array < 15)])\r\n",
        "\r\n",
        "# array의 원소들 중에서 5 미만 또는 15 이상인 숫자들로 이루어진 배열\r\n",
        "print(array[(array < 5) | (array >= 15)])"
      ],
      "execution_count": 37,
      "outputs": [
        {
          "output_type": "stream",
          "text": [
            "[ 6 19 14 10  7  6 18 10 10  3]\n",
            "[ 6 14 10  7  6 10 10]\n",
            "[19 18  3]\n"
          ],
          "name": "stdout"
        }
      ]
    },
    {
      "cell_type": "markdown",
      "metadata": {
        "id": "AI01PWf-VSo6"
      },
      "source": [
        "Python 2차원 list vs NumPy 2-d ndarray\r\n",
        "\r\n",
        "*   `list[i][j]`\r\n",
        "*   `array[i][j]`, `array[i, j]` 둘 다 가능"
      ]
    }
  ]
}