{
  "nbformat": 4,
  "nbformat_minor": 0,
  "metadata": {
    "colab": {
      "name": "da09_visualization.ipynb",
      "provenance": [],
      "collapsed_sections": [],
      "authorship_tag": "ABX9TyO1KaSBQk9PlvLZPZtzc2lk",
      "include_colab_link": true
    },
    "kernelspec": {
      "name": "python3",
      "display_name": "Python 3"
    }
  },
  "cells": [
    {
      "cell_type": "markdown",
      "metadata": {
        "id": "view-in-github",
        "colab_type": "text"
      },
      "source": [
        "<a href=\"https://colab.research.google.com/github/JakeOh/202011_itw_bd21/blob/main/lab_da/da09_visualization.ipynb\" target=\"_parent\"><img src=\"https://colab.research.google.com/assets/colab-badge.svg\" alt=\"Open In Colab\"/></a>"
      ]
    },
    {
      "cell_type": "code",
      "metadata": {
        "id": "jTwlQ_L6Fd8-"
      },
      "source": [
        "import numpy as np\r\n",
        "import pandas as pd\r\n",
        "import matplotlib.pyplot as plt\r\n",
        "import seaborn as sns"
      ],
      "execution_count": 1,
      "outputs": []
    },
    {
      "cell_type": "markdown",
      "metadata": {
        "id": "PhFvBpH1F4SY"
      },
      "source": [
        "# mpg 데이터 셋"
      ]
    },
    {
      "cell_type": "markdown",
      "metadata": {
        "id": "ApM_z271F8BP"
      },
      "source": [
        "*   seaborn 패키지의 mpg 예제 데이터 셋을 데이터 프레임으로 로드"
      ]
    },
    {
      "cell_type": "code",
      "metadata": {
        "id": "MA32-QIGF0JY"
      },
      "source": [
        ""
      ],
      "execution_count": null,
      "outputs": []
    },
    {
      "cell_type": "markdown",
      "metadata": {
        "id": "9xi2UTfSGJXY"
      },
      "source": [
        "*   mpg 데이터 프레임 구조 확인: 모양, 컬럼 이름, (숫자 타입 변수들) 기술 통계량, (카테고리 타입 변수들) 빈도수"
      ]
    },
    {
      "cell_type": "code",
      "metadata": {
        "id": "x9QQIhjIGd1X"
      },
      "source": [
        ""
      ],
      "execution_count": null,
      "outputs": []
    },
    {
      "cell_type": "markdown",
      "metadata": {
        "id": "DglVHmhMGeoZ"
      },
      "source": [
        "*   두 변수 간의 상관 관계: scatter plot\r\n",
        "    * mpg(연비) ~ displacement(배기량)\r\n",
        "    * 2x2 suplot들을 생성: mpg ~ cylinders(실린더 개수), mpg ~ horsepower(마력), mpg ~ weight(자동차 무게), mpg ~ acceleration(가속도)"
      ]
    },
    {
      "cell_type": "code",
      "metadata": {
        "id": "AT3NGJj5HcTn"
      },
      "source": [
        ""
      ],
      "execution_count": null,
      "outputs": []
    },
    {
      "cell_type": "markdown",
      "metadata": {
        "id": "TUNHxkWuHdiP"
      },
      "source": [
        "*   cylinder별 mpg 평균 막대 그래프"
      ]
    },
    {
      "cell_type": "code",
      "metadata": {
        "id": "-FDiiUozHr_G"
      },
      "source": [
        ""
      ],
      "execution_count": null,
      "outputs": []
    },
    {
      "cell_type": "markdown",
      "metadata": {
        "id": "zKOn6LEhH4xv"
      },
      "source": [
        "*   cylinder별 mpg의 boxplot"
      ]
    },
    {
      "cell_type": "code",
      "metadata": {
        "id": "XRD2KSr4H-_f"
      },
      "source": [
        ""
      ],
      "execution_count": null,
      "outputs": []
    },
    {
      "cell_type": "markdown",
      "metadata": {
        "id": "1jkSeyANIJsN"
      },
      "source": [
        "*   origin별, cylinder별 mpg의 boxplot\r\n",
        "    *   origin별로 subplot을 생성"
      ]
    },
    {
      "cell_type": "code",
      "metadata": {
        "id": "HqJKWx-sIoW2"
      },
      "source": [
        ""
      ],
      "execution_count": null,
      "outputs": []
    },
    {
      "cell_type": "markdown",
      "metadata": {
        "id": "UmwBhbgDIpDG"
      },
      "source": [
        "*   origin별, cylinder별 mpg의 평균 막대 그래프\r\n",
        "    *   origin별로 subplot을 생성"
      ]
    },
    {
      "cell_type": "code",
      "metadata": {
        "id": "tJEzO5AvI-KP"
      },
      "source": [
        ""
      ],
      "execution_count": null,
      "outputs": []
    }
  ]
}