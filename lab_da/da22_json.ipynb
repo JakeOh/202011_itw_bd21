{
  "nbformat": 4,
  "nbformat_minor": 0,
  "metadata": {
    "colab": {
      "name": "da22_json.ipynb",
      "provenance": [],
      "collapsed_sections": [],
      "authorship_tag": "ABX9TyMxdHSMxY5hKhScTPDZvtdg",
      "include_colab_link": true
    },
    "kernelspec": {
      "name": "python3",
      "display_name": "Python 3"
    }
  },
  "cells": [
    {
      "cell_type": "markdown",
      "metadata": {
        "id": "view-in-github",
        "colab_type": "text"
      },
      "source": [
        "<a href=\"https://colab.research.google.com/github/JakeOh/202011_itw_bd21/blob/main/lab_da/da22_json.ipynb\" target=\"_parent\"><img src=\"https://colab.research.google.com/assets/colab-badge.svg\" alt=\"Open In Colab\"/></a>"
      ]
    },
    {
      "cell_type": "code",
      "metadata": {
        "id": "lbhreEaLGhTt"
      },
      "source": [
        "import numpy as np\r\n",
        "import pandas as pd\r\n",
        "import matplotlib.pyplot as plt\r\n",
        "import seaborn as sns\r\n",
        "import json  # 파이썬의 기본 모듈 중 하나 - json 읽기/쓰기 기능"
      ],
      "execution_count": 1,
      "outputs": []
    },
    {
      "cell_type": "markdown",
      "metadata": {
        "id": "vF53BKvcOhU8"
      },
      "source": [
        "**JSON**\r\n",
        "\r\n",
        "*   JSON(JavaScript Object Notation): 자바스크립트 객체 표현법\r\n",
        "*   `{key1: value1, key2: value2, ...}` 같은 형식의 문자열\r\n",
        "*   파이썬의 dict 클래스 타입과 비슷\r\n",
        "*   json 모듈: JSON 형식 문자열 <---> dict 타입 객체\r\n"
      ]
    },
    {
      "cell_type": "code",
      "metadata": {
        "colab": {
          "base_uri": "https://localhost:8080/"
        },
        "id": "3UVWqd--ievI",
        "outputId": "37f090f0-4437-490c-d8e4-1c0f59dcd104"
      },
      "source": [
        "# json.dumps(obj): 파이썬 객체(obj)를 JSON 형식의 문자열로 변환해서 리턴 - Serialize(직렬화)\r\n",
        "person = {'name': '홍길동', 'age': 16, 'height': 195.5}\r\n",
        "person  #> dict 클래스의 __repr__() 메서드가 리턴하는 문자열이 콘솔에 출력."
      ],
      "execution_count": 2,
      "outputs": [
        {
          "output_type": "execute_result",
          "data": {
            "text/plain": [
              "{'age': 16, 'height': 195.5, 'name': '홍길동'}"
            ]
          },
          "metadata": {
            "tags": []
          },
          "execution_count": 2
        }
      ]
    },
    {
      "cell_type": "code",
      "metadata": {
        "colab": {
          "base_uri": "https://localhost:8080/"
        },
        "id": "v2oFzhXgjOaB",
        "outputId": "fd26f46f-823f-4b10-d5d2-0846d4ee6323"
      },
      "source": [
        "type(person)  #> 파이썬 dict 클래스 타입의 객체"
      ],
      "execution_count": 3,
      "outputs": [
        {
          "output_type": "execute_result",
          "data": {
            "text/plain": [
              "dict"
            ]
          },
          "metadata": {
            "tags": []
          },
          "execution_count": 3
        }
      ]
    },
    {
      "cell_type": "code",
      "metadata": {
        "colab": {
          "base_uri": "https://localhost:8080/",
          "height": 38
        },
        "id": "1cVynlPxjQTJ",
        "outputId": "5455aee6-2cc9-4e25-c6e6-33a43cdaa529"
      },
      "source": [
        "person_json = json.dumps(person)\r\n",
        "person_json  #> json.dumps() 함수가 리턴해준 문자열을 콘솔에 출력"
      ],
      "execution_count": 4,
      "outputs": [
        {
          "output_type": "execute_result",
          "data": {
            "application/vnd.google.colaboratory.intrinsic+json": {
              "type": "string"
            },
            "text/plain": [
              "'{\"name\": \"\\\\ud64d\\\\uae38\\\\ub3d9\", \"age\": 16, \"height\": 195.5}'"
            ]
          },
          "metadata": {
            "tags": []
          },
          "execution_count": 4
        }
      ]
    },
    {
      "cell_type": "code",
      "metadata": {
        "colab": {
          "base_uri": "https://localhost:8080/"
        },
        "id": "siSO2b2UknbR",
        "outputId": "469f3d33-152b-4b76-af56-bcf9e1aedf39"
      },
      "source": [
        "# json.loads(s): JSON 형식의 문자열 s를 파이썬 객체로 변환해서 리턴 - Deserialize(역직렬화)\r\n",
        "result = json.loads(person_json)\r\n",
        "result"
      ],
      "execution_count": 5,
      "outputs": [
        {
          "output_type": "execute_result",
          "data": {
            "text/plain": [
              "{'age': 16, 'height': 195.5, 'name': '홍길동'}"
            ]
          },
          "metadata": {
            "tags": []
          },
          "execution_count": 5
        }
      ]
    },
    {
      "cell_type": "code",
      "metadata": {
        "colab": {
          "base_uri": "https://localhost:8080/"
        },
        "id": "BOHn1BmameZ4",
        "outputId": "3da2fd83-2042-40a6-f04a-1dd7ff5187e9"
      },
      "source": [
        "type(result)"
      ],
      "execution_count": 6,
      "outputs": [
        {
          "output_type": "execute_result",
          "data": {
            "text/plain": [
              "dict"
            ]
          },
          "metadata": {
            "tags": []
          },
          "execution_count": 6
        }
      ]
    },
    {
      "cell_type": "markdown",
      "metadata": {
        "id": "nRRKNpdPm0-g"
      },
      "source": [
        "\r\n",
        "*   `json.dump(obj, fp)`: 파이썬 객체 obj를 JSON 형식의 문자열로 변환(serialize)해서 파일 fp에 write\r\n",
        "*   `json.load(fp)`: 파일 fp에서 문자열(JSON 형식)을 읽어서 파이썬 객체로 변환(deserialze)해서 리턴.\r\n",
        "*   `json.dumps(obj)`: 파이썬 객체 obj를 JSON 형식의 문자열로 변환(serialize)해서 리턴.\r\n",
        "*   `json.loads(s)`: 문자열 s(JSON 형식)를 파이썬 객체로 변환(deserialize)해서 리턴.\r\n"
      ]
    },
    {
      "cell_type": "code",
      "metadata": {
        "id": "Ns8Wbdqpn3wJ"
      },
      "source": [
        "with open('person.json', mode='w') as f:  # 파일을 쓰기 모드로 오픈\r\n",
        "    f.write(person_json)  # 파일에 문자열을 씀"
      ],
      "execution_count": 7,
      "outputs": []
    },
    {
      "cell_type": "code",
      "metadata": {
        "colab": {
          "base_uri": "https://localhost:8080/"
        },
        "id": "ADH_pLweoeJP",
        "outputId": "7b1122af-c7f6-4d23-b852-88bdf3a88f5c"
      },
      "source": [
        "with open('person.json', mode='r') as f:  # 파일을 읽기 모드로 오픈\r\n",
        "    line = f.readline()  # 파일의 첫번째 줄을 읽음.\r\n",
        "    print(line)\r\n",
        "    obj = json.loads(line)  # 읽은 문자열을 파이썬 객체로 변환\r\n",
        "    print(obj)"
      ],
      "execution_count": 9,
      "outputs": [
        {
          "output_type": "stream",
          "text": [
            "{\"name\": \"\\ud64d\\uae38\\ub3d9\", \"age\": 16, \"height\": 195.5}\n",
            "{'name': '홍길동', 'age': 16, 'height': 195.5}\n"
          ],
          "name": "stdout"
        }
      ]
    },
    {
      "cell_type": "code",
      "metadata": {
        "id": "UE1pc6PRpGYy"
      },
      "source": [
        "with open('movie.json', mode='w') as f:\r\n",
        "    # Python dict 객체\r\n",
        "    m1 = {'mid': 1, 'title': '미나리', 'genre': 'Drama'}\r\n",
        "    m2 = {'mid': 2, 'title': '승리호', 'genre': 'SF'}\r\n",
        "    m3 = {'mid': 3, 'title': '인턴'}\r\n",
        "    # JSON 형식의 문자열\r\n",
        "    m1_s = json.dumps(m1)\r\n",
        "    m2_s = json.dumps(m2)\r\n",
        "    m3_s = json.dumps(m3)\r\n",
        "    # 파일에 쓰기\r\n",
        "    f.write(m1_s + '\\n')\r\n",
        "    f.write(m2_s + '\\n')\r\n",
        "    f.write(m3_s + '\\n')"
      ],
      "execution_count": 12,
      "outputs": []
    },
    {
      "cell_type": "code",
      "metadata": {
        "id": "mPiX5rI1rqQi"
      },
      "source": [
        ""
      ],
      "execution_count": null,
      "outputs": []
    }
  ]
}