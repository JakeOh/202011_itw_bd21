{
  "nbformat": 4,
  "nbformat_minor": 0,
  "metadata": {
    "colab": {
      "name": "da22_json.ipynb",
      "provenance": [],
      "collapsed_sections": [],
      "authorship_tag": "ABX9TyP2MvNP8W1Ag7hNa5Gs7r62",
      "include_colab_link": true
    },
    "kernelspec": {
      "name": "python3",
      "display_name": "Python 3"
    }
  },
  "cells": [
    {
      "cell_type": "markdown",
      "metadata": {
        "id": "view-in-github",
        "colab_type": "text"
      },
      "source": [
        "<a href=\"https://colab.research.google.com/github/JakeOh/202011_itw_bd21/blob/main/lab_da/da22_json.ipynb\" target=\"_parent\"><img src=\"https://colab.research.google.com/assets/colab-badge.svg\" alt=\"Open In Colab\"/></a>"
      ]
    },
    {
      "cell_type": "code",
      "metadata": {
        "id": "lbhreEaLGhTt"
      },
      "source": [
        "import numpy as np\r\n",
        "import pandas as pd\r\n",
        "import matplotlib.pyplot as plt\r\n",
        "import seaborn as sns\r\n",
        "import json  # 파이썬의 기본 모듈 중 하나 - json 읽기/쓰기 기능"
      ],
      "execution_count": 1,
      "outputs": []
    },
    {
      "cell_type": "markdown",
      "metadata": {
        "id": "vF53BKvcOhU8"
      },
      "source": [
        "**JSON**\r\n",
        "\r\n",
        "*   JSON(JavaScript Object Notation): 자바스크립트 객체 표현법\r\n",
        "*   `{key1: value1, key2: value2, ...}` 같은 형식의 문자열\r\n",
        "*   파이썬의 dict 클래스 타입과 비슷\r\n",
        "*   json 모듈: JSON 형식 문자열 <---> dict 타입 객체\r\n"
      ]
    },
    {
      "cell_type": "code",
      "metadata": {
        "colab": {
          "base_uri": "https://localhost:8080/"
        },
        "id": "3UVWqd--ievI",
        "outputId": "37f090f0-4437-490c-d8e4-1c0f59dcd104"
      },
      "source": [
        "# json.dumps(obj): 파이썬 객체(obj)를 JSON 형식의 문자열로 변환해서 리턴 - Serialize(직렬화)\r\n",
        "person = {'name': '홍길동', 'age': 16, 'height': 195.5}\r\n",
        "person  #> dict 클래스의 __repr__() 메서드가 리턴하는 문자열이 콘솔에 출력."
      ],
      "execution_count": 2,
      "outputs": [
        {
          "output_type": "execute_result",
          "data": {
            "text/plain": [
              "{'age': 16, 'height': 195.5, 'name': '홍길동'}"
            ]
          },
          "metadata": {
            "tags": []
          },
          "execution_count": 2
        }
      ]
    },
    {
      "cell_type": "code",
      "metadata": {
        "colab": {
          "base_uri": "https://localhost:8080/"
        },
        "id": "v2oFzhXgjOaB",
        "outputId": "fd26f46f-823f-4b10-d5d2-0846d4ee6323"
      },
      "source": [
        "type(person)  #> 파이썬 dict 클래스 타입의 객체"
      ],
      "execution_count": 3,
      "outputs": [
        {
          "output_type": "execute_result",
          "data": {
            "text/plain": [
              "dict"
            ]
          },
          "metadata": {
            "tags": []
          },
          "execution_count": 3
        }
      ]
    },
    {
      "cell_type": "code",
      "metadata": {
        "colab": {
          "base_uri": "https://localhost:8080/",
          "height": 38
        },
        "id": "1cVynlPxjQTJ",
        "outputId": "5455aee6-2cc9-4e25-c6e6-33a43cdaa529"
      },
      "source": [
        "person_json = json.dumps(person)\r\n",
        "person_json  #> json.dumps() 함수가 리턴해준 문자열을 콘솔에 출력"
      ],
      "execution_count": 4,
      "outputs": [
        {
          "output_type": "execute_result",
          "data": {
            "application/vnd.google.colaboratory.intrinsic+json": {
              "type": "string"
            },
            "text/plain": [
              "'{\"name\": \"\\\\ud64d\\\\uae38\\\\ub3d9\", \"age\": 16, \"height\": 195.5}'"
            ]
          },
          "metadata": {
            "tags": []
          },
          "execution_count": 4
        }
      ]
    },
    {
      "cell_type": "code",
      "metadata": {
        "colab": {
          "base_uri": "https://localhost:8080/"
        },
        "id": "siSO2b2UknbR",
        "outputId": "469f3d33-152b-4b76-af56-bcf9e1aedf39"
      },
      "source": [
        "# json.loads(s): JSON 형식의 문자열 s를 파이썬 객체로 변환해서 리턴 - Deserialize(역직렬화)\r\n",
        "result = json.loads(person_json)\r\n",
        "result"
      ],
      "execution_count": 5,
      "outputs": [
        {
          "output_type": "execute_result",
          "data": {
            "text/plain": [
              "{'age': 16, 'height': 195.5, 'name': '홍길동'}"
            ]
          },
          "metadata": {
            "tags": []
          },
          "execution_count": 5
        }
      ]
    },
    {
      "cell_type": "code",
      "metadata": {
        "colab": {
          "base_uri": "https://localhost:8080/"
        },
        "id": "BOHn1BmameZ4",
        "outputId": "3da2fd83-2042-40a6-f04a-1dd7ff5187e9"
      },
      "source": [
        "type(result)"
      ],
      "execution_count": 6,
      "outputs": [
        {
          "output_type": "execute_result",
          "data": {
            "text/plain": [
              "dict"
            ]
          },
          "metadata": {
            "tags": []
          },
          "execution_count": 6
        }
      ]
    },
    {
      "cell_type": "markdown",
      "metadata": {
        "id": "nRRKNpdPm0-g"
      },
      "source": [
        "\r\n",
        "*   `json.dump(obj, fp)`: 파이썬 객체 obj를 JSON 형식의 문자열로 변환(serialize)해서 파일 fp에 write\r\n",
        "*   `json.load(fp)`: 파일 fp에서 문자열(JSON 형식)을 읽어서 파이썬 객체로 변환(deserialze)해서 리턴.\r\n",
        "*   `json.dumps(obj)`: 파이썬 객체 obj를 JSON 형식의 문자열로 변환(serialize)해서 리턴.\r\n",
        "*   `json.loads(s)`: 문자열 s(JSON 형식)를 파이썬 객체로 변환(deserialize)해서 리턴.\r\n"
      ]
    },
    {
      "cell_type": "code",
      "metadata": {
        "id": "Ns8Wbdqpn3wJ"
      },
      "source": [
        "with open('person.json', mode='w') as f:  # 파일을 쓰기 모드로 오픈\r\n",
        "    f.write(person_json)  # 파일에 문자열을 씀"
      ],
      "execution_count": 7,
      "outputs": []
    },
    {
      "cell_type": "code",
      "metadata": {
        "colab": {
          "base_uri": "https://localhost:8080/"
        },
        "id": "ADH_pLweoeJP",
        "outputId": "7b1122af-c7f6-4d23-b852-88bdf3a88f5c"
      },
      "source": [
        "with open('person.json', mode='r') as f:  # 파일을 읽기 모드로 오픈\r\n",
        "    line = f.readline()  # 파일의 첫번째 줄을 읽음.\r\n",
        "    print(line)\r\n",
        "    obj = json.loads(line)  # 읽은 문자열을 파이썬 객체로 변환\r\n",
        "    print(obj)"
      ],
      "execution_count": 9,
      "outputs": [
        {
          "output_type": "stream",
          "text": [
            "{\"name\": \"\\ud64d\\uae38\\ub3d9\", \"age\": 16, \"height\": 195.5}\n",
            "{'name': '홍길동', 'age': 16, 'height': 195.5}\n"
          ],
          "name": "stdout"
        }
      ]
    },
    {
      "cell_type": "code",
      "metadata": {
        "id": "UE1pc6PRpGYy"
      },
      "source": [
        "with open('movie.json', mode='w') as f:\r\n",
        "    # Python dict 객체\r\n",
        "    m1 = {'mid': 1, 'title': '미나리', 'genre': 'Drama'}\r\n",
        "    m2 = {'mid': 2, 'title': '승리호', 'genre': 'SF'}\r\n",
        "    m3 = {'mid': 3, 'title': '인턴'}\r\n",
        "    # JSON 형식의 문자열\r\n",
        "    m1_s = json.dumps(m1)\r\n",
        "    m2_s = json.dumps(m2)\r\n",
        "    m3_s = json.dumps(m3)\r\n",
        "    # 파일에 쓰기\r\n",
        "    f.write(m1_s + '\\n')\r\n",
        "    f.write(m2_s + '\\n')\r\n",
        "    f.write(m3_s + '\\n')"
      ],
      "execution_count": 12,
      "outputs": []
    },
    {
      "cell_type": "code",
      "metadata": {
        "colab": {
          "base_uri": "https://localhost:8080/"
        },
        "id": "mPiX5rI1rqQi",
        "outputId": "e929eb32-30c6-408b-e4cb-f024f06d5b34"
      },
      "source": [
        "with open('movie.json', mode='r') as f:\r\n",
        "    data = []  # 파일에서 읽은 내용을 저장할 리스트\r\n",
        "    for line in f:  # 파일에서 한 줄씩 읽으면서\r\n",
        "        obj = json.loads(line)  # 문자열을 파이썬 객체로 변환(deseialize)\r\n",
        "        print(obj)\r\n",
        "        data.append(obj)  # 리스트에 추가\r\n",
        "    # data = [json.loads(line) for line in f]"
      ],
      "execution_count": 14,
      "outputs": [
        {
          "output_type": "stream",
          "text": [
            "{'mid': 1, 'title': '미나리', 'genre': 'Drama'}\n",
            "{'mid': 2, 'title': '승리호', 'genre': 'SF'}\n",
            "{'mid': 3, 'title': '인턴'}\n"
          ],
          "name": "stdout"
        }
      ]
    },
    {
      "cell_type": "code",
      "metadata": {
        "colab": {
          "base_uri": "https://localhost:8080/"
        },
        "id": "NzfnMLqhwqs0",
        "outputId": "67a9bdb3-2c6a-4e2f-e33c-b6f7a5365eb6"
      },
      "source": [
        "data"
      ],
      "execution_count": 15,
      "outputs": [
        {
          "output_type": "execute_result",
          "data": {
            "text/plain": [
              "[{'genre': 'Drama', 'mid': 1, 'title': '미나리'},\n",
              " {'genre': 'SF', 'mid': 2, 'title': '승리호'},\n",
              " {'mid': 3, 'title': '인턴'}]"
            ]
          },
          "metadata": {
            "tags": []
          },
          "execution_count": 15
        }
      ]
    },
    {
      "cell_type": "code",
      "metadata": {
        "colab": {
          "base_uri": "https://localhost:8080/",
          "height": 149
        },
        "id": "zrKBHFH2wrW7",
        "outputId": "0b825f26-362d-4215-93be-e58d30c8d9e2"
      },
      "source": [
        "df = pd.DataFrame(data)\r\n",
        "df"
      ],
      "execution_count": 16,
      "outputs": [
        {
          "output_type": "execute_result",
          "data": {
            "text/html": [
              "<div>\n",
              "<style scoped>\n",
              "    .dataframe tbody tr th:only-of-type {\n",
              "        vertical-align: middle;\n",
              "    }\n",
              "\n",
              "    .dataframe tbody tr th {\n",
              "        vertical-align: top;\n",
              "    }\n",
              "\n",
              "    .dataframe thead th {\n",
              "        text-align: right;\n",
              "    }\n",
              "</style>\n",
              "<table border=\"1\" class=\"dataframe\">\n",
              "  <thead>\n",
              "    <tr style=\"text-align: right;\">\n",
              "      <th></th>\n",
              "      <th>mid</th>\n",
              "      <th>title</th>\n",
              "      <th>genre</th>\n",
              "    </tr>\n",
              "  </thead>\n",
              "  <tbody>\n",
              "    <tr>\n",
              "      <th>0</th>\n",
              "      <td>1</td>\n",
              "      <td>미나리</td>\n",
              "      <td>Drama</td>\n",
              "    </tr>\n",
              "    <tr>\n",
              "      <th>1</th>\n",
              "      <td>2</td>\n",
              "      <td>승리호</td>\n",
              "      <td>SF</td>\n",
              "    </tr>\n",
              "    <tr>\n",
              "      <th>2</th>\n",
              "      <td>3</td>\n",
              "      <td>인턴</td>\n",
              "      <td>NaN</td>\n",
              "    </tr>\n",
              "  </tbody>\n",
              "</table>\n",
              "</div>"
            ],
            "text/plain": [
              "   mid title  genre\n",
              "0    1   미나리  Drama\n",
              "1    2   승리호     SF\n",
              "2    3    인턴    NaN"
            ]
          },
          "metadata": {
            "tags": []
          },
          "execution_count": 16
        }
      ]
    },
    {
      "cell_type": "markdown",
      "metadata": {
        "id": "ldDJ1StNy48T"
      },
      "source": [
        "\r\n",
        "\r\n",
        "---\r\n",
        "\r\n"
      ]
    },
    {
      "cell_type": "markdown",
      "metadata": {
        "id": "C7ry7VGny5wq"
      },
      "source": [
        "\r\n",
        "*   https://github.com/wesm/pydata-book/blob/2nd-edition/datasets/bitly_usagov/example.txt 파일을 다운로드\r\n",
        "*   다운로드한 파일을 Colab 세션 저장소에 업로드\r\n",
        "*   파일을 읽기 모드로 오픈\r\n",
        "*   파일에서 첫번째 줄부터 마지막 줄까지 한 줄씩 읽으면서\r\n",
        "*   읽은 문자열을 파이썬 dict 객체로 변환하고 리스트에 추가(append)\r\n"
      ]
    },
    {
      "cell_type": "code",
      "metadata": {
        "colab": {
          "base_uri": "https://localhost:8080/"
        },
        "id": "eVZf0rGPxEeL",
        "outputId": "77a52fc8-50a7-4212-9a1a-d301ed5ca2be"
      },
      "source": [
        "with open('example.txt', mode='r') as f:\r\n",
        "    records = [json.loads(line) for line in f]\r\n",
        "    print(len(records))"
      ],
      "execution_count": 18,
      "outputs": [
        {
          "output_type": "stream",
          "text": [
            "3560\n"
          ],
          "name": "stdout"
        }
      ]
    },
    {
      "cell_type": "code",
      "metadata": {
        "colab": {
          "base_uri": "https://localhost:8080/",
          "height": 369
        },
        "id": "Pmy3sNKK1NDV",
        "outputId": "205b7727-3acf-41bf-e91f-1aa7fb5a6de8"
      },
      "source": [
        "df = pd.DataFrame(records)\r\n",
        "df.head()\r\n",
        "#> usa.gov 사이트를 접속한 클라이언트에 대한 정보들을 가지고 있는 파일"
      ],
      "execution_count": 19,
      "outputs": [
        {
          "output_type": "execute_result",
          "data": {
            "text/html": [
              "<div>\n",
              "<style scoped>\n",
              "    .dataframe tbody tr th:only-of-type {\n",
              "        vertical-align: middle;\n",
              "    }\n",
              "\n",
              "    .dataframe tbody tr th {\n",
              "        vertical-align: top;\n",
              "    }\n",
              "\n",
              "    .dataframe thead th {\n",
              "        text-align: right;\n",
              "    }\n",
              "</style>\n",
              "<table border=\"1\" class=\"dataframe\">\n",
              "  <thead>\n",
              "    <tr style=\"text-align: right;\">\n",
              "      <th></th>\n",
              "      <th>a</th>\n",
              "      <th>c</th>\n",
              "      <th>nk</th>\n",
              "      <th>tz</th>\n",
              "      <th>gr</th>\n",
              "      <th>g</th>\n",
              "      <th>h</th>\n",
              "      <th>l</th>\n",
              "      <th>al</th>\n",
              "      <th>hh</th>\n",
              "      <th>r</th>\n",
              "      <th>u</th>\n",
              "      <th>t</th>\n",
              "      <th>hc</th>\n",
              "      <th>cy</th>\n",
              "      <th>ll</th>\n",
              "      <th>_heartbeat_</th>\n",
              "      <th>kw</th>\n",
              "    </tr>\n",
              "  </thead>\n",
              "  <tbody>\n",
              "    <tr>\n",
              "      <th>0</th>\n",
              "      <td>Mozilla/5.0 (Windows NT 6.1; WOW64) AppleWebKi...</td>\n",
              "      <td>US</td>\n",
              "      <td>1.0</td>\n",
              "      <td>America/New_York</td>\n",
              "      <td>MA</td>\n",
              "      <td>A6qOVH</td>\n",
              "      <td>wfLQtf</td>\n",
              "      <td>orofrog</td>\n",
              "      <td>en-US,en;q=0.8</td>\n",
              "      <td>1.usa.gov</td>\n",
              "      <td>http://www.facebook.com/l/7AQEFzjSi/1.usa.gov/...</td>\n",
              "      <td>http://www.ncbi.nlm.nih.gov/pubmed/22415991</td>\n",
              "      <td>1.331923e+09</td>\n",
              "      <td>1.331823e+09</td>\n",
              "      <td>Danvers</td>\n",
              "      <td>[42.576698, -70.954903]</td>\n",
              "      <td>NaN</td>\n",
              "      <td>NaN</td>\n",
              "    </tr>\n",
              "    <tr>\n",
              "      <th>1</th>\n",
              "      <td>GoogleMaps/RochesterNY</td>\n",
              "      <td>US</td>\n",
              "      <td>0.0</td>\n",
              "      <td>America/Denver</td>\n",
              "      <td>UT</td>\n",
              "      <td>mwszkS</td>\n",
              "      <td>mwszkS</td>\n",
              "      <td>bitly</td>\n",
              "      <td>NaN</td>\n",
              "      <td>j.mp</td>\n",
              "      <td>http://www.AwareMap.com/</td>\n",
              "      <td>http://www.monroecounty.gov/etc/911/rss.php</td>\n",
              "      <td>1.331923e+09</td>\n",
              "      <td>1.308262e+09</td>\n",
              "      <td>Provo</td>\n",
              "      <td>[40.218102, -111.613297]</td>\n",
              "      <td>NaN</td>\n",
              "      <td>NaN</td>\n",
              "    </tr>\n",
              "    <tr>\n",
              "      <th>2</th>\n",
              "      <td>Mozilla/4.0 (compatible; MSIE 8.0; Windows NT ...</td>\n",
              "      <td>US</td>\n",
              "      <td>1.0</td>\n",
              "      <td>America/New_York</td>\n",
              "      <td>DC</td>\n",
              "      <td>xxr3Qb</td>\n",
              "      <td>xxr3Qb</td>\n",
              "      <td>bitly</td>\n",
              "      <td>en-US</td>\n",
              "      <td>1.usa.gov</td>\n",
              "      <td>http://t.co/03elZC4Q</td>\n",
              "      <td>http://boxer.senate.gov/en/press/releases/0316...</td>\n",
              "      <td>1.331923e+09</td>\n",
              "      <td>1.331920e+09</td>\n",
              "      <td>Washington</td>\n",
              "      <td>[38.9007, -77.043098]</td>\n",
              "      <td>NaN</td>\n",
              "      <td>NaN</td>\n",
              "    </tr>\n",
              "    <tr>\n",
              "      <th>3</th>\n",
              "      <td>Mozilla/5.0 (Macintosh; Intel Mac OS X 10_6_8)...</td>\n",
              "      <td>BR</td>\n",
              "      <td>0.0</td>\n",
              "      <td>America/Sao_Paulo</td>\n",
              "      <td>27</td>\n",
              "      <td>zCaLwp</td>\n",
              "      <td>zUtuOu</td>\n",
              "      <td>alelex88</td>\n",
              "      <td>pt-br</td>\n",
              "      <td>1.usa.gov</td>\n",
              "      <td>direct</td>\n",
              "      <td>http://apod.nasa.gov/apod/ap120312.html</td>\n",
              "      <td>1.331923e+09</td>\n",
              "      <td>1.331923e+09</td>\n",
              "      <td>Braz</td>\n",
              "      <td>[-23.549999, -46.616699]</td>\n",
              "      <td>NaN</td>\n",
              "      <td>NaN</td>\n",
              "    </tr>\n",
              "    <tr>\n",
              "      <th>4</th>\n",
              "      <td>Mozilla/5.0 (Windows NT 6.1; WOW64) AppleWebKi...</td>\n",
              "      <td>US</td>\n",
              "      <td>0.0</td>\n",
              "      <td>America/New_York</td>\n",
              "      <td>MA</td>\n",
              "      <td>9b6kNl</td>\n",
              "      <td>9b6kNl</td>\n",
              "      <td>bitly</td>\n",
              "      <td>en-US,en;q=0.8</td>\n",
              "      <td>bit.ly</td>\n",
              "      <td>http://www.shrewsbury-ma.gov/selco/</td>\n",
              "      <td>http://www.shrewsbury-ma.gov/egov/gallery/1341...</td>\n",
              "      <td>1.331923e+09</td>\n",
              "      <td>1.273672e+09</td>\n",
              "      <td>Shrewsbury</td>\n",
              "      <td>[42.286499, -71.714699]</td>\n",
              "      <td>NaN</td>\n",
              "      <td>NaN</td>\n",
              "    </tr>\n",
              "  </tbody>\n",
              "</table>\n",
              "</div>"
            ],
            "text/plain": [
              "                                                   a   c  ...  _heartbeat_   kw\n",
              "0  Mozilla/5.0 (Windows NT 6.1; WOW64) AppleWebKi...  US  ...          NaN  NaN\n",
              "1                             GoogleMaps/RochesterNY  US  ...          NaN  NaN\n",
              "2  Mozilla/4.0 (compatible; MSIE 8.0; Windows NT ...  US  ...          NaN  NaN\n",
              "3  Mozilla/5.0 (Macintosh; Intel Mac OS X 10_6_8)...  BR  ...          NaN  NaN\n",
              "4  Mozilla/5.0 (Windows NT 6.1; WOW64) AppleWebKi...  US  ...          NaN  NaN\n",
              "\n",
              "[5 rows x 18 columns]"
            ]
          },
          "metadata": {
            "tags": []
          },
          "execution_count": 19
        }
      ]
    },
    {
      "cell_type": "code",
      "metadata": {
        "colab": {
          "base_uri": "https://localhost:8080/",
          "height": 331
        },
        "id": "46kjGR_v45gW",
        "outputId": "643586fb-c010-464e-fce2-788117bb1275"
      },
      "source": [
        "df.tail()"
      ],
      "execution_count": 20,
      "outputs": [
        {
          "output_type": "execute_result",
          "data": {
            "text/html": [
              "<div>\n",
              "<style scoped>\n",
              "    .dataframe tbody tr th:only-of-type {\n",
              "        vertical-align: middle;\n",
              "    }\n",
              "\n",
              "    .dataframe tbody tr th {\n",
              "        vertical-align: top;\n",
              "    }\n",
              "\n",
              "    .dataframe thead th {\n",
              "        text-align: right;\n",
              "    }\n",
              "</style>\n",
              "<table border=\"1\" class=\"dataframe\">\n",
              "  <thead>\n",
              "    <tr style=\"text-align: right;\">\n",
              "      <th></th>\n",
              "      <th>a</th>\n",
              "      <th>c</th>\n",
              "      <th>nk</th>\n",
              "      <th>tz</th>\n",
              "      <th>gr</th>\n",
              "      <th>g</th>\n",
              "      <th>h</th>\n",
              "      <th>l</th>\n",
              "      <th>al</th>\n",
              "      <th>hh</th>\n",
              "      <th>r</th>\n",
              "      <th>u</th>\n",
              "      <th>t</th>\n",
              "      <th>hc</th>\n",
              "      <th>cy</th>\n",
              "      <th>ll</th>\n",
              "      <th>_heartbeat_</th>\n",
              "      <th>kw</th>\n",
              "    </tr>\n",
              "  </thead>\n",
              "  <tbody>\n",
              "    <tr>\n",
              "      <th>3555</th>\n",
              "      <td>Mozilla/4.0 (compatible; MSIE 9.0; Windows NT ...</td>\n",
              "      <td>US</td>\n",
              "      <td>1.0</td>\n",
              "      <td>America/New_York</td>\n",
              "      <td>NJ</td>\n",
              "      <td>e5SvKE</td>\n",
              "      <td>fqPSr9</td>\n",
              "      <td>tweetdeckapi</td>\n",
              "      <td>en</td>\n",
              "      <td>1.usa.gov</td>\n",
              "      <td>direct</td>\n",
              "      <td>http://www.fda.gov/AdvisoryCommittees/Committe...</td>\n",
              "      <td>1.331927e+09</td>\n",
              "      <td>1.301298e+09</td>\n",
              "      <td>Paramus</td>\n",
              "      <td>[40.9445, -74.07]</td>\n",
              "      <td>NaN</td>\n",
              "      <td>NaN</td>\n",
              "    </tr>\n",
              "    <tr>\n",
              "      <th>3556</th>\n",
              "      <td>Mozilla/5.0 (Windows NT 5.1) AppleWebKit/535.1...</td>\n",
              "      <td>US</td>\n",
              "      <td>0.0</td>\n",
              "      <td>America/Chicago</td>\n",
              "      <td>OK</td>\n",
              "      <td>jQLtP4</td>\n",
              "      <td>jQLtP4</td>\n",
              "      <td>bitly</td>\n",
              "      <td>en-US,en;q=0.8</td>\n",
              "      <td>1.usa.gov</td>\n",
              "      <td>http://www.facebook.com/l.php?u=http%3A%2F%2F1...</td>\n",
              "      <td>http://www.okc.gov/PublicNotificationSystem/Fo...</td>\n",
              "      <td>1.331927e+09</td>\n",
              "      <td>1.307530e+09</td>\n",
              "      <td>Oklahoma City</td>\n",
              "      <td>[35.4715, -97.518997]</td>\n",
              "      <td>NaN</td>\n",
              "      <td>NaN</td>\n",
              "    </tr>\n",
              "    <tr>\n",
              "      <th>3557</th>\n",
              "      <td>GoogleMaps/RochesterNY</td>\n",
              "      <td>US</td>\n",
              "      <td>0.0</td>\n",
              "      <td>America/Denver</td>\n",
              "      <td>UT</td>\n",
              "      <td>mwszkS</td>\n",
              "      <td>mwszkS</td>\n",
              "      <td>bitly</td>\n",
              "      <td>NaN</td>\n",
              "      <td>j.mp</td>\n",
              "      <td>http://www.AwareMap.com/</td>\n",
              "      <td>http://www.monroecounty.gov/etc/911/rss.php</td>\n",
              "      <td>1.331927e+09</td>\n",
              "      <td>1.308262e+09</td>\n",
              "      <td>Provo</td>\n",
              "      <td>[40.218102, -111.613297]</td>\n",
              "      <td>NaN</td>\n",
              "      <td>NaN</td>\n",
              "    </tr>\n",
              "    <tr>\n",
              "      <th>3558</th>\n",
              "      <td>GoogleProducer</td>\n",
              "      <td>US</td>\n",
              "      <td>0.0</td>\n",
              "      <td>America/Los_Angeles</td>\n",
              "      <td>CA</td>\n",
              "      <td>zjtI4X</td>\n",
              "      <td>zjtI4X</td>\n",
              "      <td>bitly</td>\n",
              "      <td>NaN</td>\n",
              "      <td>1.usa.gov</td>\n",
              "      <td>direct</td>\n",
              "      <td>http://www.ahrq.gov/qual/qitoolkit/</td>\n",
              "      <td>1.331927e+09</td>\n",
              "      <td>1.327529e+09</td>\n",
              "      <td>Mountain View</td>\n",
              "      <td>[37.419201, -122.057404]</td>\n",
              "      <td>NaN</td>\n",
              "      <td>NaN</td>\n",
              "    </tr>\n",
              "    <tr>\n",
              "      <th>3559</th>\n",
              "      <td>Mozilla/4.0 (compatible; MSIE 8.0; Windows NT ...</td>\n",
              "      <td>US</td>\n",
              "      <td>0.0</td>\n",
              "      <td>America/New_York</td>\n",
              "      <td>VA</td>\n",
              "      <td>qxKrTK</td>\n",
              "      <td>qxKrTK</td>\n",
              "      <td>bitly</td>\n",
              "      <td>en-US</td>\n",
              "      <td>1.usa.gov</td>\n",
              "      <td>http://t.co/OEEEvwjU</td>\n",
              "      <td>http://herndon-va.gov/Content/public_safety/Pu...</td>\n",
              "      <td>1.331927e+09</td>\n",
              "      <td>1.312898e+09</td>\n",
              "      <td>Mc Lean</td>\n",
              "      <td>[38.935799, -77.162102]</td>\n",
              "      <td>NaN</td>\n",
              "      <td>NaN</td>\n",
              "    </tr>\n",
              "  </tbody>\n",
              "</table>\n",
              "</div>"
            ],
            "text/plain": [
              "                                                      a   c  ...  _heartbeat_   kw\n",
              "3555  Mozilla/4.0 (compatible; MSIE 9.0; Windows NT ...  US  ...          NaN  NaN\n",
              "3556  Mozilla/5.0 (Windows NT 5.1) AppleWebKit/535.1...  US  ...          NaN  NaN\n",
              "3557                             GoogleMaps/RochesterNY  US  ...          NaN  NaN\n",
              "3558                                     GoogleProducer  US  ...          NaN  NaN\n",
              "3559  Mozilla/4.0 (compatible; MSIE 8.0; Windows NT ...  US  ...          NaN  NaN\n",
              "\n",
              "[5 rows x 18 columns]"
            ]
          },
          "metadata": {
            "tags": []
          },
          "execution_count": 20
        }
      ]
    },
    {
      "cell_type": "code",
      "metadata": {
        "colab": {
          "base_uri": "https://localhost:8080/"
        },
        "id": "GAc2j8GT5AH0",
        "outputId": "40b599dc-8e18-4e0e-91b7-b491d585e93a"
      },
      "source": [
        "df.info()\r\n",
        "#> json 파일(비정형, 반정형 데이터)을 데이터 프레임으로 변환하게 되면 보통 NA들이 많이 생기게 됨."
      ],
      "execution_count": 21,
      "outputs": [
        {
          "output_type": "stream",
          "text": [
            "<class 'pandas.core.frame.DataFrame'>\n",
            "RangeIndex: 3560 entries, 0 to 3559\n",
            "Data columns (total 18 columns):\n",
            " #   Column       Non-Null Count  Dtype  \n",
            "---  ------       --------------  -----  \n",
            " 0   a            3440 non-null   object \n",
            " 1   c            2919 non-null   object \n",
            " 2   nk           3440 non-null   float64\n",
            " 3   tz           3440 non-null   object \n",
            " 4   gr           2919 non-null   object \n",
            " 5   g            3440 non-null   object \n",
            " 6   h            3440 non-null   object \n",
            " 7   l            3440 non-null   object \n",
            " 8   al           3094 non-null   object \n",
            " 9   hh           3440 non-null   object \n",
            " 10  r            3440 non-null   object \n",
            " 11  u            3440 non-null   object \n",
            " 12  t            3440 non-null   float64\n",
            " 13  hc           3440 non-null   float64\n",
            " 14  cy           2919 non-null   object \n",
            " 15  ll           2919 non-null   object \n",
            " 16  _heartbeat_  120 non-null    float64\n",
            " 17  kw           93 non-null     object \n",
            "dtypes: float64(4), object(14)\n",
            "memory usage: 500.8+ KB\n"
          ],
          "name": "stdout"
        }
      ]
    },
    {
      "cell_type": "markdown",
      "metadata": {
        "id": "RkX7sEoX9dJD"
      },
      "source": [
        "*   tz 컬럼에는 몇 개의 시간대(timezon)가 있을까?\r\n",
        "*   가장 많이 접속한 지역?"
      ]
    },
    {
      "cell_type": "code",
      "metadata": {
        "colab": {
          "base_uri": "https://localhost:8080/"
        },
        "id": "GD6sNPLp9jg3",
        "outputId": "addc098c-8fb7-46f5-df1d-59e1205abbee"
      },
      "source": [
        "df['tz']"
      ],
      "execution_count": 22,
      "outputs": [
        {
          "output_type": "execute_result",
          "data": {
            "text/plain": [
              "0          America/New_York\n",
              "1            America/Denver\n",
              "2          America/New_York\n",
              "3         America/Sao_Paulo\n",
              "4          America/New_York\n",
              "               ...         \n",
              "3555       America/New_York\n",
              "3556        America/Chicago\n",
              "3557         America/Denver\n",
              "3558    America/Los_Angeles\n",
              "3559       America/New_York\n",
              "Name: tz, Length: 3560, dtype: object"
            ]
          },
          "metadata": {
            "tags": []
          },
          "execution_count": 22
        }
      ]
    },
    {
      "cell_type": "code",
      "metadata": {
        "colab": {
          "base_uri": "https://localhost:8080/"
        },
        "id": "haito2S--NRF",
        "outputId": "373e6d32-6fb2-4b2e-8b6b-c5a385b5033d"
      },
      "source": [
        "# tz 컬럼의 unique한 값들의 빈도수\r\n",
        "df['tz'].value_counts()\r\n",
        "#> value_counts() 메서드는 NA의 개수를 세지 않음!"
      ],
      "execution_count": 23,
      "outputs": [
        {
          "output_type": "execute_result",
          "data": {
            "text/plain": [
              "America/New_York                  1251\n",
              "                                   521\n",
              "America/Chicago                    400\n",
              "America/Los_Angeles                382\n",
              "America/Denver                     191\n",
              "                                  ... \n",
              "America/Argentina/Mendoza            1\n",
              "Asia/Manila                          1\n",
              "Africa/Lusaka                        1\n",
              "Asia/Kuching                         1\n",
              "America/Argentina/Buenos_Aires       1\n",
              "Name: tz, Length: 97, dtype: int64"
            ]
          },
          "metadata": {
            "tags": []
          },
          "execution_count": 23
        }
      ]
    },
    {
      "cell_type": "code",
      "metadata": {
        "colab": {
          "base_uri": "https://localhost:8080/"
        },
        "id": "9DniAtXi-qis",
        "outputId": "77e10882-2feb-4cf4-b6b6-8b0543dcae11"
      },
      "source": [
        "df['tz'].value_counts().iloc[:10]"
      ],
      "execution_count": 24,
      "outputs": [
        {
          "output_type": "execute_result",
          "data": {
            "text/plain": [
              "America/New_York       1251\n",
              "                        521\n",
              "America/Chicago         400\n",
              "America/Los_Angeles     382\n",
              "America/Denver          191\n",
              "Europe/London            74\n",
              "Asia/Tokyo               37\n",
              "Pacific/Honolulu         36\n",
              "Europe/Madrid            35\n",
              "America/Sao_Paulo        33\n",
              "Name: tz, dtype: int64"
            ]
          },
          "metadata": {
            "tags": []
          },
          "execution_count": 24
        }
      ]
    },
    {
      "cell_type": "code",
      "metadata": {
        "id": "UqlRJl0y_exW"
      },
      "source": [
        "# NA의 개수도 표기\r\n",
        "df_clean = df.copy()\r\n",
        "df_clean['tz'] = df_clean['tz'].fillna('Missing')  # NA(값이 없음)를 'Missing' 문자열로 대체"
      ],
      "execution_count": 45,
      "outputs": []
    },
    {
      "cell_type": "code",
      "metadata": {
        "colab": {
          "base_uri": "https://localhost:8080/"
        },
        "id": "3KeMNDHdApF8",
        "outputId": "a47b78da-6bbb-4165-a395-e95023491920"
      },
      "source": [
        "df_clean['tz'].value_counts().head(n=10)"
      ],
      "execution_count": 46,
      "outputs": [
        {
          "output_type": "execute_result",
          "data": {
            "text/plain": [
              "America/New_York       1251\n",
              "                        521\n",
              "America/Chicago         400\n",
              "America/Los_Angeles     382\n",
              "America/Denver          191\n",
              "Missing                 120\n",
              "Europe/London            74\n",
              "Asia/Tokyo               37\n",
              "Pacific/Honolulu         36\n",
              "Europe/Madrid            35\n",
              "Name: tz, dtype: int64"
            ]
          },
          "metadata": {
            "tags": []
          },
          "execution_count": 46
        }
      ]
    },
    {
      "cell_type": "code",
      "metadata": {
        "colab": {
          "base_uri": "https://localhost:8080/"
        },
        "id": "F6AfvtRNA0n2",
        "outputId": "3f21d22d-57ef-419c-e948-90eecdea2318"
      },
      "source": [
        "df_clean['tz'] = np.where(df_clean['tz'] == '', 'Unknown', df_clean['tz'])\r\n",
        "# tz 컬럼의 값이 ''(empty string)이면 'Unknown'으로 대체하고, 그렇지 않으면 원래 값 그대로 사용.\r\n",
        "s = df_clean['tz'].value_counts().head(n=10)\r\n",
        "s"
      ],
      "execution_count": 53,
      "outputs": [
        {
          "output_type": "execute_result",
          "data": {
            "text/plain": [
              "America/New_York       1251\n",
              "Unknown                 521\n",
              "America/Chicago         400\n",
              "America/Los_Angeles     382\n",
              "America/Denver          191\n",
              "Missing                 120\n",
              "Europe/London            74\n",
              "Asia/Tokyo               37\n",
              "Pacific/Honolulu         36\n",
              "Europe/Madrid            35\n",
              "Name: tz, dtype: int64"
            ]
          },
          "metadata": {
            "tags": []
          },
          "execution_count": 53
        }
      ]
    },
    {
      "cell_type": "code",
      "metadata": {
        "colab": {
          "base_uri": "https://localhost:8080/",
          "height": 265
        },
        "id": "mVqjbYcbFv12",
        "outputId": "566d0524-efc0-4c1d-d654-fcdbe8de5a74"
      },
      "source": [
        "sns.barplot(x=s.values, y=s.index)\r\n",
        "plt.show()"
      ],
      "execution_count": 54,
      "outputs": [
        {
          "output_type": "display_data",
          "data": {
            "image/png": "[encoded data removed]",
            "text/plain": [
              "<Figure size 432x288 with 1 Axes>"
            ]
          },
          "metadata": {
            "tags": [],
            "needs_background": "light"
          }
        }
      ]
    },
    {
      "cell_type": "code",
      "metadata": {
        "colab": {
          "base_uri": "https://localhost:8080/"
        },
        "id": "5ZEAlaToFRTO",
        "outputId": "fc7d6efe-1844-4372-c133-3b9b19b82012"
      },
      "source": [
        "df_clean['tz'].value_counts().tail(n=10)"
      ],
      "execution_count": 50,
      "outputs": [
        {
          "output_type": "execute_result",
          "data": {
            "text/plain": [
              "Africa/Casablanca                 1\n",
              "America/Mazatlan                  1\n",
              "America/Tegucigalpa               1\n",
              "America/Argentina/Buenos_Aires    1\n",
              "Europe/Ljubljana                  1\n",
              "Africa/Lusaka                     1\n",
              "Africa/Johannesburg               1\n",
              "America/St_Kitts                  1\n",
              "America/Lima                      1\n",
              "America/Montevideo                1\n",
              "Name: tz, dtype: int64"
            ]
          },
          "metadata": {
            "tags": []
          },
          "execution_count": 50
        }
      ]
    },
    {
      "cell_type": "code",
      "metadata": {
        "colab": {
          "base_uri": "https://localhost:8080/",
          "height": 427
        },
        "id": "vBPbHxT6GPUO",
        "outputId": "880232be-cca1-4ae4-8151-f248df054be3"
      },
      "source": [
        "# 접속 시간대(timezone)에 한국 서울 시간대(Asia/Seoul)이 있을까요?\r\n",
        "df_clean[df_clean['tz'].str.contains('Seoul')]"
      ],
      "execution_count": 58,
      "outputs": [
        {
          "output_type": "execute_result",
          "data": {
            "text/html": [
              "<div>\n",
              "<style scoped>\n",
              "    .dataframe tbody tr th:only-of-type {\n",
              "        vertical-align: middle;\n",
              "    }\n",
              "\n",
              "    .dataframe tbody tr th {\n",
              "        vertical-align: top;\n",
              "    }\n",
              "\n",
              "    .dataframe thead th {\n",
              "        text-align: right;\n",
              "    }\n",
              "</style>\n",
              "<table border=\"1\" class=\"dataframe\">\n",
              "  <thead>\n",
              "    <tr style=\"text-align: right;\">\n",
              "      <th></th>\n",
              "      <th>a</th>\n",
              "      <th>c</th>\n",
              "      <th>nk</th>\n",
              "      <th>tz</th>\n",
              "      <th>gr</th>\n",
              "      <th>g</th>\n",
              "      <th>h</th>\n",
              "      <th>l</th>\n",
              "      <th>al</th>\n",
              "      <th>hh</th>\n",
              "      <th>r</th>\n",
              "      <th>u</th>\n",
              "      <th>t</th>\n",
              "      <th>hc</th>\n",
              "      <th>cy</th>\n",
              "      <th>ll</th>\n",
              "      <th>_heartbeat_</th>\n",
              "      <th>kw</th>\n",
              "    </tr>\n",
              "  </thead>\n",
              "  <tbody>\n",
              "    <tr>\n",
              "      <th>1428</th>\n",
              "      <td>Mozilla/5.0 (Windows NT 5.1) AppleWebKit/535.1...</td>\n",
              "      <td>KR</td>\n",
              "      <td>1.0</td>\n",
              "      <td>Asia/Seoul</td>\n",
              "      <td>11</td>\n",
              "      <td>y7mqmw</td>\n",
              "      <td>w41aUb</td>\n",
              "      <td>rebroth</td>\n",
              "      <td>en-US,en;q=0.8</td>\n",
              "      <td>1.usa.gov</td>\n",
              "      <td>http://t.co/l16apDbA</td>\n",
              "      <td>http://apod.nasa.gov/apod/ap120314.html</td>\n",
              "      <td>1.331925e+09</td>\n",
              "      <td>1.331739e+09</td>\n",
              "      <td>Seoul</td>\n",
              "      <td>[37.566399, 126.999702]</td>\n",
              "      <td>NaN</td>\n",
              "      <td>NaN</td>\n",
              "    </tr>\n",
              "    <tr>\n",
              "      <th>3154</th>\n",
              "      <td>Mozilla/5.0 (iPad; U; CPU iPhone OS 5_0_1 like...</td>\n",
              "      <td>KR</td>\n",
              "      <td>0.0</td>\n",
              "      <td>Asia/Seoul</td>\n",
              "      <td>11</td>\n",
              "      <td>wcndER</td>\n",
              "      <td>zkpJBR</td>\n",
              "      <td>bnjacobs</td>\n",
              "      <td>ko-kr</td>\n",
              "      <td>1.usa.gov</td>\n",
              "      <td>http://m.facebook.com/l.php?u=http%3A%2F%2F1.u...</td>\n",
              "      <td>http://www.nasa.gov/mission_pages/nustar/main/...</td>\n",
              "      <td>1.331926e+09</td>\n",
              "      <td>1.331923e+09</td>\n",
              "      <td>Seoul</td>\n",
              "      <td>[37.566399, 126.999702]</td>\n",
              "      <td>NaN</td>\n",
              "      <td>NaN</td>\n",
              "    </tr>\n",
              "    <tr>\n",
              "      <th>3175</th>\n",
              "      <td>Mozilla/5.0 (iPad; U; CPU iPhone OS 5_0_1 like...</td>\n",
              "      <td>KR</td>\n",
              "      <td>1.0</td>\n",
              "      <td>Asia/Seoul</td>\n",
              "      <td>11</td>\n",
              "      <td>wcndER</td>\n",
              "      <td>zkpJBR</td>\n",
              "      <td>bnjacobs</td>\n",
              "      <td>ko-kr</td>\n",
              "      <td>1.usa.gov</td>\n",
              "      <td>http://m.facebook.com/l.php?u=http%3A%2F%2F1.u...</td>\n",
              "      <td>http://www.nasa.gov/mission_pages/nustar/main/...</td>\n",
              "      <td>1.331926e+09</td>\n",
              "      <td>1.331923e+09</td>\n",
              "      <td>Seoul</td>\n",
              "      <td>[37.566399, 126.999702]</td>\n",
              "      <td>NaN</td>\n",
              "      <td>NaN</td>\n",
              "    </tr>\n",
              "    <tr>\n",
              "      <th>3496</th>\n",
              "      <td>Mozilla/5.0 (iPhone; CPU iPhone OS 5_0_1 like ...</td>\n",
              "      <td>KR</td>\n",
              "      <td>0.0</td>\n",
              "      <td>Asia/Seoul</td>\n",
              "      <td>11</td>\n",
              "      <td>wQacbF</td>\n",
              "      <td>AsWr9f</td>\n",
              "      <td>addthis</td>\n",
              "      <td>en-us</td>\n",
              "      <td>1.usa.gov</td>\n",
              "      <td>https://twitter.com/whitehouse/status/18067782...</td>\n",
              "      <td>http://www.whitehouse.gov/energy/gasprices#.T2...</td>\n",
              "      <td>1.331927e+09</td>\n",
              "      <td>1.331912e+09</td>\n",
              "      <td>Seoul</td>\n",
              "      <td>[37.566399, 126.999702]</td>\n",
              "      <td>NaN</td>\n",
              "      <td>NaN</td>\n",
              "    </tr>\n",
              "    <tr>\n",
              "      <th>3506</th>\n",
              "      <td>Mozilla/5.0 (iPhone; CPU iPhone OS 5_0_1 like ...</td>\n",
              "      <td>KR</td>\n",
              "      <td>0.0</td>\n",
              "      <td>Asia/Seoul</td>\n",
              "      <td>11</td>\n",
              "      <td>wQacbF</td>\n",
              "      <td>AsWr9f</td>\n",
              "      <td>addthis</td>\n",
              "      <td>en-us</td>\n",
              "      <td>1.usa.gov</td>\n",
              "      <td>direct</td>\n",
              "      <td>http://www.whitehouse.gov/energy/gasprices#.T2...</td>\n",
              "      <td>1.331927e+09</td>\n",
              "      <td>1.331912e+09</td>\n",
              "      <td>Seoul</td>\n",
              "      <td>[37.566399, 126.999702]</td>\n",
              "      <td>NaN</td>\n",
              "      <td>NaN</td>\n",
              "    </tr>\n",
              "  </tbody>\n",
              "</table>\n",
              "</div>"
            ],
            "text/plain": [
              "                                                      a   c  ...  _heartbeat_   kw\n",
              "1428  Mozilla/5.0 (Windows NT 5.1) AppleWebKit/535.1...  KR  ...          NaN  NaN\n",
              "3154  Mozilla/5.0 (iPad; U; CPU iPhone OS 5_0_1 like...  KR  ...          NaN  NaN\n",
              "3175  Mozilla/5.0 (iPad; U; CPU iPhone OS 5_0_1 like...  KR  ...          NaN  NaN\n",
              "3496  Mozilla/5.0 (iPhone; CPU iPhone OS 5_0_1 like ...  KR  ...          NaN  NaN\n",
              "3506  Mozilla/5.0 (iPhone; CPU iPhone OS 5_0_1 like ...  KR  ...          NaN  NaN\n",
              "\n",
              "[5 rows x 18 columns]"
            ]
          },
          "metadata": {
            "tags": []
          },
          "execution_count": 58
        }
      ]
    }
  ]
}