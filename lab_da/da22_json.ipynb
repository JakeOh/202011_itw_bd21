{
  "nbformat": 4,
  "nbformat_minor": 0,
  "metadata": {
    "colab": {
      "name": "da22_json.ipynb",
      "provenance": [],
      "collapsed_sections": [],
      "authorship_tag": "ABX9TyPmjin+aiy9EHTL11mdWDGY",
      "include_colab_link": true
    },
    "kernelspec": {
      "name": "python3",
      "display_name": "Python 3"
    }
  },
  "cells": [
    {
      "cell_type": "markdown",
      "metadata": {
        "id": "view-in-github",
        "colab_type": "text"
      },
      "source": [
        "<a href=\"https://colab.research.google.com/github/JakeOh/202011_itw_bd21/blob/main/lab_da/da22_json.ipynb\" target=\"_parent\"><img src=\"https://colab.research.google.com/assets/colab-badge.svg\" alt=\"Open In Colab\"/></a>"
      ]
    },
    {
      "cell_type": "code",
      "metadata": {
        "id": "lbhreEaLGhTt"
      },
      "source": [
        "import numpy as np\r\n",
        "import pandas as pd\r\n",
        "import matplotlib.pyplot as plt\r\n",
        "import seaborn as sns\r\n",
        "import json  # 파이썬의 기본 모듈 중 하나 - json 읽기/쓰기 기능"
      ],
      "execution_count": 1,
      "outputs": []
    },
    {
      "cell_type": "markdown",
      "metadata": {
        "id": "vF53BKvcOhU8"
      },
      "source": [
        "**JSON**\r\n",
        "\r\n",
        "*   JSON(JavaScript Object Notation): 자바스크립트 객체 표현법\r\n",
        "*   `{key1: value1, key2: value2, ...}` 같은 형식의 문자열\r\n",
        "*   파이썬의 dict 클래스 타입과 비슷\r\n",
        "*   json 모듈: JSON 형식 문자열 <---> dict 타입 객체\r\n"
      ]
    }
  ]
}