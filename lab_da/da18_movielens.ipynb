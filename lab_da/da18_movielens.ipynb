{
  "nbformat": 4,
  "nbformat_minor": 0,
  "metadata": {
    "colab": {
      "name": "da18_movielens.ipynb",
      "provenance": [],
      "collapsed_sections": [],
      "authorship_tag": "ABX9TyNat4d9opgUNTx/FJiVYD5t",
      "include_colab_link": true
    },
    "kernelspec": {
      "name": "python3",
      "display_name": "Python 3"
    }
  },
  "cells": [
    {
      "cell_type": "markdown",
      "metadata": {
        "id": "view-in-github",
        "colab_type": "text"
      },
      "source": [
        "<a href=\"https://colab.research.google.com/github/JakeOh/202011_itw_bd21/blob/main/lab_da/da18_movielens.ipynb\" target=\"_parent\"><img src=\"https://colab.research.google.com/assets/colab-badge.svg\" alt=\"Open In Colab\"/></a>"
      ]
    },
    {
      "cell_type": "markdown",
      "metadata": {
        "id": "bREeccULJWbW"
      },
      "source": [
        "# MovieLens 영화 별점 분석"
      ]
    },
    {
      "cell_type": "code",
      "metadata": {
        "id": "85tepQdrJNNG"
      },
      "source": [
        "import numpy as np\r\n",
        "import pandas as pd\r\n",
        "import matplotlib.pyplot as plt\r\n",
        "import seaborn as sns"
      ],
      "execution_count": 1,
      "outputs": []
    },
    {
      "cell_type": "markdown",
      "metadata": {
        "id": "IeNGZS0HJwmX"
      },
      "source": [
        "##  데이터 프레임 생성\r\n",
        "\r\n",
        "*   https://github.com/wesm/pydata-book/tree/2nd-edition/datasets/movielens 사이트의 3개 데이터 파일을 읽어서 데이터 프레임을 생성\r\n",
        "*   ratings와 movies를 merge\r\n",
        "*   위에서 merge된 내용과 users를 merge\r\n"
      ]
    },
    {
      "cell_type": "code",
      "metadata": {
        "id": "emAFCYORJiMt"
      },
      "source": [
        "# 파일이 저장된 github 주소\r\n",
        "movies_data = 'https://github.com/wesm/pydata-book/raw/2nd-edition/datasets/movielens/movies.dat'\r\n",
        "ratings_data = 'https://github.com/wesm/pydata-book/raw/2nd-edition/datasets/movielens/ratings.dat'\r\n",
        "users_data = 'https://github.com/wesm/pydata-book/raw/2nd-edition/datasets/movielens/users.dat'"
      ],
      "execution_count": 2,
      "outputs": []
    },
    {
      "cell_type": "code",
      "metadata": {
        "id": "jjF_FTSHKpZG"
      },
      "source": [
        "# 데이터 특성(features)/변수(variables)/컬럼 이름(column names)\r\n",
        "movie_cols = ['movie_id', 'title', 'genres']\r\n",
        "rating_cols = ['user_id', 'movie_id', 'rating', 'timestamp']\r\n",
        "user_cols = ['user_id', 'gender', 'age', 'occupation', 'zip_code']"
      ],
      "execution_count": 3,
      "outputs": []
    },
    {
      "cell_type": "code",
      "metadata": {
        "id": "yQlpjaA5LFIl"
      },
      "source": [
        "movies = pd.read_csv(movies_data, sep='::', encoding='cp1252',\r\n",
        "                     header=None, names=movie_cols, engine='python')"
      ],
      "execution_count": 7,
      "outputs": []
    },
    {
      "cell_type": "code",
      "metadata": {
        "colab": {
          "base_uri": "https://localhost:8080/",
          "height": 214
        },
        "id": "wa_TrdO5MKiM",
        "outputId": "c5ab3608-aa73-446e-ad49-f5b4802a39b8"
      },
      "source": [
        "movies.head()"
      ],
      "execution_count": 8,
      "outputs": [
        {
          "output_type": "execute_result",
          "data": {
            "text/html": [
              "<div>\n",
              "<style scoped>\n",
              "    .dataframe tbody tr th:only-of-type {\n",
              "        vertical-align: middle;\n",
              "    }\n",
              "\n",
              "    .dataframe tbody tr th {\n",
              "        vertical-align: top;\n",
              "    }\n",
              "\n",
              "    .dataframe thead th {\n",
              "        text-align: right;\n",
              "    }\n",
              "</style>\n",
              "<table border=\"1\" class=\"dataframe\">\n",
              "  <thead>\n",
              "    <tr style=\"text-align: right;\">\n",
              "      <th></th>\n",
              "      <th>movie_id</th>\n",
              "      <th>title</th>\n",
              "      <th>genres</th>\n",
              "    </tr>\n",
              "  </thead>\n",
              "  <tbody>\n",
              "    <tr>\n",
              "      <th>0</th>\n",
              "      <td>1</td>\n",
              "      <td>Toy Story (1995)</td>\n",
              "      <td>Animation|Children's|Comedy</td>\n",
              "    </tr>\n",
              "    <tr>\n",
              "      <th>1</th>\n",
              "      <td>2</td>\n",
              "      <td>Jumanji (1995)</td>\n",
              "      <td>Adventure|Children's|Fantasy</td>\n",
              "    </tr>\n",
              "    <tr>\n",
              "      <th>2</th>\n",
              "      <td>3</td>\n",
              "      <td>Grumpier Old Men (1995)</td>\n",
              "      <td>Comedy|Romance</td>\n",
              "    </tr>\n",
              "    <tr>\n",
              "      <th>3</th>\n",
              "      <td>4</td>\n",
              "      <td>Waiting to Exhale (1995)</td>\n",
              "      <td>Comedy|Drama</td>\n",
              "    </tr>\n",
              "    <tr>\n",
              "      <th>4</th>\n",
              "      <td>5</td>\n",
              "      <td>Father of the Bride Part II (1995)</td>\n",
              "      <td>Comedy</td>\n",
              "    </tr>\n",
              "  </tbody>\n",
              "</table>\n",
              "</div>"
            ],
            "text/plain": [
              "   movie_id                               title                        genres\n",
              "0         1                    Toy Story (1995)   Animation|Children's|Comedy\n",
              "1         2                      Jumanji (1995)  Adventure|Children's|Fantasy\n",
              "2         3             Grumpier Old Men (1995)                Comedy|Romance\n",
              "3         4            Waiting to Exhale (1995)                  Comedy|Drama\n",
              "4         5  Father of the Bride Part II (1995)                        Comedy"
            ]
          },
          "metadata": {
            "tags": []
          },
          "execution_count": 8
        }
      ]
    },
    {
      "cell_type": "code",
      "metadata": {
        "colab": {
          "base_uri": "https://localhost:8080/"
        },
        "id": "jkQUqqZxMq4c",
        "outputId": "36058b73-02fe-4715-9060-bd67fefdd8a0"
      },
      "source": [
        "movies.info()"
      ],
      "execution_count": 9,
      "outputs": [
        {
          "output_type": "stream",
          "text": [
            "<class 'pandas.core.frame.DataFrame'>\n",
            "RangeIndex: 3883 entries, 0 to 3882\n",
            "Data columns (total 3 columns):\n",
            " #   Column    Non-Null Count  Dtype \n",
            "---  ------    --------------  ----- \n",
            " 0   movie_id  3883 non-null   int64 \n",
            " 1   title     3883 non-null   object\n",
            " 2   genres    3883 non-null   object\n",
            "dtypes: int64(1), object(2)\n",
            "memory usage: 91.1+ KB\n"
          ],
          "name": "stdout"
        }
      ]
    },
    {
      "cell_type": "code",
      "metadata": {
        "id": "D91m67lcM85s"
      },
      "source": [
        "ratings = pd.read_csv(ratings_data, sep='::', encoding='cp1252',\r\n",
        "                      header=None, names=rating_cols, engine='python')"
      ],
      "execution_count": 10,
      "outputs": []
    },
    {
      "cell_type": "code",
      "metadata": {
        "colab": {
          "base_uri": "https://localhost:8080/",
          "height": 214
        },
        "id": "-7LwQ92sNK58",
        "outputId": "37cb68b4-5144-4d09-a27d-5e5fe17aec34"
      },
      "source": [
        "ratings.head()"
      ],
      "execution_count": 12,
      "outputs": [
        {
          "output_type": "execute_result",
          "data": {
            "text/html": [
              "<div>\n",
              "<style scoped>\n",
              "    .dataframe tbody tr th:only-of-type {\n",
              "        vertical-align: middle;\n",
              "    }\n",
              "\n",
              "    .dataframe tbody tr th {\n",
              "        vertical-align: top;\n",
              "    }\n",
              "\n",
              "    .dataframe thead th {\n",
              "        text-align: right;\n",
              "    }\n",
              "</style>\n",
              "<table border=\"1\" class=\"dataframe\">\n",
              "  <thead>\n",
              "    <tr style=\"text-align: right;\">\n",
              "      <th></th>\n",
              "      <th>user_id</th>\n",
              "      <th>movie_id</th>\n",
              "      <th>rating</th>\n",
              "      <th>timestamp</th>\n",
              "    </tr>\n",
              "  </thead>\n",
              "  <tbody>\n",
              "    <tr>\n",
              "      <th>0</th>\n",
              "      <td>1</td>\n",
              "      <td>1193</td>\n",
              "      <td>5</td>\n",
              "      <td>978300760</td>\n",
              "    </tr>\n",
              "    <tr>\n",
              "      <th>1</th>\n",
              "      <td>1</td>\n",
              "      <td>661</td>\n",
              "      <td>3</td>\n",
              "      <td>978302109</td>\n",
              "    </tr>\n",
              "    <tr>\n",
              "      <th>2</th>\n",
              "      <td>1</td>\n",
              "      <td>914</td>\n",
              "      <td>3</td>\n",
              "      <td>978301968</td>\n",
              "    </tr>\n",
              "    <tr>\n",
              "      <th>3</th>\n",
              "      <td>1</td>\n",
              "      <td>3408</td>\n",
              "      <td>4</td>\n",
              "      <td>978300275</td>\n",
              "    </tr>\n",
              "    <tr>\n",
              "      <th>4</th>\n",
              "      <td>1</td>\n",
              "      <td>2355</td>\n",
              "      <td>5</td>\n",
              "      <td>978824291</td>\n",
              "    </tr>\n",
              "  </tbody>\n",
              "</table>\n",
              "</div>"
            ],
            "text/plain": [
              "   user_id  movie_id  rating  timestamp\n",
              "0        1      1193       5  978300760\n",
              "1        1       661       3  978302109\n",
              "2        1       914       3  978301968\n",
              "3        1      3408       4  978300275\n",
              "4        1      2355       5  978824291"
            ]
          },
          "metadata": {
            "tags": []
          },
          "execution_count": 12
        }
      ]
    },
    {
      "cell_type": "code",
      "metadata": {
        "colab": {
          "base_uri": "https://localhost:8080/"
        },
        "id": "QuZsXzVdNWok",
        "outputId": "3b366d56-ef6e-45b4-ce51-97fe6d236c10"
      },
      "source": [
        "ratings.info()"
      ],
      "execution_count": 13,
      "outputs": [
        {
          "output_type": "stream",
          "text": [
            "<class 'pandas.core.frame.DataFrame'>\n",
            "RangeIndex: 1000209 entries, 0 to 1000208\n",
            "Data columns (total 4 columns):\n",
            " #   Column     Non-Null Count    Dtype\n",
            "---  ------     --------------    -----\n",
            " 0   user_id    1000209 non-null  int64\n",
            " 1   movie_id   1000209 non-null  int64\n",
            " 2   rating     1000209 non-null  int64\n",
            " 3   timestamp  1000209 non-null  int64\n",
            "dtypes: int64(4)\n",
            "memory usage: 30.5 MB\n"
          ],
          "name": "stdout"
        }
      ]
    },
    {
      "cell_type": "code",
      "metadata": {
        "id": "vt6fa4L8NhH7"
      },
      "source": [
        "users = pd.read_csv(users_data, sep='::', encoding='cp1252',\r\n",
        "                    header=None, names=user_cols, engine='python')"
      ],
      "execution_count": 15,
      "outputs": []
    },
    {
      "cell_type": "code",
      "metadata": {
        "colab": {
          "base_uri": "https://localhost:8080/",
          "height": 214
        },
        "id": "rmrXwVlyNpGl",
        "outputId": "406bf935-2df8-4383-b534-17533a4d8929"
      },
      "source": [
        "users.head()"
      ],
      "execution_count": 16,
      "outputs": [
        {
          "output_type": "execute_result",
          "data": {
            "text/html": [
              "<div>\n",
              "<style scoped>\n",
              "    .dataframe tbody tr th:only-of-type {\n",
              "        vertical-align: middle;\n",
              "    }\n",
              "\n",
              "    .dataframe tbody tr th {\n",
              "        vertical-align: top;\n",
              "    }\n",
              "\n",
              "    .dataframe thead th {\n",
              "        text-align: right;\n",
              "    }\n",
              "</style>\n",
              "<table border=\"1\" class=\"dataframe\">\n",
              "  <thead>\n",
              "    <tr style=\"text-align: right;\">\n",
              "      <th></th>\n",
              "      <th>user_id</th>\n",
              "      <th>gender</th>\n",
              "      <th>age</th>\n",
              "      <th>occupation</th>\n",
              "      <th>zip_code</th>\n",
              "    </tr>\n",
              "  </thead>\n",
              "  <tbody>\n",
              "    <tr>\n",
              "      <th>0</th>\n",
              "      <td>1</td>\n",
              "      <td>F</td>\n",
              "      <td>1</td>\n",
              "      <td>10</td>\n",
              "      <td>48067</td>\n",
              "    </tr>\n",
              "    <tr>\n",
              "      <th>1</th>\n",
              "      <td>2</td>\n",
              "      <td>M</td>\n",
              "      <td>56</td>\n",
              "      <td>16</td>\n",
              "      <td>70072</td>\n",
              "    </tr>\n",
              "    <tr>\n",
              "      <th>2</th>\n",
              "      <td>3</td>\n",
              "      <td>M</td>\n",
              "      <td>25</td>\n",
              "      <td>15</td>\n",
              "      <td>55117</td>\n",
              "    </tr>\n",
              "    <tr>\n",
              "      <th>3</th>\n",
              "      <td>4</td>\n",
              "      <td>M</td>\n",
              "      <td>45</td>\n",
              "      <td>7</td>\n",
              "      <td>02460</td>\n",
              "    </tr>\n",
              "    <tr>\n",
              "      <th>4</th>\n",
              "      <td>5</td>\n",
              "      <td>M</td>\n",
              "      <td>25</td>\n",
              "      <td>20</td>\n",
              "      <td>55455</td>\n",
              "    </tr>\n",
              "  </tbody>\n",
              "</table>\n",
              "</div>"
            ],
            "text/plain": [
              "   user_id gender  age  occupation zip_code\n",
              "0        1      F    1          10    48067\n",
              "1        2      M   56          16    70072\n",
              "2        3      M   25          15    55117\n",
              "3        4      M   45           7    02460\n",
              "4        5      M   25          20    55455"
            ]
          },
          "metadata": {
            "tags": []
          },
          "execution_count": 16
        }
      ]
    },
    {
      "cell_type": "code",
      "metadata": {
        "colab": {
          "base_uri": "https://localhost:8080/"
        },
        "id": "LgpVmE06Ntyk",
        "outputId": "fa2b7937-89e6-4558-b445-e0352fedd694"
      },
      "source": [
        "users.info()"
      ],
      "execution_count": 17,
      "outputs": [
        {
          "output_type": "stream",
          "text": [
            "<class 'pandas.core.frame.DataFrame'>\n",
            "RangeIndex: 6040 entries, 0 to 6039\n",
            "Data columns (total 5 columns):\n",
            " #   Column      Non-Null Count  Dtype \n",
            "---  ------      --------------  ----- \n",
            " 0   user_id     6040 non-null   int64 \n",
            " 1   gender      6040 non-null   object\n",
            " 2   age         6040 non-null   int64 \n",
            " 3   occupation  6040 non-null   int64 \n",
            " 4   zip_code    6040 non-null   object\n",
            "dtypes: int64(3), object(2)\n",
            "memory usage: 236.1+ KB\n"
          ],
          "name": "stdout"
        }
      ]
    },
    {
      "cell_type": "code",
      "metadata": {
        "id": "h2CIt38MRtt8"
      },
      "source": [
        "df = pd.merge(left=pd.merge(left=ratings, right=movies),\r\n",
        "              right=users)"
      ],
      "execution_count": 18,
      "outputs": []
    },
    {
      "cell_type": "code",
      "metadata": {
        "colab": {
          "base_uri": "https://localhost:8080/",
          "height": 214
        },
        "id": "fiXmztGdSXK9",
        "outputId": "eed92ca7-dfde-4239-b278-50e13d7cc438"
      },
      "source": [
        "df.head()"
      ],
      "execution_count": 19,
      "outputs": [
        {
          "output_type": "execute_result",
          "data": {
            "text/html": [
              "<div>\n",
              "<style scoped>\n",
              "    .dataframe tbody tr th:only-of-type {\n",
              "        vertical-align: middle;\n",
              "    }\n",
              "\n",
              "    .dataframe tbody tr th {\n",
              "        vertical-align: top;\n",
              "    }\n",
              "\n",
              "    .dataframe thead th {\n",
              "        text-align: right;\n",
              "    }\n",
              "</style>\n",
              "<table border=\"1\" class=\"dataframe\">\n",
              "  <thead>\n",
              "    <tr style=\"text-align: right;\">\n",
              "      <th></th>\n",
              "      <th>user_id</th>\n",
              "      <th>movie_id</th>\n",
              "      <th>rating</th>\n",
              "      <th>timestamp</th>\n",
              "      <th>title</th>\n",
              "      <th>genres</th>\n",
              "      <th>gender</th>\n",
              "      <th>age</th>\n",
              "      <th>occupation</th>\n",
              "      <th>zip_code</th>\n",
              "    </tr>\n",
              "  </thead>\n",
              "  <tbody>\n",
              "    <tr>\n",
              "      <th>0</th>\n",
              "      <td>1</td>\n",
              "      <td>1193</td>\n",
              "      <td>5</td>\n",
              "      <td>978300760</td>\n",
              "      <td>One Flew Over the Cuckoo's Nest (1975)</td>\n",
              "      <td>Drama</td>\n",
              "      <td>F</td>\n",
              "      <td>1</td>\n",
              "      <td>10</td>\n",
              "      <td>48067</td>\n",
              "    </tr>\n",
              "    <tr>\n",
              "      <th>1</th>\n",
              "      <td>1</td>\n",
              "      <td>661</td>\n",
              "      <td>3</td>\n",
              "      <td>978302109</td>\n",
              "      <td>James and the Giant Peach (1996)</td>\n",
              "      <td>Animation|Children's|Musical</td>\n",
              "      <td>F</td>\n",
              "      <td>1</td>\n",
              "      <td>10</td>\n",
              "      <td>48067</td>\n",
              "    </tr>\n",
              "    <tr>\n",
              "      <th>2</th>\n",
              "      <td>1</td>\n",
              "      <td>914</td>\n",
              "      <td>3</td>\n",
              "      <td>978301968</td>\n",
              "      <td>My Fair Lady (1964)</td>\n",
              "      <td>Musical|Romance</td>\n",
              "      <td>F</td>\n",
              "      <td>1</td>\n",
              "      <td>10</td>\n",
              "      <td>48067</td>\n",
              "    </tr>\n",
              "    <tr>\n",
              "      <th>3</th>\n",
              "      <td>1</td>\n",
              "      <td>3408</td>\n",
              "      <td>4</td>\n",
              "      <td>978300275</td>\n",
              "      <td>Erin Brockovich (2000)</td>\n",
              "      <td>Drama</td>\n",
              "      <td>F</td>\n",
              "      <td>1</td>\n",
              "      <td>10</td>\n",
              "      <td>48067</td>\n",
              "    </tr>\n",
              "    <tr>\n",
              "      <th>4</th>\n",
              "      <td>1</td>\n",
              "      <td>2355</td>\n",
              "      <td>5</td>\n",
              "      <td>978824291</td>\n",
              "      <td>Bug's Life, A (1998)</td>\n",
              "      <td>Animation|Children's|Comedy</td>\n",
              "      <td>F</td>\n",
              "      <td>1</td>\n",
              "      <td>10</td>\n",
              "      <td>48067</td>\n",
              "    </tr>\n",
              "  </tbody>\n",
              "</table>\n",
              "</div>"
            ],
            "text/plain": [
              "   user_id  movie_id  rating  timestamp  ... gender age occupation  zip_code\n",
              "0        1      1193       5  978300760  ...      F   1         10     48067\n",
              "1        1       661       3  978302109  ...      F   1         10     48067\n",
              "2        1       914       3  978301968  ...      F   1         10     48067\n",
              "3        1      3408       4  978300275  ...      F   1         10     48067\n",
              "4        1      2355       5  978824291  ...      F   1         10     48067\n",
              "\n",
              "[5 rows x 10 columns]"
            ]
          },
          "metadata": {
            "tags": []
          },
          "execution_count": 19
        }
      ]
    },
    {
      "cell_type": "code",
      "metadata": {
        "colab": {
          "base_uri": "https://localhost:8080/"
        },
        "id": "gdTiE8WbSgij",
        "outputId": "c91a623b-7a3e-4df3-d330-7247f5787b02"
      },
      "source": [
        "df.info()"
      ],
      "execution_count": 20,
      "outputs": [
        {
          "output_type": "stream",
          "text": [
            "<class 'pandas.core.frame.DataFrame'>\n",
            "Int64Index: 1000209 entries, 0 to 1000208\n",
            "Data columns (total 10 columns):\n",
            " #   Column      Non-Null Count    Dtype \n",
            "---  ------      --------------    ----- \n",
            " 0   user_id     1000209 non-null  int64 \n",
            " 1   movie_id    1000209 non-null  int64 \n",
            " 2   rating      1000209 non-null  int64 \n",
            " 3   timestamp   1000209 non-null  int64 \n",
            " 4   title       1000209 non-null  object\n",
            " 5   genres      1000209 non-null  object\n",
            " 6   gender      1000209 non-null  object\n",
            " 7   age         1000209 non-null  int64 \n",
            " 8   occupation  1000209 non-null  int64 \n",
            " 9   zip_code    1000209 non-null  object\n",
            "dtypes: int64(6), object(4)\n",
            "memory usage: 83.9+ MB\n"
          ],
          "name": "stdout"
        }
      ]
    },
    {
      "cell_type": "code",
      "metadata": {
        "colab": {
          "base_uri": "https://localhost:8080/"
        },
        "id": "M8i2y7NtTYza",
        "outputId": "c7795d7a-8918-4e81-f73d-4bc4151f1c67"
      },
      "source": [
        "df['rating'].describe()"
      ],
      "execution_count": 21,
      "outputs": [
        {
          "output_type": "execute_result",
          "data": {
            "text/plain": [
              "count    1.000209e+06\n",
              "mean     3.581564e+00\n",
              "std      1.117102e+00\n",
              "min      1.000000e+00\n",
              "25%      3.000000e+00\n",
              "50%      4.000000e+00\n",
              "75%      4.000000e+00\n",
              "max      5.000000e+00\n",
              "Name: rating, dtype: float64"
            ]
          },
          "metadata": {
            "tags": []
          },
          "execution_count": 21
        }
      ]
    },
    {
      "cell_type": "markdown",
      "metadata": {
        "id": "e2bSXk-BTG1o"
      },
      "source": [
        "*   평점 평균 상위 10개 영화 제목"
      ]
    },
    {
      "cell_type": "code",
      "metadata": {
        "colab": {
          "base_uri": "https://localhost:8080/"
        },
        "id": "y8MapbuXT8MS",
        "outputId": "5f8e722b-26e0-4f57-f1ce-a394c38335da"
      },
      "source": [
        "# 영화 제목별 rating의 평균 -> (내림차순) 정렬 -> 상위 10개\r\n",
        "rating_by_title = df.groupby('title')['rating'].mean()\r\n",
        "rating_by_title  #> Series"
      ],
      "execution_count": 24,
      "outputs": [
        {
          "output_type": "execute_result",
          "data": {
            "text/plain": [
              "title\n",
              "$1,000,000 Duck (1971)                        3.027027\n",
              "'Night Mother (1986)                          3.371429\n",
              "'Til There Was You (1997)                     2.692308\n",
              "'burbs, The (1989)                            2.910891\n",
              "...And Justice for All (1979)                 3.713568\n",
              "                                                ...   \n",
              "Zed & Two Noughts, A (1985)                   3.413793\n",
              "Zero Effect (1998)                            3.750831\n",
              "Zero Kelvin (Kjærlighetens kjøtere) (1995)    3.500000\n",
              "Zeus and Roxanne (1997)                       2.521739\n",
              "eXistenZ (1999)                               3.256098\n",
              "Name: rating, Length: 3706, dtype: float64"
            ]
          },
          "metadata": {
            "tags": []
          },
          "execution_count": 24
        }
      ]
    },
    {
      "cell_type": "code",
      "metadata": {
        "colab": {
          "base_uri": "https://localhost:8080/"
        },
        "id": "Ho7KvjhHVNMi",
        "outputId": "16a9b0b4-4aa2-4a74-cdcd-a2f345007e99"
      },
      "source": [
        "rating_by_title.sort_values(ascending=False).head(n=10)"
      ],
      "execution_count": 30,
      "outputs": [
        {
          "output_type": "execute_result",
          "data": {
            "text/plain": [
              "title\n",
              "Gate of Heavenly Peace, The (1995)           5.0\n",
              "Lured (1947)                                 5.0\n",
              "Ulysses (Ulisse) (1954)                      5.0\n",
              "Smashing Time (1967)                         5.0\n",
              "Follow the Bitch (1998)                      5.0\n",
              "Song of Freedom (1936)                       5.0\n",
              "Bittersweet Motel (2000)                     5.0\n",
              "Baby, The (1973)                             5.0\n",
              "One Little Indian (1973)                     5.0\n",
              "Schlafes Bruder (Brother of Sleep) (1995)    5.0\n",
              "Name: rating, dtype: float64"
            ]
          },
          "metadata": {
            "tags": []
          },
          "execution_count": 30
        }
      ]
    },
    {
      "cell_type": "markdown",
      "metadata": {
        "id": "wkwCe-5ST8yC"
      },
      "source": [
        "*   평점 평균 하위 10개 영화 제목"
      ]
    },
    {
      "cell_type": "code",
      "metadata": {
        "colab": {
          "base_uri": "https://localhost:8080/"
        },
        "id": "tomtdv6BUAN4",
        "outputId": "03c7bf80-5772-40ef-e147-7b6bf677dcdd"
      },
      "source": [
        "rating_by_title.sort_values().head(n=10)"
      ],
      "execution_count": 35,
      "outputs": [
        {
          "output_type": "execute_result",
          "data": {
            "text/plain": [
              "title\n",
              "Elstree Calling (1930)                                        1.0\n",
              "Get Over It (1996)                                            1.0\n",
              "Venice/Venice (1992)                                          1.0\n",
              "Windows (1980)                                                1.0\n",
              "Kestrel's Eye (Falkens öga) (1998)                            1.0\n",
              "McCullochs, The (1975)                                        1.0\n",
              "Sleepover (1995)                                              1.0\n",
              "Torso (Corpi Presentano Tracce di Violenza Carnale) (1973)    1.0\n",
              "Spring Fever USA (a.k.a. Lauderdale) (1989)                   1.0\n",
              "Santa with Muscles (1996)                                     1.0\n",
              "Name: rating, dtype: float64"
            ]
          },
          "metadata": {
            "tags": []
          },
          "execution_count": 35
        }
      ]
    },
    {
      "cell_type": "code",
      "metadata": {
        "colab": {
          "base_uri": "https://localhost:8080/",
          "height": 410
        },
        "id": "Lgy4Nyv2XoOh",
        "outputId": "c6dd6d9d-7dfb-473c-c9b5-20a0a6ad1401"
      },
      "source": [
        "df.groupby('title')['rating'].agg(['count', 'mean']).sort_values(by='mean', ascending=False).head(10)"
      ],
      "execution_count": 36,
      "outputs": [
        {
          "output_type": "execute_result",
          "data": {
            "text/html": [
              "<div>\n",
              "<style scoped>\n",
              "    .dataframe tbody tr th:only-of-type {\n",
              "        vertical-align: middle;\n",
              "    }\n",
              "\n",
              "    .dataframe tbody tr th {\n",
              "        vertical-align: top;\n",
              "    }\n",
              "\n",
              "    .dataframe thead th {\n",
              "        text-align: right;\n",
              "    }\n",
              "</style>\n",
              "<table border=\"1\" class=\"dataframe\">\n",
              "  <thead>\n",
              "    <tr style=\"text-align: right;\">\n",
              "      <th></th>\n",
              "      <th>count</th>\n",
              "      <th>mean</th>\n",
              "    </tr>\n",
              "    <tr>\n",
              "      <th>title</th>\n",
              "      <th></th>\n",
              "      <th></th>\n",
              "    </tr>\n",
              "  </thead>\n",
              "  <tbody>\n",
              "    <tr>\n",
              "      <th>Ulysses (Ulisse) (1954)</th>\n",
              "      <td>1</td>\n",
              "      <td>5.0</td>\n",
              "    </tr>\n",
              "    <tr>\n",
              "      <th>Lured (1947)</th>\n",
              "      <td>1</td>\n",
              "      <td>5.0</td>\n",
              "    </tr>\n",
              "    <tr>\n",
              "      <th>Follow the Bitch (1998)</th>\n",
              "      <td>1</td>\n",
              "      <td>5.0</td>\n",
              "    </tr>\n",
              "    <tr>\n",
              "      <th>Bittersweet Motel (2000)</th>\n",
              "      <td>1</td>\n",
              "      <td>5.0</td>\n",
              "    </tr>\n",
              "    <tr>\n",
              "      <th>Song of Freedom (1936)</th>\n",
              "      <td>1</td>\n",
              "      <td>5.0</td>\n",
              "    </tr>\n",
              "    <tr>\n",
              "      <th>One Little Indian (1973)</th>\n",
              "      <td>1</td>\n",
              "      <td>5.0</td>\n",
              "    </tr>\n",
              "    <tr>\n",
              "      <th>Smashing Time (1967)</th>\n",
              "      <td>2</td>\n",
              "      <td>5.0</td>\n",
              "    </tr>\n",
              "    <tr>\n",
              "      <th>Schlafes Bruder (Brother of Sleep) (1995)</th>\n",
              "      <td>1</td>\n",
              "      <td>5.0</td>\n",
              "    </tr>\n",
              "    <tr>\n",
              "      <th>Gate of Heavenly Peace, The (1995)</th>\n",
              "      <td>3</td>\n",
              "      <td>5.0</td>\n",
              "    </tr>\n",
              "    <tr>\n",
              "      <th>Baby, The (1973)</th>\n",
              "      <td>1</td>\n",
              "      <td>5.0</td>\n",
              "    </tr>\n",
              "  </tbody>\n",
              "</table>\n",
              "</div>"
            ],
            "text/plain": [
              "                                           count  mean\n",
              "title                                                 \n",
              "Ulysses (Ulisse) (1954)                        1   5.0\n",
              "Lured (1947)                                   1   5.0\n",
              "Follow the Bitch (1998)                        1   5.0\n",
              "Bittersweet Motel (2000)                       1   5.0\n",
              "Song of Freedom (1936)                         1   5.0\n",
              "One Little Indian (1973)                       1   5.0\n",
              "Smashing Time (1967)                           2   5.0\n",
              "Schlafes Bruder (Brother of Sleep) (1995)      1   5.0\n",
              "Gate of Heavenly Peace, The (1995)             3   5.0\n",
              "Baby, The (1973)                               1   5.0"
            ]
          },
          "metadata": {
            "tags": []
          },
          "execution_count": 36
        }
      ]
    },
    {
      "cell_type": "markdown",
      "metadata": {
        "id": "-tICAKIPYlWi"
      },
      "source": [
        "*   성별(남성/여성) 평점 평균 상위 10개 영화 제목"
      ]
    },
    {
      "cell_type": "code",
      "metadata": {
        "colab": {
          "base_uri": "https://localhost:8080/"
        },
        "id": "ODeXWyZ5Ys7W",
        "outputId": "31fdd24b-f276-4a75-f144-aa7df1fa7377"
      },
      "source": [
        "rating_by_title_gender = df.groupby(['title', 'gender'])['rating'].mean()\r\n",
        "rating_by_title_gender"
      ],
      "execution_count": 37,
      "outputs": [
        {
          "output_type": "execute_result",
          "data": {
            "text/plain": [
              "title                                       gender\n",
              "$1,000,000 Duck (1971)                      F         3.375000\n",
              "                                            M         2.761905\n",
              "'Night Mother (1986)                        F         3.388889\n",
              "                                            M         3.352941\n",
              "'Til There Was You (1997)                   F         2.675676\n",
              "                                                        ...   \n",
              "Zero Kelvin (Kjærlighetens kjøtere) (1995)  M         3.500000\n",
              "Zeus and Roxanne (1997)                     F         2.777778\n",
              "                                            M         2.357143\n",
              "eXistenZ (1999)                             F         3.098592\n",
              "                                            M         3.289086\n",
              "Name: rating, Length: 7152, dtype: float64"
            ]
          },
          "metadata": {
            "tags": []
          },
          "execution_count": 37
        }
      ]
    },
    {
      "cell_type": "code",
      "metadata": {
        "colab": {
          "base_uri": "https://localhost:8080/",
          "height": 474
        },
        "id": "oN62ZzsLaAmg",
        "outputId": "21a205f5-5b7f-4030-ffcc-985f7648258b"
      },
      "source": [
        "# multi-index -> columns: unstack\r\n",
        "rating_by_title_gender.unstack()"
      ],
      "execution_count": 38,
      "outputs": [
        {
          "output_type": "execute_result",
          "data": {
            "text/html": [
              "<div>\n",
              "<style scoped>\n",
              "    .dataframe tbody tr th:only-of-type {\n",
              "        vertical-align: middle;\n",
              "    }\n",
              "\n",
              "    .dataframe tbody tr th {\n",
              "        vertical-align: top;\n",
              "    }\n",
              "\n",
              "    .dataframe thead th {\n",
              "        text-align: right;\n",
              "    }\n",
              "</style>\n",
              "<table border=\"1\" class=\"dataframe\">\n",
              "  <thead>\n",
              "    <tr style=\"text-align: right;\">\n",
              "      <th>gender</th>\n",
              "      <th>F</th>\n",
              "      <th>M</th>\n",
              "    </tr>\n",
              "    <tr>\n",
              "      <th>title</th>\n",
              "      <th></th>\n",
              "      <th></th>\n",
              "    </tr>\n",
              "  </thead>\n",
              "  <tbody>\n",
              "    <tr>\n",
              "      <th>$1,000,000 Duck (1971)</th>\n",
              "      <td>3.375000</td>\n",
              "      <td>2.761905</td>\n",
              "    </tr>\n",
              "    <tr>\n",
              "      <th>'Night Mother (1986)</th>\n",
              "      <td>3.388889</td>\n",
              "      <td>3.352941</td>\n",
              "    </tr>\n",
              "    <tr>\n",
              "      <th>'Til There Was You (1997)</th>\n",
              "      <td>2.675676</td>\n",
              "      <td>2.733333</td>\n",
              "    </tr>\n",
              "    <tr>\n",
              "      <th>'burbs, The (1989)</th>\n",
              "      <td>2.793478</td>\n",
              "      <td>2.962085</td>\n",
              "    </tr>\n",
              "    <tr>\n",
              "      <th>...And Justice for All (1979)</th>\n",
              "      <td>3.828571</td>\n",
              "      <td>3.689024</td>\n",
              "    </tr>\n",
              "    <tr>\n",
              "      <th>...</th>\n",
              "      <td>...</td>\n",
              "      <td>...</td>\n",
              "    </tr>\n",
              "    <tr>\n",
              "      <th>Zed &amp; Two Noughts, A (1985)</th>\n",
              "      <td>3.500000</td>\n",
              "      <td>3.380952</td>\n",
              "    </tr>\n",
              "    <tr>\n",
              "      <th>Zero Effect (1998)</th>\n",
              "      <td>3.864407</td>\n",
              "      <td>3.723140</td>\n",
              "    </tr>\n",
              "    <tr>\n",
              "      <th>Zero Kelvin (Kjærlighetens kjøtere) (1995)</th>\n",
              "      <td>NaN</td>\n",
              "      <td>3.500000</td>\n",
              "    </tr>\n",
              "    <tr>\n",
              "      <th>Zeus and Roxanne (1997)</th>\n",
              "      <td>2.777778</td>\n",
              "      <td>2.357143</td>\n",
              "    </tr>\n",
              "    <tr>\n",
              "      <th>eXistenZ (1999)</th>\n",
              "      <td>3.098592</td>\n",
              "      <td>3.289086</td>\n",
              "    </tr>\n",
              "  </tbody>\n",
              "</table>\n",
              "<p>3706 rows × 2 columns</p>\n",
              "</div>"
            ],
            "text/plain": [
              "gender                                             F         M\n",
              "title                                                         \n",
              "$1,000,000 Duck (1971)                      3.375000  2.761905\n",
              "'Night Mother (1986)                        3.388889  3.352941\n",
              "'Til There Was You (1997)                   2.675676  2.733333\n",
              "'burbs, The (1989)                          2.793478  2.962085\n",
              "...And Justice for All (1979)               3.828571  3.689024\n",
              "...                                              ...       ...\n",
              "Zed & Two Noughts, A (1985)                 3.500000  3.380952\n",
              "Zero Effect (1998)                          3.864407  3.723140\n",
              "Zero Kelvin (Kjærlighetens kjøtere) (1995)       NaN  3.500000\n",
              "Zeus and Roxanne (1997)                     2.777778  2.357143\n",
              "eXistenZ (1999)                             3.098592  3.289086\n",
              "\n",
              "[3706 rows x 2 columns]"
            ]
          },
          "metadata": {
            "tags": []
          },
          "execution_count": 38
        }
      ]
    },
    {
      "cell_type": "code",
      "metadata": {
        "colab": {
          "base_uri": "https://localhost:8080/",
          "height": 474
        },
        "id": "rUGoHT2EaWuD",
        "outputId": "36257d24-08c4-4d8a-9d55-f43a8bcbcd27"
      },
      "source": [
        "rating_by_title_gender = df.pivot_table(values='rating', index='title', columns='gender')\r\n",
        "rating_by_title_gender"
      ],
      "execution_count": 39,
      "outputs": [
        {
          "output_type": "execute_result",
          "data": {
            "text/html": [
              "<div>\n",
              "<style scoped>\n",
              "    .dataframe tbody tr th:only-of-type {\n",
              "        vertical-align: middle;\n",
              "    }\n",
              "\n",
              "    .dataframe tbody tr th {\n",
              "        vertical-align: top;\n",
              "    }\n",
              "\n",
              "    .dataframe thead th {\n",
              "        text-align: right;\n",
              "    }\n",
              "</style>\n",
              "<table border=\"1\" class=\"dataframe\">\n",
              "  <thead>\n",
              "    <tr style=\"text-align: right;\">\n",
              "      <th>gender</th>\n",
              "      <th>F</th>\n",
              "      <th>M</th>\n",
              "    </tr>\n",
              "    <tr>\n",
              "      <th>title</th>\n",
              "      <th></th>\n",
              "      <th></th>\n",
              "    </tr>\n",
              "  </thead>\n",
              "  <tbody>\n",
              "    <tr>\n",
              "      <th>$1,000,000 Duck (1971)</th>\n",
              "      <td>3.375000</td>\n",
              "      <td>2.761905</td>\n",
              "    </tr>\n",
              "    <tr>\n",
              "      <th>'Night Mother (1986)</th>\n",
              "      <td>3.388889</td>\n",
              "      <td>3.352941</td>\n",
              "    </tr>\n",
              "    <tr>\n",
              "      <th>'Til There Was You (1997)</th>\n",
              "      <td>2.675676</td>\n",
              "      <td>2.733333</td>\n",
              "    </tr>\n",
              "    <tr>\n",
              "      <th>'burbs, The (1989)</th>\n",
              "      <td>2.793478</td>\n",
              "      <td>2.962085</td>\n",
              "    </tr>\n",
              "    <tr>\n",
              "      <th>...And Justice for All (1979)</th>\n",
              "      <td>3.828571</td>\n",
              "      <td>3.689024</td>\n",
              "    </tr>\n",
              "    <tr>\n",
              "      <th>...</th>\n",
              "      <td>...</td>\n",
              "      <td>...</td>\n",
              "    </tr>\n",
              "    <tr>\n",
              "      <th>Zed &amp; Two Noughts, A (1985)</th>\n",
              "      <td>3.500000</td>\n",
              "      <td>3.380952</td>\n",
              "    </tr>\n",
              "    <tr>\n",
              "      <th>Zero Effect (1998)</th>\n",
              "      <td>3.864407</td>\n",
              "      <td>3.723140</td>\n",
              "    </tr>\n",
              "    <tr>\n",
              "      <th>Zero Kelvin (Kjærlighetens kjøtere) (1995)</th>\n",
              "      <td>NaN</td>\n",
              "      <td>3.500000</td>\n",
              "    </tr>\n",
              "    <tr>\n",
              "      <th>Zeus and Roxanne (1997)</th>\n",
              "      <td>2.777778</td>\n",
              "      <td>2.357143</td>\n",
              "    </tr>\n",
              "    <tr>\n",
              "      <th>eXistenZ (1999)</th>\n",
              "      <td>3.098592</td>\n",
              "      <td>3.289086</td>\n",
              "    </tr>\n",
              "  </tbody>\n",
              "</table>\n",
              "<p>3706 rows × 2 columns</p>\n",
              "</div>"
            ],
            "text/plain": [
              "gender                                             F         M\n",
              "title                                                         \n",
              "$1,000,000 Duck (1971)                      3.375000  2.761905\n",
              "'Night Mother (1986)                        3.388889  3.352941\n",
              "'Til There Was You (1997)                   2.675676  2.733333\n",
              "'burbs, The (1989)                          2.793478  2.962085\n",
              "...And Justice for All (1979)               3.828571  3.689024\n",
              "...                                              ...       ...\n",
              "Zed & Two Noughts, A (1985)                 3.500000  3.380952\n",
              "Zero Effect (1998)                          3.864407  3.723140\n",
              "Zero Kelvin (Kjærlighetens kjøtere) (1995)       NaN  3.500000\n",
              "Zeus and Roxanne (1997)                     2.777778  2.357143\n",
              "eXistenZ (1999)                             3.098592  3.289086\n",
              "\n",
              "[3706 rows x 2 columns]"
            ]
          },
          "metadata": {
            "tags": []
          },
          "execution_count": 39
        }
      ]
    },
    {
      "cell_type": "code",
      "metadata": {
        "colab": {
          "base_uri": "https://localhost:8080/",
          "height": 410
        },
        "id": "xqrcVEqRa5T5",
        "outputId": "fb14405a-f7e5-40e9-8524-061f0343be93"
      },
      "source": [
        "# 여성 평점 상위 10개 제목\r\n",
        "rating_by_title_gender.sort_values(by='F', ascending=False).head(n=10)"
      ],
      "execution_count": 41,
      "outputs": [
        {
          "output_type": "execute_result",
          "data": {
            "text/html": [
              "<div>\n",
              "<style scoped>\n",
              "    .dataframe tbody tr th:only-of-type {\n",
              "        vertical-align: middle;\n",
              "    }\n",
              "\n",
              "    .dataframe tbody tr th {\n",
              "        vertical-align: top;\n",
              "    }\n",
              "\n",
              "    .dataframe thead th {\n",
              "        text-align: right;\n",
              "    }\n",
              "</style>\n",
              "<table border=\"1\" class=\"dataframe\">\n",
              "  <thead>\n",
              "    <tr style=\"text-align: right;\">\n",
              "      <th>gender</th>\n",
              "      <th>F</th>\n",
              "      <th>M</th>\n",
              "    </tr>\n",
              "    <tr>\n",
              "      <th>title</th>\n",
              "      <th></th>\n",
              "      <th></th>\n",
              "    </tr>\n",
              "  </thead>\n",
              "  <tbody>\n",
              "    <tr>\n",
              "      <th>Clean Slate (Coup de Torchon) (1981)</th>\n",
              "      <td>5.0</td>\n",
              "      <td>3.857143</td>\n",
              "    </tr>\n",
              "    <tr>\n",
              "      <th>Ballad of Narayama, The (Narayama Bushiko) (1958)</th>\n",
              "      <td>5.0</td>\n",
              "      <td>3.428571</td>\n",
              "    </tr>\n",
              "    <tr>\n",
              "      <th>Raw Deal (1948)</th>\n",
              "      <td>5.0</td>\n",
              "      <td>3.307692</td>\n",
              "    </tr>\n",
              "    <tr>\n",
              "      <th>Bittersweet Motel (2000)</th>\n",
              "      <td>5.0</td>\n",
              "      <td>NaN</td>\n",
              "    </tr>\n",
              "    <tr>\n",
              "      <th>Skipped Parts (2000)</th>\n",
              "      <td>5.0</td>\n",
              "      <td>4.000000</td>\n",
              "    </tr>\n",
              "    <tr>\n",
              "      <th>Lamerica (1994)</th>\n",
              "      <td>5.0</td>\n",
              "      <td>4.666667</td>\n",
              "    </tr>\n",
              "    <tr>\n",
              "      <th>Gambler, The (A Játékos) (1997)</th>\n",
              "      <td>5.0</td>\n",
              "      <td>3.166667</td>\n",
              "    </tr>\n",
              "    <tr>\n",
              "      <th>Brother, Can You Spare a Dime? (1975)</th>\n",
              "      <td>5.0</td>\n",
              "      <td>3.642857</td>\n",
              "    </tr>\n",
              "    <tr>\n",
              "      <th>Ayn Rand: A Sense of Life (1997)</th>\n",
              "      <td>5.0</td>\n",
              "      <td>4.000000</td>\n",
              "    </tr>\n",
              "    <tr>\n",
              "      <th>24 7: Twenty Four Seven (1997)</th>\n",
              "      <td>5.0</td>\n",
              "      <td>3.750000</td>\n",
              "    </tr>\n",
              "  </tbody>\n",
              "</table>\n",
              "</div>"
            ],
            "text/plain": [
              "gender                                               F         M\n",
              "title                                                           \n",
              "Clean Slate (Coup de Torchon) (1981)               5.0  3.857143\n",
              "Ballad of Narayama, The (Narayama Bushiko) (1958)  5.0  3.428571\n",
              "Raw Deal (1948)                                    5.0  3.307692\n",
              "Bittersweet Motel (2000)                           5.0       NaN\n",
              "Skipped Parts (2000)                               5.0  4.000000\n",
              "Lamerica (1994)                                    5.0  4.666667\n",
              "Gambler, The (A Játékos) (1997)                    5.0  3.166667\n",
              "Brother, Can You Spare a Dime? (1975)              5.0  3.642857\n",
              "Ayn Rand: A Sense of Life (1997)                   5.0  4.000000\n",
              "24 7: Twenty Four Seven (1997)                     5.0  3.750000"
            ]
          },
          "metadata": {
            "tags": []
          },
          "execution_count": 41
        }
      ]
    },
    {
      "cell_type": "code",
      "metadata": {
        "colab": {
          "base_uri": "https://localhost:8080/",
          "height": 410
        },
        "id": "XYyTJ6-pbMxw",
        "outputId": "4c378b35-be58-4c36-9543-1b0cce2ec49c"
      },
      "source": [
        "# 남성 평점 상위 10개 영화 제목\r\n",
        "rating_by_title_gender.sort_values(by='M', ascending=False).head(n=10)"
      ],
      "execution_count": 42,
      "outputs": [
        {
          "output_type": "execute_result",
          "data": {
            "text/html": [
              "<div>\n",
              "<style scoped>\n",
              "    .dataframe tbody tr th:only-of-type {\n",
              "        vertical-align: middle;\n",
              "    }\n",
              "\n",
              "    .dataframe tbody tr th {\n",
              "        vertical-align: top;\n",
              "    }\n",
              "\n",
              "    .dataframe thead th {\n",
              "        text-align: right;\n",
              "    }\n",
              "</style>\n",
              "<table border=\"1\" class=\"dataframe\">\n",
              "  <thead>\n",
              "    <tr style=\"text-align: right;\">\n",
              "      <th>gender</th>\n",
              "      <th>F</th>\n",
              "      <th>M</th>\n",
              "    </tr>\n",
              "    <tr>\n",
              "      <th>title</th>\n",
              "      <th></th>\n",
              "      <th></th>\n",
              "    </tr>\n",
              "  </thead>\n",
              "  <tbody>\n",
              "    <tr>\n",
              "      <th>Schlafes Bruder (Brother of Sleep) (1995)</th>\n",
              "      <td>NaN</td>\n",
              "      <td>5.0</td>\n",
              "    </tr>\n",
              "    <tr>\n",
              "      <th>Small Wonders (1996)</th>\n",
              "      <td>3.333333</td>\n",
              "      <td>5.0</td>\n",
              "    </tr>\n",
              "    <tr>\n",
              "      <th>Gate of Heavenly Peace, The (1995)</th>\n",
              "      <td>5.000000</td>\n",
              "      <td>5.0</td>\n",
              "    </tr>\n",
              "    <tr>\n",
              "      <th>Baby, The (1973)</th>\n",
              "      <td>NaN</td>\n",
              "      <td>5.0</td>\n",
              "    </tr>\n",
              "    <tr>\n",
              "      <th>Ulysses (Ulisse) (1954)</th>\n",
              "      <td>NaN</td>\n",
              "      <td>5.0</td>\n",
              "    </tr>\n",
              "    <tr>\n",
              "      <th>Dangerous Game (1993)</th>\n",
              "      <td>4.000000</td>\n",
              "      <td>5.0</td>\n",
              "    </tr>\n",
              "    <tr>\n",
              "      <th>Angela (1995)</th>\n",
              "      <td>3.000000</td>\n",
              "      <td>5.0</td>\n",
              "    </tr>\n",
              "    <tr>\n",
              "      <th>Bells, The (1926)</th>\n",
              "      <td>4.000000</td>\n",
              "      <td>5.0</td>\n",
              "    </tr>\n",
              "    <tr>\n",
              "      <th>Smashing Time (1967)</th>\n",
              "      <td>NaN</td>\n",
              "      <td>5.0</td>\n",
              "    </tr>\n",
              "    <tr>\n",
              "      <th>Follow the Bitch (1998)</th>\n",
              "      <td>NaN</td>\n",
              "      <td>5.0</td>\n",
              "    </tr>\n",
              "  </tbody>\n",
              "</table>\n",
              "</div>"
            ],
            "text/plain": [
              "gender                                            F    M\n",
              "title                                                   \n",
              "Schlafes Bruder (Brother of Sleep) (1995)       NaN  5.0\n",
              "Small Wonders (1996)                       3.333333  5.0\n",
              "Gate of Heavenly Peace, The (1995)         5.000000  5.0\n",
              "Baby, The (1973)                                NaN  5.0\n",
              "Ulysses (Ulisse) (1954)                         NaN  5.0\n",
              "Dangerous Game (1993)                      4.000000  5.0\n",
              "Angela (1995)                              3.000000  5.0\n",
              "Bells, The (1926)                          4.000000  5.0\n",
              "Smashing Time (1967)                            NaN  5.0\n",
              "Follow the Bitch (1998)                         NaN  5.0"
            ]
          },
          "metadata": {
            "tags": []
          },
          "execution_count": 42
        }
      ]
    },
    {
      "cell_type": "markdown",
      "metadata": {
        "id": "QijFOGNEfrwW"
      },
      "source": [
        "*   1~2명의 사용자가 아니라 많은 사용자들로부터 평가를 받은 영화들 중에서 평점 순위\r\n",
        "    *   영화별 평가 숫자\r\n",
        "    *   많은 사용자 평가 기준"
      ]
    },
    {
      "cell_type": "code",
      "metadata": {
        "colab": {
          "base_uri": "https://localhost:8080/"
        },
        "id": "t4toX6Y6bnFf",
        "outputId": "0fdc799a-2c48-4c6a-92db-5850017a127f"
      },
      "source": [
        "title_counts = df['title'].value_counts()\r\n",
        "title_counts"
      ],
      "execution_count": 44,
      "outputs": [
        {
          "output_type": "execute_result",
          "data": {
            "text/plain": [
              "American Beauty (1999)                                                   3428\n",
              "Star Wars: Episode IV - A New Hope (1977)                                2991\n",
              "Star Wars: Episode V - The Empire Strikes Back (1980)                    2990\n",
              "Star Wars: Episode VI - Return of the Jedi (1983)                        2883\n",
              "Jurassic Park (1993)                                                     2672\n",
              "                                                                         ... \n",
              "Silence of the Palace, The (Saimt el Qusur) (1994)                          1\n",
              "Even Dwarfs Started Small (Auch Zwerge haben klein angefangen) (1971)       1\n",
              "Superweib, Das (1996)                                                       1\n",
              "Beloved/Friend (Amigo/Amado) (1999)                                         1\n",
              "Jar, The (Khomreh) (1992)                                                   1\n",
              "Name: title, Length: 3706, dtype: int64"
            ]
          },
          "metadata": {
            "tags": []
          },
          "execution_count": 44
        }
      ]
    },
    {
      "cell_type": "code",
      "metadata": {
        "colab": {
          "base_uri": "https://localhost:8080/"
        },
        "id": "T79IkkO9hFYG",
        "outputId": "66bc22f9-9513-4ae8-bf00-44d149567fea"
      },
      "source": [
        "title_counts.describe()"
      ],
      "execution_count": 45,
      "outputs": [
        {
          "output_type": "execute_result",
          "data": {
            "text/plain": [
              "count    3706.000000\n",
              "mean      269.889099\n",
              "std       384.047838\n",
              "min         1.000000\n",
              "25%        33.000000\n",
              "50%       123.500000\n",
              "75%       350.000000\n",
              "max      3428.000000\n",
              "Name: title, dtype: float64"
            ]
          },
          "metadata": {
            "tags": []
          },
          "execution_count": 45
        }
      ]
    },
    {
      "cell_type": "code",
      "metadata": {
        "colab": {
          "base_uri": "https://localhost:8080/"
        },
        "id": "9NY1yBueiP9N",
        "outputId": "9dbda7a6-4c8f-4582-b892-c097dbe08055"
      },
      "source": [
        "# 사용자들로부터 평가를 가장 많이 받은 영화 상위 20개\r\n",
        "title_counts.head(n=20)"
      ],
      "execution_count": 46,
      "outputs": [
        {
          "output_type": "execute_result",
          "data": {
            "text/plain": [
              "American Beauty (1999)                                   3428\n",
              "Star Wars: Episode IV - A New Hope (1977)                2991\n",
              "Star Wars: Episode V - The Empire Strikes Back (1980)    2990\n",
              "Star Wars: Episode VI - Return of the Jedi (1983)        2883\n",
              "Jurassic Park (1993)                                     2672\n",
              "Saving Private Ryan (1998)                               2653\n",
              "Terminator 2: Judgment Day (1991)                        2649\n",
              "Matrix, The (1999)                                       2590\n",
              "Back to the Future (1985)                                2583\n",
              "Silence of the Lambs, The (1991)                         2578\n",
              "Men in Black (1997)                                      2538\n",
              "Raiders of the Lost Ark (1981)                           2514\n",
              "Fargo (1996)                                             2513\n",
              "Sixth Sense, The (1999)                                  2459\n",
              "Braveheart (1995)                                        2443\n",
              "Shakespeare in Love (1998)                               2369\n",
              "Princess Bride, The (1987)                               2318\n",
              "Schindler's List (1993)                                  2304\n",
              "L.A. Confidential (1997)                                 2288\n",
              "Groundhog Day (1993)                                     2278\n",
              "Name: title, dtype: int64"
            ]
          },
          "metadata": {
            "tags": []
          },
          "execution_count": 46
        }
      ]
    },
    {
      "cell_type": "code",
      "metadata": {
        "colab": {
          "base_uri": "https://localhost:8080/"
        },
        "id": "CGrACHOeiaSP",
        "outputId": "80b5ce6d-4368-4899-8b50-8209fe48f894"
      },
      "source": [
        "# 150명 이상의 사용자들로부터 평가를 받은 영화 제목들\r\n",
        "indexer = title_counts[title_counts >= 150].index\r\n",
        "indexer"
      ],
      "execution_count": 49,
      "outputs": [
        {
          "output_type": "execute_result",
          "data": {
            "text/plain": [
              "Index(['American Beauty (1999)', 'Star Wars: Episode IV - A New Hope (1977)',\n",
              "       'Star Wars: Episode V - The Empire Strikes Back (1980)',\n",
              "       'Star Wars: Episode VI - Return of the Jedi (1983)',\n",
              "       'Jurassic Park (1993)', 'Saving Private Ryan (1998)',\n",
              "       'Terminator 2: Judgment Day (1991)', 'Matrix, The (1999)',\n",
              "       'Back to the Future (1985)', 'Silence of the Lambs, The (1991)',\n",
              "       ...\n",
              "       'Specialist, The (1994)', 'Program, The (1993)', 'Twelfth Night (1996)',\n",
              "       'Cowboy Way, The (1994)',\n",
              "       'Tales from the Crypt Presents: Bordello of Blood (1996)',\n",
              "       'Love and Death on Long Island (1997)', 'In the Army Now (1994)',\n",
              "       'Golden Voyage of Sinbad, The (1974)', 'Asphalt Jungle, The (1950)',\n",
              "       'Police Academy 5: Assignment: Miami Beach (1988)'],\n",
              "      dtype='object', length=1683)"
            ]
          },
          "metadata": {
            "tags": []
          },
          "execution_count": 49
        }
      ]
    },
    {
      "cell_type": "code",
      "metadata": {
        "colab": {
          "base_uri": "https://localhost:8080/"
        },
        "id": "Xbvchzovjz1c",
        "outputId": "42033e7b-511f-44bf-bbbc-fe6f77b9c704"
      },
      "source": [
        "# 150회 이상 평가를 받은 영화들의 평점 평균\r\n",
        "rating_by_title.loc[indexer]"
      ],
      "execution_count": 56,
      "outputs": [
        {
          "output_type": "execute_result",
          "data": {
            "text/plain": [
              "American Beauty (1999)                                   4.317386\n",
              "Star Wars: Episode IV - A New Hope (1977)                4.453694\n",
              "Star Wars: Episode V - The Empire Strikes Back (1980)    4.292977\n",
              "Star Wars: Episode VI - Return of the Jedi (1983)        4.022893\n",
              "Jurassic Park (1993)                                     3.763847\n",
              "                                                           ...   \n",
              "Love and Death on Long Island (1997)                     3.430464\n",
              "In the Army Now (1994)                                   2.225166\n",
              "Golden Voyage of Sinbad, The (1974)                      3.397351\n",
              "Asphalt Jungle, The (1950)                               3.927152\n",
              "Police Academy 5: Assignment: Miami Beach (1988)         1.766667\n",
              "Name: rating, Length: 1683, dtype: float64"
            ]
          },
          "metadata": {
            "tags": []
          },
          "execution_count": 56
        }
      ]
    },
    {
      "cell_type": "code",
      "metadata": {
        "colab": {
          "base_uri": "https://localhost:8080/"
        },
        "id": "y5ib1BPalI4k",
        "outputId": "8a74d1e3-3947-472c-b4ed-874dc06fce21"
      },
      "source": [
        "# 상위 20개\r\n",
        "rating_by_title.loc[indexer].sort_values(ascending=False).head(n=20)"
      ],
      "execution_count": 57,
      "outputs": [
        {
          "output_type": "execute_result",
          "data": {
            "text/plain": [
              "Seven Samurai (The Magnificent Seven) (Shichinin no samurai) (1954)            4.560510\n",
              "Shawshank Redemption, The (1994)                                               4.554558\n",
              "Godfather, The (1972)                                                          4.524966\n",
              "Close Shave, A (1995)                                                          4.520548\n",
              "Usual Suspects, The (1995)                                                     4.517106\n",
              "Schindler's List (1993)                                                        4.510417\n",
              "Wrong Trousers, The (1993)                                                     4.507937\n",
              "Sunset Blvd. (a.k.a. Sunset Boulevard) (1950)                                  4.491489\n",
              "Raiders of the Lost Ark (1981)                                                 4.477725\n",
              "Rear Window (1954)                                                             4.476190\n",
              "Paths of Glory (1957)                                                          4.473913\n",
              "Star Wars: Episode IV - A New Hope (1977)                                      4.453694\n",
              "Third Man, The (1949)                                                          4.452083\n",
              "Dr. Strangelove or: How I Learned to Stop Worrying and Love the Bomb (1963)    4.449890\n",
              "Wallace & Gromit: The Best of Aardman Animation (1996)                         4.426941\n",
              "To Kill a Mockingbird (1962)                                                   4.425647\n",
              "Double Indemnity (1944)                                                        4.415608\n",
              "Casablanca (1942)                                                              4.412822\n",
              "Sixth Sense, The (1999)                                                        4.406263\n",
              "Yojimbo (1961)                                                                 4.404651\n",
              "Name: rating, dtype: float64"
            ]
          },
          "metadata": {
            "tags": []
          },
          "execution_count": 57
        }
      ]
    },
    {
      "cell_type": "code",
      "metadata": {
        "colab": {
          "base_uri": "https://localhost:8080/"
        },
        "id": "YDO2taETmPI9",
        "outputId": "26c1ea85-37f4-44d8-975e-5aae16136f69"
      },
      "source": [
        "rating_by_title.loc[indexer].sort_values().head(n=10)"
      ],
      "execution_count": 58,
      "outputs": [
        {
          "output_type": "execute_result",
          "data": {
            "text/plain": [
              "Battlefield Earth (2000)                            1.611111\n",
              "Baby Geniuses (1999)                                1.701220\n",
              "Police Academy 5: Assignment: Miami Beach (1988)    1.766667\n",
              "Stop! Or My Mom Will Shoot (1992)                   1.782123\n",
              "Jaws 3-D (1983)                                     1.852381\n",
              "Speed 2: Cruise Control (1997)                      1.871935\n",
              "Spice World (1997)                                  1.873684\n",
              "Super Mario Bros. (1993)                            1.874286\n",
              "Home Alone 3 (1997)                                 1.876623\n",
              "Superman IV: The Quest for Peace (1987)             1.888554\n",
              "Name: rating, dtype: float64"
            ]
          },
          "metadata": {
            "tags": []
          },
          "execution_count": 58
        }
      ]
    },
    {
      "cell_type": "code",
      "metadata": {
        "colab": {
          "base_uri": "https://localhost:8080/",
          "height": 441
        },
        "id": "hSFal_rPmivN",
        "outputId": "861a1b80-b328-4720-b7ec-9616eae9f8e2"
      },
      "source": [
        "rating_by_title_gender.loc[indexer]"
      ],
      "execution_count": 60,
      "outputs": [
        {
          "output_type": "execute_result",
          "data": {
            "text/html": [
              "<div>\n",
              "<style scoped>\n",
              "    .dataframe tbody tr th:only-of-type {\n",
              "        vertical-align: middle;\n",
              "    }\n",
              "\n",
              "    .dataframe tbody tr th {\n",
              "        vertical-align: top;\n",
              "    }\n",
              "\n",
              "    .dataframe thead th {\n",
              "        text-align: right;\n",
              "    }\n",
              "</style>\n",
              "<table border=\"1\" class=\"dataframe\">\n",
              "  <thead>\n",
              "    <tr style=\"text-align: right;\">\n",
              "      <th>gender</th>\n",
              "      <th>F</th>\n",
              "      <th>M</th>\n",
              "    </tr>\n",
              "  </thead>\n",
              "  <tbody>\n",
              "    <tr>\n",
              "      <th>American Beauty (1999)</th>\n",
              "      <td>4.238901</td>\n",
              "      <td>4.347301</td>\n",
              "    </tr>\n",
              "    <tr>\n",
              "      <th>Star Wars: Episode IV - A New Hope (1977)</th>\n",
              "      <td>4.302937</td>\n",
              "      <td>4.495307</td>\n",
              "    </tr>\n",
              "    <tr>\n",
              "      <th>Star Wars: Episode V - The Empire Strikes Back (1980)</th>\n",
              "      <td>4.106481</td>\n",
              "      <td>4.344577</td>\n",
              "    </tr>\n",
              "    <tr>\n",
              "      <th>Star Wars: Episode VI - Return of the Jedi (1983)</th>\n",
              "      <td>3.865237</td>\n",
              "      <td>4.069058</td>\n",
              "    </tr>\n",
              "    <tr>\n",
              "      <th>Jurassic Park (1993)</th>\n",
              "      <td>3.579407</td>\n",
              "      <td>3.814197</td>\n",
              "    </tr>\n",
              "    <tr>\n",
              "      <th>...</th>\n",
              "      <td>...</td>\n",
              "      <td>...</td>\n",
              "    </tr>\n",
              "    <tr>\n",
              "      <th>Love and Death on Long Island (1997)</th>\n",
              "      <td>3.116279</td>\n",
              "      <td>3.555556</td>\n",
              "    </tr>\n",
              "    <tr>\n",
              "      <th>In the Army Now (1994)</th>\n",
              "      <td>2.384615</td>\n",
              "      <td>2.192000</td>\n",
              "    </tr>\n",
              "    <tr>\n",
              "      <th>Golden Voyage of Sinbad, The (1974)</th>\n",
              "      <td>3.157895</td>\n",
              "      <td>3.431818</td>\n",
              "    </tr>\n",
              "    <tr>\n",
              "      <th>Asphalt Jungle, The (1950)</th>\n",
              "      <td>3.571429</td>\n",
              "      <td>4.008130</td>\n",
              "    </tr>\n",
              "    <tr>\n",
              "      <th>Police Academy 5: Assignment: Miami Beach (1988)</th>\n",
              "      <td>1.935484</td>\n",
              "      <td>1.722689</td>\n",
              "    </tr>\n",
              "  </tbody>\n",
              "</table>\n",
              "<p>1683 rows × 2 columns</p>\n",
              "</div>"
            ],
            "text/plain": [
              "gender                                                     F         M\n",
              "American Beauty (1999)                              4.238901  4.347301\n",
              "Star Wars: Episode IV - A New Hope (1977)           4.302937  4.495307\n",
              "Star Wars: Episode V - The Empire Strikes Back ...  4.106481  4.344577\n",
              "Star Wars: Episode VI - Return of the Jedi (1983)   3.865237  4.069058\n",
              "Jurassic Park (1993)                                3.579407  3.814197\n",
              "...                                                      ...       ...\n",
              "Love and Death on Long Island (1997)                3.116279  3.555556\n",
              "In the Army Now (1994)                              2.384615  2.192000\n",
              "Golden Voyage of Sinbad, The (1974)                 3.157895  3.431818\n",
              "Asphalt Jungle, The (1950)                          3.571429  4.008130\n",
              "Police Academy 5: Assignment: Miami Beach (1988)    1.935484  1.722689\n",
              "\n",
              "[1683 rows x 2 columns]"
            ]
          },
          "metadata": {
            "tags": []
          },
          "execution_count": 60
        }
      ]
    },
    {
      "cell_type": "code",
      "metadata": {
        "colab": {
          "base_uri": "https://localhost:8080/",
          "height": 377
        },
        "id": "qFwJNDtRmxxy",
        "outputId": "6a7ef385-103a-42e5-9ea1-b24790673b7e"
      },
      "source": [
        "# 여성 평점 상위 10개\r\n",
        "rating_by_title_gender.loc[indexer].sort_values(by='F', ascending=False).head(n=10)"
      ],
      "execution_count": 62,
      "outputs": [
        {
          "output_type": "execute_result",
          "data": {
            "text/html": [
              "<div>\n",
              "<style scoped>\n",
              "    .dataframe tbody tr th:only-of-type {\n",
              "        vertical-align: middle;\n",
              "    }\n",
              "\n",
              "    .dataframe tbody tr th {\n",
              "        vertical-align: top;\n",
              "    }\n",
              "\n",
              "    .dataframe thead th {\n",
              "        text-align: right;\n",
              "    }\n",
              "</style>\n",
              "<table border=\"1\" class=\"dataframe\">\n",
              "  <thead>\n",
              "    <tr style=\"text-align: right;\">\n",
              "      <th>gender</th>\n",
              "      <th>F</th>\n",
              "      <th>M</th>\n",
              "    </tr>\n",
              "  </thead>\n",
              "  <tbody>\n",
              "    <tr>\n",
              "      <th>Close Shave, A (1995)</th>\n",
              "      <td>4.644444</td>\n",
              "      <td>4.473795</td>\n",
              "    </tr>\n",
              "    <tr>\n",
              "      <th>Wrong Trousers, The (1993)</th>\n",
              "      <td>4.588235</td>\n",
              "      <td>4.478261</td>\n",
              "    </tr>\n",
              "    <tr>\n",
              "      <th>General, The (1927)</th>\n",
              "      <td>4.575758</td>\n",
              "      <td>4.329480</td>\n",
              "    </tr>\n",
              "    <tr>\n",
              "      <th>Sunset Blvd. (a.k.a. Sunset Boulevard) (1950)</th>\n",
              "      <td>4.572650</td>\n",
              "      <td>4.464589</td>\n",
              "    </tr>\n",
              "    <tr>\n",
              "      <th>Wallace &amp; Gromit: The Best of Aardman Animation (1996)</th>\n",
              "      <td>4.563107</td>\n",
              "      <td>4.385075</td>\n",
              "    </tr>\n",
              "    <tr>\n",
              "      <th>Schindler's List (1993)</th>\n",
              "      <td>4.562602</td>\n",
              "      <td>4.491415</td>\n",
              "    </tr>\n",
              "    <tr>\n",
              "      <th>Grand Illusion (Grande illusion, La) (1937)</th>\n",
              "      <td>4.560976</td>\n",
              "      <td>4.266129</td>\n",
              "    </tr>\n",
              "    <tr>\n",
              "      <th>Shawshank Redemption, The (1994)</th>\n",
              "      <td>4.539075</td>\n",
              "      <td>4.560625</td>\n",
              "    </tr>\n",
              "    <tr>\n",
              "      <th>Grand Day Out, A (1992)</th>\n",
              "      <td>4.537879</td>\n",
              "      <td>4.293255</td>\n",
              "    </tr>\n",
              "    <tr>\n",
              "      <th>To Kill a Mockingbird (1962)</th>\n",
              "      <td>4.536667</td>\n",
              "      <td>4.372611</td>\n",
              "    </tr>\n",
              "  </tbody>\n",
              "</table>\n",
              "</div>"
            ],
            "text/plain": [
              "gender                                                     F         M\n",
              "Close Shave, A (1995)                               4.644444  4.473795\n",
              "Wrong Trousers, The (1993)                          4.588235  4.478261\n",
              "General, The (1927)                                 4.575758  4.329480\n",
              "Sunset Blvd. (a.k.a. Sunset Boulevard) (1950)       4.572650  4.464589\n",
              "Wallace & Gromit: The Best of Aardman Animation...  4.563107  4.385075\n",
              "Schindler's List (1993)                             4.562602  4.491415\n",
              "Grand Illusion (Grande illusion, La) (1937)         4.560976  4.266129\n",
              "Shawshank Redemption, The (1994)                    4.539075  4.560625\n",
              "Grand Day Out, A (1992)                             4.537879  4.293255\n",
              "To Kill a Mockingbird (1962)                        4.536667  4.372611"
            ]
          },
          "metadata": {
            "tags": []
          },
          "execution_count": 62
        }
      ]
    },
    {
      "cell_type": "code",
      "metadata": {
        "colab": {
          "base_uri": "https://localhost:8080/",
          "height": 377
        },
        "id": "tuMIi7SsnL58",
        "outputId": "041946b9-8fcc-4267-f4f8-7870c5313cca"
      },
      "source": [
        "# 남성 평점 순위 상위 10개\r\n",
        "rating_by_title_gender.loc[indexer].sort_values(by='M', ascending=False).head(n=10)"
      ],
      "execution_count": 63,
      "outputs": [
        {
          "output_type": "execute_result",
          "data": {
            "text/html": [
              "<div>\n",
              "<style scoped>\n",
              "    .dataframe tbody tr th:only-of-type {\n",
              "        vertical-align: middle;\n",
              "    }\n",
              "\n",
              "    .dataframe tbody tr th {\n",
              "        vertical-align: top;\n",
              "    }\n",
              "\n",
              "    .dataframe thead th {\n",
              "        text-align: right;\n",
              "    }\n",
              "</style>\n",
              "<table border=\"1\" class=\"dataframe\">\n",
              "  <thead>\n",
              "    <tr style=\"text-align: right;\">\n",
              "      <th>gender</th>\n",
              "      <th>F</th>\n",
              "      <th>M</th>\n",
              "    </tr>\n",
              "  </thead>\n",
              "  <tbody>\n",
              "    <tr>\n",
              "      <th>Godfather, The (1972)</th>\n",
              "      <td>4.314700</td>\n",
              "      <td>4.583333</td>\n",
              "    </tr>\n",
              "    <tr>\n",
              "      <th>Seven Samurai (The Magnificent Seven) (Shichinin no samurai) (1954)</th>\n",
              "      <td>4.481132</td>\n",
              "      <td>4.576628</td>\n",
              "    </tr>\n",
              "    <tr>\n",
              "      <th>Shawshank Redemption, The (1994)</th>\n",
              "      <td>4.539075</td>\n",
              "      <td>4.560625</td>\n",
              "    </tr>\n",
              "    <tr>\n",
              "      <th>Raiders of the Lost Ark (1981)</th>\n",
              "      <td>4.332168</td>\n",
              "      <td>4.520597</td>\n",
              "    </tr>\n",
              "    <tr>\n",
              "      <th>Usual Suspects, The (1995)</th>\n",
              "      <td>4.513317</td>\n",
              "      <td>4.518248</td>\n",
              "    </tr>\n",
              "    <tr>\n",
              "      <th>Star Wars: Episode IV - A New Hope (1977)</th>\n",
              "      <td>4.302937</td>\n",
              "      <td>4.495307</td>\n",
              "    </tr>\n",
              "    <tr>\n",
              "      <th>Schindler's List (1993)</th>\n",
              "      <td>4.562602</td>\n",
              "      <td>4.491415</td>\n",
              "    </tr>\n",
              "    <tr>\n",
              "      <th>Paths of Glory (1957)</th>\n",
              "      <td>4.392857</td>\n",
              "      <td>4.485149</td>\n",
              "    </tr>\n",
              "    <tr>\n",
              "      <th>Wrong Trousers, The (1993)</th>\n",
              "      <td>4.588235</td>\n",
              "      <td>4.478261</td>\n",
              "    </tr>\n",
              "    <tr>\n",
              "      <th>Close Shave, A (1995)</th>\n",
              "      <td>4.644444</td>\n",
              "      <td>4.473795</td>\n",
              "    </tr>\n",
              "  </tbody>\n",
              "</table>\n",
              "</div>"
            ],
            "text/plain": [
              "gender                                                     F         M\n",
              "Godfather, The (1972)                               4.314700  4.583333\n",
              "Seven Samurai (The Magnificent Seven) (Shichini...  4.481132  4.576628\n",
              "Shawshank Redemption, The (1994)                    4.539075  4.560625\n",
              "Raiders of the Lost Ark (1981)                      4.332168  4.520597\n",
              "Usual Suspects, The (1995)                          4.513317  4.518248\n",
              "Star Wars: Episode IV - A New Hope (1977)           4.302937  4.495307\n",
              "Schindler's List (1993)                             4.562602  4.491415\n",
              "Paths of Glory (1957)                               4.392857  4.485149\n",
              "Wrong Trousers, The (1993)                          4.588235  4.478261\n",
              "Close Shave, A (1995)                               4.644444  4.473795"
            ]
          },
          "metadata": {
            "tags": []
          },
          "execution_count": 63
        }
      ]
    },
    {
      "cell_type": "markdown",
      "metadata": {
        "id": "NE_BIRSXoU1W"
      },
      "source": [
        "*   성별 선호도 차이"
      ]
    }
  ]
}