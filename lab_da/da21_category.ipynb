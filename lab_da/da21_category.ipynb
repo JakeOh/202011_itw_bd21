{
  "nbformat": 4,
  "nbformat_minor": 0,
  "metadata": {
    "colab": {
      "name": "da21_category.ipynb",
      "provenance": [],
      "collapsed_sections": [],
      "authorship_tag": "ABX9TyOseO/wc5QPWl7tNxt0heLN",
      "include_colab_link": true
    },
    "kernelspec": {
      "name": "python3",
      "display_name": "Python 3"
    }
  },
  "cells": [
    {
      "cell_type": "markdown",
      "metadata": {
        "id": "view-in-github",
        "colab_type": "text"
      },
      "source": [
        "<a href=\"https://colab.research.google.com/github/JakeOh/202011_itw_bd21/blob/main/lab_da/da21_category.ipynb\" target=\"_parent\"><img src=\"https://colab.research.google.com/assets/colab-badge.svg\" alt=\"Open In Colab\"/></a>"
      ]
    },
    {
      "cell_type": "markdown",
      "metadata": {
        "id": "rbTWIqeNsLPP"
      },
      "source": [
        "# 카테고리 타입 데이터(Categorical Data)"
      ]
    },
    {
      "cell_type": "code",
      "metadata": {
        "id": "jL1EMlY8r_4I"
      },
      "source": [
        "import numpy as np\r\n",
        "import pandas as pd"
      ],
      "execution_count": 26,
      "outputs": []
    },
    {
      "cell_type": "code",
      "metadata": {
        "colab": {
          "base_uri": "https://localhost:8080/"
        },
        "id": "bXNX_YMHs1te",
        "outputId": "82f5a9b6-dbcb-4b4c-a7a8-985a302e4efc"
      },
      "source": [
        "gender = pd.Series(['M', 'F', 'F', 'M', 'F'])\r\n",
        "gender\r\n",
        "#> dtype: object - Series가 저장하고 있는 데이터들의 타입은 문자열"
      ],
      "execution_count": 27,
      "outputs": [
        {
          "output_type": "execute_result",
          "data": {
            "text/plain": [
              "0    M\n",
              "1    F\n",
              "2    F\n",
              "3    M\n",
              "4    F\n",
              "dtype: object"
            ]
          },
          "metadata": {
            "tags": []
          },
          "execution_count": 27
        }
      ]
    },
    {
      "cell_type": "code",
      "metadata": {
        "colab": {
          "base_uri": "https://localhost:8080/"
        },
        "id": "IHzg5fX3tDSF",
        "outputId": "9d7ba8cf-9f4d-430f-cafb-e70b081e4edf"
      },
      "source": [
        "# astype(newType) 메서드: 데이터 타입을 newType 타입으로 변환한 새로운 시리즈를 리턴.\r\n",
        "gender2 = gender.astype('category')\r\n",
        "gender2"
      ],
      "execution_count": 28,
      "outputs": [
        {
          "output_type": "execute_result",
          "data": {
            "text/plain": [
              "0    M\n",
              "1    F\n",
              "2    F\n",
              "3    M\n",
              "4    F\n",
              "dtype: category\n",
              "Categories (2, object): ['F', 'M']"
            ]
          },
          "metadata": {
            "tags": []
          },
          "execution_count": 28
        }
      ]
    },
    {
      "cell_type": "code",
      "metadata": {
        "colab": {
          "base_uri": "https://localhost:8080/"
        },
        "id": "lLrW4Y1Huc8f",
        "outputId": "22eb1616-3b63-4c5a-90c0-e3ab608fe60b"
      },
      "source": [
        "gender"
      ],
      "execution_count": 29,
      "outputs": [
        {
          "output_type": "execute_result",
          "data": {
            "text/plain": [
              "0    M\n",
              "1    F\n",
              "2    F\n",
              "3    M\n",
              "4    F\n",
              "dtype: object"
            ]
          },
          "metadata": {
            "tags": []
          },
          "execution_count": 29
        }
      ]
    },
    {
      "cell_type": "code",
      "metadata": {
        "colab": {
          "base_uri": "https://localhost:8080/"
        },
        "id": "gAh_hZtcvty5",
        "outputId": "c45dd22c-33ca-4675-d03f-9fa2cb8c3709"
      },
      "source": [
        "age = pd.Series([1, 18, 25, 35, 18, 18, 25, 25, 35])\r\n",
        "age\r\n",
        "#> dtype: int64 - 정수 타입을 저장하고 있는 시리즈"
      ],
      "execution_count": 30,
      "outputs": [
        {
          "output_type": "execute_result",
          "data": {
            "text/plain": [
              "0     1\n",
              "1    18\n",
              "2    25\n",
              "3    35\n",
              "4    18\n",
              "5    18\n",
              "6    25\n",
              "7    25\n",
              "8    35\n",
              "dtype: int64"
            ]
          },
          "metadata": {
            "tags": []
          },
          "execution_count": 30
        }
      ]
    },
    {
      "cell_type": "code",
      "metadata": {
        "colab": {
          "base_uri": "https://localhost:8080/"
        },
        "id": "Q_SA4T49wTVj",
        "outputId": "feec051a-3d7d-4aea-f1a7-2f8ad67ba8d7"
      },
      "source": [
        "age2 = age.astype('category')\r\n",
        "age2"
      ],
      "execution_count": 31,
      "outputs": [
        {
          "output_type": "execute_result",
          "data": {
            "text/plain": [
              "0     1\n",
              "1    18\n",
              "2    25\n",
              "3    35\n",
              "4    18\n",
              "5    18\n",
              "6    25\n",
              "7    25\n",
              "8    35\n",
              "dtype: category\n",
              "Categories (4, int64): [1, 18, 25, 35]"
            ]
          },
          "metadata": {
            "tags": []
          },
          "execution_count": 31
        }
      ]
    },
    {
      "cell_type": "code",
      "metadata": {
        "colab": {
          "base_uri": "https://localhost:8080/"
        },
        "id": "R_WAuGE-wZOg",
        "outputId": "19a2761b-c10e-4d56-cce4-239ffbd2f59b"
      },
      "source": [
        "# 시리즈를 생성할 때 category 타입으로 생성\r\n",
        "s = pd.Series(data=['a', 'b', 'a', 'a'], dtype='category')\r\n",
        "s"
      ],
      "execution_count": 32,
      "outputs": [
        {
          "output_type": "execute_result",
          "data": {
            "text/plain": [
              "0    a\n",
              "1    b\n",
              "2    a\n",
              "3    a\n",
              "dtype: category\n",
              "Categories (2, object): ['a', 'b']"
            ]
          },
          "metadata": {
            "tags": []
          },
          "execution_count": 32
        }
      ]
    },
    {
      "cell_type": "code",
      "metadata": {
        "colab": {
          "base_uri": "https://localhost:8080/",
          "height": 247
        },
        "id": "gdfzgFJOyXzY",
        "outputId": "64ccfb58-0303-455c-cdc3-ecd4a135cb3e"
      },
      "source": [
        "np.random.seed(1)\r\n",
        "\r\n",
        "df = pd.DataFrame({'fruit': ['apple', 'banana', 'apple'] * 2,\r\n",
        "                   'count': np.random.randint(5, 15, 6),\r\n",
        "                   'weight': np.random.uniform(1.0, 5.0, 6)})\r\n",
        "df"
      ],
      "execution_count": 33,
      "outputs": [
        {
          "output_type": "execute_result",
          "data": {
            "text/html": [
              "<div>\n",
              "<style scoped>\n",
              "    .dataframe tbody tr th:only-of-type {\n",
              "        vertical-align: middle;\n",
              "    }\n",
              "\n",
              "    .dataframe tbody tr th {\n",
              "        vertical-align: top;\n",
              "    }\n",
              "\n",
              "    .dataframe thead th {\n",
              "        text-align: right;\n",
              "    }\n",
              "</style>\n",
              "<table border=\"1\" class=\"dataframe\">\n",
              "  <thead>\n",
              "    <tr style=\"text-align: right;\">\n",
              "      <th></th>\n",
              "      <th>fruit</th>\n",
              "      <th>count</th>\n",
              "      <th>weight</th>\n",
              "    </tr>\n",
              "  </thead>\n",
              "  <tbody>\n",
              "    <tr>\n",
              "      <th>0</th>\n",
              "      <td>apple</td>\n",
              "      <td>10</td>\n",
              "      <td>2.586323</td>\n",
              "    </tr>\n",
              "    <tr>\n",
              "      <th>1</th>\n",
              "      <td>banana</td>\n",
              "      <td>13</td>\n",
              "      <td>2.551643</td>\n",
              "    </tr>\n",
              "    <tr>\n",
              "      <th>2</th>\n",
              "      <td>apple</td>\n",
              "      <td>14</td>\n",
              "      <td>3.678984</td>\n",
              "    </tr>\n",
              "    <tr>\n",
              "      <th>3</th>\n",
              "      <td>apple</td>\n",
              "      <td>10</td>\n",
              "      <td>4.742156</td>\n",
              "    </tr>\n",
              "    <tr>\n",
              "      <th>4</th>\n",
              "      <td>banana</td>\n",
              "      <td>5</td>\n",
              "      <td>4.385244</td>\n",
              "    </tr>\n",
              "    <tr>\n",
              "      <th>5</th>\n",
              "      <td>apple</td>\n",
              "      <td>5</td>\n",
              "      <td>2.253094</td>\n",
              "    </tr>\n",
              "  </tbody>\n",
              "</table>\n",
              "</div>"
            ],
            "text/plain": [
              "    fruit  count    weight\n",
              "0   apple     10  2.586323\n",
              "1  banana     13  2.551643\n",
              "2   apple     14  3.678984\n",
              "3   apple     10  4.742156\n",
              "4  banana      5  4.385244\n",
              "5   apple      5  2.253094"
            ]
          },
          "metadata": {
            "tags": []
          },
          "execution_count": 33
        }
      ]
    },
    {
      "cell_type": "code",
      "metadata": {
        "colab": {
          "base_uri": "https://localhost:8080/"
        },
        "id": "qxx1GLIezVOo",
        "outputId": "97aa14fb-23fc-4fe0-a418-27148dadfcbd"
      },
      "source": [
        "df.info()"
      ],
      "execution_count": 34,
      "outputs": [
        {
          "output_type": "stream",
          "text": [
            "<class 'pandas.core.frame.DataFrame'>\n",
            "RangeIndex: 6 entries, 0 to 5\n",
            "Data columns (total 3 columns):\n",
            " #   Column  Non-Null Count  Dtype  \n",
            "---  ------  --------------  -----  \n",
            " 0   fruit   6 non-null      object \n",
            " 1   count   6 non-null      int64  \n",
            " 2   weight  6 non-null      float64\n",
            "dtypes: float64(1), int64(1), object(1)\n",
            "memory usage: 272.0+ bytes\n"
          ],
          "name": "stdout"
        }
      ]
    },
    {
      "cell_type": "code",
      "metadata": {
        "id": "x4NjkYlY0Ecg"
      },
      "source": [
        "# fruit 컬럼을 카테고리 타입으로 변환하고 저장.\r\n",
        "df['fruit'] = df['fruit'].astype('category')"
      ],
      "execution_count": 35,
      "outputs": []
    },
    {
      "cell_type": "code",
      "metadata": {
        "colab": {
          "base_uri": "https://localhost:8080/"
        },
        "id": "DeCBERg00QnX",
        "outputId": "8c1a7c1c-f8a6-450f-95c9-5adb7747c850"
      },
      "source": [
        "df.info()"
      ],
      "execution_count": 36,
      "outputs": [
        {
          "output_type": "stream",
          "text": [
            "<class 'pandas.core.frame.DataFrame'>\n",
            "RangeIndex: 6 entries, 0 to 5\n",
            "Data columns (total 3 columns):\n",
            " #   Column  Non-Null Count  Dtype   \n",
            "---  ------  --------------  -----   \n",
            " 0   fruit   6 non-null      category\n",
            " 1   count   6 non-null      int64   \n",
            " 2   weight  6 non-null      float64 \n",
            "dtypes: category(1), float64(1), int64(1)\n",
            "memory usage: 326.0 bytes\n"
          ],
          "name": "stdout"
        }
      ]
    },
    {
      "cell_type": "code",
      "metadata": {
        "colab": {
          "base_uri": "https://localhost:8080/",
          "height": 247
        },
        "id": "E3PXzgIT3vXB",
        "outputId": "41c860ff-67af-4d5e-db91-acc67ee7df44"
      },
      "source": [
        "# 데이터 프레임 df에서 weight 컬럼의 값들을 사용해서 weight_level 파생 변수를 생성\r\n",
        "#   0.0 <= weight < 1.0: W1\r\n",
        "#   1.0 <= weight < 2.0: W2\r\n",
        "#   ...\r\n",
        "#   4.0 <= weight < 5.0: W5\r\n",
        "wlevels = []\r\n",
        "for w in df['weight']:\r\n",
        "    if 0.0 <= w < 1.0:\r\n",
        "        l = 'W1'\r\n",
        "    elif 1.0 <= w < 2.0:\r\n",
        "        l = 'W2'\r\n",
        "    elif 2.0 <= w < 3.0:\r\n",
        "        l = 'W3'\r\n",
        "    elif 3.0 <= w < 4.0:\r\n",
        "        l = 'W4'\r\n",
        "    elif 4.0 <= w < 5.0:\r\n",
        "        l = 'W5'\r\n",
        "    else:\r\n",
        "        l = 'Other'\r\n",
        "    wlevels.append(l)\r\n",
        "\r\n",
        "df['weight_level'] = pd.Series(wlevels, dtype='category')\r\n",
        "df"
      ],
      "execution_count": 37,
      "outputs": [
        {
          "output_type": "execute_result",
          "data": {
            "text/html": [
              "<div>\n",
              "<style scoped>\n",
              "    .dataframe tbody tr th:only-of-type {\n",
              "        vertical-align: middle;\n",
              "    }\n",
              "\n",
              "    .dataframe tbody tr th {\n",
              "        vertical-align: top;\n",
              "    }\n",
              "\n",
              "    .dataframe thead th {\n",
              "        text-align: right;\n",
              "    }\n",
              "</style>\n",
              "<table border=\"1\" class=\"dataframe\">\n",
              "  <thead>\n",
              "    <tr style=\"text-align: right;\">\n",
              "      <th></th>\n",
              "      <th>fruit</th>\n",
              "      <th>count</th>\n",
              "      <th>weight</th>\n",
              "      <th>weight_level</th>\n",
              "    </tr>\n",
              "  </thead>\n",
              "  <tbody>\n",
              "    <tr>\n",
              "      <th>0</th>\n",
              "      <td>apple</td>\n",
              "      <td>10</td>\n",
              "      <td>2.586323</td>\n",
              "      <td>W3</td>\n",
              "    </tr>\n",
              "    <tr>\n",
              "      <th>1</th>\n",
              "      <td>banana</td>\n",
              "      <td>13</td>\n",
              "      <td>2.551643</td>\n",
              "      <td>W3</td>\n",
              "    </tr>\n",
              "    <tr>\n",
              "      <th>2</th>\n",
              "      <td>apple</td>\n",
              "      <td>14</td>\n",
              "      <td>3.678984</td>\n",
              "      <td>W4</td>\n",
              "    </tr>\n",
              "    <tr>\n",
              "      <th>3</th>\n",
              "      <td>apple</td>\n",
              "      <td>10</td>\n",
              "      <td>4.742156</td>\n",
              "      <td>W5</td>\n",
              "    </tr>\n",
              "    <tr>\n",
              "      <th>4</th>\n",
              "      <td>banana</td>\n",
              "      <td>5</td>\n",
              "      <td>4.385244</td>\n",
              "      <td>W5</td>\n",
              "    </tr>\n",
              "    <tr>\n",
              "      <th>5</th>\n",
              "      <td>apple</td>\n",
              "      <td>5</td>\n",
              "      <td>2.253094</td>\n",
              "      <td>W3</td>\n",
              "    </tr>\n",
              "  </tbody>\n",
              "</table>\n",
              "</div>"
            ],
            "text/plain": [
              "    fruit  count    weight weight_level\n",
              "0   apple     10  2.586323           W3\n",
              "1  banana     13  2.551643           W3\n",
              "2   apple     14  3.678984           W4\n",
              "3   apple     10  4.742156           W5\n",
              "4  banana      5  4.385244           W5\n",
              "5   apple      5  2.253094           W3"
            ]
          },
          "metadata": {
            "tags": []
          },
          "execution_count": 37
        }
      ]
    },
    {
      "cell_type": "code",
      "metadata": {
        "colab": {
          "base_uri": "https://localhost:8080/"
        },
        "id": "dkToaMBa6zTZ",
        "outputId": "9cfbdf69-e858-4679-9530-6432dcf2c36c"
      },
      "source": [
        "df.info()"
      ],
      "execution_count": 38,
      "outputs": [
        {
          "output_type": "stream",
          "text": [
            "<class 'pandas.core.frame.DataFrame'>\n",
            "RangeIndex: 6 entries, 0 to 5\n",
            "Data columns (total 4 columns):\n",
            " #   Column        Non-Null Count  Dtype   \n",
            "---  ------        --------------  -----   \n",
            " 0   fruit         6 non-null      category\n",
            " 1   count         6 non-null      int64   \n",
            " 2   weight        6 non-null      float64 \n",
            " 3   weight_level  6 non-null      category\n",
            "dtypes: category(2), float64(1), int64(1)\n",
            "memory usage: 436.0 bytes\n"
          ],
          "name": "stdout"
        }
      ]
    },
    {
      "cell_type": "code",
      "metadata": {
        "colab": {
          "base_uri": "https://localhost:8080/"
        },
        "id": "yMxl25TM8FK4",
        "outputId": "08747c37-f789-478b-edd9-ad0c74fc910b"
      },
      "source": [
        "np.arange(0.0, 5.1, 1.0)"
      ],
      "execution_count": 41,
      "outputs": [
        {
          "output_type": "execute_result",
          "data": {
            "text/plain": [
              "array([0., 1., 2., 3., 4., 5.])"
            ]
          },
          "metadata": {
            "tags": []
          },
          "execution_count": 41
        }
      ]
    },
    {
      "cell_type": "code",
      "metadata": {
        "colab": {
          "base_uri": "https://localhost:8080/",
          "height": 247
        },
        "id": "v06Onf_U7V1g",
        "outputId": "19af34e0-115c-462b-d49f-f937a50bd41b"
      },
      "source": [
        "df['w_l'] = pd.cut(x=df['weight'], \r\n",
        "                   bins=np.arange(0.0, 5.1, 1.0),\r\n",
        "                   right=False,\r\n",
        "                   labels=['W1', 'W2', 'W3', 'W4', 'W5'])\r\n",
        "df"
      ],
      "execution_count": 43,
      "outputs": [
        {
          "output_type": "execute_result",
          "data": {
            "text/html": [
              "<div>\n",
              "<style scoped>\n",
              "    .dataframe tbody tr th:only-of-type {\n",
              "        vertical-align: middle;\n",
              "    }\n",
              "\n",
              "    .dataframe tbody tr th {\n",
              "        vertical-align: top;\n",
              "    }\n",
              "\n",
              "    .dataframe thead th {\n",
              "        text-align: right;\n",
              "    }\n",
              "</style>\n",
              "<table border=\"1\" class=\"dataframe\">\n",
              "  <thead>\n",
              "    <tr style=\"text-align: right;\">\n",
              "      <th></th>\n",
              "      <th>fruit</th>\n",
              "      <th>count</th>\n",
              "      <th>weight</th>\n",
              "      <th>weight_level</th>\n",
              "      <th>w_l</th>\n",
              "    </tr>\n",
              "  </thead>\n",
              "  <tbody>\n",
              "    <tr>\n",
              "      <th>0</th>\n",
              "      <td>apple</td>\n",
              "      <td>10</td>\n",
              "      <td>2.586323</td>\n",
              "      <td>W3</td>\n",
              "      <td>W3</td>\n",
              "    </tr>\n",
              "    <tr>\n",
              "      <th>1</th>\n",
              "      <td>banana</td>\n",
              "      <td>13</td>\n",
              "      <td>2.551643</td>\n",
              "      <td>W3</td>\n",
              "      <td>W3</td>\n",
              "    </tr>\n",
              "    <tr>\n",
              "      <th>2</th>\n",
              "      <td>apple</td>\n",
              "      <td>14</td>\n",
              "      <td>3.678984</td>\n",
              "      <td>W4</td>\n",
              "      <td>W4</td>\n",
              "    </tr>\n",
              "    <tr>\n",
              "      <th>3</th>\n",
              "      <td>apple</td>\n",
              "      <td>10</td>\n",
              "      <td>4.742156</td>\n",
              "      <td>W5</td>\n",
              "      <td>W5</td>\n",
              "    </tr>\n",
              "    <tr>\n",
              "      <th>4</th>\n",
              "      <td>banana</td>\n",
              "      <td>5</td>\n",
              "      <td>4.385244</td>\n",
              "      <td>W5</td>\n",
              "      <td>W5</td>\n",
              "    </tr>\n",
              "    <tr>\n",
              "      <th>5</th>\n",
              "      <td>apple</td>\n",
              "      <td>5</td>\n",
              "      <td>2.253094</td>\n",
              "      <td>W3</td>\n",
              "      <td>W3</td>\n",
              "    </tr>\n",
              "  </tbody>\n",
              "</table>\n",
              "</div>"
            ],
            "text/plain": [
              "    fruit  count    weight weight_level w_l\n",
              "0   apple     10  2.586323           W3  W3\n",
              "1  banana     13  2.551643           W3  W3\n",
              "2   apple     14  3.678984           W4  W4\n",
              "3   apple     10  4.742156           W5  W5\n",
              "4  banana      5  4.385244           W5  W5\n",
              "5   apple      5  2.253094           W3  W3"
            ]
          },
          "metadata": {
            "tags": []
          },
          "execution_count": 43
        }
      ]
    },
    {
      "cell_type": "code",
      "metadata": {
        "colab": {
          "base_uri": "https://localhost:8080/"
        },
        "id": "r9qh83Ag882A",
        "outputId": "6cd8b448-986e-4a3f-fd6f-0cd65c9cf5b6"
      },
      "source": [
        "df.info()"
      ],
      "execution_count": 44,
      "outputs": [
        {
          "output_type": "stream",
          "text": [
            "<class 'pandas.core.frame.DataFrame'>\n",
            "RangeIndex: 6 entries, 0 to 5\n",
            "Data columns (total 5 columns):\n",
            " #   Column        Non-Null Count  Dtype   \n",
            "---  ------        --------------  -----   \n",
            " 0   fruit         6 non-null      category\n",
            " 1   count         6 non-null      int64   \n",
            " 2   weight        6 non-null      float64 \n",
            " 3   weight_level  6 non-null      category\n",
            " 4   w_l           6 non-null      category\n",
            "dtypes: category(3), float64(1), int64(1)\n",
            "memory usage: 642.0 bytes\n"
          ],
          "name": "stdout"
        }
      ]
    },
    {
      "cell_type": "code",
      "metadata": {
        "colab": {
          "base_uri": "https://localhost:8080/",
          "height": 704
        },
        "id": "LaMfl6XY94HL",
        "outputId": "e49273f3-f695-4269-f2ba-03223f3bd84b"
      },
      "source": [
        "np.random.seed(1)\r\n",
        "df2 = pd.DataFrame({'age': np.random.randint(0, 100, 20)})\r\n",
        "df2"
      ],
      "execution_count": 45,
      "outputs": [
        {
          "output_type": "execute_result",
          "data": {
            "text/html": [
              "<div>\n",
              "<style scoped>\n",
              "    .dataframe tbody tr th:only-of-type {\n",
              "        vertical-align: middle;\n",
              "    }\n",
              "\n",
              "    .dataframe tbody tr th {\n",
              "        vertical-align: top;\n",
              "    }\n",
              "\n",
              "    .dataframe thead th {\n",
              "        text-align: right;\n",
              "    }\n",
              "</style>\n",
              "<table border=\"1\" class=\"dataframe\">\n",
              "  <thead>\n",
              "    <tr style=\"text-align: right;\">\n",
              "      <th></th>\n",
              "      <th>age</th>\n",
              "    </tr>\n",
              "  </thead>\n",
              "  <tbody>\n",
              "    <tr>\n",
              "      <th>0</th>\n",
              "      <td>37</td>\n",
              "    </tr>\n",
              "    <tr>\n",
              "      <th>1</th>\n",
              "      <td>12</td>\n",
              "    </tr>\n",
              "    <tr>\n",
              "      <th>2</th>\n",
              "      <td>72</td>\n",
              "    </tr>\n",
              "    <tr>\n",
              "      <th>3</th>\n",
              "      <td>9</td>\n",
              "    </tr>\n",
              "    <tr>\n",
              "      <th>4</th>\n",
              "      <td>75</td>\n",
              "    </tr>\n",
              "    <tr>\n",
              "      <th>5</th>\n",
              "      <td>5</td>\n",
              "    </tr>\n",
              "    <tr>\n",
              "      <th>6</th>\n",
              "      <td>79</td>\n",
              "    </tr>\n",
              "    <tr>\n",
              "      <th>7</th>\n",
              "      <td>64</td>\n",
              "    </tr>\n",
              "    <tr>\n",
              "      <th>8</th>\n",
              "      <td>16</td>\n",
              "    </tr>\n",
              "    <tr>\n",
              "      <th>9</th>\n",
              "      <td>1</td>\n",
              "    </tr>\n",
              "    <tr>\n",
              "      <th>10</th>\n",
              "      <td>76</td>\n",
              "    </tr>\n",
              "    <tr>\n",
              "      <th>11</th>\n",
              "      <td>71</td>\n",
              "    </tr>\n",
              "    <tr>\n",
              "      <th>12</th>\n",
              "      <td>6</td>\n",
              "    </tr>\n",
              "    <tr>\n",
              "      <th>13</th>\n",
              "      <td>25</td>\n",
              "    </tr>\n",
              "    <tr>\n",
              "      <th>14</th>\n",
              "      <td>50</td>\n",
              "    </tr>\n",
              "    <tr>\n",
              "      <th>15</th>\n",
              "      <td>20</td>\n",
              "    </tr>\n",
              "    <tr>\n",
              "      <th>16</th>\n",
              "      <td>18</td>\n",
              "    </tr>\n",
              "    <tr>\n",
              "      <th>17</th>\n",
              "      <td>84</td>\n",
              "    </tr>\n",
              "    <tr>\n",
              "      <th>18</th>\n",
              "      <td>11</td>\n",
              "    </tr>\n",
              "    <tr>\n",
              "      <th>19</th>\n",
              "      <td>28</td>\n",
              "    </tr>\n",
              "  </tbody>\n",
              "</table>\n",
              "</div>"
            ],
            "text/plain": [
              "    age\n",
              "0    37\n",
              "1    12\n",
              "2    72\n",
              "3     9\n",
              "4    75\n",
              "5     5\n",
              "6    79\n",
              "7    64\n",
              "8    16\n",
              "9     1\n",
              "10   76\n",
              "11   71\n",
              "12    6\n",
              "13   25\n",
              "14   50\n",
              "15   20\n",
              "16   18\n",
              "17   84\n",
              "18   11\n",
              "19   28"
            ]
          },
          "metadata": {
            "tags": []
          },
          "execution_count": 45
        }
      ]
    },
    {
      "cell_type": "code",
      "metadata": {
        "colab": {
          "base_uri": "https://localhost:8080/",
          "height": 704
        },
        "id": "TMCmxQ1_-Q6g",
        "outputId": "fc6113ae-689d-4848-e53c-022a92bdcd68"
      },
      "source": [
        "# 데이터 프레임 df2에 age_range 컬럼을 추가 - ['age_0', 'age_10', 'age_20', ..., 'age_90'] 카테고리\r\n",
        "ar_bins = np.arange(0, 101, 10)\r\n",
        "ar_labels = [f'age_{i}' for i in range(0, 100, 10)]\r\n",
        "df2['age_range'] = pd.cut(x=df2['age'], bins=ar_bins, right=False, labels=ar_labels)\r\n",
        "df2"
      ],
      "execution_count": 50,
      "outputs": [
        {
          "output_type": "execute_result",
          "data": {
            "text/html": [
              "<div>\n",
              "<style scoped>\n",
              "    .dataframe tbody tr th:only-of-type {\n",
              "        vertical-align: middle;\n",
              "    }\n",
              "\n",
              "    .dataframe tbody tr th {\n",
              "        vertical-align: top;\n",
              "    }\n",
              "\n",
              "    .dataframe thead th {\n",
              "        text-align: right;\n",
              "    }\n",
              "</style>\n",
              "<table border=\"1\" class=\"dataframe\">\n",
              "  <thead>\n",
              "    <tr style=\"text-align: right;\">\n",
              "      <th></th>\n",
              "      <th>age</th>\n",
              "      <th>age_range</th>\n",
              "    </tr>\n",
              "  </thead>\n",
              "  <tbody>\n",
              "    <tr>\n",
              "      <th>0</th>\n",
              "      <td>37</td>\n",
              "      <td>age_30</td>\n",
              "    </tr>\n",
              "    <tr>\n",
              "      <th>1</th>\n",
              "      <td>12</td>\n",
              "      <td>age_10</td>\n",
              "    </tr>\n",
              "    <tr>\n",
              "      <th>2</th>\n",
              "      <td>72</td>\n",
              "      <td>age_70</td>\n",
              "    </tr>\n",
              "    <tr>\n",
              "      <th>3</th>\n",
              "      <td>9</td>\n",
              "      <td>age_0</td>\n",
              "    </tr>\n",
              "    <tr>\n",
              "      <th>4</th>\n",
              "      <td>75</td>\n",
              "      <td>age_70</td>\n",
              "    </tr>\n",
              "    <tr>\n",
              "      <th>5</th>\n",
              "      <td>5</td>\n",
              "      <td>age_0</td>\n",
              "    </tr>\n",
              "    <tr>\n",
              "      <th>6</th>\n",
              "      <td>79</td>\n",
              "      <td>age_70</td>\n",
              "    </tr>\n",
              "    <tr>\n",
              "      <th>7</th>\n",
              "      <td>64</td>\n",
              "      <td>age_60</td>\n",
              "    </tr>\n",
              "    <tr>\n",
              "      <th>8</th>\n",
              "      <td>16</td>\n",
              "      <td>age_10</td>\n",
              "    </tr>\n",
              "    <tr>\n",
              "      <th>9</th>\n",
              "      <td>1</td>\n",
              "      <td>age_0</td>\n",
              "    </tr>\n",
              "    <tr>\n",
              "      <th>10</th>\n",
              "      <td>76</td>\n",
              "      <td>age_70</td>\n",
              "    </tr>\n",
              "    <tr>\n",
              "      <th>11</th>\n",
              "      <td>71</td>\n",
              "      <td>age_70</td>\n",
              "    </tr>\n",
              "    <tr>\n",
              "      <th>12</th>\n",
              "      <td>6</td>\n",
              "      <td>age_0</td>\n",
              "    </tr>\n",
              "    <tr>\n",
              "      <th>13</th>\n",
              "      <td>25</td>\n",
              "      <td>age_20</td>\n",
              "    </tr>\n",
              "    <tr>\n",
              "      <th>14</th>\n",
              "      <td>50</td>\n",
              "      <td>age_50</td>\n",
              "    </tr>\n",
              "    <tr>\n",
              "      <th>15</th>\n",
              "      <td>20</td>\n",
              "      <td>age_20</td>\n",
              "    </tr>\n",
              "    <tr>\n",
              "      <th>16</th>\n",
              "      <td>18</td>\n",
              "      <td>age_10</td>\n",
              "    </tr>\n",
              "    <tr>\n",
              "      <th>17</th>\n",
              "      <td>84</td>\n",
              "      <td>age_80</td>\n",
              "    </tr>\n",
              "    <tr>\n",
              "      <th>18</th>\n",
              "      <td>11</td>\n",
              "      <td>age_10</td>\n",
              "    </tr>\n",
              "    <tr>\n",
              "      <th>19</th>\n",
              "      <td>28</td>\n",
              "      <td>age_20</td>\n",
              "    </tr>\n",
              "  </tbody>\n",
              "</table>\n",
              "</div>"
            ],
            "text/plain": [
              "    age age_range\n",
              "0    37    age_30\n",
              "1    12    age_10\n",
              "2    72    age_70\n",
              "3     9     age_0\n",
              "4    75    age_70\n",
              "5     5     age_0\n",
              "6    79    age_70\n",
              "7    64    age_60\n",
              "8    16    age_10\n",
              "9     1     age_0\n",
              "10   76    age_70\n",
              "11   71    age_70\n",
              "12    6     age_0\n",
              "13   25    age_20\n",
              "14   50    age_50\n",
              "15   20    age_20\n",
              "16   18    age_10\n",
              "17   84    age_80\n",
              "18   11    age_10\n",
              "19   28    age_20"
            ]
          },
          "metadata": {
            "tags": []
          },
          "execution_count": 50
        }
      ]
    },
    {
      "cell_type": "code",
      "metadata": {
        "colab": {
          "base_uri": "https://localhost:8080/",
          "height": 704
        },
        "id": "VOrwQsJO-YZo",
        "outputId": "abc4b563-e801-4b22-a4e6-8d19bad2bb70"
      },
      "source": [
        "# 데이터 프레임 df2에 age_group 컬럼을 추가 - ['young', 'middle', 'old'] 카테고리\r\n",
        "#   young: 0 <= age < 20\r\n",
        "#   middle: 20 <= age < 60\r\n",
        "#   old: 60 <= age < 100\r\n",
        "df2['age_group'] = pd.cut(x=df2['age'],\r\n",
        "                          bins=[0, 20, 60, 100],\r\n",
        "                          right=False,\r\n",
        "                          labels=['young', 'middle', 'old'])\r\n",
        "df2"
      ],
      "execution_count": 51,
      "outputs": [
        {
          "output_type": "execute_result",
          "data": {
            "text/html": [
              "<div>\n",
              "<style scoped>\n",
              "    .dataframe tbody tr th:only-of-type {\n",
              "        vertical-align: middle;\n",
              "    }\n",
              "\n",
              "    .dataframe tbody tr th {\n",
              "        vertical-align: top;\n",
              "    }\n",
              "\n",
              "    .dataframe thead th {\n",
              "        text-align: right;\n",
              "    }\n",
              "</style>\n",
              "<table border=\"1\" class=\"dataframe\">\n",
              "  <thead>\n",
              "    <tr style=\"text-align: right;\">\n",
              "      <th></th>\n",
              "      <th>age</th>\n",
              "      <th>age_range</th>\n",
              "      <th>age_group</th>\n",
              "    </tr>\n",
              "  </thead>\n",
              "  <tbody>\n",
              "    <tr>\n",
              "      <th>0</th>\n",
              "      <td>37</td>\n",
              "      <td>age_30</td>\n",
              "      <td>middle</td>\n",
              "    </tr>\n",
              "    <tr>\n",
              "      <th>1</th>\n",
              "      <td>12</td>\n",
              "      <td>age_10</td>\n",
              "      <td>young</td>\n",
              "    </tr>\n",
              "    <tr>\n",
              "      <th>2</th>\n",
              "      <td>72</td>\n",
              "      <td>age_70</td>\n",
              "      <td>old</td>\n",
              "    </tr>\n",
              "    <tr>\n",
              "      <th>3</th>\n",
              "      <td>9</td>\n",
              "      <td>age_0</td>\n",
              "      <td>young</td>\n",
              "    </tr>\n",
              "    <tr>\n",
              "      <th>4</th>\n",
              "      <td>75</td>\n",
              "      <td>age_70</td>\n",
              "      <td>old</td>\n",
              "    </tr>\n",
              "    <tr>\n",
              "      <th>5</th>\n",
              "      <td>5</td>\n",
              "      <td>age_0</td>\n",
              "      <td>young</td>\n",
              "    </tr>\n",
              "    <tr>\n",
              "      <th>6</th>\n",
              "      <td>79</td>\n",
              "      <td>age_70</td>\n",
              "      <td>old</td>\n",
              "    </tr>\n",
              "    <tr>\n",
              "      <th>7</th>\n",
              "      <td>64</td>\n",
              "      <td>age_60</td>\n",
              "      <td>old</td>\n",
              "    </tr>\n",
              "    <tr>\n",
              "      <th>8</th>\n",
              "      <td>16</td>\n",
              "      <td>age_10</td>\n",
              "      <td>young</td>\n",
              "    </tr>\n",
              "    <tr>\n",
              "      <th>9</th>\n",
              "      <td>1</td>\n",
              "      <td>age_0</td>\n",
              "      <td>young</td>\n",
              "    </tr>\n",
              "    <tr>\n",
              "      <th>10</th>\n",
              "      <td>76</td>\n",
              "      <td>age_70</td>\n",
              "      <td>old</td>\n",
              "    </tr>\n",
              "    <tr>\n",
              "      <th>11</th>\n",
              "      <td>71</td>\n",
              "      <td>age_70</td>\n",
              "      <td>old</td>\n",
              "    </tr>\n",
              "    <tr>\n",
              "      <th>12</th>\n",
              "      <td>6</td>\n",
              "      <td>age_0</td>\n",
              "      <td>young</td>\n",
              "    </tr>\n",
              "    <tr>\n",
              "      <th>13</th>\n",
              "      <td>25</td>\n",
              "      <td>age_20</td>\n",
              "      <td>middle</td>\n",
              "    </tr>\n",
              "    <tr>\n",
              "      <th>14</th>\n",
              "      <td>50</td>\n",
              "      <td>age_50</td>\n",
              "      <td>middle</td>\n",
              "    </tr>\n",
              "    <tr>\n",
              "      <th>15</th>\n",
              "      <td>20</td>\n",
              "      <td>age_20</td>\n",
              "      <td>middle</td>\n",
              "    </tr>\n",
              "    <tr>\n",
              "      <th>16</th>\n",
              "      <td>18</td>\n",
              "      <td>age_10</td>\n",
              "      <td>young</td>\n",
              "    </tr>\n",
              "    <tr>\n",
              "      <th>17</th>\n",
              "      <td>84</td>\n",
              "      <td>age_80</td>\n",
              "      <td>old</td>\n",
              "    </tr>\n",
              "    <tr>\n",
              "      <th>18</th>\n",
              "      <td>11</td>\n",
              "      <td>age_10</td>\n",
              "      <td>young</td>\n",
              "    </tr>\n",
              "    <tr>\n",
              "      <th>19</th>\n",
              "      <td>28</td>\n",
              "      <td>age_20</td>\n",
              "      <td>middle</td>\n",
              "    </tr>\n",
              "  </tbody>\n",
              "</table>\n",
              "</div>"
            ],
            "text/plain": [
              "    age age_range age_group\n",
              "0    37    age_30    middle\n",
              "1    12    age_10     young\n",
              "2    72    age_70       old\n",
              "3     9     age_0     young\n",
              "4    75    age_70       old\n",
              "5     5     age_0     young\n",
              "6    79    age_70       old\n",
              "7    64    age_60       old\n",
              "8    16    age_10     young\n",
              "9     1     age_0     young\n",
              "10   76    age_70       old\n",
              "11   71    age_70       old\n",
              "12    6     age_0     young\n",
              "13   25    age_20    middle\n",
              "14   50    age_50    middle\n",
              "15   20    age_20    middle\n",
              "16   18    age_10     young\n",
              "17   84    age_80       old\n",
              "18   11    age_10     young\n",
              "19   28    age_20    middle"
            ]
          },
          "metadata": {
            "tags": []
          },
          "execution_count": 51
        }
      ]
    },
    {
      "cell_type": "code",
      "metadata": {
        "colab": {
          "base_uri": "https://localhost:8080/"
        },
        "id": "9HTu9Q2AC5Sp",
        "outputId": "64d3b63b-9de4-49ef-be40-458feb1f89f1"
      },
      "source": [
        "df2.info()"
      ],
      "execution_count": 52,
      "outputs": [
        {
          "output_type": "stream",
          "text": [
            "<class 'pandas.core.frame.DataFrame'>\n",
            "RangeIndex: 20 entries, 0 to 19\n",
            "Data columns (total 3 columns):\n",
            " #   Column     Non-Null Count  Dtype   \n",
            "---  ------     --------------  -----   \n",
            " 0   age        20 non-null     int64   \n",
            " 1   age_range  20 non-null     category\n",
            " 2   age_group  20 non-null     category\n",
            "dtypes: category(2), int64(1)\n",
            "memory usage: 832.0 bytes\n"
          ],
          "name": "stdout"
        }
      ]
    }
  ]
}