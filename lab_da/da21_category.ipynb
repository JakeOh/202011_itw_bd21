{
  "nbformat": 4,
  "nbformat_minor": 0,
  "metadata": {
    "colab": {
      "name": "da21_category.ipynb",
      "provenance": [],
      "collapsed_sections": [],
      "authorship_tag": "ABX9TyOhPxtJEFs+zQFGkkj0t0q6",
      "include_colab_link": true
    },
    "kernelspec": {
      "name": "python3",
      "display_name": "Python 3"
    }
  },
  "cells": [
    {
      "cell_type": "markdown",
      "metadata": {
        "id": "view-in-github",
        "colab_type": "text"
      },
      "source": [
        "<a href=\"https://colab.research.google.com/github/JakeOh/202011_itw_bd21/blob/main/lab_da/da21_category.ipynb\" target=\"_parent\"><img src=\"https://colab.research.google.com/assets/colab-badge.svg\" alt=\"Open In Colab\"/></a>"
      ]
    },
    {
      "cell_type": "markdown",
      "metadata": {
        "id": "rbTWIqeNsLPP"
      },
      "source": [
        "# 카테고리 타입 데이터(Categorical Data)"
      ]
    },
    {
      "cell_type": "code",
      "metadata": {
        "id": "jL1EMlY8r_4I"
      },
      "source": [
        "import numpy as np\r\n",
        "import pandas as pd"
      ],
      "execution_count": 1,
      "outputs": []
    },
    {
      "cell_type": "code",
      "metadata": {
        "colab": {
          "base_uri": "https://localhost:8080/"
        },
        "id": "bXNX_YMHs1te",
        "outputId": "ac3b4bd2-627e-43f5-ca99-a79d4168435f"
      },
      "source": [
        "gender = pd.Series(['M', 'F', 'F', 'M', 'F'])\r\n",
        "gender\r\n",
        "#> dtype: object - Series가 저장하고 있는 데이터들의 타입은 문자열"
      ],
      "execution_count": 2,
      "outputs": [
        {
          "output_type": "execute_result",
          "data": {
            "text/plain": [
              "0    M\n",
              "1    F\n",
              "2    F\n",
              "3    M\n",
              "4    F\n",
              "dtype: object"
            ]
          },
          "metadata": {
            "tags": []
          },
          "execution_count": 2
        }
      ]
    },
    {
      "cell_type": "code",
      "metadata": {
        "colab": {
          "base_uri": "https://localhost:8080/"
        },
        "id": "IHzg5fX3tDSF",
        "outputId": "47a525af-3df1-4daf-f0f8-f35287e3e803"
      },
      "source": [
        "# astype(newType) 메서드: 데이터 타입을 newType 타입으로 변환한 새로운 시리즈를 리턴.\r\n",
        "gender2 = gender.astype('category')\r\n",
        "gender2"
      ],
      "execution_count": 5,
      "outputs": [
        {
          "output_type": "execute_result",
          "data": {
            "text/plain": [
              "0    M\n",
              "1    F\n",
              "2    F\n",
              "3    M\n",
              "4    F\n",
              "dtype: category\n",
              "Categories (2, object): ['F', 'M']"
            ]
          },
          "metadata": {
            "tags": []
          },
          "execution_count": 5
        }
      ]
    },
    {
      "cell_type": "code",
      "metadata": {
        "colab": {
          "base_uri": "https://localhost:8080/"
        },
        "id": "lLrW4Y1Huc8f",
        "outputId": "f1f663cc-9998-4df2-9cc0-02b885cf6044"
      },
      "source": [
        "gender"
      ],
      "execution_count": 6,
      "outputs": [
        {
          "output_type": "execute_result",
          "data": {
            "text/plain": [
              "0    M\n",
              "1    F\n",
              "2    F\n",
              "3    M\n",
              "4    F\n",
              "dtype: object"
            ]
          },
          "metadata": {
            "tags": []
          },
          "execution_count": 6
        }
      ]
    },
    {
      "cell_type": "code",
      "metadata": {
        "colab": {
          "base_uri": "https://localhost:8080/"
        },
        "id": "gAh_hZtcvty5",
        "outputId": "7535d49f-8898-4ed9-df75-e170be80e31b"
      },
      "source": [
        "age = pd.Series([1, 18, 25, 35, 18, 18, 25, 25, 35])\r\n",
        "age\r\n",
        "#> dtype: int64 - 정수 타입을 저장하고 있는 시리즈"
      ],
      "execution_count": 7,
      "outputs": [
        {
          "output_type": "execute_result",
          "data": {
            "text/plain": [
              "0     1\n",
              "1    18\n",
              "2    25\n",
              "3    35\n",
              "4    18\n",
              "5    18\n",
              "6    25\n",
              "7    25\n",
              "8    35\n",
              "dtype: int64"
            ]
          },
          "metadata": {
            "tags": []
          },
          "execution_count": 7
        }
      ]
    },
    {
      "cell_type": "code",
      "metadata": {
        "colab": {
          "base_uri": "https://localhost:8080/"
        },
        "id": "Q_SA4T49wTVj",
        "outputId": "0e838b38-938f-4d02-a9ec-7c3bc440ebdb"
      },
      "source": [
        "age2 = age.astype('category')\r\n",
        "age2"
      ],
      "execution_count": 8,
      "outputs": [
        {
          "output_type": "execute_result",
          "data": {
            "text/plain": [
              "0     1\n",
              "1    18\n",
              "2    25\n",
              "3    35\n",
              "4    18\n",
              "5    18\n",
              "6    25\n",
              "7    25\n",
              "8    35\n",
              "dtype: category\n",
              "Categories (4, int64): [1, 18, 25, 35]"
            ]
          },
          "metadata": {
            "tags": []
          },
          "execution_count": 8
        }
      ]
    },
    {
      "cell_type": "code",
      "metadata": {
        "colab": {
          "base_uri": "https://localhost:8080/"
        },
        "id": "R_WAuGE-wZOg",
        "outputId": "62aae253-e941-4c44-e2f0-15d5fc37e777"
      },
      "source": [
        "# 시리즈를 생성할 때 category 타입으로 생성\r\n",
        "s = pd.Series(data=['a', 'b', 'a', 'a'], dtype='category')\r\n",
        "s"
      ],
      "execution_count": 10,
      "outputs": [
        {
          "output_type": "execute_result",
          "data": {
            "text/plain": [
              "0    a\n",
              "1    b\n",
              "2    a\n",
              "3    a\n",
              "dtype: category\n",
              "Categories (2, object): ['a', 'b']"
            ]
          },
          "metadata": {
            "tags": []
          },
          "execution_count": 10
        }
      ]
    },
    {
      "cell_type": "code",
      "metadata": {
        "colab": {
          "base_uri": "https://localhost:8080/",
          "height": 247
        },
        "id": "gdfzgFJOyXzY",
        "outputId": "e0ba81bd-31b4-47b5-837e-ea2ad186a4bf"
      },
      "source": [
        "np.random.seed(1)\r\n",
        "\r\n",
        "df = pd.DataFrame({'fruit': ['apple', 'banana', 'apple'] * 2,\r\n",
        "                   'count': np.random.randint(5, 15, 6),\r\n",
        "                   'weight': np.random.uniform(1.0, 5.0, 6)})\r\n",
        "df"
      ],
      "execution_count": 11,
      "outputs": [
        {
          "output_type": "execute_result",
          "data": {
            "text/html": [
              "<div>\n",
              "<style scoped>\n",
              "    .dataframe tbody tr th:only-of-type {\n",
              "        vertical-align: middle;\n",
              "    }\n",
              "\n",
              "    .dataframe tbody tr th {\n",
              "        vertical-align: top;\n",
              "    }\n",
              "\n",
              "    .dataframe thead th {\n",
              "        text-align: right;\n",
              "    }\n",
              "</style>\n",
              "<table border=\"1\" class=\"dataframe\">\n",
              "  <thead>\n",
              "    <tr style=\"text-align: right;\">\n",
              "      <th></th>\n",
              "      <th>fruit</th>\n",
              "      <th>count</th>\n",
              "      <th>weight</th>\n",
              "    </tr>\n",
              "  </thead>\n",
              "  <tbody>\n",
              "    <tr>\n",
              "      <th>0</th>\n",
              "      <td>apple</td>\n",
              "      <td>10</td>\n",
              "      <td>2.586323</td>\n",
              "    </tr>\n",
              "    <tr>\n",
              "      <th>1</th>\n",
              "      <td>banana</td>\n",
              "      <td>13</td>\n",
              "      <td>2.551643</td>\n",
              "    </tr>\n",
              "    <tr>\n",
              "      <th>2</th>\n",
              "      <td>apple</td>\n",
              "      <td>14</td>\n",
              "      <td>3.678984</td>\n",
              "    </tr>\n",
              "    <tr>\n",
              "      <th>3</th>\n",
              "      <td>apple</td>\n",
              "      <td>10</td>\n",
              "      <td>4.742156</td>\n",
              "    </tr>\n",
              "    <tr>\n",
              "      <th>4</th>\n",
              "      <td>banana</td>\n",
              "      <td>5</td>\n",
              "      <td>4.385244</td>\n",
              "    </tr>\n",
              "    <tr>\n",
              "      <th>5</th>\n",
              "      <td>apple</td>\n",
              "      <td>5</td>\n",
              "      <td>2.253094</td>\n",
              "    </tr>\n",
              "  </tbody>\n",
              "</table>\n",
              "</div>"
            ],
            "text/plain": [
              "    fruit  count    weight\n",
              "0   apple     10  2.586323\n",
              "1  banana     13  2.551643\n",
              "2   apple     14  3.678984\n",
              "3   apple     10  4.742156\n",
              "4  banana      5  4.385244\n",
              "5   apple      5  2.253094"
            ]
          },
          "metadata": {
            "tags": []
          },
          "execution_count": 11
        }
      ]
    },
    {
      "cell_type": "code",
      "metadata": {
        "colab": {
          "base_uri": "https://localhost:8080/"
        },
        "id": "qxx1GLIezVOo",
        "outputId": "bf11d40d-d8fa-46b3-bdf3-b086fa9d57fa"
      },
      "source": [
        "df.info()"
      ],
      "execution_count": 12,
      "outputs": [
        {
          "output_type": "stream",
          "text": [
            "<class 'pandas.core.frame.DataFrame'>\n",
            "RangeIndex: 6 entries, 0 to 5\n",
            "Data columns (total 3 columns):\n",
            " #   Column  Non-Null Count  Dtype  \n",
            "---  ------  --------------  -----  \n",
            " 0   fruit   6 non-null      object \n",
            " 1   count   6 non-null      int64  \n",
            " 2   weight  6 non-null      float64\n",
            "dtypes: float64(1), int64(1), object(1)\n",
            "memory usage: 272.0+ bytes\n"
          ],
          "name": "stdout"
        }
      ]
    },
    {
      "cell_type": "code",
      "metadata": {
        "id": "x4NjkYlY0Ecg"
      },
      "source": [
        "df['fruit'] = df['fruit'].astype('category')"
      ],
      "execution_count": 19,
      "outputs": []
    },
    {
      "cell_type": "code",
      "metadata": {
        "colab": {
          "base_uri": "https://localhost:8080/"
        },
        "id": "DeCBERg00QnX",
        "outputId": "aa1faffb-6096-40a0-da2f-e054b5853b54"
      },
      "source": [
        "df.info()"
      ],
      "execution_count": 20,
      "outputs": [
        {
          "output_type": "stream",
          "text": [
            "<class 'pandas.core.frame.DataFrame'>\n",
            "RangeIndex: 6 entries, 0 to 5\n",
            "Data columns (total 3 columns):\n",
            " #   Column  Non-Null Count  Dtype   \n",
            "---  ------  --------------  -----   \n",
            " 0   fruit   6 non-null      category\n",
            " 1   count   6 non-null      int64   \n",
            " 2   weight  6 non-null      float64 \n",
            "dtypes: category(1), float64(1), int64(1)\n",
            "memory usage: 326.0 bytes\n"
          ],
          "name": "stdout"
        }
      ]
    }
  ]
}