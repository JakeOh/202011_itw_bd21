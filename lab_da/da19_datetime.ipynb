{
  "nbformat": 4,
  "nbformat_minor": 0,
  "metadata": {
    "colab": {
      "name": "da19_datetime.ipynb",
      "provenance": [],
      "collapsed_sections": [],
      "authorship_tag": "ABX9TyOZOrlI3zWjr7N24Pmt6V4C",
      "include_colab_link": true
    },
    "kernelspec": {
      "name": "python3",
      "display_name": "Python 3"
    }
  },
  "cells": [
    {
      "cell_type": "markdown",
      "metadata": {
        "id": "view-in-github",
        "colab_type": "text"
      },
      "source": [
        "<a href=\"https://colab.research.google.com/github/JakeOh/202011_itw_bd21/blob/main/lab_da/da19_datetime.ipynb\" target=\"_parent\"><img src=\"https://colab.research.google.com/assets/colab-badge.svg\" alt=\"Open In Colab\"/></a>"
      ]
    },
    {
      "cell_type": "markdown",
      "metadata": {
        "id": "kJFRT68pQIAo"
      },
      "source": [
        "*   Python의 datetime 모듈\r\n",
        "    *   datetime 클래스: 날짜(date), 시간(time)과 관련된 정보들을 저장, 표현할 수 있는 메서드를 포함.\r\n",
        "    *   https://docs.python.org/3/library/datetime.html?highlight=datetime#module-datetime 참고"
      ]
    },
    {
      "cell_type": "code",
      "metadata": {
        "id": "ug3xzt9vPyo2"
      },
      "source": [
        "import datetime  # datetime 모듈을 import"
      ],
      "execution_count": 1,
      "outputs": []
    },
    {
      "cell_type": "code",
      "metadata": {
        "colab": {
          "base_uri": "https://localhost:8080/"
        },
        "id": "CEswTTtnR9NZ",
        "outputId": "8e9214a8-bac9-4588-a272-f59f2bed72f1"
      },
      "source": [
        "datetime.datetime.now()\r\n",
        "# datetime 모듈의 datetime 클래스의 now 메서드 호출"
      ],
      "execution_count": 2,
      "outputs": [
        {
          "output_type": "execute_result",
          "data": {
            "text/plain": [
              "datetime.datetime(2021, 3, 2, 4, 53, 3, 366816)"
            ]
          },
          "metadata": {
            "tags": []
          },
          "execution_count": 2
        }
      ]
    },
    {
      "cell_type": "code",
      "metadata": {
        "id": "aIccQIWeSlpv"
      },
      "source": [
        "from datetime import datetime  # datetime 모듈에서 작성된 datetime 클래스를 import"
      ],
      "execution_count": 3,
      "outputs": []
    },
    {
      "cell_type": "code",
      "metadata": {
        "colab": {
          "base_uri": "https://localhost:8080/"
        },
        "id": "nyYdZ_onSxTg",
        "outputId": "f2991c07-4d06-4f5d-feab-02d5f9922dd7"
      },
      "source": [
        "datetime.now()  # datetime 클래스의 now 메서드 호출"
      ],
      "execution_count": 4,
      "outputs": [
        {
          "output_type": "execute_result",
          "data": {
            "text/plain": [
              "datetime.datetime(2021, 3, 2, 4, 56, 32, 307108)"
            ]
          },
          "metadata": {
            "tags": []
          },
          "execution_count": 4
        }
      ]
    },
    {
      "cell_type": "markdown",
      "metadata": {
        "id": "L-fsbGLHTc0I"
      },
      "source": [
        "*   datetime 클래스의 메서드"
      ]
    },
    {
      "cell_type": "code",
      "metadata": {
        "colab": {
          "base_uri": "https://localhost:8080/"
        },
        "id": "l0oZxoLVTiHG",
        "outputId": "89c903f4-db14-4ecf-c62f-bc3ff3d766db"
      },
      "source": [
        "# datetime.now(): OS(운영체제)의 시간대에서의 현재 시간을 리턴.\r\n",
        "now = datetime.now()  #> Google Colab 가상 머신에서 설정된 시간대(UTC)의 현재 시간\r\n",
        "print(now)"
      ],
      "execution_count": 7,
      "outputs": [
        {
          "output_type": "stream",
          "text": [
            "2021-03-02 05:01:38.132302\n"
          ],
          "name": "stdout"
        }
      ]
    },
    {
      "cell_type": "markdown",
      "metadata": {
        "id": "E0YlY6ADURbv"
      },
      "source": [
        "*   UTC(Coordinates Universal Timezone): 그리니치 천문대 시간\r\n",
        "*   KST(Korean Standard Timezone): 한국 표준시(UTC+09:00)"
      ]
    },
    {
      "cell_type": "code",
      "metadata": {
        "colab": {
          "base_uri": "https://localhost:8080/"
        },
        "id": "0cQ7VaxcU2WO",
        "outputId": "1e929be9-9f29-4679-dcd6-50cedb85d39f"
      },
      "source": [
        "type(now)  #> datetime 모듈의 datetiem 클래스 객체(object)"
      ],
      "execution_count": 8,
      "outputs": [
        {
          "output_type": "execute_result",
          "data": {
            "text/plain": [
              "datetime.datetime"
            ]
          },
          "metadata": {
            "tags": []
          },
          "execution_count": 8
        }
      ]
    },
    {
      "cell_type": "code",
      "metadata": {
        "colab": {
          "base_uri": "https://localhost:8080/"
        },
        "id": "zRkxGNQrVK-C",
        "outputId": "ae62d28e-83f3-4dec-fa5a-346c3ec5c887"
      },
      "source": [
        "# datetime.datetime 객체의 속성들(properties)\r\n",
        "print(now.year)\r\n",
        "print(now.month)\r\n",
        "print(now.day)"
      ],
      "execution_count": 9,
      "outputs": [
        {
          "output_type": "stream",
          "text": [
            "2021\n",
            "3\n",
            "2\n"
          ],
          "name": "stdout"
        }
      ]
    },
    {
      "cell_type": "code",
      "metadata": {
        "colab": {
          "base_uri": "https://localhost:8080/"
        },
        "id": "tVHygRwKVwkB",
        "outputId": "70e295c7-b0d6-4823-f417-04aa9b76428b"
      },
      "source": [
        "print(f'{now.hour}:{now.minute}:{now.second}')"
      ],
      "execution_count": 10,
      "outputs": [
        {
          "output_type": "stream",
          "text": [
            "5:1:38\n"
          ],
          "name": "stdout"
        }
      ]
    },
    {
      "cell_type": "code",
      "metadata": {
        "colab": {
          "base_uri": "https://localhost:8080/"
        },
        "id": "seh7gZT0WCvg",
        "outputId": "4e998d06-d71e-4457-aa7b-65a4ee63eeb1"
      },
      "source": [
        "# datetime 생성자 함수(constructor): 특정 날짜/시간으로 datetime 객체를 생성\r\n",
        "yesterday = datetime(2021, 3, 1)\r\n",
        "print(yesterday)"
      ],
      "execution_count": 12,
      "outputs": [
        {
          "output_type": "stream",
          "text": [
            "2021-03-01 00:00:00\n"
          ],
          "name": "stdout"
        }
      ]
    },
    {
      "cell_type": "code",
      "metadata": {
        "colab": {
          "base_uri": "https://localhost:8080/"
        },
        "id": "F6XspmE9WcJT",
        "outputId": "8efb91e6-b628-40bf-8c41-50176f2e4163"
      },
      "source": [
        "tomorrow = datetime(2021, 3, 3, 14, 13)\r\n",
        "print(tomorrow)"
      ],
      "execution_count": 13,
      "outputs": [
        {
          "output_type": "stream",
          "text": [
            "2021-03-03 14:13:00\n"
          ],
          "name": "stdout"
        }
      ]
    },
    {
      "cell_type": "code",
      "metadata": {
        "colab": {
          "base_uri": "https://localhost:8080/"
        },
        "id": "nuZR7RsWW9cg",
        "outputId": "30a5dd27-680d-4b49-c83c-162e43396318"
      },
      "source": [
        "# 두 날짜 사이의 차(difference)\r\n",
        "print(tomorrow - yesterday)"
      ],
      "execution_count": 15,
      "outputs": [
        {
          "output_type": "stream",
          "text": [
            "2 days, 14:13:00\n"
          ],
          "name": "stdout"
        }
      ]
    },
    {
      "cell_type": "code",
      "metadata": {
        "id": "7Ljfxe0jcE9h"
      },
      "source": [
        "from datetime import timedelta  # datetime 모듈의 timedelta 클래스를 import"
      ],
      "execution_count": 18,
      "outputs": []
    },
    {
      "cell_type": "code",
      "metadata": {
        "colab": {
          "base_uri": "https://localhost:8080/"
        },
        "id": "eA21OpIPcNBY",
        "outputId": "6fff24d9-34ec-43c4-a3f6-81de15e8d541"
      },
      "source": [
        "current_time = datetime.now()\r\n",
        "print(current_time)"
      ],
      "execution_count": 19,
      "outputs": [
        {
          "output_type": "stream",
          "text": [
            "2021-03-02 05:38:35.626358\n"
          ],
          "name": "stdout"
        }
      ]
    },
    {
      "cell_type": "code",
      "metadata": {
        "colab": {
          "base_uri": "https://localhost:8080/"
        },
        "id": "As9Cv7c9cg8Z",
        "outputId": "30b8e185-d97f-4da6-8584-71db11966934"
      },
      "source": [
        "one_week = timedelta(weeks=1)  # (1주일) 시간간격(timedelta) 객체 생성\r\n",
        "print(current_time - one_week)\r\n",
        "print(current_time + one_week)"
      ],
      "execution_count": 21,
      "outputs": [
        {
          "output_type": "stream",
          "text": [
            "2021-02-23 05:38:35.626358\n",
            "2021-03-09 05:38:35.626358\n"
          ],
          "name": "stdout"
        }
      ]
    },
    {
      "cell_type": "code",
      "metadata": {
        "colab": {
          "base_uri": "https://localhost:8080/"
        },
        "id": "ifZYSa2ZdOsR",
        "outputId": "b0fc1be6-886e-4a9c-a0e9-96961f91f066"
      },
      "source": [
        "one_day = timedelta(days=1)\r\n",
        "print(current_time - one_day)\r\n",
        "print(current_time + one_day)"
      ],
      "execution_count": 22,
      "outputs": [
        {
          "output_type": "stream",
          "text": [
            "2021-03-01 05:38:35.626358\n",
            "2021-03-03 05:38:35.626358\n"
          ],
          "name": "stdout"
        }
      ]
    },
    {
      "cell_type": "markdown",
      "metadata": {
        "id": "FNIDwdD4XzzY"
      },
      "source": [
        "*   datetime(날짜/시간) 객체 <---> str(문자열) 객체\r\n",
        "    *   `datetime.strptime(문자열, 포맷문자열)`: 문자열(str)을 datetime 객체로 변환(parsing)\r\n",
        "    *   `datetime.strftime(포맷문자열)`: datetime 객체를 문자열로 변환(formatting)\r\n"
      ]
    },
    {
      "cell_type": "code",
      "metadata": {
        "colab": {
          "base_uri": "https://localhost:8080/"
        },
        "id": "hsBBw6moeFBq",
        "outputId": "9acfc58a-2869-4ee7-ee16-93a80ce336df"
      },
      "source": [
        "current_time = datetime.now()  # 현재 날짜/시간 정보를 저장하고 있는 datetime 객체 생성\r\n",
        "print(current_time)\r\n",
        "print(current_time.strftime('%Y/%m/%d'))  # datetime ---> str\r\n",
        "print(current_time.strftime('%Y-%m-%d'))"
      ],
      "execution_count": 24,
      "outputs": [
        {
          "output_type": "stream",
          "text": [
            "2021-03-02 05:48:10.259939\n",
            "2021/03/02\n",
            "2021-03-02\n"
          ],
          "name": "stdout"
        }
      ]
    },
    {
      "cell_type": "markdown",
      "metadata": {
        "id": "3_RMvy9mfOic"
      },
      "source": [
        "*   날짜 포맷 문자열\r\n",
        "    *   연도(year): %Y(4자리 연도),  %y(2자리 연도)\r\n",
        "    *   월(month): %m(2자리 숫자), %B(월 이름), %b(월 이름 약자)\r\n",
        "    *   일(day): %d(2자리 숫자)\r\n",
        "    *   시(hour): %H(24시간 형식. 0 ~ 23), %I(12시간 형식. 1 ~ 12)\r\n",
        "    *   분(minute): %M(2자리 숫자. 0 ~ 59)\r\n",
        "    *   초(second): %S(2자리 숫자. 0 ~ 59)"
      ]
    },
    {
      "cell_type": "code",
      "metadata": {
        "colab": {
          "base_uri": "https://localhost:8080/"
        },
        "id": "RFG8dGMUglfD",
        "outputId": "c06a9cd1-f8dd-48d9-b859-8765ea5ac80d"
      },
      "source": [
        "print(current_time.strftime('%b. %d, %y'))\r\n",
        "print(current_time.strftime('%B %d, %Y'))"
      ],
      "execution_count": 26,
      "outputs": [
        {
          "output_type": "stream",
          "text": [
            "Mar. 02, 21\n",
            "March 02, 2021\n"
          ],
          "name": "stdout"
        }
      ]
    },
    {
      "cell_type": "code",
      "metadata": {
        "colab": {
          "base_uri": "https://localhost:8080/"
        },
        "id": "dWXodz16hNmN",
        "outputId": "7940365d-4358-4d8a-ceb0-dd298b9ebbe7"
      },
      "source": [
        "current_time = datetime(2021, 3, 2, 15, 1, 30)\r\n",
        "print(current_time.strftime('%H:%M:%S'))\r\n",
        "print(current_time.strftime('%I:%M:%S %p'))"
      ],
      "execution_count": 29,
      "outputs": [
        {
          "output_type": "stream",
          "text": [
            "15:01:30\n",
            "03:01:30 PM\n"
          ],
          "name": "stdout"
        }
      ]
    },
    {
      "cell_type": "code",
      "metadata": {
        "colab": {
          "base_uri": "https://localhost:8080/"
        },
        "id": "02Ckt59DiE4x",
        "outputId": "a321be69-ddf7-440d-ccda-d6e7f4c75dc4"
      },
      "source": [
        "# str ---> datetime\r\n",
        "print(datetime.strptime('2021-3-2', '%Y-%m-%d'))\r\n",
        "print(datetime.strptime('21-03-02', '%y-%m-%d'))\r\n",
        "print(datetime.strptime('21-03-02', '%d-%m-%y'))"
      ],
      "execution_count": 33,
      "outputs": [
        {
          "output_type": "stream",
          "text": [
            "2021-03-02 00:00:00\n",
            "2021-03-02 00:00:00\n",
            "2002-03-21 00:00:00\n"
          ],
          "name": "stdout"
        }
      ]
    },
    {
      "cell_type": "markdown",
      "metadata": {
        "id": "WvXUkx7akG98"
      },
      "source": [
        "*   timestamp(UNIX time, POSIX time, epoch time, ...): 1970년 1월 1일 0시 0분 0초를 시작으로 해서 1초마다 1씩 증가하는 숫자.\r\n",
        "*   `datetime.timestamp()`: datetime 객체 ---> timestamp(숫자)\r\n",
        "*   `datetime.fromtimestamp(숫자)`: timestamp(숫자) ---> datetime 객체\r\n"
      ]
    },
    {
      "cell_type": "code",
      "metadata": {
        "colab": {
          "base_uri": "https://localhost:8080/"
        },
        "id": "wpYodVZ_leFb",
        "outputId": "f927272d-6300-4a65-d939-7cdc68c089bb"
      },
      "source": [
        "current_time = datetime.now()\r\n",
        "print(current_time)\r\n",
        "print(current_time.timestamp())  # datetime ---> 숫자"
      ],
      "execution_count": 35,
      "outputs": [
        {
          "output_type": "stream",
          "text": [
            "2021-03-02 06:18:20.242223\n",
            "1614665900.242223\n"
          ],
          "name": "stdout"
        }
      ]
    },
    {
      "cell_type": "code",
      "metadata": {
        "colab": {
          "base_uri": "https://localhost:8080/"
        },
        "id": "ejm-bhRclu9K",
        "outputId": "7d2857f9-c538-45b9-a095-5894ad06d50a"
      },
      "source": [
        "print(datetime.fromtimestamp(1614665900))  # 숫자 ---> datetime"
      ],
      "execution_count": 37,
      "outputs": [
        {
          "output_type": "stream",
          "text": [
            "2021-03-02 06:18:20\n"
          ],
          "name": "stdout"
        }
      ]
    }
  ]
}