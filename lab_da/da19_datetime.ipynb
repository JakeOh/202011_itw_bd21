{
  "nbformat": 4,
  "nbformat_minor": 0,
  "metadata": {
    "colab": {
      "name": "da19_datetime.ipynb",
      "provenance": [],
      "collapsed_sections": [],
      "authorship_tag": "ABX9TyM/Y/bY49U4QWbi3RZoRR9Z",
      "include_colab_link": true
    },
    "kernelspec": {
      "name": "python3",
      "display_name": "Python 3"
    }
  },
  "cells": [
    {
      "cell_type": "markdown",
      "metadata": {
        "id": "view-in-github",
        "colab_type": "text"
      },
      "source": [
        "<a href=\"https://colab.research.google.com/github/JakeOh/202011_itw_bd21/blob/main/lab_da/da19_datetime.ipynb\" target=\"_parent\"><img src=\"https://colab.research.google.com/assets/colab-badge.svg\" alt=\"Open In Colab\"/></a>"
      ]
    },
    {
      "cell_type": "markdown",
      "metadata": {
        "id": "kJFRT68pQIAo"
      },
      "source": [
        "*   Python의 datetime 모듈\r\n",
        "    *   datetime 클래스: 날짜(date), 시간(time)과 관련된 정보들을 저장, 표현할 수 있는 메서드를 포함.\r\n",
        "    *   https://docs.python.org/3/library/datetime.html?highlight=datetime#module-datetime 참고"
      ]
    },
    {
      "cell_type": "code",
      "metadata": {
        "id": "ug3xzt9vPyo2"
      },
      "source": [
        "import datetime  # datetime 모듈을 import"
      ],
      "execution_count": 1,
      "outputs": []
    },
    {
      "cell_type": "code",
      "metadata": {
        "colab": {
          "base_uri": "https://localhost:8080/"
        },
        "id": "CEswTTtnR9NZ",
        "outputId": "8e9214a8-bac9-4588-a272-f59f2bed72f1"
      },
      "source": [
        "datetime.datetime.now()\r\n",
        "# datetime 모듈의 datetime 클래스의 now 메서드 호출"
      ],
      "execution_count": 2,
      "outputs": [
        {
          "output_type": "execute_result",
          "data": {
            "text/plain": [
              "datetime.datetime(2021, 3, 2, 4, 53, 3, 366816)"
            ]
          },
          "metadata": {
            "tags": []
          },
          "execution_count": 2
        }
      ]
    },
    {
      "cell_type": "code",
      "metadata": {
        "id": "aIccQIWeSlpv"
      },
      "source": [
        "from datetime import datetime  # datetime 모듈에서 작성된 datetime 클래스를 import"
      ],
      "execution_count": 3,
      "outputs": []
    },
    {
      "cell_type": "code",
      "metadata": {
        "colab": {
          "base_uri": "https://localhost:8080/"
        },
        "id": "nyYdZ_onSxTg",
        "outputId": "f2991c07-4d06-4f5d-feab-02d5f9922dd7"
      },
      "source": [
        "datetime.now()  # datetime 클래스의 now 메서드 호출"
      ],
      "execution_count": 4,
      "outputs": [
        {
          "output_type": "execute_result",
          "data": {
            "text/plain": [
              "datetime.datetime(2021, 3, 2, 4, 56, 32, 307108)"
            ]
          },
          "metadata": {
            "tags": []
          },
          "execution_count": 4
        }
      ]
    },
    {
      "cell_type": "markdown",
      "metadata": {
        "id": "L-fsbGLHTc0I"
      },
      "source": [
        "*   datetime 클래스의 메서드"
      ]
    },
    {
      "cell_type": "code",
      "metadata": {
        "colab": {
          "base_uri": "https://localhost:8080/"
        },
        "id": "l0oZxoLVTiHG",
        "outputId": "89c903f4-db14-4ecf-c62f-bc3ff3d766db"
      },
      "source": [
        "# datetime.now(): OS(운영체제)의 시간대에서의 현재 시간을 리턴.\r\n",
        "now = datetime.now()  #> Google Colab 가상 머신에서 설정된 시간대(UTC)의 현재 시간\r\n",
        "print(now)"
      ],
      "execution_count": 7,
      "outputs": [
        {
          "output_type": "stream",
          "text": [
            "2021-03-02 05:01:38.132302\n"
          ],
          "name": "stdout"
        }
      ]
    },
    {
      "cell_type": "markdown",
      "metadata": {
        "id": "E0YlY6ADURbv"
      },
      "source": [
        "*   UTC(Coordinates Universal Timezone): 그리니치 천문대 시간\r\n",
        "*   KST(Korean Standard Timezone): 한국 표준시(UTC+09:00)"
      ]
    },
    {
      "cell_type": "code",
      "metadata": {
        "colab": {
          "base_uri": "https://localhost:8080/"
        },
        "id": "0cQ7VaxcU2WO",
        "outputId": "1e929be9-9f29-4679-dcd6-50cedb85d39f"
      },
      "source": [
        "type(now)  #> datetime 모듈의 datetiem 클래스 객체(object)"
      ],
      "execution_count": 8,
      "outputs": [
        {
          "output_type": "execute_result",
          "data": {
            "text/plain": [
              "datetime.datetime"
            ]
          },
          "metadata": {
            "tags": []
          },
          "execution_count": 8
        }
      ]
    },
    {
      "cell_type": "code",
      "metadata": {
        "colab": {
          "base_uri": "https://localhost:8080/"
        },
        "id": "zRkxGNQrVK-C",
        "outputId": "ae62d28e-83f3-4dec-fa5a-346c3ec5c887"
      },
      "source": [
        "# datetime.datetime 객체의 속성들(properties)\r\n",
        "print(now.year)\r\n",
        "print(now.month)\r\n",
        "print(now.day)"
      ],
      "execution_count": 9,
      "outputs": [
        {
          "output_type": "stream",
          "text": [
            "2021\n",
            "3\n",
            "2\n"
          ],
          "name": "stdout"
        }
      ]
    },
    {
      "cell_type": "code",
      "metadata": {
        "colab": {
          "base_uri": "https://localhost:8080/"
        },
        "id": "tVHygRwKVwkB",
        "outputId": "70e295c7-b0d6-4823-f417-04aa9b76428b"
      },
      "source": [
        "print(f'{now.hour}:{now.minute}:{now.second}')"
      ],
      "execution_count": 10,
      "outputs": [
        {
          "output_type": "stream",
          "text": [
            "5:1:38\n"
          ],
          "name": "stdout"
        }
      ]
    },
    {
      "cell_type": "code",
      "metadata": {
        "colab": {
          "base_uri": "https://localhost:8080/"
        },
        "id": "seh7gZT0WCvg",
        "outputId": "4e998d06-d71e-4457-aa7b-65a4ee63eeb1"
      },
      "source": [
        "# datetime 생성자 함수(constructor): 특정 날짜/시간으로 datetime 객체를 생성\r\n",
        "yesterday = datetime(2021, 3, 1)\r\n",
        "print(yesterday)"
      ],
      "execution_count": 12,
      "outputs": [
        {
          "output_type": "stream",
          "text": [
            "2021-03-01 00:00:00\n"
          ],
          "name": "stdout"
        }
      ]
    },
    {
      "cell_type": "code",
      "metadata": {
        "colab": {
          "base_uri": "https://localhost:8080/"
        },
        "id": "F6XspmE9WcJT",
        "outputId": "8efb91e6-b628-40bf-8c41-50176f2e4163"
      },
      "source": [
        "tomorrow = datetime(2021, 3, 3, 14, 13)\r\n",
        "print(tomorrow)"
      ],
      "execution_count": 13,
      "outputs": [
        {
          "output_type": "stream",
          "text": [
            "2021-03-03 14:13:00\n"
          ],
          "name": "stdout"
        }
      ]
    },
    {
      "cell_type": "code",
      "metadata": {
        "colab": {
          "base_uri": "https://localhost:8080/"
        },
        "id": "nuZR7RsWW9cg",
        "outputId": "30a5dd27-680d-4b49-c83c-162e43396318"
      },
      "source": [
        "# 두 날짜 사이의 차(difference)\r\n",
        "print(tomorrow - yesterday)"
      ],
      "execution_count": 15,
      "outputs": [
        {
          "output_type": "stream",
          "text": [
            "2 days, 14:13:00\n"
          ],
          "name": "stdout"
        }
      ]
    },
    {
      "cell_type": "markdown",
      "metadata": {
        "id": "FNIDwdD4XzzY"
      },
      "source": [
        "*   datetime(날짜/시간) 객체 <---> str(문자열) 객체\r\n",
        "    *   `datetime.strptime`\r\n",
        "    *   `datetime.strftime`"
      ]
    }
  ]
}