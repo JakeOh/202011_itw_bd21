{
  "nbformat": 4,
  "nbformat_minor": 0,
  "metadata": {
    "colab": {
      "name": "da19_datetime.ipynb",
      "provenance": [],
      "collapsed_sections": [],
      "authorship_tag": "ABX9TyNDgAfGAzhKgWK7gVSCI6iR",
      "include_colab_link": true
    },
    "kernelspec": {
      "name": "python3",
      "display_name": "Python 3"
    }
  },
  "cells": [
    {
      "cell_type": "markdown",
      "metadata": {
        "id": "view-in-github",
        "colab_type": "text"
      },
      "source": [
        "<a href=\"https://colab.research.google.com/github/JakeOh/202011_itw_bd21/blob/main/lab_da/da19_datetime.ipynb\" target=\"_parent\"><img src=\"https://colab.research.google.com/assets/colab-badge.svg\" alt=\"Open In Colab\"/></a>"
      ]
    },
    {
      "cell_type": "markdown",
      "metadata": {
        "id": "kJFRT68pQIAo"
      },
      "source": [
        "*   Python의 datetime 모듈\r\n",
        "    *   datetime 클래스: 날짜(date), 시간(time)과 관련된 정보들을 저장, 표현할 수 있는 메서드를 포함.\r\n",
        "    *   https://docs.python.org/3/library/datetime.html?highlight=datetime#module-datetime 참고"
      ]
    },
    {
      "cell_type": "code",
      "metadata": {
        "id": "ug3xzt9vPyo2"
      },
      "source": [
        "import datetime  # datetime 모듈을 import"
      ],
      "execution_count": 1,
      "outputs": []
    },
    {
      "cell_type": "code",
      "metadata": {
        "colab": {
          "base_uri": "https://localhost:8080/"
        },
        "id": "CEswTTtnR9NZ",
        "outputId": "bbf610de-0e43-4234-fcbb-96cd564af71d"
      },
      "source": [
        "datetime.datetime.now()\r\n",
        "# datetime 모듈의 datetime 클래스의 now 메서드 호출"
      ],
      "execution_count": 2,
      "outputs": [
        {
          "output_type": "execute_result",
          "data": {
            "text/plain": [
              "datetime.datetime(2021, 3, 3, 0, 41, 28, 595765)"
            ]
          },
          "metadata": {
            "tags": []
          },
          "execution_count": 2
        }
      ]
    },
    {
      "cell_type": "code",
      "metadata": {
        "id": "aIccQIWeSlpv"
      },
      "source": [
        "from datetime import datetime  # datetime 모듈에서 작성된 datetime 클래스를 import"
      ],
      "execution_count": 3,
      "outputs": []
    },
    {
      "cell_type": "code",
      "metadata": {
        "colab": {
          "base_uri": "https://localhost:8080/"
        },
        "id": "nyYdZ_onSxTg",
        "outputId": "9021ab9d-67e9-44d0-bd57-8f1831f7b781"
      },
      "source": [
        "datetime.now()  # datetime 클래스의 now 메서드 호출"
      ],
      "execution_count": 4,
      "outputs": [
        {
          "output_type": "execute_result",
          "data": {
            "text/plain": [
              "datetime.datetime(2021, 3, 3, 0, 41, 28, 621004)"
            ]
          },
          "metadata": {
            "tags": []
          },
          "execution_count": 4
        }
      ]
    },
    {
      "cell_type": "markdown",
      "metadata": {
        "id": "L-fsbGLHTc0I"
      },
      "source": [
        "*   datetime 클래스의 메서드"
      ]
    },
    {
      "cell_type": "code",
      "metadata": {
        "colab": {
          "base_uri": "https://localhost:8080/"
        },
        "id": "l0oZxoLVTiHG",
        "outputId": "e622ea98-7d13-4f96-ee31-8a0aba49aaef"
      },
      "source": [
        "# datetime.now(): OS(운영체제)의 시간대에서의 현재 시간을 리턴.\r\n",
        "now = datetime.now()  #> Google Colab 가상 머신에서 설정된 시간대(UTC)의 현재 시간\r\n",
        "print(now)"
      ],
      "execution_count": 5,
      "outputs": [
        {
          "output_type": "stream",
          "text": [
            "2021-03-03 00:41:28.641508\n"
          ],
          "name": "stdout"
        }
      ]
    },
    {
      "cell_type": "markdown",
      "metadata": {
        "id": "E0YlY6ADURbv"
      },
      "source": [
        "*   UTC(Coordinates Universal Timezone): 그리니치 천문대 시간\r\n",
        "*   KST(Korean Standard Timezone): 한국 표준시(UTC+09:00)"
      ]
    },
    {
      "cell_type": "code",
      "metadata": {
        "colab": {
          "base_uri": "https://localhost:8080/"
        },
        "id": "0cQ7VaxcU2WO",
        "outputId": "27c0f754-b282-40ce-918d-52e8bb1b1fc7"
      },
      "source": [
        "type(now)  #> datetime 모듈의 datetiem 클래스 객체(object)"
      ],
      "execution_count": 6,
      "outputs": [
        {
          "output_type": "execute_result",
          "data": {
            "text/plain": [
              "datetime.datetime"
            ]
          },
          "metadata": {
            "tags": []
          },
          "execution_count": 6
        }
      ]
    },
    {
      "cell_type": "code",
      "metadata": {
        "colab": {
          "base_uri": "https://localhost:8080/"
        },
        "id": "zRkxGNQrVK-C",
        "outputId": "cda6ed54-feed-4cb2-c7cb-a68dfb1b62e2"
      },
      "source": [
        "# datetime.datetime 객체의 속성들(properties)\r\n",
        "print(now.year)\r\n",
        "print(now.month)\r\n",
        "print(now.day)"
      ],
      "execution_count": 7,
      "outputs": [
        {
          "output_type": "stream",
          "text": [
            "2021\n",
            "3\n",
            "3\n"
          ],
          "name": "stdout"
        }
      ]
    },
    {
      "cell_type": "code",
      "metadata": {
        "colab": {
          "base_uri": "https://localhost:8080/"
        },
        "id": "tVHygRwKVwkB",
        "outputId": "13336487-43c8-4ae7-e850-f2e1f162392a"
      },
      "source": [
        "print(f'{now.hour}:{now.minute}:{now.second}')"
      ],
      "execution_count": 8,
      "outputs": [
        {
          "output_type": "stream",
          "text": [
            "0:41:28\n"
          ],
          "name": "stdout"
        }
      ]
    },
    {
      "cell_type": "code",
      "metadata": {
        "colab": {
          "base_uri": "https://localhost:8080/"
        },
        "id": "seh7gZT0WCvg",
        "outputId": "3bc4fcb5-6e99-49e9-81fd-9fbae0bc998b"
      },
      "source": [
        "# datetime 생성자 함수(constructor): 특정 날짜/시간으로 datetime 객체를 생성\r\n",
        "yesterday = datetime(2021, 3, 1)\r\n",
        "print(yesterday)"
      ],
      "execution_count": 9,
      "outputs": [
        {
          "output_type": "stream",
          "text": [
            "2021-03-01 00:00:00\n"
          ],
          "name": "stdout"
        }
      ]
    },
    {
      "cell_type": "code",
      "metadata": {
        "colab": {
          "base_uri": "https://localhost:8080/"
        },
        "id": "F6XspmE9WcJT",
        "outputId": "9ec828ad-fb47-441e-e5ec-b883e1e1ab89"
      },
      "source": [
        "tomorrow = datetime(2021, 3, 3, 14, 13)\r\n",
        "print(tomorrow)"
      ],
      "execution_count": 10,
      "outputs": [
        {
          "output_type": "stream",
          "text": [
            "2021-03-03 14:13:00\n"
          ],
          "name": "stdout"
        }
      ]
    },
    {
      "cell_type": "code",
      "metadata": {
        "colab": {
          "base_uri": "https://localhost:8080/"
        },
        "id": "nuZR7RsWW9cg",
        "outputId": "c3a916fa-36b5-4220-ab26-623597801812"
      },
      "source": [
        "# 두 날짜/시간 사이의 차(difference)\r\n",
        "print(tomorrow - yesterday)"
      ],
      "execution_count": 11,
      "outputs": [
        {
          "output_type": "stream",
          "text": [
            "2 days, 14:13:00\n"
          ],
          "name": "stdout"
        }
      ]
    },
    {
      "cell_type": "code",
      "metadata": {
        "id": "7Ljfxe0jcE9h"
      },
      "source": [
        "from datetime import timedelta  # datetime 모듈의 timedelta 클래스를 import"
      ],
      "execution_count": 12,
      "outputs": []
    },
    {
      "cell_type": "code",
      "metadata": {
        "colab": {
          "base_uri": "https://localhost:8080/"
        },
        "id": "eA21OpIPcNBY",
        "outputId": "01a801d4-3589-41e9-98bf-c4a4629295df"
      },
      "source": [
        "current_time = datetime.now()\r\n",
        "print(current_time)"
      ],
      "execution_count": 13,
      "outputs": [
        {
          "output_type": "stream",
          "text": [
            "2021-03-03 00:41:28.774347\n"
          ],
          "name": "stdout"
        }
      ]
    },
    {
      "cell_type": "code",
      "metadata": {
        "colab": {
          "base_uri": "https://localhost:8080/"
        },
        "id": "As9Cv7c9cg8Z",
        "outputId": "c6b7f3ce-4018-402c-89f3-a8df86ab55d3"
      },
      "source": [
        "one_week = timedelta(weeks=1)  # (1주일) 시간간격(timedelta) 객체 생성\r\n",
        "print(current_time - one_week)\r\n",
        "print(current_time + one_week)"
      ],
      "execution_count": 14,
      "outputs": [
        {
          "output_type": "stream",
          "text": [
            "2021-02-24 00:41:28.774347\n",
            "2021-03-10 00:41:28.774347\n"
          ],
          "name": "stdout"
        }
      ]
    },
    {
      "cell_type": "code",
      "metadata": {
        "colab": {
          "base_uri": "https://localhost:8080/"
        },
        "id": "ifZYSa2ZdOsR",
        "outputId": "c4244399-a5e6-401b-d493-88a6194a418e"
      },
      "source": [
        "one_day = timedelta(days=1)\r\n",
        "print(current_time - one_day)\r\n",
        "print(current_time + one_day)"
      ],
      "execution_count": 15,
      "outputs": [
        {
          "output_type": "stream",
          "text": [
            "2021-03-02 00:41:28.774347\n",
            "2021-03-04 00:41:28.774347\n"
          ],
          "name": "stdout"
        }
      ]
    },
    {
      "cell_type": "markdown",
      "metadata": {
        "id": "FNIDwdD4XzzY"
      },
      "source": [
        "*   datetime(날짜/시간) 객체 <---> str(문자열) 객체\r\n",
        "    *   `datetime.strptime(문자열, 포맷문자열)`: 문자열(str)을 datetime 객체로 변환(parsing)\r\n",
        "    *   `datetime.strftime(포맷문자열)`: datetime 객체를 문자열로 변환(formatting)\r\n"
      ]
    },
    {
      "cell_type": "code",
      "metadata": {
        "colab": {
          "base_uri": "https://localhost:8080/"
        },
        "id": "hsBBw6moeFBq",
        "outputId": "ddc78ad3-44ed-4eb5-a147-290a138807be"
      },
      "source": [
        "current_time = datetime.now()  # 현재 날짜/시간 정보를 저장하고 있는 datetime 객체 생성\r\n",
        "print(current_time)\r\n",
        "print(current_time.strftime('%Y/%m/%d'))  # datetime ---> str\r\n",
        "print(current_time.strftime('%Y-%m-%d'))"
      ],
      "execution_count": 16,
      "outputs": [
        {
          "output_type": "stream",
          "text": [
            "2021-03-03 00:41:28.810212\n",
            "2021/03/03\n",
            "2021-03-03\n"
          ],
          "name": "stdout"
        }
      ]
    },
    {
      "cell_type": "markdown",
      "metadata": {
        "id": "3_RMvy9mfOic"
      },
      "source": [
        "*   날짜 포맷 문자열\r\n",
        "    *   연도(year): %Y(4자리 연도),  %y(2자리 연도)\r\n",
        "    *   월(month): %m(2자리 숫자), %B(월 이름), %b(월 이름 약자)\r\n",
        "    *   일(day): %d(2자리 숫자)\r\n",
        "    *   시(hour): %H(24시간 형식. 0 ~ 23), %I(12시간 형식. 1 ~ 12)\r\n",
        "    *   분(minute): %M(2자리 숫자. 0 ~ 59)\r\n",
        "    *   초(second): %S(2자리 숫자. 0 ~ 59)"
      ]
    },
    {
      "cell_type": "code",
      "metadata": {
        "colab": {
          "base_uri": "https://localhost:8080/"
        },
        "id": "RFG8dGMUglfD",
        "outputId": "8898525f-6156-42ea-8cca-6a377beaaa32"
      },
      "source": [
        "print(current_time.strftime('%b. %d, %y'))\r\n",
        "print(current_time.strftime('%B %d, %Y'))"
      ],
      "execution_count": 17,
      "outputs": [
        {
          "output_type": "stream",
          "text": [
            "Mar. 03, 21\n",
            "March 03, 2021\n"
          ],
          "name": "stdout"
        }
      ]
    },
    {
      "cell_type": "code",
      "metadata": {
        "colab": {
          "base_uri": "https://localhost:8080/"
        },
        "id": "dWXodz16hNmN",
        "outputId": "d805d0e6-eae5-474b-c585-12a849821ff6"
      },
      "source": [
        "current_time = datetime(2021, 3, 2, 15, 1, 30)\r\n",
        "print(current_time.strftime('%H:%M:%S'))\r\n",
        "print(current_time.strftime('%I:%M:%S %p'))"
      ],
      "execution_count": 18,
      "outputs": [
        {
          "output_type": "stream",
          "text": [
            "15:01:30\n",
            "03:01:30 PM\n"
          ],
          "name": "stdout"
        }
      ]
    },
    {
      "cell_type": "code",
      "metadata": {
        "colab": {
          "base_uri": "https://localhost:8080/"
        },
        "id": "02Ckt59DiE4x",
        "outputId": "16b4759b-f8d2-4127-f102-d4ae26278814"
      },
      "source": [
        "# str ---> datetime\r\n",
        "print(datetime.strptime('2021-3-2', '%Y-%m-%d'))\r\n",
        "print(datetime.strptime('21-03-02', '%y-%m-%d'))\r\n",
        "print(datetime.strptime('21-03-02', '%d-%m-%y'))"
      ],
      "execution_count": 50,
      "outputs": [
        {
          "output_type": "stream",
          "text": [
            "2021-03-02 00:00:00\n",
            "2021-03-02 00:00:00\n",
            "2002-03-21 00:00:00\n"
          ],
          "name": "stdout"
        }
      ]
    },
    {
      "cell_type": "markdown",
      "metadata": {
        "id": "WvXUkx7akG98"
      },
      "source": [
        "*   timestamp(UNIX time, POSIX time, epoch time, ...): 1970년 1월 1일 0시 0분 0초를 시작으로 해서 1초마다 1씩 증가하는 숫자.\r\n",
        "*   `datetime.timestamp()`: datetime 객체 ---> timestamp(숫자)\r\n",
        "*   `datetime.fromtimestamp(숫자)`: timestamp(숫자) ---> datetime 객체\r\n"
      ]
    },
    {
      "cell_type": "code",
      "metadata": {
        "colab": {
          "base_uri": "https://localhost:8080/"
        },
        "id": "wpYodVZ_leFb",
        "outputId": "afb80292-88b0-46e9-d553-371a0dcf79e8"
      },
      "source": [
        "current_time = datetime.now()\r\n",
        "print(current_time)\r\n",
        "print(current_time.timestamp())  # datetime ---> 숫자"
      ],
      "execution_count": 20,
      "outputs": [
        {
          "output_type": "stream",
          "text": [
            "2021-03-03 00:41:28.862448\n",
            "1614732088.862448\n"
          ],
          "name": "stdout"
        }
      ]
    },
    {
      "cell_type": "code",
      "metadata": {
        "colab": {
          "base_uri": "https://localhost:8080/"
        },
        "id": "ejm-bhRclu9K",
        "outputId": "7559423f-ae62-42ad-a17a-a29269e16bbb"
      },
      "source": [
        "print(datetime.fromtimestamp(1614665900))  # 숫자 ---> datetime"
      ],
      "execution_count": 21,
      "outputs": [
        {
          "output_type": "stream",
          "text": [
            "2021-03-02 06:18:20\n"
          ],
          "name": "stdout"
        }
      ]
    },
    {
      "cell_type": "code",
      "metadata": {
        "id": "OSZxGEOQqpUt"
      },
      "source": [
        "import pandas as pd"
      ],
      "execution_count": 22,
      "outputs": []
    },
    {
      "cell_type": "code",
      "metadata": {
        "id": "VTTVsm3BqroE"
      },
      "source": [
        "file_path = 'https://github.com/wesm/pydata-book/raw/2nd-edition/datasets/movielens/ratings.dat'\r\n",
        "col_names = ['user_id', 'movie_id', 'rating', 'timestamp']"
      ],
      "execution_count": 23,
      "outputs": []
    },
    {
      "cell_type": "code",
      "metadata": {
        "id": "ADDLIQJmq2k9"
      },
      "source": [
        "ratings = pd.read_csv(file_path, sep='::', header=None, names=col_names,\r\n",
        "                      encoding='cp1252', engine='python')"
      ],
      "execution_count": 24,
      "outputs": []
    },
    {
      "cell_type": "code",
      "metadata": {
        "colab": {
          "base_uri": "https://localhost:8080/",
          "height": 214
        },
        "id": "PnArtxbUrdjs",
        "outputId": "50017edf-acbd-4461-806b-4e47e0d02c92"
      },
      "source": [
        "ratings.head()"
      ],
      "execution_count": 25,
      "outputs": [
        {
          "output_type": "execute_result",
          "data": {
            "text/html": [
              "<div>\n",
              "<style scoped>\n",
              "    .dataframe tbody tr th:only-of-type {\n",
              "        vertical-align: middle;\n",
              "    }\n",
              "\n",
              "    .dataframe tbody tr th {\n",
              "        vertical-align: top;\n",
              "    }\n",
              "\n",
              "    .dataframe thead th {\n",
              "        text-align: right;\n",
              "    }\n",
              "</style>\n",
              "<table border=\"1\" class=\"dataframe\">\n",
              "  <thead>\n",
              "    <tr style=\"text-align: right;\">\n",
              "      <th></th>\n",
              "      <th>user_id</th>\n",
              "      <th>movie_id</th>\n",
              "      <th>rating</th>\n",
              "      <th>timestamp</th>\n",
              "    </tr>\n",
              "  </thead>\n",
              "  <tbody>\n",
              "    <tr>\n",
              "      <th>0</th>\n",
              "      <td>1</td>\n",
              "      <td>1193</td>\n",
              "      <td>5</td>\n",
              "      <td>978300760</td>\n",
              "    </tr>\n",
              "    <tr>\n",
              "      <th>1</th>\n",
              "      <td>1</td>\n",
              "      <td>661</td>\n",
              "      <td>3</td>\n",
              "      <td>978302109</td>\n",
              "    </tr>\n",
              "    <tr>\n",
              "      <th>2</th>\n",
              "      <td>1</td>\n",
              "      <td>914</td>\n",
              "      <td>3</td>\n",
              "      <td>978301968</td>\n",
              "    </tr>\n",
              "    <tr>\n",
              "      <th>3</th>\n",
              "      <td>1</td>\n",
              "      <td>3408</td>\n",
              "      <td>4</td>\n",
              "      <td>978300275</td>\n",
              "    </tr>\n",
              "    <tr>\n",
              "      <th>4</th>\n",
              "      <td>1</td>\n",
              "      <td>2355</td>\n",
              "      <td>5</td>\n",
              "      <td>978824291</td>\n",
              "    </tr>\n",
              "  </tbody>\n",
              "</table>\n",
              "</div>"
            ],
            "text/plain": [
              "   user_id  movie_id  rating  timestamp\n",
              "0        1      1193       5  978300760\n",
              "1        1       661       3  978302109\n",
              "2        1       914       3  978301968\n",
              "3        1      3408       4  978300275\n",
              "4        1      2355       5  978824291"
            ]
          },
          "metadata": {
            "tags": []
          },
          "execution_count": 25
        }
      ]
    },
    {
      "cell_type": "code",
      "metadata": {
        "colab": {
          "base_uri": "https://localhost:8080/"
        },
        "id": "PJ7YRJoarmns",
        "outputId": "bbb64216-be4b-476d-e1db-e009106dbda8"
      },
      "source": [
        "datetime.fromtimestamp(978300760)"
      ],
      "execution_count": 26,
      "outputs": [
        {
          "output_type": "execute_result",
          "data": {
            "text/plain": [
              "datetime.datetime(2000, 12, 31, 22, 12, 40)"
            ]
          },
          "metadata": {
            "tags": []
          },
          "execution_count": 26
        }
      ]
    },
    {
      "cell_type": "code",
      "metadata": {
        "id": "eGB7-SYGr1zM"
      },
      "source": [
        "# ratings 데이터 프레임에 dt 파생변수(timestamp 값을 datetime 객체로 변환한 값) 추가\r\n",
        "dates = []  # timestamp(정수)를 datetime 객체로 변환한 값들을 저장할 리스트\r\n",
        "for ts in ratings['timestamp']:\r\n",
        "    dates.append(datetime.fromtimestamp(ts))\r\n",
        "\r\n",
        "# 리스트 dates를 pd.Series로 변환해서 파생변수로 추가\r\n",
        "ratings['dt'] = pd.Series(dates)  "
      ],
      "execution_count": 27,
      "outputs": []
    },
    {
      "cell_type": "code",
      "metadata": {
        "colab": {
          "base_uri": "https://localhost:8080/",
          "height": 214
        },
        "id": "CPmPGSYjtxjd",
        "outputId": "1566b617-8449-4e94-b549-747297a86cbc"
      },
      "source": [
        "ratings.head()"
      ],
      "execution_count": 28,
      "outputs": [
        {
          "output_type": "execute_result",
          "data": {
            "text/html": [
              "<div>\n",
              "<style scoped>\n",
              "    .dataframe tbody tr th:only-of-type {\n",
              "        vertical-align: middle;\n",
              "    }\n",
              "\n",
              "    .dataframe tbody tr th {\n",
              "        vertical-align: top;\n",
              "    }\n",
              "\n",
              "    .dataframe thead th {\n",
              "        text-align: right;\n",
              "    }\n",
              "</style>\n",
              "<table border=\"1\" class=\"dataframe\">\n",
              "  <thead>\n",
              "    <tr style=\"text-align: right;\">\n",
              "      <th></th>\n",
              "      <th>user_id</th>\n",
              "      <th>movie_id</th>\n",
              "      <th>rating</th>\n",
              "      <th>timestamp</th>\n",
              "      <th>dt</th>\n",
              "    </tr>\n",
              "  </thead>\n",
              "  <tbody>\n",
              "    <tr>\n",
              "      <th>0</th>\n",
              "      <td>1</td>\n",
              "      <td>1193</td>\n",
              "      <td>5</td>\n",
              "      <td>978300760</td>\n",
              "      <td>2000-12-31 22:12:40</td>\n",
              "    </tr>\n",
              "    <tr>\n",
              "      <th>1</th>\n",
              "      <td>1</td>\n",
              "      <td>661</td>\n",
              "      <td>3</td>\n",
              "      <td>978302109</td>\n",
              "      <td>2000-12-31 22:35:09</td>\n",
              "    </tr>\n",
              "    <tr>\n",
              "      <th>2</th>\n",
              "      <td>1</td>\n",
              "      <td>914</td>\n",
              "      <td>3</td>\n",
              "      <td>978301968</td>\n",
              "      <td>2000-12-31 22:32:48</td>\n",
              "    </tr>\n",
              "    <tr>\n",
              "      <th>3</th>\n",
              "      <td>1</td>\n",
              "      <td>3408</td>\n",
              "      <td>4</td>\n",
              "      <td>978300275</td>\n",
              "      <td>2000-12-31 22:04:35</td>\n",
              "    </tr>\n",
              "    <tr>\n",
              "      <th>4</th>\n",
              "      <td>1</td>\n",
              "      <td>2355</td>\n",
              "      <td>5</td>\n",
              "      <td>978824291</td>\n",
              "      <td>2001-01-06 23:38:11</td>\n",
              "    </tr>\n",
              "  </tbody>\n",
              "</table>\n",
              "</div>"
            ],
            "text/plain": [
              "   user_id  movie_id  rating  timestamp                  dt\n",
              "0        1      1193       5  978300760 2000-12-31 22:12:40\n",
              "1        1       661       3  978302109 2000-12-31 22:35:09\n",
              "2        1       914       3  978301968 2000-12-31 22:32:48\n",
              "3        1      3408       4  978300275 2000-12-31 22:04:35\n",
              "4        1      2355       5  978824291 2001-01-06 23:38:11"
            ]
          },
          "metadata": {
            "tags": []
          },
          "execution_count": 28
        }
      ]
    },
    {
      "cell_type": "code",
      "metadata": {
        "colab": {
          "base_uri": "https://localhost:8080/",
          "height": 214
        },
        "id": "Cws8P2ust-Sw",
        "outputId": "c9f5371f-db02-4fc6-dc4e-e5869caf7b07"
      },
      "source": [
        "ratings.tail()"
      ],
      "execution_count": 29,
      "outputs": [
        {
          "output_type": "execute_result",
          "data": {
            "text/html": [
              "<div>\n",
              "<style scoped>\n",
              "    .dataframe tbody tr th:only-of-type {\n",
              "        vertical-align: middle;\n",
              "    }\n",
              "\n",
              "    .dataframe tbody tr th {\n",
              "        vertical-align: top;\n",
              "    }\n",
              "\n",
              "    .dataframe thead th {\n",
              "        text-align: right;\n",
              "    }\n",
              "</style>\n",
              "<table border=\"1\" class=\"dataframe\">\n",
              "  <thead>\n",
              "    <tr style=\"text-align: right;\">\n",
              "      <th></th>\n",
              "      <th>user_id</th>\n",
              "      <th>movie_id</th>\n",
              "      <th>rating</th>\n",
              "      <th>timestamp</th>\n",
              "      <th>dt</th>\n",
              "    </tr>\n",
              "  </thead>\n",
              "  <tbody>\n",
              "    <tr>\n",
              "      <th>1000204</th>\n",
              "      <td>6040</td>\n",
              "      <td>1091</td>\n",
              "      <td>1</td>\n",
              "      <td>956716541</td>\n",
              "      <td>2000-04-26 02:35:41</td>\n",
              "    </tr>\n",
              "    <tr>\n",
              "      <th>1000205</th>\n",
              "      <td>6040</td>\n",
              "      <td>1094</td>\n",
              "      <td>5</td>\n",
              "      <td>956704887</td>\n",
              "      <td>2000-04-25 23:21:27</td>\n",
              "    </tr>\n",
              "    <tr>\n",
              "      <th>1000206</th>\n",
              "      <td>6040</td>\n",
              "      <td>562</td>\n",
              "      <td>5</td>\n",
              "      <td>956704746</td>\n",
              "      <td>2000-04-25 23:19:06</td>\n",
              "    </tr>\n",
              "    <tr>\n",
              "      <th>1000207</th>\n",
              "      <td>6040</td>\n",
              "      <td>1096</td>\n",
              "      <td>4</td>\n",
              "      <td>956715648</td>\n",
              "      <td>2000-04-26 02:20:48</td>\n",
              "    </tr>\n",
              "    <tr>\n",
              "      <th>1000208</th>\n",
              "      <td>6040</td>\n",
              "      <td>1097</td>\n",
              "      <td>4</td>\n",
              "      <td>956715569</td>\n",
              "      <td>2000-04-26 02:19:29</td>\n",
              "    </tr>\n",
              "  </tbody>\n",
              "</table>\n",
              "</div>"
            ],
            "text/plain": [
              "         user_id  movie_id  rating  timestamp                  dt\n",
              "1000204     6040      1091       1  956716541 2000-04-26 02:35:41\n",
              "1000205     6040      1094       5  956704887 2000-04-25 23:21:27\n",
              "1000206     6040       562       5  956704746 2000-04-25 23:19:06\n",
              "1000207     6040      1096       4  956715648 2000-04-26 02:20:48\n",
              "1000208     6040      1097       4  956715569 2000-04-26 02:19:29"
            ]
          },
          "metadata": {
            "tags": []
          },
          "execution_count": 29
        }
      ]
    },
    {
      "cell_type": "code",
      "metadata": {
        "colab": {
          "base_uri": "https://localhost:8080/"
        },
        "id": "goeFSNbDuCkU",
        "outputId": "66e7cc8b-8ff4-403f-86f5-ff8fe22d3a76"
      },
      "source": [
        "ratings['dt'].describe()"
      ],
      "execution_count": 30,
      "outputs": [
        {
          "output_type": "stream",
          "text": [
            "/usr/local/lib/python3.7/dist-packages/ipykernel_launcher.py:1: FutureWarning: Treating datetime data as categorical rather than numeric in `.describe` is deprecated and will be removed in a future version of pandas. Specify `datetime_is_numeric=True` to silence this warning and adopt the future behavior now.\n",
            "  \"\"\"Entry point for launching an IPython kernel.\n"
          ],
          "name": "stderr"
        },
        {
          "output_type": "execute_result",
          "data": {
            "text/plain": [
              "count                 1000209\n",
              "unique                 458455\n",
              "top       2000-11-29 20:06:42\n",
              "freq                       30\n",
              "first     2000-04-25 23:05:32\n",
              "last      2003-02-28 17:49:50\n",
              "Name: dt, dtype: object"
            ]
          },
          "metadata": {
            "tags": []
          },
          "execution_count": 30
        }
      ]
    },
    {
      "cell_type": "code",
      "metadata": {
        "id": "5hmPl6k_ui0H"
      },
      "source": [
        "# pd.to_datetime() 함수:\r\n",
        "#   datetime.strptime() 메서드 또는 datetime.fromtimestamp() 메서드 기능을 활용해서\r\n",
        "#   datetime 객체들의 Series를 만들어주는 함수.\r\n",
        "ratings['dt2'] = pd.to_datetime(ratings['timestamp'], unit='s')"
      ],
      "execution_count": 31,
      "outputs": []
    },
    {
      "cell_type": "code",
      "metadata": {
        "colab": {
          "base_uri": "https://localhost:8080/",
          "height": 214
        },
        "id": "YsL-mDipwMCz",
        "outputId": "c8124771-c272-4141-da88-653c96db75b4"
      },
      "source": [
        "ratings.head()"
      ],
      "execution_count": 32,
      "outputs": [
        {
          "output_type": "execute_result",
          "data": {
            "text/html": [
              "<div>\n",
              "<style scoped>\n",
              "    .dataframe tbody tr th:only-of-type {\n",
              "        vertical-align: middle;\n",
              "    }\n",
              "\n",
              "    .dataframe tbody tr th {\n",
              "        vertical-align: top;\n",
              "    }\n",
              "\n",
              "    .dataframe thead th {\n",
              "        text-align: right;\n",
              "    }\n",
              "</style>\n",
              "<table border=\"1\" class=\"dataframe\">\n",
              "  <thead>\n",
              "    <tr style=\"text-align: right;\">\n",
              "      <th></th>\n",
              "      <th>user_id</th>\n",
              "      <th>movie_id</th>\n",
              "      <th>rating</th>\n",
              "      <th>timestamp</th>\n",
              "      <th>dt</th>\n",
              "      <th>dt2</th>\n",
              "    </tr>\n",
              "  </thead>\n",
              "  <tbody>\n",
              "    <tr>\n",
              "      <th>0</th>\n",
              "      <td>1</td>\n",
              "      <td>1193</td>\n",
              "      <td>5</td>\n",
              "      <td>978300760</td>\n",
              "      <td>2000-12-31 22:12:40</td>\n",
              "      <td>2000-12-31 22:12:40</td>\n",
              "    </tr>\n",
              "    <tr>\n",
              "      <th>1</th>\n",
              "      <td>1</td>\n",
              "      <td>661</td>\n",
              "      <td>3</td>\n",
              "      <td>978302109</td>\n",
              "      <td>2000-12-31 22:35:09</td>\n",
              "      <td>2000-12-31 22:35:09</td>\n",
              "    </tr>\n",
              "    <tr>\n",
              "      <th>2</th>\n",
              "      <td>1</td>\n",
              "      <td>914</td>\n",
              "      <td>3</td>\n",
              "      <td>978301968</td>\n",
              "      <td>2000-12-31 22:32:48</td>\n",
              "      <td>2000-12-31 22:32:48</td>\n",
              "    </tr>\n",
              "    <tr>\n",
              "      <th>3</th>\n",
              "      <td>1</td>\n",
              "      <td>3408</td>\n",
              "      <td>4</td>\n",
              "      <td>978300275</td>\n",
              "      <td>2000-12-31 22:04:35</td>\n",
              "      <td>2000-12-31 22:04:35</td>\n",
              "    </tr>\n",
              "    <tr>\n",
              "      <th>4</th>\n",
              "      <td>1</td>\n",
              "      <td>2355</td>\n",
              "      <td>5</td>\n",
              "      <td>978824291</td>\n",
              "      <td>2001-01-06 23:38:11</td>\n",
              "      <td>2001-01-06 23:38:11</td>\n",
              "    </tr>\n",
              "  </tbody>\n",
              "</table>\n",
              "</div>"
            ],
            "text/plain": [
              "   user_id  movie_id  rating  timestamp                  dt                 dt2\n",
              "0        1      1193       5  978300760 2000-12-31 22:12:40 2000-12-31 22:12:40\n",
              "1        1       661       3  978302109 2000-12-31 22:35:09 2000-12-31 22:35:09\n",
              "2        1       914       3  978301968 2000-12-31 22:32:48 2000-12-31 22:32:48\n",
              "3        1      3408       4  978300275 2000-12-31 22:04:35 2000-12-31 22:04:35\n",
              "4        1      2355       5  978824291 2001-01-06 23:38:11 2001-01-06 23:38:11"
            ]
          },
          "metadata": {
            "tags": []
          },
          "execution_count": 32
        }
      ]
    },
    {
      "cell_type": "code",
      "metadata": {
        "colab": {
          "base_uri": "https://localhost:8080/"
        },
        "id": "UFP-wBS9wepf",
        "outputId": "9a3b43cd-81ac-43c9-cafc-d78f24b5faf4"
      },
      "source": [
        "ratings.info()"
      ],
      "execution_count": 33,
      "outputs": [
        {
          "output_type": "stream",
          "text": [
            "<class 'pandas.core.frame.DataFrame'>\n",
            "RangeIndex: 1000209 entries, 0 to 1000208\n",
            "Data columns (total 6 columns):\n",
            " #   Column     Non-Null Count    Dtype         \n",
            "---  ------     --------------    -----         \n",
            " 0   user_id    1000209 non-null  int64         \n",
            " 1   movie_id   1000209 non-null  int64         \n",
            " 2   rating     1000209 non-null  int64         \n",
            " 3   timestamp  1000209 non-null  int64         \n",
            " 4   dt         1000209 non-null  datetime64[ns]\n",
            " 5   dt2        1000209 non-null  datetime64[ns]\n",
            "dtypes: datetime64[ns](2), int64(4)\n",
            "memory usage: 45.8 MB\n"
          ],
          "name": "stdout"
        }
      ]
    },
    {
      "cell_type": "code",
      "metadata": {
        "id": "EgyYNusOwt8T"
      },
      "source": [
        "# timestamp(정수) 타입을 datetime 타입으로 변환하는 목적은 년/월/일 등의 정보를 쉽게 추출하기 위해서\r\n",
        "ratings['year'] = ratings['dt'].dt.year\r\n",
        "ratings['month'] = ratings['dt'].dt.month\r\n",
        "ratings['quarter'] = ratings['dt'].dt.quarter"
      ],
      "execution_count": 34,
      "outputs": []
    },
    {
      "cell_type": "code",
      "metadata": {
        "colab": {
          "base_uri": "https://localhost:8080/",
          "height": 377
        },
        "id": "GKPBzQMHxL3l",
        "outputId": "18da7529-576a-4f31-d045-5edea99ac057"
      },
      "source": [
        "ratings.head(10)"
      ],
      "execution_count": 35,
      "outputs": [
        {
          "output_type": "execute_result",
          "data": {
            "text/html": [
              "<div>\n",
              "<style scoped>\n",
              "    .dataframe tbody tr th:only-of-type {\n",
              "        vertical-align: middle;\n",
              "    }\n",
              "\n",
              "    .dataframe tbody tr th {\n",
              "        vertical-align: top;\n",
              "    }\n",
              "\n",
              "    .dataframe thead th {\n",
              "        text-align: right;\n",
              "    }\n",
              "</style>\n",
              "<table border=\"1\" class=\"dataframe\">\n",
              "  <thead>\n",
              "    <tr style=\"text-align: right;\">\n",
              "      <th></th>\n",
              "      <th>user_id</th>\n",
              "      <th>movie_id</th>\n",
              "      <th>rating</th>\n",
              "      <th>timestamp</th>\n",
              "      <th>dt</th>\n",
              "      <th>dt2</th>\n",
              "      <th>year</th>\n",
              "      <th>month</th>\n",
              "      <th>quarter</th>\n",
              "    </tr>\n",
              "  </thead>\n",
              "  <tbody>\n",
              "    <tr>\n",
              "      <th>0</th>\n",
              "      <td>1</td>\n",
              "      <td>1193</td>\n",
              "      <td>5</td>\n",
              "      <td>978300760</td>\n",
              "      <td>2000-12-31 22:12:40</td>\n",
              "      <td>2000-12-31 22:12:40</td>\n",
              "      <td>2000</td>\n",
              "      <td>12</td>\n",
              "      <td>4</td>\n",
              "    </tr>\n",
              "    <tr>\n",
              "      <th>1</th>\n",
              "      <td>1</td>\n",
              "      <td>661</td>\n",
              "      <td>3</td>\n",
              "      <td>978302109</td>\n",
              "      <td>2000-12-31 22:35:09</td>\n",
              "      <td>2000-12-31 22:35:09</td>\n",
              "      <td>2000</td>\n",
              "      <td>12</td>\n",
              "      <td>4</td>\n",
              "    </tr>\n",
              "    <tr>\n",
              "      <th>2</th>\n",
              "      <td>1</td>\n",
              "      <td>914</td>\n",
              "      <td>3</td>\n",
              "      <td>978301968</td>\n",
              "      <td>2000-12-31 22:32:48</td>\n",
              "      <td>2000-12-31 22:32:48</td>\n",
              "      <td>2000</td>\n",
              "      <td>12</td>\n",
              "      <td>4</td>\n",
              "    </tr>\n",
              "    <tr>\n",
              "      <th>3</th>\n",
              "      <td>1</td>\n",
              "      <td>3408</td>\n",
              "      <td>4</td>\n",
              "      <td>978300275</td>\n",
              "      <td>2000-12-31 22:04:35</td>\n",
              "      <td>2000-12-31 22:04:35</td>\n",
              "      <td>2000</td>\n",
              "      <td>12</td>\n",
              "      <td>4</td>\n",
              "    </tr>\n",
              "    <tr>\n",
              "      <th>4</th>\n",
              "      <td>1</td>\n",
              "      <td>2355</td>\n",
              "      <td>5</td>\n",
              "      <td>978824291</td>\n",
              "      <td>2001-01-06 23:38:11</td>\n",
              "      <td>2001-01-06 23:38:11</td>\n",
              "      <td>2001</td>\n",
              "      <td>1</td>\n",
              "      <td>1</td>\n",
              "    </tr>\n",
              "    <tr>\n",
              "      <th>5</th>\n",
              "      <td>1</td>\n",
              "      <td>1197</td>\n",
              "      <td>3</td>\n",
              "      <td>978302268</td>\n",
              "      <td>2000-12-31 22:37:48</td>\n",
              "      <td>2000-12-31 22:37:48</td>\n",
              "      <td>2000</td>\n",
              "      <td>12</td>\n",
              "      <td>4</td>\n",
              "    </tr>\n",
              "    <tr>\n",
              "      <th>6</th>\n",
              "      <td>1</td>\n",
              "      <td>1287</td>\n",
              "      <td>5</td>\n",
              "      <td>978302039</td>\n",
              "      <td>2000-12-31 22:33:59</td>\n",
              "      <td>2000-12-31 22:33:59</td>\n",
              "      <td>2000</td>\n",
              "      <td>12</td>\n",
              "      <td>4</td>\n",
              "    </tr>\n",
              "    <tr>\n",
              "      <th>7</th>\n",
              "      <td>1</td>\n",
              "      <td>2804</td>\n",
              "      <td>5</td>\n",
              "      <td>978300719</td>\n",
              "      <td>2000-12-31 22:11:59</td>\n",
              "      <td>2000-12-31 22:11:59</td>\n",
              "      <td>2000</td>\n",
              "      <td>12</td>\n",
              "      <td>4</td>\n",
              "    </tr>\n",
              "    <tr>\n",
              "      <th>8</th>\n",
              "      <td>1</td>\n",
              "      <td>594</td>\n",
              "      <td>4</td>\n",
              "      <td>978302268</td>\n",
              "      <td>2000-12-31 22:37:48</td>\n",
              "      <td>2000-12-31 22:37:48</td>\n",
              "      <td>2000</td>\n",
              "      <td>12</td>\n",
              "      <td>4</td>\n",
              "    </tr>\n",
              "    <tr>\n",
              "      <th>9</th>\n",
              "      <td>1</td>\n",
              "      <td>919</td>\n",
              "      <td>4</td>\n",
              "      <td>978301368</td>\n",
              "      <td>2000-12-31 22:22:48</td>\n",
              "      <td>2000-12-31 22:22:48</td>\n",
              "      <td>2000</td>\n",
              "      <td>12</td>\n",
              "      <td>4</td>\n",
              "    </tr>\n",
              "  </tbody>\n",
              "</table>\n",
              "</div>"
            ],
            "text/plain": [
              "   user_id  movie_id  rating  ...  year month quarter\n",
              "0        1      1193       5  ...  2000    12       4\n",
              "1        1       661       3  ...  2000    12       4\n",
              "2        1       914       3  ...  2000    12       4\n",
              "3        1      3408       4  ...  2000    12       4\n",
              "4        1      2355       5  ...  2001     1       1\n",
              "5        1      1197       3  ...  2000    12       4\n",
              "6        1      1287       5  ...  2000    12       4\n",
              "7        1      2804       5  ...  2000    12       4\n",
              "8        1       594       4  ...  2000    12       4\n",
              "9        1       919       4  ...  2000    12       4\n",
              "\n",
              "[10 rows x 9 columns]"
            ]
          },
          "metadata": {
            "tags": []
          },
          "execution_count": 35
        }
      ]
    },
    {
      "cell_type": "code",
      "metadata": {
        "colab": {
          "base_uri": "https://localhost:8080/",
          "height": 441
        },
        "id": "kfwkMf2WyJ1n",
        "outputId": "ccc2e971-9177-4572-f36b-087559279b90"
      },
      "source": [
        "# ratings 데이터 프레임에서 2003년도 1사분기 데이터만 추출\r\n",
        "ratings[(ratings['year'] == 2003) & (ratings['quarter'] == 1)]"
      ],
      "execution_count": 36,
      "outputs": [
        {
          "output_type": "execute_result",
          "data": {
            "text/html": [
              "<div>\n",
              "<style scoped>\n",
              "    .dataframe tbody tr th:only-of-type {\n",
              "        vertical-align: middle;\n",
              "    }\n",
              "\n",
              "    .dataframe tbody tr th {\n",
              "        vertical-align: top;\n",
              "    }\n",
              "\n",
              "    .dataframe thead th {\n",
              "        text-align: right;\n",
              "    }\n",
              "</style>\n",
              "<table border=\"1\" class=\"dataframe\">\n",
              "  <thead>\n",
              "    <tr style=\"text-align: right;\">\n",
              "      <th></th>\n",
              "      <th>user_id</th>\n",
              "      <th>movie_id</th>\n",
              "      <th>rating</th>\n",
              "      <th>timestamp</th>\n",
              "      <th>dt</th>\n",
              "      <th>dt2</th>\n",
              "      <th>year</th>\n",
              "      <th>month</th>\n",
              "      <th>quarter</th>\n",
              "    </tr>\n",
              "  </thead>\n",
              "  <tbody>\n",
              "    <tr>\n",
              "      <th>8696</th>\n",
              "      <td>59</td>\n",
              "      <td>1175</td>\n",
              "      <td>4</td>\n",
              "      <td>1041967123</td>\n",
              "      <td>2003-01-07 19:18:43</td>\n",
              "      <td>2003-01-07 19:18:43</td>\n",
              "      <td>2003</td>\n",
              "      <td>1</td>\n",
              "      <td>1</td>\n",
              "    </tr>\n",
              "    <tr>\n",
              "      <th>8700</th>\n",
              "      <td>59</td>\n",
              "      <td>1252</td>\n",
              "      <td>4</td>\n",
              "      <td>1041967475</td>\n",
              "      <td>2003-01-07 19:24:35</td>\n",
              "      <td>2003-01-07 19:24:35</td>\n",
              "      <td>2003</td>\n",
              "      <td>1</td>\n",
              "      <td>1</td>\n",
              "    </tr>\n",
              "    <tr>\n",
              "      <th>8702</th>\n",
              "      <td>59</td>\n",
              "      <td>1183</td>\n",
              "      <td>4</td>\n",
              "      <td>1041963129</td>\n",
              "      <td>2003-01-07 18:12:09</td>\n",
              "      <td>2003-01-07 18:12:09</td>\n",
              "      <td>2003</td>\n",
              "      <td>1</td>\n",
              "      <td>1</td>\n",
              "    </tr>\n",
              "    <tr>\n",
              "      <th>8704</th>\n",
              "      <td>59</td>\n",
              "      <td>2997</td>\n",
              "      <td>4</td>\n",
              "      <td>1041962568</td>\n",
              "      <td>2003-01-07 18:02:48</td>\n",
              "      <td>2003-01-07 18:02:48</td>\n",
              "      <td>2003</td>\n",
              "      <td>1</td>\n",
              "      <td>1</td>\n",
              "    </tr>\n",
              "    <tr>\n",
              "      <th>8706</th>\n",
              "      <td>59</td>\n",
              "      <td>3871</td>\n",
              "      <td>4</td>\n",
              "      <td>1041968282</td>\n",
              "      <td>2003-01-07 19:38:02</td>\n",
              "      <td>2003-01-07 19:38:02</td>\n",
              "      <td>2003</td>\n",
              "      <td>1</td>\n",
              "      <td>1</td>\n",
              "    </tr>\n",
              "    <tr>\n",
              "      <th>...</th>\n",
              "      <td>...</td>\n",
              "      <td>...</td>\n",
              "      <td>...</td>\n",
              "      <td>...</td>\n",
              "      <td>...</td>\n",
              "      <td>...</td>\n",
              "      <td>...</td>\n",
              "      <td>...</td>\n",
              "      <td>...</td>\n",
              "    </tr>\n",
              "    <tr>\n",
              "      <th>984842</th>\n",
              "      <td>5950</td>\n",
              "      <td>3317</td>\n",
              "      <td>3</td>\n",
              "      <td>1046369439</td>\n",
              "      <td>2003-02-27 18:10:39</td>\n",
              "      <td>2003-02-27 18:10:39</td>\n",
              "      <td>2003</td>\n",
              "      <td>2</td>\n",
              "      <td>1</td>\n",
              "    </tr>\n",
              "    <tr>\n",
              "      <th>984847</th>\n",
              "      <td>5950</td>\n",
              "      <td>3328</td>\n",
              "      <td>3</td>\n",
              "      <td>1046369090</td>\n",
              "      <td>2003-02-27 18:04:50</td>\n",
              "      <td>2003-02-27 18:04:50</td>\n",
              "      <td>2003</td>\n",
              "      <td>2</td>\n",
              "      <td>1</td>\n",
              "    </tr>\n",
              "    <tr>\n",
              "      <th>984849</th>\n",
              "      <td>5950</td>\n",
              "      <td>111</td>\n",
              "      <td>5</td>\n",
              "      <td>1046368241</td>\n",
              "      <td>2003-02-27 17:50:41</td>\n",
              "      <td>2003-02-27 17:50:41</td>\n",
              "      <td>2003</td>\n",
              "      <td>2</td>\n",
              "      <td>1</td>\n",
              "    </tr>\n",
              "    <tr>\n",
              "      <th>984861</th>\n",
              "      <td>5950</td>\n",
              "      <td>3363</td>\n",
              "      <td>5</td>\n",
              "      <td>1046367948</td>\n",
              "      <td>2003-02-27 17:45:48</td>\n",
              "      <td>2003-02-27 17:45:48</td>\n",
              "      <td>2003</td>\n",
              "      <td>2</td>\n",
              "      <td>1</td>\n",
              "    </tr>\n",
              "    <tr>\n",
              "      <th>984905</th>\n",
              "      <td>5950</td>\n",
              "      <td>1089</td>\n",
              "      <td>3</td>\n",
              "      <td>1046368552</td>\n",
              "      <td>2003-02-27 17:55:52</td>\n",
              "      <td>2003-02-27 17:55:52</td>\n",
              "      <td>2003</td>\n",
              "      <td>2</td>\n",
              "      <td>1</td>\n",
              "    </tr>\n",
              "  </tbody>\n",
              "</table>\n",
              "<p>3348 rows × 9 columns</p>\n",
              "</div>"
            ],
            "text/plain": [
              "        user_id  movie_id  rating  ...  year month quarter\n",
              "8696         59      1175       4  ...  2003     1       1\n",
              "8700         59      1252       4  ...  2003     1       1\n",
              "8702         59      1183       4  ...  2003     1       1\n",
              "8704         59      2997       4  ...  2003     1       1\n",
              "8706         59      3871       4  ...  2003     1       1\n",
              "...         ...       ...     ...  ...   ...   ...     ...\n",
              "984842     5950      3317       3  ...  2003     2       1\n",
              "984847     5950      3328       3  ...  2003     2       1\n",
              "984849     5950       111       5  ...  2003     2       1\n",
              "984861     5950      3363       5  ...  2003     2       1\n",
              "984905     5950      1089       3  ...  2003     2       1\n",
              "\n",
              "[3348 rows x 9 columns]"
            ]
          },
          "metadata": {
            "tags": []
          },
          "execution_count": 36
        }
      ]
    },
    {
      "cell_type": "code",
      "metadata": {
        "colab": {
          "base_uri": "https://localhost:8080/",
          "height": 441
        },
        "id": "rpTAGK23zEcX",
        "outputId": "4d331137-2567-4df5-8abb-9cf0745e28fe"
      },
      "source": [
        "ratings[(ratings['dt'].dt.year == 2003) & \r\n",
        "        (ratings['dt'].dt.quarter == 1)]"
      ],
      "execution_count": 37,
      "outputs": [
        {
          "output_type": "execute_result",
          "data": {
            "text/html": [
              "<div>\n",
              "<style scoped>\n",
              "    .dataframe tbody tr th:only-of-type {\n",
              "        vertical-align: middle;\n",
              "    }\n",
              "\n",
              "    .dataframe tbody tr th {\n",
              "        vertical-align: top;\n",
              "    }\n",
              "\n",
              "    .dataframe thead th {\n",
              "        text-align: right;\n",
              "    }\n",
              "</style>\n",
              "<table border=\"1\" class=\"dataframe\">\n",
              "  <thead>\n",
              "    <tr style=\"text-align: right;\">\n",
              "      <th></th>\n",
              "      <th>user_id</th>\n",
              "      <th>movie_id</th>\n",
              "      <th>rating</th>\n",
              "      <th>timestamp</th>\n",
              "      <th>dt</th>\n",
              "      <th>dt2</th>\n",
              "      <th>year</th>\n",
              "      <th>month</th>\n",
              "      <th>quarter</th>\n",
              "    </tr>\n",
              "  </thead>\n",
              "  <tbody>\n",
              "    <tr>\n",
              "      <th>8696</th>\n",
              "      <td>59</td>\n",
              "      <td>1175</td>\n",
              "      <td>4</td>\n",
              "      <td>1041967123</td>\n",
              "      <td>2003-01-07 19:18:43</td>\n",
              "      <td>2003-01-07 19:18:43</td>\n",
              "      <td>2003</td>\n",
              "      <td>1</td>\n",
              "      <td>1</td>\n",
              "    </tr>\n",
              "    <tr>\n",
              "      <th>8700</th>\n",
              "      <td>59</td>\n",
              "      <td>1252</td>\n",
              "      <td>4</td>\n",
              "      <td>1041967475</td>\n",
              "      <td>2003-01-07 19:24:35</td>\n",
              "      <td>2003-01-07 19:24:35</td>\n",
              "      <td>2003</td>\n",
              "      <td>1</td>\n",
              "      <td>1</td>\n",
              "    </tr>\n",
              "    <tr>\n",
              "      <th>8702</th>\n",
              "      <td>59</td>\n",
              "      <td>1183</td>\n",
              "      <td>4</td>\n",
              "      <td>1041963129</td>\n",
              "      <td>2003-01-07 18:12:09</td>\n",
              "      <td>2003-01-07 18:12:09</td>\n",
              "      <td>2003</td>\n",
              "      <td>1</td>\n",
              "      <td>1</td>\n",
              "    </tr>\n",
              "    <tr>\n",
              "      <th>8704</th>\n",
              "      <td>59</td>\n",
              "      <td>2997</td>\n",
              "      <td>4</td>\n",
              "      <td>1041962568</td>\n",
              "      <td>2003-01-07 18:02:48</td>\n",
              "      <td>2003-01-07 18:02:48</td>\n",
              "      <td>2003</td>\n",
              "      <td>1</td>\n",
              "      <td>1</td>\n",
              "    </tr>\n",
              "    <tr>\n",
              "      <th>8706</th>\n",
              "      <td>59</td>\n",
              "      <td>3871</td>\n",
              "      <td>4</td>\n",
              "      <td>1041968282</td>\n",
              "      <td>2003-01-07 19:38:02</td>\n",
              "      <td>2003-01-07 19:38:02</td>\n",
              "      <td>2003</td>\n",
              "      <td>1</td>\n",
              "      <td>1</td>\n",
              "    </tr>\n",
              "    <tr>\n",
              "      <th>...</th>\n",
              "      <td>...</td>\n",
              "      <td>...</td>\n",
              "      <td>...</td>\n",
              "      <td>...</td>\n",
              "      <td>...</td>\n",
              "      <td>...</td>\n",
              "      <td>...</td>\n",
              "      <td>...</td>\n",
              "      <td>...</td>\n",
              "    </tr>\n",
              "    <tr>\n",
              "      <th>984842</th>\n",
              "      <td>5950</td>\n",
              "      <td>3317</td>\n",
              "      <td>3</td>\n",
              "      <td>1046369439</td>\n",
              "      <td>2003-02-27 18:10:39</td>\n",
              "      <td>2003-02-27 18:10:39</td>\n",
              "      <td>2003</td>\n",
              "      <td>2</td>\n",
              "      <td>1</td>\n",
              "    </tr>\n",
              "    <tr>\n",
              "      <th>984847</th>\n",
              "      <td>5950</td>\n",
              "      <td>3328</td>\n",
              "      <td>3</td>\n",
              "      <td>1046369090</td>\n",
              "      <td>2003-02-27 18:04:50</td>\n",
              "      <td>2003-02-27 18:04:50</td>\n",
              "      <td>2003</td>\n",
              "      <td>2</td>\n",
              "      <td>1</td>\n",
              "    </tr>\n",
              "    <tr>\n",
              "      <th>984849</th>\n",
              "      <td>5950</td>\n",
              "      <td>111</td>\n",
              "      <td>5</td>\n",
              "      <td>1046368241</td>\n",
              "      <td>2003-02-27 17:50:41</td>\n",
              "      <td>2003-02-27 17:50:41</td>\n",
              "      <td>2003</td>\n",
              "      <td>2</td>\n",
              "      <td>1</td>\n",
              "    </tr>\n",
              "    <tr>\n",
              "      <th>984861</th>\n",
              "      <td>5950</td>\n",
              "      <td>3363</td>\n",
              "      <td>5</td>\n",
              "      <td>1046367948</td>\n",
              "      <td>2003-02-27 17:45:48</td>\n",
              "      <td>2003-02-27 17:45:48</td>\n",
              "      <td>2003</td>\n",
              "      <td>2</td>\n",
              "      <td>1</td>\n",
              "    </tr>\n",
              "    <tr>\n",
              "      <th>984905</th>\n",
              "      <td>5950</td>\n",
              "      <td>1089</td>\n",
              "      <td>3</td>\n",
              "      <td>1046368552</td>\n",
              "      <td>2003-02-27 17:55:52</td>\n",
              "      <td>2003-02-27 17:55:52</td>\n",
              "      <td>2003</td>\n",
              "      <td>2</td>\n",
              "      <td>1</td>\n",
              "    </tr>\n",
              "  </tbody>\n",
              "</table>\n",
              "<p>3348 rows × 9 columns</p>\n",
              "</div>"
            ],
            "text/plain": [
              "        user_id  movie_id  rating  ...  year month quarter\n",
              "8696         59      1175       4  ...  2003     1       1\n",
              "8700         59      1252       4  ...  2003     1       1\n",
              "8702         59      1183       4  ...  2003     1       1\n",
              "8704         59      2997       4  ...  2003     1       1\n",
              "8706         59      3871       4  ...  2003     1       1\n",
              "...         ...       ...     ...  ...   ...   ...     ...\n",
              "984842     5950      3317       3  ...  2003     2       1\n",
              "984847     5950      3328       3  ...  2003     2       1\n",
              "984849     5950       111       5  ...  2003     2       1\n",
              "984861     5950      3363       5  ...  2003     2       1\n",
              "984905     5950      1089       3  ...  2003     2       1\n",
              "\n",
              "[3348 rows x 9 columns]"
            ]
          },
          "metadata": {
            "tags": []
          },
          "execution_count": 37
        }
      ]
    },
    {
      "cell_type": "code",
      "metadata": {
        "id": "kz422CRH4Lhz"
      },
      "source": [
        "file_path = 'https://github.com/wesm/pydata-book/raw/2nd-edition/examples/spx.csv'\r\n",
        "spx = pd.read_csv(file_path, header=0, names=['Date', 'SPX'])\r\n",
        "# hedaer=0: csv 파일의 첫번째 라인은 문서의 헤더(컬럼 이름 정보 등)\r\n",
        "# names=[...]: 데이터 프레임의 컬럼 이름 설정"
      ],
      "execution_count": 38,
      "outputs": []
    },
    {
      "cell_type": "code",
      "metadata": {
        "colab": {
          "base_uri": "https://localhost:8080/",
          "height": 214
        },
        "id": "5xOysrQ54X7_",
        "outputId": "35d0d382-5152-42f9-ea67-5c524c5cfef1"
      },
      "source": [
        "spx.head()"
      ],
      "execution_count": 39,
      "outputs": [
        {
          "output_type": "execute_result",
          "data": {
            "text/html": [
              "<div>\n",
              "<style scoped>\n",
              "    .dataframe tbody tr th:only-of-type {\n",
              "        vertical-align: middle;\n",
              "    }\n",
              "\n",
              "    .dataframe tbody tr th {\n",
              "        vertical-align: top;\n",
              "    }\n",
              "\n",
              "    .dataframe thead th {\n",
              "        text-align: right;\n",
              "    }\n",
              "</style>\n",
              "<table border=\"1\" class=\"dataframe\">\n",
              "  <thead>\n",
              "    <tr style=\"text-align: right;\">\n",
              "      <th></th>\n",
              "      <th>Date</th>\n",
              "      <th>SPX</th>\n",
              "    </tr>\n",
              "  </thead>\n",
              "  <tbody>\n",
              "    <tr>\n",
              "      <th>0</th>\n",
              "      <td>1990-02-01 00:00:00</td>\n",
              "      <td>328.79</td>\n",
              "    </tr>\n",
              "    <tr>\n",
              "      <th>1</th>\n",
              "      <td>1990-02-02 00:00:00</td>\n",
              "      <td>330.92</td>\n",
              "    </tr>\n",
              "    <tr>\n",
              "      <th>2</th>\n",
              "      <td>1990-02-05 00:00:00</td>\n",
              "      <td>331.85</td>\n",
              "    </tr>\n",
              "    <tr>\n",
              "      <th>3</th>\n",
              "      <td>1990-02-06 00:00:00</td>\n",
              "      <td>329.66</td>\n",
              "    </tr>\n",
              "    <tr>\n",
              "      <th>4</th>\n",
              "      <td>1990-02-07 00:00:00</td>\n",
              "      <td>333.75</td>\n",
              "    </tr>\n",
              "  </tbody>\n",
              "</table>\n",
              "</div>"
            ],
            "text/plain": [
              "                  Date     SPX\n",
              "0  1990-02-01 00:00:00  328.79\n",
              "1  1990-02-02 00:00:00  330.92\n",
              "2  1990-02-05 00:00:00  331.85\n",
              "3  1990-02-06 00:00:00  329.66\n",
              "4  1990-02-07 00:00:00  333.75"
            ]
          },
          "metadata": {
            "tags": []
          },
          "execution_count": 39
        }
      ]
    },
    {
      "cell_type": "code",
      "metadata": {
        "colab": {
          "base_uri": "https://localhost:8080/"
        },
        "id": "A0n7Zt5T45qB",
        "outputId": "12828748-235b-4948-8db1-45ed47c4ef43"
      },
      "source": [
        "spx.info()\r\n",
        "#> spx['Date']: 문자열이 저장된 컬럼"
      ],
      "execution_count": 40,
      "outputs": [
        {
          "output_type": "stream",
          "text": [
            "<class 'pandas.core.frame.DataFrame'>\n",
            "RangeIndex: 5472 entries, 0 to 5471\n",
            "Data columns (total 2 columns):\n",
            " #   Column  Non-Null Count  Dtype  \n",
            "---  ------  --------------  -----  \n",
            " 0   Date    5472 non-null   object \n",
            " 1   SPX     5472 non-null   float64\n",
            "dtypes: float64(1), object(1)\n",
            "memory usage: 85.6+ KB\n"
          ],
          "name": "stdout"
        }
      ]
    },
    {
      "cell_type": "code",
      "metadata": {
        "id": "Kk1Lk84y6kn_"
      },
      "source": [
        "# spx['Date'] 컬럼을 datetime 타입으로 변환\r\n",
        "# spx['Date'] = pd.to_datetime(spx['Date'], format='%Y-%m-%d %H:%M:%S')\r\n",
        "spx['Date'] = pd.to_datetime(spx['Date'])"
      ],
      "execution_count": 51,
      "outputs": []
    },
    {
      "cell_type": "code",
      "metadata": {
        "colab": {
          "base_uri": "https://localhost:8080/"
        },
        "id": "si-jJnRS7KX-",
        "outputId": "90fb7a72-0672-4d90-9bc2-b9c9670bd3a3"
      },
      "source": [
        "spx.info()"
      ],
      "execution_count": 52,
      "outputs": [
        {
          "output_type": "stream",
          "text": [
            "<class 'pandas.core.frame.DataFrame'>\n",
            "RangeIndex: 5472 entries, 0 to 5471\n",
            "Data columns (total 2 columns):\n",
            " #   Column  Non-Null Count  Dtype         \n",
            "---  ------  --------------  -----         \n",
            " 0   Date    5472 non-null   datetime64[ns]\n",
            " 1   SPX     5472 non-null   float64       \n",
            "dtypes: datetime64[ns](1), float64(1)\n",
            "memory usage: 85.6 KB\n"
          ],
          "name": "stdout"
        }
      ]
    },
    {
      "cell_type": "code",
      "metadata": {
        "colab": {
          "base_uri": "https://localhost:8080/",
          "height": 214
        },
        "id": "8Kv7_2cK7QcQ",
        "outputId": "acbd8fe5-2e8b-401d-9f09-76a6a28799d2"
      },
      "source": [
        "spx.head()"
      ],
      "execution_count": 53,
      "outputs": [
        {
          "output_type": "execute_result",
          "data": {
            "text/html": [
              "<div>\n",
              "<style scoped>\n",
              "    .dataframe tbody tr th:only-of-type {\n",
              "        vertical-align: middle;\n",
              "    }\n",
              "\n",
              "    .dataframe tbody tr th {\n",
              "        vertical-align: top;\n",
              "    }\n",
              "\n",
              "    .dataframe thead th {\n",
              "        text-align: right;\n",
              "    }\n",
              "</style>\n",
              "<table border=\"1\" class=\"dataframe\">\n",
              "  <thead>\n",
              "    <tr style=\"text-align: right;\">\n",
              "      <th></th>\n",
              "      <th>Date</th>\n",
              "      <th>SPX</th>\n",
              "    </tr>\n",
              "  </thead>\n",
              "  <tbody>\n",
              "    <tr>\n",
              "      <th>0</th>\n",
              "      <td>1990-02-01</td>\n",
              "      <td>328.79</td>\n",
              "    </tr>\n",
              "    <tr>\n",
              "      <th>1</th>\n",
              "      <td>1990-02-02</td>\n",
              "      <td>330.92</td>\n",
              "    </tr>\n",
              "    <tr>\n",
              "      <th>2</th>\n",
              "      <td>1990-02-05</td>\n",
              "      <td>331.85</td>\n",
              "    </tr>\n",
              "    <tr>\n",
              "      <th>3</th>\n",
              "      <td>1990-02-06</td>\n",
              "      <td>329.66</td>\n",
              "    </tr>\n",
              "    <tr>\n",
              "      <th>4</th>\n",
              "      <td>1990-02-07</td>\n",
              "      <td>333.75</td>\n",
              "    </tr>\n",
              "  </tbody>\n",
              "</table>\n",
              "</div>"
            ],
            "text/plain": [
              "        Date     SPX\n",
              "0 1990-02-01  328.79\n",
              "1 1990-02-02  330.92\n",
              "2 1990-02-05  331.85\n",
              "3 1990-02-06  329.66\n",
              "4 1990-02-07  333.75"
            ]
          },
          "metadata": {
            "tags": []
          },
          "execution_count": 53
        }
      ]
    },
    {
      "cell_type": "code",
      "metadata": {
        "id": "E3LMj-BE7_0r"
      },
      "source": [
        "# pd.read_csv()를 할 때, datetime으로 사용할 컬럼을 지정하는 방법:\r\n",
        "spx2 = pd.read_csv(file_path, header=0, names=['date', 'spx'], \r\n",
        "                   parse_dates=['date'])\r\n",
        "# parse_dates 파라미터: datetime 타입으로 변환할 컬럼들의 리스트"
      ],
      "execution_count": 44,
      "outputs": []
    },
    {
      "cell_type": "code",
      "metadata": {
        "colab": {
          "base_uri": "https://localhost:8080/",
          "height": 214
        },
        "id": "Vhua25rC8gfP",
        "outputId": "4b187855-4a14-4988-803a-1e641f28b25e"
      },
      "source": [
        "spx2.head()"
      ],
      "execution_count": 54,
      "outputs": [
        {
          "output_type": "execute_result",
          "data": {
            "text/html": [
              "<div>\n",
              "<style scoped>\n",
              "    .dataframe tbody tr th:only-of-type {\n",
              "        vertical-align: middle;\n",
              "    }\n",
              "\n",
              "    .dataframe tbody tr th {\n",
              "        vertical-align: top;\n",
              "    }\n",
              "\n",
              "    .dataframe thead th {\n",
              "        text-align: right;\n",
              "    }\n",
              "</style>\n",
              "<table border=\"1\" class=\"dataframe\">\n",
              "  <thead>\n",
              "    <tr style=\"text-align: right;\">\n",
              "      <th></th>\n",
              "      <th>date</th>\n",
              "      <th>spx</th>\n",
              "    </tr>\n",
              "  </thead>\n",
              "  <tbody>\n",
              "    <tr>\n",
              "      <th>0</th>\n",
              "      <td>1990-02-01</td>\n",
              "      <td>328.79</td>\n",
              "    </tr>\n",
              "    <tr>\n",
              "      <th>1</th>\n",
              "      <td>1990-02-02</td>\n",
              "      <td>330.92</td>\n",
              "    </tr>\n",
              "    <tr>\n",
              "      <th>2</th>\n",
              "      <td>1990-02-05</td>\n",
              "      <td>331.85</td>\n",
              "    </tr>\n",
              "    <tr>\n",
              "      <th>3</th>\n",
              "      <td>1990-02-06</td>\n",
              "      <td>329.66</td>\n",
              "    </tr>\n",
              "    <tr>\n",
              "      <th>4</th>\n",
              "      <td>1990-02-07</td>\n",
              "      <td>333.75</td>\n",
              "    </tr>\n",
              "  </tbody>\n",
              "</table>\n",
              "</div>"
            ],
            "text/plain": [
              "        date     spx\n",
              "0 1990-02-01  328.79\n",
              "1 1990-02-02  330.92\n",
              "2 1990-02-05  331.85\n",
              "3 1990-02-06  329.66\n",
              "4 1990-02-07  333.75"
            ]
          },
          "metadata": {
            "tags": []
          },
          "execution_count": 54
        }
      ]
    },
    {
      "cell_type": "code",
      "metadata": {
        "colab": {
          "base_uri": "https://localhost:8080/"
        },
        "id": "4sXu90AI8pyH",
        "outputId": "05de10eb-f806-407b-aff1-bfe019b77c32"
      },
      "source": [
        "spx2.info()"
      ],
      "execution_count": 46,
      "outputs": [
        {
          "output_type": "stream",
          "text": [
            "<class 'pandas.core.frame.DataFrame'>\n",
            "RangeIndex: 5472 entries, 0 to 5471\n",
            "Data columns (total 2 columns):\n",
            " #   Column  Non-Null Count  Dtype         \n",
            "---  ------  --------------  -----         \n",
            " 0   date    5472 non-null   datetime64[ns]\n",
            " 1   spx     5472 non-null   float64       \n",
            "dtypes: datetime64[ns](1), float64(1)\n",
            "memory usage: 85.6 KB\n"
          ],
          "name": "stdout"
        }
      ]
    },
    {
      "cell_type": "code",
      "metadata": {
        "id": "HhEdV9d5umqs"
      },
      "source": [
        "import matplotlib.pyplot as plt"
      ],
      "execution_count": 55,
      "outputs": []
    },
    {
      "cell_type": "code",
      "metadata": {
        "colab": {
          "base_uri": "https://localhost:8080/",
          "height": 265
        },
        "id": "JjvOJNkUurUD",
        "outputId": "233904c6-accd-42b6-d0f8-8797acd18d91"
      },
      "source": [
        "plt.plot(spx2['date'], spx2['spx'])\r\n",
        "plt.show()"
      ],
      "execution_count": 57,
      "outputs": [
        {
          "output_type": "display_data",
          "data": {
            "image/png": "[encoded data removed]",
            "text/plain": [
              "<Figure size 432x288 with 1 Axes>"
            ]
          },
          "metadata": {
            "tags": [],
            "needs_background": "light"
          }
        }
      ]
    },
    {
      "cell_type": "code",
      "metadata": {
        "colab": {
          "base_uri": "https://localhost:8080/",
          "height": 214
        },
        "id": "RVQ4cM9v9Rog",
        "outputId": "2846f0cc-bbd8-493d-d5ad-91df9c68a2ef"
      },
      "source": [
        "# spx2 데이터 프레임에 year 파생변수를 추가\r\n",
        "spx2['year'] = spx2['date'].dt.year\r\n",
        "spx2.head()"
      ],
      "execution_count": 58,
      "outputs": [
        {
          "output_type": "execute_result",
          "data": {
            "text/html": [
              "<div>\n",
              "<style scoped>\n",
              "    .dataframe tbody tr th:only-of-type {\n",
              "        vertical-align: middle;\n",
              "    }\n",
              "\n",
              "    .dataframe tbody tr th {\n",
              "        vertical-align: top;\n",
              "    }\n",
              "\n",
              "    .dataframe thead th {\n",
              "        text-align: right;\n",
              "    }\n",
              "</style>\n",
              "<table border=\"1\" class=\"dataframe\">\n",
              "  <thead>\n",
              "    <tr style=\"text-align: right;\">\n",
              "      <th></th>\n",
              "      <th>date</th>\n",
              "      <th>spx</th>\n",
              "      <th>year</th>\n",
              "    </tr>\n",
              "  </thead>\n",
              "  <tbody>\n",
              "    <tr>\n",
              "      <th>0</th>\n",
              "      <td>1990-02-01</td>\n",
              "      <td>328.79</td>\n",
              "      <td>1990</td>\n",
              "    </tr>\n",
              "    <tr>\n",
              "      <th>1</th>\n",
              "      <td>1990-02-02</td>\n",
              "      <td>330.92</td>\n",
              "      <td>1990</td>\n",
              "    </tr>\n",
              "    <tr>\n",
              "      <th>2</th>\n",
              "      <td>1990-02-05</td>\n",
              "      <td>331.85</td>\n",
              "      <td>1990</td>\n",
              "    </tr>\n",
              "    <tr>\n",
              "      <th>3</th>\n",
              "      <td>1990-02-06</td>\n",
              "      <td>329.66</td>\n",
              "      <td>1990</td>\n",
              "    </tr>\n",
              "    <tr>\n",
              "      <th>4</th>\n",
              "      <td>1990-02-07</td>\n",
              "      <td>333.75</td>\n",
              "      <td>1990</td>\n",
              "    </tr>\n",
              "  </tbody>\n",
              "</table>\n",
              "</div>"
            ],
            "text/plain": [
              "        date     spx  year\n",
              "0 1990-02-01  328.79  1990\n",
              "1 1990-02-02  330.92  1990\n",
              "2 1990-02-05  331.85  1990\n",
              "3 1990-02-06  329.66  1990\n",
              "4 1990-02-07  333.75  1990"
            ]
          },
          "metadata": {
            "tags": []
          },
          "execution_count": 58
        }
      ]
    },
    {
      "cell_type": "code",
      "metadata": {
        "colab": {
          "base_uri": "https://localhost:8080/",
          "height": 214
        },
        "id": "NVbEeeRdviJS",
        "outputId": "795d46be-4283-4723-fc63-1cc2ccccea04"
      },
      "source": [
        "spx2.tail()"
      ],
      "execution_count": 59,
      "outputs": [
        {
          "output_type": "execute_result",
          "data": {
            "text/html": [
              "<div>\n",
              "<style scoped>\n",
              "    .dataframe tbody tr th:only-of-type {\n",
              "        vertical-align: middle;\n",
              "    }\n",
              "\n",
              "    .dataframe tbody tr th {\n",
              "        vertical-align: top;\n",
              "    }\n",
              "\n",
              "    .dataframe thead th {\n",
              "        text-align: right;\n",
              "    }\n",
              "</style>\n",
              "<table border=\"1\" class=\"dataframe\">\n",
              "  <thead>\n",
              "    <tr style=\"text-align: right;\">\n",
              "      <th></th>\n",
              "      <th>date</th>\n",
              "      <th>spx</th>\n",
              "      <th>year</th>\n",
              "    </tr>\n",
              "  </thead>\n",
              "  <tbody>\n",
              "    <tr>\n",
              "      <th>5467</th>\n",
              "      <td>2011-10-10</td>\n",
              "      <td>1194.89</td>\n",
              "      <td>2011</td>\n",
              "    </tr>\n",
              "    <tr>\n",
              "      <th>5468</th>\n",
              "      <td>2011-10-11</td>\n",
              "      <td>1195.54</td>\n",
              "      <td>2011</td>\n",
              "    </tr>\n",
              "    <tr>\n",
              "      <th>5469</th>\n",
              "      <td>2011-10-12</td>\n",
              "      <td>1207.25</td>\n",
              "      <td>2011</td>\n",
              "    </tr>\n",
              "    <tr>\n",
              "      <th>5470</th>\n",
              "      <td>2011-10-13</td>\n",
              "      <td>1203.66</td>\n",
              "      <td>2011</td>\n",
              "    </tr>\n",
              "    <tr>\n",
              "      <th>5471</th>\n",
              "      <td>2011-10-14</td>\n",
              "      <td>1224.58</td>\n",
              "      <td>2011</td>\n",
              "    </tr>\n",
              "  </tbody>\n",
              "</table>\n",
              "</div>"
            ],
            "text/plain": [
              "           date      spx  year\n",
              "5467 2011-10-10  1194.89  2011\n",
              "5468 2011-10-11  1195.54  2011\n",
              "5469 2011-10-12  1207.25  2011\n",
              "5470 2011-10-13  1203.66  2011\n",
              "5471 2011-10-14  1224.58  2011"
            ]
          },
          "metadata": {
            "tags": []
          },
          "execution_count": 59
        }
      ]
    },
    {
      "cell_type": "code",
      "metadata": {
        "colab": {
          "base_uri": "https://localhost:8080/"
        },
        "id": "GCyYBuhKvojb",
        "outputId": "b3980352-4b35-47f8-d56e-3004583fa3bb"
      },
      "source": [
        "# spx2 데이터 프레임에서 연도별 spx의 평균\r\n",
        "spx_by_year = spx2.groupby(by='year')['spx'].mean()\r\n",
        "spx_by_year"
      ],
      "execution_count": 62,
      "outputs": [
        {
          "output_type": "execute_result",
          "data": {
            "text/plain": [
              "year\n",
              "1990     334.123506\n",
              "1991     376.186324\n",
              "1992     415.747008\n",
              "1993     451.614822\n",
              "1994     460.416508\n",
              "1995     541.719087\n",
              "1996     670.494843\n",
              "1997     873.427787\n",
              "1998    1085.503254\n",
              "1999    1327.329563\n",
              "2000    1427.221071\n",
              "2001    1194.178992\n",
              "2002     993.934802\n",
              "2003     965.227540\n",
              "2004    1130.649444\n",
              "2005    1207.229444\n",
              "2006    1310.461633\n",
              "2007    1477.184343\n",
              "2008    1220.042055\n",
              "2009     948.046389\n",
              "2010    1139.965516\n",
              "2011    1276.093015\n",
              "Name: spx, dtype: float64"
            ]
          },
          "metadata": {
            "tags": []
          },
          "execution_count": 62
        }
      ]
    },
    {
      "cell_type": "code",
      "metadata": {
        "colab": {
          "base_uri": "https://localhost:8080/",
          "height": 265
        },
        "id": "Ajwy7QOhvqzL",
        "outputId": "d6f5289f-d342-41e4-fdf6-46fc6f0b50e6"
      },
      "source": [
        "# 연도별 spx의 평균을 시각화\r\n",
        "plt.plot(spx_by_year, 'o-')\r\n",
        "plt.show()"
      ],
      "execution_count": 64,
      "outputs": [
        {
          "output_type": "display_data",
          "data": {
            "image/png": "[encoded data removed]",
            "text/plain": [
              "<Figure size 432x288 with 1 Axes>"
            ]
          },
          "metadata": {
            "tags": [],
            "needs_background": "light"
          }
        }
      ]
    },
    {
      "cell_type": "code",
      "metadata": {
        "colab": {
          "base_uri": "https://localhost:8080/",
          "height": 265
        },
        "id": "fpdJ8EtMxdv7",
        "outputId": "9f5cfa4c-1897-46b4-a195-9a8b5914a826"
      },
      "source": [
        "# 2011년도 자료만 시각화\r\n",
        "spx2_2011 = spx2[spx2['year'] == 2011]\r\n",
        "\r\n",
        "plt.plot(spx2_2011['date'], spx2_2011['spx'])\r\n",
        "plt.show()"
      ],
      "execution_count": 68,
      "outputs": [
        {
          "output_type": "display_data",
          "data": {
            "image/png": "[encoded data removed]",
            "text/plain": [
              "<Figure size 432x288 with 1 Axes>"
            ]
          },
          "metadata": {
            "tags": [],
            "needs_background": "light"
          }
        }
      ]
    },
    {
      "cell_type": "code",
      "metadata": {
        "colab": {
          "base_uri": "https://localhost:8080/",
          "height": 410
        },
        "id": "rgQTxNvFykim",
        "outputId": "f24ac06f-dd60-4050-ec42-98ec084a8616"
      },
      "source": [
        "# 분기(quarter) 파생변수 추가\r\n",
        "spx2['quarter'] = spx2['date'].dt.quarter\r\n",
        "\r\n",
        "# 연도별, 분기별 spx의 평균 계산\r\n",
        "spx_by_quarter = spx2.groupby(by=['year', 'quarter'])['spx'].mean()\r\n",
        "print(spx_by_quarter.head())\r\n",
        "#> multi-index\r\n",
        "\r\n",
        "# 각 분기별 spx 평균 시각화\r\n",
        "year_q = [str(y) + 'Q' + str(q) for y, q in spx_by_quarter.index]\r\n",
        "plt.plot(year_q, spx_by_quarter)\r\n",
        "plt.show()"
      ],
      "execution_count": 82,
      "outputs": [
        {
          "output_type": "stream",
          "text": [
            "year  quarter\n",
            "1990  1          334.751951\n",
            "      2          349.796508\n",
            "      3          335.881746\n",
            "      4          316.562031\n",
            "1991  1          352.282951\n",
            "Name: spx, dtype: float64\n"
          ],
          "name": "stdout"
        },
        {
          "output_type": "display_data",
          "data": {
            "image/png": "[encoded data removed]",
            "text/plain": [
              "<Figure size 432x288 with 1 Axes>"
            ]
          },
          "metadata": {
            "tags": [],
            "needs_background": "light"
          }
        }
      ]
    },
    {
      "cell_type": "markdown",
      "metadata": {
        "id": "SbFDJFLN3f7k"
      },
      "source": [
        "*   datetime 타입의 컬럼을 index로 설정 ---> 편리한 샘플링(groupby와 유사)이 가능."
      ]
    },
    {
      "cell_type": "code",
      "metadata": {
        "colab": {
          "base_uri": "https://localhost:8080/",
          "height": 474
        },
        "id": "65r_8_cy3fV8",
        "outputId": "98980518-7ceb-4340-b0ee-7ed3fc9df028"
      },
      "source": [
        "spx3 = spx2.set_index(keys='date')\r\n",
        "spx3"
      ],
      "execution_count": 85,
      "outputs": [
        {
          "output_type": "execute_result",
          "data": {
            "text/html": [
              "<div>\n",
              "<style scoped>\n",
              "    .dataframe tbody tr th:only-of-type {\n",
              "        vertical-align: middle;\n",
              "    }\n",
              "\n",
              "    .dataframe tbody tr th {\n",
              "        vertical-align: top;\n",
              "    }\n",
              "\n",
              "    .dataframe thead th {\n",
              "        text-align: right;\n",
              "    }\n",
              "</style>\n",
              "<table border=\"1\" class=\"dataframe\">\n",
              "  <thead>\n",
              "    <tr style=\"text-align: right;\">\n",
              "      <th></th>\n",
              "      <th>spx</th>\n",
              "      <th>year</th>\n",
              "      <th>quarter</th>\n",
              "    </tr>\n",
              "    <tr>\n",
              "      <th>date</th>\n",
              "      <th></th>\n",
              "      <th></th>\n",
              "      <th></th>\n",
              "    </tr>\n",
              "  </thead>\n",
              "  <tbody>\n",
              "    <tr>\n",
              "      <th>1990-02-01</th>\n",
              "      <td>328.79</td>\n",
              "      <td>1990</td>\n",
              "      <td>1</td>\n",
              "    </tr>\n",
              "    <tr>\n",
              "      <th>1990-02-02</th>\n",
              "      <td>330.92</td>\n",
              "      <td>1990</td>\n",
              "      <td>1</td>\n",
              "    </tr>\n",
              "    <tr>\n",
              "      <th>1990-02-05</th>\n",
              "      <td>331.85</td>\n",
              "      <td>1990</td>\n",
              "      <td>1</td>\n",
              "    </tr>\n",
              "    <tr>\n",
              "      <th>1990-02-06</th>\n",
              "      <td>329.66</td>\n",
              "      <td>1990</td>\n",
              "      <td>1</td>\n",
              "    </tr>\n",
              "    <tr>\n",
              "      <th>1990-02-07</th>\n",
              "      <td>333.75</td>\n",
              "      <td>1990</td>\n",
              "      <td>1</td>\n",
              "    </tr>\n",
              "    <tr>\n",
              "      <th>...</th>\n",
              "      <td>...</td>\n",
              "      <td>...</td>\n",
              "      <td>...</td>\n",
              "    </tr>\n",
              "    <tr>\n",
              "      <th>2011-10-10</th>\n",
              "      <td>1194.89</td>\n",
              "      <td>2011</td>\n",
              "      <td>4</td>\n",
              "    </tr>\n",
              "    <tr>\n",
              "      <th>2011-10-11</th>\n",
              "      <td>1195.54</td>\n",
              "      <td>2011</td>\n",
              "      <td>4</td>\n",
              "    </tr>\n",
              "    <tr>\n",
              "      <th>2011-10-12</th>\n",
              "      <td>1207.25</td>\n",
              "      <td>2011</td>\n",
              "      <td>4</td>\n",
              "    </tr>\n",
              "    <tr>\n",
              "      <th>2011-10-13</th>\n",
              "      <td>1203.66</td>\n",
              "      <td>2011</td>\n",
              "      <td>4</td>\n",
              "    </tr>\n",
              "    <tr>\n",
              "      <th>2011-10-14</th>\n",
              "      <td>1224.58</td>\n",
              "      <td>2011</td>\n",
              "      <td>4</td>\n",
              "    </tr>\n",
              "  </tbody>\n",
              "</table>\n",
              "<p>5472 rows × 3 columns</p>\n",
              "</div>"
            ],
            "text/plain": [
              "                spx  year  quarter\n",
              "date                              \n",
              "1990-02-01   328.79  1990        1\n",
              "1990-02-02   330.92  1990        1\n",
              "1990-02-05   331.85  1990        1\n",
              "1990-02-06   329.66  1990        1\n",
              "1990-02-07   333.75  1990        1\n",
              "...             ...   ...      ...\n",
              "2011-10-10  1194.89  2011        4\n",
              "2011-10-11  1195.54  2011        4\n",
              "2011-10-12  1207.25  2011        4\n",
              "2011-10-13  1203.66  2011        4\n",
              "2011-10-14  1224.58  2011        4\n",
              "\n",
              "[5472 rows x 3 columns]"
            ]
          },
          "metadata": {
            "tags": []
          },
          "execution_count": 85
        }
      ]
    },
    {
      "cell_type": "code",
      "metadata": {
        "colab": {
          "base_uri": "https://localhost:8080/"
        },
        "id": "auihhwBe4Rum",
        "outputId": "0199ca68-9cf7-4efb-bbc2-30477fe94b22"
      },
      "source": [
        "spx3.info()"
      ],
      "execution_count": 86,
      "outputs": [
        {
          "output_type": "stream",
          "text": [
            "<class 'pandas.core.frame.DataFrame'>\n",
            "DatetimeIndex: 5472 entries, 1990-02-01 to 2011-10-14\n",
            "Data columns (total 3 columns):\n",
            " #   Column   Non-Null Count  Dtype  \n",
            "---  ------   --------------  -----  \n",
            " 0   spx      5472 non-null   float64\n",
            " 1   year     5472 non-null   int64  \n",
            " 2   quarter  5472 non-null   int64  \n",
            "dtypes: float64(1), int64(2)\n",
            "memory usage: 171.0 KB\n"
          ],
          "name": "stdout"
        }
      ]
    },
    {
      "cell_type": "code",
      "metadata": {
        "colab": {
          "base_uri": "https://localhost:8080/"
        },
        "id": "wwg8A7et4dxn",
        "outputId": "3da849ed-0d9e-4103-b1ba-de54b2b0e8fa"
      },
      "source": [
        "spx3.index"
      ],
      "execution_count": 87,
      "outputs": [
        {
          "output_type": "execute_result",
          "data": {
            "text/plain": [
              "DatetimeIndex(['1990-02-01', '1990-02-02', '1990-02-05', '1990-02-06',\n",
              "               '1990-02-07', '1990-02-08', '1990-02-09', '1990-02-12',\n",
              "               '1990-02-13', '1990-02-14',\n",
              "               ...\n",
              "               '2011-10-03', '2011-10-04', '2011-10-05', '2011-10-06',\n",
              "               '2011-10-07', '2011-10-10', '2011-10-11', '2011-10-12',\n",
              "               '2011-10-13', '2011-10-14'],\n",
              "              dtype='datetime64[ns]', name='date', length=5472, freq=None)"
            ]
          },
          "metadata": {
            "tags": []
          },
          "execution_count": 87
        }
      ]
    },
    {
      "cell_type": "code",
      "metadata": {
        "colab": {
          "base_uri": "https://localhost:8080/"
        },
        "id": "FPKdl67P9xIN",
        "outputId": "65ec83c4-e1a1-4086-e652-a3bea369ee28"
      },
      "source": [
        "spx2.groupby(by='year')['spx'].mean()"
      ],
      "execution_count": 97,
      "outputs": [
        {
          "output_type": "execute_result",
          "data": {
            "text/plain": [
              "year\n",
              "1990     334.123506\n",
              "1991     376.186324\n",
              "1992     415.747008\n",
              "1993     451.614822\n",
              "1994     460.416508\n",
              "1995     541.719087\n",
              "1996     670.494843\n",
              "1997     873.427787\n",
              "1998    1085.503254\n",
              "1999    1327.329563\n",
              "2000    1427.221071\n",
              "2001    1194.178992\n",
              "2002     993.934802\n",
              "2003     965.227540\n",
              "2004    1130.649444\n",
              "2005    1207.229444\n",
              "2006    1310.461633\n",
              "2007    1477.184343\n",
              "2008    1220.042055\n",
              "2009     948.046389\n",
              "2010    1139.965516\n",
              "2011    1276.093015\n",
              "Name: spx, dtype: float64"
            ]
          },
          "metadata": {
            "tags": []
          },
          "execution_count": 97
        }
      ]
    },
    {
      "cell_type": "code",
      "metadata": {
        "colab": {
          "base_uri": "https://localhost:8080/"
        },
        "id": "PQozgts24lGN",
        "outputId": "0bebace4-0641-473f-b1d5-5c9b53ad7d5d"
      },
      "source": [
        "# 연도별 spx의 평균\r\n",
        "spx3.resample('Y', kind='period')['spx'].mean()"
      ],
      "execution_count": 98,
      "outputs": [
        {
          "output_type": "execute_result",
          "data": {
            "text/plain": [
              "date\n",
              "1990     334.123506\n",
              "1991     376.186324\n",
              "1992     415.747008\n",
              "1993     451.614822\n",
              "1994     460.416508\n",
              "1995     541.719087\n",
              "1996     670.494843\n",
              "1997     873.427787\n",
              "1998    1085.503254\n",
              "1999    1327.329563\n",
              "2000    1427.221071\n",
              "2001    1194.178992\n",
              "2002     993.934802\n",
              "2003     965.227540\n",
              "2004    1130.649444\n",
              "2005    1207.229444\n",
              "2006    1310.461633\n",
              "2007    1477.184343\n",
              "2008    1220.042055\n",
              "2009     948.046389\n",
              "2010    1139.965516\n",
              "2011    1276.093015\n",
              "Freq: A-DEC, Name: spx, dtype: float64"
            ]
          },
          "metadata": {
            "tags": []
          },
          "execution_count": 98
        }
      ]
    },
    {
      "cell_type": "code",
      "metadata": {
        "colab": {
          "base_uri": "https://localhost:8080/"
        },
        "id": "RS5JRhuk-Wiv",
        "outputId": "381a6800-0f8a-479b-9457-0475dfd0267c"
      },
      "source": [
        "spx2.groupby(by=['year', 'quarter'])['spx'].mean()"
      ],
      "execution_count": 100,
      "outputs": [
        {
          "output_type": "execute_result",
          "data": {
            "text/plain": [
              "year  quarter\n",
              "1990  1           334.751951\n",
              "      2           349.796508\n",
              "      3           335.881746\n",
              "      4           316.562031\n",
              "1991  1           352.282951\n",
              "                    ...     \n",
              "2010  4          1204.585625\n",
              "2011  1          1302.529032\n",
              "      2          1318.332857\n",
              "      3          1225.268437\n",
              "      4          1171.356000\n",
              "Name: spx, Length: 88, dtype: float64"
            ]
          },
          "metadata": {
            "tags": []
          },
          "execution_count": 100
        }
      ]
    },
    {
      "cell_type": "code",
      "metadata": {
        "colab": {
          "base_uri": "https://localhost:8080/"
        },
        "id": "pPkcj8ms5kJd",
        "outputId": "f348256c-7361-4364-aad8-551d612a1197"
      },
      "source": [
        "# 분기별 spx의 평균\r\n",
        "s = spx3.resample('Q')['spx'].mean()\r\n",
        "s"
      ],
      "execution_count": 108,
      "outputs": [
        {
          "output_type": "execute_result",
          "data": {
            "text/plain": [
              "date\n",
              "1990-03-31     334.751951\n",
              "1990-06-30     349.796508\n",
              "1990-09-30     335.881746\n",
              "1990-12-31     316.562031\n",
              "1991-03-31     352.282951\n",
              "                 ...     \n",
              "2010-12-31    1204.585625\n",
              "2011-03-31    1302.529032\n",
              "2011-06-30    1318.332857\n",
              "2011-09-30    1225.268437\n",
              "2011-12-31    1171.356000\n",
              "Freq: Q-DEC, Name: spx, Length: 88, dtype: float64"
            ]
          },
          "metadata": {
            "tags": []
          },
          "execution_count": 108
        }
      ]
    },
    {
      "cell_type": "code",
      "metadata": {
        "colab": {
          "base_uri": "https://localhost:8080/",
          "height": 265
        },
        "id": "3rbbiJ5459Yd",
        "outputId": "3ba3120a-f3b9-4aff-dece-c87cd2741be3"
      },
      "source": [
        "# s.index\r\n",
        "plt.plot(s)\r\n",
        "plt.grid()\r\n",
        "plt.show()"
      ],
      "execution_count": 109,
      "outputs": [
        {
          "output_type": "display_data",
          "data": {
            "image/png": "[encoded data removed]",
            "text/plain": [
              "<Figure size 432x288 with 1 Axes>"
            ]
          },
          "metadata": {
            "tags": [],
            "needs_background": "light"
          }
        }
      ]
    },
    {
      "cell_type": "markdown",
      "metadata": {
        "id": "KZg0iulABHFK"
      },
      "source": [
        "*   대기중 $NO_2$의 농도 측정 자료"
      ]
    },
    {
      "cell_type": "code",
      "metadata": {
        "id": "ssojtAhxBRe8"
      },
      "source": [
        "no2_file = 'https://github.com/pandas-dev/pandas/raw/master/doc/data/air_quality_no2_long.csv'"
      ],
      "execution_count": 110,
      "outputs": []
    },
    {
      "cell_type": "code",
      "metadata": {
        "id": "YTtaS4gwBXlU"
      },
      "source": [
        "# csv 파일을 읽고 데이터 프레임 생성\r\n",
        "air_quality = pd.read_csv(no2_file)"
      ],
      "execution_count": 122,
      "outputs": []
    },
    {
      "cell_type": "code",
      "metadata": {
        "colab": {
          "base_uri": "https://localhost:8080/",
          "height": 214
        },
        "id": "GByxC9MjBlLd",
        "outputId": "ee2df639-f3c3-425e-aaae-a7e4364f9037"
      },
      "source": [
        "air_quality.head()"
      ],
      "execution_count": 123,
      "outputs": [
        {
          "output_type": "execute_result",
          "data": {
            "text/html": [
              "<div>\n",
              "<style scoped>\n",
              "    .dataframe tbody tr th:only-of-type {\n",
              "        vertical-align: middle;\n",
              "    }\n",
              "\n",
              "    .dataframe tbody tr th {\n",
              "        vertical-align: top;\n",
              "    }\n",
              "\n",
              "    .dataframe thead th {\n",
              "        text-align: right;\n",
              "    }\n",
              "</style>\n",
              "<table border=\"1\" class=\"dataframe\">\n",
              "  <thead>\n",
              "    <tr style=\"text-align: right;\">\n",
              "      <th></th>\n",
              "      <th>city</th>\n",
              "      <th>country</th>\n",
              "      <th>date.utc</th>\n",
              "      <th>location</th>\n",
              "      <th>parameter</th>\n",
              "      <th>value</th>\n",
              "      <th>unit</th>\n",
              "    </tr>\n",
              "  </thead>\n",
              "  <tbody>\n",
              "    <tr>\n",
              "      <th>0</th>\n",
              "      <td>Paris</td>\n",
              "      <td>FR</td>\n",
              "      <td>2019-06-21 00:00:00+00:00</td>\n",
              "      <td>FR04014</td>\n",
              "      <td>no2</td>\n",
              "      <td>20.0</td>\n",
              "      <td>µg/m³</td>\n",
              "    </tr>\n",
              "    <tr>\n",
              "      <th>1</th>\n",
              "      <td>Paris</td>\n",
              "      <td>FR</td>\n",
              "      <td>2019-06-20 23:00:00+00:00</td>\n",
              "      <td>FR04014</td>\n",
              "      <td>no2</td>\n",
              "      <td>21.8</td>\n",
              "      <td>µg/m³</td>\n",
              "    </tr>\n",
              "    <tr>\n",
              "      <th>2</th>\n",
              "      <td>Paris</td>\n",
              "      <td>FR</td>\n",
              "      <td>2019-06-20 22:00:00+00:00</td>\n",
              "      <td>FR04014</td>\n",
              "      <td>no2</td>\n",
              "      <td>26.5</td>\n",
              "      <td>µg/m³</td>\n",
              "    </tr>\n",
              "    <tr>\n",
              "      <th>3</th>\n",
              "      <td>Paris</td>\n",
              "      <td>FR</td>\n",
              "      <td>2019-06-20 21:00:00+00:00</td>\n",
              "      <td>FR04014</td>\n",
              "      <td>no2</td>\n",
              "      <td>24.9</td>\n",
              "      <td>µg/m³</td>\n",
              "    </tr>\n",
              "    <tr>\n",
              "      <th>4</th>\n",
              "      <td>Paris</td>\n",
              "      <td>FR</td>\n",
              "      <td>2019-06-20 20:00:00+00:00</td>\n",
              "      <td>FR04014</td>\n",
              "      <td>no2</td>\n",
              "      <td>21.4</td>\n",
              "      <td>µg/m³</td>\n",
              "    </tr>\n",
              "  </tbody>\n",
              "</table>\n",
              "</div>"
            ],
            "text/plain": [
              "    city country                   date.utc location parameter  value   unit\n",
              "0  Paris      FR  2019-06-21 00:00:00+00:00  FR04014       no2   20.0  µg/m³\n",
              "1  Paris      FR  2019-06-20 23:00:00+00:00  FR04014       no2   21.8  µg/m³\n",
              "2  Paris      FR  2019-06-20 22:00:00+00:00  FR04014       no2   26.5  µg/m³\n",
              "3  Paris      FR  2019-06-20 21:00:00+00:00  FR04014       no2   24.9  µg/m³\n",
              "4  Paris      FR  2019-06-20 20:00:00+00:00  FR04014       no2   21.4  µg/m³"
            ]
          },
          "metadata": {
            "tags": []
          },
          "execution_count": 123
        }
      ]
    },
    {
      "cell_type": "code",
      "metadata": {
        "colab": {
          "base_uri": "https://localhost:8080/"
        },
        "id": "fkyL_7bPBzSl",
        "outputId": "314c434d-9b28-4df5-df6a-7be9373077f5"
      },
      "source": [
        "air_quality.info()"
      ],
      "execution_count": 124,
      "outputs": [
        {
          "output_type": "stream",
          "text": [
            "<class 'pandas.core.frame.DataFrame'>\n",
            "RangeIndex: 2068 entries, 0 to 2067\n",
            "Data columns (total 7 columns):\n",
            " #   Column     Non-Null Count  Dtype  \n",
            "---  ------     --------------  -----  \n",
            " 0   city       2068 non-null   object \n",
            " 1   country    2068 non-null   object \n",
            " 2   date.utc   2068 non-null   object \n",
            " 3   location   2068 non-null   object \n",
            " 4   parameter  2068 non-null   object \n",
            " 5   value      2068 non-null   float64\n",
            " 6   unit       2068 non-null   object \n",
            "dtypes: float64(1), object(6)\n",
            "memory usage: 113.2+ KB\n"
          ],
          "name": "stdout"
        }
      ]
    },
    {
      "cell_type": "code",
      "metadata": {
        "id": "voQLE4wjCdTu"
      },
      "source": [
        "# pd.read_csv() 함수는 기본 동작은 날짜/시간 형식의 문자열을 문자열(object) 타입 변수(컬럼)로 만듦.\r\n",
        "# -> 시계열 데이터로 분석하기 위해서는 문자열 타입을 날짜/시간 타입으로 변환할 필요가 있음.\r\n",
        "air_quality['date.utc'] = pd.to_datetime(air_quality['date.utc'])"
      ],
      "execution_count": 125,
      "outputs": []
    },
    {
      "cell_type": "code",
      "metadata": {
        "colab": {
          "base_uri": "https://localhost:8080/"
        },
        "id": "FNIZvkE6DFKn",
        "outputId": "4d70a7f8-df55-4d8c-9c09-4c1835107b7c"
      },
      "source": [
        "air_quality.info()"
      ],
      "execution_count": 126,
      "outputs": [
        {
          "output_type": "stream",
          "text": [
            "<class 'pandas.core.frame.DataFrame'>\n",
            "RangeIndex: 2068 entries, 0 to 2067\n",
            "Data columns (total 7 columns):\n",
            " #   Column     Non-Null Count  Dtype              \n",
            "---  ------     --------------  -----              \n",
            " 0   city       2068 non-null   object             \n",
            " 1   country    2068 non-null   object             \n",
            " 2   date.utc   2068 non-null   datetime64[ns, UTC]\n",
            " 3   location   2068 non-null   object             \n",
            " 4   parameter  2068 non-null   object             \n",
            " 5   value      2068 non-null   float64            \n",
            " 6   unit       2068 non-null   object             \n",
            "dtypes: datetime64[ns, UTC](1), float64(1), object(5)\n",
            "memory usage: 113.2+ KB\n"
          ],
          "name": "stdout"
        }
      ]
    },
    {
      "cell_type": "code",
      "metadata": {
        "colab": {
          "base_uri": "https://localhost:8080/",
          "height": 214
        },
        "id": "JP_sYc_ZDO7a",
        "outputId": "3daf687d-a4da-4918-a4e5-6b90e325cf13"
      },
      "source": [
        "air_quality.head()"
      ],
      "execution_count": 127,
      "outputs": [
        {
          "output_type": "execute_result",
          "data": {
            "text/html": [
              "<div>\n",
              "<style scoped>\n",
              "    .dataframe tbody tr th:only-of-type {\n",
              "        vertical-align: middle;\n",
              "    }\n",
              "\n",
              "    .dataframe tbody tr th {\n",
              "        vertical-align: top;\n",
              "    }\n",
              "\n",
              "    .dataframe thead th {\n",
              "        text-align: right;\n",
              "    }\n",
              "</style>\n",
              "<table border=\"1\" class=\"dataframe\">\n",
              "  <thead>\n",
              "    <tr style=\"text-align: right;\">\n",
              "      <th></th>\n",
              "      <th>city</th>\n",
              "      <th>country</th>\n",
              "      <th>date.utc</th>\n",
              "      <th>location</th>\n",
              "      <th>parameter</th>\n",
              "      <th>value</th>\n",
              "      <th>unit</th>\n",
              "    </tr>\n",
              "  </thead>\n",
              "  <tbody>\n",
              "    <tr>\n",
              "      <th>0</th>\n",
              "      <td>Paris</td>\n",
              "      <td>FR</td>\n",
              "      <td>2019-06-21 00:00:00+00:00</td>\n",
              "      <td>FR04014</td>\n",
              "      <td>no2</td>\n",
              "      <td>20.0</td>\n",
              "      <td>µg/m³</td>\n",
              "    </tr>\n",
              "    <tr>\n",
              "      <th>1</th>\n",
              "      <td>Paris</td>\n",
              "      <td>FR</td>\n",
              "      <td>2019-06-20 23:00:00+00:00</td>\n",
              "      <td>FR04014</td>\n",
              "      <td>no2</td>\n",
              "      <td>21.8</td>\n",
              "      <td>µg/m³</td>\n",
              "    </tr>\n",
              "    <tr>\n",
              "      <th>2</th>\n",
              "      <td>Paris</td>\n",
              "      <td>FR</td>\n",
              "      <td>2019-06-20 22:00:00+00:00</td>\n",
              "      <td>FR04014</td>\n",
              "      <td>no2</td>\n",
              "      <td>26.5</td>\n",
              "      <td>µg/m³</td>\n",
              "    </tr>\n",
              "    <tr>\n",
              "      <th>3</th>\n",
              "      <td>Paris</td>\n",
              "      <td>FR</td>\n",
              "      <td>2019-06-20 21:00:00+00:00</td>\n",
              "      <td>FR04014</td>\n",
              "      <td>no2</td>\n",
              "      <td>24.9</td>\n",
              "      <td>µg/m³</td>\n",
              "    </tr>\n",
              "    <tr>\n",
              "      <th>4</th>\n",
              "      <td>Paris</td>\n",
              "      <td>FR</td>\n",
              "      <td>2019-06-20 20:00:00+00:00</td>\n",
              "      <td>FR04014</td>\n",
              "      <td>no2</td>\n",
              "      <td>21.4</td>\n",
              "      <td>µg/m³</td>\n",
              "    </tr>\n",
              "  </tbody>\n",
              "</table>\n",
              "</div>"
            ],
            "text/plain": [
              "    city country                  date.utc location parameter  value   unit\n",
              "0  Paris      FR 2019-06-21 00:00:00+00:00  FR04014       no2   20.0  µg/m³\n",
              "1  Paris      FR 2019-06-20 23:00:00+00:00  FR04014       no2   21.8  µg/m³\n",
              "2  Paris      FR 2019-06-20 22:00:00+00:00  FR04014       no2   26.5  µg/m³\n",
              "3  Paris      FR 2019-06-20 21:00:00+00:00  FR04014       no2   24.9  µg/m³\n",
              "4  Paris      FR 2019-06-20 20:00:00+00:00  FR04014       no2   21.4  µg/m³"
            ]
          },
          "metadata": {
            "tags": []
          },
          "execution_count": 127
        }
      ]
    },
    {
      "cell_type": "code",
      "metadata": {
        "colab": {
          "base_uri": "https://localhost:8080/"
        },
        "id": "vjs8g7iNDnmB",
        "outputId": "ecd0fddc-1e15-466a-e88e-0e5d4fad2246"
      },
      "source": [
        "air_quality['date.utc'].min()"
      ],
      "execution_count": 128,
      "outputs": [
        {
          "output_type": "execute_result",
          "data": {
            "text/plain": [
              "Timestamp('2019-05-07 01:00:00+0000', tz='UTC')"
            ]
          },
          "metadata": {
            "tags": []
          },
          "execution_count": 128
        }
      ]
    },
    {
      "cell_type": "code",
      "metadata": {
        "colab": {
          "base_uri": "https://localhost:8080/"
        },
        "id": "cc0nMgiXDrrA",
        "outputId": "1b7cd4df-d7f7-476a-dc51-72e6986012c1"
      },
      "source": [
        "air_quality['date.utc'].max()"
      ],
      "execution_count": 129,
      "outputs": [
        {
          "output_type": "execute_result",
          "data": {
            "text/plain": [
              "Timestamp('2019-06-21 00:00:00+0000', tz='UTC')"
            ]
          },
          "metadata": {
            "tags": []
          },
          "execution_count": 129
        }
      ]
    },
    {
      "cell_type": "code",
      "metadata": {
        "id": "JsDWS2fuEVD8"
      },
      "source": [
        "# datetime 타입의 컬럼(date.utc)을 인덱스로 설정 ---> resample() 메서드 사용 가능.\r\n",
        "air_quality = air_quality.set_index(keys='date.utc')"
      ],
      "execution_count": 130,
      "outputs": []
    },
    {
      "cell_type": "code",
      "metadata": {
        "colab": {
          "base_uri": "https://localhost:8080/",
          "height": 247
        },
        "id": "bbJqnsZaErfP",
        "outputId": "2d47265d-4013-4039-80b5-37f8f5a8034a"
      },
      "source": [
        "air_quality.head()"
      ],
      "execution_count": 131,
      "outputs": [
        {
          "output_type": "execute_result",
          "data": {
            "text/html": [
              "<div>\n",
              "<style scoped>\n",
              "    .dataframe tbody tr th:only-of-type {\n",
              "        vertical-align: middle;\n",
              "    }\n",
              "\n",
              "    .dataframe tbody tr th {\n",
              "        vertical-align: top;\n",
              "    }\n",
              "\n",
              "    .dataframe thead th {\n",
              "        text-align: right;\n",
              "    }\n",
              "</style>\n",
              "<table border=\"1\" class=\"dataframe\">\n",
              "  <thead>\n",
              "    <tr style=\"text-align: right;\">\n",
              "      <th></th>\n",
              "      <th>city</th>\n",
              "      <th>country</th>\n",
              "      <th>location</th>\n",
              "      <th>parameter</th>\n",
              "      <th>value</th>\n",
              "      <th>unit</th>\n",
              "    </tr>\n",
              "    <tr>\n",
              "      <th>date.utc</th>\n",
              "      <th></th>\n",
              "      <th></th>\n",
              "      <th></th>\n",
              "      <th></th>\n",
              "      <th></th>\n",
              "      <th></th>\n",
              "    </tr>\n",
              "  </thead>\n",
              "  <tbody>\n",
              "    <tr>\n",
              "      <th>2019-06-21 00:00:00+00:00</th>\n",
              "      <td>Paris</td>\n",
              "      <td>FR</td>\n",
              "      <td>FR04014</td>\n",
              "      <td>no2</td>\n",
              "      <td>20.0</td>\n",
              "      <td>µg/m³</td>\n",
              "    </tr>\n",
              "    <tr>\n",
              "      <th>2019-06-20 23:00:00+00:00</th>\n",
              "      <td>Paris</td>\n",
              "      <td>FR</td>\n",
              "      <td>FR04014</td>\n",
              "      <td>no2</td>\n",
              "      <td>21.8</td>\n",
              "      <td>µg/m³</td>\n",
              "    </tr>\n",
              "    <tr>\n",
              "      <th>2019-06-20 22:00:00+00:00</th>\n",
              "      <td>Paris</td>\n",
              "      <td>FR</td>\n",
              "      <td>FR04014</td>\n",
              "      <td>no2</td>\n",
              "      <td>26.5</td>\n",
              "      <td>µg/m³</td>\n",
              "    </tr>\n",
              "    <tr>\n",
              "      <th>2019-06-20 21:00:00+00:00</th>\n",
              "      <td>Paris</td>\n",
              "      <td>FR</td>\n",
              "      <td>FR04014</td>\n",
              "      <td>no2</td>\n",
              "      <td>24.9</td>\n",
              "      <td>µg/m³</td>\n",
              "    </tr>\n",
              "    <tr>\n",
              "      <th>2019-06-20 20:00:00+00:00</th>\n",
              "      <td>Paris</td>\n",
              "      <td>FR</td>\n",
              "      <td>FR04014</td>\n",
              "      <td>no2</td>\n",
              "      <td>21.4</td>\n",
              "      <td>µg/m³</td>\n",
              "    </tr>\n",
              "  </tbody>\n",
              "</table>\n",
              "</div>"
            ],
            "text/plain": [
              "                            city country location parameter  value   unit\n",
              "date.utc                                                                 \n",
              "2019-06-21 00:00:00+00:00  Paris      FR  FR04014       no2   20.0  µg/m³\n",
              "2019-06-20 23:00:00+00:00  Paris      FR  FR04014       no2   21.8  µg/m³\n",
              "2019-06-20 22:00:00+00:00  Paris      FR  FR04014       no2   26.5  µg/m³\n",
              "2019-06-20 21:00:00+00:00  Paris      FR  FR04014       no2   24.9  µg/m³\n",
              "2019-06-20 20:00:00+00:00  Paris      FR  FR04014       no2   21.4  µg/m³"
            ]
          },
          "metadata": {
            "tags": []
          },
          "execution_count": 131
        }
      ]
    },
    {
      "cell_type": "code",
      "metadata": {
        "id": "sJsBy3SGY3hS"
      },
      "source": [
        "# pd.read_csv() ---> df.to_datetime() ---> df.set_index()\r\n",
        "air_quality = pd.read_csv(no2_file, parse_dates=['date.utc'], index_col='date.utc')"
      ],
      "execution_count": 136,
      "outputs": []
    },
    {
      "cell_type": "code",
      "metadata": {
        "colab": {
          "base_uri": "https://localhost:8080/"
        },
        "id": "-Z-6gcMbZ3bN",
        "outputId": "3273b6cc-171e-4038-dd08-5efe23d1cb2f"
      },
      "source": [
        "air_quality.info()"
      ],
      "execution_count": 137,
      "outputs": [
        {
          "output_type": "stream",
          "text": [
            "<class 'pandas.core.frame.DataFrame'>\n",
            "DatetimeIndex: 2068 entries, 2019-06-21 00:00:00+00:00 to 2019-05-07 01:00:00+00:00\n",
            "Data columns (total 6 columns):\n",
            " #   Column     Non-Null Count  Dtype  \n",
            "---  ------     --------------  -----  \n",
            " 0   city       2068 non-null   object \n",
            " 1   country    2068 non-null   object \n",
            " 2   location   2068 non-null   object \n",
            " 3   parameter  2068 non-null   object \n",
            " 4   value      2068 non-null   float64\n",
            " 5   unit       2068 non-null   object \n",
            "dtypes: float64(1), object(5)\n",
            "memory usage: 113.1+ KB\n"
          ],
          "name": "stdout"
        }
      ]
    },
    {
      "cell_type": "code",
      "metadata": {
        "colab": {
          "base_uri": "https://localhost:8080/",
          "height": 247
        },
        "id": "3NgOqZe3atZ8",
        "outputId": "11ca0b2a-5cd4-46f2-82fc-095f27e1ddb9"
      },
      "source": [
        "air_quality.head()"
      ],
      "execution_count": 138,
      "outputs": [
        {
          "output_type": "execute_result",
          "data": {
            "text/html": [
              "<div>\n",
              "<style scoped>\n",
              "    .dataframe tbody tr th:only-of-type {\n",
              "        vertical-align: middle;\n",
              "    }\n",
              "\n",
              "    .dataframe tbody tr th {\n",
              "        vertical-align: top;\n",
              "    }\n",
              "\n",
              "    .dataframe thead th {\n",
              "        text-align: right;\n",
              "    }\n",
              "</style>\n",
              "<table border=\"1\" class=\"dataframe\">\n",
              "  <thead>\n",
              "    <tr style=\"text-align: right;\">\n",
              "      <th></th>\n",
              "      <th>city</th>\n",
              "      <th>country</th>\n",
              "      <th>location</th>\n",
              "      <th>parameter</th>\n",
              "      <th>value</th>\n",
              "      <th>unit</th>\n",
              "    </tr>\n",
              "    <tr>\n",
              "      <th>date.utc</th>\n",
              "      <th></th>\n",
              "      <th></th>\n",
              "      <th></th>\n",
              "      <th></th>\n",
              "      <th></th>\n",
              "      <th></th>\n",
              "    </tr>\n",
              "  </thead>\n",
              "  <tbody>\n",
              "    <tr>\n",
              "      <th>2019-06-21 00:00:00+00:00</th>\n",
              "      <td>Paris</td>\n",
              "      <td>FR</td>\n",
              "      <td>FR04014</td>\n",
              "      <td>no2</td>\n",
              "      <td>20.0</td>\n",
              "      <td>µg/m³</td>\n",
              "    </tr>\n",
              "    <tr>\n",
              "      <th>2019-06-20 23:00:00+00:00</th>\n",
              "      <td>Paris</td>\n",
              "      <td>FR</td>\n",
              "      <td>FR04014</td>\n",
              "      <td>no2</td>\n",
              "      <td>21.8</td>\n",
              "      <td>µg/m³</td>\n",
              "    </tr>\n",
              "    <tr>\n",
              "      <th>2019-06-20 22:00:00+00:00</th>\n",
              "      <td>Paris</td>\n",
              "      <td>FR</td>\n",
              "      <td>FR04014</td>\n",
              "      <td>no2</td>\n",
              "      <td>26.5</td>\n",
              "      <td>µg/m³</td>\n",
              "    </tr>\n",
              "    <tr>\n",
              "      <th>2019-06-20 21:00:00+00:00</th>\n",
              "      <td>Paris</td>\n",
              "      <td>FR</td>\n",
              "      <td>FR04014</td>\n",
              "      <td>no2</td>\n",
              "      <td>24.9</td>\n",
              "      <td>µg/m³</td>\n",
              "    </tr>\n",
              "    <tr>\n",
              "      <th>2019-06-20 20:00:00+00:00</th>\n",
              "      <td>Paris</td>\n",
              "      <td>FR</td>\n",
              "      <td>FR04014</td>\n",
              "      <td>no2</td>\n",
              "      <td>21.4</td>\n",
              "      <td>µg/m³</td>\n",
              "    </tr>\n",
              "  </tbody>\n",
              "</table>\n",
              "</div>"
            ],
            "text/plain": [
              "                            city country location parameter  value   unit\n",
              "date.utc                                                                 \n",
              "2019-06-21 00:00:00+00:00  Paris      FR  FR04014       no2   20.0  µg/m³\n",
              "2019-06-20 23:00:00+00:00  Paris      FR  FR04014       no2   21.8  µg/m³\n",
              "2019-06-20 22:00:00+00:00  Paris      FR  FR04014       no2   26.5  µg/m³\n",
              "2019-06-20 21:00:00+00:00  Paris      FR  FR04014       no2   24.9  µg/m³\n",
              "2019-06-20 20:00:00+00:00  Paris      FR  FR04014       no2   21.4  µg/m³"
            ]
          },
          "metadata": {
            "tags": []
          },
          "execution_count": 138
        }
      ]
    },
    {
      "cell_type": "code",
      "metadata": {
        "id": "uTCCdAvobFZT"
      },
      "source": [
        "# air_quality 데이터 프레임: date.utc를 datetime 타입의 컬럼으로\r\n",
        "air_quality = pd.read_csv(no2_file, parse_dates=['date.utc'])\r\n",
        "\r\n",
        "# air_quality2 데이터 프레임: date.utc를 DatetimeIndex 타입의 인덱스로\r\n",
        "air_quality2 = pd.read_csv(no2_file, parse_dates=['date.utc'], index_col='date.utc')"
      ],
      "execution_count": 139,
      "outputs": []
    },
    {
      "cell_type": "code",
      "metadata": {
        "colab": {
          "base_uri": "https://localhost:8080/",
          "height": 214
        },
        "id": "nYzFV2Z9fNbY",
        "outputId": "4d880fb5-bd65-4bb6-9b25-f129dbcf9332"
      },
      "source": [
        "air_quality.head()"
      ],
      "execution_count": 140,
      "outputs": [
        {
          "output_type": "execute_result",
          "data": {
            "text/html": [
              "<div>\n",
              "<style scoped>\n",
              "    .dataframe tbody tr th:only-of-type {\n",
              "        vertical-align: middle;\n",
              "    }\n",
              "\n",
              "    .dataframe tbody tr th {\n",
              "        vertical-align: top;\n",
              "    }\n",
              "\n",
              "    .dataframe thead th {\n",
              "        text-align: right;\n",
              "    }\n",
              "</style>\n",
              "<table border=\"1\" class=\"dataframe\">\n",
              "  <thead>\n",
              "    <tr style=\"text-align: right;\">\n",
              "      <th></th>\n",
              "      <th>city</th>\n",
              "      <th>country</th>\n",
              "      <th>date.utc</th>\n",
              "      <th>location</th>\n",
              "      <th>parameter</th>\n",
              "      <th>value</th>\n",
              "      <th>unit</th>\n",
              "    </tr>\n",
              "  </thead>\n",
              "  <tbody>\n",
              "    <tr>\n",
              "      <th>0</th>\n",
              "      <td>Paris</td>\n",
              "      <td>FR</td>\n",
              "      <td>2019-06-21 00:00:00+00:00</td>\n",
              "      <td>FR04014</td>\n",
              "      <td>no2</td>\n",
              "      <td>20.0</td>\n",
              "      <td>µg/m³</td>\n",
              "    </tr>\n",
              "    <tr>\n",
              "      <th>1</th>\n",
              "      <td>Paris</td>\n",
              "      <td>FR</td>\n",
              "      <td>2019-06-20 23:00:00+00:00</td>\n",
              "      <td>FR04014</td>\n",
              "      <td>no2</td>\n",
              "      <td>21.8</td>\n",
              "      <td>µg/m³</td>\n",
              "    </tr>\n",
              "    <tr>\n",
              "      <th>2</th>\n",
              "      <td>Paris</td>\n",
              "      <td>FR</td>\n",
              "      <td>2019-06-20 22:00:00+00:00</td>\n",
              "      <td>FR04014</td>\n",
              "      <td>no2</td>\n",
              "      <td>26.5</td>\n",
              "      <td>µg/m³</td>\n",
              "    </tr>\n",
              "    <tr>\n",
              "      <th>3</th>\n",
              "      <td>Paris</td>\n",
              "      <td>FR</td>\n",
              "      <td>2019-06-20 21:00:00+00:00</td>\n",
              "      <td>FR04014</td>\n",
              "      <td>no2</td>\n",
              "      <td>24.9</td>\n",
              "      <td>µg/m³</td>\n",
              "    </tr>\n",
              "    <tr>\n",
              "      <th>4</th>\n",
              "      <td>Paris</td>\n",
              "      <td>FR</td>\n",
              "      <td>2019-06-20 20:00:00+00:00</td>\n",
              "      <td>FR04014</td>\n",
              "      <td>no2</td>\n",
              "      <td>21.4</td>\n",
              "      <td>µg/m³</td>\n",
              "    </tr>\n",
              "  </tbody>\n",
              "</table>\n",
              "</div>"
            ],
            "text/plain": [
              "    city country                  date.utc location parameter  value   unit\n",
              "0  Paris      FR 2019-06-21 00:00:00+00:00  FR04014       no2   20.0  µg/m³\n",
              "1  Paris      FR 2019-06-20 23:00:00+00:00  FR04014       no2   21.8  µg/m³\n",
              "2  Paris      FR 2019-06-20 22:00:00+00:00  FR04014       no2   26.5  µg/m³\n",
              "3  Paris      FR 2019-06-20 21:00:00+00:00  FR04014       no2   24.9  µg/m³\n",
              "4  Paris      FR 2019-06-20 20:00:00+00:00  FR04014       no2   21.4  µg/m³"
            ]
          },
          "metadata": {
            "tags": []
          },
          "execution_count": 140
        }
      ]
    },
    {
      "cell_type": "code",
      "metadata": {
        "colab": {
          "base_uri": "https://localhost:8080/"
        },
        "id": "86yYvW4Jfv7E",
        "outputId": "5ce3881d-6def-4c4a-bcfd-94f2291eaf7c"
      },
      "source": [
        "air_quality.info()"
      ],
      "execution_count": 141,
      "outputs": [
        {
          "output_type": "stream",
          "text": [
            "<class 'pandas.core.frame.DataFrame'>\n",
            "RangeIndex: 2068 entries, 0 to 2067\n",
            "Data columns (total 7 columns):\n",
            " #   Column     Non-Null Count  Dtype              \n",
            "---  ------     --------------  -----              \n",
            " 0   city       2068 non-null   object             \n",
            " 1   country    2068 non-null   object             \n",
            " 2   date.utc   2068 non-null   datetime64[ns, UTC]\n",
            " 3   location   2068 non-null   object             \n",
            " 4   parameter  2068 non-null   object             \n",
            " 5   value      2068 non-null   float64            \n",
            " 6   unit       2068 non-null   object             \n",
            "dtypes: datetime64[ns, UTC](1), float64(1), object(5)\n",
            "memory usage: 113.2+ KB\n"
          ],
          "name": "stdout"
        }
      ]
    },
    {
      "cell_type": "code",
      "metadata": {
        "colab": {
          "base_uri": "https://localhost:8080/",
          "height": 474
        },
        "id": "nv0EvlhJf4Pz",
        "outputId": "e3a552a4-88ab-47e8-85d7-730a99a38398"
      },
      "source": [
        "air_quality2"
      ],
      "execution_count": 142,
      "outputs": [
        {
          "output_type": "execute_result",
          "data": {
            "text/html": [
              "<div>\n",
              "<style scoped>\n",
              "    .dataframe tbody tr th:only-of-type {\n",
              "        vertical-align: middle;\n",
              "    }\n",
              "\n",
              "    .dataframe tbody tr th {\n",
              "        vertical-align: top;\n",
              "    }\n",
              "\n",
              "    .dataframe thead th {\n",
              "        text-align: right;\n",
              "    }\n",
              "</style>\n",
              "<table border=\"1\" class=\"dataframe\">\n",
              "  <thead>\n",
              "    <tr style=\"text-align: right;\">\n",
              "      <th></th>\n",
              "      <th>city</th>\n",
              "      <th>country</th>\n",
              "      <th>location</th>\n",
              "      <th>parameter</th>\n",
              "      <th>value</th>\n",
              "      <th>unit</th>\n",
              "    </tr>\n",
              "    <tr>\n",
              "      <th>date.utc</th>\n",
              "      <th></th>\n",
              "      <th></th>\n",
              "      <th></th>\n",
              "      <th></th>\n",
              "      <th></th>\n",
              "      <th></th>\n",
              "    </tr>\n",
              "  </thead>\n",
              "  <tbody>\n",
              "    <tr>\n",
              "      <th>2019-06-21 00:00:00+00:00</th>\n",
              "      <td>Paris</td>\n",
              "      <td>FR</td>\n",
              "      <td>FR04014</td>\n",
              "      <td>no2</td>\n",
              "      <td>20.0</td>\n",
              "      <td>µg/m³</td>\n",
              "    </tr>\n",
              "    <tr>\n",
              "      <th>2019-06-20 23:00:00+00:00</th>\n",
              "      <td>Paris</td>\n",
              "      <td>FR</td>\n",
              "      <td>FR04014</td>\n",
              "      <td>no2</td>\n",
              "      <td>21.8</td>\n",
              "      <td>µg/m³</td>\n",
              "    </tr>\n",
              "    <tr>\n",
              "      <th>2019-06-20 22:00:00+00:00</th>\n",
              "      <td>Paris</td>\n",
              "      <td>FR</td>\n",
              "      <td>FR04014</td>\n",
              "      <td>no2</td>\n",
              "      <td>26.5</td>\n",
              "      <td>µg/m³</td>\n",
              "    </tr>\n",
              "    <tr>\n",
              "      <th>2019-06-20 21:00:00+00:00</th>\n",
              "      <td>Paris</td>\n",
              "      <td>FR</td>\n",
              "      <td>FR04014</td>\n",
              "      <td>no2</td>\n",
              "      <td>24.9</td>\n",
              "      <td>µg/m³</td>\n",
              "    </tr>\n",
              "    <tr>\n",
              "      <th>2019-06-20 20:00:00+00:00</th>\n",
              "      <td>Paris</td>\n",
              "      <td>FR</td>\n",
              "      <td>FR04014</td>\n",
              "      <td>no2</td>\n",
              "      <td>21.4</td>\n",
              "      <td>µg/m³</td>\n",
              "    </tr>\n",
              "    <tr>\n",
              "      <th>...</th>\n",
              "      <td>...</td>\n",
              "      <td>...</td>\n",
              "      <td>...</td>\n",
              "      <td>...</td>\n",
              "      <td>...</td>\n",
              "      <td>...</td>\n",
              "    </tr>\n",
              "    <tr>\n",
              "      <th>2019-05-07 06:00:00+00:00</th>\n",
              "      <td>London</td>\n",
              "      <td>GB</td>\n",
              "      <td>London Westminster</td>\n",
              "      <td>no2</td>\n",
              "      <td>26.0</td>\n",
              "      <td>µg/m³</td>\n",
              "    </tr>\n",
              "    <tr>\n",
              "      <th>2019-05-07 04:00:00+00:00</th>\n",
              "      <td>London</td>\n",
              "      <td>GB</td>\n",
              "      <td>London Westminster</td>\n",
              "      <td>no2</td>\n",
              "      <td>16.0</td>\n",
              "      <td>µg/m³</td>\n",
              "    </tr>\n",
              "    <tr>\n",
              "      <th>2019-05-07 03:00:00+00:00</th>\n",
              "      <td>London</td>\n",
              "      <td>GB</td>\n",
              "      <td>London Westminster</td>\n",
              "      <td>no2</td>\n",
              "      <td>19.0</td>\n",
              "      <td>µg/m³</td>\n",
              "    </tr>\n",
              "    <tr>\n",
              "      <th>2019-05-07 02:00:00+00:00</th>\n",
              "      <td>London</td>\n",
              "      <td>GB</td>\n",
              "      <td>London Westminster</td>\n",
              "      <td>no2</td>\n",
              "      <td>19.0</td>\n",
              "      <td>µg/m³</td>\n",
              "    </tr>\n",
              "    <tr>\n",
              "      <th>2019-05-07 01:00:00+00:00</th>\n",
              "      <td>London</td>\n",
              "      <td>GB</td>\n",
              "      <td>London Westminster</td>\n",
              "      <td>no2</td>\n",
              "      <td>23.0</td>\n",
              "      <td>µg/m³</td>\n",
              "    </tr>\n",
              "  </tbody>\n",
              "</table>\n",
              "<p>2068 rows × 6 columns</p>\n",
              "</div>"
            ],
            "text/plain": [
              "                             city country  ... value   unit\n",
              "date.utc                                   ...             \n",
              "2019-06-21 00:00:00+00:00   Paris      FR  ...  20.0  µg/m³\n",
              "2019-06-20 23:00:00+00:00   Paris      FR  ...  21.8  µg/m³\n",
              "2019-06-20 22:00:00+00:00   Paris      FR  ...  26.5  µg/m³\n",
              "2019-06-20 21:00:00+00:00   Paris      FR  ...  24.9  µg/m³\n",
              "2019-06-20 20:00:00+00:00   Paris      FR  ...  21.4  µg/m³\n",
              "...                           ...     ...  ...   ...    ...\n",
              "2019-05-07 06:00:00+00:00  London      GB  ...  26.0  µg/m³\n",
              "2019-05-07 04:00:00+00:00  London      GB  ...  16.0  µg/m³\n",
              "2019-05-07 03:00:00+00:00  London      GB  ...  19.0  µg/m³\n",
              "2019-05-07 02:00:00+00:00  London      GB  ...  19.0  µg/m³\n",
              "2019-05-07 01:00:00+00:00  London      GB  ...  23.0  µg/m³\n",
              "\n",
              "[2068 rows x 6 columns]"
            ]
          },
          "metadata": {
            "tags": []
          },
          "execution_count": 142
        }
      ]
    },
    {
      "cell_type": "code",
      "metadata": {
        "colab": {
          "base_uri": "https://localhost:8080/"
        },
        "id": "gczFaN6mf5VD",
        "outputId": "233ffcf4-21ca-4284-b0e0-d35c32f234ea"
      },
      "source": [
        "air_quality2.info()"
      ],
      "execution_count": 143,
      "outputs": [
        {
          "output_type": "stream",
          "text": [
            "<class 'pandas.core.frame.DataFrame'>\n",
            "DatetimeIndex: 2068 entries, 2019-06-21 00:00:00+00:00 to 2019-05-07 01:00:00+00:00\n",
            "Data columns (total 6 columns):\n",
            " #   Column     Non-Null Count  Dtype  \n",
            "---  ------     --------------  -----  \n",
            " 0   city       2068 non-null   object \n",
            " 1   country    2068 non-null   object \n",
            " 2   location   2068 non-null   object \n",
            " 3   parameter  2068 non-null   object \n",
            " 4   value      2068 non-null   float64\n",
            " 5   unit       2068 non-null   object \n",
            "dtypes: float64(1), object(5)\n",
            "memory usage: 113.1+ KB\n"
          ],
          "name": "stdout"
        }
      ]
    },
    {
      "cell_type": "code",
      "metadata": {
        "colab": {
          "base_uri": "https://localhost:8080/"
        },
        "id": "tXUebWz6gK5x",
        "outputId": "4c50ede9-5de9-4631-85f3-9a407051930e"
      },
      "source": [
        "air_quality['city'].value_counts()"
      ],
      "execution_count": 144,
      "outputs": [
        {
          "output_type": "execute_result",
          "data": {
            "text/plain": [
              "Paris        1004\n",
              "London        969\n",
              "Antwerpen      95\n",
              "Name: city, dtype: int64"
            ]
          },
          "metadata": {
            "tags": []
          },
          "execution_count": 144
        }
      ]
    },
    {
      "cell_type": "code",
      "metadata": {
        "colab": {
          "base_uri": "https://localhost:8080/"
        },
        "id": "ykQFxRNmgjgU",
        "outputId": "525f2e59-77d7-4506-db0e-8957664559ba"
      },
      "source": [
        "air_quality['country'].value_counts()"
      ],
      "execution_count": 145,
      "outputs": [
        {
          "output_type": "execute_result",
          "data": {
            "text/plain": [
              "FR    1004\n",
              "GB     969\n",
              "BE      95\n",
              "Name: country, dtype: int64"
            ]
          },
          "metadata": {
            "tags": []
          },
          "execution_count": 145
        }
      ]
    },
    {
      "cell_type": "code",
      "metadata": {
        "colab": {
          "base_uri": "https://localhost:8080/"
        },
        "id": "iXXiHEzkgnND",
        "outputId": "a7d40d95-c5bd-47d1-97ec-4bec96e0917e"
      },
      "source": [
        "air_quality['location'].value_counts()"
      ],
      "execution_count": 146,
      "outputs": [
        {
          "output_type": "execute_result",
          "data": {
            "text/plain": [
              "FR04014               1004\n",
              "London Westminster     969\n",
              "BETR801                 95\n",
              "Name: location, dtype: int64"
            ]
          },
          "metadata": {
            "tags": []
          },
          "execution_count": 146
        }
      ]
    },
    {
      "cell_type": "code",
      "metadata": {
        "colab": {
          "base_uri": "https://localhost:8080/"
        },
        "id": "RUxl1WgvhlU8",
        "outputId": "d7433175-e7af-4422-fe7e-90d19bad3609"
      },
      "source": [
        "air_quality['parameter'].value_counts()"
      ],
      "execution_count": 147,
      "outputs": [
        {
          "output_type": "execute_result",
          "data": {
            "text/plain": [
              "no2    2068\n",
              "Name: parameter, dtype: int64"
            ]
          },
          "metadata": {
            "tags": []
          },
          "execution_count": 147
        }
      ]
    },
    {
      "cell_type": "code",
      "metadata": {
        "colab": {
          "base_uri": "https://localhost:8080/"
        },
        "id": "0LnRlVUChwvg",
        "outputId": "99b01f47-bc25-428f-ea55-958ee087ee38"
      },
      "source": [
        "air_quality['unit'].value_counts()"
      ],
      "execution_count": 148,
      "outputs": [
        {
          "output_type": "execute_result",
          "data": {
            "text/plain": [
              "µg/m³    2068\n",
              "Name: unit, dtype: int64"
            ]
          },
          "metadata": {
            "tags": []
          },
          "execution_count": 148
        }
      ]
    },
    {
      "cell_type": "code",
      "metadata": {
        "colab": {
          "base_uri": "https://localhost:8080/"
        },
        "id": "zxGgc_uuh-1j",
        "outputId": "b039a9e4-8a12-4f42-de1e-e83ea0d2616d"
      },
      "source": [
        "air_quality['value'].describe()"
      ],
      "execution_count": 149,
      "outputs": [
        {
          "output_type": "execute_result",
          "data": {
            "text/plain": [
              "count    2068.000000\n",
              "mean       26.261847\n",
              "std        13.479451\n",
              "min         0.000000\n",
              "25%        17.000000\n",
              "50%        25.000000\n",
              "75%        33.000000\n",
              "max        97.000000\n",
              "Name: value, dtype: float64"
            ]
          },
          "metadata": {
            "tags": []
          },
          "execution_count": 149
        }
      ]
    },
    {
      "cell_type": "code",
      "metadata": {
        "colab": {
          "base_uri": "https://localhost:8080/"
        },
        "id": "jiJDpkEJlwL3",
        "outputId": "994bed6a-0f83-42a3-e4f3-f89b03b646ec"
      },
      "source": [
        "air_quality['date.utc'].dt.year.unique()"
      ],
      "execution_count": 155,
      "outputs": [
        {
          "output_type": "execute_result",
          "data": {
            "text/plain": [
              "array([2019])"
            ]
          },
          "metadata": {
            "tags": []
          },
          "execution_count": 155
        }
      ]
    },
    {
      "cell_type": "code",
      "metadata": {
        "colab": {
          "base_uri": "https://localhost:8080/"
        },
        "id": "UIIqOX-fmYFf",
        "outputId": "6c3d9582-4277-4704-c382-94728a00e644"
      },
      "source": [
        "air_quality['date.utc'].dt.month.unique()"
      ],
      "execution_count": 157,
      "outputs": [
        {
          "output_type": "execute_result",
          "data": {
            "text/plain": [
              "array([6, 5])"
            ]
          },
          "metadata": {
            "tags": []
          },
          "execution_count": 157
        }
      ]
    },
    {
      "cell_type": "code",
      "metadata": {
        "colab": {
          "base_uri": "https://localhost:8080/"
        },
        "id": "7VmY3xilmmmJ",
        "outputId": "06e1c66c-d971-4f52-fe4e-8487005c8a57"
      },
      "source": [
        "air_quality['date.utc'].dt.day.unique()"
      ],
      "execution_count": 158,
      "outputs": [
        {
          "output_type": "execute_result",
          "data": {
            "text/plain": [
              "array([21, 20, 19, 18, 17, 16, 15, 14, 13, 12, 11, 10,  9,  8,  7,  6,  5,\n",
              "        4,  3,  2,  1, 31, 30, 29, 28, 27, 26, 25, 24, 23, 22])"
            ]
          },
          "metadata": {
            "tags": []
          },
          "execution_count": 158
        }
      ]
    },
    {
      "cell_type": "code",
      "metadata": {
        "colab": {
          "base_uri": "https://localhost:8080/"
        },
        "id": "1TIheDA-m5ZO",
        "outputId": "dc6dc024-0a07-491b-9951-10e05f900f18"
      },
      "source": [
        "air_quality['date.utc'].dt.hour.unique()"
      ],
      "execution_count": 159,
      "outputs": [
        {
          "output_type": "execute_result",
          "data": {
            "text/plain": [
              "array([ 0, 23, 22, 21, 20, 19, 18, 17, 16, 15, 14, 13, 10,  9,  8,  7,  6,\n",
              "        5,  4,  3,  2,  1, 12, 11])"
            ]
          },
          "metadata": {
            "tags": []
          },
          "execution_count": 159
        }
      ]
    },
    {
      "cell_type": "code",
      "metadata": {
        "colab": {
          "base_uri": "https://localhost:8080/"
        },
        "id": "zwOPIJiMnR3N",
        "outputId": "2301da7d-7e31-4a2a-c43d-28ce90f67ba1"
      },
      "source": [
        "air_quality['date.utc'].dt.weekday.unique()\r\n",
        "#> 0(월요일) ~ 6(일요일)"
      ],
      "execution_count": 160,
      "outputs": [
        {
          "output_type": "execute_result",
          "data": {
            "text/plain": [
              "array([4, 3, 2, 1, 0, 6, 5])"
            ]
          },
          "metadata": {
            "tags": []
          },
          "execution_count": 160
        }
      ]
    },
    {
      "cell_type": "code",
      "metadata": {
        "colab": {
          "base_uri": "https://localhost:8080/"
        },
        "id": "ilexxqZXbT2f",
        "outputId": "1181b8b5-a288-4446-d0dc-d00d907524d4"
      },
      "source": [
        "# 하루 중 어느 시간대에서 NO2의 농도가 평균적으로 높을까?\r\n",
        "# 시간대별 도시별 NO2의 평균 시각화\r\n",
        "air_quality.groupby(by=[air_quality['date.utc'].dt.hour, 'city'])['value'].mean()"
      ],
      "execution_count": 163,
      "outputs": [
        {
          "output_type": "execute_result",
          "data": {
            "text/plain": [
              "date.utc  city     \n",
              "0         Antwerpen    24.750000\n",
              "          London       24.292683\n",
              "          Paris        31.683333\n",
              "1         Antwerpen    25.838235\n",
              "          London       24.757576\n",
              "                         ...    \n",
              "22        London       28.969697\n",
              "          Paris        35.400000\n",
              "23        Antwerpen    23.000000\n",
              "          London       28.414634\n",
              "          Paris        34.288095\n",
              "Name: value, Length: 72, dtype: float64"
            ]
          },
          "metadata": {
            "tags": []
          },
          "execution_count": 163
        }
      ]
    },
    {
      "cell_type": "code",
      "metadata": {
        "id": "8_m3hpr0pD21"
      },
      "source": [
        "no2_by_hour = air_quality.pivot_table(values='value',\r\n",
        "                                      index=air_quality['date.utc'].dt.hour,\r\n",
        "                                      columns='city')"
      ],
      "execution_count": 167,
      "outputs": []
    },
    {
      "cell_type": "code",
      "metadata": {
        "colab": {
          "base_uri": "https://localhost:8080/",
          "height": 867
        },
        "id": "3B3c8NpEpe03",
        "outputId": "dfcb8179-4c4d-4e09-dcbb-602848ff0dd1"
      },
      "source": [
        "no2_by_hour"
      ],
      "execution_count": 168,
      "outputs": [
        {
          "output_type": "execute_result",
          "data": {
            "text/html": [
              "<div>\n",
              "<style scoped>\n",
              "    .dataframe tbody tr th:only-of-type {\n",
              "        vertical-align: middle;\n",
              "    }\n",
              "\n",
              "    .dataframe tbody tr th {\n",
              "        vertical-align: top;\n",
              "    }\n",
              "\n",
              "    .dataframe thead th {\n",
              "        text-align: right;\n",
              "    }\n",
              "</style>\n",
              "<table border=\"1\" class=\"dataframe\">\n",
              "  <thead>\n",
              "    <tr style=\"text-align: right;\">\n",
              "      <th>city</th>\n",
              "      <th>Antwerpen</th>\n",
              "      <th>London</th>\n",
              "      <th>Paris</th>\n",
              "    </tr>\n",
              "    <tr>\n",
              "      <th>date.utc</th>\n",
              "      <th></th>\n",
              "      <th></th>\n",
              "      <th></th>\n",
              "    </tr>\n",
              "  </thead>\n",
              "  <tbody>\n",
              "    <tr>\n",
              "      <th>0</th>\n",
              "      <td>24.750000</td>\n",
              "      <td>24.292683</td>\n",
              "      <td>31.683333</td>\n",
              "    </tr>\n",
              "    <tr>\n",
              "      <th>1</th>\n",
              "      <td>25.838235</td>\n",
              "      <td>24.757576</td>\n",
              "      <td>27.433333</td>\n",
              "    </tr>\n",
              "    <tr>\n",
              "      <th>2</th>\n",
              "      <td>21.000000</td>\n",
              "      <td>21.800000</td>\n",
              "      <td>25.964286</td>\n",
              "    </tr>\n",
              "    <tr>\n",
              "      <th>3</th>\n",
              "      <td>21.333333</td>\n",
              "      <td>21.536585</td>\n",
              "      <td>25.234211</td>\n",
              "    </tr>\n",
              "    <tr>\n",
              "      <th>4</th>\n",
              "      <td>24.833333</td>\n",
              "      <td>18.976190</td>\n",
              "      <td>27.257895</td>\n",
              "    </tr>\n",
              "    <tr>\n",
              "      <th>5</th>\n",
              "      <td>29.500000</td>\n",
              "      <td>19.048780</td>\n",
              "      <td>35.534211</td>\n",
              "    </tr>\n",
              "    <tr>\n",
              "      <th>6</th>\n",
              "      <td>33.333333</td>\n",
              "      <td>20.976190</td>\n",
              "      <td>40.102381</td>\n",
              "    </tr>\n",
              "    <tr>\n",
              "      <th>7</th>\n",
              "      <td>37.666667</td>\n",
              "      <td>21.452381</td>\n",
              "      <td>40.569767</td>\n",
              "    </tr>\n",
              "    <tr>\n",
              "      <th>8</th>\n",
              "      <td>34.833333</td>\n",
              "      <td>21.238095</td>\n",
              "      <td>36.458140</td>\n",
              "    </tr>\n",
              "    <tr>\n",
              "      <th>9</th>\n",
              "      <td>27.666667</td>\n",
              "      <td>21.857143</td>\n",
              "      <td>30.076744</td>\n",
              "    </tr>\n",
              "    <tr>\n",
              "      <th>10</th>\n",
              "      <td>21.250000</td>\n",
              "      <td>21.560976</td>\n",
              "      <td>23.658140</td>\n",
              "    </tr>\n",
              "    <tr>\n",
              "      <th>11</th>\n",
              "      <td>21.000000</td>\n",
              "      <td>22.121951</td>\n",
              "      <td>20.461905</td>\n",
              "    </tr>\n",
              "    <tr>\n",
              "      <th>12</th>\n",
              "      <td>25.250000</td>\n",
              "      <td>23.400000</td>\n",
              "      <td>18.571429</td>\n",
              "    </tr>\n",
              "    <tr>\n",
              "      <th>13</th>\n",
              "      <td>23.250000</td>\n",
              "      <td>24.175000</td>\n",
              "      <td>17.958140</td>\n",
              "    </tr>\n",
              "    <tr>\n",
              "      <th>14</th>\n",
              "      <td>23.750000</td>\n",
              "      <td>25.900000</td>\n",
              "      <td>17.772093</td>\n",
              "    </tr>\n",
              "    <tr>\n",
              "      <th>15</th>\n",
              "      <td>29.250000</td>\n",
              "      <td>28.682927</td>\n",
              "      <td>18.854762</td>\n",
              "    </tr>\n",
              "    <tr>\n",
              "      <th>16</th>\n",
              "      <td>17.500000</td>\n",
              "      <td>28.951220</td>\n",
              "      <td>21.266667</td>\n",
              "    </tr>\n",
              "    <tr>\n",
              "      <th>17</th>\n",
              "      <td>18.500000</td>\n",
              "      <td>30.073171</td>\n",
              "      <td>23.585714</td>\n",
              "    </tr>\n",
              "    <tr>\n",
              "      <th>18</th>\n",
              "      <td>25.500000</td>\n",
              "      <td>30.121951</td>\n",
              "      <td>24.204762</td>\n",
              "    </tr>\n",
              "    <tr>\n",
              "      <th>19</th>\n",
              "      <td>30.750000</td>\n",
              "      <td>29.560976</td>\n",
              "      <td>26.635714</td>\n",
              "    </tr>\n",
              "    <tr>\n",
              "      <th>20</th>\n",
              "      <td>27.500000</td>\n",
              "      <td>29.121951</td>\n",
              "      <td>29.707143</td>\n",
              "    </tr>\n",
              "    <tr>\n",
              "      <th>21</th>\n",
              "      <td>25.750000</td>\n",
              "      <td>28.853659</td>\n",
              "      <td>33.237209</td>\n",
              "    </tr>\n",
              "    <tr>\n",
              "      <th>22</th>\n",
              "      <td>26.500000</td>\n",
              "      <td>28.969697</td>\n",
              "      <td>35.400000</td>\n",
              "    </tr>\n",
              "    <tr>\n",
              "      <th>23</th>\n",
              "      <td>23.000000</td>\n",
              "      <td>28.414634</td>\n",
              "      <td>34.288095</td>\n",
              "    </tr>\n",
              "  </tbody>\n",
              "</table>\n",
              "</div>"
            ],
            "text/plain": [
              "city      Antwerpen     London      Paris\n",
              "date.utc                                 \n",
              "0         24.750000  24.292683  31.683333\n",
              "1         25.838235  24.757576  27.433333\n",
              "2         21.000000  21.800000  25.964286\n",
              "3         21.333333  21.536585  25.234211\n",
              "4         24.833333  18.976190  27.257895\n",
              "5         29.500000  19.048780  35.534211\n",
              "6         33.333333  20.976190  40.102381\n",
              "7         37.666667  21.452381  40.569767\n",
              "8         34.833333  21.238095  36.458140\n",
              "9         27.666667  21.857143  30.076744\n",
              "10        21.250000  21.560976  23.658140\n",
              "11        21.000000  22.121951  20.461905\n",
              "12        25.250000  23.400000  18.571429\n",
              "13        23.250000  24.175000  17.958140\n",
              "14        23.750000  25.900000  17.772093\n",
              "15        29.250000  28.682927  18.854762\n",
              "16        17.500000  28.951220  21.266667\n",
              "17        18.500000  30.073171  23.585714\n",
              "18        25.500000  30.121951  24.204762\n",
              "19        30.750000  29.560976  26.635714\n",
              "20        27.500000  29.121951  29.707143\n",
              "21        25.750000  28.853659  33.237209\n",
              "22        26.500000  28.969697  35.400000\n",
              "23        23.000000  28.414634  34.288095"
            ]
          },
          "metadata": {
            "tags": []
          },
          "execution_count": 168
        }
      ]
    },
    {
      "cell_type": "code",
      "metadata": {
        "colab": {
          "base_uri": "https://localhost:8080/",
          "height": 265
        },
        "id": "jqX0WcOSpgcO",
        "outputId": "27ddb941-0066-4489-f49d-961bbfa86e7c"
      },
      "source": [
        "plt.plot(no2_by_hour['Paris'], 'ro-', label='Paris')\r\n",
        "plt.plot(no2_by_hour['London'], 'go--', label='London')\r\n",
        "plt.plot(no2_by_hour['Antwerpen'], 'bo:', label='Antwerpen')\r\n",
        "\r\n",
        "plt.legend()\r\n",
        "plt.show()"
      ],
      "execution_count": 173,
      "outputs": [
        {
          "output_type": "display_data",
          "data": {
            "image/png": "[encoded data removed]",
            "text/plain": [
              "<Figure size 432x288 with 1 Axes>"
            ]
          },
          "metadata": {
            "tags": [],
            "needs_background": "light"
          }
        }
      ]
    },
    {
      "cell_type": "code",
      "metadata": {
        "colab": {
          "base_uri": "https://localhost:8080/",
          "height": 312
        },
        "id": "8keR8zBGcE4n",
        "outputId": "c3427ec6-791b-4567-fd24-aa11c12924ea"
      },
      "source": [
        "# 일주일 중 어느 요일이 NO2의 농도가 평균적으로 높을까?\r\n",
        "# 요일별 도시별 NO2의 평균 시각화\r\n",
        "air_quality.groupby(by=[air_quality['date.utc'].dt.weekday, 'city'])['value'].mean().unstack()"
      ],
      "execution_count": 175,
      "outputs": [
        {
          "output_type": "execute_result",
          "data": {
            "text/html": [
              "<div>\n",
              "<style scoped>\n",
              "    .dataframe tbody tr th:only-of-type {\n",
              "        vertical-align: middle;\n",
              "    }\n",
              "\n",
              "    .dataframe tbody tr th {\n",
              "        vertical-align: top;\n",
              "    }\n",
              "\n",
              "    .dataframe thead th {\n",
              "        text-align: right;\n",
              "    }\n",
              "</style>\n",
              "<table border=\"1\" class=\"dataframe\">\n",
              "  <thead>\n",
              "    <tr style=\"text-align: right;\">\n",
              "      <th>city</th>\n",
              "      <th>Antwerpen</th>\n",
              "      <th>London</th>\n",
              "      <th>Paris</th>\n",
              "    </tr>\n",
              "    <tr>\n",
              "      <th>date.utc</th>\n",
              "      <th></th>\n",
              "      <th></th>\n",
              "      <th></th>\n",
              "    </tr>\n",
              "  </thead>\n",
              "  <tbody>\n",
              "    <tr>\n",
              "      <th>0</th>\n",
              "      <td>27.875000</td>\n",
              "      <td>23.969697</td>\n",
              "      <td>24.856250</td>\n",
              "    </tr>\n",
              "    <tr>\n",
              "      <th>1</th>\n",
              "      <td>22.214286</td>\n",
              "      <td>24.885714</td>\n",
              "      <td>30.999359</td>\n",
              "    </tr>\n",
              "    <tr>\n",
              "      <th>2</th>\n",
              "      <td>21.125000</td>\n",
              "      <td>23.460432</td>\n",
              "      <td>29.165753</td>\n",
              "    </tr>\n",
              "    <tr>\n",
              "      <th>3</th>\n",
              "      <td>27.500000</td>\n",
              "      <td>24.780142</td>\n",
              "      <td>28.600690</td>\n",
              "    </tr>\n",
              "    <tr>\n",
              "      <th>4</th>\n",
              "      <td>28.400000</td>\n",
              "      <td>26.446809</td>\n",
              "      <td>31.617986</td>\n",
              "    </tr>\n",
              "    <tr>\n",
              "      <th>5</th>\n",
              "      <td>33.500000</td>\n",
              "      <td>24.977612</td>\n",
              "      <td>25.266154</td>\n",
              "    </tr>\n",
              "    <tr>\n",
              "      <th>6</th>\n",
              "      <td>21.896552</td>\n",
              "      <td>24.859155</td>\n",
              "      <td>23.274306</td>\n",
              "    </tr>\n",
              "  </tbody>\n",
              "</table>\n",
              "</div>"
            ],
            "text/plain": [
              "city      Antwerpen     London      Paris\n",
              "date.utc                                 \n",
              "0         27.875000  23.969697  24.856250\n",
              "1         22.214286  24.885714  30.999359\n",
              "2         21.125000  23.460432  29.165753\n",
              "3         27.500000  24.780142  28.600690\n",
              "4         28.400000  26.446809  31.617986\n",
              "5         33.500000  24.977612  25.266154\n",
              "6         21.896552  24.859155  23.274306"
            ]
          },
          "metadata": {
            "tags": []
          },
          "execution_count": 175
        }
      ]
    },
    {
      "cell_type": "code",
      "metadata": {
        "colab": {
          "base_uri": "https://localhost:8080/",
          "height": 312
        },
        "id": "4oEE_AhZs1km",
        "outputId": "3ec86c47-9d6a-4048-ff7d-7dcd8071f4df"
      },
      "source": [
        "no2_by_weekday = air_quality.pivot_table(values='value',\r\n",
        "                                         index=air_quality['date.utc'].dt.weekday,\r\n",
        "                                         columns='city')\r\n",
        "no2_by_weekday"
      ],
      "execution_count": 176,
      "outputs": [
        {
          "output_type": "execute_result",
          "data": {
            "text/html": [
              "<div>\n",
              "<style scoped>\n",
              "    .dataframe tbody tr th:only-of-type {\n",
              "        vertical-align: middle;\n",
              "    }\n",
              "\n",
              "    .dataframe tbody tr th {\n",
              "        vertical-align: top;\n",
              "    }\n",
              "\n",
              "    .dataframe thead th {\n",
              "        text-align: right;\n",
              "    }\n",
              "</style>\n",
              "<table border=\"1\" class=\"dataframe\">\n",
              "  <thead>\n",
              "    <tr style=\"text-align: right;\">\n",
              "      <th>city</th>\n",
              "      <th>Antwerpen</th>\n",
              "      <th>London</th>\n",
              "      <th>Paris</th>\n",
              "    </tr>\n",
              "    <tr>\n",
              "      <th>date.utc</th>\n",
              "      <th></th>\n",
              "      <th></th>\n",
              "      <th></th>\n",
              "    </tr>\n",
              "  </thead>\n",
              "  <tbody>\n",
              "    <tr>\n",
              "      <th>0</th>\n",
              "      <td>27.875000</td>\n",
              "      <td>23.969697</td>\n",
              "      <td>24.856250</td>\n",
              "    </tr>\n",
              "    <tr>\n",
              "      <th>1</th>\n",
              "      <td>22.214286</td>\n",
              "      <td>24.885714</td>\n",
              "      <td>30.999359</td>\n",
              "    </tr>\n",
              "    <tr>\n",
              "      <th>2</th>\n",
              "      <td>21.125000</td>\n",
              "      <td>23.460432</td>\n",
              "      <td>29.165753</td>\n",
              "    </tr>\n",
              "    <tr>\n",
              "      <th>3</th>\n",
              "      <td>27.500000</td>\n",
              "      <td>24.780142</td>\n",
              "      <td>28.600690</td>\n",
              "    </tr>\n",
              "    <tr>\n",
              "      <th>4</th>\n",
              "      <td>28.400000</td>\n",
              "      <td>26.446809</td>\n",
              "      <td>31.617986</td>\n",
              "    </tr>\n",
              "    <tr>\n",
              "      <th>5</th>\n",
              "      <td>33.500000</td>\n",
              "      <td>24.977612</td>\n",
              "      <td>25.266154</td>\n",
              "    </tr>\n",
              "    <tr>\n",
              "      <th>6</th>\n",
              "      <td>21.896552</td>\n",
              "      <td>24.859155</td>\n",
              "      <td>23.274306</td>\n",
              "    </tr>\n",
              "  </tbody>\n",
              "</table>\n",
              "</div>"
            ],
            "text/plain": [
              "city      Antwerpen     London      Paris\n",
              "date.utc                                 \n",
              "0         27.875000  23.969697  24.856250\n",
              "1         22.214286  24.885714  30.999359\n",
              "2         21.125000  23.460432  29.165753\n",
              "3         27.500000  24.780142  28.600690\n",
              "4         28.400000  26.446809  31.617986\n",
              "5         33.500000  24.977612  25.266154\n",
              "6         21.896552  24.859155  23.274306"
            ]
          },
          "metadata": {
            "tags": []
          },
          "execution_count": 176
        }
      ]
    },
    {
      "cell_type": "code",
      "metadata": {
        "colab": {
          "base_uri": "https://localhost:8080/",
          "height": 267
        },
        "id": "ByCAi2CFtFpt",
        "outputId": "9a528ff7-2b8b-452c-fe53-f999d3be3c1c"
      },
      "source": [
        "plt.plot(no2_by_weekday['Antwerpen'], 'o-', label='Antwerpen')\r\n",
        "plt.plot(no2_by_weekday['London'], 'o-', label='London')\r\n",
        "plt.plot(no2_by_weekday['Paris'], 'o-', label='Paris')\r\n",
        "\r\n",
        "plt.legend()\r\n",
        "plt.show()"
      ],
      "execution_count": 178,
      "outputs": [
        {
          "output_type": "display_data",
          "data": {
            "image/png": "[encoded data removed]",
            "text/plain": [
              "<Figure size 432x288 with 1 Axes>"
            ]
          },
          "metadata": {
            "tags": [],
            "needs_background": "light"
          }
        }
      ]
    },
    {
      "cell_type": "code",
      "metadata": {
        "colab": {
          "base_uri": "https://localhost:8080/"
        },
        "id": "02q42_i4tkuA",
        "outputId": "86a0bcf1-ca27-4217-f7f3-4948ad4fa1c1"
      },
      "source": [
        "# air_quality2 데이터 프레임의 DatetimeIndex를 사용해서 slicing, 부분집합\r\n",
        "air_quality2.index"
      ],
      "execution_count": 183,
      "outputs": [
        {
          "output_type": "execute_result",
          "data": {
            "text/plain": [
              "DatetimeIndex(['2019-06-21 00:00:00+00:00', '2019-06-20 23:00:00+00:00',\n",
              "               '2019-06-20 22:00:00+00:00', '2019-06-20 21:00:00+00:00',\n",
              "               '2019-06-20 20:00:00+00:00', '2019-06-20 19:00:00+00:00',\n",
              "               '2019-06-20 18:00:00+00:00', '2019-06-20 17:00:00+00:00',\n",
              "               '2019-06-20 16:00:00+00:00', '2019-06-20 15:00:00+00:00',\n",
              "               ...\n",
              "               '2019-05-07 11:00:00+00:00', '2019-05-07 10:00:00+00:00',\n",
              "               '2019-05-07 09:00:00+00:00', '2019-05-07 08:00:00+00:00',\n",
              "               '2019-05-07 07:00:00+00:00', '2019-05-07 06:00:00+00:00',\n",
              "               '2019-05-07 04:00:00+00:00', '2019-05-07 03:00:00+00:00',\n",
              "               '2019-05-07 02:00:00+00:00', '2019-05-07 01:00:00+00:00'],\n",
              "              dtype='datetime64[ns, UTC]', name='date.utc', length=2068, freq=None)"
            ]
          },
          "metadata": {
            "tags": []
          },
          "execution_count": 183
        }
      ]
    },
    {
      "cell_type": "code",
      "metadata": {
        "colab": {
          "base_uri": "https://localhost:8080/"
        },
        "id": "WUVv9Tu2vSz-",
        "outputId": "a0c9450f-4421-497a-9adb-fb087e690474"
      },
      "source": [
        "air_quality2.index.max()"
      ],
      "execution_count": 184,
      "outputs": [
        {
          "output_type": "execute_result",
          "data": {
            "text/plain": [
              "Timestamp('2019-06-21 00:00:00+0000', tz='UTC')"
            ]
          },
          "metadata": {
            "tags": []
          },
          "execution_count": 184
        }
      ]
    },
    {
      "cell_type": "code",
      "metadata": {
        "colab": {
          "base_uri": "https://localhost:8080/"
        },
        "id": "mMTLLOCTvMGY",
        "outputId": "00155730-141b-4980-9a03-774b06c28bf2"
      },
      "source": [
        "air_quality2.index.min()"
      ],
      "execution_count": 182,
      "outputs": [
        {
          "output_type": "execute_result",
          "data": {
            "text/plain": [
              "Timestamp('2019-05-07 01:00:00+0000', tz='UTC')"
            ]
          },
          "metadata": {
            "tags": []
          },
          "execution_count": 182
        }
      ]
    },
    {
      "cell_type": "code",
      "metadata": {
        "colab": {
          "base_uri": "https://localhost:8080/",
          "height": 474
        },
        "id": "gsesCLH3vaSc",
        "outputId": "0dff292f-f830-4e7d-f28a-d06551c85e5d"
      },
      "source": [
        "air_quality2.loc['2019-05-20':'2019-05-20']  # 하루 데이터 선택"
      ],
      "execution_count": 191,
      "outputs": [
        {
          "output_type": "execute_result",
          "data": {
            "text/html": [
              "<div>\n",
              "<style scoped>\n",
              "    .dataframe tbody tr th:only-of-type {\n",
              "        vertical-align: middle;\n",
              "    }\n",
              "\n",
              "    .dataframe tbody tr th {\n",
              "        vertical-align: top;\n",
              "    }\n",
              "\n",
              "    .dataframe thead th {\n",
              "        text-align: right;\n",
              "    }\n",
              "</style>\n",
              "<table border=\"1\" class=\"dataframe\">\n",
              "  <thead>\n",
              "    <tr style=\"text-align: right;\">\n",
              "      <th></th>\n",
              "      <th>city</th>\n",
              "      <th>country</th>\n",
              "      <th>location</th>\n",
              "      <th>parameter</th>\n",
              "      <th>value</th>\n",
              "      <th>unit</th>\n",
              "    </tr>\n",
              "    <tr>\n",
              "      <th>date.utc</th>\n",
              "      <th></th>\n",
              "      <th></th>\n",
              "      <th></th>\n",
              "      <th></th>\n",
              "      <th></th>\n",
              "      <th></th>\n",
              "    </tr>\n",
              "  </thead>\n",
              "  <tbody>\n",
              "    <tr>\n",
              "      <th>2019-05-20 23:00:00+00:00</th>\n",
              "      <td>Paris</td>\n",
              "      <td>FR</td>\n",
              "      <td>FR04014</td>\n",
              "      <td>no2</td>\n",
              "      <td>19.6</td>\n",
              "      <td>µg/m³</td>\n",
              "    </tr>\n",
              "    <tr>\n",
              "      <th>2019-05-20 22:00:00+00:00</th>\n",
              "      <td>Paris</td>\n",
              "      <td>FR</td>\n",
              "      <td>FR04014</td>\n",
              "      <td>no2</td>\n",
              "      <td>20.7</td>\n",
              "      <td>µg/m³</td>\n",
              "    </tr>\n",
              "    <tr>\n",
              "      <th>2019-05-20 21:00:00+00:00</th>\n",
              "      <td>Paris</td>\n",
              "      <td>FR</td>\n",
              "      <td>FR04014</td>\n",
              "      <td>no2</td>\n",
              "      <td>20.3</td>\n",
              "      <td>µg/m³</td>\n",
              "    </tr>\n",
              "    <tr>\n",
              "      <th>2019-05-20 20:00:00+00:00</th>\n",
              "      <td>Paris</td>\n",
              "      <td>FR</td>\n",
              "      <td>FR04014</td>\n",
              "      <td>no2</td>\n",
              "      <td>21.6</td>\n",
              "      <td>µg/m³</td>\n",
              "    </tr>\n",
              "    <tr>\n",
              "      <th>2019-05-20 19:00:00+00:00</th>\n",
              "      <td>Paris</td>\n",
              "      <td>FR</td>\n",
              "      <td>FR04014</td>\n",
              "      <td>no2</td>\n",
              "      <td>21.3</td>\n",
              "      <td>µg/m³</td>\n",
              "    </tr>\n",
              "    <tr>\n",
              "      <th>...</th>\n",
              "      <td>...</td>\n",
              "      <td>...</td>\n",
              "      <td>...</td>\n",
              "      <td>...</td>\n",
              "      <td>...</td>\n",
              "      <td>...</td>\n",
              "    </tr>\n",
              "    <tr>\n",
              "      <th>2019-05-20 04:00:00+00:00</th>\n",
              "      <td>London</td>\n",
              "      <td>GB</td>\n",
              "      <td>London Westminster</td>\n",
              "      <td>no2</td>\n",
              "      <td>26.0</td>\n",
              "      <td>µg/m³</td>\n",
              "    </tr>\n",
              "    <tr>\n",
              "      <th>2019-05-20 03:00:00+00:00</th>\n",
              "      <td>London</td>\n",
              "      <td>GB</td>\n",
              "      <td>London Westminster</td>\n",
              "      <td>no2</td>\n",
              "      <td>32.0</td>\n",
              "      <td>µg/m³</td>\n",
              "    </tr>\n",
              "    <tr>\n",
              "      <th>2019-05-20 02:00:00+00:00</th>\n",
              "      <td>London</td>\n",
              "      <td>GB</td>\n",
              "      <td>London Westminster</td>\n",
              "      <td>no2</td>\n",
              "      <td>32.0</td>\n",
              "      <td>µg/m³</td>\n",
              "    </tr>\n",
              "    <tr>\n",
              "      <th>2019-05-20 01:00:00+00:00</th>\n",
              "      <td>London</td>\n",
              "      <td>GB</td>\n",
              "      <td>London Westminster</td>\n",
              "      <td>no2</td>\n",
              "      <td>28.0</td>\n",
              "      <td>µg/m³</td>\n",
              "    </tr>\n",
              "    <tr>\n",
              "      <th>2019-05-20 00:00:00+00:00</th>\n",
              "      <td>London</td>\n",
              "      <td>GB</td>\n",
              "      <td>London Westminster</td>\n",
              "      <td>no2</td>\n",
              "      <td>28.0</td>\n",
              "      <td>µg/m³</td>\n",
              "    </tr>\n",
              "  </tbody>\n",
              "</table>\n",
              "<p>64 rows × 6 columns</p>\n",
              "</div>"
            ],
            "text/plain": [
              "                             city country  ... value   unit\n",
              "date.utc                                   ...             \n",
              "2019-05-20 23:00:00+00:00   Paris      FR  ...  19.6  µg/m³\n",
              "2019-05-20 22:00:00+00:00   Paris      FR  ...  20.7  µg/m³\n",
              "2019-05-20 21:00:00+00:00   Paris      FR  ...  20.3  µg/m³\n",
              "2019-05-20 20:00:00+00:00   Paris      FR  ...  21.6  µg/m³\n",
              "2019-05-20 19:00:00+00:00   Paris      FR  ...  21.3  µg/m³\n",
              "...                           ...     ...  ...   ...    ...\n",
              "2019-05-20 04:00:00+00:00  London      GB  ...  26.0  µg/m³\n",
              "2019-05-20 03:00:00+00:00  London      GB  ...  32.0  µg/m³\n",
              "2019-05-20 02:00:00+00:00  London      GB  ...  32.0  µg/m³\n",
              "2019-05-20 01:00:00+00:00  London      GB  ...  28.0  µg/m³\n",
              "2019-05-20 00:00:00+00:00  London      GB  ...  28.0  µg/m³\n",
              "\n",
              "[64 rows x 6 columns]"
            ]
          },
          "metadata": {
            "tags": []
          },
          "execution_count": 191
        }
      ]
    },
    {
      "cell_type": "code",
      "metadata": {
        "colab": {
          "base_uri": "https://localhost:8080/",
          "height": 474
        },
        "id": "LYibAj_svp1R",
        "outputId": "34087b34-13ca-4c72-f005-c9d40cfceb8f"
      },
      "source": [
        "air_quality2.loc['2019-05':'2019-05']  # 2019년 5월 데이터 선택"
      ],
      "execution_count": 192,
      "outputs": [
        {
          "output_type": "execute_result",
          "data": {
            "text/html": [
              "<div>\n",
              "<style scoped>\n",
              "    .dataframe tbody tr th:only-of-type {\n",
              "        vertical-align: middle;\n",
              "    }\n",
              "\n",
              "    .dataframe tbody tr th {\n",
              "        vertical-align: top;\n",
              "    }\n",
              "\n",
              "    .dataframe thead th {\n",
              "        text-align: right;\n",
              "    }\n",
              "</style>\n",
              "<table border=\"1\" class=\"dataframe\">\n",
              "  <thead>\n",
              "    <tr style=\"text-align: right;\">\n",
              "      <th></th>\n",
              "      <th>city</th>\n",
              "      <th>country</th>\n",
              "      <th>location</th>\n",
              "      <th>parameter</th>\n",
              "      <th>value</th>\n",
              "      <th>unit</th>\n",
              "    </tr>\n",
              "    <tr>\n",
              "      <th>date.utc</th>\n",
              "      <th></th>\n",
              "      <th></th>\n",
              "      <th></th>\n",
              "      <th></th>\n",
              "      <th></th>\n",
              "      <th></th>\n",
              "    </tr>\n",
              "  </thead>\n",
              "  <tbody>\n",
              "    <tr>\n",
              "      <th>2019-05-31 23:00:00+00:00</th>\n",
              "      <td>Paris</td>\n",
              "      <td>FR</td>\n",
              "      <td>FR04014</td>\n",
              "      <td>no2</td>\n",
              "      <td>81.7</td>\n",
              "      <td>µg/m³</td>\n",
              "    </tr>\n",
              "    <tr>\n",
              "      <th>2019-05-31 22:00:00+00:00</th>\n",
              "      <td>Paris</td>\n",
              "      <td>FR</td>\n",
              "      <td>FR04014</td>\n",
              "      <td>no2</td>\n",
              "      <td>68.0</td>\n",
              "      <td>µg/m³</td>\n",
              "    </tr>\n",
              "    <tr>\n",
              "      <th>2019-05-31 21:00:00+00:00</th>\n",
              "      <td>Paris</td>\n",
              "      <td>FR</td>\n",
              "      <td>FR04014</td>\n",
              "      <td>no2</td>\n",
              "      <td>60.2</td>\n",
              "      <td>µg/m³</td>\n",
              "    </tr>\n",
              "    <tr>\n",
              "      <th>2019-05-31 20:00:00+00:00</th>\n",
              "      <td>Paris</td>\n",
              "      <td>FR</td>\n",
              "      <td>FR04014</td>\n",
              "      <td>no2</td>\n",
              "      <td>37.0</td>\n",
              "      <td>µg/m³</td>\n",
              "    </tr>\n",
              "    <tr>\n",
              "      <th>2019-05-31 19:00:00+00:00</th>\n",
              "      <td>Paris</td>\n",
              "      <td>FR</td>\n",
              "      <td>FR04014</td>\n",
              "      <td>no2</td>\n",
              "      <td>23.3</td>\n",
              "      <td>µg/m³</td>\n",
              "    </tr>\n",
              "    <tr>\n",
              "      <th>...</th>\n",
              "      <td>...</td>\n",
              "      <td>...</td>\n",
              "      <td>...</td>\n",
              "      <td>...</td>\n",
              "      <td>...</td>\n",
              "      <td>...</td>\n",
              "    </tr>\n",
              "    <tr>\n",
              "      <th>2019-05-07 06:00:00+00:00</th>\n",
              "      <td>London</td>\n",
              "      <td>GB</td>\n",
              "      <td>London Westminster</td>\n",
              "      <td>no2</td>\n",
              "      <td>26.0</td>\n",
              "      <td>µg/m³</td>\n",
              "    </tr>\n",
              "    <tr>\n",
              "      <th>2019-05-07 04:00:00+00:00</th>\n",
              "      <td>London</td>\n",
              "      <td>GB</td>\n",
              "      <td>London Westminster</td>\n",
              "      <td>no2</td>\n",
              "      <td>16.0</td>\n",
              "      <td>µg/m³</td>\n",
              "    </tr>\n",
              "    <tr>\n",
              "      <th>2019-05-07 03:00:00+00:00</th>\n",
              "      <td>London</td>\n",
              "      <td>GB</td>\n",
              "      <td>London Westminster</td>\n",
              "      <td>no2</td>\n",
              "      <td>19.0</td>\n",
              "      <td>µg/m³</td>\n",
              "    </tr>\n",
              "    <tr>\n",
              "      <th>2019-05-07 02:00:00+00:00</th>\n",
              "      <td>London</td>\n",
              "      <td>GB</td>\n",
              "      <td>London Westminster</td>\n",
              "      <td>no2</td>\n",
              "      <td>19.0</td>\n",
              "      <td>µg/m³</td>\n",
              "    </tr>\n",
              "    <tr>\n",
              "      <th>2019-05-07 01:00:00+00:00</th>\n",
              "      <td>London</td>\n",
              "      <td>GB</td>\n",
              "      <td>London Westminster</td>\n",
              "      <td>no2</td>\n",
              "      <td>23.0</td>\n",
              "      <td>µg/m³</td>\n",
              "    </tr>\n",
              "  </tbody>\n",
              "</table>\n",
              "<p>1256 rows × 6 columns</p>\n",
              "</div>"
            ],
            "text/plain": [
              "                             city country  ... value   unit\n",
              "date.utc                                   ...             \n",
              "2019-05-31 23:00:00+00:00   Paris      FR  ...  81.7  µg/m³\n",
              "2019-05-31 22:00:00+00:00   Paris      FR  ...  68.0  µg/m³\n",
              "2019-05-31 21:00:00+00:00   Paris      FR  ...  60.2  µg/m³\n",
              "2019-05-31 20:00:00+00:00   Paris      FR  ...  37.0  µg/m³\n",
              "2019-05-31 19:00:00+00:00   Paris      FR  ...  23.3  µg/m³\n",
              "...                           ...     ...  ...   ...    ...\n",
              "2019-05-07 06:00:00+00:00  London      GB  ...  26.0  µg/m³\n",
              "2019-05-07 04:00:00+00:00  London      GB  ...  16.0  µg/m³\n",
              "2019-05-07 03:00:00+00:00  London      GB  ...  19.0  µg/m³\n",
              "2019-05-07 02:00:00+00:00  London      GB  ...  19.0  µg/m³\n",
              "2019-05-07 01:00:00+00:00  London      GB  ...  23.0  µg/m³\n",
              "\n",
              "[1256 rows x 6 columns]"
            ]
          },
          "metadata": {
            "tags": []
          },
          "execution_count": 192
        }
      ]
    },
    {
      "cell_type": "code",
      "metadata": {
        "colab": {
          "base_uri": "https://localhost:8080/",
          "height": 265
        },
        "id": "Eqj9Z8El0yrf",
        "outputId": "48860212-ee3e-4feb-a6d5-10345645e471"
      },
      "source": [
        "# 2019년 5월 20일 0시 ~ 2019년 5월 21일 23시 데이터를 도시별 선그래프\r\n",
        "subset = air_quality2.loc['2019-05-20':'2019-05-21']\r\n",
        "pivoted = subset.pivot(columns='city', values='value')\r\n",
        "\r\n",
        "plt.plot(pivoted['Antwerpen'], label='Antwerpen')\r\n",
        "plt.plot(pivoted['London'], label='London')\r\n",
        "plt.plot(pivoted['Paris'], label='Paris')\r\n",
        "\r\n",
        "plt.legend()\r\n",
        "plt.show()"
      ],
      "execution_count": 196,
      "outputs": [
        {
          "output_type": "display_data",
          "data": {
            "image/png": "[encoded data removed]",
            "text/plain": [
              "<Figure size 432x288 with 1 Axes>"
            ]
          },
          "metadata": {
            "tags": [],
            "needs_background": "light"
          }
        }
      ]
    },
    {
      "cell_type": "code",
      "metadata": {
        "colab": {
          "base_uri": "https://localhost:8080/",
          "height": 374
        },
        "id": "LZbaA0wr4RlX",
        "outputId": "160796f2-eae7-4926-b264-148a42395a65"
      },
      "source": [
        "# 전체 기간동안 도시별 시계열 그래프\r\n",
        "no2_by_city = air_quality2.pivot(columns='city', values='value')\r\n",
        "\r\n",
        "plt.figure(figsize=(18, 6))\r\n",
        "\r\n",
        "plt.plot(no2_by_city['Antwerpen'], label='Antwerpen')\r\n",
        "plt.plot(no2_by_city['London'], label='London')\r\n",
        "plt.plot(no2_by_city['Paris'], label='Paris')\r\n",
        "\r\n",
        "plt.legend()\r\n",
        "plt.show()"
      ],
      "execution_count": 204,
      "outputs": [
        {
          "output_type": "display_data",
          "data": {
            "image/png": "[encoded data removed]",
            "text/plain": [
              "<Figure size 1296x432 with 1 Axes>"
            ]
          },
          "metadata": {
            "tags": [],
            "needs_background": "light"
          }
        }
      ]
    },
    {
      "cell_type": "code",
      "metadata": {
        "colab": {
          "base_uri": "https://localhost:8080/",
          "height": 474
        },
        "id": "bNTG-bvP6Yf-",
        "outputId": "b19c8869-2d12-45cc-f017-f478c862a05a"
      },
      "source": [
        "# no2_by_city 데이터 프레임을 사용해서 일주일 단위로 각 도시의 NO2 최댓값"
      ],
      "execution_count": 205,
      "outputs": [
        {
          "output_type": "execute_result",
          "data": {
            "text/html": [
              "<div>\n",
              "<style scoped>\n",
              "    .dataframe tbody tr th:only-of-type {\n",
              "        vertical-align: middle;\n",
              "    }\n",
              "\n",
              "    .dataframe tbody tr th {\n",
              "        vertical-align: top;\n",
              "    }\n",
              "\n",
              "    .dataframe thead th {\n",
              "        text-align: right;\n",
              "    }\n",
              "</style>\n",
              "<table border=\"1\" class=\"dataframe\">\n",
              "  <thead>\n",
              "    <tr style=\"text-align: right;\">\n",
              "      <th>city</th>\n",
              "      <th>Antwerpen</th>\n",
              "      <th>London</th>\n",
              "      <th>Paris</th>\n",
              "    </tr>\n",
              "    <tr>\n",
              "      <th>date.utc</th>\n",
              "      <th></th>\n",
              "      <th></th>\n",
              "      <th></th>\n",
              "    </tr>\n",
              "  </thead>\n",
              "  <tbody>\n",
              "    <tr>\n",
              "      <th>2019-05-07 01:00:00+00:00</th>\n",
              "      <td>50.5</td>\n",
              "      <td>23.0</td>\n",
              "      <td>25.0</td>\n",
              "    </tr>\n",
              "    <tr>\n",
              "      <th>2019-05-07 02:00:00+00:00</th>\n",
              "      <td>45.0</td>\n",
              "      <td>19.0</td>\n",
              "      <td>27.7</td>\n",
              "    </tr>\n",
              "    <tr>\n",
              "      <th>2019-05-07 03:00:00+00:00</th>\n",
              "      <td>NaN</td>\n",
              "      <td>19.0</td>\n",
              "      <td>50.4</td>\n",
              "    </tr>\n",
              "    <tr>\n",
              "      <th>2019-05-07 04:00:00+00:00</th>\n",
              "      <td>NaN</td>\n",
              "      <td>16.0</td>\n",
              "      <td>61.9</td>\n",
              "    </tr>\n",
              "    <tr>\n",
              "      <th>2019-05-07 05:00:00+00:00</th>\n",
              "      <td>NaN</td>\n",
              "      <td>NaN</td>\n",
              "      <td>72.4</td>\n",
              "    </tr>\n",
              "    <tr>\n",
              "      <th>...</th>\n",
              "      <td>...</td>\n",
              "      <td>...</td>\n",
              "      <td>...</td>\n",
              "    </tr>\n",
              "    <tr>\n",
              "      <th>2019-06-20 20:00:00+00:00</th>\n",
              "      <td>NaN</td>\n",
              "      <td>NaN</td>\n",
              "      <td>21.4</td>\n",
              "    </tr>\n",
              "    <tr>\n",
              "      <th>2019-06-20 21:00:00+00:00</th>\n",
              "      <td>NaN</td>\n",
              "      <td>NaN</td>\n",
              "      <td>24.9</td>\n",
              "    </tr>\n",
              "    <tr>\n",
              "      <th>2019-06-20 22:00:00+00:00</th>\n",
              "      <td>NaN</td>\n",
              "      <td>NaN</td>\n",
              "      <td>26.5</td>\n",
              "    </tr>\n",
              "    <tr>\n",
              "      <th>2019-06-20 23:00:00+00:00</th>\n",
              "      <td>NaN</td>\n",
              "      <td>NaN</td>\n",
              "      <td>21.8</td>\n",
              "    </tr>\n",
              "    <tr>\n",
              "      <th>2019-06-21 00:00:00+00:00</th>\n",
              "      <td>NaN</td>\n",
              "      <td>NaN</td>\n",
              "      <td>20.0</td>\n",
              "    </tr>\n",
              "  </tbody>\n",
              "</table>\n",
              "<p>1033 rows × 3 columns</p>\n",
              "</div>"
            ],
            "text/plain": [
              "city                       Antwerpen  London  Paris\n",
              "date.utc                                           \n",
              "2019-05-07 01:00:00+00:00       50.5    23.0   25.0\n",
              "2019-05-07 02:00:00+00:00       45.0    19.0   27.7\n",
              "2019-05-07 03:00:00+00:00        NaN    19.0   50.4\n",
              "2019-05-07 04:00:00+00:00        NaN    16.0   61.9\n",
              "2019-05-07 05:00:00+00:00        NaN     NaN   72.4\n",
              "...                              ...     ...    ...\n",
              "2019-06-20 20:00:00+00:00        NaN     NaN   21.4\n",
              "2019-06-20 21:00:00+00:00        NaN     NaN   24.9\n",
              "2019-06-20 22:00:00+00:00        NaN     NaN   26.5\n",
              "2019-06-20 23:00:00+00:00        NaN     NaN   21.8\n",
              "2019-06-21 00:00:00+00:00        NaN     NaN   20.0\n",
              "\n",
              "[1033 rows x 3 columns]"
            ]
          },
          "metadata": {
            "tags": []
          },
          "execution_count": 205
        }
      ]
    },
    {
      "cell_type": "code",
      "metadata": {
        "id": "J3stRcHn7B-Y"
      },
      "source": [
        "# no2_by_city 데이터 프레임을 사용해서 일별 각 도시의 NO2 최댓값"
      ],
      "execution_count": null,
      "outputs": []
    }
  ]
}