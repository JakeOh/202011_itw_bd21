{
  "nbformat": 4,
  "nbformat_minor": 0,
  "metadata": {
    "colab": {
      "name": "da19_datetime.ipynb",
      "provenance": [],
      "collapsed_sections": [],
      "authorship_tag": "ABX9TyPmxBMX095NYL1Y7D2ApDFd",
      "include_colab_link": true
    },
    "kernelspec": {
      "name": "python3",
      "display_name": "Python 3"
    }
  },
  "cells": [
    {
      "cell_type": "markdown",
      "metadata": {
        "id": "view-in-github",
        "colab_type": "text"
      },
      "source": [
        "<a href=\"https://colab.research.google.com/github/JakeOh/202011_itw_bd21/blob/main/lab_da/da19_datetime.ipynb\" target=\"_parent\"><img src=\"https://colab.research.google.com/assets/colab-badge.svg\" alt=\"Open In Colab\"/></a>"
      ]
    },
    {
      "cell_type": "markdown",
      "metadata": {
        "id": "kJFRT68pQIAo"
      },
      "source": [
        "*   Python의 datetime 모듈\r\n",
        "    *   datetime 클래스: 날짜(date), 시간(time)과 관련된 정보들을 저장, 표현할 수 있는 메서드를 포함.\r\n",
        "    *   https://docs.python.org/3/library/datetime.html?highlight=datetime#module-datetime 참고"
      ]
    },
    {
      "cell_type": "code",
      "metadata": {
        "id": "ug3xzt9vPyo2"
      },
      "source": [
        "import datetime  # datetime 모듈을 import"
      ],
      "execution_count": 1,
      "outputs": []
    },
    {
      "cell_type": "code",
      "metadata": {
        "colab": {
          "base_uri": "https://localhost:8080/"
        },
        "id": "CEswTTtnR9NZ",
        "outputId": "bbf610de-0e43-4234-fcbb-96cd564af71d"
      },
      "source": [
        "datetime.datetime.now()\r\n",
        "# datetime 모듈의 datetime 클래스의 now 메서드 호출"
      ],
      "execution_count": 2,
      "outputs": [
        {
          "output_type": "execute_result",
          "data": {
            "text/plain": [
              "datetime.datetime(2021, 3, 3, 0, 41, 28, 595765)"
            ]
          },
          "metadata": {
            "tags": []
          },
          "execution_count": 2
        }
      ]
    },
    {
      "cell_type": "code",
      "metadata": {
        "id": "aIccQIWeSlpv"
      },
      "source": [
        "from datetime import datetime  # datetime 모듈에서 작성된 datetime 클래스를 import"
      ],
      "execution_count": 3,
      "outputs": []
    },
    {
      "cell_type": "code",
      "metadata": {
        "colab": {
          "base_uri": "https://localhost:8080/"
        },
        "id": "nyYdZ_onSxTg",
        "outputId": "9021ab9d-67e9-44d0-bd57-8f1831f7b781"
      },
      "source": [
        "datetime.now()  # datetime 클래스의 now 메서드 호출"
      ],
      "execution_count": 4,
      "outputs": [
        {
          "output_type": "execute_result",
          "data": {
            "text/plain": [
              "datetime.datetime(2021, 3, 3, 0, 41, 28, 621004)"
            ]
          },
          "metadata": {
            "tags": []
          },
          "execution_count": 4
        }
      ]
    },
    {
      "cell_type": "markdown",
      "metadata": {
        "id": "L-fsbGLHTc0I"
      },
      "source": [
        "*   datetime 클래스의 메서드"
      ]
    },
    {
      "cell_type": "code",
      "metadata": {
        "colab": {
          "base_uri": "https://localhost:8080/"
        },
        "id": "l0oZxoLVTiHG",
        "outputId": "e622ea98-7d13-4f96-ee31-8a0aba49aaef"
      },
      "source": [
        "# datetime.now(): OS(운영체제)의 시간대에서의 현재 시간을 리턴.\r\n",
        "now = datetime.now()  #> Google Colab 가상 머신에서 설정된 시간대(UTC)의 현재 시간\r\n",
        "print(now)"
      ],
      "execution_count": 5,
      "outputs": [
        {
          "output_type": "stream",
          "text": [
            "2021-03-03 00:41:28.641508\n"
          ],
          "name": "stdout"
        }
      ]
    },
    {
      "cell_type": "markdown",
      "metadata": {
        "id": "E0YlY6ADURbv"
      },
      "source": [
        "*   UTC(Coordinates Universal Timezone): 그리니치 천문대 시간\r\n",
        "*   KST(Korean Standard Timezone): 한국 표준시(UTC+09:00)"
      ]
    },
    {
      "cell_type": "code",
      "metadata": {
        "colab": {
          "base_uri": "https://localhost:8080/"
        },
        "id": "0cQ7VaxcU2WO",
        "outputId": "27c0f754-b282-40ce-918d-52e8bb1b1fc7"
      },
      "source": [
        "type(now)  #> datetime 모듈의 datetiem 클래스 객체(object)"
      ],
      "execution_count": 6,
      "outputs": [
        {
          "output_type": "execute_result",
          "data": {
            "text/plain": [
              "datetime.datetime"
            ]
          },
          "metadata": {
            "tags": []
          },
          "execution_count": 6
        }
      ]
    },
    {
      "cell_type": "code",
      "metadata": {
        "colab": {
          "base_uri": "https://localhost:8080/"
        },
        "id": "zRkxGNQrVK-C",
        "outputId": "cda6ed54-feed-4cb2-c7cb-a68dfb1b62e2"
      },
      "source": [
        "# datetime.datetime 객체의 속성들(properties)\r\n",
        "print(now.year)\r\n",
        "print(now.month)\r\n",
        "print(now.day)"
      ],
      "execution_count": 7,
      "outputs": [
        {
          "output_type": "stream",
          "text": [
            "2021\n",
            "3\n",
            "3\n"
          ],
          "name": "stdout"
        }
      ]
    },
    {
      "cell_type": "code",
      "metadata": {
        "colab": {
          "base_uri": "https://localhost:8080/"
        },
        "id": "tVHygRwKVwkB",
        "outputId": "13336487-43c8-4ae7-e850-f2e1f162392a"
      },
      "source": [
        "print(f'{now.hour}:{now.minute}:{now.second}')"
      ],
      "execution_count": 8,
      "outputs": [
        {
          "output_type": "stream",
          "text": [
            "0:41:28\n"
          ],
          "name": "stdout"
        }
      ]
    },
    {
      "cell_type": "code",
      "metadata": {
        "colab": {
          "base_uri": "https://localhost:8080/"
        },
        "id": "seh7gZT0WCvg",
        "outputId": "3bc4fcb5-6e99-49e9-81fd-9fbae0bc998b"
      },
      "source": [
        "# datetime 생성자 함수(constructor): 특정 날짜/시간으로 datetime 객체를 생성\r\n",
        "yesterday = datetime(2021, 3, 1)\r\n",
        "print(yesterday)"
      ],
      "execution_count": 9,
      "outputs": [
        {
          "output_type": "stream",
          "text": [
            "2021-03-01 00:00:00\n"
          ],
          "name": "stdout"
        }
      ]
    },
    {
      "cell_type": "code",
      "metadata": {
        "colab": {
          "base_uri": "https://localhost:8080/"
        },
        "id": "F6XspmE9WcJT",
        "outputId": "9ec828ad-fb47-441e-e5ec-b883e1e1ab89"
      },
      "source": [
        "tomorrow = datetime(2021, 3, 3, 14, 13)\r\n",
        "print(tomorrow)"
      ],
      "execution_count": 10,
      "outputs": [
        {
          "output_type": "stream",
          "text": [
            "2021-03-03 14:13:00\n"
          ],
          "name": "stdout"
        }
      ]
    },
    {
      "cell_type": "code",
      "metadata": {
        "colab": {
          "base_uri": "https://localhost:8080/"
        },
        "id": "nuZR7RsWW9cg",
        "outputId": "c3a916fa-36b5-4220-ab26-623597801812"
      },
      "source": [
        "# 두 날짜/시간 사이의 차(difference)\r\n",
        "print(tomorrow - yesterday)"
      ],
      "execution_count": 11,
      "outputs": [
        {
          "output_type": "stream",
          "text": [
            "2 days, 14:13:00\n"
          ],
          "name": "stdout"
        }
      ]
    },
    {
      "cell_type": "code",
      "metadata": {
        "id": "7Ljfxe0jcE9h"
      },
      "source": [
        "from datetime import timedelta  # datetime 모듈의 timedelta 클래스를 import"
      ],
      "execution_count": 12,
      "outputs": []
    },
    {
      "cell_type": "code",
      "metadata": {
        "colab": {
          "base_uri": "https://localhost:8080/"
        },
        "id": "eA21OpIPcNBY",
        "outputId": "01a801d4-3589-41e9-98bf-c4a4629295df"
      },
      "source": [
        "current_time = datetime.now()\r\n",
        "print(current_time)"
      ],
      "execution_count": 13,
      "outputs": [
        {
          "output_type": "stream",
          "text": [
            "2021-03-03 00:41:28.774347\n"
          ],
          "name": "stdout"
        }
      ]
    },
    {
      "cell_type": "code",
      "metadata": {
        "colab": {
          "base_uri": "https://localhost:8080/"
        },
        "id": "As9Cv7c9cg8Z",
        "outputId": "c6b7f3ce-4018-402c-89f3-a8df86ab55d3"
      },
      "source": [
        "one_week = timedelta(weeks=1)  # (1주일) 시간간격(timedelta) 객체 생성\r\n",
        "print(current_time - one_week)\r\n",
        "print(current_time + one_week)"
      ],
      "execution_count": 14,
      "outputs": [
        {
          "output_type": "stream",
          "text": [
            "2021-02-24 00:41:28.774347\n",
            "2021-03-10 00:41:28.774347\n"
          ],
          "name": "stdout"
        }
      ]
    },
    {
      "cell_type": "code",
      "metadata": {
        "colab": {
          "base_uri": "https://localhost:8080/"
        },
        "id": "ifZYSa2ZdOsR",
        "outputId": "c4244399-a5e6-401b-d493-88a6194a418e"
      },
      "source": [
        "one_day = timedelta(days=1)\r\n",
        "print(current_time - one_day)\r\n",
        "print(current_time + one_day)"
      ],
      "execution_count": 15,
      "outputs": [
        {
          "output_type": "stream",
          "text": [
            "2021-03-02 00:41:28.774347\n",
            "2021-03-04 00:41:28.774347\n"
          ],
          "name": "stdout"
        }
      ]
    },
    {
      "cell_type": "markdown",
      "metadata": {
        "id": "FNIDwdD4XzzY"
      },
      "source": [
        "*   datetime(날짜/시간) 객체 <---> str(문자열) 객체\r\n",
        "    *   `datetime.strptime(문자열, 포맷문자열)`: 문자열(str)을 datetime 객체로 변환(parsing)\r\n",
        "    *   `datetime.strftime(포맷문자열)`: datetime 객체를 문자열로 변환(formatting)\r\n"
      ]
    },
    {
      "cell_type": "code",
      "metadata": {
        "colab": {
          "base_uri": "https://localhost:8080/"
        },
        "id": "hsBBw6moeFBq",
        "outputId": "ddc78ad3-44ed-4eb5-a147-290a138807be"
      },
      "source": [
        "current_time = datetime.now()  # 현재 날짜/시간 정보를 저장하고 있는 datetime 객체 생성\r\n",
        "print(current_time)\r\n",
        "print(current_time.strftime('%Y/%m/%d'))  # datetime ---> str\r\n",
        "print(current_time.strftime('%Y-%m-%d'))"
      ],
      "execution_count": 16,
      "outputs": [
        {
          "output_type": "stream",
          "text": [
            "2021-03-03 00:41:28.810212\n",
            "2021/03/03\n",
            "2021-03-03\n"
          ],
          "name": "stdout"
        }
      ]
    },
    {
      "cell_type": "markdown",
      "metadata": {
        "id": "3_RMvy9mfOic"
      },
      "source": [
        "*   날짜 포맷 문자열\r\n",
        "    *   연도(year): %Y(4자리 연도),  %y(2자리 연도)\r\n",
        "    *   월(month): %m(2자리 숫자), %B(월 이름), %b(월 이름 약자)\r\n",
        "    *   일(day): %d(2자리 숫자)\r\n",
        "    *   시(hour): %H(24시간 형식. 0 ~ 23), %I(12시간 형식. 1 ~ 12)\r\n",
        "    *   분(minute): %M(2자리 숫자. 0 ~ 59)\r\n",
        "    *   초(second): %S(2자리 숫자. 0 ~ 59)"
      ]
    },
    {
      "cell_type": "code",
      "metadata": {
        "colab": {
          "base_uri": "https://localhost:8080/"
        },
        "id": "RFG8dGMUglfD",
        "outputId": "8898525f-6156-42ea-8cca-6a377beaaa32"
      },
      "source": [
        "print(current_time.strftime('%b. %d, %y'))\r\n",
        "print(current_time.strftime('%B %d, %Y'))"
      ],
      "execution_count": 17,
      "outputs": [
        {
          "output_type": "stream",
          "text": [
            "Mar. 03, 21\n",
            "March 03, 2021\n"
          ],
          "name": "stdout"
        }
      ]
    },
    {
      "cell_type": "code",
      "metadata": {
        "colab": {
          "base_uri": "https://localhost:8080/"
        },
        "id": "dWXodz16hNmN",
        "outputId": "d805d0e6-eae5-474b-c585-12a849821ff6"
      },
      "source": [
        "current_time = datetime(2021, 3, 2, 15, 1, 30)\r\n",
        "print(current_time.strftime('%H:%M:%S'))\r\n",
        "print(current_time.strftime('%I:%M:%S %p'))"
      ],
      "execution_count": 18,
      "outputs": [
        {
          "output_type": "stream",
          "text": [
            "15:01:30\n",
            "03:01:30 PM\n"
          ],
          "name": "stdout"
        }
      ]
    },
    {
      "cell_type": "code",
      "metadata": {
        "colab": {
          "base_uri": "https://localhost:8080/"
        },
        "id": "02Ckt59DiE4x",
        "outputId": "16b4759b-f8d2-4127-f102-d4ae26278814"
      },
      "source": [
        "# str ---> datetime\r\n",
        "print(datetime.strptime('2021-3-2', '%Y-%m-%d'))\r\n",
        "print(datetime.strptime('21-03-02', '%y-%m-%d'))\r\n",
        "print(datetime.strptime('21-03-02', '%d-%m-%y'))"
      ],
      "execution_count": 50,
      "outputs": [
        {
          "output_type": "stream",
          "text": [
            "2021-03-02 00:00:00\n",
            "2021-03-02 00:00:00\n",
            "2002-03-21 00:00:00\n"
          ],
          "name": "stdout"
        }
      ]
    },
    {
      "cell_type": "markdown",
      "metadata": {
        "id": "WvXUkx7akG98"
      },
      "source": [
        "*   timestamp(UNIX time, POSIX time, epoch time, ...): 1970년 1월 1일 0시 0분 0초를 시작으로 해서 1초마다 1씩 증가하는 숫자.\r\n",
        "*   `datetime.timestamp()`: datetime 객체 ---> timestamp(숫자)\r\n",
        "*   `datetime.fromtimestamp(숫자)`: timestamp(숫자) ---> datetime 객체\r\n"
      ]
    },
    {
      "cell_type": "code",
      "metadata": {
        "colab": {
          "base_uri": "https://localhost:8080/"
        },
        "id": "wpYodVZ_leFb",
        "outputId": "afb80292-88b0-46e9-d553-371a0dcf79e8"
      },
      "source": [
        "current_time = datetime.now()\r\n",
        "print(current_time)\r\n",
        "print(current_time.timestamp())  # datetime ---> 숫자"
      ],
      "execution_count": 20,
      "outputs": [
        {
          "output_type": "stream",
          "text": [
            "2021-03-03 00:41:28.862448\n",
            "1614732088.862448\n"
          ],
          "name": "stdout"
        }
      ]
    },
    {
      "cell_type": "code",
      "metadata": {
        "colab": {
          "base_uri": "https://localhost:8080/"
        },
        "id": "ejm-bhRclu9K",
        "outputId": "7559423f-ae62-42ad-a17a-a29269e16bbb"
      },
      "source": [
        "print(datetime.fromtimestamp(1614665900))  # 숫자 ---> datetime"
      ],
      "execution_count": 21,
      "outputs": [
        {
          "output_type": "stream",
          "text": [
            "2021-03-02 06:18:20\n"
          ],
          "name": "stdout"
        }
      ]
    },
    {
      "cell_type": "code",
      "metadata": {
        "id": "OSZxGEOQqpUt"
      },
      "source": [
        "import pandas as pd"
      ],
      "execution_count": 22,
      "outputs": []
    },
    {
      "cell_type": "code",
      "metadata": {
        "id": "VTTVsm3BqroE"
      },
      "source": [
        "file_path = 'https://github.com/wesm/pydata-book/raw/2nd-edition/datasets/movielens/ratings.dat'\r\n",
        "col_names = ['user_id', 'movie_id', 'rating', 'timestamp']"
      ],
      "execution_count": 23,
      "outputs": []
    },
    {
      "cell_type": "code",
      "metadata": {
        "id": "ADDLIQJmq2k9"
      },
      "source": [
        "ratings = pd.read_csv(file_path, sep='::', header=None, names=col_names,\r\n",
        "                      encoding='cp1252', engine='python')"
      ],
      "execution_count": 24,
      "outputs": []
    },
    {
      "cell_type": "code",
      "metadata": {
        "colab": {
          "base_uri": "https://localhost:8080/",
          "height": 214
        },
        "id": "PnArtxbUrdjs",
        "outputId": "50017edf-acbd-4461-806b-4e47e0d02c92"
      },
      "source": [
        "ratings.head()"
      ],
      "execution_count": 25,
      "outputs": [
        {
          "output_type": "execute_result",
          "data": {
            "text/html": [
              "<div>\n",
              "<style scoped>\n",
              "    .dataframe tbody tr th:only-of-type {\n",
              "        vertical-align: middle;\n",
              "    }\n",
              "\n",
              "    .dataframe tbody tr th {\n",
              "        vertical-align: top;\n",
              "    }\n",
              "\n",
              "    .dataframe thead th {\n",
              "        text-align: right;\n",
              "    }\n",
              "</style>\n",
              "<table border=\"1\" class=\"dataframe\">\n",
              "  <thead>\n",
              "    <tr style=\"text-align: right;\">\n",
              "      <th></th>\n",
              "      <th>user_id</th>\n",
              "      <th>movie_id</th>\n",
              "      <th>rating</th>\n",
              "      <th>timestamp</th>\n",
              "    </tr>\n",
              "  </thead>\n",
              "  <tbody>\n",
              "    <tr>\n",
              "      <th>0</th>\n",
              "      <td>1</td>\n",
              "      <td>1193</td>\n",
              "      <td>5</td>\n",
              "      <td>978300760</td>\n",
              "    </tr>\n",
              "    <tr>\n",
              "      <th>1</th>\n",
              "      <td>1</td>\n",
              "      <td>661</td>\n",
              "      <td>3</td>\n",
              "      <td>978302109</td>\n",
              "    </tr>\n",
              "    <tr>\n",
              "      <th>2</th>\n",
              "      <td>1</td>\n",
              "      <td>914</td>\n",
              "      <td>3</td>\n",
              "      <td>978301968</td>\n",
              "    </tr>\n",
              "    <tr>\n",
              "      <th>3</th>\n",
              "      <td>1</td>\n",
              "      <td>3408</td>\n",
              "      <td>4</td>\n",
              "      <td>978300275</td>\n",
              "    </tr>\n",
              "    <tr>\n",
              "      <th>4</th>\n",
              "      <td>1</td>\n",
              "      <td>2355</td>\n",
              "      <td>5</td>\n",
              "      <td>978824291</td>\n",
              "    </tr>\n",
              "  </tbody>\n",
              "</table>\n",
              "</div>"
            ],
            "text/plain": [
              "   user_id  movie_id  rating  timestamp\n",
              "0        1      1193       5  978300760\n",
              "1        1       661       3  978302109\n",
              "2        1       914       3  978301968\n",
              "3        1      3408       4  978300275\n",
              "4        1      2355       5  978824291"
            ]
          },
          "metadata": {
            "tags": []
          },
          "execution_count": 25
        }
      ]
    },
    {
      "cell_type": "code",
      "metadata": {
        "colab": {
          "base_uri": "https://localhost:8080/"
        },
        "id": "PJ7YRJoarmns",
        "outputId": "bbb64216-be4b-476d-e1db-e009106dbda8"
      },
      "source": [
        "datetime.fromtimestamp(978300760)"
      ],
      "execution_count": 26,
      "outputs": [
        {
          "output_type": "execute_result",
          "data": {
            "text/plain": [
              "datetime.datetime(2000, 12, 31, 22, 12, 40)"
            ]
          },
          "metadata": {
            "tags": []
          },
          "execution_count": 26
        }
      ]
    },
    {
      "cell_type": "code",
      "metadata": {
        "id": "eGB7-SYGr1zM"
      },
      "source": [
        "# ratings 데이터 프레임에 dt 파생변수(timestamp 값을 datetime 객체로 변환한 값) 추가\r\n",
        "dates = []  # timestamp(정수)를 datetime 객체로 변환한 값들을 저장할 리스트\r\n",
        "for ts in ratings['timestamp']:\r\n",
        "    dates.append(datetime.fromtimestamp(ts))\r\n",
        "\r\n",
        "# 리스트 dates를 pd.Series로 변환해서 파생변수로 추가\r\n",
        "ratings['dt'] = pd.Series(dates)  "
      ],
      "execution_count": 27,
      "outputs": []
    },
    {
      "cell_type": "code",
      "metadata": {
        "colab": {
          "base_uri": "https://localhost:8080/",
          "height": 214
        },
        "id": "CPmPGSYjtxjd",
        "outputId": "1566b617-8449-4e94-b549-747297a86cbc"
      },
      "source": [
        "ratings.head()"
      ],
      "execution_count": 28,
      "outputs": [
        {
          "output_type": "execute_result",
          "data": {
            "text/html": [
              "<div>\n",
              "<style scoped>\n",
              "    .dataframe tbody tr th:only-of-type {\n",
              "        vertical-align: middle;\n",
              "    }\n",
              "\n",
              "    .dataframe tbody tr th {\n",
              "        vertical-align: top;\n",
              "    }\n",
              "\n",
              "    .dataframe thead th {\n",
              "        text-align: right;\n",
              "    }\n",
              "</style>\n",
              "<table border=\"1\" class=\"dataframe\">\n",
              "  <thead>\n",
              "    <tr style=\"text-align: right;\">\n",
              "      <th></th>\n",
              "      <th>user_id</th>\n",
              "      <th>movie_id</th>\n",
              "      <th>rating</th>\n",
              "      <th>timestamp</th>\n",
              "      <th>dt</th>\n",
              "    </tr>\n",
              "  </thead>\n",
              "  <tbody>\n",
              "    <tr>\n",
              "      <th>0</th>\n",
              "      <td>1</td>\n",
              "      <td>1193</td>\n",
              "      <td>5</td>\n",
              "      <td>978300760</td>\n",
              "      <td>2000-12-31 22:12:40</td>\n",
              "    </tr>\n",
              "    <tr>\n",
              "      <th>1</th>\n",
              "      <td>1</td>\n",
              "      <td>661</td>\n",
              "      <td>3</td>\n",
              "      <td>978302109</td>\n",
              "      <td>2000-12-31 22:35:09</td>\n",
              "    </tr>\n",
              "    <tr>\n",
              "      <th>2</th>\n",
              "      <td>1</td>\n",
              "      <td>914</td>\n",
              "      <td>3</td>\n",
              "      <td>978301968</td>\n",
              "      <td>2000-12-31 22:32:48</td>\n",
              "    </tr>\n",
              "    <tr>\n",
              "      <th>3</th>\n",
              "      <td>1</td>\n",
              "      <td>3408</td>\n",
              "      <td>4</td>\n",
              "      <td>978300275</td>\n",
              "      <td>2000-12-31 22:04:35</td>\n",
              "    </tr>\n",
              "    <tr>\n",
              "      <th>4</th>\n",
              "      <td>1</td>\n",
              "      <td>2355</td>\n",
              "      <td>5</td>\n",
              "      <td>978824291</td>\n",
              "      <td>2001-01-06 23:38:11</td>\n",
              "    </tr>\n",
              "  </tbody>\n",
              "</table>\n",
              "</div>"
            ],
            "text/plain": [
              "   user_id  movie_id  rating  timestamp                  dt\n",
              "0        1      1193       5  978300760 2000-12-31 22:12:40\n",
              "1        1       661       3  978302109 2000-12-31 22:35:09\n",
              "2        1       914       3  978301968 2000-12-31 22:32:48\n",
              "3        1      3408       4  978300275 2000-12-31 22:04:35\n",
              "4        1      2355       5  978824291 2001-01-06 23:38:11"
            ]
          },
          "metadata": {
            "tags": []
          },
          "execution_count": 28
        }
      ]
    },
    {
      "cell_type": "code",
      "metadata": {
        "colab": {
          "base_uri": "https://localhost:8080/",
          "height": 214
        },
        "id": "Cws8P2ust-Sw",
        "outputId": "c9f5371f-db02-4fc6-dc4e-e5869caf7b07"
      },
      "source": [
        "ratings.tail()"
      ],
      "execution_count": 29,
      "outputs": [
        {
          "output_type": "execute_result",
          "data": {
            "text/html": [
              "<div>\n",
              "<style scoped>\n",
              "    .dataframe tbody tr th:only-of-type {\n",
              "        vertical-align: middle;\n",
              "    }\n",
              "\n",
              "    .dataframe tbody tr th {\n",
              "        vertical-align: top;\n",
              "    }\n",
              "\n",
              "    .dataframe thead th {\n",
              "        text-align: right;\n",
              "    }\n",
              "</style>\n",
              "<table border=\"1\" class=\"dataframe\">\n",
              "  <thead>\n",
              "    <tr style=\"text-align: right;\">\n",
              "      <th></th>\n",
              "      <th>user_id</th>\n",
              "      <th>movie_id</th>\n",
              "      <th>rating</th>\n",
              "      <th>timestamp</th>\n",
              "      <th>dt</th>\n",
              "    </tr>\n",
              "  </thead>\n",
              "  <tbody>\n",
              "    <tr>\n",
              "      <th>1000204</th>\n",
              "      <td>6040</td>\n",
              "      <td>1091</td>\n",
              "      <td>1</td>\n",
              "      <td>956716541</td>\n",
              "      <td>2000-04-26 02:35:41</td>\n",
              "    </tr>\n",
              "    <tr>\n",
              "      <th>1000205</th>\n",
              "      <td>6040</td>\n",
              "      <td>1094</td>\n",
              "      <td>5</td>\n",
              "      <td>956704887</td>\n",
              "      <td>2000-04-25 23:21:27</td>\n",
              "    </tr>\n",
              "    <tr>\n",
              "      <th>1000206</th>\n",
              "      <td>6040</td>\n",
              "      <td>562</td>\n",
              "      <td>5</td>\n",
              "      <td>956704746</td>\n",
              "      <td>2000-04-25 23:19:06</td>\n",
              "    </tr>\n",
              "    <tr>\n",
              "      <th>1000207</th>\n",
              "      <td>6040</td>\n",
              "      <td>1096</td>\n",
              "      <td>4</td>\n",
              "      <td>956715648</td>\n",
              "      <td>2000-04-26 02:20:48</td>\n",
              "    </tr>\n",
              "    <tr>\n",
              "      <th>1000208</th>\n",
              "      <td>6040</td>\n",
              "      <td>1097</td>\n",
              "      <td>4</td>\n",
              "      <td>956715569</td>\n",
              "      <td>2000-04-26 02:19:29</td>\n",
              "    </tr>\n",
              "  </tbody>\n",
              "</table>\n",
              "</div>"
            ],
            "text/plain": [
              "         user_id  movie_id  rating  timestamp                  dt\n",
              "1000204     6040      1091       1  956716541 2000-04-26 02:35:41\n",
              "1000205     6040      1094       5  956704887 2000-04-25 23:21:27\n",
              "1000206     6040       562       5  956704746 2000-04-25 23:19:06\n",
              "1000207     6040      1096       4  956715648 2000-04-26 02:20:48\n",
              "1000208     6040      1097       4  956715569 2000-04-26 02:19:29"
            ]
          },
          "metadata": {
            "tags": []
          },
          "execution_count": 29
        }
      ]
    },
    {
      "cell_type": "code",
      "metadata": {
        "colab": {
          "base_uri": "https://localhost:8080/"
        },
        "id": "goeFSNbDuCkU",
        "outputId": "66e7cc8b-8ff4-403f-86f5-ff8fe22d3a76"
      },
      "source": [
        "ratings['dt'].describe()"
      ],
      "execution_count": 30,
      "outputs": [
        {
          "output_type": "stream",
          "text": [
            "/usr/local/lib/python3.7/dist-packages/ipykernel_launcher.py:1: FutureWarning: Treating datetime data as categorical rather than numeric in `.describe` is deprecated and will be removed in a future version of pandas. Specify `datetime_is_numeric=True` to silence this warning and adopt the future behavior now.\n",
            "  \"\"\"Entry point for launching an IPython kernel.\n"
          ],
          "name": "stderr"
        },
        {
          "output_type": "execute_result",
          "data": {
            "text/plain": [
              "count                 1000209\n",
              "unique                 458455\n",
              "top       2000-11-29 20:06:42\n",
              "freq                       30\n",
              "first     2000-04-25 23:05:32\n",
              "last      2003-02-28 17:49:50\n",
              "Name: dt, dtype: object"
            ]
          },
          "metadata": {
            "tags": []
          },
          "execution_count": 30
        }
      ]
    },
    {
      "cell_type": "code",
      "metadata": {
        "id": "5hmPl6k_ui0H"
      },
      "source": [
        "# pd.to_datetime() 함수:\r\n",
        "#   datetime.strptime() 메서드 또는 datetime.fromtimestamp() 메서드 기능을 활용해서\r\n",
        "#   datetime 객체들의 Series를 만들어주는 함수.\r\n",
        "ratings['dt2'] = pd.to_datetime(ratings['timestamp'], unit='s')"
      ],
      "execution_count": 31,
      "outputs": []
    },
    {
      "cell_type": "code",
      "metadata": {
        "colab": {
          "base_uri": "https://localhost:8080/",
          "height": 214
        },
        "id": "YsL-mDipwMCz",
        "outputId": "c8124771-c272-4141-da88-653c96db75b4"
      },
      "source": [
        "ratings.head()"
      ],
      "execution_count": 32,
      "outputs": [
        {
          "output_type": "execute_result",
          "data": {
            "text/html": [
              "<div>\n",
              "<style scoped>\n",
              "    .dataframe tbody tr th:only-of-type {\n",
              "        vertical-align: middle;\n",
              "    }\n",
              "\n",
              "    .dataframe tbody tr th {\n",
              "        vertical-align: top;\n",
              "    }\n",
              "\n",
              "    .dataframe thead th {\n",
              "        text-align: right;\n",
              "    }\n",
              "</style>\n",
              "<table border=\"1\" class=\"dataframe\">\n",
              "  <thead>\n",
              "    <tr style=\"text-align: right;\">\n",
              "      <th></th>\n",
              "      <th>user_id</th>\n",
              "      <th>movie_id</th>\n",
              "      <th>rating</th>\n",
              "      <th>timestamp</th>\n",
              "      <th>dt</th>\n",
              "      <th>dt2</th>\n",
              "    </tr>\n",
              "  </thead>\n",
              "  <tbody>\n",
              "    <tr>\n",
              "      <th>0</th>\n",
              "      <td>1</td>\n",
              "      <td>1193</td>\n",
              "      <td>5</td>\n",
              "      <td>978300760</td>\n",
              "      <td>2000-12-31 22:12:40</td>\n",
              "      <td>2000-12-31 22:12:40</td>\n",
              "    </tr>\n",
              "    <tr>\n",
              "      <th>1</th>\n",
              "      <td>1</td>\n",
              "      <td>661</td>\n",
              "      <td>3</td>\n",
              "      <td>978302109</td>\n",
              "      <td>2000-12-31 22:35:09</td>\n",
              "      <td>2000-12-31 22:35:09</td>\n",
              "    </tr>\n",
              "    <tr>\n",
              "      <th>2</th>\n",
              "      <td>1</td>\n",
              "      <td>914</td>\n",
              "      <td>3</td>\n",
              "      <td>978301968</td>\n",
              "      <td>2000-12-31 22:32:48</td>\n",
              "      <td>2000-12-31 22:32:48</td>\n",
              "    </tr>\n",
              "    <tr>\n",
              "      <th>3</th>\n",
              "      <td>1</td>\n",
              "      <td>3408</td>\n",
              "      <td>4</td>\n",
              "      <td>978300275</td>\n",
              "      <td>2000-12-31 22:04:35</td>\n",
              "      <td>2000-12-31 22:04:35</td>\n",
              "    </tr>\n",
              "    <tr>\n",
              "      <th>4</th>\n",
              "      <td>1</td>\n",
              "      <td>2355</td>\n",
              "      <td>5</td>\n",
              "      <td>978824291</td>\n",
              "      <td>2001-01-06 23:38:11</td>\n",
              "      <td>2001-01-06 23:38:11</td>\n",
              "    </tr>\n",
              "  </tbody>\n",
              "</table>\n",
              "</div>"
            ],
            "text/plain": [
              "   user_id  movie_id  rating  timestamp                  dt                 dt2\n",
              "0        1      1193       5  978300760 2000-12-31 22:12:40 2000-12-31 22:12:40\n",
              "1        1       661       3  978302109 2000-12-31 22:35:09 2000-12-31 22:35:09\n",
              "2        1       914       3  978301968 2000-12-31 22:32:48 2000-12-31 22:32:48\n",
              "3        1      3408       4  978300275 2000-12-31 22:04:35 2000-12-31 22:04:35\n",
              "4        1      2355       5  978824291 2001-01-06 23:38:11 2001-01-06 23:38:11"
            ]
          },
          "metadata": {
            "tags": []
          },
          "execution_count": 32
        }
      ]
    },
    {
      "cell_type": "code",
      "metadata": {
        "colab": {
          "base_uri": "https://localhost:8080/"
        },
        "id": "UFP-wBS9wepf",
        "outputId": "9a3b43cd-81ac-43c9-cafc-d78f24b5faf4"
      },
      "source": [
        "ratings.info()"
      ],
      "execution_count": 33,
      "outputs": [
        {
          "output_type": "stream",
          "text": [
            "<class 'pandas.core.frame.DataFrame'>\n",
            "RangeIndex: 1000209 entries, 0 to 1000208\n",
            "Data columns (total 6 columns):\n",
            " #   Column     Non-Null Count    Dtype         \n",
            "---  ------     --------------    -----         \n",
            " 0   user_id    1000209 non-null  int64         \n",
            " 1   movie_id   1000209 non-null  int64         \n",
            " 2   rating     1000209 non-null  int64         \n",
            " 3   timestamp  1000209 non-null  int64         \n",
            " 4   dt         1000209 non-null  datetime64[ns]\n",
            " 5   dt2        1000209 non-null  datetime64[ns]\n",
            "dtypes: datetime64[ns](2), int64(4)\n",
            "memory usage: 45.8 MB\n"
          ],
          "name": "stdout"
        }
      ]
    },
    {
      "cell_type": "code",
      "metadata": {
        "id": "EgyYNusOwt8T"
      },
      "source": [
        "# timestamp(정수) 타입을 datetime 타입으로 변환하는 목적은 년/월/일 등의 정보를 쉽게 추출하기 위해서\r\n",
        "ratings['year'] = ratings['dt'].dt.year\r\n",
        "ratings['month'] = ratings['dt'].dt.month\r\n",
        "ratings['quarter'] = ratings['dt'].dt.quarter"
      ],
      "execution_count": 34,
      "outputs": []
    },
    {
      "cell_type": "code",
      "metadata": {
        "colab": {
          "base_uri": "https://localhost:8080/",
          "height": 377
        },
        "id": "GKPBzQMHxL3l",
        "outputId": "18da7529-576a-4f31-d045-5edea99ac057"
      },
      "source": [
        "ratings.head(10)"
      ],
      "execution_count": 35,
      "outputs": [
        {
          "output_type": "execute_result",
          "data": {
            "text/html": [
              "<div>\n",
              "<style scoped>\n",
              "    .dataframe tbody tr th:only-of-type {\n",
              "        vertical-align: middle;\n",
              "    }\n",
              "\n",
              "    .dataframe tbody tr th {\n",
              "        vertical-align: top;\n",
              "    }\n",
              "\n",
              "    .dataframe thead th {\n",
              "        text-align: right;\n",
              "    }\n",
              "</style>\n",
              "<table border=\"1\" class=\"dataframe\">\n",
              "  <thead>\n",
              "    <tr style=\"text-align: right;\">\n",
              "      <th></th>\n",
              "      <th>user_id</th>\n",
              "      <th>movie_id</th>\n",
              "      <th>rating</th>\n",
              "      <th>timestamp</th>\n",
              "      <th>dt</th>\n",
              "      <th>dt2</th>\n",
              "      <th>year</th>\n",
              "      <th>month</th>\n",
              "      <th>quarter</th>\n",
              "    </tr>\n",
              "  </thead>\n",
              "  <tbody>\n",
              "    <tr>\n",
              "      <th>0</th>\n",
              "      <td>1</td>\n",
              "      <td>1193</td>\n",
              "      <td>5</td>\n",
              "      <td>978300760</td>\n",
              "      <td>2000-12-31 22:12:40</td>\n",
              "      <td>2000-12-31 22:12:40</td>\n",
              "      <td>2000</td>\n",
              "      <td>12</td>\n",
              "      <td>4</td>\n",
              "    </tr>\n",
              "    <tr>\n",
              "      <th>1</th>\n",
              "      <td>1</td>\n",
              "      <td>661</td>\n",
              "      <td>3</td>\n",
              "      <td>978302109</td>\n",
              "      <td>2000-12-31 22:35:09</td>\n",
              "      <td>2000-12-31 22:35:09</td>\n",
              "      <td>2000</td>\n",
              "      <td>12</td>\n",
              "      <td>4</td>\n",
              "    </tr>\n",
              "    <tr>\n",
              "      <th>2</th>\n",
              "      <td>1</td>\n",
              "      <td>914</td>\n",
              "      <td>3</td>\n",
              "      <td>978301968</td>\n",
              "      <td>2000-12-31 22:32:48</td>\n",
              "      <td>2000-12-31 22:32:48</td>\n",
              "      <td>2000</td>\n",
              "      <td>12</td>\n",
              "      <td>4</td>\n",
              "    </tr>\n",
              "    <tr>\n",
              "      <th>3</th>\n",
              "      <td>1</td>\n",
              "      <td>3408</td>\n",
              "      <td>4</td>\n",
              "      <td>978300275</td>\n",
              "      <td>2000-12-31 22:04:35</td>\n",
              "      <td>2000-12-31 22:04:35</td>\n",
              "      <td>2000</td>\n",
              "      <td>12</td>\n",
              "      <td>4</td>\n",
              "    </tr>\n",
              "    <tr>\n",
              "      <th>4</th>\n",
              "      <td>1</td>\n",
              "      <td>2355</td>\n",
              "      <td>5</td>\n",
              "      <td>978824291</td>\n",
              "      <td>2001-01-06 23:38:11</td>\n",
              "      <td>2001-01-06 23:38:11</td>\n",
              "      <td>2001</td>\n",
              "      <td>1</td>\n",
              "      <td>1</td>\n",
              "    </tr>\n",
              "    <tr>\n",
              "      <th>5</th>\n",
              "      <td>1</td>\n",
              "      <td>1197</td>\n",
              "      <td>3</td>\n",
              "      <td>978302268</td>\n",
              "      <td>2000-12-31 22:37:48</td>\n",
              "      <td>2000-12-31 22:37:48</td>\n",
              "      <td>2000</td>\n",
              "      <td>12</td>\n",
              "      <td>4</td>\n",
              "    </tr>\n",
              "    <tr>\n",
              "      <th>6</th>\n",
              "      <td>1</td>\n",
              "      <td>1287</td>\n",
              "      <td>5</td>\n",
              "      <td>978302039</td>\n",
              "      <td>2000-12-31 22:33:59</td>\n",
              "      <td>2000-12-31 22:33:59</td>\n",
              "      <td>2000</td>\n",
              "      <td>12</td>\n",
              "      <td>4</td>\n",
              "    </tr>\n",
              "    <tr>\n",
              "      <th>7</th>\n",
              "      <td>1</td>\n",
              "      <td>2804</td>\n",
              "      <td>5</td>\n",
              "      <td>978300719</td>\n",
              "      <td>2000-12-31 22:11:59</td>\n",
              "      <td>2000-12-31 22:11:59</td>\n",
              "      <td>2000</td>\n",
              "      <td>12</td>\n",
              "      <td>4</td>\n",
              "    </tr>\n",
              "    <tr>\n",
              "      <th>8</th>\n",
              "      <td>1</td>\n",
              "      <td>594</td>\n",
              "      <td>4</td>\n",
              "      <td>978302268</td>\n",
              "      <td>2000-12-31 22:37:48</td>\n",
              "      <td>2000-12-31 22:37:48</td>\n",
              "      <td>2000</td>\n",
              "      <td>12</td>\n",
              "      <td>4</td>\n",
              "    </tr>\n",
              "    <tr>\n",
              "      <th>9</th>\n",
              "      <td>1</td>\n",
              "      <td>919</td>\n",
              "      <td>4</td>\n",
              "      <td>978301368</td>\n",
              "      <td>2000-12-31 22:22:48</td>\n",
              "      <td>2000-12-31 22:22:48</td>\n",
              "      <td>2000</td>\n",
              "      <td>12</td>\n",
              "      <td>4</td>\n",
              "    </tr>\n",
              "  </tbody>\n",
              "</table>\n",
              "</div>"
            ],
            "text/plain": [
              "   user_id  movie_id  rating  ...  year month quarter\n",
              "0        1      1193       5  ...  2000    12       4\n",
              "1        1       661       3  ...  2000    12       4\n",
              "2        1       914       3  ...  2000    12       4\n",
              "3        1      3408       4  ...  2000    12       4\n",
              "4        1      2355       5  ...  2001     1       1\n",
              "5        1      1197       3  ...  2000    12       4\n",
              "6        1      1287       5  ...  2000    12       4\n",
              "7        1      2804       5  ...  2000    12       4\n",
              "8        1       594       4  ...  2000    12       4\n",
              "9        1       919       4  ...  2000    12       4\n",
              "\n",
              "[10 rows x 9 columns]"
            ]
          },
          "metadata": {
            "tags": []
          },
          "execution_count": 35
        }
      ]
    },
    {
      "cell_type": "code",
      "metadata": {
        "colab": {
          "base_uri": "https://localhost:8080/",
          "height": 441
        },
        "id": "kfwkMf2WyJ1n",
        "outputId": "ccc2e971-9177-4572-f36b-087559279b90"
      },
      "source": [
        "# ratings 데이터 프레임에서 2003년도 1사분기 데이터만 추출\r\n",
        "ratings[(ratings['year'] == 2003) & (ratings['quarter'] == 1)]"
      ],
      "execution_count": 36,
      "outputs": [
        {
          "output_type": "execute_result",
          "data": {
            "text/html": [
              "<div>\n",
              "<style scoped>\n",
              "    .dataframe tbody tr th:only-of-type {\n",
              "        vertical-align: middle;\n",
              "    }\n",
              "\n",
              "    .dataframe tbody tr th {\n",
              "        vertical-align: top;\n",
              "    }\n",
              "\n",
              "    .dataframe thead th {\n",
              "        text-align: right;\n",
              "    }\n",
              "</style>\n",
              "<table border=\"1\" class=\"dataframe\">\n",
              "  <thead>\n",
              "    <tr style=\"text-align: right;\">\n",
              "      <th></th>\n",
              "      <th>user_id</th>\n",
              "      <th>movie_id</th>\n",
              "      <th>rating</th>\n",
              "      <th>timestamp</th>\n",
              "      <th>dt</th>\n",
              "      <th>dt2</th>\n",
              "      <th>year</th>\n",
              "      <th>month</th>\n",
              "      <th>quarter</th>\n",
              "    </tr>\n",
              "  </thead>\n",
              "  <tbody>\n",
              "    <tr>\n",
              "      <th>8696</th>\n",
              "      <td>59</td>\n",
              "      <td>1175</td>\n",
              "      <td>4</td>\n",
              "      <td>1041967123</td>\n",
              "      <td>2003-01-07 19:18:43</td>\n",
              "      <td>2003-01-07 19:18:43</td>\n",
              "      <td>2003</td>\n",
              "      <td>1</td>\n",
              "      <td>1</td>\n",
              "    </tr>\n",
              "    <tr>\n",
              "      <th>8700</th>\n",
              "      <td>59</td>\n",
              "      <td>1252</td>\n",
              "      <td>4</td>\n",
              "      <td>1041967475</td>\n",
              "      <td>2003-01-07 19:24:35</td>\n",
              "      <td>2003-01-07 19:24:35</td>\n",
              "      <td>2003</td>\n",
              "      <td>1</td>\n",
              "      <td>1</td>\n",
              "    </tr>\n",
              "    <tr>\n",
              "      <th>8702</th>\n",
              "      <td>59</td>\n",
              "      <td>1183</td>\n",
              "      <td>4</td>\n",
              "      <td>1041963129</td>\n",
              "      <td>2003-01-07 18:12:09</td>\n",
              "      <td>2003-01-07 18:12:09</td>\n",
              "      <td>2003</td>\n",
              "      <td>1</td>\n",
              "      <td>1</td>\n",
              "    </tr>\n",
              "    <tr>\n",
              "      <th>8704</th>\n",
              "      <td>59</td>\n",
              "      <td>2997</td>\n",
              "      <td>4</td>\n",
              "      <td>1041962568</td>\n",
              "      <td>2003-01-07 18:02:48</td>\n",
              "      <td>2003-01-07 18:02:48</td>\n",
              "      <td>2003</td>\n",
              "      <td>1</td>\n",
              "      <td>1</td>\n",
              "    </tr>\n",
              "    <tr>\n",
              "      <th>8706</th>\n",
              "      <td>59</td>\n",
              "      <td>3871</td>\n",
              "      <td>4</td>\n",
              "      <td>1041968282</td>\n",
              "      <td>2003-01-07 19:38:02</td>\n",
              "      <td>2003-01-07 19:38:02</td>\n",
              "      <td>2003</td>\n",
              "      <td>1</td>\n",
              "      <td>1</td>\n",
              "    </tr>\n",
              "    <tr>\n",
              "      <th>...</th>\n",
              "      <td>...</td>\n",
              "      <td>...</td>\n",
              "      <td>...</td>\n",
              "      <td>...</td>\n",
              "      <td>...</td>\n",
              "      <td>...</td>\n",
              "      <td>...</td>\n",
              "      <td>...</td>\n",
              "      <td>...</td>\n",
              "    </tr>\n",
              "    <tr>\n",
              "      <th>984842</th>\n",
              "      <td>5950</td>\n",
              "      <td>3317</td>\n",
              "      <td>3</td>\n",
              "      <td>1046369439</td>\n",
              "      <td>2003-02-27 18:10:39</td>\n",
              "      <td>2003-02-27 18:10:39</td>\n",
              "      <td>2003</td>\n",
              "      <td>2</td>\n",
              "      <td>1</td>\n",
              "    </tr>\n",
              "    <tr>\n",
              "      <th>984847</th>\n",
              "      <td>5950</td>\n",
              "      <td>3328</td>\n",
              "      <td>3</td>\n",
              "      <td>1046369090</td>\n",
              "      <td>2003-02-27 18:04:50</td>\n",
              "      <td>2003-02-27 18:04:50</td>\n",
              "      <td>2003</td>\n",
              "      <td>2</td>\n",
              "      <td>1</td>\n",
              "    </tr>\n",
              "    <tr>\n",
              "      <th>984849</th>\n",
              "      <td>5950</td>\n",
              "      <td>111</td>\n",
              "      <td>5</td>\n",
              "      <td>1046368241</td>\n",
              "      <td>2003-02-27 17:50:41</td>\n",
              "      <td>2003-02-27 17:50:41</td>\n",
              "      <td>2003</td>\n",
              "      <td>2</td>\n",
              "      <td>1</td>\n",
              "    </tr>\n",
              "    <tr>\n",
              "      <th>984861</th>\n",
              "      <td>5950</td>\n",
              "      <td>3363</td>\n",
              "      <td>5</td>\n",
              "      <td>1046367948</td>\n",
              "      <td>2003-02-27 17:45:48</td>\n",
              "      <td>2003-02-27 17:45:48</td>\n",
              "      <td>2003</td>\n",
              "      <td>2</td>\n",
              "      <td>1</td>\n",
              "    </tr>\n",
              "    <tr>\n",
              "      <th>984905</th>\n",
              "      <td>5950</td>\n",
              "      <td>1089</td>\n",
              "      <td>3</td>\n",
              "      <td>1046368552</td>\n",
              "      <td>2003-02-27 17:55:52</td>\n",
              "      <td>2003-02-27 17:55:52</td>\n",
              "      <td>2003</td>\n",
              "      <td>2</td>\n",
              "      <td>1</td>\n",
              "    </tr>\n",
              "  </tbody>\n",
              "</table>\n",
              "<p>3348 rows × 9 columns</p>\n",
              "</div>"
            ],
            "text/plain": [
              "        user_id  movie_id  rating  ...  year month quarter\n",
              "8696         59      1175       4  ...  2003     1       1\n",
              "8700         59      1252       4  ...  2003     1       1\n",
              "8702         59      1183       4  ...  2003     1       1\n",
              "8704         59      2997       4  ...  2003     1       1\n",
              "8706         59      3871       4  ...  2003     1       1\n",
              "...         ...       ...     ...  ...   ...   ...     ...\n",
              "984842     5950      3317       3  ...  2003     2       1\n",
              "984847     5950      3328       3  ...  2003     2       1\n",
              "984849     5950       111       5  ...  2003     2       1\n",
              "984861     5950      3363       5  ...  2003     2       1\n",
              "984905     5950      1089       3  ...  2003     2       1\n",
              "\n",
              "[3348 rows x 9 columns]"
            ]
          },
          "metadata": {
            "tags": []
          },
          "execution_count": 36
        }
      ]
    },
    {
      "cell_type": "code",
      "metadata": {
        "colab": {
          "base_uri": "https://localhost:8080/",
          "height": 441
        },
        "id": "rpTAGK23zEcX",
        "outputId": "4d331137-2567-4df5-8abb-9cf0745e28fe"
      },
      "source": [
        "ratings[(ratings['dt'].dt.year == 2003) & \r\n",
        "        (ratings['dt'].dt.quarter == 1)]"
      ],
      "execution_count": 37,
      "outputs": [
        {
          "output_type": "execute_result",
          "data": {
            "text/html": [
              "<div>\n",
              "<style scoped>\n",
              "    .dataframe tbody tr th:only-of-type {\n",
              "        vertical-align: middle;\n",
              "    }\n",
              "\n",
              "    .dataframe tbody tr th {\n",
              "        vertical-align: top;\n",
              "    }\n",
              "\n",
              "    .dataframe thead th {\n",
              "        text-align: right;\n",
              "    }\n",
              "</style>\n",
              "<table border=\"1\" class=\"dataframe\">\n",
              "  <thead>\n",
              "    <tr style=\"text-align: right;\">\n",
              "      <th></th>\n",
              "      <th>user_id</th>\n",
              "      <th>movie_id</th>\n",
              "      <th>rating</th>\n",
              "      <th>timestamp</th>\n",
              "      <th>dt</th>\n",
              "      <th>dt2</th>\n",
              "      <th>year</th>\n",
              "      <th>month</th>\n",
              "      <th>quarter</th>\n",
              "    </tr>\n",
              "  </thead>\n",
              "  <tbody>\n",
              "    <tr>\n",
              "      <th>8696</th>\n",
              "      <td>59</td>\n",
              "      <td>1175</td>\n",
              "      <td>4</td>\n",
              "      <td>1041967123</td>\n",
              "      <td>2003-01-07 19:18:43</td>\n",
              "      <td>2003-01-07 19:18:43</td>\n",
              "      <td>2003</td>\n",
              "      <td>1</td>\n",
              "      <td>1</td>\n",
              "    </tr>\n",
              "    <tr>\n",
              "      <th>8700</th>\n",
              "      <td>59</td>\n",
              "      <td>1252</td>\n",
              "      <td>4</td>\n",
              "      <td>1041967475</td>\n",
              "      <td>2003-01-07 19:24:35</td>\n",
              "      <td>2003-01-07 19:24:35</td>\n",
              "      <td>2003</td>\n",
              "      <td>1</td>\n",
              "      <td>1</td>\n",
              "    </tr>\n",
              "    <tr>\n",
              "      <th>8702</th>\n",
              "      <td>59</td>\n",
              "      <td>1183</td>\n",
              "      <td>4</td>\n",
              "      <td>1041963129</td>\n",
              "      <td>2003-01-07 18:12:09</td>\n",
              "      <td>2003-01-07 18:12:09</td>\n",
              "      <td>2003</td>\n",
              "      <td>1</td>\n",
              "      <td>1</td>\n",
              "    </tr>\n",
              "    <tr>\n",
              "      <th>8704</th>\n",
              "      <td>59</td>\n",
              "      <td>2997</td>\n",
              "      <td>4</td>\n",
              "      <td>1041962568</td>\n",
              "      <td>2003-01-07 18:02:48</td>\n",
              "      <td>2003-01-07 18:02:48</td>\n",
              "      <td>2003</td>\n",
              "      <td>1</td>\n",
              "      <td>1</td>\n",
              "    </tr>\n",
              "    <tr>\n",
              "      <th>8706</th>\n",
              "      <td>59</td>\n",
              "      <td>3871</td>\n",
              "      <td>4</td>\n",
              "      <td>1041968282</td>\n",
              "      <td>2003-01-07 19:38:02</td>\n",
              "      <td>2003-01-07 19:38:02</td>\n",
              "      <td>2003</td>\n",
              "      <td>1</td>\n",
              "      <td>1</td>\n",
              "    </tr>\n",
              "    <tr>\n",
              "      <th>...</th>\n",
              "      <td>...</td>\n",
              "      <td>...</td>\n",
              "      <td>...</td>\n",
              "      <td>...</td>\n",
              "      <td>...</td>\n",
              "      <td>...</td>\n",
              "      <td>...</td>\n",
              "      <td>...</td>\n",
              "      <td>...</td>\n",
              "    </tr>\n",
              "    <tr>\n",
              "      <th>984842</th>\n",
              "      <td>5950</td>\n",
              "      <td>3317</td>\n",
              "      <td>3</td>\n",
              "      <td>1046369439</td>\n",
              "      <td>2003-02-27 18:10:39</td>\n",
              "      <td>2003-02-27 18:10:39</td>\n",
              "      <td>2003</td>\n",
              "      <td>2</td>\n",
              "      <td>1</td>\n",
              "    </tr>\n",
              "    <tr>\n",
              "      <th>984847</th>\n",
              "      <td>5950</td>\n",
              "      <td>3328</td>\n",
              "      <td>3</td>\n",
              "      <td>1046369090</td>\n",
              "      <td>2003-02-27 18:04:50</td>\n",
              "      <td>2003-02-27 18:04:50</td>\n",
              "      <td>2003</td>\n",
              "      <td>2</td>\n",
              "      <td>1</td>\n",
              "    </tr>\n",
              "    <tr>\n",
              "      <th>984849</th>\n",
              "      <td>5950</td>\n",
              "      <td>111</td>\n",
              "      <td>5</td>\n",
              "      <td>1046368241</td>\n",
              "      <td>2003-02-27 17:50:41</td>\n",
              "      <td>2003-02-27 17:50:41</td>\n",
              "      <td>2003</td>\n",
              "      <td>2</td>\n",
              "      <td>1</td>\n",
              "    </tr>\n",
              "    <tr>\n",
              "      <th>984861</th>\n",
              "      <td>5950</td>\n",
              "      <td>3363</td>\n",
              "      <td>5</td>\n",
              "      <td>1046367948</td>\n",
              "      <td>2003-02-27 17:45:48</td>\n",
              "      <td>2003-02-27 17:45:48</td>\n",
              "      <td>2003</td>\n",
              "      <td>2</td>\n",
              "      <td>1</td>\n",
              "    </tr>\n",
              "    <tr>\n",
              "      <th>984905</th>\n",
              "      <td>5950</td>\n",
              "      <td>1089</td>\n",
              "      <td>3</td>\n",
              "      <td>1046368552</td>\n",
              "      <td>2003-02-27 17:55:52</td>\n",
              "      <td>2003-02-27 17:55:52</td>\n",
              "      <td>2003</td>\n",
              "      <td>2</td>\n",
              "      <td>1</td>\n",
              "    </tr>\n",
              "  </tbody>\n",
              "</table>\n",
              "<p>3348 rows × 9 columns</p>\n",
              "</div>"
            ],
            "text/plain": [
              "        user_id  movie_id  rating  ...  year month quarter\n",
              "8696         59      1175       4  ...  2003     1       1\n",
              "8700         59      1252       4  ...  2003     1       1\n",
              "8702         59      1183       4  ...  2003     1       1\n",
              "8704         59      2997       4  ...  2003     1       1\n",
              "8706         59      3871       4  ...  2003     1       1\n",
              "...         ...       ...     ...  ...   ...   ...     ...\n",
              "984842     5950      3317       3  ...  2003     2       1\n",
              "984847     5950      3328       3  ...  2003     2       1\n",
              "984849     5950       111       5  ...  2003     2       1\n",
              "984861     5950      3363       5  ...  2003     2       1\n",
              "984905     5950      1089       3  ...  2003     2       1\n",
              "\n",
              "[3348 rows x 9 columns]"
            ]
          },
          "metadata": {
            "tags": []
          },
          "execution_count": 37
        }
      ]
    },
    {
      "cell_type": "code",
      "metadata": {
        "id": "kz422CRH4Lhz"
      },
      "source": [
        "file_path = 'https://github.com/wesm/pydata-book/raw/2nd-edition/examples/spx.csv'\r\n",
        "spx = pd.read_csv(file_path, header=0, names=['Date', 'SPX'])\r\n",
        "# hedaer=0: csv 파일의 첫번째 라인은 문서의 헤더(컬럼 이름 정보 등)\r\n",
        "# names=[...]: 데이터 프레임의 컬럼 이름 설정"
      ],
      "execution_count": 38,
      "outputs": []
    },
    {
      "cell_type": "code",
      "metadata": {
        "colab": {
          "base_uri": "https://localhost:8080/",
          "height": 214
        },
        "id": "5xOysrQ54X7_",
        "outputId": "35d0d382-5152-42f9-ea67-5c524c5cfef1"
      },
      "source": [
        "spx.head()"
      ],
      "execution_count": 39,
      "outputs": [
        {
          "output_type": "execute_result",
          "data": {
            "text/html": [
              "<div>\n",
              "<style scoped>\n",
              "    .dataframe tbody tr th:only-of-type {\n",
              "        vertical-align: middle;\n",
              "    }\n",
              "\n",
              "    .dataframe tbody tr th {\n",
              "        vertical-align: top;\n",
              "    }\n",
              "\n",
              "    .dataframe thead th {\n",
              "        text-align: right;\n",
              "    }\n",
              "</style>\n",
              "<table border=\"1\" class=\"dataframe\">\n",
              "  <thead>\n",
              "    <tr style=\"text-align: right;\">\n",
              "      <th></th>\n",
              "      <th>Date</th>\n",
              "      <th>SPX</th>\n",
              "    </tr>\n",
              "  </thead>\n",
              "  <tbody>\n",
              "    <tr>\n",
              "      <th>0</th>\n",
              "      <td>1990-02-01 00:00:00</td>\n",
              "      <td>328.79</td>\n",
              "    </tr>\n",
              "    <tr>\n",
              "      <th>1</th>\n",
              "      <td>1990-02-02 00:00:00</td>\n",
              "      <td>330.92</td>\n",
              "    </tr>\n",
              "    <tr>\n",
              "      <th>2</th>\n",
              "      <td>1990-02-05 00:00:00</td>\n",
              "      <td>331.85</td>\n",
              "    </tr>\n",
              "    <tr>\n",
              "      <th>3</th>\n",
              "      <td>1990-02-06 00:00:00</td>\n",
              "      <td>329.66</td>\n",
              "    </tr>\n",
              "    <tr>\n",
              "      <th>4</th>\n",
              "      <td>1990-02-07 00:00:00</td>\n",
              "      <td>333.75</td>\n",
              "    </tr>\n",
              "  </tbody>\n",
              "</table>\n",
              "</div>"
            ],
            "text/plain": [
              "                  Date     SPX\n",
              "0  1990-02-01 00:00:00  328.79\n",
              "1  1990-02-02 00:00:00  330.92\n",
              "2  1990-02-05 00:00:00  331.85\n",
              "3  1990-02-06 00:00:00  329.66\n",
              "4  1990-02-07 00:00:00  333.75"
            ]
          },
          "metadata": {
            "tags": []
          },
          "execution_count": 39
        }
      ]
    },
    {
      "cell_type": "code",
      "metadata": {
        "colab": {
          "base_uri": "https://localhost:8080/"
        },
        "id": "A0n7Zt5T45qB",
        "outputId": "12828748-235b-4948-8db1-45ed47c4ef43"
      },
      "source": [
        "spx.info()\r\n",
        "#> spx['Date']: 문자열이 저장된 컬럼"
      ],
      "execution_count": 40,
      "outputs": [
        {
          "output_type": "stream",
          "text": [
            "<class 'pandas.core.frame.DataFrame'>\n",
            "RangeIndex: 5472 entries, 0 to 5471\n",
            "Data columns (total 2 columns):\n",
            " #   Column  Non-Null Count  Dtype  \n",
            "---  ------  --------------  -----  \n",
            " 0   Date    5472 non-null   object \n",
            " 1   SPX     5472 non-null   float64\n",
            "dtypes: float64(1), object(1)\n",
            "memory usage: 85.6+ KB\n"
          ],
          "name": "stdout"
        }
      ]
    },
    {
      "cell_type": "code",
      "metadata": {
        "id": "Kk1Lk84y6kn_"
      },
      "source": [
        "# spx['Date'] 컬럼을 datetime 타입으로 변환\r\n",
        "# spx['Date'] = pd.to_datetime(spx['Date'], format='%Y-%m-%d %H:%M:%S')\r\n",
        "spx['Date'] = pd.to_datetime(spx['Date'])"
      ],
      "execution_count": 51,
      "outputs": []
    },
    {
      "cell_type": "code",
      "metadata": {
        "colab": {
          "base_uri": "https://localhost:8080/"
        },
        "id": "si-jJnRS7KX-",
        "outputId": "90fb7a72-0672-4d90-9bc2-b9c9670bd3a3"
      },
      "source": [
        "spx.info()"
      ],
      "execution_count": 52,
      "outputs": [
        {
          "output_type": "stream",
          "text": [
            "<class 'pandas.core.frame.DataFrame'>\n",
            "RangeIndex: 5472 entries, 0 to 5471\n",
            "Data columns (total 2 columns):\n",
            " #   Column  Non-Null Count  Dtype         \n",
            "---  ------  --------------  -----         \n",
            " 0   Date    5472 non-null   datetime64[ns]\n",
            " 1   SPX     5472 non-null   float64       \n",
            "dtypes: datetime64[ns](1), float64(1)\n",
            "memory usage: 85.6 KB\n"
          ],
          "name": "stdout"
        }
      ]
    },
    {
      "cell_type": "code",
      "metadata": {
        "colab": {
          "base_uri": "https://localhost:8080/",
          "height": 214
        },
        "id": "8Kv7_2cK7QcQ",
        "outputId": "acbd8fe5-2e8b-401d-9f09-76a6a28799d2"
      },
      "source": [
        "spx.head()"
      ],
      "execution_count": 53,
      "outputs": [
        {
          "output_type": "execute_result",
          "data": {
            "text/html": [
              "<div>\n",
              "<style scoped>\n",
              "    .dataframe tbody tr th:only-of-type {\n",
              "        vertical-align: middle;\n",
              "    }\n",
              "\n",
              "    .dataframe tbody tr th {\n",
              "        vertical-align: top;\n",
              "    }\n",
              "\n",
              "    .dataframe thead th {\n",
              "        text-align: right;\n",
              "    }\n",
              "</style>\n",
              "<table border=\"1\" class=\"dataframe\">\n",
              "  <thead>\n",
              "    <tr style=\"text-align: right;\">\n",
              "      <th></th>\n",
              "      <th>Date</th>\n",
              "      <th>SPX</th>\n",
              "    </tr>\n",
              "  </thead>\n",
              "  <tbody>\n",
              "    <tr>\n",
              "      <th>0</th>\n",
              "      <td>1990-02-01</td>\n",
              "      <td>328.79</td>\n",
              "    </tr>\n",
              "    <tr>\n",
              "      <th>1</th>\n",
              "      <td>1990-02-02</td>\n",
              "      <td>330.92</td>\n",
              "    </tr>\n",
              "    <tr>\n",
              "      <th>2</th>\n",
              "      <td>1990-02-05</td>\n",
              "      <td>331.85</td>\n",
              "    </tr>\n",
              "    <tr>\n",
              "      <th>3</th>\n",
              "      <td>1990-02-06</td>\n",
              "      <td>329.66</td>\n",
              "    </tr>\n",
              "    <tr>\n",
              "      <th>4</th>\n",
              "      <td>1990-02-07</td>\n",
              "      <td>333.75</td>\n",
              "    </tr>\n",
              "  </tbody>\n",
              "</table>\n",
              "</div>"
            ],
            "text/plain": [
              "        Date     SPX\n",
              "0 1990-02-01  328.79\n",
              "1 1990-02-02  330.92\n",
              "2 1990-02-05  331.85\n",
              "3 1990-02-06  329.66\n",
              "4 1990-02-07  333.75"
            ]
          },
          "metadata": {
            "tags": []
          },
          "execution_count": 53
        }
      ]
    },
    {
      "cell_type": "code",
      "metadata": {
        "id": "E3LMj-BE7_0r"
      },
      "source": [
        "# pd.read_csv()를 할 때, datetime으로 사용할 컬럼을 지정하는 방법:\r\n",
        "spx2 = pd.read_csv(file_path, header=0, names=['date', 'spx'], \r\n",
        "                   parse_dates=['date'])\r\n",
        "# parse_dates 파라미터: datetime 타입으로 변환할 컬럼들의 리스트"
      ],
      "execution_count": 44,
      "outputs": []
    },
    {
      "cell_type": "code",
      "metadata": {
        "colab": {
          "base_uri": "https://localhost:8080/",
          "height": 214
        },
        "id": "Vhua25rC8gfP",
        "outputId": "4b187855-4a14-4988-803a-1e641f28b25e"
      },
      "source": [
        "spx2.head()"
      ],
      "execution_count": 54,
      "outputs": [
        {
          "output_type": "execute_result",
          "data": {
            "text/html": [
              "<div>\n",
              "<style scoped>\n",
              "    .dataframe tbody tr th:only-of-type {\n",
              "        vertical-align: middle;\n",
              "    }\n",
              "\n",
              "    .dataframe tbody tr th {\n",
              "        vertical-align: top;\n",
              "    }\n",
              "\n",
              "    .dataframe thead th {\n",
              "        text-align: right;\n",
              "    }\n",
              "</style>\n",
              "<table border=\"1\" class=\"dataframe\">\n",
              "  <thead>\n",
              "    <tr style=\"text-align: right;\">\n",
              "      <th></th>\n",
              "      <th>date</th>\n",
              "      <th>spx</th>\n",
              "    </tr>\n",
              "  </thead>\n",
              "  <tbody>\n",
              "    <tr>\n",
              "      <th>0</th>\n",
              "      <td>1990-02-01</td>\n",
              "      <td>328.79</td>\n",
              "    </tr>\n",
              "    <tr>\n",
              "      <th>1</th>\n",
              "      <td>1990-02-02</td>\n",
              "      <td>330.92</td>\n",
              "    </tr>\n",
              "    <tr>\n",
              "      <th>2</th>\n",
              "      <td>1990-02-05</td>\n",
              "      <td>331.85</td>\n",
              "    </tr>\n",
              "    <tr>\n",
              "      <th>3</th>\n",
              "      <td>1990-02-06</td>\n",
              "      <td>329.66</td>\n",
              "    </tr>\n",
              "    <tr>\n",
              "      <th>4</th>\n",
              "      <td>1990-02-07</td>\n",
              "      <td>333.75</td>\n",
              "    </tr>\n",
              "  </tbody>\n",
              "</table>\n",
              "</div>"
            ],
            "text/plain": [
              "        date     spx\n",
              "0 1990-02-01  328.79\n",
              "1 1990-02-02  330.92\n",
              "2 1990-02-05  331.85\n",
              "3 1990-02-06  329.66\n",
              "4 1990-02-07  333.75"
            ]
          },
          "metadata": {
            "tags": []
          },
          "execution_count": 54
        }
      ]
    },
    {
      "cell_type": "code",
      "metadata": {
        "colab": {
          "base_uri": "https://localhost:8080/"
        },
        "id": "4sXu90AI8pyH",
        "outputId": "05de10eb-f806-407b-aff1-bfe019b77c32"
      },
      "source": [
        "spx2.info()"
      ],
      "execution_count": 46,
      "outputs": [
        {
          "output_type": "stream",
          "text": [
            "<class 'pandas.core.frame.DataFrame'>\n",
            "RangeIndex: 5472 entries, 0 to 5471\n",
            "Data columns (total 2 columns):\n",
            " #   Column  Non-Null Count  Dtype         \n",
            "---  ------  --------------  -----         \n",
            " 0   date    5472 non-null   datetime64[ns]\n",
            " 1   spx     5472 non-null   float64       \n",
            "dtypes: datetime64[ns](1), float64(1)\n",
            "memory usage: 85.6 KB\n"
          ],
          "name": "stdout"
        }
      ]
    },
    {
      "cell_type": "code",
      "metadata": {
        "id": "HhEdV9d5umqs"
      },
      "source": [
        "import matplotlib.pyplot as plt"
      ],
      "execution_count": 55,
      "outputs": []
    },
    {
      "cell_type": "code",
      "metadata": {
        "colab": {
          "base_uri": "https://localhost:8080/",
          "height": 265
        },
        "id": "JjvOJNkUurUD",
        "outputId": "233904c6-accd-42b6-d0f8-8797acd18d91"
      },
      "source": [
        "plt.plot(spx2['date'], spx2['spx'])\r\n",
        "plt.show()"
      ],
      "execution_count": 57,
      "outputs": [
        {
          "output_type": "display_data",
          "data": {
            "image/png": "[encoded data removed]",
            "text/plain": [
              "<Figure size 432x288 with 1 Axes>"
            ]
          },
          "metadata": {
            "tags": [],
            "needs_background": "light"
          }
        }
      ]
    },
    {
      "cell_type": "code",
      "metadata": {
        "colab": {
          "base_uri": "https://localhost:8080/",
          "height": 214
        },
        "id": "RVQ4cM9v9Rog",
        "outputId": "2846f0cc-bbd8-493d-d5ad-91df9c68a2ef"
      },
      "source": [
        "# spx2 데이터 프레임에 year 파생변수를 추가\r\n",
        "spx2['year'] = spx2['date'].dt.year\r\n",
        "spx2.head()"
      ],
      "execution_count": 58,
      "outputs": [
        {
          "output_type": "execute_result",
          "data": {
            "text/html": [
              "<div>\n",
              "<style scoped>\n",
              "    .dataframe tbody tr th:only-of-type {\n",
              "        vertical-align: middle;\n",
              "    }\n",
              "\n",
              "    .dataframe tbody tr th {\n",
              "        vertical-align: top;\n",
              "    }\n",
              "\n",
              "    .dataframe thead th {\n",
              "        text-align: right;\n",
              "    }\n",
              "</style>\n",
              "<table border=\"1\" class=\"dataframe\">\n",
              "  <thead>\n",
              "    <tr style=\"text-align: right;\">\n",
              "      <th></th>\n",
              "      <th>date</th>\n",
              "      <th>spx</th>\n",
              "      <th>year</th>\n",
              "    </tr>\n",
              "  </thead>\n",
              "  <tbody>\n",
              "    <tr>\n",
              "      <th>0</th>\n",
              "      <td>1990-02-01</td>\n",
              "      <td>328.79</td>\n",
              "      <td>1990</td>\n",
              "    </tr>\n",
              "    <tr>\n",
              "      <th>1</th>\n",
              "      <td>1990-02-02</td>\n",
              "      <td>330.92</td>\n",
              "      <td>1990</td>\n",
              "    </tr>\n",
              "    <tr>\n",
              "      <th>2</th>\n",
              "      <td>1990-02-05</td>\n",
              "      <td>331.85</td>\n",
              "      <td>1990</td>\n",
              "    </tr>\n",
              "    <tr>\n",
              "      <th>3</th>\n",
              "      <td>1990-02-06</td>\n",
              "      <td>329.66</td>\n",
              "      <td>1990</td>\n",
              "    </tr>\n",
              "    <tr>\n",
              "      <th>4</th>\n",
              "      <td>1990-02-07</td>\n",
              "      <td>333.75</td>\n",
              "      <td>1990</td>\n",
              "    </tr>\n",
              "  </tbody>\n",
              "</table>\n",
              "</div>"
            ],
            "text/plain": [
              "        date     spx  year\n",
              "0 1990-02-01  328.79  1990\n",
              "1 1990-02-02  330.92  1990\n",
              "2 1990-02-05  331.85  1990\n",
              "3 1990-02-06  329.66  1990\n",
              "4 1990-02-07  333.75  1990"
            ]
          },
          "metadata": {
            "tags": []
          },
          "execution_count": 58
        }
      ]
    },
    {
      "cell_type": "code",
      "metadata": {
        "colab": {
          "base_uri": "https://localhost:8080/",
          "height": 214
        },
        "id": "NVbEeeRdviJS",
        "outputId": "795d46be-4283-4723-fc63-1cc2ccccea04"
      },
      "source": [
        "spx2.tail()"
      ],
      "execution_count": 59,
      "outputs": [
        {
          "output_type": "execute_result",
          "data": {
            "text/html": [
              "<div>\n",
              "<style scoped>\n",
              "    .dataframe tbody tr th:only-of-type {\n",
              "        vertical-align: middle;\n",
              "    }\n",
              "\n",
              "    .dataframe tbody tr th {\n",
              "        vertical-align: top;\n",
              "    }\n",
              "\n",
              "    .dataframe thead th {\n",
              "        text-align: right;\n",
              "    }\n",
              "</style>\n",
              "<table border=\"1\" class=\"dataframe\">\n",
              "  <thead>\n",
              "    <tr style=\"text-align: right;\">\n",
              "      <th></th>\n",
              "      <th>date</th>\n",
              "      <th>spx</th>\n",
              "      <th>year</th>\n",
              "    </tr>\n",
              "  </thead>\n",
              "  <tbody>\n",
              "    <tr>\n",
              "      <th>5467</th>\n",
              "      <td>2011-10-10</td>\n",
              "      <td>1194.89</td>\n",
              "      <td>2011</td>\n",
              "    </tr>\n",
              "    <tr>\n",
              "      <th>5468</th>\n",
              "      <td>2011-10-11</td>\n",
              "      <td>1195.54</td>\n",
              "      <td>2011</td>\n",
              "    </tr>\n",
              "    <tr>\n",
              "      <th>5469</th>\n",
              "      <td>2011-10-12</td>\n",
              "      <td>1207.25</td>\n",
              "      <td>2011</td>\n",
              "    </tr>\n",
              "    <tr>\n",
              "      <th>5470</th>\n",
              "      <td>2011-10-13</td>\n",
              "      <td>1203.66</td>\n",
              "      <td>2011</td>\n",
              "    </tr>\n",
              "    <tr>\n",
              "      <th>5471</th>\n",
              "      <td>2011-10-14</td>\n",
              "      <td>1224.58</td>\n",
              "      <td>2011</td>\n",
              "    </tr>\n",
              "  </tbody>\n",
              "</table>\n",
              "</div>"
            ],
            "text/plain": [
              "           date      spx  year\n",
              "5467 2011-10-10  1194.89  2011\n",
              "5468 2011-10-11  1195.54  2011\n",
              "5469 2011-10-12  1207.25  2011\n",
              "5470 2011-10-13  1203.66  2011\n",
              "5471 2011-10-14  1224.58  2011"
            ]
          },
          "metadata": {
            "tags": []
          },
          "execution_count": 59
        }
      ]
    },
    {
      "cell_type": "code",
      "metadata": {
        "colab": {
          "base_uri": "https://localhost:8080/"
        },
        "id": "GCyYBuhKvojb",
        "outputId": "b3980352-4b35-47f8-d56e-3004583fa3bb"
      },
      "source": [
        "# spx2 데이터 프레임에서 연도별 spx의 평균\r\n",
        "spx_by_year = spx2.groupby(by='year')['spx'].mean()\r\n",
        "spx_by_year"
      ],
      "execution_count": 62,
      "outputs": [
        {
          "output_type": "execute_result",
          "data": {
            "text/plain": [
              "year\n",
              "1990     334.123506\n",
              "1991     376.186324\n",
              "1992     415.747008\n",
              "1993     451.614822\n",
              "1994     460.416508\n",
              "1995     541.719087\n",
              "1996     670.494843\n",
              "1997     873.427787\n",
              "1998    1085.503254\n",
              "1999    1327.329563\n",
              "2000    1427.221071\n",
              "2001    1194.178992\n",
              "2002     993.934802\n",
              "2003     965.227540\n",
              "2004    1130.649444\n",
              "2005    1207.229444\n",
              "2006    1310.461633\n",
              "2007    1477.184343\n",
              "2008    1220.042055\n",
              "2009     948.046389\n",
              "2010    1139.965516\n",
              "2011    1276.093015\n",
              "Name: spx, dtype: float64"
            ]
          },
          "metadata": {
            "tags": []
          },
          "execution_count": 62
        }
      ]
    },
    {
      "cell_type": "code",
      "metadata": {
        "colab": {
          "base_uri": "https://localhost:8080/",
          "height": 265
        },
        "id": "Ajwy7QOhvqzL",
        "outputId": "d6f5289f-d342-41e4-fdf6-46fc6f0b50e6"
      },
      "source": [
        "# 연도별 spx의 평균을 시각화\r\n",
        "plt.plot(spx_by_year, 'o-')\r\n",
        "plt.show()"
      ],
      "execution_count": 64,
      "outputs": [
        {
          "output_type": "display_data",
          "data": {
            "image/png": "[encoded data removed]",
            "text/plain": [
              "<Figure size 432x288 with 1 Axes>"
            ]
          },
          "metadata": {
            "tags": [],
            "needs_background": "light"
          }
        }
      ]
    },
    {
      "cell_type": "code",
      "metadata": {
        "colab": {
          "base_uri": "https://localhost:8080/",
          "height": 265
        },
        "id": "fpdJ8EtMxdv7",
        "outputId": "9f5cfa4c-1897-46b4-a195-9a8b5914a826"
      },
      "source": [
        "# 2011년도 자료만 시각화\r\n",
        "spx2_2011 = spx2[spx2['year'] == 2011]\r\n",
        "\r\n",
        "plt.plot(spx2_2011['date'], spx2_2011['spx'])\r\n",
        "plt.show()"
      ],
      "execution_count": 68,
      "outputs": [
        {
          "output_type": "display_data",
          "data": {
            "image/png": "[encoded data removed]",
            "text/plain": [
              "<Figure size 432x288 with 1 Axes>"
            ]
          },
          "metadata": {
            "tags": [],
            "needs_background": "light"
          }
        }
      ]
    },
    {
      "cell_type": "code",
      "metadata": {
        "colab": {
          "base_uri": "https://localhost:8080/",
          "height": 410
        },
        "id": "rgQTxNvFykim",
        "outputId": "f24ac06f-dd60-4050-ec42-98ec084a8616"
      },
      "source": [
        "# 분기(quarter) 파생변수 추가\r\n",
        "spx2['quarter'] = spx2['date'].dt.quarter\r\n",
        "\r\n",
        "# 연도별, 분기별 spx의 평균 계산\r\n",
        "spx_by_quarter = spx2.groupby(by=['year', 'quarter'])['spx'].mean()\r\n",
        "print(spx_by_quarter.head())\r\n",
        "#> multi-index\r\n",
        "\r\n",
        "# 각 분기별 spx 평균 시각화\r\n",
        "year_q = [str(y) + 'Q' + str(q) for y, q in spx_by_quarter.index]\r\n",
        "plt.plot(year_q, spx_by_quarter)\r\n",
        "plt.show()"
      ],
      "execution_count": 82,
      "outputs": [
        {
          "output_type": "stream",
          "text": [
            "year  quarter\n",
            "1990  1          334.751951\n",
            "      2          349.796508\n",
            "      3          335.881746\n",
            "      4          316.562031\n",
            "1991  1          352.282951\n",
            "Name: spx, dtype: float64\n"
          ],
          "name": "stdout"
        },
        {
          "output_type": "display_data",
          "data": {
            "image/png": "[encoded data removed]",
            "text/plain": [
              "<Figure size 432x288 with 1 Axes>"
            ]
          },
          "metadata": {
            "tags": [],
            "needs_background": "light"
          }
        }
      ]
    },
    {
      "cell_type": "markdown",
      "metadata": {
        "id": "SbFDJFLN3f7k"
      },
      "source": [
        "*   datetime 타입의 컬럼을 index로 설정 ---> 편리한 샘플링(groupby와 유사)이 가능."
      ]
    },
    {
      "cell_type": "code",
      "metadata": {
        "colab": {
          "base_uri": "https://localhost:8080/",
          "height": 474
        },
        "id": "65r_8_cy3fV8",
        "outputId": "98980518-7ceb-4340-b0ee-7ed3fc9df028"
      },
      "source": [
        "spx3 = spx2.set_index(keys='date')\r\n",
        "spx3"
      ],
      "execution_count": 85,
      "outputs": [
        {
          "output_type": "execute_result",
          "data": {
            "text/html": [
              "<div>\n",
              "<style scoped>\n",
              "    .dataframe tbody tr th:only-of-type {\n",
              "        vertical-align: middle;\n",
              "    }\n",
              "\n",
              "    .dataframe tbody tr th {\n",
              "        vertical-align: top;\n",
              "    }\n",
              "\n",
              "    .dataframe thead th {\n",
              "        text-align: right;\n",
              "    }\n",
              "</style>\n",
              "<table border=\"1\" class=\"dataframe\">\n",
              "  <thead>\n",
              "    <tr style=\"text-align: right;\">\n",
              "      <th></th>\n",
              "      <th>spx</th>\n",
              "      <th>year</th>\n",
              "      <th>quarter</th>\n",
              "    </tr>\n",
              "    <tr>\n",
              "      <th>date</th>\n",
              "      <th></th>\n",
              "      <th></th>\n",
              "      <th></th>\n",
              "    </tr>\n",
              "  </thead>\n",
              "  <tbody>\n",
              "    <tr>\n",
              "      <th>1990-02-01</th>\n",
              "      <td>328.79</td>\n",
              "      <td>1990</td>\n",
              "      <td>1</td>\n",
              "    </tr>\n",
              "    <tr>\n",
              "      <th>1990-02-02</th>\n",
              "      <td>330.92</td>\n",
              "      <td>1990</td>\n",
              "      <td>1</td>\n",
              "    </tr>\n",
              "    <tr>\n",
              "      <th>1990-02-05</th>\n",
              "      <td>331.85</td>\n",
              "      <td>1990</td>\n",
              "      <td>1</td>\n",
              "    </tr>\n",
              "    <tr>\n",
              "      <th>1990-02-06</th>\n",
              "      <td>329.66</td>\n",
              "      <td>1990</td>\n",
              "      <td>1</td>\n",
              "    </tr>\n",
              "    <tr>\n",
              "      <th>1990-02-07</th>\n",
              "      <td>333.75</td>\n",
              "      <td>1990</td>\n",
              "      <td>1</td>\n",
              "    </tr>\n",
              "    <tr>\n",
              "      <th>...</th>\n",
              "      <td>...</td>\n",
              "      <td>...</td>\n",
              "      <td>...</td>\n",
              "    </tr>\n",
              "    <tr>\n",
              "      <th>2011-10-10</th>\n",
              "      <td>1194.89</td>\n",
              "      <td>2011</td>\n",
              "      <td>4</td>\n",
              "    </tr>\n",
              "    <tr>\n",
              "      <th>2011-10-11</th>\n",
              "      <td>1195.54</td>\n",
              "      <td>2011</td>\n",
              "      <td>4</td>\n",
              "    </tr>\n",
              "    <tr>\n",
              "      <th>2011-10-12</th>\n",
              "      <td>1207.25</td>\n",
              "      <td>2011</td>\n",
              "      <td>4</td>\n",
              "    </tr>\n",
              "    <tr>\n",
              "      <th>2011-10-13</th>\n",
              "      <td>1203.66</td>\n",
              "      <td>2011</td>\n",
              "      <td>4</td>\n",
              "    </tr>\n",
              "    <tr>\n",
              "      <th>2011-10-14</th>\n",
              "      <td>1224.58</td>\n",
              "      <td>2011</td>\n",
              "      <td>4</td>\n",
              "    </tr>\n",
              "  </tbody>\n",
              "</table>\n",
              "<p>5472 rows × 3 columns</p>\n",
              "</div>"
            ],
            "text/plain": [
              "                spx  year  quarter\n",
              "date                              \n",
              "1990-02-01   328.79  1990        1\n",
              "1990-02-02   330.92  1990        1\n",
              "1990-02-05   331.85  1990        1\n",
              "1990-02-06   329.66  1990        1\n",
              "1990-02-07   333.75  1990        1\n",
              "...             ...   ...      ...\n",
              "2011-10-10  1194.89  2011        4\n",
              "2011-10-11  1195.54  2011        4\n",
              "2011-10-12  1207.25  2011        4\n",
              "2011-10-13  1203.66  2011        4\n",
              "2011-10-14  1224.58  2011        4\n",
              "\n",
              "[5472 rows x 3 columns]"
            ]
          },
          "metadata": {
            "tags": []
          },
          "execution_count": 85
        }
      ]
    },
    {
      "cell_type": "code",
      "metadata": {
        "colab": {
          "base_uri": "https://localhost:8080/"
        },
        "id": "auihhwBe4Rum",
        "outputId": "0199ca68-9cf7-4efb-bbc2-30477fe94b22"
      },
      "source": [
        "spx3.info()"
      ],
      "execution_count": 86,
      "outputs": [
        {
          "output_type": "stream",
          "text": [
            "<class 'pandas.core.frame.DataFrame'>\n",
            "DatetimeIndex: 5472 entries, 1990-02-01 to 2011-10-14\n",
            "Data columns (total 3 columns):\n",
            " #   Column   Non-Null Count  Dtype  \n",
            "---  ------   --------------  -----  \n",
            " 0   spx      5472 non-null   float64\n",
            " 1   year     5472 non-null   int64  \n",
            " 2   quarter  5472 non-null   int64  \n",
            "dtypes: float64(1), int64(2)\n",
            "memory usage: 171.0 KB\n"
          ],
          "name": "stdout"
        }
      ]
    },
    {
      "cell_type": "code",
      "metadata": {
        "colab": {
          "base_uri": "https://localhost:8080/"
        },
        "id": "wwg8A7et4dxn",
        "outputId": "3da849ed-0d9e-4103-b1ba-de54b2b0e8fa"
      },
      "source": [
        "spx3.index"
      ],
      "execution_count": 87,
      "outputs": [
        {
          "output_type": "execute_result",
          "data": {
            "text/plain": [
              "DatetimeIndex(['1990-02-01', '1990-02-02', '1990-02-05', '1990-02-06',\n",
              "               '1990-02-07', '1990-02-08', '1990-02-09', '1990-02-12',\n",
              "               '1990-02-13', '1990-02-14',\n",
              "               ...\n",
              "               '2011-10-03', '2011-10-04', '2011-10-05', '2011-10-06',\n",
              "               '2011-10-07', '2011-10-10', '2011-10-11', '2011-10-12',\n",
              "               '2011-10-13', '2011-10-14'],\n",
              "              dtype='datetime64[ns]', name='date', length=5472, freq=None)"
            ]
          },
          "metadata": {
            "tags": []
          },
          "execution_count": 87
        }
      ]
    },
    {
      "cell_type": "code",
      "metadata": {
        "colab": {
          "base_uri": "https://localhost:8080/"
        },
        "id": "PQozgts24lGN",
        "outputId": "79b7734b-7bf0-4326-cf1b-c91ec3599942"
      },
      "source": [
        "# 연도별 spx의 평균\r\n",
        "spx3.resample('Y')['spx'].mean()"
      ],
      "execution_count": 89,
      "outputs": [
        {
          "output_type": "execute_result",
          "data": {
            "text/plain": [
              "date\n",
              "1990-12-31     334.123506\n",
              "1991-12-31     376.186324\n",
              "1992-12-31     415.747008\n",
              "1993-12-31     451.614822\n",
              "1994-12-31     460.416508\n",
              "1995-12-31     541.719087\n",
              "1996-12-31     670.494843\n",
              "1997-12-31     873.427787\n",
              "1998-12-31    1085.503254\n",
              "1999-12-31    1327.329563\n",
              "2000-12-31    1427.221071\n",
              "2001-12-31    1194.178992\n",
              "2002-12-31     993.934802\n",
              "2003-12-31     965.227540\n",
              "2004-12-31    1130.649444\n",
              "2005-12-31    1207.229444\n",
              "2006-12-31    1310.461633\n",
              "2007-12-31    1477.184343\n",
              "2008-12-31    1220.042055\n",
              "2009-12-31     948.046389\n",
              "2010-12-31    1139.965516\n",
              "2011-12-31    1276.093015\n",
              "Freq: A-DEC, Name: spx, dtype: float64"
            ]
          },
          "metadata": {
            "tags": []
          },
          "execution_count": 89
        }
      ]
    },
    {
      "cell_type": "code",
      "metadata": {
        "colab": {
          "base_uri": "https://localhost:8080/"
        },
        "id": "pPkcj8ms5kJd",
        "outputId": "7abd92f9-190e-426c-bc27-9e6874aebde5"
      },
      "source": [
        "# 분기별 spx의 평균\r\n",
        "s = spx3.resample('Q')['spx'].mean()\r\n",
        "s"
      ],
      "execution_count": 91,
      "outputs": [
        {
          "output_type": "execute_result",
          "data": {
            "text/plain": [
              "date\n",
              "1990-03-31     334.751951\n",
              "1990-06-30     349.796508\n",
              "1990-09-30     335.881746\n",
              "1990-12-31     316.562031\n",
              "1991-03-31     352.282951\n",
              "                 ...     \n",
              "2010-12-31    1204.585625\n",
              "2011-03-31    1302.529032\n",
              "2011-06-30    1318.332857\n",
              "2011-09-30    1225.268437\n",
              "2011-12-31    1171.356000\n",
              "Freq: Q-DEC, Name: spx, Length: 88, dtype: float64"
            ]
          },
          "metadata": {
            "tags": []
          },
          "execution_count": 91
        }
      ]
    },
    {
      "cell_type": "code",
      "metadata": {
        "colab": {
          "base_uri": "https://localhost:8080/",
          "height": 265
        },
        "id": "3rbbiJ5459Yd",
        "outputId": "5c9dda96-bcee-49af-aa31-9e7b30b3709d"
      },
      "source": [
        "plt.plot(s)\r\n",
        "plt.grid()\r\n",
        "plt.show()"
      ],
      "execution_count": 95,
      "outputs": [
        {
          "output_type": "display_data",
          "data": {
            "image/png": "[encoded data removed]",
            "text/plain": [
              "<Figure size 432x288 with 1 Axes>"
            ]
          },
          "metadata": {
            "tags": [],
            "needs_background": "light"
          }
        }
      ]
    }
  ]
}