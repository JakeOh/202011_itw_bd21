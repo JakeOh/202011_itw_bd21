{
  "nbformat": 4,
  "nbformat_minor": 0,
  "metadata": {
    "colab": {
      "name": "da19_datetime.ipynb",
      "provenance": [],
      "collapsed_sections": [],
      "authorship_tag": "ABX9TyOcll3/b7vC997kyBWSdT2q",
      "include_colab_link": true
    },
    "kernelspec": {
      "name": "python3",
      "display_name": "Python 3"
    }
  },
  "cells": [
    {
      "cell_type": "markdown",
      "metadata": {
        "id": "view-in-github",
        "colab_type": "text"
      },
      "source": [
        "<a href=\"https://colab.research.google.com/github/JakeOh/202011_itw_bd21/blob/main/lab_da/da19_datetime.ipynb\" target=\"_parent\"><img src=\"https://colab.research.google.com/assets/colab-badge.svg\" alt=\"Open In Colab\"/></a>"
      ]
    },
    {
      "cell_type": "markdown",
      "metadata": {
        "id": "kJFRT68pQIAo"
      },
      "source": [
        "*   Python의 datetime 모듈\r\n",
        "    *   datetime 클래스: 날짜(date), 시간(time)과 관련된 정보들을 저장, 표현할 수 있는 메서드를 포함.\r\n",
        "    *   https://docs.python.org/3/library/datetime.html?highlight=datetime#module-datetime 참고"
      ]
    },
    {
      "cell_type": "code",
      "metadata": {
        "id": "ug3xzt9vPyo2"
      },
      "source": [
        "import datetime  # datetime 모듈을 import"
      ],
      "execution_count": 1,
      "outputs": []
    },
    {
      "cell_type": "code",
      "metadata": {
        "colab": {
          "base_uri": "https://localhost:8080/"
        },
        "id": "CEswTTtnR9NZ",
        "outputId": "8e9214a8-bac9-4588-a272-f59f2bed72f1"
      },
      "source": [
        "datetime.datetime.now()\r\n",
        "# datetime 모듈의 datetime 클래스의 now 메서드 호출"
      ],
      "execution_count": 2,
      "outputs": [
        {
          "output_type": "execute_result",
          "data": {
            "text/plain": [
              "datetime.datetime(2021, 3, 2, 4, 53, 3, 366816)"
            ]
          },
          "metadata": {
            "tags": []
          },
          "execution_count": 2
        }
      ]
    },
    {
      "cell_type": "code",
      "metadata": {
        "id": "aIccQIWeSlpv"
      },
      "source": [
        "from datetime import datetime  # datetime 모듈에서 작성된 datetime 클래스를 import"
      ],
      "execution_count": 3,
      "outputs": []
    },
    {
      "cell_type": "code",
      "metadata": {
        "colab": {
          "base_uri": "https://localhost:8080/"
        },
        "id": "nyYdZ_onSxTg",
        "outputId": "f2991c07-4d06-4f5d-feab-02d5f9922dd7"
      },
      "source": [
        "datetime.now()  # datetime 클래스의 now 메서드 호출"
      ],
      "execution_count": 4,
      "outputs": [
        {
          "output_type": "execute_result",
          "data": {
            "text/plain": [
              "datetime.datetime(2021, 3, 2, 4, 56, 32, 307108)"
            ]
          },
          "metadata": {
            "tags": []
          },
          "execution_count": 4
        }
      ]
    },
    {
      "cell_type": "markdown",
      "metadata": {
        "id": "L-fsbGLHTc0I"
      },
      "source": [
        "*   datetime 클래스의 메서드"
      ]
    },
    {
      "cell_type": "code",
      "metadata": {
        "colab": {
          "base_uri": "https://localhost:8080/"
        },
        "id": "l0oZxoLVTiHG",
        "outputId": "89c903f4-db14-4ecf-c62f-bc3ff3d766db"
      },
      "source": [
        "# datetime.now(): OS(운영체제)의 시간대에서의 현재 시간을 리턴.\r\n",
        "now = datetime.now()  #> Google Colab 가상 머신에서 설정된 시간대(UTC)의 현재 시간\r\n",
        "print(now)"
      ],
      "execution_count": 7,
      "outputs": [
        {
          "output_type": "stream",
          "text": [
            "2021-03-02 05:01:38.132302\n"
          ],
          "name": "stdout"
        }
      ]
    },
    {
      "cell_type": "markdown",
      "metadata": {
        "id": "E0YlY6ADURbv"
      },
      "source": [
        "*   UTC(Coordinates Universal Timezone): 그리니치 천문대 시간\r\n",
        "*   KST(Korean Standard Timezone): 한국 표준시(UTC+09:00)"
      ]
    },
    {
      "cell_type": "code",
      "metadata": {
        "colab": {
          "base_uri": "https://localhost:8080/"
        },
        "id": "0cQ7VaxcU2WO",
        "outputId": "1e929be9-9f29-4679-dcd6-50cedb85d39f"
      },
      "source": [
        "type(now)  #> datetime 모듈의 datetiem 클래스 객체(object)"
      ],
      "execution_count": 8,
      "outputs": [
        {
          "output_type": "execute_result",
          "data": {
            "text/plain": [
              "datetime.datetime"
            ]
          },
          "metadata": {
            "tags": []
          },
          "execution_count": 8
        }
      ]
    },
    {
      "cell_type": "code",
      "metadata": {
        "colab": {
          "base_uri": "https://localhost:8080/"
        },
        "id": "zRkxGNQrVK-C",
        "outputId": "ae62d28e-83f3-4dec-fa5a-346c3ec5c887"
      },
      "source": [
        "# datetime.datetime 객체의 속성들(properties)\r\n",
        "print(now.year)\r\n",
        "print(now.month)\r\n",
        "print(now.day)"
      ],
      "execution_count": 9,
      "outputs": [
        {
          "output_type": "stream",
          "text": [
            "2021\n",
            "3\n",
            "2\n"
          ],
          "name": "stdout"
        }
      ]
    },
    {
      "cell_type": "code",
      "metadata": {
        "colab": {
          "base_uri": "https://localhost:8080/"
        },
        "id": "tVHygRwKVwkB",
        "outputId": "70e295c7-b0d6-4823-f417-04aa9b76428b"
      },
      "source": [
        "print(f'{now.hour}:{now.minute}:{now.second}')"
      ],
      "execution_count": 10,
      "outputs": [
        {
          "output_type": "stream",
          "text": [
            "5:1:38\n"
          ],
          "name": "stdout"
        }
      ]
    },
    {
      "cell_type": "code",
      "metadata": {
        "colab": {
          "base_uri": "https://localhost:8080/"
        },
        "id": "seh7gZT0WCvg",
        "outputId": "4e998d06-d71e-4457-aa7b-65a4ee63eeb1"
      },
      "source": [
        "# datetime 생성자 함수(constructor): 특정 날짜/시간으로 datetime 객체를 생성\r\n",
        "yesterday = datetime(2021, 3, 1)\r\n",
        "print(yesterday)"
      ],
      "execution_count": 12,
      "outputs": [
        {
          "output_type": "stream",
          "text": [
            "2021-03-01 00:00:00\n"
          ],
          "name": "stdout"
        }
      ]
    },
    {
      "cell_type": "code",
      "metadata": {
        "colab": {
          "base_uri": "https://localhost:8080/"
        },
        "id": "F6XspmE9WcJT",
        "outputId": "8efb91e6-b628-40bf-8c41-50176f2e4163"
      },
      "source": [
        "tomorrow = datetime(2021, 3, 3, 14, 13)\r\n",
        "print(tomorrow)"
      ],
      "execution_count": 13,
      "outputs": [
        {
          "output_type": "stream",
          "text": [
            "2021-03-03 14:13:00\n"
          ],
          "name": "stdout"
        }
      ]
    },
    {
      "cell_type": "code",
      "metadata": {
        "colab": {
          "base_uri": "https://localhost:8080/"
        },
        "id": "nuZR7RsWW9cg",
        "outputId": "30a5dd27-680d-4b49-c83c-162e43396318"
      },
      "source": [
        "# 두 날짜 사이의 차(difference)\r\n",
        "print(tomorrow - yesterday)"
      ],
      "execution_count": 15,
      "outputs": [
        {
          "output_type": "stream",
          "text": [
            "2 days, 14:13:00\n"
          ],
          "name": "stdout"
        }
      ]
    },
    {
      "cell_type": "code",
      "metadata": {
        "id": "7Ljfxe0jcE9h"
      },
      "source": [
        "from datetime import timedelta  # datetime 모듈의 timedelta 클래스를 import"
      ],
      "execution_count": 18,
      "outputs": []
    },
    {
      "cell_type": "code",
      "metadata": {
        "colab": {
          "base_uri": "https://localhost:8080/"
        },
        "id": "eA21OpIPcNBY",
        "outputId": "6fff24d9-34ec-43c4-a3f6-81de15e8d541"
      },
      "source": [
        "current_time = datetime.now()\r\n",
        "print(current_time)"
      ],
      "execution_count": 19,
      "outputs": [
        {
          "output_type": "stream",
          "text": [
            "2021-03-02 05:38:35.626358\n"
          ],
          "name": "stdout"
        }
      ]
    },
    {
      "cell_type": "code",
      "metadata": {
        "colab": {
          "base_uri": "https://localhost:8080/"
        },
        "id": "As9Cv7c9cg8Z",
        "outputId": "30b8e185-d97f-4da6-8584-71db11966934"
      },
      "source": [
        "one_week = timedelta(weeks=1)  # (1주일) 시간간격(timedelta) 객체 생성\r\n",
        "print(current_time - one_week)\r\n",
        "print(current_time + one_week)"
      ],
      "execution_count": 21,
      "outputs": [
        {
          "output_type": "stream",
          "text": [
            "2021-02-23 05:38:35.626358\n",
            "2021-03-09 05:38:35.626358\n"
          ],
          "name": "stdout"
        }
      ]
    },
    {
      "cell_type": "code",
      "metadata": {
        "colab": {
          "base_uri": "https://localhost:8080/"
        },
        "id": "ifZYSa2ZdOsR",
        "outputId": "b0fc1be6-886e-4a9c-a0e9-96961f91f066"
      },
      "source": [
        "one_day = timedelta(days=1)\r\n",
        "print(current_time - one_day)\r\n",
        "print(current_time + one_day)"
      ],
      "execution_count": 22,
      "outputs": [
        {
          "output_type": "stream",
          "text": [
            "2021-03-01 05:38:35.626358\n",
            "2021-03-03 05:38:35.626358\n"
          ],
          "name": "stdout"
        }
      ]
    },
    {
      "cell_type": "markdown",
      "metadata": {
        "id": "FNIDwdD4XzzY"
      },
      "source": [
        "*   datetime(날짜/시간) 객체 <---> str(문자열) 객체\r\n",
        "    *   `datetime.strptime(문자열, 포맷문자열)`: 문자열(str)을 datetime 객체로 변환(parsing)\r\n",
        "    *   `datetime.strftime(포맷문자열)`: datetime 객체를 문자열로 변환(formatting)\r\n"
      ]
    },
    {
      "cell_type": "code",
      "metadata": {
        "colab": {
          "base_uri": "https://localhost:8080/"
        },
        "id": "hsBBw6moeFBq",
        "outputId": "9acfc58a-2869-4ee7-ee16-93a80ce336df"
      },
      "source": [
        "current_time = datetime.now()  # 현재 날짜/시간 정보를 저장하고 있는 datetime 객체 생성\r\n",
        "print(current_time)\r\n",
        "print(current_time.strftime('%Y/%m/%d'))  # datetime ---> str\r\n",
        "print(current_time.strftime('%Y-%m-%d'))"
      ],
      "execution_count": 24,
      "outputs": [
        {
          "output_type": "stream",
          "text": [
            "2021-03-02 05:48:10.259939\n",
            "2021/03/02\n",
            "2021-03-02\n"
          ],
          "name": "stdout"
        }
      ]
    },
    {
      "cell_type": "markdown",
      "metadata": {
        "id": "3_RMvy9mfOic"
      },
      "source": [
        "*   날짜 포맷 문자열\r\n",
        "    *   연도(year): %Y(4자리 연도),  %y(2자리 연도)\r\n",
        "    *   월(month): %m(2자리 숫자), %B(월 이름), %b(월 이름 약자)\r\n",
        "    *   일(day): %d(2자리 숫자)\r\n",
        "    *   시(hour): %H(24시간 형식. 0 ~ 23), %I(12시간 형식. 1 ~ 12)\r\n",
        "    *   분(minute): %M(2자리 숫자. 0 ~ 59)\r\n",
        "    *   초(second): %S(2자리 숫자. 0 ~ 59)"
      ]
    },
    {
      "cell_type": "code",
      "metadata": {
        "colab": {
          "base_uri": "https://localhost:8080/"
        },
        "id": "RFG8dGMUglfD",
        "outputId": "c06a9cd1-f8dd-48d9-b859-8765ea5ac80d"
      },
      "source": [
        "print(current_time.strftime('%b. %d, %y'))\r\n",
        "print(current_time.strftime('%B %d, %Y'))"
      ],
      "execution_count": 26,
      "outputs": [
        {
          "output_type": "stream",
          "text": [
            "Mar. 02, 21\n",
            "March 02, 2021\n"
          ],
          "name": "stdout"
        }
      ]
    },
    {
      "cell_type": "code",
      "metadata": {
        "colab": {
          "base_uri": "https://localhost:8080/"
        },
        "id": "dWXodz16hNmN",
        "outputId": "7940365d-4358-4d8a-ceb0-dd298b9ebbe7"
      },
      "source": [
        "current_time = datetime(2021, 3, 2, 15, 1, 30)\r\n",
        "print(current_time.strftime('%H:%M:%S'))\r\n",
        "print(current_time.strftime('%I:%M:%S %p'))"
      ],
      "execution_count": 29,
      "outputs": [
        {
          "output_type": "stream",
          "text": [
            "15:01:30\n",
            "03:01:30 PM\n"
          ],
          "name": "stdout"
        }
      ]
    },
    {
      "cell_type": "code",
      "metadata": {
        "colab": {
          "base_uri": "https://localhost:8080/"
        },
        "id": "02Ckt59DiE4x",
        "outputId": "a321be69-ddf7-440d-ccda-d6e7f4c75dc4"
      },
      "source": [
        "# str ---> datetime\r\n",
        "print(datetime.strptime('2021-3-2', '%Y-%m-%d'))\r\n",
        "print(datetime.strptime('21-03-02', '%y-%m-%d'))\r\n",
        "print(datetime.strptime('21-03-02', '%d-%m-%y'))"
      ],
      "execution_count": 33,
      "outputs": [
        {
          "output_type": "stream",
          "text": [
            "2021-03-02 00:00:00\n",
            "2021-03-02 00:00:00\n",
            "2002-03-21 00:00:00\n"
          ],
          "name": "stdout"
        }
      ]
    },
    {
      "cell_type": "markdown",
      "metadata": {
        "id": "WvXUkx7akG98"
      },
      "source": [
        "*   timestamp(UNIX time, POSIX time, epoch time, ...): 1970년 1월 1일 0시 0분 0초를 시작으로 해서 1초마다 1씩 증가하는 숫자.\r\n",
        "*   `datetime.timestamp()`: datetime 객체 ---> timestamp(숫자)\r\n",
        "*   `datetime.fromtimestamp(숫자)`: timestamp(숫자) ---> datetime 객체\r\n"
      ]
    },
    {
      "cell_type": "code",
      "metadata": {
        "colab": {
          "base_uri": "https://localhost:8080/"
        },
        "id": "wpYodVZ_leFb",
        "outputId": "f927272d-6300-4a65-d939-7cdc68c089bb"
      },
      "source": [
        "current_time = datetime.now()\r\n",
        "print(current_time)\r\n",
        "print(current_time.timestamp())  # datetime ---> 숫자"
      ],
      "execution_count": 35,
      "outputs": [
        {
          "output_type": "stream",
          "text": [
            "2021-03-02 06:18:20.242223\n",
            "1614665900.242223\n"
          ],
          "name": "stdout"
        }
      ]
    },
    {
      "cell_type": "code",
      "metadata": {
        "colab": {
          "base_uri": "https://localhost:8080/"
        },
        "id": "ejm-bhRclu9K",
        "outputId": "7d2857f9-c538-45b9-a095-5894ad06d50a"
      },
      "source": [
        "print(datetime.fromtimestamp(1614665900))  # 숫자 ---> datetime"
      ],
      "execution_count": 37,
      "outputs": [
        {
          "output_type": "stream",
          "text": [
            "2021-03-02 06:18:20\n"
          ],
          "name": "stdout"
        }
      ]
    },
    {
      "cell_type": "code",
      "metadata": {
        "id": "OSZxGEOQqpUt"
      },
      "source": [
        "import pandas as pd"
      ],
      "execution_count": 38,
      "outputs": []
    },
    {
      "cell_type": "code",
      "metadata": {
        "id": "VTTVsm3BqroE"
      },
      "source": [
        "file_path = 'https://github.com/wesm/pydata-book/raw/2nd-edition/datasets/movielens/ratings.dat'\r\n",
        "col_names = ['user_id', 'movie_id', 'rating', 'timestamp']"
      ],
      "execution_count": 39,
      "outputs": []
    },
    {
      "cell_type": "code",
      "metadata": {
        "id": "ADDLIQJmq2k9"
      },
      "source": [
        "ratings = pd.read_csv(file_path, sep='::', header=None, names=col_names,\r\n",
        "                      encoding='cp1252', engine='python')"
      ],
      "execution_count": 40,
      "outputs": []
    },
    {
      "cell_type": "code",
      "metadata": {
        "colab": {
          "base_uri": "https://localhost:8080/",
          "height": 214
        },
        "id": "PnArtxbUrdjs",
        "outputId": "2d9d5a69-cd2e-405f-8b1f-5baa7722c33f"
      },
      "source": [
        "ratings.head()"
      ],
      "execution_count": 41,
      "outputs": [
        {
          "output_type": "execute_result",
          "data": {
            "text/html": [
              "<div>\n",
              "<style scoped>\n",
              "    .dataframe tbody tr th:only-of-type {\n",
              "        vertical-align: middle;\n",
              "    }\n",
              "\n",
              "    .dataframe tbody tr th {\n",
              "        vertical-align: top;\n",
              "    }\n",
              "\n",
              "    .dataframe thead th {\n",
              "        text-align: right;\n",
              "    }\n",
              "</style>\n",
              "<table border=\"1\" class=\"dataframe\">\n",
              "  <thead>\n",
              "    <tr style=\"text-align: right;\">\n",
              "      <th></th>\n",
              "      <th>user_id</th>\n",
              "      <th>movie_id</th>\n",
              "      <th>rating</th>\n",
              "      <th>timestamp</th>\n",
              "    </tr>\n",
              "  </thead>\n",
              "  <tbody>\n",
              "    <tr>\n",
              "      <th>0</th>\n",
              "      <td>1</td>\n",
              "      <td>1193</td>\n",
              "      <td>5</td>\n",
              "      <td>978300760</td>\n",
              "    </tr>\n",
              "    <tr>\n",
              "      <th>1</th>\n",
              "      <td>1</td>\n",
              "      <td>661</td>\n",
              "      <td>3</td>\n",
              "      <td>978302109</td>\n",
              "    </tr>\n",
              "    <tr>\n",
              "      <th>2</th>\n",
              "      <td>1</td>\n",
              "      <td>914</td>\n",
              "      <td>3</td>\n",
              "      <td>978301968</td>\n",
              "    </tr>\n",
              "    <tr>\n",
              "      <th>3</th>\n",
              "      <td>1</td>\n",
              "      <td>3408</td>\n",
              "      <td>4</td>\n",
              "      <td>978300275</td>\n",
              "    </tr>\n",
              "    <tr>\n",
              "      <th>4</th>\n",
              "      <td>1</td>\n",
              "      <td>2355</td>\n",
              "      <td>5</td>\n",
              "      <td>978824291</td>\n",
              "    </tr>\n",
              "  </tbody>\n",
              "</table>\n",
              "</div>"
            ],
            "text/plain": [
              "   user_id  movie_id  rating  timestamp\n",
              "0        1      1193       5  978300760\n",
              "1        1       661       3  978302109\n",
              "2        1       914       3  978301968\n",
              "3        1      3408       4  978300275\n",
              "4        1      2355       5  978824291"
            ]
          },
          "metadata": {
            "tags": []
          },
          "execution_count": 41
        }
      ]
    },
    {
      "cell_type": "code",
      "metadata": {
        "colab": {
          "base_uri": "https://localhost:8080/"
        },
        "id": "PJ7YRJoarmns",
        "outputId": "0b1552c6-c8ad-4234-abbd-5d787b00978d"
      },
      "source": [
        "datetime.fromtimestamp(978300760)"
      ],
      "execution_count": 42,
      "outputs": [
        {
          "output_type": "execute_result",
          "data": {
            "text/plain": [
              "datetime.datetime(2000, 12, 31, 22, 12, 40)"
            ]
          },
          "metadata": {
            "tags": []
          },
          "execution_count": 42
        }
      ]
    },
    {
      "cell_type": "code",
      "metadata": {
        "id": "eGB7-SYGr1zM"
      },
      "source": [
        "# ratings 데이터 프레임에 dt 파생변수(timestamp 값을 datetime 객체로 변환한 값) 추가\r\n",
        "dates = []  # timestamp(정수)를 datetime 객체로 변환한 값들을 저장할 리스트\r\n",
        "for ts in ratings['timestamp']:\r\n",
        "    dates.append(datetime.fromtimestamp(ts))\r\n",
        "\r\n",
        "# 리스트 dates를 pd.Series로 변환해서 파생변수로 추가\r\n",
        "ratings['dt'] = pd.Series(dates)  "
      ],
      "execution_count": 44,
      "outputs": []
    },
    {
      "cell_type": "code",
      "metadata": {
        "colab": {
          "base_uri": "https://localhost:8080/",
          "height": 214
        },
        "id": "CPmPGSYjtxjd",
        "outputId": "1b924502-15a0-4454-e64b-766ff0d2c697"
      },
      "source": [
        "ratings.head()"
      ],
      "execution_count": 45,
      "outputs": [
        {
          "output_type": "execute_result",
          "data": {
            "text/html": [
              "<div>\n",
              "<style scoped>\n",
              "    .dataframe tbody tr th:only-of-type {\n",
              "        vertical-align: middle;\n",
              "    }\n",
              "\n",
              "    .dataframe tbody tr th {\n",
              "        vertical-align: top;\n",
              "    }\n",
              "\n",
              "    .dataframe thead th {\n",
              "        text-align: right;\n",
              "    }\n",
              "</style>\n",
              "<table border=\"1\" class=\"dataframe\">\n",
              "  <thead>\n",
              "    <tr style=\"text-align: right;\">\n",
              "      <th></th>\n",
              "      <th>user_id</th>\n",
              "      <th>movie_id</th>\n",
              "      <th>rating</th>\n",
              "      <th>timestamp</th>\n",
              "      <th>dt</th>\n",
              "    </tr>\n",
              "  </thead>\n",
              "  <tbody>\n",
              "    <tr>\n",
              "      <th>0</th>\n",
              "      <td>1</td>\n",
              "      <td>1193</td>\n",
              "      <td>5</td>\n",
              "      <td>978300760</td>\n",
              "      <td>2000-12-31 22:12:40</td>\n",
              "    </tr>\n",
              "    <tr>\n",
              "      <th>1</th>\n",
              "      <td>1</td>\n",
              "      <td>661</td>\n",
              "      <td>3</td>\n",
              "      <td>978302109</td>\n",
              "      <td>2000-12-31 22:35:09</td>\n",
              "    </tr>\n",
              "    <tr>\n",
              "      <th>2</th>\n",
              "      <td>1</td>\n",
              "      <td>914</td>\n",
              "      <td>3</td>\n",
              "      <td>978301968</td>\n",
              "      <td>2000-12-31 22:32:48</td>\n",
              "    </tr>\n",
              "    <tr>\n",
              "      <th>3</th>\n",
              "      <td>1</td>\n",
              "      <td>3408</td>\n",
              "      <td>4</td>\n",
              "      <td>978300275</td>\n",
              "      <td>2000-12-31 22:04:35</td>\n",
              "    </tr>\n",
              "    <tr>\n",
              "      <th>4</th>\n",
              "      <td>1</td>\n",
              "      <td>2355</td>\n",
              "      <td>5</td>\n",
              "      <td>978824291</td>\n",
              "      <td>2001-01-06 23:38:11</td>\n",
              "    </tr>\n",
              "  </tbody>\n",
              "</table>\n",
              "</div>"
            ],
            "text/plain": [
              "   user_id  movie_id  rating  timestamp                  dt\n",
              "0        1      1193       5  978300760 2000-12-31 22:12:40\n",
              "1        1       661       3  978302109 2000-12-31 22:35:09\n",
              "2        1       914       3  978301968 2000-12-31 22:32:48\n",
              "3        1      3408       4  978300275 2000-12-31 22:04:35\n",
              "4        1      2355       5  978824291 2001-01-06 23:38:11"
            ]
          },
          "metadata": {
            "tags": []
          },
          "execution_count": 45
        }
      ]
    },
    {
      "cell_type": "code",
      "metadata": {
        "colab": {
          "base_uri": "https://localhost:8080/",
          "height": 214
        },
        "id": "Cws8P2ust-Sw",
        "outputId": "dea3f5ef-0b25-4103-cc01-c016357bb7ca"
      },
      "source": [
        "ratings.tail()"
      ],
      "execution_count": 46,
      "outputs": [
        {
          "output_type": "execute_result",
          "data": {
            "text/html": [
              "<div>\n",
              "<style scoped>\n",
              "    .dataframe tbody tr th:only-of-type {\n",
              "        vertical-align: middle;\n",
              "    }\n",
              "\n",
              "    .dataframe tbody tr th {\n",
              "        vertical-align: top;\n",
              "    }\n",
              "\n",
              "    .dataframe thead th {\n",
              "        text-align: right;\n",
              "    }\n",
              "</style>\n",
              "<table border=\"1\" class=\"dataframe\">\n",
              "  <thead>\n",
              "    <tr style=\"text-align: right;\">\n",
              "      <th></th>\n",
              "      <th>user_id</th>\n",
              "      <th>movie_id</th>\n",
              "      <th>rating</th>\n",
              "      <th>timestamp</th>\n",
              "      <th>dt</th>\n",
              "    </tr>\n",
              "  </thead>\n",
              "  <tbody>\n",
              "    <tr>\n",
              "      <th>1000204</th>\n",
              "      <td>6040</td>\n",
              "      <td>1091</td>\n",
              "      <td>1</td>\n",
              "      <td>956716541</td>\n",
              "      <td>2000-04-26 02:35:41</td>\n",
              "    </tr>\n",
              "    <tr>\n",
              "      <th>1000205</th>\n",
              "      <td>6040</td>\n",
              "      <td>1094</td>\n",
              "      <td>5</td>\n",
              "      <td>956704887</td>\n",
              "      <td>2000-04-25 23:21:27</td>\n",
              "    </tr>\n",
              "    <tr>\n",
              "      <th>1000206</th>\n",
              "      <td>6040</td>\n",
              "      <td>562</td>\n",
              "      <td>5</td>\n",
              "      <td>956704746</td>\n",
              "      <td>2000-04-25 23:19:06</td>\n",
              "    </tr>\n",
              "    <tr>\n",
              "      <th>1000207</th>\n",
              "      <td>6040</td>\n",
              "      <td>1096</td>\n",
              "      <td>4</td>\n",
              "      <td>956715648</td>\n",
              "      <td>2000-04-26 02:20:48</td>\n",
              "    </tr>\n",
              "    <tr>\n",
              "      <th>1000208</th>\n",
              "      <td>6040</td>\n",
              "      <td>1097</td>\n",
              "      <td>4</td>\n",
              "      <td>956715569</td>\n",
              "      <td>2000-04-26 02:19:29</td>\n",
              "    </tr>\n",
              "  </tbody>\n",
              "</table>\n",
              "</div>"
            ],
            "text/plain": [
              "         user_id  movie_id  rating  timestamp                  dt\n",
              "1000204     6040      1091       1  956716541 2000-04-26 02:35:41\n",
              "1000205     6040      1094       5  956704887 2000-04-25 23:21:27\n",
              "1000206     6040       562       5  956704746 2000-04-25 23:19:06\n",
              "1000207     6040      1096       4  956715648 2000-04-26 02:20:48\n",
              "1000208     6040      1097       4  956715569 2000-04-26 02:19:29"
            ]
          },
          "metadata": {
            "tags": []
          },
          "execution_count": 46
        }
      ]
    },
    {
      "cell_type": "code",
      "metadata": {
        "colab": {
          "base_uri": "https://localhost:8080/"
        },
        "id": "goeFSNbDuCkU",
        "outputId": "1085e385-983f-488a-8a23-f27e4c769978"
      },
      "source": [
        "ratings['dt'].describe()"
      ],
      "execution_count": 47,
      "outputs": [
        {
          "output_type": "stream",
          "text": [
            "/usr/local/lib/python3.7/dist-packages/ipykernel_launcher.py:1: FutureWarning: Treating datetime data as categorical rather than numeric in `.describe` is deprecated and will be removed in a future version of pandas. Specify `datetime_is_numeric=True` to silence this warning and adopt the future behavior now.\n",
            "  \"\"\"Entry point for launching an IPython kernel.\n"
          ],
          "name": "stderr"
        },
        {
          "output_type": "execute_result",
          "data": {
            "text/plain": [
              "count                 1000209\n",
              "unique                 458455\n",
              "top       2000-11-29 20:06:42\n",
              "freq                       30\n",
              "first     2000-04-25 23:05:32\n",
              "last      2003-02-28 17:49:50\n",
              "Name: dt, dtype: object"
            ]
          },
          "metadata": {
            "tags": []
          },
          "execution_count": 47
        }
      ]
    },
    {
      "cell_type": "code",
      "metadata": {
        "id": "5hmPl6k_ui0H"
      },
      "source": [
        "# pd.to_datetime() 함수\r\n",
        "ratings['dt2'] = pd.to_datetime(ratings['timestamp'], unit='s')"
      ],
      "execution_count": 50,
      "outputs": []
    },
    {
      "cell_type": "code",
      "metadata": {
        "colab": {
          "base_uri": "https://localhost:8080/",
          "height": 214
        },
        "id": "YsL-mDipwMCz",
        "outputId": "7e595cf3-8afd-4b25-a8f1-6950a6eb2350"
      },
      "source": [
        "ratings.head()"
      ],
      "execution_count": 51,
      "outputs": [
        {
          "output_type": "execute_result",
          "data": {
            "text/html": [
              "<div>\n",
              "<style scoped>\n",
              "    .dataframe tbody tr th:only-of-type {\n",
              "        vertical-align: middle;\n",
              "    }\n",
              "\n",
              "    .dataframe tbody tr th {\n",
              "        vertical-align: top;\n",
              "    }\n",
              "\n",
              "    .dataframe thead th {\n",
              "        text-align: right;\n",
              "    }\n",
              "</style>\n",
              "<table border=\"1\" class=\"dataframe\">\n",
              "  <thead>\n",
              "    <tr style=\"text-align: right;\">\n",
              "      <th></th>\n",
              "      <th>user_id</th>\n",
              "      <th>movie_id</th>\n",
              "      <th>rating</th>\n",
              "      <th>timestamp</th>\n",
              "      <th>dt</th>\n",
              "      <th>dt2</th>\n",
              "    </tr>\n",
              "  </thead>\n",
              "  <tbody>\n",
              "    <tr>\n",
              "      <th>0</th>\n",
              "      <td>1</td>\n",
              "      <td>1193</td>\n",
              "      <td>5</td>\n",
              "      <td>978300760</td>\n",
              "      <td>2000-12-31 22:12:40</td>\n",
              "      <td>2000-12-31 22:12:40</td>\n",
              "    </tr>\n",
              "    <tr>\n",
              "      <th>1</th>\n",
              "      <td>1</td>\n",
              "      <td>661</td>\n",
              "      <td>3</td>\n",
              "      <td>978302109</td>\n",
              "      <td>2000-12-31 22:35:09</td>\n",
              "      <td>2000-12-31 22:35:09</td>\n",
              "    </tr>\n",
              "    <tr>\n",
              "      <th>2</th>\n",
              "      <td>1</td>\n",
              "      <td>914</td>\n",
              "      <td>3</td>\n",
              "      <td>978301968</td>\n",
              "      <td>2000-12-31 22:32:48</td>\n",
              "      <td>2000-12-31 22:32:48</td>\n",
              "    </tr>\n",
              "    <tr>\n",
              "      <th>3</th>\n",
              "      <td>1</td>\n",
              "      <td>3408</td>\n",
              "      <td>4</td>\n",
              "      <td>978300275</td>\n",
              "      <td>2000-12-31 22:04:35</td>\n",
              "      <td>2000-12-31 22:04:35</td>\n",
              "    </tr>\n",
              "    <tr>\n",
              "      <th>4</th>\n",
              "      <td>1</td>\n",
              "      <td>2355</td>\n",
              "      <td>5</td>\n",
              "      <td>978824291</td>\n",
              "      <td>2001-01-06 23:38:11</td>\n",
              "      <td>2001-01-06 23:38:11</td>\n",
              "    </tr>\n",
              "  </tbody>\n",
              "</table>\n",
              "</div>"
            ],
            "text/plain": [
              "   user_id  movie_id  rating  timestamp                  dt                 dt2\n",
              "0        1      1193       5  978300760 2000-12-31 22:12:40 2000-12-31 22:12:40\n",
              "1        1       661       3  978302109 2000-12-31 22:35:09 2000-12-31 22:35:09\n",
              "2        1       914       3  978301968 2000-12-31 22:32:48 2000-12-31 22:32:48\n",
              "3        1      3408       4  978300275 2000-12-31 22:04:35 2000-12-31 22:04:35\n",
              "4        1      2355       5  978824291 2001-01-06 23:38:11 2001-01-06 23:38:11"
            ]
          },
          "metadata": {
            "tags": []
          },
          "execution_count": 51
        }
      ]
    },
    {
      "cell_type": "code",
      "metadata": {
        "colab": {
          "base_uri": "https://localhost:8080/"
        },
        "id": "UFP-wBS9wepf",
        "outputId": "0fb5f778-fd9f-4411-b189-7b28f13a76ce"
      },
      "source": [
        "ratings.info()"
      ],
      "execution_count": 52,
      "outputs": [
        {
          "output_type": "stream",
          "text": [
            "<class 'pandas.core.frame.DataFrame'>\n",
            "RangeIndex: 1000209 entries, 0 to 1000208\n",
            "Data columns (total 6 columns):\n",
            " #   Column     Non-Null Count    Dtype         \n",
            "---  ------     --------------    -----         \n",
            " 0   user_id    1000209 non-null  int64         \n",
            " 1   movie_id   1000209 non-null  int64         \n",
            " 2   rating     1000209 non-null  int64         \n",
            " 3   timestamp  1000209 non-null  int64         \n",
            " 4   dt         1000209 non-null  datetime64[ns]\n",
            " 5   dt2        1000209 non-null  datetime64[ns]\n",
            "dtypes: datetime64[ns](2), int64(4)\n",
            "memory usage: 45.8 MB\n"
          ],
          "name": "stdout"
        }
      ]
    },
    {
      "cell_type": "code",
      "metadata": {
        "id": "EgyYNusOwt8T"
      },
      "source": [
        "# timestamp(정수) 타입을 datetime 타입으로 변환하는 목적은 년/월/일 등의 정보를 쉽게 추출하기 위해서\r\n",
        "ratings['year'] = ratings['dt'].dt.year\r\n",
        "ratings['month'] = ratings['dt'].dt.month\r\n",
        "ratings['quarter'] = ratings['dt'].dt.quarter"
      ],
      "execution_count": 53,
      "outputs": []
    },
    {
      "cell_type": "code",
      "metadata": {
        "colab": {
          "base_uri": "https://localhost:8080/",
          "height": 377
        },
        "id": "GKPBzQMHxL3l",
        "outputId": "16643e19-de02-4184-c2a9-48e86f1af4fb"
      },
      "source": [
        "ratings.head(10)"
      ],
      "execution_count": 54,
      "outputs": [
        {
          "output_type": "execute_result",
          "data": {
            "text/html": [
              "<div>\n",
              "<style scoped>\n",
              "    .dataframe tbody tr th:only-of-type {\n",
              "        vertical-align: middle;\n",
              "    }\n",
              "\n",
              "    .dataframe tbody tr th {\n",
              "        vertical-align: top;\n",
              "    }\n",
              "\n",
              "    .dataframe thead th {\n",
              "        text-align: right;\n",
              "    }\n",
              "</style>\n",
              "<table border=\"1\" class=\"dataframe\">\n",
              "  <thead>\n",
              "    <tr style=\"text-align: right;\">\n",
              "      <th></th>\n",
              "      <th>user_id</th>\n",
              "      <th>movie_id</th>\n",
              "      <th>rating</th>\n",
              "      <th>timestamp</th>\n",
              "      <th>dt</th>\n",
              "      <th>dt2</th>\n",
              "      <th>year</th>\n",
              "      <th>month</th>\n",
              "      <th>quarter</th>\n",
              "    </tr>\n",
              "  </thead>\n",
              "  <tbody>\n",
              "    <tr>\n",
              "      <th>0</th>\n",
              "      <td>1</td>\n",
              "      <td>1193</td>\n",
              "      <td>5</td>\n",
              "      <td>978300760</td>\n",
              "      <td>2000-12-31 22:12:40</td>\n",
              "      <td>2000-12-31 22:12:40</td>\n",
              "      <td>2000</td>\n",
              "      <td>12</td>\n",
              "      <td>4</td>\n",
              "    </tr>\n",
              "    <tr>\n",
              "      <th>1</th>\n",
              "      <td>1</td>\n",
              "      <td>661</td>\n",
              "      <td>3</td>\n",
              "      <td>978302109</td>\n",
              "      <td>2000-12-31 22:35:09</td>\n",
              "      <td>2000-12-31 22:35:09</td>\n",
              "      <td>2000</td>\n",
              "      <td>12</td>\n",
              "      <td>4</td>\n",
              "    </tr>\n",
              "    <tr>\n",
              "      <th>2</th>\n",
              "      <td>1</td>\n",
              "      <td>914</td>\n",
              "      <td>3</td>\n",
              "      <td>978301968</td>\n",
              "      <td>2000-12-31 22:32:48</td>\n",
              "      <td>2000-12-31 22:32:48</td>\n",
              "      <td>2000</td>\n",
              "      <td>12</td>\n",
              "      <td>4</td>\n",
              "    </tr>\n",
              "    <tr>\n",
              "      <th>3</th>\n",
              "      <td>1</td>\n",
              "      <td>3408</td>\n",
              "      <td>4</td>\n",
              "      <td>978300275</td>\n",
              "      <td>2000-12-31 22:04:35</td>\n",
              "      <td>2000-12-31 22:04:35</td>\n",
              "      <td>2000</td>\n",
              "      <td>12</td>\n",
              "      <td>4</td>\n",
              "    </tr>\n",
              "    <tr>\n",
              "      <th>4</th>\n",
              "      <td>1</td>\n",
              "      <td>2355</td>\n",
              "      <td>5</td>\n",
              "      <td>978824291</td>\n",
              "      <td>2001-01-06 23:38:11</td>\n",
              "      <td>2001-01-06 23:38:11</td>\n",
              "      <td>2001</td>\n",
              "      <td>1</td>\n",
              "      <td>1</td>\n",
              "    </tr>\n",
              "    <tr>\n",
              "      <th>5</th>\n",
              "      <td>1</td>\n",
              "      <td>1197</td>\n",
              "      <td>3</td>\n",
              "      <td>978302268</td>\n",
              "      <td>2000-12-31 22:37:48</td>\n",
              "      <td>2000-12-31 22:37:48</td>\n",
              "      <td>2000</td>\n",
              "      <td>12</td>\n",
              "      <td>4</td>\n",
              "    </tr>\n",
              "    <tr>\n",
              "      <th>6</th>\n",
              "      <td>1</td>\n",
              "      <td>1287</td>\n",
              "      <td>5</td>\n",
              "      <td>978302039</td>\n",
              "      <td>2000-12-31 22:33:59</td>\n",
              "      <td>2000-12-31 22:33:59</td>\n",
              "      <td>2000</td>\n",
              "      <td>12</td>\n",
              "      <td>4</td>\n",
              "    </tr>\n",
              "    <tr>\n",
              "      <th>7</th>\n",
              "      <td>1</td>\n",
              "      <td>2804</td>\n",
              "      <td>5</td>\n",
              "      <td>978300719</td>\n",
              "      <td>2000-12-31 22:11:59</td>\n",
              "      <td>2000-12-31 22:11:59</td>\n",
              "      <td>2000</td>\n",
              "      <td>12</td>\n",
              "      <td>4</td>\n",
              "    </tr>\n",
              "    <tr>\n",
              "      <th>8</th>\n",
              "      <td>1</td>\n",
              "      <td>594</td>\n",
              "      <td>4</td>\n",
              "      <td>978302268</td>\n",
              "      <td>2000-12-31 22:37:48</td>\n",
              "      <td>2000-12-31 22:37:48</td>\n",
              "      <td>2000</td>\n",
              "      <td>12</td>\n",
              "      <td>4</td>\n",
              "    </tr>\n",
              "    <tr>\n",
              "      <th>9</th>\n",
              "      <td>1</td>\n",
              "      <td>919</td>\n",
              "      <td>4</td>\n",
              "      <td>978301368</td>\n",
              "      <td>2000-12-31 22:22:48</td>\n",
              "      <td>2000-12-31 22:22:48</td>\n",
              "      <td>2000</td>\n",
              "      <td>12</td>\n",
              "      <td>4</td>\n",
              "    </tr>\n",
              "  </tbody>\n",
              "</table>\n",
              "</div>"
            ],
            "text/plain": [
              "   user_id  movie_id  rating  ...  year month quarter\n",
              "0        1      1193       5  ...  2000    12       4\n",
              "1        1       661       3  ...  2000    12       4\n",
              "2        1       914       3  ...  2000    12       4\n",
              "3        1      3408       4  ...  2000    12       4\n",
              "4        1      2355       5  ...  2001     1       1\n",
              "5        1      1197       3  ...  2000    12       4\n",
              "6        1      1287       5  ...  2000    12       4\n",
              "7        1      2804       5  ...  2000    12       4\n",
              "8        1       594       4  ...  2000    12       4\n",
              "9        1       919       4  ...  2000    12       4\n",
              "\n",
              "[10 rows x 9 columns]"
            ]
          },
          "metadata": {
            "tags": []
          },
          "execution_count": 54
        }
      ]
    },
    {
      "cell_type": "code",
      "metadata": {
        "colab": {
          "base_uri": "https://localhost:8080/",
          "height": 441
        },
        "id": "kfwkMf2WyJ1n",
        "outputId": "be4ec512-0ce3-48e1-c168-b87bf6713ea8"
      },
      "source": [
        "# ratings 데이터 프레임에서 2003년도 1사분기 데이터만 추출\r\n",
        "ratings[(ratings['year'] == 2003) & (ratings['quarter'] == 1)]"
      ],
      "execution_count": 56,
      "outputs": [
        {
          "output_type": "execute_result",
          "data": {
            "text/html": [
              "<div>\n",
              "<style scoped>\n",
              "    .dataframe tbody tr th:only-of-type {\n",
              "        vertical-align: middle;\n",
              "    }\n",
              "\n",
              "    .dataframe tbody tr th {\n",
              "        vertical-align: top;\n",
              "    }\n",
              "\n",
              "    .dataframe thead th {\n",
              "        text-align: right;\n",
              "    }\n",
              "</style>\n",
              "<table border=\"1\" class=\"dataframe\">\n",
              "  <thead>\n",
              "    <tr style=\"text-align: right;\">\n",
              "      <th></th>\n",
              "      <th>user_id</th>\n",
              "      <th>movie_id</th>\n",
              "      <th>rating</th>\n",
              "      <th>timestamp</th>\n",
              "      <th>dt</th>\n",
              "      <th>dt2</th>\n",
              "      <th>year</th>\n",
              "      <th>month</th>\n",
              "      <th>quarter</th>\n",
              "    </tr>\n",
              "  </thead>\n",
              "  <tbody>\n",
              "    <tr>\n",
              "      <th>8696</th>\n",
              "      <td>59</td>\n",
              "      <td>1175</td>\n",
              "      <td>4</td>\n",
              "      <td>1041967123</td>\n",
              "      <td>2003-01-07 19:18:43</td>\n",
              "      <td>2003-01-07 19:18:43</td>\n",
              "      <td>2003</td>\n",
              "      <td>1</td>\n",
              "      <td>1</td>\n",
              "    </tr>\n",
              "    <tr>\n",
              "      <th>8700</th>\n",
              "      <td>59</td>\n",
              "      <td>1252</td>\n",
              "      <td>4</td>\n",
              "      <td>1041967475</td>\n",
              "      <td>2003-01-07 19:24:35</td>\n",
              "      <td>2003-01-07 19:24:35</td>\n",
              "      <td>2003</td>\n",
              "      <td>1</td>\n",
              "      <td>1</td>\n",
              "    </tr>\n",
              "    <tr>\n",
              "      <th>8702</th>\n",
              "      <td>59</td>\n",
              "      <td>1183</td>\n",
              "      <td>4</td>\n",
              "      <td>1041963129</td>\n",
              "      <td>2003-01-07 18:12:09</td>\n",
              "      <td>2003-01-07 18:12:09</td>\n",
              "      <td>2003</td>\n",
              "      <td>1</td>\n",
              "      <td>1</td>\n",
              "    </tr>\n",
              "    <tr>\n",
              "      <th>8704</th>\n",
              "      <td>59</td>\n",
              "      <td>2997</td>\n",
              "      <td>4</td>\n",
              "      <td>1041962568</td>\n",
              "      <td>2003-01-07 18:02:48</td>\n",
              "      <td>2003-01-07 18:02:48</td>\n",
              "      <td>2003</td>\n",
              "      <td>1</td>\n",
              "      <td>1</td>\n",
              "    </tr>\n",
              "    <tr>\n",
              "      <th>8706</th>\n",
              "      <td>59</td>\n",
              "      <td>3871</td>\n",
              "      <td>4</td>\n",
              "      <td>1041968282</td>\n",
              "      <td>2003-01-07 19:38:02</td>\n",
              "      <td>2003-01-07 19:38:02</td>\n",
              "      <td>2003</td>\n",
              "      <td>1</td>\n",
              "      <td>1</td>\n",
              "    </tr>\n",
              "    <tr>\n",
              "      <th>...</th>\n",
              "      <td>...</td>\n",
              "      <td>...</td>\n",
              "      <td>...</td>\n",
              "      <td>...</td>\n",
              "      <td>...</td>\n",
              "      <td>...</td>\n",
              "      <td>...</td>\n",
              "      <td>...</td>\n",
              "      <td>...</td>\n",
              "    </tr>\n",
              "    <tr>\n",
              "      <th>984842</th>\n",
              "      <td>5950</td>\n",
              "      <td>3317</td>\n",
              "      <td>3</td>\n",
              "      <td>1046369439</td>\n",
              "      <td>2003-02-27 18:10:39</td>\n",
              "      <td>2003-02-27 18:10:39</td>\n",
              "      <td>2003</td>\n",
              "      <td>2</td>\n",
              "      <td>1</td>\n",
              "    </tr>\n",
              "    <tr>\n",
              "      <th>984847</th>\n",
              "      <td>5950</td>\n",
              "      <td>3328</td>\n",
              "      <td>3</td>\n",
              "      <td>1046369090</td>\n",
              "      <td>2003-02-27 18:04:50</td>\n",
              "      <td>2003-02-27 18:04:50</td>\n",
              "      <td>2003</td>\n",
              "      <td>2</td>\n",
              "      <td>1</td>\n",
              "    </tr>\n",
              "    <tr>\n",
              "      <th>984849</th>\n",
              "      <td>5950</td>\n",
              "      <td>111</td>\n",
              "      <td>5</td>\n",
              "      <td>1046368241</td>\n",
              "      <td>2003-02-27 17:50:41</td>\n",
              "      <td>2003-02-27 17:50:41</td>\n",
              "      <td>2003</td>\n",
              "      <td>2</td>\n",
              "      <td>1</td>\n",
              "    </tr>\n",
              "    <tr>\n",
              "      <th>984861</th>\n",
              "      <td>5950</td>\n",
              "      <td>3363</td>\n",
              "      <td>5</td>\n",
              "      <td>1046367948</td>\n",
              "      <td>2003-02-27 17:45:48</td>\n",
              "      <td>2003-02-27 17:45:48</td>\n",
              "      <td>2003</td>\n",
              "      <td>2</td>\n",
              "      <td>1</td>\n",
              "    </tr>\n",
              "    <tr>\n",
              "      <th>984905</th>\n",
              "      <td>5950</td>\n",
              "      <td>1089</td>\n",
              "      <td>3</td>\n",
              "      <td>1046368552</td>\n",
              "      <td>2003-02-27 17:55:52</td>\n",
              "      <td>2003-02-27 17:55:52</td>\n",
              "      <td>2003</td>\n",
              "      <td>2</td>\n",
              "      <td>1</td>\n",
              "    </tr>\n",
              "  </tbody>\n",
              "</table>\n",
              "<p>3348 rows × 9 columns</p>\n",
              "</div>"
            ],
            "text/plain": [
              "        user_id  movie_id  rating  ...  year month quarter\n",
              "8696         59      1175       4  ...  2003     1       1\n",
              "8700         59      1252       4  ...  2003     1       1\n",
              "8702         59      1183       4  ...  2003     1       1\n",
              "8704         59      2997       4  ...  2003     1       1\n",
              "8706         59      3871       4  ...  2003     1       1\n",
              "...         ...       ...     ...  ...   ...   ...     ...\n",
              "984842     5950      3317       3  ...  2003     2       1\n",
              "984847     5950      3328       3  ...  2003     2       1\n",
              "984849     5950       111       5  ...  2003     2       1\n",
              "984861     5950      3363       5  ...  2003     2       1\n",
              "984905     5950      1089       3  ...  2003     2       1\n",
              "\n",
              "[3348 rows x 9 columns]"
            ]
          },
          "metadata": {
            "tags": []
          },
          "execution_count": 56
        }
      ]
    },
    {
      "cell_type": "code",
      "metadata": {
        "colab": {
          "base_uri": "https://localhost:8080/",
          "height": 441
        },
        "id": "rpTAGK23zEcX",
        "outputId": "db4f2e52-050c-4826-8471-4d4bbb5e7a1f"
      },
      "source": [
        "ratings[(ratings['dt'].dt.year == 2003) & \r\n",
        "        (ratings['dt'].dt.quarter == 1)]"
      ],
      "execution_count": 57,
      "outputs": [
        {
          "output_type": "execute_result",
          "data": {
            "text/html": [
              "<div>\n",
              "<style scoped>\n",
              "    .dataframe tbody tr th:only-of-type {\n",
              "        vertical-align: middle;\n",
              "    }\n",
              "\n",
              "    .dataframe tbody tr th {\n",
              "        vertical-align: top;\n",
              "    }\n",
              "\n",
              "    .dataframe thead th {\n",
              "        text-align: right;\n",
              "    }\n",
              "</style>\n",
              "<table border=\"1\" class=\"dataframe\">\n",
              "  <thead>\n",
              "    <tr style=\"text-align: right;\">\n",
              "      <th></th>\n",
              "      <th>user_id</th>\n",
              "      <th>movie_id</th>\n",
              "      <th>rating</th>\n",
              "      <th>timestamp</th>\n",
              "      <th>dt</th>\n",
              "      <th>dt2</th>\n",
              "      <th>year</th>\n",
              "      <th>month</th>\n",
              "      <th>quarter</th>\n",
              "    </tr>\n",
              "  </thead>\n",
              "  <tbody>\n",
              "    <tr>\n",
              "      <th>8696</th>\n",
              "      <td>59</td>\n",
              "      <td>1175</td>\n",
              "      <td>4</td>\n",
              "      <td>1041967123</td>\n",
              "      <td>2003-01-07 19:18:43</td>\n",
              "      <td>2003-01-07 19:18:43</td>\n",
              "      <td>2003</td>\n",
              "      <td>1</td>\n",
              "      <td>1</td>\n",
              "    </tr>\n",
              "    <tr>\n",
              "      <th>8700</th>\n",
              "      <td>59</td>\n",
              "      <td>1252</td>\n",
              "      <td>4</td>\n",
              "      <td>1041967475</td>\n",
              "      <td>2003-01-07 19:24:35</td>\n",
              "      <td>2003-01-07 19:24:35</td>\n",
              "      <td>2003</td>\n",
              "      <td>1</td>\n",
              "      <td>1</td>\n",
              "    </tr>\n",
              "    <tr>\n",
              "      <th>8702</th>\n",
              "      <td>59</td>\n",
              "      <td>1183</td>\n",
              "      <td>4</td>\n",
              "      <td>1041963129</td>\n",
              "      <td>2003-01-07 18:12:09</td>\n",
              "      <td>2003-01-07 18:12:09</td>\n",
              "      <td>2003</td>\n",
              "      <td>1</td>\n",
              "      <td>1</td>\n",
              "    </tr>\n",
              "    <tr>\n",
              "      <th>8704</th>\n",
              "      <td>59</td>\n",
              "      <td>2997</td>\n",
              "      <td>4</td>\n",
              "      <td>1041962568</td>\n",
              "      <td>2003-01-07 18:02:48</td>\n",
              "      <td>2003-01-07 18:02:48</td>\n",
              "      <td>2003</td>\n",
              "      <td>1</td>\n",
              "      <td>1</td>\n",
              "    </tr>\n",
              "    <tr>\n",
              "      <th>8706</th>\n",
              "      <td>59</td>\n",
              "      <td>3871</td>\n",
              "      <td>4</td>\n",
              "      <td>1041968282</td>\n",
              "      <td>2003-01-07 19:38:02</td>\n",
              "      <td>2003-01-07 19:38:02</td>\n",
              "      <td>2003</td>\n",
              "      <td>1</td>\n",
              "      <td>1</td>\n",
              "    </tr>\n",
              "    <tr>\n",
              "      <th>...</th>\n",
              "      <td>...</td>\n",
              "      <td>...</td>\n",
              "      <td>...</td>\n",
              "      <td>...</td>\n",
              "      <td>...</td>\n",
              "      <td>...</td>\n",
              "      <td>...</td>\n",
              "      <td>...</td>\n",
              "      <td>...</td>\n",
              "    </tr>\n",
              "    <tr>\n",
              "      <th>984842</th>\n",
              "      <td>5950</td>\n",
              "      <td>3317</td>\n",
              "      <td>3</td>\n",
              "      <td>1046369439</td>\n",
              "      <td>2003-02-27 18:10:39</td>\n",
              "      <td>2003-02-27 18:10:39</td>\n",
              "      <td>2003</td>\n",
              "      <td>2</td>\n",
              "      <td>1</td>\n",
              "    </tr>\n",
              "    <tr>\n",
              "      <th>984847</th>\n",
              "      <td>5950</td>\n",
              "      <td>3328</td>\n",
              "      <td>3</td>\n",
              "      <td>1046369090</td>\n",
              "      <td>2003-02-27 18:04:50</td>\n",
              "      <td>2003-02-27 18:04:50</td>\n",
              "      <td>2003</td>\n",
              "      <td>2</td>\n",
              "      <td>1</td>\n",
              "    </tr>\n",
              "    <tr>\n",
              "      <th>984849</th>\n",
              "      <td>5950</td>\n",
              "      <td>111</td>\n",
              "      <td>5</td>\n",
              "      <td>1046368241</td>\n",
              "      <td>2003-02-27 17:50:41</td>\n",
              "      <td>2003-02-27 17:50:41</td>\n",
              "      <td>2003</td>\n",
              "      <td>2</td>\n",
              "      <td>1</td>\n",
              "    </tr>\n",
              "    <tr>\n",
              "      <th>984861</th>\n",
              "      <td>5950</td>\n",
              "      <td>3363</td>\n",
              "      <td>5</td>\n",
              "      <td>1046367948</td>\n",
              "      <td>2003-02-27 17:45:48</td>\n",
              "      <td>2003-02-27 17:45:48</td>\n",
              "      <td>2003</td>\n",
              "      <td>2</td>\n",
              "      <td>1</td>\n",
              "    </tr>\n",
              "    <tr>\n",
              "      <th>984905</th>\n",
              "      <td>5950</td>\n",
              "      <td>1089</td>\n",
              "      <td>3</td>\n",
              "      <td>1046368552</td>\n",
              "      <td>2003-02-27 17:55:52</td>\n",
              "      <td>2003-02-27 17:55:52</td>\n",
              "      <td>2003</td>\n",
              "      <td>2</td>\n",
              "      <td>1</td>\n",
              "    </tr>\n",
              "  </tbody>\n",
              "</table>\n",
              "<p>3348 rows × 9 columns</p>\n",
              "</div>"
            ],
            "text/plain": [
              "        user_id  movie_id  rating  ...  year month quarter\n",
              "8696         59      1175       4  ...  2003     1       1\n",
              "8700         59      1252       4  ...  2003     1       1\n",
              "8702         59      1183       4  ...  2003     1       1\n",
              "8704         59      2997       4  ...  2003     1       1\n",
              "8706         59      3871       4  ...  2003     1       1\n",
              "...         ...       ...     ...  ...   ...   ...     ...\n",
              "984842     5950      3317       3  ...  2003     2       1\n",
              "984847     5950      3328       3  ...  2003     2       1\n",
              "984849     5950       111       5  ...  2003     2       1\n",
              "984861     5950      3363       5  ...  2003     2       1\n",
              "984905     5950      1089       3  ...  2003     2       1\n",
              "\n",
              "[3348 rows x 9 columns]"
            ]
          },
          "metadata": {
            "tags": []
          },
          "execution_count": 57
        }
      ]
    }
  ]
}