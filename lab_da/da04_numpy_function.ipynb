{
  "nbformat": 4,
  "nbformat_minor": 0,
  "metadata": {
    "colab": {
      "name": "da04_numpy_function.ipynb",
      "provenance": [],
      "collapsed_sections": [],
      "authorship_tag": "ABX9TyOCqwNWMquhhYYGJFyrwl6y",
      "include_colab_link": true
    },
    "kernelspec": {
      "name": "python3",
      "display_name": "Python 3"
    }
  },
  "cells": [
    {
      "cell_type": "markdown",
      "metadata": {
        "id": "view-in-github",
        "colab_type": "text"
      },
      "source": [
        "<a href=\"https://colab.research.google.com/github/JakeOh/202011_itw_bd21/blob/main/lab_da/da04_numpy_function.ipynb\" target=\"_parent\"><img src=\"https://colab.research.google.com/assets/colab-badge.svg\" alt=\"Open In Colab\"/></a>"
      ]
    },
    {
      "cell_type": "code",
      "metadata": {
        "id": "7S1a0dtwe_uL"
      },
      "source": [
        "import numpy as np"
      ],
      "execution_count": null,
      "outputs": []
    },
    {
      "cell_type": "markdown",
      "metadata": {
        "id": "vlMF5bL1fdfg"
      },
      "source": [
        "NumPy의 많은 기능들(합계, 평균, 표준편차, ...)은 함수와 ndarray 클래스의 메서드로 구현되어 있음.\r\n",
        "\r\n",
        "*   `np.function_name(ndarray, arg, ...)`\r\n",
        "*   `ndarray.method_name(arg, ...)`"
      ]
    },
    {
      "cell_type": "code",
      "metadata": {
        "colab": {
          "base_uri": "https://localhost:8080/"
        },
        "id": "36i7VyESfOCg",
        "outputId": "094473a1-3cfb-4a5e-86f4-7c22b14930c7"
      },
      "source": [
        "# 함수 정의\r\n",
        "def test_fn(arg):\r\n",
        "    print(f'Hello, {arg}!')\r\n",
        "\r\n",
        "# 함수 호출\r\n",
        "test_fn('function')"
      ],
      "execution_count": null,
      "outputs": [
        {
          "output_type": "stream",
          "text": [
            "Hello, function!\n"
          ],
          "name": "stdout"
        }
      ]
    },
    {
      "cell_type": "code",
      "metadata": {
        "colab": {
          "base_uri": "https://localhost:8080/"
        },
        "id": "IRsajCnwgiWn",
        "outputId": "71f1290f-ebfa-4d7e-e56d-7b855c0c62db"
      },
      "source": [
        "# 클래스 정의\r\n",
        "class MyClass:\r\n",
        "    # 메서드 정의\r\n",
        "    def test_method(self, arg):\r\n",
        "        print(f'Hello, {arg}!')\r\n",
        "\r\n",
        "# MyClass 클래스의 인스턴스 생성\r\n",
        "cls = MyClass()\r\n",
        "# 인스턴스가 메서드를 호출\r\n",
        "cls.test_method('method')"
      ],
      "execution_count": null,
      "outputs": [
        {
          "output_type": "stream",
          "text": [
            "Hello, method!\n"
          ],
          "name": "stdout"
        }
      ]
    },
    {
      "cell_type": "code",
      "metadata": {
        "colab": {
          "base_uri": "https://localhost:8080/"
        },
        "id": "3zgykTrnh7Z3",
        "outputId": "59e78fb3-c7aa-4865-82d7-60e4ae77d53d"
      },
      "source": [
        "arr = np.arange(1, 11)\r\n",
        "print(arr)"
      ],
      "execution_count": null,
      "outputs": [
        {
          "output_type": "stream",
          "text": [
            "[ 1  2  3  4  5  6  7  8  9 10]\n"
          ],
          "name": "stdout"
        }
      ]
    },
    {
      "cell_type": "code",
      "metadata": {
        "colab": {
          "base_uri": "https://localhost:8080/"
        },
        "id": "Qop5H6ZTiFC2",
        "outputId": "92339f71-a655-494c-afbd-4c3735a7ee75"
      },
      "source": [
        "np.sum(arr)  # 함수 호출"
      ],
      "execution_count": null,
      "outputs": [
        {
          "output_type": "execute_result",
          "data": {
            "text/plain": [
              "55"
            ]
          },
          "metadata": {
            "tags": []
          },
          "execution_count": 5
        }
      ]
    },
    {
      "cell_type": "code",
      "metadata": {
        "colab": {
          "base_uri": "https://localhost:8080/"
        },
        "id": "J6H4-CqpiSIX",
        "outputId": "51fafc6c-359a-4140-e1b4-0e7e9d64b534"
      },
      "source": [
        "arr.sum()  # ndarray 객체의 메서드를 호출"
      ],
      "execution_count": null,
      "outputs": [
        {
          "output_type": "execute_result",
          "data": {
            "text/plain": [
              "55"
            ]
          },
          "metadata": {
            "tags": []
          },
          "execution_count": 6
        }
      ]
    },
    {
      "cell_type": "code",
      "metadata": {
        "colab": {
          "base_uri": "https://localhost:8080/"
        },
        "id": "bNDWFoJVn8Ia",
        "outputId": "c8696b2b-307a-4381-97b0-9d3258e3e5f6"
      },
      "source": [
        "# numpy의 통계 관련 함수/메서드\r\n",
        "print(arr)\r\n",
        "print('합계:', np.sum(arr), arr.sum())\r\n",
        "print('평균:', np.mean(arr), arr.mean())\r\n",
        "print('분산:', np.var(arr), arr.var())\r\n",
        "print('표준편차:', np.std(arr), arr.std())\r\n",
        "print('최댓값:', np.max(arr), arr.max())\r\n",
        "print('최솟값:', np.min(arr), arr.min())\r\n",
        "print('중앙값:', np.median(arr))\r\n",
        "#> numpy.median() 함수는 있지만, numpy.ndarray.median() 메서드는 없음!"
      ],
      "execution_count": null,
      "outputs": [
        {
          "output_type": "stream",
          "text": [
            "[ 1  2  3  4  5  6  7  8  9 10]\n",
            "합계: 55 55\n",
            "평균: 5.5 5.5\n",
            "분산: 8.25 8.25\n",
            "표준편차: 2.8722813232690143 2.8722813232690143\n",
            "최댓값: 10 10\n",
            "최솟값: 1 1\n",
            "중앙값: 5.5\n"
          ],
          "name": "stdout"
        }
      ]
    },
    {
      "cell_type": "code",
      "metadata": {
        "colab": {
          "base_uri": "https://localhost:8080/"
        },
        "id": "DLAVvARypvD9",
        "outputId": "337400d6-1065-42a7-9de9-f7a57fd0a44d"
      },
      "source": [
        "# numpy.max(), numpy.min() 함수와 numpy.maximum(), numpy.minimum() 함수의 차이\r\n",
        "# numpy.max(array): array의 최댓값을 리턴.\r\n",
        "# numpy.maximum(a1, a2): 배열(과 비슷한 객체) a1, a2의 같은 인덱스에 있는 원소들 중에서 최댓값들로 이루어진 배열.\r\n",
        "\r\n",
        "np.random.seed(1)\r\n",
        "a1 = np.random.randint(0, 20, size=10)\r\n",
        "print(a1)\r\n",
        "a2 = np.random.randint(0, 20, size=10)\r\n",
        "print(a2)\r\n",
        "\r\n",
        "print('a1 max:', np.max(a1))  # a1.max()\r\n",
        "print('a2 max:', np.max(a2))  # a2.max()\r\n",
        "print(np.maximum(a1, a2))"
      ],
      "execution_count": null,
      "outputs": [
        {
          "output_type": "stream",
          "text": [
            "[ 5 11 12  8  9 11  5 15  0 16]\n",
            "[ 1 12  7 13  6 18  5 18 11 10]\n",
            "a1 max: 16\n",
            "a2 max: 18\n",
            "[ 5 12 12 13  9 18  5 18 11 16]\n"
          ],
          "name": "stdout"
        }
      ]
    },
    {
      "cell_type": "code",
      "metadata": {
        "colab": {
          "base_uri": "https://localhost:8080/"
        },
        "id": "Pm_k5EjErxOV",
        "outputId": "6c4b4931-c34b-4505-8f3e-3d3c8b2c6c30"
      },
      "source": [
        "# np.argmax(array), ndarray.argmax(): 배열의 최댓값의 위치(인덱스)를 리턴.\r\n",
        "# np.argmin(array), ndarray.argmin(): 배열의 최솟값의 위치(인덱스)를 리턴.\r\n",
        "print(a2)\r\n",
        "print('argmax:', np.argmax(a2), a2.argmax())\r\n",
        "print('argmin:', np.argmin(a2), a2.argmin())"
      ],
      "execution_count": null,
      "outputs": [
        {
          "output_type": "stream",
          "text": [
            "[ 1 12  7 13  6 18  5 18 11 10]\n",
            "argmax: 5 5\n",
            "argmin: 0 0\n"
          ],
          "name": "stdout"
        }
      ]
    },
    {
      "cell_type": "code",
      "metadata": {
        "colab": {
          "base_uri": "https://localhost:8080/"
        },
        "id": "PfBcX5XzsntO",
        "outputId": "5df1437d-08b7-41db-aad2-c493fe806af1"
      },
      "source": [
        "# 0 이상 100 미만의 정수 10개로 이루어진 1-d ndarray를 생성\r\n",
        "np.random.seed(42)\r\n",
        "array = np.random.randint(0, 100, size=10)\r\n",
        "print(array)\r\n",
        "print(array.mean())  # np.mean(array)\r\n",
        "\r\n",
        "# array에서 원소들의 평균보다 큰 값으로 이루어진 1-d ndarray를 찾음.\r\n",
        "print(array[array > array.mean()])  # np.mean(array)"
      ],
      "execution_count": null,
      "outputs": [
        {
          "output_type": "stream",
          "text": [
            "[51 92 14 71 60 20 82 86 74 74]\n",
            "62.4 62.4\n",
            "[92 71 82 86 74 74]\n"
          ],
          "name": "stdout"
        }
      ]
    },
    {
      "cell_type": "code",
      "metadata": {
        "colab": {
          "base_uri": "https://localhost:8080/"
        },
        "id": "zXxpoxDIuaUN",
        "outputId": "95e5c666-1fe7-46dc-e630-9a132ba8cd73"
      },
      "source": [
        "# 2-d ndarray의 통계 관련 함수/메서드\r\n",
        "np.random.seed(1)\r\n",
        "array = np.random.randint(0, 10, size=(4, 5))\r\n",
        "print(array)\r\n",
        "\r\n",
        "# sum\r\n",
        "print(np.sum(array))  # array.sum()\r\n",
        "print(np.sum(array, axis=0))  #> 원소가 5개인 1-d ndarray\r\n",
        "print(np.sum(array, axis=1))  #> 원소가 4개인 1-d ndarray\r\n",
        "print(np.sum(array, axis=0, keepdims=True))\r\n",
        "print(np.sum(array, axis=1, keepdims=True))"
      ],
      "execution_count": null,
      "outputs": [
        {
          "output_type": "stream",
          "text": [
            "[[5 8 9 5 0]\n",
            " [0 1 7 6 9]\n",
            " [2 4 5 2 4]\n",
            " [2 4 7 7 9]]\n",
            "96\n",
            "[ 9 17 28 20 22]\n",
            "[27 23 17 29]\n",
            "[[ 9 17 28 20 22]]\n",
            "[[27]\n",
            " [23]\n",
            " [17]\n",
            " [29]]\n"
          ],
          "name": "stdout"
        }
      ]
    }
  ]
}