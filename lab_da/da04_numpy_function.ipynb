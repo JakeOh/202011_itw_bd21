{
  "nbformat": 4,
  "nbformat_minor": 0,
  "metadata": {
    "colab": {
      "name": "da04_numpy_function.ipynb",
      "provenance": [],
      "collapsed_sections": [],
      "authorship_tag": "ABX9TyOhVVbPI1gJ3VgeYlECJJsZ",
      "include_colab_link": true
    },
    "kernelspec": {
      "name": "python3",
      "display_name": "Python 3"
    }
  },
  "cells": [
    {
      "cell_type": "markdown",
      "metadata": {
        "id": "view-in-github",
        "colab_type": "text"
      },
      "source": [
        "<a href=\"https://colab.research.google.com/github/JakeOh/202011_itw_bd21/blob/main/lab_da/da04_numpy_function.ipynb\" target=\"_parent\"><img src=\"https://colab.research.google.com/assets/colab-badge.svg\" alt=\"Open In Colab\"/></a>"
      ]
    },
    {
      "cell_type": "code",
      "metadata": {
        "id": "7S1a0dtwe_uL"
      },
      "source": [
        "import numpy as np"
      ],
      "execution_count": 1,
      "outputs": []
    },
    {
      "cell_type": "markdown",
      "metadata": {
        "id": "vlMF5bL1fdfg"
      },
      "source": [
        "NumPy의 많은 기능들(합계, 평균, 표준편차, ...)은 함수와 ndarray 클래스의 메서드로 구현되어 있음.\r\n",
        "\r\n",
        "*   `np.function_name(ndarray, arg, ...)`\r\n",
        "*   `ndarray.method_name(arg, ...)`"
      ]
    },
    {
      "cell_type": "code",
      "metadata": {
        "colab": {
          "base_uri": "https://localhost:8080/"
        },
        "id": "36i7VyESfOCg",
        "outputId": "094473a1-3cfb-4a5e-86f4-7c22b14930c7"
      },
      "source": [
        "# 함수 정의\r\n",
        "def test_fn(arg):\r\n",
        "    print(f'Hello, {arg}!')\r\n",
        "\r\n",
        "# 함수 호출\r\n",
        "test_fn('function')"
      ],
      "execution_count": 2,
      "outputs": [
        {
          "output_type": "stream",
          "text": [
            "Hello, function!\n"
          ],
          "name": "stdout"
        }
      ]
    },
    {
      "cell_type": "code",
      "metadata": {
        "colab": {
          "base_uri": "https://localhost:8080/"
        },
        "id": "IRsajCnwgiWn",
        "outputId": "71f1290f-ebfa-4d7e-e56d-7b855c0c62db"
      },
      "source": [
        "# 클래스 정의\r\n",
        "class MyClass:\r\n",
        "    # 메서드 정의\r\n",
        "    def test_method(self, arg):\r\n",
        "        print(f'Hello, {arg}!')\r\n",
        "\r\n",
        "# MyClass 클래스의 인스턴스 생성\r\n",
        "cls = MyClass()\r\n",
        "# 인스턴스가 메서드를 호출\r\n",
        "cls.test_method('method')"
      ],
      "execution_count": 3,
      "outputs": [
        {
          "output_type": "stream",
          "text": [
            "Hello, method!\n"
          ],
          "name": "stdout"
        }
      ]
    },
    {
      "cell_type": "code",
      "metadata": {
        "colab": {
          "base_uri": "https://localhost:8080/"
        },
        "id": "3zgykTrnh7Z3",
        "outputId": "59e78fb3-c7aa-4865-82d7-60e4ae77d53d"
      },
      "source": [
        "arr = np.arange(1, 11)\r\n",
        "print(arr)"
      ],
      "execution_count": 4,
      "outputs": [
        {
          "output_type": "stream",
          "text": [
            "[ 1  2  3  4  5  6  7  8  9 10]\n"
          ],
          "name": "stdout"
        }
      ]
    },
    {
      "cell_type": "code",
      "metadata": {
        "colab": {
          "base_uri": "https://localhost:8080/"
        },
        "id": "Qop5H6ZTiFC2",
        "outputId": "92339f71-a655-494c-afbd-4c3735a7ee75"
      },
      "source": [
        "np.sum(arr)  # 함수 호출"
      ],
      "execution_count": 5,
      "outputs": [
        {
          "output_type": "execute_result",
          "data": {
            "text/plain": [
              "55"
            ]
          },
          "metadata": {
            "tags": []
          },
          "execution_count": 5
        }
      ]
    },
    {
      "cell_type": "code",
      "metadata": {
        "colab": {
          "base_uri": "https://localhost:8080/"
        },
        "id": "J6H4-CqpiSIX",
        "outputId": "51fafc6c-359a-4140-e1b4-0e7e9d64b534"
      },
      "source": [
        "arr.sum()  # ndarray 객체의 메서드를 호출"
      ],
      "execution_count": 6,
      "outputs": [
        {
          "output_type": "execute_result",
          "data": {
            "text/plain": [
              "55"
            ]
          },
          "metadata": {
            "tags": []
          },
          "execution_count": 6
        }
      ]
    }
  ]
}