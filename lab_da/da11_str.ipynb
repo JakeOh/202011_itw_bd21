{
  "nbformat": 4,
  "nbformat_minor": 0,
  "metadata": {
    "colab": {
      "name": "da11_str.ipynb",
      "provenance": [],
      "collapsed_sections": [],
      "authorship_tag": "ABX9TyNQdb/dh63lfwFofU3YNoQh",
      "include_colab_link": true
    },
    "kernelspec": {
      "name": "python3",
      "display_name": "Python 3"
    }
  },
  "cells": [
    {
      "cell_type": "markdown",
      "metadata": {
        "id": "view-in-github",
        "colab_type": "text"
      },
      "source": [
        "<a href=\"https://colab.research.google.com/github/JakeOh/202011_itw_bd21/blob/main/lab_da/da11_str.ipynb\" target=\"_parent\"><img src=\"https://colab.research.google.com/assets/colab-badge.svg\" alt=\"Open In Colab\"/></a>"
      ]
    },
    {
      "cell_type": "markdown",
      "metadata": {
        "id": "9TEcBShcCjN-"
      },
      "source": [
        "DataFrame의 문자열 데이터 컬럼 다루기"
      ]
    },
    {
      "cell_type": "code",
      "metadata": {
        "id": "3rDacHtyCddE"
      },
      "source": [
        "import pandas as pd"
      ],
      "execution_count": 1,
      "outputs": []
    },
    {
      "cell_type": "code",
      "metadata": {
        "id": "WvPJrJhjEjcl"
      },
      "source": [
        "file_path = 'https://github.com/wesm/pydata-book/raw/2nd-edition/datasets/movielens/movies.dat'"
      ],
      "execution_count": 2,
      "outputs": []
    },
    {
      "cell_type": "code",
      "metadata": {
        "id": "tloIz4Y8E0lQ"
      },
      "source": [
        "movies = pd.read_csv(file_path, \r\n",
        "                     sep='::',           # 구분자\r\n",
        "                     encoding='cp1252',  # 영문 MS Windows에서 작성된 텍스트 파일 인코딩 타입\r\n",
        "                     header=None,        # 파일의 첫번째 라인부터 데이터. 헤더 정보 없음.\r\n",
        "                     names=['movie_id', 'title', 'genres'],  # 컬럼 이름 설정.\r\n",
        "                     engine='python')    # ParserWarning을 제거\r\n",
        "# 한글 MS Windows의 기본 인코딩: cp949"
      ],
      "execution_count": 11,
      "outputs": []
    },
    {
      "cell_type": "code",
      "metadata": {
        "colab": {
          "base_uri": "https://localhost:8080/",
          "height": 214
        },
        "id": "TxNnBOohGZ9l",
        "outputId": "1c143d5f-cf39-4fe4-83ae-fb0326126e9e"
      },
      "source": [
        "movies.head()"
      ],
      "execution_count": 12,
      "outputs": [
        {
          "output_type": "execute_result",
          "data": {
            "text/html": [
              "<div>\n",
              "<style scoped>\n",
              "    .dataframe tbody tr th:only-of-type {\n",
              "        vertical-align: middle;\n",
              "    }\n",
              "\n",
              "    .dataframe tbody tr th {\n",
              "        vertical-align: top;\n",
              "    }\n",
              "\n",
              "    .dataframe thead th {\n",
              "        text-align: right;\n",
              "    }\n",
              "</style>\n",
              "<table border=\"1\" class=\"dataframe\">\n",
              "  <thead>\n",
              "    <tr style=\"text-align: right;\">\n",
              "      <th></th>\n",
              "      <th>movie_id</th>\n",
              "      <th>title</th>\n",
              "      <th>genres</th>\n",
              "    </tr>\n",
              "  </thead>\n",
              "  <tbody>\n",
              "    <tr>\n",
              "      <th>0</th>\n",
              "      <td>1</td>\n",
              "      <td>Toy Story (1995)</td>\n",
              "      <td>Animation|Children's|Comedy</td>\n",
              "    </tr>\n",
              "    <tr>\n",
              "      <th>1</th>\n",
              "      <td>2</td>\n",
              "      <td>Jumanji (1995)</td>\n",
              "      <td>Adventure|Children's|Fantasy</td>\n",
              "    </tr>\n",
              "    <tr>\n",
              "      <th>2</th>\n",
              "      <td>3</td>\n",
              "      <td>Grumpier Old Men (1995)</td>\n",
              "      <td>Comedy|Romance</td>\n",
              "    </tr>\n",
              "    <tr>\n",
              "      <th>3</th>\n",
              "      <td>4</td>\n",
              "      <td>Waiting to Exhale (1995)</td>\n",
              "      <td>Comedy|Drama</td>\n",
              "    </tr>\n",
              "    <tr>\n",
              "      <th>4</th>\n",
              "      <td>5</td>\n",
              "      <td>Father of the Bride Part II (1995)</td>\n",
              "      <td>Comedy</td>\n",
              "    </tr>\n",
              "  </tbody>\n",
              "</table>\n",
              "</div>"
            ],
            "text/plain": [
              "   movie_id                               title                        genres\n",
              "0         1                    Toy Story (1995)   Animation|Children's|Comedy\n",
              "1         2                      Jumanji (1995)  Adventure|Children's|Fantasy\n",
              "2         3             Grumpier Old Men (1995)                Comedy|Romance\n",
              "3         4            Waiting to Exhale (1995)                  Comedy|Drama\n",
              "4         5  Father of the Bride Part II (1995)                        Comedy"
            ]
          },
          "metadata": {
            "tags": []
          },
          "execution_count": 12
        }
      ]
    },
    {
      "cell_type": "code",
      "metadata": {
        "colab": {
          "base_uri": "https://localhost:8080/",
          "height": 214
        },
        "id": "K3xNs_yVHkR1",
        "outputId": "82266202-1ce7-4d12-cfe3-6f7e5f8454c7"
      },
      "source": [
        "movies.tail()"
      ],
      "execution_count": 13,
      "outputs": [
        {
          "output_type": "execute_result",
          "data": {
            "text/html": [
              "<div>\n",
              "<style scoped>\n",
              "    .dataframe tbody tr th:only-of-type {\n",
              "        vertical-align: middle;\n",
              "    }\n",
              "\n",
              "    .dataframe tbody tr th {\n",
              "        vertical-align: top;\n",
              "    }\n",
              "\n",
              "    .dataframe thead th {\n",
              "        text-align: right;\n",
              "    }\n",
              "</style>\n",
              "<table border=\"1\" class=\"dataframe\">\n",
              "  <thead>\n",
              "    <tr style=\"text-align: right;\">\n",
              "      <th></th>\n",
              "      <th>movie_id</th>\n",
              "      <th>title</th>\n",
              "      <th>genres</th>\n",
              "    </tr>\n",
              "  </thead>\n",
              "  <tbody>\n",
              "    <tr>\n",
              "      <th>3878</th>\n",
              "      <td>3948</td>\n",
              "      <td>Meet the Parents (2000)</td>\n",
              "      <td>Comedy</td>\n",
              "    </tr>\n",
              "    <tr>\n",
              "      <th>3879</th>\n",
              "      <td>3949</td>\n",
              "      <td>Requiem for a Dream (2000)</td>\n",
              "      <td>Drama</td>\n",
              "    </tr>\n",
              "    <tr>\n",
              "      <th>3880</th>\n",
              "      <td>3950</td>\n",
              "      <td>Tigerland (2000)</td>\n",
              "      <td>Drama</td>\n",
              "    </tr>\n",
              "    <tr>\n",
              "      <th>3881</th>\n",
              "      <td>3951</td>\n",
              "      <td>Two Family House (2000)</td>\n",
              "      <td>Drama</td>\n",
              "    </tr>\n",
              "    <tr>\n",
              "      <th>3882</th>\n",
              "      <td>3952</td>\n",
              "      <td>Contender, The (2000)</td>\n",
              "      <td>Drama|Thriller</td>\n",
              "    </tr>\n",
              "  </tbody>\n",
              "</table>\n",
              "</div>"
            ],
            "text/plain": [
              "      movie_id                       title          genres\n",
              "3878      3948     Meet the Parents (2000)          Comedy\n",
              "3879      3949  Requiem for a Dream (2000)           Drama\n",
              "3880      3950            Tigerland (2000)           Drama\n",
              "3881      3951     Two Family House (2000)           Drama\n",
              "3882      3952       Contender, The (2000)  Drama|Thriller"
            ]
          },
          "metadata": {
            "tags": []
          },
          "execution_count": 13
        }
      ]
    },
    {
      "cell_type": "code",
      "metadata": {
        "colab": {
          "base_uri": "https://localhost:8080/"
        },
        "id": "bKTeess2IAok",
        "outputId": "38d3d9be-5c1e-414f-9123-1f9aa6a074a3"
      },
      "source": [
        "movies.shape"
      ],
      "execution_count": 14,
      "outputs": [
        {
          "output_type": "execute_result",
          "data": {
            "text/plain": [
              "(3883, 3)"
            ]
          },
          "metadata": {
            "tags": []
          },
          "execution_count": 14
        }
      ]
    },
    {
      "cell_type": "code",
      "metadata": {
        "colab": {
          "base_uri": "https://localhost:8080/"
        },
        "id": "ZcAH4M4ZIHi0",
        "outputId": "7d382fd7-8667-4699-a361-61b9758b0c5b"
      },
      "source": [
        "# 장르가 Animation인 영화 몇 개? (hint: str.contains() 사용)\r\n",
        "animations = movies[movies['genres'].str.contains('Animation')]\r\n",
        "len(animations)"
      ],
      "execution_count": 15,
      "outputs": [
        {
          "output_type": "execute_result",
          "data": {
            "text/plain": [
              "105"
            ]
          },
          "metadata": {
            "tags": []
          },
          "execution_count": 15
        }
      ]
    },
    {
      "cell_type": "code",
      "metadata": {
        "colab": {
          "base_uri": "https://localhost:8080/",
          "height": 441
        },
        "id": "idmxfYs7JXT7",
        "outputId": "efee93b1-8c62-4308-eb36-c567940e6bf5"
      },
      "source": [
        "animations"
      ],
      "execution_count": 17,
      "outputs": [
        {
          "output_type": "execute_result",
          "data": {
            "text/html": [
              "<div>\n",
              "<style scoped>\n",
              "    .dataframe tbody tr th:only-of-type {\n",
              "        vertical-align: middle;\n",
              "    }\n",
              "\n",
              "    .dataframe tbody tr th {\n",
              "        vertical-align: top;\n",
              "    }\n",
              "\n",
              "    .dataframe thead th {\n",
              "        text-align: right;\n",
              "    }\n",
              "</style>\n",
              "<table border=\"1\" class=\"dataframe\">\n",
              "  <thead>\n",
              "    <tr style=\"text-align: right;\">\n",
              "      <th></th>\n",
              "      <th>movie_id</th>\n",
              "      <th>title</th>\n",
              "      <th>genres</th>\n",
              "    </tr>\n",
              "  </thead>\n",
              "  <tbody>\n",
              "    <tr>\n",
              "      <th>0</th>\n",
              "      <td>1</td>\n",
              "      <td>Toy Story (1995)</td>\n",
              "      <td>Animation|Children's|Comedy</td>\n",
              "    </tr>\n",
              "    <tr>\n",
              "      <th>12</th>\n",
              "      <td>13</td>\n",
              "      <td>Balto (1995)</td>\n",
              "      <td>Animation|Children's</td>\n",
              "    </tr>\n",
              "    <tr>\n",
              "      <th>47</th>\n",
              "      <td>48</td>\n",
              "      <td>Pocahontas (1995)</td>\n",
              "      <td>Animation|Children's|Musical|Romance</td>\n",
              "    </tr>\n",
              "    <tr>\n",
              "      <th>236</th>\n",
              "      <td>239</td>\n",
              "      <td>Goofy Movie, A (1995)</td>\n",
              "      <td>Animation|Children's|Comedy|Romance</td>\n",
              "    </tr>\n",
              "    <tr>\n",
              "      <th>241</th>\n",
              "      <td>244</td>\n",
              "      <td>Gumby: The Movie (1995)</td>\n",
              "      <td>Animation|Children's</td>\n",
              "    </tr>\n",
              "    <tr>\n",
              "      <th>...</th>\n",
              "      <td>...</td>\n",
              "      <td>...</td>\n",
              "      <td>...</td>\n",
              "    </tr>\n",
              "    <tr>\n",
              "      <th>3690</th>\n",
              "      <td>3759</td>\n",
              "      <td>Fun and Fancy Free (1947)</td>\n",
              "      <td>Animation|Children's|Musical</td>\n",
              "    </tr>\n",
              "    <tr>\n",
              "      <th>3706</th>\n",
              "      <td>3775</td>\n",
              "      <td>Make Mine Music (1946)</td>\n",
              "      <td>Animation|Children's|Musical</td>\n",
              "    </tr>\n",
              "    <tr>\n",
              "      <th>3707</th>\n",
              "      <td>3776</td>\n",
              "      <td>Melody Time (1948)</td>\n",
              "      <td>Animation|Children's|Musical</td>\n",
              "    </tr>\n",
              "    <tr>\n",
              "      <th>3730</th>\n",
              "      <td>3799</td>\n",
              "      <td>Pokémon the Movie 2000 (2000)</td>\n",
              "      <td>Animation|Children's</td>\n",
              "    </tr>\n",
              "    <tr>\n",
              "      <th>3875</th>\n",
              "      <td>3945</td>\n",
              "      <td>Digimon: The Movie (2000)</td>\n",
              "      <td>Adventure|Animation|Children's</td>\n",
              "    </tr>\n",
              "  </tbody>\n",
              "</table>\n",
              "<p>105 rows × 3 columns</p>\n",
              "</div>"
            ],
            "text/plain": [
              "      movie_id  ...                                genres\n",
              "0            1  ...           Animation|Children's|Comedy\n",
              "12          13  ...                  Animation|Children's\n",
              "47          48  ...  Animation|Children's|Musical|Romance\n",
              "236        239  ...   Animation|Children's|Comedy|Romance\n",
              "241        244  ...                  Animation|Children's\n",
              "...        ...  ...                                   ...\n",
              "3690      3759  ...          Animation|Children's|Musical\n",
              "3706      3775  ...          Animation|Children's|Musical\n",
              "3707      3776  ...          Animation|Children's|Musical\n",
              "3730      3799  ...                  Animation|Children's\n",
              "3875      3945  ...        Adventure|Animation|Children's\n",
              "\n",
              "[105 rows x 3 columns]"
            ]
          },
          "metadata": {
            "tags": []
          },
          "execution_count": 17
        }
      ]
    },
    {
      "cell_type": "code",
      "metadata": {
        "colab": {
          "base_uri": "https://localhost:8080/"
        },
        "id": "FVQkwFIpKHtV",
        "outputId": "46ffe6d4-47ee-47ef-8bff-9afaec5496dc"
      },
      "source": [
        "# 장르가 로맨틱 코미디(Romance & Comedy)인 영화는 몇 개?\r\n",
        "romance_comedy = movies[movies['genres'].str.contains('Romance') &\r\n",
        "                        movies['genres'].str.contains('Comedy')]\r\n",
        "len(romance_comedy)"
      ],
      "execution_count": 18,
      "outputs": [
        {
          "output_type": "execute_result",
          "data": {
            "text/plain": [
              "204"
            ]
          },
          "metadata": {
            "tags": []
          },
          "execution_count": 18
        }
      ]
    },
    {
      "cell_type": "code",
      "metadata": {
        "colab": {
          "base_uri": "https://localhost:8080/",
          "height": 441
        },
        "id": "3fgjSfNpLJb0",
        "outputId": "2d6bc3a8-cb7e-4f75-c6e2-60387ed0324e"
      },
      "source": [
        "romance_comedy"
      ],
      "execution_count": 19,
      "outputs": [
        {
          "output_type": "execute_result",
          "data": {
            "text/html": [
              "<div>\n",
              "<style scoped>\n",
              "    .dataframe tbody tr th:only-of-type {\n",
              "        vertical-align: middle;\n",
              "    }\n",
              "\n",
              "    .dataframe tbody tr th {\n",
              "        vertical-align: top;\n",
              "    }\n",
              "\n",
              "    .dataframe thead th {\n",
              "        text-align: right;\n",
              "    }\n",
              "</style>\n",
              "<table border=\"1\" class=\"dataframe\">\n",
              "  <thead>\n",
              "    <tr style=\"text-align: right;\">\n",
              "      <th></th>\n",
              "      <th>movie_id</th>\n",
              "      <th>title</th>\n",
              "      <th>genres</th>\n",
              "    </tr>\n",
              "  </thead>\n",
              "  <tbody>\n",
              "    <tr>\n",
              "      <th>2</th>\n",
              "      <td>3</td>\n",
              "      <td>Grumpier Old Men (1995)</td>\n",
              "      <td>Comedy|Romance</td>\n",
              "    </tr>\n",
              "    <tr>\n",
              "      <th>6</th>\n",
              "      <td>7</td>\n",
              "      <td>Sabrina (1995)</td>\n",
              "      <td>Comedy|Romance</td>\n",
              "    </tr>\n",
              "    <tr>\n",
              "      <th>10</th>\n",
              "      <td>11</td>\n",
              "      <td>American President, The (1995)</td>\n",
              "      <td>Comedy|Drama|Romance</td>\n",
              "    </tr>\n",
              "    <tr>\n",
              "      <th>38</th>\n",
              "      <td>39</td>\n",
              "      <td>Clueless (1995)</td>\n",
              "      <td>Comedy|Romance</td>\n",
              "    </tr>\n",
              "    <tr>\n",
              "      <th>63</th>\n",
              "      <td>64</td>\n",
              "      <td>Two if by Sea (1996)</td>\n",
              "      <td>Comedy|Romance</td>\n",
              "    </tr>\n",
              "    <tr>\n",
              "      <th>...</th>\n",
              "      <td>...</td>\n",
              "      <td>...</td>\n",
              "      <td>...</td>\n",
              "    </tr>\n",
              "    <tr>\n",
              "      <th>3679</th>\n",
              "      <td>3748</td>\n",
              "      <td>Match, The (1999)</td>\n",
              "      <td>Comedy|Romance</td>\n",
              "    </tr>\n",
              "    <tr>\n",
              "      <th>3759</th>\n",
              "      <td>3829</td>\n",
              "      <td>Mad About Mambo (2000)</td>\n",
              "      <td>Comedy|Romance</td>\n",
              "    </tr>\n",
              "    <tr>\n",
              "      <th>3804</th>\n",
              "      <td>3874</td>\n",
              "      <td>Couch in New York, A (1996)</td>\n",
              "      <td>Comedy|Romance</td>\n",
              "    </tr>\n",
              "    <tr>\n",
              "      <th>3815</th>\n",
              "      <td>3885</td>\n",
              "      <td>Love &amp; Sex (2000)</td>\n",
              "      <td>Comedy|Romance</td>\n",
              "    </tr>\n",
              "    <tr>\n",
              "      <th>3839</th>\n",
              "      <td>3909</td>\n",
              "      <td>Woman on Top (2000)</td>\n",
              "      <td>Comedy|Romance</td>\n",
              "    </tr>\n",
              "  </tbody>\n",
              "</table>\n",
              "<p>204 rows × 3 columns</p>\n",
              "</div>"
            ],
            "text/plain": [
              "      movie_id                           title                genres\n",
              "2            3         Grumpier Old Men (1995)        Comedy|Romance\n",
              "6            7                  Sabrina (1995)        Comedy|Romance\n",
              "10          11  American President, The (1995)  Comedy|Drama|Romance\n",
              "38          39                 Clueless (1995)        Comedy|Romance\n",
              "63          64            Two if by Sea (1996)        Comedy|Romance\n",
              "...        ...                             ...                   ...\n",
              "3679      3748               Match, The (1999)        Comedy|Romance\n",
              "3759      3829          Mad About Mambo (2000)        Comedy|Romance\n",
              "3804      3874     Couch in New York, A (1996)        Comedy|Romance\n",
              "3815      3885               Love & Sex (2000)        Comedy|Romance\n",
              "3839      3909             Woman on Top (2000)        Comedy|Romance\n",
              "\n",
              "[204 rows x 3 columns]"
            ]
          },
          "metadata": {
            "tags": []
          },
          "execution_count": 19
        }
      ]
    },
    {
      "cell_type": "code",
      "metadata": {
        "colab": {
          "base_uri": "https://localhost:8080/"
        },
        "id": "KwdswlBMO-aD",
        "outputId": "80ad5983-4379-44d2-a5df-a41165650a53"
      },
      "source": [
        "# movies[movies['genres'].str.contains('Romance' or 'Comedy')]\r\n",
        "print('Romance' or 'Comedy')\r\n",
        "print('Romance' and 'Comedy')"
      ],
      "execution_count": 24,
      "outputs": [
        {
          "output_type": "stream",
          "text": [
            "Romance\n",
            "Comedy\n"
          ],
          "name": "stdout"
        }
      ]
    },
    {
      "cell_type": "code",
      "metadata": {
        "colab": {
          "base_uri": "https://localhost:8080/",
          "height": 441
        },
        "id": "A-tkLBavRu5N",
        "outputId": "d7abf1b9-5ca5-40bb-c644-de4f76a3079c"
      },
      "source": [
        "# movies[movies['genres'].str.contains('Romance' or 'Comedy')]\r\n",
        "movies[movies['genres'].str.contains('Romance')]"
      ],
      "execution_count": 26,
      "outputs": [
        {
          "output_type": "execute_result",
          "data": {
            "text/html": [
              "<div>\n",
              "<style scoped>\n",
              "    .dataframe tbody tr th:only-of-type {\n",
              "        vertical-align: middle;\n",
              "    }\n",
              "\n",
              "    .dataframe tbody tr th {\n",
              "        vertical-align: top;\n",
              "    }\n",
              "\n",
              "    .dataframe thead th {\n",
              "        text-align: right;\n",
              "    }\n",
              "</style>\n",
              "<table border=\"1\" class=\"dataframe\">\n",
              "  <thead>\n",
              "    <tr style=\"text-align: right;\">\n",
              "      <th></th>\n",
              "      <th>movie_id</th>\n",
              "      <th>title</th>\n",
              "      <th>genres</th>\n",
              "    </tr>\n",
              "  </thead>\n",
              "  <tbody>\n",
              "    <tr>\n",
              "      <th>2</th>\n",
              "      <td>3</td>\n",
              "      <td>Grumpier Old Men (1995)</td>\n",
              "      <td>Comedy|Romance</td>\n",
              "    </tr>\n",
              "    <tr>\n",
              "      <th>6</th>\n",
              "      <td>7</td>\n",
              "      <td>Sabrina (1995)</td>\n",
              "      <td>Comedy|Romance</td>\n",
              "    </tr>\n",
              "    <tr>\n",
              "      <th>10</th>\n",
              "      <td>11</td>\n",
              "      <td>American President, The (1995)</td>\n",
              "      <td>Comedy|Drama|Romance</td>\n",
              "    </tr>\n",
              "    <tr>\n",
              "      <th>14</th>\n",
              "      <td>15</td>\n",
              "      <td>Cutthroat Island (1995)</td>\n",
              "      <td>Action|Adventure|Romance</td>\n",
              "    </tr>\n",
              "    <tr>\n",
              "      <th>16</th>\n",
              "      <td>17</td>\n",
              "      <td>Sense and Sensibility (1995)</td>\n",
              "      <td>Drama|Romance</td>\n",
              "    </tr>\n",
              "    <tr>\n",
              "      <th>...</th>\n",
              "      <td>...</td>\n",
              "      <td>...</td>\n",
              "      <td>...</td>\n",
              "    </tr>\n",
              "    <tr>\n",
              "      <th>3785</th>\n",
              "      <td>3855</td>\n",
              "      <td>Affair of Love, An (Une Liaison Pornographique...</td>\n",
              "      <td>Drama|Romance</td>\n",
              "    </tr>\n",
              "    <tr>\n",
              "      <th>3804</th>\n",
              "      <td>3874</td>\n",
              "      <td>Couch in New York, A (1996)</td>\n",
              "      <td>Comedy|Romance</td>\n",
              "    </tr>\n",
              "    <tr>\n",
              "      <th>3815</th>\n",
              "      <td>3885</td>\n",
              "      <td>Love &amp; Sex (2000)</td>\n",
              "      <td>Comedy|Romance</td>\n",
              "    </tr>\n",
              "    <tr>\n",
              "      <th>3818</th>\n",
              "      <td>3888</td>\n",
              "      <td>Skipped Parts (2000)</td>\n",
              "      <td>Drama|Romance</td>\n",
              "    </tr>\n",
              "    <tr>\n",
              "      <th>3839</th>\n",
              "      <td>3909</td>\n",
              "      <td>Woman on Top (2000)</td>\n",
              "      <td>Comedy|Romance</td>\n",
              "    </tr>\n",
              "  </tbody>\n",
              "</table>\n",
              "<p>471 rows × 3 columns</p>\n",
              "</div>"
            ],
            "text/plain": [
              "      movie_id  ...                    genres\n",
              "2            3  ...            Comedy|Romance\n",
              "6            7  ...            Comedy|Romance\n",
              "10          11  ...      Comedy|Drama|Romance\n",
              "14          15  ...  Action|Adventure|Romance\n",
              "16          17  ...             Drama|Romance\n",
              "...        ...  ...                       ...\n",
              "3785      3855  ...             Drama|Romance\n",
              "3804      3874  ...            Comedy|Romance\n",
              "3815      3885  ...            Comedy|Romance\n",
              "3818      3888  ...             Drama|Romance\n",
              "3839      3909  ...            Comedy|Romance\n",
              "\n",
              "[471 rows x 3 columns]"
            ]
          },
          "metadata": {
            "tags": []
          },
          "execution_count": 26
        }
      ]
    },
    {
      "cell_type": "code",
      "metadata": {
        "colab": {
          "base_uri": "https://localhost:8080/",
          "height": 441
        },
        "id": "gNjUVrn7R2a8",
        "outputId": "9f3785a2-d086-49cd-9209-71a775799b51"
      },
      "source": [
        "# movies[movies['genres'].str.contains('Romance' and 'Comedy')]\r\n",
        "movies[movies['genres'].str.contains('Comedy')]"
      ],
      "execution_count": 28,
      "outputs": [
        {
          "output_type": "execute_result",
          "data": {
            "text/html": [
              "<div>\n",
              "<style scoped>\n",
              "    .dataframe tbody tr th:only-of-type {\n",
              "        vertical-align: middle;\n",
              "    }\n",
              "\n",
              "    .dataframe tbody tr th {\n",
              "        vertical-align: top;\n",
              "    }\n",
              "\n",
              "    .dataframe thead th {\n",
              "        text-align: right;\n",
              "    }\n",
              "</style>\n",
              "<table border=\"1\" class=\"dataframe\">\n",
              "  <thead>\n",
              "    <tr style=\"text-align: right;\">\n",
              "      <th></th>\n",
              "      <th>movie_id</th>\n",
              "      <th>title</th>\n",
              "      <th>genres</th>\n",
              "    </tr>\n",
              "  </thead>\n",
              "  <tbody>\n",
              "    <tr>\n",
              "      <th>0</th>\n",
              "      <td>1</td>\n",
              "      <td>Toy Story (1995)</td>\n",
              "      <td>Animation|Children's|Comedy</td>\n",
              "    </tr>\n",
              "    <tr>\n",
              "      <th>2</th>\n",
              "      <td>3</td>\n",
              "      <td>Grumpier Old Men (1995)</td>\n",
              "      <td>Comedy|Romance</td>\n",
              "    </tr>\n",
              "    <tr>\n",
              "      <th>3</th>\n",
              "      <td>4</td>\n",
              "      <td>Waiting to Exhale (1995)</td>\n",
              "      <td>Comedy|Drama</td>\n",
              "    </tr>\n",
              "    <tr>\n",
              "      <th>4</th>\n",
              "      <td>5</td>\n",
              "      <td>Father of the Bride Part II (1995)</td>\n",
              "      <td>Comedy</td>\n",
              "    </tr>\n",
              "    <tr>\n",
              "      <th>6</th>\n",
              "      <td>7</td>\n",
              "      <td>Sabrina (1995)</td>\n",
              "      <td>Comedy|Romance</td>\n",
              "    </tr>\n",
              "    <tr>\n",
              "      <th>...</th>\n",
              "      <td>...</td>\n",
              "      <td>...</td>\n",
              "      <td>...</td>\n",
              "    </tr>\n",
              "    <tr>\n",
              "      <th>3858</th>\n",
              "      <td>3928</td>\n",
              "      <td>Abbott and Costello Meet Frankenstein (1948)</td>\n",
              "      <td>Comedy|Horror</td>\n",
              "    </tr>\n",
              "    <tr>\n",
              "      <th>3859</th>\n",
              "      <td>3929</td>\n",
              "      <td>Bank Dick, The (1940)</td>\n",
              "      <td>Comedy</td>\n",
              "    </tr>\n",
              "    <tr>\n",
              "      <th>3873</th>\n",
              "      <td>3943</td>\n",
              "      <td>Bamboozled (2000)</td>\n",
              "      <td>Comedy</td>\n",
              "    </tr>\n",
              "    <tr>\n",
              "      <th>3874</th>\n",
              "      <td>3944</td>\n",
              "      <td>Bootmen (2000)</td>\n",
              "      <td>Comedy|Drama</td>\n",
              "    </tr>\n",
              "    <tr>\n",
              "      <th>3878</th>\n",
              "      <td>3948</td>\n",
              "      <td>Meet the Parents (2000)</td>\n",
              "      <td>Comedy</td>\n",
              "    </tr>\n",
              "  </tbody>\n",
              "</table>\n",
              "<p>1200 rows × 3 columns</p>\n",
              "</div>"
            ],
            "text/plain": [
              "      movie_id  ...                       genres\n",
              "0            1  ...  Animation|Children's|Comedy\n",
              "2            3  ...               Comedy|Romance\n",
              "3            4  ...                 Comedy|Drama\n",
              "4            5  ...                       Comedy\n",
              "6            7  ...               Comedy|Romance\n",
              "...        ...  ...                          ...\n",
              "3858      3928  ...                Comedy|Horror\n",
              "3859      3929  ...                       Comedy\n",
              "3873      3943  ...                       Comedy\n",
              "3874      3944  ...                 Comedy|Drama\n",
              "3878      3948  ...                       Comedy\n",
              "\n",
              "[1200 rows x 3 columns]"
            ]
          },
          "metadata": {
            "tags": []
          },
          "execution_count": 28
        }
      ]
    },
    {
      "cell_type": "code",
      "metadata": {
        "colab": {
          "base_uri": "https://localhost:8080/",
          "height": 38
        },
        "id": "UT_rMQQrSvrJ",
        "outputId": "0c3785a4-9610-4c3b-8d7d-bd7825e3c125"
      },
      "source": [
        "# movies 데이터 프레임에 year 컬럼(파생변수) 추가 - 영화 개봉 연도를 int 타입으로 저장\r\n",
        "title = 'Meet the Parents (2000)'\r\n",
        "title[-5:-1]  # 문자열 slicing"
      ],
      "execution_count": 33,
      "outputs": [
        {
          "output_type": "execute_result",
          "data": {
            "application/vnd.google.colaboratory.intrinsic+json": {
              "type": "string"
            },
            "text/plain": [
              "'2000'"
            ]
          },
          "metadata": {
            "tags": []
          },
          "execution_count": 33
        }
      ]
    },
    {
      "cell_type": "code",
      "metadata": {
        "colab": {
          "base_uri": "https://localhost:8080/",
          "height": 441
        },
        "id": "pvrhNyV_Vl55",
        "outputId": "90cb5cf6-8afd-4a23-baaa-f2e91ba3b2e1"
      },
      "source": [
        "movies['year'] = movies['title'].str[-5:-1]\r\n",
        "movies"
      ],
      "execution_count": 34,
      "outputs": [
        {
          "output_type": "execute_result",
          "data": {
            "text/html": [
              "<div>\n",
              "<style scoped>\n",
              "    .dataframe tbody tr th:only-of-type {\n",
              "        vertical-align: middle;\n",
              "    }\n",
              "\n",
              "    .dataframe tbody tr th {\n",
              "        vertical-align: top;\n",
              "    }\n",
              "\n",
              "    .dataframe thead th {\n",
              "        text-align: right;\n",
              "    }\n",
              "</style>\n",
              "<table border=\"1\" class=\"dataframe\">\n",
              "  <thead>\n",
              "    <tr style=\"text-align: right;\">\n",
              "      <th></th>\n",
              "      <th>movie_id</th>\n",
              "      <th>title</th>\n",
              "      <th>genres</th>\n",
              "      <th>year</th>\n",
              "    </tr>\n",
              "  </thead>\n",
              "  <tbody>\n",
              "    <tr>\n",
              "      <th>0</th>\n",
              "      <td>1</td>\n",
              "      <td>Toy Story (1995)</td>\n",
              "      <td>Animation|Children's|Comedy</td>\n",
              "      <td>1995</td>\n",
              "    </tr>\n",
              "    <tr>\n",
              "      <th>1</th>\n",
              "      <td>2</td>\n",
              "      <td>Jumanji (1995)</td>\n",
              "      <td>Adventure|Children's|Fantasy</td>\n",
              "      <td>1995</td>\n",
              "    </tr>\n",
              "    <tr>\n",
              "      <th>2</th>\n",
              "      <td>3</td>\n",
              "      <td>Grumpier Old Men (1995)</td>\n",
              "      <td>Comedy|Romance</td>\n",
              "      <td>1995</td>\n",
              "    </tr>\n",
              "    <tr>\n",
              "      <th>3</th>\n",
              "      <td>4</td>\n",
              "      <td>Waiting to Exhale (1995)</td>\n",
              "      <td>Comedy|Drama</td>\n",
              "      <td>1995</td>\n",
              "    </tr>\n",
              "    <tr>\n",
              "      <th>4</th>\n",
              "      <td>5</td>\n",
              "      <td>Father of the Bride Part II (1995)</td>\n",
              "      <td>Comedy</td>\n",
              "      <td>1995</td>\n",
              "    </tr>\n",
              "    <tr>\n",
              "      <th>...</th>\n",
              "      <td>...</td>\n",
              "      <td>...</td>\n",
              "      <td>...</td>\n",
              "      <td>...</td>\n",
              "    </tr>\n",
              "    <tr>\n",
              "      <th>3878</th>\n",
              "      <td>3948</td>\n",
              "      <td>Meet the Parents (2000)</td>\n",
              "      <td>Comedy</td>\n",
              "      <td>2000</td>\n",
              "    </tr>\n",
              "    <tr>\n",
              "      <th>3879</th>\n",
              "      <td>3949</td>\n",
              "      <td>Requiem for a Dream (2000)</td>\n",
              "      <td>Drama</td>\n",
              "      <td>2000</td>\n",
              "    </tr>\n",
              "    <tr>\n",
              "      <th>3880</th>\n",
              "      <td>3950</td>\n",
              "      <td>Tigerland (2000)</td>\n",
              "      <td>Drama</td>\n",
              "      <td>2000</td>\n",
              "    </tr>\n",
              "    <tr>\n",
              "      <th>3881</th>\n",
              "      <td>3951</td>\n",
              "      <td>Two Family House (2000)</td>\n",
              "      <td>Drama</td>\n",
              "      <td>2000</td>\n",
              "    </tr>\n",
              "    <tr>\n",
              "      <th>3882</th>\n",
              "      <td>3952</td>\n",
              "      <td>Contender, The (2000)</td>\n",
              "      <td>Drama|Thriller</td>\n",
              "      <td>2000</td>\n",
              "    </tr>\n",
              "  </tbody>\n",
              "</table>\n",
              "<p>3883 rows × 4 columns</p>\n",
              "</div>"
            ],
            "text/plain": [
              "      movie_id  ...  year\n",
              "0            1  ...  1995\n",
              "1            2  ...  1995\n",
              "2            3  ...  1995\n",
              "3            4  ...  1995\n",
              "4            5  ...  1995\n",
              "...        ...  ...   ...\n",
              "3878      3948  ...  2000\n",
              "3879      3949  ...  2000\n",
              "3880      3950  ...  2000\n",
              "3881      3951  ...  2000\n",
              "3882      3952  ...  2000\n",
              "\n",
              "[3883 rows x 4 columns]"
            ]
          },
          "metadata": {
            "tags": []
          },
          "execution_count": 34
        }
      ]
    },
    {
      "cell_type": "code",
      "metadata": {
        "colab": {
          "base_uri": "https://localhost:8080/"
        },
        "id": "4oDj_3BNWwrw",
        "outputId": "6b144ee8-e4b9-4086-8948-dd3c3c6e6321"
      },
      "source": [
        "movies.dtypes"
      ],
      "execution_count": 35,
      "outputs": [
        {
          "output_type": "execute_result",
          "data": {
            "text/plain": [
              "movie_id     int64\n",
              "title       object\n",
              "genres      object\n",
              "year        object\n",
              "dtype: object"
            ]
          },
          "metadata": {
            "tags": []
          },
          "execution_count": 35
        }
      ]
    },
    {
      "cell_type": "code",
      "metadata": {
        "colab": {
          "base_uri": "https://localhost:8080/"
        },
        "id": "pO8rV78nW-mf",
        "outputId": "e0834170-fb67-4a7b-b7a5-439be060b90c"
      },
      "source": [
        "movies['year'] = movies['year'].astype(int)  # pd.Series의 데이터 타입 변경\r\n",
        "movies.dtypes"
      ],
      "execution_count": 36,
      "outputs": [
        {
          "output_type": "execute_result",
          "data": {
            "text/plain": [
              "movie_id     int64\n",
              "title       object\n",
              "genres      object\n",
              "year         int64\n",
              "dtype: object"
            ]
          },
          "metadata": {
            "tags": []
          },
          "execution_count": 36
        }
      ]
    },
    {
      "cell_type": "code",
      "metadata": {
        "colab": {
          "base_uri": "https://localhost:8080/"
        },
        "id": "SbOWseJrXlwm",
        "outputId": "0d0d63d3-6e4c-4ff0-adfd-cf293175edd6"
      },
      "source": [
        "# 연도별 개봉 영화 숫자\r\n",
        "#   (1) 개봉 영화 숫자 내림차순 정렬\r\n",
        "#   (2) 개봉 연도의 오름차순 정렬\r\n",
        "movies['year'].value_counts()"
      ],
      "execution_count": 37,
      "outputs": [
        {
          "output_type": "execute_result",
          "data": {
            "text/plain": [
              "1996    345\n",
              "1995    342\n",
              "1998    337\n",
              "1997    315\n",
              "1999    283\n",
              "       ... \n",
              "1923      3\n",
              "1929      3\n",
              "1922      2\n",
              "1920      2\n",
              "1921      1\n",
              "Name: year, Length: 81, dtype: int64"
            ]
          },
          "metadata": {
            "tags": []
          },
          "execution_count": 37
        }
      ]
    },
    {
      "cell_type": "code",
      "metadata": {
        "colab": {
          "base_uri": "https://localhost:8080/"
        },
        "id": "ngYGheJxZIhn",
        "outputId": "ca704168-4c6d-400b-87bf-0f71a97f7a23"
      },
      "source": [
        "movies['year'].value_counts().sort_index(ascending=True)"
      ],
      "execution_count": 40,
      "outputs": [
        {
          "output_type": "execute_result",
          "data": {
            "text/plain": [
              "1919      3\n",
              "1920      2\n",
              "1921      1\n",
              "1922      2\n",
              "1923      3\n",
              "       ... \n",
              "1996    345\n",
              "1997    315\n",
              "1998    337\n",
              "1999    283\n",
              "2000    156\n",
              "Name: year, Length: 81, dtype: int64"
            ]
          },
          "metadata": {
            "tags": []
          },
          "execution_count": 40
        }
      ]
    },
    {
      "cell_type": "code",
      "metadata": {
        "id": "aq-YAqLteMam"
      },
      "source": [
        "import matplotlib.pyplot as plt"
      ],
      "execution_count": 41,
      "outputs": []
    },
    {
      "cell_type": "code",
      "metadata": {
        "colab": {
          "base_uri": "https://localhost:8080/",
          "height": 265
        },
        "id": "llLyrSKKarUw",
        "outputId": "c4b575f5-4733-4af5-8534-2e0777c04f4a"
      },
      "source": [
        "# 연도별 영화 숫자 선 그래프\r\n",
        "s = movies['year'].value_counts().sort_index()\r\n",
        "plt.plot(s.index, s.values)\r\n",
        "plt.show()"
      ],
      "execution_count": 44,
      "outputs": [
        {
          "output_type": "display_data",
          "data": {
            "image/png": "[encoded data removed]",
            "text/plain": [
              "<Figure size 432x288 with 1 Axes>"
            ]
          },
          "metadata": {
            "tags": [],
            "needs_background": "light"
          }
        }
      ]
    },
    {
      "cell_type": "code",
      "metadata": {
        "colab": {
          "base_uri": "https://localhost:8080/"
        },
        "id": "iroOkyrIfC2K",
        "outputId": "34b0b602-e8dd-4edd-fd65-87f7931b9e17"
      },
      "source": [
        "# 장르별 영화 수 (hint: (1) str.split(), (2) dict 또는 defaultdict)\r\n",
        "movies['genres'].str.split('|')"
      ],
      "execution_count": 55,
      "outputs": [
        {
          "output_type": "execute_result",
          "data": {
            "text/plain": [
              "0        [Animation, Children's, Comedy]\n",
              "1       [Adventure, Children's, Fantasy]\n",
              "2                      [Comedy, Romance]\n",
              "3                        [Comedy, Drama]\n",
              "4                               [Comedy]\n",
              "                      ...               \n",
              "3878                            [Comedy]\n",
              "3879                             [Drama]\n",
              "3880                             [Drama]\n",
              "3881                             [Drama]\n",
              "3882                   [Drama, Thriller]\n",
              "Name: genres, Length: 3883, dtype: object"
            ]
          },
          "metadata": {
            "tags": []
          },
          "execution_count": 55
        }
      ]
    },
    {
      "cell_type": "code",
      "metadata": {
        "colab": {
          "base_uri": "https://localhost:8080/"
        },
        "id": "IS3n-f6xhxqc",
        "outputId": "06da8aab-33ef-48d4-bf6d-7d3db69c6936"
      },
      "source": [
        "arr = ['animation', 'comedy', 'drama', 'drama', 'comedy', 'comedy']\r\n",
        "arr_cnt = {}  # empty dict\r\n",
        "for x in arr:  # 리스트의 모든 원소들을 반복\r\n",
        "    if x in arr_cnt.keys():  # 리스트의 원소가 dict의 key로 존재하면\r\n",
        "        arr_cnt[x] += 1\r\n",
        "    else:  # 리스트의 원소가 dict의 키로 존재하지 않으면\r\n",
        "        arr_cnt[x] = 1\r\n",
        "arr_cnt"
      ],
      "execution_count": 51,
      "outputs": [
        {
          "output_type": "execute_result",
          "data": {
            "text/plain": [
              "{'animation': 1, 'comedy': 3, 'drama': 2}"
            ]
          },
          "metadata": {
            "tags": []
          },
          "execution_count": 51
        }
      ]
    },
    {
      "cell_type": "code",
      "metadata": {
        "id": "zh8-Fe7Oj5AU"
      },
      "source": [
        "from collections import defaultdict"
      ],
      "execution_count": 52,
      "outputs": []
    },
    {
      "cell_type": "code",
      "metadata": {
        "colab": {
          "base_uri": "https://localhost:8080/"
        },
        "id": "2LTcV7wHj7hj",
        "outputId": "d0d59da4-a45b-4237-ee51-1c347b0e7b83"
      },
      "source": [
        "arr_cnt2 = defaultdict(int)  # empty defaultdict. value들의 데이터 타입은 int.\r\n",
        "for x in arr:\r\n",
        "    arr_cnt2[x] += 1\r\n",
        "\r\n",
        "arr_cnt2\r\n",
        "pd.Series(arr_cnt2)"
      ],
      "execution_count": 56,
      "outputs": [
        {
          "output_type": "execute_result",
          "data": {
            "text/plain": [
              "animation    1\n",
              "comedy       3\n",
              "drama        2\n",
              "dtype: int64"
            ]
          },
          "metadata": {
            "tags": []
          },
          "execution_count": 56
        }
      ]
    },
    {
      "cell_type": "code",
      "metadata": {
        "colab": {
          "base_uri": "https://localhost:8080/"
        },
        "id": "J9X89TS_nrMC",
        "outputId": "c547a47c-f4b3-4316-8fad-66c9167bba1c"
      },
      "source": [
        "genre_counts = defaultdict(int)\r\n",
        "for genres in movies['genres'].str.split('|'):\r\n",
        "    for g in genres:\r\n",
        "        genre_counts[g] += 1\r\n",
        "\r\n",
        "genre_counts = pd.Series(genre_counts)  # defaultdict 타입을 Series 타입으로 변환\r\n",
        "genre_counts"
      ],
      "execution_count": 61,
      "outputs": [
        {
          "output_type": "execute_result",
          "data": {
            "text/plain": [
              "Animation       105\n",
              "Children's      251\n",
              "Comedy         1200\n",
              "Adventure       283\n",
              "Fantasy          68\n",
              "Romance         471\n",
              "Drama          1603\n",
              "Action          503\n",
              "Crime           211\n",
              "Thriller        492\n",
              "Horror          343\n",
              "Sci-Fi          276\n",
              "Documentary     127\n",
              "War             143\n",
              "Musical         114\n",
              "Mystery         106\n",
              "Film-Noir        44\n",
              "Western          68\n",
              "dtype: int64"
            ]
          },
          "metadata": {
            "tags": []
          },
          "execution_count": 61
        }
      ]
    }
  ]
}