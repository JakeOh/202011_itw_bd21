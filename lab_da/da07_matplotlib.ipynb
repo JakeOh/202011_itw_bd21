{
  "nbformat": 4,
  "nbformat_minor": 0,
  "metadata": {
    "colab": {
      "name": "da07_matplotlib.ipynb",
      "provenance": [],
      "collapsed_sections": [],
      "authorship_tag": "ABX9TyMMOnoOdzC0rgbH4A3+Z9Cb",
      "include_colab_link": true
    },
    "kernelspec": {
      "name": "python3",
      "display_name": "Python 3"
    }
  },
  "cells": [
    {
      "cell_type": "markdown",
      "metadata": {
        "id": "view-in-github",
        "colab_type": "text"
      },
      "source": [
        "<a href=\"https://colab.research.google.com/github/JakeOh/202011_itw_bd21/blob/main/lab_da/da07_matplotlib.ipynb\" target=\"_parent\"><img src=\"https://colab.research.google.com/assets/colab-badge.svg\" alt=\"Open In Colab\"/></a>"
      ]
    },
    {
      "cell_type": "code",
      "metadata": {
        "id": "QQ4DxYWBSrgB"
      },
      "source": [
        "import matplotlib.pyplot as plt\r\n",
        "# matplotlib 패키지(디렉토리)의 pyplot 모듈(파일)을 plt라는 별명으로 import\r\n",
        "# pyplot 모듈: 시각화를 위한 함수들이 포함\r\n",
        "\r\n",
        "import seaborn as sns  # 예제 데이터 셋"
      ],
      "execution_count": 1,
      "outputs": []
    },
    {
      "cell_type": "code",
      "metadata": {
        "colab": {
          "base_uri": "https://localhost:8080/",
          "height": 214
        },
        "id": "sXCbZuf-UTq5",
        "outputId": "6801886a-91a9-4372-c065-fca7c19ebba3"
      },
      "source": [
        "# seaborn 패키지의 tips 예제 데이터 셋을 로드.\r\n",
        "tips = sns.load_dataset('tips')\r\n",
        "tips.head()"
      ],
      "execution_count": 2,
      "outputs": [
        {
          "output_type": "execute_result",
          "data": {
            "text/html": [
              "<div>\n",
              "<style scoped>\n",
              "    .dataframe tbody tr th:only-of-type {\n",
              "        vertical-align: middle;\n",
              "    }\n",
              "\n",
              "    .dataframe tbody tr th {\n",
              "        vertical-align: top;\n",
              "    }\n",
              "\n",
              "    .dataframe thead th {\n",
              "        text-align: right;\n",
              "    }\n",
              "</style>\n",
              "<table border=\"1\" class=\"dataframe\">\n",
              "  <thead>\n",
              "    <tr style=\"text-align: right;\">\n",
              "      <th></th>\n",
              "      <th>total_bill</th>\n",
              "      <th>tip</th>\n",
              "      <th>sex</th>\n",
              "      <th>smoker</th>\n",
              "      <th>day</th>\n",
              "      <th>time</th>\n",
              "      <th>size</th>\n",
              "    </tr>\n",
              "  </thead>\n",
              "  <tbody>\n",
              "    <tr>\n",
              "      <th>0</th>\n",
              "      <td>16.99</td>\n",
              "      <td>1.01</td>\n",
              "      <td>Female</td>\n",
              "      <td>No</td>\n",
              "      <td>Sun</td>\n",
              "      <td>Dinner</td>\n",
              "      <td>2</td>\n",
              "    </tr>\n",
              "    <tr>\n",
              "      <th>1</th>\n",
              "      <td>10.34</td>\n",
              "      <td>1.66</td>\n",
              "      <td>Male</td>\n",
              "      <td>No</td>\n",
              "      <td>Sun</td>\n",
              "      <td>Dinner</td>\n",
              "      <td>3</td>\n",
              "    </tr>\n",
              "    <tr>\n",
              "      <th>2</th>\n",
              "      <td>21.01</td>\n",
              "      <td>3.50</td>\n",
              "      <td>Male</td>\n",
              "      <td>No</td>\n",
              "      <td>Sun</td>\n",
              "      <td>Dinner</td>\n",
              "      <td>3</td>\n",
              "    </tr>\n",
              "    <tr>\n",
              "      <th>3</th>\n",
              "      <td>23.68</td>\n",
              "      <td>3.31</td>\n",
              "      <td>Male</td>\n",
              "      <td>No</td>\n",
              "      <td>Sun</td>\n",
              "      <td>Dinner</td>\n",
              "      <td>2</td>\n",
              "    </tr>\n",
              "    <tr>\n",
              "      <th>4</th>\n",
              "      <td>24.59</td>\n",
              "      <td>3.61</td>\n",
              "      <td>Female</td>\n",
              "      <td>No</td>\n",
              "      <td>Sun</td>\n",
              "      <td>Dinner</td>\n",
              "      <td>4</td>\n",
              "    </tr>\n",
              "  </tbody>\n",
              "</table>\n",
              "</div>"
            ],
            "text/plain": [
              "   total_bill   tip     sex smoker  day    time  size\n",
              "0       16.99  1.01  Female     No  Sun  Dinner     2\n",
              "1       10.34  1.66    Male     No  Sun  Dinner     3\n",
              "2       21.01  3.50    Male     No  Sun  Dinner     3\n",
              "3       23.68  3.31    Male     No  Sun  Dinner     2\n",
              "4       24.59  3.61  Female     No  Sun  Dinner     4"
            ]
          },
          "metadata": {
            "tags": []
          },
          "execution_count": 2
        }
      ]
    },
    {
      "cell_type": "markdown",
      "metadata": {
        "id": "DtacQEZ3UwGR"
      },
      "source": [
        "# matplotlib.pyplot 모듈을 사용한 시각화(Visualization)"
      ]
    },
    {
      "cell_type": "code",
      "metadata": {
        "colab": {
          "base_uri": "https://localhost:8080/",
          "height": 295
        },
        "id": "V-rnSKHnUhD5",
        "outputId": "47f085c4-14b8-4a2b-d386-6d9cd77d06e3"
      },
      "source": [
        "# 1. figure 객체 생성\r\n",
        "fig = plt.figure()\r\n",
        "\r\n",
        "# 2. figure 객체에 subplot을 생성해서 추가\r\n",
        "axis = fig.add_subplot(1, 1, 1)\r\n",
        "# nrows=1(subplot의 row의 개수), ncols=1(subplot의 column 개수), index=1(subplot의 번호)\r\n",
        "\r\n",
        "# 3. suplot에 그래프를 그림\r\n",
        "axis.hist(x=tips['total_bill'])\r\n",
        "\r\n",
        "# 4. 그래프 옵션 설정\r\n",
        "axis.set_title('Histogram of Total Bill')\r\n",
        "axis.set_xlabel('Total Bill')\r\n",
        "axis.set_ylabel('Counts')\r\n",
        "\r\n",
        "# 5. 그래프 보여주기\r\n",
        "plt.show()"
      ],
      "execution_count": 11,
      "outputs": [
        {
          "output_type": "display_data",
          "data": {
            "image/png": "[encoded data removed]",
            "text/plain": [
              "<Figure size 432x288 with 1 Axes>"
            ]
          },
          "metadata": {
            "tags": [],
            "needs_background": "light"
          }
        }
      ]
    },
    {
      "cell_type": "code",
      "metadata": {
        "colab": {
          "base_uri": "https://localhost:8080/",
          "height": 281
        },
        "id": "hdkg4GnEWaEz",
        "outputId": "ea0837a2-6fc6-4ba4-cdc0-7fbcf088af1b"
      },
      "source": [
        "# 1개의 Figure에 histogram과 scatter plot을 그리기\r\n",
        "# 1. Figure 생성\r\n",
        "fig = plt.figure()\r\n",
        "\r\n",
        "# 2. subplot을 추가\r\n",
        "ax1 = fig.add_subplot(1, 2, 1)\r\n",
        "ax2 = fig.add_subplot(1, 2, 2)\r\n",
        "\r\n",
        "# 3. subplot에 그래프 그리기\r\n",
        "ax1.hist(x=tips['total_bill'])\r\n",
        "ax2.scatter(x=tips['total_bill'], y=tips['tip'])\r\n",
        "\r\n",
        "# 4. 그래프 옵션\r\n",
        "ax1.set_title('Histogram of Total Bill')\r\n",
        "ax2.set_title('Total Bill vs Tip')\r\n",
        "\r\n",
        "# 5. 그래프 보여주기\r\n",
        "plt.show()"
      ],
      "execution_count": 16,
      "outputs": [
        {
          "output_type": "display_data",
          "data": {
            "image/png": "[encoded data removed]",
            "text/plain": [
              "<Figure size 432x288 with 2 Axes>"
            ]
          },
          "metadata": {
            "tags": [],
            "needs_background": "light"
          }
        }
      ]
    },
    {
      "cell_type": "code",
      "metadata": {
        "id": "3v_uiYQcWxQe"
      },
      "source": [
        ""
      ],
      "execution_count": null,
      "outputs": []
    }
  ]
}