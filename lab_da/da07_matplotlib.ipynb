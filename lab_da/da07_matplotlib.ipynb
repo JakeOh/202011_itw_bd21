{
  "nbformat": 4,
  "nbformat_minor": 0,
  "metadata": {
    "colab": {
      "name": "da07_matplotlib.ipynb",
      "provenance": [],
      "collapsed_sections": [],
      "authorship_tag": "ABX9TyNcNko7GA32anksGTxmaiGl",
      "include_colab_link": true
    },
    "kernelspec": {
      "name": "python3",
      "display_name": "Python 3"
    }
  },
  "cells": [
    {
      "cell_type": "markdown",
      "metadata": {
        "id": "view-in-github",
        "colab_type": "text"
      },
      "source": [
        "<a href=\"https://colab.research.google.com/github/JakeOh/202011_itw_bd21/blob/main/lab_da/da07_matplotlib.ipynb\" target=\"_parent\"><img src=\"https://colab.research.google.com/assets/colab-badge.svg\" alt=\"Open In Colab\"/></a>"
      ]
    },
    {
      "cell_type": "code",
      "metadata": {
        "id": "QQ4DxYWBSrgB"
      },
      "source": [
        "import matplotlib.pyplot as plt\r\n",
        "# matplotlib 패키지(디렉토리)의 pyplot 모듈(파일)을 plt라는 별명으로 import\r\n",
        "# pyplot 모듈: 시각화를 위한 함수들이 포함\r\n",
        "\r\n",
        "import seaborn as sns  # 예제 데이터 셋"
      ],
      "execution_count": 1,
      "outputs": []
    },
    {
      "cell_type": "code",
      "metadata": {
        "colab": {
          "base_uri": "https://localhost:8080/",
          "height": 214
        },
        "id": "sXCbZuf-UTq5",
        "outputId": "6801886a-91a9-4372-c065-fca7c19ebba3"
      },
      "source": [
        "# seaborn 패키지의 tips 예제 데이터 셋을 로드.\r\n",
        "tips = sns.load_dataset('tips')\r\n",
        "tips.head()"
      ],
      "execution_count": 2,
      "outputs": [
        {
          "output_type": "execute_result",
          "data": {
            "text/html": [
              "<div>\n",
              "<style scoped>\n",
              "    .dataframe tbody tr th:only-of-type {\n",
              "        vertical-align: middle;\n",
              "    }\n",
              "\n",
              "    .dataframe tbody tr th {\n",
              "        vertical-align: top;\n",
              "    }\n",
              "\n",
              "    .dataframe thead th {\n",
              "        text-align: right;\n",
              "    }\n",
              "</style>\n",
              "<table border=\"1\" class=\"dataframe\">\n",
              "  <thead>\n",
              "    <tr style=\"text-align: right;\">\n",
              "      <th></th>\n",
              "      <th>total_bill</th>\n",
              "      <th>tip</th>\n",
              "      <th>sex</th>\n",
              "      <th>smoker</th>\n",
              "      <th>day</th>\n",
              "      <th>time</th>\n",
              "      <th>size</th>\n",
              "    </tr>\n",
              "  </thead>\n",
              "  <tbody>\n",
              "    <tr>\n",
              "      <th>0</th>\n",
              "      <td>16.99</td>\n",
              "      <td>1.01</td>\n",
              "      <td>Female</td>\n",
              "      <td>No</td>\n",
              "      <td>Sun</td>\n",
              "      <td>Dinner</td>\n",
              "      <td>2</td>\n",
              "    </tr>\n",
              "    <tr>\n",
              "      <th>1</th>\n",
              "      <td>10.34</td>\n",
              "      <td>1.66</td>\n",
              "      <td>Male</td>\n",
              "      <td>No</td>\n",
              "      <td>Sun</td>\n",
              "      <td>Dinner</td>\n",
              "      <td>3</td>\n",
              "    </tr>\n",
              "    <tr>\n",
              "      <th>2</th>\n",
              "      <td>21.01</td>\n",
              "      <td>3.50</td>\n",
              "      <td>Male</td>\n",
              "      <td>No</td>\n",
              "      <td>Sun</td>\n",
              "      <td>Dinner</td>\n",
              "      <td>3</td>\n",
              "    </tr>\n",
              "    <tr>\n",
              "      <th>3</th>\n",
              "      <td>23.68</td>\n",
              "      <td>3.31</td>\n",
              "      <td>Male</td>\n",
              "      <td>No</td>\n",
              "      <td>Sun</td>\n",
              "      <td>Dinner</td>\n",
              "      <td>2</td>\n",
              "    </tr>\n",
              "    <tr>\n",
              "      <th>4</th>\n",
              "      <td>24.59</td>\n",
              "      <td>3.61</td>\n",
              "      <td>Female</td>\n",
              "      <td>No</td>\n",
              "      <td>Sun</td>\n",
              "      <td>Dinner</td>\n",
              "      <td>4</td>\n",
              "    </tr>\n",
              "  </tbody>\n",
              "</table>\n",
              "</div>"
            ],
            "text/plain": [
              "   total_bill   tip     sex smoker  day    time  size\n",
              "0       16.99  1.01  Female     No  Sun  Dinner     2\n",
              "1       10.34  1.66    Male     No  Sun  Dinner     3\n",
              "2       21.01  3.50    Male     No  Sun  Dinner     3\n",
              "3       23.68  3.31    Male     No  Sun  Dinner     2\n",
              "4       24.59  3.61  Female     No  Sun  Dinner     4"
            ]
          },
          "metadata": {
            "tags": []
          },
          "execution_count": 2
        }
      ]
    },
    {
      "cell_type": "markdown",
      "metadata": {
        "id": "DtacQEZ3UwGR"
      },
      "source": [
        "# matplotlib.pyplot 모듈을 사용한 시각화(Visualization)"
      ]
    },
    {
      "cell_type": "code",
      "metadata": {
        "colab": {
          "base_uri": "https://localhost:8080/",
          "height": 295
        },
        "id": "V-rnSKHnUhD5",
        "outputId": "47f085c4-14b8-4a2b-d386-6d9cd77d06e3"
      },
      "source": [
        "# 1. figure 객체 생성\r\n",
        "fig = plt.figure()\r\n",
        "\r\n",
        "# 2. figure 객체에 subplot을 생성해서 추가\r\n",
        "axis = fig.add_subplot(1, 1, 1)\r\n",
        "# nrows=1(subplot의 row의 개수), ncols=1(subplot의 column 개수), index=1(subplot의 번호)\r\n",
        "\r\n",
        "# 3. suplot에 그래프를 그림\r\n",
        "axis.hist(x=tips['total_bill'])\r\n",
        "\r\n",
        "# 4. 그래프 옵션 설정\r\n",
        "axis.set_title('Histogram of Total Bill')\r\n",
        "axis.set_xlabel('Total Bill')\r\n",
        "axis.set_ylabel('Counts')\r\n",
        "\r\n",
        "# 5. 그래프 보여주기\r\n",
        "plt.show()"
      ],
      "execution_count": 11,
      "outputs": [
        {
          "output_type": "display_data",
          "data": {
            "image/png": "[encoded data removed]",
            "text/plain": [
              "<Figure size 432x288 with 1 Axes>"
            ]
          },
          "metadata": {
            "tags": [],
            "needs_background": "light"
          }
        }
      ]
    },
    {
      "cell_type": "code",
      "metadata": {
        "colab": {
          "base_uri": "https://localhost:8080/",
          "height": 281
        },
        "id": "hdkg4GnEWaEz",
        "outputId": "ea0837a2-6fc6-4ba4-cdc0-7fbcf088af1b"
      },
      "source": [
        "# 1개의 Figure에 histogram과 scatter plot을 그리기\r\n",
        "# 1. Figure 생성\r\n",
        "fig = plt.figure()\r\n",
        "\r\n",
        "# 2. subplot을 추가\r\n",
        "ax1 = fig.add_subplot(1, 2, 1)\r\n",
        "ax2 = fig.add_subplot(1, 2, 2)\r\n",
        "\r\n",
        "# 3. subplot에 그래프 그리기\r\n",
        "ax1.hist(x=tips['total_bill'])\r\n",
        "ax2.scatter(x=tips['total_bill'], y=tips['tip'])\r\n",
        "\r\n",
        "# 4. 그래프 옵션\r\n",
        "ax1.set_title('Histogram of Total Bill')\r\n",
        "ax2.set_title('Total Bill vs Tip')\r\n",
        "\r\n",
        "# 5. 그래프 보여주기\r\n",
        "plt.show()"
      ],
      "execution_count": 16,
      "outputs": [
        {
          "output_type": "display_data",
          "data": {
            "image/png": "[encoded data removed]",
            "text/plain": [
              "<Figure size 432x288 with 2 Axes>"
            ]
          },
          "metadata": {
            "tags": [],
            "needs_background": "light"
          }
        }
      ]
    },
    {
      "cell_type": "code",
      "metadata": {
        "colab": {
          "base_uri": "https://localhost:8080/",
          "height": 265
        },
        "id": "3v_uiYQcWxQe",
        "outputId": "96043f5d-8e06-4533-c718-b04ecc12bb73"
      },
      "source": [
        "fig = plt.figure()\r\n",
        "\r\n",
        "ax1 = fig.add_subplot(211)  # add_subplot(2, 1, 1)\r\n",
        "ax2 = fig.add_subplot(212)  # add_subplot(2, 1, 2)\r\n",
        "\r\n",
        "ax1.hist(x=tips['total_bill'])\r\n",
        "ax2.scatter(x=tips['total_bill'], y=tips['tip'])\r\n",
        "\r\n",
        "plt.show()"
      ],
      "execution_count": 23,
      "outputs": [
        {
          "output_type": "display_data",
          "data": {
            "image/png": "[encoded data removed]",
            "text/plain": [
              "<Figure size 432x288 with 2 Axes>"
            ]
          },
          "metadata": {
            "tags": [],
            "needs_background": "light"
          }
        }
      ]
    },
    {
      "cell_type": "code",
      "metadata": {
        "colab": {
          "base_uri": "https://localhost:8080/",
          "height": 265
        },
        "id": "rYAAlZashaOs",
        "outputId": "10873489-995c-4b38-def0-302ce6b60367"
      },
      "source": [
        "# Figure 생성 + subplot 생성/추가\r\n",
        "fig, axes = plt.subplots(nrows=2, ncols=1)\r\n",
        "#> matplotlib.pyplot.subplots() 함수의 리턴:\r\n",
        "#>  (1) Figure 객체\r\n",
        "#>  (2) Subplot들의 배열(array)\r\n",
        "\r\n",
        "axes[0].hist(x=tips['total_bill'])\r\n",
        "axes[1].hist(x=tips['tip'])\r\n",
        "\r\n",
        "# 옵션 설정\r\n",
        "\r\n",
        "plt.show()"
      ],
      "execution_count": 26,
      "outputs": [
        {
          "output_type": "display_data",
          "data": {
            "image/png": "[encoded data removed]",
            "text/plain": [
              "<Figure size 432x288 with 2 Axes>"
            ]
          },
          "metadata": {
            "tags": [],
            "needs_background": "light"
          }
        }
      ]
    },
    {
      "cell_type": "code",
      "metadata": {
        "colab": {
          "base_uri": "https://localhost:8080/",
          "height": 295
        },
        "id": "GaKHREcUktmO",
        "outputId": "d354871a-cd30-4a50-bf1d-5fcfa38ab5a9"
      },
      "source": [
        "# 1개의 Figure에 Subplot이 1개만 있는 경우에는,\r\n",
        "# matplotlib.pyplot 모듈의 top-level 함수(plot, hist, scatter, boxplot, ...)들만 사용해도 됨.\r\n",
        "plt.hist(x=tips['total_bill'])\r\n",
        "plt.title('Histogram of Total Bill')\r\n",
        "plt.xlabel('Total Bill')\r\n",
        "plt.ylabel('Counts')\r\n",
        "plt.show()"
      ],
      "execution_count": 30,
      "outputs": [
        {
          "output_type": "display_data",
          "data": {
            "image/png": "[encoded data removed]",
            "text/plain": [
              "<Figure size 432x288 with 1 Axes>"
            ]
          },
          "metadata": {
            "tags": [],
            "needs_background": "light"
          }
        }
      ]
    },
    {
      "cell_type": "markdown",
      "metadata": {
        "id": "ykioVas6nOpr"
      },
      "source": [
        "# matplotlib.pyplot의 top-level 그래프 함수"
      ]
    },
    {
      "cell_type": "markdown",
      "metadata": {
        "id": "4Y26Bi0VnXw6"
      },
      "source": [
        "## 선 그래프(plot)"
      ]
    },
    {
      "cell_type": "code",
      "metadata": {
        "id": "9TZq3ZrXnqYh"
      },
      "source": [
        "import numpy as np  # np.random 모듈을 사용하기 위해서"
      ],
      "execution_count": 31,
      "outputs": []
    },
    {
      "cell_type": "code",
      "metadata": {
        "colab": {
          "base_uri": "https://localhost:8080/"
        },
        "id": "ZyiiMyMInudc",
        "outputId": "9f8864ae-f888-4488-d772-ea3cf9a514ef"
      },
      "source": [
        "np.random.seed(1)\r\n",
        "data = np.random.rand(10)\r\n",
        "print(data)"
      ],
      "execution_count": 32,
      "outputs": [
        {
          "output_type": "stream",
          "text": [
            "[4.17022005e-01 7.20324493e-01 1.14374817e-04 3.02332573e-01\n",
            " 1.46755891e-01 9.23385948e-02 1.86260211e-01 3.45560727e-01\n",
            " 3.96767474e-01 5.38816734e-01]\n"
          ],
          "name": "stdout"
        }
      ]
    },
    {
      "cell_type": "code",
      "metadata": {
        "colab": {
          "base_uri": "https://localhost:8080/",
          "height": 265
        },
        "id": "FuhPdIC8n-UK",
        "outputId": "2e7b0686-9b3c-433c-ae68-a7891e05fe3e"
      },
      "source": [
        "plt.plot(data)\r\n",
        "plt.grid()\r\n",
        "plt.show()"
      ],
      "execution_count": 34,
      "outputs": [
        {
          "output_type": "display_data",
          "data": {
            "image/png": "[encoded data removed]",
            "text/plain": [
              "<Figure size 432x288 with 1 Axes>"
            ]
          },
          "metadata": {
            "tags": [],
            "needs_background": "light"
          }
        }
      ]
    },
    {
      "cell_type": "code",
      "metadata": {
        "colab": {
          "base_uri": "https://localhost:8080/",
          "height": 265
        },
        "id": "oCxGkZC1tUwJ",
        "outputId": "ffe219d2-5747-44cf-bcf5-b1f9c1257a58"
      },
      "source": [
        "plt.plot(data, 'bo-')\r\n",
        "#> fmt: 'bo-'\r\n",
        "#> color=b(blue), marker='o', linestyle='-'(solid line)\r\n",
        "plt.show()"
      ],
      "execution_count": 38,
      "outputs": [
        {
          "output_type": "display_data",
          "data": {
            "image/png": "[encoded data removed]",
            "text/plain": [
              "<Figure size 432x288 with 1 Axes>"
            ]
          },
          "metadata": {
            "tags": [],
            "needs_background": "light"
          }
        }
      ]
    },
    {
      "cell_type": "code",
      "metadata": {
        "colab": {
          "base_uri": "https://localhost:8080/",
          "height": 265
        },
        "id": "XKR01KoquiwF",
        "outputId": "4806040d-e308-4cc7-cb9e-ab71efe190fa"
      },
      "source": [
        "plt.plot(data, 'rs--')  # color=red, marker=square, linestyle=dashed line\r\n",
        "plt.show()"
      ],
      "execution_count": 39,
      "outputs": [
        {
          "output_type": "display_data",
          "data": {
            "image/png": "[encoded data removed]",
            "text/plain": [
              "<Figure size 432x288 with 1 Axes>"
            ]
          },
          "metadata": {
            "tags": [],
            "needs_background": "light"
          }
        }
      ]
    },
    {
      "cell_type": "code",
      "metadata": {
        "colab": {
          "base_uri": "https://localhost:8080/",
          "height": 265
        },
        "id": "crB3o-OSvIqQ",
        "outputId": "8b0ac4e0-3941-4f59-b96f-e3b85fcc949a"
      },
      "source": [
        "plt.plot(data, color='green', marker='^', linestyle=':', mfc='red', mec='red')\r\n",
        "plt.show()"
      ],
      "execution_count": 48,
      "outputs": [
        {
          "output_type": "display_data",
          "data": {
            "image/png": "[encoded data removed]",
            "text/plain": [
              "<Figure size 432x288 with 1 Axes>"
            ]
          },
          "metadata": {
            "tags": [],
            "needs_background": "light"
          }
        }
      ]
    },
    {
      "cell_type": "code",
      "metadata": {
        "colab": {
          "base_uri": "https://localhost:8080/",
          "height": 266
        },
        "id": "4nI3GoEFxu3p",
        "outputId": "de993251-4bf7-4f56-fc50-8c71df28ed04"
      },
      "source": [
        "# 1개의 plot에 여러개의 선 그래프 그리기\r\n",
        "np.random.seed(1)\r\n",
        "y1 = np.random.rand(10)\r\n",
        "y2 = np.random.rand(10)\r\n",
        "y3 = np.random.rand(10)\r\n",
        "\r\n",
        "plt.plot(y1, 'r-', label='Data I')  # red solid line\r\n",
        "plt.plot(y2, 'g:', label='Data II')  # green dotted line\r\n",
        "plt.plot(y3, 'b--', label='Data III')  # blue dashed line\r\n",
        "\r\n",
        "plt.legend()  # 각각의 plot에 설정된 label들을 범례로 보여주기.\r\n",
        "\r\n",
        "plt.show()"
      ],
      "execution_count": 62,
      "outputs": [
        {
          "output_type": "display_data",
          "data": {
            "image/png": "[encoded data removed]",
            "text/plain": [
              "<Figure size 432x288 with 1 Axes>"
            ]
          },
          "metadata": {
            "tags": [],
            "needs_background": "light"
          }
        }
      ]
    },
    {
      "cell_type": "markdown",
      "metadata": {
        "id": "RYwm1i-H1aY2"
      },
      "source": [
        "## 상자 그림(Box Plot)"
      ]
    },
    {
      "cell_type": "code",
      "metadata": {
        "colab": {
          "base_uri": "https://localhost:8080/",
          "height": 312
        },
        "id": "L1HwkToi1lQm",
        "outputId": "8238072e-f875-4885-a14c-1dbdfb4c9c7f"
      },
      "source": [
        "tips.describe()"
      ],
      "execution_count": 64,
      "outputs": [
        {
          "output_type": "execute_result",
          "data": {
            "text/html": [
              "<div>\n",
              "<style scoped>\n",
              "    .dataframe tbody tr th:only-of-type {\n",
              "        vertical-align: middle;\n",
              "    }\n",
              "\n",
              "    .dataframe tbody tr th {\n",
              "        vertical-align: top;\n",
              "    }\n",
              "\n",
              "    .dataframe thead th {\n",
              "        text-align: right;\n",
              "    }\n",
              "</style>\n",
              "<table border=\"1\" class=\"dataframe\">\n",
              "  <thead>\n",
              "    <tr style=\"text-align: right;\">\n",
              "      <th></th>\n",
              "      <th>total_bill</th>\n",
              "      <th>tip</th>\n",
              "      <th>size</th>\n",
              "    </tr>\n",
              "  </thead>\n",
              "  <tbody>\n",
              "    <tr>\n",
              "      <th>count</th>\n",
              "      <td>244.000000</td>\n",
              "      <td>244.000000</td>\n",
              "      <td>244.000000</td>\n",
              "    </tr>\n",
              "    <tr>\n",
              "      <th>mean</th>\n",
              "      <td>19.785943</td>\n",
              "      <td>2.998279</td>\n",
              "      <td>2.569672</td>\n",
              "    </tr>\n",
              "    <tr>\n",
              "      <th>std</th>\n",
              "      <td>8.902412</td>\n",
              "      <td>1.383638</td>\n",
              "      <td>0.951100</td>\n",
              "    </tr>\n",
              "    <tr>\n",
              "      <th>min</th>\n",
              "      <td>3.070000</td>\n",
              "      <td>1.000000</td>\n",
              "      <td>1.000000</td>\n",
              "    </tr>\n",
              "    <tr>\n",
              "      <th>25%</th>\n",
              "      <td>13.347500</td>\n",
              "      <td>2.000000</td>\n",
              "      <td>2.000000</td>\n",
              "    </tr>\n",
              "    <tr>\n",
              "      <th>50%</th>\n",
              "      <td>17.795000</td>\n",
              "      <td>2.900000</td>\n",
              "      <td>2.000000</td>\n",
              "    </tr>\n",
              "    <tr>\n",
              "      <th>75%</th>\n",
              "      <td>24.127500</td>\n",
              "      <td>3.562500</td>\n",
              "      <td>3.000000</td>\n",
              "    </tr>\n",
              "    <tr>\n",
              "      <th>max</th>\n",
              "      <td>50.810000</td>\n",
              "      <td>10.000000</td>\n",
              "      <td>6.000000</td>\n",
              "    </tr>\n",
              "  </tbody>\n",
              "</table>\n",
              "</div>"
            ],
            "text/plain": [
              "       total_bill         tip        size\n",
              "count  244.000000  244.000000  244.000000\n",
              "mean    19.785943    2.998279    2.569672\n",
              "std      8.902412    1.383638    0.951100\n",
              "min      3.070000    1.000000    1.000000\n",
              "25%     13.347500    2.000000    2.000000\n",
              "50%     17.795000    2.900000    2.000000\n",
              "75%     24.127500    3.562500    3.000000\n",
              "max     50.810000   10.000000    6.000000"
            ]
          },
          "metadata": {
            "tags": []
          },
          "execution_count": 64
        }
      ]
    },
    {
      "cell_type": "code",
      "metadata": {
        "colab": {
          "base_uri": "https://localhost:8080/",
          "height": 265
        },
        "id": "cXc90IAm104D",
        "outputId": "d6d5b99a-09af-4388-b07d-92bed617f620"
      },
      "source": [
        "plt.boxplot(x=tips['total_bill'], labels=['total bill'])\r\n",
        "plt.show()"
      ],
      "execution_count": 72,
      "outputs": [
        {
          "output_type": "display_data",
          "data": {
            "image/png": "[encoded data removed]",
            "text/plain": [
              "<Figure size 432x288 with 1 Axes>"
            ]
          },
          "metadata": {
            "tags": [],
            "needs_background": "light"
          }
        }
      ]
    },
    {
      "cell_type": "code",
      "metadata": {
        "colab": {
          "base_uri": "https://localhost:8080/",
          "height": 265
        },
        "id": "EgaSy41s3VNZ",
        "outputId": "1790e399-ecff-4ba7-e462-102910074137"
      },
      "source": [
        "plt.boxplot(x=[tips.total_bill, tips.tip], \r\n",
        "            labels=['Total Bill', 'Tip'])\r\n",
        "plt.show()"
      ],
      "execution_count": 74,
      "outputs": [
        {
          "output_type": "display_data",
          "data": {
            "image/png": "[encoded data removed]",
            "text/plain": [
              "<Figure size 432x288 with 1 Axes>"
            ]
          },
          "metadata": {
            "tags": [],
            "needs_background": "light"
          }
        }
      ]
    },
    {
      "cell_type": "code",
      "metadata": {
        "colab": {
          "base_uri": "https://localhost:8080/"
        },
        "id": "asIkoJ406xBm",
        "outputId": "94b90ec6-db89-48c5-a276-874237d93afb"
      },
      "source": [
        "# 성별 tip의 기술 통계량 요약 -> boxplot\r\n",
        "male_tip = tips[tips['sex'] == 'Male']['tip']\r\n",
        "female_tip = tips[tips.sex == 'Female'].tip\r\n",
        "\r\n",
        "print(male_tip.describe())\r\n",
        "print()\r\n",
        "print(female_tip.describe())"
      ],
      "execution_count": 80,
      "outputs": [
        {
          "output_type": "stream",
          "text": [
            "count    157.000000\n",
            "mean       3.089618\n",
            "std        1.489102\n",
            "min        1.000000\n",
            "25%        2.000000\n",
            "50%        3.000000\n",
            "75%        3.760000\n",
            "max       10.000000\n",
            "Name: tip, dtype: float64\n",
            "\n",
            "count    87.000000\n",
            "mean      2.833448\n",
            "std       1.159495\n",
            "min       1.000000\n",
            "25%       2.000000\n",
            "50%       2.750000\n",
            "75%       3.500000\n",
            "max       6.500000\n",
            "Name: tip, dtype: float64\n"
          ],
          "name": "stdout"
        }
      ]
    },
    {
      "cell_type": "code",
      "metadata": {
        "colab": {
          "base_uri": "https://localhost:8080/",
          "height": 265
        },
        "id": "9Hca48eA-gkU",
        "outputId": "047a8471-009e-422f-b6d6-3fc8b24f8e57"
      },
      "source": [
        "import numpy as np\r\n",
        "\r\n",
        "plt.boxplot(x=np.array([male_tip, female_tip], dtype='object'), labels=['Male', 'Female'])\r\n",
        "plt.show()"
      ],
      "execution_count": 82,
      "outputs": [
        {
          "output_type": "display_data",
          "data": {
            "image/png": "[encoded data removed]",
            "text/plain": [
              "<Figure size 432x288 with 1 Axes>"
            ]
          },
          "metadata": {
            "tags": [],
            "needs_background": "light"
          }
        }
      ]
    },
    {
      "cell_type": "code",
      "metadata": {
        "colab": {
          "base_uri": "https://localhost:8080/"
        },
        "id": "xQfmTlxU7iHc",
        "outputId": "fc2e0895-ab9b-45e8-87de-d3e2bc178615"
      },
      "source": [
        "# 시간별 tip의 기술 통계량 요약 -> boxplot\r\n",
        "dinner_tip = tips[tips['time'] == 'Dinner']['tip']\r\n",
        "dinner_tip.describe()"
      ],
      "execution_count": 84,
      "outputs": [
        {
          "output_type": "execute_result",
          "data": {
            "text/plain": [
              "count    176.000000\n",
              "mean       3.102670\n",
              "std        1.436243\n",
              "min        1.000000\n",
              "25%        2.000000\n",
              "50%        3.000000\n",
              "75%        3.687500\n",
              "max       10.000000\n",
              "Name: tip, dtype: float64"
            ]
          },
          "metadata": {
            "tags": []
          },
          "execution_count": 84
        }
      ]
    },
    {
      "cell_type": "code",
      "metadata": {
        "colab": {
          "base_uri": "https://localhost:8080/"
        },
        "id": "m0-MsxqqAylk",
        "outputId": "04f3a499-d46b-4efe-ae1e-2ab714ab8147"
      },
      "source": [
        "lunch_tip = tips[tips.time == 'Lunch'].tip\r\n",
        "lunch_tip.describe()"
      ],
      "execution_count": 85,
      "outputs": [
        {
          "output_type": "execute_result",
          "data": {
            "text/plain": [
              "count    68.000000\n",
              "mean      2.728088\n",
              "std       1.205345\n",
              "min       1.250000\n",
              "25%       2.000000\n",
              "50%       2.250000\n",
              "75%       3.287500\n",
              "max       6.700000\n",
              "Name: tip, dtype: float64"
            ]
          },
          "metadata": {
            "tags": []
          },
          "execution_count": 85
        }
      ]
    },
    {
      "cell_type": "code",
      "metadata": {
        "colab": {
          "base_uri": "https://localhost:8080/",
          "height": 265
        },
        "id": "OhSY_ioHA-k7",
        "outputId": "d821d8b7-6a91-4270-f5b0-ae29938dc18d"
      },
      "source": [
        "plt.boxplot(x=np.array([lunch_tip, dinner_tip], dtype='object'),\r\n",
        "            labels=['lunch', 'dinner'])\r\n",
        "plt.show()"
      ],
      "execution_count": 88,
      "outputs": [
        {
          "output_type": "display_data",
          "data": {
            "image/png": "[encoded data removed]",
            "text/plain": [
              "<Figure size 432x288 with 1 Axes>"
            ]
          },
          "metadata": {
            "tags": [],
            "needs_background": "light"
          }
        }
      ]
    },
    {
      "cell_type": "code",
      "metadata": {
        "colab": {
          "base_uri": "https://localhost:8080/",
          "height": 327
        },
        "id": "I18n7V5pBm4L",
        "outputId": "74e13221-aacf-478c-8765-8ccc441e7793"
      },
      "source": [
        "# 요일별 tip의 기술 통계량 -> boxplot\r\n",
        "# tips.day.unique()\r\n",
        "thur_tip = tips[tips['day'] == 'Thur']['tip']\r\n",
        "fri_tip = tips[tips['day'] == 'Fri']['tip']\r\n",
        "sat_tip = tips[tips['day'] == 'Sat']['tip']\r\n",
        "sun_tip = tips[tips['day'] == 'Sun']['tip']\r\n",
        "\r\n",
        "plt.boxplot(x=[thur_tip, fri_tip, sat_tip, sun_tip], \r\n",
        "            labels=['Thur', 'Fri', 'Sat', 'Sun'])\r\n",
        "plt.show()"
      ],
      "execution_count": 90,
      "outputs": [
        {
          "output_type": "stream",
          "text": [
            "/usr/local/lib/python3.6/dist-packages/numpy/core/_asarray.py:83: VisibleDeprecationWarning: Creating an ndarray from ragged nested sequences (which is a list-or-tuple of lists-or-tuples-or ndarrays with different lengths or shapes) is deprecated. If you meant to do this, you must specify 'dtype=object' when creating the ndarray\n",
            "  return array(a, dtype, copy=False, order=order)\n"
          ],
          "name": "stderr"
        },
        {
          "output_type": "display_data",
          "data": {
            "image/png": "[encoded data removed]",
            "text/plain": [
              "<Figure size 432x288 with 1 Axes>"
            ]
          },
          "metadata": {
            "tags": [],
            "needs_background": "light"
          }
        }
      ]
    },
    {
      "cell_type": "code",
      "metadata": {
        "colab": {
          "base_uri": "https://localhost:8080/",
          "height": 327
        },
        "id": "EdbhwJB9Jsi4",
        "outputId": "30b72099-5a85-4e27-e4db-add4b66860be"
      },
      "source": [
        "days = tips.day.unique()\r\n",
        "\r\n",
        "tip_by_day = []\r\n",
        "for d in days:\r\n",
        "    tip_by_day.append(tips[tips['day'] == d]['tip'])\r\n",
        "\r\n",
        "plt.boxplot(x=tip_by_day, labels=days)\r\n",
        "plt.show()"
      ],
      "execution_count": 93,
      "outputs": [
        {
          "output_type": "stream",
          "text": [
            "/usr/local/lib/python3.6/dist-packages/numpy/core/_asarray.py:83: VisibleDeprecationWarning: Creating an ndarray from ragged nested sequences (which is a list-or-tuple of lists-or-tuples-or ndarrays with different lengths or shapes) is deprecated. If you meant to do this, you must specify 'dtype=object' when creating the ndarray\n",
            "  return array(a, dtype, copy=False, order=order)\n"
          ],
          "name": "stderr"
        },
        {
          "output_type": "display_data",
          "data": {
            "image/png": "[encoded data removed]",
            "text/plain": [
              "<Figure size 432x288 with 1 Axes>"
            ]
          },
          "metadata": {
            "tags": [],
            "needs_background": "light"
          }
        }
      ]
    },
    {
      "cell_type": "code",
      "metadata": {
        "colab": {
          "base_uri": "https://localhost:8080/",
          "height": 451
        },
        "id": "ks19viJAB0RR",
        "outputId": "00444044-3558-4e3e-a9e6-c3178734c3ba"
      },
      "source": [
        "# subplot 4개를 2x2 형태로 배치\r\n",
        "# 각각의 subplot에 성별 tip, 흡연여부별 tip, 요일별 tip, 시간별 tip boxplot을 그림.\r\n",
        "# tips.smoker.unique()\r\n",
        "smoker_tip = tips[tips['smoker'] == 'Yes']['tip']\r\n",
        "nonsmoker_tip = tips[tips['smoker'] == 'No']['tip']\r\n",
        "\r\n",
        "# fig = plt.figure()\r\n",
        "# ax1 = fig.add_subplot(221)\r\n",
        "\r\n",
        "fig, axes = plt.subplots(nrows=2, ncols=2)\r\n",
        "\r\n",
        "axes[0, 0].boxplot(x=[male_tip, female_tip],\r\n",
        "                   labels=['male', 'female'])\r\n",
        "axes[0, 1].boxplot(x=[smoker_tip, nonsmoker_tip],\r\n",
        "                   labels=['smoker', 'non-smoker'])\r\n",
        "axes[1, 0].boxplot(x=tip_by_day, labels=days)\r\n",
        "axes[1, 1].boxplot(x=[lunch_tip, dinner_tip],\r\n",
        "                   labels=['lunch', 'dinner'])\r\n",
        "\r\n",
        "plt.show()"
      ],
      "execution_count": 101,
      "outputs": [
        {
          "output_type": "stream",
          "text": [
            "/usr/local/lib/python3.6/dist-packages/numpy/core/_asarray.py:83: VisibleDeprecationWarning: Creating an ndarray from ragged nested sequences (which is a list-or-tuple of lists-or-tuples-or ndarrays with different lengths or shapes) is deprecated. If you meant to do this, you must specify 'dtype=object' when creating the ndarray\n",
            "  return array(a, dtype, copy=False, order=order)\n",
            "/usr/local/lib/python3.6/dist-packages/numpy/core/_asarray.py:83: VisibleDeprecationWarning: Creating an ndarray from ragged nested sequences (which is a list-or-tuple of lists-or-tuples-or ndarrays with different lengths or shapes) is deprecated. If you meant to do this, you must specify 'dtype=object' when creating the ndarray\n",
            "  return array(a, dtype, copy=False, order=order)\n",
            "/usr/local/lib/python3.6/dist-packages/numpy/core/_asarray.py:83: VisibleDeprecationWarning: Creating an ndarray from ragged nested sequences (which is a list-or-tuple of lists-or-tuples-or ndarrays with different lengths or shapes) is deprecated. If you meant to do this, you must specify 'dtype=object' when creating the ndarray\n",
            "  return array(a, dtype, copy=False, order=order)\n",
            "/usr/local/lib/python3.6/dist-packages/numpy/core/_asarray.py:83: VisibleDeprecationWarning: Creating an ndarray from ragged nested sequences (which is a list-or-tuple of lists-or-tuples-or ndarrays with different lengths or shapes) is deprecated. If you meant to do this, you must specify 'dtype=object' when creating the ndarray\n",
            "  return array(a, dtype, copy=False, order=order)\n"
          ],
          "name": "stderr"
        },
        {
          "output_type": "display_data",
          "data": {
            "image/png": "[encoded data removed]",
            "text/plain": [
              "<Figure size 432x288 with 4 Axes>"
            ]
          },
          "metadata": {
            "tags": [],
            "needs_background": "light"
          }
        }
      ]
    }
  ]
}