{
  "nbformat": 4,
  "nbformat_minor": 0,
  "metadata": {
    "colab": {
      "name": "da07_matplotlib.ipynb",
      "provenance": [],
      "collapsed_sections": [],
      "authorship_tag": "ABX9TyOB64aDrrSFz3BYYEnl+ObN",
      "include_colab_link": true
    },
    "kernelspec": {
      "name": "python3",
      "display_name": "Python 3"
    }
  },
  "cells": [
    {
      "cell_type": "markdown",
      "metadata": {
        "id": "view-in-github",
        "colab_type": "text"
      },
      "source": [
        "<a href=\"https://colab.research.google.com/github/JakeOh/202011_itw_bd21/blob/main/lab_da/da07_matplotlib.ipynb\" target=\"_parent\"><img src=\"https://colab.research.google.com/assets/colab-badge.svg\" alt=\"Open In Colab\"/></a>"
      ]
    },
    {
      "cell_type": "code",
      "metadata": {
        "id": "QQ4DxYWBSrgB"
      },
      "source": [
        "import matplotlib.pyplot as plt\r\n",
        "# matplotlib 패키지(디렉토리)의 pyplot 모듈(파일)을 plt라는 별명으로 import\r\n",
        "# pyplot 모듈: 시각화를 위한 함수들이 포함\r\n",
        "\r\n",
        "import seaborn as sns  # 예제 데이터 셋"
      ],
      "execution_count": 1,
      "outputs": []
    },
    {
      "cell_type": "code",
      "metadata": {
        "colab": {
          "base_uri": "https://localhost:8080/",
          "height": 214
        },
        "id": "sXCbZuf-UTq5",
        "outputId": "8947718c-e290-40b7-a901-85f75cde538c"
      },
      "source": [
        "# seaborn 패키지의 tips 예제 데이터 셋을 로드.\r\n",
        "tips = sns.load_dataset('tips')\r\n",
        "tips.head()"
      ],
      "execution_count": 2,
      "outputs": [
        {
          "output_type": "execute_result",
          "data": {
            "text/html": [
              "<div>\n",
              "<style scoped>\n",
              "    .dataframe tbody tr th:only-of-type {\n",
              "        vertical-align: middle;\n",
              "    }\n",
              "\n",
              "    .dataframe tbody tr th {\n",
              "        vertical-align: top;\n",
              "    }\n",
              "\n",
              "    .dataframe thead th {\n",
              "        text-align: right;\n",
              "    }\n",
              "</style>\n",
              "<table border=\"1\" class=\"dataframe\">\n",
              "  <thead>\n",
              "    <tr style=\"text-align: right;\">\n",
              "      <th></th>\n",
              "      <th>total_bill</th>\n",
              "      <th>tip</th>\n",
              "      <th>sex</th>\n",
              "      <th>smoker</th>\n",
              "      <th>day</th>\n",
              "      <th>time</th>\n",
              "      <th>size</th>\n",
              "    </tr>\n",
              "  </thead>\n",
              "  <tbody>\n",
              "    <tr>\n",
              "      <th>0</th>\n",
              "      <td>16.99</td>\n",
              "      <td>1.01</td>\n",
              "      <td>Female</td>\n",
              "      <td>No</td>\n",
              "      <td>Sun</td>\n",
              "      <td>Dinner</td>\n",
              "      <td>2</td>\n",
              "    </tr>\n",
              "    <tr>\n",
              "      <th>1</th>\n",
              "      <td>10.34</td>\n",
              "      <td>1.66</td>\n",
              "      <td>Male</td>\n",
              "      <td>No</td>\n",
              "      <td>Sun</td>\n",
              "      <td>Dinner</td>\n",
              "      <td>3</td>\n",
              "    </tr>\n",
              "    <tr>\n",
              "      <th>2</th>\n",
              "      <td>21.01</td>\n",
              "      <td>3.50</td>\n",
              "      <td>Male</td>\n",
              "      <td>No</td>\n",
              "      <td>Sun</td>\n",
              "      <td>Dinner</td>\n",
              "      <td>3</td>\n",
              "    </tr>\n",
              "    <tr>\n",
              "      <th>3</th>\n",
              "      <td>23.68</td>\n",
              "      <td>3.31</td>\n",
              "      <td>Male</td>\n",
              "      <td>No</td>\n",
              "      <td>Sun</td>\n",
              "      <td>Dinner</td>\n",
              "      <td>2</td>\n",
              "    </tr>\n",
              "    <tr>\n",
              "      <th>4</th>\n",
              "      <td>24.59</td>\n",
              "      <td>3.61</td>\n",
              "      <td>Female</td>\n",
              "      <td>No</td>\n",
              "      <td>Sun</td>\n",
              "      <td>Dinner</td>\n",
              "      <td>4</td>\n",
              "    </tr>\n",
              "  </tbody>\n",
              "</table>\n",
              "</div>"
            ],
            "text/plain": [
              "   total_bill   tip     sex smoker  day    time  size\n",
              "0       16.99  1.01  Female     No  Sun  Dinner     2\n",
              "1       10.34  1.66    Male     No  Sun  Dinner     3\n",
              "2       21.01  3.50    Male     No  Sun  Dinner     3\n",
              "3       23.68  3.31    Male     No  Sun  Dinner     2\n",
              "4       24.59  3.61  Female     No  Sun  Dinner     4"
            ]
          },
          "metadata": {
            "tags": []
          },
          "execution_count": 2
        }
      ]
    },
    {
      "cell_type": "markdown",
      "metadata": {
        "id": "DtacQEZ3UwGR"
      },
      "source": [
        "# matplotlib.pyplot 모듈을 사용한 시각화(Visualization)"
      ]
    },
    {
      "cell_type": "code",
      "metadata": {
        "colab": {
          "base_uri": "https://localhost:8080/",
          "height": 295
        },
        "id": "V-rnSKHnUhD5",
        "outputId": "434c21f5-a5f5-42ca-fde7-b9dc9f2b0d38"
      },
      "source": [
        "# 1. figure 객체 생성\r\n",
        "fig = plt.figure()\r\n",
        "\r\n",
        "# 2. figure 객체에 subplot을 생성해서 추가\r\n",
        "axis = fig.add_subplot(1, 1, 1)\r\n",
        "# nrows=1(subplot의 row의 개수), ncols=1(subplot의 column 개수), index=1(subplot의 번호)\r\n",
        "\r\n",
        "# 3. suplot에 그래프를 그림\r\n",
        "axis.hist(x=tips['total_bill'])\r\n",
        "\r\n",
        "# 4. 그래프 옵션 설정\r\n",
        "axis.set_title('Histogram of Total Bill')\r\n",
        "axis.set_xlabel('Total Bill')\r\n",
        "axis.set_ylabel('Counts')\r\n",
        "\r\n",
        "# 5. 그래프 보여주기\r\n",
        "plt.show()"
      ],
      "execution_count": 3,
      "outputs": [
        {
          "output_type": "display_data",
          "data": {
            "image/png": "[encoded data removed]",
            "text/plain": [
              "<Figure size 432x288 with 1 Axes>"
            ]
          },
          "metadata": {
            "tags": [],
            "needs_background": "light"
          }
        }
      ]
    },
    {
      "cell_type": "code",
      "metadata": {
        "colab": {
          "base_uri": "https://localhost:8080/",
          "height": 281
        },
        "id": "hdkg4GnEWaEz",
        "outputId": "a25e7194-879c-4db3-f75e-b76e04676214"
      },
      "source": [
        "# 1개의 Figure에 histogram과 scatter plot을 그리기\r\n",
        "# 1. Figure 생성\r\n",
        "fig = plt.figure()\r\n",
        "\r\n",
        "# 2. subplot을 추가\r\n",
        "ax1 = fig.add_subplot(1, 2, 1)\r\n",
        "ax2 = fig.add_subplot(1, 2, 2)\r\n",
        "\r\n",
        "# 3. subplot에 그래프 그리기\r\n",
        "ax1.hist(x=tips['total_bill'])\r\n",
        "ax2.scatter(x=tips['total_bill'], y=tips['tip'])\r\n",
        "\r\n",
        "# 4. 그래프 옵션\r\n",
        "ax1.set_title('Histogram of Total Bill')\r\n",
        "ax2.set_title('Total Bill vs Tip')\r\n",
        "\r\n",
        "# 5. 그래프 보여주기\r\n",
        "plt.show()"
      ],
      "execution_count": 4,
      "outputs": [
        {
          "output_type": "display_data",
          "data": {
            "image/png": "[encoded data removed]",
            "text/plain": [
              "<Figure size 432x288 with 2 Axes>"
            ]
          },
          "metadata": {
            "tags": [],
            "needs_background": "light"
          }
        }
      ]
    },
    {
      "cell_type": "code",
      "metadata": {
        "colab": {
          "base_uri": "https://localhost:8080/",
          "height": 265
        },
        "id": "3v_uiYQcWxQe",
        "outputId": "1f72494b-682b-48d4-ebcd-8f7c65c8f815"
      },
      "source": [
        "fig = plt.figure()\r\n",
        "\r\n",
        "ax1 = fig.add_subplot(211)  # add_subplot(2, 1, 1)\r\n",
        "ax2 = fig.add_subplot(212)  # add_subplot(2, 1, 2)\r\n",
        "\r\n",
        "ax1.hist(x=tips['total_bill'])\r\n",
        "ax2.scatter(x=tips['total_bill'], y=tips['tip'])\r\n",
        "\r\n",
        "plt.show()"
      ],
      "execution_count": 5,
      "outputs": [
        {
          "output_type": "display_data",
          "data": {
            "image/png": "[encoded data removed]",
            "text/plain": [
              "<Figure size 432x288 with 2 Axes>"
            ]
          },
          "metadata": {
            "tags": [],
            "needs_background": "light"
          }
        }
      ]
    },
    {
      "cell_type": "code",
      "metadata": {
        "colab": {
          "base_uri": "https://localhost:8080/",
          "height": 265
        },
        "id": "rYAAlZashaOs",
        "outputId": "9a0db6b9-9cd2-43ad-bf57-91d1cde13b15"
      },
      "source": [
        "# Figure 생성 + subplot 생성/추가\r\n",
        "fig, axes = plt.subplots(nrows=2, ncols=1)\r\n",
        "#> matplotlib.pyplot.subplots() 함수의 리턴:\r\n",
        "#>  (1) Figure 객체\r\n",
        "#>  (2) Subplot들의 배열(array)\r\n",
        "\r\n",
        "axes[0].hist(x=tips['total_bill'])\r\n",
        "axes[1].hist(x=tips['tip'])\r\n",
        "\r\n",
        "# 옵션 설정\r\n",
        "\r\n",
        "plt.show()"
      ],
      "execution_count": 6,
      "outputs": [
        {
          "output_type": "display_data",
          "data": {
            "image/png": "[encoded data removed]",
            "text/plain": [
              "<Figure size 432x288 with 2 Axes>"
            ]
          },
          "metadata": {
            "tags": [],
            "needs_background": "light"
          }
        }
      ]
    },
    {
      "cell_type": "code",
      "metadata": {
        "colab": {
          "base_uri": "https://localhost:8080/",
          "height": 295
        },
        "id": "GaKHREcUktmO",
        "outputId": "d346e19a-e573-4764-c4aa-ec2dc20898b5"
      },
      "source": [
        "# 1개의 Figure에 Subplot이 1개만 있는 경우에는,\r\n",
        "# matplotlib.pyplot 모듈의 top-level 함수(plot, hist, scatter, boxplot, ...)들만 사용해도 됨.\r\n",
        "plt.hist(x=tips['total_bill'])\r\n",
        "plt.title('Histogram of Total Bill')\r\n",
        "plt.xlabel('Total Bill')\r\n",
        "plt.ylabel('Counts')\r\n",
        "plt.show()"
      ],
      "execution_count": 7,
      "outputs": [
        {
          "output_type": "display_data",
          "data": {
            "image/png": "[encoded data removed]",
            "text/plain": [
              "<Figure size 432x288 with 1 Axes>"
            ]
          },
          "metadata": {
            "tags": [],
            "needs_background": "light"
          }
        }
      ]
    },
    {
      "cell_type": "markdown",
      "metadata": {
        "id": "ykioVas6nOpr"
      },
      "source": [
        "# matplotlib.pyplot의 top-level 그래프 함수"
      ]
    },
    {
      "cell_type": "markdown",
      "metadata": {
        "id": "4Y26Bi0VnXw6"
      },
      "source": [
        "## 선 그래프(plot)"
      ]
    },
    {
      "cell_type": "code",
      "metadata": {
        "id": "9TZq3ZrXnqYh"
      },
      "source": [
        "import numpy as np  # np.random 모듈을 사용하기 위해서"
      ],
      "execution_count": 8,
      "outputs": []
    },
    {
      "cell_type": "code",
      "metadata": {
        "colab": {
          "base_uri": "https://localhost:8080/"
        },
        "id": "ZyiiMyMInudc",
        "outputId": "72dbe34f-3ed1-4be9-ab31-58402f547af4"
      },
      "source": [
        "np.random.seed(1)\r\n",
        "data = np.random.rand(10)\r\n",
        "print(data)"
      ],
      "execution_count": 9,
      "outputs": [
        {
          "output_type": "stream",
          "text": [
            "[4.17022005e-01 7.20324493e-01 1.14374817e-04 3.02332573e-01\n",
            " 1.46755891e-01 9.23385948e-02 1.86260211e-01 3.45560727e-01\n",
            " 3.96767474e-01 5.38816734e-01]\n"
          ],
          "name": "stdout"
        }
      ]
    },
    {
      "cell_type": "code",
      "metadata": {
        "colab": {
          "base_uri": "https://localhost:8080/",
          "height": 265
        },
        "id": "FuhPdIC8n-UK",
        "outputId": "987ca3ad-78ae-45a3-dc16-d06ca686df58"
      },
      "source": [
        "plt.plot(data)\r\n",
        "plt.grid()\r\n",
        "plt.show()"
      ],
      "execution_count": 10,
      "outputs": [
        {
          "output_type": "display_data",
          "data": {
            "image/png": "[encoded data removed]",
            "text/plain": [
              "<Figure size 432x288 with 1 Axes>"
            ]
          },
          "metadata": {
            "tags": [],
            "needs_background": "light"
          }
        }
      ]
    },
    {
      "cell_type": "code",
      "metadata": {
        "colab": {
          "base_uri": "https://localhost:8080/",
          "height": 265
        },
        "id": "oCxGkZC1tUwJ",
        "outputId": "1967616f-8d1c-4b9b-ffa4-e3137f0615c0"
      },
      "source": [
        "plt.plot(data, 'bo-')\r\n",
        "#> fmt: 'bo-'\r\n",
        "#> color=b(blue), marker='o', linestyle='-'(solid line)\r\n",
        "plt.show()"
      ],
      "execution_count": 11,
      "outputs": [
        {
          "output_type": "display_data",
          "data": {
            "image/png": "[encoded data removed]",
            "text/plain": [
              "<Figure size 432x288 with 1 Axes>"
            ]
          },
          "metadata": {
            "tags": [],
            "needs_background": "light"
          }
        }
      ]
    },
    {
      "cell_type": "code",
      "metadata": {
        "colab": {
          "base_uri": "https://localhost:8080/",
          "height": 265
        },
        "id": "XKR01KoquiwF",
        "outputId": "1437e947-29a1-452d-dea5-95944a0f9add"
      },
      "source": [
        "plt.plot(data, 'rs--')  # color=red, marker=square, linestyle=dashed line\r\n",
        "plt.show()"
      ],
      "execution_count": 12,
      "outputs": [
        {
          "output_type": "display_data",
          "data": {
            "image/png": "[encoded data removed]",
            "text/plain": [
              "<Figure size 432x288 with 1 Axes>"
            ]
          },
          "metadata": {
            "tags": [],
            "needs_background": "light"
          }
        }
      ]
    },
    {
      "cell_type": "code",
      "metadata": {
        "colab": {
          "base_uri": "https://localhost:8080/",
          "height": 265
        },
        "id": "crB3o-OSvIqQ",
        "outputId": "c61bb2f5-a450-40c3-da11-c14fe3f0f39c"
      },
      "source": [
        "plt.plot(data, color='green', marker='^', linestyle=':', mfc='red', mec='red')\r\n",
        "plt.show()"
      ],
      "execution_count": 13,
      "outputs": [
        {
          "output_type": "display_data",
          "data": {
            "image/png": "[encoded data removed]",
            "text/plain": [
              "<Figure size 432x288 with 1 Axes>"
            ]
          },
          "metadata": {
            "tags": [],
            "needs_background": "light"
          }
        }
      ]
    },
    {
      "cell_type": "code",
      "metadata": {
        "colab": {
          "base_uri": "https://localhost:8080/",
          "height": 266
        },
        "id": "4nI3GoEFxu3p",
        "outputId": "0a097842-ba67-428e-9d41-7d64be4c87bb"
      },
      "source": [
        "# 1개의 plot에 여러개의 선 그래프 그리기\r\n",
        "np.random.seed(1)\r\n",
        "y1 = np.random.rand(10)\r\n",
        "y2 = np.random.rand(10)\r\n",
        "y3 = np.random.rand(10)\r\n",
        "\r\n",
        "plt.plot(y1, 'r-', label='Data I')  # red solid line\r\n",
        "plt.plot(y2, 'g:', label='Data II')  # green dotted line\r\n",
        "plt.plot(y3, 'b--', label='Data III')  # blue dashed line\r\n",
        "\r\n",
        "plt.legend()  # 각각의 plot에 설정된 label들을 범례로 보여주기.\r\n",
        "\r\n",
        "plt.show()"
      ],
      "execution_count": 14,
      "outputs": [
        {
          "output_type": "display_data",
          "data": {
            "image/png": "[encoded data removed]",
            "text/plain": [
              "<Figure size 432x288 with 1 Axes>"
            ]
          },
          "metadata": {
            "tags": [],
            "needs_background": "light"
          }
        }
      ]
    },
    {
      "cell_type": "markdown",
      "metadata": {
        "id": "RYwm1i-H1aY2"
      },
      "source": [
        "## 상자 그림(Box Plot)"
      ]
    },
    {
      "cell_type": "code",
      "metadata": {
        "colab": {
          "base_uri": "https://localhost:8080/",
          "height": 312
        },
        "id": "L1HwkToi1lQm",
        "outputId": "aa3171c6-415a-4a7d-c67f-79c14c421d18"
      },
      "source": [
        "tips.describe()"
      ],
      "execution_count": 15,
      "outputs": [
        {
          "output_type": "execute_result",
          "data": {
            "text/html": [
              "<div>\n",
              "<style scoped>\n",
              "    .dataframe tbody tr th:only-of-type {\n",
              "        vertical-align: middle;\n",
              "    }\n",
              "\n",
              "    .dataframe tbody tr th {\n",
              "        vertical-align: top;\n",
              "    }\n",
              "\n",
              "    .dataframe thead th {\n",
              "        text-align: right;\n",
              "    }\n",
              "</style>\n",
              "<table border=\"1\" class=\"dataframe\">\n",
              "  <thead>\n",
              "    <tr style=\"text-align: right;\">\n",
              "      <th></th>\n",
              "      <th>total_bill</th>\n",
              "      <th>tip</th>\n",
              "      <th>size</th>\n",
              "    </tr>\n",
              "  </thead>\n",
              "  <tbody>\n",
              "    <tr>\n",
              "      <th>count</th>\n",
              "      <td>244.000000</td>\n",
              "      <td>244.000000</td>\n",
              "      <td>244.000000</td>\n",
              "    </tr>\n",
              "    <tr>\n",
              "      <th>mean</th>\n",
              "      <td>19.785943</td>\n",
              "      <td>2.998279</td>\n",
              "      <td>2.569672</td>\n",
              "    </tr>\n",
              "    <tr>\n",
              "      <th>std</th>\n",
              "      <td>8.902412</td>\n",
              "      <td>1.383638</td>\n",
              "      <td>0.951100</td>\n",
              "    </tr>\n",
              "    <tr>\n",
              "      <th>min</th>\n",
              "      <td>3.070000</td>\n",
              "      <td>1.000000</td>\n",
              "      <td>1.000000</td>\n",
              "    </tr>\n",
              "    <tr>\n",
              "      <th>25%</th>\n",
              "      <td>13.347500</td>\n",
              "      <td>2.000000</td>\n",
              "      <td>2.000000</td>\n",
              "    </tr>\n",
              "    <tr>\n",
              "      <th>50%</th>\n",
              "      <td>17.795000</td>\n",
              "      <td>2.900000</td>\n",
              "      <td>2.000000</td>\n",
              "    </tr>\n",
              "    <tr>\n",
              "      <th>75%</th>\n",
              "      <td>24.127500</td>\n",
              "      <td>3.562500</td>\n",
              "      <td>3.000000</td>\n",
              "    </tr>\n",
              "    <tr>\n",
              "      <th>max</th>\n",
              "      <td>50.810000</td>\n",
              "      <td>10.000000</td>\n",
              "      <td>6.000000</td>\n",
              "    </tr>\n",
              "  </tbody>\n",
              "</table>\n",
              "</div>"
            ],
            "text/plain": [
              "       total_bill         tip        size\n",
              "count  244.000000  244.000000  244.000000\n",
              "mean    19.785943    2.998279    2.569672\n",
              "std      8.902412    1.383638    0.951100\n",
              "min      3.070000    1.000000    1.000000\n",
              "25%     13.347500    2.000000    2.000000\n",
              "50%     17.795000    2.900000    2.000000\n",
              "75%     24.127500    3.562500    3.000000\n",
              "max     50.810000   10.000000    6.000000"
            ]
          },
          "metadata": {
            "tags": []
          },
          "execution_count": 15
        }
      ]
    },
    {
      "cell_type": "code",
      "metadata": {
        "colab": {
          "base_uri": "https://localhost:8080/",
          "height": 265
        },
        "id": "cXc90IAm104D",
        "outputId": "f3deb20c-977e-4c0a-a95a-6a45b23245af"
      },
      "source": [
        "plt.boxplot(x=tips['total_bill'], labels=['total bill'])\r\n",
        "plt.show()"
      ],
      "execution_count": 16,
      "outputs": [
        {
          "output_type": "display_data",
          "data": {
            "image/png": "[encoded data removed]",
            "text/plain": [
              "<Figure size 432x288 with 1 Axes>"
            ]
          },
          "metadata": {
            "tags": [],
            "needs_background": "light"
          }
        }
      ]
    },
    {
      "cell_type": "code",
      "metadata": {
        "colab": {
          "base_uri": "https://localhost:8080/",
          "height": 265
        },
        "id": "EgaSy41s3VNZ",
        "outputId": "8e361968-c182-4444-d2e2-86c237889275"
      },
      "source": [
        "plt.boxplot(x=[tips.total_bill, tips.tip], \r\n",
        "            labels=['Total Bill', 'Tip'])\r\n",
        "plt.show()"
      ],
      "execution_count": 17,
      "outputs": [
        {
          "output_type": "display_data",
          "data": {
            "image/png": "[encoded data removed]",
            "text/plain": [
              "<Figure size 432x288 with 1 Axes>"
            ]
          },
          "metadata": {
            "tags": [],
            "needs_background": "light"
          }
        }
      ]
    },
    {
      "cell_type": "code",
      "metadata": {
        "colab": {
          "base_uri": "https://localhost:8080/"
        },
        "id": "asIkoJ406xBm",
        "outputId": "59cede9c-ee0d-48c6-819d-0298abb4b534"
      },
      "source": [
        "# 성별 tip의 기술 통계량 요약 -> boxplot\r\n",
        "male_tip = tips[tips['sex'] == 'Male']['tip']\r\n",
        "female_tip = tips[tips.sex == 'Female'].tip\r\n",
        "\r\n",
        "print(male_tip.describe())\r\n",
        "print()\r\n",
        "print(female_tip.describe())"
      ],
      "execution_count": 18,
      "outputs": [
        {
          "output_type": "stream",
          "text": [
            "count    157.000000\n",
            "mean       3.089618\n",
            "std        1.489102\n",
            "min        1.000000\n",
            "25%        2.000000\n",
            "50%        3.000000\n",
            "75%        3.760000\n",
            "max       10.000000\n",
            "Name: tip, dtype: float64\n",
            "\n",
            "count    87.000000\n",
            "mean      2.833448\n",
            "std       1.159495\n",
            "min       1.000000\n",
            "25%       2.000000\n",
            "50%       2.750000\n",
            "75%       3.500000\n",
            "max       6.500000\n",
            "Name: tip, dtype: float64\n"
          ],
          "name": "stdout"
        }
      ]
    },
    {
      "cell_type": "code",
      "metadata": {
        "colab": {
          "base_uri": "https://localhost:8080/",
          "height": 265
        },
        "id": "9Hca48eA-gkU",
        "outputId": "a2c45d31-166e-4a82-c952-ae03b52e9690"
      },
      "source": [
        "import numpy as np\r\n",
        "\r\n",
        "plt.boxplot(x=np.array([male_tip, female_tip], dtype='object'), labels=['Male', 'Female'])\r\n",
        "plt.show()"
      ],
      "execution_count": 19,
      "outputs": [
        {
          "output_type": "display_data",
          "data": {
            "image/png": "[encoded data removed]",
            "text/plain": [
              "<Figure size 432x288 with 1 Axes>"
            ]
          },
          "metadata": {
            "tags": [],
            "needs_background": "light"
          }
        }
      ]
    },
    {
      "cell_type": "code",
      "metadata": {
        "colab": {
          "base_uri": "https://localhost:8080/"
        },
        "id": "xQfmTlxU7iHc",
        "outputId": "90aff85f-b265-4cfa-ac60-1b34415ddc76"
      },
      "source": [
        "# 시간별 tip의 기술 통계량 요약 -> boxplot\r\n",
        "dinner_tip = tips[tips['time'] == 'Dinner']['tip']\r\n",
        "dinner_tip.describe()"
      ],
      "execution_count": 20,
      "outputs": [
        {
          "output_type": "execute_result",
          "data": {
            "text/plain": [
              "count    176.000000\n",
              "mean       3.102670\n",
              "std        1.436243\n",
              "min        1.000000\n",
              "25%        2.000000\n",
              "50%        3.000000\n",
              "75%        3.687500\n",
              "max       10.000000\n",
              "Name: tip, dtype: float64"
            ]
          },
          "metadata": {
            "tags": []
          },
          "execution_count": 20
        }
      ]
    },
    {
      "cell_type": "code",
      "metadata": {
        "colab": {
          "base_uri": "https://localhost:8080/"
        },
        "id": "m0-MsxqqAylk",
        "outputId": "74cb1475-c670-46c3-b4db-e24bf950d4d3"
      },
      "source": [
        "lunch_tip = tips[tips.time == 'Lunch'].tip\r\n",
        "lunch_tip.describe()"
      ],
      "execution_count": 21,
      "outputs": [
        {
          "output_type": "execute_result",
          "data": {
            "text/plain": [
              "count    68.000000\n",
              "mean      2.728088\n",
              "std       1.205345\n",
              "min       1.250000\n",
              "25%       2.000000\n",
              "50%       2.250000\n",
              "75%       3.287500\n",
              "max       6.700000\n",
              "Name: tip, dtype: float64"
            ]
          },
          "metadata": {
            "tags": []
          },
          "execution_count": 21
        }
      ]
    },
    {
      "cell_type": "code",
      "metadata": {
        "colab": {
          "base_uri": "https://localhost:8080/",
          "height": 265
        },
        "id": "OhSY_ioHA-k7",
        "outputId": "fcc74450-779b-49f3-a190-0d49110be4ee"
      },
      "source": [
        "plt.boxplot(x=np.array([lunch_tip, dinner_tip], dtype='object'),\r\n",
        "            labels=['lunch', 'dinner'])\r\n",
        "plt.show()"
      ],
      "execution_count": 22,
      "outputs": [
        {
          "output_type": "display_data",
          "data": {
            "image/png": "[encoded data removed]",
            "text/plain": [
              "<Figure size 432x288 with 1 Axes>"
            ]
          },
          "metadata": {
            "tags": [],
            "needs_background": "light"
          }
        }
      ]
    },
    {
      "cell_type": "code",
      "metadata": {
        "colab": {
          "base_uri": "https://localhost:8080/",
          "height": 327
        },
        "id": "I18n7V5pBm4L",
        "outputId": "76329bfe-a290-4c5b-b645-2044490f0eb5"
      },
      "source": [
        "# 요일별 tip의 기술 통계량 -> boxplot\r\n",
        "# tips.day.unique()\r\n",
        "thur_tip = tips[tips['day'] == 'Thur']['tip']\r\n",
        "fri_tip = tips[tips['day'] == 'Fri']['tip']\r\n",
        "sat_tip = tips[tips['day'] == 'Sat']['tip']\r\n",
        "sun_tip = tips[tips['day'] == 'Sun']['tip']\r\n",
        "\r\n",
        "plt.boxplot(x=[thur_tip, fri_tip, sat_tip, sun_tip], \r\n",
        "            labels=['Thur', 'Fri', 'Sat', 'Sun'])\r\n",
        "plt.show()"
      ],
      "execution_count": 23,
      "outputs": [
        {
          "output_type": "stream",
          "text": [
            "/usr/local/lib/python3.6/dist-packages/numpy/core/_asarray.py:83: VisibleDeprecationWarning: Creating an ndarray from ragged nested sequences (which is a list-or-tuple of lists-or-tuples-or ndarrays with different lengths or shapes) is deprecated. If you meant to do this, you must specify 'dtype=object' when creating the ndarray\n",
            "  return array(a, dtype, copy=False, order=order)\n"
          ],
          "name": "stderr"
        },
        {
          "output_type": "display_data",
          "data": {
            "image/png": "[encoded data removed]",
            "text/plain": [
              "<Figure size 432x288 with 1 Axes>"
            ]
          },
          "metadata": {
            "tags": [],
            "needs_background": "light"
          }
        }
      ]
    },
    {
      "cell_type": "code",
      "metadata": {
        "colab": {
          "base_uri": "https://localhost:8080/",
          "height": 327
        },
        "id": "EdbhwJB9Jsi4",
        "outputId": "590e21fc-4bfc-450d-bef3-8950af35e242"
      },
      "source": [
        "days = tips.day.unique()\r\n",
        "\r\n",
        "tip_by_day = []\r\n",
        "for d in days:\r\n",
        "    tip_by_day.append(tips[tips['day'] == d]['tip'])\r\n",
        "\r\n",
        "plt.boxplot(x=tip_by_day, labels=days)\r\n",
        "plt.show()"
      ],
      "execution_count": 24,
      "outputs": [
        {
          "output_type": "stream",
          "text": [
            "/usr/local/lib/python3.6/dist-packages/numpy/core/_asarray.py:83: VisibleDeprecationWarning: Creating an ndarray from ragged nested sequences (which is a list-or-tuple of lists-or-tuples-or ndarrays with different lengths or shapes) is deprecated. If you meant to do this, you must specify 'dtype=object' when creating the ndarray\n",
            "  return array(a, dtype, copy=False, order=order)\n"
          ],
          "name": "stderr"
        },
        {
          "output_type": "display_data",
          "data": {
            "image/png": "[encoded data removed]",
            "text/plain": [
              "<Figure size 432x288 with 1 Axes>"
            ]
          },
          "metadata": {
            "tags": [],
            "needs_background": "light"
          }
        }
      ]
    },
    {
      "cell_type": "code",
      "metadata": {
        "colab": {
          "base_uri": "https://localhost:8080/",
          "height": 451
        },
        "id": "ks19viJAB0RR",
        "outputId": "40a041ae-4fbc-4645-ef76-4f4cc8b95e13"
      },
      "source": [
        "# subplot 4개를 2x2 형태로 배치\r\n",
        "# 각각의 subplot에 성별 tip, 흡연여부별 tip, 요일별 tip, 시간별 tip boxplot을 그림.\r\n",
        "# tips.smoker.unique()\r\n",
        "smoker_tip = tips[tips['smoker'] == 'Yes']['tip']\r\n",
        "nonsmoker_tip = tips[tips['smoker'] == 'No']['tip']\r\n",
        "\r\n",
        "# fig = plt.figure()\r\n",
        "# ax1 = fig.add_subplot(221)\r\n",
        "\r\n",
        "fig, axes = plt.subplots(nrows=2, ncols=2)\r\n",
        "\r\n",
        "axes[0, 0].boxplot(x=[male_tip, female_tip],\r\n",
        "                   labels=['male', 'female'])\r\n",
        "axes[0, 1].boxplot(x=[smoker_tip, nonsmoker_tip],\r\n",
        "                   labels=['smoker', 'non-smoker'])\r\n",
        "axes[1, 0].boxplot(x=tip_by_day, labels=days)\r\n",
        "axes[1, 1].boxplot(x=[lunch_tip, dinner_tip],\r\n",
        "                   labels=['lunch', 'dinner'])\r\n",
        "\r\n",
        "plt.show()"
      ],
      "execution_count": 25,
      "outputs": [
        {
          "output_type": "stream",
          "text": [
            "/usr/local/lib/python3.6/dist-packages/numpy/core/_asarray.py:83: VisibleDeprecationWarning: Creating an ndarray from ragged nested sequences (which is a list-or-tuple of lists-or-tuples-or ndarrays with different lengths or shapes) is deprecated. If you meant to do this, you must specify 'dtype=object' when creating the ndarray\n",
            "  return array(a, dtype, copy=False, order=order)\n",
            "/usr/local/lib/python3.6/dist-packages/numpy/core/_asarray.py:83: VisibleDeprecationWarning: Creating an ndarray from ragged nested sequences (which is a list-or-tuple of lists-or-tuples-or ndarrays with different lengths or shapes) is deprecated. If you meant to do this, you must specify 'dtype=object' when creating the ndarray\n",
            "  return array(a, dtype, copy=False, order=order)\n",
            "/usr/local/lib/python3.6/dist-packages/numpy/core/_asarray.py:83: VisibleDeprecationWarning: Creating an ndarray from ragged nested sequences (which is a list-or-tuple of lists-or-tuples-or ndarrays with different lengths or shapes) is deprecated. If you meant to do this, you must specify 'dtype=object' when creating the ndarray\n",
            "  return array(a, dtype, copy=False, order=order)\n",
            "/usr/local/lib/python3.6/dist-packages/numpy/core/_asarray.py:83: VisibleDeprecationWarning: Creating an ndarray from ragged nested sequences (which is a list-or-tuple of lists-or-tuples-or ndarrays with different lengths or shapes) is deprecated. If you meant to do this, you must specify 'dtype=object' when creating the ndarray\n",
            "  return array(a, dtype, copy=False, order=order)\n"
          ],
          "name": "stderr"
        },
        {
          "output_type": "display_data",
          "data": {
            "image/png": "[encoded data removed]",
            "text/plain": [
              "<Figure size 432x288 with 4 Axes>"
            ]
          },
          "metadata": {
            "tags": [],
            "needs_background": "light"
          }
        }
      ]
    },
    {
      "cell_type": "markdown",
      "metadata": {
        "id": "FCrpuoN4p514"
      },
      "source": [
        "## 히스토그램(Histogram)"
      ]
    },
    {
      "cell_type": "code",
      "metadata": {
        "colab": {
          "base_uri": "https://localhost:8080/",
          "height": 214
        },
        "id": "tqyVr_quqRwU",
        "outputId": "a31dbc8c-1550-4f77-f3e3-c01f33e95faf"
      },
      "source": [
        "tips.head()"
      ],
      "execution_count": 26,
      "outputs": [
        {
          "output_type": "execute_result",
          "data": {
            "text/html": [
              "<div>\n",
              "<style scoped>\n",
              "    .dataframe tbody tr th:only-of-type {\n",
              "        vertical-align: middle;\n",
              "    }\n",
              "\n",
              "    .dataframe tbody tr th {\n",
              "        vertical-align: top;\n",
              "    }\n",
              "\n",
              "    .dataframe thead th {\n",
              "        text-align: right;\n",
              "    }\n",
              "</style>\n",
              "<table border=\"1\" class=\"dataframe\">\n",
              "  <thead>\n",
              "    <tr style=\"text-align: right;\">\n",
              "      <th></th>\n",
              "      <th>total_bill</th>\n",
              "      <th>tip</th>\n",
              "      <th>sex</th>\n",
              "      <th>smoker</th>\n",
              "      <th>day</th>\n",
              "      <th>time</th>\n",
              "      <th>size</th>\n",
              "    </tr>\n",
              "  </thead>\n",
              "  <tbody>\n",
              "    <tr>\n",
              "      <th>0</th>\n",
              "      <td>16.99</td>\n",
              "      <td>1.01</td>\n",
              "      <td>Female</td>\n",
              "      <td>No</td>\n",
              "      <td>Sun</td>\n",
              "      <td>Dinner</td>\n",
              "      <td>2</td>\n",
              "    </tr>\n",
              "    <tr>\n",
              "      <th>1</th>\n",
              "      <td>10.34</td>\n",
              "      <td>1.66</td>\n",
              "      <td>Male</td>\n",
              "      <td>No</td>\n",
              "      <td>Sun</td>\n",
              "      <td>Dinner</td>\n",
              "      <td>3</td>\n",
              "    </tr>\n",
              "    <tr>\n",
              "      <th>2</th>\n",
              "      <td>21.01</td>\n",
              "      <td>3.50</td>\n",
              "      <td>Male</td>\n",
              "      <td>No</td>\n",
              "      <td>Sun</td>\n",
              "      <td>Dinner</td>\n",
              "      <td>3</td>\n",
              "    </tr>\n",
              "    <tr>\n",
              "      <th>3</th>\n",
              "      <td>23.68</td>\n",
              "      <td>3.31</td>\n",
              "      <td>Male</td>\n",
              "      <td>No</td>\n",
              "      <td>Sun</td>\n",
              "      <td>Dinner</td>\n",
              "      <td>2</td>\n",
              "    </tr>\n",
              "    <tr>\n",
              "      <th>4</th>\n",
              "      <td>24.59</td>\n",
              "      <td>3.61</td>\n",
              "      <td>Female</td>\n",
              "      <td>No</td>\n",
              "      <td>Sun</td>\n",
              "      <td>Dinner</td>\n",
              "      <td>4</td>\n",
              "    </tr>\n",
              "  </tbody>\n",
              "</table>\n",
              "</div>"
            ],
            "text/plain": [
              "   total_bill   tip     sex smoker  day    time  size\n",
              "0       16.99  1.01  Female     No  Sun  Dinner     2\n",
              "1       10.34  1.66    Male     No  Sun  Dinner     3\n",
              "2       21.01  3.50    Male     No  Sun  Dinner     3\n",
              "3       23.68  3.31    Male     No  Sun  Dinner     2\n",
              "4       24.59  3.61  Female     No  Sun  Dinner     4"
            ]
          },
          "metadata": {
            "tags": []
          },
          "execution_count": 26
        }
      ]
    },
    {
      "cell_type": "code",
      "metadata": {
        "colab": {
          "base_uri": "https://localhost:8080/",
          "height": 265
        },
        "id": "kgq1Mcizqnkj",
        "outputId": "63756b6f-4d06-44d9-ac3b-e6c2c1e841ec"
      },
      "source": [
        "plt.hist(x=tips['total_bill'], bins=10)\r\n",
        "plt.grid()\r\n",
        "plt.show()"
      ],
      "execution_count": 31,
      "outputs": [
        {
          "output_type": "display_data",
          "data": {
            "image/png": "[encoded data removed]",
            "text/plain": [
              "<Figure size 432x288 with 1 Axes>"
            ]
          },
          "metadata": {
            "tags": [],
            "needs_background": "light"
          }
        }
      ]
    },
    {
      "cell_type": "code",
      "metadata": {
        "colab": {
          "base_uri": "https://localhost:8080/",
          "height": 265
        },
        "id": "a8VrK5N4sn28",
        "outputId": "fce990c7-238a-47a2-a952-5657fb0c39a8"
      },
      "source": [
        "plt.hist(x=tips['total_bill'], density=True)\r\n",
        "plt.grid()\r\n",
        "plt.show()"
      ],
      "execution_count": 33,
      "outputs": [
        {
          "output_type": "display_data",
          "data": {
            "image/png": "[encoded data removed]",
            "text/plain": [
              "<Figure size 432x288 with 1 Axes>"
            ]
          },
          "metadata": {
            "tags": [],
            "needs_background": "light"
          }
        }
      ]
    },
    {
      "cell_type": "code",
      "metadata": {
        "colab": {
          "base_uri": "https://localhost:8080/",
          "height": 265
        },
        "id": "F__z_XQRtX79",
        "outputId": "1cb1eb8a-4bfb-499e-c129-ecae594d6a04"
      },
      "source": [
        "plt.hist(x=tips['tip'], color='white', edgecolor='black')\r\n",
        "plt.show()"
      ],
      "execution_count": 37,
      "outputs": [
        {
          "output_type": "display_data",
          "data": {
            "image/png": "[encoded data removed]",
            "text/plain": [
              "<Figure size 432x288 with 1 Axes>"
            ]
          },
          "metadata": {
            "tags": [],
            "needs_background": "light"
          }
        }
      ]
    },
    {
      "cell_type": "markdown",
      "metadata": {
        "id": "v8IgjQxtyjmx"
      },
      "source": [
        "## 산점도 그래프(Scatter Plot)"
      ]
    },
    {
      "cell_type": "code",
      "metadata": {
        "colab": {
          "base_uri": "https://localhost:8080/",
          "height": 279
        },
        "id": "e3Z5_pTnyrx5",
        "outputId": "b2424985-b2db-4219-97dd-ff64f0430ddb"
      },
      "source": [
        "# plot() 함수를 사용한 scatter plot - linestyle='', marker='o'\r\n",
        "# tip ~ total_bill\r\n",
        "# plt.plot(tips['total_bill'], tips['tip'], 'o')\r\n",
        "plt.plot(tips['total_bill'], tips['tip'], marker='o', linestyle='')\r\n",
        "plt.xlabel('total bill')\r\n",
        "plt.ylabel('tip')\r\n",
        "plt.show()"
      ],
      "execution_count": 47,
      "outputs": [
        {
          "output_type": "display_data",
          "data": {
            "image/png": "[encoded data removed]",
            "text/plain": [
              "<Figure size 432x288 with 1 Axes>"
            ]
          },
          "metadata": {
            "tags": [],
            "needs_background": "light"
          }
        }
      ]
    },
    {
      "cell_type": "code",
      "metadata": {
        "colab": {
          "base_uri": "https://localhost:8080/",
          "height": 265
        },
        "id": "K4gwgJp80YGa",
        "outputId": "fd408ff8-a9da-4359-c43b-9cc2e0663423"
      },
      "source": [
        "# scatter() 함수를 사용한 scatter plot\r\n",
        "plt.scatter(x=tips['total_bill'], y=tips['tip'],\r\n",
        "            s=50,            # s: marker sixe\r\n",
        "            c='#101010',  # c: marker color\r\n",
        "            marker='^',      # marker: marker 종류\r\n",
        "            alpha=0.4)       # alpha: (불)투명도. 0(투명) ~ 1(불투명).\r\n",
        "plt.show()"
      ],
      "execution_count": 68,
      "outputs": [
        {
          "output_type": "display_data",
          "data": {
            "image/png": "[encoded data removed]",
            "text/plain": [
              "<Figure size 432x288 with 1 Axes>"
            ]
          },
          "metadata": {
            "tags": [],
            "needs_background": "light"
          }
        }
      ]
    },
    {
      "cell_type": "markdown",
      "metadata": {
        "id": "iSZNDFq44J5Z"
      },
      "source": [
        "## 막대 그래프(Bar Plot)"
      ]
    },
    {
      "cell_type": "code",
      "metadata": {
        "colab": {
          "base_uri": "https://localhost:8080/",
          "height": 214
        },
        "id": "262oxIlq4RsQ",
        "outputId": "b1272a6c-e9b2-4929-ef6a-c9dfa2502279"
      },
      "source": [
        "tips.head()"
      ],
      "execution_count": 69,
      "outputs": [
        {
          "output_type": "execute_result",
          "data": {
            "text/html": [
              "<div>\n",
              "<style scoped>\n",
              "    .dataframe tbody tr th:only-of-type {\n",
              "        vertical-align: middle;\n",
              "    }\n",
              "\n",
              "    .dataframe tbody tr th {\n",
              "        vertical-align: top;\n",
              "    }\n",
              "\n",
              "    .dataframe thead th {\n",
              "        text-align: right;\n",
              "    }\n",
              "</style>\n",
              "<table border=\"1\" class=\"dataframe\">\n",
              "  <thead>\n",
              "    <tr style=\"text-align: right;\">\n",
              "      <th></th>\n",
              "      <th>total_bill</th>\n",
              "      <th>tip</th>\n",
              "      <th>sex</th>\n",
              "      <th>smoker</th>\n",
              "      <th>day</th>\n",
              "      <th>time</th>\n",
              "      <th>size</th>\n",
              "    </tr>\n",
              "  </thead>\n",
              "  <tbody>\n",
              "    <tr>\n",
              "      <th>0</th>\n",
              "      <td>16.99</td>\n",
              "      <td>1.01</td>\n",
              "      <td>Female</td>\n",
              "      <td>No</td>\n",
              "      <td>Sun</td>\n",
              "      <td>Dinner</td>\n",
              "      <td>2</td>\n",
              "    </tr>\n",
              "    <tr>\n",
              "      <th>1</th>\n",
              "      <td>10.34</td>\n",
              "      <td>1.66</td>\n",
              "      <td>Male</td>\n",
              "      <td>No</td>\n",
              "      <td>Sun</td>\n",
              "      <td>Dinner</td>\n",
              "      <td>3</td>\n",
              "    </tr>\n",
              "    <tr>\n",
              "      <th>2</th>\n",
              "      <td>21.01</td>\n",
              "      <td>3.50</td>\n",
              "      <td>Male</td>\n",
              "      <td>No</td>\n",
              "      <td>Sun</td>\n",
              "      <td>Dinner</td>\n",
              "      <td>3</td>\n",
              "    </tr>\n",
              "    <tr>\n",
              "      <th>3</th>\n",
              "      <td>23.68</td>\n",
              "      <td>3.31</td>\n",
              "      <td>Male</td>\n",
              "      <td>No</td>\n",
              "      <td>Sun</td>\n",
              "      <td>Dinner</td>\n",
              "      <td>2</td>\n",
              "    </tr>\n",
              "    <tr>\n",
              "      <th>4</th>\n",
              "      <td>24.59</td>\n",
              "      <td>3.61</td>\n",
              "      <td>Female</td>\n",
              "      <td>No</td>\n",
              "      <td>Sun</td>\n",
              "      <td>Dinner</td>\n",
              "      <td>4</td>\n",
              "    </tr>\n",
              "  </tbody>\n",
              "</table>\n",
              "</div>"
            ],
            "text/plain": [
              "   total_bill   tip     sex smoker  day    time  size\n",
              "0       16.99  1.01  Female     No  Sun  Dinner     2\n",
              "1       10.34  1.66    Male     No  Sun  Dinner     3\n",
              "2       21.01  3.50    Male     No  Sun  Dinner     3\n",
              "3       23.68  3.31    Male     No  Sun  Dinner     2\n",
              "4       24.59  3.61  Female     No  Sun  Dinner     4"
            ]
          },
          "metadata": {
            "tags": []
          },
          "execution_count": 69
        }
      ]
    },
    {
      "cell_type": "code",
      "metadata": {
        "colab": {
          "base_uri": "https://localhost:8080/"
        },
        "id": "DVk_5cK74f0P",
        "outputId": "2d0fcfb2-4d9a-4e10-d4bb-0dea474d9cea"
      },
      "source": [
        "# 카테고리 타입의 변수의 빈도수를 찾음.\r\n",
        "gender_count = tips['sex'].value_counts()\r\n",
        "print(gender_count)\r\n",
        "print(type(gender_count))\r\n",
        "print(gender_count.index)\r\n",
        "print(gender_count.values)"
      ],
      "execution_count": 74,
      "outputs": [
        {
          "output_type": "stream",
          "text": [
            "Male      157\n",
            "Female     87\n",
            "Name: sex, dtype: int64\n",
            "<class 'pandas.core.series.Series'>\n",
            "CategoricalIndex(['Male', 'Female'], categories=['Male', 'Female'], ordered=False, dtype='category')\n",
            "[157  87]\n"
          ],
          "name": "stdout"
        }
      ]
    },
    {
      "cell_type": "code",
      "metadata": {
        "colab": {
          "base_uri": "https://localhost:8080/",
          "height": 265
        },
        "id": "6TS-51Pr6ZZA",
        "outputId": "dbd9c3d1-bf33-42a5-c393-09122715f811"
      },
      "source": [
        "# value_counts() 메서드가 리턴해주는 Series의 index와 values를 사용해서 막대 그래프를 그림\r\n",
        "plt.bar(x=gender_count.index, height=gender_count.values, width=0.5)\r\n",
        "plt.show()"
      ],
      "execution_count": 77,
      "outputs": [
        {
          "output_type": "display_data",
          "data": {
            "image/png": "[encoded data removed]",
            "text/plain": [
              "<Figure size 432x288 with 1 Axes>"
            ]
          },
          "metadata": {
            "tags": [],
            "needs_background": "light"
          }
        }
      ]
    },
    {
      "cell_type": "code",
      "metadata": {
        "colab": {
          "base_uri": "https://localhost:8080/",
          "height": 265
        },
        "id": "0NIDN1-068He",
        "outputId": "585a2a4a-ccba-43ac-ee0d-44df0702fd3f"
      },
      "source": [
        "plt.barh(y=gender_count.index, width=gender_count.values)\r\n",
        "plt.show()"
      ],
      "execution_count": 78,
      "outputs": [
        {
          "output_type": "display_data",
          "data": {
            "image/png": "[encoded data removed]",
            "text/plain": [
              "<Figure size 432x288 with 1 Axes>"
            ]
          },
          "metadata": {
            "tags": [],
            "needs_background": "light"
          }
        }
      ]
    },
    {
      "cell_type": "code",
      "metadata": {
        "colab": {
          "base_uri": "https://localhost:8080/"
        },
        "id": "KeDXwua07u_o",
        "outputId": "ef9e8405-219d-4fd1-ab8c-82314cb0dad6"
      },
      "source": [
        "# figure에 2x2 모양으로 subplot을 추가하고,\r\n",
        "# 각각의 subplot에 smoker, day, time, size의 막대 그래프를 그려보세요.\r\n",
        "smoker_count = tips.smoker.value_counts()\r\n",
        "print(smoker_count)"
      ],
      "execution_count": 79,
      "outputs": [
        {
          "output_type": "stream",
          "text": [
            "No     151\n",
            "Yes     93\n",
            "Name: smoker, dtype: int64\n"
          ],
          "name": "stdout"
        }
      ]
    },
    {
      "cell_type": "code",
      "metadata": {
        "colab": {
          "base_uri": "https://localhost:8080/"
        },
        "id": "lwQc54dTATto",
        "outputId": "bea2ad4d-1bf1-495e-f1cd-ee9424ee63d9"
      },
      "source": [
        "day_count = tips.day.value_counts()\r\n",
        "print(day_count)"
      ],
      "execution_count": 80,
      "outputs": [
        {
          "output_type": "stream",
          "text": [
            "Sat     87\n",
            "Sun     76\n",
            "Thur    62\n",
            "Fri     19\n",
            "Name: day, dtype: int64\n"
          ],
          "name": "stdout"
        }
      ]
    },
    {
      "cell_type": "code",
      "metadata": {
        "colab": {
          "base_uri": "https://localhost:8080/"
        },
        "id": "K5hYVmktAi9R",
        "outputId": "1582c2bb-868e-4894-9c14-b37ff6f5cd0c"
      },
      "source": [
        "time_count = tips.time.value_counts()\r\n",
        "print(time_count)"
      ],
      "execution_count": 81,
      "outputs": [
        {
          "output_type": "stream",
          "text": [
            "Dinner    176\n",
            "Lunch      68\n",
            "Name: time, dtype: int64\n"
          ],
          "name": "stdout"
        }
      ]
    },
    {
      "cell_type": "code",
      "metadata": {
        "colab": {
          "base_uri": "https://localhost:8080/"
        },
        "id": "j89liMksAsUH",
        "outputId": "429a78cf-74f1-4543-d49e-3d9330536ff5"
      },
      "source": [
        "size_count = tips['size'].value_counts()\r\n",
        "print(size_count)"
      ],
      "execution_count": 83,
      "outputs": [
        {
          "output_type": "stream",
          "text": [
            "2    156\n",
            "3     38\n",
            "4     37\n",
            "5      5\n",
            "6      4\n",
            "1      4\n",
            "Name: size, dtype: int64\n"
          ],
          "name": "stdout"
        }
      ]
    },
    {
      "cell_type": "code",
      "metadata": {
        "colab": {
          "base_uri": "https://localhost:8080/",
          "height": 281
        },
        "id": "8fSpmtoFBVs5",
        "outputId": "5bc9721d-dfa0-42f3-d88b-cdc1bca3c020"
      },
      "source": [
        "fig, axes = plt.subplots(nrows=2, ncols=2)\r\n",
        "axes[0, 0].bar(smoker_count.index, smoker_count.values)\r\n",
        "axes[0, 0].set_title('Smoker')\r\n",
        "axes[0, 1].bar(day_count.index, day_count.values)\r\n",
        "axes[1, 0].bar(time_count.index, time_count.values)\r\n",
        "axes[1, 1].bar(size_count.index, size_count.values)\r\n",
        "\r\n",
        "plt.show()"
      ],
      "execution_count": 89,
      "outputs": [
        {
          "output_type": "display_data",
          "data": {
            "image/png": "[encoded data removed]",
            "text/plain": [
              "<Figure size 432x288 with 4 Axes>"
            ]
          },
          "metadata": {
            "tags": [],
            "needs_background": "light"
          }
        }
      ]
    },
    {
      "cell_type": "code",
      "metadata": {
        "colab": {
          "base_uri": "https://localhost:8080/",
          "height": 265
        },
        "id": "RfV6iGKuC7n-",
        "outputId": "e877642c-d7ce-4077-c6fb-90c52dd1aa32"
      },
      "source": [
        "category_counts = [\r\n",
        "                   tips['smoker'].value_counts(),\r\n",
        "                   tips['day'].value_counts(),\r\n",
        "                   tips['time'].value_counts(),\r\n",
        "                   tips['size'].value_counts()\r\n",
        "]\r\n",
        "\r\n",
        "fig, axes = plt.subplots(nrows=2, ncols=2)\r\n",
        "for row in range(2):\r\n",
        "    for col in range(2):\r\n",
        "        data = category_counts[row * 2 + col]\r\n",
        "        axes[row, col].bar(data.index, data.values)\r\n",
        "\r\n",
        "plt.show()"
      ],
      "execution_count": 90,
      "outputs": [
        {
          "output_type": "display_data",
          "data": {
            "image/png": "[encoded data removed]",
            "text/plain": [
              "<Figure size 432x288 with 4 Axes>"
            ]
          },
          "metadata": {
            "tags": [],
            "needs_background": "light"
          }
        }
      ]
    }
  ]
}