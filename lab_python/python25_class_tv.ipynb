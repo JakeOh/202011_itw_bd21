{
  "nbformat": 4,
  "nbformat_minor": 0,
  "metadata": {
    "colab": {
      "name": "python25_class_tv.ipynb",
      "provenance": [],
      "collapsed_sections": [],
      "authorship_tag": "ABX9TyNneXDcHSr1rx3+TAhGsh6q",
      "include_colab_link": true
    },
    "kernelspec": {
      "name": "python3",
      "display_name": "Python 3"
    }
  },
  "cells": [
    {
      "cell_type": "markdown",
      "metadata": {
        "id": "view-in-github",
        "colab_type": "text"
      },
      "source": [
        "<a href=\"https://colab.research.google.com/github/JakeOh/202011_itw_bd21/blob/main/lab_python/python25_class_tv.ipynb\" target=\"_parent\"><img src=\"https://colab.research.google.com/assets/colab-badge.svg\" alt=\"Open In Colab\"/></a>"
      ]
    },
    {
      "cell_type": "markdown",
      "metadata": {
        "id": "8qH7AuNZEjkp"
      },
      "source": [
        "* TV: 소프트웨어 구현하려고 하는 대상. Object\r\n",
        "* TV 설계: Class\r\n",
        "    * TV 기능: (1) 전원 on/off    (2) 채널 변경    (3) 음량 변경  --> Method\r\n",
        "    * TV 속성: (1) 현재 전원 상태 (2) 현재 채널    (3) 현재 음량  --> 변수 저장. Attribute\r\n",
        "* TV 설계도를 가지고 생산된 TV: Instance"
      ]
    },
    {
      "cell_type": "code",
      "metadata": {
        "id": "1n122opYEWC7"
      },
      "source": [
        ""
      ],
      "execution_count": null,
      "outputs": []
    }
  ]
}