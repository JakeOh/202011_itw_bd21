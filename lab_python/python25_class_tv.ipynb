{
  "nbformat": 4,
  "nbformat_minor": 0,
  "metadata": {
    "colab": {
      "name": "python25_class_tv.ipynb",
      "provenance": [],
      "collapsed_sections": [],
      "authorship_tag": "ABX9TyMn4if+3FC15/VfgffMwjJv",
      "include_colab_link": true
    },
    "kernelspec": {
      "name": "python3",
      "display_name": "Python 3"
    }
  },
  "cells": [
    {
      "cell_type": "markdown",
      "metadata": {
        "id": "view-in-github",
        "colab_type": "text"
      },
      "source": [
        "<a href=\"https://colab.research.google.com/github/JakeOh/202011_itw_bd21/blob/main/lab_python/python25_class_tv.ipynb\" target=\"_parent\"><img src=\"https://colab.research.google.com/assets/colab-badge.svg\" alt=\"Open In Colab\"/></a>"
      ]
    },
    {
      "cell_type": "markdown",
      "metadata": {
        "id": "8qH7AuNZEjkp"
      },
      "source": [
        "* TV: 소프트웨어 구현하려고 하는 대상. Object\r\n",
        "* TV 설계: Class\r\n",
        "    * TV 기능: (1) 전원 on/off    (2) 채널 변경    (3) 음량 변경  --> Method\r\n",
        "    * TV 속성: (1) 현재 전원 상태 (2) 현재 채널    (3) 현재 음량  --> 변수 저장. Attribute\r\n",
        "* TV 설계도를 가지고 생산된 TV: Instance"
      ]
    },
    {
      "cell_type": "code",
      "metadata": {
        "id": "1n122opYEWC7"
      },
      "source": [
        "class BasicTv:\r\n",
        "    # 속성(attributes) - instance variable\r\n",
        "    # __init__() 메서드: 생성자 함수가 호출될 때 자동으로 호출되는 메서드. \r\n",
        "    def __init__(self, power=False, channel=0, volume=0):\r\n",
        "        # attribute 선언 방법: self.var_name\r\n",
        "        # 인스턴스(self)의 속성(attribute)들을 초기화(initialization) - 값을 설정.\r\n",
        "        self.power = power\r\n",
        "        self.channel = channel\r\n",
        "        self.volume = volume\r\n",
        "\r\n",
        "    # 기능(functionality) - Method\r\n",
        "    def power_on_off(self):\r\n",
        "        \"\"\"TV가 꺼져 있으면 켜고, 켜져 있으면 끔.\r\n",
        "        \"\"\"\r\n",
        "        if self.power:          # TV가 켜져 있으면\r\n",
        "            self.power = False  # TV를 끔\r\n",
        "            print('TV OFF')\r\n",
        "        else:                   # TV가 꺼져 있으면\r\n",
        "            self.power = True   # TV를 켬\r\n",
        "            print('TV ON')\r\n"
      ],
      "execution_count": 10,
      "outputs": []
    },
    {
      "cell_type": "code",
      "metadata": {
        "colab": {
          "base_uri": "https://localhost:8080/"
        },
        "id": "Za8DxaZHarVo",
        "outputId": "814b6ecf-a68e-409a-b7b2-d0bbd5b7ff09"
      },
      "source": [
        "# 생성자 함수: ClassName()\r\n",
        "tv1 = BasicTv()  # 생성자 함수 호출 -> instanciate -> TV 객체 생성 -> 인스턴스\r\n",
        "print(tv1)\r\n",
        "# dir(tv1)\r\n",
        "print('power:', tv1.power)\r\n",
        "print('channel:', tv1.channel)\r\n",
        "print('volume:', tv1.volume)"
      ],
      "execution_count": 11,
      "outputs": [
        {
          "output_type": "stream",
          "text": [
            "<__main__.BasicTv object at 0x7f86c2d7e198>\n",
            "power: False\n",
            "channel: 0\n",
            "volume: 0\n"
          ],
          "name": "stdout"
        }
      ]
    },
    {
      "cell_type": "code",
      "metadata": {
        "colab": {
          "base_uri": "https://localhost:8080/"
        },
        "id": "BoeZWNccfqIQ",
        "outputId": "d65240c8-6b15-4cd4-f8c3-e0923608983c"
      },
      "source": [
        "tv2 = BasicTv(power=True)\r\n",
        "print(tv2)\r\n",
        "print('power:', tv2.power)\r\n",
        "print('channel:', tv2.channel)\r\n",
        "print('volume:', tv2.volume)"
      ],
      "execution_count": 12,
      "outputs": [
        {
          "output_type": "stream",
          "text": [
            "<__main__.BasicTv object at 0x7f86c2d7e208>\n",
            "power: True\n",
            "channel: 0\n",
            "volume: 0\n"
          ],
          "name": "stdout"
        }
      ]
    },
    {
      "cell_type": "code",
      "metadata": {
        "colab": {
          "base_uri": "https://localhost:8080/"
        },
        "id": "IZ4YSbg5sa8I",
        "outputId": "c1b44b77-8022-4112-a4c4-053f0e9c6e94"
      },
      "source": [
        "tv1.power_on_off()"
      ],
      "execution_count": 13,
      "outputs": [
        {
          "output_type": "stream",
          "text": [
            "TV ON\n"
          ],
          "name": "stdout"
        }
      ]
    },
    {
      "cell_type": "code",
      "metadata": {
        "colab": {
          "base_uri": "https://localhost:8080/"
        },
        "id": "Qc3mnXHSs2Re",
        "outputId": "e338e265-4750-40bf-f97e-0125294289d6"
      },
      "source": [
        "tv1.power_on_off()"
      ],
      "execution_count": 14,
      "outputs": [
        {
          "output_type": "stream",
          "text": [
            "TV OFF\n"
          ],
          "name": "stdout"
        }
      ]
    },
    {
      "cell_type": "code",
      "metadata": {
        "colab": {
          "base_uri": "https://localhost:8080/"
        },
        "id": "IP81oIaCwECu",
        "outputId": "4a9823d3-3fc8-4404-8128-78f06ccc7e92"
      },
      "source": [
        "tv2.power_on_off()"
      ],
      "execution_count": 15,
      "outputs": [
        {
          "output_type": "stream",
          "text": [
            "TV OFF\n"
          ],
          "name": "stdout"
        }
      ]
    }
  ]
}