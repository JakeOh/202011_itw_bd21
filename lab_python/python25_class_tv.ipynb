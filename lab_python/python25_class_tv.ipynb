{
  "nbformat": 4,
  "nbformat_minor": 0,
  "metadata": {
    "colab": {
      "name": "python25_class_tv.ipynb",
      "provenance": [],
      "collapsed_sections": [],
      "authorship_tag": "ABX9TyPRkJPR+GcwVUF3YmUf2X58",
      "include_colab_link": true
    },
    "kernelspec": {
      "name": "python3",
      "display_name": "Python 3"
    }
  },
  "cells": [
    {
      "cell_type": "markdown",
      "metadata": {
        "id": "view-in-github",
        "colab_type": "text"
      },
      "source": [
        "<a href=\"https://colab.research.google.com/github/JakeOh/202011_itw_bd21/blob/main/lab_python/python25_class_tv.ipynb\" target=\"_parent\"><img src=\"https://colab.research.google.com/assets/colab-badge.svg\" alt=\"Open In Colab\"/></a>"
      ]
    },
    {
      "cell_type": "markdown",
      "metadata": {
        "id": "8qH7AuNZEjkp"
      },
      "source": [
        "* TV: 소프트웨어 구현하려고 하는 대상. Object\r\n",
        "* TV 설계: Class\r\n",
        "    * TV 기능: (1) 전원 on/off    (2) 채널 변경    (3) 음량 변경  --> Method\r\n",
        "    * TV 속성: (1) 현재 전원 상태 (2) 현재 채널    (3) 현재 음량  --> 변수 저장. Attribute\r\n",
        "* TV 설계도를 가지고 생산된 TV: Instance"
      ]
    },
    {
      "cell_type": "markdown",
      "metadata": {
        "id": "uiCW3dlxABWW"
      },
      "source": [
        "BasicTv 클래스의 기능 수정\r\n",
        "\r\n",
        "1. 전원이 켜져 있는 상태(self.power == True)에서만 channel_up/down, volume_up/down 기능이 수행되어야 함.\r\n",
        "2. channel과 volume은 최솟값(0)과 최댓값(5)이 있음.\r\n",
        "    * channel 최댓값(5) 상태에서 channel_up()을 실행하면, channel의 값은 최솟값 0으로 변경되어야 함.\r\n",
        "    * channel 최솟값(0) 상태에서 channel_down()을 실행하면, channel의 값은 최댓값 5로 변경되어야 함.\r\n",
        "    * volume 최댓값(5) 상태에서 volume_up()을 실행하면, volume 값은 변경되지 않고 최댓값 5인 상태로 그대로 유지되어야 함.\r\n",
        "    * volume 최솟값(0) 상태에서 volume_down()을 실행하면, volume 값은 변경되지 않고 최솟값 0인 상태로 그대로 유지되어야 함.\r\n"
      ]
    },
    {
      "cell_type": "code",
      "metadata": {
        "id": "1n122opYEWC7"
      },
      "source": [
        "class BasicTv:\r\n",
        "    # 속성(attributes) - instance variable\r\n",
        "    # __init__() 메서드: 생성자 함수가 호출될 때 자동으로 호출되는 메서드. \r\n",
        "    def __init__(self, power=False, channel=0, volume=0):\r\n",
        "        # attribute 선언 방법: self.var_name\r\n",
        "        # 인스턴스(self)의 속성(attribute)들을 초기화(initialization) - 값을 설정.\r\n",
        "        self.power = power\r\n",
        "        self.channel = channel\r\n",
        "        self.volume = volume\r\n",
        "\r\n",
        "    # 기능(functionality) - Method\r\n",
        "    def power_on_off(self):\r\n",
        "        \"\"\"TV가 꺼져 있으면 켜고, 켜져 있으면 끔.\r\n",
        "        \"\"\"\r\n",
        "        if self.power:          # TV가 켜져 있으면\r\n",
        "            self.power = False  # TV를 끔\r\n",
        "            print('TV OFF')\r\n",
        "        else:                   # TV가 꺼져 있으면\r\n",
        "            self.power = True   # TV를 켬\r\n",
        "            print('TV ON')\r\n",
        "\r\n",
        "    def channel_up(self):\r\n",
        "        self.channel += 1  # 현재 채널 값을 1 증가.\r\n",
        "        print('channel =', self.channel)\r\n",
        "\r\n",
        "    def channel_down(self):\r\n",
        "        self.channel -= 1  # 현재 채널 값을 1 감소.\r\n",
        "        print('channel =', self.channel)\r\n",
        "\r\n",
        "    def volume_up(self):\r\n",
        "        self.volume += 1  # 현재 볼륨 값을 1 증가.\r\n",
        "        print('volume =', self.volume)\r\n",
        "\r\n",
        "    def volume_down(self):\r\n",
        "        self.volume -= 1  # 현재 볼륨 값을 1 감소.\r\n",
        "        print('volume =', self.volume)\r\n"
      ],
      "execution_count": 23,
      "outputs": []
    },
    {
      "cell_type": "code",
      "metadata": {
        "colab": {
          "base_uri": "https://localhost:8080/"
        },
        "id": "Za8DxaZHarVo",
        "outputId": "88f21423-81c5-4774-9516-6f5d9e2814bb"
      },
      "source": [
        "# 생성자 함수: ClassName()\r\n",
        "tv1 = BasicTv()  # 생성자 함수 호출 -> instanciate -> TV 객체 생성 -> 인스턴스\r\n",
        "print(tv1)\r\n",
        "# dir(tv1)\r\n",
        "print('power:', tv1.power)\r\n",
        "print('channel:', tv1.channel)\r\n",
        "print('volume:', tv1.volume)"
      ],
      "execution_count": 24,
      "outputs": [
        {
          "output_type": "stream",
          "text": [
            "<__main__.BasicTv object at 0x7f86c2d382b0>\n",
            "power: False\n",
            "channel: 0\n",
            "volume: 0\n"
          ],
          "name": "stdout"
        }
      ]
    },
    {
      "cell_type": "code",
      "metadata": {
        "colab": {
          "base_uri": "https://localhost:8080/"
        },
        "id": "BoeZWNccfqIQ",
        "outputId": "3f84a4cf-cc2c-4fed-896b-616420bef8f6"
      },
      "source": [
        "tv2 = BasicTv(power=True)\r\n",
        "print(tv2)\r\n",
        "print('power:', tv2.power)\r\n",
        "print('channel:', tv2.channel)\r\n",
        "print('volume:', tv2.volume)"
      ],
      "execution_count": 25,
      "outputs": [
        {
          "output_type": "stream",
          "text": [
            "<__main__.BasicTv object at 0x7f86c2d38320>\n",
            "power: True\n",
            "channel: 0\n",
            "volume: 0\n"
          ],
          "name": "stdout"
        }
      ]
    },
    {
      "cell_type": "code",
      "metadata": {
        "colab": {
          "base_uri": "https://localhost:8080/"
        },
        "id": "IZ4YSbg5sa8I",
        "outputId": "ee4fe28e-84ff-43ed-c6c0-95281269eb9f"
      },
      "source": [
        "tv1.power_on_off()"
      ],
      "execution_count": 26,
      "outputs": [
        {
          "output_type": "stream",
          "text": [
            "TV ON\n"
          ],
          "name": "stdout"
        }
      ]
    },
    {
      "cell_type": "code",
      "metadata": {
        "colab": {
          "base_uri": "https://localhost:8080/"
        },
        "id": "JK4GCt8E5cpm",
        "outputId": "50a7ce88-3f2b-43c6-844c-ea18c8b59e37"
      },
      "source": [
        "tv1.channel_up()"
      ],
      "execution_count": 27,
      "outputs": [
        {
          "output_type": "stream",
          "text": [
            "channel = 1\n"
          ],
          "name": "stdout"
        }
      ]
    },
    {
      "cell_type": "code",
      "metadata": {
        "colab": {
          "base_uri": "https://localhost:8080/"
        },
        "id": "HMy64GqI5lMV",
        "outputId": "996408b9-154a-49ad-8643-45ffc72fb704"
      },
      "source": [
        "tv1.channel_up()"
      ],
      "execution_count": 28,
      "outputs": [
        {
          "output_type": "stream",
          "text": [
            "channel = 2\n"
          ],
          "name": "stdout"
        }
      ]
    },
    {
      "cell_type": "code",
      "metadata": {
        "colab": {
          "base_uri": "https://localhost:8080/"
        },
        "id": "pG55T6PZ5sN3",
        "outputId": "bc756b0d-be58-47ca-8cf6-e82265de5a25"
      },
      "source": [
        "tv1.channel_down()"
      ],
      "execution_count": 29,
      "outputs": [
        {
          "output_type": "stream",
          "text": [
            "channel = 1\n"
          ],
          "name": "stdout"
        }
      ]
    },
    {
      "cell_type": "code",
      "metadata": {
        "colab": {
          "base_uri": "https://localhost:8080/"
        },
        "id": "3lxG6A3g8WHl",
        "outputId": "ddb0a6bd-1233-4c6e-8d15-04db3a39d3b7"
      },
      "source": [
        "tv1.volume_up()"
      ],
      "execution_count": 30,
      "outputs": [
        {
          "output_type": "stream",
          "text": [
            "volume = 1\n"
          ],
          "name": "stdout"
        }
      ]
    },
    {
      "cell_type": "code",
      "metadata": {
        "colab": {
          "base_uri": "https://localhost:8080/"
        },
        "id": "Kt5Dwjmf8kpl",
        "outputId": "93418a95-134f-461b-bd33-2d90d3f9c8e2"
      },
      "source": [
        "tv1.volume_up()"
      ],
      "execution_count": 31,
      "outputs": [
        {
          "output_type": "stream",
          "text": [
            "volume = 2\n"
          ],
          "name": "stdout"
        }
      ]
    },
    {
      "cell_type": "code",
      "metadata": {
        "colab": {
          "base_uri": "https://localhost:8080/"
        },
        "id": "JmecCPQD8otX",
        "outputId": "ec4c9914-75f8-4d8e-d295-a0829696ac0f"
      },
      "source": [
        "tv1.volume_down()"
      ],
      "execution_count": 32,
      "outputs": [
        {
          "output_type": "stream",
          "text": [
            "volume = 1\n"
          ],
          "name": "stdout"
        }
      ]
    },
    {
      "cell_type": "code",
      "metadata": {
        "colab": {
          "base_uri": "https://localhost:8080/"
        },
        "id": "Qc3mnXHSs2Re",
        "outputId": "1fb0adb2-e318-4459-ea15-71a08552be5b"
      },
      "source": [
        "tv1.power_on_off()"
      ],
      "execution_count": 33,
      "outputs": [
        {
          "output_type": "stream",
          "text": [
            "TV OFF\n"
          ],
          "name": "stdout"
        }
      ]
    },
    {
      "cell_type": "code",
      "metadata": {
        "colab": {
          "base_uri": "https://localhost:8080/"
        },
        "id": "IP81oIaCwECu",
        "outputId": "4a9823d3-3fc8-4404-8128-78f06ccc7e92"
      },
      "source": [
        "tv2.power_on_off()"
      ],
      "execution_count": 15,
      "outputs": [
        {
          "output_type": "stream",
          "text": [
            "TV OFF\n"
          ],
          "name": "stdout"
        }
      ]
    }
  ]
}