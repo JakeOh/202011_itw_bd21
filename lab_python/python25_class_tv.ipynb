{
  "nbformat": 4,
  "nbformat_minor": 0,
  "metadata": {
    "colab": {
      "name": "python25_class_tv.ipynb",
      "provenance": [],
      "collapsed_sections": [],
      "authorship_tag": "ABX9TyO0Nhkf4iWtPF89yx87g77d",
      "include_colab_link": true
    },
    "kernelspec": {
      "name": "python3",
      "display_name": "Python 3"
    }
  },
  "cells": [
    {
      "cell_type": "markdown",
      "metadata": {
        "id": "view-in-github",
        "colab_type": "text"
      },
      "source": [
        "<a href=\"https://colab.research.google.com/github/JakeOh/202011_itw_bd21/blob/main/lab_python/python25_class_tv.ipynb\" target=\"_parent\"><img src=\"https://colab.research.google.com/assets/colab-badge.svg\" alt=\"Open In Colab\"/></a>"
      ]
    },
    {
      "cell_type": "markdown",
      "metadata": {
        "id": "8qH7AuNZEjkp"
      },
      "source": [
        "* TV: 소프트웨어 구현하려고 하는 대상. Object\r\n",
        "* TV 설계: Class\r\n",
        "    * TV 기능: (1) 전원 on/off    (2) 채널 변경    (3) 음량 변경  --> Method\r\n",
        "    * TV 속성: (1) 현재 전원 상태 (2) 현재 채널    (3) 현재 음량  --> 변수 저장. Attribute\r\n",
        "* TV 설계도를 가지고 생산된 TV: Instance"
      ]
    },
    {
      "cell_type": "code",
      "metadata": {
        "id": "1n122opYEWC7"
      },
      "source": [
        "class BasicTv:\r\n",
        "    # __init__() 메서드: 생성자 함수가 호출될 때 자동으로 호출되는 메서드. \r\n",
        "    # 인스턴스 변수(속성)들의 값을 초기화(설정)\r\n",
        "    def __init__(self, power=False, channel=0, volume=0):\r\n",
        "        # attribute 선언 방법: self.var_name\r\n",
        "        # 인스턴스(self)의 속성(attribute)들을 초기화(initialization) - 값을 설정.\r\n",
        "        self.power = power\r\n",
        "        self.channel = channel\r\n",
        "        self.volume = volume"
      ],
      "execution_count": 4,
      "outputs": []
    },
    {
      "cell_type": "code",
      "metadata": {
        "colab": {
          "base_uri": "https://localhost:8080/"
        },
        "id": "Za8DxaZHarVo",
        "outputId": "c82344e0-aa0f-4cdd-c623-39555eec747e"
      },
      "source": [
        "# 생성자 함수: ClassName()\r\n",
        "tv1 = BasicTv()  # 생성자 함수 호출 -> instanciate -> TV 객체 생성 -> 인스턴스\r\n",
        "print(tv1)\r\n",
        "# dir(tv1)\r\n",
        "print('power:', tv1.power)\r\n",
        "print('channel:', tv1.channel)\r\n",
        "print('volume:', tv1.volume)"
      ],
      "execution_count": 8,
      "outputs": [
        {
          "output_type": "stream",
          "text": [
            "<__main__.BasicTv object at 0x7f86c2dfc2b0>\n",
            "power: False\n",
            "channel: 0\n",
            "volume: 0\n"
          ],
          "name": "stdout"
        }
      ]
    },
    {
      "cell_type": "code",
      "metadata": {
        "colab": {
          "base_uri": "https://localhost:8080/"
        },
        "id": "BoeZWNccfqIQ",
        "outputId": "4984c1ea-ca54-4afb-e3a0-bb6c07700260"
      },
      "source": [
        "tv2 = BasicTv(power=True)\r\n",
        "print(tv2)\r\n",
        "print('power:', tv2.power)\r\n",
        "print('channel:', tv2.channel)\r\n",
        "print('volume:', tv2.volume)"
      ],
      "execution_count": 9,
      "outputs": [
        {
          "output_type": "stream",
          "text": [
            "<__main__.BasicTv object at 0x7f86c2dfc630>\n",
            "power: True\n",
            "channel: 0\n",
            "volume: 0\n"
          ],
          "name": "stdout"
        }
      ]
    }
  ]
}