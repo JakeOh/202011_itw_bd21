{
  "nbformat": 4,
  "nbformat_minor": 0,
  "metadata": {
    "colab": {
      "name": "python14_while.ipynb",
      "provenance": [],
      "collapsed_sections": [],
      "authorship_tag": "ABX9TyP1E2LuoYdSa08Zwh2H4I2d",
      "include_colab_link": true
    },
    "kernelspec": {
      "name": "python3",
      "display_name": "Python 3"
    }
  },
  "cells": [
    {
      "cell_type": "markdown",
      "metadata": {
        "id": "view-in-github",
        "colab_type": "text"
      },
      "source": [
        "<a href=\"https://colab.research.google.com/github/JakeOh/202011_itw_bd21/blob/main/lab_python/python14_while.ipynb\" target=\"_parent\"><img src=\"https://colab.research.google.com/assets/colab-badge.svg\" alt=\"Open In Colab\"/></a>"
      ]
    },
    {
      "cell_type": "markdown",
      "metadata": {
        "id": "M705qCv3B4o6"
      },
      "source": [
        "# while loop(반복문)"
      ]
    },
    {
      "cell_type": "markdown",
      "metadata": {
        "id": "p-RrJOBtB_Ay"
      },
      "source": [
        "\r\n",
        "\r\n",
        "```\r\n",
        "[초기화 문장]\r\n",
        "while 조건식:\r\n",
        "    조건식이 참인 경우에 실행할 블록(문장들)\r\n",
        "    [조건식의 내용을 변경할 수 있는 문장]\r\n",
        "```\r\n",
        "\r\n"
      ]
    },
    {
      "cell_type": "code",
      "metadata": {
        "colab": {
          "base_uri": "https://localhost:8080/"
        },
        "id": "Abg6FNmWBven",
        "outputId": "8651ee62-1e9e-44c7-bfe7-9096d8101f4d"
      },
      "source": [
        "# 1부터 5까지 출력\r\n",
        "n = 1  # 초기화 문장\r\n",
        "while n <= 5:\r\n",
        "    print(n)\r\n",
        "    n += 1  # n의 값을 1 증가"
      ],
      "execution_count": 2,
      "outputs": [
        {
          "output_type": "stream",
          "text": [
            "1\n",
            "2\n",
            "3\n",
            "4\n",
            "5\n"
          ],
          "name": "stdout"
        }
      ]
    },
    {
      "cell_type": "markdown",
      "metadata": {
        "id": "nY26i4qBEn3h"
      },
      "source": [
        "while loop을 사용해서 아래와 같이 출력하는 코드를 작성.\r\n",
        "\r\n",
        "```\r\n",
        "*\r\n",
        "**\r\n",
        "***\r\n",
        "****\r\n",
        "*****\r\n",
        "```\r\n",
        "\r\n"
      ]
    },
    {
      "cell_type": "code",
      "metadata": {
        "colab": {
          "base_uri": "https://localhost:8080/"
        },
        "id": "_e9yjXvqEnkJ",
        "outputId": "a773be75-0751-4ac1-c180-a0d6c5cbdba9"
      },
      "source": [
        "n = 1\r\n",
        "while n <= 5:\r\n",
        "    print('*' * n)\r\n",
        "    n += 1"
      ],
      "execution_count": 3,
      "outputs": [
        {
          "output_type": "stream",
          "text": [
            "*\n",
            "**\n",
            "***\n",
            "****\n",
            "*****\n"
          ],
          "name": "stdout"
        }
      ]
    },
    {
      "cell_type": "markdown",
      "metadata": {
        "id": "0-PeTuNHF2Ex"
      },
      "source": [
        "while loop을 사용해서 구구단 2단을 출력"
      ]
    },
    {
      "cell_type": "code",
      "metadata": {
        "colab": {
          "base_uri": "https://localhost:8080/"
        },
        "id": "8oa0I0jQFwMQ",
        "outputId": "6376a1cb-f3bc-4492-91c5-27b923e8e3fb"
      },
      "source": [
        "n = 1\r\n",
        "while n < 10:\r\n",
        "    print(f'2 x {n} = {2 * n}')\r\n",
        "    n += 1"
      ],
      "execution_count": 4,
      "outputs": [
        {
          "output_type": "stream",
          "text": [
            "2 x 1 = 2\n",
            "2 x 2 = 4\n",
            "2 x 3 = 6\n",
            "2 x 4 = 8\n",
            "2 x 5 = 10\n",
            "2 x 6 = 12\n",
            "2 x 7 = 14\n",
            "2 x 8 = 16\n",
            "2 x 9 = 18\n"
          ],
          "name": "stdout"
        }
      ]
    },
    {
      "cell_type": "markdown",
      "metadata": {
        "id": "_7R8x5agHUeB"
      },
      "source": [
        "while loop을 사용해서 1 이상 10 이하의 홀수들을 출력"
      ]
    },
    {
      "cell_type": "code",
      "metadata": {
        "colab": {
          "base_uri": "https://localhost:8080/"
        },
        "id": "_trrXIwZGsBs",
        "outputId": "0c230292-77e2-47d4-88fd-aa813a121026"
      },
      "source": [
        "n = 1\r\n",
        "while n <= 10:\r\n",
        "    print(n)\r\n",
        "    n += 2"
      ],
      "execution_count": 5,
      "outputs": [
        {
          "output_type": "stream",
          "text": [
            "1\n",
            "3\n",
            "5\n",
            "7\n",
            "9\n"
          ],
          "name": "stdout"
        }
      ]
    },
    {
      "cell_type": "code",
      "metadata": {
        "colab": {
          "base_uri": "https://localhost:8080/"
        },
        "id": "-0M57wDKJL_b",
        "outputId": "ab5e16f9-818d-4749-dd13-801378a5cec6"
      },
      "source": [
        "n = 1\r\n",
        "while n <= 10:\r\n",
        "    if n % 2:\r\n",
        "        print(n)\r\n",
        "    n += 1"
      ],
      "execution_count": 8,
      "outputs": [
        {
          "output_type": "stream",
          "text": [
            "1\n",
            "3\n",
            "5\n",
            "7\n",
            "9\n"
          ],
          "name": "stdout"
        }
      ]
    },
    {
      "cell_type": "code",
      "metadata": {
        "id": "lmyoGUoXK-ve"
      },
      "source": [
        ""
      ],
      "execution_count": null,
      "outputs": []
    }
  ]
}