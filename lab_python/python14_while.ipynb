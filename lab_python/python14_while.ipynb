{
  "nbformat": 4,
  "nbformat_minor": 0,
  "metadata": {
    "colab": {
      "name": "python14_while.ipynb",
      "provenance": [],
      "collapsed_sections": [],
      "authorship_tag": "ABX9TyPN1xCvCcD7Z7R8Mk2iJAo4",
      "include_colab_link": true
    },
    "kernelspec": {
      "name": "python3",
      "display_name": "Python 3"
    }
  },
  "cells": [
    {
      "cell_type": "markdown",
      "metadata": {
        "id": "view-in-github",
        "colab_type": "text"
      },
      "source": [
        "<a href=\"https://colab.research.google.com/github/JakeOh/202011_itw_bd21/blob/main/lab_python/python14_while.ipynb\" target=\"_parent\"><img src=\"https://colab.research.google.com/assets/colab-badge.svg\" alt=\"Open In Colab\"/></a>"
      ]
    },
    {
      "cell_type": "markdown",
      "metadata": {
        "id": "M705qCv3B4o6"
      },
      "source": [
        "# while loop(반복문)"
      ]
    },
    {
      "cell_type": "markdown",
      "metadata": {
        "id": "p-RrJOBtB_Ay"
      },
      "source": [
        "\r\n",
        "\r\n",
        "```\r\n",
        "[초기화 문장]\r\n",
        "while 조건식:\r\n",
        "    조건식이 참인 경우에 실행할 블록(문장들)\r\n",
        "    [조건식의 내용을 변경할 수 있는 문장]\r\n",
        "```\r\n",
        "\r\n"
      ]
    },
    {
      "cell_type": "code",
      "metadata": {
        "colab": {
          "base_uri": "https://localhost:8080/"
        },
        "id": "Abg6FNmWBven",
        "outputId": "8651ee62-1e9e-44c7-bfe7-9096d8101f4d"
      },
      "source": [
        "# 1부터 5까지 출력\r\n",
        "n = 1  # 초기화 문장\r\n",
        "while n <= 5:\r\n",
        "    print(n)\r\n",
        "    n += 1  # n의 값을 1 증가"
      ],
      "execution_count": 2,
      "outputs": [
        {
          "output_type": "stream",
          "text": [
            "1\n",
            "2\n",
            "3\n",
            "4\n",
            "5\n"
          ],
          "name": "stdout"
        }
      ]
    },
    {
      "cell_type": "markdown",
      "metadata": {
        "id": "nY26i4qBEn3h"
      },
      "source": [
        "while loop을 사용해서 아래와 같이 출력하는 코드를 작성.\r\n",
        "\r\n",
        "```\r\n",
        "*\r\n",
        "**\r\n",
        "***\r\n",
        "****\r\n",
        "*****\r\n",
        "```\r\n",
        "\r\n"
      ]
    },
    {
      "cell_type": "code",
      "metadata": {
        "colab": {
          "base_uri": "https://localhost:8080/"
        },
        "id": "_e9yjXvqEnkJ",
        "outputId": "a773be75-0751-4ac1-c180-a0d6c5cbdba9"
      },
      "source": [
        "n = 1\r\n",
        "while n <= 5:\r\n",
        "    print('*' * n)\r\n",
        "    n += 1"
      ],
      "execution_count": 3,
      "outputs": [
        {
          "output_type": "stream",
          "text": [
            "*\n",
            "**\n",
            "***\n",
            "****\n",
            "*****\n"
          ],
          "name": "stdout"
        }
      ]
    },
    {
      "cell_type": "markdown",
      "metadata": {
        "id": "0-PeTuNHF2Ex"
      },
      "source": [
        "while loop을 사용해서 구구단 2단을 출력"
      ]
    },
    {
      "cell_type": "code",
      "metadata": {
        "colab": {
          "base_uri": "https://localhost:8080/"
        },
        "id": "8oa0I0jQFwMQ",
        "outputId": "6376a1cb-f3bc-4492-91c5-27b923e8e3fb"
      },
      "source": [
        "n = 1\r\n",
        "while n < 10:\r\n",
        "    print(f'2 x {n} = {2 * n}')\r\n",
        "    n += 1"
      ],
      "execution_count": 4,
      "outputs": [
        {
          "output_type": "stream",
          "text": [
            "2 x 1 = 2\n",
            "2 x 2 = 4\n",
            "2 x 3 = 6\n",
            "2 x 4 = 8\n",
            "2 x 5 = 10\n",
            "2 x 6 = 12\n",
            "2 x 7 = 14\n",
            "2 x 8 = 16\n",
            "2 x 9 = 18\n"
          ],
          "name": "stdout"
        }
      ]
    },
    {
      "cell_type": "markdown",
      "metadata": {
        "id": "_7R8x5agHUeB"
      },
      "source": [
        "while loop을 사용해서 1 이상 10 이하의 홀수들을 출력"
      ]
    },
    {
      "cell_type": "code",
      "metadata": {
        "colab": {
          "base_uri": "https://localhost:8080/"
        },
        "id": "_trrXIwZGsBs",
        "outputId": "0c230292-77e2-47d4-88fd-aa813a121026"
      },
      "source": [
        "n = 1\r\n",
        "while n <= 10:\r\n",
        "    print(n)\r\n",
        "    n += 2"
      ],
      "execution_count": 5,
      "outputs": [
        {
          "output_type": "stream",
          "text": [
            "1\n",
            "3\n",
            "5\n",
            "7\n",
            "9\n"
          ],
          "name": "stdout"
        }
      ]
    },
    {
      "cell_type": "code",
      "metadata": {
        "colab": {
          "base_uri": "https://localhost:8080/"
        },
        "id": "-0M57wDKJL_b",
        "outputId": "ab5e16f9-818d-4749-dd13-801378a5cec6"
      },
      "source": [
        "n = 1\r\n",
        "while n <= 10:\r\n",
        "    if n % 2:\r\n",
        "        print(n)\r\n",
        "    n += 1"
      ],
      "execution_count": 8,
      "outputs": [
        {
          "output_type": "stream",
          "text": [
            "1\n",
            "3\n",
            "5\n",
            "7\n",
            "9\n"
          ],
          "name": "stdout"
        }
      ]
    },
    {
      "cell_type": "code",
      "metadata": {
        "colab": {
          "base_uri": "https://localhost:8080/"
        },
        "id": "pyRK3m1HO11D",
        "outputId": "7e5d3eb2-5117-4d9e-a1f6-e160970e05d7"
      },
      "source": [
        "n = 0\r\n",
        "while n < 5:\r\n",
        "    print(2 * n + 1)\r\n",
        "    n += 1"
      ],
      "execution_count": 10,
      "outputs": [
        {
          "output_type": "stream",
          "text": [
            "1\n",
            "3\n",
            "5\n",
            "7\n",
            "9\n"
          ],
          "name": "stdout"
        }
      ]
    },
    {
      "cell_type": "markdown",
      "metadata": {
        "id": "thFomzeXPi5A"
      },
      "source": [
        "2중 while loop을 사용해서 구구단 2단 ~ 9단까지 출력"
      ]
    },
    {
      "cell_type": "code",
      "metadata": {
        "colab": {
          "base_uri": "https://localhost:8080/"
        },
        "id": "lmyoGUoXK-ve",
        "outputId": "77dabe1f-c28f-4a6e-b1a5-55577f23580e"
      },
      "source": [
        "dan = 2\r\n",
        "while dan < 10:\r\n",
        "    print(f'--- {dan}단 ---')\r\n",
        "    n = 1    \r\n",
        "    while n < 10:\r\n",
        "        print(f'{dan} x {n} = {dan * n}')\r\n",
        "        n += 1\r\n",
        "    dan += 1"
      ],
      "execution_count": 17,
      "outputs": [
        {
          "output_type": "stream",
          "text": [
            "--- 2단 ---\n",
            "2 x 1 = 2\n",
            "2 x 2 = 4\n",
            "2 x 3 = 6\n",
            "2 x 4 = 8\n",
            "2 x 5 = 10\n",
            "2 x 6 = 12\n",
            "2 x 7 = 14\n",
            "2 x 8 = 16\n",
            "2 x 9 = 18\n",
            "--- 3단 ---\n",
            "3 x 1 = 3\n",
            "3 x 2 = 6\n",
            "3 x 3 = 9\n",
            "3 x 4 = 12\n",
            "3 x 5 = 15\n",
            "3 x 6 = 18\n",
            "3 x 7 = 21\n",
            "3 x 8 = 24\n",
            "3 x 9 = 27\n",
            "--- 4단 ---\n",
            "4 x 1 = 4\n",
            "4 x 2 = 8\n",
            "4 x 3 = 12\n",
            "4 x 4 = 16\n",
            "4 x 5 = 20\n",
            "4 x 6 = 24\n",
            "4 x 7 = 28\n",
            "4 x 8 = 32\n",
            "4 x 9 = 36\n",
            "--- 5단 ---\n",
            "5 x 1 = 5\n",
            "5 x 2 = 10\n",
            "5 x 3 = 15\n",
            "5 x 4 = 20\n",
            "5 x 5 = 25\n",
            "5 x 6 = 30\n",
            "5 x 7 = 35\n",
            "5 x 8 = 40\n",
            "5 x 9 = 45\n",
            "--- 6단 ---\n",
            "6 x 1 = 6\n",
            "6 x 2 = 12\n",
            "6 x 3 = 18\n",
            "6 x 4 = 24\n",
            "6 x 5 = 30\n",
            "6 x 6 = 36\n",
            "6 x 7 = 42\n",
            "6 x 8 = 48\n",
            "6 x 9 = 54\n",
            "--- 7단 ---\n",
            "7 x 1 = 7\n",
            "7 x 2 = 14\n",
            "7 x 3 = 21\n",
            "7 x 4 = 28\n",
            "7 x 5 = 35\n",
            "7 x 6 = 42\n",
            "7 x 7 = 49\n",
            "7 x 8 = 56\n",
            "7 x 9 = 63\n",
            "--- 8단 ---\n",
            "8 x 1 = 8\n",
            "8 x 2 = 16\n",
            "8 x 3 = 24\n",
            "8 x 4 = 32\n",
            "8 x 5 = 40\n",
            "8 x 6 = 48\n",
            "8 x 7 = 56\n",
            "8 x 8 = 64\n",
            "8 x 9 = 72\n",
            "--- 9단 ---\n",
            "9 x 1 = 9\n",
            "9 x 2 = 18\n",
            "9 x 3 = 27\n",
            "9 x 4 = 36\n",
            "9 x 5 = 45\n",
            "9 x 6 = 54\n",
            "9 x 7 = 63\n",
            "9 x 8 = 72\n",
            "9 x 9 = 81\n"
          ],
          "name": "stdout"
        }
      ]
    },
    {
      "cell_type": "code",
      "metadata": {
        "colab": {
          "base_uri": "https://localhost:8080/"
        },
        "id": "Qs3xSPWiVQxJ",
        "outputId": "1817e2ce-4b5e-4f45-90fe-81f929513c7a"
      },
      "source": [
        "dan = 2\r\n",
        "while dan < 10:\r\n",
        "    n = 1\r\n",
        "    while n <= dan:\r\n",
        "        print(f'{dan} x {n} = {dan * n}')\r\n",
        "        n += 1\r\n",
        "    print('-' * 20)\r\n",
        "    dan += 1"
      ],
      "execution_count": 18,
      "outputs": [
        {
          "output_type": "stream",
          "text": [
            "2 x 1 = 2\n",
            "2 x 2 = 4\n",
            "--------------------\n",
            "3 x 1 = 3\n",
            "3 x 2 = 6\n",
            "3 x 3 = 9\n",
            "--------------------\n",
            "4 x 1 = 4\n",
            "4 x 2 = 8\n",
            "4 x 3 = 12\n",
            "4 x 4 = 16\n",
            "--------------------\n",
            "5 x 1 = 5\n",
            "5 x 2 = 10\n",
            "5 x 3 = 15\n",
            "5 x 4 = 20\n",
            "5 x 5 = 25\n",
            "--------------------\n",
            "6 x 1 = 6\n",
            "6 x 2 = 12\n",
            "6 x 3 = 18\n",
            "6 x 4 = 24\n",
            "6 x 5 = 30\n",
            "6 x 6 = 36\n",
            "--------------------\n",
            "7 x 1 = 7\n",
            "7 x 2 = 14\n",
            "7 x 3 = 21\n",
            "7 x 4 = 28\n",
            "7 x 5 = 35\n",
            "7 x 6 = 42\n",
            "7 x 7 = 49\n",
            "--------------------\n",
            "8 x 1 = 8\n",
            "8 x 2 = 16\n",
            "8 x 3 = 24\n",
            "8 x 4 = 32\n",
            "8 x 5 = 40\n",
            "8 x 6 = 48\n",
            "8 x 7 = 56\n",
            "8 x 8 = 64\n",
            "--------------------\n",
            "9 x 1 = 9\n",
            "9 x 2 = 18\n",
            "9 x 3 = 27\n",
            "9 x 4 = 36\n",
            "9 x 5 = 45\n",
            "9 x 6 = 54\n",
            "9 x 7 = 63\n",
            "9 x 8 = 72\n",
            "9 x 9 = 81\n",
            "--------------------\n"
          ],
          "name": "stdout"
        }
      ]
    },
    {
      "cell_type": "markdown",
      "metadata": {
        "id": "TncAju_FXBiR"
      },
      "source": [
        "## while loop와 break"
      ]
    },
    {
      "cell_type": "code",
      "metadata": {
        "colab": {
          "base_uri": "https://localhost:8080/"
        },
        "id": "SQXuZnMFWb5S",
        "outputId": "4e09e1bb-d30d-4c73-95cf-21d063a68b5e"
      },
      "source": [
        "n = 1\r\n",
        "while n <= 5:\r\n",
        "    if n == 3:\r\n",
        "        break  # break가 포함된 가장 가까운 반복문(for, while)을 종료\r\n",
        "\r\n",
        "    print(n)\r\n",
        "    n += 1"
      ],
      "execution_count": 20,
      "outputs": [
        {
          "output_type": "stream",
          "text": [
            "1\n",
            "2\n"
          ],
          "name": "stdout"
        }
      ]
    },
    {
      "cell_type": "markdown",
      "metadata": {
        "id": "-NtHpqLjX-ti"
      },
      "source": [
        "## while loop와 continue"
      ]
    },
    {
      "cell_type": "code",
      "metadata": {
        "colab": {
          "base_uri": "https://localhost:8080/"
        },
        "id": "wRLTSSS4YC7w",
        "outputId": "804c8b51-6ab4-4b80-c051-0372eca6da8c"
      },
      "source": [
        "n = 1\r\n",
        "while n <= 5:\r\n",
        "    if n == 3:\r\n",
        "        n += 1\r\n",
        "        continue  # 다음 iteration 수행\r\n",
        "    \r\n",
        "    print(n)\r\n",
        "    n += 1"
      ],
      "execution_count": 24,
      "outputs": [
        {
          "output_type": "stream",
          "text": [
            "1\n",
            "2\n",
            "4\n",
            "5\n"
          ],
          "name": "stdout"
        }
      ]
    },
    {
      "cell_type": "markdown",
      "metadata": {
        "id": "EYOrfxjIeI7Y"
      },
      "source": [
        "## 무한 루프(infinite loop)와 break"
      ]
    },
    {
      "cell_type": "code",
      "metadata": {
        "colab": {
          "base_uri": "https://localhost:8080/"
        },
        "id": "zpGD2D3yYNJW",
        "outputId": "1d792661-4520-4740-ac0f-88cec7e8d1e8"
      },
      "source": [
        "while True:\r\n",
        "    msg = input('메시지를 입력하세요. 멈추고 싶으면 Q를 입력하세요>>> ')\r\n",
        "    print(msg)\r\n",
        "    if msg == 'Q':\r\n",
        "        break"
      ],
      "execution_count": 26,
      "outputs": [
        {
          "output_type": "stream",
          "text": [
            "메시지를 입력하세요. 멈추고 싶으면 Q를 입력하세요>>> hello\n",
            "hello\n",
            "메시지를 입력하세요. 멈추고 싶으면 Q를 입력하세요>>> 안녕\n",
            "안녕\n",
            "메시지를 입력하세요. 멈추고 싶으면 Q를 입력하세요>>> q\n",
            "q\n",
            "메시지를 입력하세요. 멈추고 싶으면 Q를 입력하세요>>> Q\n",
            "Q\n"
          ],
          "name": "stdout"
        }
      ]
    },
    {
      "cell_type": "code",
      "metadata": {
        "colab": {
          "base_uri": "https://localhost:8080/"
        },
        "id": "E8V9SzWXf5wC",
        "outputId": "666fc7e1-5d88-43fa-e54a-6db60e00f4c1"
      },
      "source": [
        "dan = 2\r\n",
        "while dan < 10:\r\n",
        "    n = 1\r\n",
        "    while n < 10:\r\n",
        "        print(f'{dan} x {n} = {dan * n}')\r\n",
        "        if n == dan:\r\n",
        "            break\r\n",
        "        n += 1\r\n",
        "    print('-' * 20)\r\n",
        "    dan += 1"
      ],
      "execution_count": 29,
      "outputs": [
        {
          "output_type": "stream",
          "text": [
            "2 x 1 = 2\n",
            "2 x 2 = 4\n",
            "--------------------\n",
            "3 x 1 = 3\n",
            "3 x 2 = 6\n",
            "3 x 3 = 9\n",
            "--------------------\n",
            "4 x 1 = 4\n",
            "4 x 2 = 8\n",
            "4 x 3 = 12\n",
            "4 x 4 = 16\n",
            "--------------------\n",
            "5 x 1 = 5\n",
            "5 x 2 = 10\n",
            "5 x 3 = 15\n",
            "5 x 4 = 20\n",
            "5 x 5 = 25\n",
            "--------------------\n",
            "6 x 1 = 6\n",
            "6 x 2 = 12\n",
            "6 x 3 = 18\n",
            "6 x 4 = 24\n",
            "6 x 5 = 30\n",
            "6 x 6 = 36\n",
            "--------------------\n",
            "7 x 1 = 7\n",
            "7 x 2 = 14\n",
            "7 x 3 = 21\n",
            "7 x 4 = 28\n",
            "7 x 5 = 35\n",
            "7 x 6 = 42\n",
            "7 x 7 = 49\n",
            "--------------------\n",
            "8 x 1 = 8\n",
            "8 x 2 = 16\n",
            "8 x 3 = 24\n",
            "8 x 4 = 32\n",
            "8 x 5 = 40\n",
            "8 x 6 = 48\n",
            "8 x 7 = 56\n",
            "8 x 8 = 64\n",
            "--------------------\n",
            "9 x 1 = 9\n",
            "9 x 2 = 18\n",
            "9 x 3 = 27\n",
            "9 x 4 = 36\n",
            "9 x 5 = 45\n",
            "9 x 6 = 54\n",
            "9 x 7 = 63\n",
            "9 x 8 = 72\n",
            "9 x 9 = 81\n",
            "--------------------\n"
          ],
          "name": "stdout"
        }
      ]
    }
  ]
}