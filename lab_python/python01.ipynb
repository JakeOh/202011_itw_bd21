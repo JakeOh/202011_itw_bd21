{
  "nbformat": 4,
  "nbformat_minor": 0,
  "metadata": {
    "colab": {
      "name": "python01.ipynb",
      "provenance": [],
      "collapsed_sections": [],
      "authorship_tag": "ABX9TyP5zjsd2f4a4Iurs6JXzA8B",
      "include_colab_link": true
    },
    "kernelspec": {
      "name": "python3",
      "display_name": "Python 3"
    }
  },
  "cells": [
    {
      "cell_type": "markdown",
      "metadata": {
        "id": "view-in-github",
        "colab_type": "text"
      },
      "source": [
        "<a href=\"https://colab.research.google.com/github/JakeOh/202011_itw_bd21/blob/main/lab_python/python01.ipynb\" target=\"_parent\"><img src=\"https://colab.research.google.com/assets/colab-badge.svg\" alt=\"Open In Colab\"/></a>"
      ]
    },
    {
      "cell_type": "markdown",
      "metadata": {
        "id": "ykkCeSrDR0zY"
      },
      "source": [
        "**여러가지 print 방법**"
      ]
    },
    {
      "cell_type": "code",
      "metadata": {
        "colab": {
          "base_uri": "https://localhost:8080/"
        },
        "id": "gxmIH3wuRfrR",
        "outputId": "42d86d47-7818-480a-feda-f148ceec8bfd"
      },
      "source": [
        "print('Hello, Python!')"
      ],
      "execution_count": 1,
      "outputs": [
        {
          "output_type": "stream",
          "text": [
            "Hello, Python!\n"
          ],
          "name": "stdout"
        }
      ]
    },
    {
      "cell_type": "markdown",
      "metadata": {
        "id": "iIw9UKNpUUMc"
      },
      "source": [
        "print() 함수에 argument를 여러개 전달하면, 각각의 argument를 공백으로 연결해서 한 줄에 출력해줌."
      ]
    },
    {
      "cell_type": "code",
      "metadata": {
        "colab": {
          "base_uri": "https://localhost:8080/"
        },
        "id": "6GJohLUNSVV7",
        "outputId": "974c48dc-eaa2-4798-e035-ae72cdaf56fe"
      },
      "source": [
        "print('안녕', '여러분', 'hello')"
      ],
      "execution_count": 2,
      "outputs": [
        {
          "output_type": "stream",
          "text": [
            "안녕 여러분 hello\n"
          ],
          "name": "stdout"
        }
      ]
    },
    {
      "cell_type": "code",
      "metadata": {
        "colab": {
          "base_uri": "https://localhost:8080/"
        },
        "id": "sxu_InxJUAvv",
        "outputId": "aea9359b-538a-45d9-cbc4-a8b6505093f4"
      },
      "source": [
        "print(1, 2)"
      ],
      "execution_count": 4,
      "outputs": [
        {
          "output_type": "stream",
          "text": [
            "1 2\n"
          ],
          "name": "stdout"
        }
      ]
    },
    {
      "cell_type": "code",
      "metadata": {
        "colab": {
          "base_uri": "https://localhost:8080/"
        },
        "id": "Bo2xiLB8U2JU",
        "outputId": "76b9b3b9-fa11-47df-9808-fe5923485390"
      },
      "source": [
        "print(1 + 2)"
      ],
      "execution_count": 5,
      "outputs": [
        {
          "output_type": "stream",
          "text": [
            "3\n"
          ],
          "name": "stdout"
        }
      ]
    },
    {
      "cell_type": "code",
      "metadata": {
        "colab": {
          "base_uri": "https://localhost:8080/"
        },
        "id": "Xson2qrPU6kb",
        "outputId": "4cd3f3c2-f8bd-47f6-8c41-4a1213b86870"
      },
      "source": [
        "print(1, '+', 2, '=', (1 + 2))"
      ],
      "execution_count": 6,
      "outputs": [
        {
          "output_type": "stream",
          "text": [
            "1 + 2 = 3\n"
          ],
          "name": "stdout"
        }
      ]
    },
    {
      "cell_type": "code",
      "metadata": {
        "colab": {
          "base_uri": "https://localhost:8080/"
        },
        "id": "ZvRiUn8gVhpi",
        "outputId": "cb2c77f9-244e-4f03-efff-3fcca146c7f8"
      },
      "source": [
        "# Python 주석\r\n",
        "# #으로 시작해서 그 줄(line)의 끝까지\r\n",
        "\r\n",
        "# 변수(variable): 값(자료)를 저장한 곳(메모리)을 찾아갈 수 있는 이름.\r\n",
        "# 변수이름 = 값\r\n",
        "name = '오쌤'\r\n",
        "age = 16\r\n",
        "\r\n",
        "print(name)\r\n",
        "print(age)"
      ],
      "execution_count": 7,
      "outputs": [
        {
          "output_type": "stream",
          "text": [
            "오쌤\n",
            "16\n"
          ],
          "name": "stdout"
        }
      ]
    },
    {
      "cell_type": "code",
      "metadata": {
        "colab": {
          "base_uri": "https://localhost:8080/"
        },
        "id": "zo4pz1aSXrM8",
        "outputId": "4ff68f0b-778d-45c1-87bc-d431e60980b7"
      },
      "source": [
        "print('이름:', name, '나이:', age)"
      ],
      "execution_count": 8,
      "outputs": [
        {
          "output_type": "stream",
          "text": [
            "이름: 오쌤 나이: 16\n"
          ],
          "name": "stdout"
        }
      ]
    },
    {
      "cell_type": "code",
      "metadata": {
        "colab": {
          "base_uri": "https://localhost:8080/"
        },
        "id": "6cWSxI1AW54W",
        "outputId": "7688081b-a976-4136-a28a-45384ba525e7"
      },
      "source": [
        "print(\"I'm a boy.\")"
      ],
      "execution_count": 9,
      "outputs": [
        {
          "output_type": "stream",
          "text": [
            "I'm a boy.\n"
          ],
          "name": "stdout"
        }
      ]
    },
    {
      "cell_type": "code",
      "metadata": {
        "colab": {
          "base_uri": "https://localhost:8080/"
        },
        "id": "nu6CwLyOZLpw",
        "outputId": "2f3c28c5-0fac-4d31-e522-d8fefd6ca36f"
      },
      "source": [
        "print('I\\'m a boy.')  # escape character \\"
      ],
      "execution_count": 11,
      "outputs": [
        {
          "output_type": "stream",
          "text": [
            "I'm a boy.\n"
          ],
          "name": "stdout"
        }
      ]
    }
  ]
}