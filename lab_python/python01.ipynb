{
  "nbformat": 4,
  "nbformat_minor": 0,
  "metadata": {
    "colab": {
      "name": "python01.ipynb",
      "provenance": [],
      "collapsed_sections": [],
      "authorship_tag": "ABX9TyMNH2sUh0R1fdYiMWLYtLrf",
      "include_colab_link": true
    },
    "kernelspec": {
      "name": "python3",
      "display_name": "Python 3"
    }
  },
  "cells": [
    {
      "cell_type": "markdown",
      "metadata": {
        "id": "view-in-github",
        "colab_type": "text"
      },
      "source": [
        "<a href=\"https://colab.research.google.com/github/JakeOh/202011_itw_bd21/blob/main/lab_python/python01.ipynb\" target=\"_parent\"><img src=\"https://colab.research.google.com/assets/colab-badge.svg\" alt=\"Open In Colab\"/></a>"
      ]
    },
    {
      "cell_type": "markdown",
      "metadata": {
        "id": "ykkCeSrDR0zY"
      },
      "source": [
        "**여러가지 print 방법**"
      ]
    },
    {
      "cell_type": "code",
      "metadata": {
        "colab": {
          "base_uri": "https://localhost:8080/"
        },
        "id": "gxmIH3wuRfrR",
        "outputId": "42d86d47-7818-480a-feda-f148ceec8bfd"
      },
      "source": [
        "print('Hello, Python!')"
      ],
      "execution_count": null,
      "outputs": [
        {
          "output_type": "stream",
          "text": [
            "Hello, Python!\n"
          ],
          "name": "stdout"
        }
      ]
    },
    {
      "cell_type": "markdown",
      "metadata": {
        "id": "iIw9UKNpUUMc"
      },
      "source": [
        "print() 함수에 argument를 여러개 전달하면, 각각의 argument를 공백으로 연결해서 한 줄에 출력해줌."
      ]
    },
    {
      "cell_type": "code",
      "metadata": {
        "colab": {
          "base_uri": "https://localhost:8080/"
        },
        "id": "6GJohLUNSVV7",
        "outputId": "974c48dc-eaa2-4798-e035-ae72cdaf56fe"
      },
      "source": [
        "print('안녕', '여러분', 'hello')"
      ],
      "execution_count": null,
      "outputs": [
        {
          "output_type": "stream",
          "text": [
            "안녕 여러분 hello\n"
          ],
          "name": "stdout"
        }
      ]
    },
    {
      "cell_type": "code",
      "metadata": {
        "colab": {
          "base_uri": "https://localhost:8080/"
        },
        "id": "sxu_InxJUAvv",
        "outputId": "aea9359b-538a-45d9-cbc4-a8b6505093f4"
      },
      "source": [
        "print(1, 2)"
      ],
      "execution_count": null,
      "outputs": [
        {
          "output_type": "stream",
          "text": [
            "1 2\n"
          ],
          "name": "stdout"
        }
      ]
    },
    {
      "cell_type": "code",
      "metadata": {
        "colab": {
          "base_uri": "https://localhost:8080/"
        },
        "id": "Bo2xiLB8U2JU",
        "outputId": "76b9b3b9-fa11-47df-9808-fe5923485390"
      },
      "source": [
        "print(1 + 2)"
      ],
      "execution_count": null,
      "outputs": [
        {
          "output_type": "stream",
          "text": [
            "3\n"
          ],
          "name": "stdout"
        }
      ]
    },
    {
      "cell_type": "code",
      "metadata": {
        "colab": {
          "base_uri": "https://localhost:8080/"
        },
        "id": "Xson2qrPU6kb",
        "outputId": "4cd3f3c2-f8bd-47f6-8c41-4a1213b86870"
      },
      "source": [
        "print(1, '+', 2, '=', (1 + 2))"
      ],
      "execution_count": null,
      "outputs": [
        {
          "output_type": "stream",
          "text": [
            "1 + 2 = 3\n"
          ],
          "name": "stdout"
        }
      ]
    },
    {
      "cell_type": "code",
      "metadata": {
        "colab": {
          "base_uri": "https://localhost:8080/"
        },
        "id": "ZvRiUn8gVhpi",
        "outputId": "cb2c77f9-244e-4f03-efff-3fcca146c7f8"
      },
      "source": [
        "# Python 주석\r\n",
        "# #으로 시작해서 그 줄(line)의 끝까지\r\n",
        "\r\n",
        "# 변수(variable): 값(자료)를 저장한 곳(메모리)을 찾아갈 수 있는 이름.\r\n",
        "# 변수이름 = 값\r\n",
        "name = '오쌤'\r\n",
        "age = 16\r\n",
        "\r\n",
        "print(name)\r\n",
        "print(age)"
      ],
      "execution_count": null,
      "outputs": [
        {
          "output_type": "stream",
          "text": [
            "오쌤\n",
            "16\n"
          ],
          "name": "stdout"
        }
      ]
    },
    {
      "cell_type": "code",
      "metadata": {
        "colab": {
          "base_uri": "https://localhost:8080/"
        },
        "id": "zo4pz1aSXrM8",
        "outputId": "4ff68f0b-778d-45c1-87bc-d431e60980b7"
      },
      "source": [
        "print('이름:', name, '나이:', age)"
      ],
      "execution_count": null,
      "outputs": [
        {
          "output_type": "stream",
          "text": [
            "이름: 오쌤 나이: 16\n"
          ],
          "name": "stdout"
        }
      ]
    },
    {
      "cell_type": "code",
      "metadata": {
        "colab": {
          "base_uri": "https://localhost:8080/"
        },
        "id": "6cWSxI1AW54W",
        "outputId": "7688081b-a976-4136-a28a-45384ba525e7"
      },
      "source": [
        "print(\"I'm a boy.\")"
      ],
      "execution_count": null,
      "outputs": [
        {
          "output_type": "stream",
          "text": [
            "I'm a boy.\n"
          ],
          "name": "stdout"
        }
      ]
    },
    {
      "cell_type": "code",
      "metadata": {
        "colab": {
          "base_uri": "https://localhost:8080/"
        },
        "id": "nu6CwLyOZLpw",
        "outputId": "2f3c28c5-0fac-4d31-e522-d8fefd6ca36f"
      },
      "source": [
        "print('I\\'m a boy.')  # escape character \\"
      ],
      "execution_count": null,
      "outputs": [
        {
          "output_type": "stream",
          "text": [
            "I'm a boy.\n"
          ],
          "name": "stdout"
        }
      ]
    },
    {
      "cell_type": "code",
      "metadata": {
        "colab": {
          "base_uri": "https://localhost:8080/"
        },
        "id": "ezyeKNc6fGXM",
        "outputId": "2d770edc-6d51-443c-8965-7f214711be78"
      },
      "source": [
        "print('이름:', name, ',', '나이:', age)"
      ],
      "execution_count": null,
      "outputs": [
        {
          "output_type": "stream",
          "text": [
            "이름: 오쌤 , 나이: 16\n"
          ],
          "name": "stdout"
        }
      ]
    },
    {
      "cell_type": "code",
      "metadata": {
        "colab": {
          "base_uri": "https://localhost:8080/"
        },
        "id": "C7uuLWfUfOLd",
        "outputId": "e3983f05-3418-4d4b-8ce2-e2cec1fa1040"
      },
      "source": [
        "print('이름: %s, 나이: %d' % (name, age))\r\n",
        "# %s: 문자열(string)\r\n",
        "# %d: 정수(integer). digit\r\n",
        "# %f: 실수. 부동소수점(floating point number)"
      ],
      "execution_count": null,
      "outputs": [
        {
          "output_type": "stream",
          "text": [
            "이름: 오쌤, 나이: 16\n"
          ],
          "name": "stdout"
        }
      ]
    },
    {
      "cell_type": "code",
      "metadata": {
        "colab": {
          "base_uri": "https://localhost:8080/"
        },
        "id": "R39iDcWNg_3F",
        "outputId": "bf132f3c-ea8b-4fbf-8cf8-2d8c5e8d5997"
      },
      "source": [
        "# format() 메서드(함수) 이용.\r\n",
        "print('이름: {}, 나이: {}'.format(name, age))  # placeholder {}"
      ],
      "execution_count": null,
      "outputs": [
        {
          "output_type": "stream",
          "text": [
            "이름: 16, 나이: 오쌤\n"
          ],
          "name": "stdout"
        }
      ]
    },
    {
      "cell_type": "code",
      "metadata": {
        "colab": {
          "base_uri": "https://localhost:8080/"
        },
        "id": "O6sA6m50iKyt",
        "outputId": "928e4e00-f14b-402b-f042-b4f4fe44755d"
      },
      "source": [
        "print('{} x {} = {}'.format(2, 3, 2*3))"
      ],
      "execution_count": null,
      "outputs": [
        {
          "output_type": "stream",
          "text": [
            "2 x 3 = 6\n"
          ],
          "name": "stdout"
        }
      ]
    },
    {
      "cell_type": "code",
      "metadata": {
        "colab": {
          "base_uri": "https://localhost:8080/"
        },
        "id": "NcmIIr8fiylM",
        "outputId": "cb405687-2312-45bf-dabd-faf5e133b3d9"
      },
      "source": [
        "# formatted string: Python 3.6 이상 버전부터 새로 추가된 print 방법\r\n",
        "print(f'이름: {name}, 나이: {age}')"
      ],
      "execution_count": null,
      "outputs": [
        {
          "output_type": "stream",
          "text": [
            "이름: 오쌤, 나이: 16\n"
          ],
          "name": "stdout"
        }
      ]
    },
    {
      "cell_type": "code",
      "metadata": {
        "colab": {
          "base_uri": "https://localhost:8080/"
        },
        "id": "RiV2bjT3jf_s",
        "outputId": "5fd16f98-f051-45dc-df1c-7d9f440049f8"
      },
      "source": [
        "print(f'나이: {age + 1}')"
      ],
      "execution_count": null,
      "outputs": [
        {
          "output_type": "stream",
          "text": [
            "나이: 17\n"
          ],
          "name": "stdout"
        }
      ]
    },
    {
      "cell_type": "code",
      "metadata": {
        "id": "ReW_L7mYkgFN",
        "colab": {
          "base_uri": "https://localhost:8080/"
        },
        "outputId": "63821231-0e52-4511-98f8-f378abb47507"
      },
      "source": [
        "# 사용자 입력(키보드로부터 문자열 입력)\r\n",
        "name = input('이름을 입력하세요>>> ')\r\n",
        "print(f'안녕하세요, {name}!')"
      ],
      "execution_count": 25,
      "outputs": [
        {
          "output_type": "stream",
          "text": [
            "이름을 입력하세요>>> 홍길동\n",
            "안녕하세요, 홍길동!\n"
          ],
          "name": "stdout"
        }
      ]
    }
  ]
}