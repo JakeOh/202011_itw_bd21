{
  "nbformat": 4,
  "nbformat_minor": 0,
  "metadata": {
    "colab": {
      "name": "python35_csv_file.ipynb",
      "provenance": [],
      "collapsed_sections": [],
      "mount_file_id": "1FU__NS4VvVVzXxOSkaSzgYu_P4rg_7G6",
      "authorship_tag": "ABX9TyPLO2SmPQSLzxCfmWHMVBcD",
      "include_colab_link": true
    },
    "kernelspec": {
      "name": "python3",
      "display_name": "Python 3"
    }
  },
  "cells": [
    {
      "cell_type": "markdown",
      "metadata": {
        "id": "view-in-github",
        "colab_type": "text"
      },
      "source": [
        "<a href=\"https://colab.research.google.com/github/JakeOh/202011_itw_bd21/blob/main/lab_python/python35_csv_file.ipynb\" target=\"_parent\"><img src=\"https://colab.research.google.com/assets/colab-badge.svg\" alt=\"Open In Colab\"/></a>"
      ]
    },
    {
      "cell_type": "markdown",
      "metadata": {
        "id": "DOQqJkrpha38"
      },
      "source": [
        "1. 구글 드라이브 마운트\r\n",
        "2. csv_exam.csv 파일의 경로를 복사\r\n",
        "3. csv_exam.csv 파일을 읽기 모드로 open\r\n",
        "4. 파일에서 첫번째 줄을 읽고 아무 동작없이 건너뜀.\r\n",
        "5. 두번째 줄부터 파일 끝까지 한 줄씩 읽으면서 반복\r\n",
        "6. 각 줄의 내용을 쉼표(',')로 분리한 리스트를 exam 빈 리스트에 append.\r\n",
        ">   `[[1,1,50,98,50], [2,1,60,97,60], [3,1,45,86,78], ...]`\r\n",
        "7. 2차원 리스트 exam에서 수학 점수들로만 이루어진 1차원 리스트 math를 생성.\r\n",
        ">   `[50, 60, 45, ...]`\r\n",
        "8. 1반 학생들의 수학 점수의 총점, 평균, 최댓값, 최솟값을 찾으세요.(sum, min, max 함수 이용)"
      ]
    },
    {
      "cell_type": "code",
      "metadata": {
        "id": "DPbbnDtHhTn3"
      },
      "source": [
        "file_path = '/content/drive/MyDrive/Colab Notebooks/lab_python/csv_exam.csv'  # 절대 경로"
      ],
      "execution_count": 1,
      "outputs": []
    },
    {
      "cell_type": "code",
      "metadata": {
        "id": "TONXbERwu0IT"
      },
      "source": [
        "file_path2 = 'drive/MyDrive/Colab Notebooks/lab_python/csv_exam.csv'  # 상대 경로"
      ],
      "execution_count": 3,
      "outputs": []
    },
    {
      "cell_type": "code",
      "metadata": {
        "colab": {
          "base_uri": "https://localhost:8080/"
        },
        "id": "lq8i55p1vIH7",
        "outputId": "8ba8347d-6b25-4656-af33-4f9c41ee61c2"
      },
      "source": [
        "with open(file=file_path2, mode='r') as f:\r\n",
        "    f.readline()  # 파일의 첫번째 줄을 읽고 건너뜀.\r\n",
        "\r\n",
        "    exam = []  # 파일에서 한 줄씩 읽을 때마다, 읽은 데이터를 저장할 리스트\r\n",
        "    for line in f:  # 파일 f에서 한 줄씩 읽으면서 반복\r\n",
        "        # 읽은 줄에서 시작과 끝의 공백 문자를 제거하고, 쉼표(,)로 문자열들을 분리\r\n",
        "        data = line.strip().split(sep=',')  #> 문자열 1차원 리스트\r\n",
        "        exam.append(data)\r\n",
        "\r\n",
        "print(exam)"
      ],
      "execution_count": 7,
      "outputs": [
        {
          "output_type": "stream",
          "text": [
            "[['1', '1', '50', '98', '50'], ['2', '1', '60', '97', '60'], ['3', '1', '45', '86', '78'], ['4', '1', '30', '98', '58'], ['5', '2', '25', '80', '65'], ['6', '2', '50', '89', '98'], ['7', '2', '80', '90', '45'], ['8', '2', '90', '78', '25'], ['9', '3', '20', '98', '15'], ['10', '3', '50', '98', '45'], ['11', '3', '65', '65', '65'], ['12', '3', '45', '85', '32'], ['13', '4', '46', '98', '65'], ['14', '4', '48', '87', '12'], ['15', '4', '75', '56', '78'], ['16', '4', '58', '98', '65'], ['17', '5', '65', '68', '98'], ['18', '5', '80', '78', '90'], ['19', '5', '89', '68', '87'], ['20', '5', '78', '83', '58']]\n"
          ],
          "name": "stdout"
        }
      ]
    },
    {
      "cell_type": "code",
      "metadata": {
        "colab": {
          "base_uri": "https://localhost:8080/"
        },
        "id": "19rsyjmtxF-j",
        "outputId": "701ebf54-e393-4286-c07b-19ff84cf3e12"
      },
      "source": [
        "with open(file=file_path, mode='r') as f:\r\n",
        "    f.readline()\r\n",
        "    exam = [line.strip().split(sep=',') for line in f]\r\n",
        "\r\n",
        "print(exam)"
      ],
      "execution_count": 9,
      "outputs": [
        {
          "output_type": "stream",
          "text": [
            "[['1', '1', '50', '98', '50'], ['2', '1', '60', '97', '60'], ['3', '1', '45', '86', '78'], ['4', '1', '30', '98', '58'], ['5', '2', '25', '80', '65'], ['6', '2', '50', '89', '98'], ['7', '2', '80', '90', '45'], ['8', '2', '90', '78', '25'], ['9', '3', '20', '98', '15'], ['10', '3', '50', '98', '45'], ['11', '3', '65', '65', '65'], ['12', '3', '45', '85', '32'], ['13', '4', '46', '98', '65'], ['14', '4', '48', '87', '12'], ['15', '4', '75', '56', '78'], ['16', '4', '58', '98', '65'], ['17', '5', '65', '68', '98'], ['18', '5', '80', '78', '90'], ['19', '5', '89', '68', '87'], ['20', '5', '78', '83', '58']]\n"
          ],
          "name": "stdout"
        }
      ]
    },
    {
      "cell_type": "markdown",
      "metadata": {
        "id": "Uvw1q3Z-yeAL"
      },
      "source": [
        "2차원 리스트 exam의 모든 원소들을 int 타입으로 변환"
      ]
    },
    {
      "cell_type": "code",
      "metadata": {
        "colab": {
          "base_uri": "https://localhost:8080/"
        },
        "id": "2VK3iSJrxkj7",
        "outputId": "5cc0bea5-749a-47fa-fbe7-7da4f5465e12"
      },
      "source": [
        "for row in exam:\r\n",
        "    for x in row:\r\n",
        "        x = int(x)\r\n",
        "\r\n",
        "print(exam)  #> 리스트에서는 값의 변화가 없음."
      ],
      "execution_count": 10,
      "outputs": [
        {
          "output_type": "stream",
          "text": [
            "[['1', '1', '50', '98', '50'], ['2', '1', '60', '97', '60'], ['3', '1', '45', '86', '78'], ['4', '1', '30', '98', '58'], ['5', '2', '25', '80', '65'], ['6', '2', '50', '89', '98'], ['7', '2', '80', '90', '45'], ['8', '2', '90', '78', '25'], ['9', '3', '20', '98', '15'], ['10', '3', '50', '98', '45'], ['11', '3', '65', '65', '65'], ['12', '3', '45', '85', '32'], ['13', '4', '46', '98', '65'], ['14', '4', '48', '87', '12'], ['15', '4', '75', '56', '78'], ['16', '4', '58', '98', '65'], ['17', '5', '65', '68', '98'], ['18', '5', '80', '78', '90'], ['19', '5', '89', '68', '87'], ['20', '5', '78', '83', '58']]\n"
          ],
          "name": "stdout"
        }
      ]
    },
    {
      "cell_type": "code",
      "metadata": {
        "colab": {
          "base_uri": "https://localhost:8080/"
        },
        "id": "GkqcgacPzXVV",
        "outputId": "f23640e5-12de-4d6a-daff-b34e62a6892d"
      },
      "source": [
        "for i, row in enumerate(exam):\r\n",
        "    for j, x in enumerate(row):\r\n",
        "        exam[i][j] = int(x)\r\n",
        "\r\n",
        "print(exam)  #> exam의 모든 원소가 int 타입으로 변환됨.   "
      ],
      "execution_count": 11,
      "outputs": [
        {
          "output_type": "stream",
          "text": [
            "[[1, 1, 50, 98, 50], [2, 1, 60, 97, 60], [3, 1, 45, 86, 78], [4, 1, 30, 98, 58], [5, 2, 25, 80, 65], [6, 2, 50, 89, 98], [7, 2, 80, 90, 45], [8, 2, 90, 78, 25], [9, 3, 20, 98, 15], [10, 3, 50, 98, 45], [11, 3, 65, 65, 65], [12, 3, 45, 85, 32], [13, 4, 46, 98, 65], [14, 4, 48, 87, 12], [15, 4, 75, 56, 78], [16, 4, 58, 98, 65], [17, 5, 65, 68, 98], [18, 5, 80, 78, 90], [19, 5, 89, 68, 87], [20, 5, 78, 83, 58]]\n"
          ],
          "name": "stdout"
        }
      ]
    },
    {
      "cell_type": "code",
      "metadata": {
        "colab": {
          "base_uri": "https://localhost:8080/"
        },
        "id": "XUcNF1dv0ZkF",
        "outputId": "f9da1a12-3711-4d0c-9077-dc5e4832ea6c"
      },
      "source": [
        "# math = []\r\n",
        "# for score in exam:\r\n",
        "#     math.append(score[2])\r\n",
        "math = [score[2] for score in exam]\r\n",
        "\r\n",
        "print(math)"
      ],
      "execution_count": 14,
      "outputs": [
        {
          "output_type": "stream",
          "text": [
            "[50, 60, 45, 30, 25, 50, 80, 90, 20, 50, 65, 45, 46, 48, 75, 58, 65, 80, 89, 78]\n"
          ],
          "name": "stdout"
        }
      ]
    },
    {
      "cell_type": "code",
      "metadata": {
        "colab": {
          "base_uri": "https://localhost:8080/"
        },
        "id": "nTrFA8HX1ImC",
        "outputId": "861b79f7-012e-4e44-ba67-aa6dfe5859da"
      },
      "source": [
        "# math_class1 = []\r\n",
        "# for score in exam:\r\n",
        "#     if score[1] == 1:\r\n",
        "#         math_class1.append(score[2])\r\n",
        "math_class1 = [score[2] for score in exam if score[1] == 1]\r\n",
        "\r\n",
        "print(math_class1)"
      ],
      "execution_count": 16,
      "outputs": [
        {
          "output_type": "stream",
          "text": [
            "[50, 60, 45, 30]\n"
          ],
          "name": "stdout"
        }
      ]
    },
    {
      "cell_type": "code",
      "metadata": {
        "colab": {
          "base_uri": "https://localhost:8080/"
        },
        "id": "J47C3-Ps1tri",
        "outputId": "52282855-333a-4b81-a4e9-be55d70c5aa6"
      },
      "source": [
        "print('sum:', sum(math_class1))\r\n",
        "print('mean:', sum(math_class1) / len(math_class1))\r\n",
        "print('max:', max(math_class1))\r\n",
        "print('min:', min(math_class1))"
      ],
      "execution_count": 17,
      "outputs": [
        {
          "output_type": "stream",
          "text": [
            "sum: 185\n",
            "mean: 46.25\n",
            "max: 60\n",
            "min: 30\n"
          ],
          "name": "stdout"
        }
      ]
    },
    {
      "cell_type": "markdown",
      "metadata": {
        "id": "0kngABCv2ZEk"
      },
      "source": [
        "Score 클래스\r\n",
        "\r\n",
        "*   속성: `id, class, math, english, science`\r\n",
        "*   메서드: `__init__, __repr__`\r\n"
      ]
    },
    {
      "cell_type": "code",
      "metadata": {
        "id": "oBP0cnKQ22i_"
      },
      "source": [
        "class Score:\r\n",
        "    def __init__(self, id, cls, math, english, science):\r\n",
        "        self.id = id\r\n",
        "        self.cls = cls\r\n",
        "        self.math = math\r\n",
        "        self.english = english\r\n",
        "        self.science = science\r\n",
        "\r\n",
        "    def __repr__(self):\r\n",
        "        return f'Score(id={self.id}, class={self.cls}, math={self.math}, english={self.english}, science={self.science})'"
      ],
      "execution_count": 20,
      "outputs": []
    },
    {
      "cell_type": "code",
      "metadata": {
        "colab": {
          "base_uri": "https://localhost:8080/"
        },
        "id": "dy-dC9Be9Jga",
        "outputId": "d045c678-c299-4492-ae40-3377cd15ec9d"
      },
      "source": [
        "s = Score(1, 1, 50, 60, 55)\r\n",
        "print(s)"
      ],
      "execution_count": 21,
      "outputs": [
        {
          "output_type": "stream",
          "text": [
            "Score(id=1, class=1, math=50, english=60, science=55)\n"
          ],
          "name": "stdout"
        }
      ]
    },
    {
      "cell_type": "markdown",
      "metadata": {
        "id": "IdQzcTrT23ii"
      },
      "source": [
        "csv_exam.csv 파일을 읽으면서, Score 타입의 객체를 저장하는 리스트 exam을 생성."
      ]
    },
    {
      "cell_type": "code",
      "metadata": {
        "colab": {
          "base_uri": "https://localhost:8080/"
        },
        "id": "JJjsBd-y3Enj",
        "outputId": "62279e38-6ee4-4e02-fc90-a597389f53f4"
      },
      "source": [
        "exam = []\r\n",
        "\r\n",
        "with open(file=file_path2, mode='r') as f:\r\n",
        "    f.readline()  # CSV 파일의 헤더(컬럼 이름)을 제거\r\n",
        "    for line in f:\r\n",
        "        data = line.strip().split(sep=',')  #> 문자열 5개를 저장하고 있는 리스트\r\n",
        "        score = Score(int(data[0]), int(data[1]), int(data[2]), int(data[3]), int(data[4]))\r\n",
        "        exam.append(score)\r\n",
        "\r\n",
        "print(exam)"
      ],
      "execution_count": 22,
      "outputs": [
        {
          "output_type": "stream",
          "text": [
            "[Score(id=1, class=1, math=50, english=98, science=50), Score(id=2, class=1, math=60, english=97, science=60), Score(id=3, class=1, math=45, english=86, science=78), Score(id=4, class=1, math=30, english=98, science=58), Score(id=5, class=2, math=25, english=80, science=65), Score(id=6, class=2, math=50, english=89, science=98), Score(id=7, class=2, math=80, english=90, science=45), Score(id=8, class=2, math=90, english=78, science=25), Score(id=9, class=3, math=20, english=98, science=15), Score(id=10, class=3, math=50, english=98, science=45), Score(id=11, class=3, math=65, english=65, science=65), Score(id=12, class=3, math=45, english=85, science=32), Score(id=13, class=4, math=46, english=98, science=65), Score(id=14, class=4, math=48, english=87, science=12), Score(id=15, class=4, math=75, english=56, science=78), Score(id=16, class=4, math=58, english=98, science=65), Score(id=17, class=5, math=65, english=68, science=98), Score(id=18, class=5, math=80, english=78, science=90), Score(id=19, class=5, math=89, english=68, science=87), Score(id=20, class=5, math=78, english=83, science=58)]\n"
          ],
          "name": "stdout"
        }
      ]
    },
    {
      "cell_type": "code",
      "metadata": {
        "colab": {
          "base_uri": "https://localhost:8080/"
        },
        "id": "8k87uspn-5QR",
        "outputId": "c8ed19f3-4608-4a4e-91e3-45e5df86b643"
      },
      "source": [
        "# math = []\r\n",
        "# for s in exam:\r\n",
        "#     math.append(s.math)\r\n",
        "math = [s.math for s in exam]\r\n",
        "\r\n",
        "print(math)    "
      ],
      "execution_count": 24,
      "outputs": [
        {
          "output_type": "stream",
          "text": [
            "[50, 60, 45, 30, 25, 50, 80, 90, 20, 50, 65, 45, 46, 48, 75, 58, 65, 80, 89, 78]\n"
          ],
          "name": "stdout"
        }
      ]
    },
    {
      "cell_type": "code",
      "metadata": {
        "colab": {
          "base_uri": "https://localhost:8080/"
        },
        "id": "BJJXhnF1AEsT",
        "outputId": "207a86ae-6917-4cd6-a556-1582304a205e"
      },
      "source": [
        "# math_class1 = []\r\n",
        "# for s in exam:\r\n",
        "#     if s.cls == 1:\r\n",
        "#         math_class1.append(s.math)\r\n",
        "math_class1 = [s.math for s in exam if s.cls == 1]\r\n",
        "\r\n",
        "print(math_class1)"
      ],
      "execution_count": 26,
      "outputs": [
        {
          "output_type": "stream",
          "text": [
            "[50, 60, 45, 30]\n"
          ],
          "name": "stdout"
        }
      ]
    },
    {
      "cell_type": "code",
      "metadata": {
        "colab": {
          "base_uri": "https://localhost:8080/"
        },
        "id": "VE5wDCnvBBab",
        "outputId": "2a25ff67-d26e-4839-cf3f-28f68f170636"
      },
      "source": [
        "exam"
      ],
      "execution_count": 27,
      "outputs": [
        {
          "output_type": "execute_result",
          "data": {
            "text/plain": [
              "[Score(id=1, class=1, math=50, english=98, science=50),\n",
              " Score(id=2, class=1, math=60, english=97, science=60),\n",
              " Score(id=3, class=1, math=45, english=86, science=78),\n",
              " Score(id=4, class=1, math=30, english=98, science=58),\n",
              " Score(id=5, class=2, math=25, english=80, science=65),\n",
              " Score(id=6, class=2, math=50, english=89, science=98),\n",
              " Score(id=7, class=2, math=80, english=90, science=45),\n",
              " Score(id=8, class=2, math=90, english=78, science=25),\n",
              " Score(id=9, class=3, math=20, english=98, science=15),\n",
              " Score(id=10, class=3, math=50, english=98, science=45),\n",
              " Score(id=11, class=3, math=65, english=65, science=65),\n",
              " Score(id=12, class=3, math=45, english=85, science=32),\n",
              " Score(id=13, class=4, math=46, english=98, science=65),\n",
              " Score(id=14, class=4, math=48, english=87, science=12),\n",
              " Score(id=15, class=4, math=75, english=56, science=78),\n",
              " Score(id=16, class=4, math=58, english=98, science=65),\n",
              " Score(id=17, class=5, math=65, english=68, science=98),\n",
              " Score(id=18, class=5, math=80, english=78, science=90),\n",
              " Score(id=19, class=5, math=89, english=68, science=87),\n",
              " Score(id=20, class=5, math=78, english=83, science=58)]"
            ]
          },
          "metadata": {
            "tags": []
          },
          "execution_count": 27
        }
      ]
    },
    {
      "cell_type": "markdown",
      "metadata": {
        "id": "5ECmLYAEBrew"
      },
      "source": [
        "\r\n",
        "*   `sorted(list, key, reverse)`: key를 기준으로 list를 정렬(오름차순:reverse=False, 내림차순: reverse=True)한 새로운 리스트를 리턴. 원본 리스트를 변경하지 않음.\r\n",
        "*   `list.sort(key, reverse)`: key를 기준으로 list를 정렬함. 원본 리스트가 변경됨. None이 리턴됨.\r\n"
      ]
    },
    {
      "cell_type": "code",
      "metadata": {
        "colab": {
          "base_uri": "https://localhost:8080/"
        },
        "id": "A65Zy2SGBYAq",
        "outputId": "ee697ae3-fc17-42be-e771-e2fdfcb23adf"
      },
      "source": [
        "# exam 리스트를 수학점수 내림차순으로 정렬\r\n",
        "sorted(exam, key=lambda x: x.math, reverse=True)"
      ],
      "execution_count": 29,
      "outputs": [
        {
          "output_type": "execute_result",
          "data": {
            "text/plain": [
              "[Score(id=8, class=2, math=90, english=78, science=25),\n",
              " Score(id=19, class=5, math=89, english=68, science=87),\n",
              " Score(id=7, class=2, math=80, english=90, science=45),\n",
              " Score(id=18, class=5, math=80, english=78, science=90),\n",
              " Score(id=20, class=5, math=78, english=83, science=58),\n",
              " Score(id=15, class=4, math=75, english=56, science=78),\n",
              " Score(id=11, class=3, math=65, english=65, science=65),\n",
              " Score(id=17, class=5, math=65, english=68, science=98),\n",
              " Score(id=2, class=1, math=60, english=97, science=60),\n",
              " Score(id=16, class=4, math=58, english=98, science=65),\n",
              " Score(id=1, class=1, math=50, english=98, science=50),\n",
              " Score(id=6, class=2, math=50, english=89, science=98),\n",
              " Score(id=10, class=3, math=50, english=98, science=45),\n",
              " Score(id=14, class=4, math=48, english=87, science=12),\n",
              " Score(id=13, class=4, math=46, english=98, science=65),\n",
              " Score(id=3, class=1, math=45, english=86, science=78),\n",
              " Score(id=12, class=3, math=45, english=85, science=32),\n",
              " Score(id=4, class=1, math=30, english=98, science=58),\n",
              " Score(id=5, class=2, math=25, english=80, science=65),\n",
              " Score(id=9, class=3, math=20, english=98, science=15)]"
            ]
          },
          "metadata": {
            "tags": []
          },
          "execution_count": 29
        }
      ]
    },
    {
      "cell_type": "code",
      "metadata": {
        "colab": {
          "base_uri": "https://localhost:8080/"
        },
        "id": "AwRXs9K3DL8L",
        "outputId": "0204156f-c48c-411a-fbb4-52dbbe8355a5"
      },
      "source": [
        "# exam 리스트를 cls -> math 오름차순 정렬\r\n",
        "sorted(exam, key=lambda x: (x.cls, x.math))"
      ],
      "execution_count": 30,
      "outputs": [
        {
          "output_type": "execute_result",
          "data": {
            "text/plain": [
              "[Score(id=4, class=1, math=30, english=98, science=58),\n",
              " Score(id=3, class=1, math=45, english=86, science=78),\n",
              " Score(id=1, class=1, math=50, english=98, science=50),\n",
              " Score(id=2, class=1, math=60, english=97, science=60),\n",
              " Score(id=5, class=2, math=25, english=80, science=65),\n",
              " Score(id=6, class=2, math=50, english=89, science=98),\n",
              " Score(id=7, class=2, math=80, english=90, science=45),\n",
              " Score(id=8, class=2, math=90, english=78, science=25),\n",
              " Score(id=9, class=3, math=20, english=98, science=15),\n",
              " Score(id=12, class=3, math=45, english=85, science=32),\n",
              " Score(id=10, class=3, math=50, english=98, science=45),\n",
              " Score(id=11, class=3, math=65, english=65, science=65),\n",
              " Score(id=13, class=4, math=46, english=98, science=65),\n",
              " Score(id=14, class=4, math=48, english=87, science=12),\n",
              " Score(id=16, class=4, math=58, english=98, science=65),\n",
              " Score(id=15, class=4, math=75, english=56, science=78),\n",
              " Score(id=17, class=5, math=65, english=68, science=98),\n",
              " Score(id=20, class=5, math=78, english=83, science=58),\n",
              " Score(id=18, class=5, math=80, english=78, science=90),\n",
              " Score(id=19, class=5, math=89, english=68, science=87)]"
            ]
          },
          "metadata": {
            "tags": []
          },
          "execution_count": 30
        }
      ]
    }
  ]
}