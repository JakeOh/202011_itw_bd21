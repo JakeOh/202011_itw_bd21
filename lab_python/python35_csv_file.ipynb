{
  "nbformat": 4,
  "nbformat_minor": 0,
  "metadata": {
    "colab": {
      "name": "python35_csv_file.ipynb",
      "provenance": [],
      "authorship_tag": "ABX9TyN2Bz4JAQ9pDsb/yQYoMG5I",
      "include_colab_link": true
    },
    "kernelspec": {
      "name": "python3",
      "display_name": "Python 3"
    }
  },
  "cells": [
    {
      "cell_type": "markdown",
      "metadata": {
        "id": "view-in-github",
        "colab_type": "text"
      },
      "source": [
        "<a href=\"https://colab.research.google.com/github/JakeOh/202011_itw_bd21/blob/main/lab_python/python35_csv_file.ipynb\" target=\"_parent\"><img src=\"https://colab.research.google.com/assets/colab-badge.svg\" alt=\"Open In Colab\"/></a>"
      ]
    },
    {
      "cell_type": "markdown",
      "metadata": {
        "id": "DOQqJkrpha38"
      },
      "source": [
        "1. 구글 드라이브 마운트\r\n",
        "2. csv_exam.csv 파일의 경로를 복사\r\n",
        "3. csv_exam.csv 파일을 읽기 모드로 open\r\n",
        "4. 파일에서 첫번째 줄을 읽고 아무 동작없이 건너뜀.\r\n",
        "5. 두번째 줄부터 파일 끝까지 한 줄씩 읽으면서 반복\r\n",
        "6. 각 줄의 내용을 ','로 분리한 리스트를 exam 빈 리스트에 append.\r\n",
        ">   [[1,1,50,98,50], [2,1,60,97,60], [3,1,45,86,78], ...]\r\n",
        "7. 2차원 리스트 exam에서 수학 점수들로만 이루어진 1차원 리스트 math를 생성.\r\n",
        ">   [50, 60, 45, ...]\r\n",
        "8. 1반 학생들의 수학 점수의 총점, 평균, 최댓값, 최솟값을 찾으세요.(sum, min, max 함수 이용)"
      ]
    },
    {
      "cell_type": "code",
      "metadata": {
        "id": "DPbbnDtHhTn3"
      },
      "source": [
        ""
      ],
      "execution_count": null,
      "outputs": []
    }
  ]
}