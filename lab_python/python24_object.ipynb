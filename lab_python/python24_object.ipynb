{
  "nbformat": 4,
  "nbformat_minor": 0,
  "metadata": {
    "colab": {
      "name": "python24_object.ipynb",
      "provenance": [],
      "collapsed_sections": [],
      "authorship_tag": "ABX9TyPjAxkGLq8CoJ23x0FeFYoC",
      "include_colab_link": true
    },
    "kernelspec": {
      "name": "python3",
      "display_name": "Python 3"
    }
  },
  "cells": [
    {
      "cell_type": "markdown",
      "metadata": {
        "id": "view-in-github",
        "colab_type": "text"
      },
      "source": [
        "<a href=\"https://colab.research.google.com/github/JakeOh/202011_itw_bd21/blob/main/lab_python/python24_object.ipynb\" target=\"_parent\"><img src=\"https://colab.research.google.com/assets/colab-badge.svg\" alt=\"Open In Colab\"/></a>"
      ]
    },
    {
      "cell_type": "markdown",
      "metadata": {
        "id": "jrWdM05m0WEz"
      },
      "source": [
        "# OOP(Object-Oriented Programming, 객체 지향 프로그래밍)"
      ]
    },
    {
      "cell_type": "code",
      "metadata": {
        "colab": {
          "base_uri": "https://localhost:8080/"
        },
        "id": "1-CQ3tgf0H4l",
        "outputId": "524464bc-7848-41c4-d4e5-8af575ecf31d"
      },
      "source": [
        "values = list()  # empty list(객체) 생성 -> 인스턴스\r\n",
        "print(values)"
      ],
      "execution_count": 1,
      "outputs": [
        {
          "output_type": "stream",
          "text": [
            "[]\n"
          ],
          "name": "stdout"
        }
      ]
    },
    {
      "cell_type": "code",
      "metadata": {
        "colab": {
          "base_uri": "https://localhost:8080/"
        },
        "id": "BUrlqFO003Di",
        "outputId": "a325f9bc-5b60-437a-f50f-59f7b3dfa039"
      },
      "source": [
        "dir(values)  # 리스트 객체 values가 가지고 있는 기능(function)들의 목록 -> method"
      ],
      "execution_count": 2,
      "outputs": [
        {
          "output_type": "execute_result",
          "data": {
            "text/plain": [
              "['__add__',\n",
              " '__class__',\n",
              " '__contains__',\n",
              " '__delattr__',\n",
              " '__delitem__',\n",
              " '__dir__',\n",
              " '__doc__',\n",
              " '__eq__',\n",
              " '__format__',\n",
              " '__ge__',\n",
              " '__getattribute__',\n",
              " '__getitem__',\n",
              " '__gt__',\n",
              " '__hash__',\n",
              " '__iadd__',\n",
              " '__imul__',\n",
              " '__init__',\n",
              " '__init_subclass__',\n",
              " '__iter__',\n",
              " '__le__',\n",
              " '__len__',\n",
              " '__lt__',\n",
              " '__mul__',\n",
              " '__ne__',\n",
              " '__new__',\n",
              " '__reduce__',\n",
              " '__reduce_ex__',\n",
              " '__repr__',\n",
              " '__reversed__',\n",
              " '__rmul__',\n",
              " '__setattr__',\n",
              " '__setitem__',\n",
              " '__sizeof__',\n",
              " '__str__',\n",
              " '__subclasshook__',\n",
              " 'append',\n",
              " 'clear',\n",
              " 'copy',\n",
              " 'count',\n",
              " 'extend',\n",
              " 'index',\n",
              " 'insert',\n",
              " 'pop',\n",
              " 'remove',\n",
              " 'reverse',\n",
              " 'sort']"
            ]
          },
          "metadata": {
            "tags": []
          },
          "execution_count": 2
        }
      ]
    },
    {
      "cell_type": "code",
      "metadata": {
        "colab": {
          "base_uri": "https://localhost:8080/"
        },
        "id": "exwfECx22IWY",
        "outputId": "6e2fe3b3-34ab-4e29-ef1e-81b024abf723"
      },
      "source": [
        "# values 객체의 method 사용 방법: values.method_name()\r\n",
        "values.append(100)\r\n",
        "values.append(50)\r\n",
        "values.append(89)\r\n",
        "print(values)"
      ],
      "execution_count": 3,
      "outputs": [
        {
          "output_type": "stream",
          "text": [
            "[100, 50, 89]\n"
          ],
          "name": "stdout"
        }
      ]
    },
    {
      "cell_type": "code",
      "metadata": {
        "colab": {
          "base_uri": "https://localhost:8080/"
        },
        "id": "whpyWJLC5UCR",
        "outputId": "86e41663-292f-44ff-e212-2a04cc3eb1a9"
      },
      "source": [
        "sum(values)  # functional programming"
      ],
      "execution_count": 5,
      "outputs": [
        {
          "output_type": "execute_result",
          "data": {
            "text/plain": [
              "239"
            ]
          },
          "metadata": {
            "tags": []
          },
          "execution_count": 5
        }
      ]
    },
    {
      "cell_type": "code",
      "metadata": {
        "colab": {
          "base_uri": "https://localhost:8080/"
        },
        "id": "ofjvtFqB3JA5",
        "outputId": "d5039144-903c-4f10-84c0-0fda36f98323"
      },
      "source": [
        "names = list()  # empty list 객체 생성\r\n",
        "names.append('Aaa')\r\n",
        "names.append('Zzz')\r\n",
        "names.append('QWERTY')\r\n",
        "print(names)"
      ],
      "execution_count": 4,
      "outputs": [
        {
          "output_type": "stream",
          "text": [
            "['Aaa', 'Zzz', 'QWERTY']\n"
          ],
          "name": "stdout"
        }
      ]
    },
    {
      "cell_type": "code",
      "metadata": {
        "colab": {
          "base_uri": "https://localhost:8080/"
        },
        "id": "zmEcFvBJ-EXi",
        "outputId": "b74eae3d-fca8-4747-ccf1-07769665eb75"
      },
      "source": [
        "names.sort()\r\n",
        "print(names)"
      ],
      "execution_count": 6,
      "outputs": [
        {
          "output_type": "stream",
          "text": [
            "['Aaa', 'QWERTY', 'Zzz']\n"
          ],
          "name": "stdout"
        }
      ]
    },
    {
      "cell_type": "code",
      "metadata": {
        "colab": {
          "base_uri": "https://localhost:8080/"
        },
        "id": "mz7Wr0JB-aiI",
        "outputId": "794615d4-a8d1-46d5-bfd9-a76687db9f61"
      },
      "source": [
        "values.sort()\r\n",
        "print(values)"
      ],
      "execution_count": 7,
      "outputs": [
        {
          "output_type": "stream",
          "text": [
            "[50, 89, 100]\n"
          ],
          "name": "stdout"
        }
      ]
    },
    {
      "cell_type": "markdown",
      "metadata": {
        "id": "Y133wWVs_jCx"
      },
      "source": [
        "객체 지향 프로그래밍(Object-Oriented Programming)\r\n",
        "\r\n",
        "*   객체(**Object**): 소프트웨어로 구현할 대상. 자료 구조.\r\n",
        "*   클래스(**Class**): 객체를 구현하기 위한 설계도. 코드 블록.\r\n",
        "    * 데이터 - 속성(**attribute**): 변수(variable)에 저장.\r\n",
        "    * 기능 - 메서드(**method**): 클래스에서 정의하는 함수(function)\r\n",
        "*   인스턴스(**Instance**): 설계도인 클래스에 따라서 (메모리에) 구현된 실체.\r\n",
        "*   인스턴스 생성(Instanciate): 클래스의 객체를 메모리에 생성하는 과정.\r\n"
      ]
    }
  ]
}