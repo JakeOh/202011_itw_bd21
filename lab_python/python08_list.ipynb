{
  "nbformat": 4,
  "nbformat_minor": 0,
  "metadata": {
    "colab": {
      "name": "python08_list.ipynb",
      "provenance": [],
      "collapsed_sections": [],
      "authorship_tag": "ABX9TyO6SAdXn4SC3fN3lhBoPrCi",
      "include_colab_link": true
    },
    "kernelspec": {
      "name": "python3",
      "display_name": "Python 3"
    }
  },
  "cells": [
    {
      "cell_type": "markdown",
      "metadata": {
        "id": "view-in-github",
        "colab_type": "text"
      },
      "source": [
        "<a href=\"https://colab.research.google.com/github/JakeOh/202011_itw_bd21/blob/main/lab_python/python08_list.ipynb\" target=\"_parent\"><img src=\"https://colab.research.google.com/assets/colab-badge.svg\" alt=\"Open In Colab\"/></a>"
      ]
    },
    {
      "cell_type": "markdown",
      "metadata": {
        "id": "E-tab-9NRQV1"
      },
      "source": [
        "# List(리스트)"
      ]
    },
    {
      "cell_type": "markdown",
      "metadata": {
        "id": "IuwQnJh-RWqM"
      },
      "source": [
        "* list: 여러개의 값들을 하나의 변수에 저장하기 위한 데이터 타입.\r\n",
        "* element(원소): 리스트에 저장된 각각의 값.\r\n",
        "* index(인덱스): 리스트에 값이 저장된 위치(번호).\r\n",
        "    * list의 인덱스는 0부터 시작!!\r\n",
        "    * list의 마지막 인덱스는 (원소의 개수) - 1.\r\n",
        "* list는 원소들을 변경(추가/삭제)가 가능.\r\n",
        "    * tuple과의 차이점!!"
      ]
    },
    {
      "cell_type": "code",
      "metadata": {
        "colab": {
          "base_uri": "https://localhost:8080/"
        },
        "id": "lqQS68roRWIc",
        "outputId": "a2b03308-b43b-4bff-8ef0-b29b70e4f8d6"
      },
      "source": [
        "# 숫자들을 저장하는 list\r\n",
        "numbers = [10, 20, 30, 40, 50, 60]\r\n",
        "print(numbers)\r\n",
        "print(type(numbers))"
      ],
      "execution_count": 2,
      "outputs": [
        {
          "output_type": "stream",
          "text": [
            "[10, 20, 30, 40, 50, 60]\n",
            "<class 'list'>\n"
          ],
          "name": "stdout"
        }
      ]
    },
    {
      "cell_type": "code",
      "metadata": {
        "colab": {
          "base_uri": "https://localhost:8080/"
        },
        "id": "GI57r4bjRBnP",
        "outputId": "0aa19d27-6dd0-4f7f-fdcf-c382bac98637"
      },
      "source": [
        "# list에서 원소 1개를 선택: list[index]\r\n",
        "print(numbers[0])\r\n",
        "print(numbers[5])"
      ],
      "execution_count": 4,
      "outputs": [
        {
          "output_type": "stream",
          "text": [
            "10\n",
            "60\n"
          ],
          "name": "stdout"
        }
      ]
    },
    {
      "cell_type": "code",
      "metadata": {
        "colab": {
          "base_uri": "https://localhost:8080/"
        },
        "id": "4MBB8hrwWHuV",
        "outputId": "5e1f681e-460d-416a-9537-74fc59a99205"
      },
      "source": [
        "# 음수 인덱스: list의 끝에서부터 거꾸로 매겨지는 인덱스.\r\n",
        "print(numbers[-1])"
      ],
      "execution_count": 5,
      "outputs": [
        {
          "output_type": "stream",
          "text": [
            "60\n"
          ],
          "name": "stdout"
        }
      ]
    },
    {
      "cell_type": "markdown",
      "metadata": {
        "id": "LuCTG5NlbBwb"
      },
      "source": [
        "## Slicing"
      ]
    },
    {
      "cell_type": "markdown",
      "metadata": {
        "id": "hD9Am5T1bfxL"
      },
      "source": [
        "`list[start:end]`\r\n",
        "\r\n",
        "* start <= index < end 범위의 list 원소들을 선택.\r\n",
        "* start가 생략되면, list의 첫번째 원소부터 선택.\r\n",
        "* end가 생략되면, list의 마지막 원소까지 선택."
      ]
    },
    {
      "cell_type": "code",
      "metadata": {
        "colab": {
          "base_uri": "https://localhost:8080/"
        },
        "id": "aPj7bYGna_OM",
        "outputId": "3a6fce06-f6b5-4896-ee2d-b102511b1769"
      },
      "source": [
        "print(numbers[1:4])  #> slicing된 새로운 list가 반환됨."
      ],
      "execution_count": 6,
      "outputs": [
        {
          "output_type": "stream",
          "text": [
            "[20, 30, 40]\n"
          ],
          "name": "stdout"
        }
      ]
    },
    {
      "cell_type": "code",
      "metadata": {
        "colab": {
          "base_uri": "https://localhost:8080/"
        },
        "id": "9OKFdKyXdaxN",
        "outputId": "da8c197c-1158-4144-fcb8-afbc0a7f2187"
      },
      "source": [
        "print(numbers[:4])"
      ],
      "execution_count": 7,
      "outputs": [
        {
          "output_type": "stream",
          "text": [
            "[10, 20, 30, 40]\n"
          ],
          "name": "stdout"
        }
      ]
    },
    {
      "cell_type": "code",
      "metadata": {
        "colab": {
          "base_uri": "https://localhost:8080/"
        },
        "id": "MRJj-aZGduec",
        "outputId": "592cd7df-66aa-435f-ab2d-1e01db0913f3"
      },
      "source": [
        "print(numbers[4:])"
      ],
      "execution_count": 8,
      "outputs": [
        {
          "output_type": "stream",
          "text": [
            "[50, 60]\n"
          ],
          "name": "stdout"
        }
      ]
    },
    {
      "cell_type": "code",
      "metadata": {
        "colab": {
          "base_uri": "https://localhost:8080/"
        },
        "id": "a75EU-CoePbM",
        "outputId": "d20aa33b-1332-4f42-e2cc-d822ba0e923f"
      },
      "source": [
        "print(numbers[:])  # 처음부터 끝까지"
      ],
      "execution_count": 9,
      "outputs": [
        {
          "output_type": "stream",
          "text": [
            "[10, 20, 30, 40, 50, 60]\n"
          ],
          "name": "stdout"
        }
      ]
    },
    {
      "cell_type": "code",
      "metadata": {
        "colab": {
          "base_uri": "https://localhost:8080/"
        },
        "id": "udZeyDklebzL",
        "outputId": "5411a3ee-a3f9-4ddc-c081-28a8115cae6b"
      },
      "source": [
        "print(numbers[-2:])  # list의 끝에서 2개 선택."
      ],
      "execution_count": 10,
      "outputs": [
        {
          "output_type": "stream",
          "text": [
            "[50, 60]\n"
          ],
          "name": "stdout"
        }
      ]
    },
    {
      "cell_type": "code",
      "metadata": {
        "colab": {
          "base_uri": "https://localhost:8080/"
        },
        "id": "Wo8QnFH5e258",
        "outputId": "2a267867-618e-438a-d885-e438d5816d77"
      },
      "source": [
        "print(numbers[-4:-1])"
      ],
      "execution_count": 11,
      "outputs": [
        {
          "output_type": "stream",
          "text": [
            "[30, 40, 50]\n"
          ],
          "name": "stdout"
        }
      ]
    },
    {
      "cell_type": "code",
      "metadata": {
        "colab": {
          "base_uri": "https://localhost:8080/"
        },
        "id": "Yxn908ZWfYv7",
        "outputId": "b2eedef7-d504-4285-cbe9-33127bdca802"
      },
      "source": [
        "# 주의\r\n",
        "print(numbers[1])    #> 숫자 1개\r\n",
        "print(numbers[1:2])  #> 원소가 1개인 list"
      ],
      "execution_count": 12,
      "outputs": [
        {
          "output_type": "stream",
          "text": [
            "20\n",
            "[20]\n"
          ],
          "name": "stdout"
        }
      ]
    },
    {
      "cell_type": "markdown",
      "metadata": {
        "id": "J9preA7RgylT"
      },
      "source": [
        "## list의 메서드(함수) - 기능"
      ]
    },
    {
      "cell_type": "markdown",
      "metadata": {
        "id": "qgkuMrOihFBE"
      },
      "source": [
        "`list_name.append(x)`: x를 list_name의 가장 마지막 위치에 추가. "
      ]
    },
    {
      "cell_type": "code",
      "metadata": {
        "colab": {
          "base_uri": "https://localhost:8080/"
        },
        "id": "xzU3BwqHhDgT",
        "outputId": "f5b8106c-633e-454a-b4f2-0a64de0e32f1"
      },
      "source": [
        "print(numbers)\r\n",
        "numbers.append(100)\r\n",
        "print(numbers)"
      ],
      "execution_count": 14,
      "outputs": [
        {
          "output_type": "stream",
          "text": [
            "[10, 20, 30, 40, 50, 60]\n",
            "[10, 20, 30, 40, 50, 60, 100]\n"
          ],
          "name": "stdout"
        }
      ]
    },
    {
      "cell_type": "markdown",
      "metadata": {
        "id": "MsGUkdBAinUb"
      },
      "source": [
        "`list_name.insert(i, x)`: list의 i번째 인덱스 위치에 x를 추가."
      ]
    },
    {
      "cell_type": "code",
      "metadata": {
        "colab": {
          "base_uri": "https://localhost:8080/"
        },
        "id": "1CkvDYEnjAXw",
        "outputId": "e5f0aac5-81d5-428b-a072-1a8ecc2f1d45"
      },
      "source": [
        "print(numbers)\r\n",
        "numbers.insert(1, 200)\r\n",
        "print(numbers)"
      ],
      "execution_count": 16,
      "outputs": [
        {
          "output_type": "stream",
          "text": [
            "[10, 20, 30, 40, 50, 60, 100]\n",
            "[10, 200, 20, 30, 40, 50, 60, 100]\n"
          ],
          "name": "stdout"
        }
      ]
    },
    {
      "cell_type": "code",
      "metadata": {
        "colab": {
          "base_uri": "https://localhost:8080/"
        },
        "id": "IX78-9TPoomr",
        "outputId": "88cab8a5-c337-447e-89d4-38fedd7c2081"
      },
      "source": [
        "print(numbers)\r\n",
        "# len(x): x의 원소의 개수를 반환(return)\r\n",
        "print(len(numbers))\r\n",
        "\r\n",
        "# list_name.insert(len(list_name), x)는 list_name.append(x)와 동일한 기능\r\n",
        "numbers.insert(len(numbers), 300)\r\n",
        "print(numbers)"
      ],
      "execution_count": 19,
      "outputs": [
        {
          "output_type": "stream",
          "text": [
            "[10, 200, 20, 30, 40, 50, 60, 100]\n",
            "8\n",
            "[10, 200, 20, 30, 40, 50, 60, 100, 300]\n"
          ],
          "name": "stdout"
        }
      ]
    },
    {
      "cell_type": "markdown",
      "metadata": {
        "id": "tNyY5pyOpiUz"
      },
      "source": [
        "`list_name.remove(x)`: \r\n",
        "\r\n",
        "* list_name에서 가장 처음에 나오는 값 x를 삭제.\r\n",
        "* 삭제하려는 값 x가 리스트에 없는 경우에는 ValueError가 발생함."
      ]
    },
    {
      "cell_type": "code",
      "metadata": {
        "colab": {
          "base_uri": "https://localhost:8080/"
        },
        "id": "x03XHy9dphzl",
        "outputId": "14dc5317-68f4-48c6-9f9c-ec816ac68f4e"
      },
      "source": [
        "print(numbers)\r\n",
        "numbers.remove(100)\r\n",
        "print(numbers)"
      ],
      "execution_count": 21,
      "outputs": [
        {
          "output_type": "stream",
          "text": [
            "[10, 200, 20, 30, 40, 50, 60, 100, 300]\n",
            "[10, 200, 20, 30, 40, 50, 60, 300]\n"
          ],
          "name": "stdout"
        }
      ]
    },
    {
      "cell_type": "markdown",
      "metadata": {
        "id": "8hVyY3aEqWc2"
      },
      "source": [
        "`list_name.pop(i)`:\r\n",
        "\r\n",
        "* list_name에서 인덱스 i번째의 원소를 삭제.\r\n",
        "* i가 생략된 경우에는 list_name의 가장 마지막 원소를 삭제."
      ]
    },
    {
      "cell_type": "code",
      "metadata": {
        "colab": {
          "base_uri": "https://localhost:8080/"
        },
        "id": "_AUk12FzrDqh",
        "outputId": "0b22a40c-9a91-4a84-c49b-341becd9b351"
      },
      "source": [
        "print(numbers)\r\n",
        "numbers.pop()\r\n",
        "print(numbers)"
      ],
      "execution_count": 23,
      "outputs": [
        {
          "output_type": "stream",
          "text": [
            "[10, 200, 20, 30, 40, 50, 60, 300]\n",
            "[10, 200, 20, 30, 40, 50, 60]\n"
          ],
          "name": "stdout"
        }
      ]
    },
    {
      "cell_type": "code",
      "metadata": {
        "colab": {
          "base_uri": "https://localhost:8080/"
        },
        "id": "zblaEdISrOA6",
        "outputId": "5968e85d-b74d-46bc-f91c-3a3dd77a139a"
      },
      "source": [
        "print(numbers)\r\n",
        "numbers.pop(1)\r\n",
        "print(numbers)"
      ],
      "execution_count": 26,
      "outputs": [
        {
          "output_type": "stream",
          "text": [
            "[10, 200, 20, 30, 40, 50, 60]\n",
            "[10, 20, 30, 40, 50, 60]\n"
          ],
          "name": "stdout"
        }
      ]
    },
    {
      "cell_type": "markdown",
      "metadata": {
        "id": "96nOTLaRsD1r"
      },
      "source": [
        "`list_name.extend(iterable)`:\r\n",
        "\r\n",
        "* iterable 타입의 여러개의 원소를 하나씩 list_name에 추가."
      ]
    },
    {
      "cell_type": "code",
      "metadata": {
        "colab": {
          "base_uri": "https://localhost:8080/"
        },
        "id": "2rFni1phsliy",
        "outputId": "34e80ce9-06aa-476f-c21f-229daf97fc7d"
      },
      "source": [
        "print(numbers)\r\n",
        "numbers.extend([1, 3, 5])\r\n",
        "print(numbers)"
      ],
      "execution_count": 28,
      "outputs": [
        {
          "output_type": "stream",
          "text": [
            "[10, 20, 30, 40, 50, 60]\n",
            "[10, 20, 30, 40, 50, 60, 1, 3, 5]\n"
          ],
          "name": "stdout"
        }
      ]
    },
    {
      "cell_type": "code",
      "metadata": {
        "id": "g6yl3C3UtnAj"
      },
      "source": [
        "print(len(numbers))"
      ],
      "execution_count": null,
      "outputs": []
    },
    {
      "cell_type": "markdown",
      "metadata": {
        "id": "V25s1RAGs_3o"
      },
      "source": [
        "**append()와 extend() 비교(차이점)**"
      ]
    },
    {
      "cell_type": "code",
      "metadata": {
        "colab": {
          "base_uri": "https://localhost:8080/"
        },
        "id": "S6zRgwoqs6ds",
        "outputId": "02c201ba-84f9-4350-b24b-6c0af3f51488"
      },
      "source": [
        "print(numbers)\r\n",
        "numbers.append([2, 4, 6])\r\n",
        "print(numbers)"
      ],
      "execution_count": 30,
      "outputs": [
        {
          "output_type": "stream",
          "text": [
            "[10, 20, 30, 40, 50, 60, 1, 3, 5]\n",
            "[10, 20, 30, 40, 50, 60, 1, 3, 5, [2, 4, 6]]\n"
          ],
          "name": "stdout"
        }
      ]
    },
    {
      "cell_type": "code",
      "metadata": {
        "colab": {
          "base_uri": "https://localhost:8080/"
        },
        "id": "G_FbLUv9tqoj",
        "outputId": "e9daf770-cd2e-4175-8e08-1a2374906910"
      },
      "source": [
        "print(len(numbers))"
      ],
      "execution_count": 32,
      "outputs": [
        {
          "output_type": "stream",
          "text": [
            "10\n"
          ],
          "name": "stdout"
        }
      ]
    },
    {
      "cell_type": "code",
      "metadata": {
        "colab": {
          "base_uri": "https://localhost:8080/"
        },
        "id": "278v3H1Dt_Pk",
        "outputId": "7691c5c7-7356-4593-e0c9-bfa73dc64705"
      },
      "source": [
        "# list의 특정 인덱스(위치)에 있는 원소의 값을 다른 값으로 변경\r\n",
        "numbers[0] = 123\r\n",
        "print(numbers)"
      ],
      "execution_count": 33,
      "outputs": [
        {
          "output_type": "stream",
          "text": [
            "[123, 20, 30, 40, 50, 60, 1, 3, 5, [2, 4, 6]]\n"
          ],
          "name": "stdout"
        }
      ]
    },
    {
      "cell_type": "markdown",
      "metadata": {
        "id": "T-J5HV87uwhN"
      },
      "source": [
        "## list와 str"
      ]
    },
    {
      "cell_type": "code",
      "metadata": {
        "colab": {
          "base_uri": "https://localhost:8080/"
        },
        "id": "Y4OyIADVu1RK",
        "outputId": "ed36f24e-cb36-405f-b958-e22adeafb2c9"
      },
      "source": [
        "char_array = list('Hello')\r\n",
        "print(char_array)"
      ],
      "execution_count": 34,
      "outputs": [
        {
          "output_type": "stream",
          "text": [
            "['H', 'e', 'l', 'l', 'o']\n"
          ],
          "name": "stdout"
        }
      ]
    },
    {
      "cell_type": "code",
      "metadata": {
        "colab": {
          "base_uri": "https://localhost:8080/"
        },
        "id": "EreN-NSTvP5T",
        "outputId": "f587dbc9-91eb-4658-ad9f-2b81ca59d1cb"
      },
      "source": [
        "today = '2021-01-14'\r\n",
        "print(today.split('-'))"
      ],
      "execution_count": 35,
      "outputs": [
        {
          "output_type": "stream",
          "text": [
            "['2021', '01', '14']\n"
          ],
          "name": "stdout"
        }
      ]
    }
  ]
}