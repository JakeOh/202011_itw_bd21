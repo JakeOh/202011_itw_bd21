{
  "nbformat": 4,
  "nbformat_minor": 0,
  "metadata": {
    "colab": {
      "name": "python08_list.ipynb",
      "provenance": [],
      "collapsed_sections": [],
      "authorship_tag": "ABX9TyPP4ZIsr3GLGxwdUiGrpHVh",
      "include_colab_link": true
    },
    "kernelspec": {
      "name": "python3",
      "display_name": "Python 3"
    }
  },
  "cells": [
    {
      "cell_type": "markdown",
      "metadata": {
        "id": "view-in-github",
        "colab_type": "text"
      },
      "source": [
        "<a href=\"https://colab.research.google.com/github/JakeOh/202011_itw_bd21/blob/main/lab_python/python08_list.ipynb\" target=\"_parent\"><img src=\"https://colab.research.google.com/assets/colab-badge.svg\" alt=\"Open In Colab\"/></a>"
      ]
    },
    {
      "cell_type": "markdown",
      "metadata": {
        "id": "E-tab-9NRQV1"
      },
      "source": [
        "# List(리스트)"
      ]
    },
    {
      "cell_type": "markdown",
      "metadata": {
        "id": "IuwQnJh-RWqM"
      },
      "source": [
        "* list: 여러개의 값들을 하나의 변수에 저장하기 위한 데이터 타입.\r\n",
        "* element(원소): 리스트에 저장된 각각의 값.\r\n",
        "* index(인덱스): 리스트에 값이 저장된 위치(번호).\r\n",
        "    * list의 인덱스는 0부터 시작!!\r\n",
        "    * list의 마지막 인덱스는 (원소의 개수) - 1.\r\n",
        "* list는 원소들을 변경(추가/삭제)가 가능.\r\n",
        "    * tuple과의 차이점!!"
      ]
    },
    {
      "cell_type": "code",
      "metadata": {
        "colab": {
          "base_uri": "https://localhost:8080/"
        },
        "id": "lqQS68roRWIc",
        "outputId": "a2b03308-b43b-4bff-8ef0-b29b70e4f8d6"
      },
      "source": [
        "# 숫자들을 저장하는 list\r\n",
        "numbers = [10, 20, 30, 40, 50, 60]\r\n",
        "print(numbers)\r\n",
        "print(type(numbers))"
      ],
      "execution_count": 2,
      "outputs": [
        {
          "output_type": "stream",
          "text": [
            "[10, 20, 30, 40, 50, 60]\n",
            "<class 'list'>\n"
          ],
          "name": "stdout"
        }
      ]
    },
    {
      "cell_type": "code",
      "metadata": {
        "colab": {
          "base_uri": "https://localhost:8080/"
        },
        "id": "GI57r4bjRBnP",
        "outputId": "0aa19d27-6dd0-4f7f-fdcf-c382bac98637"
      },
      "source": [
        "# list에서 원소 1개를 선택: list[index]\r\n",
        "print(numbers[0])\r\n",
        "print(numbers[5])"
      ],
      "execution_count": 4,
      "outputs": [
        {
          "output_type": "stream",
          "text": [
            "10\n",
            "60\n"
          ],
          "name": "stdout"
        }
      ]
    },
    {
      "cell_type": "code",
      "metadata": {
        "colab": {
          "base_uri": "https://localhost:8080/"
        },
        "id": "4MBB8hrwWHuV",
        "outputId": "5e1f681e-460d-416a-9537-74fc59a99205"
      },
      "source": [
        "# 음수 인덱스: list의 끝에서부터 거꾸로 매겨지는 인덱스.\r\n",
        "print(numbers[-1])"
      ],
      "execution_count": 5,
      "outputs": [
        {
          "output_type": "stream",
          "text": [
            "60\n"
          ],
          "name": "stdout"
        }
      ]
    }
  ]
}