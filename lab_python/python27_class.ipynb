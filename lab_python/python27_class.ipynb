{
  "nbformat": 4,
  "nbformat_minor": 0,
  "metadata": {
    "colab": {
      "name": "python27_class.ipynb",
      "provenance": [],
      "collapsed_sections": [],
      "authorship_tag": "ABX9TyNSQs7R+DkigGqPjhp5/IMm",
      "include_colab_link": true
    },
    "kernelspec": {
      "name": "python3",
      "display_name": "Python 3"
    }
  },
  "cells": [
    {
      "cell_type": "markdown",
      "metadata": {
        "id": "view-in-github",
        "colab_type": "text"
      },
      "source": [
        "<a href=\"https://colab.research.google.com/github/JakeOh/202011_itw_bd21/blob/main/lab_python/python27_class.ipynb\" target=\"_parent\"><img src=\"https://colab.research.google.com/assets/colab-badge.svg\" alt=\"Open In Colab\"/></a>"
      ]
    },
    {
      "cell_type": "markdown",
      "metadata": {
        "id": "JOXurykyIZ87"
      },
      "source": [
        "*   Score 클래스\r\n",
        "    *   속성(attribute): 국어, 영어, 수학 점수\r\n",
        "    *   기능(functionality): \r\n",
        "        *   calculate_sum(): 세 과목의 총점 반환\r\n",
        "        *   calculate_mean(): 세 과목의 평균 반환"
      ]
    },
    {
      "cell_type": "code",
      "metadata": {
        "id": "EWdW0OjYISpT"
      },
      "source": [
        "class Score:\r\n",
        "\r\n",
        "    def __init__(self, kor=0, eng=0, math=0):\r\n",
        "        self.kor = kor\r\n",
        "        self.eng = eng\r\n",
        "        self.math = math\r\n",
        "\r\n",
        "    def calculate_sum(self):\r\n",
        "        return self.kor + self.eng + self.math\r\n",
        "\r\n",
        "    def calculate_mean(self):\r\n",
        "        # return (self.kor + self.eng + self.math) / 3\r\n",
        "        return self.calculate_sum() / 3\r\n"
      ],
      "execution_count": 9,
      "outputs": []
    },
    {
      "cell_type": "markdown",
      "metadata": {
        "id": "85iQKpDvJGra"
      },
      "source": [
        "*   Student 클래스\r\n",
        "    *   속성: 학생 이름, 시험 성적(Score 객체)\r\n",
        "    *   기능:\r\n",
        "        *   info(): 학생 이름, 세 과목 점수, 총점, 평균을 출력."
      ]
    },
    {
      "cell_type": "code",
      "metadata": {
        "id": "QsL0JqQ_Jvp7"
      },
      "source": [
        "class Student:\r\n",
        "\r\n",
        "    def __init__(self, name, kor=0, eng=0, math=0):\r\n",
        "        self.name = name\r\n",
        "        self.score = Score(kor, eng, math)\r\n",
        "\r\n",
        "    def info(self):\r\n",
        "        print('이름:', self.name)\r\n",
        "        print('국어:', self.score.kor)\r\n",
        "        print('영어:', self.score.eng)\r\n",
        "        print('수학:', self.score.math)\r\n",
        "        print('총점:', self.score.calculate_sum())\r\n",
        "        print('평균:', self.score.calculate_mean())\r\n"
      ],
      "execution_count": 10,
      "outputs": []
    },
    {
      "cell_type": "markdown",
      "metadata": {
        "id": "cJGYqTUQUJ1C"
      },
      "source": [
        "Score 클래스 테스트"
      ]
    },
    {
      "cell_type": "code",
      "metadata": {
        "colab": {
          "base_uri": "https://localhost:8080/"
        },
        "id": "lTAr9UsBT4ep",
        "outputId": "5436621a-4960-4212-94df-4e2bc92a8c87"
      },
      "source": [
        "# Score 클래스의 인스턴스 생성\r\n",
        "score1 = Score(kor=100, eng=90, math=50)\r\n",
        "print(f'kor={score1.kor}, eng={score1.eng}, math={score1.math}')"
      ],
      "execution_count": 11,
      "outputs": [
        {
          "output_type": "stream",
          "text": [
            "kor=100, eng=90, math=50\n"
          ],
          "name": "stdout"
        }
      ]
    },
    {
      "cell_type": "code",
      "metadata": {
        "colab": {
          "base_uri": "https://localhost:8080/"
        },
        "id": "mV0KsYKwUsHD",
        "outputId": "b75ad208-2814-42d3-b691-7a792498e458"
      },
      "source": [
        "print('score1 총점:', score1.calculate_sum())\r\n",
        "print('score1 평균:', score1.calculate_mean())"
      ],
      "execution_count": 12,
      "outputs": [
        {
          "output_type": "stream",
          "text": [
            "score1 총점: 240\n",
            "score1 평균: 80.0\n"
          ],
          "name": "stdout"
        }
      ]
    },
    {
      "cell_type": "markdown",
      "metadata": {
        "id": "gT4gI1JcWAiR"
      },
      "source": [
        "Student 클래스 테스트"
      ]
    },
    {
      "cell_type": "code",
      "metadata": {
        "colab": {
          "base_uri": "https://localhost:8080/"
        },
        "id": "0t7Hn9h8VqGQ",
        "outputId": "dce8a93b-c03b-4622-bd31-e9098774673f"
      },
      "source": [
        "# Student 클래스의 인스턴스 생성\r\n",
        "stu1 = Student(name='홍길동', kor=90, eng=50, math=99)\r\n",
        "print(f'이름: {stu1.name}, 점수: {stu1.score}')"
      ],
      "execution_count": 13,
      "outputs": [
        {
          "output_type": "stream",
          "text": [
            "이름: 홍길동, 점수: <__main__.Score object at 0x7f025d73c400>\n"
          ],
          "name": "stdout"
        }
      ]
    },
    {
      "cell_type": "code",
      "metadata": {
        "colab": {
          "base_uri": "https://localhost:8080/"
        },
        "id": "s70tw-8WW-xh",
        "outputId": "d9ddd77e-7496-40ce-ab87-ce1c2c5202ed"
      },
      "source": [
        "stu1.info()"
      ],
      "execution_count": 14,
      "outputs": [
        {
          "output_type": "stream",
          "text": [
            "이름: 홍길동\n",
            "국어: 90\n",
            "영어: 50\n",
            "수학: 99\n",
            "총점: 239\n",
            "평균: 79.66666666666667\n"
          ],
          "name": "stdout"
        }
      ]
    },
    {
      "cell_type": "code",
      "metadata": {
        "id": "P8NdD0-4Z0SL"
      },
      "source": [
        "class Student2:\r\n",
        "\r\n",
        "    def __init__(self, name, score):\r\n",
        "        self.name = name\r\n",
        "        self.score = score\r\n",
        "\r\n",
        "    def info(self):\r\n",
        "        print('이름:', self.name)\r\n",
        "        print('국어:', self.score.kor)\r\n",
        "        print('영어:', self.score.eng)\r\n",
        "        print('수학:', self.score.math)\r\n",
        "        print('총점:', self.score.calculate_sum())\r\n",
        "        print('평균:', self.score.calculate_mean())\r\n",
        "        "
      ],
      "execution_count": 15,
      "outputs": []
    },
    {
      "cell_type": "code",
      "metadata": {
        "colab": {
          "base_uri": "https://localhost:8080/"
        },
        "id": "zaDuISkJaJqA",
        "outputId": "aa734551-fb1d-4ccc-ff0f-86dd37862a9a"
      },
      "source": [
        "stu2 = Student2(name='허균', score=Score(100, 99, 95))\r\n",
        "stu2.info()"
      ],
      "execution_count": 17,
      "outputs": [
        {
          "output_type": "stream",
          "text": [
            "이름: 허균\n",
            "국어: 100\n",
            "영어: 99\n",
            "수학: 95\n",
            "총점: 294\n",
            "평균: 98.0\n"
          ],
          "name": "stdout"
        }
      ]
    }
  ]
}