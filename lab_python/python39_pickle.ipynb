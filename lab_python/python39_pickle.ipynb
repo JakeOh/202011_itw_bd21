{
  "nbformat": 4,
  "nbformat_minor": 0,
  "metadata": {
    "colab": {
      "name": "python39_pickle.ipynb",
      "provenance": [],
      "collapsed_sections": [],
      "authorship_tag": "ABX9TyOsY+Q5KhYYvqpK/tPI7h9h",
      "include_colab_link": true
    },
    "kernelspec": {
      "name": "python3",
      "display_name": "Python 3"
    }
  },
  "cells": [
    {
      "cell_type": "markdown",
      "metadata": {
        "id": "view-in-github",
        "colab_type": "text"
      },
      "source": [
        "<a href=\"https://colab.research.google.com/github/JakeOh/202011_itw_bd21/blob/main/lab_python/python39_pickle.ipynb\" target=\"_parent\"><img src=\"https://colab.research.google.com/assets/colab-badge.svg\" alt=\"Open In Colab\"/></a>"
      ]
    },
    {
      "cell_type": "markdown",
      "metadata": {
        "id": "A2kiVuadUUWo"
      },
      "source": [
        "# Binary File Read/Write"
      ]
    },
    {
      "cell_type": "markdown",
      "metadata": {
        "id": "i0nlywNHUZw1"
      },
      "source": [
        "**pickle**\r\n",
        "\r\n",
        "*   Python에서 객체(object)를 이진 데이터(binary data) 형태로 파일 읽기/쓰기를 할 때 사용되는 타입\r\n",
        "*   Python의 dict 타입을 파일로 저장할 수 있고, 파일의 내용을 Python의 dict 타입으로 변환할 수 있음.\r\n",
        "*   `pickle.dump(object, file)`: object를 file에 write.\r\n",
        "*   `pickle.load(file)`: file에서 이진 데이터를 읽어서 객체(object)를 리턴.\r\n",
        "*   JavaScript의 JSON(JavaScript Obejct Notation, 자바스크립트 객체 표현법)과 유사한 방식"
      ]
    },
    {
      "cell_type": "code",
      "metadata": {
        "id": "wlW11-TrUMyC"
      },
      "source": [
        "import pickle"
      ],
      "execution_count": 1,
      "outputs": []
    },
    {
      "cell_type": "code",
      "metadata": {
        "colab": {
          "base_uri": "https://localhost:8080/"
        },
        "id": "poTAOzBVXS3h",
        "outputId": "a0d63ec6-8baa-41fc-dd15-783ab339f7fd"
      },
      "source": [
        "# dict 객체 생성\r\n",
        "person = {\r\n",
        "    'name': '오쌤',\r\n",
        "    'age': 16,\r\n",
        "    'phone': ['010-1234-5678', '02-0000-9999'],\r\n",
        "    'email': {'company': 'jake@itwill.co.kr', 'personal': 'jake@gmail.com'}\r\n",
        "}\r\n",
        "\r\n",
        "print(person)"
      ],
      "execution_count": 2,
      "outputs": [
        {
          "output_type": "stream",
          "text": [
            "{'name': '오쌤', 'age': 16, 'phone': ['010-1234-5678', '02-0000-9999'], 'email': {'company': 'jake@itwill.co.kr', 'personal': 'jake@gmail.com'}}\n"
          ],
          "name": "stdout"
        }
      ]
    },
    {
      "cell_type": "code",
      "metadata": {
        "id": "pVgy4TnpYKsH"
      },
      "source": [
        "# person instance를 pickle 파일에 저장(쓰기).\r\n",
        "with open(file='person.pickle', mode='wb') as f:\r\n",
        "    # mode='wb': write binary\r\n",
        "    pickle.dump(person, f)"
      ],
      "execution_count": 6,
      "outputs": []
    },
    {
      "cell_type": "code",
      "metadata": {
        "colab": {
          "base_uri": "https://localhost:8080/"
        },
        "id": "sEcTqNxtZmP_",
        "outputId": "e0a3d955-8c71-4b3c-d8b6-09ba02b7846b"
      },
      "source": [
        "# pickle 파일의 내용을 dict 타입으로 변환.\r\n",
        "with open(file='person.pickle', mode='rb') as f:\r\n",
        "    # mode='rb': read binary\r\n",
        "    result = pickle.load(f)\r\n",
        "\r\n",
        "print(result)"
      ],
      "execution_count": 7,
      "outputs": [
        {
          "output_type": "stream",
          "text": [
            "{'name': '오쌤', 'age': 16, 'phone': ['010-1234-5678', '02-0000-9999'], 'email': {'company': 'jake@itwill.co.kr', 'personal': 'jake@gmail.com'}}\n"
          ],
          "name": "stdout"
        }
      ]
    }
  ]
}