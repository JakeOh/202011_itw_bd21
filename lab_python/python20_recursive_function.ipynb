{
  "nbformat": 4,
  "nbformat_minor": 0,
  "metadata": {
    "colab": {
      "name": "python20_recursive_function.ipynb",
      "provenance": [],
      "collapsed_sections": [],
      "authorship_tag": "ABX9TyMW34RjUPyQD0oyMS6AiUD7",
      "include_colab_link": true
    },
    "kernelspec": {
      "name": "python3",
      "display_name": "Python 3"
    }
  },
  "cells": [
    {
      "cell_type": "markdown",
      "metadata": {
        "id": "view-in-github",
        "colab_type": "text"
      },
      "source": [
        "<a href=\"https://colab.research.google.com/github/JakeOh/202011_itw_bd21/blob/main/lab_python/python20_recursive_function.ipynb\" target=\"_parent\"><img src=\"https://colab.research.google.com/assets/colab-badge.svg\" alt=\"Open In Colab\"/></a>"
      ]
    },
    {
      "cell_type": "markdown",
      "metadata": {
        "id": "YbAWZ8UqxQXF"
      },
      "source": [
        "**재귀 함수(recursive function)**: 함수 내부에서 자기 자신을 다시 호출하는 함수."
      ]
    },
    {
      "cell_type": "code",
      "metadata": {
        "id": "UQAvoZLpxD5Y"
      },
      "source": [
        "def factorial(n):\r\n",
        "    \"\"\"\r\n",
        "    0! = 1\r\n",
        "    1! = 1\r\n",
        "    2! = 1 x 2 = 2\r\n",
        "    3! = 1 x 2 x 3 = 6\r\n",
        "    ...\r\n",
        "    n! = 1 x 2 x ... x (n-1) x n, n >= 1\r\n",
        "    \"\"\"\r\n",
        "    result = None\r\n",
        "    if n == 0:\r\n",
        "        result = 1  # 0! = 1\r\n",
        "    elif n > 0:\r\n",
        "        result = 1\r\n",
        "        for x in range(1, n + 1):\r\n",
        "            result *= x\r\n",
        "    \r\n",
        "    return result"
      ],
      "execution_count": 1,
      "outputs": []
    },
    {
      "cell_type": "code",
      "metadata": {
        "colab": {
          "base_uri": "https://localhost:8080/"
        },
        "id": "tw-nCQDkyzXl",
        "outputId": "48cbe477-f2b8-4de2-a846-43a96d250fc7"
      },
      "source": [
        "factorial(0)"
      ],
      "execution_count": 2,
      "outputs": [
        {
          "output_type": "execute_result",
          "data": {
            "text/plain": [
              "1"
            ]
          },
          "metadata": {
            "tags": []
          },
          "execution_count": 2
        }
      ]
    },
    {
      "cell_type": "code",
      "metadata": {
        "colab": {
          "base_uri": "https://localhost:8080/"
        },
        "id": "MQPZiaO2y2-q",
        "outputId": "d991ed4b-5b7a-4841-e6d5-ff527d310eba"
      },
      "source": [
        "factorial(1)"
      ],
      "execution_count": 3,
      "outputs": [
        {
          "output_type": "execute_result",
          "data": {
            "text/plain": [
              "1"
            ]
          },
          "metadata": {
            "tags": []
          },
          "execution_count": 3
        }
      ]
    },
    {
      "cell_type": "code",
      "metadata": {
        "colab": {
          "base_uri": "https://localhost:8080/"
        },
        "id": "zEhmLvQvzFGU",
        "outputId": "67eaa93d-7d94-4b1a-dd0f-f4dbf0acbeb0"
      },
      "source": [
        "factorial(3)"
      ],
      "execution_count": 4,
      "outputs": [
        {
          "output_type": "execute_result",
          "data": {
            "text/plain": [
              "6"
            ]
          },
          "metadata": {
            "tags": []
          },
          "execution_count": 4
        }
      ]
    },
    {
      "cell_type": "code",
      "metadata": {
        "id": "KZF9-4SGza3E"
      },
      "source": [
        "factorial(-100)"
      ],
      "execution_count": 5,
      "outputs": []
    },
    {
      "cell_type": "code",
      "metadata": {
        "id": "CXNtZfFIzwAM"
      },
      "source": [
        "# 0! = 1\r\n",
        "# n! = 1 x 2 x 3 x ... x (n-1) x n = (n-1)! x n, n >= 1\r\n",
        "def factorial2(n):\r\n",
        "    result = None\r\n",
        "    if n == 0:\r\n",
        "        result = 1\r\n",
        "    elif n > 0:\r\n",
        "        result = factorial2(n - 1) * n\r\n",
        "\r\n",
        "    return result"
      ],
      "execution_count": 7,
      "outputs": []
    },
    {
      "cell_type": "code",
      "metadata": {
        "colab": {
          "base_uri": "https://localhost:8080/"
        },
        "id": "nu9IOCK80tZ7",
        "outputId": "cebf1f2e-4511-43e8-f12c-727acd7e00fb"
      },
      "source": [
        "for n in range(-1, 6):\r\n",
        "    print(f'{n}! = {factorial2(n)}')"
      ],
      "execution_count": 8,
      "outputs": [
        {
          "output_type": "stream",
          "text": [
            "-1! = None\n",
            "0! = 1\n",
            "1! = 1\n",
            "2! = 2\n",
            "3! = 6\n",
            "4! = 24\n",
            "5! = 120\n"
          ],
          "name": "stdout"
        }
      ]
    },
    {
      "cell_type": "code",
      "metadata": {
        "id": "DoM6fC7_2qUt"
      },
      "source": [
        "def sum_to(n):\r\n",
        "    \"\"\"\r\n",
        "    s(0) = 0\r\n",
        "    s(1) = 1\r\n",
        "    s(2) = 1 + 2\r\n",
        "    ...\r\n",
        "    s(n) = 1 + 2 + 3 + ... + (n-1) + n = s(n-1) + n, n > 0\r\n",
        "    n < 0 경우, None을 리턴\r\n",
        "    \"\"\"\r\n",
        "    result = None\r\n",
        "    if n == 0:\r\n",
        "        result = 0\r\n",
        "    elif n > 0:\r\n",
        "        result = sum_to(n-1) + n\r\n",
        "\r\n",
        "    return result"
      ],
      "execution_count": 9,
      "outputs": []
    },
    {
      "cell_type": "code",
      "metadata": {
        "colab": {
          "base_uri": "https://localhost:8080/"
        },
        "id": "Iwq2bxWq41yj",
        "outputId": "8b7714b9-2c6a-45bf-a2a3-9cf8f2c424f0"
      },
      "source": [
        "for n in range(-1, 6):\r\n",
        "    print(f'sum_to({n}) = {sum_to(n)}')"
      ],
      "execution_count": 10,
      "outputs": [
        {
          "output_type": "stream",
          "text": [
            "sum_to(-1) = None\n",
            "sum_to(0) = 0\n",
            "sum_to(1) = 1\n",
            "sum_to(2) = 3\n",
            "sum_to(3) = 6\n",
            "sum_to(4) = 10\n",
            "sum_to(5) = 15\n"
          ],
          "name": "stdout"
        }
      ]
    }
  ]
}