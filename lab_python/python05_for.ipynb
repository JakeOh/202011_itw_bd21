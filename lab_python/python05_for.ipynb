{
  "nbformat": 4,
  "nbformat_minor": 0,
  "metadata": {
    "colab": {
      "name": "python05_for.ipynb",
      "provenance": [],
      "collapsed_sections": [],
      "authorship_tag": "ABX9TyMraSPWqqepW1vhnMzd28uk",
      "include_colab_link": true
    },
    "kernelspec": {
      "name": "python3",
      "display_name": "Python 3"
    }
  },
  "cells": [
    {
      "cell_type": "markdown",
      "metadata": {
        "id": "view-in-github",
        "colab_type": "text"
      },
      "source": [
        "<a href=\"https://colab.research.google.com/github/JakeOh/202011_itw_bd21/blob/main/lab_python/python05_for.ipynb\" target=\"_parent\"><img src=\"https://colab.research.google.com/assets/colab-badge.svg\" alt=\"Open In Colab\"/></a>"
      ]
    },
    {
      "cell_type": "markdown",
      "metadata": {
        "id": "ZJkz9LgNgc1X"
      },
      "source": [
        "# 반복문(Iteration)"
      ]
    },
    {
      "cell_type": "markdown",
      "metadata": {
        "id": "HdZX00Jjgrme"
      },
      "source": [
        "**for statement**\r\n",
        "\r\n",
        "\r\n",
        "```\r\n",
        "for 변수 in iterable-type:\r\n",
        "    반복해서 실행할 블록(문장들)\r\n",
        "```\r\n",
        "\r\n",
        "\r\n",
        "* iterable-type: 반복 가능한 데이터 타입. range, list, tuple, dict, set, str, ..."
      ]
    },
    {
      "cell_type": "code",
      "metadata": {
        "colab": {
          "base_uri": "https://localhost:8080/"
        },
        "id": "w84Z1dvigo6e",
        "outputId": "7b98d4a2-ad16-4e22-814d-6e6d38deddfb"
      },
      "source": [
        "for ch in '안녕하세요':\r\n",
        "    print(ch)"
      ],
      "execution_count": 6,
      "outputs": [
        {
          "output_type": "stream",
          "text": [
            "안\n",
            "녕\n",
            "하\n",
            "세\n",
            "요\n"
          ],
          "name": "stdout"
        }
      ]
    },
    {
      "cell_type": "code",
      "metadata": {
        "colab": {
          "base_uri": "https://localhost:8080/"
        },
        "id": "tGE_UP_igNW6",
        "outputId": "fccfe3b2-4bb9-43e0-dfaf-0daddcd18a35"
      },
      "source": [
        "string = '안녕하세요'\r\n",
        "for ch in string:\r\n",
        "    print(ch)"
      ],
      "execution_count": 7,
      "outputs": [
        {
          "output_type": "stream",
          "text": [
            "안\n",
            "녕\n",
            "하\n",
            "세\n",
            "요\n"
          ],
          "name": "stdout"
        }
      ]
    },
    {
      "cell_type": "code",
      "metadata": {
        "colab": {
          "base_uri": "https://localhost:8080/"
        },
        "id": "f7pgTbf-kP2u",
        "outputId": "ffa3988a-5035-4c4b-f4de-40eb0055b837"
      },
      "source": [
        "# range(a, b): [a, b). a <= x < b 범위의 (1씩 증가하는) 정수들.\r\n",
        "for x in range(1, 6):  # (1, 2, 3, 4, 5)\r\n",
        "    print(x)"
      ],
      "execution_count": 8,
      "outputs": [
        {
          "output_type": "stream",
          "text": [
            "1\n",
            "2\n",
            "3\n",
            "4\n",
            "5\n"
          ],
          "name": "stdout"
        }
      ]
    },
    {
      "cell_type": "code",
      "metadata": {
        "colab": {
          "base_uri": "https://localhost:8080/"
        },
        "id": "NIkKVJPflSAm",
        "outputId": "f7fed6a9-b8fb-484a-c179-6515b1b328d6"
      },
      "source": [
        "# range(start, stop, step): [start, stop). start <= x < stop 범위의 step만큼씩 증가하는 정수들.\r\n",
        "for x in range(1, 10, 2):  # (1, 3, 5, 7, 9)\r\n",
        "    print(x)"
      ],
      "execution_count": 10,
      "outputs": [
        {
          "output_type": "stream",
          "text": [
            "1\n",
            "3\n",
            "5\n",
            "7\n",
            "9\n"
          ],
          "name": "stdout"
        }
      ]
    },
    {
      "cell_type": "code",
      "metadata": {
        "colab": {
          "base_uri": "https://localhost:8080/"
        },
        "id": "rfOsnufhmolt",
        "outputId": "0246c173-58ef-4917-c61b-0532bade0421"
      },
      "source": [
        "# range(stop): [0, stop). 0 <= x < stop 범위의 (1씩 증가하는) 정수들.\r\n",
        "for x in range(5):  # (0, 1, 2, 3, 4)\r\n",
        "    print(x)"
      ],
      "execution_count": 11,
      "outputs": [
        {
          "output_type": "stream",
          "text": [
            "0\n",
            "1\n",
            "2\n",
            "3\n",
            "4\n"
          ],
          "name": "stdout"
        }
      ]
    },
    {
      "cell_type": "markdown",
      "metadata": {
        "id": "fF3wrTPSnbql"
      },
      "source": [
        "아래와 같은 출력되도록 for-in 문을 작성\r\n",
        "\r\n",
        "```\r\n",
        "5\r\n",
        "4\r\n",
        "3\r\n",
        "2\r\n",
        "1\r\n",
        "```\r\n"
      ]
    },
    {
      "cell_type": "code",
      "metadata": {
        "id": "nY8SiF42nbT1"
      },
      "source": [
        ""
      ],
      "execution_count": null,
      "outputs": []
    }
  ]
}