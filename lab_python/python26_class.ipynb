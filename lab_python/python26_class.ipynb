{
  "nbformat": 4,
  "nbformat_minor": 0,
  "metadata": {
    "colab": {
      "name": "python26_class.ipynb",
      "provenance": [],
      "collapsed_sections": [],
      "authorship_tag": "ABX9TyNXeP3CWHaNBm037OQYN/fS",
      "include_colab_link": true
    },
    "kernelspec": {
      "name": "python3",
      "display_name": "Python 3"
    }
  },
  "cells": [
    {
      "cell_type": "markdown",
      "metadata": {
        "id": "view-in-github",
        "colab_type": "text"
      },
      "source": [
        "<a href=\"https://colab.research.google.com/github/JakeOh/202011_itw_bd21/blob/main/lab_python/python26_class.ipynb\" target=\"_parent\"><img src=\"https://colab.research.google.com/assets/colab-badge.svg\" alt=\"Open In Colab\"/></a>"
      ]
    },
    {
      "cell_type": "code",
      "metadata": {
        "id": "FV5CYZ_-G9J3"
      },
      "source": [
        "import math  # sqrt() 함수 사용"
      ],
      "execution_count": 1,
      "outputs": []
    },
    {
      "cell_type": "code",
      "metadata": {
        "id": "zOVtDK_lHKVy"
      },
      "source": [
        "class Point:\r\n",
        "    \"\"\"2차원 평면의 점의 좌표를 표현하는 클래스\"\"\"\r\n",
        "\r\n",
        "    def __init__(self, x=0, y=0):\r\n",
        "        # 인스턴스 변수 초기화\r\n",
        "        self.x = x\r\n",
        "        self.y = y\r\n",
        "\r\n",
        "    def move(self, dx, dy):\r\n",
        "        \"\"\"점의 좌표를 원래 위치에서 x축의 방향으로 dx만큼, y축의 방향으로 dy만큼 이동시키는 메서드.\r\n",
        "        \"\"\"\r\n",
        "        self.x += dx  # self.x = self.x + dx\r\n",
        "        self.y += dy\r\n",
        "\r\n",
        "    def get_distance_from(self, point):\r\n",
        "        \"\"\"다른 Point 객체 point까지의 거리를 반환하는 메서드.\r\n",
        "        두 점 (x1, y1)과 (x2, y2) 사이의 거리 d:\r\n",
        "        d = sqrt((x1 - x2) ** 2 + (y1 - y2) ** 2)\r\n",
        "        \"\"\"\r\n",
        "        distance = math.sqrt((self.x - point.x)**2 + (self.y - point.y)**2)\r\n",
        "        return distance\r\n"
      ],
      "execution_count": 28,
      "outputs": []
    },
    {
      "cell_type": "code",
      "metadata": {
        "colab": {
          "base_uri": "https://localhost:8080/"
        },
        "id": "eGJOcvZdM6z2",
        "outputId": "13283bd9-d5f0-41f1-c132-ce9645b6c747"
      },
      "source": [
        "# Point 클래스의 인스턴스 생성\r\n",
        "pt1 = Point()\r\n",
        "print(pt1)\r\n",
        "print(pt1.x, pt1.y)"
      ],
      "execution_count": 29,
      "outputs": [
        {
          "output_type": "stream",
          "text": [
            "<__main__.Point object at 0x7fb981a71b00>\n",
            "0 0\n"
          ],
          "name": "stdout"
        }
      ]
    },
    {
      "cell_type": "code",
      "metadata": {
        "colab": {
          "base_uri": "https://localhost:8080/"
        },
        "id": "B26AKVYGOEId",
        "outputId": "666ebbaa-932d-46a3-bc8f-94ef148f59d5"
      },
      "source": [
        "pt2 = Point(1, 1)\r\n",
        "print(pt2)\r\n",
        "print(pt2.x, pt2.y)"
      ],
      "execution_count": 30,
      "outputs": [
        {
          "output_type": "stream",
          "text": [
            "<__main__.Point object at 0x7fb981a71b70>\n",
            "1 1\n"
          ],
          "name": "stdout"
        }
      ]
    },
    {
      "cell_type": "code",
      "metadata": {
        "colab": {
          "base_uri": "https://localhost:8080/"
        },
        "id": "1xXhMtlMTCnY",
        "outputId": "72908acc-71e9-4234-914b-2f2b9952f40b"
      },
      "source": [
        "print(f'pt1 이동전: ({pt1.x}, {pt1.y})')\r\n",
        "pt1.move(2, 1)\r\n",
        "print(f'pt1 이동후: ({pt1.x}, {pt1.y})')"
      ],
      "execution_count": 31,
      "outputs": [
        {
          "output_type": "stream",
          "text": [
            "pt1 이동전: (0, 0)\n",
            "pt1 이동후: (2, 1)\n"
          ],
          "name": "stdout"
        }
      ]
    },
    {
      "cell_type": "code",
      "metadata": {
        "colab": {
          "base_uri": "https://localhost:8080/"
        },
        "id": "_qkCroO8UiwN",
        "outputId": "24087a30-5800-419c-c0aa-cbf2b01790ab"
      },
      "source": [
        "print(f'pt2 이동전: ({pt2.x}, {pt2.y})')\r\n",
        "pt2.move(2, 1)\r\n",
        "print(f'pt2 이동후: ({pt2.x}, {pt2.y})')"
      ],
      "execution_count": 32,
      "outputs": [
        {
          "output_type": "stream",
          "text": [
            "pt2 이동전: (1, 1)\n",
            "pt2 이동후: (3, 2)\n"
          ],
          "name": "stdout"
        }
      ]
    },
    {
      "cell_type": "code",
      "metadata": {
        "colab": {
          "base_uri": "https://localhost:8080/"
        },
        "id": "A1cmJc7WcrW1",
        "outputId": "16d24825-8580-46a8-9c3d-85be1d563958"
      },
      "source": [
        "d = pt1.get_distance_from(pt2)\r\n",
        "print(d)"
      ],
      "execution_count": 33,
      "outputs": [
        {
          "output_type": "stream",
          "text": [
            "1.4142135623730951\n"
          ],
          "name": "stdout"
        }
      ]
    },
    {
      "cell_type": "code",
      "metadata": {
        "colab": {
          "base_uri": "https://localhost:8080/"
        },
        "id": "wteNgQWxfho1",
        "outputId": "e12672db-f2e3-487f-ba55-93a582604a68"
      },
      "source": [
        "d = pt2.get_distance_from(pt1)\r\n",
        "print(d)"
      ],
      "execution_count": 34,
      "outputs": [
        {
          "output_type": "stream",
          "text": [
            "1.4142135623730951\n"
          ],
          "name": "stdout"
        }
      ]
    },
    {
      "cell_type": "code",
      "metadata": {
        "id": "2eRYCRcMf-KM"
      },
      "source": [
        "class Rectangle:\r\n",
        "    \"\"\"2차원 평면 상에서 직사각형을 표현하는 클래스\"\"\"\r\n",
        "\r\n",
        "    def __init__(self, x, y, width, height):\r\n",
        "        \"\"\"인스턴스 변수들 초기화\"\"\"\r\n",
        "        pass\r\n",
        "\r\n",
        "    def move(self, dx, dy):\r\n",
        "        \"\"\"직사각형을 x축의 방향으로 dx만큼, y축의 방향으로 dy만큼 이동\"\"\"\r\n",
        "        pass\r\n",
        "\r\n",
        "    def area(self):\r\n",
        "        \"\"\"직사각형의 넓이를 계산해서 리턴.\"\"\"\r\n",
        "        pass\r\n",
        "\r\n",
        "    def perimeter(self):\r\n",
        "        \"\"\"직사각형의 둘레의 길이를 계산해서 리턴.\"\"\"\r\n",
        "        pass\r\n"
      ],
      "execution_count": null,
      "outputs": []
    }
  ]
}