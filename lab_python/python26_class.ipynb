{
  "nbformat": 4,
  "nbformat_minor": 0,
  "metadata": {
    "colab": {
      "name": "python26_class.ipynb",
      "provenance": [],
      "collapsed_sections": [],
      "authorship_tag": "ABX9TyONlyXRLV5yEm+dLR8Flda/",
      "include_colab_link": true
    },
    "kernelspec": {
      "name": "python3",
      "display_name": "Python 3"
    }
  },
  "cells": [
    {
      "cell_type": "markdown",
      "metadata": {
        "id": "view-in-github",
        "colab_type": "text"
      },
      "source": [
        "<a href=\"https://colab.research.google.com/github/JakeOh/202011_itw_bd21/blob/main/lab_python/python26_class.ipynb\" target=\"_parent\"><img src=\"https://colab.research.google.com/assets/colab-badge.svg\" alt=\"Open In Colab\"/></a>"
      ]
    },
    {
      "cell_type": "code",
      "metadata": {
        "id": "FV5CYZ_-G9J3"
      },
      "source": [
        "import math  # sqrt() 함수 사용"
      ],
      "execution_count": 1,
      "outputs": []
    },
    {
      "cell_type": "code",
      "metadata": {
        "id": "zOVtDK_lHKVy"
      },
      "source": [
        "class Point:\r\n",
        "    \"\"\"2차원 평면의 점의 좌표를 표현하는 클래스\"\"\"\r\n",
        "\r\n",
        "    def __init__(self, x=0, y=0):\r\n",
        "        # 인스턴스 변수 초기화\r\n",
        "        self.x = x\r\n",
        "        self.y = y\r\n",
        "\r\n",
        "    def move(self, dx, dy):\r\n",
        "        \"\"\"점의 좌표를 원래 위치에서 x축의 방향으로 dx만큼, y축의 방향으로 dy만큼 이동시키는 메서드.\r\n",
        "        \"\"\"\r\n",
        "        self.x += dx  # self.x = self.x + dx\r\n",
        "        self.y += dy\r\n",
        "\r\n",
        "    def get_distance_from(self, point):\r\n",
        "        \"\"\"다른 Point 객체 point까지의 거리를 반환하는 메서드.\r\n",
        "        두 점 (x1, y1)과 (x2, y2) 사이의 거리 d:\r\n",
        "        d = sqrt((x1 - x2) ** 2 + (y1 - y2) ** 2)\r\n",
        "        \"\"\"\r\n",
        "        distance = math.sqrt((self.x - point.x)**2 + (self.y - point.y)**2)\r\n",
        "        return distance\r\n"
      ],
      "execution_count": 28,
      "outputs": []
    },
    {
      "cell_type": "code",
      "metadata": {
        "colab": {
          "base_uri": "https://localhost:8080/"
        },
        "id": "eGJOcvZdM6z2",
        "outputId": "13283bd9-d5f0-41f1-c132-ce9645b6c747"
      },
      "source": [
        "# Point 클래스의 인스턴스 생성\r\n",
        "pt1 = Point()\r\n",
        "print(pt1)\r\n",
        "print(pt1.x, pt1.y)"
      ],
      "execution_count": 29,
      "outputs": [
        {
          "output_type": "stream",
          "text": [
            "<__main__.Point object at 0x7fb981a71b00>\n",
            "0 0\n"
          ],
          "name": "stdout"
        }
      ]
    },
    {
      "cell_type": "code",
      "metadata": {
        "colab": {
          "base_uri": "https://localhost:8080/"
        },
        "id": "B26AKVYGOEId",
        "outputId": "666ebbaa-932d-46a3-bc8f-94ef148f59d5"
      },
      "source": [
        "pt2 = Point(1, 1)\r\n",
        "print(pt2)\r\n",
        "print(pt2.x, pt2.y)"
      ],
      "execution_count": 30,
      "outputs": [
        {
          "output_type": "stream",
          "text": [
            "<__main__.Point object at 0x7fb981a71b70>\n",
            "1 1\n"
          ],
          "name": "stdout"
        }
      ]
    },
    {
      "cell_type": "code",
      "metadata": {
        "colab": {
          "base_uri": "https://localhost:8080/"
        },
        "id": "1xXhMtlMTCnY",
        "outputId": "72908acc-71e9-4234-914b-2f2b9952f40b"
      },
      "source": [
        "print(f'pt1 이동전: ({pt1.x}, {pt1.y})')\r\n",
        "pt1.move(2, 1)\r\n",
        "print(f'pt1 이동후: ({pt1.x}, {pt1.y})')"
      ],
      "execution_count": 31,
      "outputs": [
        {
          "output_type": "stream",
          "text": [
            "pt1 이동전: (0, 0)\n",
            "pt1 이동후: (2, 1)\n"
          ],
          "name": "stdout"
        }
      ]
    },
    {
      "cell_type": "code",
      "metadata": {
        "colab": {
          "base_uri": "https://localhost:8080/"
        },
        "id": "_qkCroO8UiwN",
        "outputId": "24087a30-5800-419c-c0aa-cbf2b01790ab"
      },
      "source": [
        "print(f'pt2 이동전: ({pt2.x}, {pt2.y})')\r\n",
        "pt2.move(2, 1)\r\n",
        "print(f'pt2 이동후: ({pt2.x}, {pt2.y})')"
      ],
      "execution_count": 32,
      "outputs": [
        {
          "output_type": "stream",
          "text": [
            "pt2 이동전: (1, 1)\n",
            "pt2 이동후: (3, 2)\n"
          ],
          "name": "stdout"
        }
      ]
    },
    {
      "cell_type": "code",
      "metadata": {
        "colab": {
          "base_uri": "https://localhost:8080/"
        },
        "id": "A1cmJc7WcrW1",
        "outputId": "16d24825-8580-46a8-9c3d-85be1d563958"
      },
      "source": [
        "d = pt1.get_distance_from(pt2)\r\n",
        "print(d)"
      ],
      "execution_count": 33,
      "outputs": [
        {
          "output_type": "stream",
          "text": [
            "1.4142135623730951\n"
          ],
          "name": "stdout"
        }
      ]
    },
    {
      "cell_type": "code",
      "metadata": {
        "colab": {
          "base_uri": "https://localhost:8080/"
        },
        "id": "wteNgQWxfho1",
        "outputId": "e12672db-f2e3-487f-ba55-93a582604a68"
      },
      "source": [
        "d = pt2.get_distance_from(pt1)\r\n",
        "print(d)"
      ],
      "execution_count": 34,
      "outputs": [
        {
          "output_type": "stream",
          "text": [
            "1.4142135623730951\n"
          ],
          "name": "stdout"
        }
      ]
    },
    {
      "cell_type": "code",
      "metadata": {
        "id": "2eRYCRcMf-KM"
      },
      "source": [
        "class Rectangle:\r\n",
        "    \"\"\"2차원 평면 상에서 직사각형을 표현하는 클래스\"\"\"\r\n",
        "\r\n",
        "    def __init__(self, x=0, y=0, width=0, height=0):\r\n",
        "        \"\"\"인스턴스 변수(attribute)들 초기화\"\"\"\r\n",
        "        self.x = x\r\n",
        "        self.y = y\r\n",
        "        self.width = width\r\n",
        "        self.height = height\r\n",
        "\r\n",
        "    def move(self, dx, dy):\r\n",
        "        \"\"\"직사각형을 x축의 방향으로 dx만큼, y축의 방향으로 dy만큼 이동\"\"\"\r\n",
        "        self.x += dx\r\n",
        "        self.y += dy\r\n",
        "        \r\n",
        "    def area(self):\r\n",
        "        \"\"\"직사각형의 넓이를 계산해서 리턴.\"\"\"\r\n",
        "        return self.width * self.height\r\n",
        "\r\n",
        "    def perimeter(self):\r\n",
        "        \"\"\"직사각형의 둘레의 길이를 계산해서 리턴.\"\"\"\r\n",
        "        return (self.width + self.height) * 2\r\n",
        "\r\n",
        "    def resize(self, dw, dh):\r\n",
        "        \"\"\"직사각형의 가로 길이를 dw만큼, 세로 길이를 dh만큼 늘려주는 메서드.\"\"\"\r\n",
        "        self.width += dw\r\n",
        "        self.height += dh\r\n",
        "\r\n",
        "    def center(self):\r\n",
        "        \"\"\"직사각형의 중심의 좌표를 찾아서 리턴하는 메서드.\"\"\"\r\n",
        "        center_x = self.x + self.width / 2\r\n",
        "        center_y = self.y + self.height / 2\r\n",
        "        # return center_x, center_y  # tuple 리턴.\r\n",
        "        \r\n",
        "        center = Point(center_x, center_y)  # Point 클래스의 인스턴스 생성.\r\n",
        "        return center  # Point 클래스의 인스턴스를 리턴.\r\n"
      ],
      "execution_count": 44,
      "outputs": []
    },
    {
      "cell_type": "code",
      "metadata": {
        "colab": {
          "base_uri": "https://localhost:8080/"
        },
        "id": "APB4CfUE2227",
        "outputId": "1aa83222-548f-4f7f-91f4-211a657b9a15"
      },
      "source": [
        "# 꼭지점의 좌표가 (0, 0)이고, 가로/세로 길이가 3인 직사각형을 생성\r\n",
        "rect1 = Rectangle(width=3, height=3)\r\n",
        "print(rect1)"
      ],
      "execution_count": 45,
      "outputs": [
        {
          "output_type": "stream",
          "text": [
            "<__main__.Rectangle object at 0x7fb981a46c88>\n"
          ],
          "name": "stdout"
        }
      ]
    },
    {
      "cell_type": "code",
      "metadata": {
        "colab": {
          "base_uri": "https://localhost:8080/"
        },
        "id": "rCLDh-A_3_bL",
        "outputId": "6662d1ef-659b-4aa5-9751-125d8ad31214"
      },
      "source": [
        "print(f'x={rect1.x}, y={rect1.y}, w={rect1.width}, h={rect1.height}')"
      ],
      "execution_count": 46,
      "outputs": [
        {
          "output_type": "stream",
          "text": [
            "x=0, y=0, w=3, h=3\n"
          ],
          "name": "stdout"
        }
      ]
    },
    {
      "cell_type": "code",
      "metadata": {
        "colab": {
          "base_uri": "https://localhost:8080/"
        },
        "id": "n1rrb6gd4f0c",
        "outputId": "9112ffea-63f2-4c31-b40b-71ee0246e425"
      },
      "source": [
        "rect1.move(2, 3)\r\n",
        "print(f'x={rect1.x}, y={rect1.y}, w={rect1.width}, h={rect1.height}')"
      ],
      "execution_count": 47,
      "outputs": [
        {
          "output_type": "stream",
          "text": [
            "x=2, y=3, w=3, h=3\n"
          ],
          "name": "stdout"
        }
      ]
    },
    {
      "cell_type": "code",
      "metadata": {
        "colab": {
          "base_uri": "https://localhost:8080/"
        },
        "id": "0giFIDQ64sS4",
        "outputId": "227331e1-da8b-4406-94e0-2d40448e96fb"
      },
      "source": [
        "a = rect1.area()\r\n",
        "print('넓이 =', a)\r\n",
        "p = rect1.perimeter()\r\n",
        "print('둘레 =', p)"
      ],
      "execution_count": 48,
      "outputs": [
        {
          "output_type": "stream",
          "text": [
            "넓이 = 9\n",
            "둘레 = 12\n"
          ],
          "name": "stdout"
        }
      ]
    },
    {
      "cell_type": "code",
      "metadata": {
        "colab": {
          "base_uri": "https://localhost:8080/"
        },
        "id": "_e3QvV465UqW",
        "outputId": "784addd6-03be-448c-c571-fdece8a59837"
      },
      "source": [
        "# 꼭지점의 좌표가 (-1, 1)이고, 가로 길이는 2, 세로 길이는 3인 직사각형 생성\r\n",
        "rect2 = Rectangle(x=-1, y=1, width=2, height=3)\r\n",
        "print(rect2)\r\n",
        "print(f'x={rect2.x}, y={rect2.y}, w={rect2.width}, h={rect2.height}')\r\n",
        "print(f'넓이 = {rect2.area()}')\r\n",
        "print(f'둘레 = {rect2.perimeter()}')"
      ],
      "execution_count": 49,
      "outputs": [
        {
          "output_type": "stream",
          "text": [
            "<__main__.Rectangle object at 0x7fb981a3c630>\n",
            "x=-1, y=1, w=2, h=3\n",
            "넓이 = 6\n",
            "둘레 = 10\n"
          ],
          "name": "stdout"
        }
      ]
    },
    {
      "cell_type": "code",
      "metadata": {
        "colab": {
          "base_uri": "https://localhost:8080/"
        },
        "id": "LlOq74_M_VJU",
        "outputId": "41227292-bc95-4a5f-dc69-f4873aa5b169"
      },
      "source": [
        "center = rect2.center()\r\n",
        "print(center)\r\n",
        "print(f'x={center.x}, y={center.y}')"
      ],
      "execution_count": 51,
      "outputs": [
        {
          "output_type": "stream",
          "text": [
            "<__main__.Point object at 0x7fb981a3cc88>\n",
            "x=0.0, y=2.5\n"
          ],
          "name": "stdout"
        }
      ]
    },
    {
      "cell_type": "code",
      "metadata": {
        "colab": {
          "base_uri": "https://localhost:8080/"
        },
        "id": "KlLXlom1_yRi",
        "outputId": "b92cb099-172d-40b9-a484-b7c3cc30efcc"
      },
      "source": [
        "rect2.resize(3, 3)\r\n",
        "print(f'x={rect2.x}, y={rect2.y}, w={rect2.width}, h={rect2.height}')"
      ],
      "execution_count": 52,
      "outputs": [
        {
          "output_type": "stream",
          "text": [
            "x=-1, y=1, w=5, h=6\n"
          ],
          "name": "stdout"
        }
      ]
    },
    {
      "cell_type": "code",
      "metadata": {
        "id": "18ZD1SmuGKGs"
      },
      "source": [
        "class Rectangle2:\r\n",
        "\r\n",
        "    def __init__(self, x=0, y=0, width=0, height=0):\r\n",
        "        self.corner = Point(x, y)\r\n",
        "        self.width = width\r\n",
        "        self.height = height\r\n",
        "\r\n",
        "    def move(self, dx, dy):\r\n",
        "        # self.corner.x += dx\r\n",
        "        # self.corner.y += dy\r\n",
        "        self.corner.move(dx, dy)\r\n"
      ],
      "execution_count": 57,
      "outputs": []
    },
    {
      "cell_type": "code",
      "metadata": {
        "colab": {
          "base_uri": "https://localhost:8080/"
        },
        "id": "R7TRHaF_GmUM",
        "outputId": "1352d802-77cb-4e3f-903a-183441021ebe"
      },
      "source": [
        "rect3 = Rectangle2(width=3, height=4)\r\n",
        "print(f'x={rect3.corner.x}, y={rect3.corner.y}, w={rect3.width}, h={rect3.height}')"
      ],
      "execution_count": 58,
      "outputs": [
        {
          "output_type": "stream",
          "text": [
            "x=0, y=0, w=3, h=4\n"
          ],
          "name": "stdout"
        }
      ]
    },
    {
      "cell_type": "code",
      "metadata": {
        "colab": {
          "base_uri": "https://localhost:8080/"
        },
        "id": "4sJeviNiHb5s",
        "outputId": "92af66b5-762b-4a75-a94b-8a12776a6faf"
      },
      "source": [
        "rect3.move(1, -2)\r\n",
        "print(f'x={rect3.corner.x}, y={rect3.corner.y}, w={rect3.width}, h={rect3.height}')"
      ],
      "execution_count": 59,
      "outputs": [
        {
          "output_type": "stream",
          "text": [
            "x=1, y=-2, w=3, h=4\n"
          ],
          "name": "stdout"
        }
      ]
    }
  ]
}