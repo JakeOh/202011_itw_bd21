{
  "nbformat": 4,
  "nbformat_minor": 0,
  "metadata": {
    "colab": {
      "name": "python06_exercise.ipynb",
      "provenance": [],
      "collapsed_sections": [],
      "authorship_tag": "ABX9TyMj1PgIusiXbj0+/OL7bXEq",
      "include_colab_link": true
    },
    "kernelspec": {
      "name": "python3",
      "display_name": "Python 3"
    }
  },
  "cells": [
    {
      "cell_type": "markdown",
      "metadata": {
        "id": "view-in-github",
        "colab_type": "text"
      },
      "source": [
        "<a href=\"https://colab.research.google.com/github/JakeOh/202011_itw_bd21/blob/main/lab_python/python06_exercise.ipynb\" target=\"_parent\"><img src=\"https://colab.research.google.com/assets/colab-badge.svg\" alt=\"Open In Colab\"/></a>"
      ]
    },
    {
      "cell_type": "markdown",
      "metadata": {
        "id": "7wUIPxS60wYu"
      },
      "source": [
        "# for-in 구문 연습"
      ]
    },
    {
      "cell_type": "code",
      "metadata": {
        "colab": {
          "base_uri": "https://localhost:8080/"
        },
        "id": "JMUhfpPi01pE",
        "outputId": "f9af32b4-03aa-4f1c-86c7-20e44772d334"
      },
      "source": [
        "# end 파라미터: 프린트가 끝난 후 어떤 동작을 할 것인지를 설정.\r\n",
        "# end='\\n': 줄바꿈(enter). 기본값.\r\n",
        "# '\\n': new line. 줄바꿈. 키보드 enter.\r\n",
        "# '\\t': tab. 탭. 키보드 tab.\r\n",
        "print('hello', end=' ')\r\n",
        "print('안녕하세요', end=' ')\r\n",
        "print('Hello Python!', end=' ')"
      ],
      "execution_count": null,
      "outputs": [
        {
          "output_type": "stream",
          "text": [
            "hello 안녕하세요 Hello Python! "
          ],
          "name": "stdout"
        }
      ]
    },
    {
      "cell_type": "code",
      "metadata": {
        "colab": {
          "base_uri": "https://localhost:8080/"
        },
        "id": "nj1oIXO20rIR",
        "outputId": "c25873c7-2060-43c7-f7f0-f4cf09aa5c0c"
      },
      "source": [
        "# sep 파라미터: 출력할 argument들을 어떤 문자(들)로 구분(separate)할지를 설정.\r\n",
        "# sep=' ': 공백(space 1개). 기본값\r\n",
        "print('hello', '안녕하세요', 'Python', sep='::')"
      ],
      "execution_count": null,
      "outputs": [
        {
          "output_type": "stream",
          "text": [
            "hello::안녕하세요::Python\n"
          ],
          "name": "stdout"
        }
      ]
    },
    {
      "cell_type": "markdown",
      "metadata": {
        "id": "fmtN0L053Qgm"
      },
      "source": [
        "## 동요를 불러볼까요?"
      ]
    },
    {
      "cell_type": "markdown",
      "metadata": {
        "id": "oumm4WgR3iis"
      },
      "source": [
        "아래와 같이 출력되도록 코드를 작성\r\n",
        "\r\n",
        "```\r\n",
        "1 little 2 little 3 little indian\r\n",
        "4 little 5 little 6 little indian\r\n",
        "7 little 8 little 9 little indian\r\n",
        "10 little indian boys!\r\n",
        "```\r\n"
      ]
    },
    {
      "cell_type": "code",
      "metadata": {
        "id": "SDTZ6GnJ3j7u",
        "colab": {
          "base_uri": "https://localhost:8080/"
        },
        "outputId": "667465eb-08e1-4832-a44e-b458ba5b2ed6"
      },
      "source": [
        "for n in range(1, 11):\r\n",
        "    print(n, 'little', end=' ')\r\n",
        "    if n % 3 == 0:  # n이 3, 6, 9이면\r\n",
        "        print('indian')\r\n",
        "\r\n",
        "print('indian boys!')"
      ],
      "execution_count": 9,
      "outputs": [
        {
          "output_type": "stream",
          "text": [
            "1 little 2 little 3 little indian\n",
            "4 little 5 little 6 little indian\n",
            "7 little 8 little 9 little indian\n",
            "10 little indian boys!\n"
          ],
          "name": "stdout"
        }
      ]
    },
    {
      "cell_type": "markdown",
      "metadata": {
        "id": "eEoiQtvj3kj2"
      },
      "source": [
        "## 369 게임을 해볼까요?"
      ]
    },
    {
      "cell_type": "markdown",
      "metadata": {
        "id": "QdvZc72j3oFM"
      },
      "source": [
        "아래와 같이 출력되도록 코드 작성\r\n",
        "\r\n",
        "```\r\n",
        "1  2  *  4  5  *  7  8  *  10\r\n",
        "11 12 *  14 15 *  17 18 *  20\r\n",
        "21 22 *  24 25 *  27 28 *  *\r\n",
        "*  *  *  *  *  *  *  *  *  40\r\n",
        "...\r\n",
        "81 82 *  84 85 *  87 88 *  * \r\n",
        "*  *  *  *  *  *  *  *  *  100\r\n",
        "```\r\n"
      ]
    },
    {
      "cell_type": "code",
      "metadata": {
        "id": "QuNq6wMU356c",
        "colab": {
          "base_uri": "https://localhost:8080/"
        },
        "outputId": "39a99fb0-6eca-45b3-ad89-8ec773b57d31"
      },
      "source": [
        "for n in range(1, 101):\r\n",
        "    # 숫자 n을 1의 자릿수와 10의 자릿수로 분리\r\n",
        "    n_1 = n % 10    # n을 10으로 나눈 나머지 -> 숫자 n의 1의 자릿수\r\n",
        "    n_10 = n // 10  # n을 10으로 나눈 몫 -> 숫자 n의 10의 자릿수\r\n",
        "    \r\n",
        "    # 1의 자릿수가 3 또는 6 또는 9이면,\r\n",
        "    # cond_n1 = (n_1 == 3) or (n_1 == 6) or (n_1 == 9)\r\n",
        "    cond_n1 = n_1 in (3, 6, 9)\r\n",
        "    # 10의 자릿수가 3 또는 6 또는 9이면,\r\n",
        "    cond_n10 = n_10 in (3, 6, 9)\r\n",
        "\r\n",
        "    if cond_n1 and cond_n10:\r\n",
        "        # 1의 자릿수가 3이거나 6이거나 9\"이고\", 10의 자릿수가 3이거나 6이거나 9이면\r\n",
        "        print('**', end='\\t')\r\n",
        "    elif cond_n1 or cond_n10:\r\n",
        "        # 1의 자릿수가 3, 6, 9이거나 \"또는\" 10의 자릿수가 3, 6, 9이면\r\n",
        "        print('*', end='\\t')\r\n",
        "    else:\r\n",
        "        # 3, 6, 9가 숫자에 포함되어 있지 않으면\r\n",
        "        print(n, end='\\t')\r\n",
        "\r\n",
        "    # 숫자를 10개 출력할 때마다 줄바꿈\r\n",
        "    if n % 10 == 0:  \r\n",
        "        print()  # end='\\n'"
      ],
      "execution_count": 16,
      "outputs": [
        {
          "output_type": "stream",
          "text": [
            "1\t2\t*\t4\t5\t*\t7\t8\t*\t10\t\n",
            "11\t12\t*\t14\t15\t*\t17\t18\t*\t20\t\n",
            "21\t22\t*\t24\t25\t*\t27\t28\t*\t*\t\n",
            "*\t*\t**\t*\t*\t**\t*\t*\t**\t40\t\n",
            "41\t42\t*\t44\t45\t*\t47\t48\t*\t50\t\n",
            "51\t52\t*\t54\t55\t*\t57\t58\t*\t*\t\n",
            "*\t*\t**\t*\t*\t**\t*\t*\t**\t70\t\n",
            "71\t72\t*\t74\t75\t*\t77\t78\t*\t80\t\n",
            "81\t82\t*\t84\t85\t*\t87\t88\t*\t*\t\n",
            "*\t*\t**\t*\t*\t**\t*\t*\t**\t100\t\n"
          ],
          "name": "stdout"
        }
      ]
    },
    {
      "cell_type": "code",
      "metadata": {
        "colab": {
          "base_uri": "https://localhost:8080/"
        },
        "id": "s5xL-FkqqSI_",
        "outputId": "a58f8759-a71e-4c5b-d0fa-130a4eb9d96b"
      },
      "source": [
        "for n in range(1, 101):\r\n",
        "    n_str = str(n)  # 숫자 n을 문자열로 변환\r\n",
        "    \r\n",
        "    if ('3' in n_str) or ('6' in n_str) or ('9' in n_str):\r\n",
        "        # 문자열 중에 '3' 또는 '6' 또는 '9'가 포함되어 있으면\r\n",
        "        print('*', end='\\t')\r\n",
        "    else:\r\n",
        "        print(n_str, end='\\t')\r\n",
        "\r\n",
        "    if n % 10 == 0:\r\n",
        "        print()"
      ],
      "execution_count": 18,
      "outputs": [
        {
          "output_type": "stream",
          "text": [
            "1\t2\t*\t4\t5\t*\t7\t8\t*\t10\t\n",
            "11\t12\t*\t14\t15\t*\t17\t18\t*\t20\t\n",
            "21\t22\t*\t24\t25\t*\t27\t28\t*\t*\t\n",
            "*\t*\t*\t*\t*\t*\t*\t*\t*\t40\t\n",
            "41\t42\t*\t44\t45\t*\t47\t48\t*\t50\t\n",
            "51\t52\t*\t54\t55\t*\t57\t58\t*\t*\t\n",
            "*\t*\t*\t*\t*\t*\t*\t*\t*\t70\t\n",
            "71\t72\t*\t74\t75\t*\t77\t78\t*\t80\t\n",
            "81\t82\t*\t84\t85\t*\t87\t88\t*\t*\t\n",
            "*\t*\t*\t*\t*\t*\t*\t*\t*\t100\t\n"
          ],
          "name": "stdout"
        }
      ]
    },
    {
      "cell_type": "markdown",
      "metadata": {
        "id": "5g5DcSK539dD"
      },
      "source": [
        "## 삼각형을 그려볼까요?"
      ]
    },
    {
      "cell_type": "markdown",
      "metadata": {
        "id": "NKLCR_L-4DVL"
      },
      "source": [
        "아래와 같이 출력되도록 코드 작성\r\n",
        "\r\n",
        "```\r\n",
        "*\r\n",
        "**\r\n",
        "***\r\n",
        "****\r\n",
        "*****\r\n",
        "****\r\n",
        "***\r\n",
        "**\r\n",
        "*\r\n",
        "```\r\n"
      ]
    },
    {
      "cell_type": "code",
      "metadata": {
        "id": "LnovBzlE387j",
        "colab": {
          "base_uri": "https://localhost:8080/"
        },
        "outputId": "18ff6f34-267e-4c6d-a0e1-bd6c7bcb4951"
      },
      "source": [
        "for n in range(1, 6):\r\n",
        "    print('*' * n)\r\n",
        "for n in range(4, 0, -1):\r\n",
        "    print('*' * n)"
      ],
      "execution_count": 20,
      "outputs": [
        {
          "output_type": "stream",
          "text": [
            "*\n",
            "**\n",
            "***\n",
            "****\n",
            "*****\n",
            "****\n",
            "***\n",
            "**\n",
            "*\n"
          ],
          "name": "stdout"
        }
      ]
    },
    {
      "cell_type": "code",
      "metadata": {
        "colab": {
          "base_uri": "https://localhost:8080/"
        },
        "id": "EdHTgUtksqqu",
        "outputId": "3106098b-257b-48d2-9c33-513a8256d52b"
      },
      "source": [
        "for n in range(1, 10):\r\n",
        "    if n <= 5:\r\n",
        "        print('*' * n)\r\n",
        "    else:\r\n",
        "        print('*' * (10 - n))"
      ],
      "execution_count": 21,
      "outputs": [
        {
          "output_type": "stream",
          "text": [
            "*\n",
            "**\n",
            "***\n",
            "****\n",
            "*****\n",
            "****\n",
            "***\n",
            "**\n",
            "*\n"
          ],
          "name": "stdout"
        }
      ]
    },
    {
      "cell_type": "code",
      "metadata": {
        "colab": {
          "base_uri": "https://localhost:8080/"
        },
        "id": "w-eMZ2zQtHRn",
        "outputId": "eddeb902-3b0c-41a3-b1ce-b96e5cb80b89"
      },
      "source": [
        "for x in range(-4, 5):\r\n",
        "    print('*' * (5 - abs(x)))"
      ],
      "execution_count": 22,
      "outputs": [
        {
          "output_type": "stream",
          "text": [
            "*\n",
            "**\n",
            "***\n",
            "****\n",
            "*****\n",
            "****\n",
            "***\n",
            "**\n",
            "*\n"
          ],
          "name": "stdout"
        }
      ]
    }
  ]
}