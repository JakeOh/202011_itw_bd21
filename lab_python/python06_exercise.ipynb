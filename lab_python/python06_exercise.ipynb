{
  "nbformat": 4,
  "nbformat_minor": 0,
  "metadata": {
    "colab": {
      "name": "python06_exercise.ipynb",
      "provenance": [],
      "collapsed_sections": [],
      "authorship_tag": "ABX9TyO8ZdA+G9fBmFcCW3y/kRSm",
      "include_colab_link": true
    },
    "kernelspec": {
      "name": "python3",
      "display_name": "Python 3"
    }
  },
  "cells": [
    {
      "cell_type": "markdown",
      "metadata": {
        "id": "view-in-github",
        "colab_type": "text"
      },
      "source": [
        "<a href=\"https://colab.research.google.com/github/JakeOh/202011_itw_bd21/blob/main/lab_python/python06_exercise.ipynb\" target=\"_parent\"><img src=\"https://colab.research.google.com/assets/colab-badge.svg\" alt=\"Open In Colab\"/></a>"
      ]
    },
    {
      "cell_type": "markdown",
      "metadata": {
        "id": "7wUIPxS60wYu"
      },
      "source": [
        "# for-in 구문 연습"
      ]
    },
    {
      "cell_type": "code",
      "metadata": {
        "colab": {
          "base_uri": "https://localhost:8080/"
        },
        "id": "JMUhfpPi01pE",
        "outputId": "f9af32b4-03aa-4f1c-86c7-20e44772d334"
      },
      "source": [
        "# end 파라미터: 프린트가 끝난 후 어떤 동작을 할 것인지를 설정.\r\n",
        "# end='\\n': 줄바꿈(enter). 기본값.\r\n",
        "# '\\n': new line. 줄바꿈. 키보드 enter.\r\n",
        "# '\\t': tab. 탭. 키보드 tab.\r\n",
        "print('hello', end=' ')\r\n",
        "print('안녕하세요', end=' ')\r\n",
        "print('Hello Python!', end=' ')"
      ],
      "execution_count": null,
      "outputs": [
        {
          "output_type": "stream",
          "text": [
            "hello 안녕하세요 Hello Python! "
          ],
          "name": "stdout"
        }
      ]
    },
    {
      "cell_type": "code",
      "metadata": {
        "colab": {
          "base_uri": "https://localhost:8080/"
        },
        "id": "nj1oIXO20rIR",
        "outputId": "c25873c7-2060-43c7-f7f0-f4cf09aa5c0c"
      },
      "source": [
        "# sep 파라미터: 출력할 argument들을 어떤 문자(들)로 구분(separate)할지를 설정.\r\n",
        "# sep=' ': 공백(space 1개). 기본값\r\n",
        "print('hello', '안녕하세요', 'Python', sep='::')"
      ],
      "execution_count": null,
      "outputs": [
        {
          "output_type": "stream",
          "text": [
            "hello::안녕하세요::Python\n"
          ],
          "name": "stdout"
        }
      ]
    },
    {
      "cell_type": "markdown",
      "metadata": {
        "id": "fmtN0L053Qgm"
      },
      "source": [
        "## 동요를 불러볼까요?"
      ]
    },
    {
      "cell_type": "markdown",
      "metadata": {
        "id": "oumm4WgR3iis"
      },
      "source": [
        "아래와 같이 출력되도록 코드를 작성\r\n",
        "\r\n",
        "```\r\n",
        "1 little 2 little 3 little indian\r\n",
        "4 little 5 little 6 little indian\r\n",
        "7 little 8 little 9 little indian\r\n",
        "10 little indian boys!\r\n",
        "```\r\n"
      ]
    },
    {
      "cell_type": "code",
      "metadata": {
        "id": "SDTZ6GnJ3j7u",
        "colab": {
          "base_uri": "https://localhost:8080/"
        },
        "outputId": "667465eb-08e1-4832-a44e-b458ba5b2ed6"
      },
      "source": [
        "for n in range(1, 11):\r\n",
        "    print(n, 'little', end=' ')\r\n",
        "    if n % 3 == 0:  # n이 3, 6, 9이면\r\n",
        "        print('indian')\r\n",
        "\r\n",
        "print('indian boys!')"
      ],
      "execution_count": 9,
      "outputs": [
        {
          "output_type": "stream",
          "text": [
            "1 little 2 little 3 little indian\n",
            "4 little 5 little 6 little indian\n",
            "7 little 8 little 9 little indian\n",
            "10 little indian boys!\n"
          ],
          "name": "stdout"
        }
      ]
    },
    {
      "cell_type": "markdown",
      "metadata": {
        "id": "eEoiQtvj3kj2"
      },
      "source": [
        "## 369 게임을 해볼까요?"
      ]
    },
    {
      "cell_type": "markdown",
      "metadata": {
        "id": "QdvZc72j3oFM"
      },
      "source": [
        "아래와 같이 출력되도록 코드 작성\r\n",
        "\r\n",
        "```\r\n",
        "1  2  *  4  5  *  7  8  *  10\r\n",
        "11 12 *  14 15 *  17 18 *  20\r\n",
        "21 22 *  24 25 *  27 28 *  *\r\n",
        "*  *  *  *  *  *  *  *  *  40\r\n",
        "...\r\n",
        "81 82 *  84 85 *  87 88 *  * \r\n",
        "*  *  *  *  *  *  *  *  *  100\r\n",
        "```\r\n"
      ]
    },
    {
      "cell_type": "code",
      "metadata": {
        "id": "QuNq6wMU356c",
        "colab": {
          "base_uri": "https://localhost:8080/"
        },
        "outputId": "cfc728d7-67e3-425b-b8ed-623c3290dd0e"
      },
      "source": [
        "for n in range(1, 101):\r\n",
        "    print(n, end='\\t')\r\n",
        "\r\n",
        "    if n % 10 == 0:\r\n",
        "        print()  # end='\\n'"
      ],
      "execution_count": 13,
      "outputs": [
        {
          "output_type": "stream",
          "text": [
            "1\t2\t3\t4\t5\t6\t7\t8\t9\t10\t\n",
            "11\t12\t13\t14\t15\t16\t17\t18\t19\t20\t\n",
            "21\t22\t23\t24\t25\t26\t27\t28\t29\t30\t\n",
            "31\t32\t33\t34\t35\t36\t37\t38\t39\t40\t\n",
            "41\t42\t43\t44\t45\t46\t47\t48\t49\t50\t\n",
            "51\t52\t53\t54\t55\t56\t57\t58\t59\t60\t\n",
            "61\t62\t63\t64\t65\t66\t67\t68\t69\t70\t\n",
            "71\t72\t73\t74\t75\t76\t77\t78\t79\t80\t\n",
            "81\t82\t83\t84\t85\t86\t87\t88\t89\t90\t\n",
            "91\t92\t93\t94\t95\t96\t97\t98\t99\t100\t\n"
          ],
          "name": "stdout"
        }
      ]
    },
    {
      "cell_type": "markdown",
      "metadata": {
        "id": "5g5DcSK539dD"
      },
      "source": [
        "## 삼각형을 그려볼까요?"
      ]
    },
    {
      "cell_type": "markdown",
      "metadata": {
        "id": "NKLCR_L-4DVL"
      },
      "source": [
        "아래와 같이 출력되도록 코드 작성\r\n",
        "\r\n",
        "```\r\n",
        "*\r\n",
        "**\r\n",
        "***\r\n",
        "****\r\n",
        "*****\r\n",
        "****\r\n",
        "***\r\n",
        "**\r\n",
        "*\r\n",
        "```\r\n"
      ]
    },
    {
      "cell_type": "code",
      "metadata": {
        "id": "LnovBzlE387j"
      },
      "source": [
        ""
      ],
      "execution_count": null,
      "outputs": []
    }
  ]
}