{
  "nbformat": 4,
  "nbformat_minor": 0,
  "metadata": {
    "colab": {
      "name": "python21_function_ex.ipynb",
      "provenance": [],
      "collapsed_sections": [],
      "authorship_tag": "ABX9TyNO/du0EWzQCm7h5eJTCVWN",
      "include_colab_link": true
    },
    "kernelspec": {
      "name": "python3",
      "display_name": "Python 3"
    }
  },
  "cells": [
    {
      "cell_type": "markdown",
      "metadata": {
        "id": "view-in-github",
        "colab_type": "text"
      },
      "source": [
        "<a href=\"https://colab.research.google.com/github/JakeOh/202011_itw_bd21/blob/main/lab_python/python21_function_ex.ipynb\" target=\"_parent\"><img src=\"https://colab.research.google.com/assets/colab-badge.svg\" alt=\"Open In Colab\"/></a>"
      ]
    },
    {
      "cell_type": "markdown",
      "metadata": {
        "id": "ZIdLyU5KcRGE"
      },
      "source": [
        "# 1.\r\n",
        "`1**2 + 2**2 + 3**2 + ... + (n-1)**2 + n**2`의 값을 리턴하는 함수. n >= 0"
      ]
    },
    {
      "cell_type": "code",
      "metadata": {
        "id": "D9Luqgi7cJA3"
      },
      "source": [
        "def square_sum(n):\r\n",
        "    return n * (n + 1) * (2 * n + 1) / 6"
      ],
      "execution_count": 1,
      "outputs": []
    },
    {
      "cell_type": "code",
      "metadata": {
        "id": "KeDfv83uoBS_"
      },
      "source": [
        "def square_sum2(n):\r\n",
        "    return sum([n**2 for n in range(0, n + 1)])"
      ],
      "execution_count": 3,
      "outputs": []
    },
    {
      "cell_type": "code",
      "metadata": {
        "id": "0LQkg27SpOHY"
      },
      "source": [
        "def square_sum3(n):\r\n",
        "    result = 0\r\n",
        "    for x in range(0, n + 1):\r\n",
        "        result += x ** 2\r\n",
        "    \r\n",
        "    return result"
      ],
      "execution_count": 6,
      "outputs": []
    },
    {
      "cell_type": "code",
      "metadata": {
        "id": "Ka-o4-ZCprtw"
      },
      "source": [
        "def square_sum4(n):\r\n",
        "    result = 0\r\n",
        "    x = 0\r\n",
        "    while x <= n:\r\n",
        "        result += x ** 2\r\n",
        "        x += 1\r\n",
        "\r\n",
        "    return result"
      ],
      "execution_count": 8,
      "outputs": []
    },
    {
      "cell_type": "code",
      "metadata": {
        "id": "g-KquwiuqJxD"
      },
      "source": [
        "def square_sum5(n):\r\n",
        "    result = None\r\n",
        "    if n == 0:\r\n",
        "        result = 0\r\n",
        "    elif n > 0:\r\n",
        "        result = square_sum5(n - 1) + n ** 2\r\n",
        "\r\n",
        "    return result"
      ],
      "execution_count": 10,
      "outputs": []
    },
    {
      "cell_type": "code",
      "metadata": {
        "colab": {
          "base_uri": "https://localhost:8080/"
        },
        "id": "QrdRkB1Ont4Z",
        "outputId": "d95a74e6-bd12-484f-b75e-add28f74e02e"
      },
      "source": [
        "for n in range(5):\r\n",
        "    print(f'n={n}, square_sum={square_sum5(n)}')"
      ],
      "execution_count": 11,
      "outputs": [
        {
          "output_type": "stream",
          "text": [
            "n=0, square_sum=0\n",
            "n=1, square_sum=1\n",
            "n=2, square_sum=5\n",
            "n=3, square_sum=14\n",
            "n=4, square_sum=30\n"
          ],
          "name": "stdout"
        }
      ]
    },
    {
      "cell_type": "markdown",
      "metadata": {
        "id": "pKRQ4RM8c7sI"
      },
      "source": [
        "# 2.\r\n",
        "숫자들의 리스트가 주어졌을 때, 그 리스트에서 최댓값의 위치(index)를 리턴하는 함수."
      ]
    },
    {
      "cell_type": "code",
      "metadata": {
        "id": "Lm1XBiRjc3F-"
      },
      "source": [
        "def find_max_index(numbers):\r\n",
        "    # 1) 최댓값을 찾음\r\n",
        "    max_value = max(numbers)\r\n",
        "    # 2) 최대값의 인덱스를 찾음.\r\n",
        "    max_index = numbers.index(max_value)\r\n",
        "\r\n",
        "    return max_index"
      ],
      "execution_count": 12,
      "outputs": []
    },
    {
      "cell_type": "code",
      "metadata": {
        "id": "89MTxDcpthhw"
      },
      "source": [
        "def find_max_index2(numbers):\r\n",
        "    max_idx, max_val = 0, numbers[0]\r\n",
        "    for i, v in enumerate(numbers):\r\n",
        "        if v > max_val:\r\n",
        "            max_idx, max_val = i, v\r\n",
        "    \r\n",
        "    return max_idx"
      ],
      "execution_count": 14,
      "outputs": []
    },
    {
      "cell_type": "code",
      "metadata": {
        "id": "o6FwZzQeuzso"
      },
      "source": [
        "def find_max_index3(numbers):\r\n",
        "    max_idx, max_val = 0, numbers[0]\r\n",
        "    i = 0\r\n",
        "    while i < len(numbers):\r\n",
        "        if numbers[i] > max_val:\r\n",
        "            max_idx, max_val = i, numbers[i]\r\n",
        "        i += 1\r\n",
        "\r\n",
        "    return max_idx"
      ],
      "execution_count": 16,
      "outputs": []
    },
    {
      "cell_type": "code",
      "metadata": {
        "colab": {
          "base_uri": "https://localhost:8080/"
        },
        "id": "Jai_v2Tgr9Z8",
        "outputId": "e587ffa5-54f6-4919-97a6-c919d07d7f58"
      },
      "source": [
        "import random\r\n",
        "\r\n",
        "random.seed(42)\r\n",
        "numbers = [random.randrange(100) for _ in range(10)]\r\n",
        "print(numbers)\r\n",
        "max_idx = find_max_index3(numbers)\r\n",
        "print(max_idx)"
      ],
      "execution_count": 17,
      "outputs": [
        {
          "output_type": "stream",
          "text": [
            "[81, 14, 3, 94, 35, 31, 28, 17, 94, 13]\n",
            "3\n"
          ],
          "name": "stdout"
        }
      ]
    },
    {
      "cell_type": "markdown",
      "metadata": {
        "id": "ZzCdQ9KKdOiQ"
      },
      "source": [
        "# 3.\r\n",
        "숫자들의 리스트가 주어졌을 때, 그 리스트의 중앙값(median)을 리턴하는 함수.\r\n",
        "\r\n",
        "*   `sorted(list, reverse)` 함수는 list를 (오름차순/내림차순) 정렬한 새로운 리스트를 리턴함.\r\n",
        "*   `[1, 2, 3, 4, 5]`의 median = 3\r\n",
        "*   `[1, 2, 3, 4, 5, 6]`의 median = (3 + 4) / 2 = 3.5\r\n"
      ]
    },
    {
      "cell_type": "code",
      "metadata": {
        "id": "0QIcS_yveNDx"
      },
      "source": [
        "def find_median(numbers):\r\n",
        "    # 1) 리스트를 오름차순 정렬.\r\n",
        "    sorted_numbers = sorted(numbers)\r\n",
        "\r\n",
        "    # 2) 리스트의 중간 위치를 찾음 - 리스트의 원소의 개수가 홀수일 때와 짝수일 때를 고려\r\n",
        "    length = len(numbers)\r\n",
        "    mid = length // 2\r\n",
        "    if length % 2:  # 리스트의 원소의 개수가 홀수이면\r\n",
        "        median = sorted_numbers[mid]\r\n",
        "    else: # 리스트의 원소의 개수가 짝수이면\r\n",
        "        left = mid - 1\r\n",
        "        median = (sorted_numbers[left] + sorted_numbers[mid]) / 2\r\n",
        "\r\n",
        "    # 3) 찾은 중앙값을 리턴\r\n",
        "    return median"
      ],
      "execution_count": 22,
      "outputs": []
    },
    {
      "cell_type": "code",
      "metadata": {
        "colab": {
          "base_uri": "https://localhost:8080/"
        },
        "id": "CFbwatmQxlzR",
        "outputId": "2b8cc8e9-6b6e-403a-a37d-5addf6233ae5"
      },
      "source": [
        "random.seed(1)\r\n",
        "numbers = [random.randrange(100) for _ in range(9)]\r\n",
        "print(numbers)\r\n",
        "sorted_numbers = sorted(numbers)\r\n",
        "print(sorted_numbers)\r\n",
        "median = find_median(numbers)\r\n",
        "print(median)"
      ],
      "execution_count": 23,
      "outputs": [
        {
          "output_type": "stream",
          "text": [
            "[17, 72, 97, 8, 32, 15, 63, 97, 57]\n",
            "[8, 15, 17, 32, 57, 63, 72, 97, 97]\n",
            "57\n"
          ],
          "name": "stdout"
        }
      ]
    },
    {
      "cell_type": "code",
      "metadata": {
        "colab": {
          "base_uri": "https://localhost:8080/"
        },
        "id": "luWSieFg0he5",
        "outputId": "72b772d5-e56f-42a9-f276-7e0921fdd113"
      },
      "source": [
        "random.seed(123)\r\n",
        "numbers = [random.randrange(100) for _ in range(10)]\r\n",
        "print(numbers)\r\n",
        "sorted_numbers = sorted(numbers)\r\n",
        "print(sorted_numbers)\r\n",
        "median = find_median(numbers)\r\n",
        "print(median)"
      ],
      "execution_count": 24,
      "outputs": [
        {
          "output_type": "stream",
          "text": [
            "[6, 34, 11, 98, 52, 34, 13, 4, 48, 68]\n",
            "[4, 6, 11, 13, 34, 34, 48, 52, 68, 98]\n",
            "34.0\n"
          ],
          "name": "stdout"
        }
      ]
    }
  ]
}