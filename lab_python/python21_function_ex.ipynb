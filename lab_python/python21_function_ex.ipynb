{
  "nbformat": 4,
  "nbformat_minor": 0,
  "metadata": {
    "colab": {
      "name": "python21_function_ex.ipynb",
      "provenance": [],
      "collapsed_sections": [],
      "authorship_tag": "ABX9TyM9wC/GJMU0469NrNJ31HqM",
      "include_colab_link": true
    },
    "kernelspec": {
      "name": "python3",
      "display_name": "Python 3"
    }
  },
  "cells": [
    {
      "cell_type": "markdown",
      "metadata": {
        "id": "view-in-github",
        "colab_type": "text"
      },
      "source": [
        "<a href=\"https://colab.research.google.com/github/JakeOh/202011_itw_bd21/blob/main/lab_python/python21_function_ex.ipynb\" target=\"_parent\"><img src=\"https://colab.research.google.com/assets/colab-badge.svg\" alt=\"Open In Colab\"/></a>"
      ]
    },
    {
      "cell_type": "markdown",
      "metadata": {
        "id": "ZIdLyU5KcRGE"
      },
      "source": [
        "# 1.\r\n",
        "`1**2 + 2**2 + 3**2 + ... + (n-1)**2 + n**2`의 값을 리턴하는 함수. n >= 0"
      ]
    },
    {
      "cell_type": "code",
      "metadata": {
        "id": "D9Luqgi7cJA3"
      },
      "source": [
        ""
      ],
      "execution_count": null,
      "outputs": []
    },
    {
      "cell_type": "markdown",
      "metadata": {
        "id": "pKRQ4RM8c7sI"
      },
      "source": [
        "# 2.\r\n",
        "숫자들의 리스트가 주어졌을 때, 그 리스트에서 최댓값의 위치(index)를 리턴하는 함수."
      ]
    },
    {
      "cell_type": "code",
      "metadata": {
        "id": "Lm1XBiRjc3F-"
      },
      "source": [
        ""
      ],
      "execution_count": null,
      "outputs": []
    },
    {
      "cell_type": "markdown",
      "metadata": {
        "id": "ZzCdQ9KKdOiQ"
      },
      "source": [
        "# 3.\r\n",
        "숫자들의 리스트가 주어졌을 때, 그 리스트의 중앙값(median)을 리턴하는 함수.\r\n",
        "\r\n",
        "*   `sorted(list, reverse)` 함수는 list를 (오름차순/내림차순) 정렬한 새로운 리스트를 리턴함.\r\n",
        "*   `[1, 2, 3, 4, 5]`의 median = 3\r\n",
        "*   `[1, 2, 3, 4, 5, 6]`의 median = (3 + 4) / 2 = 3.5\r\n"
      ]
    },
    {
      "cell_type": "code",
      "metadata": {
        "id": "0QIcS_yveNDx"
      },
      "source": [
        ""
      ],
      "execution_count": null,
      "outputs": []
    }
  ]
}