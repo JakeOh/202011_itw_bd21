{
  "nbformat": 4,
  "nbformat_minor": 0,
  "metadata": {
    "colab": {
      "name": "python22_first_class_function.ipynb",
      "provenance": [],
      "collapsed_sections": [],
      "authorship_tag": "ABX9TyNWyKLyBp5EA1xYGw/hUUe+",
      "include_colab_link": true
    },
    "kernelspec": {
      "name": "python3",
      "display_name": "Python 3"
    }
  },
  "cells": [
    {
      "cell_type": "markdown",
      "metadata": {
        "id": "view-in-github",
        "colab_type": "text"
      },
      "source": [
        "<a href=\"https://colab.research.google.com/github/JakeOh/202011_itw_bd21/blob/main/lab_python/python22_first_class_function.ipynb\" target=\"_parent\"><img src=\"https://colab.research.google.com/assets/colab-badge.svg\" alt=\"Open In Colab\"/></a>"
      ]
    },
    {
      "cell_type": "markdown",
      "metadata": {
        "id": "ycR537Pl3SYq"
      },
      "source": [
        "**1급 객체(first-class object)로서의 함수(function)**\r\n",
        "\r\n",
        "*   함수는 변수에 저장할 수 있음.\r\n",
        "*   함수의 argument로 함수를 전달할 수 있음.\r\n",
        "*   함수가 함수를 반환(return)할 수 있음.\r\n",
        "*   함수는 내부에서 다른 함수를 정의할 수 있음."
      ]
    },
    {
      "cell_type": "code",
      "metadata": {
        "id": "kdcBg_LB3K2L"
      },
      "source": [
        "# 함수 정의(선언)\r\n",
        "def twice(x):\r\n",
        "    return 2 * x"
      ],
      "execution_count": 1,
      "outputs": []
    },
    {
      "cell_type": "code",
      "metadata": {
        "colab": {
          "base_uri": "https://localhost:8080/"
        },
        "id": "LD9fyaq845lQ",
        "outputId": "cfbef2d5-09e6-4da4-9e2d-8e49d2ac7501"
      },
      "source": [
        "# 함수 호출\r\n",
        "result = twice(4)  # 함수를 호출하고, 함수가 반환해주는 값을 변수 result에 저장.\r\n",
        "print(result)"
      ],
      "execution_count": 6,
      "outputs": [
        {
          "output_type": "stream",
          "text": [
            "8\n"
          ],
          "name": "stdout"
        }
      ]
    },
    {
      "cell_type": "code",
      "metadata": {
        "id": "b0G0LjqJ4_H_"
      },
      "source": [
        "x = 1  # 값 1을 변수에 할당.\r\n",
        "y = x  # 변수 x의 값을 변수 y에 할당"
      ],
      "execution_count": null,
      "outputs": []
    },
    {
      "cell_type": "code",
      "metadata": {
        "colab": {
          "base_uri": "https://localhost:8080/"
        },
        "id": "ABrnr0qs6cjo",
        "outputId": "bca9371c-bb71-4e38-9035-1b2f3804f408"
      },
      "source": [
        "double = twice  # 함수 twice를 변수 double에 저장.\r\n",
        "print(double)  # 변수 double은 function 객체.\r\n",
        "result = double(4)  # 함수 호출을 double 이름으로 할 수 있음.\r\n",
        "print(result)"
      ],
      "execution_count": 8,
      "outputs": [
        {
          "output_type": "stream",
          "text": [
            "<function twice at 0x7f6f866b7a60>\n",
            "8\n"
          ],
          "name": "stdout"
        }
      ]
    },
    {
      "cell_type": "code",
      "metadata": {
        "id": "Cx7_N6j08FEg"
      },
      "source": [
        "def plus(x, y):\r\n",
        "    return x + y"
      ],
      "execution_count": 9,
      "outputs": []
    },
    {
      "cell_type": "code",
      "metadata": {
        "id": "mL4N4qpb8JNh"
      },
      "source": [
        "def minus(x, y):\r\n",
        "    return x - y"
      ],
      "execution_count": 10,
      "outputs": []
    },
    {
      "cell_type": "code",
      "metadata": {
        "id": "U_L81WDg8MJn"
      },
      "source": [
        "def calculator(x, y, operator):\r\n",
        "    return operator(x, y)"
      ],
      "execution_count": 11,
      "outputs": []
    },
    {
      "cell_type": "code",
      "metadata": {
        "colab": {
          "base_uri": "https://localhost:8080/"
        },
        "id": "nfrMJx-U8X1m",
        "outputId": "cb7a35f6-32d6-454c-f87c-9ff13f7b4752"
      },
      "source": [
        "result = calculator(1, 2, plus)\r\n",
        "print(result)"
      ],
      "execution_count": 12,
      "outputs": [
        {
          "output_type": "stream",
          "text": [
            "3\n"
          ],
          "name": "stdout"
        }
      ]
    },
    {
      "cell_type": "code",
      "metadata": {
        "colab": {
          "base_uri": "https://localhost:8080/"
        },
        "id": "Fj26pp288n14",
        "outputId": "1552b079-62dd-4663-94a7-e186d054aeef"
      },
      "source": [
        "result = calculator(1, 2, minus)\r\n",
        "print(result)"
      ],
      "execution_count": 13,
      "outputs": [
        {
          "output_type": "stream",
          "text": [
            "-1\n"
          ],
          "name": "stdout"
        }
      ]
    },
    {
      "cell_type": "code",
      "metadata": {
        "id": "GeFlvFO-RmI-"
      },
      "source": [
        "def make_incrementor(n):\r\n",
        "    # 함수 내부에서 다른 함수를 정의(선언)할 수 있음.\r\n",
        "    # 내부 함수(inner function), 지역 함수(local function)\r\n",
        "    def add_n(x):\r\n",
        "        return x + n\r\n",
        "\r\n",
        "    return add_n  # 함수가 리턴 값이 될 수 있음."
      ],
      "execution_count": 16,
      "outputs": []
    },
    {
      "cell_type": "code",
      "metadata": {
        "colab": {
          "base_uri": "https://localhost:8080/"
        },
        "id": "7JgaxkNwSQdW",
        "outputId": "0a7483ea-78b9-4675-c5d1-21ce0244af39"
      },
      "source": [
        "increase_by2 = make_incrementor(2)\r\n",
        "print(increase_by2)\r\n",
        "result = increase_by2(5)\r\n",
        "print(result)"
      ],
      "execution_count": 18,
      "outputs": [
        {
          "output_type": "stream",
          "text": [
            "<function make_incrementor.<locals>.add_n at 0x7f6f7e8ad400>\n",
            "7\n"
          ],
          "name": "stdout"
        }
      ]
    },
    {
      "cell_type": "code",
      "metadata": {
        "colab": {
          "base_uri": "https://localhost:8080/"
        },
        "id": "-vvMXI6aTmlO",
        "outputId": "83826b5d-e62b-4c34-bb74-f78012309920"
      },
      "source": [
        "increase_by10 = make_incrementor(10)\r\n",
        "result = increase_by10(5)\r\n",
        "print(result)"
      ],
      "execution_count": 19,
      "outputs": [
        {
          "output_type": "stream",
          "text": [
            "15\n"
          ],
          "name": "stdout"
        }
      ]
    },
    {
      "cell_type": "markdown",
      "metadata": {
        "id": "gf8uGUfaVjqu"
      },
      "source": [
        "**람다 표현식(Lambda Expresseion)**\r\n",
        "\r\n",
        "*   이름이 없는 함수(anonymous function)\r\n",
        "*   함수 이름 없이, 함수의 parameter 선언과 반환 값(return value) 또는 반환 식(return expression)으로 함수를 표현하는 방법.\r\n",
        "*   `lambda param1, param2, ...: expression`"
      ]
    },
    {
      "cell_type": "code",
      "metadata": {
        "id": "yDnodsBGXKQe"
      },
      "source": [
        "plus = lambda x, y: x + y"
      ],
      "execution_count": 22,
      "outputs": []
    },
    {
      "cell_type": "code",
      "metadata": {
        "colab": {
          "base_uri": "https://localhost:8080/"
        },
        "id": "p_G7VFlnaFYV",
        "outputId": "b62b5e07-1e9a-42a2-b164-b4ab7a626003"
      },
      "source": [
        "print(plus)\r\n",
        "result = plus(11, 22)\r\n",
        "print(result)"
      ],
      "execution_count": 24,
      "outputs": [
        {
          "output_type": "stream",
          "text": [
            "<function <lambda> at 0x7f6f7e8a0b70>\n",
            "33\n"
          ],
          "name": "stdout"
        }
      ]
    },
    {
      "cell_type": "code",
      "metadata": {
        "colab": {
          "base_uri": "https://localhost:8080/"
        },
        "id": "SXQrPpXbfktG",
        "outputId": "5583b436-116f-43c1-a9a4-c715fce8606b"
      },
      "source": [
        "# f(x, y) = x - y\r\n",
        "minus = lambda x, y: x - y\r\n",
        "\r\n",
        "result = minus(10, 29)\r\n",
        "print(result)"
      ],
      "execution_count": 27,
      "outputs": [
        {
          "output_type": "stream",
          "text": [
            "-19\n"
          ],
          "name": "stdout"
        }
      ]
    },
    {
      "cell_type": "code",
      "metadata": {
        "colab": {
          "base_uri": "https://localhost:8080/"
        },
        "id": "x3FsjlSrgS5V",
        "outputId": "fffdee29-891e-4364-98ec-70ad48d89b9e"
      },
      "source": [
        "# f(x) = True if x is even number, False if x is odd number\r\n",
        "is_even = lambda x: True if x % 2 == 0 else False\r\n",
        "\r\n",
        "result = is_even(10)\r\n",
        "print(result)\r\n",
        "\r\n",
        "result = is_even(7)\r\n",
        "print(result)"
      ],
      "execution_count": 29,
      "outputs": [
        {
          "output_type": "stream",
          "text": [
            "True\n",
            "False\n"
          ],
          "name": "stdout"
        }
      ]
    },
    {
      "cell_type": "code",
      "metadata": {
        "colab": {
          "base_uri": "https://localhost:8080/"
        },
        "id": "qxE4SMmriuSF",
        "outputId": "07422689-7deb-44f0-caa9-6d742f833885"
      },
      "source": [
        "# def calculator(x, y, operator):\r\n",
        "#     return operator(x, y)\r\n",
        "\r\n",
        "# calculator 함수의 argument에 lambda expresion을 전달.\r\n",
        "result = calculator(1, 2, lambda x, y: x + y)\r\n",
        "print(result)"
      ],
      "execution_count": 30,
      "outputs": [
        {
          "output_type": "stream",
          "text": [
            "3\n"
          ],
          "name": "stdout"
        }
      ]
    },
    {
      "cell_type": "code",
      "metadata": {
        "colab": {
          "base_uri": "https://localhost:8080/"
        },
        "id": "Oixw9W5gkbDu",
        "outputId": "1d03f2be-a856-4e72-edc8-67135a12a1ec"
      },
      "source": [
        "result = calculator(1, 2, lambda x, y: x - y)\r\n",
        "print(result)"
      ],
      "execution_count": 33,
      "outputs": [
        {
          "output_type": "stream",
          "text": [
            "-1\n"
          ],
          "name": "stdout"
        }
      ]
    },
    {
      "cell_type": "code",
      "metadata": {
        "colab": {
          "base_uri": "https://localhost:8080/"
        },
        "id": "CUUhvi9Iks6Y",
        "outputId": "4b680fa7-f069-4862-abb7-73841133cb4e"
      },
      "source": [
        "result = calculator(2, 3, lambda x, y: x * y)\r\n",
        "print(result)"
      ],
      "execution_count": 34,
      "outputs": [
        {
          "output_type": "stream",
          "text": [
            "6\n"
          ],
          "name": "stdout"
        }
      ]
    },
    {
      "cell_type": "code",
      "metadata": {
        "colab": {
          "base_uri": "https://localhost:8080/"
        },
        "id": "ttrB_cQFkt_V",
        "outputId": "d284fbad-3d11-4657-f921-6af0ae150b24"
      },
      "source": [
        "result = calculator(x=2, y=3, operator=lambda x, y: x / y)\r\n",
        "print(result)"
      ],
      "execution_count": 36,
      "outputs": [
        {
          "output_type": "stream",
          "text": [
            "0.6666666666666666\n"
          ],
          "name": "stdout"
        }
      ]
    },
    {
      "cell_type": "code",
      "metadata": {
        "colab": {
          "base_uri": "https://localhost:8080/"
        },
        "id": "hF2gXFxJkzp1",
        "outputId": "84de59a0-0b75-429f-8f0d-21c1bd926d94"
      },
      "source": [
        "# calculator 함수와 lambda 표현식을 사용해서, x가 y보다 큰 지(True/False)를 확인\r\n",
        "result = calculator(x=2, y=1, operator=lambda x, y: x > y)\r\n",
        "# lambda x, y: True if x > y else False\r\n",
        "print(result)"
      ],
      "execution_count": 39,
      "outputs": [
        {
          "output_type": "stream",
          "text": [
            "True\n"
          ],
          "name": "stdout"
        }
      ]
    }
  ]
}