{
  "nbformat": 4,
  "nbformat_minor": 0,
  "metadata": {
    "colab": {
      "name": "python22_first_class_function.ipynb",
      "provenance": [],
      "collapsed_sections": [],
      "authorship_tag": "ABX9TyNbmvZo/SPmF1VkPQuNF0z3",
      "include_colab_link": true
    },
    "kernelspec": {
      "name": "python3",
      "display_name": "Python 3"
    }
  },
  "cells": [
    {
      "cell_type": "markdown",
      "metadata": {
        "id": "view-in-github",
        "colab_type": "text"
      },
      "source": [
        "<a href=\"https://colab.research.google.com/github/JakeOh/202011_itw_bd21/blob/main/lab_python/python22_first_class_function.ipynb\" target=\"_parent\"><img src=\"https://colab.research.google.com/assets/colab-badge.svg\" alt=\"Open In Colab\"/></a>"
      ]
    },
    {
      "cell_type": "markdown",
      "metadata": {
        "id": "ycR537Pl3SYq"
      },
      "source": [
        "**1급 객체(first-class object)로서의 함수(function)**\r\n",
        "\r\n",
        "*   함수는 변수에 저장할 수 있음.\r\n",
        "*   함수의 argument로 함수를 전달할 수 있음.\r\n",
        "*   함수가 함수를 반환(return)할 수 있음.\r\n",
        "*   함수는 내부에서 다른 함수를 정의할 수 있음."
      ]
    },
    {
      "cell_type": "code",
      "metadata": {
        "id": "kdcBg_LB3K2L"
      },
      "source": [
        "# 함수 정의(선언)\r\n",
        "def twice(x):\r\n",
        "    return 2 * x"
      ],
      "execution_count": 1,
      "outputs": []
    },
    {
      "cell_type": "code",
      "metadata": {
        "colab": {
          "base_uri": "https://localhost:8080/"
        },
        "id": "LD9fyaq845lQ",
        "outputId": "cfbef2d5-09e6-4da4-9e2d-8e49d2ac7501"
      },
      "source": [
        "# 함수 호출\r\n",
        "result = twice(4)  # 함수를 호출하고, 함수가 반환해주는 값을 변수 result에 저장.\r\n",
        "print(result)"
      ],
      "execution_count": 6,
      "outputs": [
        {
          "output_type": "stream",
          "text": [
            "8\n"
          ],
          "name": "stdout"
        }
      ]
    },
    {
      "cell_type": "code",
      "metadata": {
        "id": "b0G0LjqJ4_H_"
      },
      "source": [
        "x = 1  # 값 1을 변수에 할당.\r\n",
        "y = x  # 변수 x의 값을 변수 y에 할당"
      ],
      "execution_count": null,
      "outputs": []
    },
    {
      "cell_type": "code",
      "metadata": {
        "colab": {
          "base_uri": "https://localhost:8080/"
        },
        "id": "ABrnr0qs6cjo",
        "outputId": "bca9371c-bb71-4e38-9035-1b2f3804f408"
      },
      "source": [
        "double = twice  # 함수 twice를 변수 double에 저장.\r\n",
        "print(double)  # 변수 double은 function 객체.\r\n",
        "result = double(4)  # 함수 호출을 double 이름으로 할 수 있음.\r\n",
        "print(result)"
      ],
      "execution_count": 8,
      "outputs": [
        {
          "output_type": "stream",
          "text": [
            "<function twice at 0x7f6f866b7a60>\n",
            "8\n"
          ],
          "name": "stdout"
        }
      ]
    },
    {
      "cell_type": "code",
      "metadata": {
        "id": "Cx7_N6j08FEg"
      },
      "source": [
        "def plus(x, y):\r\n",
        "    return x + y"
      ],
      "execution_count": 9,
      "outputs": []
    },
    {
      "cell_type": "code",
      "metadata": {
        "id": "mL4N4qpb8JNh"
      },
      "source": [
        "def minus(x, y):\r\n",
        "    return x - y"
      ],
      "execution_count": 10,
      "outputs": []
    },
    {
      "cell_type": "code",
      "metadata": {
        "id": "U_L81WDg8MJn"
      },
      "source": [
        "def calculator(x, y, operator):\r\n",
        "    return operator(x, y)"
      ],
      "execution_count": 11,
      "outputs": []
    },
    {
      "cell_type": "code",
      "metadata": {
        "colab": {
          "base_uri": "https://localhost:8080/"
        },
        "id": "nfrMJx-U8X1m",
        "outputId": "cb7a35f6-32d6-454c-f87c-9ff13f7b4752"
      },
      "source": [
        "result = calculator(1, 2, plus)\r\n",
        "print(result)"
      ],
      "execution_count": 12,
      "outputs": [
        {
          "output_type": "stream",
          "text": [
            "3\n"
          ],
          "name": "stdout"
        }
      ]
    },
    {
      "cell_type": "code",
      "metadata": {
        "colab": {
          "base_uri": "https://localhost:8080/"
        },
        "id": "Fj26pp288n14",
        "outputId": "1552b079-62dd-4663-94a7-e186d054aeef"
      },
      "source": [
        "result = calculator(1, 2, minus)\r\n",
        "print(result)"
      ],
      "execution_count": 13,
      "outputs": [
        {
          "output_type": "stream",
          "text": [
            "-1\n"
          ],
          "name": "stdout"
        }
      ]
    }
  ]
}