{
  "nbformat": 4,
  "nbformat_minor": 0,
  "metadata": {
    "colab": {
      "name": "python19_function.ipynb",
      "provenance": [],
      "collapsed_sections": [],
      "authorship_tag": "ABX9TyPTiTIfcT/OT/5pwJflEYg+",
      "include_colab_link": true
    },
    "kernelspec": {
      "name": "python3",
      "display_name": "Python 3"
    }
  },
  "cells": [
    {
      "cell_type": "markdown",
      "metadata": {
        "id": "view-in-github",
        "colab_type": "text"
      },
      "source": [
        "<a href=\"https://colab.research.google.com/github/JakeOh/202011_itw_bd21/blob/main/lab_python/python19_function.ipynb\" target=\"_parent\"><img src=\"https://colab.research.google.com/assets/colab-badge.svg\" alt=\"Open In Colab\"/></a>"
      ]
    },
    {
      "cell_type": "markdown",
      "metadata": {
        "id": "Hj1DUl__vOYZ"
      },
      "source": [
        "**default argument**\r\n",
        "\r\n",
        "*   함수를 정의(선언)할 때, parameter에 설정된 기본값.\r\n",
        "*   함수를 호출할 때 default argument를 가지고 있는 parameter에 값을 전달하지 않으면, default argument가 사용됨.\r\n",
        "*   함수를 호출할 때 default argument를 가지고 있는 parameter에 값을 전달하면, default argument는 무시되고 전달된 값이 사용됨.\r\n"
      ]
    },
    {
      "cell_type": "code",
      "metadata": {
        "id": "fcnlRKmyvClH"
      },
      "source": [
        "def repeat_message(msg, count=1):\r\n",
        "    print(msg * count)"
      ],
      "execution_count": 1,
      "outputs": []
    },
    {
      "cell_type": "code",
      "metadata": {
        "colab": {
          "base_uri": "https://localhost:8080/"
        },
        "id": "uDDM02_hwswY",
        "outputId": "8b76582e-6ffb-40db-fbf7-a0ab7d21e1a5"
      },
      "source": [
        "repeat_message('안녕하세요!')"
      ],
      "execution_count": 2,
      "outputs": [
        {
          "output_type": "stream",
          "text": [
            "안녕하세요!\n"
          ],
          "name": "stdout"
        }
      ]
    },
    {
      "cell_type": "code",
      "metadata": {
        "colab": {
          "base_uri": "https://localhost:8080/"
        },
        "id": "dzQjP3Bswxao",
        "outputId": "db3d1c0b-a215-41d8-b9df-4d130d2da36f"
      },
      "source": [
        "repeat_message('안녕하세요!', 5)"
      ],
      "execution_count": 3,
      "outputs": [
        {
          "output_type": "stream",
          "text": [
            "안녕하세요!안녕하세요!안녕하세요!안녕하세요!안녕하세요!\n"
          ],
          "name": "stdout"
        }
      ]
    },
    {
      "cell_type": "markdown",
      "metadata": {
        "id": "GOTHopIAxutY"
      },
      "source": [
        "**(주의)**\r\n",
        "\r\n",
        "*   함수를 정의할 때, default argument를 갖는 파라미터들은 ***반드시 default 값이 없는 파라미터들 뒤***에 선언해야 함!"
      ]
    },
    {
      "cell_type": "code",
      "metadata": {
        "id": "Cxhe2mBcxIWR"
      },
      "source": [
        "def test(x, y=1):\r\n",
        "    return x / y\r\n",
        "#> 에러 없음    "
      ],
      "execution_count": 4,
      "outputs": []
    },
    {
      "cell_type": "code",
      "metadata": {
        "colab": {
          "base_uri": "https://localhost:8080/",
          "height": 153
        },
        "id": "bMa5RCG7yby4",
        "outputId": "4dd85528-771b-410f-9b4f-2e95a1e66f30"
      },
      "source": [
        "def test2(x=1, y):\r\n",
        "    return x / y\r\n",
        "#> SyntaxError"
      ],
      "execution_count": 5,
      "outputs": [
        {
          "output_type": "error",
          "ename": "SyntaxError",
          "evalue": "ignored",
          "traceback": [
            "\u001b[0;36m  File \u001b[0;32m\"<ipython-input-5-c0693db52b02>\"\u001b[0;36m, line \u001b[0;32m1\u001b[0m\n\u001b[0;31m    def test2(x=1, y):\u001b[0m\n\u001b[0m             ^\u001b[0m\n\u001b[0;31mSyntaxError\u001b[0m\u001b[0;31m:\u001b[0m non-default argument follows default argument\n"
          ]
        }
      ]
    },
    {
      "cell_type": "code",
      "metadata": {
        "id": "1xvoUzneylTP"
      },
      "source": [
        ""
      ],
      "execution_count": null,
      "outputs": []
    }
  ]
}