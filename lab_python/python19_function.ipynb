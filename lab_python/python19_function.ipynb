{
  "nbformat": 4,
  "nbformat_minor": 0,
  "metadata": {
    "colab": {
      "name": "python19_function.ipynb",
      "provenance": [],
      "collapsed_sections": [],
      "authorship_tag": "ABX9TyNETtu8GOtrZAd65VJNIZCi",
      "include_colab_link": true
    },
    "kernelspec": {
      "name": "python3",
      "display_name": "Python 3"
    }
  },
  "cells": [
    {
      "cell_type": "markdown",
      "metadata": {
        "id": "view-in-github",
        "colab_type": "text"
      },
      "source": [
        "<a href=\"https://colab.research.google.com/github/JakeOh/202011_itw_bd21/blob/main/lab_python/python19_function.ipynb\" target=\"_parent\"><img src=\"https://colab.research.google.com/assets/colab-badge.svg\" alt=\"Open In Colab\"/></a>"
      ]
    },
    {
      "cell_type": "markdown",
      "metadata": {
        "id": "Hj1DUl__vOYZ"
      },
      "source": [
        "**default argument**\r\n",
        "\r\n",
        "*   함수를 정의(선언)할 때, parameter에 설정된 기본값.\r\n",
        "*   함수를 호출할 때 default argument를 가지고 있는 parameter에 값을 전달하지 않으면, default argument가 사용됨.\r\n",
        "*   함수를 호출할 때 default argument를 가지고 있는 parameter에 값을 전달하면, default argument는 무시되고 전달된 값이 사용됨.\r\n"
      ]
    },
    {
      "cell_type": "code",
      "metadata": {
        "id": "fcnlRKmyvClH"
      },
      "source": [
        "def repeat_message(msg, count=1):\r\n",
        "    print(msg * count)"
      ],
      "execution_count": 1,
      "outputs": []
    },
    {
      "cell_type": "code",
      "metadata": {
        "colab": {
          "base_uri": "https://localhost:8080/"
        },
        "id": "uDDM02_hwswY",
        "outputId": "8b76582e-6ffb-40db-fbf7-a0ab7d21e1a5"
      },
      "source": [
        "repeat_message('안녕하세요!')"
      ],
      "execution_count": 2,
      "outputs": [
        {
          "output_type": "stream",
          "text": [
            "안녕하세요!\n"
          ],
          "name": "stdout"
        }
      ]
    },
    {
      "cell_type": "code",
      "metadata": {
        "colab": {
          "base_uri": "https://localhost:8080/"
        },
        "id": "dzQjP3Bswxao",
        "outputId": "db3d1c0b-a215-41d8-b9df-4d130d2da36f"
      },
      "source": [
        "repeat_message('안녕하세요!', 5)"
      ],
      "execution_count": 3,
      "outputs": [
        {
          "output_type": "stream",
          "text": [
            "안녕하세요!안녕하세요!안녕하세요!안녕하세요!안녕하세요!\n"
          ],
          "name": "stdout"
        }
      ]
    },
    {
      "cell_type": "markdown",
      "metadata": {
        "id": "GOTHopIAxutY"
      },
      "source": [
        "**(주의)**\r\n",
        "\r\n",
        "*   함수를 정의할 때, default argument를 갖는 파라미터들은 ***반드시 default 값이 없는 파라미터들 뒤***에 선언해야 함!"
      ]
    },
    {
      "cell_type": "code",
      "metadata": {
        "id": "Cxhe2mBcxIWR"
      },
      "source": [
        "def test(x, y=1):\r\n",
        "    return x / y\r\n",
        "#> 에러 없음    "
      ],
      "execution_count": 4,
      "outputs": []
    },
    {
      "cell_type": "code",
      "metadata": {
        "colab": {
          "base_uri": "https://localhost:8080/",
          "height": 153
        },
        "id": "bMa5RCG7yby4",
        "outputId": "4dd85528-771b-410f-9b4f-2e95a1e66f30"
      },
      "source": [
        "def test2(x=1, y):\r\n",
        "    return x / y\r\n",
        "#> SyntaxError"
      ],
      "execution_count": 5,
      "outputs": [
        {
          "output_type": "error",
          "ename": "SyntaxError",
          "evalue": "ignored",
          "traceback": [
            "\u001b[0;36m  File \u001b[0;32m\"<ipython-input-5-c0693db52b02>\"\u001b[0;36m, line \u001b[0;32m1\u001b[0m\n\u001b[0;31m    def test2(x=1, y):\u001b[0m\n\u001b[0m             ^\u001b[0m\n\u001b[0;31mSyntaxError\u001b[0m\u001b[0;31m:\u001b[0m non-default argument follows default argument\n"
          ]
        }
      ]
    },
    {
      "cell_type": "markdown",
      "metadata": {
        "id": "OFUaHHHDGpuJ"
      },
      "source": [
        "함수를 호출할 때 argument를 전달하는 방법:\r\n",
        "\r\n",
        "*   **positional argument**: 함수에 정의(선언)된 parameter 순서대로 argument를 전달하는 방식\r\n",
        "*   **keyword argument**: 함수를 호출할 때 param=value와 같은 형식으로 argument를 전달하는 방식\r\n",
        "*   keyword argument 방식으로 argument들을 전달할 때는 함수에 정의(선언)된 parameter 순서를 지키지 않아도 괜찮음."
      ]
    },
    {
      "cell_type": "code",
      "metadata": {
        "id": "1xvoUzneylTP"
      },
      "source": [
        "def minus(x: float, y: float) -> float:\r\n",
        "    return x - y"
      ],
      "execution_count": 6,
      "outputs": []
    },
    {
      "cell_type": "code",
      "metadata": {
        "colab": {
          "base_uri": "https://localhost:8080/"
        },
        "id": "d6Hq-wlWIbqn",
        "outputId": "22496927-5e35-4bbe-eaad-1a824606fa2c"
      },
      "source": [
        "# positional argument 호출\r\n",
        "minus(1, 2)"
      ],
      "execution_count": 7,
      "outputs": [
        {
          "output_type": "execute_result",
          "data": {
            "text/plain": [
              "-1"
            ]
          },
          "metadata": {
            "tags": []
          },
          "execution_count": 7
        }
      ]
    },
    {
      "cell_type": "code",
      "metadata": {
        "colab": {
          "base_uri": "https://localhost:8080/"
        },
        "id": "HzKKYvwFI1jH",
        "outputId": "78152a9e-11dc-4a8b-fc3c-fbe01420ecfb"
      },
      "source": [
        "# keyword argument 호출\r\n",
        "minus(x=10, y=20)"
      ],
      "execution_count": 8,
      "outputs": [
        {
          "output_type": "execute_result",
          "data": {
            "text/plain": [
              "-10"
            ]
          },
          "metadata": {
            "tags": []
          },
          "execution_count": 8
        }
      ]
    },
    {
      "cell_type": "code",
      "metadata": {
        "colab": {
          "base_uri": "https://localhost:8080/"
        },
        "id": "PlaL-miSJRYY",
        "outputId": "bf38f057-7495-4d3e-bed0-c9d7663351e8"
      },
      "source": [
        "# keyword argument 호출은 parameter 순서를 지키지 않아도 됨.\r\n",
        "minus(y=10, x=20)"
      ],
      "execution_count": 9,
      "outputs": [
        {
          "output_type": "execute_result",
          "data": {
            "text/plain": [
              "10"
            ]
          },
          "metadata": {
            "tags": []
          },
          "execution_count": 9
        }
      ]
    },
    {
      "cell_type": "code",
      "metadata": {
        "colab": {
          "base_uri": "https://localhost:8080/"
        },
        "id": "_q16GKyBJpHX",
        "outputId": "6fe3aaa9-448a-4ad3-cfae-daa09e9d9708"
      },
      "source": [
        "# positional argument, keyword argument 혼용\r\n",
        "minus(100, y=99)"
      ],
      "execution_count": 10,
      "outputs": [
        {
          "output_type": "execute_result",
          "data": {
            "text/plain": [
              "1"
            ]
          },
          "metadata": {
            "tags": []
          },
          "execution_count": 10
        }
      ]
    },
    {
      "cell_type": "code",
      "metadata": {
        "colab": {
          "base_uri": "https://localhost:8080/",
          "height": 153
        },
        "id": "oDcNO_q8J28E",
        "outputId": "83d4e9e1-f91b-44f8-9f5c-bc1d8e72156c"
      },
      "source": [
        "minus(x=99, 100)\r\n",
        "#> SyntaxError\r\n",
        "# keyword argument들은 \"반드시\" positional argument들 뒤에 위치해야 함!"
      ],
      "execution_count": 12,
      "outputs": [
        {
          "output_type": "error",
          "ename": "SyntaxError",
          "evalue": "ignored",
          "traceback": [
            "\u001b[0;36m  File \u001b[0;32m\"<ipython-input-12-f327e72891f3>\"\u001b[0;36m, line \u001b[0;32m1\u001b[0m\n\u001b[0;31m    minus(x=99, 100)\u001b[0m\n\u001b[0m               ^\u001b[0m\n\u001b[0;31mSyntaxError\u001b[0m\u001b[0;31m:\u001b[0m positional argument follows keyword argument\n"
          ]
        }
      ]
    },
    {
      "cell_type": "code",
      "metadata": {
        "id": "T8aKnvLsLjaf"
      },
      "source": [
        "import random"
      ],
      "execution_count": 13,
      "outputs": []
    },
    {
      "cell_type": "code",
      "metadata": {
        "id": "qJiH7XaJLWrn"
      },
      "source": [
        "def make_list(n: int, start: int=0, end: int=10) -> list:\r\n",
        "    return [random.randrange(start, end) for _ in range(n)]"
      ],
      "execution_count": 14,
      "outputs": []
    },
    {
      "cell_type": "code",
      "metadata": {
        "colab": {
          "base_uri": "https://localhost:8080/"
        },
        "id": "dnTcTgkxLtXu",
        "outputId": "b1b957b8-307d-4378-b8cc-4bc45933fbf3"
      },
      "source": [
        "make_list(10)  # positional argument"
      ],
      "execution_count": 15,
      "outputs": [
        {
          "output_type": "execute_result",
          "data": {
            "text/plain": [
              "[2, 2, 9, 2, 3, 7, 2, 0, 2, 3]"
            ]
          },
          "metadata": {
            "tags": []
          },
          "execution_count": 15
        }
      ]
    },
    {
      "cell_type": "code",
      "metadata": {
        "colab": {
          "base_uri": "https://localhost:8080/"
        },
        "id": "do3oI-dOMDEn",
        "outputId": "41af56e1-5aba-48aa-bbc1-226e0c5f697a"
      },
      "source": [
        "make_list(n=10)  # keyword argument"
      ],
      "execution_count": 16,
      "outputs": [
        {
          "output_type": "execute_result",
          "data": {
            "text/plain": [
              "[9, 8, 8, 8, 6, 5, 4, 0, 9, 8]"
            ]
          },
          "metadata": {
            "tags": []
          },
          "execution_count": 16
        }
      ]
    },
    {
      "cell_type": "code",
      "metadata": {
        "colab": {
          "base_uri": "https://localhost:8080/"
        },
        "id": "1e4pk-h8MQ9U",
        "outputId": "e75ff3c3-2a62-4536-c456-0a2971951b31"
      },
      "source": [
        "make_list(10, 0, 100)  # positional argument"
      ],
      "execution_count": 17,
      "outputs": [
        {
          "output_type": "execute_result",
          "data": {
            "text/plain": [
              "[17, 93, 97, 82, 15, 50, 22, 74, 23, 9]"
            ]
          },
          "metadata": {
            "tags": []
          },
          "execution_count": 17
        }
      ]
    },
    {
      "cell_type": "code",
      "metadata": {
        "colab": {
          "base_uri": "https://localhost:8080/"
        },
        "id": "s_5FbhhGMkLn",
        "outputId": "00900b0b-79fa-45b0-fb0c-e3d59009511c"
      },
      "source": [
        "make_list(10, end=100)  # positional/keyword 혼용"
      ],
      "execution_count": 18,
      "outputs": [
        {
          "output_type": "execute_result",
          "data": {
            "text/plain": [
              "[43, 72, 18, 52, 49, 7, 37, 47, 39, 35]"
            ]
          },
          "metadata": {
            "tags": []
          },
          "execution_count": 18
        }
      ]
    },
    {
      "cell_type": "code",
      "metadata": {
        "colab": {
          "base_uri": "https://localhost:8080/"
        },
        "id": "sLNScUq7NCX3",
        "outputId": "8a17832a-4dd4-4cca-eb9f-bbfdd85e4ada"
      },
      "source": [
        "make_list(10, -10)"
      ],
      "execution_count": 19,
      "outputs": [
        {
          "output_type": "execute_result",
          "data": {
            "text/plain": [
              "[6, -8, 1, 3, 8, 6, 4, 8, 4, 2]"
            ]
          },
          "metadata": {
            "tags": []
          },
          "execution_count": 19
        }
      ]
    },
    {
      "cell_type": "code",
      "metadata": {
        "colab": {
          "base_uri": "https://localhost:8080/",
          "height": 195
        },
        "id": "olqhR1zLNX9W",
        "outputId": "840d40bb-7036-4f76-e73d-12b5fb789ce1"
      },
      "source": [
        "make_list(start=-10, end=10)\r\n",
        "#> TypeError"
      ],
      "execution_count": 20,
      "outputs": [
        {
          "output_type": "error",
          "ename": "TypeError",
          "evalue": "ignored",
          "traceback": [
            "\u001b[0;31m---------------------------------------------------------------------------\u001b[0m",
            "\u001b[0;31mTypeError\u001b[0m                                 Traceback (most recent call last)",
            "\u001b[0;32m<ipython-input-20-9ecdf0cf2eca>\u001b[0m in \u001b[0;36m<module>\u001b[0;34m()\u001b[0m\n\u001b[0;32m----> 1\u001b[0;31m \u001b[0mmake_list\u001b[0m\u001b[0;34m(\u001b[0m\u001b[0mstart\u001b[0m\u001b[0;34m=\u001b[0m\u001b[0;34m-\u001b[0m\u001b[0;36m10\u001b[0m\u001b[0;34m,\u001b[0m \u001b[0mend\u001b[0m\u001b[0;34m=\u001b[0m\u001b[0;36m10\u001b[0m\u001b[0;34m)\u001b[0m\u001b[0;34m\u001b[0m\u001b[0;34m\u001b[0m\u001b[0m\n\u001b[0m",
            "\u001b[0;31mTypeError\u001b[0m: make_list() missing 1 required positional argument: 'n'"
          ]
        }
      ]
    },
    {
      "cell_type": "markdown",
      "metadata": {
        "id": "TCAAD6sAOhdn"
      },
      "source": [
        "**가변길이 인수(variable-length/arbitrary-length arguments)**\r\n",
        "\r\n",
        "*   함수를 호출할 때 전달하는 argument의 개수가 변할 수 있는 것.(argument 개수 제한이 없음.)\r\n",
        "*   함수를 정의(선언)할 때, parameter 이름 앞에 `*`를 쓰면 가변길이 인수가 됨.\r\n",
        "*   함수 내부(본문)에서는 가변길이 인수는 tuple로 간주함.\r\n",
        "    *   가변길이 인수는 인덱스(index)를 사용할 수 있음.\r\n",
        "    *   가변길이 인수는 for-in 구문에서 사용할 수 있음."
      ]
    },
    {
      "cell_type": "code",
      "metadata": {
        "colab": {
          "base_uri": "https://localhost:8080/"
        },
        "id": "3-SCwGcGOzzP",
        "outputId": "44a1c517-b418-4399-a452-3f90e532a168"
      },
      "source": [
        "print('hello')\r\n",
        "print('hello', '안녕')\r\n",
        "print('hello', '안녕', 'bon jour')\r\n",
        "print()"
      ],
      "execution_count": 24,
      "outputs": [
        {
          "output_type": "stream",
          "text": [
            "hello\n",
            "hello 안녕\n",
            "hello 안녕 bon jour\n",
            "\n"
          ],
          "name": "stdout"
        }
      ]
    }
  ]
}