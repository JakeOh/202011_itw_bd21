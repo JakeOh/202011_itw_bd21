{
  "nbformat": 4,
  "nbformat_minor": 0,
  "metadata": {
    "colab": {
      "name": "python19_function.ipynb",
      "provenance": [],
      "collapsed_sections": [],
      "authorship_tag": "ABX9TyN4e2la+9t8ZPLQeIMlKXiu",
      "include_colab_link": true
    },
    "kernelspec": {
      "name": "python3",
      "display_name": "Python 3"
    }
  },
  "cells": [
    {
      "cell_type": "markdown",
      "metadata": {
        "id": "view-in-github",
        "colab_type": "text"
      },
      "source": [
        "<a href=\"https://colab.research.google.com/github/JakeOh/202011_itw_bd21/blob/main/lab_python/python19_function.ipynb\" target=\"_parent\"><img src=\"https://colab.research.google.com/assets/colab-badge.svg\" alt=\"Open In Colab\"/></a>"
      ]
    },
    {
      "cell_type": "markdown",
      "metadata": {
        "id": "Hj1DUl__vOYZ"
      },
      "source": [
        "**default argument**\r\n",
        "\r\n",
        "*   함수를 정의(선언)할 때, parameter에 설정된 기본값.\r\n",
        "*   함수를 호출할 때 default argument를 가지고 있는 parameter에 값을 전달하지 않으면, default argument가 사용됨.\r\n",
        "*   함수를 호출할 때 default argument를 가지고 있는 parameter에 값을 전달하면, default argument는 무시되고 전달된 값이 사용됨.\r\n"
      ]
    },
    {
      "cell_type": "code",
      "metadata": {
        "id": "fcnlRKmyvClH"
      },
      "source": [
        "def repeat_message(msg, count=1):\r\n",
        "    print(msg * count)"
      ],
      "execution_count": 1,
      "outputs": []
    },
    {
      "cell_type": "code",
      "metadata": {
        "colab": {
          "base_uri": "https://localhost:8080/"
        },
        "id": "uDDM02_hwswY",
        "outputId": "8b76582e-6ffb-40db-fbf7-a0ab7d21e1a5"
      },
      "source": [
        "repeat_message('안녕하세요!')"
      ],
      "execution_count": 2,
      "outputs": [
        {
          "output_type": "stream",
          "text": [
            "안녕하세요!\n"
          ],
          "name": "stdout"
        }
      ]
    },
    {
      "cell_type": "code",
      "metadata": {
        "colab": {
          "base_uri": "https://localhost:8080/"
        },
        "id": "dzQjP3Bswxao",
        "outputId": "db3d1c0b-a215-41d8-b9df-4d130d2da36f"
      },
      "source": [
        "repeat_message('안녕하세요!', 5)"
      ],
      "execution_count": 3,
      "outputs": [
        {
          "output_type": "stream",
          "text": [
            "안녕하세요!안녕하세요!안녕하세요!안녕하세요!안녕하세요!\n"
          ],
          "name": "stdout"
        }
      ]
    },
    {
      "cell_type": "markdown",
      "metadata": {
        "id": "GOTHopIAxutY"
      },
      "source": [
        "**(주의)**\r\n",
        "\r\n",
        "*   함수를 정의할 때, default argument를 갖는 파라미터들은 ***반드시 default 값이 없는 파라미터들 뒤***에 선언해야 함!"
      ]
    },
    {
      "cell_type": "code",
      "metadata": {
        "id": "Cxhe2mBcxIWR"
      },
      "source": [
        "def test(x, y=1):\r\n",
        "    return x / y\r\n",
        "#> 에러 없음    "
      ],
      "execution_count": 4,
      "outputs": []
    },
    {
      "cell_type": "code",
      "metadata": {
        "colab": {
          "base_uri": "https://localhost:8080/",
          "height": 153
        },
        "id": "bMa5RCG7yby4",
        "outputId": "4dd85528-771b-410f-9b4f-2e95a1e66f30"
      },
      "source": [
        "def test2(x=1, y):\r\n",
        "    return x / y\r\n",
        "#> SyntaxError"
      ],
      "execution_count": 5,
      "outputs": [
        {
          "output_type": "error",
          "ename": "SyntaxError",
          "evalue": "ignored",
          "traceback": [
            "\u001b[0;36m  File \u001b[0;32m\"<ipython-input-5-c0693db52b02>\"\u001b[0;36m, line \u001b[0;32m1\u001b[0m\n\u001b[0;31m    def test2(x=1, y):\u001b[0m\n\u001b[0m             ^\u001b[0m\n\u001b[0;31mSyntaxError\u001b[0m\u001b[0;31m:\u001b[0m non-default argument follows default argument\n"
          ]
        }
      ]
    },
    {
      "cell_type": "markdown",
      "metadata": {
        "id": "OFUaHHHDGpuJ"
      },
      "source": [
        "함수를 호출할 때 argument를 전달하는 방법:\r\n",
        "\r\n",
        "*   **positional argument**: 함수에 정의(선언)된 parameter 순서대로 argument를 전달하는 방식\r\n",
        "*   **keyword argument**: 함수를 호출할 때 param=value와 같은 형식으로 argument를 전달하는 방식\r\n",
        "*   keyword argument 방식으로 argument들을 전달할 때는 함수에 정의(선언)된 parameter 순서를 지키지 않아도 괜찮음."
      ]
    },
    {
      "cell_type": "code",
      "metadata": {
        "id": "1xvoUzneylTP"
      },
      "source": [
        "def minus(x: float, y: float) -> float:\r\n",
        "    return x - y"
      ],
      "execution_count": 6,
      "outputs": []
    },
    {
      "cell_type": "code",
      "metadata": {
        "colab": {
          "base_uri": "https://localhost:8080/"
        },
        "id": "d6Hq-wlWIbqn",
        "outputId": "22496927-5e35-4bbe-eaad-1a824606fa2c"
      },
      "source": [
        "# positional argument 호출\r\n",
        "minus(1, 2)"
      ],
      "execution_count": 7,
      "outputs": [
        {
          "output_type": "execute_result",
          "data": {
            "text/plain": [
              "-1"
            ]
          },
          "metadata": {
            "tags": []
          },
          "execution_count": 7
        }
      ]
    },
    {
      "cell_type": "code",
      "metadata": {
        "colab": {
          "base_uri": "https://localhost:8080/"
        },
        "id": "HzKKYvwFI1jH",
        "outputId": "78152a9e-11dc-4a8b-fc3c-fbe01420ecfb"
      },
      "source": [
        "# keyword argument 호출\r\n",
        "minus(x=10, y=20)"
      ],
      "execution_count": 8,
      "outputs": [
        {
          "output_type": "execute_result",
          "data": {
            "text/plain": [
              "-10"
            ]
          },
          "metadata": {
            "tags": []
          },
          "execution_count": 8
        }
      ]
    },
    {
      "cell_type": "code",
      "metadata": {
        "colab": {
          "base_uri": "https://localhost:8080/"
        },
        "id": "PlaL-miSJRYY",
        "outputId": "bf38f057-7495-4d3e-bed0-c9d7663351e8"
      },
      "source": [
        "# keyword argument 호출은 parameter 순서를 지키지 않아도 됨.\r\n",
        "minus(y=10, x=20)"
      ],
      "execution_count": 9,
      "outputs": [
        {
          "output_type": "execute_result",
          "data": {
            "text/plain": [
              "10"
            ]
          },
          "metadata": {
            "tags": []
          },
          "execution_count": 9
        }
      ]
    },
    {
      "cell_type": "code",
      "metadata": {
        "colab": {
          "base_uri": "https://localhost:8080/"
        },
        "id": "_q16GKyBJpHX",
        "outputId": "6fe3aaa9-448a-4ad3-cfae-daa09e9d9708"
      },
      "source": [
        "# positional argument, keyword argument 혼용\r\n",
        "minus(100, y=99)"
      ],
      "execution_count": 10,
      "outputs": [
        {
          "output_type": "execute_result",
          "data": {
            "text/plain": [
              "1"
            ]
          },
          "metadata": {
            "tags": []
          },
          "execution_count": 10
        }
      ]
    },
    {
      "cell_type": "code",
      "metadata": {
        "colab": {
          "base_uri": "https://localhost:8080/",
          "height": 153
        },
        "id": "oDcNO_q8J28E",
        "outputId": "83d4e9e1-f91b-44f8-9f5c-bc1d8e72156c"
      },
      "source": [
        "minus(x=99, 100)\r\n",
        "#> SyntaxError\r\n",
        "# keyword argument들은 \"반드시\" positional argument들 뒤에 위치해야 함!"
      ],
      "execution_count": 12,
      "outputs": [
        {
          "output_type": "error",
          "ename": "SyntaxError",
          "evalue": "ignored",
          "traceback": [
            "\u001b[0;36m  File \u001b[0;32m\"<ipython-input-12-f327e72891f3>\"\u001b[0;36m, line \u001b[0;32m1\u001b[0m\n\u001b[0;31m    minus(x=99, 100)\u001b[0m\n\u001b[0m               ^\u001b[0m\n\u001b[0;31mSyntaxError\u001b[0m\u001b[0;31m:\u001b[0m positional argument follows keyword argument\n"
          ]
        }
      ]
    },
    {
      "cell_type": "code",
      "metadata": {
        "id": "T8aKnvLsLjaf"
      },
      "source": [
        "import random"
      ],
      "execution_count": 13,
      "outputs": []
    },
    {
      "cell_type": "code",
      "metadata": {
        "id": "qJiH7XaJLWrn"
      },
      "source": [
        "def make_list(n: int, start: int=0, end: int=10) -> list:\r\n",
        "    return [random.randrange(start, end) for _ in range(n)]"
      ],
      "execution_count": 14,
      "outputs": []
    },
    {
      "cell_type": "code",
      "metadata": {
        "colab": {
          "base_uri": "https://localhost:8080/"
        },
        "id": "dnTcTgkxLtXu",
        "outputId": "b1b957b8-307d-4378-b8cc-4bc45933fbf3"
      },
      "source": [
        "make_list(10)  # positional argument"
      ],
      "execution_count": 15,
      "outputs": [
        {
          "output_type": "execute_result",
          "data": {
            "text/plain": [
              "[2, 2, 9, 2, 3, 7, 2, 0, 2, 3]"
            ]
          },
          "metadata": {
            "tags": []
          },
          "execution_count": 15
        }
      ]
    },
    {
      "cell_type": "code",
      "metadata": {
        "colab": {
          "base_uri": "https://localhost:8080/"
        },
        "id": "do3oI-dOMDEn",
        "outputId": "41af56e1-5aba-48aa-bbc1-226e0c5f697a"
      },
      "source": [
        "make_list(n=10)  # keyword argument"
      ],
      "execution_count": 16,
      "outputs": [
        {
          "output_type": "execute_result",
          "data": {
            "text/plain": [
              "[9, 8, 8, 8, 6, 5, 4, 0, 9, 8]"
            ]
          },
          "metadata": {
            "tags": []
          },
          "execution_count": 16
        }
      ]
    },
    {
      "cell_type": "code",
      "metadata": {
        "colab": {
          "base_uri": "https://localhost:8080/"
        },
        "id": "1e4pk-h8MQ9U",
        "outputId": "e75ff3c3-2a62-4536-c456-0a2971951b31"
      },
      "source": [
        "make_list(10, 0, 100)  # positional argument"
      ],
      "execution_count": 17,
      "outputs": [
        {
          "output_type": "execute_result",
          "data": {
            "text/plain": [
              "[17, 93, 97, 82, 15, 50, 22, 74, 23, 9]"
            ]
          },
          "metadata": {
            "tags": []
          },
          "execution_count": 17
        }
      ]
    },
    {
      "cell_type": "code",
      "metadata": {
        "colab": {
          "base_uri": "https://localhost:8080/"
        },
        "id": "s_5FbhhGMkLn",
        "outputId": "00900b0b-79fa-45b0-fb0c-e3d59009511c"
      },
      "source": [
        "make_list(10, end=100)  # positional/keyword 혼용"
      ],
      "execution_count": 18,
      "outputs": [
        {
          "output_type": "execute_result",
          "data": {
            "text/plain": [
              "[43, 72, 18, 52, 49, 7, 37, 47, 39, 35]"
            ]
          },
          "metadata": {
            "tags": []
          },
          "execution_count": 18
        }
      ]
    },
    {
      "cell_type": "code",
      "metadata": {
        "colab": {
          "base_uri": "https://localhost:8080/"
        },
        "id": "sLNScUq7NCX3",
        "outputId": "8a17832a-4dd4-4cca-eb9f-bbfdd85e4ada"
      },
      "source": [
        "make_list(10, -10)"
      ],
      "execution_count": 19,
      "outputs": [
        {
          "output_type": "execute_result",
          "data": {
            "text/plain": [
              "[6, -8, 1, 3, 8, 6, 4, 8, 4, 2]"
            ]
          },
          "metadata": {
            "tags": []
          },
          "execution_count": 19
        }
      ]
    },
    {
      "cell_type": "code",
      "metadata": {
        "colab": {
          "base_uri": "https://localhost:8080/",
          "height": 195
        },
        "id": "olqhR1zLNX9W",
        "outputId": "840d40bb-7036-4f76-e73d-12b5fb789ce1"
      },
      "source": [
        "make_list(start=-10, end=10)\r\n",
        "#> TypeError"
      ],
      "execution_count": 20,
      "outputs": [
        {
          "output_type": "error",
          "ename": "TypeError",
          "evalue": "ignored",
          "traceback": [
            "\u001b[0;31m---------------------------------------------------------------------------\u001b[0m",
            "\u001b[0;31mTypeError\u001b[0m                                 Traceback (most recent call last)",
            "\u001b[0;32m<ipython-input-20-9ecdf0cf2eca>\u001b[0m in \u001b[0;36m<module>\u001b[0;34m()\u001b[0m\n\u001b[0;32m----> 1\u001b[0;31m \u001b[0mmake_list\u001b[0m\u001b[0;34m(\u001b[0m\u001b[0mstart\u001b[0m\u001b[0;34m=\u001b[0m\u001b[0;34m-\u001b[0m\u001b[0;36m10\u001b[0m\u001b[0;34m,\u001b[0m \u001b[0mend\u001b[0m\u001b[0;34m=\u001b[0m\u001b[0;36m10\u001b[0m\u001b[0;34m)\u001b[0m\u001b[0;34m\u001b[0m\u001b[0;34m\u001b[0m\u001b[0m\n\u001b[0m",
            "\u001b[0;31mTypeError\u001b[0m: make_list() missing 1 required positional argument: 'n'"
          ]
        }
      ]
    },
    {
      "cell_type": "markdown",
      "metadata": {
        "id": "TCAAD6sAOhdn"
      },
      "source": [
        "**가변길이 인수(variable-length/arbitrary-length arguments)**\r\n",
        "\r\n",
        "*   함수를 호출할 때 전달하는 argument의 개수가 변할 수 있는 것.(argument 개수 제한이 없음.)\r\n",
        "*   함수를 정의(선언)할 때, parameter 이름 앞에 `*`를 쓰면 가변길이 인수가 됨.\r\n",
        "*   함수 내부(본문)에서는 가변길이 인수는 tuple로 간주함.\r\n",
        "    *   가변길이 인수는 인덱스(index)를 사용할 수 있음.\r\n",
        "    *   가변길이 인수는 for-in 구문에서 사용할 수 있음."
      ]
    },
    {
      "cell_type": "code",
      "metadata": {
        "colab": {
          "base_uri": "https://localhost:8080/"
        },
        "id": "3-SCwGcGOzzP",
        "outputId": "44a1c517-b418-4399-a452-3f90e532a168"
      },
      "source": [
        "print('hello')\r\n",
        "print('hello', '안녕')\r\n",
        "print('hello', '안녕', 'bon jour')\r\n",
        "print()"
      ],
      "execution_count": 24,
      "outputs": [
        {
          "output_type": "stream",
          "text": [
            "hello\n",
            "hello 안녕\n",
            "hello 안녕 bon jour\n",
            "\n"
          ],
          "name": "stdout"
        }
      ]
    },
    {
      "cell_type": "code",
      "metadata": {
        "id": "3luFgQT8UBzx"
      },
      "source": [
        "def add_all(*values):\r\n",
        "    \"\"\"임의의 개수의 숫자들을 전달받아서, 그 숫자들의 합을 계산하고 리턴하는 함수.\r\n",
        "    \"\"\"\r\n",
        "    total = 0\r\n",
        "    for x in values:\r\n",
        "        total += x\r\n",
        "\r\n",
        "    return total"
      ],
      "execution_count": 25,
      "outputs": []
    },
    {
      "cell_type": "code",
      "metadata": {
        "colab": {
          "base_uri": "https://localhost:8080/"
        },
        "id": "56dEoEt8UqtY",
        "outputId": "2d7a70b0-762c-4fea-ebc5-97c070d54913"
      },
      "source": [
        "add_all(1, 2, 3)"
      ],
      "execution_count": 26,
      "outputs": [
        {
          "output_type": "execute_result",
          "data": {
            "text/plain": [
              "6"
            ]
          },
          "metadata": {
            "tags": []
          },
          "execution_count": 26
        }
      ]
    },
    {
      "cell_type": "code",
      "metadata": {
        "colab": {
          "base_uri": "https://localhost:8080/"
        },
        "id": "JjGjW9c-UyUt",
        "outputId": "651072d6-f169-4e1a-a1b5-4f89452ba13e"
      },
      "source": [
        "add_all()"
      ],
      "execution_count": 27,
      "outputs": [
        {
          "output_type": "execute_result",
          "data": {
            "text/plain": [
              "0"
            ]
          },
          "metadata": {
            "tags": []
          },
          "execution_count": 27
        }
      ]
    },
    {
      "cell_type": "code",
      "metadata": {
        "colab": {
          "base_uri": "https://localhost:8080/"
        },
        "id": "d0b-JiJCVTib",
        "outputId": "7a87209f-be12-40b3-d0c1-3d4dec06bd4a"
      },
      "source": [
        "add_all(2, 4, 6, 8, 10)"
      ],
      "execution_count": 28,
      "outputs": [
        {
          "output_type": "execute_result",
          "data": {
            "text/plain": [
              "30"
            ]
          },
          "metadata": {
            "tags": []
          },
          "execution_count": 28
        }
      ]
    },
    {
      "cell_type": "code",
      "metadata": {
        "id": "T4JtvoriVjGk"
      },
      "source": [
        "def fn_test(a, *b):\r\n",
        "    print('a =', a)\r\n",
        "    print('b =', b)"
      ],
      "execution_count": 29,
      "outputs": []
    },
    {
      "cell_type": "code",
      "metadata": {
        "colab": {
          "base_uri": "https://localhost:8080/",
          "height": 195
        },
        "id": "xmZ_QKOgVtu-",
        "outputId": "80fbc574-7aa7-44c8-854e-aff7e228baa6"
      },
      "source": [
        "fn_test()\r\n",
        "#> 에러 - 파라미터 a는 반드시 argument가 전달되어야 하기 때문."
      ],
      "execution_count": 30,
      "outputs": [
        {
          "output_type": "error",
          "ename": "TypeError",
          "evalue": "ignored",
          "traceback": [
            "\u001b[0;31m---------------------------------------------------------------------------\u001b[0m",
            "\u001b[0;31mTypeError\u001b[0m                                 Traceback (most recent call last)",
            "\u001b[0;32m<ipython-input-30-52ee25cfc319>\u001b[0m in \u001b[0;36m<module>\u001b[0;34m()\u001b[0m\n\u001b[0;32m----> 1\u001b[0;31m \u001b[0mfn_test\u001b[0m\u001b[0;34m(\u001b[0m\u001b[0;34m)\u001b[0m\u001b[0;34m\u001b[0m\u001b[0;34m\u001b[0m\u001b[0m\n\u001b[0m",
            "\u001b[0;31mTypeError\u001b[0m: fn_test() missing 1 required positional argument: 'a'"
          ]
        }
      ]
    },
    {
      "cell_type": "code",
      "metadata": {
        "colab": {
          "base_uri": "https://localhost:8080/"
        },
        "id": "U7Lhv79oWUlm",
        "outputId": "b0c6987f-d569-42b7-b414-22a6e880f0d6"
      },
      "source": [
        "fn_test(1)  # 가변길이 인수는 값을 하나도 전달하지 않아도 됨."
      ],
      "execution_count": 31,
      "outputs": [
        {
          "output_type": "stream",
          "text": [
            "a = 1\n",
            "b = ()\n"
          ],
          "name": "stdout"
        }
      ]
    },
    {
      "cell_type": "code",
      "metadata": {
        "colab": {
          "base_uri": "https://localhost:8080/"
        },
        "id": "qjTh8VKrWzwO",
        "outputId": "cd705a6e-235d-44c3-be61-0527839a8007"
      },
      "source": [
        "fn_test(1, 2)"
      ],
      "execution_count": 32,
      "outputs": [
        {
          "output_type": "stream",
          "text": [
            "a = 1\n",
            "b = (2,)\n"
          ],
          "name": "stdout"
        }
      ]
    },
    {
      "cell_type": "code",
      "metadata": {
        "colab": {
          "base_uri": "https://localhost:8080/"
        },
        "id": "kKDHhso3XBLN",
        "outputId": "3116d5bf-2eea-4e26-a8b3-67a0abb00621"
      },
      "source": [
        "fn_test(1, 2, 3, 4, 5)"
      ],
      "execution_count": 33,
      "outputs": [
        {
          "output_type": "stream",
          "text": [
            "a = 1\n",
            "b = (2, 3, 4, 5)\n"
          ],
          "name": "stdout"
        }
      ]
    },
    {
      "cell_type": "code",
      "metadata": {
        "id": "XP1P6seVXZne"
      },
      "source": [
        "def fn_test2(*a, b):\r\n",
        "    print('a =', a)\r\n",
        "    print('b =', b)"
      ],
      "execution_count": 34,
      "outputs": []
    },
    {
      "cell_type": "code",
      "metadata": {
        "colab": {
          "base_uri": "https://localhost:8080/",
          "height": 195
        },
        "id": "L2klvDQzXgPW",
        "outputId": "94a3db38-562d-46e8-b1d3-cfe370ee633a"
      },
      "source": [
        "fn_test2()"
      ],
      "execution_count": 35,
      "outputs": [
        {
          "output_type": "error",
          "ename": "TypeError",
          "evalue": "ignored",
          "traceback": [
            "\u001b[0;31m---------------------------------------------------------------------------\u001b[0m",
            "\u001b[0;31mTypeError\u001b[0m                                 Traceback (most recent call last)",
            "\u001b[0;32m<ipython-input-35-2cb1f538959f>\u001b[0m in \u001b[0;36m<module>\u001b[0;34m()\u001b[0m\n\u001b[0;32m----> 1\u001b[0;31m \u001b[0mfn_test2\u001b[0m\u001b[0;34m(\u001b[0m\u001b[0;34m)\u001b[0m\u001b[0;34m\u001b[0m\u001b[0;34m\u001b[0m\u001b[0m\n\u001b[0m",
            "\u001b[0;31mTypeError\u001b[0m: fn_test2() missing 1 required keyword-only argument: 'b'"
          ]
        }
      ]
    },
    {
      "cell_type": "code",
      "metadata": {
        "colab": {
          "base_uri": "https://localhost:8080/",
          "height": 195
        },
        "id": "ixJG4MhfYH-e",
        "outputId": "d90841c8-dcbb-41d2-83d4-d65e49b8891a"
      },
      "source": [
        "fn_test2(1)"
      ],
      "execution_count": 36,
      "outputs": [
        {
          "output_type": "error",
          "ename": "TypeError",
          "evalue": "ignored",
          "traceback": [
            "\u001b[0;31m---------------------------------------------------------------------------\u001b[0m",
            "\u001b[0;31mTypeError\u001b[0m                                 Traceback (most recent call last)",
            "\u001b[0;32m<ipython-input-36-c2573b53fb4a>\u001b[0m in \u001b[0;36m<module>\u001b[0;34m()\u001b[0m\n\u001b[0;32m----> 1\u001b[0;31m \u001b[0mfn_test2\u001b[0m\u001b[0;34m(\u001b[0m\u001b[0;36m1\u001b[0m\u001b[0;34m)\u001b[0m\u001b[0;34m\u001b[0m\u001b[0;34m\u001b[0m\u001b[0m\n\u001b[0m",
            "\u001b[0;31mTypeError\u001b[0m: fn_test2() missing 1 required keyword-only argument: 'b'"
          ]
        }
      ]
    },
    {
      "cell_type": "code",
      "metadata": {
        "colab": {
          "base_uri": "https://localhost:8080/",
          "height": 195
        },
        "id": "sz3CP8WDYawO",
        "outputId": "2def46fd-6edb-43c1-b057-bbe8b878b359"
      },
      "source": [
        "fn_test2(1, 2)"
      ],
      "execution_count": 37,
      "outputs": [
        {
          "output_type": "error",
          "ename": "TypeError",
          "evalue": "ignored",
          "traceback": [
            "\u001b[0;31m---------------------------------------------------------------------------\u001b[0m",
            "\u001b[0;31mTypeError\u001b[0m                                 Traceback (most recent call last)",
            "\u001b[0;32m<ipython-input-37-e05d0dc6cc52>\u001b[0m in \u001b[0;36m<module>\u001b[0;34m()\u001b[0m\n\u001b[0;32m----> 1\u001b[0;31m \u001b[0mfn_test2\u001b[0m\u001b[0;34m(\u001b[0m\u001b[0;36m1\u001b[0m\u001b[0;34m,\u001b[0m \u001b[0;36m2\u001b[0m\u001b[0;34m)\u001b[0m\u001b[0;34m\u001b[0m\u001b[0;34m\u001b[0m\u001b[0m\n\u001b[0m",
            "\u001b[0;31mTypeError\u001b[0m: fn_test2() missing 1 required keyword-only argument: 'b'"
          ]
        }
      ]
    },
    {
      "cell_type": "code",
      "metadata": {
        "colab": {
          "base_uri": "https://localhost:8080/"
        },
        "id": "xG-M829PZHyI",
        "outputId": "35b0688e-0ae3-4316-f0ac-7d9f290f97b6"
      },
      "source": [
        "fn_test2(1, b=2)"
      ],
      "execution_count": 38,
      "outputs": [
        {
          "output_type": "stream",
          "text": [
            "a = (1,)\n",
            "b = 2\n"
          ],
          "name": "stdout"
        }
      ]
    },
    {
      "cell_type": "code",
      "metadata": {
        "colab": {
          "base_uri": "https://localhost:8080/"
        },
        "id": "JUytUVmBZPld",
        "outputId": "dadea07c-d3d5-4575-ef28-c3d7da103a06"
      },
      "source": [
        "fn_test2(1, 2, 3, b=10)\r\n",
        "# variable-length argument 뒤에 선언된 파라미터는 keyword-only argument로만 호출할 수 있다!"
      ],
      "execution_count": 39,
      "outputs": [
        {
          "output_type": "stream",
          "text": [
            "a = (1, 2, 3)\n",
            "b = 10\n"
          ],
          "name": "stdout"
        }
      ]
    },
    {
      "cell_type": "code",
      "metadata": {
        "colab": {
          "base_uri": "https://localhost:8080/"
        },
        "id": "lr4vEuyZZcH_",
        "outputId": "bbe736c3-ba2a-4a7d-c719-77fd2c12658a"
      },
      "source": [
        "print('a', 'ABC', '가', '가나다', sep='::')"
      ],
      "execution_count": 41,
      "outputs": [
        {
          "output_type": "stream",
          "text": [
            "a::ABC::가::가나다\n"
          ],
          "name": "stdout"
        }
      ]
    },
    {
      "cell_type": "code",
      "metadata": {
        "id": "78UfmOqaaLFG"
      },
      "source": [
        "def fn_test3(*a, b='abc'):\r\n",
        "    print('a =', a)\r\n",
        "    print('b =', b)"
      ],
      "execution_count": 45,
      "outputs": []
    },
    {
      "cell_type": "code",
      "metadata": {
        "colab": {
          "base_uri": "https://localhost:8080/"
        },
        "id": "Geqd7ZnraVzg",
        "outputId": "4b70a94f-d2d2-4e5b-a82d-f051fc28fd0f"
      },
      "source": [
        "fn_test3(1)"
      ],
      "execution_count": 46,
      "outputs": [
        {
          "output_type": "stream",
          "text": [
            "a = (1,)\n",
            "b = abc\n"
          ],
          "name": "stdout"
        }
      ]
    },
    {
      "cell_type": "code",
      "metadata": {
        "colab": {
          "base_uri": "https://localhost:8080/"
        },
        "id": "Z8s7S-pRaZSe",
        "outputId": "0cf3f3fd-e3f5-4a50-818f-154b87b4b037"
      },
      "source": [
        "fn_test3(1, 2, 3)"
      ],
      "execution_count": 47,
      "outputs": [
        {
          "output_type": "stream",
          "text": [
            "a = (1, 2, 3)\n",
            "b = abc\n"
          ],
          "name": "stdout"
        }
      ]
    },
    {
      "cell_type": "code",
      "metadata": {
        "colab": {
          "base_uri": "https://localhost:8080/",
          "height": 153
        },
        "id": "E3q6lH5taa7A",
        "outputId": "9ea64fa1-d995-4741-e80a-a7a40bdd3f03"
      },
      "source": [
        "def fn_test4(*a, *b):\r\n",
        "    pass\r\n",
        "# 함수에서 가변길이 인수는 하나만 사용가능함."
      ],
      "execution_count": 48,
      "outputs": [
        {
          "output_type": "error",
          "ename": "SyntaxError",
          "evalue": "ignored",
          "traceback": [
            "\u001b[0;36m  File \u001b[0;32m\"<ipython-input-48-2830189adfca>\"\u001b[0;36m, line \u001b[0;32m1\u001b[0m\n\u001b[0;31m    def fn_test4(*a, *b):\u001b[0m\n\u001b[0m                     ^\u001b[0m\n\u001b[0;31mSyntaxError\u001b[0m\u001b[0;31m:\u001b[0m invalid syntax\n"
          ]
        }
      ]
    },
    {
      "cell_type": "code",
      "metadata": {
        "id": "3Nymfwoaa9OJ"
      },
      "source": [
        "def calculate(*values, op):\r\n",
        "    \"\"\"\r\n",
        "    values: 임의의 개수의 숫자들.\r\n",
        "    op: 문자열 '+' 또는 '*' .\r\n",
        "    op가 '+'인 경우에는, values들의 합을 리턴. 기본값은 0을 리턴.\r\n",
        "    op가 '*'인 경우에는, values들의 곱을 리턴. 기본값은 1을 리턴.\r\n",
        "    op가 '+'나 '*'가 아닌 경우에는 ValueError를 발생.\r\n",
        "    \"\"\"\r\n",
        "    if op == '+':\r\n",
        "        result = 0\r\n",
        "        for x in values:\r\n",
        "            result += x\r\n",
        "    elif op == '*':\r\n",
        "        result = 1\r\n",
        "        for x in values:\r\n",
        "            result *= x\r\n",
        "    else:\r\n",
        "        raise ValueError(\"op는 '+' 또는 '*'만 가능함!\")\r\n",
        "\r\n",
        "    return result"
      ],
      "execution_count": 49,
      "outputs": []
    },
    {
      "cell_type": "code",
      "metadata": {
        "colab": {
          "base_uri": "https://localhost:8080/"
        },
        "id": "GpM6OLgEjIY-",
        "outputId": "ac32e6a8-d647-42d6-d9cc-950c463c1e73"
      },
      "source": [
        "calculate(1, 2, 3, 4, 5, op='+')"
      ],
      "execution_count": 51,
      "outputs": [
        {
          "output_type": "execute_result",
          "data": {
            "text/plain": [
              "15"
            ]
          },
          "metadata": {
            "tags": []
          },
          "execution_count": 51
        }
      ]
    },
    {
      "cell_type": "code",
      "metadata": {
        "colab": {
          "base_uri": "https://localhost:8080/"
        },
        "id": "FoWmpwEPjQ7N",
        "outputId": "12f07c89-1192-4114-fa17-ed89c373395e"
      },
      "source": [
        "calculate(op='+')"
      ],
      "execution_count": 52,
      "outputs": [
        {
          "output_type": "execute_result",
          "data": {
            "text/plain": [
              "0"
            ]
          },
          "metadata": {
            "tags": []
          },
          "execution_count": 52
        }
      ]
    },
    {
      "cell_type": "code",
      "metadata": {
        "colab": {
          "base_uri": "https://localhost:8080/"
        },
        "id": "3aaqZsfUjTTD",
        "outputId": "eece3c60-5d88-4aa1-b0d5-a1614d7006e1"
      },
      "source": [
        "calculate(1, 2, 3, 4, 5, op='*')"
      ],
      "execution_count": 53,
      "outputs": [
        {
          "output_type": "execute_result",
          "data": {
            "text/plain": [
              "120"
            ]
          },
          "metadata": {
            "tags": []
          },
          "execution_count": 53
        }
      ]
    },
    {
      "cell_type": "code",
      "metadata": {
        "colab": {
          "base_uri": "https://localhost:8080/"
        },
        "id": "0-whqkIljcfu",
        "outputId": "53651498-6294-4942-c580-2aacdd36a645"
      },
      "source": [
        "calculate(op='*')"
      ],
      "execution_count": 54,
      "outputs": [
        {
          "output_type": "execute_result",
          "data": {
            "text/plain": [
              "1"
            ]
          },
          "metadata": {
            "tags": []
          },
          "execution_count": 54
        }
      ]
    },
    {
      "cell_type": "code",
      "metadata": {
        "colab": {
          "base_uri": "https://localhost:8080/",
          "height": 339
        },
        "id": "P84RRbHvjhuu",
        "outputId": "e471e282-ba09-4bdb-be42-3014d5a072e2"
      },
      "source": [
        "calculate(1, 2, 3, op='%')"
      ],
      "execution_count": 55,
      "outputs": [
        {
          "output_type": "error",
          "ename": "ValueError",
          "evalue": "ignored",
          "traceback": [
            "\u001b[0;31m---------------------------------------------------------------------------\u001b[0m",
            "\u001b[0;31mValueError\u001b[0m                                Traceback (most recent call last)",
            "\u001b[0;32m<ipython-input-55-7e3ef1f85334>\u001b[0m in \u001b[0;36m<module>\u001b[0;34m()\u001b[0m\n\u001b[0;32m----> 1\u001b[0;31m \u001b[0mcalculate\u001b[0m\u001b[0;34m(\u001b[0m\u001b[0;36m1\u001b[0m\u001b[0;34m,\u001b[0m \u001b[0;36m2\u001b[0m\u001b[0;34m,\u001b[0m \u001b[0;36m3\u001b[0m\u001b[0;34m,\u001b[0m \u001b[0mop\u001b[0m\u001b[0;34m=\u001b[0m\u001b[0;34m'%'\u001b[0m\u001b[0;34m)\u001b[0m\u001b[0;34m\u001b[0m\u001b[0;34m\u001b[0m\u001b[0m\n\u001b[0m",
            "\u001b[0;32m<ipython-input-49-36a8ee4ca181>\u001b[0m in \u001b[0;36mcalculate\u001b[0;34m(op, *values)\u001b[0m\n\u001b[1;32m     16\u001b[0m             \u001b[0mresult\u001b[0m \u001b[0;34m*=\u001b[0m \u001b[0mx\u001b[0m\u001b[0;34m\u001b[0m\u001b[0;34m\u001b[0m\u001b[0m\n\u001b[1;32m     17\u001b[0m     \u001b[0;32melse\u001b[0m\u001b[0;34m:\u001b[0m\u001b[0;34m\u001b[0m\u001b[0;34m\u001b[0m\u001b[0m\n\u001b[0;32m---> 18\u001b[0;31m         \u001b[0;32mraise\u001b[0m \u001b[0mValueError\u001b[0m\u001b[0;34m(\u001b[0m\u001b[0;34m\"op는 '+' 또는 '*'만 가능함!\"\u001b[0m\u001b[0;34m)\u001b[0m\u001b[0;34m\u001b[0m\u001b[0;34m\u001b[0m\u001b[0m\n\u001b[0m\u001b[1;32m     19\u001b[0m \u001b[0;34m\u001b[0m\u001b[0m\n\u001b[1;32m     20\u001b[0m     \u001b[0;32mreturn\u001b[0m \u001b[0mresult\u001b[0m\u001b[0;34m\u001b[0m\u001b[0;34m\u001b[0m\u001b[0m\n",
            "\u001b[0;31mValueError\u001b[0m: op는 '+' 또는 '*'만 가능함!"
          ]
        }
      ]
    },
    {
      "cell_type": "markdown",
      "metadata": {
        "id": "YupqSzlYkiOm"
      },
      "source": [
        "**가변길이(variable-length) keyword argument**\r\n",
        "\r\n",
        "*   variable-length argument: 함수를 호출할 때, 값(argument)를 몇개를 전달해도 됨.\r\n",
        "*   keyword argument: 함수를 호출할 때, parameter 이름을 명시해서 argument를 전달함.(param=val)\r\n",
        "*   함수를 정의할 때, parameter 이름 앞에 `**`를 사용.\r\n",
        "*   함수를 호출할 때, `param1=val1, param2=val2, ...` 와 같이 여러개의 키워드 방식 호출을 사용. paramter 이름은 마음대로 작성.\r\n",
        "*   함수 내부(body)에서는 variable-length keyword argument는 사전(dict) 타입으로 생각함.\r\n",
        "    *   함수를 호출할 때 만든 parameter 이름이 dict의 key가 됨.\r\n",
        "    *   함수를 호출할 때 parameter에 설정한 값이 dict의 value가 됨."
      ]
    },
    {
      "cell_type": "code",
      "metadata": {
        "id": "p-br5S55mFo-"
      },
      "source": [
        "def fn_test5(**kwargs):\r\n",
        "    print(kwargs)"
      ],
      "execution_count": 58,
      "outputs": []
    },
    {
      "cell_type": "code",
      "metadata": {
        "colab": {
          "base_uri": "https://localhost:8080/"
        },
        "id": "NHeYOmmOmdNE",
        "outputId": "5a0c731d-9263-4eb8-bb45-cc05b745fc3f"
      },
      "source": [
        "fn_test5()"
      ],
      "execution_count": 59,
      "outputs": [
        {
          "output_type": "stream",
          "text": [
            "{}\n"
          ],
          "name": "stdout"
        }
      ]
    },
    {
      "cell_type": "code",
      "metadata": {
        "colab": {
          "base_uri": "https://localhost:8080/",
          "height": 195
        },
        "id": "OW8bNLjzmicW",
        "outputId": "e810c129-799f-49a5-be74-50c88a138c76"
      },
      "source": [
        "fn_test5(1)"
      ],
      "execution_count": 60,
      "outputs": [
        {
          "output_type": "error",
          "ename": "TypeError",
          "evalue": "ignored",
          "traceback": [
            "\u001b[0;31m---------------------------------------------------------------------------\u001b[0m",
            "\u001b[0;31mTypeError\u001b[0m                                 Traceback (most recent call last)",
            "\u001b[0;32m<ipython-input-60-96c4cf06253e>\u001b[0m in \u001b[0;36m<module>\u001b[0;34m()\u001b[0m\n\u001b[0;32m----> 1\u001b[0;31m \u001b[0mfn_test5\u001b[0m\u001b[0;34m(\u001b[0m\u001b[0;36m1\u001b[0m\u001b[0;34m)\u001b[0m\u001b[0;34m\u001b[0m\u001b[0;34m\u001b[0m\u001b[0m\n\u001b[0m",
            "\u001b[0;31mTypeError\u001b[0m: fn_test5() takes 0 positional arguments but 1 was given"
          ]
        }
      ]
    },
    {
      "cell_type": "code",
      "metadata": {
        "colab": {
          "base_uri": "https://localhost:8080/"
        },
        "id": "t8y336sHmrf1",
        "outputId": "59597b33-082b-43ee-cac1-f8dca031617b"
      },
      "source": [
        "fn_test5(x=1)"
      ],
      "execution_count": 61,
      "outputs": [
        {
          "output_type": "stream",
          "text": [
            "{'x': 1}\n"
          ],
          "name": "stdout"
        }
      ]
    },
    {
      "cell_type": "code",
      "metadata": {
        "colab": {
          "base_uri": "https://localhost:8080/"
        },
        "id": "ZH-9rgiRnuNu",
        "outputId": "4d772298-ef9a-472d-a8e8-7dd9e2821d88"
      },
      "source": [
        "fn_test5(x=1, y='abc')"
      ],
      "execution_count": 62,
      "outputs": [
        {
          "output_type": "stream",
          "text": [
            "{'x': 1, 'y': 'abc'}\n"
          ],
          "name": "stdout"
        }
      ]
    },
    {
      "cell_type": "code",
      "metadata": {
        "id": "kugQmyqqoZA5"
      },
      "source": [
        "def make_person(name, age, **kwargs):\r\n",
        "    person = {'name': name, 'age': age}\r\n",
        "    for key, value in kwargs.items():\r\n",
        "        person[key] = value\r\n",
        "\r\n",
        "    return person"
      ],
      "execution_count": 63,
      "outputs": []
    },
    {
      "cell_type": "code",
      "metadata": {
        "colab": {
          "base_uri": "https://localhost:8080/"
        },
        "id": "5qB8qHlIpXVH",
        "outputId": "4c251ffa-33a1-4f32-a4b8-4bc1875c28fa"
      },
      "source": [
        "make_person('홍길동', 16)"
      ],
      "execution_count": 65,
      "outputs": [
        {
          "output_type": "execute_result",
          "data": {
            "text/plain": [
              "{'age': 16, 'name': '홍길동'}"
            ]
          },
          "metadata": {
            "tags": []
          },
          "execution_count": 65
        }
      ]
    },
    {
      "cell_type": "code",
      "metadata": {
        "colab": {
          "base_uri": "https://localhost:8080/"
        },
        "id": "KYsMtbTxpcq1",
        "outputId": "5a9afed8-caec-4215-85f2-0616516c6b71"
      },
      "source": [
        "make_person('홍길동', 16, phone='010-1234-5678')"
      ],
      "execution_count": 66,
      "outputs": [
        {
          "output_type": "execute_result",
          "data": {
            "text/plain": [
              "{'age': 16, 'name': '홍길동', 'phone': '010-1234-5678'}"
            ]
          },
          "metadata": {
            "tags": []
          },
          "execution_count": 66
        }
      ]
    },
    {
      "cell_type": "code",
      "metadata": {
        "colab": {
          "base_uri": "https://localhost:8080/"
        },
        "id": "tFN-aXRNqJhl",
        "outputId": "b8e26002-3b28-46a1-ff0e-dbe006beeb59"
      },
      "source": [
        "make_person('홍길동', 16, email='hgd@gmail.com')"
      ],
      "execution_count": 67,
      "outputs": [
        {
          "output_type": "execute_result",
          "data": {
            "text/plain": [
              "{'age': 16, 'email': 'hgd@gmail.com', 'name': '홍길동'}"
            ]
          },
          "metadata": {
            "tags": []
          },
          "execution_count": 67
        }
      ]
    },
    {
      "cell_type": "code",
      "metadata": {
        "colab": {
          "base_uri": "https://localhost:8080/"
        },
        "id": "544xLkaiqW3m",
        "outputId": "cc84906c-2274-46d2-d376-265799edfe8d"
      },
      "source": [
        "make_person('홍길동', 16, \r\n",
        "            phone=['010-1234-5678', '02-1234-0000'],\r\n",
        "            email=['hgd@gmail.com', 'hgd@naver.com'])"
      ],
      "execution_count": 68,
      "outputs": [
        {
          "output_type": "execute_result",
          "data": {
            "text/plain": [
              "{'age': 16,\n",
              " 'email': ['hgd@gmail.com', 'hgd@naver.com'],\n",
              " 'name': '홍길동',\n",
              " 'phone': ['010-1234-5678', '02-1234-0000']}"
            ]
          },
          "metadata": {
            "tags": []
          },
          "execution_count": 68
        }
      ]
    },
    {
      "cell_type": "code",
      "metadata": {
        "id": "o5pwgnq6rzMK"
      },
      "source": [
        "# variable-length argument, variable-length keyword argument는 함수에서 한개씩 선언할 수 있음.\r\n",
        "def fn_test6(*args, **kwargs):\r\n",
        "    print('args:', args)\r\n",
        "    print('kwargs:', kwargs)"
      ],
      "execution_count": 69,
      "outputs": []
    },
    {
      "cell_type": "code",
      "metadata": {
        "colab": {
          "base_uri": "https://localhost:8080/"
        },
        "id": "gyypaeAqv7zH",
        "outputId": "83eeb932-530d-46b7-f90e-c3cb0a0188e6"
      },
      "source": [
        "fn_test6(1, 2, x=1, y=2)"
      ],
      "execution_count": 70,
      "outputs": [
        {
          "output_type": "stream",
          "text": [
            "args: (1, 2)\n",
            "kwargs: {'x': 1, 'y': 2}\n"
          ],
          "name": "stdout"
        }
      ]
    },
    {
      "cell_type": "code",
      "metadata": {
        "colab": {
          "base_uri": "https://localhost:8080/"
        },
        "id": "g87BAt7MwK1t",
        "outputId": "51354e79-2afe-491e-c98b-bbde0fa28ff7"
      },
      "source": [
        "fn_test6(1, 2, 3)"
      ],
      "execution_count": 71,
      "outputs": [
        {
          "output_type": "stream",
          "text": [
            "args: (1, 2, 3)\n",
            "kwargs: {}\n"
          ],
          "name": "stdout"
        }
      ]
    },
    {
      "cell_type": "code",
      "metadata": {
        "colab": {
          "base_uri": "https://localhost:8080/"
        },
        "id": "cyhpO1-lwaLc",
        "outputId": "fb62f9ce-776e-459c-a1d8-9ff046a89851"
      },
      "source": [
        "fn_test6(x=1, y=2, z=3)"
      ],
      "execution_count": 72,
      "outputs": [
        {
          "output_type": "stream",
          "text": [
            "args: ()\n",
            "kwargs: {'x': 1, 'y': 2, 'z': 3}\n"
          ],
          "name": "stdout"
        }
      ]
    }
  ]
}