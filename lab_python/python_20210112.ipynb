{
  "nbformat": 4,
  "nbformat_minor": 0,
  "metadata": {
    "colab": {
      "name": "python_20210112.ipynb",
      "provenance": [],
      "collapsed_sections": [],
      "authorship_tag": "ABX9TyNcCQEOhjeoxc6J8oFnYBUP",
      "include_colab_link": true
    },
    "kernelspec": {
      "name": "python3",
      "display_name": "Python 3"
    }
  },
  "cells": [
    {
      "cell_type": "markdown",
      "metadata": {
        "id": "view-in-github",
        "colab_type": "text"
      },
      "source": [
        "<a href=\"https://colab.research.google.com/github/JakeOh/202011_itw_bd21/blob/main/lab_python/python_20210112.ipynb\" target=\"_parent\"><img src=\"https://colab.research.google.com/assets/colab-badge.svg\" alt=\"Open In Colab\"/></a>"
      ]
    },
    {
      "cell_type": "markdown",
      "metadata": {
        "id": "iG-ZQbaqGhA-"
      },
      "source": [
        "텍스트 셀\r\n",
        "\r\n",
        "\r\n",
        "*   코드 셀 실행 방법\r\n",
        "    * 실행버튼 클릭\r\n",
        "    * Ctrl+Enter: 현재 코드 셀 실행.\r\n",
        "    * Shift+Enter: 현재 코드 셀을 실행하고 커서를 다음 코드 셀로 이동. 다음 코드 셀이 없는 경우에는 새로운 코드 셀을 만들어줌.\r\n"
      ]
    },
    {
      "cell_type": "code",
      "metadata": {
        "colab": {
          "base_uri": "https://localhost:8080/"
        },
        "id": "Z2eWJ8ckEkGo",
        "outputId": "e73c1f3d-659a-4cd3-b01a-8956c69b698b"
      },
      "source": [
        "# 코드 셀\r\n",
        "print('안녕하세요!')\r\n",
        "print('Hello...')"
      ],
      "execution_count": 3,
      "outputs": [
        {
          "output_type": "stream",
          "text": [
            "안녕하세요!\n",
            "Hello...\n"
          ],
          "name": "stdout"
        }
      ]
    },
    {
      "cell_type": "code",
      "metadata": {
        "id": "lSFG1YBaLZ4G"
      },
      "source": [
        ""
      ],
      "execution_count": null,
      "outputs": []
    }
  ]
}