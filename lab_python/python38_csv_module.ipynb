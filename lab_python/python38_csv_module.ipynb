{
  "nbformat": 4,
  "nbformat_minor": 0,
  "metadata": {
    "colab": {
      "name": "python38_csv_module.ipynb",
      "provenance": [],
      "collapsed_sections": [],
      "mount_file_id": "1wWUCcaXqNDM81YIW7JS2XndQmyr2PKwd",
      "authorship_tag": "ABX9TyOmQvqpyAePAlnWaqu+a3WJ",
      "include_colab_link": true
    },
    "kernelspec": {
      "name": "python3",
      "display_name": "Python 3"
    }
  },
  "cells": [
    {
      "cell_type": "markdown",
      "metadata": {
        "id": "view-in-github",
        "colab_type": "text"
      },
      "source": [
        "<a href=\"https://colab.research.google.com/github/JakeOh/202011_itw_bd21/blob/main/lab_python/python38_csv_module.ipynb\" target=\"_parent\"><img src=\"https://colab.research.google.com/assets/colab-badge.svg\" alt=\"Open In Colab\"/></a>"
      ]
    },
    {
      "cell_type": "markdown",
      "metadata": {
        "id": "lUn2CEFd5N06"
      },
      "source": [
        "# CSV 모듈을 사용한 tsv(tab-separated values) 파일 읽기/쓰기"
      ]
    },
    {
      "cell_type": "code",
      "metadata": {
        "id": "sj5Fuk2g5HdQ"
      },
      "source": [
        "texts = '''2021-01-28\\tAPL\\t1500\r\n",
        "2021-01-28\\tBBB\\t2000\r\n",
        "2021-01-28\\tCCC\\t1700\r\n",
        "2021-01-29\\tAPL\\t2000\r\n",
        "2021-01-29\\tBBB\\t1900\r\n",
        "2021-01-29\\tCCC\\t1600\r\n",
        "'''\r\n",
        "\r\n",
        "with open(file='prices.tsv', mode='w') as f:\r\n",
        "    f.write(texts)"
      ],
      "execution_count": 1,
      "outputs": []
    },
    {
      "cell_type": "markdown",
      "metadata": {
        "id": "k9z6UUSG5ue9"
      },
      "source": [
        "*   csv 모듈을 사용\r\n",
        "*   csv.reader()를 사용해서 prices.tsv 파일을 읽고 2차원 리스트를 생성.\r\n",
        "*   csv.writer()를 사용해서 2차원 리스트를 csv 파일로 저장."
      ]
    },
    {
      "cell_type": "code",
      "metadata": {
        "id": "8SGVWAT35gjs"
      },
      "source": [
        "import csv"
      ],
      "execution_count": 2,
      "outputs": []
    },
    {
      "cell_type": "code",
      "metadata": {
        "colab": {
          "base_uri": "https://localhost:8080/"
        },
        "id": "rQKIr7Oh7_LG",
        "outputId": "82d6cc20-3869-431a-a9de-f4752100e5ea"
      },
      "source": [
        "with open('prices.tsv', mode='r') as f:\r\n",
        "    reader = csv.reader(f, delimiter='\\t')\r\n",
        "    prices = [row for row in reader]\r\n",
        "\r\n",
        "prices    "
      ],
      "execution_count": 3,
      "outputs": [
        {
          "output_type": "execute_result",
          "data": {
            "text/plain": [
              "[['2021-01-28', 'APL', '1500'],\n",
              " ['2021-01-28', 'BBB', '2000'],\n",
              " ['2021-01-28', 'CCC', '1700'],\n",
              " ['2021-01-29', 'APL', '2000'],\n",
              " ['2021-01-29', 'BBB', '1900'],\n",
              " ['2021-01-29', 'CCC', '1600']]"
            ]
          },
          "metadata": {
            "tags": []
          },
          "execution_count": 3
        }
      ]
    },
    {
      "cell_type": "code",
      "metadata": {
        "id": "TJog3RBV80vI"
      },
      "source": [
        "with open('prices.csv', mode='w') as f:\r\n",
        "    writer = csv.writer(f)\r\n",
        "    writer.writerows(prices)"
      ],
      "execution_count": 4,
      "outputs": []
    },
    {
      "cell_type": "code",
      "metadata": {
        "id": "VepxRCuj9ZR9"
      },
      "source": [
        "with open('prices.txt', mode='w') as f:\r\n",
        "    writer = csv.writer(f, delimiter=':')\r\n",
        "    writer.writerows(prices)"
      ],
      "execution_count": 6,
      "outputs": []
    },
    {
      "cell_type": "markdown",
      "metadata": {
        "id": "jKfAAfhu-LXd"
      },
      "source": [
        "# csv 모듈 연습"
      ]
    },
    {
      "cell_type": "markdown",
      "metadata": {
        "id": "6q8VDDqV-O8U"
      },
      "source": [
        "1. apt_201910.csv 파일을 구글 드라이브에 업로드\r\n",
        "2. Colab에서 구글 드라이브를 마운트\r\n",
        "3. CSV 파일을 읽어서 2차원 리스트를 생성\r\n",
        "    *   한글 Windows OS의 인코딩 방식으로 저장된 파일\r\n",
        "    *   파일을 open할 때 인코딩 방식을 'cp949'로 설정\r\n",
        "4. 3번에서 생성된 2차원 리스트에서 숫자로 변환할 수 있는 값들은 모두 숫자로 변환\r\n"
      ]
    },
    {
      "cell_type": "code",
      "metadata": {
        "id": "s2Z6V_rOEaUc"
      },
      "source": [
        "file_path = '/content/drive/MyDrive/Colab Notebooks/lab_python/apt_201910.csv'"
      ],
      "execution_count": 7,
      "outputs": []
    },
    {
      "cell_type": "code",
      "metadata": {
        "colab": {
          "base_uri": "https://localhost:8080/"
        },
        "id": "J5BbrP8TEuN1",
        "outputId": "83cc1251-49b2-4c29-d1f1-5c1c1df468e2"
      },
      "source": [
        "with open(file_path, mode='r', encoding='cp949') as f:\r\n",
        "    reader = csv.reader(f)\r\n",
        "    apt_data = [row for row in reader]\r\n",
        "\r\n",
        "apt_data[:5]"
      ],
      "execution_count": 12,
      "outputs": [
        {
          "output_type": "execute_result",
          "data": {
            "text/plain": [
              "[['시군구',\n",
              "  '번지',\n",
              "  '본번',\n",
              "  '부번',\n",
              "  '단지명',\n",
              "  '면적',\n",
              "  '계약년월',\n",
              "  '계약일',\n",
              "  '가격',\n",
              "  '층',\n",
              "  '건축년도',\n",
              "  '도로명'],\n",
              " ['강원도 강릉시 견소동',\n",
              "  '202',\n",
              "  '202',\n",
              "  '0',\n",
              "  '송정한신',\n",
              "  '59.8',\n",
              "  '201910',\n",
              "  '4',\n",
              "  '10,900',\n",
              "  '5',\n",
              "  '1997',\n",
              "  '경강로2539번길 8'],\n",
              " ['강원도 강릉시 견소동',\n",
              "  '202',\n",
              "  '202',\n",
              "  '0',\n",
              "  '송정한신',\n",
              "  '116.175',\n",
              "  '201910',\n",
              "  '31',\n",
              "  '18,500',\n",
              "  '10',\n",
              "  '1997',\n",
              "  '경강로2539번길 8'],\n",
              " ['강원도 강릉시 견소동',\n",
              "  '289',\n",
              "  '289',\n",
              "  '0',\n",
              "  '송정해변신도브래뉴아파트',\n",
              "  '84.99',\n",
              "  '201910',\n",
              "  '5',\n",
              "  '25,000',\n",
              "  '6',\n",
              "  '2005',\n",
              "  '경강로2539번길 22'],\n",
              " ['강원도 강릉시 견소동',\n",
              "  '289',\n",
              "  '289',\n",
              "  '0',\n",
              "  '송정해변신도브래뉴아파트',\n",
              "  '84.99',\n",
              "  '201910',\n",
              "  '12',\n",
              "  '20,600',\n",
              "  '3',\n",
              "  '2005',\n",
              "  '경강로2539번길 22']]"
            ]
          },
          "metadata": {
            "tags": []
          },
          "execution_count": 12
        }
      ]
    },
    {
      "cell_type": "code",
      "metadata": {
        "colab": {
          "base_uri": "https://localhost:8080/"
        },
        "id": "R5I4_ueyGZHN",
        "outputId": "59c8dfa1-a7a6-4de1-ee21-53c64cca5555"
      },
      "source": [
        "apt_data[-5:]"
      ],
      "execution_count": 13,
      "outputs": [
        {
          "output_type": "execute_result",
          "data": {
            "text/plain": [
              "[['충청북도 충주시 호암동',\n",
              "  '547-6',\n",
              "  '547',\n",
              "  '6',\n",
              "  '호반현대',\n",
              "  '59.76',\n",
              "  '201910',\n",
              "  '29',\n",
              "  '7,000',\n",
              "  '3',\n",
              "  '1994',\n",
              "  '신촌2길 28'],\n",
              " ['충청북도 충주시 호암동',\n",
              "  '221-23',\n",
              "  '221',\n",
              "  '23',\n",
              "  '호암리버빌(1단지)',\n",
              "  '84.68',\n",
              "  '201910',\n",
              "  '5',\n",
              "  '12,000',\n",
              "  '15',\n",
              "  '2002',\n",
              "  '원호암5길 32'],\n",
              " ['충청북도 충주시 호암동',\n",
              "  '221-23',\n",
              "  '221',\n",
              "  '23',\n",
              "  '호암리버빌(1단지)',\n",
              "  '84.68',\n",
              "  '201910',\n",
              "  '15',\n",
              "  '11,000',\n",
              "  '7',\n",
              "  '2002',\n",
              "  '원호암5길 32'],\n",
              " ['충청북도 충주시 호암동',\n",
              "  '221-23',\n",
              "  '221',\n",
              "  '23',\n",
              "  '호암리버빌(1단지)',\n",
              "  '84.68',\n",
              "  '201910',\n",
              "  '17',\n",
              "  '12,000',\n",
              "  '14',\n",
              "  '2002',\n",
              "  '원호암5길 32'],\n",
              " ['충청북도 충주시 호암동',\n",
              "  '221-23',\n",
              "  '221',\n",
              "  '23',\n",
              "  '호암리버빌(1단지)',\n",
              "  '84.68',\n",
              "  '201910',\n",
              "  '26',\n",
              "  '11,200',\n",
              "  '11',\n",
              "  '2002',\n",
              "  '원호암5길 32']]"
            ]
          },
          "metadata": {
            "tags": []
          },
          "execution_count": 13
        }
      ]
    },
    {
      "cell_type": "code",
      "metadata": {
        "colab": {
          "base_uri": "https://localhost:8080/"
        },
        "id": "kaMoaJaLHXV9",
        "outputId": "1fcde14a-9e52-46f6-f072-d1f075a37e7b"
      },
      "source": [
        "for i, row in enumerate(apt_data):\r\n",
        "    for j, y in enumerate(row):\r\n",
        "        try:\r\n",
        "            # 값을 정수로 변환해 보고 에러가 없으면, 변환된 정수를 그 위치(인덱스)에 저장.\r\n",
        "            apt_data[i][j] = int(val.replace(',', ''))\r\n",
        "        except:\r\n",
        "            # 정수로 변환 도중에 에러가 발생하면\r\n",
        "            try:\r\n",
        "                # 실수로 변환해 보고 에러가 없으면, 변환된 실수를 그 위치에 저장.\r\n",
        "                apt_data[i][j] = float(val.replace(',', ''))\r\n",
        "            except:\r\n",
        "                # 실수로도 변환이 안 되면 아무 일도 하지 않음.\r\n",
        "                pass\r\n",
        "\r\n",
        "apt_data[:5]"
      ],
      "execution_count": 15,
      "outputs": [
        {
          "output_type": "execute_result",
          "data": {
            "text/plain": [
              "[['시군구',\n",
              "  '번지',\n",
              "  '본번',\n",
              "  '부번',\n",
              "  '단지명',\n",
              "  '면적',\n",
              "  '계약년월',\n",
              "  '계약일',\n",
              "  '가격',\n",
              "  '층',\n",
              "  '건축년도',\n",
              "  '도로명'],\n",
              " ['강원도 강릉시 견소동',\n",
              "  202,\n",
              "  202,\n",
              "  0,\n",
              "  '송정한신',\n",
              "  59.8,\n",
              "  201910,\n",
              "  4,\n",
              "  10900,\n",
              "  5,\n",
              "  1997,\n",
              "  '경강로2539번길 8'],\n",
              " ['강원도 강릉시 견소동',\n",
              "  202,\n",
              "  202,\n",
              "  0,\n",
              "  '송정한신',\n",
              "  116.175,\n",
              "  201910,\n",
              "  31,\n",
              "  18500,\n",
              "  10,\n",
              "  1997,\n",
              "  '경강로2539번길 8'],\n",
              " ['강원도 강릉시 견소동',\n",
              "  289,\n",
              "  289,\n",
              "  0,\n",
              "  '송정해변신도브래뉴아파트',\n",
              "  84.99,\n",
              "  201910,\n",
              "  5,\n",
              "  25000,\n",
              "  6,\n",
              "  2005,\n",
              "  '경강로2539번길 22'],\n",
              " ['강원도 강릉시 견소동',\n",
              "  289,\n",
              "  289,\n",
              "  0,\n",
              "  '송정해변신도브래뉴아파트',\n",
              "  84.99,\n",
              "  201910,\n",
              "  12,\n",
              "  20600,\n",
              "  3,\n",
              "  2005,\n",
              "  '경강로2539번길 22']]"
            ]
          },
          "metadata": {
            "tags": []
          },
          "execution_count": 15
        }
      ]
    },
    {
      "cell_type": "markdown",
      "metadata": {
        "id": "Yu6Kcz6sKAaO"
      },
      "source": [
        "5. 가격이 최댓값인 레코드를 출력\r\n",
        "    *   가격의 최댓값을 찾음\r\n",
        "    *   전체 데이터에서 가격이 최댓값과 일치하는 레코드들을 찾아서 출력"
      ]
    },
    {
      "cell_type": "code",
      "metadata": {
        "colab": {
          "base_uri": "https://localhost:8080/"
        },
        "id": "7JScus7ZLg60",
        "outputId": "7b79048d-3232-471b-8e4e-a3f5916a995b"
      },
      "source": [
        "# apt_data에서 컬럼 이름을 제외하고, '가격'만 1차원 리스트로 생성\r\n",
        "prices = [row[8] for row in apt_data[1:]]\r\n",
        "max_price = max(prices)\r\n",
        "max_price"
      ],
      "execution_count": 19,
      "outputs": [
        {
          "output_type": "execute_result",
          "data": {
            "text/plain": [
              "485000"
            ]
          },
          "metadata": {
            "tags": []
          },
          "execution_count": 19
        }
      ]
    },
    {
      "cell_type": "code",
      "metadata": {
        "colab": {
          "base_uri": "https://localhost:8080/"
        },
        "id": "Os_y3YNQMnPU",
        "outputId": "d6f45121-558f-425a-f82a-8fc508351185"
      },
      "source": [
        "apt_max_price = [apt_data[0]]\r\n",
        "for row in apt_data[1:]:\r\n",
        "    if row[8] == max_price:\r\n",
        "        apt_max_price.append(row)\r\n",
        "\r\n",
        "apt_max_price"
      ],
      "execution_count": 21,
      "outputs": [
        {
          "output_type": "execute_result",
          "data": {
            "text/plain": [
              "[['시군구',\n",
              "  '번지',\n",
              "  '본번',\n",
              "  '부번',\n",
              "  '단지명',\n",
              "  '면적',\n",
              "  '계약년월',\n",
              "  '계약일',\n",
              "  '가격',\n",
              "  '층',\n",
              "  '건축년도',\n",
              "  '도로명'],\n",
              " ['서울특별시 용산구 한남동',\n",
              "  810,\n",
              "  810,\n",
              "  0,\n",
              "  '한남더힐',\n",
              "  233.062,\n",
              "  201910,\n",
              "  24,\n",
              "  485000,\n",
              "  4,\n",
              "  2011,\n",
              "  '독서당로 111']]"
            ]
          },
          "metadata": {
            "tags": []
          },
          "execution_count": 21
        }
      ]
    },
    {
      "cell_type": "markdown",
      "metadata": {
        "id": "LWhLm4r2Ndxd"
      },
      "source": [
        "6. 가격이 최솟값이 레코들을 찾아서 출력"
      ]
    },
    {
      "cell_type": "code",
      "metadata": {
        "id": "X7vSawHDNlN8"
      },
      "source": [
        "# TODO"
      ],
      "execution_count": null,
      "outputs": []
    },
    {
      "cell_type": "markdown",
      "metadata": {
        "id": "dfttGLkPNm90"
      },
      "source": [
        "7. 2차원 리스트 apt_data에서 '시군구', '단지명', '면적', '가격', '층', '건축년도' 6개의 컬럼 선택한 2차원 리스트를 생성"
      ]
    },
    {
      "cell_type": "code",
      "metadata": {
        "id": "j07yvxeZONUG"
      },
      "source": [
        "# TODO"
      ],
      "execution_count": null,
      "outputs": []
    },
    {
      "cell_type": "markdown",
      "metadata": {
        "id": "Y2IC-tNkORqE"
      },
      "source": [
        "8. '시군구'가 '강원도'이고, '가격'이 30,000 이상인 레코드들을 찾으세요.\r\n",
        "    *    7번에서 생성한 2차원 리스트를 사용."
      ]
    },
    {
      "cell_type": "code",
      "metadata": {
        "id": "pmUq_RfZOsu1"
      },
      "source": [
        "# TODO"
      ],
      "execution_count": null,
      "outputs": []
    },
    {
      "cell_type": "markdown",
      "metadata": {
        "id": "VmQzRTtiO1wZ"
      },
      "source": [
        "9. 시군구가 서울이고, 30,000 <= 가격 < 50,000인 레코드들을 찾으세요.\r\n",
        "    *   7번에서 생성한 2차원 리스트를 사용."
      ]
    },
    {
      "cell_type": "code",
      "metadata": {
        "id": "4iMcOPhoPHsj"
      },
      "source": [
        "# TODO"
      ],
      "execution_count": null,
      "outputs": []
    }
  ]
}