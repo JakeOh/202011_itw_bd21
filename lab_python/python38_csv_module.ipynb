{
  "nbformat": 4,
  "nbformat_minor": 0,
  "metadata": {
    "colab": {
      "name": "python38_csv_module.ipynb",
      "provenance": [],
      "collapsed_sections": [],
      "authorship_tag": "ABX9TyOsp+HttjN0I2hQwpXXk9DD",
      "include_colab_link": true
    },
    "kernelspec": {
      "name": "python3",
      "display_name": "Python 3"
    }
  },
  "cells": [
    {
      "cell_type": "markdown",
      "metadata": {
        "id": "view-in-github",
        "colab_type": "text"
      },
      "source": [
        "<a href=\"https://colab.research.google.com/github/JakeOh/202011_itw_bd21/blob/main/lab_python/python38_csv_module.ipynb\" target=\"_parent\"><img src=\"https://colab.research.google.com/assets/colab-badge.svg\" alt=\"Open In Colab\"/></a>"
      ]
    },
    {
      "cell_type": "markdown",
      "metadata": {
        "id": "lUn2CEFd5N06"
      },
      "source": [
        "# CSV 모듈을 사용한 tsv(tab-separated values) 파일 읽기/쓰기"
      ]
    },
    {
      "cell_type": "code",
      "metadata": {
        "id": "sj5Fuk2g5HdQ"
      },
      "source": [
        "texts = '''2021-01-28\\tAPL\\t1500\r\n",
        "2021-01-28\\tBBB\\t2000\r\n",
        "2021-01-28\\tCCC\\t1700\r\n",
        "2021-01-29\\tAPL\\t2000\r\n",
        "2021-01-29\\tBBB\\t1900\r\n",
        "2021-01-29\\tCCC\\t1600\r\n",
        "'''\r\n",
        "\r\n",
        "with open(file='prices.tsv', mode='w') as f:\r\n",
        "    f.write(texts)"
      ],
      "execution_count": 1,
      "outputs": []
    },
    {
      "cell_type": "markdown",
      "metadata": {
        "id": "k9z6UUSG5ue9"
      },
      "source": [
        "*   csv 모듈을 사용\r\n",
        "*   csv.reader()를 사용해서 prices.tsv 파일을 읽고 2차원 리스트를 생성.\r\n",
        "*   csv.writer()를 사용해서 2차원 리스트를 csv 파일로 저장."
      ]
    },
    {
      "cell_type": "code",
      "metadata": {
        "id": "8SGVWAT35gjs"
      },
      "source": [
        "import csv"
      ],
      "execution_count": 2,
      "outputs": []
    },
    {
      "cell_type": "code",
      "metadata": {
        "colab": {
          "base_uri": "https://localhost:8080/"
        },
        "id": "rQKIr7Oh7_LG",
        "outputId": "82d6cc20-3869-431a-a9de-f4752100e5ea"
      },
      "source": [
        "with open('prices.tsv', mode='r') as f:\r\n",
        "    reader = csv.reader(f, delimiter='\\t')\r\n",
        "    prices = [row for row in reader]\r\n",
        "\r\n",
        "prices    "
      ],
      "execution_count": 3,
      "outputs": [
        {
          "output_type": "execute_result",
          "data": {
            "text/plain": [
              "[['2021-01-28', 'APL', '1500'],\n",
              " ['2021-01-28', 'BBB', '2000'],\n",
              " ['2021-01-28', 'CCC', '1700'],\n",
              " ['2021-01-29', 'APL', '2000'],\n",
              " ['2021-01-29', 'BBB', '1900'],\n",
              " ['2021-01-29', 'CCC', '1600']]"
            ]
          },
          "metadata": {
            "tags": []
          },
          "execution_count": 3
        }
      ]
    },
    {
      "cell_type": "code",
      "metadata": {
        "id": "TJog3RBV80vI"
      },
      "source": [
        "with open('prices.csv', mode='w') as f:\r\n",
        "    writer = csv.writer(f)\r\n",
        "    writer.writerows(prices)"
      ],
      "execution_count": 4,
      "outputs": []
    },
    {
      "cell_type": "code",
      "metadata": {
        "id": "VepxRCuj9ZR9"
      },
      "source": [
        "with open('prices.txt', mode='w') as f:\r\n",
        "    writer = csv.writer(f, delimiter=':')\r\n",
        "    writer.writerows(prices)"
      ],
      "execution_count": 6,
      "outputs": []
    },
    {
      "cell_type": "markdown",
      "metadata": {
        "id": "jKfAAfhu-LXd"
      },
      "source": [
        "# csv 모듈 연습"
      ]
    },
    {
      "cell_type": "markdown",
      "metadata": {
        "id": "6q8VDDqV-O8U"
      },
      "source": [
        "1. apt_201910.csv 파일을 구글 드라이브에 업로드\r\n",
        "2. Colab에서 구글 드라이브를 마운트\r\n",
        "3. CSV 파일을 읽어서 2차원 리스트를 생성\r\n",
        "    *   한글 Windows OS의 인코딩 방식으로 저장된 파일\r\n",
        "    *   파일을 open할 때 인코딩 방식을 'cp949'로 설정\r\n",
        "4. 3번에서 생성된 2차원 리스트에서 숫자로 변환할 수 있는 값들은 모두 숫자로 변환\r\n"
      ]
    }
  ]
}