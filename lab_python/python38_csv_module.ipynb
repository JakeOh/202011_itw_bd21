{
  "nbformat": 4,
  "nbformat_minor": 0,
  "metadata": {
    "colab": {
      "name": "python38_csv_module.ipynb",
      "provenance": [],
      "collapsed_sections": [],
      "mount_file_id": "1wWUCcaXqNDM81YIW7JS2XndQmyr2PKwd",
      "authorship_tag": "ABX9TyPLBy+plQokvSvV6IDw8CUR",
      "include_colab_link": true
    },
    "kernelspec": {
      "name": "python3",
      "display_name": "Python 3"
    }
  },
  "cells": [
    {
      "cell_type": "markdown",
      "metadata": {
        "id": "view-in-github",
        "colab_type": "text"
      },
      "source": [
        "<a href=\"https://colab.research.google.com/github/JakeOh/202011_itw_bd21/blob/main/lab_python/python38_csv_module.ipynb\" target=\"_parent\"><img src=\"https://colab.research.google.com/assets/colab-badge.svg\" alt=\"Open In Colab\"/></a>"
      ]
    },
    {
      "cell_type": "markdown",
      "metadata": {
        "id": "lUn2CEFd5N06"
      },
      "source": [
        "# CSV 모듈을 사용한 tsv(tab-separated values) 파일 읽기/쓰기"
      ]
    },
    {
      "cell_type": "code",
      "metadata": {
        "id": "sj5Fuk2g5HdQ"
      },
      "source": [
        "texts = '''2021-01-28\\tAPL\\t1500\r\n",
        "2021-01-28\\tBBB\\t2000\r\n",
        "2021-01-28\\tCCC\\t1700\r\n",
        "2021-01-29\\tAPL\\t2000\r\n",
        "2021-01-29\\tBBB\\t1900\r\n",
        "2021-01-29\\tCCC\\t1600\r\n",
        "'''\r\n",
        "\r\n",
        "with open(file='prices.tsv', mode='w') as f:\r\n",
        "    f.write(texts)"
      ],
      "execution_count": 1,
      "outputs": []
    },
    {
      "cell_type": "markdown",
      "metadata": {
        "id": "k9z6UUSG5ue9"
      },
      "source": [
        "*   csv 모듈을 사용\r\n",
        "*   csv.reader()를 사용해서 prices.tsv 파일을 읽고 2차원 리스트를 생성.\r\n",
        "*   csv.writer()를 사용해서 2차원 리스트를 csv 파일로 저장."
      ]
    },
    {
      "cell_type": "code",
      "metadata": {
        "id": "8SGVWAT35gjs"
      },
      "source": [
        "import csv"
      ],
      "execution_count": 2,
      "outputs": []
    },
    {
      "cell_type": "code",
      "metadata": {
        "colab": {
          "base_uri": "https://localhost:8080/"
        },
        "id": "rQKIr7Oh7_LG",
        "outputId": "8e70a430-5613-4178-e667-216968e0dd02"
      },
      "source": [
        "with open('prices.tsv', mode='r') as f:\r\n",
        "    reader = csv.reader(f, delimiter='\\t')\r\n",
        "    prices = [row for row in reader]\r\n",
        "\r\n",
        "prices"
      ],
      "execution_count": 3,
      "outputs": [
        {
          "output_type": "execute_result",
          "data": {
            "text/plain": [
              "[['2021-01-28', 'APL', '1500'],\n",
              " ['2021-01-28', 'BBB', '2000'],\n",
              " ['2021-01-28', 'CCC', '1700'],\n",
              " ['2021-01-29', 'APL', '2000'],\n",
              " ['2021-01-29', 'BBB', '1900'],\n",
              " ['2021-01-29', 'CCC', '1600']]"
            ]
          },
          "metadata": {
            "tags": []
          },
          "execution_count": 3
        }
      ]
    },
    {
      "cell_type": "code",
      "metadata": {
        "id": "TJog3RBV80vI"
      },
      "source": [
        "with open('prices.csv', mode='w') as f:\r\n",
        "    writer = csv.writer(f)\r\n",
        "    writer.writerows(prices)"
      ],
      "execution_count": 4,
      "outputs": []
    },
    {
      "cell_type": "code",
      "metadata": {
        "id": "VepxRCuj9ZR9"
      },
      "source": [
        "with open('prices.txt', mode='w') as f:\r\n",
        "    writer = csv.writer(f, delimiter=':')\r\n",
        "    writer.writerows(prices)"
      ],
      "execution_count": 5,
      "outputs": []
    },
    {
      "cell_type": "markdown",
      "metadata": {
        "id": "jKfAAfhu-LXd"
      },
      "source": [
        "# csv 모듈 연습"
      ]
    },
    {
      "cell_type": "markdown",
      "metadata": {
        "id": "6q8VDDqV-O8U"
      },
      "source": [
        "1. apt_201910.csv 파일을 구글 드라이브에 업로드\r\n",
        "2. Colab에서 구글 드라이브를 마운트\r\n",
        "3. CSV 파일을 읽어서 2차원 리스트를 생성\r\n",
        "    *   한글 Windows OS의 인코딩 방식으로 저장된 파일\r\n",
        "    *   파일을 open할 때 인코딩 방식을 'cp949'로 설정\r\n",
        "4. 3번에서 생성된 2차원 리스트에서 숫자로 변환할 수 있는 값들은 모두 숫자로 변환\r\n"
      ]
    },
    {
      "cell_type": "code",
      "metadata": {
        "id": "s2Z6V_rOEaUc"
      },
      "source": [
        "file_path = '/content/drive/MyDrive/Colab Notebooks/lab_python/apt_201910.csv'"
      ],
      "execution_count": 6,
      "outputs": []
    },
    {
      "cell_type": "code",
      "metadata": {
        "colab": {
          "base_uri": "https://localhost:8080/"
        },
        "id": "J5BbrP8TEuN1",
        "outputId": "b951fa1b-e718-4ec9-c550-5239e40d1210"
      },
      "source": [
        "with open(file_path, mode='r', encoding='cp949') as f:\r\n",
        "    reader = csv.reader(f)\r\n",
        "    apt_data = [row for row in reader]\r\n",
        "\r\n",
        "apt_data[:5]"
      ],
      "execution_count": 7,
      "outputs": [
        {
          "output_type": "execute_result",
          "data": {
            "text/plain": [
              "[['시군구',\n",
              "  '번지',\n",
              "  '본번',\n",
              "  '부번',\n",
              "  '단지명',\n",
              "  '면적',\n",
              "  '계약년월',\n",
              "  '계약일',\n",
              "  '가격',\n",
              "  '층',\n",
              "  '건축년도',\n",
              "  '도로명'],\n",
              " ['강원도 강릉시 견소동',\n",
              "  '202',\n",
              "  '202',\n",
              "  '0',\n",
              "  '송정한신',\n",
              "  '59.8',\n",
              "  '201910',\n",
              "  '4',\n",
              "  '10,900',\n",
              "  '5',\n",
              "  '1997',\n",
              "  '경강로2539번길 8'],\n",
              " ['강원도 강릉시 견소동',\n",
              "  '202',\n",
              "  '202',\n",
              "  '0',\n",
              "  '송정한신',\n",
              "  '116.175',\n",
              "  '201910',\n",
              "  '31',\n",
              "  '18,500',\n",
              "  '10',\n",
              "  '1997',\n",
              "  '경강로2539번길 8'],\n",
              " ['강원도 강릉시 견소동',\n",
              "  '289',\n",
              "  '289',\n",
              "  '0',\n",
              "  '송정해변신도브래뉴아파트',\n",
              "  '84.99',\n",
              "  '201910',\n",
              "  '5',\n",
              "  '25,000',\n",
              "  '6',\n",
              "  '2005',\n",
              "  '경강로2539번길 22'],\n",
              " ['강원도 강릉시 견소동',\n",
              "  '289',\n",
              "  '289',\n",
              "  '0',\n",
              "  '송정해변신도브래뉴아파트',\n",
              "  '84.99',\n",
              "  '201910',\n",
              "  '12',\n",
              "  '20,600',\n",
              "  '3',\n",
              "  '2005',\n",
              "  '경강로2539번길 22']]"
            ]
          },
          "metadata": {
            "tags": []
          },
          "execution_count": 7
        }
      ]
    },
    {
      "cell_type": "code",
      "metadata": {
        "colab": {
          "base_uri": "https://localhost:8080/"
        },
        "id": "R5I4_ueyGZHN",
        "outputId": "60773858-3ab8-4e9a-95ed-30fd976be5cb"
      },
      "source": [
        "apt_data[-5:]"
      ],
      "execution_count": 8,
      "outputs": [
        {
          "output_type": "execute_result",
          "data": {
            "text/plain": [
              "[['충청북도 충주시 호암동',\n",
              "  '547-6',\n",
              "  '547',\n",
              "  '6',\n",
              "  '호반현대',\n",
              "  '59.76',\n",
              "  '201910',\n",
              "  '29',\n",
              "  '7,000',\n",
              "  '3',\n",
              "  '1994',\n",
              "  '신촌2길 28'],\n",
              " ['충청북도 충주시 호암동',\n",
              "  '221-23',\n",
              "  '221',\n",
              "  '23',\n",
              "  '호암리버빌(1단지)',\n",
              "  '84.68',\n",
              "  '201910',\n",
              "  '5',\n",
              "  '12,000',\n",
              "  '15',\n",
              "  '2002',\n",
              "  '원호암5길 32'],\n",
              " ['충청북도 충주시 호암동',\n",
              "  '221-23',\n",
              "  '221',\n",
              "  '23',\n",
              "  '호암리버빌(1단지)',\n",
              "  '84.68',\n",
              "  '201910',\n",
              "  '15',\n",
              "  '11,000',\n",
              "  '7',\n",
              "  '2002',\n",
              "  '원호암5길 32'],\n",
              " ['충청북도 충주시 호암동',\n",
              "  '221-23',\n",
              "  '221',\n",
              "  '23',\n",
              "  '호암리버빌(1단지)',\n",
              "  '84.68',\n",
              "  '201910',\n",
              "  '17',\n",
              "  '12,000',\n",
              "  '14',\n",
              "  '2002',\n",
              "  '원호암5길 32'],\n",
              " ['충청북도 충주시 호암동',\n",
              "  '221-23',\n",
              "  '221',\n",
              "  '23',\n",
              "  '호암리버빌(1단지)',\n",
              "  '84.68',\n",
              "  '201910',\n",
              "  '26',\n",
              "  '11,200',\n",
              "  '11',\n",
              "  '2002',\n",
              "  '원호암5길 32']]"
            ]
          },
          "metadata": {
            "tags": []
          },
          "execution_count": 8
        }
      ]
    },
    {
      "cell_type": "code",
      "metadata": {
        "colab": {
          "base_uri": "https://localhost:8080/"
        },
        "id": "kaMoaJaLHXV9",
        "outputId": "267cc604-c9cd-4d84-9484-0f40bbd4a0c0"
      },
      "source": [
        "for i, row in enumerate(apt_data):\r\n",
        "    for j, val in enumerate(row):\r\n",
        "        try:\r\n",
        "            # 값을 정수로 변환해 보고 에러가 없으면, 변환된 정수를 그 위치(인덱스)에 저장.\r\n",
        "            apt_data[i][j] = int(val.replace(',', ''))\r\n",
        "        except:\r\n",
        "            # 정수로 변환 도중에 에러가 발생하면\r\n",
        "            try:\r\n",
        "                # 실수로 변환해 보고 에러가 없으면, 변환된 실수를 그 위치에 저장.\r\n",
        "                apt_data[i][j] = float(val.replace(',', ''))\r\n",
        "            except:\r\n",
        "                # 실수로도 변환이 안 되면 아무 일도 하지 않음.\r\n",
        "                pass\r\n",
        "\r\n",
        "apt_data[:5]"
      ],
      "execution_count": 16,
      "outputs": [
        {
          "output_type": "execute_result",
          "data": {
            "text/plain": [
              "[['시군구',\n",
              "  '번지',\n",
              "  '본번',\n",
              "  '부번',\n",
              "  '단지명',\n",
              "  '면적',\n",
              "  '계약년월',\n",
              "  '계약일',\n",
              "  '가격',\n",
              "  '층',\n",
              "  '건축년도',\n",
              "  '도로명'],\n",
              " ['강원도 강릉시 견소동',\n",
              "  202,\n",
              "  202,\n",
              "  0,\n",
              "  '송정한신',\n",
              "  59.8,\n",
              "  201910,\n",
              "  4,\n",
              "  10900,\n",
              "  5,\n",
              "  1997,\n",
              "  '경강로2539번길 8'],\n",
              " ['강원도 강릉시 견소동',\n",
              "  202,\n",
              "  202,\n",
              "  0,\n",
              "  '송정한신',\n",
              "  116.175,\n",
              "  201910,\n",
              "  31,\n",
              "  18500,\n",
              "  10,\n",
              "  1997,\n",
              "  '경강로2539번길 8'],\n",
              " ['강원도 강릉시 견소동',\n",
              "  289,\n",
              "  289,\n",
              "  0,\n",
              "  '송정해변신도브래뉴아파트',\n",
              "  84.99,\n",
              "  201910,\n",
              "  5,\n",
              "  25000,\n",
              "  6,\n",
              "  2005,\n",
              "  '경강로2539번길 22'],\n",
              " ['강원도 강릉시 견소동',\n",
              "  289,\n",
              "  289,\n",
              "  0,\n",
              "  '송정해변신도브래뉴아파트',\n",
              "  84.99,\n",
              "  201910,\n",
              "  12,\n",
              "  20600,\n",
              "  3,\n",
              "  2005,\n",
              "  '경강로2539번길 22']]"
            ]
          },
          "metadata": {
            "tags": []
          },
          "execution_count": 16
        }
      ]
    },
    {
      "cell_type": "markdown",
      "metadata": {
        "id": "Yu6Kcz6sKAaO"
      },
      "source": [
        "5. 가격이 최댓값인 레코드를 출력\r\n",
        "    *   가격의 최댓값을 찾음\r\n",
        "    *   전체 데이터에서 가격이 최댓값과 일치하는 레코드들을 찾아서 출력"
      ]
    },
    {
      "cell_type": "code",
      "metadata": {
        "colab": {
          "base_uri": "https://localhost:8080/"
        },
        "id": "7JScus7ZLg60",
        "outputId": "def83fc2-cd39-421e-d2e6-e76b7093ebf1"
      },
      "source": [
        "# apt_data에서 컬럼 이름을 제외하고, '가격'만 1차원 리스트로 생성\r\n",
        "prices = [row[8] for row in apt_data[1:]]\r\n",
        "max_price = max(prices)\r\n",
        "max_price"
      ],
      "execution_count": 17,
      "outputs": [
        {
          "output_type": "execute_result",
          "data": {
            "text/plain": [
              "485000"
            ]
          },
          "metadata": {
            "tags": []
          },
          "execution_count": 17
        }
      ]
    },
    {
      "cell_type": "code",
      "metadata": {
        "colab": {
          "base_uri": "https://localhost:8080/"
        },
        "id": "Os_y3YNQMnPU",
        "outputId": "749221b7-27b1-4fc7-af8f-2f3c929a0d61"
      },
      "source": [
        "apt_max_price = [apt_data[0]]\r\n",
        "for row in apt_data[1:]:\r\n",
        "    if row[8] == max_price:\r\n",
        "        apt_max_price.append(row)\r\n",
        "\r\n",
        "apt_max_price"
      ],
      "execution_count": 18,
      "outputs": [
        {
          "output_type": "execute_result",
          "data": {
            "text/plain": [
              "[['시군구',\n",
              "  '번지',\n",
              "  '본번',\n",
              "  '부번',\n",
              "  '단지명',\n",
              "  '면적',\n",
              "  '계약년월',\n",
              "  '계약일',\n",
              "  '가격',\n",
              "  '층',\n",
              "  '건축년도',\n",
              "  '도로명'],\n",
              " ['서울특별시 용산구 한남동',\n",
              "  810,\n",
              "  810,\n",
              "  0,\n",
              "  '한남더힐',\n",
              "  233.062,\n",
              "  201910,\n",
              "  24,\n",
              "  485000,\n",
              "  4,\n",
              "  2011,\n",
              "  '독서당로 111']]"
            ]
          },
          "metadata": {
            "tags": []
          },
          "execution_count": 18
        }
      ]
    },
    {
      "cell_type": "markdown",
      "metadata": {
        "id": "LWhLm4r2Ndxd"
      },
      "source": [
        "6. 가격이 최솟값이 레코들을 찾아서 출력"
      ]
    },
    {
      "cell_type": "code",
      "metadata": {
        "id": "X7vSawHDNlN8",
        "colab": {
          "base_uri": "https://localhost:8080/"
        },
        "outputId": "b23f4b44-a4e7-40d9-958c-6d2c3e25ea38"
      },
      "source": [
        "min_price = min(prices)\r\n",
        "print(min_price)\r\n",
        "\r\n",
        "apt_min_price = [apt_data[0]]\r\n",
        "for row in apt_data[1:]:\r\n",
        "    if row[apt_data[0].index('가격')] == min_price:\r\n",
        "        apt_min_price.append(row)\r\n",
        "\r\n",
        "apt_min_price"
      ],
      "execution_count": 28,
      "outputs": [
        {
          "output_type": "stream",
          "text": [
            "600\n"
          ],
          "name": "stdout"
        },
        {
          "output_type": "execute_result",
          "data": {
            "text/plain": [
              "[['시군구',\n",
              "  '번지',\n",
              "  '본번',\n",
              "  '부번',\n",
              "  '단지명',\n",
              "  '면적',\n",
              "  '계약년월',\n",
              "  '계약일',\n",
              "  '가격',\n",
              "  '층',\n",
              "  '건축년도',\n",
              "  '도로명'],\n",
              " ['경상북도 구미시 원평동',\n",
              "  '937-68',\n",
              "  937,\n",
              "  68,\n",
              "  '원평주공',\n",
              "  40.32,\n",
              "  201910,\n",
              "  7,\n",
              "  600,\n",
              "  4,\n",
              "  1984,\n",
              "  '칠성로2길 16']]"
            ]
          },
          "metadata": {
            "tags": []
          },
          "execution_count": 28
        }
      ]
    },
    {
      "cell_type": "markdown",
      "metadata": {
        "id": "dfttGLkPNm90"
      },
      "source": [
        "7. 2차원 리스트 apt_data에서 '시군구', '단지명', '면적', '가격', '층', '건축년도' 6개의 컬럼 선택한 2차원 리스트를 생성"
      ]
    },
    {
      "cell_type": "code",
      "metadata": {
        "id": "j07yvxeZONUG",
        "colab": {
          "base_uri": "https://localhost:8080/"
        },
        "outputId": "4d8414ec-507e-4699-98e9-73fa925f6cb3"
      },
      "source": [
        "header = apt_data[0]\r\n",
        "print(header)\r\n",
        "print(header.index('시군구'))\r\n",
        "print(header.index('단지명'))"
      ],
      "execution_count": 31,
      "outputs": [
        {
          "output_type": "stream",
          "text": [
            "['시군구', '번지', '본번', '부번', '단지명', '면적', '계약년월', '계약일', '가격', '층', '건축년도', '도로명']\n",
            "0\n",
            "4\n"
          ],
          "name": "stdout"
        }
      ]
    },
    {
      "cell_type": "code",
      "metadata": {
        "colab": {
          "base_uri": "https://localhost:8080/"
        },
        "id": "HPMnpVPGKFkw",
        "outputId": "bc9aa792-3896-4459-a2ee-e56a84950790"
      },
      "source": [
        "apt_data2 = []\r\n",
        "for row in apt_data:\r\n",
        "    # selected = [row[0], row[4], row[5], row[8], row[9], row[10]]\r\n",
        "    selected = [row[header.index('시군구')],\r\n",
        "                row[header.index('단지명')],\r\n",
        "                row[header.index('면적')],\r\n",
        "                row[header.index('가격')],\r\n",
        "                row[header.index('층')],\r\n",
        "                row[header.index('건축년도')]]\r\n",
        "    apt_data2.append(selected)\r\n",
        "\r\n",
        "apt_data2[:5]"
      ],
      "execution_count": 35,
      "outputs": [
        {
          "output_type": "execute_result",
          "data": {
            "text/plain": [
              "[['시군구', '단지명', '면적', '가격', '층', '건축년도'],\n",
              " ['강원도 강릉시 견소동', '송정한신', 59.8, 10900, 5, 1997],\n",
              " ['강원도 강릉시 견소동', '송정한신', 116.175, 18500, 10, 1997],\n",
              " ['강원도 강릉시 견소동', '송정해변신도브래뉴아파트', 84.99, 25000, 6, 2005],\n",
              " ['강원도 강릉시 견소동', '송정해변신도브래뉴아파트', 84.99, 20600, 3, 2005]]"
            ]
          },
          "metadata": {
            "tags": []
          },
          "execution_count": 35
        }
      ]
    },
    {
      "cell_type": "code",
      "metadata": {
        "colab": {
          "base_uri": "https://localhost:8080/"
        },
        "id": "Z_LXjYmwLkWB",
        "outputId": "aa6a7180-34c0-4b81-86b8-20f5b4ab2ef0"
      },
      "source": [
        "apt_data2[-5:]"
      ],
      "execution_count": 36,
      "outputs": [
        {
          "output_type": "execute_result",
          "data": {
            "text/plain": [
              "[['충청북도 충주시 호암동', '호반현대', 59.76, 7000, 3, 1994],\n",
              " ['충청북도 충주시 호암동', '호암리버빌(1단지)', 84.68, 12000, 15, 2002],\n",
              " ['충청북도 충주시 호암동', '호암리버빌(1단지)', 84.68, 11000, 7, 2002],\n",
              " ['충청북도 충주시 호암동', '호암리버빌(1단지)', 84.68, 12000, 14, 2002],\n",
              " ['충청북도 충주시 호암동', '호암리버빌(1단지)', 84.68, 11200, 11, 2002]]"
            ]
          },
          "metadata": {
            "tags": []
          },
          "execution_count": 36
        }
      ]
    },
    {
      "cell_type": "markdown",
      "metadata": {
        "id": "Y2IC-tNkORqE"
      },
      "source": [
        "8. '시군구'가 '강원도'이고, '가격'이 30,000 이상인 레코드들을 찾으세요.\r\n",
        "    *    7번에서 생성한 2차원 리스트를 사용."
      ]
    },
    {
      "cell_type": "code",
      "metadata": {
        "id": "pmUq_RfZOsu1",
        "colab": {
          "base_uri": "https://localhost:8080/"
        },
        "outputId": "28f91438-b7f6-4560-f54e-012ad5e3634b"
      },
      "source": [
        "result = [apt_data2[0]]\r\n",
        "for row in apt_data2[1:]:\r\n",
        "    if row[0].startswith('강원도') and row[3] >= 30_000:\r\n",
        "        result.append(row)\r\n",
        "\r\n",
        "result"
      ],
      "execution_count": 37,
      "outputs": [
        {
          "output_type": "execute_result",
          "data": {
            "text/plain": [
              "[['시군구', '단지명', '면적', '가격', '층', '건축년도'],\n",
              " ['강원도 강릉시 교동', '강릉교동롯데캐슬1단지', 135.1727, 34300, 9, 2009],\n",
              " ['강원도 강릉시 교동', '강릉교동롯데캐슬2단지', 118.0686, 32500, 2, 2009],\n",
              " ['강원도 강릉시 교동', '교동이-편한세상', 123.7566, 32500, 3, 2006],\n",
              " ['강원도 강릉시 송정동', '강릉송정 한신더휴', 84.961, 30000, 20, 2019],\n",
              " ['강원도 강릉시 홍제동', '우미린아파트', 84.9843, 34200, 18, 2016],\n",
              " ['강원도 강릉시 홍제동', '우미린아파트', 84.9871, 34000, 20, 2016],\n",
              " ['강원도 강릉시 홍제동', '우미린아파트', 84.9871, 34900, 8, 2016],\n",
              " ['강원도 강릉시 홍제동', '우미린아파트', 84.9819, 35400, 12, 2016],\n",
              " ['강원도 강릉시 홍제동', '우미린아파트', 78.4089, 30000, 15, 2016],\n",
              " ['강원도 강릉시 홍제동', '우미린아파트', 84.9843, 33900, 19, 2016],\n",
              " ['강원도 강릉시 홍제동', '우미린아파트', 84.9871, 32800, 4, 2016],\n",
              " ['강원도 강릉시 홍제동', '우미린아파트', 78.4089, 31000, 10, 2016],\n",
              " ['강원도 강릉시 홍제동', '우미린아파트', 84.9819, 34500, 12, 2016],\n",
              " ['강원도 속초시 동명동', 'e편한세상 영랑호', 84.9439, 36800, 25, 2017],\n",
              " ['강원도 속초시 동명동', 'e편한세상 영랑호', 84.9147, 34500, 24, 2017],\n",
              " ['강원도 속초시 동명동', 'e편한세상 영랑호', 84.9439, 30000, 12, 2017],\n",
              " ['강원도 속초시 동명동', 'e편한세상 영랑호', 84.9147, 36500, 18, 2017],\n",
              " ['강원도 속초시 청호동', '속초청호아이파크', 84.82, 39000, 14, 2018],\n",
              " ['강원도 속초시 청호동', '속초청호아이파크', 84.94, 45800, 19, 2018],\n",
              " ['강원도 속초시 청호동', '속초청호아이파크', 75.97, 30800, 4, 2018],\n",
              " ['강원도 원주시 단계동', '원주봉화산푸르지오', 84.8617, 32500, 26, 2017],\n",
              " ['강원도 원주시 무실동', '무실e-편한세상', 124.1326, 37000, 7, 2009],\n",
              " ['강원도 원주시 무실동', '무실e-편한세상', 153.7215, 44600, 14, 2009],\n",
              " ['강원도 원주시 반곡동', '원주반곡아이파크', 158.4784, 40700, 11, 2008],\n",
              " ['강원도 원주시 반곡동', '힐데스하임 5단지', 84.9593, 30000, 10, 2015],\n",
              " ['강원도 원주시 반곡동', '힐데스하임 5단지', 84.9593, 31000, 18, 2015],\n",
              " ['강원도 원주시 반곡동', '힐데스하임 5단지', 84.9593, 30950, 9, 2015],\n",
              " ['강원도 원주시 판부면 서곡리', '원주더샾아파트', 157.316, 34000, 5, 2006],\n",
              " ['강원도 춘천시 석사동', '현진에버빌2차', 91.36, 30000, 14, 2005],\n",
              " ['강원도 춘천시 석사동', '현진에버빌2차', 126.25, 35500, 13, 2005],\n",
              " ['강원도 춘천시 석사동', '현진에버빌2차', 126.25, 31200, 6, 2005],\n",
              " ['강원도 춘천시 석사동', '현진에버빌2차', 108.17, 30300, 4, 2005],\n",
              " ['강원도 춘천시 소양로2가', 'e편한세상 춘천', 104.796, 32100, 12, 2014],\n",
              " ['강원도 춘천시 온의동', '온의 롯데캐슬 스카이클래스', 99.629, 44000, 35, 2015],\n",
              " ['강원도 춘천시 온의동', '온의 롯데캐슬 스카이클래스', 99.629, 42900, 14, 2015],\n",
              " ['강원도 춘천시 우두동', '롯데인벤스', 173.7, 36500, 9, 2006],\n",
              " ['강원도 춘천시 퇴계동', '유승한내들', 116.6708, 32500, 15, 2006],\n",
              " ['강원도 춘천시 퇴계동', '휴먼시아남춘천1단지', 121.95, 34000, 11, 2011],\n",
              " ['강원도 춘천시 퇴계동', '휴먼시아남춘천1단지', 101.87, 31500, 11, 2011],\n",
              " ['강원도 춘천시 후평동', '춘천더샵', 145.5773, 30900, 25, 2008],\n",
              " ['강원도 춘천시 후평동', '춘천일성트루엘더퍼스트', 84.995, 30400, 9, 2018],\n",
              " ['강원도 평창군 대관령면 수하리', '동계올림픽 선수촌 아파트', 84.923, 36000, 8, 2018]]"
            ]
          },
          "metadata": {
            "tags": []
          },
          "execution_count": 37
        }
      ]
    },
    {
      "cell_type": "markdown",
      "metadata": {
        "id": "VmQzRTtiO1wZ"
      },
      "source": [
        "9. 시군구가 서울이고, 30,000 <= 가격 < 50,000인 레코드들을 찾으세요.\r\n",
        "    *   7번에서 생성한 2차원 리스트를 사용."
      ]
    },
    {
      "cell_type": "code",
      "metadata": {
        "id": "4iMcOPhoPHsj",
        "colab": {
          "base_uri": "https://localhost:8080/"
        },
        "outputId": "693de99a-8eb6-4a8c-b34b-52eaab5f58be"
      },
      "source": [
        "result = [apt_data2[0]]\r\n",
        "for row in apt_data2[1:]:\r\n",
        "    if row[0].startswith('서울') and 30_000 <= row[3] < 50_000:\r\n",
        "        result.append(row)\r\n",
        "\r\n",
        "result[:5]"
      ],
      "execution_count": 38,
      "outputs": [
        {
          "output_type": "execute_result",
          "data": {
            "text/plain": [
              "[['시군구', '단지명', '면적', '가격', '층', '건축년도'],\n",
              " ['서울특별시 강남구 대치동', '아름빌(889-74)', 30.46, 30000, 5, 2003],\n",
              " ['서울특별시 강남구 도곡동', '현대비젼21', 33.1, 31800, 14, 1999],\n",
              " ['서울특별시 강남구 역삼동', '한화진넥스빌', 43.58, 38000, 26, 2001],\n",
              " ['서울특별시 강동구 길동', 'SM해그린12차', 84.56, 47000, 2, 2006]]"
            ]
          },
          "metadata": {
            "tags": []
          },
          "execution_count": 38
        }
      ]
    },
    {
      "cell_type": "code",
      "metadata": {
        "colab": {
          "base_uri": "https://localhost:8080/"
        },
        "id": "gzvaAEUyR392",
        "outputId": "01152ba4-6a64-4fae-98ac-13a30d8575d2"
      },
      "source": [
        "result[-5:]"
      ],
      "execution_count": 39,
      "outputs": [
        {
          "output_type": "execute_result",
          "data": {
            "text/plain": [
              "[['서울특별시 중랑구 중화동', '삼익', 80.58, 40000, 5, 1995],\n",
              " ['서울특별시 중랑구 중화동', '한솔e(A동)', 71.34, 34000, 3, 2004],\n",
              " ['서울특별시 중랑구 중화동', '한신1차', 59.76, 45500, 25, 1997],\n",
              " ['서울특별시 중랑구 중화동', '한신1차', 59.76, 45700, 24, 1997],\n",
              " ['서울특별시 중랑구 중화동', '한신2', 59.76, 44300, 12, 1998]]"
            ]
          },
          "metadata": {
            "tags": []
          },
          "execution_count": 39
        }
      ]
    },
    {
      "cell_type": "code",
      "metadata": {
        "id": "P8Gf2BxZSItI"
      },
      "source": [
        "# 서울 3억 이상 5억 미만 자료들(reuslt)을 파일에 저장.\r\n",
        "with open('apt_seoul.csv', mode='w') as f:\r\n",
        "    writer = csv.writer(f)\r\n",
        "    writer.writerows(result)"
      ],
      "execution_count": 40,
      "outputs": []
    }
  ]
}