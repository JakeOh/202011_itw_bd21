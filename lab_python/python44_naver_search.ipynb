{
  "nbformat": 4,
  "nbformat_minor": 0,
  "metadata": {
    "colab": {
      "name": "python44_naver_search.ipynb",
      "provenance": [],
      "collapsed_sections": [],
      "authorship_tag": "ABX9TyOIFOjoxeVt2VS8GV8oChzC",
      "include_colab_link": true
    },
    "kernelspec": {
      "name": "python3",
      "display_name": "Python 3"
    }
  },
  "cells": [
    {
      "cell_type": "markdown",
      "metadata": {
        "id": "view-in-github",
        "colab_type": "text"
      },
      "source": [
        "<a href=\"https://colab.research.google.com/github/JakeOh/202011_itw_bd21/blob/main/lab_python/python44_naver_search.ipynb\" target=\"_parent\"><img src=\"https://colab.research.google.com/assets/colab-badge.svg\" alt=\"Open In Colab\"/></a>"
      ]
    },
    {
      "cell_type": "markdown",
      "metadata": {
        "id": "1PVg2kLLyijh"
      },
      "source": [
        "# 네이버 뉴스 검색"
      ]
    },
    {
      "cell_type": "code",
      "metadata": {
        "id": "-PCfntTXtxBJ"
      },
      "source": [
        "import requests\r\n",
        "from bs4 import BeautifulSoup"
      ],
      "execution_count": null,
      "outputs": []
    },
    {
      "cell_type": "markdown",
      "metadata": {
        "id": "aymHXo5Yuhb9"
      },
      "source": [
        "*   https://search.naver.com/search.naver?where=news&sm=tab_jum&query=%EB%A8%B8%EC%8B%A0%EB%9F%AC%EB%8B%9D\r\n",
        "*   1 page\r\n",
        "    *   https://search.naver.com/search.naver?&where=news&query=%EB%A8%B8%EC%8B%A0%EB%9F%AC%EB%8B%9D&sm=tab_pge&sort=0&photo=0&field=0&reporter_article=&pd=0&ds=&de=&docid=&nso=so:r,p:all,a:all&mynews=0&cluster_rank=46&start=1&refresh_start=0\r\n",
        "*   2 page\r\n",
        "    *   https://search.naver.com/search.naver?&where=news&query=%EB%A8%B8%EC%8B%A0%EB%9F%AC%EB%8B%9D&sm=tab_pge&sort=0&photo=0&field=0&reporter_article=&pd=0&ds=&de=&docid=&nso=so:r,p:all,a:all&mynews=0&cluster_rank=18&start=11&refresh_start=0\r\n",
        "*   3 page\r\n",
        "    *   https://search.naver.com/search.naver?&where=news&query=%EB%A8%B8%EC%8B%A0%EB%9F%AC%EB%8B%9D&sm=tab_pge&sort=0&photo=0&field=0&reporter_article=&pd=0&ds=&de=&docid=&nso=so:r,p:all,a:all&mynews=0&cluster_rank=64&start=21&refresh_start=0\r\n",
        "* 4 page\r\n",
        "    *   https://search.naver.com/search.naver?&where=news&query=%EB%A8%B8%EC%8B%A0%EB%9F%AC%EB%8B%9D&sm=tab_pge&sort=0&photo=0&field=0&reporter_article=&pd=0&ds=&de=&docid=&nso=so:r,p:all,a:all&mynews=0&cluster_rank=18&start=31&refresh_start=0"
      ]
    },
    {
      "cell_type": "code",
      "metadata": {
        "colab": {
          "base_uri": "https://localhost:8080/"
        },
        "id": "6dciLKBSkm-B",
        "outputId": "c940a98e-b284-4095-ffc5-45ed37f72934"
      },
      "source": [
        "url = 'https://search.naver.com/search.naver?where=news'  # URL\r\n",
        "params = {'query': '머신러닝', 'start': 1}  # 요청 파라미터(request parameter)\r\n",
        "response = requests.get(url, params)\r\n",
        "print(response)"
      ],
      "execution_count": null,
      "outputs": [
        {
          "output_type": "stream",
          "text": [
            "<Response [200]>\n"
          ],
          "name": "stdout"
        }
      ]
    },
    {
      "cell_type": "code",
      "metadata": {
        "colab": {
          "base_uri": "https://localhost:8080/"
        },
        "id": "my5NZcY6r3m9",
        "outputId": "f7fe5422-52be-4f22-c993-fdda9638f4a2"
      },
      "source": [
        "html = response.text.strip()\r\n",
        "print(html[:500])"
      ],
      "execution_count": null,
      "outputs": [
        {
          "output_type": "stream",
          "text": [
            "<!doctype html> <html lang=\"ko\"> <head> <meta charset=\"utf-8\"> <meta name=\"referrer\" content=\"always\">  <meta name=\"format-detection\" content=\"telephone=no,address=no,email=no\"> <meta name=\"viewport\" content=\"width=device-width,initial-scale=1.0,maximum-scale=2.0\"> <meta property=\"og:title\" content=\"머신러닝 : 네이버 뉴스검색\"/> <meta property=\"og:image\" content=\"https://ssl.pstatic.net/sstatic/search/common/og_v3.png\"> <meta property=\"og:description\" content=\"'머신러닝'의 네이버 뉴스검색 결과입니다.\"> <meta name=\"descript\n"
          ],
          "name": "stdout"
        }
      ]
    },
    {
      "cell_type": "code",
      "metadata": {
        "colab": {
          "base_uri": "https://localhost:8080/"
        },
        "id": "VbBVqpkysUs5",
        "outputId": "88197e23-0f73-4c9b-b10b-770dd9eade02"
      },
      "source": [
        "print(html[-500:])"
      ],
      "execution_count": null,
      "outputs": [
        {
          "output_type": "stream",
          "text": [
            "t, null).getPropertyValue('outline-width'); target.setAttribute('tabindex', 0); target.style.outlineWidth = 0; target.focus(); if (oldTabIndex === null) target.removeAttribute('tabindex'); else target.setAttribute('tabindex', oldTabIndex); }, false); }); }, false); })(); </script><script type=\"text/javascript\"> if(typeof nx_usain_beacon !== 'undefined') { nx_usain_beacon.add_tag(\"conn_._TLSv1.3_.\") ; $Fn(function () { nx_usain_beacon.send(); }).attach(window, \"load\") ; } </script></body> </html>\n"
          ],
          "name": "stdout"
        }
      ]
    },
    {
      "cell_type": "code",
      "metadata": {
        "colab": {
          "base_uri": "https://localhost:8080/"
        },
        "id": "Ep0ZmQpOsYh-",
        "outputId": "1a2a4fa7-c792-477d-f490-668fa0b3b41c"
      },
      "source": [
        "soup = BeautifulSoup(markup=html, features='html5lib')\r\n",
        "selector = 'ul.list_news > li > div > div > a.news_tit'\r\n",
        "soup.select(selector)"
      ],
      "execution_count": null,
      "outputs": [
        {
          "output_type": "execute_result",
          "data": {
            "text/plain": [
              "[<a class=\"news_tit\" href=\"http://www.ddaily.co.kr/news/article.html?no=208443\" onclick=\"return goOtherCR(this, 'a=nws*a.tit&amp;r=1&amp;i=880000AC_000000000000000002097993&amp;g=138.0002097993&amp;u='+urlencode(this.href));\" target=\"_blank\" title=\"몰로코, 머신러닝 기반 광고 자동화 플랫폼 출시\">몰로코, <mark>머신러닝</mark> 기반 광고 자동화 플랫폼 출시</a>,\n",
              " <a class=\"news_tit\" href=\"http://www.etnews.com/20210122000063\" onclick=\"return goOtherCR(this, 'a=nws*a.tit&amp;r=6&amp;i=880000EA_000000000000000002924712&amp;g=030.0002924712&amp;u='+urlencode(this.href));\" target=\"_blank\" title=\"GS샵, 러닝머신 '나인닷 런닝패드' 단독 론칭\">GS샵, <mark>러닝</mark><mark>머신</mark> '나인닷 런닝패드' 단독 론칭</a>,\n",
              " <a class=\"news_tit\" href=\"http://www.epnc.co.kr/news/articleView.html?idxno=114928\" onclick=\"return goOtherCR(this, 'a=nws*f.tit&amp;r=11&amp;i=8819cr4r_000000000000000000019400&amp;g=5752.0000019400&amp;u='+urlencode(this.href));\" target=\"_blank\" title=\"스마트 공장에서 머신비전의 중요성\">스마트 공장에서 <mark>머신</mark>비전의 중요성</a>,\n",
              " <a class=\"news_tit\" href=\"http://www.itworld.co.kr/techlibrary/180724\" onclick=\"return goOtherCR(this, 'a=nws*f.tit&amp;r=12&amp;i=88000629_000000000000000000049140&amp;g=5110.0000049140&amp;u='+urlencode(this.href));\" target=\"_blank\" title=\"Workday의 머신러닝 혁신 : IT 리더를 위한 가이드\">Workday의 <mark>머신러닝</mark> 혁신 : IT 리더를 위한 가이드</a>,\n",
              " <a class=\"news_tit\" href=\"http://news.mk.co.kr/newsRead.php?no=100880&amp;year=2021\" onclick=\"return goOtherCR(this, 'a=nws*e.tit&amp;r=13&amp;i=880000BC_000000000000000004741980&amp;g=009.0004741980&amp;u='+urlencode(this.href));\" target=\"_blank\" title='지멘스 CEO \"머신러닝이 향후 5년 제조업 키워드\"'>지멘스 CEO \"<mark>머신러닝</mark>이 향후 5년 제조업 키워드\"</a>,\n",
              " <a class=\"news_tit\" href=\"https://magazine.hankyung.com/business/article/2021012601313000481\" onclick=\"return goOtherCR(this, 'a=nws*e.tit&amp;r=14&amp;i=88000106_000000000000000000056482&amp;g=050.0000056482&amp;u='+urlencode(this.href));\" target=\"_blank\" title=\"큐앤에이소프트, 딥러닝 기반의 주식 자동 매매 프로그램 ‘큐아이’ 출시\">큐앤에이소프트, 딥<mark>러닝</mark> 기반의 주식 자동 매매 프로그램 ‘큐아이’ 출시</a>,\n",
              " <a class=\"news_tit\" href=\"http://www.dt.co.kr/contents.html?article_no=2021012502109923039003&amp;ref=naver\" onclick=\"return goOtherCR(this, 'a=nws*e.tit&amp;r=15&amp;i=880000AD_000000000000000002651226&amp;g=029.0002651226&amp;u='+urlencode(this.href));\" target=\"_blank\" title=\"바이텍씨스템, 데이터로봇과 데이터 사이언스 및 머신러닝 플랫폼 시장 본격 진출\">바이텍씨스템, 데이터로봇과 데이터 사이언스 및 <mark>머신러닝</mark> 플랫폼 시장 본격 ...</a>,\n",
              " <a class=\"news_tit\" href=\"http://www.hani.co.kr/arti/politics/assembly/978754.html\" onclick=\"return goOtherCR(this, 'a=nws*j.tit&amp;r=16&amp;i=88000103_000000000000000002528578&amp;g=028.0002528578&amp;u='+urlencode(this.href));\" target=\"_blank\" title=\"헬스장, 18일 이후 러닝머신 금지·개인운동 허용 가닥\">헬스장, 18일 이후 <mark>러닝</mark><mark>머신</mark> 금지·개인운동 허용 가닥</a>,\n",
              " <a class=\"news_tit\" href=\"http://kr.aving.net/news/view.php?articleId=1589276&amp;Branch_ID=kr&amp;rssid=naver&amp;mn_name=news\" onclick=\"return goOtherCR(this, 'a=nws*f.tit&amp;r=17&amp;i=880003CB_000000000000000000155838&amp;g=5015.0000155838&amp;u='+urlencode(this.href));\" target=\"_blank\" title=\"[CES 2021 All Digital] 콕스스페이스(CoX Space), 제스처 머신러닝 마우스 '스노울' 선보여\">[CES 2021 All Digital] 콕스스페이스(CoX Space), 제스처 <mark>머신러닝</mark> 마우스 '...</a>,\n",
              " <a class=\"news_tit\" href=\"https://www.sisain.co.kr/news/articleView.html?idxno=43761\" onclick=\"return goOtherCR(this, 'a=nws*j.tit&amp;r=18&amp;i=8800055D_000000000000000000028177&amp;g=308.0000028177&amp;u='+urlencode(this.href));\" target=\"_blank\" title=\"러닝머신이 멈췄으니 오토바이에 오를 수밖에\"><mark>러닝</mark><mark>머신</mark>이 멈췄으니 오토바이에 오를 수밖에</a>]"
            ]
          },
          "metadata": {
            "tags": []
          },
          "execution_count": 7
        }
      ]
    },
    {
      "cell_type": "code",
      "metadata": {
        "id": "HVOjm0kot-Rf"
      },
      "source": [
        "def naver_news_search(keyword: str, total_pages: int) -> None:\r\n",
        "    url = 'https://search.naver.com/search.naver?where=news'  # URL\r\n",
        "    \r\n",
        "    for page in range(total_pages):\r\n",
        "        print(f'--- page {page + 1} ---')\r\n",
        "        \r\n",
        "        params = {'query': keyword, 'start': page * 10 + 1}  # request paramters\r\n",
        "        response = requests.get(url, params)  # request 보냄 -> response 받음\r\n",
        "        html = response.text.strip()  # HTML 추출\r\n",
        "        \r\n",
        "        soup = BeautifulSoup(markup=html, features='html5lib') # BeautifulSoup 객체\r\n",
        "        selector = 'ul.list_news > li > div > div > a.news_tit'  # selector\r\n",
        "        for news in soup.select(selector):\r\n",
        "            print(news['href'], news.text)\r\n",
        "        print()"
      ],
      "execution_count": null,
      "outputs": []
    },
    {
      "cell_type": "code",
      "metadata": {
        "colab": {
          "base_uri": "https://localhost:8080/"
        },
        "id": "P6tjRSQ_uA8e",
        "outputId": "ede19bb9-3298-46b0-f23a-f4b14b83b375"
      },
      "source": [
        "keyword = input('검색어 입력>>> ')\r\n",
        "pages = int(input('검색할 페이지 개수 입력>>> '))\r\n",
        "naver_news_search(keyword, pages)"
      ],
      "execution_count": null,
      "outputs": [
        {
          "output_type": "stream",
          "text": [
            "검색어 입력>>> 미나리\n",
            "검색할 페이지 개수 입력>>> 2\n",
            "--- page 1 ---\n",
            "http://yna.kr/AKR20210203180653091?did=1195m '미나리' 골든글로브 외국어영화상 후보 올라…기생충 계보 잇나(종합2보)\n",
            "https://imnews.imbc.com/replay/2021/nwtoday/article/6078151_34943.html '미나리', 골든글로브 후보…'기생충' 영광 이을까\n",
            "https://www.hankyung.com/life/article/202102046565H '미나리' 골든글로브 외국어영화상 찍고 한국 온다 (종합)\n",
            "http://sports.khan.co.kr/news/sk_index.html?art_id=202102040755003&sec_id=540401&pt=nv 영화 ‘미나리’ 3월 3일 국내 개봉…제78회 골든 글로브 외국어영화상 노미네...\n",
            "http://www.newsis.com/view/?id=NISX20210204_0001329140&cID=10601&pID=10600 '미나리', 골든글로브 외국어영화상 후보...3월3일 국내 개봉\n",
            "http://news.kbs.co.kr/news/view.do?ncd=5110999&ref=A ‘미나리’, 골든글로브 외국어영화상 후보에 지명\n",
            "http://sports.chosun.com/news/ntype.htm?id=202102050100038810002402&servicedate=20210204 [SC이슈]\"윤여정 탈락, 골든글로브 최대 실수\"…美매체도 분노한 '미나리' 사...\n",
            "https://www.hankyung.com/international/article/202102047195H \"'미나리' 윤여정 후보 제외, 골든글로브 최대 실수\"\n",
            "https://www.nocutnews.co.kr/news/5494578 골든글로브 '보수' '폐쇄' 벽 넘지 못한 '미나리'\n",
            "https://news.imaeil.com/International/2021020323101448194 윤여정 출연 '미나리' 美 골든글로브 최우수 외국어영화상 후보 \"제2의 기생충...\n",
            "\n",
            "--- page 2 ---\n",
            "http://yna.kr/AKR20210204059000005?did=1195m [영화소식] '미나리', 국내서 3월 3일 개봉\n",
            "http://www.busan.com/view/busan/view.php?code=2021020218572485982 [밀물썰물] '미나리'를 기다리며\n",
            "http://isplus.live.joins.com/news/article/article.asp?total_id=23985853 美영화 '미나리' 골든글로브 외국어영화상 지명…외신도 비난(종합)\n",
            "https://news.joins.com/article/olink/23580234 [박정호의 문화난장] 원더풀 미나리\n",
            "https://news.jtbc.joins.com/article/article.aspx?news_id=NB11990606 윤여정 \"같이 먹고 살았으니 앙상블은 우리가 끝내줘\"…'미나리', 연기 앙상블...\n",
            "http://www.segye.com/content/html/2021/02/04/20210204503732.html?OutUrl=naver ‘미나리’ 골든글로브 외국어영화상 후보…‘기생충’ 영광 이을까\n",
            "http://www.kukinews.com/newsView/kuk202102040007 영화 '미나리' 골든글로브 외국어영화상 후보 올랐다\n",
            "https://www.vop.co.kr/A00001545367.html 영화 ‘미나리’, 美 골든글로브 최우수 외국어영화상 후보 지명\n",
            "http://www.mediapen.com/news/view/598799 '미나리' 골든 글로브 외국어영화상 노미네이트…연일 \"낭보 또 낭보\"\n",
            "https://imnews.imbc.com/news/2021/world/article/6078251_34880.html NYT \"아메리칸 드림 영화에 외국어영화상? 바보같이 보여\"\n",
            "\n"
          ],
          "name": "stdout"
        }
      ]
    },
    {
      "cell_type": "markdown",
      "metadata": {
        "id": "tPVmaOiKyp7O"
      },
      "source": [
        "# 한겨레 신문 뉴스 검색"
      ]
    },
    {
      "cell_type": "markdown",
      "metadata": {
        "id": "82pLtYtr8ZFO"
      },
      "source": [
        "한겨레 신문사 사이트에서 뉴스 검색 결과를 원하는 페이지 개수만큼 검색하고, 뉴스 링크, 뉴스 제목, 뉴스 업데이트 시간을 출력. 각각의 뉴스 기사의 본문(전체 내용)도 출력."
      ]
    },
    {
      "cell_type": "markdown",
      "metadata": {
        "id": "mr8KCWed1kAg"
      },
      "source": [
        "*   1 page\r\n",
        "    *   http://search.hani.co.kr/Search?command=query&keyword=%EB%AF%B8%EB%82%98%EB%A6%AC&media=news&submedia=&sort=d&period=all&datefrom=1988.01.01&dateto=2021.02.04&pageseq=0\r\n",
        "*   2 page\r\n",
        "    *   http://search.hani.co.kr/Search?command=query&keyword=%EB%AF%B8%EB%82%98%EB%A6%AC&media=news&submedia=&sort=d&period=all&datefrom=1988.01.01&dateto=2021.02.04&pageseq=1"
      ]
    },
    {
      "cell_type": "code",
      "metadata": {
        "colab": {
          "base_uri": "https://localhost:8080/"
        },
        "id": "it2dAc6c1Ayf",
        "outputId": "04495395-a5d2-4767-8350-31d7d1ae5c9c"
      },
      "source": [
        "url = 'http://search.hani.co.kr/Search?command=query&media=news'\r\n",
        "params = {'keyword': '머신러닝', 'pageseq': 1}\r\n",
        "response = requests.get(url, params)\r\n",
        "print(response)"
      ],
      "execution_count": null,
      "outputs": [
        {
          "output_type": "stream",
          "text": [
            "<Response [200]>\n"
          ],
          "name": "stdout"
        }
      ]
    },
    {
      "cell_type": "code",
      "metadata": {
        "colab": {
          "base_uri": "https://localhost:8080/"
        },
        "id": "yfNZzdxB7x-g",
        "outputId": "fbaf9d3a-8d5d-47ca-8d5a-96c2861a2a56"
      },
      "source": [
        "html = response.text.strip()\r\n",
        "soup = BeautifulSoup(markup=html, features='html5lib')\r\n",
        "selector = 'ul.search-result-list > li > dl > dt > a'\r\n",
        "# '#contents > div.search-result-section.first-child > ul > li.first-child > dl > dt > a'\r\n",
        "# '#contents > div.search-result-section.first-child > ul > li:nth-child(2) > dl > dt > a'\r\n",
        "# '#contents > div.search-result-section.first-child > ul > li:nth-child(3) > dl > dt > a'\r\n",
        "soup.select(selector)"
      ],
      "execution_count": null,
      "outputs": [
        {
          "output_type": "execute_result",
          "data": {
            "text/plain": [
              "[<a href=\"//www.hani.co.kr/arti/society/ngo/964675.html\">10월 7일 알림</a>,\n",
              " <a href=\"//www.hani.co.kr/arti/economy/economy_general/964593.html\">SK하이닉스 차세대 D램 ‘DDR5\\' 세계 첫 출시</a>,\n",
              " <a href=\"//www.hani.co.kr/arti/economy/economy_general/964016.html\">뉴스로 경제 예측? 전문가들 유용성에 갸우뚱</a>,\n",
              " <a href=\"//www.hani.co.kr/arti/international/international_general/962331.html\">애플 ‘아이패드에어·아이패드’ 신작공개…내일부터 OS 업데이트</a>,\n",
              " <a href=\"//www.hani.co.kr/arti/science/technology/956206.html\">알고리즘·인공지능, 공정하지 않았다간 큰 코 다친다</a>,\n",
              " <a href=\"//www.hani.co.kr/arti/economy/finance/953429.html\">돌아온 케이뱅크…가계대출 3종 내놔</a>,\n",
              " <a href=\"//www.hani.co.kr/arti/economy/startup/950370.html\">증강현실로 헤어·안경 바꾼다…중기중앙회, 스마트서비스 체험 전시</a>,\n",
              " <a href=\"//www.hani.co.kr/arti/society/campus/948536.html\">[MODU 요즘 뜨는 학과] AI, 미래를 열다 가천대학교 인공지능학과</a>,\n",
              " <a href=\"//www.hani.co.kr/arti/economy/it/947703.html\">주민센터·복지관서 ‘모바일 기차·버스표 예매’ 이용법 알려준다</a>,\n",
              " <a href=\"//www.hani.co.kr/arti/society/society_general/935110.html\">\\\"박사의 은닉수단 \\'모네로\\', 채굴자는 추적 가능하다\\\"</a>]"
            ]
          },
          "metadata": {
            "tags": []
          },
          "execution_count": 24
        }
      ]
    },
    {
      "cell_type": "code",
      "metadata": {
        "id": "mEnHJUjSytfO"
      },
      "source": [
        "def hani_news_search(keyword: str, total_pages: int) -> None:\r\n",
        "    \"\"\"뉴스 키워드 검색 후, 각각의 기사 링크를 찾아서 새로운 request를 보냄 -> 기사 본문 스크랩.\"\"\"\r\n",
        "    url = 'http://search.hani.co.kr/Search?command=query&media=news'\r\n",
        "\r\n",
        "    for page in range(total_pages):\r\n",
        "        print(f'--- page {page + 1} ---')\r\n",
        "        \r\n",
        "        params = {'keyword': keyword, 'pageseq': page}\r\n",
        "        response = requests.get(url, params)\r\n",
        "        html = response.text.strip()\r\n",
        "        soup = BeautifulSoup(markup=html, features='html5lib')\r\n",
        "        # 뉴스 제목, 링크를 찾기 위한 selector\r\n",
        "        link_selector = 'ul.search-result-list > li > dl > dt > a'\r\n",
        "        # 뉴스 최종 업데이트된 날짜 시간을 찾기 위한 selector\r\n",
        "        date_selector = 'ul.search-result-list > li > dl > dd.date > dl > dd'\r\n",
        "\r\n",
        "        news_links = soup.select(link_selector)  #> 뉴스 링크들 리스트\r\n",
        "        news_date = soup.select(date_selector)  #> 뉴스 업데이트 시간 리스트\r\n",
        "\r\n",
        "        for item, date_time in zip(news_links, news_date):\r\n",
        "            news_url = 'http:' + item['href']\r\n",
        "            news_title = item.text.strip()\r\n",
        "            date_time = date_time.text.strip()\r\n",
        "            print(news_url, news_title, date_time)\r\n",
        "            \r\n",
        "            # news_url로 다시 request 보냄.\r\n",
        "            res = requests.get(news_url)\r\n",
        "            html = res.text.strip()\r\n",
        "            soup = BeautifulSoup(markup=html, features='html5lib')\r\n",
        "            news_text_selector = 'div.article-text > div > div.text'\r\n",
        "            news_text = soup.select_one(news_text_selector)\r\n",
        "            print(news_text.text.strip())\r\n",
        "            print('*' * 50)\r\n",
        "        print()"
      ],
      "execution_count": null,
      "outputs": []
    },
    {
      "cell_type": "code",
      "metadata": {
        "colab": {
          "base_uri": "https://localhost:8080/"
        },
        "id": "dB18rme_zDDJ",
        "outputId": "48f4e6db-1e43-4a97-ad1a-6fd7b36d7831"
      },
      "source": [
        "keyword = input('검색어 입력>>> ')\r\n",
        "pages = int(input('검색할 페이지 개수 입력>>> '))\r\n",
        "hani_news_search(keyword, pages)"
      ],
      "execution_count": null,
      "outputs": [
        {
          "output_type": "stream",
          "text": [
            "검색어 입력>>> 미나리\n",
            "검색할 페이지 개수 입력>>> 2\n",
            "--- page 1 ---\n",
            "http://www.hani.co.kr/arti/culture/culture_general/981793.html 작품상·조연상 후보 못 오른 ‘미나리’…골든글로브 보수성 다시 도마에 2021.02.04 11:51\n",
            "영화 <미나리> 스틸컷. 판씨네마 제공 \t\t\t   재미동포 리 아이작 정(한국 이름 정이삭) 감독의 영화 <미나리>가 아카데미 전초전으로 불리는 골든글로브에서 외국어영화상 후보에 올랐다. 하지만 대사의 영어 비율 때문에 작품상에 오르지 못한 점과 강력한 여우조연상 후보로 꼽힌 윤여정이 후보 지명조차 받지 못한 걸 두고 골든글로브의 보수성과 폐쇄성을 비판하는 목소리가 더욱 더 높아지고 있다. 골든글로브를 주관하는 할리우드외신기자협회는 3일(이하 현지시각) 공식 누리집을 통해 제78회 골든글로브 시상식 후보를 발표했다. <미나리>는 덴마크 영화 <어나더 라운드>, 프랑스·과테말라 영화 <라 요로나>, 이탈리아 영화 <더 라이프 어헤드>, 미국·프랑스 영화 <투 오브 어스>와 함께 외국어영화상 후보에 이름을 올렸다. <미나리>는 1980년대 미국 아칸소로 이주한 한인 가정 얘기를 담은 정 감독의 자전적인 영화로, 스티븐 연, 한예리, 윤여정 등이 출연했다. 브래드 핏의 제작사 ‘플랜비(B)’가 제작해, 지난해 2월 선댄스영화제에서 미국 드라마 부문 심사위원대상과 관객상을 받으며 주목받았다. 이후 여러 영화상에서 59개의 트로피를 거머쥐며 수상 행진을 이어갔다. 하지만 골든글로브에선 ‘대화의 반 이상이 영어가 아니면 외국어영화’라는 규정 때문에 작품상 심사 대상에서 배제됐다. <미나리>에는 주로 한국어 대사가 나온다. 외신들은 일제히 비판하고 나섰다. <뉴욕타임스>는 “<미나리>는 미국인 감독이 미국에서 촬영했고, 미국 회사가 자금을 지원해 아메리칸 드림을 추구하는 이민자 가족에 초점을 맞춘 영화다. 그런데도 외국어영화상 후보로 경쟁해야만 한다. 최고의 상(작품상)을 노릴 수 없게 됐다. 골든글로브를 주관하는 할리우드외신기자협회가 바보같이 보이게 됐다”고 비판했다. <인사이더>도 “골든글로브 후보 명단에서 <미나리> 밑에 ‘미국’이라고 쓰여있어 훨씬 더 희극적 상황이 됐다”고 꼬집었다. 미국 내 여러 시상식에서 20관왕을 달성하며 호평받은 윤여정이 여우조연상 후보에 오르지 못한 점도 도마에 올랐다. <뉴욕타임즈>는 “<미나리> 출연진은 후보 지명을 하나도 받지 못했다. 특히 수십 개의 비평가단체상을 수상한 윤여정을 제외한 건 주최 쪽의 가장 큰 실수”라고 지적했다. <엔터테인먼트>도 “더 큰 충격은 여우조연상에서 가장 유력한 수상 후보로 여겨졌던 윤여정이 조디 포스터의 깜짝 지명을 위해 빠졌다는 것”이라고 주장하기도 했다. 봉준호 감독의 <기생충>은 지난해 골든글로브에서 외국어영화상·감독상·각본상 후보에 올라 외국어영화상 하나만 수상했다. 하지만 아카데미에선 작품상·감독상·각본상·국제장편영화상 등 4개 트로피를 안으며 시상식의 주인공이 됐다. <미나리>도 아카데미 주요 부문 후보에 오르고 수상까지 이어질 가능성이 남아있다. <익스플로어>는 “<기생충>이 1년 전 아카데미에서 최우수 기록을 남긴 최초의 외국어영화라는 역사를 만들었다는 점을 기억해야 한다”고 골든글로브를 겨냥했다. 골든글로브 시상식은 오는 28일 열린다. 아카데미는 3월15일 후보를 발표하고, 4월25일 시상식을 개최한다. <미나리>는 3월3일 국내 개봉한다. 서정민 기자 westmin@hani.co.kr\n",
            "**************************************************\n",
            "http://www.hani.co.kr/arti/culture/culture_general/981735.html 영화 ‘미나리’, 골든글로브 외국어영화상 후보 지명 2021.02.04 0-1:35\n",
            "영화 <미나리> 스틸컷. 판씨네마 제공 \t\t\t    재미동포 리 아이작 정(한국 이름 정이삭) 감독의 영화 <미나리>가 아카데미 전초전으로 불리는 골든글로브에서 외국어영화상 후보에 올랐다.  골든글로브를 주관하는 할리우드외신기자협회는 3일(현지시각) 공식 누리집을 통해 제78회 골든글로브 시상식 후보를 발표했다. <미나리>는 덴마크 영화 <어나더 라운드>, 프랑스·과테말라 영화 <라 요로나>, 이탈리아 영화 <더 라이프 어헤드>, 미국·프랑스 영화 <투 오브 어스>와 함께 외국어영화상 후보에 이름을 올렸다. 하지만 감독상, 각본상, 남녀주조연상 등 다른 후보에는 오르지 못했다.  <미나리>는 1980년대 미국 아칸소로 이주한 한인 가정 얘기를 담은 정 감독의 자전적 영화로, 스티븐 연, 한예리, 윤여정 등이 출연했다. 브래드 핏의 제작사 ‘플랜비(B)’가 제작해, 지난해 2월 선댄스영화제에서 미국 드라마 부문 심사위원대상과 관객상을 받으며 주목받았다. 이후 여러 영화상에서 59개의 트로피를 거머쥐며 수상 행진을 이어갔다. 특히 윤여정이 여우조연상 20관왕을 달성하며 아카데미의 강력한 후보로 점쳐졌다.  하지만 골든글로브에선 외국어영화상 후보에만 오르는 데 그쳐 다소 아쉬움이 남는다. 앞서 <미나리>는 골든글로브에서 외국어영화상 심사 대상으로 분류돼 인종차별 논란에 휩싸인 바 있다. ‘대화의 반 이상이 영어가 아니면 외국어영화’라는 규정 때문에 작품상 후보에 오를 기회를 박탈당한 것이다. 지난해 봉준호 감독의 영화 <기생충> 역시 아카데미 작품상과 국제장편영화상을 동시에 받았지만, 골든글로브에선 이 규정 때문에 외국어영화상만 수상했다.  제78회 골든글로브 시상식은 오는 28일(현지시각) 열린다. <미나리>는 3월 국내 개봉을 앞두고 있다. 서정민 기자 westmin@hani.co.kr\n",
            "**************************************************\n",
            "http://www.hani.co.kr/arti/culture/movie/981733.html ‘미나리’, 골든글로브 최우수 외국어영화상 후보 지명 2021.02.04 0-1:34\n",
            "<미나리> 포스터. 판씨네마 제공 \t\t\t   한국계 이민자 가족의 미국 정착기를 다룬 영화 '미나리'가 골든글로브상의 최우수 외국어영화상 부문 후보에 지명됐다. 골든글로브를 주관하는 할리우드 외신기자협회(HFPA)는 3일(현지시간) 제78회 골든글로브상 후보작을 발표하면서 '미나리'를 외국어영화상 후보로 지목했다. 이에 따라 '미나리'는 덴마크의 '어나더 라운드', 프랑스-과테말라 합작의 '라 로로나', 이탈리아의 '라이프 어헤드', 미국-프랑스 합작의 '투 오브 어스' 등 다른후보자들과 수상을 놓고 다투게 됐다. 연합뉴스\n",
            "**************************************************\n",
            "http://www.hani.co.kr/arti/culture/movie/981520.html ‘미나리’ 미 영화제 연기앙상블상 2관왕 2021.02.02 18:47\n",
            "영화 ‘미나리’ 출연배우들. 판시네마 제공 \t\t\t   올해 아카데미(오스카) 유력 후보작으로 꼽히는 영화 <미나리>의 출연진이 미국 영화제에서 연기 앙상블상 2관왕에 올랐다. 배급사 판씨네마는 2일 ‘미나리 팀'(스티븐 연, 한예리, 윤여정, 앨런 김, 노엘 케이트 조)이 지난해 10월 미들버그 영화제에 이어 지난 1월 뉴멕시코 비평가협회에서 연기 앙상블상을 받았다고 전했다. 또 골드리스트 시상식에서는 출연 배우 전원이 연기상을 받았다. 판씨네마는 배우들이 미국 시골 외지인 오클라호마 털사 지역에서 촬영하는 내내 같은 숙소에서 지냈고, 촬영이 끝난 뒤에도 마치 가족처럼 한집에서 갈이 살며 영화에 대해 끊임없이 연구했다고 소개했다. 특히 한국말이 서툰 스티븐 연이 부담을 느낄 때마다 윤여정과 한예리가 대사를 표현할 수 있도록 도왔고, 한국계 미국인인 리 아이작 정 감독 역시 한국말에 능숙하지 않아 문어체로 된 부분은 배우들이 직접 아이디어와 의견을 내며 영화를 완성했다고 덧붙였다. 배우들은 이번 수상과 관련해 “모두가 한마음으로 만든 영화”라며 “앙상블만큼은 끝내줬다”고 소감을 밝혔다. 영화는 오는 3월 국내 개봉할 예정이다. 서정민 기자 westmin@hani.co.kr\n",
            "**************************************************\n",
            "http://www.hani.co.kr/arti/culture/culture_general/980797.html ‘미나리’ 골드리스트 시상식 7관왕…한예리, 첫 여우주연상 2021.01.28 12:43\n",
            "배우 한예리가 2018년 10월6일 오후 부산 해운대구 파라다이스호텔에서 열린 ‘프랑스의 밤’ 행사에 앞서 포즈를 취하고 있다. 연합뉴스 \t\t\t   배우 한예리가 영화 '미나리'로 첫 여우주연상을 받았다. 28일 배급사 판씨네마에 따르면 한예리는 골드 리스트 시상식에서 여우주연상을차지했다.  올해 처음 열린 골드 리스트 시상식은 아시아계 미국인과 태평양 주민들의 교육, 미디어 리더쉽, 콘텐츠 다양성을 지원하는 아시아태평양엔터테인먼트연합(CAPE)과아시아 정체성을 보호하고 문화계 다양성을 후원하는 비영리단체 '골드 하우스'가 함께 주관한다.  '미나리'는 여우주연상 외에도 작품상, 감독상, 각본상, 남우주연상(스티븐 연), 여우조연상(윤여정), 남우조연상(앨런 김)까지 휩쓸며 7관왕을 달성했다. 연합뉴스\n",
            "**************************************************\n",
            "http://www.hani.co.kr/arti/society/ngo/980712.html 28일 동정 2021.01.27 21:14\n",
            "김희선 배우는 27일 작가 김은숙씨과 함께 각각 하트와 왕관이 그려 특별제작한 마스크 1억원어치씩을 도움이 필요한 어린이들을 위해 소속사 한지엔터테인먼트를 통해 기부했다. 또 가수 윤도현은 한국국제기아대책기구에 흰수염고래 디자인의 마스크를, 프로듀서 레이든은 청각장애 어린이 합창단 ‘아이소리 합창단'에 음표 디자인의 마스크를 5천만 원씩 기부했다.     \t \t\t \t\t\t\t\t\t\t \t\t\t\t\t \t\t\t\t\t영화 <미나리>의 한 장면. 판시네마 제공 \t\t\t    ⊙ 윤여정 배우는 27일 영화 <미나리>로 112년 역사를 지닌 전미비평가위원회(NBR)에서 여우조연상을 받았다. 이로써 미국 영화 시상식에서만 연기상 20관왕의 대기록을 달성했다. 리 아이작 정(정이삭) 감독의 ‘미나리'는 이날 각본상도 받았다.\n",
            "**************************************************\n",
            "http://www.hani.co.kr/arti/culture/movie/980571.html ‘미나리’ 윤여정, 전미 비평가위원회 여우조연상…20관왕 기록 2021.01.27 11:02\n",
            "영화 <미나리>에 출연한 윤여정. 판씨네마 제공 \t\t\t   배우 윤여정이 전미 비평가위원회(NBR)에서 여우 조연상을 받으며 미국 연기상 20관왕의 대기록을 썼다. 27일 배급사 판씨네마에 따르면 리 아이작 정(정이삭) 감독의 영화 '미나리'는 112년 역사를 자랑하는 전비 비평가위원회에서 여우조연상과 각본상을 받았다. 또 미국 온라인 비평가협회 외국어영화상, 뉴욕 온라인 비평가협회 작품상·여우조연상·외국어영화상, 노스텍사스 비평가협회 남우주연상·여우조연상·외국어영화상을 추가해 지금까지 58관왕을 기록하고 있다.  '미나리'는 전날 미국영화연구소(AFI)가 선정하는 '올해의 영화'에 이름을 올리기도 했다.  아카데미 등 할리우드 시상식 예측 전문 매체 골드더비는 AFI가 2010년 이후 오스카 역대 작품상 후보에 오른 88개의 영화 중 77개 작품을 올해의 영화로 선정해 87.5%라는 높은 적중률을 보였다고 보도했다. 지난해 아카데미 시상식 4관왕에 오른 봉준호 감독의 '기생충'은 AFI에서 특별상을 받으며 주목받은 바 있다.  '미나리'는 또 26일(현지시간) 발표된 '인디펜던트 스피릿 어워즈' 후보에서 작품상, 감독상, 각본상, 남우주연상, 여우조연상 등 주요 5개 부분 후보에 이름을 올렸다. 특히 다른 시상식에서는 여우주연상 후보에 이름을 올렸던 한예리가 윤여정과 함께 여우조연상 후보에 올라 경쟁하게 됐다. 이에 대해 연예 매체 버라이어티는 \"한예리는 아카데미에서는 여우주연상 후보를 위해 뛰고 있지만, 여우조연상 후보에 오르는 깜짝 변화가 있었다\"고 전했다. 또 \"남우주연상 부문에서는 리즈 아메드(사운드 오브 메탈)와 채드윅 보즈먼(마레이니즈 블랙 바텀)이 비평가 시상식에서 선두를 달리고 있지만, 또 다른 사람을 언급하자면 '미나리'에서 놀라운 연기를 보여준 스티븐 연\"이라고 평했다.  독립영화를 대상으로 한 인디펜던트 스피릿 어워드는 아카데미 시상식 하루 전 캘리포니아 샌타모니카에서 열린다. 지난해에는 '기생충'이 이 시상식에서 최우수 국제영화상을 받았다. 연합뉴스\n",
            "**************************************************\n",
            "http://www.hani.co.kr/arti/culture/culture_general/980387.html ‘미나리’ 미국영화연구소 선정 ‘2020 올해의 영화’ 2021.01.26 11:28\n",
            "영화 <미나리> 스틸컷. 판씨네마 제공 \t\t\t   재미동포 리 아이작 정(한국 이름 정이삭) 감독의 영화 <미나리>가 미국영화연구소(AFI)가 선정하는 ‘2020 올해의 영화’에 선정됐다. 미국영화연구소는 25일(현지시각) 누리집을 통해 2020 에이에프아이(AFI) 어워즈 결과를 발표했다. <미나리>는 스파이크 리 감독의 전쟁영화 <다 5 블러즈>, 데이비드 핀처 감독의 <맹크>, 이탈리아 베네치아국제영화제 황금사자상 수상작인 클로이 자오 감독의 <노매드랜드>, 애런 소킨 감독의 <트라이얼 오브 더 시카고 7>, 픽사 애니메이션 <소울>, 다리우스 마더 감독의 <사운드 오브 메탈>, 배우 리자이나 킹의 감독 데뷔작 <원 나이트 마이애미>, 샤카 킹 감독의 <주다스 앤 더 블랙 메시아>, 동명 희곡을 원작으로 한 조지 시 울프 감독의 <마 레이니스 블랙 보텀> 등과 함께 ‘올해의 영화’에 이름을 올렸다. <미나리>는 1980년대 미국 아칸소로 이주한 한인 가정 얘기를 담은 정 감독의 자전적 영화로, 스티븐 연, 한예리, 윤여정 등이 출연한다. 앞서 정 감독은 저예산으로 르완다에서 촬영한 데뷔작 <문유랑가보>(2007)로 에이에프아이 영화제 대상을 받으며 주목받은 바 있다. 올해의 영화 10편 중 <맹크> <다 5 블러즈> <마 레이니스 블랙 보텀> <트라이얼 오브 더 시카고 7> 등 4편이 온라인동영상서비스(OTT·오티티) 넷플릭스 영화인 점이 눈에 띈다. 넷플릭스는 ‘올해의 텔레비전 프로그램’에도 <브리저튼> <더 크라운> <퀸스 갬빗> <그리고 베를린에서> 등 4편을 올리며 뚜렷한 존재감을 과시했다. 특별상에는 디즈니의 오티티 플랫폼 디즈니플러스에서 공개된 뮤지컬 영화 <해밀턴>이 선정됐다. 동명 브로드웨이 뮤지컬을 영화로 편집한 것이다. 서정민 기자 westmin@hani.co.kr\n",
            "**************************************************\n",
            "http://www.hani.co.kr/arti/culture/culture_general/979629.html 어느새 13관왕…윤여정, 데뷔 55돌 선물은 오스카? 2021.01.20 16:48\n",
            "영화 <미나리>에 출연한 윤여정. 판씨네마 제공 \t\t\t   한국인 최초로 미국 아카데미 연기상을 받는 배우가 나올까? 배우 윤여정이 영화 <미나리>로 각종 영화상에서 여우조연상 13관왕에 오르며 가능성을 높이고 있다. <미나리>의 국내 배급사 판씨네마는 “윤여정이 미국 샌프란시스코·세인트루이스 비평가협회에서 잇따라 여우조연상을 받았다”고 20일 밝혔다. 앞서 윤여정은 로스앤젤레스(LA)·보스턴 비평가협회, 미국 여성 영화기자협회 여우조연상을 받는 등 지금까지 모두 13개의 트로피를 안았다. 재미동포 리 아이작 정(한국 이름 정이삭) 감독의 자전적 이야기를 담은 <미나리>에서 윤여정은 1980년대 미국 아칸소로 이주한 한인 가정의 할머니 순자를 연기했다. 순자는 딸(한예리)과 사위(스티븐 연)를 돕기 위해 뒤늦게 미국에 온 인물이다. 영어를 못하는 그는 어린 손자와 같은 방을 쓰며 소소한 갈등을 겪지만 가족을 위해 헌신한다. 초반 밝고 쾌활한 모습을 보이다 후반에 건강 악화로 급변하는 연기가 영화의 흐름을 바꾼다. 정 감독은 “순자는 겉으로는 고약한 말을 하지만 누구보다 아이들을 사랑하는 할머니”라며 “이 캐릭터가 윤여정 배우를 만나 할머니이되 한 인간으로서의 개성과 면모가 뚜렷한 인물로 태어났다”고 극찬했다.  \t \t\t \t\t\t\t\t\t\t \t\t\t\t\t \t\t\t\t\t영화 <미나리>에 출연한 윤여정. 판씨네마 제공 \t\t\t   수상 기대감과 함께 그의 연기 인생에 대한 관심도 높아지고 있다. 1947년생인 그는 19살이던 1966년 <동양방송>(TBC) 3기 공채 탤런트로 데뷔했다. 이후 <하녀>(1960)로 유명한 김기영 감독의 <화녀>(1971)로 스크린 신고식을 치렀다. 윤여정은 강렬하고 파격적인 연기로 그해 청룡영화상 여우주연상과 대종상 신인상을 받았다. 하지만 윤여정은 한창 인기를 누리던 즈음 미국으로 건너가 가수 조영남과 결혼했고, 1985년 귀국하기까지 가정에만 집중했다. 남편과 이혼한 뒤 다시 연기를 시작한 윤여정은 훗날 인터뷰에서 “살아가기 위해서 목숨 걸고 연기를 했다. 아이를 키워내야 해 말도 안 되게 죽는 역할, 막장극도 했다”고 당시를 떠올렸다.  \t \t\t \t\t\t\t\t\t\t \t\t\t\t\t \t\t\t\t\t김기영 감독의 영화 <충녀>에 출연한 윤여정(왼쪽). 네이버 영화데이터베이스 갈무리 \t\t\t   자식 키우는 일에서 해방된 60살 이후에는 하고 싶은 작품만 골라 출연하고 있다. 임상수 감독(<바람난 가족> <그때 그 사람들> <오래된 정원> <하녀> <돈의 맛> <헤븐: 행복의 나라로>), 홍상수 감독(<하하하> <다른 나라에서> <자유의 언덕> <지금은 맞고 그때는 틀리다>), 이재용 감독(<여배우들> <죽여주는 여자>) 등 한번 인연을 맺은 감독과 꾸준히 작품을 하며 자신만의 색깔을 공고히 해왔다. 올해로 데뷔 55돌을 맞은 74살의 노장 윤여정은 글로벌 배우로서 또 한번 전성기를 맞고 있다. 2월 미국 전역 확대 개봉과 3월 국내 개봉을 앞둔 <미나리>에 이어, 온라인 동영상 서비스(OTT) 애플티브이플러스의 글로벌 프로젝트 드라마 <파친코>에 출연할 계획이다. 더 큰 세계로의 디딤돌이 될지도 모를 제93회 아카데미상 후보는 3월15일 발표하며, 시상식은 4월25일 열린다. 서정민 기자 westmin@hani.co.kr\n",
            "**************************************************\n",
            "http://www.hani.co.kr/arti/economy/consumer/978921.html 양파·달걀값이 미쳤어요…뛰는 밥상물가에 소비자 한숨 2021.01.15 08:09\n",
            "달걀, 돼지고기 \t\t\t   서울 동대문구에 사는 직장인 박모(34)씨는 소고기와 함께 먹을 양파를 사러 인근의 한 대형마트에 들렀다가 가격을 보고 깜짝 놀랐다. 양파 1개당 가격이 1천250원으로 매겨진 것을 보고 양파를 집었다가 도로 내려놓았다. 박씨는 \"양파 가격이 너무 비싸다\"며 \"양파 대신 집에 남아 있는 버섯을 고기와 함께 구워야겠다\"고 말했다. 서울 성북구에 사는 직장인 권모(40)씨는 대형마트에 가지 않은지 꽤 오래됐다. 온라인 쇼핑몰에서 할인 판매하는 상품을 사는 것이 훨씬 이득이기 때문이다. 권씨는 \"원재료 가격을 고려하면 대형마트에서 고기를 사서 구워 먹는 것보다 온라인몰에서 파는 스테이크 밀키트를 활용하는 게 더 저렴한 것 같다\"고 말했다.  최근 밥상 물가가 심상치 않다. 소비자들 사이에서는 새해가 밝자마자 먹거리 가격이 올라도 너무 올랐다는 하소연이 터져 나온다. 14일 오후 서울 서초구의 한 대형마트를 찾아갔더니 양파는 3∼4개들이 한 망에 4천580~4천980원에 나왔다. 대파는 1봉에 4천280원이나 했다.  서울 동대문구의 다른 대형마트에서는 유명 제빵 업체의 식빵이 개당 2천 원대에 팔리고 있었다. 이 제품은 지난해에는 개당 1천 원대 후반이었다. 이 업체 관계자는 \"대형마트 차원의 자체 할인 행사에 따라 가격이 오르내리곤 한다\"며 \"최근 마트 측에서 할인 행사를 거두면서 가격이 오른 것처럼 보이는 것일 뿐 납품가에는 변화가 없다\"고 말했다. 특히 달걀 한 판 가격은 가장 싼 제품이 6천 원에 육박했다. 대형마트에서 계란한 판 가격은 지난해 할인 행사 때 3천 원대까지 떨어졌던 것을 고려하면 지금은 '금(金)란'이란 말을 체감할 수 있었다. 계란 매대에서 만난 한 소비자는 \"일주일에 한 번 장을 보는데 물건을 많이 사는 편이 아닌데도 가격이 크게 뛴 게 느껴진다\"며 \"계란 한 판에 7천 원이 넘는 제품이 있는 것을 보고 놀랐다\"고 말했다. 조류인플루엔자(AI) 확산에 따른 닭 살처분과 일시 이동중지명령으로 수급에 차질을 빚으면서 달걀값이 뛰고 있는 것이다. 한 육가공업체 관계자는 \"AI는 육계보다는 사육 규모가 크고 밀집도가 훨씬 높은 산란계에 더 큰 영향을 끼친다\"고 설명했다. 소비자 김모(37)씨는 \"보통 10만 원 안팎의 장을 보는데, 예전과 비교해 살 수 있는 양이 확 줄었다\"며 \"그래서인지 아무래도 할인 품목 위주로 손이 가게 된다\"고말했다. 높은 장바구니 물가는 통계로도 확인된다. 한국농수산식품유통공사 농산물 유통정보에 따르면 소비자 식탁에 자주 오르는 주요 먹거리 가격(소매·상등품·이달 13일 기준)은 최근 품목을 가리지 않고 고공행진 중이다. 지난해 긴 장마와 태풍, 최근 한파 등이 작황과 공급에 영향을 준 것이다. 쌀은 20㎏에 5만9천870원으로 1년 전보다 15.6% 올랐다. 겨울철 많이 찾는 고구마(1㎏)는 6천42원으로 43.0%, 양파(1㎏)는 2천575원으로 59.6% 뛰었다. 건고추(600ｇ)는 2만1천753원으로 79.3%나 올랐다. 대파(45.5%), 미나리(15.3%), 깻잎(13.1%), 파프리카(5.8%), 시금치(18.3%) 등도 가격이 줄줄이 올랐다. 설 명절이 가까워지면서 수요가 늘어나 이 같은 가격 오름세는 한동안 이어질 공산이 크다. 소비자들의 설 차례상 준비 걱정이 더 커질 수밖에 없는 상황이다. 일부 식품업체는 가격 인상을 예고했다. 풀무원은 최근 주요 유통업체들에 두부와 콩나물 가격을 각각 8∼14%, 8∼10% 인상하겠다는 공문을 보냈다. 구체적인 인상 시점은 아직 정해지지 않았다. 풀무원 관계자는 \"지난해 장마와 폭우 등으로 콩 생산량이 20% 가까이 급감해 원재료 가격이 15% 정도 올랐다\"며 \"유통업체들과 가격을 조율 중\"이라고 말했다. 앞서 코카콜라음료는 올해 1월 1일부터 편의점에서 팔리는 코카콜라 가격을 100∼200원 올렸다. 해태htb는 평창수 생수와 '갈아만든 배' 1.5ℓ 가격을 각각 100원,400원 인상했다. 연합뉴스\n",
            "**************************************************\n",
            "\n",
            "--- page 2 ---\n",
            "http://www.hani.co.kr/arti/culture/culture_general/977355.html ‘미나리’, 노스캐롤라이나비평가협회 작품상 2021.01.05 15:06\n",
            "미국 여성영화기자협회 여우조연상을 받은 배우 윤여정. 판씨네마 제공 \t\t\t   리 아이작 정(한국 이름 정이삭) 감독의 영화 <미나리>가 미국 내 비평가협회 영화상에서 첫 작품상을 받으며 또다시 오스카 청신호를 밝혔다. 국내 배급사 판씨네마는 <미나리>가 4일(현지시각) 미국 노스캐롤라이나비평가협회에서 최고상인 작품상을 수상했다고 5일 전했다. 이와 함께 배우 윤여정이 여우조연상, 정 감독이 각본상, 배우 윌 패튼이 ‘켄 행크 메모리얼 타힐상’을 받아 모두 4개의 트로피를 들어 올렸다. 앞서 <미나리>는 새해 들어 미국 여성영화기자협회 여우조연상(윤여정), 카프리할리우드 국제영화제 각본상·음악상을 받은 데 이어, 서부 뉴욕 평론가를 중심으로 한 그레이터 웨스턴 뉴욕 비평가협회에서 여우조연상과 외국어영화상을 수상했다. <미나리>는 재미동포인 정 감독이 자전적 경험을 바탕으로 쓰고 연출한 영화로, 1980년대 아칸소로 이주한 한인 가정의 이야기 담았다. 재미동포 배우 스티븐 연과 한예리가 부부를, 윤여정이 한국에서 온 할머니를 연기했다. 아카데미 수상작 <문라이트> <노예 12년> 등을 만든 브래드 핏의 제작사 ‘플랜비(B)’가 제작했고, <문라이트> <룸> <레이디 버드> <플로리다 프로젝트> 등 여러 차례 오스카 레이스를 성공적으로 이끈 ‘에이(A)24’가 북미 배급을 맡았다. <미나리>는 지난해 미국의 대표적 독립영화 축제인 선댄스영화제에서 미국 드라마 부문 최고상인 심사위원대상과 관객상을 받으면서 화제작으로 떠오른 이후, 미들버그영화제 관객상과 배우조합상, 하트랜드영화제 관객상과 지미 스튜어트 공로상, 덴버영화제 관객상과 최우수연기상(스티븐 연) 등 수상 행진을 이어오고 있다. 윤여정은 지난해 선셋필름서클어워즈·보스턴비평가협회·로스앤젤레스(LA)비평가협회에서도 여우조연상을 받은 바 있다. <미나리>는 오는 4월25일 열리는 제93회 아카데미 시상식의 주요 후보에 오를 것으로 점쳐지고 있다. 아카데미 후보는 오는 3월15일 발표한다. <미나리>는 올해 상반기 국내 개봉 예정이다. 서정민 기자 westmin@hani.co.kr\n",
            "**************************************************\n",
            "http://www.hani.co.kr/arti/culture/culture_general/975800.html 아메리칸 드림 담은 ‘미나리’, 왜 골든글로브 ‘외국어영화상’ 후보? 2020.12.24 16:54\n",
            "“골든글로브가 영화 <미나리>를 외국어영화상 후보로 분류할 것”이라는 보도를 인용하며 룰루 왕 감독이 에스엔에스(SNS)로 비판한 글. \t\t\t    리 아이작 정(한국 이름 정이삭) 감독의 영화 <미나리>가 내년 2월 열리는 골든글로브 시상식에서 작품상이 아닌 외국어영화상 후보에 오를 전망이라는 보도가 나와 아시아계 영화인과 비평가들이 비판하고 나섰다.  미국 연예매체 <버라이어티>는 지난 22일(현지시각) “골든글로브를 주관하는 할리우드외신기자협회(HFPA)가 최근 출품작에 대한 연례 심사를 마쳤다. <미나리>가 외국어영화상을 놓고 겨룰 것으로 보인다”고 보도했다.  ‘아카데미 전초전’으로 불리는 골든글로브는 대화의 50% 이상이 영어가 아닐 경우 외국어 영화로 분류한다는 규정을 두고 있다. <미나리>에는 주로 한국어 대사가 나온다. 앞서 지난해에도 중국계 미국인 룰루 왕 감독의 영화 <페어웰>이 <기생충>과 함께 외국어영화상 후보에 오른 바 있다.  하지만 이에 대한 비판의 목소리가 높다. 룰루 왕 감독은 에스엔에스(SNS)에 “나는 올해 <미나리>보다 더 미국적인 영화를 본 적이 없다. 이는 이민자 가족의 이야기이자 미국에서 아메리칸드림을 추구하는 이야기다. 오직 영어 대사만으로 미국 영화인지 여부를 가르는 구식 규정을 바꿀 필요가 있다”고 썼다. 미국 대중문화 잡지 <페이스트>의 영화 담당 기자는 “(쿠엔틴 타란티노 감독의) <바스터즈: 거친 녀석들>도 영어 비중이 30% 정도밖에 안 되지만 작품상 후보에 올랐다”며 ‘인종차별주의’라고 비판했다.  한국계 미국인인 정 감독이 자전적 이야기를 바탕으로 연출한 <미나리>는 브래드 핏의 제작사 ‘플랜비(B)’가 제작한 미국 영화다. 주연을 맡은 한국계 미국인 스티븐 연이 총괄 프로듀서로 이름을 올렸다. 지난 2월 선댄스영화제에서 미국 드라마 부문 심사위원대상과 관객상을 받으며 주목받았고, 내년 4월 아카데미상 주요 부문 후보로 거론되고 있다. 골든글로브 시상식은 내년 2월28일 열리며, 후보는 같은 달 3일 발표한다. 서정민 기자 westmin@hani.co.kr\n",
            "**************************************************\n",
            "http://www.hani.co.kr/arti/culture/culture_general/975689.html ‘미나리’에서 오스카 향기가 난다…‘기생충’처럼 수상 행진 2020.12.24 04:59\n",
            "영화 <미나리> 스틸컷. 판씨네마 제공 \t\t\t   <기생충> 다음은 <미나리>? 영화 <미나리>가 <기생충>의 뒤를 이어 내년 아카데미 화제작이 될 수 있을지 기대감이 커지고 있다. 최근 미국 내 여러 영화 시상식에서 잇따른 수상 소식을 전하며 오스카 레이스에 청신호를 밝히고 있기 때문이다. <미나리>의 리 아이작 정(한국 이름 정이삭) 감독은 지난 21일(현지시각) 미국 플로리다비평가협회 시상식에서 각본상을 받았다. 재미동포인 그는 자전적 이야기를 담아 각본을 직접 썼다. 앞서 <미나리>에 출연한 배우 윤여정은 선셋필름서클어워즈, 보스턴·로스앤젤레스(LA)비평가협회에서 잇따라 여우조연상을 받았다. 내년 아카데미의 유력한 후보로 거론되는 넷플릭스 영화 <맹크>의 어맨다 사이프리드를 제치고 따낸 성과라 오스카 트로피에 한층 더 다가섰다는 평가가 나온다.  \t \t\t \t\t\t\t\t\t\t \t\t\t\t\t \t\t\t\t\t영화 <미나리>에 출연한 배우 윤여정. 판씨네마 제공 \t\t\t   <미나리>는 올해 초 미국의 대표적 독립영화 축제인 선댄스영화제에서 미국 드라마 부문 최고상인 심사위원대상과 관객상을 받으면서 화제작으로 떠올랐다. 이후 미들버그영화제 관객상과 배우조합상, 하트랜드영화제 관객상과 지미 스튜어트 공로상, 덴버영화제 관객상과 최우수연기상(스티븐 연) 등 수상 행진을 이어오고 있다. 이런 흐름은 지난 2월 제92회 아카데미 시상식에서 작품상·감독상·각본상·국제장편영화상 4개 부문을 수상한 <기생충>의 행보를 떠올리게 한다. <기생충>은 지난해 프랑스 칸국제영화제 황금종려상을 받으며 세계의 주목을 받은 이후 오스트레일리아 시드니, 스위스 로카르노 국제영화제를 비롯해 전미비평가위원회상, 뉴욕·로스앤젤레스·런던비평가협회상, 배우조합상, 작가조합상 등을 잇달아 받으며 결국 오스카 레이스 결승선으로 향했다.  \t \t\t \t\t\t\t\t\t\t \t\t\t\t\t \t\t\t\t\t영화 <미나리> 스틸컷. 판씨네마 제공 \t\t\t   로스앤젤레스·뉴욕·시카고비평가협회와 전미비평가위원회는 아카데미상 후보와 수상자 선정에 적지 않은 영향을 끼치는 것으로 전해진다. 아카데미상을 주관하는 미국 영화예술과학아카데미(AMPAS) 회원 가운데 비평가들이 상당한 비중을 차지하고 있어서다. <미나리>는 뉴욕·시카고비평가협회상은 놓쳤지만, 로스앤젤레스비평가협회상에선 여우조연상을 받았다. 아직까진 <기생충>의 성과에는 못 미치지만, 내년 1월 전미비평가위원회상과 배우조합상, 작가조합상 등 남은 상을 노리고 있다. <기생충>과 달리 <미나리>는 미국 영화다. 아카데미 수상작 <문라이트> <노예 12년> 등을 만든 브래드 핏의 제작사 ‘플랜비(B)’가 제작했고, <문라이트> <룸> <레이디 버드> <플로리다 프로젝트> 등 여러 차례 오스카 레이스를 성공적으로 이끈 ‘에이(A)24’가 북미 배급을 맡았다. 1980년대 미국 아칸소주 시골로 이주한 한인 가족 얘기를 담은 영화로, 재미동포 배우 스티븐 연과 한예리가 부부로, 윤여정이 손주를 돌보러 한국에서 건너온 할머니로 출연한다.  \t \t\t \t\t\t\t\t\t\t \t\t\t\t\t \t\t\t\t\t영화 <미나리>를 연출한 리 아이작 정 감독. 판씨네마 제공 \t\t\t   <미나리>는 특수하고 개별적인 한인 이민 가족의 정착기인데도 미국 관객들의 보편적인 공감대를 끌어낸다는 평가를 받는다. 정 감독은 지난 10월 부산국제영화제 온라인 기자회견에서 “미국 관객들이 아칸소 시골의 우리 가족 이야기에 자신과 가족의 삶을 투영해서 좋아해 주는 것 같다. <기생충>도 미국 관객에게 큰 사랑을 받았듯이 이제는 한국적인 콘텐츠가 일반 미국 관객에게 다가가 공감을 사고 있음을 느낀다”고 말했다. <기생충>의 봉준호 감독은 최근 정 감독과의 화상 대담에서 “<미나리>는 자전적인 이야기이면서도 노스탤지어에 젖어 있지 않다는 점이 좋았다. 여러 인물에게 시점이 분산돼 있고, 해설이나 내레이션이 나오지 않는 데서 생기는 거리감이 영화를 더 아름답고 보편적으로 만든 것 같다”고 평했다. <미나리>는 내년 4월25일 열리는 제93회 아카데미 시상식의 주요 후보에 오를 것으로 점쳐지고 있다. 미국 영화 매체 <버라이어티>는 ‘2021 오스카 예상’에서 <미나리>를 작품상·감독상·각본상·주연상 등 주요 부문 유력 후보로 거론했다. <데드라인>은 <미나리>를 두고 “<기생충>을 이을, 오스카에서 주목할 작품”이라고 평가했다. 아카데미 후보는 내년 3월15일 발표한다. 만약 윤여정이나 한예리가 여우주·조연상 후보에 오르면 한국 배우로는 첫 사례다. 정지욱 평론가는 “아카데미 수상까진 쉽지 않더라도 후보에 오를 가능성은 높아 보인다. 특히 윤여정에 대한 관심이 높은데, 후보에만 올라도 충분히 인정받은 것으로 볼 수 있다”고 말했다. 서정민 기자 westmin@hani.co.kr\n",
            "**************************************************\n",
            "http://www.hani.co.kr/arti/culture/movie/975449.html 영화 ‘미나리’ 정이삭 감독 ‘각본상’ 2020.12.22 19:27\n",
            "정이삭 영화감독. 사진 부산국제영화제 제공 \t\t\t   영화 <미나리>의 리 아이작 정(정이삭) 감독이 21일(현지시각) 열린 미국 플로리다비평가협회 시상식에서 각본상을 받았다. 이 작품은 1980년대 미국 아칸소주로 이주한 한인 가족의 이야기를 담은 정 감독의 자전적 영화로, 새해 4월 열리는 제93회 아카데미 시상식의 강력한 후보로 꼽히고 있다.  이 날 열린 시카고비평가협회 시상식에서도 이 작품은 여우조연상과 남우주연상, 유망감독상 후보에 올랐으나 수상하지는 못했다. 앞서 선셋필름서클어워즈와 보스턴비평가협회에서는 윤여정 배우가 여우조연상을 받았다.  서정민 기자 westmin@hani.co.kr\n",
            "**************************************************\n",
            "http://www.hani.co.kr/arti/culture/movie/975167.html ‘미나리’ 윤여정, LA비평가협회 여우조연상…오스카 청신호 2020.12.21 11:19\n",
            "영화 <미나리>에 출연한 배우 윤여정. 판씨네마 제공 \t\t\t   배우 윤여정이 영화 <미나리>로 미국 로스앤젤레스(LA)비평가협회 시상식에서 여우조연상을 수상하며 오스카 레이스에 청신호를 밝혔다. 미국 연예매체 <버라이어티> 등을 보면, 윤여정은 20일(현지시각) 열린 로스앤젤레스비평가협회 시상식에서 <맹크>의 어맨다 사이프리드를 제치고 여우조연상 수상자로 선정됐다. 윤여정은 리 아이작 정(정이삭) 감독의 자전적 영화 <미나리>에서 1980년대 미국 아칸소로 이주한 한인 가정의 할머니 순자를 연기했다. 로스앤젤레스비평가협회 시상식은 뉴욕비평가협회, 전미비평가협회, 시카고비평가협회 등과 함께 오스카 수상을 점치는 주요 비평가협회 시상식으로 꼽힌다. 앞서 윤여정은 선셋필름서클어워즈와 보스턴비평가협회에서도 여우조연상을 수상했다. 이에 따라 윤여정의 오스카 수상 가능성이 한층 더 높아졌다는 평가가 나온다. 윤여정은 21일(현지시각) 열리는 시카고와 플로리다 비평가협회 시상식 후보에도 올라 있다. <미나리>는 두 시상식에서 여우조연상 말고도 남우주연상·유망감독상 후보(시카고), 작품상·감독상·각본상·연기앙상블상·외국어영화상 후보(플로리다)에도 올라 있다. 내년 4월 열리는 제93회 아카데미 시상식의 강력한 후보로 점쳐지고 있는 <미나리>는 덴버국제영화제 관객상과 최우수 연기상(스티븐 연), 선댄스영화제 심사위원상과 관객상, 미들버그영화제 관객상과 배우조합상, 하트랜드영화제 관객상과 지미 스튜어트 공로상 등을 받는 등 국외영화제에서 수상 행진을 이어가고 있다. 서정민 기자 westmin@hani.co.kr\n",
            "**************************************************\n",
            "http://www.hani.co.kr/arti/culture/culture_general/975058.html [한겨레 프리즘] 그럼에도 ‘쇼 머스트 고 온’ / 유선희 2020.12.20 15:41\n",
            "유선희 ㅣ 문화팀장 ‘문화가 없던 한 해’도 이제 끝나간다. 2020년 문화계는 말 그대로 ‘초토화’ 상태였다. 3월부터 본격화한 코로나19 사태 탓에 영화도, 공연도, 음악도, 전시도, 방송도 셧다운을 반복해야만 했다. 1년 중 문화계의 가장 큰 대목이라 할 수 있는 12월 풍경도 예년과는 사뭇 다르다. 겨울방학·크리스마스·연말연시 기분에 기대어 대작 영화와 송년 음악회·콘서트, 각종 시상식을 챙기던 분주한 분위기는 온데간데없다. 대신 하루 1000명을 넘나드는 코로나 확진자 소식이 실시간으로 들려온다. “산타도 ‘2주간의 자가격리’를 끝낸 1월9일에나 방문한다”는 우스갯소리가 농담으로만 들리지 않는 이유다. 문화부 기자들의 요즘 분위기도 마찬가지다. 1년간의 결실에 뿌듯해하며 ‘연말 결산’을 하는 대신 손해가 막심했던 한 해의 ‘대차대조표’를 먼저 그리고 있다. 공식적인 통합전산망이 운영 중인 영화와 공연만 우선 살펴보자. 지난해 역대 최대인 총 2억2667만여명의 관객을 끌어모았던 영화계의 경우, 올해엔 누적관객수가 5880여만명(12월 현재 기준)에 그치며 시장이 4분의 1 토막이 났다. 지난해 매출액 2405억원(개막 편수 9201건)을 기록했던 공연계 역시 올해 1700억원(개막 편수 5130건)에 그쳐 수익이 30% 이상 곤두박질쳤다. 미술·전시나 대중음악 등 다른 분야도 크게 다르지 않을 것이다.  물론 이런 암울한 수치만이 올해를 ‘증명’하는 것은 아니다. 코로나19 사태로 전례 없는 고통을 겪은 한국 문화계는 전세계에서 오히려 그 위상을 드높였다. 봉준호 감독의 <기생충>이 아카데미 감독상·작품상·각본상·국제영화상까지 4관왕을 차지하는 기염을 토했고, 아이돌그룹 방탄소년단은 빌보드 양대 메인 차트 1위를 기록한 데 이어 그래미상 후보에까지 오르며 보수적인 미국 음악 시장을 점령했다. 또한 코로나 시대 대안으로 떠오른 넷플릭스를 통해 <사이코지만 괜찮아> <더 킹: 영원의 군주> <청춘기록> <사랑의 불시착> 등 한국 드라마가 190여개국 시청자를 사로잡았다. 그뿐인가. 세계 모든 무대가 올스톱된 상황에서도 한국에서만 유일하게 대작 뮤지컬들이 공연돼 케이(K)방역의 우수성을 상징적으로 뽐내기도 했다. 이런 일련의 성과를 돌아보자면, 2020년은 ‘문화가 없었던 해’가 아니라 역설적으로 위기 속에서 국민에게 위로와 희망을 주는 ‘문화의 진정한 힘’을 증명한 해였는지도 모르겠다. 2021년 한국 문화계는 과연 어떨까? 사회적 거리두기 3단계 격상을 논의 중인 현재 상황을 고려하면, 코로나19 사태의 영향은 내년까지 이어질 것이 분명해 보인다. 하지만 여전히 문화는 우리에게 희망을 속삭인다. 2월에 열릴 63회 그래미 시상식은 방탄소년단의 화려한 무대와 (어쩌면) 수상 소식으로 기쁨을 안길 것이다. 4월 아카데미 시상식에서는 정이삭 감독의 영화 <미나리>가 또 한번 ‘큰일’을 낼 분위기다. 또 올해 개봉이 연기된 <서복> <영웅> <모가디슈> <싱크홀> 등 대작 영화도 줄줄이 관객을 찾을 계획이다. 클래식계에서는 슈퍼스타 조성진이 세계적 성악가 마티아스 괴르네와의 무대를 준비 중이고, 피아니스트 임동혁·임동민 형제의 연주회, 조수미와 이탈리아 실내악단 이무지치의 투어 등도 예정돼 있다. “어둠 속에서 벗어나 자유롭기 위해 난 고통을 무릅쓰고 있어. 쇼는 계속되어야 해. 쇼는 계속되어야 해….” 전설적인 록그룹 퀸의 리드싱어 프레디 머큐리는 그의 마지막 노래 ‘더 쇼 머스트 고 온’에서 이렇게 외쳤다. 죽음 앞에서도 무대를 포기하지 않았던 위대한 아티스트의 절규가 새삼스럽게 다가오는 요즘이다. 코로나19 팬데믹이 끝날 것 같지 않은 절망적인 상황도 이 모퉁이만 돌면 곧 끝이 날지 모른다. 그리고 삶이 계속되는 한 그 여백에는 늘 ‘문화’가 자리할 것이다. 그럼에도 불구하고 늘 쇼는 계속되는 법이니까. ‘2021년에도 쇼 머스트 고 온!’ duck@hani.co.kr\n",
            "**************************************************\n",
            "http://www.hani.co.kr/arti/culture/culture_general/974203.html ‘미나리’ 윤여정, 보스턴비평가협 여우조연상 2020.12.14 19:44\n",
            "내년 아카데미 시상식의 주요 후보로 점쳐지는 영화 <미나리>가 보스턴비평가협회에서도 2관왕을 차지했다. 특히 여우조연상을 받은 배우 윤여정(사진)은 아카데미 수상 가능성이 유력하게 점쳐지는 후보들을 꺾은 것이어서 아카데미 레이스에 청신호를 켰다. 영화 <미나리> 배급사인 판시네마는 14일 “<미나리>가 보스턴비평가협회에서 여우조연상(윤여정)과 주제가상 등 2관왕을 차지했다”고 밝혔다.  이번 수상으로 <미나리>의 오스카 수상에 대한 기대감이 더 높아졌다. 앞서 4관왕에 오르며 오스카를 휩쓸었던 <기생충>도 보스턴비평가협회에서 감독상과 외국어영화상을 받은 바 있다. 특히 여우조연상을 받은 배우 윤여정은 큰 주목을 받고 있다. 내년 아카데미 후보로 유력하게 거론되는 <맹크>의 어맨다 사이프리드를 제치고 수상해서다. 지난해 이 부문 수상 배우인 <작은 아씨들> <결혼 이야기>의 로라 던은 기세를 몰아 아카데미 여우조연상을 차지했다. 앞서도 윤여정은 할리우드 영화 전문기자들이 주요 시상식과 영화제 취재를 위해 설립한 협회인 ‘선셋 필름 크리틱 서클’이 주관하는 선셋 서클 어워즈에서도 여우조연상을 받았다. 또 미국 유력 연예매체 <인디와이어>가 선정한 ‘올해 최고의 여자배우 베스트13’에도 이름을 올렸다.  <미나리>는 1980년대 미국 아칸소로 이주한 한인 가정의 이야기를 통해 가족애를 그린 작품이다. 리 아이작 정(정이삭) 감독의 자전적 스토리에 기반을 둔 영화로, 덴버 국제영화제 관객상과 최우수 연기상(스티븐 연), 선댄스영화제 심사위원상과 관객상, 미들버그 영화제 관객상과 배우조합상, 하트랜드 영화제 관객상과 지미 스튜어트 공로상 등을 받는 등 국외 영화제에서 수상 행진을 이어가고 있다.  유선희 기자 duck@hani.co.kr\n",
            "**************************************************\n",
            "http://www.hani.co.kr/arti/specialsection/esc_section/972585.html [ESC] 당면 없는 잡채와 강인희 2020.12.03 07:59\n",
            "우엉잡채. 박미향 기자 \t\t\t        \t \t\t \t\t\t\t\t\t\t \t\t\t\t\t \t\t\t      잡채의 생명은 뭘까요? 소고기? 시금치? 당면 아닐까요. 얌체처럼 매끈한 당면이 갖은 양념을 바른 채 소고기, 시금치 등과 어우러져 우리 입에 당도하면 감당할 수 없는 쾌감이 몰려오죠. 하지만 우리 조상들이 먹은 잡채엔 당면이 없습니다. 진주 향토 음식인 조선잡채는 콩나물, 죽순, 미나리 등을 버무려 만드는데, 심지어 양(소의 위)이나 천엽 같은 소 내장도 들어갔다지요. 어찌 확신하느냐고요? 최근 출간한 <걸어온 길, 되찾은 맛 1989~2019 한국의 맛 연구회 삼십년 이야기>에 또렷이 고증돼 있습니다.(물론 다른 고서적에도 언급된 내용이긴 합니다만.)  우리 음식의 궤적을 좇다 보면 아쉬운 점이 많습니다. 기록물이 적기 때문에 조리법은 고사하고 유래조차 단정 짓기 어렵습니다. 음식사를 연구한 원로도 적고, 원형 그대로 맛을 재현할 전통음식 연구가도 많지 않지요. 이런 이유로 언급한 책은 가치를 따지는 게 송구할 정도로 소중합니다.     \t \t\t \t\t\t\t\t\t\t \t\t\t\t\t \t\t\t\t\t강인희 선생의 제자들이 출간한 책 <걸어온 길, 되찾은 맛 1989~2019 한국의 맛 연구회 삼십년 이야기>. 박미향 기자 \t\t\t       이 책은 강인희(1919~2001) 선생의 제자들이 연구단체 ‘한국의 맛 연구회’ 30여년 역사를 기념해 발간한 조리서입니다. 이 단체는 88서울올림픽 문화 행사로 기획한 ‘음식문화 오천년’이 계기가 돼 결성되었죠. 당시 행사에 참여한 이들이 자문을 맡았던 강인희 선생께 가르침을 부탁하면서 역사가 시작됐죠.  동아대, 명지대 교수를 역임한 강인희 선생은 한식의 전통을 흥인군 이최응(조선 후기 왕족이자 정치인·흥선대원군의 형) 댁의 종부 김정규, 대한제국 황제인 순종의 두 번째 부인 순정효황후(1894~1966)의 올케 조면순으로부터 전수받은 학자입니다. 이 책엔 다양한 한식 조리법이 등장합니다. 칼국수 같은 익숙한 음식도 있지만, 월과채, 조선잡채 등 낯선 음식도 많답니다. 오래전부터 먹었지만 이제야 더없이 훌륭하다는 걸 깨닫게 된 음식들이죠.   비단 음식만 그럴까요? 잠깐 머물다 가는 여행지, 고향 사람들이나 사는 시골 정도로 취급했던 우리 땅도 비슷하지 않을까요. 최근 강 선생 제자들처럼 우리 땅의 매력을 세상에 드러낸 이들이 있습니다. 유명 인사도, 고관대작도, 가방끈 긴 지식인도 아닙니다. 코로나19로 재택근무에 내몰린 평범한 직장인들. 그들이 요즘 도시가 아닌 소박한 동네를 ‘제2의 일터’ 삼아 머물며 일한다는군요. 이번주 ESC는 그들 얘기를 담아봤습니다.  \t \t\t \t\t\t\t\t\t\t \t\t\t\t\t \t\t\t    \t \t\t \t\t\t\t\t\t\t \t\t\t\t\t \t\t\t   박미향 팀장 mh@hani.co.kr\n",
            "**************************************************\n",
            "http://www.hani.co.kr/arti/culture/culture_general/971272.html 미나리, 덴버영화제 2관왕…아카데미 향한 거침없는 질주 2020.11.24 16:32\n",
            "<미나리> 포스터. 판씨네마 제공 \t\t\t   내년 아카데미(오스카) 시상식에서 유력 후보로 거론되는 리 아이작 정(정이삭) 감독의 영화 <미나리>가 미국 유력 영화제 수상 행진을 이어가고 있다. 배급사인 판씨네마는 24일 <미나리>가 최근 덴버 국제영화제에서 관객상과 최우수 연기상(스티븐 연)을 받았다고 밝혔다. 덴버 영화제에서 관객상을 받은 할리우드 영화 <그린 북>과 <쓰리 빌보드>가 아카데미에서도 작품상과 주연상 등을 수상한 바 있어 <미나리>의 아카데미 노미네이트에 청신호가 켜졌다는 기대 섞인 관측이 나온다. 앞서 <미나리>는 선댄스 영화제 심사위원상과 관객상, 미들버그 영화제 관객상과 배우조합상, 하트랜드 영화제 관객상과 지미 스튜어트 공로상 등을 잇달아 수상했다. 또 도빌 영화제 특별상, 고섬 어워드 최우수 여자 연기상, 바야돌리드 영화제 작품상에 후보로 올라 있는 상태다. <미나리>는 1980년대 희망을 찾아 낯선 미국 아칸소로 이민을 선택한 한국인 가정의 따뜻한 이야기를 그린 작품으로, 정 감독의 자전적 스토리에 기반을 두고 있다. 일찌감치 국외 영화제에서 호평을 받은 <미나리>가 ‘<기생충> 4관왕’의 쾌거를 이룬 한국 영화의 아카데미 도전사에 또 하나의 획을 그을지 관심이 쏠린다. 앞서 19일 미국 영화 매체 <버라이어티>는 ‘2021 오스카 예상’에서 <미나리>를 작품상·감독상·각본상·주연상 등 주요 부문의 유력 후보작으로 거론하기도 했다. 아카데미 시상식 후보작은 내년 3월15일 발표된다. 국내에선 지난 10월 부산국제영화제를 통해 처음 공개된 <미나리>는 내년 상반기 개봉할 예정이다.  유선희 기자 duck@hani.co.kr\n",
            "**************************************************\n",
            "http://www.hani.co.kr/arti/specialsection/esc_section/968806.html [ESC] 잔갈치, 숭덩숭덩 썰어 먹어라! 2020.11.06 06:59\n",
            "잘갈치 회. 사진 박찬일 제공 \t\t\t    \t \t\t \t\t\t\t\t\t\t \t\t\t\t\t \t\t\t   회식이나 친구 만날 때 한잔하게 되면 결단의 순간이 있다. “회냐 고기냐.” 고기는 돼지냐 소냐, 아니면 닭에서 골라야 한다. 물론 더러는 양고기가 있긴 하지. 회도 대체로 뻔하다. 광어로 할 것인지 ‘광어 아닌 무엇’으로 갈 것인지 정하는 게 보통이다. 선어회가 별로 없기 때문이다. 활어회 먹는 문화를 바꿔보자는 움직임이 있었다. 활어만 찾는 문화가 회의 다양성을 해친달까, 그런 주장이었다. 심지어 한국은 생선의 신선도를 믿지 못하기 때문에 눈앞에서 보고 고르는 활어만 찾는다는 말도 있다. 회는 숙성하면 더 맛이 좋아진다. 뭐 이런 얘기도 끌고 나왔다. 틀리지 않은 얘기지만, 초장 찍어서 먹을 때 생선 숙성도(감칠맛)가 그렇게 맛에 영향을 줄까 싶다. 내 생각인데, 활어는 활어대로 맛있다. 펄펄 뛰는 활어회가 어때서. 세계 어디서 활어를 이렇게 싸고 편리하게 회 떠서 먹을 수 있냐. 일본은 활어회 안 먹는다고? 천만에. 활어 판다고 자랑하는 선전 많이 봤다. 각설하고. 활어를 좋아하더라도 선어밖에 먹을 수 없는 생선도 많다. 등 푸른 생선이 거의 그렇고, 이른바 성질 급한 생선들은 선어 상태로 고른다. 갈치가 그렇다. 배 위에서 ‘유리 거울’처럼 반짝이는 갈치 낚시를 해서 바로 떠먹는 게 아니라서 그렇다. 다른 생선도 대개 그렇지만 갈치도 클수록 비싸다. 손바닥을 갈치 몸통에 가로로 놓고 ‘몇 지’를 따진다. 손가락 몇 개 너비인가 보는 것이다. 보통 5지(폭 8㎝ 내외) 넘으면 큰 놈이다. 더러 7·8지도 나온다. 이런 건 마리당 10만원도 넘는다. 언감생심이다. 그래도 큰 갈치에 대한 사람들의 집착이 있다. 내가 생조당원(생선조림당)이라는 걸 얘기했었다. 내 친구 당원은 입만 열면 이런 소리를 한다. “큰 갈치, 뱃살에 기름 오른 갈치 한번 실컷 조려 먹고 싶어.” 뱃살이 구분될 정도로 큰놈은 당연히 비싸다. 지방이 올라서 흐물흐물할 정도다. 검은 막이 있는 내장 쪽을 공략하면 당신은 선수다. 조림 국물에 적셔서 입에 가져가면 환상이다. 그런데 내 주머니는 얇다. 자, 팁을 드린다. 어중간하게 비싼 대자, 중자 건너뛴다. 자잘한 소자로 간다. 갈치는 굵어질수록 가격이 폭등하고, 가늘어질수록 말도 안 되게 싸진다. 박스당 40미(생선은 꼬리 ‘尾’자로 마릿수를 센다) 이하 갈치는 우리도 살 수 있는 가격이다. 제주도 탑동이나 한림, 성산, 서귀포 어시장에 아침나절에 나가면 헐값에 구할 수 있다. 올여름에 제주 현지에서 40미 정도 되는 게 위판장 가격 10만원 밑으로 떨어질 때가 많았다. 50미, 60미는 더 싸다. 문제는 이 작은 갈치를 어떻게 먹느냐는 것. 조리거나 굽자니 가시가 많아서 인기가 없다. 우선 튀김을 고려한다. 갈치튀김은 갑 오브 갑이다. 정말 맛있다. 요리 좀 하는 선수들은 작은 갈치도 포를 뜬다. 얇은 살이 먹을 게 없으니 포 떠서 튀겨버린다. 튀김가루 묻혀서 튀기면 살살 녹는다. 포 뜨고 남은 뼈도 튀긴다. 바삭바삭한 게, 죽이는 술안주다. 튀김이 맥주에 잘 맞으니 온갖 튀김들이 맥주에 딸려 나오지만, 갈치튀김을 빼면 섭섭하다. 많이 사서 남는 건 냉동하면 된다. 냉동했다가 생각날 때 튀겨도 크게 품질이 떨어지지 않는다. 자, 다음은 회다. 잔갈치를 회로 어떻게? 천만에. 나는 잔갈치 회가 더 좋다. 두툼한 갈치 회는 껍질이 질기다. 껍질 안쪽으로 살점을 떠내야 하는데 고난도 기술이다. 껍질이 보통 생선처럼 벗겨지는 어종이 아니어서 그렇다. 일반 횟집에 가 봐도 대개는 은분(은가루·비늘의 일종) 벗겨서 껍질째 회로 주더라. 그러니 질겅거린다. 어중간한 대갈치 회에 실망한다. 그러니 잔갈치가 낫다. 이른바 뼈째 썰기, 시중 언어로 세꼬시다. 껍질이 질기지 않아서 벗기는 수고 없이 그냥 썰면 된다. 내장과 머리, 꼬리만 손질하고, 은분 차분히 긁어내고 뼈째 썰어버린다. 손질 후 살짝 얼렸다가 썰면 좋다. 지느러미는 가위로 자르는 게 편하다. 잔갈치여서 등뼈도 잘 씹힌다. 참기름 넣은 막장이나 초장 다 좋다. 미나리를 송송 썰어서 같이 내고, 물미역 있으면 싸먹어도 맛있다. 진짜 별미다. 선어회가 이런 거다. 서울에 이걸 파는 집이 없는 것 같다. 뼈째 썰기 한 건 대개 동해안에서 오는 물가자미류가 인기 있더라. 왜 잔갈치는 그렇게 안 파는지 모르겠다. 정말 맛있는데.(나만 먹겠다) 박찬일(요리사 겸 음식칼럼니스트)\n",
            "**************************************************\n",
            "\n"
          ],
          "name": "stdout"
        }
      ]
    }
  ]
}