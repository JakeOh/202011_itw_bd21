{
  "nbformat": 4,
  "nbformat_minor": 0,
  "metadata": {
    "colab": {
      "name": "python44_naver_search.ipynb",
      "provenance": [],
      "collapsed_sections": [],
      "authorship_tag": "ABX9TyOhP6YkNOLo4W+Mi/4df2Ch",
      "include_colab_link": true
    },
    "kernelspec": {
      "name": "python3",
      "display_name": "Python 3"
    }
  },
  "cells": [
    {
      "cell_type": "markdown",
      "metadata": {
        "id": "view-in-github",
        "colab_type": "text"
      },
      "source": [
        "<a href=\"https://colab.research.google.com/github/JakeOh/202011_itw_bd21/blob/main/lab_python/python44_naver_search.ipynb\" target=\"_parent\"><img src=\"https://colab.research.google.com/assets/colab-badge.svg\" alt=\"Open In Colab\"/></a>"
      ]
    },
    {
      "cell_type": "markdown",
      "metadata": {
        "id": "1PVg2kLLyijh"
      },
      "source": [
        "# 네이버 뉴스 검색"
      ]
    },
    {
      "cell_type": "code",
      "metadata": {
        "id": "-PCfntTXtxBJ"
      },
      "source": [
        "# import"
      ],
      "execution_count": null,
      "outputs": []
    },
    {
      "cell_type": "markdown",
      "metadata": {
        "id": "aymHXo5Yuhb9"
      },
      "source": [
        "*   https://search.naver.com/search.naver?where=news&sm=tab_jum&query=%EB%A8%B8%EC%8B%A0%EB%9F%AC%EB%8B%9D\r\n",
        "*   https://search.naver.com/search.naver?&where=news&query=%EB%A8%B8%EC%8B%A0%EB%9F%AC%EB%8B%9D&sm=tab_pge&sort=0&photo=0&field=0&reporter_article=&pd=0&ds=&de=&docid=&nso=so:r,p:all,a:all&mynews=0&cluster_rank=46&start=1&refresh_start=0\r\n",
        "*   https://search.naver.com/search.naver?&where=news&query=%EB%A8%B8%EC%8B%A0%EB%9F%AC%EB%8B%9D&sm=tab_pge&sort=0&photo=0&field=0&reporter_article=&pd=0&ds=&de=&docid=&nso=so:r,p:all,a:all&mynews=0&cluster_rank=18&start=11&refresh_start=0\r\n",
        "*   https://search.naver.com/search.naver?&where=news&query=%EB%A8%B8%EC%8B%A0%EB%9F%AC%EB%8B%9D&sm=tab_pge&sort=0&photo=0&field=0&reporter_article=&pd=0&ds=&de=&docid=&nso=so:r,p:all,a:all&mynews=0&cluster_rank=64&start=21&refresh_start=0"
      ]
    },
    {
      "cell_type": "code",
      "metadata": {
        "id": "HVOjm0kot-Rf"
      },
      "source": [
        "def naver_news_search(keyword: str, total_pages: int) -> None:\r\n",
        "    pass\r\n",
        "    # URL\r\n",
        "    # request paramters\r\n",
        "    # send request\r\n",
        "    # reponse -> HTML\r\n",
        "    # -> BeautifulSoup\r\n",
        "    # selector\r\n",
        "    # select\r\n",
        "    # 결과 출력"
      ],
      "execution_count": null,
      "outputs": []
    },
    {
      "cell_type": "code",
      "metadata": {
        "id": "P6tjRSQ_uA8e"
      },
      "source": [
        "keyword = input('검색어 입력>>> ')\r\n",
        "pages = int(input('검색할 페이지 개수 입력>>> '))\r\n",
        "naver_news_search(keyword, pages)"
      ],
      "execution_count": null,
      "outputs": []
    },
    {
      "cell_type": "markdown",
      "metadata": {
        "id": "tPVmaOiKyp7O"
      },
      "source": [
        "# 한겨레 신문 뉴스 검색"
      ]
    },
    {
      "cell_type": "code",
      "metadata": {
        "id": "mEnHJUjSytfO"
      },
      "source": [
        "def hani_search(keyword: str, total_pages: int) -> None:\r\n",
        "    pass"
      ],
      "execution_count": null,
      "outputs": []
    },
    {
      "cell_type": "code",
      "metadata": {
        "id": "dB18rme_zDDJ"
      },
      "source": [
        "keyword = input('검색어 입력>>> ')\r\n",
        "pages = int(input('검색할 페이지 개수 입력>>> '))\r\n",
        "hani_news_search(keyword, pages)"
      ],
      "execution_count": null,
      "outputs": []
    }
  ]
}