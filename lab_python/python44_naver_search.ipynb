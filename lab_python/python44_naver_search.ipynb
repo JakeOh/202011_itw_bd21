{
  "nbformat": 4,
  "nbformat_minor": 0,
  "metadata": {
    "colab": {
      "name": "python44_naver_search.ipynb",
      "provenance": [],
      "collapsed_sections": [],
      "authorship_tag": "ABX9TyNpFri7WbIaonS+106cJ0zC",
      "include_colab_link": true
    },
    "kernelspec": {
      "name": "python3",
      "display_name": "Python 3"
    }
  },
  "cells": [
    {
      "cell_type": "markdown",
      "metadata": {
        "id": "view-in-github",
        "colab_type": "text"
      },
      "source": [
        "<a href=\"https://colab.research.google.com/github/JakeOh/202011_itw_bd21/blob/main/lab_python/python44_naver_search.ipynb\" target=\"_parent\"><img src=\"https://colab.research.google.com/assets/colab-badge.svg\" alt=\"Open In Colab\"/></a>"
      ]
    },
    {
      "cell_type": "markdown",
      "metadata": {
        "id": "1PVg2kLLyijh"
      },
      "source": [
        "# 네이버 뉴스 검색"
      ]
    },
    {
      "cell_type": "code",
      "metadata": {
        "id": "-PCfntTXtxBJ"
      },
      "source": [
        "import requests\r\n",
        "from bs4 import BeautifulSoup"
      ],
      "execution_count": 1,
      "outputs": []
    },
    {
      "cell_type": "markdown",
      "metadata": {
        "id": "aymHXo5Yuhb9"
      },
      "source": [
        "*   https://search.naver.com/search.naver?where=news&sm=tab_jum&query=%EB%A8%B8%EC%8B%A0%EB%9F%AC%EB%8B%9D\r\n",
        "*   1 page\r\n",
        "    *   https://search.naver.com/search.naver?&where=news&query=%EB%A8%B8%EC%8B%A0%EB%9F%AC%EB%8B%9D&sm=tab_pge&sort=0&photo=0&field=0&reporter_article=&pd=0&ds=&de=&docid=&nso=so:r,p:all,a:all&mynews=0&cluster_rank=46&start=1&refresh_start=0\r\n",
        "*   2 page\r\n",
        "    *   https://search.naver.com/search.naver?&where=news&query=%EB%A8%B8%EC%8B%A0%EB%9F%AC%EB%8B%9D&sm=tab_pge&sort=0&photo=0&field=0&reporter_article=&pd=0&ds=&de=&docid=&nso=so:r,p:all,a:all&mynews=0&cluster_rank=18&start=11&refresh_start=0\r\n",
        "*   3 page\r\n",
        "    *   https://search.naver.com/search.naver?&where=news&query=%EB%A8%B8%EC%8B%A0%EB%9F%AC%EB%8B%9D&sm=tab_pge&sort=0&photo=0&field=0&reporter_article=&pd=0&ds=&de=&docid=&nso=so:r,p:all,a:all&mynews=0&cluster_rank=64&start=21&refresh_start=0\r\n",
        "* 4 page\r\n",
        "    *   https://search.naver.com/search.naver?&where=news&query=%EB%A8%B8%EC%8B%A0%EB%9F%AC%EB%8B%9D&sm=tab_pge&sort=0&photo=0&field=0&reporter_article=&pd=0&ds=&de=&docid=&nso=so:r,p:all,a:all&mynews=0&cluster_rank=18&start=31&refresh_start=0"
      ]
    },
    {
      "cell_type": "code",
      "metadata": {
        "colab": {
          "base_uri": "https://localhost:8080/"
        },
        "id": "6dciLKBSkm-B",
        "outputId": "c940a98e-b284-4095-ffc5-45ed37f72934"
      },
      "source": [
        "url = 'https://search.naver.com/search.naver?where=news'  # URL\r\n",
        "params = {'query': '머신러닝', 'start': 1}  # 요청 파라미터(request parameter)\r\n",
        "response = requests.get(url, params)\r\n",
        "print(response)"
      ],
      "execution_count": 3,
      "outputs": [
        {
          "output_type": "stream",
          "text": [
            "<Response [200]>\n"
          ],
          "name": "stdout"
        }
      ]
    },
    {
      "cell_type": "code",
      "metadata": {
        "colab": {
          "base_uri": "https://localhost:8080/"
        },
        "id": "my5NZcY6r3m9",
        "outputId": "f7fe5422-52be-4f22-c993-fdda9638f4a2"
      },
      "source": [
        "html = response.text.strip()\r\n",
        "print(html[:500])"
      ],
      "execution_count": 5,
      "outputs": [
        {
          "output_type": "stream",
          "text": [
            "<!doctype html> <html lang=\"ko\"> <head> <meta charset=\"utf-8\"> <meta name=\"referrer\" content=\"always\">  <meta name=\"format-detection\" content=\"telephone=no,address=no,email=no\"> <meta name=\"viewport\" content=\"width=device-width,initial-scale=1.0,maximum-scale=2.0\"> <meta property=\"og:title\" content=\"머신러닝 : 네이버 뉴스검색\"/> <meta property=\"og:image\" content=\"https://ssl.pstatic.net/sstatic/search/common/og_v3.png\"> <meta property=\"og:description\" content=\"'머신러닝'의 네이버 뉴스검색 결과입니다.\"> <meta name=\"descript\n"
          ],
          "name": "stdout"
        }
      ]
    },
    {
      "cell_type": "code",
      "metadata": {
        "colab": {
          "base_uri": "https://localhost:8080/"
        },
        "id": "VbBVqpkysUs5",
        "outputId": "88197e23-0f73-4c9b-b10b-770dd9eade02"
      },
      "source": [
        "print(html[-500:])"
      ],
      "execution_count": 6,
      "outputs": [
        {
          "output_type": "stream",
          "text": [
            "t, null).getPropertyValue('outline-width'); target.setAttribute('tabindex', 0); target.style.outlineWidth = 0; target.focus(); if (oldTabIndex === null) target.removeAttribute('tabindex'); else target.setAttribute('tabindex', oldTabIndex); }, false); }); }, false); })(); </script><script type=\"text/javascript\"> if(typeof nx_usain_beacon !== 'undefined') { nx_usain_beacon.add_tag(\"conn_._TLSv1.3_.\") ; $Fn(function () { nx_usain_beacon.send(); }).attach(window, \"load\") ; } </script></body> </html>\n"
          ],
          "name": "stdout"
        }
      ]
    },
    {
      "cell_type": "code",
      "metadata": {
        "colab": {
          "base_uri": "https://localhost:8080/"
        },
        "id": "Ep0ZmQpOsYh-",
        "outputId": "1a2a4fa7-c792-477d-f490-668fa0b3b41c"
      },
      "source": [
        "soup = BeautifulSoup(markup=html, features='html5lib')\r\n",
        "selector = 'ul.list_news > li > div > div > a.news_tit'\r\n",
        "soup.select(selector)"
      ],
      "execution_count": 7,
      "outputs": [
        {
          "output_type": "execute_result",
          "data": {
            "text/plain": [
              "[<a class=\"news_tit\" href=\"http://www.ddaily.co.kr/news/article.html?no=208443\" onclick=\"return goOtherCR(this, 'a=nws*a.tit&amp;r=1&amp;i=880000AC_000000000000000002097993&amp;g=138.0002097993&amp;u='+urlencode(this.href));\" target=\"_blank\" title=\"몰로코, 머신러닝 기반 광고 자동화 플랫폼 출시\">몰로코, <mark>머신러닝</mark> 기반 광고 자동화 플랫폼 출시</a>,\n",
              " <a class=\"news_tit\" href=\"http://www.etnews.com/20210122000063\" onclick=\"return goOtherCR(this, 'a=nws*a.tit&amp;r=6&amp;i=880000EA_000000000000000002924712&amp;g=030.0002924712&amp;u='+urlencode(this.href));\" target=\"_blank\" title=\"GS샵, 러닝머신 '나인닷 런닝패드' 단독 론칭\">GS샵, <mark>러닝</mark><mark>머신</mark> '나인닷 런닝패드' 단독 론칭</a>,\n",
              " <a class=\"news_tit\" href=\"http://www.epnc.co.kr/news/articleView.html?idxno=114928\" onclick=\"return goOtherCR(this, 'a=nws*f.tit&amp;r=11&amp;i=8819cr4r_000000000000000000019400&amp;g=5752.0000019400&amp;u='+urlencode(this.href));\" target=\"_blank\" title=\"스마트 공장에서 머신비전의 중요성\">스마트 공장에서 <mark>머신</mark>비전의 중요성</a>,\n",
              " <a class=\"news_tit\" href=\"http://www.itworld.co.kr/techlibrary/180724\" onclick=\"return goOtherCR(this, 'a=nws*f.tit&amp;r=12&amp;i=88000629_000000000000000000049140&amp;g=5110.0000049140&amp;u='+urlencode(this.href));\" target=\"_blank\" title=\"Workday의 머신러닝 혁신 : IT 리더를 위한 가이드\">Workday의 <mark>머신러닝</mark> 혁신 : IT 리더를 위한 가이드</a>,\n",
              " <a class=\"news_tit\" href=\"http://news.mk.co.kr/newsRead.php?no=100880&amp;year=2021\" onclick=\"return goOtherCR(this, 'a=nws*e.tit&amp;r=13&amp;i=880000BC_000000000000000004741980&amp;g=009.0004741980&amp;u='+urlencode(this.href));\" target=\"_blank\" title='지멘스 CEO \"머신러닝이 향후 5년 제조업 키워드\"'>지멘스 CEO \"<mark>머신러닝</mark>이 향후 5년 제조업 키워드\"</a>,\n",
              " <a class=\"news_tit\" href=\"https://magazine.hankyung.com/business/article/2021012601313000481\" onclick=\"return goOtherCR(this, 'a=nws*e.tit&amp;r=14&amp;i=88000106_000000000000000000056482&amp;g=050.0000056482&amp;u='+urlencode(this.href));\" target=\"_blank\" title=\"큐앤에이소프트, 딥러닝 기반의 주식 자동 매매 프로그램 ‘큐아이’ 출시\">큐앤에이소프트, 딥<mark>러닝</mark> 기반의 주식 자동 매매 프로그램 ‘큐아이’ 출시</a>,\n",
              " <a class=\"news_tit\" href=\"http://www.dt.co.kr/contents.html?article_no=2021012502109923039003&amp;ref=naver\" onclick=\"return goOtherCR(this, 'a=nws*e.tit&amp;r=15&amp;i=880000AD_000000000000000002651226&amp;g=029.0002651226&amp;u='+urlencode(this.href));\" target=\"_blank\" title=\"바이텍씨스템, 데이터로봇과 데이터 사이언스 및 머신러닝 플랫폼 시장 본격 진출\">바이텍씨스템, 데이터로봇과 데이터 사이언스 및 <mark>머신러닝</mark> 플랫폼 시장 본격 ...</a>,\n",
              " <a class=\"news_tit\" href=\"http://www.hani.co.kr/arti/politics/assembly/978754.html\" onclick=\"return goOtherCR(this, 'a=nws*j.tit&amp;r=16&amp;i=88000103_000000000000000002528578&amp;g=028.0002528578&amp;u='+urlencode(this.href));\" target=\"_blank\" title=\"헬스장, 18일 이후 러닝머신 금지·개인운동 허용 가닥\">헬스장, 18일 이후 <mark>러닝</mark><mark>머신</mark> 금지·개인운동 허용 가닥</a>,\n",
              " <a class=\"news_tit\" href=\"http://kr.aving.net/news/view.php?articleId=1589276&amp;Branch_ID=kr&amp;rssid=naver&amp;mn_name=news\" onclick=\"return goOtherCR(this, 'a=nws*f.tit&amp;r=17&amp;i=880003CB_000000000000000000155838&amp;g=5015.0000155838&amp;u='+urlencode(this.href));\" target=\"_blank\" title=\"[CES 2021 All Digital] 콕스스페이스(CoX Space), 제스처 머신러닝 마우스 '스노울' 선보여\">[CES 2021 All Digital] 콕스스페이스(CoX Space), 제스처 <mark>머신러닝</mark> 마우스 '...</a>,\n",
              " <a class=\"news_tit\" href=\"https://www.sisain.co.kr/news/articleView.html?idxno=43761\" onclick=\"return goOtherCR(this, 'a=nws*j.tit&amp;r=18&amp;i=8800055D_000000000000000000028177&amp;g=308.0000028177&amp;u='+urlencode(this.href));\" target=\"_blank\" title=\"러닝머신이 멈췄으니 오토바이에 오를 수밖에\"><mark>러닝</mark><mark>머신</mark>이 멈췄으니 오토바이에 오를 수밖에</a>]"
            ]
          },
          "metadata": {
            "tags": []
          },
          "execution_count": 7
        }
      ]
    },
    {
      "cell_type": "code",
      "metadata": {
        "id": "HVOjm0kot-Rf"
      },
      "source": [
        "def naver_news_search(keyword: str, total_pages: int) -> None:\r\n",
        "    url = 'https://search.naver.com/search.naver?where=news'  # URL\r\n",
        "    \r\n",
        "    for page in range(total_pages):\r\n",
        "        print(f'--- page {page + 1} ---')\r\n",
        "        \r\n",
        "        params = {'query': keyword, 'start': page * 10 + 1}  # request paramters\r\n",
        "        response = requests.get(url, params)  # request 보냄 -> response 받음\r\n",
        "        html = response.text.strip()  # HTML 추출\r\n",
        "        \r\n",
        "        soup = BeautifulSoup(markup=html, features='html5lib') # BeautifulSoup 객체\r\n",
        "        selector = 'ul.list_news > li > div > div > a.news_tit'  # selector\r\n",
        "        for news in soup.select(selector):\r\n",
        "            print(news['href'], news.text)\r\n",
        "        print()"
      ],
      "execution_count": 8,
      "outputs": []
    },
    {
      "cell_type": "code",
      "metadata": {
        "colab": {
          "base_uri": "https://localhost:8080/"
        },
        "id": "P6tjRSQ_uA8e",
        "outputId": "ede19bb9-3298-46b0-f23a-f4b14b83b375"
      },
      "source": [
        "keyword = input('검색어 입력>>> ')\r\n",
        "pages = int(input('검색할 페이지 개수 입력>>> '))\r\n",
        "naver_news_search(keyword, pages)"
      ],
      "execution_count": 11,
      "outputs": [
        {
          "output_type": "stream",
          "text": [
            "검색어 입력>>> 미나리\n",
            "검색할 페이지 개수 입력>>> 2\n",
            "--- page 1 ---\n",
            "http://yna.kr/AKR20210203180653091?did=1195m '미나리' 골든글로브 외국어영화상 후보 올라…기생충 계보 잇나(종합2보)\n",
            "https://imnews.imbc.com/replay/2021/nwtoday/article/6078151_34943.html '미나리', 골든글로브 후보…'기생충' 영광 이을까\n",
            "https://www.hankyung.com/life/article/202102046565H '미나리' 골든글로브 외국어영화상 찍고 한국 온다 (종합)\n",
            "http://sports.khan.co.kr/news/sk_index.html?art_id=202102040755003&sec_id=540401&pt=nv 영화 ‘미나리’ 3월 3일 국내 개봉…제78회 골든 글로브 외국어영화상 노미네...\n",
            "http://www.newsis.com/view/?id=NISX20210204_0001329140&cID=10601&pID=10600 '미나리', 골든글로브 외국어영화상 후보...3월3일 국내 개봉\n",
            "http://news.kbs.co.kr/news/view.do?ncd=5110999&ref=A ‘미나리’, 골든글로브 외국어영화상 후보에 지명\n",
            "http://sports.chosun.com/news/ntype.htm?id=202102050100038810002402&servicedate=20210204 [SC이슈]\"윤여정 탈락, 골든글로브 최대 실수\"…美매체도 분노한 '미나리' 사...\n",
            "https://www.hankyung.com/international/article/202102047195H \"'미나리' 윤여정 후보 제외, 골든글로브 최대 실수\"\n",
            "https://www.nocutnews.co.kr/news/5494578 골든글로브 '보수' '폐쇄' 벽 넘지 못한 '미나리'\n",
            "https://news.imaeil.com/International/2021020323101448194 윤여정 출연 '미나리' 美 골든글로브 최우수 외국어영화상 후보 \"제2의 기생충...\n",
            "\n",
            "--- page 2 ---\n",
            "http://yna.kr/AKR20210204059000005?did=1195m [영화소식] '미나리', 국내서 3월 3일 개봉\n",
            "http://www.busan.com/view/busan/view.php?code=2021020218572485982 [밀물썰물] '미나리'를 기다리며\n",
            "http://isplus.live.joins.com/news/article/article.asp?total_id=23985853 美영화 '미나리' 골든글로브 외국어영화상 지명…외신도 비난(종합)\n",
            "https://news.joins.com/article/olink/23580234 [박정호의 문화난장] 원더풀 미나리\n",
            "https://news.jtbc.joins.com/article/article.aspx?news_id=NB11990606 윤여정 \"같이 먹고 살았으니 앙상블은 우리가 끝내줘\"…'미나리', 연기 앙상블...\n",
            "http://www.segye.com/content/html/2021/02/04/20210204503732.html?OutUrl=naver ‘미나리’ 골든글로브 외국어영화상 후보…‘기생충’ 영광 이을까\n",
            "http://www.kukinews.com/newsView/kuk202102040007 영화 '미나리' 골든글로브 외국어영화상 후보 올랐다\n",
            "https://www.vop.co.kr/A00001545367.html 영화 ‘미나리’, 美 골든글로브 최우수 외국어영화상 후보 지명\n",
            "http://www.mediapen.com/news/view/598799 '미나리' 골든 글로브 외국어영화상 노미네이트…연일 \"낭보 또 낭보\"\n",
            "https://imnews.imbc.com/news/2021/world/article/6078251_34880.html NYT \"아메리칸 드림 영화에 외국어영화상? 바보같이 보여\"\n",
            "\n"
          ],
          "name": "stdout"
        }
      ]
    },
    {
      "cell_type": "markdown",
      "metadata": {
        "id": "tPVmaOiKyp7O"
      },
      "source": [
        "# 한겨레 신문 뉴스 검색"
      ]
    },
    {
      "cell_type": "markdown",
      "metadata": {
        "id": "82pLtYtr8ZFO"
      },
      "source": [
        "한겨레 신문사 사이트에서 뉴스 검색 결과를 원하는 페이지 개수만큼 검색하고, 뉴스 링크, 뉴스 제목, 뉴스 업데이트 시간을 출력. 각각의 뉴스 기사의 본문(전체 내용)도 출력."
      ]
    },
    {
      "cell_type": "markdown",
      "metadata": {
        "id": "mr8KCWed1kAg"
      },
      "source": [
        "*   1 page\r\n",
        "    *   http://search.hani.co.kr/Search?command=query&keyword=%EB%AF%B8%EB%82%98%EB%A6%AC&media=news&submedia=&sort=d&period=all&datefrom=1988.01.01&dateto=2021.02.04&pageseq=0\r\n",
        "*   2 page\r\n",
        "    *   http://search.hani.co.kr/Search?command=query&keyword=%EB%AF%B8%EB%82%98%EB%A6%AC&media=news&submedia=&sort=d&period=all&datefrom=1988.01.01&dateto=2021.02.04&pageseq=1"
      ]
    },
    {
      "cell_type": "code",
      "metadata": {
        "colab": {
          "base_uri": "https://localhost:8080/"
        },
        "id": "it2dAc6c1Ayf",
        "outputId": "04495395-a5d2-4767-8350-31d7d1ae5c9c"
      },
      "source": [
        "url = 'http://search.hani.co.kr/Search?command=query&media=news'\r\n",
        "params = {'keyword': '머신러닝', 'pageseq': 1}\r\n",
        "response = requests.get(url, params)\r\n",
        "print(response)"
      ],
      "execution_count": 23,
      "outputs": [
        {
          "output_type": "stream",
          "text": [
            "<Response [200]>\n"
          ],
          "name": "stdout"
        }
      ]
    },
    {
      "cell_type": "code",
      "metadata": {
        "colab": {
          "base_uri": "https://localhost:8080/"
        },
        "id": "yfNZzdxB7x-g",
        "outputId": "fbaf9d3a-8d5d-47ca-8d5a-96c2861a2a56"
      },
      "source": [
        "html = response.text.strip()\r\n",
        "soup = BeautifulSoup(markup=html, features='html5lib')\r\n",
        "selector = 'ul.search-result-list > li > dl > dt > a'\r\n",
        "# '#contents > div.search-result-section.first-child > ul > li.first-child > dl > dt > a'\r\n",
        "# '#contents > div.search-result-section.first-child > ul > li:nth-child(2) > dl > dt > a'\r\n",
        "# '#contents > div.search-result-section.first-child > ul > li:nth-child(3) > dl > dt > a'\r\n",
        "soup.select(selector)"
      ],
      "execution_count": 24,
      "outputs": [
        {
          "output_type": "execute_result",
          "data": {
            "text/plain": [
              "[<a href=\"//www.hani.co.kr/arti/society/ngo/964675.html\">10월 7일 알림</a>,\n",
              " <a href=\"//www.hani.co.kr/arti/economy/economy_general/964593.html\">SK하이닉스 차세대 D램 ‘DDR5\\' 세계 첫 출시</a>,\n",
              " <a href=\"//www.hani.co.kr/arti/economy/economy_general/964016.html\">뉴스로 경제 예측? 전문가들 유용성에 갸우뚱</a>,\n",
              " <a href=\"//www.hani.co.kr/arti/international/international_general/962331.html\">애플 ‘아이패드에어·아이패드’ 신작공개…내일부터 OS 업데이트</a>,\n",
              " <a href=\"//www.hani.co.kr/arti/science/technology/956206.html\">알고리즘·인공지능, 공정하지 않았다간 큰 코 다친다</a>,\n",
              " <a href=\"//www.hani.co.kr/arti/economy/finance/953429.html\">돌아온 케이뱅크…가계대출 3종 내놔</a>,\n",
              " <a href=\"//www.hani.co.kr/arti/economy/startup/950370.html\">증강현실로 헤어·안경 바꾼다…중기중앙회, 스마트서비스 체험 전시</a>,\n",
              " <a href=\"//www.hani.co.kr/arti/society/campus/948536.html\">[MODU 요즘 뜨는 학과] AI, 미래를 열다 가천대학교 인공지능학과</a>,\n",
              " <a href=\"//www.hani.co.kr/arti/economy/it/947703.html\">주민센터·복지관서 ‘모바일 기차·버스표 예매’ 이용법 알려준다</a>,\n",
              " <a href=\"//www.hani.co.kr/arti/society/society_general/935110.html\">\\\"박사의 은닉수단 \\'모네로\\', 채굴자는 추적 가능하다\\\"</a>]"
            ]
          },
          "metadata": {
            "tags": []
          },
          "execution_count": 24
        }
      ]
    },
    {
      "cell_type": "code",
      "metadata": {
        "id": "mEnHJUjSytfO"
      },
      "source": [
        "def hani_news_search(keyword: str, total_pages: int) -> None:\r\n",
        "    \"\"\"뉴스 키워드 검색 후, 각각의 기사 링크를 찾아서 새로운 request를 보냄 -> 기사 본문 스크랩.\"\"\"\r\n",
        "    url = 'http://search.hani.co.kr/Search?command=query&media=news'\r\n",
        "\r\n",
        "    for page in range(total_pages):\r\n",
        "        print(f'--- page {page + 1} ---')\r\n",
        "        \r\n",
        "        params = {'keyword': keyword, 'pageseq': page}\r\n",
        "        response = requests.get(url, params)\r\n",
        "        html = response.text.strip()\r\n",
        "        soup = BeautifulSoup(markup=html, features='html5lib')\r\n",
        "        selector = 'ul.search-result-list > li > dl > dt > a'\r\n",
        "        for item in soup.select(selector):\r\n",
        "            news_url = 'http:' + item['href']\r\n",
        "            news_title = item.text\r\n",
        "            print(news_url, news_title)\r\n",
        "            \r\n",
        "            # news_url로 다시 request 보냄.\r\n",
        "            res = requests.get(news_url)\r\n",
        "            print(res)\r\n",
        "            # TODO:\r\n",
        "            print('*' * 50)"
      ],
      "execution_count": 38,
      "outputs": []
    },
    {
      "cell_type": "code",
      "metadata": {
        "colab": {
          "base_uri": "https://localhost:8080/"
        },
        "id": "dB18rme_zDDJ",
        "outputId": "e7021926-ba68-4b97-9d89-82d6ae8a8f0e"
      },
      "source": [
        "keyword = input('검색어 입력>>> ')\r\n",
        "pages = int(input('검색할 페이지 개수 입력>>> '))\r\n",
        "hani_news_search(keyword, pages)"
      ],
      "execution_count": 39,
      "outputs": [
        {
          "output_type": "stream",
          "text": [
            "검색어 입력>>> 미나리\n",
            "검색할 페이지 개수 입력>>> 1\n",
            "--- page 1 ---\n",
            "http://www.hani.co.kr/arti/culture/culture_general/981793.html 작품상·조연상 후보 못 오른 ‘미나리’…골든글로브 보수성 다시 도마에\n",
            "<Response [200]>\n",
            "**************************************************\n",
            "http://www.hani.co.kr/arti/culture/culture_general/981735.html 영화 ‘미나리’, 골든글로브 외국어영화상 후보 지명\n",
            "<Response [200]>\n",
            "**************************************************\n",
            "http://www.hani.co.kr/arti/culture/movie/981733.html ‘미나리’, 골든글로브 최우수 외국어영화상 후보 지명\n",
            "<Response [200]>\n",
            "**************************************************\n",
            "http://www.hani.co.kr/arti/culture/movie/981520.html ‘미나리’ 미 영화제 연기앙상블상 2관왕\n",
            "<Response [200]>\n",
            "**************************************************\n",
            "http://www.hani.co.kr/arti/culture/culture_general/980797.html ‘미나리’ 골드리스트 시상식 7관왕…한예리, 첫 여우주연상\n",
            "<Response [200]>\n",
            "**************************************************\n",
            "http://www.hani.co.kr/arti/society/ngo/980712.html 28일 동정\n",
            "<Response [200]>\n",
            "**************************************************\n",
            "http://www.hani.co.kr/arti/culture/movie/980571.html ‘미나리’ 윤여정, 전미 비평가위원회 여우조연상…20관왕 기록\n",
            "<Response [200]>\n",
            "**************************************************\n",
            "http://www.hani.co.kr/arti/culture/culture_general/980387.html ‘미나리’ 미국영화연구소 선정 ‘2020 올해의 영화’\n",
            "<Response [200]>\n",
            "**************************************************\n",
            "http://www.hani.co.kr/arti/culture/culture_general/979629.html 어느새 13관왕…윤여정, 데뷔 55돌 선물은 오스카?\n",
            "<Response [200]>\n",
            "**************************************************\n",
            "http://www.hani.co.kr/arti/economy/consumer/978921.html 양파·달걀값이 미쳤어요…뛰는 밥상물가에 소비자 한숨\n",
            "<Response [200]>\n",
            "**************************************************\n"
          ],
          "name": "stdout"
        }
      ]
    }
  ]
}