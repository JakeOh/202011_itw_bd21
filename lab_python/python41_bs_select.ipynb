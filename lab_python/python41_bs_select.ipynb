{
  "nbformat": 4,
  "nbformat_minor": 0,
  "metadata": {
    "colab": {
      "name": "python41_bs_select.ipynb",
      "provenance": [],
      "collapsed_sections": [],
      "authorship_tag": "ABX9TyM0+DEWoL9Qz2iIVdDZIDTT",
      "include_colab_link": true
    },
    "kernelspec": {
      "name": "python3",
      "display_name": "Python 3"
    }
  },
  "cells": [
    {
      "cell_type": "markdown",
      "metadata": {
        "id": "view-in-github",
        "colab_type": "text"
      },
      "source": [
        "<a href=\"https://colab.research.google.com/github/JakeOh/202011_itw_bd21/blob/main/lab_python/python41_bs_select.ipynb\" target=\"_parent\"><img src=\"https://colab.research.google.com/assets/colab-badge.svg\" alt=\"Open In Colab\"/></a>"
      ]
    },
    {
      "cell_type": "markdown",
      "metadata": {
        "id": "VPOSunz7oK7O"
      },
      "source": [
        "# CSS Selector"
      ]
    },
    {
      "cell_type": "markdown",
      "metadata": {
        "id": "6y6cucACn1dW"
      },
      "source": [
        "*   준비: web03.html 파일을 CWD(Current Working Directory, 현재 작업 디렉토리)에 업로드."
      ]
    },
    {
      "cell_type": "code",
      "metadata": {
        "id": "wVwDP3gbnncy"
      },
      "source": [
        "from bs4 import BeautifulSoup"
      ],
      "execution_count": 1,
      "outputs": []
    },
    {
      "cell_type": "markdown",
      "metadata": {
        "id": "P0rhG58FoX7z"
      },
      "source": [
        "\r\n",
        "```\r\n",
        "BeautifulSoup.select('selector')\r\n",
        "```\r\n",
        "\r\n",
        "*   CSS Selector\r\n",
        "    *   `tag_name`\r\n",
        "    *   `.class_name`\r\n",
        "    *   `#id_name`\r\n",
        "    *   `selector:pseudo_selector`\r\n",
        "    *   `selector1, selector2, ...`\r\n",
        "    *   `ancestor descendent`\r\n",
        "    *   `parent > child`\r\n"
      ]
    },
    {
      "cell_type": "code",
      "metadata": {
        "id": "UFexJUyzoHMn"
      },
      "source": [
        "html = open(file='web03.html', mode='r')"
      ],
      "execution_count": 2,
      "outputs": []
    },
    {
      "cell_type": "code",
      "metadata": {
        "id": "zwT4YE4kqcMP"
      },
      "source": [
        "soup = BeautifulSoup(markup=html, features='html5lib')"
      ],
      "execution_count": 3,
      "outputs": []
    },
    {
      "cell_type": "markdown",
      "metadata": {
        "id": "nW4H9rS8rDMd"
      },
      "source": [
        "## HTML Tag Selector"
      ]
    },
    {
      "cell_type": "markdown",
      "metadata": {
        "id": "RL7LTC8Qqk6N"
      },
      "source": [
        "HTML 태그가 div인 element들을 모두 찾음."
      ]
    },
    {
      "cell_type": "code",
      "metadata": {
        "colab": {
          "base_uri": "https://localhost:8080/"
        },
        "id": "57wVp8HZqjTt",
        "outputId": "7075a29f-c48a-47f3-900b-23bab3b94c3f"
      },
      "source": [
        "soup.select('div')"
      ],
      "execution_count": 4,
      "outputs": [
        {
          "output_type": "execute_result",
          "data": {
            "text/plain": [
              "[<div class=\"c1\">여기는 c1 클래스입니다.</div>,\n",
              " <div class=\"c1\">여기도 c1 클래스입니다.</div>,\n",
              " <div class=\"c2\">여기는 c2 클래스입니다.</div>,\n",
              " <div class=\"c2\" id=\"id1\">여기는 c2 클래스, 아이디는 id1입니다.</div>]"
            ]
          },
          "metadata": {
            "tags": []
          },
          "execution_count": 4
        }
      ]
    },
    {
      "cell_type": "markdown",
      "metadata": {
        "id": "iacokuB_rI71"
      },
      "source": [
        "HTML 태그가 a인 element들을 모두 찾음."
      ]
    },
    {
      "cell_type": "code",
      "metadata": {
        "colab": {
          "base_uri": "https://localhost:8080/"
        },
        "id": "mF5rTjFErIiE",
        "outputId": "52dbbf63-69fe-4c1a-a20c-d2aea25fbcfc"
      },
      "source": [
        "soup.select('a')"
      ],
      "execution_count": 5,
      "outputs": [
        {
          "output_type": "execute_result",
          "data": {
            "text/plain": [
              "[<a href=\"https://www.daum.net/\">다음</a>,\n",
              " <a href=\"https://www.naver.com/\">네이버</a>,\n",
              " <a href=\"https://www.google.com/\">구글</a>]"
            ]
          },
          "metadata": {
            "tags": []
          },
          "execution_count": 5
        }
      ]
    },
    {
      "cell_type": "code",
      "metadata": {
        "id": "GiIJTwfKrbil"
      },
      "source": [
        "HTML 태그가 h1인 모든 element들을 찾음."
      ],
      "execution_count": null,
      "outputs": []
    },
    {
      "cell_type": "code",
      "metadata": {
        "colab": {
          "base_uri": "https://localhost:8080/"
        },
        "id": "BXM5XqhQrfXf",
        "outputId": "f8c8af1c-1e56-4d2a-d130-1ef9cb6db409"
      },
      "source": [
        "soup.select('h1')"
      ],
      "execution_count": 6,
      "outputs": [
        {
          "output_type": "execute_result",
          "data": {
            "text/plain": [
              "[<h1>CSS(Cascade Style Sheet)</h1>]"
            ]
          },
          "metadata": {
            "tags": []
          },
          "execution_count": 6
        }
      ]
    },
    {
      "cell_type": "markdown",
      "metadata": {
        "id": "AB0lE5pZrwEU"
      },
      "source": [
        "## Class Selector"
      ]
    },
    {
      "cell_type": "markdown",
      "metadata": {
        "id": "2SDoYsXSr48-"
      },
      "source": [
        "class='menu_item'인 element들을 모두 찾음."
      ]
    },
    {
      "cell_type": "code",
      "metadata": {
        "colab": {
          "base_uri": "https://localhost:8080/"
        },
        "id": "mMQUtpBZr2CN",
        "outputId": "03259aab-c06b-49f9-9d5d-b55016f0506f"
      },
      "source": [
        "items = soup.select('.menu_item')\r\n",
        "for i, x in enumerate(items):\r\n",
        "    print(f'--- {i} ---')\r\n",
        "    print(x)"
      ],
      "execution_count": 8,
      "outputs": [
        {
          "output_type": "stream",
          "text": [
            "--- 0 ---\n",
            "<li class=\"menu_item\">  <!-- list item -->\n",
            "            <a href=\"https://www.daum.net/\">다음</a>\n",
            "        </li>\n",
            "--- 1 ---\n",
            "<li class=\"menu_item\">  <!-- list item -->\n",
            "            <a href=\"https://www.naver.com/\">네이버</a>\n",
            "        </li>\n",
            "--- 2 ---\n",
            "<li class=\"menu_item\">  <!-- list item -->\n",
            "            <a href=\"https://www.google.com/\">구글</a>\n",
            "        </li>\n"
          ],
          "name": "stdout"
        }
      ]
    },
    {
      "cell_type": "markdown",
      "metadata": {
        "id": "kJ5Z3rnjso7u"
      },
      "source": [
        "class='c1'인 element들을 모두 찾음"
      ]
    },
    {
      "cell_type": "code",
      "metadata": {
        "colab": {
          "base_uri": "https://localhost:8080/"
        },
        "id": "E9vi346OsvWP",
        "outputId": "98b90cc3-8933-4859-d5f6-174ee9cdf294"
      },
      "source": [
        "soup.select('.c1')"
      ],
      "execution_count": 9,
      "outputs": [
        {
          "output_type": "execute_result",
          "data": {
            "text/plain": [
              "[<div class=\"c1\">여기는 c1 클래스입니다.</div>, <div class=\"c1\">여기도 c1 클래스입니다.</div>]"
            ]
          },
          "metadata": {
            "tags": []
          },
          "execution_count": 9
        }
      ]
    },
    {
      "cell_type": "markdown",
      "metadata": {
        "id": "O1mE1uODs-LF"
      },
      "source": [
        "class='c2'인 element들을 모두 찾음"
      ]
    },
    {
      "cell_type": "code",
      "metadata": {
        "colab": {
          "base_uri": "https://localhost:8080/"
        },
        "id": "ulNWdCH0tBaO",
        "outputId": "6a772c09-c215-4a67-95c5-404a25b5174a"
      },
      "source": [
        "soup.select('.c2')"
      ],
      "execution_count": 10,
      "outputs": [
        {
          "output_type": "execute_result",
          "data": {
            "text/plain": [
              "[<div class=\"c2\">여기는 c2 클래스입니다.</div>,\n",
              " <div class=\"c2\" id=\"id1\">여기는 c2 클래스, 아이디는 id1입니다.</div>]"
            ]
          },
          "metadata": {
            "tags": []
          },
          "execution_count": 10
        }
      ]
    },
    {
      "cell_type": "markdown",
      "metadata": {
        "id": "jtyIiiCEtPkd"
      },
      "source": [
        "## ID Selector"
      ]
    },
    {
      "cell_type": "markdown",
      "metadata": {
        "id": "CcekJcC1tWls"
      },
      "source": [
        "id='id1'인 element들을 모두 찾음."
      ]
    },
    {
      "cell_type": "code",
      "metadata": {
        "colab": {
          "base_uri": "https://localhost:8080/"
        },
        "id": "vGjpPu3Ttdkt",
        "outputId": "ff4aaf43-59aa-4ba6-b58e-368a1f4480e4"
      },
      "source": [
        "soup.select('#id1')"
      ],
      "execution_count": 11,
      "outputs": [
        {
          "output_type": "execute_result",
          "data": {
            "text/plain": [
              "[<div class=\"c2\" id=\"id1\">여기는 c2 클래스, 아이디는 id1입니다.</div>]"
            ]
          },
          "metadata": {
            "tags": []
          },
          "execution_count": 11
        }
      ]
    },
    {
      "cell_type": "markdown",
      "metadata": {
        "id": "XJj1vGuIuPpd"
      },
      "source": [
        "## 여러 요소를 함께 선택"
      ]
    },
    {
      "cell_type": "markdown",
      "metadata": {
        "id": "jJO-MFmZuY5U"
      },
      "source": [
        "class='c1' 또는 class='c2'인 element들을 모두 선택"
      ]
    },
    {
      "cell_type": "code",
      "metadata": {
        "colab": {
          "base_uri": "https://localhost:8080/"
        },
        "id": "ad-r96BzuTx4",
        "outputId": "63847a3c-7123-4473-9008-84918a61a4a2"
      },
      "source": [
        "soup.select('.c1, .c2')"
      ],
      "execution_count": 12,
      "outputs": [
        {
          "output_type": "execute_result",
          "data": {
            "text/plain": [
              "[<div class=\"c1\">여기는 c1 클래스입니다.</div>,\n",
              " <div class=\"c1\">여기도 c1 클래스입니다.</div>,\n",
              " <div class=\"c2\">여기는 c2 클래스입니다.</div>,\n",
              " <div class=\"c2\" id=\"id1\">여기는 c2 클래스, 아이디는 id1입니다.</div>]"
            ]
          },
          "metadata": {
            "tags": []
          },
          "execution_count": 12
        }
      ]
    },
    {
      "cell_type": "markdown",
      "metadata": {
        "id": "wjEHQnHvu-Fd"
      },
      "source": [
        "class='c1' 또는 id='id1'인 element들을 모두 선택"
      ]
    },
    {
      "cell_type": "code",
      "metadata": {
        "colab": {
          "base_uri": "https://localhost:8080/"
        },
        "id": "z7z333CMvD93",
        "outputId": "b38dfd78-d64e-4e05-8314-05f0d54dc80c"
      },
      "source": [
        "soup.select('.c1, #id1')"
      ],
      "execution_count": 13,
      "outputs": [
        {
          "output_type": "execute_result",
          "data": {
            "text/plain": [
              "[<div class=\"c1\">여기는 c1 클래스입니다.</div>,\n",
              " <div class=\"c1\">여기도 c1 클래스입니다.</div>,\n",
              " <div class=\"c2\" id=\"id1\">여기는 c2 클래스, 아이디는 id1입니다.</div>]"
            ]
          },
          "metadata": {
            "tags": []
          },
          "execution_count": 13
        }
      ]
    },
    {
      "cell_type": "markdown",
      "metadata": {
        "id": "N1BVA5pHvowG"
      },
      "source": [
        "## Traversing"
      ]
    },
    {
      "cell_type": "markdown",
      "metadata": {
        "id": "i25LxeSDB0Xj"
      },
      "source": [
        "### 조상(ancestor) element 아래의 자손(descendent) element를 선택"
      ]
    },
    {
      "cell_type": "markdown",
      "metadata": {
        "id": "MyOm8fliC2K9"
      },
      "source": [
        "class=\"menu\"인 element의 자손들 중에서 a 태그 element를 선택"
      ]
    },
    {
      "cell_type": "code",
      "metadata": {
        "colab": {
          "base_uri": "https://localhost:8080/"
        },
        "id": "DpvLJ6ZiCyyz",
        "outputId": "8dffe21c-cbdc-4c6c-80ab-0f892a0c548c"
      },
      "source": [
        "soup.select('.menu a')"
      ],
      "execution_count": 14,
      "outputs": [
        {
          "output_type": "execute_result",
          "data": {
            "text/plain": [
              "[<a href=\"https://www.daum.net/\">다음</a>,\n",
              " <a href=\"https://www.naver.com/\">네이버</a>,\n",
              " <a href=\"https://www.google.com/\">구글</a>]"
            ]
          },
          "metadata": {
            "tags": []
          },
          "execution_count": 14
        }
      ]
    },
    {
      "cell_type": "markdown",
      "metadata": {
        "id": "l6DAyFzSDRIs"
      },
      "source": [
        "### 부모(parent) element 바로 아래의 자식(child) element를 선택"
      ]
    },
    {
      "cell_type": "markdown",
      "metadata": {
        "id": "TANAFtpGDabs"
      },
      "source": [
        "class=\"menu\" element의 바로 아래의 class=\"menu_item\" element의 바래 아래에 있는 a 태그 element를 선택"
      ]
    },
    {
      "cell_type": "code",
      "metadata": {
        "colab": {
          "base_uri": "https://localhost:8080/"
        },
        "id": "Lfk97d-3D38_",
        "outputId": "d73ee2f5-542e-488b-ca69-27e637070f77"
      },
      "source": [
        "soup.select('.menu > .menu_item > a')"
      ],
      "execution_count": 15,
      "outputs": [
        {
          "output_type": "execute_result",
          "data": {
            "text/plain": [
              "[<a href=\"https://www.daum.net/\">다음</a>,\n",
              " <a href=\"https://www.naver.com/\">네이버</a>,\n",
              " <a href=\"https://www.google.com/\">구글</a>]"
            ]
          },
          "metadata": {
            "tags": []
          },
          "execution_count": 15
        }
      ]
    },
    {
      "cell_type": "markdown",
      "metadata": {
        "id": "CcqPy36dE2R0"
      },
      "source": [
        "## Pseudo Selector"
      ]
    },
    {
      "cell_type": "code",
      "metadata": {
        "colab": {
          "base_uri": "https://localhost:8080/"
        },
        "id": "XKJmzaJ5GFPb",
        "outputId": "892adbc9-5494-4f13-cff4-fcc0d54e70e3"
      },
      "source": [
        "soup.select('a')"
      ],
      "execution_count": 27,
      "outputs": [
        {
          "output_type": "execute_result",
          "data": {
            "text/plain": [
              "[<a href=\"https://www.daum.net/\">다음</a>,\n",
              " <a href=\"https://www.naver.com/\">네이버</a>,\n",
              " <a href=\"https://www.google.com/\">구글</a>]"
            ]
          },
          "metadata": {
            "tags": []
          },
          "execution_count": 27
        }
      ]
    },
    {
      "cell_type": "code",
      "metadata": {
        "colab": {
          "base_uri": "https://localhost:8080/"
        },
        "id": "BqOjGWGNFD0b",
        "outputId": "04e8b104-b0a7-4624-a7d4-96a5c15a8b39"
      },
      "source": [
        "soup.select('a:nth-of-type(3)')"
      ],
      "execution_count": 30,
      "outputs": [
        {
          "output_type": "execute_result",
          "data": {
            "text/plain": [
              "[<a href=\"https://www.google.com/\">구글</a>]"
            ]
          },
          "metadata": {
            "tags": []
          },
          "execution_count": 30
        }
      ]
    },
    {
      "cell_type": "markdown",
      "metadata": {
        "id": "DEvgx7VHG7Uc"
      },
      "source": [
        "## Tag.Class Tag#ID"
      ]
    },
    {
      "cell_type": "code",
      "metadata": {
        "colab": {
          "base_uri": "https://localhost:8080/"
        },
        "id": "uTiaXnnGHCye",
        "outputId": "c0eb952b-25e2-4c8e-b023-d0ecc30953b9"
      },
      "source": [
        "soup.select('div')"
      ],
      "execution_count": 31,
      "outputs": [
        {
          "output_type": "execute_result",
          "data": {
            "text/plain": [
              "[<div class=\"c1\">여기는 c1 클래스입니다.</div>,\n",
              " <div class=\"c1\">여기도 c1 클래스입니다.</div>,\n",
              " <div class=\"c2\">여기는 c2 클래스입니다.</div>,\n",
              " <div class=\"c2\" id=\"id1\">여기는 c2 클래스, 아이디는 id1입니다.</div>]"
            ]
          },
          "metadata": {
            "tags": []
          },
          "execution_count": 31
        }
      ]
    },
    {
      "cell_type": "markdown",
      "metadata": {
        "id": "nIXMboWDHVUE"
      },
      "source": [
        "tag name='div' 이고, class='c1'인 element들을 선택"
      ]
    },
    {
      "cell_type": "code",
      "metadata": {
        "colab": {
          "base_uri": "https://localhost:8080/"
        },
        "id": "yD4FxvhaHcmD",
        "outputId": "72821e56-b10a-44cd-9c38-b67618a6189c"
      },
      "source": [
        "soup.select('div.c1')"
      ],
      "execution_count": 32,
      "outputs": [
        {
          "output_type": "execute_result",
          "data": {
            "text/plain": [
              "[<div class=\"c1\">여기는 c1 클래스입니다.</div>, <div class=\"c1\">여기도 c1 클래스입니다.</div>]"
            ]
          },
          "metadata": {
            "tags": []
          },
          "execution_count": 32
        }
      ]
    },
    {
      "cell_type": "markdown",
      "metadata": {
        "id": "ZBRTL7eQHl5k"
      },
      "source": [
        "**비교**"
      ]
    },
    {
      "cell_type": "code",
      "metadata": {
        "colab": {
          "base_uri": "https://localhost:8080/"
        },
        "id": "ypCe7ScLHngm",
        "outputId": "4f2e5a31-991a-4bc6-a595-e5c907b3bf3b"
      },
      "source": [
        "soup.select('div .c1')  # ancstor_selector descendent_selector"
      ],
      "execution_count": 33,
      "outputs": [
        {
          "output_type": "execute_result",
          "data": {
            "text/plain": [
              "[]"
            ]
          },
          "metadata": {
            "tags": []
          },
          "execution_count": 33
        }
      ]
    },
    {
      "cell_type": "markdown",
      "metadata": {
        "id": "3aumj4t9IL_0"
      },
      "source": [
        "tag name='div' 이고, id='id1'인 element들을 선택"
      ]
    },
    {
      "cell_type": "code",
      "metadata": {
        "colab": {
          "base_uri": "https://localhost:8080/"
        },
        "id": "9v3_9K58IRjG",
        "outputId": "0df276ca-31a8-448a-80ff-bfb0aef06d29"
      },
      "source": [
        "soup.select('div#id1')"
      ],
      "execution_count": 34,
      "outputs": [
        {
          "output_type": "execute_result",
          "data": {
            "text/plain": [
              "[<div class=\"c2\" id=\"id1\">여기는 c2 클래스, 아이디는 id1입니다.</div>]"
            ]
          },
          "metadata": {
            "tags": []
          },
          "execution_count": 34
        }
      ]
    },
    {
      "cell_type": "code",
      "metadata": {
        "colab": {
          "base_uri": "https://localhost:8080/"
        },
        "id": "ZagMDXLOIcCB",
        "outputId": "fb2be9bd-ad6a-4bdb-d841-7a04d23d1773"
      },
      "source": [
        "soup.select('div #id1')"
      ],
      "execution_count": 35,
      "outputs": [
        {
          "output_type": "execute_result",
          "data": {
            "text/plain": [
              "[]"
            ]
          },
          "metadata": {
            "tags": []
          },
          "execution_count": 35
        }
      ]
    },
    {
      "cell_type": "code",
      "metadata": {
        "id": "E8flSGv2IvHc"
      },
      "source": [
        "html.close()"
      ],
      "execution_count": 37,
      "outputs": []
    }
  ]
}