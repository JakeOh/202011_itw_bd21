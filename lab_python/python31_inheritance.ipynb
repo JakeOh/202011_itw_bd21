{
  "nbformat": 4,
  "nbformat_minor": 0,
  "metadata": {
    "colab": {
      "name": "python31_inheritance.ipynb",
      "provenance": [],
      "collapsed_sections": [],
      "authorship_tag": "ABX9TyN+ksi3vQhTF7XcTqFPbbv7",
      "include_colab_link": true
    },
    "kernelspec": {
      "name": "python3",
      "display_name": "Python 3"
    }
  },
  "cells": [
    {
      "cell_type": "markdown",
      "metadata": {
        "id": "view-in-github",
        "colab_type": "text"
      },
      "source": [
        "<a href=\"https://colab.research.google.com/github/JakeOh/202011_itw_bd21/blob/main/lab_python/python31_inheritance.ipynb\" target=\"_parent\"><img src=\"https://colab.research.google.com/assets/colab-badge.svg\" alt=\"Open In Colab\"/></a>"
      ]
    },
    {
      "cell_type": "markdown",
      "metadata": {
        "id": "ur7xE1YFVZlt"
      },
      "source": [
        "**상속(Inheritance)**\r\n",
        "\r\n",
        "*   super class(상위 클래스), parent class(부모 클래스), base class(기본 클래스)\r\n",
        "*   sub class(하위 클래스), child class(자식 클래스), derived class(유도 클래스)\r\n",
        "*   상속: 상위 클래스의 속성(attribute) 또는 기능(method) 코드들을 하위 클래스에서 재사용(reuse)하는 것.\r\n",
        "*   IS-A 관계가 성립하는 객체들은 상속을 사용해서 구현함.\r\n",
        "    *   학생은 사람이다. (Student ***is a*** person.)\r\n",
        "        *   사람 - 상위 클래스\r\n",
        "        *   학생 - 하위 클래스\r\n",
        "    *   사람은 학생이다. (X)\r\n"
      ]
    },
    {
      "cell_type": "code",
      "metadata": {
        "id": "GIxdwzRlVJb2"
      },
      "source": [
        "class Person:\r\n",
        "    def __init__(self, name):\r\n",
        "        self.name = name\r\n",
        "\r\n",
        "    def say_hello(self):\r\n",
        "        print(f'안녕하세요, 저는 {self.name}입니다.')\r\n",
        "        "
      ],
      "execution_count": 1,
      "outputs": []
    },
    {
      "cell_type": "code",
      "metadata": {
        "colab": {
          "base_uri": "https://localhost:8080/"
        },
        "id": "2x5D7rEgcxA7",
        "outputId": "ad2fb871-7f53-4d38-d6c9-a341165fc714"
      },
      "source": [
        "person1 = Person('오쌤')\r\n",
        "person1.say_hello()"
      ],
      "execution_count": 2,
      "outputs": [
        {
          "output_type": "stream",
          "text": [
            "안녕하세요, 저는 오쌤입니다.\n"
          ],
          "name": "stdout"
        }
      ]
    },
    {
      "cell_type": "markdown",
      "metadata": {
        "id": "mCuNmwCddSoP"
      },
      "source": [
        "Person 클래스를 상속받는 Student 클래스를 정의"
      ]
    },
    {
      "cell_type": "code",
      "metadata": {
        "id": "5PK0N_TPdO3L"
      },
      "source": [
        "class Student(Person):  # class Student inherits class Person.\r\n",
        "    def say_hello2(self):\r\n",
        "        print('저는 학생입니다.')\r\n",
        "        "
      ],
      "execution_count": 8,
      "outputs": []
    },
    {
      "cell_type": "code",
      "metadata": {
        "colab": {
          "base_uri": "https://localhost:8080/"
        },
        "id": "_sQ43RHddxWa",
        "outputId": "ff600b8c-86a3-4986-a2cb-422118d8164a"
      },
      "source": [
        "student1  = Student('홍길동')\r\n",
        "student1.say_hello()\r\n",
        "student1.say_hello2()"
      ],
      "execution_count": 10,
      "outputs": [
        {
          "output_type": "stream",
          "text": [
            "안녕하세요, 저는 홍길동입니다.\n",
            "저는 학생입니다.\n"
          ],
          "name": "stdout"
        }
      ]
    },
    {
      "cell_type": "markdown",
      "metadata": {
        "id": "8PUBfk4_f9ua"
      },
      "source": [
        "Person 클래스를 상속하는 BusinessPerson 클래스를 정의"
      ]
    },
    {
      "cell_type": "code",
      "metadata": {
        "id": "BR6oOd4LgDI7"
      },
      "source": [
        "class BusinessPerson(Person):\r\n",
        "    def __init__(self, name, company):\r\n",
        "        # name 초기화 -> Person 클래스의 __init__() 메서드를 명시적으로 호출\r\n",
        "        super().__init__(name)\r\n",
        "        self.company = company\r\n",
        "\r\n",
        "    # Person 클래스의 say_hello() 메서드를 override:\r\n",
        "    # (1) Person 클래스의 say_hello() 메서드를 명시적으로 호출.\r\n",
        "    # (2) BusinessPerson의 company 속성을 출력.\r\n",
        "    def say_hello(self):\r\n",
        "        super().say_hello()\r\n",
        "        print(f'저는 {self.company}의 회사원입니다.')\r\n"
      ],
      "execution_count": 17,
      "outputs": []
    },
    {
      "cell_type": "code",
      "metadata": {
        "colab": {
          "base_uri": "https://localhost:8080/"
        },
        "id": "HP7xVq0JgwUi",
        "outputId": "a01c3618-6a36-4325-ac7b-c7b1b4f0f39e"
      },
      "source": [
        "bp1 = BusinessPerson('오쌤', '아이티윌')\r\n",
        "bp1.say_hello()"
      ],
      "execution_count": 18,
      "outputs": [
        {
          "output_type": "stream",
          "text": [
            "안녕하세요, 저는 오쌤입니다.\n",
            "저는 아이티윌의 회사원입니다.\n"
          ],
          "name": "stdout"
        }
      ]
    },
    {
      "cell_type": "markdown",
      "metadata": {
        "id": "eMUpIorPiupZ"
      },
      "source": [
        "***Method Override***\r\n",
        "\r\n",
        "*   상위 클래스의 메서드를 하위 클래스에서 같은 이름으로 재정의하는 것(덮어쓰는 것).\r\n",
        "*   하위 클래스에서 overriding된 상위 클래스의 메서드를 호출하기 위해서는 `super().super_method()` 처럼 호출함."
      ]
    },
    {
      "cell_type": "markdown",
      "metadata": {
        "id": "ozXKietusF9S"
      },
      "source": [
        "**상속과 `isinstance` 함수**"
      ]
    },
    {
      "cell_type": "code",
      "metadata": {
        "id": "c6VAKyQGsQr8"
      },
      "source": [
        "class Car:\r\n",
        "    pass\r\n",
        "\r\n",
        "class HybridCar(Car):  # HybridCar inherits Car.\r\n",
        "    pass"
      ],
      "execution_count": 20,
      "outputs": []
    },
    {
      "cell_type": "code",
      "metadata": {
        "colab": {
          "base_uri": "https://localhost:8080/"
        },
        "id": "zOpuezKVsZ0V",
        "outputId": "c9e51a8f-e031-4efa-acc2-f20a8f705596"
      },
      "source": [
        "car1 = HybridCar()\r\n",
        "print(isinstance(car1, HybridCar))  # car1은 하이브리드 자동차입니다.\r\n",
        "print(isinstance(car1, Car))        # car1은 자동차입니다."
      ],
      "execution_count": 22,
      "outputs": [
        {
          "output_type": "stream",
          "text": [
            "True\n",
            "True\n"
          ],
          "name": "stdout"
        }
      ]
    },
    {
      "cell_type": "code",
      "metadata": {
        "colab": {
          "base_uri": "https://localhost:8080/"
        },
        "id": "1w8vS1pPtd0K",
        "outputId": "48db795c-7dfd-42e8-b838-965cbb7e18da"
      },
      "source": [
        "car2 = Car()\r\n",
        "print(isinstance(car2, HybridCar))  # car2는 하이브리드 자동차입니다.\r\n",
        "print(isinstance(car2, Car))        # car2는 자동차입니다."
      ],
      "execution_count": 23,
      "outputs": [
        {
          "output_type": "stream",
          "text": [
            "False\n",
            "True\n"
          ],
          "name": "stdout"
        }
      ]
    },
    {
      "cell_type": "code",
      "metadata": {
        "id": "TYnuqZjDujvy"
      },
      "source": [
        "class Animal:\r\n",
        "    def move(self):\r\n",
        "        pass  # Sub class에서 구현하도록 함.\r\n",
        "\r\n",
        "class Dog(Animal):  # Dog inherits Animal.\r\n",
        "    # method override\r\n",
        "    def move(self):\r\n",
        "        print('강아지가 총총총...')\r\n",
        "\r\n",
        "class Bird(Animal):  # Bird inherits Animal.\r\n",
        "    def move(self):\r\n",
        "        print('새가 훨훨~~')\r\n",
        "\r\n",
        "class Tree:\r\n",
        "    pass"
      ],
      "execution_count": 25,
      "outputs": []
    },
    {
      "cell_type": "code",
      "metadata": {
        "colab": {
          "base_uri": "https://localhost:8080/"
        },
        "id": "lgxJo3LZvlvz",
        "outputId": "4da84755-3621-48f3-d307-32114f1d47d8"
      },
      "source": [
        "array = [Dog(), Bird(), Tree()]\r\n",
        "for x in array:\r\n",
        "    if isinstance(x, Animal):\r\n",
        "        x.move()"
      ],
      "execution_count": 27,
      "outputs": [
        {
          "output_type": "stream",
          "text": [
            "강아지가 총총총...\n",
            "새가 훨훨~~\n"
          ],
          "name": "stdout"
        }
      ]
    }
  ]
}