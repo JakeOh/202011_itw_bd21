{
  "nbformat": 4,
  "nbformat_minor": 0,
  "metadata": {
    "colab": {
      "name": "python31_inheritance.ipynb",
      "provenance": [],
      "collapsed_sections": [],
      "authorship_tag": "ABX9TyMxXAlUwb20HSPAF3zyt/Eq",
      "include_colab_link": true
    },
    "kernelspec": {
      "name": "python3",
      "display_name": "Python 3"
    }
  },
  "cells": [
    {
      "cell_type": "markdown",
      "metadata": {
        "id": "view-in-github",
        "colab_type": "text"
      },
      "source": [
        "<a href=\"https://colab.research.google.com/github/JakeOh/202011_itw_bd21/blob/main/lab_python/python31_inheritance.ipynb\" target=\"_parent\"><img src=\"https://colab.research.google.com/assets/colab-badge.svg\" alt=\"Open In Colab\"/></a>"
      ]
    },
    {
      "cell_type": "markdown",
      "metadata": {
        "id": "ur7xE1YFVZlt"
      },
      "source": [
        "**상속(Inheritance)**\r\n",
        "\r\n",
        "*   super class(상위 클래스), parent class(부모 클래스), base class(기본 클래스)\r\n",
        "*   sub class(하위 클래스), child class(자식 클래스), derived class(유도 클래스)\r\n",
        "*   상속: 상위 클래스의 속성(attribute) 또는 기능(method) 코드들을 하위 클래스에서 재사용(reuse)하는 것.\r\n",
        "*   IS-A 관계가 성립하는 객체들은 상속을 사용해서 구현함.\r\n",
        "    *   학생은 사람이다. (Student ***is a*** person.)\r\n",
        "        *   사람 - 상위 클래스\r\n",
        "        *   학생 - 하위 클래스\r\n",
        "    *   사람은 학생이다. (X)\r\n"
      ]
    },
    {
      "cell_type": "code",
      "metadata": {
        "id": "GIxdwzRlVJb2"
      },
      "source": [
        "class Person:\r\n",
        "    def __init__(self, name):\r\n",
        "        self.name = name\r\n",
        "\r\n",
        "    def say_hello(self):\r\n",
        "        print(f'안녕하세요, 저는 {self.name}입니다.')\r\n",
        "        "
      ],
      "execution_count": 1,
      "outputs": []
    },
    {
      "cell_type": "code",
      "metadata": {
        "colab": {
          "base_uri": "https://localhost:8080/"
        },
        "id": "2x5D7rEgcxA7",
        "outputId": "ad2fb871-7f53-4d38-d6c9-a341165fc714"
      },
      "source": [
        "person1 = Person('오쌤')\r\n",
        "person1.say_hello()"
      ],
      "execution_count": 2,
      "outputs": [
        {
          "output_type": "stream",
          "text": [
            "안녕하세요, 저는 오쌤입니다.\n"
          ],
          "name": "stdout"
        }
      ]
    },
    {
      "cell_type": "markdown",
      "metadata": {
        "id": "mCuNmwCddSoP"
      },
      "source": [
        "Person 클래스를 상속받는 Student 클래스를 정의"
      ]
    },
    {
      "cell_type": "code",
      "metadata": {
        "id": "5PK0N_TPdO3L"
      },
      "source": [
        "class Student(Person):  # class Student inherits class Person.\r\n",
        "    def say_hello2(self):\r\n",
        "        print('저는 학생입니다.')\r\n",
        "        "
      ],
      "execution_count": 8,
      "outputs": []
    },
    {
      "cell_type": "code",
      "metadata": {
        "colab": {
          "base_uri": "https://localhost:8080/"
        },
        "id": "_sQ43RHddxWa",
        "outputId": "ff600b8c-86a3-4986-a2cb-422118d8164a"
      },
      "source": [
        "student1  = Student('홍길동')\r\n",
        "student1.say_hello()\r\n",
        "student1.say_hello2()"
      ],
      "execution_count": 10,
      "outputs": [
        {
          "output_type": "stream",
          "text": [
            "안녕하세요, 저는 홍길동입니다.\n",
            "저는 학생입니다.\n"
          ],
          "name": "stdout"
        }
      ]
    },
    {
      "cell_type": "markdown",
      "metadata": {
        "id": "8PUBfk4_f9ua"
      },
      "source": [
        "Person 클래스를 상속하는 BusinessPerson 클래스를 정의"
      ]
    },
    {
      "cell_type": "code",
      "metadata": {
        "id": "BR6oOd4LgDI7"
      },
      "source": [
        "class BusinessPerson(Person):\r\n",
        "    def __init__(self, name, company):\r\n",
        "        # name 초기화\r\n",
        "        super().__init__(name)\r\n",
        "        self.company = company"
      ],
      "execution_count": 14,
      "outputs": []
    },
    {
      "cell_type": "code",
      "metadata": {
        "colab": {
          "base_uri": "https://localhost:8080/"
        },
        "id": "HP7xVq0JgwUi",
        "outputId": "a48ea54e-0038-4cfe-87ee-1de7c1674c79"
      },
      "source": [
        "bp1 = BusinessPerson('오쌤', '아이티윌')\r\n",
        "bp1.say_hello()"
      ],
      "execution_count": 15,
      "outputs": [
        {
          "output_type": "stream",
          "text": [
            "안녕하세요, 저는 오쌤입니다.\n"
          ],
          "name": "stdout"
        }
      ]
    },
    {
      "cell_type": "markdown",
      "metadata": {
        "id": "eMUpIorPiupZ"
      },
      "source": [
        "***Method Override***\r\n",
        "\r\n",
        "*   상위 클래스의 메서드를 하위 클래스에서 재정의하는 것(덮어쓰는 것).\r\n",
        "*   하위 클래스에서 상위 클래스의 메서드를 호출하기 위해서는 `super().super_method()` 처럼 호출함."
      ]
    }
  ]
}