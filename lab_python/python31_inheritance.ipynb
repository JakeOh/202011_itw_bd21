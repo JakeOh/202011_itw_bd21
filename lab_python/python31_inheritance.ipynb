{
  "nbformat": 4,
  "nbformat_minor": 0,
  "metadata": {
    "colab": {
      "name": "python31_inheritance.ipynb",
      "provenance": [],
      "collapsed_sections": [],
      "authorship_tag": "ABX9TyNbukJR+E2/LJIPAayy0rbf",
      "include_colab_link": true
    },
    "kernelspec": {
      "name": "python3",
      "display_name": "Python 3"
    }
  },
  "cells": [
    {
      "cell_type": "markdown",
      "metadata": {
        "id": "view-in-github",
        "colab_type": "text"
      },
      "source": [
        "<a href=\"https://colab.research.google.com/github/JakeOh/202011_itw_bd21/blob/main/lab_python/python31_inheritance.ipynb\" target=\"_parent\"><img src=\"https://colab.research.google.com/assets/colab-badge.svg\" alt=\"Open In Colab\"/></a>"
      ]
    },
    {
      "cell_type": "markdown",
      "metadata": {
        "id": "ur7xE1YFVZlt"
      },
      "source": [
        "**상속(Inheritance)**\r\n",
        "\r\n",
        "*   super class(상위 클래스), parent class(부모 클래스), base class(기본 클래스)\r\n",
        "*   sub class(하위 클래스), child class(자식 클래스), derived class(유도 클래스)\r\n",
        "*   상속: 상위 클래스의 속성(attribute) 또는 기능(method) 코드들을 하위 클래스에서 재사용(reuse)하는 것.\r\n",
        "*   IS-A 관계가 성립하는 객체들은 상속을 사용해서 구현함.\r\n",
        "    *   학생은 사람이다. (Student ***is a*** person.)\r\n",
        "        *   사람 - 상위 클래스\r\n",
        "        *   학생 - 하위 클래스\r\n",
        "    *   사람은 학생이다. (X)\r\n"
      ]
    },
    {
      "cell_type": "code",
      "metadata": {
        "id": "GIxdwzRlVJb2"
      },
      "source": [
        ""
      ],
      "execution_count": null,
      "outputs": []
    }
  ]
}