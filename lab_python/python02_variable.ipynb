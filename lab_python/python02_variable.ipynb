{
  "nbformat": 4,
  "nbformat_minor": 0,
  "metadata": {
    "colab": {
      "name": "python02_variable.ipynb",
      "provenance": [],
      "collapsed_sections": [],
      "authorship_tag": "ABX9TyMkweF1ADfL3BIOmYfXcS23",
      "include_colab_link": true
    },
    "kernelspec": {
      "name": "python3",
      "display_name": "Python 3"
    }
  },
  "cells": [
    {
      "cell_type": "markdown",
      "metadata": {
        "id": "view-in-github",
        "colab_type": "text"
      },
      "source": [
        "<a href=\"https://colab.research.google.com/github/JakeOh/202011_itw_bd21/blob/main/lab_python/python02_variable.ipynb\" target=\"_parent\"><img src=\"https://colab.research.google.com/assets/colab-badge.svg\" alt=\"Open In Colab\"/></a>"
      ]
    },
    {
      "cell_type": "markdown",
      "metadata": {
        "id": "I2l4jvZc804b"
      },
      "source": [
        "# Python 데이터 타입(Data Type)"
      ]
    },
    {
      "cell_type": "markdown",
      "metadata": {
        "id": "zJutI2QM-Y6a"
      },
      "source": [
        "\r\n",
        "\r\n",
        "*   숫자 타입:\r\n",
        "    * int: 정수\r\n",
        "    * float: 실수\r\n",
        "*   논리 타입(bool): True/False\r\n",
        "*   문자열 타입(str)\r\n",
        "*   NoneType: 값이 없음을 나타내는 데이터 타입. None\r\n",
        "\r\n"
      ]
    },
    {
      "cell_type": "code",
      "metadata": {
        "colab": {
          "base_uri": "https://localhost:8080/"
        },
        "id": "ma1ajLzF8nU7",
        "outputId": "b4651672-3b6e-40dc-c4a9-1c95cbcb1127"
      },
      "source": [
        "# 변수 n에 정수 100을 저장\r\n",
        "n = 100\r\n",
        "print(n)\r\n",
        "print(type(n))  # type(x): 값, 변수 x의 데이터 타입을 반환."
      ],
      "execution_count": 3,
      "outputs": [
        {
          "output_type": "stream",
          "text": [
            "100\n",
            "<class 'int'>\n"
          ],
          "name": "stdout"
        }
      ]
    },
    {
      "cell_type": "code",
      "metadata": {
        "colab": {
          "base_uri": "https://localhost:8080/"
        },
        "id": "ZTDI9Y_bAjtq",
        "outputId": "1a7a7d09-894e-4a32-a57c-aec06d726593"
      },
      "source": [
        "pi = 3.141592  # 대입문(assignment statement). 할당문\r\n",
        "print(pi)\r\n",
        "print(type(pi))"
      ],
      "execution_count": 5,
      "outputs": [
        {
          "output_type": "stream",
          "text": [
            "3.141592\n",
            "<class 'float'>\n"
          ],
          "name": "stdout"
        }
      ]
    },
    {
      "cell_type": "code",
      "metadata": {
        "colab": {
          "base_uri": "https://localhost:8080/"
        },
        "id": "PdQPIe_IBLOS",
        "outputId": "bacf8fd3-a311-4c5d-9c60-32fe7155a5e7"
      },
      "source": [
        "s1 = 'hello'\r\n",
        "s2 = \"안녕\"\r\n",
        "print(s1, type(s1))\r\n",
        "print(s2, type(s2))\r\n",
        "# Python은 문자열을 표기할 때 큰따옴표(\"\") 또는 작은따옴표('')를 사용함."
      ],
      "execution_count": 8,
      "outputs": [
        {
          "output_type": "stream",
          "text": [
            "hello <class 'str'>\n",
            "안녕 <class 'str'>\n"
          ],
          "name": "stdout"
        }
      ]
    },
    {
      "cell_type": "markdown",
      "metadata": {
        "id": "Nzq4NDz5GkUI"
      },
      "source": [
        "## 명시적 타입 변환(explicit type conversion)\r\n",
        "\r\n",
        "* int(값): 값 -> 정수. 정수로 변환될 수 없는 값이 argument로 전달되면 에러가 발생함.\r\n",
        "* float(값): 값 -> 실수.\r\n",
        "* str(값): 값 -> 문자열."
      ]
    },
    {
      "cell_type": "code",
      "metadata": {
        "colab": {
          "base_uri": "https://localhost:8080/"
        },
        "id": "o98FzAPsG1yi",
        "outputId": "bf928773-eaca-4c68-c4db-778b77b4cfa5"
      },
      "source": [
        "age = '16'\r\n",
        "print(type(age))"
      ],
      "execution_count": 9,
      "outputs": [
        {
          "output_type": "stream",
          "text": [
            "<class 'str'>\n"
          ],
          "name": "stdout"
        }
      ]
    },
    {
      "cell_type": "code",
      "metadata": {
        "colab": {
          "base_uri": "https://localhost:8080/"
        },
        "id": "ZTw5ddR2Gyso",
        "outputId": "81d8c55b-7e56-4449-ccd5-ef3e37961c6a"
      },
      "source": [
        "age2 = int('16')\r\n",
        "print(age2, type(age2))"
      ],
      "execution_count": 16,
      "outputs": [
        {
          "output_type": "stream",
          "text": [
            "16 <class 'int'>\n"
          ],
          "name": "stdout"
        }
      ]
    },
    {
      "cell_type": "code",
      "metadata": {
        "colab": {
          "base_uri": "https://localhost:8080/"
        },
        "id": "--NY3kahJdG7",
        "outputId": "1c2fc1b1-8f8e-4625-d984-e4b7213cd478"
      },
      "source": [
        "pi = float('3.141592')\r\n",
        "print(pi, type(pi))"
      ],
      "execution_count": 17,
      "outputs": [
        {
          "output_type": "stream",
          "text": [
            "3.141592 <class 'float'>\n"
          ],
          "name": "stdout"
        }
      ]
    },
    {
      "cell_type": "markdown",
      "metadata": {
        "id": "3dOocXwNJ2Ga"
      },
      "source": [
        "## 산술 연산자: `+, -, *, /, **, //, %`\r\n",
        "\r\n",
        "* 산술 연산자들은 숫자 타입(int, float) 타입의 값 또는 변수에서 사용할 수 있음."
      ]
    },
    {
      "cell_type": "code",
      "metadata": {
        "colab": {
          "base_uri": "https://localhost:8080/"
        },
        "id": "pQVEklREKw6W",
        "outputId": "dec792d1-64b4-47b2-f4c1-7dd44a8f10b8"
      },
      "source": [
        "n1 = input('정수를 입력하세요>>> ')  # 입력받은 값을 변수 n1에 저장. n1의 타입은 str.\r\n",
        "n1 = int(n1)  # n1에 저장된 값을 정수 타입으로 변환 후 저장.\r\n",
        "n2 = int(input('정수를 입력하세요>>> '))\r\n",
        "print(n1 - n2)"
      ],
      "execution_count": 19,
      "outputs": [
        {
          "output_type": "stream",
          "text": [
            "정수를 입력하세요>>> 100\n",
            "정수를 입력하세요>>> 90\n",
            "10\n"
          ],
          "name": "stdout"
        }
      ]
    },
    {
      "cell_type": "markdown",
      "metadata": {
        "id": "JjmQWu_uNoRP"
      },
      "source": [
        "* 문자열(str) 타입에서는 `+, *`가 사용될 수 있음.\r\n",
        "    * `+`: concatenate. 문자열 이어 붙이기.\r\n",
        "    * `*`: replicate. 문자열 복제."
      ]
    },
    {
      "cell_type": "code",
      "metadata": {
        "colab": {
          "base_uri": "https://localhost:8080/"
        },
        "id": "BxNjZu7sNnLT",
        "outputId": "e7226ec7-9488-4699-e31b-8b483fbc2321"
      },
      "source": [
        "print('Hello' + 'Python')  # 문자열 + 문자열"
      ],
      "execution_count": 20,
      "outputs": [
        {
          "output_type": "stream",
          "text": [
            "HelloPython\n"
          ],
          "name": "stdout"
        }
      ]
    },
    {
      "cell_type": "code",
      "metadata": {
        "colab": {
          "base_uri": "https://localhost:8080/"
        },
        "id": "Hk97meYAPMj5",
        "outputId": "7975b928-330c-465e-ad19-cf4b4a1f7e44"
      },
      "source": [
        "print('Hello' * 5)  # 문자열 * 정수"
      ],
      "execution_count": 21,
      "outputs": [
        {
          "output_type": "stream",
          "text": [
            "HelloHelloHelloHelloHello\n"
          ],
          "name": "stdout"
        }
      ]
    },
    {
      "cell_type": "markdown",
      "metadata": {
        "id": "G24zgDGwURCR"
      },
      "source": [
        "* 논리(bool) 타입: True 또는 False를 저장하는 타입\r\n",
        "    * bool 타입의 변수들을 산술 연산을 하면, True는 1로 False는 0으로 변환된 후 산술 연산이 수행됨.\r\n",
        "    * 암시적 타입 변환(implicit type conversion): 개발자가 int()와 같은 함수를 사용해서 명시적으로 타입 변환을 하지 않아도, 프로그램 언어에서 자동으로 타입 변환을 수행하는 것."
      ]
    },
    {
      "cell_type": "code",
      "metadata": {
        "colab": {
          "base_uri": "https://localhost:8080/"
        },
        "id": "nraHgciFVamp",
        "outputId": "5c374beb-9b19-43a6-b25e-57d6b6509d31"
      },
      "source": [
        "print(type(True))"
      ],
      "execution_count": 27,
      "outputs": [
        {
          "output_type": "stream",
          "text": [
            "<class 'bool'>\n"
          ],
          "name": "stdout"
        }
      ]
    },
    {
      "cell_type": "code",
      "metadata": {
        "colab": {
          "base_uri": "https://localhost:8080/"
        },
        "id": "LEie61agWemy",
        "outputId": "7fec81a8-1d90-4314-b899-48e518869c20"
      },
      "source": [
        "# implicit type conversion\r\n",
        "print(True + True)  # True + True -> 1 + 1 -> 2\r\n",
        "print(True + False)  # True + False -> 1 + 0 -> 1\r\n",
        "print(True * True)\r\n",
        "print(True * False)"
      ],
      "execution_count": 31,
      "outputs": [
        {
          "output_type": "stream",
          "text": [
            "2\n",
            "1\n",
            "1\n",
            "0\n"
          ],
          "name": "stdout"
        }
      ]
    },
    {
      "cell_type": "markdown",
      "metadata": {
        "id": "dnW9AAUBXYW3"
      },
      "source": [
        "* bool 타입 값, 변수들과 사용되는 연산자들\r\n",
        "    * ***비교연산자***: `==, !=, >, >=, <, <=`\r\n",
        "    * ***논리연산자***: and, or, not"
      ]
    },
    {
      "cell_type": "code",
      "metadata": {
        "colab": {
          "base_uri": "https://localhost:8080/"
        },
        "id": "K0Nas678XUVK",
        "outputId": "ebc2e78a-7087-4347-f675-dfae3cf0ce90"
      },
      "source": [
        "x = 123\r\n",
        "print(x == 100)\r\n",
        "print(x != 100)\r\n",
        "print(x >= 100)"
      ],
      "execution_count": 38,
      "outputs": [
        {
          "output_type": "stream",
          "text": [
            "False\n",
            "True\n",
            "True\n"
          ],
          "name": "stdout"
        }
      ]
    },
    {
      "cell_type": "code",
      "metadata": {
        "colab": {
          "base_uri": "https://localhost:8080/"
        },
        "id": "U2zZ8WFTaDRh",
        "outputId": "9906722f-3da4-4159-a11a-b16a6a439970"
      },
      "source": [
        "print((x > 100) and (x < 150))\r\n",
        "print((x > 100) and (x < 120))\r\n",
        "print((x > 100) or (x < 120))"
      ],
      "execution_count": 40,
      "outputs": [
        {
          "output_type": "stream",
          "text": [
            "True\n",
            "False\n",
            "True\n"
          ],
          "name": "stdout"
        }
      ]
    },
    {
      "cell_type": "markdown",
      "metadata": {
        "id": "-Gp8pXStcRNp"
      },
      "source": [
        "## NoneType"
      ]
    },
    {
      "cell_type": "code",
      "metadata": {
        "colab": {
          "base_uri": "https://localhost:8080/"
        },
        "id": "mRiXmCPTcWfi",
        "outputId": "832b3ce4-b53b-4ccc-97fb-edbe0e79e503"
      },
      "source": [
        "x = None  # R에서 NA(Not Available)와 비슷한 역할.\r\n",
        "print(x, type(x))"
      ],
      "execution_count": 45,
      "outputs": [
        {
          "output_type": "stream",
          "text": [
            "None <class 'NoneType'>\n"
          ],
          "name": "stdout"
        }
      ]
    },
    {
      "cell_type": "code",
      "metadata": {
        "id": "hfbvQenLdcNr"
      },
      "source": [
        "# input 함수를 이용해서 정수(integer) 2개를 입력받고 저장.\r\n",
        "# 두 정수의 합(+), 차(-), 곱(*), 나누기결과(/), 나눈 몫(//), 나눈 나머지(%), 거듭제곱(**)의 결과를 출력\r\n",
        "# (예) 1 + 2 = 3"
      ],
      "execution_count": null,
      "outputs": []
    }
  ]
}