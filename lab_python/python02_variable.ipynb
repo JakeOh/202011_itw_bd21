{
  "nbformat": 4,
  "nbformat_minor": 0,
  "metadata": {
    "colab": {
      "name": "python02_variable.ipynb",
      "provenance": [],
      "collapsed_sections": [],
      "authorship_tag": "ABX9TyN3ycnEu/tyhJBdwhMck761",
      "include_colab_link": true
    },
    "kernelspec": {
      "name": "python3",
      "display_name": "Python 3"
    }
  },
  "cells": [
    {
      "cell_type": "markdown",
      "metadata": {
        "id": "view-in-github",
        "colab_type": "text"
      },
      "source": [
        "<a href=\"https://colab.research.google.com/github/JakeOh/202011_itw_bd21/blob/main/lab_python/python02_variable.ipynb\" target=\"_parent\"><img src=\"https://colab.research.google.com/assets/colab-badge.svg\" alt=\"Open In Colab\"/></a>"
      ]
    },
    {
      "cell_type": "markdown",
      "metadata": {
        "id": "I2l4jvZc804b"
      },
      "source": [
        "# Python 데이터 타입(Data Type)"
      ]
    },
    {
      "cell_type": "markdown",
      "metadata": {
        "id": "zJutI2QM-Y6a"
      },
      "source": [
        "\r\n",
        "\r\n",
        "*   숫자 타입:\r\n",
        "    * int: 정수\r\n",
        "    * float: 실수\r\n",
        "*   논리 타입(bool): True/False\r\n",
        "*   문자열 타입(str)\r\n",
        "*   NoneType: 값이 없음을 나타내는 데이터 타입. None\r\n",
        "\r\n"
      ]
    },
    {
      "cell_type": "code",
      "metadata": {
        "colab": {
          "base_uri": "https://localhost:8080/"
        },
        "id": "ma1ajLzF8nU7",
        "outputId": "b4651672-3b6e-40dc-c4a9-1c95cbcb1127"
      },
      "source": [
        "# 변수 n에 정수 100을 저장\r\n",
        "n = 100\r\n",
        "print(n)\r\n",
        "print(type(n))  # type(x): 값, 변수 x의 데이터 타입을 반환."
      ],
      "execution_count": 3,
      "outputs": [
        {
          "output_type": "stream",
          "text": [
            "100\n",
            "<class 'int'>\n"
          ],
          "name": "stdout"
        }
      ]
    },
    {
      "cell_type": "code",
      "metadata": {
        "colab": {
          "base_uri": "https://localhost:8080/"
        },
        "id": "ZTDI9Y_bAjtq",
        "outputId": "1a7a7d09-894e-4a32-a57c-aec06d726593"
      },
      "source": [
        "pi = 3.141592  # 대입문(assignment statement). 할당문\r\n",
        "print(pi)\r\n",
        "print(type(pi))"
      ],
      "execution_count": 5,
      "outputs": [
        {
          "output_type": "stream",
          "text": [
            "3.141592\n",
            "<class 'float'>\n"
          ],
          "name": "stdout"
        }
      ]
    },
    {
      "cell_type": "code",
      "metadata": {
        "colab": {
          "base_uri": "https://localhost:8080/"
        },
        "id": "PdQPIe_IBLOS",
        "outputId": "bacf8fd3-a311-4c5d-9c60-32fe7155a5e7"
      },
      "source": [
        "s1 = 'hello'\r\n",
        "s2 = \"안녕\"\r\n",
        "print(s1, type(s1))\r\n",
        "print(s2, type(s2))\r\n",
        "# Python은 문자열을 표기할 때 큰따옴표(\"\") 또는 작은따옴표('')를 사용함."
      ],
      "execution_count": 8,
      "outputs": [
        {
          "output_type": "stream",
          "text": [
            "hello <class 'str'>\n",
            "안녕 <class 'str'>\n"
          ],
          "name": "stdout"
        }
      ]
    }
  ]
}