{
  "nbformat": 4,
  "nbformat_minor": 0,
  "metadata": {
    "colab": {
      "name": "python09_list_iteration.ipynb",
      "provenance": [],
      "collapsed_sections": [],
      "authorship_tag": "ABX9TyM90HWyTDQAPTQjRw5HhOFv",
      "include_colab_link": true
    },
    "kernelspec": {
      "name": "python3",
      "display_name": "Python 3"
    }
  },
  "cells": [
    {
      "cell_type": "markdown",
      "metadata": {
        "id": "view-in-github",
        "colab_type": "text"
      },
      "source": [
        "<a href=\"https://colab.research.google.com/github/JakeOh/202011_itw_bd21/blob/main/lab_python/python09_list_iteration.ipynb\" target=\"_parent\"><img src=\"https://colab.research.google.com/assets/colab-badge.svg\" alt=\"Open In Colab\"/></a>"
      ]
    },
    {
      "cell_type": "markdown",
      "metadata": {
        "id": "SZhCTV-w1asz"
      },
      "source": [
        "# 리스트와 반복문"
      ]
    },
    {
      "cell_type": "code",
      "metadata": {
        "colab": {
          "base_uri": "https://localhost:8080/"
        },
        "id": "SIh80-q71F5I",
        "outputId": "aecdcaa7-7963-42ea-dbf8-5826ca0a098e"
      },
      "source": [
        "scores = [1, 3, 2, 4, 5]\r\n",
        "for s in scores:\r\n",
        "    print(s)"
      ],
      "execution_count": 3,
      "outputs": [
        {
          "output_type": "stream",
          "text": [
            "1\n",
            "3\n",
            "2\n",
            "4\n",
            "5\n"
          ],
          "name": "stdout"
        }
      ]
    },
    {
      "cell_type": "code",
      "metadata": {
        "colab": {
          "base_uri": "https://localhost:8080/"
        },
        "id": "xM7Qf9ce2TSK",
        "outputId": "e2f50006-7cdd-47d6-86bf-ef50b4c3f1de"
      },
      "source": [
        "for i in range(len(scores)):  # for i in range(5):\r\n",
        "    print(scores[i])"
      ],
      "execution_count": 4,
      "outputs": [
        {
          "output_type": "stream",
          "text": [
            "1\n",
            "3\n",
            "2\n",
            "4\n",
            "5\n"
          ],
          "name": "stdout"
        }
      ]
    },
    {
      "cell_type": "code",
      "metadata": {
        "colab": {
          "base_uri": "https://localhost:8080/"
        },
        "id": "ohbOrSu_3Jvz",
        "outputId": "d5f52cb2-06a8-4523-bda0-101b3ed4967f"
      },
      "source": [
        "# enumerate(list): list의 인덱스와 해당 인덱스의 값을 함께 반환.\r\n",
        "for i, x in enumerate(scores):\r\n",
        "    print(i, ':', x)"
      ],
      "execution_count": 6,
      "outputs": [
        {
          "output_type": "stream",
          "text": [
            "0 : 1\n",
            "1 : 3\n",
            "2 : 2\n",
            "3 : 4\n",
            "4 : 5\n"
          ],
          "name": "stdout"
        }
      ]
    },
    {
      "cell_type": "code",
      "metadata": {
        "colab": {
          "base_uri": "https://localhost:8080/"
        },
        "id": "uzBiFGc_4ldK",
        "outputId": "c8c8ebdd-bfdd-4907-e3e1-b061b7672aff"
      },
      "source": [
        "# 2차원 리스트: 1차원 리스트들을 원소로 갖는 리스트.\r\n",
        "matrix = [\r\n",
        "          [1, 2, 3],\r\n",
        "          [4, 5, 6],\r\n",
        "          [7, 8, 9]\r\n",
        "]\r\n",
        "print(matrix)"
      ],
      "execution_count": 7,
      "outputs": [
        {
          "output_type": "stream",
          "text": [
            "[[1, 2, 3], [4, 5, 6], [7, 8, 9]]\n"
          ],
          "name": "stdout"
        }
      ]
    },
    {
      "cell_type": "code",
      "metadata": {
        "colab": {
          "base_uri": "https://localhost:8080/"
        },
        "id": "_-w-fYbi51fK",
        "outputId": "056e56de-0104-4b81-935e-4983f44b2399"
      },
      "source": [
        "print(len(matrix))"
      ],
      "execution_count": 8,
      "outputs": [
        {
          "output_type": "stream",
          "text": [
            "3\n"
          ],
          "name": "stdout"
        }
      ]
    },
    {
      "cell_type": "code",
      "metadata": {
        "colab": {
          "base_uri": "https://localhost:8080/"
        },
        "id": "zh2j83lI5-dq",
        "outputId": "a65df61b-ad6c-4814-f548-f2a040902ff2"
      },
      "source": [
        "matrix[0]"
      ],
      "execution_count": 9,
      "outputs": [
        {
          "output_type": "execute_result",
          "data": {
            "text/plain": [
              "[1, 2, 3]"
            ]
          },
          "metadata": {
            "tags": []
          },
          "execution_count": 9
        }
      ]
    },
    {
      "cell_type": "code",
      "metadata": {
        "colab": {
          "base_uri": "https://localhost:8080/"
        },
        "id": "zkdTPhU36Yi6",
        "outputId": "ef4d726b-fbad-499a-8bc3-05234e3f5166"
      },
      "source": [
        "matrix[0][0]"
      ],
      "execution_count": 10,
      "outputs": [
        {
          "output_type": "execute_result",
          "data": {
            "text/plain": [
              "1"
            ]
          },
          "metadata": {
            "tags": []
          },
          "execution_count": 10
        }
      ]
    },
    {
      "cell_type": "code",
      "metadata": {
        "colab": {
          "base_uri": "https://localhost:8080/"
        },
        "id": "0Fq5OT-r6xcT",
        "outputId": "6c74c202-b74c-4faa-b831-3008af6e83d6"
      },
      "source": [
        "# 2차원 리스트와 for loop\r\n",
        "for row in matrix:\r\n",
        "    print(row)"
      ],
      "execution_count": 11,
      "outputs": [
        {
          "output_type": "stream",
          "text": [
            "[1, 2, 3]\n",
            "[4, 5, 6]\n",
            "[7, 8, 9]\n"
          ],
          "name": "stdout"
        }
      ]
    },
    {
      "cell_type": "code",
      "metadata": {
        "colab": {
          "base_uri": "https://localhost:8080/"
        },
        "id": "5O9dPKwe7G80",
        "outputId": "cf60243b-9a6c-4856-bfd0-93454921539a"
      },
      "source": [
        "for row in matrix:\r\n",
        "    for x in row:\r\n",
        "        print(x, end='\\t')\r\n",
        "    print()"
      ],
      "execution_count": 13,
      "outputs": [
        {
          "output_type": "stream",
          "text": [
            "1\t2\t3\t\n",
            "4\t5\t6\t\n",
            "7\t8\t9\t\n"
          ],
          "name": "stdout"
        }
      ]
    },
    {
      "cell_type": "code",
      "metadata": {
        "colab": {
          "base_uri": "https://localhost:8080/"
        },
        "id": "UbnXytbc717L",
        "outputId": "4b6c0be2-c67e-4204-8f65-7def12ac517f"
      },
      "source": [
        "matrix = [\r\n",
        "          [1, 2, 3],\r\n",
        "          [4, 5, 6, 7],\r\n",
        "          [8, 9]\r\n",
        "]\r\n",
        "print(matrix)"
      ],
      "execution_count": 14,
      "outputs": [
        {
          "output_type": "stream",
          "text": [
            "[[1, 2, 3], [4, 5, 6, 7], [8, 9]]\n"
          ],
          "name": "stdout"
        }
      ]
    },
    {
      "cell_type": "code",
      "metadata": {
        "colab": {
          "base_uri": "https://localhost:8080/"
        },
        "id": "FIxFJ6nj8FPB",
        "outputId": "51995041-2c5d-4382-d5c3-69cdb46df9b2"
      },
      "source": [
        "print(matrix[1][2])"
      ],
      "execution_count": 15,
      "outputs": [
        {
          "output_type": "stream",
          "text": [
            "6\n"
          ],
          "name": "stdout"
        }
      ]
    },
    {
      "cell_type": "code",
      "metadata": {
        "colab": {
          "base_uri": "https://localhost:8080/"
        },
        "id": "0gW7R-sk8Yva",
        "outputId": "11e574ef-9e89-4cb8-b870-de57ba6f2f40"
      },
      "source": [
        "for row in matrix:\r\n",
        "    for x in row:\r\n",
        "        print(x, end='\\t')\r\n",
        "    print()"
      ],
      "execution_count": 18,
      "outputs": [
        {
          "output_type": "stream",
          "text": [
            "1\t2\t3\t\n",
            "4\t5\t6\t7\t\n",
            "8\t9\t\n"
          ],
          "name": "stdout"
        }
      ]
    },
    {
      "cell_type": "code",
      "metadata": {
        "colab": {
          "base_uri": "https://localhost:8080/"
        },
        "id": "o0LXlvGC85yi",
        "outputId": "8b05ea6d-16f6-4a01-f691-0338ef4f8f1f"
      },
      "source": [
        "numbers = [1, 2, 3, [10, 20, 30]]\r\n",
        "print(numbers)"
      ],
      "execution_count": 19,
      "outputs": [
        {
          "output_type": "stream",
          "text": [
            "[1, 2, 3, [10, 20, 30]]\n"
          ],
          "name": "stdout"
        }
      ]
    },
    {
      "cell_type": "code",
      "metadata": {
        "colab": {
          "base_uri": "https://localhost:8080/"
        },
        "id": "_Z_wMdNK9G7p",
        "outputId": "b56de35e-5612-4c5d-a957-5d7be9e9f01c"
      },
      "source": [
        "print(numbers[3][2])"
      ],
      "execution_count": 28,
      "outputs": [
        {
          "output_type": "stream",
          "text": [
            "30\n"
          ],
          "name": "stdout"
        }
      ]
    },
    {
      "cell_type": "code",
      "metadata": {
        "colab": {
          "base_uri": "https://localhost:8080/"
        },
        "id": "8bB4XCaa9_DU",
        "outputId": "9e994eaf-2d6a-435f-ca6e-119d0c0b9824"
      },
      "source": [
        "print(matrix)"
      ],
      "execution_count": 31,
      "outputs": [
        {
          "output_type": "stream",
          "text": [
            "[[1, 2, 3], [4, 5, 6, 7], [8, 9]]\n"
          ],
          "name": "stdout"
        }
      ]
    },
    {
      "cell_type": "code",
      "metadata": {
        "colab": {
          "base_uri": "https://localhost:8080/"
        },
        "id": "8bfKck8X-hgN",
        "outputId": "1e8fc670-2460-4beb-e978-2e0a48b21053"
      },
      "source": [
        "for i in range(len(matrix)):  # len(matrix) = 3\r\n",
        "    print(matrix[i])"
      ],
      "execution_count": 32,
      "outputs": [
        {
          "output_type": "stream",
          "text": [
            "[1, 2, 3]\n",
            "[4, 5, 6, 7]\n",
            "[8, 9]\n"
          ],
          "name": "stdout"
        }
      ]
    },
    {
      "cell_type": "code",
      "metadata": {
        "colab": {
          "base_uri": "https://localhost:8080/"
        },
        "id": "9ZJReGsq-vdi",
        "outputId": "339fc6c0-32dd-4df4-a264-6a243397bb74"
      },
      "source": [
        "for i in range(len(matrix)):\r\n",
        "    for j in range(len(matrix[i])):\r\n",
        "        print(matrix[i][j], end='\\t')\r\n",
        "    print()"
      ],
      "execution_count": 34,
      "outputs": [
        {
          "output_type": "stream",
          "text": [
            "1\t2\t3\t\n",
            "4\t5\t6\t7\t\n",
            "8\t9\t\n"
          ],
          "name": "stdout"
        }
      ]
    },
    {
      "cell_type": "code",
      "metadata": {
        "colab": {
          "base_uri": "https://localhost:8080/"
        },
        "id": "2-Y7Djgh_VcS",
        "outputId": "aedd2423-9ee8-43fd-dd8a-fdcbd531f9df"
      },
      "source": [
        "for i, row in enumerate(matrix):\r\n",
        "    for j, x in enumerate(row):\r\n",
        "        print(f'matrix[{i}][{j}] = {x}')"
      ],
      "execution_count": 35,
      "outputs": [
        {
          "output_type": "stream",
          "text": [
            "matrix[0][0] = 1\n",
            "matrix[0][1] = 2\n",
            "matrix[0][2] = 3\n",
            "matrix[1][0] = 4\n",
            "matrix[1][1] = 5\n",
            "matrix[1][2] = 6\n",
            "matrix[1][3] = 7\n",
            "matrix[2][0] = 8\n",
            "matrix[2][1] = 9\n"
          ],
          "name": "stdout"
        }
      ]
    }
  ]
}