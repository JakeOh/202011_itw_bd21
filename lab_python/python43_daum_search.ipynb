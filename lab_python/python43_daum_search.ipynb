{
  "nbformat": 4,
  "nbformat_minor": 0,
  "metadata": {
    "colab": {
      "name": "python43_daum_search.ipynb",
      "provenance": [],
      "collapsed_sections": [],
      "authorship_tag": "ABX9TyMQnlsuSqHiWbNVnXrBA2ew",
      "include_colab_link": true
    },
    "kernelspec": {
      "name": "python3",
      "display_name": "Python 3"
    }
  },
  "cells": [
    {
      "cell_type": "markdown",
      "metadata": {
        "id": "view-in-github",
        "colab_type": "text"
      },
      "source": [
        "<a href=\"https://colab.research.google.com/github/JakeOh/202011_itw_bd21/blob/main/lab_python/python43_daum_search.ipynb\" target=\"_parent\"><img src=\"https://colab.research.google.com/assets/colab-badge.svg\" alt=\"Open In Colab\"/></a>"
      ]
    },
    {
      "cell_type": "markdown",
      "metadata": {
        "id": "s1cWkm6VQ3AZ"
      },
      "source": [
        "**URL 형식**\r\n",
        "\r\n",
        "*   프로토콜://도메인이름(or IP주소)[:포트번호]/경로[?쿼리스트링]\r\n",
        "    *   프로토콜(protocol): http, https, ...\r\n",
        "    *   도메인(domain) 이름: www.naver.com, www.daum.net, search.daum.net, ...\r\n",
        "    *   포트(port) 번호: 포트 번호가 80번인 경우는 생략 가능\r\n",
        "    *   쿼리 스트링(query string):\r\n",
        "        *   클라이언트(웹 브라우저)가 서버로 정보를 보낼 때 사용\r\n",
        "        *   parameter=value 형식으로 전달\r\n",
        "        *   파라미터가 여러개일 때는 &로 파라미터를 구분\r\n",
        "\r\n",
        "*   URL 예\r\n",
        "    *   https://search.daum.net/search?w=news&DA=PGD&enc=utf8&cluster=y&cluster_page=1&q=%EB%A8%B8%EC%8B%A0%EB%9F%AC%EB%8B%9D&p=1\r\n",
        "\r\n",
        "    *   https://search.daum.net/search?w=news&DA=PGD&enc=utf8&cluster=y&cluster_page=1&q=%EB%A8%B8%EC%8B%A0%EB%9F%AC%EB%8B%9D&p=2\r\n",
        "\r\n",
        "    *   https://search.daum.net/search?w=news&DA=PGD&enc=utf8&cluster=y&cluster_page=1&q=%EB%A8%B8%EC%8B%A0%EB%9F%AC%EB%8B%9D&p=3\r\n",
        "\r\n",
        "*   요청 방식(Request Method):\r\n",
        "    *   GET 방식\r\n",
        "        *   클라이언트가 서버로 보내는 정보들을 URL의 query string에 포함시켜서 보내는 방식\r\n",
        "        *   예: 검색, 링크 클릭, ...\r\n",
        "    *   POST 방식\r\n",
        "        *   클라이언트가 서버로 보내는 정보들을 HTTP 패킷으로 감싸서 URL에 정보들이 노출되지 않도록 보내는 방식\r\n",
        "        *   예: 로그인, 이메일, ..."
      ]
    }
  ]
}