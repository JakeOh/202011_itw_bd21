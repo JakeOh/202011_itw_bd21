{
  "nbformat": 4,
  "nbformat_minor": 0,
  "metadata": {
    "colab": {
      "name": "python43_daum_search.ipynb",
      "provenance": [],
      "collapsed_sections": [],
      "authorship_tag": "ABX9TyM4YueUHTwl1+N5/WdsIqlQ",
      "include_colab_link": true
    },
    "kernelspec": {
      "name": "python3",
      "display_name": "Python 3"
    }
  },
  "cells": [
    {
      "cell_type": "markdown",
      "metadata": {
        "id": "view-in-github",
        "colab_type": "text"
      },
      "source": [
        "<a href=\"https://colab.research.google.com/github/JakeOh/202011_itw_bd21/blob/main/lab_python/python43_daum_search.ipynb\" target=\"_parent\"><img src=\"https://colab.research.google.com/assets/colab-badge.svg\" alt=\"Open In Colab\"/></a>"
      ]
    },
    {
      "cell_type": "markdown",
      "metadata": {
        "id": "s1cWkm6VQ3AZ"
      },
      "source": [
        "**URL 형식**\r\n",
        "\r\n",
        "*   프로토콜://도메인이름(or IP주소)[:포트번호]/경로[?쿼리스트링]\r\n",
        "    *   프로토콜(protocol): http, https, ...\r\n",
        "    *   도메인(domain) 이름: www.naver.com, www.daum.net, search.daum.net, ...\r\n",
        "    *   포트(port) 번호: 포트 번호가 80번인 경우는 생략 가능\r\n",
        "    *   쿼리 스트링(query string):\r\n",
        "        *   클라이언트(웹 브라우저)가 서버로 정보를 보낼 때 사용\r\n",
        "        *   parameter=value 형식으로 전달\r\n",
        "        *   파라미터가 여러개일 때는 &로 파라미터를 구분\r\n",
        "\r\n",
        "*   URL 예\r\n",
        "    *   https://search.daum.net/search?w=news&DA=PGD&enc=utf8&cluster=y&cluster_page=1&q=%EB%A8%B8%EC%8B%A0%EB%9F%AC%EB%8B%9D&p=1\r\n",
        "\r\n",
        "    *   https://search.daum.net/search?w=news&DA=PGD&enc=utf8&cluster=y&cluster_page=1&q=%EB%A8%B8%EC%8B%A0%EB%9F%AC%EB%8B%9D&p=2\r\n",
        "\r\n",
        "    *   https://search.daum.net/search?w=news&DA=PGD&enc=utf8&cluster=y&cluster_page=1&q=%EB%A8%B8%EC%8B%A0%EB%9F%AC%EB%8B%9D&p=3\r\n",
        "\r\n",
        "*   요청 방식(Request Method):\r\n",
        "    *   GET 방식\r\n",
        "        *   클라이언트가 서버로 보내는 정보들을 URL의 query string에 포함시켜서 보내는 방식\r\n",
        "        *   예: 검색, 링크 클릭, ...\r\n",
        "    *   POST 방식\r\n",
        "        *   클라이언트가 서버로 보내는 정보들을 HTTP 패킷으로 감싸서 URL에 정보들이 노출되지 않도록 보내는 방식\r\n",
        "        *   예: 로그인, 이메일, ..."
      ]
    },
    {
      "cell_type": "code",
      "metadata": {
        "id": "npXXhBzfat-H"
      },
      "source": [
        "import requests\r\n",
        "from bs4 import BeautifulSoup"
      ],
      "execution_count": 1,
      "outputs": []
    },
    {
      "cell_type": "code",
      "metadata": {
        "colab": {
          "base_uri": "https://localhost:8080/"
        },
        "id": "ZoG-ihqIazff",
        "outputId": "f769d110-c929-435b-d5c6-e5381b389b05"
      },
      "source": [
        "url = 'https://search.daum.net/search?w=news&DA=PGD&enc=utf8&cluster=y&cluster_page=1&q=%EB%A8%B8%EC%8B%A0%EB%9F%AC%EB%8B%9D&p=1'\r\n",
        "response = requests.get(url)\r\n",
        "print(response)"
      ],
      "execution_count": 5,
      "outputs": [
        {
          "output_type": "stream",
          "text": [
            "<Response [200]>\n"
          ],
          "name": "stdout"
        }
      ]
    },
    {
      "cell_type": "code",
      "metadata": {
        "colab": {
          "base_uri": "https://localhost:8080/"
        },
        "id": "AChlYOnwbjN_",
        "outputId": "2b1fcb70-b27d-412c-9ab4-a876b11cd8cb"
      },
      "source": [
        "html = response.text.strip()\r\n",
        "soup = BeautifulSoup(markup=html, features='html5lib')\r\n",
        "selector = 'ul#clusterResultUL > li > div > div > div > a.f_link_b'\r\n",
        "# '#clusterResultUL > li:nth-child(2) > div > div > div > a'\r\n",
        "# '#clusterResultUL > li:nth-child(3) > div.wrap_cont > div > div.wrap_tit.mg_tit > a'\r\n",
        "# '#clusterResultUL > li:nth-child(10) > div.wrap_cont > div > div > a'\r\n",
        "soup.select(selector)"
      ],
      "execution_count": 6,
      "outputs": [
        {
          "output_type": "execute_result",
          "data": {
            "text/plain": [
              "[<a class=\"f_link_b\" href=\"http://v.media.daum.net/v/20201222143915304?f=o\" onclick='smartLog(this, \"dc=NNS&amp;d=26mZe8bF7VBm4vLi7a&amp;pg=2&amp;r=1&amp;p=4&amp;rc=10&amp;e1=16sIQ8rx97vi9RHx8w&amp;e3=0&amp;ext=dsid=26mZe8bF7VBm4vLi7a\", event, {\"cpid\": {\"value\": \"16sIQ8rx97vi9RHx8w\"}});' target=\"_blank\">구글과 함께 하는 AI '<b>머신러닝</b> 야학' 2기 시작</a>,\n",
              " <a class=\"f_link_b\" href=\"http://v.media.daum.net/v/20201230140729772?f=o\" onclick='smartLog(this, \"dc=NNS&amp;d=26PZ8pNYU4Z6jqvMwd&amp;pg=2&amp;r=2&amp;p=4&amp;rc=10&amp;e1=16ch37p8Eze2f0phkS&amp;e3=0&amp;ext=dsid=26PZ8pNYU4Z6jqvMwd\", event, {\"cpid\": {\"value\": \"16ch37p8Eze2f0phkS\"}});' target=\"_blank\">데브옵스·<b>머신러닝</b>..IT분야 연봉 높이는 기술역량 10가지</a>,\n",
              " <a class=\"f_link_b\" href=\"https://cp.news.search.daum.net/p/100965828\" onclick='smartLog(this, \"dc=NNS&amp;d=26t7m-NsM9gi1H_1y9&amp;pg=2&amp;r=3&amp;p=4&amp;rc=10&amp;e1=16Di4dkj6V1Ygv8tk7&amp;e3=0&amp;ext=dsid=26t7m-NsM9gi1H_1y9\", event, {\"cpid\": {\"value\": \"16Di4dkj6V1Ygv8tk7\"}});' target=\"_blank\">누구나 쉽게 배우는 <b>머신러닝</b>... 구글, '<b>머신러닝</b> 야학' 연다</a>,\n",
              " <a class=\"f_link_b\" href=\"https://cp.news.search.daum.net/p/101885600\" onclick='smartLog(this, \"dc=NNS&amp;d=26tvVoa4C4PMCeW18c&amp;pg=2&amp;r=4&amp;p=4&amp;rc=10&amp;e1=16TjTsa7b_jTCZhwup&amp;e3=0&amp;ext=dsid=26tvVoa4C4PMCeW18c\", event, {\"cpid\": {\"value\": \"16TjTsa7b_jTCZhwup\"}});' target=\"_blank\">스와미 시바수브라마니안 AWS <b>머신러닝</b> 부사장</a>,\n",
              " <a class=\"f_link_b\" href=\"http://v.media.daum.net/v/20201221180415414?f=o\" onclick='smartLog(this, \"dc=NNS&amp;d=26QyBPVe2tgbV23fel&amp;pg=2&amp;r=5&amp;p=4&amp;rc=10&amp;e1=16sIQ8rx97vi9RHx8w&amp;e3=0&amp;ext=dsid=26QyBPVe2tgbV23fel\", event, {\"cpid\": {\"value\": \"16sIQ8rx97vi9RHx8w\"}});' target=\"_blank\">[2020 하반기 인기상품]마케팅우수-위세아이텍-<b>머신러닝</b> 자동화플...</a>,\n",
              " <a class=\"f_link_b\" href=\"https://cp.news.search.daum.net/p/101964228\" onclick='smartLog(this, \"dc=NNS&amp;d=26rXkZc3y9dpOkB8HB&amp;pg=2&amp;r=6&amp;p=4&amp;rc=10&amp;e1=16kBt0L7JinDSPfZSq&amp;e3=0&amp;ext=dsid=26rXkZc3y9dpOkB8HB\", event, {\"cpid\": {\"value\": \"16kBt0L7JinDSPfZSq\"}});' target=\"_blank\">[CES 2021 All Digital] 콕스스페이스(CoX Space), 제스처 <b>머신러</b>...</a>,\n",
              " <a class=\"f_link_b\" href=\"http://v.media.daum.net/v/20201218164202716?f=o\" onclick='smartLog(this, \"dc=NNS&amp;d=26Iq1ol1SMvzMkz_0S&amp;pg=2&amp;r=7&amp;p=4&amp;rc=10&amp;e1=16EJqgUM0mYHaQpZZ-&amp;e3=0&amp;ext=dsid=26Iq1ol1SMvzMkz_0S\", event, {\"cpid\": {\"value\": \"16EJqgUM0mYHaQpZZ-\"}});' target=\"_blank\">아마존 CTO \"기계간 소통 50%로 커져..<b>머신러닝</b> 중요성 부각\"</a>,\n",
              " <a class=\"f_link_b\" href=\"http://v.media.daum.net/v/20210105132003673?f=o\" onclick='smartLog(this, \"dc=NNS&amp;d=26-T77aMc8oGlDmEM7&amp;pg=2&amp;r=8&amp;p=4&amp;rc=10&amp;e1=16sIQ8rx97vi9RHx8w&amp;e3=0&amp;ext=dsid=26-T77aMc8oGlDmEM7\", event, {\"cpid\": {\"value\": \"16sIQ8rx97vi9RHx8w\"}});' target=\"_blank\">[올쇼TV] 소닉월 캡쳐클라이언트, 강력한 <b>머신러닝</b> 기반 차세대 ...</a>,\n",
              " <a class=\"f_link_b\" href=\"http://v.media.daum.net/v/20210103125504546?f=o\" onclick='smartLog(this, \"dc=NNS&amp;d=26a3KzqvW_r4kZ3mWb&amp;pg=2&amp;r=9&amp;p=4&amp;rc=10&amp;e1=16sIQ8rx97vi9RHx8w&amp;e3=0&amp;ext=dsid=26a3KzqvW_r4kZ3mWb\", event, {\"cpid\": {\"value\": \"16sIQ8rx97vi9RHx8w\"}});' target=\"_blank\">현대모비스, <b>머신러닝</b>·블록체인 기반 AS부품 관리 시스템 구축</a>,\n",
              " <a class=\"f_link_b\" href=\"http://v.media.daum.net/v/20201230134602978?f=o\" onclick='smartLog(this, \"dc=NNS&amp;d=26z-X1BBGlLEPPgn7F&amp;pg=2&amp;r=10&amp;p=4&amp;rc=10&amp;e1=16jH3Maek0K7RR-cdd&amp;e3=0&amp;ext=dsid=26z-X1BBGlLEPPgn7F\", event, {\"cpid\": {\"value\": \"16jH3Maek0K7RR-cdd\"}});' target=\"_blank\">차량 내 탑승자 인식 정확도 높인 <b>머신러닝</b> 기반 레이더 기술 개발</a>]"
            ]
          },
          "metadata": {
            "tags": []
          },
          "execution_count": 6
        }
      ]
    },
    {
      "cell_type": "code",
      "metadata": {
        "colab": {
          "base_uri": "https://localhost:8080/"
        },
        "id": "iM20RckOfm-_",
        "outputId": "802d3246-380c-4e5a-b282-ff9c5c8dfead"
      },
      "source": [
        "# 1~3 페이지까지 뉴스 검색 결과의 제목과 URL을 출력\r\n",
        "for page in range(1, 4):\r\n",
        "    print(f'--- page {page} ---')\r\n",
        "    \r\n",
        "    # 검색 URL\r\n",
        "    # url = f'https://search.daum.net/search?w=news&DA=PGD&enc=utf8&cluster=y&cluster_page=1&q=%EB%A8%B8%EC%8B%A0%EB%9F%AC%EB%8B%9D&p={page}'\r\n",
        "    # response = requests.get(url)  # request 보내고 response 받음\r\n",
        "    \r\n",
        "    url = 'https://search.daum.net/search?w=news&DA=PGD&enc=utf8&cluster=y&cluster_page=1'  # URL\r\n",
        "    params = {'q': '머신러닝', 'p': page}  # query string의 parameter\r\n",
        "    response = requests.get(url, params)\r\n",
        "\r\n",
        "    html = response.text.strip()  # HTML 코드 추출\r\n",
        "    soup = BeautifulSoup(markup=html, features='html5lib')  # BS 객체 생성\r\n",
        "    selector = 'ul#clusterResultUL > li > div > div > div > a.f_link_b'  # HTML element 선택자\r\n",
        "    search_results = soup.select(selector)\r\n",
        "    for link in search_results:\r\n",
        "        print(link['href'], link.text)"
      ],
      "execution_count": 13,
      "outputs": [
        {
          "output_type": "stream",
          "text": [
            "--- page 1 ---\n",
            "http://v.media.daum.net/v/20210131171803074?f=o 지멘스 CEO \"머신러닝이 향후 5년 제조업 키워드\"\n",
            "http://v.media.daum.net/v/20210125140011940?f=o 바이텍씨스템, 데이터로봇과 데이터 사이언스 및 머신러닝 플랫폼...\n",
            "http://v.media.daum.net/v/20210126143704209?f=o 머신러닝 기반 광고자동화플랫폼 '몰로코 클라우드' 출시.. \"올해...\n",
            "http://v.media.daum.net/v/20210114144154666?f=o 오라클, 블록체인 적용한 'DB 21c' 공개..\"머신러닝도 자동으로\"\n",
            "http://v.media.daum.net/v/20210113172556755?f=o 노영균 한양대 교수, 머신러닝 활용 '간 질병' 분류기술 개발\n",
            "https://cp.news.search.daum.net/p/101999005 [5Q 인터뷰] '혼자 공부하는 머신러닝+딥러닝' 박해선 저자\n",
            "http://v.media.daum.net/v/20210113230556734?f=o 큐앤에이소프, '머신러닝 기반 다차원 데이터 분석' 관련 특허\n",
            "http://v.media.daum.net/v/20210101093825912?f=o 구글코리아, '머신 러닝 야학' 2기 모집\n",
            "http://v.media.daum.net/v/20210107164602542?f=o 시그니아, 세계 최초 머신러닝 기반 보청기 조절 앱 '시그니아 어...\n",
            "https://cp.news.search.daum.net/p/101975026 미 기업인 74% “AI·머신러닝 최우선 순위에 둔다”\n",
            "--- page 2 ---\n",
            "http://v.media.daum.net/v/20201222143915304?f=o 구글과 함께 하는 AI '머신러닝 야학' 2기 시작\n",
            "http://v.media.daum.net/v/20201230140729772?f=o 데브옵스·머신러닝..IT분야 연봉 높이는 기술역량 10가지\n",
            "https://cp.news.search.daum.net/p/100965828 누구나 쉽게 배우는 머신러닝... 구글, '머신러닝 야학' 연다\n",
            "https://cp.news.search.daum.net/p/101885600 스와미 시바수브라마니안 AWS 머신러닝 부사장\n",
            "http://v.media.daum.net/v/20201221180415414?f=o [2020 하반기 인기상품]마케팅우수-위세아이텍-머신러닝 자동화플...\n",
            "https://cp.news.search.daum.net/p/101964228 [CES 2021 All Digital] 콕스스페이스(CoX Space), 제스처 머신러...\n",
            "http://v.media.daum.net/v/20201218164202716?f=o 아마존 CTO \"기계간 소통 50%로 커져..머신러닝 중요성 부각\"\n",
            "http://v.media.daum.net/v/20210105132003673?f=o [올쇼TV] 소닉월 캡쳐클라이언트, 강력한 머신러닝 기반 차세대 ...\n",
            "http://v.media.daum.net/v/20210103125504546?f=o 현대모비스, 머신러닝·블록체인 기반 AS부품 관리 시스템 구축\n",
            "http://v.media.daum.net/v/20201230134602978?f=o 차량 내 탑승자 인식 정확도 높인 머신러닝 기반 레이더 기술 개발\n",
            "--- page 3 ---\n",
            "http://v.media.daum.net/v/20210203142151478?f=o 펜타시큐리티, 웹방화벽 '와플' 6.0 출시\n",
            "http://v.media.daum.net/v/20201216000105021?f=o 위세아이텍 창립 30주년..\"머신러닝·빅데이터 기술력 발판으로 ...\n",
            "http://v.media.daum.net/v/20201213160120944?f=o [공공솔루션마켓]위세아이텍 머신러닝자동화 플랫폼 '와이즈프로핏'\n",
            "http://v.media.daum.net/v/20201202180927021?f=o AWS, 머신러닝 모델 훈련 칩 '트레이니엄' 공개\n",
            "http://v.media.daum.net/v/20210203102349064?f=o SK C&C, 1㎛ 불량품 검수하는 '아이팩토리 스마트 비전' 공개\n",
            "http://v.media.daum.net/v/20210203093542508?f=o 뤼이드, 인공지능학회 'AAAI'서 기업 최초로 워크숍 열어\n",
            "http://v.media.daum.net/v/20201230114145251?f=o KAIST, 美 CS랭킹서 전체 7위..머신러닝 실적 성장 두드러져\n",
            "https://cp.news.search.daum.net/p/102505631 MIT, 단 1mm 크기 선충류 모방 '액체신경망' 개발\n",
            "http://v.media.daum.net/v/20210203111159676?f=o \"'AI눈'으로 픽셀 단위까지 찾아낸다\"\n",
            "http://v.media.daum.net/v/20210203101001239?f=o 인간이 잡지 못하는 미세한 차이 찾는 'AI 눈' 나왔다\n"
          ],
          "name": "stdout"
        }
      ]
    },
    {
      "cell_type": "code",
      "metadata": {
        "id": "uYUJ9EA1ogxn"
      },
      "source": [
        "def daum_news_search(keyword: str, pages: int):\r\n",
        "    for page in range(1, pages+1):\r\n",
        "        print(f'--- page {page} ---')\r\n",
        "        url = 'https://search.daum.net/search?w=news&DA=PGD&enc=utf8&cluster=y&cluster_page=1'  # URL\r\n",
        "        params = {'q': keyword, 'p': page}  # 요청 파라미터(Request parameters)\r\n",
        "        response = requests.get(url, params)  # 요청 보냄\r\n",
        "        html = response.text.strip()  # 응답에서 HTML 추출\r\n",
        "        soup = BeautifulSoup(markup=html, features='html5lib')\r\n",
        "        selector = 'ul#clusterResultUL > li > div > div > div > a.f_link_b'  # HTML element 선택자\r\n",
        "        search_results = soup.select(selector)\r\n",
        "        for link in search_results:\r\n",
        "            print(link['href'], link.text)\r\n"
      ],
      "execution_count": 17,
      "outputs": []
    },
    {
      "cell_type": "code",
      "metadata": {
        "colab": {
          "base_uri": "https://localhost:8080/"
        },
        "id": "t6NkU5lMohL2",
        "outputId": "ab0e97d9-f2de-4965-bd81-cc405bc3b9b7"
      },
      "source": [
        "keyword = input('검색어 입력>>> ')\r\n",
        "pages = int(input('검색할 페이지 개수 입력>>> '))\r\n",
        "daum_news_search(keyword, pages)"
      ],
      "execution_count": 19,
      "outputs": [
        {
          "output_type": "stream",
          "text": [
            "검색어 입력>>> deep learning\n",
            "검색할 페이지 개수 입력>>> 2\n",
            "--- page 1 ---\n",
            "https://cp.news.search.daum.net/p/101030735 테크닉스, MVTec Deep Learning Tool 새로운 버전 소개\n",
            "https://cp.news.search.daum.net/p/102479574 모니터코퍼레이션, AI 루카스... 전문의가 놓쳤던 폐암, 98% 정확...\n",
            "http://v.media.daum.net/v/20210202191314037?f=o 허성무 창원시장, 반도체 전문기업 성우테크론㈜ 방문\n",
            "https://cp.news.search.daum.net/p/102483613 “반도체 부품 기술지원 인프라 구축 최선”\n",
            "http://v.media.daum.net/v/20210201164518663?f=o [Feature] K-pop stars subjected to sexual objectification online\n",
            "http://v.media.daum.net/v/20210202090830781?f=o [AI기업/노타] \"AI모델 경량화 최고..최대 1%미만으로 줄여\"\n",
            "https://cp.news.search.daum.net/p/100401099 KIRAMS’ deep learning tech predicts early responses to breas...\n",
            "https://cp.news.search.daum.net/p/102471381 극동대 해킹보안학과, 정보보안기업 코드원 산학협력 체결\n",
            "http://v.media.daum.net/v/20210129064210935?f=o \"어? 아이유 아니였어?\" 中 '차이유'..딥페이크 기술 어쩌나\n",
            "http://v.media.daum.net/v/20210126164203790?f=o In the homoerotic world of K-pop fan fiction, how far is too ...\n",
            "--- page 2 ---\n",
            "http://v.media.daum.net/v/20210128141249742?f=o KAIST, AI 이용 면역항암 세포 3차원 분석기술 개발\n",
            "https://cp.news.search.daum.net/p/99698051 ‘Deep learning reduced gastric cancer diagnosis time by 58%’\n",
            "http://v.media.daum.net/v/20210125120605081?f=o 중국 아이유 닮은꼴 '차이유' 실제 모습 공개..충격에 빠진 누리꾼들\n",
            "https://cp.news.search.daum.net/p/102249351 Researchers develop more accurate breast cancer test model\n",
            "http://v.media.daum.net/v/20210122130300394?f=o Class-action suit against AI chatbot Luda developer joined by...\n",
            "http://v.media.daum.net/v/20210121124500364?f=o Hyundai Motor Chair to make his first foreign visit to open i...\n",
            "https://cp.news.search.daum.net/p/102375663 [더벨]의료 AI '루닛', 상장 채비···VC 자금 회수 가시화\n",
            "https://cp.news.search.daum.net/p/102232216 Hyperconnect's Advanced Technologies Earn Global Recognition\n",
            "http://v.media.daum.net/v/20210121152100944?f=o Korea's trend economic growth stagnated at 2% over past decade\n",
            "http://v.media.daum.net/v/20210125090113208?f=o [소년중앙] 치킨 튀기고 커피 내리고 인간 도우려 주방 진출한 로...\n"
          ],
          "name": "stdout"
        }
      ]
    }
  ]
}