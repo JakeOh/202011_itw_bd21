{
  "nbformat": 4,
  "nbformat_minor": 0,
  "metadata": {
    "colab": {
      "name": "python33_string.ipynb",
      "provenance": [],
      "collapsed_sections": [],
      "authorship_tag": "ABX9TyOS8MIKtGr1I1AkxxlOZvRp",
      "include_colab_link": true
    },
    "kernelspec": {
      "name": "python3",
      "display_name": "Python 3"
    }
  },
  "cells": [
    {
      "cell_type": "markdown",
      "metadata": {
        "id": "view-in-github",
        "colab_type": "text"
      },
      "source": [
        "<a href=\"https://colab.research.google.com/github/JakeOh/202011_itw_bd21/blob/main/lab_python/python33_string.ipynb\" target=\"_parent\"><img src=\"https://colab.research.google.com/assets/colab-badge.svg\" alt=\"Open In Colab\"/></a>"
      ]
    },
    {
      "cell_type": "markdown",
      "metadata": {
        "id": "LWZVGzffOxIz"
      },
      "source": [
        "# 문자열 메서드(String Methods)"
      ]
    },
    {
      "cell_type": "code",
      "metadata": {
        "colab": {
          "base_uri": "https://localhost:8080/"
        },
        "id": "rQIBtq_iOC4U",
        "outputId": "6975a259-26c8-4eef-f046-feb86464cb1e"
      },
      "source": [
        "s = 'heLLo pyTHon!'  # str 클래스의 인스턴스 생성\r\n",
        "print(s.capitalize())\r\n",
        "#> str.capitalize(): 문자열의 첫글자만 대문자로 변환, 나머지는 모두 소문자로 변환한 \"문자열을 리턴.\""
      ],
      "execution_count": 4,
      "outputs": [
        {
          "output_type": "stream",
          "text": [
            "Hello python!\n"
          ],
          "name": "stdout"
        }
      ]
    },
    {
      "cell_type": "code",
      "metadata": {
        "colab": {
          "base_uri": "https://localhost:8080/"
        },
        "id": "FNN0sJk-Rg23",
        "outputId": "503b1ba3-df62-4b7c-89f9-3643e3905a19"
      },
      "source": [
        "print(s)\r\n",
        "#> str 클래스의 메서드들은 원본 문자열을 변경하지 않고, 새로운 문자열을 생성해서 리턴함!\r\n",
        "# str 객체: 변경 불가능한 객체(immutable object)."
      ],
      "execution_count": 5,
      "outputs": [
        {
          "output_type": "stream",
          "text": [
            "heLLo pyTHon!\n"
          ],
          "name": "stdout"
        }
      ]
    },
    {
      "cell_type": "code",
      "metadata": {
        "colab": {
          "base_uri": "https://localhost:8080/"
        },
        "id": "xalQQaeDP2Mz",
        "outputId": "ebf965f0-266e-4959-d5a1-c1eac9b45c3e"
      },
      "source": [
        "# str(문자열): 문자들을 원소로 갖는 tuple\r\n",
        "print(s[:5])  # slicing\r\n",
        "print(s[-3:])\r\n",
        "print('py' in s)"
      ],
      "execution_count": 9,
      "outputs": [
        {
          "output_type": "stream",
          "text": [
            "heLLo\n",
            "on!\n",
            "True\n"
          ],
          "name": "stdout"
        }
      ]
    }
  ]
}