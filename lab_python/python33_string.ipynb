{
  "nbformat": 4,
  "nbformat_minor": 0,
  "metadata": {
    "colab": {
      "name": "python33_string.ipynb",
      "provenance": [],
      "collapsed_sections": [],
      "authorship_tag": "ABX9TyMHPNg81juPpuvtA7ab/8gt",
      "include_colab_link": true
    },
    "kernelspec": {
      "name": "python3",
      "display_name": "Python 3"
    }
  },
  "cells": [
    {
      "cell_type": "markdown",
      "metadata": {
        "id": "view-in-github",
        "colab_type": "text"
      },
      "source": [
        "<a href=\"https://colab.research.google.com/github/JakeOh/202011_itw_bd21/blob/main/lab_python/python33_string.ipynb\" target=\"_parent\"><img src=\"https://colab.research.google.com/assets/colab-badge.svg\" alt=\"Open In Colab\"/></a>"
      ]
    },
    {
      "cell_type": "markdown",
      "metadata": {
        "id": "LWZVGzffOxIz"
      },
      "source": [
        "# 문자열 메서드(String Methods)"
      ]
    },
    {
      "cell_type": "code",
      "metadata": {
        "colab": {
          "base_uri": "https://localhost:8080/"
        },
        "id": "rQIBtq_iOC4U",
        "outputId": "6975a259-26c8-4eef-f046-feb86464cb1e"
      },
      "source": [
        "s = 'heLLo pyTHon!'  # str 클래스의 인스턴스 생성\r\n",
        "print(s.capitalize())\r\n",
        "#> str.capitalize(): 문자열의 첫글자만 대문자로 변환, 나머지는 모두 소문자로 변환한 \"문자열을 리턴.\""
      ],
      "execution_count": 4,
      "outputs": [
        {
          "output_type": "stream",
          "text": [
            "Hello python!\n"
          ],
          "name": "stdout"
        }
      ]
    },
    {
      "cell_type": "code",
      "metadata": {
        "colab": {
          "base_uri": "https://localhost:8080/"
        },
        "id": "FNN0sJk-Rg23",
        "outputId": "503b1ba3-df62-4b7c-89f9-3643e3905a19"
      },
      "source": [
        "print(s)\r\n",
        "#> str 클래스의 메서드들은 원본 문자열을 변경하지 않고, 새로운 문자열을 생성해서 리턴함!\r\n",
        "# str 객체: 변경 불가능한 객체(immutable object)."
      ],
      "execution_count": 5,
      "outputs": [
        {
          "output_type": "stream",
          "text": [
            "heLLo pyTHon!\n"
          ],
          "name": "stdout"
        }
      ]
    },
    {
      "cell_type": "code",
      "metadata": {
        "colab": {
          "base_uri": "https://localhost:8080/"
        },
        "id": "xalQQaeDP2Mz",
        "outputId": "ebf965f0-266e-4959-d5a1-c1eac9b45c3e"
      },
      "source": [
        "# str(문자열): 문자들을 원소로 갖는 tuple\r\n",
        "print(s[:5])  # slicing\r\n",
        "print(s[-3:])\r\n",
        "print('py' in s)"
      ],
      "execution_count": 9,
      "outputs": [
        {
          "output_type": "stream",
          "text": [
            "heLLo\n",
            "on!\n",
            "True\n"
          ],
          "name": "stdout"
        }
      ]
    },
    {
      "cell_type": "code",
      "metadata": {
        "colab": {
          "base_uri": "https://localhost:8080/"
        },
        "id": "VEehY13iXanT",
        "outputId": "0ea957c9-2937-4108-9382-39c36cf2257a"
      },
      "source": [
        "print(s.title())\r\n",
        "#> str.title(): 문자열에서 각 단어의 첫글자만 대문자로, 나머지는 소문자로 변환한 문자열을 리턴."
      ],
      "execution_count": 12,
      "outputs": [
        {
          "output_type": "stream",
          "text": [
            "Hello Python!\n"
          ],
          "name": "stdout"
        }
      ]
    },
    {
      "cell_type": "code",
      "metadata": {
        "colab": {
          "base_uri": "https://localhost:8080/"
        },
        "id": "Mc19ZIl2XzCq",
        "outputId": "f11e07f0-9882-4b64-e138-a0a7b81048c9"
      },
      "source": [
        "print(s.upper())\r\n",
        "#> str.upper(): 문자열의 모든 문자들을 대문자로 변환해서 리턴."
      ],
      "execution_count": 13,
      "outputs": [
        {
          "output_type": "stream",
          "text": [
            "HELLO PYTHON!\n"
          ],
          "name": "stdout"
        }
      ]
    },
    {
      "cell_type": "code",
      "metadata": {
        "colab": {
          "base_uri": "https://localhost:8080/"
        },
        "id": "9OVCW_deYRG7",
        "outputId": "7797541f-8646-4d42-8587-bf483d86c153"
      },
      "source": [
        "print(s.lower())\r\n",
        "#> str.lower(): 문자열의 모든 문자들을 소문자로 변환해서 리턴."
      ],
      "execution_count": 15,
      "outputs": [
        {
          "output_type": "stream",
          "text": [
            "hello python!\n"
          ],
          "name": "stdout"
        }
      ]
    },
    {
      "cell_type": "code",
      "metadata": {
        "colab": {
          "base_uri": "https://localhost:8080/"
        },
        "id": "_uJ7Kdf7Yi2x",
        "outputId": "e7dbf7bb-90bb-448c-e19a-13a6e636cd50"
      },
      "source": [
        "print(s)\r\n",
        "print(s.count('L'))\r\n",
        "print(s.count('py'))\r\n",
        "#> str.count(sub): 문자열에서 sub 문자열이 몇 번 나오는지를 리턴."
      ],
      "execution_count": 18,
      "outputs": [
        {
          "output_type": "stream",
          "text": [
            "heLLo pyTHon!\n",
            "2\n",
            "1\n"
          ],
          "name": "stdout"
        }
      ]
    },
    {
      "cell_type": "code",
      "metadata": {
        "id": "dH6T4o4cZzFj"
      },
      "source": [
        "url = 'https://www.google.com/'"
      ],
      "execution_count": 19,
      "outputs": []
    },
    {
      "cell_type": "code",
      "metadata": {
        "colab": {
          "base_uri": "https://localhost:8080/"
        },
        "id": "O0OnWTKeaFCZ",
        "outputId": "335b34c1-a7dc-4864-8157-0516e0b8044f"
      },
      "source": [
        "print(url.startswith('http'))\r\n",
        "#> str.startswith(prefix): 문자열이 prefix로 시작하면 True, 그렇지 않으면 False를 리턴."
      ],
      "execution_count": 22,
      "outputs": [
        {
          "output_type": "stream",
          "text": [
            "True\n"
          ],
          "name": "stdout"
        }
      ]
    },
    {
      "cell_type": "code",
      "metadata": {
        "id": "D68hgPqPbHPr"
      },
      "source": [
        "phone = '010-1234-0000'"
      ],
      "execution_count": 23,
      "outputs": []
    },
    {
      "cell_type": "code",
      "metadata": {
        "colab": {
          "base_uri": "https://localhost:8080/"
        },
        "id": "k1PO3H5Fb1DH",
        "outputId": "4122ca53-901a-426c-8dd5-002d6352a3b6"
      },
      "source": [
        "print(phone.endswith('0000'))\r\n",
        "#> str.endswith(suffix): 문자열이 suffix로 끝나면 True, 그렇지 않으면 False를 리턴."
      ],
      "execution_count": 26,
      "outputs": [
        {
          "output_type": "stream",
          "text": [
            "True\n"
          ],
          "name": "stdout"
        }
      ]
    },
    {
      "cell_type": "code",
      "metadata": {
        "id": "gOty2J5bcR9y"
      },
      "source": [
        "email = 'abc.def@gmail.com'"
      ],
      "execution_count": 27,
      "outputs": []
    },
    {
      "cell_type": "code",
      "metadata": {
        "colab": {
          "base_uri": "https://localhost:8080/"
        },
        "id": "9GpaeOL8duzx",
        "outputId": "bec8b6e4-da8c-4d30-d774-2fbc784969e4"
      },
      "source": [
        "idx = email.find('@')\r\n",
        "#> str.find(sub): 문자열에서 sub 문자열이 처음 나오는 인덱스를 리턴. \r\n",
        "# 문자열에서 sub를 찾을 수 없으면 -1을 리턴.\r\n",
        "print(idx)\r\n",
        "print(email[:idx])"
      ],
      "execution_count": 29,
      "outputs": [
        {
          "output_type": "stream",
          "text": [
            "7\n",
            "abc.def\n"
          ],
          "name": "stdout"
        }
      ]
    },
    {
      "cell_type": "markdown",
      "metadata": {
        "id": "S_hTl1FEgnY7"
      },
      "source": [
        "\r\n",
        "*   `str.format(*args, **kwargs) -> str`\r\n",
        "    *   `*args`: variable-length argument(가변 길이 인수)\r\n",
        "    *   `**kwargs`: variable-length keyword argument(가변 길이 키워드 인수). \r\n",
        "        *   `p1=v1, p2=v2, ...`\r\n"
      ]
    },
    {
      "cell_type": "code",
      "metadata": {
        "id": "47PHfQ3ihqIV"
      },
      "source": [
        ""
      ],
      "execution_count": null,
      "outputs": []
    },
    {
      "cell_type": "code",
      "metadata": {
        "colab": {
          "base_uri": "https://localhost:8080/",
          "height": 38
        },
        "id": "jzgF5Dg4e36c",
        "outputId": "d65e32bb-35c7-4346-eb21-a2b137bdab40"
      },
      "source": [
        "'{} x {} = {}'.format(2, 3, 2*3)"
      ],
      "execution_count": 31,
      "outputs": [
        {
          "output_type": "execute_result",
          "data": {
            "application/vnd.google.colaboratory.intrinsic+json": {
              "type": "string"
            },
            "text/plain": [
              "'2 x 3 = 6'"
            ]
          },
          "metadata": {
            "tags": []
          },
          "execution_count": 31
        }
      ]
    }
  ]
}