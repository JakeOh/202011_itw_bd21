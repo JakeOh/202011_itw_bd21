{
  "nbformat": 4,
  "nbformat_minor": 0,
  "metadata": {
    "colab": {
      "name": "python33_string.ipynb",
      "provenance": [],
      "collapsed_sections": [],
      "authorship_tag": "ABX9TyNhmRQsGl6Exl/JcpyaZb8o",
      "include_colab_link": true
    },
    "kernelspec": {
      "name": "python3",
      "display_name": "Python 3"
    }
  },
  "cells": [
    {
      "cell_type": "markdown",
      "metadata": {
        "id": "view-in-github",
        "colab_type": "text"
      },
      "source": [
        "<a href=\"https://colab.research.google.com/github/JakeOh/202011_itw_bd21/blob/main/lab_python/python33_string.ipynb\" target=\"_parent\"><img src=\"https://colab.research.google.com/assets/colab-badge.svg\" alt=\"Open In Colab\"/></a>"
      ]
    },
    {
      "cell_type": "markdown",
      "metadata": {
        "id": "LWZVGzffOxIz"
      },
      "source": [
        "# 문자열 메서드(String Methods)"
      ]
    },
    {
      "cell_type": "code",
      "metadata": {
        "colab": {
          "base_uri": "https://localhost:8080/"
        },
        "id": "rQIBtq_iOC4U",
        "outputId": "6975a259-26c8-4eef-f046-feb86464cb1e"
      },
      "source": [
        "s = 'heLLo pyTHon!'  # str 클래스의 인스턴스 생성\r\n",
        "print(s.capitalize())\r\n",
        "#> str.capitalize(): 문자열의 첫글자만 대문자로 변환, 나머지는 모두 소문자로 변환한 \"문자열을 리턴.\""
      ],
      "execution_count": 4,
      "outputs": [
        {
          "output_type": "stream",
          "text": [
            "Hello python!\n"
          ],
          "name": "stdout"
        }
      ]
    },
    {
      "cell_type": "code",
      "metadata": {
        "colab": {
          "base_uri": "https://localhost:8080/"
        },
        "id": "FNN0sJk-Rg23",
        "outputId": "503b1ba3-df62-4b7c-89f9-3643e3905a19"
      },
      "source": [
        "print(s)\r\n",
        "#> str 클래스의 메서드들은 원본 문자열을 변경하지 않고, 새로운 문자열을 생성해서 리턴함!\r\n",
        "# str 객체: 변경 불가능한 객체(immutable object)."
      ],
      "execution_count": 5,
      "outputs": [
        {
          "output_type": "stream",
          "text": [
            "heLLo pyTHon!\n"
          ],
          "name": "stdout"
        }
      ]
    },
    {
      "cell_type": "code",
      "metadata": {
        "colab": {
          "base_uri": "https://localhost:8080/"
        },
        "id": "xalQQaeDP2Mz",
        "outputId": "ebf965f0-266e-4959-d5a1-c1eac9b45c3e"
      },
      "source": [
        "# str(문자열): 문자들을 원소로 갖는 tuple\r\n",
        "print(s[:5])  # slicing\r\n",
        "print(s[-3:])\r\n",
        "print('py' in s)"
      ],
      "execution_count": 9,
      "outputs": [
        {
          "output_type": "stream",
          "text": [
            "heLLo\n",
            "on!\n",
            "True\n"
          ],
          "name": "stdout"
        }
      ]
    },
    {
      "cell_type": "code",
      "metadata": {
        "colab": {
          "base_uri": "https://localhost:8080/"
        },
        "id": "VEehY13iXanT",
        "outputId": "0ea957c9-2937-4108-9382-39c36cf2257a"
      },
      "source": [
        "print(s.title())\r\n",
        "#> str.title(): 문자열에서 각 단어의 첫글자만 대문자로, 나머지는 소문자로 변환한 문자열을 리턴."
      ],
      "execution_count": 12,
      "outputs": [
        {
          "output_type": "stream",
          "text": [
            "Hello Python!\n"
          ],
          "name": "stdout"
        }
      ]
    },
    {
      "cell_type": "code",
      "metadata": {
        "colab": {
          "base_uri": "https://localhost:8080/"
        },
        "id": "Mc19ZIl2XzCq",
        "outputId": "f11e07f0-9882-4b64-e138-a0a7b81048c9"
      },
      "source": [
        "print(s.upper())\r\n",
        "#> str.upper(): 문자열의 모든 문자들을 대문자로 변환해서 리턴."
      ],
      "execution_count": 13,
      "outputs": [
        {
          "output_type": "stream",
          "text": [
            "HELLO PYTHON!\n"
          ],
          "name": "stdout"
        }
      ]
    },
    {
      "cell_type": "code",
      "metadata": {
        "colab": {
          "base_uri": "https://localhost:8080/"
        },
        "id": "9OVCW_deYRG7",
        "outputId": "7797541f-8646-4d42-8587-bf483d86c153"
      },
      "source": [
        "print(s.lower())\r\n",
        "#> str.lower(): 문자열의 모든 문자들을 소문자로 변환해서 리턴."
      ],
      "execution_count": 15,
      "outputs": [
        {
          "output_type": "stream",
          "text": [
            "hello python!\n"
          ],
          "name": "stdout"
        }
      ]
    },
    {
      "cell_type": "code",
      "metadata": {
        "colab": {
          "base_uri": "https://localhost:8080/"
        },
        "id": "_uJ7Kdf7Yi2x",
        "outputId": "e7dbf7bb-90bb-448c-e19a-13a6e636cd50"
      },
      "source": [
        "print(s)\r\n",
        "print(s.count('L'))\r\n",
        "print(s.count('py'))\r\n",
        "#> str.count(sub): 문자열에서 sub 문자열이 몇 번 나오는지를 리턴."
      ],
      "execution_count": 18,
      "outputs": [
        {
          "output_type": "stream",
          "text": [
            "heLLo pyTHon!\n",
            "2\n",
            "1\n"
          ],
          "name": "stdout"
        }
      ]
    },
    {
      "cell_type": "code",
      "metadata": {
        "id": "dH6T4o4cZzFj"
      },
      "source": [
        "url = 'https://www.google.com/'"
      ],
      "execution_count": 19,
      "outputs": []
    },
    {
      "cell_type": "code",
      "metadata": {
        "colab": {
          "base_uri": "https://localhost:8080/"
        },
        "id": "O0OnWTKeaFCZ",
        "outputId": "335b34c1-a7dc-4864-8157-0516e0b8044f"
      },
      "source": [
        "print(url.startswith('http'))\r\n",
        "#> str.startswith(prefix): 문자열이 prefix로 시작하면 True, 그렇지 않으면 False를 리턴."
      ],
      "execution_count": 22,
      "outputs": [
        {
          "output_type": "stream",
          "text": [
            "True\n"
          ],
          "name": "stdout"
        }
      ]
    },
    {
      "cell_type": "code",
      "metadata": {
        "id": "D68hgPqPbHPr"
      },
      "source": [
        "phone = '010-1234-0000'"
      ],
      "execution_count": 23,
      "outputs": []
    },
    {
      "cell_type": "code",
      "metadata": {
        "colab": {
          "base_uri": "https://localhost:8080/"
        },
        "id": "k1PO3H5Fb1DH",
        "outputId": "4122ca53-901a-426c-8dd5-002d6352a3b6"
      },
      "source": [
        "print(phone.endswith('0000'))\r\n",
        "#> str.endswith(suffix): 문자열이 suffix로 끝나면 True, 그렇지 않으면 False를 리턴."
      ],
      "execution_count": 26,
      "outputs": [
        {
          "output_type": "stream",
          "text": [
            "True\n"
          ],
          "name": "stdout"
        }
      ]
    },
    {
      "cell_type": "code",
      "metadata": {
        "id": "gOty2J5bcR9y"
      },
      "source": [
        "email = 'abc.def@gmail.com'"
      ],
      "execution_count": 27,
      "outputs": []
    },
    {
      "cell_type": "code",
      "metadata": {
        "colab": {
          "base_uri": "https://localhost:8080/"
        },
        "id": "9GpaeOL8duzx",
        "outputId": "bec8b6e4-da8c-4d30-d774-2fbc784969e4"
      },
      "source": [
        "idx = email.find('@')\r\n",
        "#> str.find(sub): 문자열에서 sub 문자열이 처음 나오는 인덱스를 리턴. \r\n",
        "# 문자열에서 sub를 찾을 수 없으면 -1을 리턴.\r\n",
        "print(idx)\r\n",
        "print(email[:idx])"
      ],
      "execution_count": 29,
      "outputs": [
        {
          "output_type": "stream",
          "text": [
            "7\n",
            "abc.def\n"
          ],
          "name": "stdout"
        }
      ]
    },
    {
      "cell_type": "markdown",
      "metadata": {
        "id": "S_hTl1FEgnY7"
      },
      "source": [
        "\r\n",
        "*   `str.format(*args, **kwargs) -> str`\r\n",
        "    *   `*args`: variable-length argument(가변 길이 인수)\r\n",
        "    *   `**kwargs`: variable-length keyword argument(가변 길이 키워드 인수). \r\n",
        "        *   `p1=v1, p2=v2, ...`\r\n"
      ]
    },
    {
      "cell_type": "code",
      "metadata": {
        "colab": {
          "base_uri": "https://localhost:8080/",
          "height": 38
        },
        "id": "47PHfQ3ihqIV",
        "outputId": "54f53e9f-41b4-4c93-ebb3-44869d203bf6"
      },
      "source": [
        "'2 x 3 = {}'.format(2*3)"
      ],
      "execution_count": 32,
      "outputs": [
        {
          "output_type": "execute_result",
          "data": {
            "application/vnd.google.colaboratory.intrinsic+json": {
              "type": "string"
            },
            "text/plain": [
              "'2 x 3 = 6'"
            ]
          },
          "metadata": {
            "tags": []
          },
          "execution_count": 32
        }
      ]
    },
    {
      "cell_type": "code",
      "metadata": {
        "colab": {
          "base_uri": "https://localhost:8080/",
          "height": 38
        },
        "id": "jzgF5Dg4e36c",
        "outputId": "d65e32bb-35c7-4346-eb21-a2b137bdab40"
      },
      "source": [
        "'{} x {} = {}'.format(2, 3, 2*3)"
      ],
      "execution_count": 31,
      "outputs": [
        {
          "output_type": "execute_result",
          "data": {
            "application/vnd.google.colaboratory.intrinsic+json": {
              "type": "string"
            },
            "text/plain": [
              "'2 x 3 = 6'"
            ]
          },
          "metadata": {
            "tags": []
          },
          "execution_count": 31
        }
      ]
    },
    {
      "cell_type": "code",
      "metadata": {
        "colab": {
          "base_uri": "https://localhost:8080/",
          "height": 38
        },
        "id": "CKtUoL_7lebC",
        "outputId": "43404060-3ab8-4575-83ac-b64641b0729f"
      },
      "source": [
        "'{0} x {1} = {2}'.format(2, 3, 2*3)"
      ],
      "execution_count": 34,
      "outputs": [
        {
          "output_type": "execute_result",
          "data": {
            "application/vnd.google.colaboratory.intrinsic+json": {
              "type": "string"
            },
            "text/plain": [
              "'2 x 3 = 6'"
            ]
          },
          "metadata": {
            "tags": []
          },
          "execution_count": 34
        }
      ]
    },
    {
      "cell_type": "code",
      "metadata": {
        "colab": {
          "base_uri": "https://localhost:8080/",
          "height": 38
        },
        "id": "gb79H5rMlzqS",
        "outputId": "60cd29ab-4085-49cb-955f-14bb4c1a193c"
      },
      "source": [
        "'{1} x {2} = {0}'.format(2*3, 2, 3)"
      ],
      "execution_count": 35,
      "outputs": [
        {
          "output_type": "execute_result",
          "data": {
            "application/vnd.google.colaboratory.intrinsic+json": {
              "type": "string"
            },
            "text/plain": [
              "'2 x 3 = 6'"
            ]
          },
          "metadata": {
            "tags": []
          },
          "execution_count": 35
        }
      ]
    },
    {
      "cell_type": "code",
      "metadata": {
        "colab": {
          "base_uri": "https://localhost:8080/",
          "height": 38
        },
        "id": "c_KmNotmmU86",
        "outputId": "67a71b39-fe6c-47ff-ce0a-ad9b10b32a5a"
      },
      "source": [
        "'{0} x {1}, {0} x {2}'.format(2, 3, 4)"
      ],
      "execution_count": 36,
      "outputs": [
        {
          "output_type": "execute_result",
          "data": {
            "application/vnd.google.colaboratory.intrinsic+json": {
              "type": "string"
            },
            "text/plain": [
              "'2 x 3, 2 x 4'"
            ]
          },
          "metadata": {
            "tags": []
          },
          "execution_count": 36
        }
      ]
    },
    {
      "cell_type": "code",
      "metadata": {
        "colab": {
          "base_uri": "https://localhost:8080/",
          "height": 38
        },
        "id": "PrJ6Foetmzfy",
        "outputId": "2f30ee58-0e9c-40f4-ca23-a80d34dfae5b"
      },
      "source": [
        "'{left} x {right} = {result}'.format(left=2, right=3, result=2*3)"
      ],
      "execution_count": 37,
      "outputs": [
        {
          "output_type": "execute_result",
          "data": {
            "application/vnd.google.colaboratory.intrinsic+json": {
              "type": "string"
            },
            "text/plain": [
              "'2 x 3 = 6'"
            ]
          },
          "metadata": {
            "tags": []
          },
          "execution_count": 37
        }
      ]
    },
    {
      "cell_type": "code",
      "metadata": {
        "colab": {
          "base_uri": "https://localhost:8080/",
          "height": 38
        },
        "id": "RjD6ZVhpnOUS",
        "outputId": "31c7e0e4-062e-4186-f7ff-ebcc851bef87"
      },
      "source": [
        "left = 2\r\n",
        "right = 3\r\n",
        "f'{left} x {right} = {left * right}'"
      ],
      "execution_count": 38,
      "outputs": [
        {
          "output_type": "execute_result",
          "data": {
            "application/vnd.google.colaboratory.intrinsic+json": {
              "type": "string"
            },
            "text/plain": [
              "'2 x 3 = 6'"
            ]
          },
          "metadata": {
            "tags": []
          },
          "execution_count": 38
        }
      ]
    },
    {
      "cell_type": "markdown",
      "metadata": {
        "id": "VyL-JxWlp62X"
      },
      "source": [
        "* str.split(sep=None): str -> list"
      ]
    },
    {
      "cell_type": "code",
      "metadata": {
        "id": "KThfcGfLnsqk"
      },
      "source": [
        "sentence = 'The Holocaust in Slovakia was the systematic dispossession, deportation, and murder of Jews in the Slovak State, a client state of Nazi Germany.'"
      ],
      "execution_count": 39,
      "outputs": []
    },
    {
      "cell_type": "code",
      "metadata": {
        "colab": {
          "base_uri": "https://localhost:8080/"
        },
        "id": "Q2qMJVaZn7CB",
        "outputId": "2374f66c-23ce-44b9-c246-6f557d2ea211"
      },
      "source": [
        "sentence.split()\r\n",
        "#> str.split(): 문자열을 공백 문자열(space, tab, enter)로 쪼개서 리스트를 생성하고 리턴."
      ],
      "execution_count": 40,
      "outputs": [
        {
          "output_type": "execute_result",
          "data": {
            "text/plain": [
              "['The',\n",
              " 'Holocaust',\n",
              " 'in',\n",
              " 'Slovakia',\n",
              " 'was',\n",
              " 'the',\n",
              " 'systematic',\n",
              " 'dispossession,',\n",
              " 'deportation,',\n",
              " 'and',\n",
              " 'murder',\n",
              " 'of',\n",
              " 'Jews',\n",
              " 'in',\n",
              " 'the',\n",
              " 'Slovak',\n",
              " 'State,',\n",
              " 'a',\n",
              " 'client',\n",
              " 'state',\n",
              " 'of',\n",
              " 'Nazi',\n",
              " 'Germany.']"
            ]
          },
          "metadata": {
            "tags": []
          },
          "execution_count": 40
        }
      ]
    },
    {
      "cell_type": "code",
      "metadata": {
        "id": "xy_e66XXpRLT"
      },
      "source": [
        "date = '2021-01-27'"
      ],
      "execution_count": 41,
      "outputs": []
    },
    {
      "cell_type": "code",
      "metadata": {
        "colab": {
          "base_uri": "https://localhost:8080/"
        },
        "id": "9HcMITLmpXzh",
        "outputId": "f86eb8ee-56dd-488a-9fa8-155b4e9cc03c"
      },
      "source": [
        "date.split('-')\r\n",
        "#> str.split(sep): 문자열을 sep로 쪼개서 리스트를 리턴."
      ],
      "execution_count": 42,
      "outputs": [
        {
          "output_type": "execute_result",
          "data": {
            "text/plain": [
              "['2021', '01', '27']"
            ]
          },
          "metadata": {
            "tags": []
          },
          "execution_count": 42
        }
      ]
    },
    {
      "cell_type": "code",
      "metadata": {
        "colab": {
          "base_uri": "https://localhost:8080/"
        },
        "id": "xPBHpEJGpsBz",
        "outputId": "33ad96de-c2e6-42a9-e864-10285509ffb6"
      },
      "source": [
        "time = '16:02:30'\r\n",
        "time.split(sep=':')"
      ],
      "execution_count": 43,
      "outputs": [
        {
          "output_type": "execute_result",
          "data": {
            "text/plain": [
              "['16', '02', '30']"
            ]
          },
          "metadata": {
            "tags": []
          },
          "execution_count": 43
        }
      ]
    },
    {
      "cell_type": "markdown",
      "metadata": {
        "id": "krg9Nqt2qLTH"
      },
      "source": [
        "*   str.join(iterable): list -> str"
      ]
    },
    {
      "cell_type": "code",
      "metadata": {
        "colab": {
          "base_uri": "https://localhost:8080/",
          "height": 38
        },
        "id": "MlMbeSarqJva",
        "outputId": "583fa0e3-184e-4a83-fa2d-18a9322713e3"
      },
      "source": [
        "':'.join(['16', '02', '30'])"
      ],
      "execution_count": 44,
      "outputs": [
        {
          "output_type": "execute_result",
          "data": {
            "application/vnd.google.colaboratory.intrinsic+json": {
              "type": "string"
            },
            "text/plain": [
              "'16:02:30'"
            ]
          },
          "metadata": {
            "tags": []
          },
          "execution_count": 44
        }
      ]
    },
    {
      "cell_type": "code",
      "metadata": {
        "colab": {
          "base_uri": "https://localhost:8080/",
          "height": 38
        },
        "id": "IT_OdRbQq-1g",
        "outputId": "36721d54-ecb3-4a0c-adb1-c3295e55eab8"
      },
      "source": [
        "'-'.join(['2021', '1', '27'])"
      ],
      "execution_count": 47,
      "outputs": [
        {
          "output_type": "execute_result",
          "data": {
            "application/vnd.google.colaboratory.intrinsic+json": {
              "type": "string"
            },
            "text/plain": [
              "'2021-1-27'"
            ]
          },
          "metadata": {
            "tags": []
          },
          "execution_count": 47
        }
      ]
    },
    {
      "cell_type": "code",
      "metadata": {
        "colab": {
          "base_uri": "https://localhost:8080/",
          "height": 38
        },
        "id": "npiR01Yjrm2C",
        "outputId": "40eb6a80-a9df-475f-c4e7-a5586be6aa29"
      },
      "source": [
        "' '.join(['apple', 'banana', 'cherry'])"
      ],
      "execution_count": 48,
      "outputs": [
        {
          "output_type": "execute_result",
          "data": {
            "application/vnd.google.colaboratory.intrinsic+json": {
              "type": "string"
            },
            "text/plain": [
              "'apple banana cherry'"
            ]
          },
          "metadata": {
            "tags": []
          },
          "execution_count": 48
        }
      ]
    },
    {
      "cell_type": "code",
      "metadata": {
        "id": "5_1-6LCBrseL"
      },
      "source": [
        "s = '    Hello, Python!     안녕하세요...    '"
      ],
      "execution_count": 49,
      "outputs": []
    },
    {
      "cell_type": "code",
      "metadata": {
        "colab": {
          "base_uri": "https://localhost:8080/"
        },
        "id": "NQaJR5z0sbLZ",
        "outputId": "13d14955-f813-4574-a047-1685e74b45fe"
      },
      "source": [
        "print(s)\r\n",
        "print(s.lstrip())\r\n",
        "#> str.lstrip(): 문자열의 왼쪽(시작 부분)에 있는 모든 공백 문자들(space, tab, enter)을 제거.\r\n",
        "print(s.rstrip())\r\n",
        "#> str.rstrip(): 문자열의 오른쪽(끝나는 부분)에 있는 모든 공백 문자들을 제거.\r\n",
        "print(s.strip())\r\n",
        "#> str.strip(): 문자열 시작과 끝에 있는 모든 공백 문자들을 제거."
      ],
      "execution_count": 53,
      "outputs": [
        {
          "output_type": "stream",
          "text": [
            "    Hello, Python!     안녕하세요...    \n",
            "Hello, Python!     안녕하세요...    \n",
            "    Hello, Python!     안녕하세요...\n",
            "Hello, Python!     안녕하세요...\n"
          ],
          "name": "stdout"
        }
      ]
    },
    {
      "cell_type": "code",
      "metadata": {
        "colab": {
          "base_uri": "https://localhost:8080/",
          "height": 38
        },
        "id": "L_d-4LSNuKw6",
        "outputId": "bf415310-52fc-4d68-be35-382760e4d0df"
      },
      "source": [
        "'Hello. Python. 안녕.'.replace('.', '')\r\n",
        "# str.replace(old, new): 문자열 str에서 old부분을 new로 대체한 문자열을 리턴."
      ],
      "execution_count": 54,
      "outputs": [
        {
          "output_type": "execute_result",
          "data": {
            "application/vnd.google.colaboratory.intrinsic+json": {
              "type": "string"
            },
            "text/plain": [
              "'Hello Python 안녕'"
            ]
          },
          "metadata": {
            "tags": []
          },
          "execution_count": 54
        }
      ]
    }
  ]
}