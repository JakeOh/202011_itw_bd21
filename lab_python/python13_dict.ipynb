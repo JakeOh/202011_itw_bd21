{
  "nbformat": 4,
  "nbformat_minor": 0,
  "metadata": {
    "colab": {
      "name": "python13_dict.ipynb",
      "provenance": [],
      "collapsed_sections": [],
      "authorship_tag": "ABX9TyMi5Yhsx/alogGhriD/85tg",
      "include_colab_link": true
    },
    "kernelspec": {
      "name": "python3",
      "display_name": "Python 3"
    }
  },
  "cells": [
    {
      "cell_type": "markdown",
      "metadata": {
        "id": "view-in-github",
        "colab_type": "text"
      },
      "source": [
        "<a href=\"https://colab.research.google.com/github/JakeOh/202011_itw_bd21/blob/main/lab_python/python13_dict.ipynb\" target=\"_parent\"><img src=\"https://colab.research.google.com/assets/colab-badge.svg\" alt=\"Open In Colab\"/></a>"
      ]
    },
    {
      "cell_type": "markdown",
      "metadata": {
        "id": "OeIzbEIqGiym"
      },
      "source": [
        "# dict"
      ]
    },
    {
      "cell_type": "markdown",
      "metadata": {
        "id": "BnqR33znGl_Q"
      },
      "source": [
        "**dict**\r\n",
        "\r\n",
        "* 사전(dictionary) 형식의 데이터 타입\r\n",
        "* 원소들을 key:value 쌍으로 (mapping 시켜서) 저장하는 데이터 타입\r\n",
        "* key는 중복되지 않는 값이어야 함.\r\n",
        "* key의 역할은 list나 tuple에서 인덱스(index)와 같이 유일한 한개의 값을 접근하기 위한 용도로 사용."
      ]
    },
    {
      "cell_type": "code",
      "metadata": {
        "colab": {
          "base_uri": "https://localhost:8080/"
        },
        "id": "azNR7PZKGI6Q",
        "outputId": "6c8ede44-bac0-47fd-ebc4-04b84f754e79"
      },
      "source": [
        "students = {1: '강동호', 2: '고동완', 10: '이규섭', 12: '이승우'}\r\n",
        "print(students)\r\n",
        "print(type(students))"
      ],
      "execution_count": null,
      "outputs": [
        {
          "output_type": "stream",
          "text": [
            "{1: '강동호', 2: '고동완', 10: '이규섭', 12: '이승우'}\n",
            "<class 'dict'>\n"
          ],
          "name": "stdout"
        }
      ]
    },
    {
      "cell_type": "markdown",
      "metadata": {
        "id": "dOOOoNc6JBjm"
      },
      "source": [
        "dict에서 key를 사용해서 원소의 값(value)를 찾는 방법: `dict_name[key]`"
      ]
    },
    {
      "cell_type": "code",
      "metadata": {
        "colab": {
          "base_uri": "https://localhost:8080/"
        },
        "id": "TxkGAdvWIir5",
        "outputId": "ecb192db-8f32-45fa-fd18-6c4eac38b3d9"
      },
      "source": [
        "print(students[1])"
      ],
      "execution_count": null,
      "outputs": [
        {
          "output_type": "stream",
          "text": [
            "강동호\n"
          ],
          "name": "stdout"
        }
      ]
    },
    {
      "cell_type": "code",
      "metadata": {
        "colab": {
          "base_uri": "https://localhost:8080/"
        },
        "id": "aG37YButJrR_",
        "outputId": "7c883835-e424-474f-b272-2c748da66c48"
      },
      "source": [
        "dong_ho = {'name': '강동호', 'age': 36, 'height': 175}\r\n",
        "print(dong_ho)\r\n",
        "print(dong_ho['name'])\r\n",
        "print(dong_ho['age'])\r\n",
        "print(dong_ho['height'])"
      ],
      "execution_count": null,
      "outputs": [
        {
          "output_type": "stream",
          "text": [
            "{'name': '강동호', 'age': 36, 'height': 175}\n",
            "강동호\n",
            "36\n",
            "175\n"
          ],
          "name": "stdout"
        }
      ]
    },
    {
      "cell_type": "code",
      "metadata": {
        "colab": {
          "base_uri": "https://localhost:8080/"
        },
        "id": "IEu21BkYADCT",
        "outputId": "b2411604-bf45-4d46-c84b-a2173eaaca1b"
      },
      "source": [
        "employees = {100: 'King', 101: 'Scott', 200: 'Allen', 100: 'Tiger'}\r\n",
        "print(employees)\r\n",
        "#> dict에서 key는 유일한 값이어야 함."
      ],
      "execution_count": null,
      "outputs": [
        {
          "output_type": "stream",
          "text": [
            "{100: 'Tiger', 101: 'Scott', 200: 'Allen'}\n"
          ],
          "name": "stdout"
        }
      ]
    },
    {
      "cell_type": "markdown",
      "metadata": {
        "id": "dMfcIcfYBJjr"
      },
      "source": [
        "## dict의 메서드 - 기능"
      ]
    },
    {
      "cell_type": "code",
      "metadata": {
        "colab": {
          "base_uri": "https://localhost:8080/"
        },
        "id": "bCsKHnQ5BSbp",
        "outputId": "7d39e90a-f25a-4d73-e0d3-08ab2fd65dfa"
      },
      "source": [
        "k = employees.keys()  # dict의 key들만 알고 싶을 때\r\n",
        "print(k)"
      ],
      "execution_count": null,
      "outputs": [
        {
          "output_type": "stream",
          "text": [
            "dict_keys([100, 101, 200])\n"
          ],
          "name": "stdout"
        }
      ]
    },
    {
      "cell_type": "code",
      "metadata": {
        "colab": {
          "base_uri": "https://localhost:8080/"
        },
        "id": "zTMzVuwBB0Rr",
        "outputId": "02fbee46-5a22-4ecd-ca25-7ee2552b6558"
      },
      "source": [
        "v = employees.values()  # dict의 value들만 알고 싶을 때\r\n",
        "print(v)"
      ],
      "execution_count": null,
      "outputs": [
        {
          "output_type": "stream",
          "text": [
            "dict_values(['Tiger', 'Scott', 'Allen'])\n"
          ],
          "name": "stdout"
        }
      ]
    },
    {
      "cell_type": "code",
      "metadata": {
        "colab": {
          "base_uri": "https://localhost:8080/"
        },
        "id": "831eUpnlBYM1",
        "outputId": "6da749d7-5ff8-4266-e7e5-2e29344a7968"
      },
      "source": [
        "items = employees.items()  # (k, v) tuple들의 list\r\n",
        "print(items)"
      ],
      "execution_count": null,
      "outputs": [
        {
          "output_type": "stream",
          "text": [
            "dict_items([(100, 'Tiger'), (101, 'Scott'), (200, 'Allen')])\n"
          ],
          "name": "stdout"
        }
      ]
    },
    {
      "cell_type": "code",
      "metadata": {
        "colab": {
          "base_uri": "https://localhost:8080/"
        },
        "id": "pHyV81H1C-_D",
        "outputId": "f90b26fb-6c6e-457e-ce56-7a7fdb9fee7a"
      },
      "source": [
        "name = employees.get(300, 'No Value')\r\n",
        "print(name)\r\n",
        "\r\n",
        "# dict.get(key, default_value)\r\n",
        "# -> dict에서 key에 해당하는 value를 찾아서 리턴(반환).\r\n",
        "# -> 만약 key가 존재하지 않으면, default_value를 리턴(반환).\r\n",
        "# -> default_value argument를 전달하지 않은 경우에는 None이 리턴(반환)."
      ],
      "execution_count": null,
      "outputs": [
        {
          "output_type": "stream",
          "text": [
            "No Value\n"
          ],
          "name": "stdout"
        }
      ]
    },
    {
      "cell_type": "code",
      "metadata": {
        "colab": {
          "base_uri": "https://localhost:8080/"
        },
        "id": "v6d8nPVlE7xt",
        "outputId": "4ebc6cb1-0e4e-4347-a267-fae937ef0f14"
      },
      "source": [
        "name = employees[100]\r\n",
        "print(name)\r\n",
        "\r\n",
        "#> dict[key]를 사용할 때, 키가 존재하지 않으면 KeyError가 발생 - get() 메서드와의 차이점!"
      ],
      "execution_count": null,
      "outputs": [
        {
          "output_type": "stream",
          "text": [
            "Tiger\n"
          ],
          "name": "stdout"
        }
      ]
    },
    {
      "cell_type": "code",
      "metadata": {
        "colab": {
          "base_uri": "https://localhost:8080/"
        },
        "id": "5l_PFXl7Kk3b",
        "outputId": "c6bae30a-8c1e-41ee-8a0c-d843cfb7d6c6"
      },
      "source": [
        "# dict[key] = value: dict의 새로운 원소(key:value)를 추가/key에 해당하는 값을 변경\r\n",
        "employees[300] = '홍길동'\r\n",
        "print(employees)"
      ],
      "execution_count": null,
      "outputs": [
        {
          "output_type": "stream",
          "text": [
            "{100: 'Tiger', 101: 'Scott', 200: 'Allen', 300: '홍길동'}\n"
          ],
          "name": "stdout"
        }
      ]
    },
    {
      "cell_type": "code",
      "metadata": {
        "colab": {
          "base_uri": "https://localhost:8080/"
        },
        "id": "86BSLeEuLI4T",
        "outputId": "ddc61850-2891-4f87-8025-6a19e8142076"
      },
      "source": [
        "employees[300] = 'Gil-Dong'\r\n",
        "print(employees)"
      ],
      "execution_count": null,
      "outputs": [
        {
          "output_type": "stream",
          "text": [
            "{100: 'Tiger', 101: 'Scott', 200: 'Allen', 300: 'Gil-Dong'}\n"
          ],
          "name": "stdout"
        }
      ]
    },
    {
      "cell_type": "markdown",
      "metadata": {
        "id": "IH2kB7QRLlAK"
      },
      "source": [
        "## dict와 for loop"
      ]
    },
    {
      "cell_type": "code",
      "metadata": {
        "colab": {
          "base_uri": "https://localhost:8080/"
        },
        "id": "6oF6eC6PM_vq",
        "outputId": "3e33db1c-2c0b-4c6f-c291-6a9c2ff0db71"
      },
      "source": [
        "students = {1: 'abc', 10: 'def', 100: 'ghi'}\r\n",
        "print(students)"
      ],
      "execution_count": null,
      "outputs": [
        {
          "output_type": "stream",
          "text": [
            "{1: 'abc', 10: 'def', 100: 'ghi'}\n"
          ],
          "name": "stdout"
        }
      ]
    },
    {
      "cell_type": "markdown",
      "metadata": {
        "id": "yIUbfyu4L3iM"
      },
      "source": [
        "dict에서의 in 연산자"
      ]
    },
    {
      "cell_type": "code",
      "metadata": {
        "colab": {
          "base_uri": "https://localhost:8080/"
        },
        "id": "lO1f1SKVLOlz",
        "outputId": "8371e400-f1d9-4b90-8887-a0ffa086a1bc"
      },
      "source": [
        "print(1 in students)\r\n",
        "print('abc' in students)\r\n",
        "#> k in dict_name: k가 dict_name의 키로 존재하면 True, 그렇지 않으면 False"
      ],
      "execution_count": null,
      "outputs": [
        {
          "output_type": "stream",
          "text": [
            "True\n",
            "False\n"
          ],
          "name": "stdout"
        }
      ]
    },
    {
      "cell_type": "markdown",
      "metadata": {
        "id": "nRfeREEzNnAw"
      },
      "source": [
        "for-in 구문에서 dict 타입을 사용하면 dict의 key에 대해서 iteration을 수행함."
      ]
    },
    {
      "cell_type": "code",
      "metadata": {
        "colab": {
          "base_uri": "https://localhost:8080/"
        },
        "id": "gHO3nDxdM5bb",
        "outputId": "3a99f480-ea20-43f6-94e3-fbc824b04de6"
      },
      "source": [
        "for k in students:\r\n",
        "    print(k)"
      ],
      "execution_count": null,
      "outputs": [
        {
          "output_type": "stream",
          "text": [
            "1\n",
            "10\n",
            "100\n"
          ],
          "name": "stdout"
        }
      ]
    },
    {
      "cell_type": "code",
      "metadata": {
        "colab": {
          "base_uri": "https://localhost:8080/"
        },
        "id": "QCVUi-k3NLLx",
        "outputId": "f2184eb3-dbcd-445a-998d-e5f5f38881a5"
      },
      "source": [
        "for k in students:\r\n",
        "    print(k, ':', students[k])"
      ],
      "execution_count": null,
      "outputs": [
        {
          "output_type": "stream",
          "text": [
            "1 : abc\n",
            "10 : def\n",
            "100 : ghi\n"
          ],
          "name": "stdout"
        }
      ]
    },
    {
      "cell_type": "code",
      "metadata": {
        "colab": {
          "base_uri": "https://localhost:8080/"
        },
        "id": "m4ZxA1hLOUMa",
        "outputId": "4cb2fef6-5e8d-464c-947e-3b2a6b8b8b70"
      },
      "source": [
        "for v in students.values():\r\n",
        "    print(v)"
      ],
      "execution_count": null,
      "outputs": [
        {
          "output_type": "stream",
          "text": [
            "abc\n",
            "def\n",
            "ghi\n"
          ],
          "name": "stdout"
        }
      ]
    },
    {
      "cell_type": "code",
      "metadata": {
        "colab": {
          "base_uri": "https://localhost:8080/"
        },
        "id": "Yd7ls8HlOBcJ",
        "outputId": "c925436e-a498-4c31-9e1e-eb304d698473"
      },
      "source": [
        "for k, v in students.items():\r\n",
        "    print(k, v)"
      ],
      "execution_count": null,
      "outputs": [
        {
          "output_type": "stream",
          "text": [
            "1 abc\n",
            "10 def\n",
            "100 ghi\n"
          ],
          "name": "stdout"
        }
      ]
    },
    {
      "cell_type": "code",
      "metadata": {
        "colab": {
          "base_uri": "https://localhost:8080/"
        },
        "id": "eOCAcaQ1Q1rj",
        "outputId": "5cbf2d71-a2cf-4442-cb9c-feede15e199a"
      },
      "source": [
        "languages = {'Python': 6, 'R': 1, 'SQL': 3}\r\n",
        "print(languages)"
      ],
      "execution_count": null,
      "outputs": [
        {
          "output_type": "stream",
          "text": [
            "{'Python': 6, 'R': 1, 'SQL': 3}\n"
          ],
          "name": "stdout"
        }
      ]
    },
    {
      "cell_type": "code",
      "metadata": {
        "colab": {
          "base_uri": "https://localhost:8080/"
        },
        "id": "F_op0ogFQ7Qa",
        "outputId": "ab1a5831-ede8-4cf3-d354-9138f59a4ae4"
      },
      "source": [
        "# key들만 iteration\r\n",
        "for k in languages:\r\n",
        "    print(k)"
      ],
      "execution_count": null,
      "outputs": [
        {
          "output_type": "stream",
          "text": [
            "Python\n",
            "R\n",
            "SQL\n"
          ],
          "name": "stdout"
        }
      ]
    },
    {
      "cell_type": "code",
      "metadata": {
        "colab": {
          "base_uri": "https://localhost:8080/"
        },
        "id": "n_ihntDmRJ8k",
        "outputId": "85d083af-30d0-4314-a1c5-7bad0b6291fc"
      },
      "source": [
        "# value들만 iteration\r\n",
        "for v in languages.values():\r\n",
        "    print(v)"
      ],
      "execution_count": null,
      "outputs": [
        {
          "output_type": "stream",
          "text": [
            "6\n",
            "1\n",
            "3\n"
          ],
          "name": "stdout"
        }
      ]
    },
    {
      "cell_type": "code",
      "metadata": {
        "colab": {
          "base_uri": "https://localhost:8080/"
        },
        "id": "lNX52_QdRLhz",
        "outputId": "91b4b523-a653-4401-e379-59d3ec9a89b6"
      },
      "source": [
        "# item(k:v)들을 iteration\r\n",
        "for k, v in languages.items():\r\n",
        "    print(k, v)"
      ],
      "execution_count": null,
      "outputs": [
        {
          "output_type": "stream",
          "text": [
            "Python 6\n",
            "R 1\n",
            "SQL 3\n"
          ],
          "name": "stdout"
        }
      ]
    },
    {
      "cell_type": "code",
      "metadata": {
        "colab": {
          "base_uri": "https://localhost:8080/"
        },
        "id": "76ZputeHSeFi",
        "outputId": "20a59b6c-d9b3-40e8-da1f-3e67089269cf"
      },
      "source": [
        "iris = {'sepal_length': [1.0, 1.5, 2.0],\r\n",
        "        'sepal_width': [0.2, 0.3, 0.5],\r\n",
        "        'species': ['setosa', 'versicolor', 'virginica']}\r\n",
        "print(iris)"
      ],
      "execution_count": null,
      "outputs": [
        {
          "output_type": "stream",
          "text": [
            "{'sepal_length': [1.0, 1.5, 2.0], 'sepal_width': [0.2, 0.3, 0.5], 'species': ['setosa', 'versicolor', 'virginica']}\n"
          ],
          "name": "stdout"
        }
      ]
    },
    {
      "cell_type": "code",
      "metadata": {
        "colab": {
          "base_uri": "https://localhost:8080/"
        },
        "id": "Jao7z-i9TiVi",
        "outputId": "da2dacff-a9cb-4da2-875c-bb767bed4913"
      },
      "source": [
        "print(iris['species'])\r\n",
        "print(iris['species'][0])"
      ],
      "execution_count": null,
      "outputs": [
        {
          "output_type": "stream",
          "text": [
            "['setosa', 'versicolor', 'virginica']\n",
            "setosa\n"
          ],
          "name": "stdout"
        }
      ]
    },
    {
      "cell_type": "code",
      "metadata": {
        "colab": {
          "base_uri": "https://localhost:8080/"
        },
        "id": "2qvWe3RyYbkz",
        "outputId": "8b3d02c9-df56-422f-d38a-e467068feffa"
      },
      "source": [
        "contact = {\r\n",
        "    'name': '홍길동',\r\n",
        "    'phone': ['010-1234-5678', '02-8989-5678'],\r\n",
        "    'email': {\r\n",
        "        'company': 'hgd@itwill.co.kr',\r\n",
        "        'personal': 'hgd@gmail.com'\r\n",
        "    },\r\n",
        "    'age': 16\r\n",
        "}\r\n",
        "print(contact)"
      ],
      "execution_count": null,
      "outputs": [
        {
          "output_type": "stream",
          "text": [
            "{'name': '홍길동', 'phone': ['010-1234-5678', '02-8989-5678'], 'email': {'company': 'hgd@itwill.co.kr', 'personal': 'hgd@gmail.com'}, 'age': 16}\n"
          ],
          "name": "stdout"
        }
      ]
    },
    {
      "cell_type": "code",
      "metadata": {
        "colab": {
          "base_uri": "https://localhost:8080/"
        },
        "id": "BKoK6gXFZh5S",
        "outputId": "a9cd0a71-130a-4f8d-b512-857e69fac7d7"
      },
      "source": [
        "for k in contact:\r\n",
        "    print(k)"
      ],
      "execution_count": null,
      "outputs": [
        {
          "output_type": "stream",
          "text": [
            "name\n",
            "phone\n",
            "email\n",
            "age\n"
          ],
          "name": "stdout"
        }
      ]
    },
    {
      "cell_type": "code",
      "metadata": {
        "colab": {
          "base_uri": "https://localhost:8080/"
        },
        "id": "n8q3jKt2Zz06",
        "outputId": "1785080f-2384-45f5-c933-35e62e202684"
      },
      "source": [
        "for v in contact.values():\r\n",
        "    print(v)"
      ],
      "execution_count": null,
      "outputs": [
        {
          "output_type": "stream",
          "text": [
            "홍길동\n",
            "['010-1234-5678', '02-8989-5678']\n",
            "{'company': 'hgd@itwill.co.kr', 'personal': 'hgd@gmail.com'}\n",
            "16\n"
          ],
          "name": "stdout"
        }
      ]
    },
    {
      "cell_type": "code",
      "metadata": {
        "colab": {
          "base_uri": "https://localhost:8080/"
        },
        "id": "M8n-bh5eZ5UB",
        "outputId": "68a4c12e-295a-4c4f-f85f-72d74e9d70a3"
      },
      "source": [
        "for k, v in contact.items():\r\n",
        "    print(k, ':', v, ':', type(v))"
      ],
      "execution_count": null,
      "outputs": [
        {
          "output_type": "stream",
          "text": [
            "name : 홍길동 : <class 'str'>\n",
            "phone : ['010-1234-5678', '02-8989-5678'] : <class 'list'>\n",
            "email : {'company': 'hgd@itwill.co.kr', 'personal': 'hgd@gmail.com'} : <class 'dict'>\n",
            "age : 16 : <class 'int'>\n"
          ],
          "name": "stdout"
        }
      ]
    },
    {
      "cell_type": "code",
      "metadata": {
        "colab": {
          "base_uri": "https://localhost:8080/"
        },
        "id": "urjTfflVagPi",
        "outputId": "b146004c-4f8b-4487-cde2-c6cad7ecb64d"
      },
      "source": [
        "print(contact['name'])\r\n",
        "print(contact['phone'][0])\r\n",
        "print(contact['email']['personal'])"
      ],
      "execution_count": null,
      "outputs": [
        {
          "output_type": "stream",
          "text": [
            "홍길동\n",
            "010-1234-5678\n",
            "hgd@gmail.com\n"
          ],
          "name": "stdout"
        }
      ]
    },
    {
      "cell_type": "markdown",
      "metadata": {
        "id": "CVB8z_IobmGq"
      },
      "source": [
        "## Dictionary Comprehension"
      ]
    },
    {
      "cell_type": "code",
      "metadata": {
        "colab": {
          "base_uri": "https://localhost:8080/"
        },
        "id": "2GpV86vBbtJx",
        "outputId": "409c8168-14e9-411e-c636-f0267370f8d3"
      },
      "source": [
        "emp_no = [101, 102, 201, 202]\r\n",
        "emp_name = ['Scott', 'King', 'Allen', 'Tiger']\r\n",
        "\r\n",
        "# emp_no를 key, emp_name을 value로 하는 dict 객체 employees 생성.\r\n",
        "\r\n",
        "# 1) empty dict 생성\r\n",
        "# employees = dict()\r\n",
        "employees = {}\r\n",
        "print(employees)\r\n",
        "\r\n",
        "# 2) emp_no, emp_name을 반복하면서, employees[k] = v\r\n",
        "for i in range(4):\r\n",
        "    # print(emp_no[i], emp_name[i])\r\n",
        "    employees[emp_no[i]] = emp_name[i]\r\n",
        "\r\n",
        "# 3) 확인\r\n",
        "print(employees)"
      ],
      "execution_count": null,
      "outputs": [
        {
          "output_type": "stream",
          "text": [
            "{}\n",
            "{101: 'Scott', 102: 'King', 201: 'Allen', 202: 'Tiger'}\n"
          ],
          "name": "stdout"
        }
      ]
    },
    {
      "cell_type": "code",
      "metadata": {
        "colab": {
          "base_uri": "https://localhost:8080/"
        },
        "id": "-lSWjvSIe0Pq",
        "outputId": "6eb98695-1e60-416b-ae39-d605b30eb4b0"
      },
      "source": [
        "for x in zip(emp_no, emp_name):\r\n",
        "    print(x)"
      ],
      "execution_count": null,
      "outputs": [
        {
          "output_type": "stream",
          "text": [
            "(101, 'Scott')\n",
            "(102, 'King')\n",
            "(201, 'Allen')\n",
            "(202, 'Tiger')\n"
          ],
          "name": "stdout"
        }
      ]
    },
    {
      "cell_type": "code",
      "metadata": {
        "colab": {
          "base_uri": "https://localhost:8080/"
        },
        "id": "u2Zu1Wcqe57x",
        "outputId": "85151ea7-5dbe-46d0-eca6-338193a1ece3"
      },
      "source": [
        "for k, v in zip(emp_no, emp_name):\r\n",
        "    print(k, v)"
      ],
      "execution_count": null,
      "outputs": [
        {
          "output_type": "stream",
          "text": [
            "101 Scott\n",
            "102 King\n",
            "201 Allen\n",
            "202 Tiger\n"
          ],
          "name": "stdout"
        }
      ]
    },
    {
      "cell_type": "code",
      "metadata": {
        "colab": {
          "base_uri": "https://localhost:8080/"
        },
        "id": "xktX5Fr_gDdR",
        "outputId": "096d4951-96b8-4f8c-fc4d-0d48975c0182"
      },
      "source": [
        "employees = {}\r\n",
        "for k, v in zip(emp_no, emp_name):\r\n",
        "    employees[k] = v\r\n",
        "\r\n",
        "print(employees)"
      ],
      "execution_count": null,
      "outputs": [
        {
          "output_type": "stream",
          "text": [
            "{101: 'Scott', 102: 'King', 201: 'Allen', 202: 'Tiger'}\n"
          ],
          "name": "stdout"
        }
      ]
    },
    {
      "cell_type": "code",
      "metadata": {
        "colab": {
          "base_uri": "https://localhost:8080/"
        },
        "id": "psXAIFNGgnUE",
        "outputId": "d4151b70-5616-411d-e466-d11e5b5cb788"
      },
      "source": [
        "employees = {k: v for k, v in zip(emp_no, emp_name)}\r\n",
        "print(employees)"
      ],
      "execution_count": null,
      "outputs": [
        {
          "output_type": "stream",
          "text": [
            "{101: 'Scott', 102: 'King', 201: 'Allen', 202: 'Tiger'}\n"
          ],
          "name": "stdout"
        }
      ]
    },
    {
      "cell_type": "code",
      "metadata": {
        "id": "fgTgZGVqze8L"
      },
      "source": [
        "fruits = ['apple', 'banana', 'cherry', 'dragon fruit']"
      ],
      "execution_count": 62,
      "outputs": []
    },
    {
      "cell_type": "markdown",
      "metadata": {
        "id": "SgAXq8HX0LFL"
      },
      "source": [
        "과일 이름을 dict의 key로, 과일 이름의 글자수를 dict의 value로 하는 dict 객체 생성"
      ]
    },
    {
      "cell_type": "code",
      "metadata": {
        "colab": {
          "base_uri": "https://localhost:8080/"
        },
        "id": "f2_Jq0mKz_CP",
        "outputId": "162f79a4-c8e9-4a1f-a6e2-3c91d56f8e70"
      },
      "source": [
        "fruit_lengths = {}  # empty dict\r\n",
        "for f in fruits:  # 리스트 fruits의 각 원소에 대해서 반복\r\n",
        "    fruit_lengths[f] = len(f)  # fruits의 원소를 key, fruits의 문자 개수를 value로 저장.\r\n",
        "\r\n",
        "print(fruit_lengths)"
      ],
      "execution_count": 63,
      "outputs": [
        {
          "output_type": "stream",
          "text": [
            "{'apple': 5, 'banana': 6, 'cherry': 6, 'dragon fruit': 12}\n"
          ],
          "name": "stdout"
        }
      ]
    },
    {
      "cell_type": "code",
      "metadata": {
        "colab": {
          "base_uri": "https://localhost:8080/"
        },
        "id": "GVDfX0aiz_kr",
        "outputId": "75f02b94-980d-4ef6-b21a-44c07b5d1f4e"
      },
      "source": [
        "fruit_lengths = {k: len(k) for k in fruits}\r\n",
        "print(fruit_lengths)"
      ],
      "execution_count": 64,
      "outputs": [
        {
          "output_type": "stream",
          "text": [
            "{'apple': 5, 'banana': 6, 'cherry': 6, 'dragon fruit': 12}\n"
          ],
          "name": "stdout"
        }
      ]
    },
    {
      "cell_type": "markdown",
      "metadata": {
        "id": "R-nWx-7J4DmT"
      },
      "source": [
        "## Word Counting"
      ]
    },
    {
      "cell_type": "code",
      "metadata": {
        "id": "3SxcoZ052D_V"
      },
      "source": [
        "words = ['little', 'indian', 'boy', 'little', 'boy', '홍길동', 'little', 'hgd']"
      ],
      "execution_count": 65,
      "outputs": []
    },
    {
      "cell_type": "markdown",
      "metadata": {
        "id": "_DjXOcBq3DhE"
      },
      "source": [
        "리스트 words의 단어를 key로 하고, 그 단어가 등장하는 빈도수를 value하는 dict 객체 생성"
      ]
    },
    {
      "cell_type": "code",
      "metadata": {
        "colab": {
          "base_uri": "https://localhost:8080/"
        },
        "id": "i2KGhkcj2wlL",
        "outputId": "bba89992-db85-4923-ec36-ae443d6b69ad"
      },
      "source": [
        "word_counts = {}  # empty dict\r\n",
        "for w in words:  # 리스트 words의 각 원소에 대해서 반복\r\n",
        "    if w in word_counts:\r\n",
        "        # 단어가 word_counts의 key로 존재하면, count를 기존값 + 1\r\n",
        "        word_counts[w] += 1  # word_counts[w] = word_counts[w] + 1\r\n",
        "    else:\r\n",
        "        # 단어가 word_counts의 key로 존재하지 않으면, count를 1\r\n",
        "        word_counts[w] = 1\r\n",
        "\r\n",
        "print(word_counts)        "
      ],
      "execution_count": 66,
      "outputs": [
        {
          "output_type": "stream",
          "text": [
            "{'little': 3, 'indian': 1, 'boy': 2, '홍길동': 1, 'hgd': 1}\n"
          ],
          "name": "stdout"
        }
      ]
    },
    {
      "cell_type": "code",
      "metadata": {
        "colab": {
          "base_uri": "https://localhost:8080/"
        },
        "id": "Vfc6MT5i5iat",
        "outputId": "ed3f2a31-968e-4980-c3cf-e0e1b2c2a061"
      },
      "source": [
        "word_counts = {}  # empty dict\r\n",
        "for x in words:\r\n",
        "    word_counts[x] = 0\r\n",
        "print(word_counts)    \r\n",
        "\r\n",
        "for x in words:\r\n",
        "    word_counts[x] +=1\r\n",
        "print(word_counts)"
      ],
      "execution_count": 68,
      "outputs": [
        {
          "output_type": "stream",
          "text": [
            "{'little': 0, 'indian': 0, 'boy': 0, '홍길동': 0, 'hgd': 0}\n",
            "{'little': 3, 'indian': 1, 'boy': 2, '홍길동': 1, 'hgd': 1}\n"
          ],
          "name": "stdout"
        }
      ]
    },
    {
      "cell_type": "code",
      "metadata": {
        "id": "iGknSGWG8aUM"
      },
      "source": [
        "from collections import defaultdict\r\n",
        "# collections 모듈(파일)에서 함수 defaultdict를 import"
      ],
      "execution_count": 69,
      "outputs": []
    },
    {
      "cell_type": "code",
      "metadata": {
        "colab": {
          "base_uri": "https://localhost:8080/"
        },
        "id": "9XFOq96-8npS",
        "outputId": "bef535ea-d1b4-44ae-8621-38b4e428f915"
      },
      "source": [
        "word_counts = defaultdict(int)  # value들의 타입이 int\r\n",
        "# print(word_counts)\r\n",
        "for w in words:\r\n",
        "    word_counts[w] += 1\r\n",
        "\r\n",
        "print(word_counts)"
      ],
      "execution_count": 71,
      "outputs": [
        {
          "output_type": "stream",
          "text": [
            "defaultdict(<class 'int'>, {'little': 3, 'indian': 1, 'boy': 2, '홍길동': 1, 'hgd': 1})\n"
          ],
          "name": "stdout"
        }
      ]
    },
    {
      "cell_type": "code",
      "metadata": {
        "id": "4R6y6zTl87ly"
      },
      "source": [
        ""
      ],
      "execution_count": null,
      "outputs": []
    }
  ]
}