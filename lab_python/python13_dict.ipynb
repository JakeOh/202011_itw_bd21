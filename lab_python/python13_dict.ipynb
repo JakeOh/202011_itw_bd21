{
  "nbformat": 4,
  "nbformat_minor": 0,
  "metadata": {
    "colab": {
      "name": "python13_dict.ipynb",
      "provenance": [],
      "collapsed_sections": [],
      "authorship_tag": "ABX9TyOi8AtYAnQ/4AWuAyzTz7y0",
      "include_colab_link": true
    },
    "kernelspec": {
      "name": "python3",
      "display_name": "Python 3"
    }
  },
  "cells": [
    {
      "cell_type": "markdown",
      "metadata": {
        "id": "view-in-github",
        "colab_type": "text"
      },
      "source": [
        "<a href=\"https://colab.research.google.com/github/JakeOh/202011_itw_bd21/blob/main/lab_python/python13_dict.ipynb\" target=\"_parent\"><img src=\"https://colab.research.google.com/assets/colab-badge.svg\" alt=\"Open In Colab\"/></a>"
      ]
    },
    {
      "cell_type": "markdown",
      "metadata": {
        "id": "OeIzbEIqGiym"
      },
      "source": [
        "# dict"
      ]
    },
    {
      "cell_type": "markdown",
      "metadata": {
        "id": "BnqR33znGl_Q"
      },
      "source": [
        "**dict**\r\n",
        "\r\n",
        "* 사전(dictionary) 형식의 데이터 타입\r\n",
        "* 원소들을 key:value 쌍으로 (mapping 시켜서) 저장하는 데이터 타입\r\n",
        "* key는 중복되지 않는 값이어야 함.\r\n",
        "* key의 역할은 list나 tuple에서 인덱스(index)와 같이 유일한 한개의 값을 접근하기 위한 용도로 사용."
      ]
    },
    {
      "cell_type": "code",
      "metadata": {
        "colab": {
          "base_uri": "https://localhost:8080/"
        },
        "id": "azNR7PZKGI6Q",
        "outputId": "6c8ede44-bac0-47fd-ebc4-04b84f754e79"
      },
      "source": [
        "students = {1: '강동호', 2: '고동완', 10: '이규섭', 12: '이승우'}\r\n",
        "print(students)\r\n",
        "print(type(students))"
      ],
      "execution_count": 2,
      "outputs": [
        {
          "output_type": "stream",
          "text": [
            "{1: '강동호', 2: '고동완', 10: '이규섭', 12: '이승우'}\n",
            "<class 'dict'>\n"
          ],
          "name": "stdout"
        }
      ]
    },
    {
      "cell_type": "markdown",
      "metadata": {
        "id": "dOOOoNc6JBjm"
      },
      "source": [
        "dict에서 key를 사용해서 원소의 값(value)를 찾는 방법: `dict_name[key]`"
      ]
    },
    {
      "cell_type": "code",
      "metadata": {
        "colab": {
          "base_uri": "https://localhost:8080/"
        },
        "id": "TxkGAdvWIir5",
        "outputId": "ecb192db-8f32-45fa-fd18-6c4eac38b3d9"
      },
      "source": [
        "print(students[1])"
      ],
      "execution_count": 5,
      "outputs": [
        {
          "output_type": "stream",
          "text": [
            "강동호\n"
          ],
          "name": "stdout"
        }
      ]
    },
    {
      "cell_type": "code",
      "metadata": {
        "colab": {
          "base_uri": "https://localhost:8080/"
        },
        "id": "aG37YButJrR_",
        "outputId": "7c883835-e424-474f-b272-2c748da66c48"
      },
      "source": [
        "dong_ho = {'name': '강동호', 'age': 36, 'height': 175}\r\n",
        "print(dong_ho)\r\n",
        "print(dong_ho['name'])\r\n",
        "print(dong_ho['age'])\r\n",
        "print(dong_ho['height'])"
      ],
      "execution_count": 8,
      "outputs": [
        {
          "output_type": "stream",
          "text": [
            "{'name': '강동호', 'age': 36, 'height': 175}\n",
            "강동호\n",
            "36\n",
            "175\n"
          ],
          "name": "stdout"
        }
      ]
    }
  ]
}