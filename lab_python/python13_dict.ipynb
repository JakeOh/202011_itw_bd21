{
  "nbformat": 4,
  "nbformat_minor": 0,
  "metadata": {
    "colab": {
      "name": "python13_dict.ipynb",
      "provenance": [],
      "collapsed_sections": [],
      "authorship_tag": "ABX9TyMEJ50z/6xFxiMEy+kEgaxp",
      "include_colab_link": true
    },
    "kernelspec": {
      "name": "python3",
      "display_name": "Python 3"
    }
  },
  "cells": [
    {
      "cell_type": "markdown",
      "metadata": {
        "id": "view-in-github",
        "colab_type": "text"
      },
      "source": [
        "<a href=\"https://colab.research.google.com/github/JakeOh/202011_itw_bd21/blob/main/lab_python/python13_dict.ipynb\" target=\"_parent\"><img src=\"https://colab.research.google.com/assets/colab-badge.svg\" alt=\"Open In Colab\"/></a>"
      ]
    },
    {
      "cell_type": "markdown",
      "metadata": {
        "id": "OeIzbEIqGiym"
      },
      "source": [
        "# dict"
      ]
    },
    {
      "cell_type": "markdown",
      "metadata": {
        "id": "BnqR33znGl_Q"
      },
      "source": [
        "**dict**\r\n",
        "\r\n",
        "* 사전(dictionary) 형식의 데이터 타입\r\n",
        "* 원소들을 key:value 쌍으로 (mapping 시켜서) 저장하는 데이터 타입\r\n",
        "* key는 중복되지 않는 값이어야 함.\r\n",
        "* key의 역할은 list나 tuple에서 인덱스(index)와 같이 유일한 한개의 값을 접근하기 위한 용도로 사용."
      ]
    },
    {
      "cell_type": "code",
      "metadata": {
        "colab": {
          "base_uri": "https://localhost:8080/"
        },
        "id": "azNR7PZKGI6Q",
        "outputId": "6c8ede44-bac0-47fd-ebc4-04b84f754e79"
      },
      "source": [
        "students = {1: '강동호', 2: '고동완', 10: '이규섭', 12: '이승우'}\r\n",
        "print(students)\r\n",
        "print(type(students))"
      ],
      "execution_count": null,
      "outputs": [
        {
          "output_type": "stream",
          "text": [
            "{1: '강동호', 2: '고동완', 10: '이규섭', 12: '이승우'}\n",
            "<class 'dict'>\n"
          ],
          "name": "stdout"
        }
      ]
    },
    {
      "cell_type": "markdown",
      "metadata": {
        "id": "dOOOoNc6JBjm"
      },
      "source": [
        "dict에서 key를 사용해서 원소의 값(value)를 찾는 방법: `dict_name[key]`"
      ]
    },
    {
      "cell_type": "code",
      "metadata": {
        "colab": {
          "base_uri": "https://localhost:8080/"
        },
        "id": "TxkGAdvWIir5",
        "outputId": "ecb192db-8f32-45fa-fd18-6c4eac38b3d9"
      },
      "source": [
        "print(students[1])"
      ],
      "execution_count": null,
      "outputs": [
        {
          "output_type": "stream",
          "text": [
            "강동호\n"
          ],
          "name": "stdout"
        }
      ]
    },
    {
      "cell_type": "code",
      "metadata": {
        "colab": {
          "base_uri": "https://localhost:8080/"
        },
        "id": "aG37YButJrR_",
        "outputId": "7c883835-e424-474f-b272-2c748da66c48"
      },
      "source": [
        "dong_ho = {'name': '강동호', 'age': 36, 'height': 175}\r\n",
        "print(dong_ho)\r\n",
        "print(dong_ho['name'])\r\n",
        "print(dong_ho['age'])\r\n",
        "print(dong_ho['height'])"
      ],
      "execution_count": null,
      "outputs": [
        {
          "output_type": "stream",
          "text": [
            "{'name': '강동호', 'age': 36, 'height': 175}\n",
            "강동호\n",
            "36\n",
            "175\n"
          ],
          "name": "stdout"
        }
      ]
    },
    {
      "cell_type": "code",
      "metadata": {
        "colab": {
          "base_uri": "https://localhost:8080/"
        },
        "id": "IEu21BkYADCT",
        "outputId": "b2411604-bf45-4d46-c84b-a2173eaaca1b"
      },
      "source": [
        "employees = {100: 'King', 101: 'Scott', 200: 'Allen', 100: 'Tiger'}\r\n",
        "print(employees)\r\n",
        "#> dict에서 key는 유일한 값이어야 함."
      ],
      "execution_count": 1,
      "outputs": [
        {
          "output_type": "stream",
          "text": [
            "{100: 'Tiger', 101: 'Scott', 200: 'Allen'}\n"
          ],
          "name": "stdout"
        }
      ]
    },
    {
      "cell_type": "markdown",
      "metadata": {
        "id": "dMfcIcfYBJjr"
      },
      "source": [
        "## dict의 메서드 - 기능"
      ]
    },
    {
      "cell_type": "code",
      "metadata": {
        "colab": {
          "base_uri": "https://localhost:8080/"
        },
        "id": "bCsKHnQ5BSbp",
        "outputId": "7d39e90a-f25a-4d73-e0d3-08ab2fd65dfa"
      },
      "source": [
        "k = employees.keys()  # dict의 key들만 알고 싶을 때\r\n",
        "print(k)"
      ],
      "execution_count": 2,
      "outputs": [
        {
          "output_type": "stream",
          "text": [
            "dict_keys([100, 101, 200])\n"
          ],
          "name": "stdout"
        }
      ]
    },
    {
      "cell_type": "code",
      "metadata": {
        "colab": {
          "base_uri": "https://localhost:8080/"
        },
        "id": "zTMzVuwBB0Rr",
        "outputId": "02fbee46-5a22-4ecd-ca25-7ee2552b6558"
      },
      "source": [
        "v = employees.values()  # dict의 value들만 알고 싶을 때\r\n",
        "print(v)"
      ],
      "execution_count": 3,
      "outputs": [
        {
          "output_type": "stream",
          "text": [
            "dict_values(['Tiger', 'Scott', 'Allen'])\n"
          ],
          "name": "stdout"
        }
      ]
    },
    {
      "cell_type": "code",
      "metadata": {
        "colab": {
          "base_uri": "https://localhost:8080/"
        },
        "id": "831eUpnlBYM1",
        "outputId": "6da749d7-5ff8-4266-e7e5-2e29344a7968"
      },
      "source": [
        "items = employees.items()  # (k, v) tuple들의 list\r\n",
        "print(items)"
      ],
      "execution_count": 4,
      "outputs": [
        {
          "output_type": "stream",
          "text": [
            "dict_items([(100, 'Tiger'), (101, 'Scott'), (200, 'Allen')])\n"
          ],
          "name": "stdout"
        }
      ]
    },
    {
      "cell_type": "code",
      "metadata": {
        "colab": {
          "base_uri": "https://localhost:8080/"
        },
        "id": "pHyV81H1C-_D",
        "outputId": "f90b26fb-6c6e-457e-ce56-7a7fdb9fee7a"
      },
      "source": [
        "name = employees.get(300, 'No Value')\r\n",
        "print(name)\r\n",
        "\r\n",
        "# dict.get(key, default_value)\r\n",
        "# -> dict에서 key에 해당하는 value를 찾아서 리턴(반환).\r\n",
        "# -> 만약 key가 존재하지 않으면, default_value를 리턴(반환).\r\n",
        "# -> default_value argument를 전달하지 않은 경우에는 None이 리턴(반환)."
      ],
      "execution_count": 7,
      "outputs": [
        {
          "output_type": "stream",
          "text": [
            "No Value\n"
          ],
          "name": "stdout"
        }
      ]
    },
    {
      "cell_type": "code",
      "metadata": {
        "colab": {
          "base_uri": "https://localhost:8080/"
        },
        "id": "v6d8nPVlE7xt",
        "outputId": "4ebc6cb1-0e4e-4347-a267-fae937ef0f14"
      },
      "source": [
        "name = employees[100]\r\n",
        "print(name)\r\n",
        "\r\n",
        "#> dict[key]를 사용할 때, 해당 키가 존재하지 않으면 KeyError가 발생 - get() 메서드와의 차이점!"
      ],
      "execution_count": 10,
      "outputs": [
        {
          "output_type": "stream",
          "text": [
            "Tiger\n"
          ],
          "name": "stdout"
        }
      ]
    }
  ]
}