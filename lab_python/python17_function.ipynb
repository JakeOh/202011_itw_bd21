{
  "nbformat": 4,
  "nbformat_minor": 0,
  "metadata": {
    "colab": {
      "name": "python17_function.ipynb",
      "provenance": [],
      "collapsed_sections": [],
      "authorship_tag": "ABX9TyNZFpPnBuXunbvP4yBn1wEM",
      "include_colab_link": true
    },
    "kernelspec": {
      "name": "python3",
      "display_name": "Python 3"
    }
  },
  "cells": [
    {
      "cell_type": "markdown",
      "metadata": {
        "id": "view-in-github",
        "colab_type": "text"
      },
      "source": [
        "<a href=\"https://colab.research.google.com/github/JakeOh/202011_itw_bd21/blob/main/lab_python/python17_function.ipynb\" target=\"_parent\"><img src=\"https://colab.research.google.com/assets/colab-badge.svg\" alt=\"Open In Colab\"/></a>"
      ]
    },
    {
      "cell_type": "markdown",
      "metadata": {
        "id": "QBvKj3ZfYfZU"
      },
      "source": [
        "# 함수(Function)"
      ]
    },
    {
      "cell_type": "markdown",
      "metadata": {
        "id": "Q40TwG8UazWd"
      },
      "source": [
        "* 함수(**function**): 기능을 수행해서 그 결과를 반환(return)하는 코드 블록.\r\n",
        "* 인수(**argument**): 함수를 호출(call, invoke)할 때, 함수에게 전달하는 값(들).\r\n",
        "* 매개변수(**parameter**): argument를 저장하기 위해서, 함수를 정의할 때 선언하는 지역 변수. 인자."
      ]
    },
    {
      "cell_type": "code",
      "metadata": {
        "colab": {
          "base_uri": "https://localhost:8080/"
        },
        "id": "N1MspXQBYZ09",
        "outputId": "293490c5-7c6a-4230-b096-925b26331e4a"
      },
      "source": [
        "result = sum([1, 2, 3, 4, 5])\r\n",
        "print(result)\r\n",
        "\r\n",
        "# 함수: sum\r\n",
        "# argument: [1, 2, 3, 4, 5] -> parameter에 저장되는 값.\r\n",
        "# 반환 값(return value): 15"
      ],
      "execution_count": 1,
      "outputs": [
        {
          "output_type": "stream",
          "text": [
            "15\n"
          ],
          "name": "stdout"
        }
      ]
    },
    {
      "cell_type": "code",
      "metadata": {
        "colab": {
          "base_uri": "https://localhost:8080/"
        },
        "id": "XUREUG9cdtD8",
        "outputId": "481a1f56-7789-474f-8430-1ea718ad31ad"
      },
      "source": [
        "import math\r\n",
        "\r\n",
        "result = math.sqrt(2)\r\n",
        "print(result)\r\n",
        "\r\n",
        "# 모듈(module): math - 함수가 정의되어 있는 파일\r\n",
        "# 함수(function): sqrt\r\n",
        "# argument: 2\r\n",
        "# return value: 1.414..."
      ],
      "execution_count": 2,
      "outputs": [
        {
          "output_type": "stream",
          "text": [
            "1.4142135623730951\n"
          ],
          "name": "stdout"
        }
      ]
    },
    {
      "cell_type": "code",
      "metadata": {
        "colab": {
          "base_uri": "https://localhost:8080/"
        },
        "id": "yifi7kUPe8JT",
        "outputId": "1cdb63c9-8ade-4a56-fe62-27ad2b17b3bd"
      },
      "source": [
        "result = print('hello')\r\n",
        "print(result)\r\n",
        "\r\n",
        "# print 함수는 argument를 콘솔에 출력만 하고, 값을 반환하지 않음.\r\n",
        "# -> 값을 반환하지 않은 함수의 반환 값(return value)은 None."
      ],
      "execution_count": 3,
      "outputs": [
        {
          "output_type": "stream",
          "text": [
            "hello\n",
            "None\n"
          ],
          "name": "stdout"
        }
      ]
    },
    {
      "cell_type": "markdown",
      "metadata": {
        "id": "zpcrBAb7f5_P"
      },
      "source": [
        "## 함수 정의 방법\r\n",
        "\r\n",
        "```\r\n",
        "def func_name(param1, param2, ...):\r\n",
        "    \"\"\"\r\n",
        "    문서화 주석(documentation string, docstring): 함수에 대한 설명\r\n",
        "    \"\"\"\r\n",
        "    함수 기능 작성\r\n",
        "    [return 값]\r\n",
        "```\r\n"
      ]
    },
    {
      "cell_type": "code",
      "metadata": {
        "id": "gpTKVKVshlkV"
      },
      "source": [
        "# 함수 정의\r\n",
        "def subtract(x, y):\r\n",
        "    \"\"\" 숫자 x, y를 전달 받아서, x - y 결과를 리턴하는 함수.\r\n",
        "    \"\"\"\r\n",
        "    return x - y"
      ],
      "execution_count": 5,
      "outputs": []
    },
    {
      "cell_type": "code",
      "metadata": {
        "colab": {
          "base_uri": "https://localhost:8080/"
        },
        "id": "7ymBcPlYiKub",
        "outputId": "aa3e532c-bb9b-4086-b1b0-ed832a89bc29"
      },
      "source": [
        "result = subtract(11, 20)  # 함수 호출(call, invoke)\r\n",
        "print(result)"
      ],
      "execution_count": 8,
      "outputs": [
        {
          "output_type": "stream",
          "text": [
            "-9\n"
          ],
          "name": "stdout"
        }
      ]
    }
  ]
}