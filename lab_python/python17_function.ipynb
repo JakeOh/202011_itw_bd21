{
  "nbformat": 4,
  "nbformat_minor": 0,
  "metadata": {
    "colab": {
      "name": "python17_function.ipynb",
      "provenance": [],
      "collapsed_sections": [],
      "authorship_tag": "ABX9TyOUZBCXvf8Je1bqbicZNEL/",
      "include_colab_link": true
    },
    "kernelspec": {
      "name": "python3",
      "display_name": "Python 3"
    }
  },
  "cells": [
    {
      "cell_type": "markdown",
      "metadata": {
        "id": "view-in-github",
        "colab_type": "text"
      },
      "source": [
        "<a href=\"https://colab.research.google.com/github/JakeOh/202011_itw_bd21/blob/main/lab_python/python17_function.ipynb\" target=\"_parent\"><img src=\"https://colab.research.google.com/assets/colab-badge.svg\" alt=\"Open In Colab\"/></a>"
      ]
    },
    {
      "cell_type": "markdown",
      "metadata": {
        "id": "QBvKj3ZfYfZU"
      },
      "source": [
        "# 함수(Function)"
      ]
    },
    {
      "cell_type": "markdown",
      "metadata": {
        "id": "Q40TwG8UazWd"
      },
      "source": [
        "* 함수(**function**): 기능을 수행해서 그 결과를 반환(return)하는 코드 블록.\r\n",
        "* 인수(**argument**): 함수를 호출(call, invoke)할 때, 함수에게 전달하는 값(들).\r\n",
        "* 매개변수(**parameter**): argument를 저장하기 위해서, 함수를 정의할 때 선언하는 지역 변수. 인자."
      ]
    },
    {
      "cell_type": "code",
      "metadata": {
        "colab": {
          "base_uri": "https://localhost:8080/"
        },
        "id": "N1MspXQBYZ09",
        "outputId": "293490c5-7c6a-4230-b096-925b26331e4a"
      },
      "source": [
        "result = sum([1, 2, 3, 4, 5])\r\n",
        "print(result)\r\n",
        "\r\n",
        "# 함수: sum\r\n",
        "# argument: [1, 2, 3, 4, 5] -> parameter에 저장되는 값.\r\n",
        "# 반환 값(return value): 15"
      ],
      "execution_count": 1,
      "outputs": [
        {
          "output_type": "stream",
          "text": [
            "15\n"
          ],
          "name": "stdout"
        }
      ]
    },
    {
      "cell_type": "code",
      "metadata": {
        "colab": {
          "base_uri": "https://localhost:8080/"
        },
        "id": "XUREUG9cdtD8",
        "outputId": "481a1f56-7789-474f-8430-1ea718ad31ad"
      },
      "source": [
        "import math\r\n",
        "\r\n",
        "result = math.sqrt(2)\r\n",
        "print(result)\r\n",
        "\r\n",
        "# 모듈(module): math - 함수가 정의되어 있는 파일\r\n",
        "# 함수(function): sqrt\r\n",
        "# argument: 2\r\n",
        "# return value: 1.414..."
      ],
      "execution_count": 2,
      "outputs": [
        {
          "output_type": "stream",
          "text": [
            "1.4142135623730951\n"
          ],
          "name": "stdout"
        }
      ]
    },
    {
      "cell_type": "code",
      "metadata": {
        "colab": {
          "base_uri": "https://localhost:8080/"
        },
        "id": "yifi7kUPe8JT",
        "outputId": "1cdb63c9-8ade-4a56-fe62-27ad2b17b3bd"
      },
      "source": [
        "result = print('hello')\r\n",
        "print(result)\r\n",
        "\r\n",
        "# print 함수는 argument를 콘솔에 출력만 하고, 값을 반환하지 않음.\r\n",
        "# -> 값을 반환하지 않은 함수의 반환 값(return value)은 None."
      ],
      "execution_count": 3,
      "outputs": [
        {
          "output_type": "stream",
          "text": [
            "hello\n",
            "None\n"
          ],
          "name": "stdout"
        }
      ]
    },
    {
      "cell_type": "markdown",
      "metadata": {
        "id": "zpcrBAb7f5_P"
      },
      "source": [
        "## 함수 정의 방법\r\n",
        "\r\n",
        "```\r\n",
        "def func_name(param1, param2, ...):\r\n",
        "    \"\"\"\r\n",
        "    문서화 주석(documentation string, docstring): 함수에 대한 설명\r\n",
        "    \"\"\"\r\n",
        "    함수 기능 작성\r\n",
        "    [return 값]\r\n",
        "```\r\n"
      ]
    },
    {
      "cell_type": "code",
      "metadata": {
        "id": "gpTKVKVshlkV"
      },
      "source": [
        "# 함수 정의\r\n",
        "def subtract(x, y):\r\n",
        "    \"\"\" 숫자 x, y를 전달 받아서, x - y 결과를 리턴하는 함수.\r\n",
        "    \"\"\"\r\n",
        "    return x - y"
      ],
      "execution_count": 5,
      "outputs": []
    },
    {
      "cell_type": "code",
      "metadata": {
        "colab": {
          "base_uri": "https://localhost:8080/"
        },
        "id": "7ymBcPlYiKub",
        "outputId": "aa3e532c-bb9b-4086-b1b0-ed832a89bc29"
      },
      "source": [
        "result = subtract(11, 20)  # 함수 호출(call, invoke)\r\n",
        "print(result)"
      ],
      "execution_count": 8,
      "outputs": [
        {
          "output_type": "stream",
          "text": [
            "-9\n"
          ],
          "name": "stdout"
        }
      ]
    },
    {
      "cell_type": "markdown",
      "metadata": {
        "id": "wn8_qBVuoWqV"
      },
      "source": [
        "Python은 2개 이상의 값을 리턴하는 함수를 정의할 수 있음.\r\n",
        "\r\n",
        "2개 이상의 값을 리턴하는 경우는 tuple을 리턴하는 것임.\r\n"
      ]
    },
    {
      "cell_type": "code",
      "metadata": {
        "id": "zq2dNC7dnnqr"
      },
      "source": [
        "def plus_and_minus(x, y):\r\n",
        "    \"\"\"2개의 숫자 x, y를 전달받아서, x + y와 x - y의 결과를 리턴하는 함수.\r\n",
        "    \"\"\"\r\n",
        "    return x + y, x - y"
      ],
      "execution_count": 9,
      "outputs": []
    },
    {
      "cell_type": "code",
      "metadata": {
        "colab": {
          "base_uri": "https://localhost:8080/"
        },
        "id": "5-0qI43boxs5",
        "outputId": "a08a5fdb-ceaa-460d-a9fd-702dbe22b5b8"
      },
      "source": [
        "result = plus_and_minus(1, 2)\r\n",
        "print(result, type(result))\r\n",
        "# tuple 타입의 변수는 인덱스로 개개의 원소를 접근할 수 있다.\r\n",
        "print('plus:', result[0])\r\n",
        "print('minus:', result[1])"
      ],
      "execution_count": 12,
      "outputs": [
        {
          "output_type": "stream",
          "text": [
            "(3, -1) <class 'tuple'>\n",
            "plus: 3\n",
            "minus: -1\n"
          ],
          "name": "stdout"
        }
      ]
    },
    {
      "cell_type": "code",
      "metadata": {
        "colab": {
          "base_uri": "https://localhost:8080/"
        },
        "id": "L-WAI27Npykt",
        "outputId": "a15b543f-c635-4802-f02c-c429bd457bda"
      },
      "source": [
        "# tuple decomposition(분해): a, b = (3, -1)\r\n",
        "plus, minus = plus_and_minus(1, 2)\r\n",
        "print(f'plus={plus}, minus={minus}')"
      ],
      "execution_count": 13,
      "outputs": [
        {
          "output_type": "stream",
          "text": [
            "plus=3, minus=-1\n"
          ],
          "name": "stdout"
        }
      ]
    },
    {
      "cell_type": "markdown",
      "metadata": {
        "id": "2nxoApQGrBdz"
      },
      "source": [
        "void 함수 - 값을 리턴하지 않는 함수. None을 리턴하는 함수."
      ]
    },
    {
      "cell_type": "code",
      "metadata": {
        "id": "Cq_Yj-T9qZXL"
      },
      "source": [
        "def repeat_msg(msg, repeat):\r\n",
        "    \"\"\"문자열 msg와 양의 정수 repeat를 전달받아서,\r\n",
        "    msg를 repeat만큼 반복한 문자열을 콘솔에 출력하는 함수.\r\n",
        "    리턴하는 값은 없음.\r\n",
        "    \"\"\"\r\n",
        "    print(msg * repeat)\r\n",
        "    # return None\r\n",
        "    # 반환하는 값이 없는 경우에는, return None 문장은 생략 가능."
      ],
      "execution_count": 20,
      "outputs": []
    },
    {
      "cell_type": "code",
      "metadata": {
        "colab": {
          "base_uri": "https://localhost:8080/"
        },
        "id": "gOvZ97sYsJAa",
        "outputId": "d5ebad95-82bd-4ce9-8ada-c9981a4576e8"
      },
      "source": [
        "repeat_msg('Hello', 3)"
      ],
      "execution_count": 21,
      "outputs": [
        {
          "output_type": "stream",
          "text": [
            "HelloHelloHello\n"
          ],
          "name": "stdout"
        }
      ]
    },
    {
      "cell_type": "markdown",
      "metadata": {
        "id": "1-2n9RAtuabk"
      },
      "source": [
        "Python 3.5 버전부터는 함수를 정의할 때 parameter의 타입과 리턴 값의 타입에 대한 *힌트*를 작성할 수 있음.\r\n",
        "\r\n",
        "**(주의)**\r\n",
        "* 함수 정의에서 힌트로 주어진 타입대로 argument를 전달할 필요는 없음.\r\n",
        "* 함수가 실행될 때 파라미터의 타입을 체크하지 않음!"
      ]
    },
    {
      "cell_type": "code",
      "metadata": {
        "id": "cSbFulj1sQRT"
      },
      "source": [
        "def divide(x: int, y: int) -> float:\r\n",
        "    \"\"\"2개의 정수 x, y를 전달받아서, x / y의 결과를 리턴하는 함수.\r\n",
        "    \"\"\"\r\n",
        "    return x / y"
      ],
      "execution_count": 22,
      "outputs": []
    },
    {
      "cell_type": "code",
      "metadata": {
        "colab": {
          "base_uri": "https://localhost:8080/"
        },
        "id": "RbQGhEJQv8Di",
        "outputId": "c04e9475-1a61-474d-9615-3b39c59b9dff"
      },
      "source": [
        "result = divide(10, 3)\r\n",
        "print(result)"
      ],
      "execution_count": 26,
      "outputs": [
        {
          "output_type": "stream",
          "text": [
            "3.3333333333333335\n"
          ],
          "name": "stdout"
        }
      ]
    },
    {
      "cell_type": "code",
      "metadata": {
        "colab": {
          "base_uri": "https://localhost:8080/"
        },
        "id": "m6iDStAwwUAc",
        "outputId": "a1efd44c-f60d-445e-980f-9927f7c9cff5"
      },
      "source": [
        "result = divide(1.0, 3)\r\n",
        "print(result)"
      ],
      "execution_count": 27,
      "outputs": [
        {
          "output_type": "stream",
          "text": [
            "0.3333333333333333\n"
          ],
          "name": "stdout"
        }
      ]
    }
  ]
}