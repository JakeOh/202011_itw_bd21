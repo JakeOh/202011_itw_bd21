{
  "nbformat": 4,
  "nbformat_minor": 0,
  "metadata": {
    "colab": {
      "name": "python34_file.ipynb",
      "provenance": [],
      "collapsed_sections": [],
      "authorship_tag": "ABX9TyPWGFCXGjUx8CFWuzJx1FJU",
      "include_colab_link": true
    },
    "kernelspec": {
      "name": "python3",
      "display_name": "Python 3"
    }
  },
  "cells": [
    {
      "cell_type": "markdown",
      "metadata": {
        "id": "view-in-github",
        "colab_type": "text"
      },
      "source": [
        "<a href=\"https://colab.research.google.com/github/JakeOh/202011_itw_bd21/blob/main/lab_python/python34_file.ipynb\" target=\"_parent\"><img src=\"https://colab.research.google.com/assets/colab-badge.svg\" alt=\"Open In Colab\"/></a>"
      ]
    },
    {
      "cell_type": "markdown",
      "metadata": {
        "id": "KLMi-7GCznBi"
      },
      "source": [
        "# 텍스트 파일 쓰기(write)/읽기(read)\r\n",
        "\r\n",
        "1. 파일 열기(open)\r\n",
        "2. 파일 내용 쓰기(write) / 읽기(read)\r\n",
        "3. 파일 닫기(close)"
      ]
    },
    {
      "cell_type": "code",
      "metadata": {
        "colab": {
          "base_uri": "https://localhost:8080/"
        },
        "id": "1j7puemXzaTo",
        "outputId": "a9620197-1575-4fd6-98d1-462b1c225071"
      },
      "source": [
        "# open(file, mode='r', ...): 파일 열기\r\n",
        "#   file: 디렉토리(폴더) 경로를 포함한 파일 이름(str)\r\n",
        "#   mode: r(read: 읽기), w(write: 쓰기), a(append: 추가), t(text: 텍스트), b(binary: 이진)\r\n",
        "\r\n",
        "# 1) 파일 열기\r\n",
        "f = open(file='hello.txt', mode='w')  # mode='wt'\r\n",
        "print(f)\r\n",
        "\r\n",
        "# 2) 파일에 내용 쓰기\r\n",
        "f.write('Hello\\n')  # '\\n': 줄바꿈(new line)\r\n",
        "f.write('안녕하세요\\n')\r\n",
        "\r\n",
        "# 3) 파일 닫기\r\n",
        "f.close()"
      ],
      "execution_count": 2,
      "outputs": [
        {
          "output_type": "stream",
          "text": [
            "<_io.TextIOWrapper name='hello.txt' mode='w' encoding='UTF-8'>\n"
          ],
          "name": "stdout"
        }
      ]
    },
    {
      "cell_type": "code",
      "metadata": {
        "id": "WTRv4eKf2p7b"
      },
      "source": [
        "# with ... as ~ 구문: with에서 open된 객체의 close() 메서드를 자동으로 호출.\r\n",
        "with open(file='test.txt', mode='wt') as f:\r\n",
        "    f.write('파일 쓰기 테스트\\n')\r\n",
        "    f.write('오늘 수업도 이제 끝나갑니다...\\n')\r\n",
        "# 파일 쓰기가 모두 끝났을 때, f.close()를 명시적으로 호출할 필요가 없음!\r\n",
        "# with ... as ~ 구문이 자동으로 close()를 호출해줌."
      ],
      "execution_count": 3,
      "outputs": []
    }
  ]
}