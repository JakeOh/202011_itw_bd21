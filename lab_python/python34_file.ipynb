{
  "nbformat": 4,
  "nbformat_minor": 0,
  "metadata": {
    "colab": {
      "name": "python34_file.ipynb",
      "provenance": [],
      "collapsed_sections": [],
      "mount_file_id": "1xz2VCJe3nxpEKyta6J9LHFb_sJ8fNG8g",
      "authorship_tag": "ABX9TyPZPAiqnpzhPsgY38eQEU23",
      "include_colab_link": true
    },
    "kernelspec": {
      "name": "python3",
      "display_name": "Python 3"
    }
  },
  "cells": [
    {
      "cell_type": "markdown",
      "metadata": {
        "id": "view-in-github",
        "colab_type": "text"
      },
      "source": [
        "<a href=\"https://colab.research.google.com/github/JakeOh/202011_itw_bd21/blob/main/lab_python/python34_file.ipynb\" target=\"_parent\"><img src=\"https://colab.research.google.com/assets/colab-badge.svg\" alt=\"Open In Colab\"/></a>"
      ]
    },
    {
      "cell_type": "markdown",
      "metadata": {
        "id": "KLMi-7GCznBi"
      },
      "source": [
        "# 텍스트 파일 쓰기(write)/읽기(read)\r\n",
        "\r\n",
        "1. 파일 열기(open)\r\n",
        "2. 파일 내용 쓰기(write) / 읽기(read)\r\n",
        "3. 파일 닫기(close)"
      ]
    },
    {
      "cell_type": "markdown",
      "metadata": {
        "id": "ytfaMq67exNX"
      },
      "source": [
        "## 파일 쓰기"
      ]
    },
    {
      "cell_type": "code",
      "metadata": {
        "colab": {
          "base_uri": "https://localhost:8080/"
        },
        "id": "1j7puemXzaTo",
        "outputId": "67c673ae-f74f-4757-8211-85ce938fa865"
      },
      "source": [
        "# open(file, mode='r', ...): 파일 열기\r\n",
        "#   file: 디렉토리(폴더) 경로를 포함한 파일 이름(str)\r\n",
        "#   mode: r(read: 읽기), w(write: 쓰기), a(append: 추가), t(text: 텍스트), b(binary: 이진)\r\n",
        "\r\n",
        "# 1) 파일 열기\r\n",
        "f = open(file='hello.txt', mode='w')  # mode='wt'\r\n",
        "print(f)\r\n",
        "\r\n",
        "# 2) 파일에 내용 쓰기\r\n",
        "f.write('Hello\\n')  # '\\n': 줄바꿈(new line)\r\n",
        "f.write('안녕하세요\\n')\r\n",
        "\r\n",
        "# 3) 파일 닫기\r\n",
        "f.close()"
      ],
      "execution_count": 1,
      "outputs": [
        {
          "output_type": "stream",
          "text": [
            "<_io.TextIOWrapper name='hello.txt' mode='w' encoding='UTF-8'>\n"
          ],
          "name": "stdout"
        }
      ]
    },
    {
      "cell_type": "code",
      "metadata": {
        "id": "WTRv4eKf2p7b"
      },
      "source": [
        "# with ... as ~ 구문: with에서 open된 객체의 close() 메서드를 자동으로 호출.\r\n",
        "with open(file='test.txt', mode='wt') as f:\r\n",
        "    f.write('파일 쓰기 테스트\\n')\r\n",
        "    f.write('오늘 수업도 이제 끝나갑니다...\\n')\r\n",
        "# 파일 쓰기가 모두 끝났을 때, f.close()를 명시적으로 호출할 필요가 없음!\r\n",
        "# with ... as ~ 구문이 자동으로 close()를 호출해줌."
      ],
      "execution_count": 2,
      "outputs": []
    },
    {
      "cell_type": "markdown",
      "metadata": {
        "id": "VWOF6kSsez3H"
      },
      "source": [
        "## 파일 읽기"
      ]
    },
    {
      "cell_type": "markdown",
      "metadata": {
        "id": "zytf4yJBe8zP"
      },
      "source": [
        "*   파일 경로(path)\r\n",
        "    *   상대 경로(relative path)\r\n",
        "        *   현재 작업 디렉토리(current working directory)에서부터 상대적으로 파일의 경로를 표시하는 방법\r\n",
        "        *   hello.txt\r\n",
        "        *   sample_data/anscombe.json\r\n",
        "        *   temp\\hello.txt\r\n",
        "    *   절대 경로(absolute path)\r\n",
        "        *   하드 디스크 root 디렉토리에서부터 파일의 전체 경로를 표시하는 방법.\r\n",
        "        *   /content/hello.txt\r\n",
        "        *   /content/sample_data/anscombe.json\r\n",
        "        *   C:\\Users\\temp\\hello.txt"
      ]
    },
    {
      "cell_type": "code",
      "metadata": {
        "colab": {
          "base_uri": "https://localhost:8080/"
        },
        "id": "IIWZiOkVe1uQ",
        "outputId": "c21f9eaf-6833-40b6-be86-b738c2864639"
      },
      "source": [
        "with open(file='hello.txt', mode='r') as f:\r\n",
        "    # file='hello.txt': 상대 경로\r\n",
        "    # mode='r': read - open() 함수에서 mode의 기본값은 'rt'이기 때문에 생략 가능.\r\n",
        "    line = f.readline()\r\n",
        "    print(line)\r\n",
        "    line = f.readline()\r\n",
        "    print(line)\r\n",
        "    line = f.readline()\r\n",
        "    print(line)"
      ],
      "execution_count": 3,
      "outputs": [
        {
          "output_type": "stream",
          "text": [
            "Hello\n",
            "\n",
            "안녕하세요\n",
            "\n",
            "\n"
          ],
          "name": "stdout"
        }
      ]
    },
    {
      "cell_type": "code",
      "metadata": {
        "colab": {
          "base_uri": "https://localhost:8080/"
        },
        "id": "y48I_caDk5Og",
        "outputId": "a10e9a6b-5889-480c-ce82-72bfff458eb8"
      },
      "source": [
        "with open(file='hello.txt', mode='r') as f:\r\n",
        "    while True:  # 무한 루프 시작\r\n",
        "        # 파일에서 한 줄(line)을 읽음\r\n",
        "        line = f.readline()\r\n",
        "        if line:\r\n",
        "            # 읽은 내용이 있으면 출력하고, 루프를 반복\r\n",
        "            print(line)\r\n",
        "        else:\r\n",
        "            # 읽은 내용이 없으면 무한 루프를 종료\r\n",
        "            break"
      ],
      "execution_count": 4,
      "outputs": [
        {
          "output_type": "stream",
          "text": [
            "Hello\n",
            "\n",
            "안녕하세요\n",
            "\n"
          ],
          "name": "stdout"
        }
      ]
    },
    {
      "cell_type": "markdown",
      "metadata": {
        "id": "uKB7bUG7rU-v"
      },
      "source": [
        "for ... in ~ 구문에서 파일 객체 사용하기"
      ]
    },
    {
      "cell_type": "code",
      "metadata": {
        "colab": {
          "base_uri": "https://localhost:8080/"
        },
        "id": "LNkjgQgAraIf",
        "outputId": "1647282f-3d96-4026-e7b8-dd381c72c33a"
      },
      "source": [
        "with open(file='hello.txt', mode='r') as f:\r\n",
        "    for line in f:\r\n",
        "        # 파일의 첫번째 줄부터 마지막 줄까지(파일 끝까지) f.readline()을 자동으로 호출.\r\n",
        "        # 파일에 끝에 도달해서 readline()이 읽은 내용이 없으면 반복을 종료.\r\n",
        "        # print(line, end='')\r\n",
        "        print(line)"
      ],
      "execution_count": 5,
      "outputs": [
        {
          "output_type": "stream",
          "text": [
            "Hello\n",
            "\n",
            "안녕하세요\n",
            "\n"
          ],
          "name": "stdout"
        }
      ]
    },
    {
      "cell_type": "markdown",
      "metadata": {
        "id": "_4CLYLU_v7nf"
      },
      "source": [
        "## Google Drive에서 파일 쓰기/읽기\r\n",
        "\r\n",
        "*   Colab에서 저장한 파일은 가상 머신 연결(할당)이 끝어지면 자동으로 삭제됨.\r\n",
        "*   Colab에서는 개인 계정의 Google Drive를 mount(연결)할 수 있음."
      ]
    },
    {
      "cell_type": "code",
      "metadata": {
        "colab": {
          "base_uri": "https://localhost:8080/"
        },
        "id": "a_QirX7F7aDf",
        "outputId": "c8ce6b64-ea5c-4453-eedb-e69ada39ea53"
      },
      "source": [
        "dir_path = '/content/drive/MyDrive/Colab Notebooks/lab_python'\r\n",
        "file_name = 'emails.txt'\r\n",
        "file_path = dir_path + '/' + file_name\r\n",
        "print(file_path)\r\n",
        "#> Linux, Unix, MacOS 에서의 절대 경로 표기법."
      ],
      "execution_count": 1,
      "outputs": [
        {
          "output_type": "stream",
          "text": [
            "/content/drive/MyDrive/Colab Notebooks/lab_python/emails.txt\n"
          ],
          "name": "stdout"
        }
      ]
    },
    {
      "cell_type": "code",
      "metadata": {
        "colab": {
          "base_uri": "https://localhost:8080/"
        },
        "id": "CfAfcr0u8tCV",
        "outputId": "4f850a4b-6eba-4b41-e16f-c54d2b9982d1"
      },
      "source": [
        "dir_path = 'C:\\\\Users\\\\STU\\\\My Documents'\r\n",
        "file_name = 'emails.txt'\r\n",
        "# file_path = dir_path + '/' + file_name\r\n",
        "file_path = dir_path + '\\\\' + file_name\r\n",
        "print(file_path)\r\n",
        "#> Windows에서의 절대 경로 표기법"
      ],
      "execution_count": 4,
      "outputs": [
        {
          "output_type": "stream",
          "text": [
            "C:\\Users\\STU\\My Documents\\emails.txt\n"
          ],
          "name": "stdout"
        }
      ]
    },
    {
      "cell_type": "markdown",
      "metadata": {
        "id": "IkyoGAF_-Ls1"
      },
      "source": [
        "Windows OS와 다른 OS에서 파일 구분자(file separator)가 서로 다르기 때문에 위의 두 셀의 코드는 특정 OS에서만 사용될 수 있는 코드 \r\n",
        "\r\n",
        "-> 권장하지 않음 \r\n",
        "\r\n",
        "-> OS의 종류에 상관없이 실행될 수 있는 코드를 작성하는 것이 좋음."
      ]
    },
    {
      "cell_type": "code",
      "metadata": {
        "id": "HAP4oqWk-065"
      },
      "source": [
        "import os"
      ],
      "execution_count": 5,
      "outputs": []
    },
    {
      "cell_type": "code",
      "metadata": {
        "colab": {
          "base_uri": "https://localhost:8080/"
        },
        "id": "tSVSzFKf-3ZG",
        "outputId": "15b86e93-93f8-4992-c024-39db31de8cd6"
      },
      "source": [
        "dir_path = '/content/drive/MyDrive/Colab Notebooks/lab_python'\r\n",
        "file_name = 'emails.txt'\r\n",
        "file_path = os.path.join(dir_path, file_name)\r\n",
        "print(file_path)"
      ],
      "execution_count": 6,
      "outputs": [
        {
          "output_type": "stream",
          "text": [
            "/content/drive/MyDrive/Colab Notebooks/lab_python/emails.txt\n"
          ],
          "name": "stdout"
        }
      ]
    },
    {
      "cell_type": "code",
      "metadata": {
        "id": "IjCiLrJG_vGN"
      },
      "source": [
        "with open(file=file_path, mode='w') as f:\r\n",
        "    # mode='w': write text 모드(텍스트 파일이 기본이기 때문에, mode='wt'와 동일.)\r\n",
        "    f.write('hgd@gmail.com\\n')\r\n",
        "    f.write('gildong.hong@naver.com\\n')\r\n",
        "    f.write('gildong@daum.net\\n')"
      ],
      "execution_count": 8,
      "outputs": []
    },
    {
      "cell_type": "code",
      "metadata": {
        "colab": {
          "base_uri": "https://localhost:8080/"
        },
        "id": "reJj6csmVrol",
        "outputId": "857619b2-ebf1-4943-dd63-2cc772bda17a"
      },
      "source": [
        "# 구글 드라이브에 저장된 emails.txt 파일을 읽기 모드로 open.\r\n",
        "# 파일의 내용을 한 줄씩 읽음.\r\n",
        "# 빈 리스트에 이메일의 도메인 주소만 저장.\r\n",
        "# 리스트를 출력.\r\n",
        "#> ['gmail.com', 'naver.com', 'daum.net']\r\n",
        "\r\n",
        "print(file_path)\r\n",
        "with open(file=file_path, mode='r') as f:\r\n",
        "    domains = []\r\n",
        "    for line in f:\r\n",
        "        # print(line)  # 각 줄의 끝에는 줄바꿈('\\n')이 있음.\r\n",
        "        line = line.strip()  # 문자열의 시작과 끝에 있는 공백을 제거.\r\n",
        "        # print(line)\r\n",
        "        data = line.split(sep='@')  # 각 줄을 '@'를 구분자로 쪼갬.\r\n",
        "        # print(data)  # data: list, data[0]: id, data[1]: domain\r\n",
        "        domains.append(data[1])\r\n",
        "\r\n",
        "print(domains)"
      ],
      "execution_count": 17,
      "outputs": [
        {
          "output_type": "stream",
          "text": [
            "/content/drive/MyDrive/Colab Notebooks/lab_python/emails.txt\n",
            "['gmail.com', 'naver.com', 'daum.net']\n"
          ],
          "name": "stdout"
        }
      ]
    },
    {
      "cell_type": "code",
      "metadata": {
        "colab": {
          "base_uri": "https://localhost:8080/"
        },
        "id": "T6mlHvJxcjVc",
        "outputId": "05702c0f-14c7-4b42-bb2a-3fab86b832f7"
      },
      "source": [
        "with open(file=file_path, mode='r') as f:\r\n",
        "    # domains = []\r\n",
        "    # for line in f:\r\n",
        "    #     domains.append(line.strip().split(sep='@')[1])\r\n",
        "    domains = [line.strip().split(sep='@')[1]\r\n",
        "               for line in f]\r\n",
        "\r\n",
        "print(domains)"
      ],
      "execution_count": 19,
      "outputs": [
        {
          "output_type": "stream",
          "text": [
            "['gmail.com', 'naver.com', 'daum.net']\n"
          ],
          "name": "stdout"
        }
      ]
    }
  ]
}