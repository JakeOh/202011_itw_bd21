{
  "nbformat": 4,
  "nbformat_minor": 0,
  "metadata": {
    "colab": {
      "name": "python34_file.ipynb",
      "provenance": [],
      "collapsed_sections": [],
      "authorship_tag": "ABX9TyNCsH0gKgyCAVLeIGh68pRA",
      "include_colab_link": true
    },
    "kernelspec": {
      "name": "python3",
      "display_name": "Python 3"
    }
  },
  "cells": [
    {
      "cell_type": "markdown",
      "metadata": {
        "id": "view-in-github",
        "colab_type": "text"
      },
      "source": [
        "<a href=\"https://colab.research.google.com/github/JakeOh/202011_itw_bd21/blob/main/lab_python/python34_file.ipynb\" target=\"_parent\"><img src=\"https://colab.research.google.com/assets/colab-badge.svg\" alt=\"Open In Colab\"/></a>"
      ]
    },
    {
      "cell_type": "markdown",
      "metadata": {
        "id": "KLMi-7GCznBi"
      },
      "source": [
        "# 텍스트 파일 쓰기(write)/읽기(read)\r\n",
        "\r\n",
        "1. 파일 열기(open)\r\n",
        "2. 파일 내용 쓰기(write) / 읽기(read)\r\n",
        "3. 파일 닫기(close)"
      ]
    },
    {
      "cell_type": "markdown",
      "metadata": {
        "id": "ytfaMq67exNX"
      },
      "source": [
        "## 파일 쓰기"
      ]
    },
    {
      "cell_type": "code",
      "metadata": {
        "colab": {
          "base_uri": "https://localhost:8080/"
        },
        "id": "1j7puemXzaTo",
        "outputId": "e54ea365-234b-4236-ddec-ff546c8e3038"
      },
      "source": [
        "# open(file, mode='r', ...): 파일 열기\r\n",
        "#   file: 디렉토리(폴더) 경로를 포함한 파일 이름(str)\r\n",
        "#   mode: r(read: 읽기), w(write: 쓰기), a(append: 추가), t(text: 텍스트), b(binary: 이진)\r\n",
        "\r\n",
        "# 1) 파일 열기\r\n",
        "f = open(file='hello.txt', mode='w')  # mode='wt'\r\n",
        "print(f)\r\n",
        "\r\n",
        "# 2) 파일에 내용 쓰기\r\n",
        "f.write('Hello\\n')  # '\\n': 줄바꿈(new line)\r\n",
        "f.write('안녕하세요\\n')\r\n",
        "\r\n",
        "# 3) 파일 닫기\r\n",
        "f.close()"
      ],
      "execution_count": 1,
      "outputs": [
        {
          "output_type": "stream",
          "text": [
            "<_io.TextIOWrapper name='hello.txt' mode='w' encoding='UTF-8'>\n"
          ],
          "name": "stdout"
        }
      ]
    },
    {
      "cell_type": "code",
      "metadata": {
        "id": "WTRv4eKf2p7b"
      },
      "source": [
        "# with ... as ~ 구문: with에서 open된 객체의 close() 메서드를 자동으로 호출.\r\n",
        "with open(file='test.txt', mode='wt') as f:\r\n",
        "    f.write('파일 쓰기 테스트\\n')\r\n",
        "    f.write('오늘 수업도 이제 끝나갑니다...\\n')\r\n",
        "# 파일 쓰기가 모두 끝났을 때, f.close()를 명시적으로 호출할 필요가 없음!\r\n",
        "# with ... as ~ 구문이 자동으로 close()를 호출해줌."
      ],
      "execution_count": 2,
      "outputs": []
    },
    {
      "cell_type": "markdown",
      "metadata": {
        "id": "VWOF6kSsez3H"
      },
      "source": [
        "## 파일 읽기"
      ]
    },
    {
      "cell_type": "markdown",
      "metadata": {
        "id": "zytf4yJBe8zP"
      },
      "source": [
        "*   파일 경로(path)\r\n",
        "    *   상대 경로(relative path)\r\n",
        "        *   현재 작업 디렉토리(current working directory)에서부터 상대적으로 파일의 경로를 표시하는 방법\r\n",
        "        *   hello.txt\r\n",
        "        *   sample_data/anscombe.json\r\n",
        "        *   temp\\hello.txt\r\n",
        "    *   절대 경로(absolute path)\r\n",
        "        *   하드 디스크 root 디렉토리에서부터 파일의 전체 경로를 표시하는 방법.\r\n",
        "        *   /content/hello.txt\r\n",
        "        *   /content/sample_data/anscombe.json\r\n",
        "        *   C:\\Users\\temp\\hello.txt"
      ]
    },
    {
      "cell_type": "code",
      "metadata": {
        "colab": {
          "base_uri": "https://localhost:8080/"
        },
        "id": "IIWZiOkVe1uQ",
        "outputId": "45c652f7-f73d-49d0-b4ed-81f285f8f57e"
      },
      "source": [
        "with open(file='hello.txt', mode='r') as f:\r\n",
        "    # file='hello.txt': 상대 경로\r\n",
        "    # mode='r': read - open() 함수에서 mode의 기본값은 'rt'이기 때문에 생략 가능.\r\n",
        "    line = f.readline()\r\n",
        "    print(line)\r\n",
        "    line = f.readline()\r\n",
        "    print(line)\r\n",
        "    line = f.readline()\r\n",
        "    print(line)"
      ],
      "execution_count": 7,
      "outputs": [
        {
          "output_type": "stream",
          "text": [
            "Hello\n",
            "\n",
            "안녕하세요\n",
            "\n",
            "\n"
          ],
          "name": "stdout"
        }
      ]
    },
    {
      "cell_type": "code",
      "metadata": {
        "colab": {
          "base_uri": "https://localhost:8080/"
        },
        "id": "y48I_caDk5Og",
        "outputId": "3d0c3994-780d-4428-886f-8d25279d69bd"
      },
      "source": [
        "with open(file='hello.txt', mode='r') as f:\r\n",
        "    while True:  # 무한 루프 시작\r\n",
        "        # 파일에서 한 줄(line)을 읽음\r\n",
        "        line = f.readline()\r\n",
        "        if line:\r\n",
        "            # 읽은 내용이 있으면 출력하고, 루프를 반복\r\n",
        "            print(line)\r\n",
        "        else:\r\n",
        "            # 읽은 내용이 없으면 무한 루프를 종료\r\n",
        "            break"
      ],
      "execution_count": 8,
      "outputs": [
        {
          "output_type": "stream",
          "text": [
            "Hello\n",
            "\n",
            "안녕하세요\n",
            "\n"
          ],
          "name": "stdout"
        }
      ]
    },
    {
      "cell_type": "markdown",
      "metadata": {
        "id": "uKB7bUG7rU-v"
      },
      "source": [
        "for ... in ~ 구문에서 파일 객체 사용하기"
      ]
    },
    {
      "cell_type": "code",
      "metadata": {
        "colab": {
          "base_uri": "https://localhost:8080/"
        },
        "id": "LNkjgQgAraIf",
        "outputId": "d9591a9d-d345-4678-8674-4cd44e9ee5e9"
      },
      "source": [
        "with open(file='hello.txt', mode='r') as f:\r\n",
        "    for line in f:\r\n",
        "        # 파일의 첫번째 줄부터 마지막 줄까지(파일 끝까지) f.readline()을 자동으로 호출.\r\n",
        "        # 파일에 끝에 도달해서 readline()이 읽은 내용이 없으면 반복을 종료.\r\n",
        "        # print(line, end='')\r\n",
        "        print(line.strip())"
      ],
      "execution_count": 13,
      "outputs": [
        {
          "output_type": "stream",
          "text": [
            "Hello\n",
            "안녕하세요\n"
          ],
          "name": "stdout"
        }
      ]
    },
    {
      "cell_type": "code",
      "metadata": {
        "id": "PT4wnAMprniQ"
      },
      "source": [
        ""
      ],
      "execution_count": null,
      "outputs": []
    }
  ]
}