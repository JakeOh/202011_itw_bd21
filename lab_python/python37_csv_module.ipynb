{
  "nbformat": 4,
  "nbformat_minor": 0,
  "metadata": {
    "colab": {
      "name": "python37_csv_module.ipynb",
      "provenance": [],
      "collapsed_sections": [],
      "mount_file_id": "18GgltiytM1k3JPOK4Kgs6i3IdLPejuu4",
      "authorship_tag": "ABX9TyOfMrVdF0tPpEuqYYC81mb8",
      "include_colab_link": true
    },
    "kernelspec": {
      "name": "python3",
      "display_name": "Python 3"
    }
  },
  "cells": [
    {
      "cell_type": "markdown",
      "metadata": {
        "id": "view-in-github",
        "colab_type": "text"
      },
      "source": [
        "<a href=\"https://colab.research.google.com/github/JakeOh/202011_itw_bd21/blob/main/lab_python/python37_csv_module.ipynb\" target=\"_parent\"><img src=\"https://colab.research.google.com/assets/colab-badge.svg\" alt=\"Open In Colab\"/></a>"
      ]
    },
    {
      "cell_type": "markdown",
      "metadata": {
        "id": "J-31AOTW6Lnw"
      },
      "source": [
        "*   pop_seoul.csv 파일을 구글 드라이브에 업로드\r\n",
        "*   Colab에서 구글 드라이브를 마운트"
      ]
    },
    {
      "cell_type": "code",
      "metadata": {
        "id": "xIA0Kxff56kS"
      },
      "source": [
        "file_path = '/content/drive/MyDrive/Colab Notebooks/lab_python/pop_seoul.csv'"
      ],
      "execution_count": 1,
      "outputs": []
    },
    {
      "cell_type": "code",
      "metadata": {
        "colab": {
          "base_uri": "https://localhost:8080/"
        },
        "id": "USWN2rL47RlM",
        "outputId": "459cdcd1-9098-4637-84a0-a4878ae4a761"
      },
      "source": [
        "with open(file_path, mode='r') as f:\r\n",
        "    for i, line in enumerate(f):\r\n",
        "        print(line)\r\n",
        "        if i == 5:\r\n",
        "            break"
      ],
      "execution_count": 2,
      "outputs": [
        {
          "output_type": "stream",
          "text": [
            "Gu,Korean,Foreigner,Senior\n",
            "\n",
            "Total,\"9,740,398\",\"285,529\",\"1,468,146\"\n",
            "\n",
            "Jongrogu,\"151,767\",\"11,093\",\"27,394\"\n",
            "\n",
            "Jongru,\"126,409\",\"10,254\",\"23,025\"\n",
            "\n",
            "Yongsangu,\"228,830\",\"16,159\",\"38,531\"\n",
            "\n",
            "Seongdonggu,\"303,158\",\"8,132\",\"43,662\"\n",
            "\n"
          ],
          "name": "stdout"
        }
      ]
    },
    {
      "cell_type": "code",
      "metadata": {
        "id": "FisSql307wkR"
      },
      "source": [
        ""
      ],
      "execution_count": null,
      "outputs": []
    }
  ]
}