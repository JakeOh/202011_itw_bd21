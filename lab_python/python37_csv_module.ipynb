{
  "nbformat": 4,
  "nbformat_minor": 0,
  "metadata": {
    "colab": {
      "name": "python37_csv_module.ipynb",
      "provenance": [],
      "collapsed_sections": [],
      "mount_file_id": "18GgltiytM1k3JPOK4Kgs6i3IdLPejuu4",
      "authorship_tag": "ABX9TyOcXwFy2n7S2q3wWqqVgnKu",
      "include_colab_link": true
    },
    "kernelspec": {
      "name": "python3",
      "display_name": "Python 3"
    }
  },
  "cells": [
    {
      "cell_type": "markdown",
      "metadata": {
        "id": "view-in-github",
        "colab_type": "text"
      },
      "source": [
        "<a href=\"https://colab.research.google.com/github/JakeOh/202011_itw_bd21/blob/main/lab_python/python37_csv_module.ipynb\" target=\"_parent\"><img src=\"https://colab.research.google.com/assets/colab-badge.svg\" alt=\"Open In Colab\"/></a>"
      ]
    },
    {
      "cell_type": "markdown",
      "metadata": {
        "id": "J-31AOTW6Lnw"
      },
      "source": [
        "*   pop_seoul.csv 파일을 구글 드라이브에 업로드\r\n",
        "*   Colab에서 구글 드라이브를 마운트"
      ]
    },
    {
      "cell_type": "code",
      "metadata": {
        "id": "xIA0Kxff56kS"
      },
      "source": [
        "file_path = '/content/drive/MyDrive/Colab Notebooks/lab_python/pop_seoul.csv'"
      ],
      "execution_count": 1,
      "outputs": []
    },
    {
      "cell_type": "code",
      "metadata": {
        "colab": {
          "base_uri": "https://localhost:8080/"
        },
        "id": "USWN2rL47RlM",
        "outputId": "459cdcd1-9098-4637-84a0-a4878ae4a761"
      },
      "source": [
        "with open(file_path, mode='r') as f:\r\n",
        "    for i, line in enumerate(f):\r\n",
        "        print(line)\r\n",
        "        if i == 5:\r\n",
        "            break"
      ],
      "execution_count": 2,
      "outputs": [
        {
          "output_type": "stream",
          "text": [
            "Gu,Korean,Foreigner,Senior\n",
            "\n",
            "Total,\"9,740,398\",\"285,529\",\"1,468,146\"\n",
            "\n",
            "Jongrogu,\"151,767\",\"11,093\",\"27,394\"\n",
            "\n",
            "Jongru,\"126,409\",\"10,254\",\"23,025\"\n",
            "\n",
            "Yongsangu,\"228,830\",\"16,159\",\"38,531\"\n",
            "\n",
            "Seongdonggu,\"303,158\",\"8,132\",\"43,662\"\n",
            "\n"
          ],
          "name": "stdout"
        }
      ]
    },
    {
      "cell_type": "markdown",
      "metadata": {
        "id": "v4Mwu9hXHDXR"
      },
      "source": [
        "\r\n",
        "[CSV 모듈](https://docs.python.org/3/library/csv.html)\r\n"
      ]
    },
    {
      "cell_type": "code",
      "metadata": {
        "id": "FisSql307wkR"
      },
      "source": [
        "import csv"
      ],
      "execution_count": 3,
      "outputs": []
    },
    {
      "cell_type": "code",
      "metadata": {
        "colab": {
          "base_uri": "https://localhost:8080/"
        },
        "id": "Kgv30ecFBkky",
        "outputId": "cb30d8fd-f6b9-4b74-b9ee-e34f3218e37f"
      },
      "source": [
        "with open(file_path, mode='r') as f:\r\n",
        "    pop_seoul = []  # CSV 파일의 데이터를 저장할 리스트\r\n",
        "\r\n",
        "    # 파일 객체를 csv.reader() 함수의 argument로 전달해서 reader 객체를 생성.\r\n",
        "    reader = csv.reader(f)\r\n",
        "    for row in reader:\r\n",
        "        # csv reader 객체는 파일을 한 줄씩 읽으면서\r\n",
        "        # 그 줄을 구분자(separator)로 split된 \"리스트\"를 만들어 줌.\r\n",
        "        pop_seoul.append(row)\r\n",
        "\r\n",
        "pop_seoul"
      ],
      "execution_count": 5,
      "outputs": [
        {
          "output_type": "execute_result",
          "data": {
            "text/plain": [
              "[['Gu', 'Korean', 'Foreigner', 'Senior'],\n",
              " ['Total', '9,740,398', '285,529', '1,468,146'],\n",
              " ['Jongrogu', '151,767', '11,093', '27,394'],\n",
              " ['Jongru', '126,409', '10,254', '23,025'],\n",
              " ['Yongsangu', '228,830', '16,159', '38,531'],\n",
              " ['Seongdonggu', '303,158', '8,132', '43,662'],\n",
              " ['Kwangjingu', '352,692', '15,645', '47,347'],\n",
              " ['Dongdaemoongu', '346,551', '17,228', '58,764'],\n",
              " ['Jungranggu', '398,812', '4,964', '64,449'],\n",
              " ['Seongbukgu', '441,590', '12,524', '70,204'],\n",
              " ['Gangbukgu', '314,090', '3,785', '59,808'],\n",
              " ['Dobonggu', '335,280', '2,314', '58,070'],\n",
              " ['Nowonggu', '535,282', '4,547', '79,968'],\n",
              " ['Eunpyonggu', '481,663', '4,496', '79,957'],\n",
              " ['Seodaemungu', '310,069', '14,020', '51,708'],\n",
              " ['Mapogu', '373,629', '11,976', '51,961'],\n",
              " ['Yangcheongu', '459,849', '4,082', '60,487'],\n",
              " ['Gangseogu', '593,708', '6,532', '82,937'],\n",
              " ['Gurogu', '406,748', '33,102', '64,952'],\n",
              " ['Guemcheongu', '233,371', '19,497', '37,191'],\n",
              " ['Youngdeungpogu', '368,402', '34,076', '57,350'],\n",
              " ['Dongjakgu', '397,618', '12,869', '61,607'],\n",
              " ['Kwanakgu', '502,117', '17,836', '74,518'],\n",
              " ['Seoucheogu', '431,027', '4,231', '56,455'],\n",
              " ['Gangnamgu', '544,028', '5,015', '70,029'],\n",
              " ['Songpagu', '677,489', '6,849', '86,062'],\n",
              " ['Gangdonggu', '426,219', '4,303', '61,710']]"
            ]
          },
          "metadata": {
            "tags": []
          },
          "execution_count": 5
        }
      ]
    },
    {
      "cell_type": "code",
      "metadata": {
        "colab": {
          "base_uri": "https://localhost:8080/"
        },
        "id": "gcE3fIuPD1jx",
        "outputId": "6d188099-fe7d-4b42-8e19-82a391abe0cb"
      },
      "source": [
        "with open(file_path, mode='r') as f:\r\n",
        "    reader = csv.reader(f)\r\n",
        "    pop_seoul = [row for row in reader]\r\n",
        "\r\n",
        "pop_seoul"
      ],
      "execution_count": 6,
      "outputs": [
        {
          "output_type": "execute_result",
          "data": {
            "text/plain": [
              "[['Gu', 'Korean', 'Foreigner', 'Senior'],\n",
              " ['Total', '9,740,398', '285,529', '1,468,146'],\n",
              " ['Jongrogu', '151,767', '11,093', '27,394'],\n",
              " ['Jongru', '126,409', '10,254', '23,025'],\n",
              " ['Yongsangu', '228,830', '16,159', '38,531'],\n",
              " ['Seongdonggu', '303,158', '8,132', '43,662'],\n",
              " ['Kwangjingu', '352,692', '15,645', '47,347'],\n",
              " ['Dongdaemoongu', '346,551', '17,228', '58,764'],\n",
              " ['Jungranggu', '398,812', '4,964', '64,449'],\n",
              " ['Seongbukgu', '441,590', '12,524', '70,204'],\n",
              " ['Gangbukgu', '314,090', '3,785', '59,808'],\n",
              " ['Dobonggu', '335,280', '2,314', '58,070'],\n",
              " ['Nowonggu', '535,282', '4,547', '79,968'],\n",
              " ['Eunpyonggu', '481,663', '4,496', '79,957'],\n",
              " ['Seodaemungu', '310,069', '14,020', '51,708'],\n",
              " ['Mapogu', '373,629', '11,976', '51,961'],\n",
              " ['Yangcheongu', '459,849', '4,082', '60,487'],\n",
              " ['Gangseogu', '593,708', '6,532', '82,937'],\n",
              " ['Gurogu', '406,748', '33,102', '64,952'],\n",
              " ['Guemcheongu', '233,371', '19,497', '37,191'],\n",
              " ['Youngdeungpogu', '368,402', '34,076', '57,350'],\n",
              " ['Dongjakgu', '397,618', '12,869', '61,607'],\n",
              " ['Kwanakgu', '502,117', '17,836', '74,518'],\n",
              " ['Seoucheogu', '431,027', '4,231', '56,455'],\n",
              " ['Gangnamgu', '544,028', '5,015', '70,029'],\n",
              " ['Songpagu', '677,489', '6,849', '86,062'],\n",
              " ['Gangdonggu', '426,219', '4,303', '61,710']]"
            ]
          },
          "metadata": {
            "tags": []
          },
          "execution_count": 6
        }
      ]
    },
    {
      "cell_type": "code",
      "metadata": {
        "colab": {
          "base_uri": "https://localhost:8080/"
        },
        "id": "uDauy2IZEdtj",
        "outputId": "14fa3d02-30f8-447a-eb44-f497c93d6ac7"
      },
      "source": [
        "exam_file = '/content/drive/MyDrive/Colab Notebooks/lab_python/csv_exam.csv'\r\n",
        "with open(exam_file, mode='r') as f:\r\n",
        "    reader = csv.reader(f)\r\n",
        "    exam = [row for row in reader]\r\n",
        "\r\n",
        "exam"
      ],
      "execution_count": 7,
      "outputs": [
        {
          "output_type": "execute_result",
          "data": {
            "text/plain": [
              "[['id', 'class', 'math', 'english', 'science'],\n",
              " ['1', '1', '50', '98', '50'],\n",
              " ['2', '1', '60', '97', '60'],\n",
              " ['3', '1', '45', '86', '78'],\n",
              " ['4', '1', '30', '98', '58'],\n",
              " ['5', '2', '25', '80', '65'],\n",
              " ['6', '2', '50', '89', '98'],\n",
              " ['7', '2', '80', '90', '45'],\n",
              " ['8', '2', '90', '78', '25'],\n",
              " ['9', '3', '20', '98', '15'],\n",
              " ['10', '3', '50', '98', '45'],\n",
              " ['11', '3', '65', '65', '65'],\n",
              " ['12', '3', '45', '85', '32'],\n",
              " ['13', '4', '46', '98', '65'],\n",
              " ['14', '4', '48', '87', '12'],\n",
              " ['15', '4', '75', '56', '78'],\n",
              " ['16', '4', '58', '98', '65'],\n",
              " ['17', '5', '65', '68', '98'],\n",
              " ['18', '5', '80', '78', '90'],\n",
              " ['19', '5', '89', '68', '87'],\n",
              " ['20', '5', '78', '83', '58']]"
            ]
          },
          "metadata": {
            "tags": []
          },
          "execution_count": 7
        }
      ]
    },
    {
      "cell_type": "code",
      "metadata": {
        "colab": {
          "base_uri": "https://localhost:8080/"
        },
        "id": "n8ds245bFLrQ",
        "outputId": "df1c376a-a450-46d8-b26e-0500e2cf8333"
      },
      "source": [
        "# pop_seoul 리스트에서 숫자로 변경해야 할 데이터들을 int 타입으로 변환.\r\n",
        "for i, row in enumerate(pop_seoul):\r\n",
        "    if i > 0:\r\n",
        "        for j in range(1, 4):\r\n",
        "            pop_seoul[i][j] = int(row[j].replace(',', ''))\r\n",
        "\r\n",
        "pop_seoul"
      ],
      "execution_count": 14,
      "outputs": [
        {
          "output_type": "execute_result",
          "data": {
            "text/plain": [
              "[['Gu', 'Korean', 'Foreigner', 'Senior'],\n",
              " ['Total', 9740398, 285529, 1468146],\n",
              " ['Jongrogu', 151767, 11093, 27394],\n",
              " ['Jongru', 126409, 10254, 23025],\n",
              " ['Yongsangu', 228830, 16159, 38531],\n",
              " ['Seongdonggu', 303158, 8132, 43662],\n",
              " ['Kwangjingu', 352692, 15645, 47347],\n",
              " ['Dongdaemoongu', 346551, 17228, 58764],\n",
              " ['Jungranggu', 398812, 4964, 64449],\n",
              " ['Seongbukgu', 441590, 12524, 70204],\n",
              " ['Gangbukgu', 314090, 3785, 59808],\n",
              " ['Dobonggu', 335280, 2314, 58070],\n",
              " ['Nowonggu', 535282, 4547, 79968],\n",
              " ['Eunpyonggu', 481663, 4496, 79957],\n",
              " ['Seodaemungu', 310069, 14020, 51708],\n",
              " ['Mapogu', 373629, 11976, 51961],\n",
              " ['Yangcheongu', 459849, 4082, 60487],\n",
              " ['Gangseogu', 593708, 6532, 82937],\n",
              " ['Gurogu', 406748, 33102, 64952],\n",
              " ['Guemcheongu', 233371, 19497, 37191],\n",
              " ['Youngdeungpogu', 368402, 34076, 57350],\n",
              " ['Dongjakgu', 397618, 12869, 61607],\n",
              " ['Kwanakgu', 502117, 17836, 74518],\n",
              " ['Seoucheogu', 431027, 4231, 56455],\n",
              " ['Gangnamgu', 544028, 5015, 70029],\n",
              " ['Songpagu', 677489, 6849, 86062],\n",
              " ['Gangdonggu', 426219, 4303, 61710]]"
            ]
          },
          "metadata": {
            "tags": []
          },
          "execution_count": 14
        }
      ]
    },
    {
      "cell_type": "code",
      "metadata": {
        "colab": {
          "base_uri": "https://localhost:8080/"
        },
        "id": "Z_PngyGhJRuR",
        "outputId": "4bab5e9c-5433-405c-880c-ef574fae8600"
      },
      "source": [
        "for i, row in enumerate(exam):\r\n",
        "    if i > 0:\r\n",
        "        for j, val in enumerate(row):\r\n",
        "            exam[i][j] = int(val)\r\n",
        "\r\n",
        "exam"
      ],
      "execution_count": 15,
      "outputs": [
        {
          "output_type": "execute_result",
          "data": {
            "text/plain": [
              "[['id', 'class', 'math', 'english', 'science'],\n",
              " [1, 1, 50, 98, 50],\n",
              " [2, 1, 60, 97, 60],\n",
              " [3, 1, 45, 86, 78],\n",
              " [4, 1, 30, 98, 58],\n",
              " [5, 2, 25, 80, 65],\n",
              " [6, 2, 50, 89, 98],\n",
              " [7, 2, 80, 90, 45],\n",
              " [8, 2, 90, 78, 25],\n",
              " [9, 3, 20, 98, 15],\n",
              " [10, 3, 50, 98, 45],\n",
              " [11, 3, 65, 65, 65],\n",
              " [12, 3, 45, 85, 32],\n",
              " [13, 4, 46, 98, 65],\n",
              " [14, 4, 48, 87, 12],\n",
              " [15, 4, 75, 56, 78],\n",
              " [16, 4, 58, 98, 65],\n",
              " [17, 5, 65, 68, 98],\n",
              " [18, 5, 80, 78, 90],\n",
              " [19, 5, 89, 68, 87],\n",
              " [20, 5, 78, 83, 58]]"
            ]
          },
          "metadata": {
            "tags": []
          },
          "execution_count": 15
        }
      ]
    },
    {
      "cell_type": "code",
      "metadata": {
        "colab": {
          "base_uri": "https://localhost:8080/"
        },
        "id": "9AX3vfk4djoP",
        "outputId": "148b4eb0-e674-4cf6-d201-b761bb7e7db9"
      },
      "source": [
        "# try-except 활용\r\n",
        "with open(file_path, mode='r') as f:\r\n",
        "    reader = csv.reader(f)\r\n",
        "    pop_seoul = [row for row in reader]\r\n",
        "\r\n",
        "print(pop_seoul)\r\n",
        "\r\n",
        "for i, row in enumerate(pop_seoul):\r\n",
        "    for j, val in enumerate(row):\r\n",
        "        try:\r\n",
        "            # int 타입으로 변환을 시도하고, 에러가 없으면 해당 인덱스 위치에 저장.\r\n",
        "            pop_seoul[i][j] = int(val.replace(',', ''))\r\n",
        "        except:\r\n",
        "            # int 타입으로 변환 도중에 에러가 발생하면, 아무 일도 하지 않음.\r\n",
        "            pass\r\n",
        "\r\n",
        "pop_seoul"
      ],
      "execution_count": 19,
      "outputs": [
        {
          "output_type": "stream",
          "text": [
            "[['Gu', 'Korean', 'Foreigner', 'Senior'], ['Total', '9,740,398', '285,529', '1,468,146'], ['Jongrogu', '151,767', '11,093', '27,394'], ['Jongru', '126,409', '10,254', '23,025'], ['Yongsangu', '228,830', '16,159', '38,531'], ['Seongdonggu', '303,158', '8,132', '43,662'], ['Kwangjingu', '352,692', '15,645', '47,347'], ['Dongdaemoongu', '346,551', '17,228', '58,764'], ['Jungranggu', '398,812', '4,964', '64,449'], ['Seongbukgu', '441,590', '12,524', '70,204'], ['Gangbukgu', '314,090', '3,785', '59,808'], ['Dobonggu', '335,280', '2,314', '58,070'], ['Nowonggu', '535,282', '4,547', '79,968'], ['Eunpyonggu', '481,663', '4,496', '79,957'], ['Seodaemungu', '310,069', '14,020', '51,708'], ['Mapogu', '373,629', '11,976', '51,961'], ['Yangcheongu', '459,849', '4,082', '60,487'], ['Gangseogu', '593,708', '6,532', '82,937'], ['Gurogu', '406,748', '33,102', '64,952'], ['Guemcheongu', '233,371', '19,497', '37,191'], ['Youngdeungpogu', '368,402', '34,076', '57,350'], ['Dongjakgu', '397,618', '12,869', '61,607'], ['Kwanakgu', '502,117', '17,836', '74,518'], ['Seoucheogu', '431,027', '4,231', '56,455'], ['Gangnamgu', '544,028', '5,015', '70,029'], ['Songpagu', '677,489', '6,849', '86,062'], ['Gangdonggu', '426,219', '4,303', '61,710']]\n"
          ],
          "name": "stdout"
        },
        {
          "output_type": "execute_result",
          "data": {
            "text/plain": [
              "[['Gu', 'Korean', 'Foreigner', 'Senior'],\n",
              " ['Total', 9740398, 285529, 1468146],\n",
              " ['Jongrogu', 151767, 11093, 27394],\n",
              " ['Jongru', 126409, 10254, 23025],\n",
              " ['Yongsangu', 228830, 16159, 38531],\n",
              " ['Seongdonggu', 303158, 8132, 43662],\n",
              " ['Kwangjingu', 352692, 15645, 47347],\n",
              " ['Dongdaemoongu', 346551, 17228, 58764],\n",
              " ['Jungranggu', 398812, 4964, 64449],\n",
              " ['Seongbukgu', 441590, 12524, 70204],\n",
              " ['Gangbukgu', 314090, 3785, 59808],\n",
              " ['Dobonggu', 335280, 2314, 58070],\n",
              " ['Nowonggu', 535282, 4547, 79968],\n",
              " ['Eunpyonggu', 481663, 4496, 79957],\n",
              " ['Seodaemungu', 310069, 14020, 51708],\n",
              " ['Mapogu', 373629, 11976, 51961],\n",
              " ['Yangcheongu', 459849, 4082, 60487],\n",
              " ['Gangseogu', 593708, 6532, 82937],\n",
              " ['Gurogu', 406748, 33102, 64952],\n",
              " ['Guemcheongu', 233371, 19497, 37191],\n",
              " ['Youngdeungpogu', 368402, 34076, 57350],\n",
              " ['Dongjakgu', 397618, 12869, 61607],\n",
              " ['Kwanakgu', 502117, 17836, 74518],\n",
              " ['Seoucheogu', 431027, 4231, 56455],\n",
              " ['Gangnamgu', 544028, 5015, 70029],\n",
              " ['Songpagu', 677489, 6849, 86062],\n",
              " ['Gangdonggu', 426219, 4303, 61710]]"
            ]
          },
          "metadata": {
            "tags": []
          },
          "execution_count": 19
        }
      ]
    },
    {
      "cell_type": "markdown",
      "metadata": {
        "id": "vxGBB7Dpf_jf"
      },
      "source": [
        "*   파생 변수 추가\r\n",
        "*   pop_seoul 리스트의 첫번째 행의 마지막에는 'foreign_ratio' 원소를 추가\r\n",
        "*   pop_seoul 리스트의 두번째 행부터 끝까지에는 외국인 비율(%)을 추가\r\n",
        "*   foreign_ratio = Foreigner / (Korean + Foreigner) * 100"
      ]
    },
    {
      "cell_type": "code",
      "metadata": {
        "colab": {
          "base_uri": "https://localhost:8080/"
        },
        "id": "-9Fm013NiUGI",
        "outputId": "3422d252-7405-4d5e-943f-59ef77ac2350"
      },
      "source": [
        "for i, row in enumerate(pop_seoul):\r\n",
        "    if i == 0:  # 컬럼 이름들 리스트\r\n",
        "        row.append('foreign_ratio')\r\n",
        "    else:\r\n",
        "        foreign_ratio = row[2] / (row[1] + row[2]) * 100\r\n",
        "        row.append(foreign_ratio)\r\n",
        "\r\n",
        "pop_seoul"
      ],
      "execution_count": 20,
      "outputs": [
        {
          "output_type": "execute_result",
          "data": {
            "text/plain": [
              "[['Gu', 'Korean', 'Foreigner', 'Senior', 'foreign_ratio'],\n",
              " ['Total', 9740398, 285529, 1468146, 2.847906233508383],\n",
              " ['Jongrogu', 151767, 11093, 27394, 6.81137173032052],\n",
              " ['Jongru', 126409, 10254, 23025, 7.503128132705999],\n",
              " ['Yongsangu', 228830, 16159, 38531, 6.595806342325574],\n",
              " ['Seongdonggu', 303158, 8132, 43662, 2.612355038709885],\n",
              " ['Kwangjingu', 352692, 15645, 47347, 4.247469029720066],\n",
              " ['Dongdaemoongu', 346551, 17228, 58764, 4.735842365832003],\n",
              " ['Jungranggu', 398812, 4964, 64449, 1.2293945157711206],\n",
              " ['Seongbukgu', 441590, 12524, 70204, 2.7578977965885216],\n",
              " ['Gangbukgu', 314090, 3785, 59808, 1.1907196224931182],\n",
              " ['Dobonggu', 335280, 2314, 58070, 0.6854387222521727],\n",
              " ['Nowonggu', 535282, 4547, 79968, 0.8423037665631153],\n",
              " ['Eunpyonggu', 481663, 4496, 79957, 0.9248003225282263],\n",
              " ['Seodaemungu', 310069, 14020, 51708, 4.325972186652431],\n",
              " ['Mapogu', 373629, 11976, 51961, 3.1057688567316295],\n",
              " ['Yangcheongu', 459849, 4082, 60487, 0.8798722223778968],\n",
              " ['Gangseogu', 593708, 6532, 82937, 1.08823137411702],\n",
              " ['Gurogu', 406748, 33102, 64952, 7.5257474138911],\n",
              " ['Guemcheongu', 233371, 19497, 37191, 7.71034690035908],\n",
              " ['Youngdeungpogu', 368402, 34076, 57350, 8.46654972445699],\n",
              " ['Dongjakgu', 397618, 12869, 61607, 3.1350566522204115],\n",
              " ['Kwanakgu', 502117, 17836, 74518, 3.430310047254271],\n",
              " ['Seoucheogu', 431027, 4231, 56455, 0.9720671417871699],\n",
              " ['Gangnamgu', 544028, 5015, 70029, 0.9134075108871255],\n",
              " ['Songpagu', 677489, 6849, 86062, 1.0008212316136178],\n",
              " ['Gangdonggu', 426219, 4303, 61710, 0.999484346909101]]"
            ]
          },
          "metadata": {
            "tags": []
          },
          "execution_count": 20
        }
      ]
    },
    {
      "cell_type": "markdown",
      "metadata": {
        "id": "LzB0euhuj0B3"
      },
      "source": [
        "pop_seoul 리스트에서 외국이 비율이 3% 이상인 모든 레코드들을 검색 -> pop_foreign_over3 리스트 생성"
      ]
    },
    {
      "cell_type": "code",
      "metadata": {
        "colab": {
          "base_uri": "https://localhost:8080/"
        },
        "id": "vlbEwTy6jzvD",
        "outputId": "7a4ae3c4-14d3-4c4f-f658-4db6bccabc08"
      },
      "source": [
        "pop_foreign_over3 = []\r\n",
        "for i, row in enumerate(pop_seoul):\r\n",
        "    if i == 0:\r\n",
        "        pop_foreign_over3.append(row)\r\n",
        "    else:\r\n",
        "        if row[4] >= 3.0:\r\n",
        "            pop_foreign_over3.append(row)\r\n",
        "\r\n",
        "pop_foreign_over3"
      ],
      "execution_count": 21,
      "outputs": [
        {
          "output_type": "execute_result",
          "data": {
            "text/plain": [
              "[['Gu', 'Korean', 'Foreigner', 'Senior', 'foreign_ratio'],\n",
              " ['Jongrogu', 151767, 11093, 27394, 6.81137173032052],\n",
              " ['Jongru', 126409, 10254, 23025, 7.503128132705999],\n",
              " ['Yongsangu', 228830, 16159, 38531, 6.595806342325574],\n",
              " ['Kwangjingu', 352692, 15645, 47347, 4.247469029720066],\n",
              " ['Dongdaemoongu', 346551, 17228, 58764, 4.735842365832003],\n",
              " ['Seodaemungu', 310069, 14020, 51708, 4.325972186652431],\n",
              " ['Mapogu', 373629, 11976, 51961, 3.1057688567316295],\n",
              " ['Gurogu', 406748, 33102, 64952, 7.5257474138911],\n",
              " ['Guemcheongu', 233371, 19497, 37191, 7.71034690035908],\n",
              " ['Youngdeungpogu', 368402, 34076, 57350, 8.46654972445699],\n",
              " ['Dongjakgu', 397618, 12869, 61607, 3.1350566522204115],\n",
              " ['Kwanakgu', 502117, 17836, 74518, 3.430310047254271]]"
            ]
          },
          "metadata": {
            "tags": []
          },
          "execution_count": 21
        }
      ]
    },
    {
      "cell_type": "markdown",
      "metadata": {
        "id": "EKmVMCjSpTve"
      },
      "source": [
        "*   pop_seoul 리스트에 Senior 인구 비율(%)을 파생 변수로 추가\r\n",
        "*   senior_ratio = Senior / (Korean + Foreigner) * 100\r\n",
        "*   Senior 인구 비율이 15% 이상인 레코들로만 이루어진 리스트를 생성하고 출력"
      ]
    },
    {
      "cell_type": "code",
      "metadata": {
        "colab": {
          "base_uri": "https://localhost:8080/"
        },
        "id": "6kaTm9d4p-iP",
        "outputId": "55ddb496-848b-4108-ab6a-358b9344b644"
      },
      "source": [
        "for i, row in enumerate(pop_seoul):\r\n",
        "    if i == 0:\r\n",
        "        row.append('senior_ratio')\r\n",
        "    else:\r\n",
        "        senior_ratio = row[3] / (row[1] + row[2]) * 100\r\n",
        "        row.append(senior_ratio)\r\n",
        "\r\n",
        "pop_seoul"
      ],
      "execution_count": 24,
      "outputs": [
        {
          "output_type": "execute_result",
          "data": {
            "text/plain": [
              "[['Gu', 'Korean', 'Foreigner', 'Senior', 'foreign_ratio', 'senior_ratio'],\n",
              " ['Total', 9740398, 285529, 1468146, 2.847906233508383, 14.643493813589506],\n",
              " ['Jongrogu', 151767, 11093, 27394, 6.81137173032052, 16.820582095050966],\n",
              " ['Jongru', 126409, 10254, 23025, 7.503128132705999, 16.84801299547061],\n",
              " ['Yongsangu', 228830, 16159, 38531, 6.595806342325574, 15.72764491466964],\n",
              " ['Seongdonggu', 303158, 8132, 43662, 2.612355038709885, 14.026149249895594],\n",
              " ['Kwangjingu', 352692, 15645, 47347, 4.247469029720066, 12.854261179300478],\n",
              " ['Dongdaemoongu', 346551, 17228, 58764, 4.735842365832003, 16.15376368619409],\n",
              " ['Jungranggu', 398812, 4964, 64449, 1.2293945157711206, 15.961572753209701],\n",
              " ['Seongbukgu', 441590, 12524, 70204, 2.7578977965885216, 15.459554208855044],\n",
              " ['Gangbukgu', 314090, 3785, 59808, 1.1907196224931182, 18.81494298073142],\n",
              " ['Dobonggu', 335280, 2314, 58070, 0.6854387222521727, 17.20113509126347],\n",
              " ['Nowonggu', 535282, 4547, 79968, 0.8423037665631153, 14.81357985584324],\n",
              " ['Eunpyonggu', 481663, 4496, 79957, 0.9248003225282263, 16.44667691022896],\n",
              " ['Seodaemungu', 310069, 14020, 51708, 4.325972186652431, 15.954876592540938],\n",
              " ['Mapogu', 373629, 11976, 51961, 3.1057688567316295, 13.475188340400152],\n",
              " ['Yangcheongu', 459849, 4082, 60487, 0.8798722223778968, 13.03793020944925],\n",
              " ['Gangseogu', 593708, 6532, 82937, 1.08823137411702, 13.817306410769026],\n",
              " ['Gurogu', 406748, 33102, 64952, 7.5257474138911, 14.766852336023645],\n",
              " ['Guemcheongu', 233371, 19497, 37191, 7.71034690035908, 14.707673568818514],\n",
              " ['Youngdeungpogu',\n",
              "  368402,\n",
              "  34076,\n",
              "  57350,\n",
              "  8.46654972445699,\n",
              "  14.249226044653373],\n",
              " ['Dongjakgu', 397618, 12869, 61607, 3.1350566522204115, 15.008270663869988],\n",
              " ['Kwanakgu', 502117, 17836, 74518, 3.430310047254271, 14.331679978767312],\n",
              " ['Seoucheogu', 431027, 4231, 56455, 0.9720671417871699, 12.970468090190185],\n",
              " ['Gangnamgu', 544028, 5015, 70029, 0.9134075108871255, 12.75473869988325],\n",
              " ['Songpagu', 677489, 6849, 86062, 1.0008212316136178, 12.575949311597483],\n",
              " ['Gangdonggu', 426219, 4303, 61710, 0.999484346909101, 14.333762269988526]]"
            ]
          },
          "metadata": {
            "tags": []
          },
          "execution_count": 24
        }
      ]
    },
    {
      "cell_type": "code",
      "metadata": {
        "colab": {
          "base_uri": "https://localhost:8080/"
        },
        "id": "1ZMx0M2ZtczI",
        "outputId": "667d51da-1500-46b0-d0e2-0a8369932b08"
      },
      "source": [
        "senior_over15 = []\r\n",
        "for i, row in enumerate(pop_seoul):\r\n",
        "    if i == 0:\r\n",
        "        senior_over15.append(row)\r\n",
        "    else:\r\n",
        "        if row[5] >= 15.0:\r\n",
        "            senior_over15.append(row)\r\n",
        "\r\n",
        "senior_over15"
      ],
      "execution_count": 25,
      "outputs": [
        {
          "output_type": "execute_result",
          "data": {
            "text/plain": [
              "[['Gu', 'Korean', 'Foreigner', 'Senior', 'foreign_ratio', 'senior_ratio'],\n",
              " ['Jongrogu', 151767, 11093, 27394, 6.81137173032052, 16.820582095050966],\n",
              " ['Jongru', 126409, 10254, 23025, 7.503128132705999, 16.84801299547061],\n",
              " ['Yongsangu', 228830, 16159, 38531, 6.595806342325574, 15.72764491466964],\n",
              " ['Dongdaemoongu', 346551, 17228, 58764, 4.735842365832003, 16.15376368619409],\n",
              " ['Jungranggu', 398812, 4964, 64449, 1.2293945157711206, 15.961572753209701],\n",
              " ['Seongbukgu', 441590, 12524, 70204, 2.7578977965885216, 15.459554208855044],\n",
              " ['Gangbukgu', 314090, 3785, 59808, 1.1907196224931182, 18.81494298073142],\n",
              " ['Dobonggu', 335280, 2314, 58070, 0.6854387222521727, 17.20113509126347],\n",
              " ['Eunpyonggu', 481663, 4496, 79957, 0.9248003225282263, 16.44667691022896],\n",
              " ['Seodaemungu', 310069, 14020, 51708, 4.325972186652431, 15.954876592540938],\n",
              " ['Dongjakgu', 397618, 12869, 61607, 3.1350566522204115, 15.008270663869988]]"
            ]
          },
          "metadata": {
            "tags": []
          },
          "execution_count": 25
        }
      ]
    },
    {
      "cell_type": "markdown",
      "metadata": {
        "id": "osWtOlwWp-4H"
      },
      "source": [
        "pop_seoul 리스트를 foreign_ratio의 내림차순 정렬을 해서 출력"
      ]
    },
    {
      "cell_type": "code",
      "metadata": {
        "colab": {
          "base_uri": "https://localhost:8080/"
        },
        "id": "LjOI9oXRp_0_",
        "outputId": "045905fa-8d8e-4624-f23f-da15af5fef5e"
      },
      "source": [
        "foreign_sort = []\r\n",
        "\r\n",
        "# 제목 줄(컬럼 이름, 헤더)을 추가\r\n",
        "foreign_sort.append(pop_seoul[0])\r\n",
        "\r\n",
        "# 제목을 제외한 데이터들을 foreign_ratio 값을 기준으로 정렬\r\n",
        "data = sorted(pop_seoul[1:], key=lambda x: x[4], reverse=True)\r\n",
        "# 정렬된 리스트의 원소들을 하나씩 추가(extend)\r\n",
        "foreign_sort.extend(data)\r\n",
        "\r\n",
        "foreign_sort"
      ],
      "execution_count": 30,
      "outputs": [
        {
          "output_type": "execute_result",
          "data": {
            "text/plain": [
              "[['Gu', 'Korean', 'Foreigner', 'Senior', 'foreign_ratio', 'senior_ratio'],\n",
              " ['Youngdeungpogu',\n",
              "  368402,\n",
              "  34076,\n",
              "  57350,\n",
              "  8.46654972445699,\n",
              "  14.249226044653373],\n",
              " ['Guemcheongu', 233371, 19497, 37191, 7.71034690035908, 14.707673568818514],\n",
              " ['Gurogu', 406748, 33102, 64952, 7.5257474138911, 14.766852336023645],\n",
              " ['Jongru', 126409, 10254, 23025, 7.503128132705999, 16.84801299547061],\n",
              " ['Jongrogu', 151767, 11093, 27394, 6.81137173032052, 16.820582095050966],\n",
              " ['Yongsangu', 228830, 16159, 38531, 6.595806342325574, 15.72764491466964],\n",
              " ['Dongdaemoongu', 346551, 17228, 58764, 4.735842365832003, 16.15376368619409],\n",
              " ['Seodaemungu', 310069, 14020, 51708, 4.325972186652431, 15.954876592540938],\n",
              " ['Kwangjingu', 352692, 15645, 47347, 4.247469029720066, 12.854261179300478],\n",
              " ['Kwanakgu', 502117, 17836, 74518, 3.430310047254271, 14.331679978767312],\n",
              " ['Dongjakgu', 397618, 12869, 61607, 3.1350566522204115, 15.008270663869988],\n",
              " ['Mapogu', 373629, 11976, 51961, 3.1057688567316295, 13.475188340400152],\n",
              " ['Total', 9740398, 285529, 1468146, 2.847906233508383, 14.643493813589506],\n",
              " ['Seongbukgu', 441590, 12524, 70204, 2.7578977965885216, 15.459554208855044],\n",
              " ['Seongdonggu', 303158, 8132, 43662, 2.612355038709885, 14.026149249895594],\n",
              " ['Jungranggu', 398812, 4964, 64449, 1.2293945157711206, 15.961572753209701],\n",
              " ['Gangbukgu', 314090, 3785, 59808, 1.1907196224931182, 18.81494298073142],\n",
              " ['Gangseogu', 593708, 6532, 82937, 1.08823137411702, 13.817306410769026],\n",
              " ['Songpagu', 677489, 6849, 86062, 1.0008212316136178, 12.575949311597483],\n",
              " ['Gangdonggu', 426219, 4303, 61710, 0.999484346909101, 14.333762269988526],\n",
              " ['Seoucheogu', 431027, 4231, 56455, 0.9720671417871699, 12.970468090190185],\n",
              " ['Eunpyonggu', 481663, 4496, 79957, 0.9248003225282263, 16.44667691022896],\n",
              " ['Gangnamgu', 544028, 5015, 70029, 0.9134075108871255, 12.75473869988325],\n",
              " ['Yangcheongu', 459849, 4082, 60487, 0.8798722223778968, 13.03793020944925],\n",
              " ['Nowonggu', 535282, 4547, 79968, 0.8423037665631153, 14.81357985584324],\n",
              " ['Dobonggu', 335280, 2314, 58070, 0.6854387222521727, 17.20113509126347]]"
            ]
          },
          "metadata": {
            "tags": []
          },
          "execution_count": 30
        }
      ]
    },
    {
      "cell_type": "markdown",
      "metadata": {
        "id": "S4oF560pupYe"
      },
      "source": [
        "pop_seoul 리스트를 senior_ratio의 내림차순 정렬을 해서 출력"
      ]
    },
    {
      "cell_type": "code",
      "metadata": {
        "colab": {
          "base_uri": "https://localhost:8080/"
        },
        "id": "PW1HL4Ixuu-x",
        "outputId": "b9aab269-7d4b-448a-a926-416832e512a8"
      },
      "source": [
        "senior_sort = [pop_seoul[0]]\r\n",
        "data = sorted(pop_seoul[1:], key=lambda x: x[5], reverse=True)\r\n",
        "senior_sort.extend(data)\r\n",
        "\r\n",
        "senior_sort"
      ],
      "execution_count": 32,
      "outputs": [
        {
          "output_type": "execute_result",
          "data": {
            "text/plain": [
              "[['Gu', 'Korean', 'Foreigner', 'Senior', 'foreign_ratio', 'senior_ratio'],\n",
              " ['Gangbukgu', 314090, 3785, 59808, 1.1907196224931182, 18.81494298073142],\n",
              " ['Dobonggu', 335280, 2314, 58070, 0.6854387222521727, 17.20113509126347],\n",
              " ['Jongru', 126409, 10254, 23025, 7.503128132705999, 16.84801299547061],\n",
              " ['Jongrogu', 151767, 11093, 27394, 6.81137173032052, 16.820582095050966],\n",
              " ['Eunpyonggu', 481663, 4496, 79957, 0.9248003225282263, 16.44667691022896],\n",
              " ['Dongdaemoongu', 346551, 17228, 58764, 4.735842365832003, 16.15376368619409],\n",
              " ['Jungranggu', 398812, 4964, 64449, 1.2293945157711206, 15.961572753209701],\n",
              " ['Seodaemungu', 310069, 14020, 51708, 4.325972186652431, 15.954876592540938],\n",
              " ['Yongsangu', 228830, 16159, 38531, 6.595806342325574, 15.72764491466964],\n",
              " ['Seongbukgu', 441590, 12524, 70204, 2.7578977965885216, 15.459554208855044],\n",
              " ['Dongjakgu', 397618, 12869, 61607, 3.1350566522204115, 15.008270663869988],\n",
              " ['Nowonggu', 535282, 4547, 79968, 0.8423037665631153, 14.81357985584324],\n",
              " ['Gurogu', 406748, 33102, 64952, 7.5257474138911, 14.766852336023645],\n",
              " ['Guemcheongu', 233371, 19497, 37191, 7.71034690035908, 14.707673568818514],\n",
              " ['Total', 9740398, 285529, 1468146, 2.847906233508383, 14.643493813589506],\n",
              " ['Gangdonggu', 426219, 4303, 61710, 0.999484346909101, 14.333762269988526],\n",
              " ['Kwanakgu', 502117, 17836, 74518, 3.430310047254271, 14.331679978767312],\n",
              " ['Youngdeungpogu',\n",
              "  368402,\n",
              "  34076,\n",
              "  57350,\n",
              "  8.46654972445699,\n",
              "  14.249226044653373],\n",
              " ['Seongdonggu', 303158, 8132, 43662, 2.612355038709885, 14.026149249895594],\n",
              " ['Gangseogu', 593708, 6532, 82937, 1.08823137411702, 13.817306410769026],\n",
              " ['Mapogu', 373629, 11976, 51961, 3.1057688567316295, 13.475188340400152],\n",
              " ['Yangcheongu', 459849, 4082, 60487, 0.8798722223778968, 13.03793020944925],\n",
              " ['Seoucheogu', 431027, 4231, 56455, 0.9720671417871699, 12.970468090190185],\n",
              " ['Kwangjingu', 352692, 15645, 47347, 4.247469029720066, 12.854261179300478],\n",
              " ['Gangnamgu', 544028, 5015, 70029, 0.9134075108871255, 12.75473869988325],\n",
              " ['Songpagu', 677489, 6849, 86062, 1.0008212316136178, 12.575949311597483]]"
            ]
          },
          "metadata": {
            "tags": []
          },
          "execution_count": 32
        }
      ]
    }
  ]
}