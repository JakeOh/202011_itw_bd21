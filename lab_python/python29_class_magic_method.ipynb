{
  "nbformat": 4,
  "nbformat_minor": 0,
  "metadata": {
    "colab": {
      "name": "python29_class_magic_method.ipynb",
      "provenance": [],
      "collapsed_sections": [],
      "authorship_tag": "ABX9TyMSaJC36fNa5z3cizClVgUo",
      "include_colab_link": true
    },
    "kernelspec": {
      "name": "python3",
      "display_name": "Python 3"
    }
  },
  "cells": [
    {
      "cell_type": "markdown",
      "metadata": {
        "id": "view-in-github",
        "colab_type": "text"
      },
      "source": [
        "<a href=\"https://colab.research.google.com/github/JakeOh/202011_itw_bd21/blob/main/lab_python/python29_class_magic_method.ipynb\" target=\"_parent\"><img src=\"https://colab.research.google.com/assets/colab-badge.svg\" alt=\"Open In Colab\"/></a>"
      ]
    },
    {
      "cell_type": "code",
      "metadata": {
        "id": "VV_DTJnCem1l"
      },
      "source": [
        "class MyNumber:\r\n",
        "    \r\n",
        "    def __init__(self, number=0.0):\r\n",
        "        self.number = number\r\n",
        "\r\n",
        "    def __repr__(self):\r\n",
        "        # MyNumber 인스턴스를 출력했을 때, 속성 number의 값을 알 수 있도록\r\n",
        "        return f'MyNumber({self.number})'\r\n",
        "\r\n",
        "    def __eq__(self, other):\r\n",
        "        # x == y: x의 속성 number와 y의 속성 number 같은 지를 비교.\r\n",
        "        if not isinstance(other, MyNumber):\r\n",
        "            return False\r\n",
        "\r\n",
        "        return self.number == other.number\r\n",
        "\r\n",
        "    # def __ne__(self, other):\r\n",
        "    #     # not equal(!=)\r\n",
        "    #     return not self.__eq__(other)\r\n",
        "\r\n",
        "    def __gt__(self, other):\r\n",
        "        # x > y: x의 속성 number가 y의 속성 number보다 큰 지를 비교.\r\n",
        "        if not isinstance(other, MyNumber):\r\n",
        "            return False\r\n",
        "\r\n",
        "        return self.number > other.number\r\n",
        "\r\n",
        "    def __ge__(self, other):\r\n",
        "        # ge(greater than or equal to, >=)\r\n",
        "        return self.__gt__(other) or self.__eq__(other)\r\n",
        "\r\n",
        "    def __add__(self, other):\r\n",
        "        # x + y: x의 속성 number와 y의 속성 number의 덧셈 결과 리턴.\r\n",
        "        if not isinstance(other, MyNumber):\r\n",
        "            raise TypeError('MyNumber 타입이 아니면 + 할 수 없음.')\r\n",
        "        \r\n",
        "        # 덧셈의 결과를 속성으로 갖는 MyNumber 인스턴스를 생성해서 리턴.\r\n",
        "        return MyNumber(self.number + other.number)\r\n"
      ],
      "execution_count": 43,
      "outputs": []
    },
    {
      "cell_type": "code",
      "metadata": {
        "colab": {
          "base_uri": "https://localhost:8080/"
        },
        "id": "VIzgFu6zfCb1",
        "outputId": "01df025d-1844-4c6a-80f2-468d7be2285b"
      },
      "source": [
        "n1 = MyNumber()\r\n",
        "print(n1)\r\n",
        "\r\n",
        "n2 = MyNumber(1)\r\n",
        "print(n2)"
      ],
      "execution_count": 44,
      "outputs": [
        {
          "output_type": "stream",
          "text": [
            "MyNumber(0.0)\n",
            "MyNumber(1)\n"
          ],
          "name": "stdout"
        }
      ]
    },
    {
      "cell_type": "code",
      "metadata": {
        "colab": {
          "base_uri": "https://localhost:8080/"
        },
        "id": "r9xjb-Vcoyw-",
        "outputId": "4ade2323-47e1-4e26-dbcd-517d271bbb47"
      },
      "source": [
        "print(n1 == n2)  # n1.__eq__(n2)"
      ],
      "execution_count": 45,
      "outputs": [
        {
          "output_type": "stream",
          "text": [
            "False\n"
          ],
          "name": "stdout"
        }
      ]
    },
    {
      "cell_type": "code",
      "metadata": {
        "colab": {
          "base_uri": "https://localhost:8080/"
        },
        "id": "HA27D1EwqDDF",
        "outputId": "dc0e68be-d67b-4d8f-e6f4-2e1256a76ce1"
      },
      "source": [
        "print(n1 != n2)"
      ],
      "execution_count": 46,
      "outputs": [
        {
          "output_type": "stream",
          "text": [
            "True\n"
          ],
          "name": "stdout"
        }
      ]
    },
    {
      "cell_type": "code",
      "metadata": {
        "colab": {
          "base_uri": "https://localhost:8080/"
        },
        "id": "3XIILwk5rEPo",
        "outputId": "f06f2503-87bc-460c-f48a-c161ee8f563d"
      },
      "source": [
        "print(n1 > n2)"
      ],
      "execution_count": 47,
      "outputs": [
        {
          "output_type": "stream",
          "text": [
            "False\n"
          ],
          "name": "stdout"
        }
      ]
    },
    {
      "cell_type": "code",
      "metadata": {
        "colab": {
          "base_uri": "https://localhost:8080/"
        },
        "id": "aSFh_Yf8rJTs",
        "outputId": "fcbf81eb-c683-4672-d8d4-7851e9b9fe0c"
      },
      "source": [
        "print(n1 < n2)  # lt(less than)"
      ],
      "execution_count": 48,
      "outputs": [
        {
          "output_type": "stream",
          "text": [
            "True\n"
          ],
          "name": "stdout"
        }
      ]
    },
    {
      "cell_type": "code",
      "metadata": {
        "colab": {
          "base_uri": "https://localhost:8080/"
        },
        "id": "rh5hSGoZrRDG",
        "outputId": "f5730f34-f9e9-4cb7-a76a-63158f39600e"
      },
      "source": [
        "print(n1 <= n2)  # le(less than or equal to)"
      ],
      "execution_count": 49,
      "outputs": [
        {
          "output_type": "stream",
          "text": [
            "True\n"
          ],
          "name": "stdout"
        }
      ]
    },
    {
      "cell_type": "code",
      "metadata": {
        "colab": {
          "base_uri": "https://localhost:8080/"
        },
        "id": "KT6VfxkSsNPF",
        "outputId": "fd014c8a-7db6-4b8f-d1ba-ba3a874f8bf4"
      },
      "source": [
        "print(n1 + n2)"
      ],
      "execution_count": 50,
      "outputs": [
        {
          "output_type": "stream",
          "text": [
            "MyNumber(1.0)\n"
          ],
          "name": "stdout"
        }
      ]
    },
    {
      "cell_type": "code",
      "metadata": {
        "colab": {
          "base_uri": "https://localhost:8080/"
        },
        "id": "pe150om_sqjl",
        "outputId": "bd33def4-7549-4c3e-fac3-69b7d7fe1c89"
      },
      "source": [
        "x = MyNumber(1)\r\n",
        "y = MyNumber(2)\r\n",
        "z = MyNumber(3)\r\n",
        "\r\n",
        "print(x + y + z)"
      ],
      "execution_count": 51,
      "outputs": [
        {
          "output_type": "stream",
          "text": [
            "MyNumber(6)\n"
          ],
          "name": "stdout"
        }
      ]
    }
  ]
}