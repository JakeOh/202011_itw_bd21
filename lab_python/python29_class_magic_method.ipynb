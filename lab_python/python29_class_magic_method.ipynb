{
  "nbformat": 4,
  "nbformat_minor": 0,
  "metadata": {
    "colab": {
      "name": "python29_class_magic_method.ipynb",
      "provenance": [],
      "collapsed_sections": [],
      "authorship_tag": "ABX9TyNg8Sd5ulUOTf69+1Bk+O6/",
      "include_colab_link": true
    },
    "kernelspec": {
      "name": "python3",
      "display_name": "Python 3"
    }
  },
  "cells": [
    {
      "cell_type": "markdown",
      "metadata": {
        "id": "view-in-github",
        "colab_type": "text"
      },
      "source": [
        "<a href=\"https://colab.research.google.com/github/JakeOh/202011_itw_bd21/blob/main/lab_python/python29_class_magic_method.ipynb\" target=\"_parent\"><img src=\"https://colab.research.google.com/assets/colab-badge.svg\" alt=\"Open In Colab\"/></a>"
      ]
    },
    {
      "cell_type": "code",
      "metadata": {
        "id": "VV_DTJnCem1l"
      },
      "source": [
        "class MyNumber:\r\n",
        "    \r\n",
        "    def __init__(self, number=0.0):\r\n",
        "        self.number = number\r\n",
        "\r\n",
        "    def __repr__():\r\n",
        "        # MyNumber 인스턴스를 출력했을 때, 속성 number의 값을 알 수 있도록\r\n",
        "        pass\r\n",
        "\r\n",
        "    def __eq__():\r\n",
        "        # x == y: x의 속성 number와 y의 속성 number 같은 지를 비교.\r\n",
        "        pass\r\n",
        "\r\n",
        "    def __gt__():\r\n",
        "        # x > y: x의 속성 number가 y의 속성 number보다 큰 지를 비교.\r\n",
        "        pass\r\n",
        "\r\n",
        "    def __add__():\r\n",
        "        # x + y: x의 속성 number와 y의 속성 number의 덧셈 결과 리턴.\r\n",
        "        pass\r\n"
      ],
      "execution_count": 1,
      "outputs": []
    },
    {
      "cell_type": "code",
      "metadata": {
        "colab": {
          "base_uri": "https://localhost:8080/"
        },
        "id": "VIzgFu6zfCb1",
        "outputId": "da8b906e-7cd6-4d78-8b65-a3a8feba6260"
      },
      "source": [
        "n1 = MyNumber()\r\n",
        "print(n1)"
      ],
      "execution_count": 2,
      "outputs": [
        {
          "output_type": "stream",
          "text": [
            "<__main__.MyNumber object at 0x7f68c2b9db00>\n"
          ],
          "name": "stdout"
        }
      ]
    }
  ]
}