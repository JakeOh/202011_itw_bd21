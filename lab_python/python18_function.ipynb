{
  "nbformat": 4,
  "nbformat_minor": 0,
  "metadata": {
    "colab": {
      "name": "python18_function.ipynb",
      "provenance": [],
      "collapsed_sections": [],
      "authorship_tag": "ABX9TyOu1NpJIBETRhH2n4uZoEQM",
      "include_colab_link": true
    },
    "kernelspec": {
      "name": "python3",
      "display_name": "Python 3"
    }
  },
  "cells": [
    {
      "cell_type": "markdown",
      "metadata": {
        "id": "view-in-github",
        "colab_type": "text"
      },
      "source": [
        "<a href=\"https://colab.research.google.com/github/JakeOh/202011_itw_bd21/blob/main/lab_python/python18_function.ipynb\" target=\"_parent\"><img src=\"https://colab.research.google.com/assets/colab-badge.svg\" alt=\"Open In Colab\"/></a>"
      ]
    },
    {
      "cell_type": "code",
      "metadata": {
        "id": "vsDPMiKyS2Z8"
      },
      "source": [
        "import math    # 수학 함수들이 정의된 모듈(Python 파일)\r\n",
        "import random  # 난수와 관련된 함수들이 정의된 모듈"
      ],
      "execution_count": 2,
      "outputs": []
    },
    {
      "cell_type": "code",
      "metadata": {
        "id": "70kcr1nzTQms"
      },
      "source": [
        "def make_list(n: int) -> list:\r\n",
        "    \"\"\"양의 정수 n을 전달받아서, 정수 난수 n개로 이루어진 리스트를 리턴.\r\n",
        "    \"\"\"\r\n",
        "    pass"
      ],
      "execution_count": null,
      "outputs": []
    },
    {
      "cell_type": "code",
      "metadata": {
        "id": "-r5TUMGVUH3j"
      },
      "source": [
        "numbers = make_list(5)\r\n",
        "#> [1, 99, 57, 88, 20]"
      ],
      "execution_count": null,
      "outputs": []
    },
    {
      "cell_type": "code",
      "metadata": {
        "id": "vvGNeRwOUbqB"
      },
      "source": [
        "def calculate_sum(numbers: list) -> float:\r\n",
        "    \"\"\"숫자들을 저장하고 있는 리스트 numbers를 전달받아서, 리스트의 모든 원소들의 합을 리턴.\r\n",
        "    \"\"\"\r\n",
        "    pass"
      ],
      "execution_count": null,
      "outputs": []
    },
    {
      "cell_type": "code",
      "metadata": {
        "id": "MxUOOTp5UvkB"
      },
      "source": [
        "result = calculate([1, 2, 3, 4, 5])\r\n",
        "#> 15"
      ],
      "execution_count": null,
      "outputs": []
    },
    {
      "cell_type": "code",
      "metadata": {
        "id": "61P8htlSU0b5"
      },
      "source": [
        "def calculate_variance(numbers: list) -> float:\r\n",
        "    \"\"\"숫자들을 저장하고 있는 리스트 numbers를 전달받아서, 리스트의 원소들의 분산을 리턴.\r\n",
        "    variance = sum_i [(x_i - mean) ** 2] / N\r\n",
        "    \"\"\"\r\n",
        "    pass"
      ],
      "execution_count": null,
      "outputs": []
    },
    {
      "cell_type": "code",
      "metadata": {
        "id": "dJPFxKk2WFmS"
      },
      "source": [
        "# calculate_variance() 함수 테스트"
      ],
      "execution_count": null,
      "outputs": []
    },
    {
      "cell_type": "code",
      "metadata": {
        "id": "53ByigqeWKoB"
      },
      "source": [
        "def calculate_stddev(numbers: list) -> float:\r\n",
        "    \"\"\"숫자들을 저장하고 있는 리스트 numbers를 전달받아서, 리스트의 원소들의 표준편차를 리턴.\r\n",
        "    standard_deviation = sqrt(variance)\r\n",
        "    \"\"\"\r\n",
        "    pass"
      ],
      "execution_count": null,
      "outputs": []
    },
    {
      "cell_type": "code",
      "metadata": {
        "id": "QmONvWZwWhmF"
      },
      "source": [
        "# calculate_stddev() 함수 테스트"
      ],
      "execution_count": null,
      "outputs": []
    },
    {
      "cell_type": "code",
      "metadata": {
        "id": "kFN4jEHaWo9h"
      },
      "source": [
        "def find_min_and_max(numbers: list) -> (float, float):\r\n",
        "    \"\"\"숫자들을 저장하고 있는 리스트 numbers의 (최솟값, 최댓값)을 리턴.\r\n",
        "    \"\"\"\r\n",
        "    pass"
      ],
      "execution_count": null,
      "outputs": []
    },
    {
      "cell_type": "code",
      "metadata": {
        "id": "kWoZg3hLXKNh"
      },
      "source": [
        "# find_min_and_max() 함수 테스트"
      ],
      "execution_count": null,
      "outputs": []
    }
  ]
}