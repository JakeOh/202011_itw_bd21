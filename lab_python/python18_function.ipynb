{
  "nbformat": 4,
  "nbformat_minor": 0,
  "metadata": {
    "colab": {
      "name": "python18_function.ipynb",
      "provenance": [],
      "collapsed_sections": [],
      "authorship_tag": "ABX9TyNBBqhKKLL+f/R3G8wNIXA/",
      "include_colab_link": true
    },
    "kernelspec": {
      "name": "python3",
      "display_name": "Python 3"
    }
  },
  "cells": [
    {
      "cell_type": "markdown",
      "metadata": {
        "id": "view-in-github",
        "colab_type": "text"
      },
      "source": [
        "<a href=\"https://colab.research.google.com/github/JakeOh/202011_itw_bd21/blob/main/lab_python/python18_function.ipynb\" target=\"_parent\"><img src=\"https://colab.research.google.com/assets/colab-badge.svg\" alt=\"Open In Colab\"/></a>"
      ]
    },
    {
      "cell_type": "code",
      "metadata": {
        "id": "vsDPMiKyS2Z8"
      },
      "source": [
        "import math    # 수학 함수들이 정의된 모듈(Python 파일)\r\n",
        "import random  # 난수와 관련된 함수들이 정의된 모듈"
      ],
      "execution_count": 2,
      "outputs": []
    },
    {
      "cell_type": "code",
      "metadata": {
        "id": "70kcr1nzTQms"
      },
      "source": [
        "def make_list(n: int, start: int, end: int) -> list:\r\n",
        "    \"\"\"[start, end) 범위의 정수 난수 n개를 원소로 갖는 리스트를 리턴.\r\n",
        "    \"\"\"\r\n",
        "    # return [random.randrange(start, end) for _ in range(n)]\r\n",
        "    result = []  # 난수들을 추가해서 리턴하게 될 empty list\r\n",
        "    for _ in range(n):  # n번 반복\r\n",
        "        result.append(random.randrange(start, end))  # 난수를 리스트에 추가\r\n",
        "    \r\n",
        "    return result"
      ],
      "execution_count": 11,
      "outputs": []
    },
    {
      "cell_type": "code",
      "metadata": {
        "colab": {
          "base_uri": "https://localhost:8080/"
        },
        "id": "-r5TUMGVUH3j",
        "outputId": "f6c85c4a-2152-4913-9394-e72349d6ee68"
      },
      "source": [
        "numbers = make_list(5, 0, 11)\r\n",
        "print(numbers)"
      ],
      "execution_count": 15,
      "outputs": [
        {
          "output_type": "stream",
          "text": [
            "[0, 5, 3, 1, 9]\n"
          ],
          "name": "stdout"
        }
      ]
    },
    {
      "cell_type": "code",
      "metadata": {
        "id": "vvGNeRwOUbqB"
      },
      "source": [
        "def calculate_sum(numbers: list) -> float:\r\n",
        "    \"\"\"숫자들을 저장하고 있는 리스트 numbers를 전달받아서, 리스트의 모든 원소들의 합을 리턴.\r\n",
        "    \"\"\"\r\n",
        "    result = 0  # 리스트의 원소들의 합을 계산해서 저장할 변수\r\n",
        "    for x in numbers:  # 리스트의 모든 원소들에 대해서 반복하면서\r\n",
        "        result += x  # result에 원소들을 더함\r\n",
        "\r\n",
        "    return result"
      ],
      "execution_count": 20,
      "outputs": []
    },
    {
      "cell_type": "code",
      "metadata": {
        "colab": {
          "base_uri": "https://localhost:8080/"
        },
        "id": "MxUOOTp5UvkB",
        "outputId": "0f8307d1-8355-4e30-c5c5-b699e9ab0edc"
      },
      "source": [
        "result = calculate_sum([1, 2, 3, 4])\r\n",
        "print(result)\r\n",
        "result = calculate_sum(numbers)\r\n",
        "print(result)"
      ],
      "execution_count": 23,
      "outputs": [
        {
          "output_type": "stream",
          "text": [
            "10\n",
            "18\n"
          ],
          "name": "stdout"
        }
      ]
    },
    {
      "cell_type": "code",
      "metadata": {
        "id": "61P8htlSU0b5"
      },
      "source": [
        "def calculate_variance(numbers: list) -> float:\r\n",
        "    \"\"\"숫자들을 저장하고 있는 리스트 numbers를 전달받아서, 리스트의 원소들의 분산을 리턴.\r\n",
        "    variance = sum_i [(x_i - mean) ** 2] / N\r\n",
        "    \"\"\"\r\n",
        "    sum = calculate_sum(numbers)  # 리스트의 모든 원소들의 합\r\n",
        "    mean = sum / len(numbers)  # 리스트의 모든 원소들의 평균 = sum / N\r\n",
        "    # sum_of_squares = 0  # (x - mean) ** 2의 합을 저장할 변수\r\n",
        "    # for x in numbers:\r\n",
        "    #     sum_of_squares += (x - mean) ** 2\r\n",
        "    sum_of_squares = calculate_sum([(x - mean) ** 2 for x in numbers])\r\n",
        "    variance = sum_of_squares / len(numbers)  # 분산 계산\r\n",
        "    \r\n",
        "    return variance"
      ],
      "execution_count": 26,
      "outputs": []
    },
    {
      "cell_type": "code",
      "metadata": {
        "colab": {
          "base_uri": "https://localhost:8080/"
        },
        "id": "dJPFxKk2WFmS",
        "outputId": "c9514f9f-dfd7-47bd-830b-8c434f9357dd"
      },
      "source": [
        "# calculate_variance() 함수 테스트\r\n",
        "var = calculate_variance(numbers)\r\n",
        "print(var)"
      ],
      "execution_count": 27,
      "outputs": [
        {
          "output_type": "stream",
          "text": [
            "10.24\n"
          ],
          "name": "stdout"
        }
      ]
    },
    {
      "cell_type": "code",
      "metadata": {
        "id": "53ByigqeWKoB"
      },
      "source": [
        "def calculate_stddev(numbers: list) -> float:\r\n",
        "    \"\"\"숫자들을 저장하고 있는 리스트 numbers를 전달받아서, 리스트의 원소들의 표준편차를 리턴.\r\n",
        "    standard_deviation = sqrt(variance)\r\n",
        "    \"\"\"\r\n",
        "    var = calculate_variance(numbers)\r\n",
        "    std_dev = math.sqrt(var)\r\n",
        "    return std_dev\r\n",
        "    # return math.sqrt(calculate_variance(numbers))"
      ],
      "execution_count": 29,
      "outputs": []
    },
    {
      "cell_type": "code",
      "metadata": {
        "colab": {
          "base_uri": "https://localhost:8080/"
        },
        "id": "QmONvWZwWhmF",
        "outputId": "650d8a9a-f4fa-48b2-be44-2427923a1820"
      },
      "source": [
        "# calculate_stddev() 함수 테스트\r\n",
        "std_dev = calculate_stddev(numbers)\r\n",
        "print(std_dev)\r\n",
        "\r\n",
        "std_dev = calculate_stddev([1, 2, 3, 4, 5])\r\n",
        "print(std_dev)"
      ],
      "execution_count": 31,
      "outputs": [
        {
          "output_type": "stream",
          "text": [
            "3.2\n",
            "1.4142135623730951\n"
          ],
          "name": "stdout"
        }
      ]
    },
    {
      "cell_type": "code",
      "metadata": {
        "id": "kFN4jEHaWo9h"
      },
      "source": [
        "def find_min_and_max(numbers: list) -> (float, float):\r\n",
        "    \"\"\"숫자들을 저장하고 있는 리스트 numbers의 (최솟값, 최댓값)을 리턴.\r\n",
        "    \"\"\"\r\n",
        "    min, max = numbers[0], numbers[0]\r\n",
        "    for x in numbers:\r\n",
        "        if min > x:\r\n",
        "            min = x\r\n",
        "        if max < x:\r\n",
        "            max = x\r\n",
        "\r\n",
        "    return min, max\r\n"
      ],
      "execution_count": 32,
      "outputs": []
    },
    {
      "cell_type": "code",
      "metadata": {
        "colab": {
          "base_uri": "https://localhost:8080/"
        },
        "id": "kWoZg3hLXKNh",
        "outputId": "1404ce06-321d-4fa0-bc09-a2ed382639ef"
      },
      "source": [
        "# find_min_and_max() 함수 테스트\r\n",
        "_min, _max = find_min_and_max([1, 2, 3, 4, 5, 9, 8, 7, 6, 0])\r\n",
        "print(_min, _max)\r\n",
        "\r\n",
        "_min, _max = find_min_and_max(numbers)\r\n",
        "print(_min, _max)"
      ],
      "execution_count": 34,
      "outputs": [
        {
          "output_type": "stream",
          "text": [
            "0 9\n",
            "0 9\n"
          ],
          "name": "stdout"
        }
      ]
    }
  ]
}