{
  "nbformat": 4,
  "nbformat_minor": 0,
  "metadata": {
    "colab": {
      "name": "python28_class_magic_method.ipynb",
      "provenance": [],
      "collapsed_sections": [],
      "authorship_tag": "ABX9TyOMB/byEjN3/QIJKZiSCjqt",
      "include_colab_link": true
    },
    "kernelspec": {
      "name": "python3",
      "display_name": "Python 3"
    }
  },
  "cells": [
    {
      "cell_type": "markdown",
      "metadata": {
        "id": "view-in-github",
        "colab_type": "text"
      },
      "source": [
        "<a href=\"https://colab.research.google.com/github/JakeOh/202011_itw_bd21/blob/main/lab_python/python28_class_magic_method.ipynb\" target=\"_parent\"><img src=\"https://colab.research.google.com/assets/colab-badge.svg\" alt=\"Open In Colab\"/></a>"
      ]
    },
    {
      "cell_type": "code",
      "metadata": {
        "colab": {
          "base_uri": "https://localhost:8080/"
        },
        "id": "rOVDfHMqebmK",
        "outputId": "1f337be2-045c-4439-8349-f46d5af94393"
      },
      "source": [
        "dir(str)  # str 클래스의 기능(메서드) 목록"
      ],
      "execution_count": 1,
      "outputs": [
        {
          "output_type": "execute_result",
          "data": {
            "text/plain": [
              "['__add__',\n",
              " '__class__',\n",
              " '__contains__',\n",
              " '__delattr__',\n",
              " '__dir__',\n",
              " '__doc__',\n",
              " '__eq__',\n",
              " '__format__',\n",
              " '__ge__',\n",
              " '__getattribute__',\n",
              " '__getitem__',\n",
              " '__getnewargs__',\n",
              " '__gt__',\n",
              " '__hash__',\n",
              " '__init__',\n",
              " '__init_subclass__',\n",
              " '__iter__',\n",
              " '__le__',\n",
              " '__len__',\n",
              " '__lt__',\n",
              " '__mod__',\n",
              " '__mul__',\n",
              " '__ne__',\n",
              " '__new__',\n",
              " '__reduce__',\n",
              " '__reduce_ex__',\n",
              " '__repr__',\n",
              " '__rmod__',\n",
              " '__rmul__',\n",
              " '__setattr__',\n",
              " '__sizeof__',\n",
              " '__str__',\n",
              " '__subclasshook__',\n",
              " 'capitalize',\n",
              " 'casefold',\n",
              " 'center',\n",
              " 'count',\n",
              " 'encode',\n",
              " 'endswith',\n",
              " 'expandtabs',\n",
              " 'find',\n",
              " 'format',\n",
              " 'format_map',\n",
              " 'index',\n",
              " 'isalnum',\n",
              " 'isalpha',\n",
              " 'isdecimal',\n",
              " 'isdigit',\n",
              " 'isidentifier',\n",
              " 'islower',\n",
              " 'isnumeric',\n",
              " 'isprintable',\n",
              " 'isspace',\n",
              " 'istitle',\n",
              " 'isupper',\n",
              " 'join',\n",
              " 'ljust',\n",
              " 'lower',\n",
              " 'lstrip',\n",
              " 'maketrans',\n",
              " 'partition',\n",
              " 'replace',\n",
              " 'rfind',\n",
              " 'rindex',\n",
              " 'rjust',\n",
              " 'rpartition',\n",
              " 'rsplit',\n",
              " 'rstrip',\n",
              " 'split',\n",
              " 'splitlines',\n",
              " 'startswith',\n",
              " 'strip',\n",
              " 'swapcase',\n",
              " 'title',\n",
              " 'translate',\n",
              " 'upper',\n",
              " 'zfill']"
            ]
          },
          "metadata": {
            "tags": []
          },
          "execution_count": 1
        }
      ]
    },
    {
      "cell_type": "code",
      "metadata": {
        "colab": {
          "base_uri": "https://localhost:8080/"
        },
        "id": "ArtOrN6ffDOL",
        "outputId": "e6881b0f-01ab-47a0-c7e7-80c8466cbdb0"
      },
      "source": [
        "dir(list)"
      ],
      "execution_count": 2,
      "outputs": [
        {
          "output_type": "execute_result",
          "data": {
            "text/plain": [
              "['__add__',\n",
              " '__class__',\n",
              " '__contains__',\n",
              " '__delattr__',\n",
              " '__delitem__',\n",
              " '__dir__',\n",
              " '__doc__',\n",
              " '__eq__',\n",
              " '__format__',\n",
              " '__ge__',\n",
              " '__getattribute__',\n",
              " '__getitem__',\n",
              " '__gt__',\n",
              " '__hash__',\n",
              " '__iadd__',\n",
              " '__imul__',\n",
              " '__init__',\n",
              " '__init_subclass__',\n",
              " '__iter__',\n",
              " '__le__',\n",
              " '__len__',\n",
              " '__lt__',\n",
              " '__mul__',\n",
              " '__ne__',\n",
              " '__new__',\n",
              " '__reduce__',\n",
              " '__reduce_ex__',\n",
              " '__repr__',\n",
              " '__reversed__',\n",
              " '__rmul__',\n",
              " '__setattr__',\n",
              " '__setitem__',\n",
              " '__sizeof__',\n",
              " '__str__',\n",
              " '__subclasshook__',\n",
              " 'append',\n",
              " 'clear',\n",
              " 'copy',\n",
              " 'count',\n",
              " 'extend',\n",
              " 'index',\n",
              " 'insert',\n",
              " 'pop',\n",
              " 'remove',\n",
              " 'reverse',\n",
              " 'sort']"
            ]
          },
          "metadata": {
            "tags": []
          },
          "execution_count": 2
        }
      ]
    },
    {
      "cell_type": "code",
      "metadata": {
        "colab": {
          "base_uri": "https://localhost:8080/"
        },
        "id": "HooswxSqfXAI",
        "outputId": "90affeda-431a-4e6d-f77d-0ff68aeb1007"
      },
      "source": [
        "numbers = [1, 2, 3, 5]\r\n",
        "print(numbers)\r\n",
        "print('type:', type(numbers))  # 인스턴스의 데이터 타입(클래스 이름)\r\n",
        "print('id:', id(numbers))  # list 객체 numbers가 생성된 메모리 주소"
      ],
      "execution_count": 3,
      "outputs": [
        {
          "output_type": "stream",
          "text": [
            "[1, 2, 3, 5]\n",
            "type: <class 'list'>\n",
            "id: 140616409251720\n"
          ],
          "name": "stdout"
        }
      ]
    },
    {
      "cell_type": "code",
      "metadata": {
        "colab": {
          "base_uri": "https://localhost:8080/"
        },
        "id": "6O4sGBIfg4MC",
        "outputId": "e72d9f12-4ec1-420b-c3cd-356b448c3f19"
      },
      "source": [
        "word_counts = {'abc': 3, 'abcd': 4}\r\n",
        "print(word_counts)\r\n",
        "print('type:', type(word_counts))\r\n",
        "print('id:', id(word_counts))"
      ],
      "execution_count": 4,
      "outputs": [
        {
          "output_type": "stream",
          "text": [
            "{'abc': 3, 'abcd': 4}\n",
            "type: <class 'dict'>\n",
            "id: 140616409291656\n"
          ],
          "name": "stdout"
        }
      ]
    },
    {
      "cell_type": "code",
      "metadata": {
        "colab": {
          "base_uri": "https://localhost:8080/"
        },
        "id": "XRFAcV8Jhu7R",
        "outputId": "4d4adf01-a184-4bb2-d57e-3ac8a3da632f"
      },
      "source": [
        "message = 'hello'\r\n",
        "print(message)\r\n",
        "print('type:', type(message))\r\n",
        "print('id:', id(message))"
      ],
      "execution_count": 5,
      "outputs": [
        {
          "output_type": "stream",
          "text": [
            "hello\n",
            "type: <class 'str'>\n",
            "id: 140616409237856\n"
          ],
          "name": "stdout"
        }
      ]
    },
    {
      "cell_type": "code",
      "metadata": {
        "colab": {
          "base_uri": "https://localhost:8080/"
        },
        "id": "FIoxQ-DZiI4n",
        "outputId": "bf3c50ac-cf39-4279-d383-b9129012c160"
      },
      "source": [
        "name = 'Python'\r\n",
        "print(message + name)  #> concatenation\r\n",
        "# print(message + 5)  #> TypeError"
      ],
      "execution_count": 6,
      "outputs": [
        {
          "output_type": "stream",
          "text": [
            "helloPython\n"
          ],
          "name": "stdout"
        }
      ]
    },
    {
      "cell_type": "code",
      "metadata": {
        "colab": {
          "base_uri": "https://localhost:8080/"
        },
        "id": "DpJ8b3ChiheB",
        "outputId": "6857ff3e-ce16-4122-b149-948e8e75c011"
      },
      "source": [
        "print(message * 3)  #> 문자열 반복해서 복사\r\n",
        "# print(message * name)  #> TypeError"
      ],
      "execution_count": 7,
      "outputs": [
        {
          "output_type": "stream",
          "text": [
            "hellohellohello\n"
          ],
          "name": "stdout"
        }
      ]
    },
    {
      "cell_type": "code",
      "metadata": {
        "id": "ptlFDveHbXFn"
      },
      "source": [
        "import math"
      ],
      "execution_count": 40,
      "outputs": []
    },
    {
      "cell_type": "code",
      "metadata": {
        "id": "vSITMF62i-Vv"
      },
      "source": [
        "class Point:\r\n",
        "\r\n",
        "    def __init__(self, x=0, y=0):\r\n",
        "        # initialization(초기화) - 생성자 함수가 호출되면 자동으로 호출되는 메서드.\r\n",
        "        self.x = x\r\n",
        "        self.y = y\r\n",
        "\r\n",
        "    def __repr__(self):\r\n",
        "        # 인스턴스가 print()함수의 argument일 때 자동으로 호출되는 메서드.\r\n",
        "        # 문자열을 리턴하는 메서드로 작성해야 함.\r\n",
        "        return f'Point(x={self.x}, y={self.y})'\r\n",
        "\r\n",
        "    def __add__(self, other):\r\n",
        "        # + 연산자가 사용될 때 자동으로 호출되는 메서드.\r\n",
        "        # + 연산자의 왼쪽에 Point 타입 객체가 있을 때 자동으로 호출되는 메서드.\r\n",
        "        # (x1, y1) + (x2, y2) = (x1 + x2, y1 + y2)\r\n",
        "        x = self.x + other.x\r\n",
        "        y = self.y + other.y\r\n",
        "        return Point(x, y)\r\n",
        "\r\n",
        "    def __mul__(self, number):\r\n",
        "        # * 연산자의 왼쪽 피연산자가 Point 타입일 경우 자동으로 호출되는 메서드.\r\n",
        "        # (1, 2) * 2 = (2, 4)\r\n",
        "        # point = Point(x1, y1)\r\n",
        "        # point * number -> point.__mul__(number) -> 리턴 값: * 연산의 결괏값\r\n",
        "        x = self.x * number\r\n",
        "        y = self.y * number\r\n",
        "        return Point(x, y)\r\n",
        "\r\n",
        "    def __rmul__(self, number):\r\n",
        "        # * 연산자의 오른쪽 피연산자가 Point 타입일 경우 자동으로 호출되는 메서드.\r\n",
        "        # 2 * (1, 2) = (2, 4)\r\n",
        "        # number * point -> point.__rmul__(number) -> 리턴 값: * 연산의 결괏값\r\n",
        "        return self.__mul__(number)\r\n",
        "\r\n",
        "    def __eq__(self, other):\r\n",
        "        # == 연산자가 사용될 때 자동으로 호출되는 메서드.\r\n",
        "        # point == other\r\n",
        "        # point.__eq__(other)\r\n",
        "        if not isinstance(other, Point):\r\n",
        "            # == 연산의 비교 대상이(오른쪽 피연산자가) Point 클래스의 인스턴스가 아니면\r\n",
        "            # isinstance(obj, class): obj가 class의 인스턴스이면 True, 그렇지 않으면 False 리턴.\r\n",
        "            return False\r\n",
        "        \r\n",
        "        return (self.x == other.x) and (self.y == other.y)\r\n",
        "\r\n",
        "    def __gt__(self, other):\r\n",
        "        # greater than(>) 연산자가 사용될 때 자동으로 호출되는 메서드.\r\n",
        "        # point > other\r\n",
        "        # point.__gt__(other)\r\n",
        "        if not isinstance(other, Point):\r\n",
        "            return False\r\n",
        "        \r\n",
        "        d1 = math.sqrt(self.x ** 2 + self.y ** 2)  # 원점에서 self까지 거리\r\n",
        "        d2 = math.sqrt(other.x ** 2 + other.y ** 2)  # 원점에서 other까지 거리\r\n",
        "        return d1 > d2\r\n"
      ],
      "execution_count": 41,
      "outputs": []
    },
    {
      "cell_type": "code",
      "metadata": {
        "colab": {
          "base_uri": "https://localhost:8080/"
        },
        "id": "s3NcAM7EjWH4",
        "outputId": "ad3153cf-8e38-4374-dd68-4c62ce6df32f"
      },
      "source": [
        "pt1 = Point(1, -1)  # Point 클래스의 인스턴스 생성\r\n",
        "print(pt1)  #> __main__.Point object at 0x7f57db20d9e8 (=140,015,315,245,544)"
      ],
      "execution_count": 42,
      "outputs": [
        {
          "output_type": "stream",
          "text": [
            "Point(x=1, y=-1)\n"
          ],
          "name": "stdout"
        }
      ]
    },
    {
      "cell_type": "code",
      "metadata": {
        "colab": {
          "base_uri": "https://localhost:8080/"
        },
        "id": "gQ0PfajGlQpY",
        "outputId": "0a9805b5-5890-4552-f650-9d27d7c8e6a5"
      },
      "source": [
        "print('type:', type(pt1))\r\n",
        "print('id:', id(pt1))"
      ],
      "execution_count": 43,
      "outputs": [
        {
          "output_type": "stream",
          "text": [
            "type: <class '__main__.Point'>\n",
            "id: 140616399166880\n"
          ],
          "name": "stdout"
        }
      ]
    },
    {
      "cell_type": "code",
      "metadata": {
        "colab": {
          "base_uri": "https://localhost:8080/"
        },
        "id": "ct2p4cOInjxY",
        "outputId": "2a8e6034-4145-4f16-f7aa-c1c0e0870415"
      },
      "source": [
        "pt2 = Point(3, 4)\r\n",
        "print(pt2)"
      ],
      "execution_count": 44,
      "outputs": [
        {
          "output_type": "stream",
          "text": [
            "Point(x=3, y=4)\n"
          ],
          "name": "stdout"
        }
      ]
    },
    {
      "cell_type": "code",
      "metadata": {
        "colab": {
          "base_uri": "https://localhost:8080/"
        },
        "id": "WEJLkShknpIx",
        "outputId": "dbe14f42-7df2-405a-b66a-8c5aa02adae2"
      },
      "source": [
        "result = pt1 + pt2\r\n",
        "# + 연산자 -> pt1.__add__(pt2) -> __add__() 메서드의 리턴 값: + 연산의 결괏값.\r\n",
        "print(result)"
      ],
      "execution_count": 45,
      "outputs": [
        {
          "output_type": "stream",
          "text": [
            "Point(x=4, y=3)\n"
          ],
          "name": "stdout"
        }
      ]
    },
    {
      "cell_type": "markdown",
      "metadata": {
        "id": "OLNyaOspqoB4"
      },
      "source": [
        "아래와 같은 `Point * 숫자` 또는 `숫자 * Point` 연산이 가능하도록 `__mul__()`, `__rmul__()` 메서드를 Point 클래스에 작성하고 테스트하세요.\r\n",
        "\r\n",
        "```\r\n",
        "(1, 2) * 2 = (2, 4)\r\n",
        "2 * (1, 2) = (2, 4)\r\n",
        "```\r\n"
      ]
    },
    {
      "cell_type": "code",
      "metadata": {
        "colab": {
          "base_uri": "https://localhost:8080/"
        },
        "id": "3ptbYssONEu3",
        "outputId": "eac20635-2285-4946-f27c-7286f7427f40"
      },
      "source": [
        "print(pt1)\r\n",
        "result = pt1 * 2\r\n",
        "print(result)"
      ],
      "execution_count": 46,
      "outputs": [
        {
          "output_type": "stream",
          "text": [
            "Point(x=1, y=-1)\n",
            "Point(x=2, y=-2)\n"
          ],
          "name": "stdout"
        }
      ]
    },
    {
      "cell_type": "code",
      "metadata": {
        "colab": {
          "base_uri": "https://localhost:8080/"
        },
        "id": "rhD8bbRfNQd_",
        "outputId": "0f135070-3767-40bd-bfcf-1af82d19f4fb"
      },
      "source": [
        "result = 2 * pt1\r\n",
        "print(result)"
      ],
      "execution_count": 47,
      "outputs": [
        {
          "output_type": "stream",
          "text": [
            "Point(x=2, y=-2)\n"
          ],
          "name": "stdout"
        }
      ]
    },
    {
      "cell_type": "code",
      "metadata": {
        "colab": {
          "base_uri": "https://localhost:8080/"
        },
        "id": "dygkv4o4Pp2w",
        "outputId": "3d4883c9-25d2-4507-dbbc-727fcc6683e8"
      },
      "source": [
        "pt3 = Point(x=1, y=1)  # 생성자 함수 호출 -> Point 클래스의 인스턴스 생성.\r\n",
        "pt4 = Point(x=1, y=1)  # 생성자 함수 호출 -> Point 클래스의 인스턴스 생성.\r\n",
        "\r\n",
        "print(pt3 is pt4)\r\n",
        "# x is y: x와 y가 같은 주소를 가리키면 True, 그렇지 않으면 False.\r\n",
        "\r\n",
        "print(pt3 == pt4)\r\n",
        "# x == y: \r\n",
        "# (1) 클래스에서 __eq__ 메서드를 정의하지 않은 경우에는, x is y의 결과와 동일.\r\n",
        "# (2) 클래스에서 __eq__ 메서드를 정의한 경우에는, x.__eq__(y) 메서드의 리턴 값."
      ],
      "execution_count": 48,
      "outputs": [
        {
          "output_type": "stream",
          "text": [
            "False\n",
            "True\n"
          ],
          "name": "stdout"
        }
      ]
    },
    {
      "cell_type": "code",
      "metadata": {
        "colab": {
          "base_uri": "https://localhost:8080/"
        },
        "id": "PNcrMZSFZepY",
        "outputId": "ba0adfaa-710f-405b-ad63-99b0043b6e03"
      },
      "source": [
        "pt5 = Point(1, 0)\r\n",
        "pt6 = Point(2, 0)\r\n",
        "pt7 = Point(0.5, 0.5)\r\n",
        "\r\n",
        "print(pt5 > pt6)\r\n",
        "print(pt5 > pt7)\r\n",
        "\r\n",
        "print(pt5 < pt6)\r\n",
        "\r\n",
        "# not (x > y) = x < y or x == y\r\n",
        "# not (x < y) = x > y or x == y"
      ],
      "execution_count": 50,
      "outputs": [
        {
          "output_type": "stream",
          "text": [
            "False\n",
            "True\n",
            "True\n"
          ],
          "name": "stdout"
        }
      ]
    }
  ]
}