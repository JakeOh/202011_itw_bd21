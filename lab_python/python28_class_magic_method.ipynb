{
  "nbformat": 4,
  "nbformat_minor": 0,
  "metadata": {
    "colab": {
      "name": "python28_class_magic_method.ipynb",
      "provenance": [],
      "collapsed_sections": [],
      "authorship_tag": "ABX9TyNkPzKj95Svm1c6nqoWF+Ws",
      "include_colab_link": true
    },
    "kernelspec": {
      "name": "python3",
      "display_name": "Python 3"
    }
  },
  "cells": [
    {
      "cell_type": "markdown",
      "metadata": {
        "id": "view-in-github",
        "colab_type": "text"
      },
      "source": [
        "<a href=\"https://colab.research.google.com/github/JakeOh/202011_itw_bd21/blob/main/lab_python/python28_class_magic_method.ipynb\" target=\"_parent\"><img src=\"https://colab.research.google.com/assets/colab-badge.svg\" alt=\"Open In Colab\"/></a>"
      ]
    },
    {
      "cell_type": "code",
      "metadata": {
        "colab": {
          "base_uri": "https://localhost:8080/"
        },
        "id": "rOVDfHMqebmK",
        "outputId": "86fbfed2-15b4-4ae0-84f2-52f0efa97481"
      },
      "source": [
        "dir(str)  # str 클래스의 기능(메서드) 목록"
      ],
      "execution_count": 1,
      "outputs": [
        {
          "output_type": "execute_result",
          "data": {
            "text/plain": [
              "['__add__',\n",
              " '__class__',\n",
              " '__contains__',\n",
              " '__delattr__',\n",
              " '__dir__',\n",
              " '__doc__',\n",
              " '__eq__',\n",
              " '__format__',\n",
              " '__ge__',\n",
              " '__getattribute__',\n",
              " '__getitem__',\n",
              " '__getnewargs__',\n",
              " '__gt__',\n",
              " '__hash__',\n",
              " '__init__',\n",
              " '__init_subclass__',\n",
              " '__iter__',\n",
              " '__le__',\n",
              " '__len__',\n",
              " '__lt__',\n",
              " '__mod__',\n",
              " '__mul__',\n",
              " '__ne__',\n",
              " '__new__',\n",
              " '__reduce__',\n",
              " '__reduce_ex__',\n",
              " '__repr__',\n",
              " '__rmod__',\n",
              " '__rmul__',\n",
              " '__setattr__',\n",
              " '__sizeof__',\n",
              " '__str__',\n",
              " '__subclasshook__',\n",
              " 'capitalize',\n",
              " 'casefold',\n",
              " 'center',\n",
              " 'count',\n",
              " 'encode',\n",
              " 'endswith',\n",
              " 'expandtabs',\n",
              " 'find',\n",
              " 'format',\n",
              " 'format_map',\n",
              " 'index',\n",
              " 'isalnum',\n",
              " 'isalpha',\n",
              " 'isdecimal',\n",
              " 'isdigit',\n",
              " 'isidentifier',\n",
              " 'islower',\n",
              " 'isnumeric',\n",
              " 'isprintable',\n",
              " 'isspace',\n",
              " 'istitle',\n",
              " 'isupper',\n",
              " 'join',\n",
              " 'ljust',\n",
              " 'lower',\n",
              " 'lstrip',\n",
              " 'maketrans',\n",
              " 'partition',\n",
              " 'replace',\n",
              " 'rfind',\n",
              " 'rindex',\n",
              " 'rjust',\n",
              " 'rpartition',\n",
              " 'rsplit',\n",
              " 'rstrip',\n",
              " 'split',\n",
              " 'splitlines',\n",
              " 'startswith',\n",
              " 'strip',\n",
              " 'swapcase',\n",
              " 'title',\n",
              " 'translate',\n",
              " 'upper',\n",
              " 'zfill']"
            ]
          },
          "metadata": {
            "tags": []
          },
          "execution_count": 1
        }
      ]
    },
    {
      "cell_type": "code",
      "metadata": {
        "colab": {
          "base_uri": "https://localhost:8080/"
        },
        "id": "ArtOrN6ffDOL",
        "outputId": "2d65e45b-ea4e-4b4b-99ba-b8de3a2857f3"
      },
      "source": [
        "dir(list)"
      ],
      "execution_count": 2,
      "outputs": [
        {
          "output_type": "execute_result",
          "data": {
            "text/plain": [
              "['__add__',\n",
              " '__class__',\n",
              " '__contains__',\n",
              " '__delattr__',\n",
              " '__delitem__',\n",
              " '__dir__',\n",
              " '__doc__',\n",
              " '__eq__',\n",
              " '__format__',\n",
              " '__ge__',\n",
              " '__getattribute__',\n",
              " '__getitem__',\n",
              " '__gt__',\n",
              " '__hash__',\n",
              " '__iadd__',\n",
              " '__imul__',\n",
              " '__init__',\n",
              " '__init_subclass__',\n",
              " '__iter__',\n",
              " '__le__',\n",
              " '__len__',\n",
              " '__lt__',\n",
              " '__mul__',\n",
              " '__ne__',\n",
              " '__new__',\n",
              " '__reduce__',\n",
              " '__reduce_ex__',\n",
              " '__repr__',\n",
              " '__reversed__',\n",
              " '__rmul__',\n",
              " '__setattr__',\n",
              " '__setitem__',\n",
              " '__sizeof__',\n",
              " '__str__',\n",
              " '__subclasshook__',\n",
              " 'append',\n",
              " 'clear',\n",
              " 'copy',\n",
              " 'count',\n",
              " 'extend',\n",
              " 'index',\n",
              " 'insert',\n",
              " 'pop',\n",
              " 'remove',\n",
              " 'reverse',\n",
              " 'sort']"
            ]
          },
          "metadata": {
            "tags": []
          },
          "execution_count": 2
        }
      ]
    },
    {
      "cell_type": "code",
      "metadata": {
        "colab": {
          "base_uri": "https://localhost:8080/"
        },
        "id": "HooswxSqfXAI",
        "outputId": "8ce21bba-c0b7-4f0c-afaf-5475f0e2e31c"
      },
      "source": [
        "numbers = [1, 2, 3, 5]\r\n",
        "print(numbers)\r\n",
        "print('type:', type(numbers))  # 인스턴스의 데이터 타입(클래스 이름)\r\n",
        "print('id:', id(numbers))  # list 객체 numbers가 생성된 메모리 주소"
      ],
      "execution_count": 6,
      "outputs": [
        {
          "output_type": "stream",
          "text": [
            "[1, 2, 3, 5]\n",
            "type: <class 'list'>\n",
            "id: 140015446293512\n"
          ],
          "name": "stdout"
        }
      ]
    },
    {
      "cell_type": "code",
      "metadata": {
        "colab": {
          "base_uri": "https://localhost:8080/"
        },
        "id": "6O4sGBIfg4MC",
        "outputId": "c5bfb6f2-ac92-431c-cb9b-74f57ad0144e"
      },
      "source": [
        "word_counts = {'abc': 3, 'abcd': 4}\r\n",
        "print(word_counts)\r\n",
        "print('type:', type(word_counts))\r\n",
        "print('id:', id(word_counts))"
      ],
      "execution_count": 10,
      "outputs": [
        {
          "output_type": "stream",
          "text": [
            "{'abc': 3, 'abcd': 4}\n",
            "type: <class 'dict'>\n",
            "id: 140015314698888\n"
          ],
          "name": "stdout"
        }
      ]
    },
    {
      "cell_type": "code",
      "metadata": {
        "colab": {
          "base_uri": "https://localhost:8080/"
        },
        "id": "XRFAcV8Jhu7R",
        "outputId": "e7fee870-85f0-42a0-9699-a5566eb4a2f7"
      },
      "source": [
        "message = 'hello'\r\n",
        "print(message)\r\n",
        "print('type:', type(message))\r\n",
        "print('id:', id(message))"
      ],
      "execution_count": 13,
      "outputs": [
        {
          "output_type": "stream",
          "text": [
            "hello\n",
            "type: <class 'str'>\n",
            "id: 140015315185536\n"
          ],
          "name": "stdout"
        }
      ]
    },
    {
      "cell_type": "code",
      "metadata": {
        "colab": {
          "base_uri": "https://localhost:8080/"
        },
        "id": "FIoxQ-DZiI4n",
        "outputId": "a6e04168-b3ca-449c-a4b3-ec97265d395d"
      },
      "source": [
        "name = 'Python'\r\n",
        "print(message + name)  #> concatenation\r\n",
        "# print(message + 5)  #> TypeError"
      ],
      "execution_count": 16,
      "outputs": [
        {
          "output_type": "stream",
          "text": [
            "helloPython\n"
          ],
          "name": "stdout"
        }
      ]
    },
    {
      "cell_type": "code",
      "metadata": {
        "colab": {
          "base_uri": "https://localhost:8080/"
        },
        "id": "DpJ8b3ChiheB",
        "outputId": "4153ad1f-198b-41ab-f6cd-43f65bd11c30"
      },
      "source": [
        "print(message * 3)  #> 문자열 반복해서 복사\r\n",
        "# print(message * name)  #> TypeError"
      ],
      "execution_count": 19,
      "outputs": [
        {
          "output_type": "stream",
          "text": [
            "hellohellohello\n"
          ],
          "name": "stdout"
        }
      ]
    },
    {
      "cell_type": "code",
      "metadata": {
        "id": "vSITMF62i-Vv"
      },
      "source": [
        "class Point:\r\n",
        "\r\n",
        "    def __init__(self, x=0, y=0):\r\n",
        "        # initialization(초기화) - 생성자 함수가 호출되면 자동으로 호출되는 메서드.\r\n",
        "        self.x = x\r\n",
        "        self.y = y\r\n",
        "\r\n",
        "    def __repr__(self):\r\n",
        "        # 인스턴스가 print()함수의 argument일 때 자동으로 호출되는 메서드.\r\n",
        "        # 문자열을 리턴하는 메서드로 작성해야 함.\r\n",
        "        return f'Point(x={self.x}, y={self.y})'\r\n",
        "\r\n",
        "    def __add__(self, other):\r\n",
        "        # + 연산자가 사용될 때 자동으로 호출되는 메서드.\r\n",
        "        # + 연산자의 왼쪽에 Point 타입 객체가 있을 때 자동으로 호출되는 메서드.\r\n",
        "        # (x1, y1) + (x2, y2) = (x1 + x2, y1 + y2)\r\n",
        "        x = self.x + other.x\r\n",
        "        y = self.y + other.y\r\n",
        "        return Point(x, y)\r\n"
      ],
      "execution_count": 25,
      "outputs": []
    },
    {
      "cell_type": "code",
      "metadata": {
        "colab": {
          "base_uri": "https://localhost:8080/"
        },
        "id": "s3NcAM7EjWH4",
        "outputId": "38256fdf-4b30-49ee-ed6d-a2e63c475718"
      },
      "source": [
        "pt1 = Point(1, -1)  # Point 클래스의 인스턴스 생성\r\n",
        "print(pt1)  #> __main__.Point object at 0x7f57db20d9e8 (=140,015,315,245,544)"
      ],
      "execution_count": 26,
      "outputs": [
        {
          "output_type": "stream",
          "text": [
            "Point(x=1, y=-1)\n"
          ],
          "name": "stdout"
        }
      ]
    },
    {
      "cell_type": "code",
      "metadata": {
        "colab": {
          "base_uri": "https://localhost:8080/"
        },
        "id": "gQ0PfajGlQpY",
        "outputId": "0e4fb776-0569-4632-a926-9e45b97e5508"
      },
      "source": [
        "print('type:', type(pt1))\r\n",
        "print('id:', id(pt1))"
      ],
      "execution_count": 27,
      "outputs": [
        {
          "output_type": "stream",
          "text": [
            "type: <class '__main__.Point'>\n",
            "id: 140015315244312\n"
          ],
          "name": "stdout"
        }
      ]
    },
    {
      "cell_type": "code",
      "metadata": {
        "colab": {
          "base_uri": "https://localhost:8080/"
        },
        "id": "ct2p4cOInjxY",
        "outputId": "3467e10a-2a25-430e-8873-7d0901b292de"
      },
      "source": [
        "pt2 = Point(3, 4)\r\n",
        "print(pt2)"
      ],
      "execution_count": 28,
      "outputs": [
        {
          "output_type": "stream",
          "text": [
            "Point(x=3, y=4)\n"
          ],
          "name": "stdout"
        }
      ]
    },
    {
      "cell_type": "code",
      "metadata": {
        "colab": {
          "base_uri": "https://localhost:8080/"
        },
        "id": "WEJLkShknpIx",
        "outputId": "fe71ea35-69ad-406b-ff98-d90635cb233e"
      },
      "source": [
        "result = pt1 + pt2  \r\n",
        "# + 연산자 -> pt1.__add__(pt2)\r\n",
        "print(result)"
      ],
      "execution_count": 29,
      "outputs": [
        {
          "output_type": "stream",
          "text": [
            "Point(x=4, y=3)\n"
          ],
          "name": "stdout"
        }
      ]
    }
  ]
}