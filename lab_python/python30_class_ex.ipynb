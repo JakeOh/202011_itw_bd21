{
  "nbformat": 4,
  "nbformat_minor": 0,
  "metadata": {
    "colab": {
      "name": "python30_class_ex.ipynb",
      "provenance": [],
      "collapsed_sections": [],
      "authorship_tag": "ABX9TyNFZf6GymXsjdkgZvr/uFaa",
      "include_colab_link": true
    },
    "kernelspec": {
      "name": "python3",
      "display_name": "Python 3"
    }
  },
  "cells": [
    {
      "cell_type": "markdown",
      "metadata": {
        "id": "view-in-github",
        "colab_type": "text"
      },
      "source": [
        "<a href=\"https://colab.research.google.com/github/JakeOh/202011_itw_bd21/blob/main/lab_python/python30_class_ex.ipynb\" target=\"_parent\"><img src=\"https://colab.research.google.com/assets/colab-badge.svg\" alt=\"Open In Colab\"/></a>"
      ]
    },
    {
      "cell_type": "markdown",
      "metadata": {
        "id": "OoeplW0RAi2n"
      },
      "source": [
        "*   Account 클래스 - 은행 계좌\r\n",
        "    *   속성:\r\n",
        "        *   계좌번호(account_no): str\r\n",
        "        *   잔액(balance): number\r\n",
        "    *   기능:\r\n",
        "        *   입금(deposit)\r\n",
        "        *   출금(withdraw)\r\n",
        "        *   조회(info)\r\n",
        "        *   이체(transfer)\r\n",
        "    *   magic method:\r\n",
        "        *   `__repr__()`: Account(No.=123-456) 형태 출력\r\n",
        "        *   `__eq__()`: 계좌번호가 일치하면 True, 계좌번호가 다르면 False"
      ]
    },
    {
      "cell_type": "code",
      "metadata": {
        "id": "4p1J0asZAVxf"
      },
      "source": [
        "class Account:\r\n",
        "    def __init__(self, account_no, balance=0):\r\n",
        "        self.account_no = account_no\r\n",
        "        self.balance = balance\r\n",
        "\r\n",
        "    def __repr__(self):\r\n",
        "        return f'Account(No.={self.account_no})'\r\n",
        "\r\n",
        "    def __eq__(self, other):\r\n",
        "        # account1 == account2 -> account1.__eq__(account2) -> T/F \r\n",
        "        if not isinstance(other, Account):\r\n",
        "            return False\r\n",
        "        return self.account_no == other.account_no\r\n",
        "\r\n",
        "    def info(self):\r\n",
        "        print('Account No.:', self.account_no)\r\n",
        "        print('Balance:', self.balance)\r\n",
        "\r\n",
        "    def deposit(self, amount):\r\n",
        "        self.balance += amount\r\n",
        "\r\n",
        "    def withdraw(self, amount):\r\n",
        "        self.balance -= amount\r\n",
        "\r\n",
        "    def transfer(self, amount, to):\r\n",
        "        # 이체: (1) 내 계좌 출금, (2) 상대방 계좌 입금\r\n",
        "        self.withdraw(amount)\r\n",
        "        to.deposit(amount)\r\n"
      ],
      "execution_count": 1,
      "outputs": []
    },
    {
      "cell_type": "code",
      "metadata": {
        "id": "26bba8dkJ0ac"
      },
      "source": [
        ""
      ],
      "execution_count": null,
      "outputs": []
    }
  ]
}