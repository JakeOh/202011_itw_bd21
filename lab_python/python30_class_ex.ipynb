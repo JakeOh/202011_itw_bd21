{
  "nbformat": 4,
  "nbformat_minor": 0,
  "metadata": {
    "colab": {
      "name": "python30_class_ex.ipynb",
      "provenance": [],
      "collapsed_sections": [],
      "authorship_tag": "ABX9TyMd09KycyMZk7DnDFJAuhjh",
      "include_colab_link": true
    },
    "kernelspec": {
      "name": "python3",
      "display_name": "Python 3"
    }
  },
  "cells": [
    {
      "cell_type": "markdown",
      "metadata": {
        "id": "view-in-github",
        "colab_type": "text"
      },
      "source": [
        "<a href=\"https://colab.research.google.com/github/JakeOh/202011_itw_bd21/blob/main/lab_python/python30_class_ex.ipynb\" target=\"_parent\"><img src=\"https://colab.research.google.com/assets/colab-badge.svg\" alt=\"Open In Colab\"/></a>"
      ]
    },
    {
      "cell_type": "markdown",
      "metadata": {
        "id": "OoeplW0RAi2n"
      },
      "source": [
        "*   Account 클래스 - 은행 계좌\r\n",
        "    *   속성:\r\n",
        "        *   계좌번호(account_no): str\r\n",
        "        *   잔액(balance): number\r\n",
        "    *   기능:\r\n",
        "        *   입금(deposit)\r\n",
        "        *   출금(withdraw)\r\n",
        "        *   조회(info)\r\n",
        "        *   이체(transfer)\r\n",
        "    *   magic method:\r\n",
        "        *   `__repr__()`: Account(No.=123-456) 형태 출력\r\n",
        "        *   `__eq__()`: 계좌번호가 일치하면 True, 계좌번호가 다르면 False"
      ]
    },
    {
      "cell_type": "code",
      "metadata": {
        "id": "4p1J0asZAVxf"
      },
      "source": [
        "class Account:\r\n",
        "    def __init__(self, account_no, balance=0):\r\n",
        "        self.account_no = account_no\r\n",
        "        self.balance = balance\r\n",
        "\r\n",
        "    def __repr__(self):\r\n",
        "        return f'Account(No.={self.account_no})'\r\n",
        "\r\n",
        "    def __eq__(self, other):\r\n",
        "        # account1 == account2 -> account1.__eq__(account2) -> T/F \r\n",
        "        if not isinstance(other, Account):\r\n",
        "            return False\r\n",
        "        return self.account_no == other.account_no\r\n",
        "\r\n",
        "    def info(self):\r\n",
        "        print('Account No.:', self.account_no)\r\n",
        "        print('Balance:', self.balance)\r\n",
        "\r\n",
        "    def deposit(self, amount):\r\n",
        "        self.balance += amount\r\n",
        "\r\n",
        "    def withdraw(self, amount):\r\n",
        "        self.balance -= amount\r\n",
        "\r\n",
        "    def transfer(self, amount, to):\r\n",
        "        # 이체: (1) 내 계좌 출금, (2) 상대방 계좌 입금\r\n",
        "        self.withdraw(amount)\r\n",
        "        to.deposit(amount)\r\n"
      ],
      "execution_count": 1,
      "outputs": []
    },
    {
      "cell_type": "code",
      "metadata": {
        "colab": {
          "base_uri": "https://localhost:8080/"
        },
        "id": "26bba8dkJ0ac",
        "outputId": "7e36c7a2-df35-45ec-f2c3-8b6e8694c9a5"
      },
      "source": [
        "account1 = Account(account_no='123-456')  # Account 클래스의 인스턴스 생성\r\n",
        "print(account1)  # __repr__() 메서드 테스트"
      ],
      "execution_count": 12,
      "outputs": [
        {
          "output_type": "stream",
          "text": [
            "Account(No.=123-456)\n"
          ],
          "name": "stdout"
        }
      ]
    },
    {
      "cell_type": "code",
      "metadata": {
        "colab": {
          "base_uri": "https://localhost:8080/"
        },
        "id": "6hqRvxb0OaId",
        "outputId": "662061cb-7eca-4a9e-f608-4fa7d4a73689"
      },
      "source": [
        "account2 = Account(account_no='123-789', balance=1000)\r\n",
        "print(account2)"
      ],
      "execution_count": 13,
      "outputs": [
        {
          "output_type": "stream",
          "text": [
            "Account(No.=123-789)\n"
          ],
          "name": "stdout"
        }
      ]
    },
    {
      "cell_type": "code",
      "metadata": {
        "colab": {
          "base_uri": "https://localhost:8080/"
        },
        "id": "93n1-KJvOz8b",
        "outputId": "09e3417d-4fc4-48c7-e0b9-7e025bdc58c9"
      },
      "source": [
        "print(account1 == account2)  # __eq__() 메서드 테스트"
      ],
      "execution_count": 14,
      "outputs": [
        {
          "output_type": "stream",
          "text": [
            "False\n"
          ],
          "name": "stdout"
        }
      ]
    },
    {
      "cell_type": "code",
      "metadata": {
        "colab": {
          "base_uri": "https://localhost:8080/"
        },
        "id": "4rntvuA_OjEV",
        "outputId": "04a896d1-2d13-41c8-a792-be2d027e8b5d"
      },
      "source": [
        "account1.deposit(10_000)  # account1 계좌에 10,000원을 입금.\r\n",
        "account1.info()"
      ],
      "execution_count": 15,
      "outputs": [
        {
          "output_type": "stream",
          "text": [
            "Account No.: 123-456\n",
            "Balance: 10000\n"
          ],
          "name": "stdout"
        }
      ]
    },
    {
      "cell_type": "code",
      "metadata": {
        "colab": {
          "base_uri": "https://localhost:8080/"
        },
        "id": "I1HjuvdaPq58",
        "outputId": "45ac6eba-a71f-488d-b37f-471e90e88e52"
      },
      "source": [
        "account1.withdraw(1_000)  # account1 계좌에서 1,000원을 출금.\r\n",
        "account1.info()"
      ],
      "execution_count": 16,
      "outputs": [
        {
          "output_type": "stream",
          "text": [
            "Account No.: 123-456\n",
            "Balance: 9000\n"
          ],
          "name": "stdout"
        }
      ]
    },
    {
      "cell_type": "code",
      "metadata": {
        "colab": {
          "base_uri": "https://localhost:8080/"
        },
        "id": "NQ4S6qHPRj3D",
        "outputId": "2a497324-a2a8-4194-ef7d-125fa5085f8f"
      },
      "source": [
        "account1.transfer(5_000, account2)\r\n",
        "account1.info()\r\n",
        "account2.info()"
      ],
      "execution_count": 17,
      "outputs": [
        {
          "output_type": "stream",
          "text": [
            "Account No.: 123-456\n",
            "Balance: 4000\n",
            "Account No.: 123-789\n",
            "Balance: 6000\n"
          ],
          "name": "stdout"
        }
      ]
    }
  ]
}