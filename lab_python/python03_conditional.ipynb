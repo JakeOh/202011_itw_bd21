{
  "nbformat": 4,
  "nbformat_minor": 0,
  "metadata": {
    "colab": {
      "name": "python03_conditional.ipynb",
      "provenance": [],
      "collapsed_sections": [],
      "authorship_tag": "ABX9TyMJ529XVyL0vpDCvAFkGehY",
      "include_colab_link": true
    },
    "kernelspec": {
      "name": "python3",
      "display_name": "Python 3"
    }
  },
  "cells": [
    {
      "cell_type": "markdown",
      "metadata": {
        "id": "view-in-github",
        "colab_type": "text"
      },
      "source": [
        "<a href=\"https://colab.research.google.com/github/JakeOh/202011_itw_bd21/blob/main/lab_python/python03_conditional.ipynb\" target=\"_parent\"><img src=\"https://colab.research.google.com/assets/colab-badge.svg\" alt=\"Open In Colab\"/></a>"
      ]
    },
    {
      "cell_type": "markdown",
      "metadata": {
        "id": "1ku3xhvoOYtT"
      },
      "source": [
        "# 조건문(Conditional Statement)"
      ]
    },
    {
      "cell_type": "markdown",
      "metadata": {
        "id": "u7pUviBvOolL"
      },
      "source": [
        "## else 없는 조건문\r\n",
        "\r\n",
        "\r\n",
        "```\r\n",
        "if 조건식:\r\n",
        "    조건식이 True일 때 실행할 블록(문장들)\r\n",
        "```\r\n",
        "\r\n",
        "* if 조건식 뒤에는 반드시 콜론(:)을 사용\r\n",
        "* if 블록은 반드시 들여쓰기를 해야 함."
      ]
    },
    {
      "cell_type": "code",
      "metadata": {
        "id": "4UE8AbZROHdv"
      },
      "source": [
        "number = -100\r\n",
        "if number > 0:\r\n",
        "    print(f'{number}는 양수입니다.')\r\n",
        "print('if 문 바깥')"
      ],
      "execution_count": 3,
      "outputs": []
    },
    {
      "cell_type": "markdown",
      "metadata": {
        "id": "2ZVtes7mS9WC"
      },
      "source": [
        "## else 있는 조건문\r\n",
        "\r\n",
        "\r\n",
        "```\r\n",
        "if 조건식:\r\n",
        "    조건식이 True일 때 실행할 블록(문장들)\r\n",
        "else:\r\n",
        "    조건식이 False일 때 실행할 블록(문장들)\r\n",
        "```\r\n",
        "\r\n",
        "* if 조건식과, else 뒤에는 반드시 콜론(:)을 사용\r\n",
        "* if 블록과 else 블록은 반드시 들여쓰기를 해야 함."
      ]
    },
    {
      "cell_type": "code",
      "metadata": {
        "colab": {
          "base_uri": "https://localhost:8080/"
        },
        "id": "YfXCz9SVUapU",
        "outputId": "d65918ce-85e6-439f-db52-b063997fd915"
      },
      "source": [
        "number = -123\r\n",
        "if number > 0:\r\n",
        "    print(f'{number}는 양수입니다.')\r\n",
        "else:\r\n",
        "    print(f'{number}는 양수가 아닙니다.')\r\n",
        "print('if-else 바깥')"
      ],
      "execution_count": 5,
      "outputs": [
        {
          "output_type": "stream",
          "text": [
            "-123는 양수가 아닙니다.\n",
            "if-else 바깥\n"
          ],
          "name": "stdout"
        }
      ]
    },
    {
      "cell_type": "code",
      "metadata": {
        "id": "mCMvHLaNVjz6"
      },
      "source": [
        "# 정수를 입력받고 변수에 저장\r\n",
        "# if-else 문을 사용해서, 입력받은 정수가 짝수인지 홀수인지 출력"
      ],
      "execution_count": null,
      "outputs": []
    }
  ]
}