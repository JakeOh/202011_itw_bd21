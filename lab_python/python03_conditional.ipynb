{
  "nbformat": 4,
  "nbformat_minor": 0,
  "metadata": {
    "colab": {
      "name": "python03_conditional.ipynb",
      "provenance": [],
      "collapsed_sections": [],
      "authorship_tag": "ABX9TyPZUpDJ+qVBLJDPewPFKPfs",
      "include_colab_link": true
    },
    "kernelspec": {
      "name": "python3",
      "display_name": "Python 3"
    }
  },
  "cells": [
    {
      "cell_type": "markdown",
      "metadata": {
        "id": "view-in-github",
        "colab_type": "text"
      },
      "source": [
        "<a href=\"https://colab.research.google.com/github/JakeOh/202011_itw_bd21/blob/main/lab_python/python03_conditional.ipynb\" target=\"_parent\"><img src=\"https://colab.research.google.com/assets/colab-badge.svg\" alt=\"Open In Colab\"/></a>"
      ]
    },
    {
      "cell_type": "markdown",
      "metadata": {
        "id": "1ku3xhvoOYtT"
      },
      "source": [
        "# 조건문(Conditional Statement)"
      ]
    },
    {
      "cell_type": "markdown",
      "metadata": {
        "id": "u7pUviBvOolL"
      },
      "source": [
        "## else 없는 조건문\r\n",
        "\r\n",
        "\r\n",
        "```\r\n",
        "if 조건식:\r\n",
        "    조건식이 True일 때 실행할 블록(문장들)\r\n",
        "```\r\n",
        "\r\n",
        "* if 조건식 뒤에는 반드시 콜론(:)을 사용\r\n",
        "* if 블록은 반드시 들여쓰기를 해야 함."
      ]
    },
    {
      "cell_type": "code",
      "metadata": {
        "id": "4UE8AbZROHdv"
      },
      "source": [
        "number = -100\r\n",
        "if number > 0:\r\n",
        "    print(f'{number}는 양수입니다.')\r\n",
        "print('if 문 바깥')"
      ],
      "execution_count": 3,
      "outputs": []
    },
    {
      "cell_type": "markdown",
      "metadata": {
        "id": "2ZVtes7mS9WC"
      },
      "source": [
        "## else 있는 조건문\r\n",
        "\r\n",
        "\r\n",
        "```\r\n",
        "if 조건식:\r\n",
        "    조건식이 True일 때 실행할 블록(문장들)\r\n",
        "else:\r\n",
        "    조건식이 False일 때 실행할 블록(문장들)\r\n",
        "```\r\n",
        "\r\n",
        "* if 조건식과, else 뒤에는 반드시 콜론(:)을 사용\r\n",
        "* if 블록과 else 블록은 반드시 들여쓰기를 해야 함."
      ]
    },
    {
      "cell_type": "code",
      "metadata": {
        "colab": {
          "base_uri": "https://localhost:8080/"
        },
        "id": "YfXCz9SVUapU",
        "outputId": "d65918ce-85e6-439f-db52-b063997fd915"
      },
      "source": [
        "number = -123\r\n",
        "if number > 0:\r\n",
        "    print(f'{number}는 양수입니다.')\r\n",
        "else:\r\n",
        "    print(f'{number}는 양수가 아닙니다.')\r\n",
        "print('if-else 바깥')"
      ],
      "execution_count": 5,
      "outputs": [
        {
          "output_type": "stream",
          "text": [
            "-123는 양수가 아닙니다.\n",
            "if-else 바깥\n"
          ],
          "name": "stdout"
        }
      ]
    },
    {
      "cell_type": "code",
      "metadata": {
        "colab": {
          "base_uri": "https://localhost:8080/"
        },
        "id": "mCMvHLaNVjz6",
        "outputId": "0013eb3f-4134-4632-d720-d6a3c9f89eed"
      },
      "source": [
        "# 정수를 입력받고 변수에 저장\r\n",
        "number = int(input('정수 입력>>> '))\r\n",
        "\r\n",
        "# if-else 문을 사용해서, 입력받은 정수가 짝수인지 홀수인지 출력\r\n",
        "if number % 2 == 0:  # number를 2로 나눈 나머지가 0이면(짝수이면)\r\n",
        "    print('짝수')\r\n",
        "else:  # number를 2로 나눈 나머지가 0이 아니면(홀수이면)\r\n",
        "    print('홀수')"
      ],
      "execution_count": 10,
      "outputs": [
        {
          "output_type": "stream",
          "text": [
            "정수 입력>>> 13\n",
            "홀수\n"
          ],
          "name": "stdout"
        }
      ]
    },
    {
      "cell_type": "markdown",
      "metadata": {
        "id": "fXeoAiwAcIb6"
      },
      "source": [
        "## Chained Conditionals (if-elif-else)\r\n",
        "\r\n",
        "\r\n",
        "```\r\n",
        "if 조건식1:\r\n",
        "    조건식1이 True인 경우에 실행할 블록(문장들)\r\n",
        "elif 조건식2:\r\n",
        "    조건식2이 True인 경우에 실행할 블록(문장들)\r\n",
        "...\r\n",
        "else:\r\n",
        "    위의 모든 조건식들이 False일 때 실행할 블록(문장들)\r\n",
        "```\r\n",
        "\r\n",
        "\r\n",
        "* elif 조건식은 1개 이상일 수 있음.\r\n",
        "* else가 필요없는 경우에는 생략할 수 있음.\r\n",
        "* 모든 블록들은 들여쓰기가 되어야 함."
      ]
    },
    {
      "cell_type": "code",
      "metadata": {
        "colab": {
          "base_uri": "https://localhost:8080/"
        },
        "id": "CBfiMSDUe_e7",
        "outputId": "d7dca357-00cf-4763-c6aa-e7ee63e4c4b4"
      },
      "source": [
        "number = 0\r\n",
        "\r\n",
        "if number > 0:\r\n",
        "    print('positive')\r\n",
        "elif number < 0:\r\n",
        "    print('negative')\r\n",
        "else:\r\n",
        "    print('zero')\r\n",
        "\r\n",
        "print('=== end ===')    "
      ],
      "execution_count": 13,
      "outputs": [
        {
          "output_type": "stream",
          "text": [
            "zero\n",
            "=== end ===\n"
          ],
          "name": "stdout"
        }
      ]
    },
    {
      "cell_type": "markdown",
      "metadata": {
        "id": "CsSTiP98gpZf"
      },
      "source": [
        "## 중첩 조건문(Nested Conditionals)\r\n",
        "\r\n",
        "* if 블록, elif 블록, 또는 else 블록 안에서 조건문(if, if-else, if-elif-else, ...)이 사용되는 경우\r\n",
        "* 중첩 조건문을 사용할 때는 들여쓰기를 주의해야 함. 들여쓰기에 따라서 완전히 다른 로직이 될 수 있음.\r\n",
        "* 중첩 조건문은 elif를 사용하거나 논리 연산자(and, or)를 사용해서 중첩되지 않는 조건문으로 만들 수 있는 경우도 있음.\r\n",
        "\r\n",
        "\r\n",
        "```\r\n",
        "if condition1:\r\n",
        "    if condition2:\r\n",
        "        statements\r\n",
        "    else:\r\n",
        "        statements\r\n",
        "\r\n",
        "\r\n",
        "if condition1:\r\n",
        "    statements\r\n",
        "else:\r\n",
        "    if condition2:\r\n",
        "        statements\r\n",
        "    else:\r\n",
        "        statements\r\n",
        "```\r\n",
        "\r\n"
      ]
    },
    {
      "cell_type": "code",
      "metadata": {
        "colab": {
          "base_uri": "https://localhost:8080/"
        },
        "id": "V-juBQlkjO9i",
        "outputId": "34e221be-1ddb-44c2-fbd3-8fb7ca7fbbca"
      },
      "source": [
        "number = 1020\r\n",
        "\r\n",
        "if number > 0:  # 양수이면\r\n",
        "    print('positive number')\r\n",
        "else:  # 양수가 아니면\r\n",
        "    if number < 0: # 음수이면\r\n",
        "        print('negative number')\r\n",
        "    else:\r\n",
        "        print('zero')\r\n",
        "\r\n",
        "print('=== end ===')"
      ],
      "execution_count": 14,
      "outputs": [
        {
          "output_type": "stream",
          "text": [
            "positive number\n",
            "=== end ===\n"
          ],
          "name": "stdout"
        }
      ]
    }
  ]
}