{
  "nbformat": 4,
  "nbformat_minor": 0,
  "metadata": {
    "colab": {
      "name": "python23_rps.ipynb",
      "provenance": [],
      "collapsed_sections": [],
      "authorship_tag": "ABX9TyPtDtlFz9zEhYAR6eHTBrwM",
      "include_colab_link": true
    },
    "kernelspec": {
      "name": "python3",
      "display_name": "Python 3"
    }
  },
  "cells": [
    {
      "cell_type": "markdown",
      "metadata": {
        "id": "view-in-github",
        "colab_type": "text"
      },
      "source": [
        "<a href=\"https://colab.research.google.com/github/JakeOh/202011_itw_bd21/blob/main/lab_python/python23_rps.ipynb\" target=\"_parent\"><img src=\"https://colab.research.google.com/assets/colab-badge.svg\" alt=\"Open In Colab\"/></a>"
      ]
    },
    {
      "cell_type": "markdown",
      "metadata": {
        "id": "l-PGVYh0CCwU"
      },
      "source": [
        "**2선승제 가위/바위/보 게임**"
      ]
    },
    {
      "cell_type": "code",
      "metadata": {
        "id": "Zg9P4mYGB5ss"
      },
      "source": [
        "rps = {1: '가위', 2: '바위', 3: '보'}\r\n",
        "user_win = computer_win = 0  # user, computer가 승리한 횟수\r\n",
        "no_of_games = 0  # 게임 진행 횟수\r\n",
        "\r\n",
        "while True:  # 게임 시작\r\n",
        "    no_of_games += 1\r\n",
        "\r\n",
        "    user = user_choice()  # user의 선택(1, 2, 3)\r\n",
        "    computer = computer_choice()  # computer의 선택(1, 2, 3)\r\n",
        "    show_user_computer_choices(user, computer) # e.g. user:computer=가위:바위\r\n",
        "    \r\n",
        "    who_win = game_result(user, computer)  # 게임의 결과('user', 'computer', 'tie')\r\n",
        "    if who_win == 'user':\r\n",
        "        user_win += 1  # user가 승리한 횟수를 1 증가시킴.\r\n",
        "    elif who_win == 'computer':\r\n",
        "        computer_win += 1  # computer가 승리한 횟수를 1 증가시킴.\r\n",
        "\r\n",
        "    if end_condition():\r\n",
        "        # user 혹은 computer의 승리 횟수가 2가 되면 게임 종료\r\n",
        "        break"
      ],
      "execution_count": null,
      "outputs": []
    }
  ]
}