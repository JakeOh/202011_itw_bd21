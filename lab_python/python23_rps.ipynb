{
  "nbformat": 4,
  "nbformat_minor": 0,
  "metadata": {
    "colab": {
      "name": "python23_rps.ipynb",
      "provenance": [],
      "collapsed_sections": [],
      "authorship_tag": "ABX9TyMa1m6+Vki1qmPaD+yCPXBP",
      "include_colab_link": true
    },
    "kernelspec": {
      "name": "python3",
      "display_name": "Python 3"
    }
  },
  "cells": [
    {
      "cell_type": "markdown",
      "metadata": {
        "id": "view-in-github",
        "colab_type": "text"
      },
      "source": [
        "<a href=\"https://colab.research.google.com/github/JakeOh/202011_itw_bd21/blob/main/lab_python/python23_rps.ipynb\" target=\"_parent\"><img src=\"https://colab.research.google.com/assets/colab-badge.svg\" alt=\"Open In Colab\"/></a>"
      ]
    },
    {
      "cell_type": "markdown",
      "metadata": {
        "id": "l-PGVYh0CCwU"
      },
      "source": [
        "**2선승제 가위/바위/보 게임**"
      ]
    },
    {
      "cell_type": "code",
      "metadata": {
        "id": "C9E6eMWUj8ZL"
      },
      "source": [
        "def user_choice() -> int:\r\n",
        "    \"\"\"사용자 입력을 받아서, (1, 2, 3) 중에 하나를 리턴.\r\n",
        "    \"\"\"\r\n",
        "    while True:\r\n",
        "        print('[1] 가위')\r\n",
        "        print('[2] 바위')\r\n",
        "        print('[3] 보')\r\n",
        "        try:\r\n",
        "            user = int(input('선택>>> '))\r\n",
        "            if user not in (1, 2, 3):\r\n",
        "                raise ValueError()\r\n",
        "        except:\r\n",
        "            print('1, 2, 3 중에서만 선택하세요...')\r\n",
        "        else:\r\n",
        "            return user\r\n",
        "            # return 문의 의미:\r\n",
        "            # 1) 함수를 호출한 곳에 값을 반환\r\n",
        "            # 2) 함수를 종료"
      ],
      "execution_count": 1,
      "outputs": []
    },
    {
      "cell_type": "code",
      "metadata": {
        "id": "CdWGYElUng3x"
      },
      "source": [
        "import random"
      ],
      "execution_count": 4,
      "outputs": []
    },
    {
      "cell_type": "code",
      "metadata": {
        "id": "81xSAKPBnPes"
      },
      "source": [
        "def computer_choice() -> int:\r\n",
        "    \"\"\"(1, 2, 3) 중에 하나를 랜덤하게 리턴\r\n",
        "    \"\"\"\r\n",
        "    return random.randrange(1, 4)"
      ],
      "execution_count": 5,
      "outputs": []
    },
    {
      "cell_type": "code",
      "metadata": {
        "id": "WwJRi9U3oF9Z"
      },
      "source": [
        "def show_user_computer_choices(user: int, computer: int) -> None:\r\n",
        "    \"\"\"user, computer 선택을 문자열로 화면에 출력.\r\n",
        "    \"\"\"\r\n",
        "    print(f'User({rps[user]}) vs Computer({rps[computer]})')"
      ],
      "execution_count": 7,
      "outputs": []
    },
    {
      "cell_type": "code",
      "metadata": {
        "id": "p-iZKVk9quCS"
      },
      "source": [
        "def game_result(user: int, computer: int) -> str:\r\n",
        "    \"\"\"user, computer의 가위/바위/보 결과를 문자열('user', 'computer', 'tie)로 리턴\r\n",
        "    \"\"\"\r\n",
        "    game = user - computer\r\n",
        "    if game == 0:\r\n",
        "        result = 'tie'\r\n",
        "    elif game in (1, -2):\r\n",
        "        result = 'user'\r\n",
        "    else:\r\n",
        "        result = 'computer'\r\n",
        "\r\n",
        "    return result"
      ],
      "execution_count": 9,
      "outputs": []
    },
    {
      "cell_type": "code",
      "metadata": {
        "id": "lWVdtDtow11K"
      },
      "source": [
        "def end_condition() -> bool:\r\n",
        "    \"\"\"user 또는 computer가 이긴 횟수가 required_wins이면 True, 그렇지 않으면 False를 리턴\r\n",
        "    \"\"\"\r\n",
        "    if user_win == required_wins or computer_win == required_wins:\r\n",
        "        return True\r\n",
        "    else:\r\n",
        "        return False"
      ],
      "execution_count": 11,
      "outputs": []
    },
    {
      "cell_type": "code",
      "metadata": {
        "colab": {
          "base_uri": "https://localhost:8080/"
        },
        "id": "Zg9P4mYGB5ss",
        "outputId": "9b23155e-8172-472a-a470-bac3e7d27c1b"
      },
      "source": [
        "rps = {1: '가위', 2: '바위', 3: '보'}\r\n",
        "user_win = computer_win = 0  # user, computer가 승리한 횟수\r\n",
        "no_of_games = 0  # 게임 진행 횟수\r\n",
        "required_wins = 2  # 2선승제 게임\r\n",
        "\r\n",
        "while True:  # 게임 시작\r\n",
        "    no_of_games += 1\r\n",
        "    print(f'----- Game #{no_of_games} -----')\r\n",
        "\r\n",
        "    user = user_choice()  # user의 선택(1, 2, 3)\r\n",
        "    computer = computer_choice()  # computer의 선택(1, 2, 3)\r\n",
        "    show_user_computer_choices(user, computer) # e.g. user:computer=가위:바위\r\n",
        "    \r\n",
        "    who_win = game_result(user, computer)  # 게임의 결과('user', 'computer', 'tie')\r\n",
        "    if who_win == 'user':\r\n",
        "        user_win += 1  # user가 승리한 횟수를 1 증가시킴.\r\n",
        "    elif who_win == 'computer':\r\n",
        "        computer_win += 1  # computer가 승리한 횟수를 1 증가시킴.\r\n",
        "\r\n",
        "    if end_condition():\r\n",
        "        # user 혹은 computer의 승리 횟수가 2가 되면 게임 종료\r\n",
        "        # TODO: 누가 몇대몇으로 이겼는지를 출력\r\n",
        "        break  # 무한 반복문 종료"
      ],
      "execution_count": 13,
      "outputs": [
        {
          "output_type": "stream",
          "text": [
            "----- Game #1 -----\n",
            "[1] 가위\n",
            "[2] 바위\n",
            "[3] 보\n",
            "선택>>> 2\n",
            "User(바위) vs Computer(바위)\n",
            "----- Game #2 -----\n",
            "[1] 가위\n",
            "[2] 바위\n",
            "[3] 보\n",
            "선택>>> 2\n",
            "User(바위) vs Computer(바위)\n",
            "----- Game #3 -----\n",
            "[1] 가위\n",
            "[2] 바위\n",
            "[3] 보\n",
            "선택>>> 2\n",
            "User(바위) vs Computer(보)\n",
            "----- Game #4 -----\n",
            "[1] 가위\n",
            "[2] 바위\n",
            "[3] 보\n",
            "선택>>> 2\n",
            "User(바위) vs Computer(보)\n"
          ],
          "name": "stdout"
        }
      ]
    }
  ]
}