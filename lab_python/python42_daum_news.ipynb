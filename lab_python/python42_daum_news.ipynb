{
  "nbformat": 4,
  "nbformat_minor": 0,
  "metadata": {
    "colab": {
      "name": "python42_daum_news.ipynb",
      "provenance": [],
      "collapsed_sections": [],
      "authorship_tag": "ABX9TyO8rrG4cf2sWAqkPjteDsSg",
      "include_colab_link": true
    },
    "kernelspec": {
      "name": "python3",
      "display_name": "Python 3"
    }
  },
  "cells": [
    {
      "cell_type": "markdown",
      "metadata": {
        "id": "view-in-github",
        "colab_type": "text"
      },
      "source": [
        "<a href=\"https://colab.research.google.com/github/JakeOh/202011_itw_bd21/blob/main/lab_python/python42_daum_news.ipynb\" target=\"_parent\"><img src=\"https://colab.research.google.com/assets/colab-badge.svg\" alt=\"Open In Colab\"/></a>"
      ]
    },
    {
      "cell_type": "markdown",
      "metadata": {
        "id": "XFWlW-aGPqbi"
      },
      "source": [
        "# DAUM에서 많이 본 랭킹 뉴스"
      ]
    },
    {
      "cell_type": "code",
      "metadata": {
        "id": "rZxZNHSDPf27"
      },
      "source": [
        "import requests  \r\n",
        "# Python 기본 모듈 중 하나. 웹 서버에 request(요청)을 보내고 response(응답)을 받는 기능을 함.\r\n",
        "\r\n",
        "from bs4 import BeautifulSoup  # HTML parsing"
      ],
      "execution_count": 1,
      "outputs": []
    },
    {
      "cell_type": "code",
      "metadata": {
        "id": "jH2T5oUhTpg6"
      },
      "source": [
        "url = 'https://news.daum.net/ranking/popular'  # request를 보낼 웹 사이트 주소(URL)"
      ],
      "execution_count": 2,
      "outputs": []
    },
    {
      "cell_type": "code",
      "metadata": {
        "colab": {
          "base_uri": "https://localhost:8080/"
        },
        "id": "Le18e2zWT-Qj",
        "outputId": "723cd9ed-b876-4eb3-ca4f-7655f912bff1"
      },
      "source": [
        "response = requests.get(url)  # 웹 서버에 GET 방식의 request(요청)을 보냄.\r\n",
        "#> get() 함수의 리턴 값이 웹 서버가 보내 준 response(응답).\r\n",
        "\r\n",
        "print(response)\r\n",
        "#> Response [200]: 요청 처리 성공(Success)"
      ],
      "execution_count": 4,
      "outputs": [
        {
          "output_type": "stream",
          "text": [
            "<Response [200]>\n"
          ],
          "name": "stdout"
        }
      ]
    },
    {
      "cell_type": "code",
      "metadata": {
        "colab": {
          "base_uri": "https://localhost:8080/"
        },
        "id": "tBONLJb-V4L0",
        "outputId": "037b6006-298a-4ce5-abc0-68dd7749be23"
      },
      "source": [
        "html = response.text.strip()  # Response 객체의 text 속성의 값 - HTML 코드\r\n",
        "print(html[:300])"
      ],
      "execution_count": 9,
      "outputs": [
        {
          "output_type": "stream",
          "text": [
            "<!DOCTYPE html>\n",
            "\n",
            "\n",
            "\n",
            "<html lang=\"ko\" class=\"os_unknown none unknown version_0 \">\n",
            "<head>\n",
            "<meta charset=\"utf-8\">\n",
            "<meta name=\"referrer\" content=\"always\" />\n",
            "\n",
            "<meta property=\"og:author\" content=\"Daum 뉴스\" />\n",
            "<meta property=\"og:site_name\" content=\"다음뉴스\" />\n",
            "<meta property=\"og:title\" content=\"뉴스 랭킹\"/>\n",
            "<meta pr\n"
          ],
          "name": "stdout"
        }
      ]
    },
    {
      "cell_type": "code",
      "metadata": {
        "colab": {
          "base_uri": "https://localhost:8080/"
        },
        "id": "Wv3741KmXih1",
        "outputId": "018623c6-ebcc-41ae-a05e-1635283071fd"
      },
      "source": [
        "print(html[-300:])"
      ],
      "execution_count": 11,
      "outputs": [
        {
          "output_type": "stream",
          "text": [
            " class=\"link_kakao\">Kakao Corp.</a></strong> All rights reserved.</small>\n",
            "\t\t</div>\n",
            "\t</div>\n",
            "</div>\n",
            "\n",
            "<script src=\"//t1.daumcdn.net/media/kraken/news/d2170e8/footer.merged.js\"></script>\n",
            "    <script async type=\"text/javascript\" src=\"//t1.daumcdn.net/kas/static/ba.min.js\"></script>\n",
            "</div>\n",
            "</body>\n",
            "</html>\n"
          ],
          "name": "stdout"
        }
      ]
    },
    {
      "cell_type": "code",
      "metadata": {
        "id": "D3BLGYmxXxml"
      },
      "source": [
        "# HTML을 분석하기 위한 BeautifulSoup 객체를 생성\r\n",
        "soup = BeautifulSoup(markup=html, features='html5lib')"
      ],
      "execution_count": 12,
      "outputs": []
    },
    {
      "cell_type": "code",
      "metadata": {
        "colab": {
          "base_uri": "https://localhost:8080/"
        },
        "id": "gSAYG8pdYEox",
        "outputId": "2a123f98-e50e-4ca0-a079-a85e91dbc48b"
      },
      "source": [
        "# 웹 브라우저의 개발자 도구를 사용해서, \r\n",
        "# HTML 페이지에서 원하는 element를 찾을 수 있는 CSS selector를 찾음.\r\n",
        "len(soup.select('a.link_txt'))"
      ],
      "execution_count": 13,
      "outputs": [
        {
          "output_type": "execute_result",
          "data": {
            "text/plain": [
              "159"
            ]
          },
          "metadata": {
            "tags": []
          },
          "execution_count": 13
        }
      ]
    }
  ]
}