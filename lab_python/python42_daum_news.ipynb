{
  "nbformat": 4,
  "nbformat_minor": 0,
  "metadata": {
    "colab": {
      "name": "python42_daum_news.ipynb",
      "provenance": [],
      "collapsed_sections": [],
      "authorship_tag": "ABX9TyPEC/wr5N9WW9wshpAhnX9U",
      "include_colab_link": true
    },
    "kernelspec": {
      "name": "python3",
      "display_name": "Python 3"
    }
  },
  "cells": [
    {
      "cell_type": "markdown",
      "metadata": {
        "id": "view-in-github",
        "colab_type": "text"
      },
      "source": [
        "<a href=\"https://colab.research.google.com/github/JakeOh/202011_itw_bd21/blob/main/lab_python/python42_daum_news.ipynb\" target=\"_parent\"><img src=\"https://colab.research.google.com/assets/colab-badge.svg\" alt=\"Open In Colab\"/></a>"
      ]
    },
    {
      "cell_type": "markdown",
      "metadata": {
        "id": "XFWlW-aGPqbi"
      },
      "source": [
        "# DAUM에서 많이 본 랭킹 뉴스"
      ]
    },
    {
      "cell_type": "code",
      "metadata": {
        "id": "rZxZNHSDPf27"
      },
      "source": [
        "import requests\r\n",
        "# Python 기본 모듈 중 하나. 웹 서버에 request(요청)을 보내고 response(응답)을 받는 기능을 함.\r\n",
        "\r\n",
        "from bs4 import BeautifulSoup  # HTML parsing"
      ],
      "execution_count": 23,
      "outputs": []
    },
    {
      "cell_type": "code",
      "metadata": {
        "id": "jH2T5oUhTpg6"
      },
      "source": [
        "url = 'https://news.daum.net/ranking/popular'  # request를 보낼 웹 사이트 주소(URL)"
      ],
      "execution_count": 24,
      "outputs": []
    },
    {
      "cell_type": "code",
      "metadata": {
        "colab": {
          "base_uri": "https://localhost:8080/"
        },
        "id": "Le18e2zWT-Qj",
        "outputId": "297cc2fc-7699-4e1d-bf11-187d80a9b0c5"
      },
      "source": [
        "response = requests.get(url)  # 웹 서버에 GET 방식의 request(요청)을 보냄.\r\n",
        "#> get() 함수의 리턴 값이 웹 서버가 보내 준 response(응답).\r\n",
        "\r\n",
        "print(response)\r\n",
        "#> Response [200]: 요청 처리 성공(Success)"
      ],
      "execution_count": 25,
      "outputs": [
        {
          "output_type": "stream",
          "text": [
            "<Response [200]>\n"
          ],
          "name": "stdout"
        }
      ]
    },
    {
      "cell_type": "code",
      "metadata": {
        "colab": {
          "base_uri": "https://localhost:8080/"
        },
        "id": "tBONLJb-V4L0",
        "outputId": "a902c394-6c1b-4a1a-fab7-fbcbb99bb153"
      },
      "source": [
        "html = response.text.strip()  # Response 객체의 text 속성의 값 - HTML 코드\r\n",
        "print(html[:300])"
      ],
      "execution_count": 26,
      "outputs": [
        {
          "output_type": "stream",
          "text": [
            "<!DOCTYPE html>\n",
            "\n",
            "\n",
            "\n",
            "<html lang=\"ko\" class=\"os_unknown none unknown version_0 \">\n",
            "<head>\n",
            "<meta charset=\"utf-8\">\n",
            "<meta name=\"referrer\" content=\"always\" />\n",
            "\n",
            "<meta property=\"og:author\" content=\"Daum 뉴스\" />\n",
            "<meta property=\"og:site_name\" content=\"다음뉴스\" />\n",
            "<meta property=\"og:title\" content=\"뉴스 랭킹\"/>\n",
            "<meta pr\n"
          ],
          "name": "stdout"
        }
      ]
    },
    {
      "cell_type": "code",
      "metadata": {
        "colab": {
          "base_uri": "https://localhost:8080/"
        },
        "id": "Wv3741KmXih1",
        "outputId": "ce9c8c85-ad4c-4761-83c8-dc751728f7c4"
      },
      "source": [
        "print(html[-300:])"
      ],
      "execution_count": 27,
      "outputs": [
        {
          "output_type": "stream",
          "text": [
            " class=\"link_kakao\">Kakao Corp.</a></strong> All rights reserved.</small>\n",
            "\t\t</div>\n",
            "\t</div>\n",
            "</div>\n",
            "\n",
            "<script src=\"//t1.daumcdn.net/media/kraken/news/d2170e8/footer.merged.js\"></script>\n",
            "    <script async type=\"text/javascript\" src=\"//t1.daumcdn.net/kas/static/ba.min.js\"></script>\n",
            "</div>\n",
            "</body>\n",
            "</html>\n"
          ],
          "name": "stdout"
        }
      ]
    },
    {
      "cell_type": "code",
      "metadata": {
        "id": "D3BLGYmxXxml"
      },
      "source": [
        "# HTML을 분석하기 위한 BeautifulSoup 객체를 생성\r\n",
        "soup = BeautifulSoup(markup=html, features='html5lib')"
      ],
      "execution_count": 28,
      "outputs": []
    },
    {
      "cell_type": "code",
      "metadata": {
        "colab": {
          "base_uri": "https://localhost:8080/"
        },
        "id": "gSAYG8pdYEox",
        "outputId": "faca6ee5-a431-44f9-923c-82193735435c"
      },
      "source": [
        "# 웹 브라우저의 개발자 도구를 사용해서, \r\n",
        "# HTML 페이지에서 원하는 element를 찾을 수 있는 CSS selector를 찾음.\r\n",
        "len(soup.select('a.link_txt'))"
      ],
      "execution_count": 29,
      "outputs": [
        {
          "output_type": "execute_result",
          "data": {
            "text/plain": [
              "159"
            ]
          },
          "metadata": {
            "tags": []
          },
          "execution_count": 29
        }
      ]
    },
    {
      "cell_type": "code",
      "metadata": {
        "id": "UlmOz6OKfdxC"
      },
      "source": [
        "selector = 'ul.list_news2 > li a.link_txt'"
      ],
      "execution_count": 30,
      "outputs": []
    },
    {
      "cell_type": "code",
      "metadata": {
        "colab": {
          "base_uri": "https://localhost:8080/"
        },
        "id": "dmGjmrIxeyE0",
        "outputId": "59658c70-4d10-4f06-d768-cffd04668330"
      },
      "source": [
        "len(soup.select(selector))"
      ],
      "execution_count": 31,
      "outputs": [
        {
          "output_type": "execute_result",
          "data": {
            "text/plain": [
              "50"
            ]
          },
          "metadata": {
            "tags": []
          },
          "execution_count": 31
        }
      ]
    },
    {
      "cell_type": "code",
      "metadata": {
        "colab": {
          "base_uri": "https://localhost:8080/"
        },
        "id": "CVDO4syDg_a1",
        "outputId": "631b1c11-191f-47ba-d852-a48e05ca24bd"
      },
      "source": [
        "for link in soup.select(selector):\r\n",
        "    print(link.text.strip())\r\n",
        "    print(link['href'])  # link.get('href')"
      ],
      "execution_count": 34,
      "outputs": [
        {
          "output_type": "stream",
          "text": [
            "\"전국민 재난지원금 또 받아요\"..4차 재난지원금 3~4월 지급 전망\n",
            "https://v.daum.net/v/20210202135624185\n",
            "'남학생과 부적절한 관계'..20대 기간제 여교사 검찰 송치\n",
            "https://v.daum.net/v/20210202133327359\n",
            "여가부, 양육비 안주면 6월부터 운전면허 정지·7월 신상공개\n",
            "https://v.daum.net/v/20210202140037392\n",
            "지금 전쟁나면 누가 이길까..남북 군사력 비교해보니\n",
            "https://v.daum.net/v/20210202140600687\n",
            "[단독]하이닉스 사장 \"성과급 계획대로\"..직원들 \"삼성 경력 지원합시다\"\n",
            "https://v.daum.net/v/20210202145636926\n",
            "여의도순복음교회 이영훈 목사 \"기독교 이름으로 운영되는 비인가 단체, 감독해야\"\n",
            "https://v.daum.net/v/20210202152557427\n",
            "日서 '지진의 전조'로 불리는 대왕오징어 산 채로 발견..길이 4m 역대급\n",
            "https://v.daum.net/v/20210202110849882\n",
            "조은희, '능력 되면 입사해' KBS 직원 추정 글 논란에 \"국민들 마음 후벼 파\"\n",
            "https://v.daum.net/v/20210202150517412\n",
            "[르포]\"버스가 다녀야 사람이 찾지\"..우후죽순 산단 조성에 신음\n",
            "https://v.daum.net/v/20210202133054267\n",
            "1월 전기요금 고지서 자세히 보셨나요? 우리가 몰랐던 기후환경비용\n",
            "https://v.daum.net/v/20210202120600006\n",
            "[영상] 에어로빅女 뒤로 장갑차가 슥..카메라에 찍힌 미얀마 쿠데타 현장\n",
            "https://v.daum.net/v/20210202144528401\n",
            "\"동생 울면 아빠가 목 졸라\"..'남매 살인' 무죄 뒤집힐까\n",
            "https://v.daum.net/v/20210202142247464\n",
            "택시에 가방 놓고내린 승객 \"당장 오라\" 끝없는 전화..알고보니 마약\n",
            "https://v.daum.net/v/20210202152535407\n",
            "'심슨 가족' 작가, 코로나19 합병증으로 사망\n",
            "https://v.daum.net/v/20210202142104383\n",
            "싸이월드 내달 부활?..\"전제완 대표, '임금체불' 10억 받고 서비스 양도\"\n",
            "https://v.daum.net/v/20210202133848548\n",
            "靑, USB 비공개 가닥..文대통령 뼈아픈 학습효과도 작용\n",
            "https://v.daum.net/v/20210202145945071\n",
            "\"월급 퍼가요~\" 루이비통, 에르메스, 디올, 샤넬 다 올랐다\n",
            "https://v.daum.net/v/20210202143025756\n",
            "\"오늘 최고가는 내일의 최저가\" 뉴질랜드의 집값 영구 상승론\n",
            "https://v.daum.net/v/20210202140348588\n",
            "박근혜 생일 맞아 대형 케이크 모형 준비한 지지자들\n",
            "https://v.daum.net/v/20210202133345378\n",
            "국방백서에 일본 '동반자→이웃국가' 격하..'북한=적' 또 빠져(종합)\n",
            "https://v.daum.net/v/20210202141654191\n",
            "가족 자가격리 중인데 출근, 5인 이상 도박까지.. \"공무원들 왜 이러나\"\n",
            "https://v.daum.net/v/20210202144741506\n",
            "\"벌써 퇴사각\"..백신 접종 앞두고 사직서의 'ㅅ'까지 써놓은 병원 직원들\n",
            "https://v.daum.net/v/20210202112029547\n",
            "北 상비병력 南보다 2.3배 많지만 南이 질적 우위\n",
            "https://v.daum.net/v/20210202125531108\n",
            "[단독]文생일 즈음, 두번이나 '달님에 바치는 노래' 튼 KBS\n",
            "https://v.daum.net/v/20210202114952162\n",
            "두 오빠 죽음의 진실을 밝혀주세요\n",
            "https://v.daum.net/v/20210202151104705\n",
            "중학생 축구클럽버스 내리막길 가로수 '쾅'..1명 사망·3명 중상\n",
            "https://v.daum.net/v/20210202143933145\n",
            "죽창들고 구호 외치는 주민들\n",
            "https://v.daum.net/v/20210202125430097\n",
            "[제로웨이스트] 재활용 안 되는데 그냥 버려? 그래도 씻어서 분리배출하는 이유\n",
            "https://v.daum.net/v/20210202140003314\n",
            "국민 절반, \"'5인 이상 금지'효과있지만  '가족간 만남'은 허용해야\"\n",
            "https://v.daum.net/v/20210202113148166\n",
            "[속보] 이낙연 \"野, 완전 잘못 짚었다..제1야당 대표 무거운 책임져야\"\n",
            "https://v.daum.net/v/20210202104201441\n",
            "쌀뜨물로 감으면 머리 빨리 자랄까?\n",
            "https://v.daum.net/v/20210202150103198\n",
            "\"살려달라\" 혹한 속 임진강 철책 너머서 20대 쓰러진 채 발견\n",
            "https://v.daum.net/v/20210202153842181\n",
            "'7명 사망' 승합차 운전자 치료 중..\"진술 조사 시간 필요\"\n",
            "https://v.daum.net/v/20210202144619436\n",
            "靑, 문 대통령 내외가 보낼 설 선물 공개\n",
            "https://v.daum.net/v/20210202140007324\n",
            "갤럭시S21 떨어뜨렸더니..\"일반 모델이 울트라 보다 강해\"\n",
            "https://v.daum.net/v/20210202152406334\n",
            "'던파 효자' 넥슨 자회사 네오플, 전직원에 149만원짜리 아이폰12 쏜다\n",
            "https://v.daum.net/v/20210202150851556\n",
            "쪽잠 자던 간이침대, 마지막 메모..故 윤한덕 센터장 유품 첫 공개[박성민 기자의 더블케어]\n",
            "https://v.daum.net/v/20210202152728512\n",
            "\"우리는 화물이 아닙니다\" 배달 노동자, '갑질' 아파트 인권위 진정\n",
            "https://v.daum.net/v/20210202131607738\n",
            "2017년 로힝야 학살 책임자, 2021년 '미얀마의 봄'을 짓밟다\n",
            "https://v.daum.net/v/20210202104152435\n",
            "유럽 백신 수출 제한으로 된서리 맞은 日..\"조속한 승인 요구\"\n",
            "https://v.daum.net/v/20210202145152723\n",
            "한양대병원 확진자 50명 넘어..강동구 서울성심한방병원 20명\n",
            "https://v.daum.net/v/20210202145527863\n",
            "공주보 해체에 뿔난 주민들..트랙터 동원 \"75%가 반대, 무시하나\"\n",
            "https://v.daum.net/v/20210202114950160\n",
            "\"서울시장, 野 후보단일화 안되면 박영선 승리\"\n",
            "https://v.daum.net/v/20210202150627471\n",
            "박덕흠 수사 미적대는 검경..시민단체 \"공수처가 수사하라\"\n",
            "https://v.daum.net/v/20210202134602804\n",
            "[단독]헌정사상 첫 판사 탄핵 가결 임박..법조계, 각하 가능성에 무게\n",
            "https://v.daum.net/v/20210202125135042\n",
            "'北원전' 여야 공방에 금태섭 \"국정이 손목 거는 도박판이냐\"\n",
            "https://v.daum.net/v/20210202140208488\n",
            "[인터뷰] 빙판길 맨손으로 모래 뿌린 서산우체국 천태술 집배원\n",
            "https://v.daum.net/v/20210202100301284\n",
            "\"월 100만원 평생 연금 오피스텔\"..공정위, 기만 광고 제재\n",
            "https://v.daum.net/v/20210202120042632\n",
            "미국서 제설 작업 다툼 끝 3명 사망\n",
            "https://v.daum.net/v/20210202100459406\n",
            "머스크 \"원숭이 뇌에 칩 심어 비디오게임한다\"\n",
            "https://v.daum.net/v/20210202135732227\n"
          ],
          "name": "stdout"
        }
      ]
    },
    {
      "cell_type": "markdown",
      "metadata": {
        "id": "KJnwZtr3idjj"
      },
      "source": [
        "# DAUM 뉴스 랭킹 열독률 높은 뉴스 1 ~ 20위의 제목과 링크 출력"
      ]
    },
    {
      "cell_type": "code",
      "metadata": {
        "colab": {
          "base_uri": "https://localhost:8080/"
        },
        "id": "hZGyrZx-hFEK",
        "outputId": "541c8e6f-c14d-42c4-c251-3145935269b3"
      },
      "source": [
        "url = 'https://news.daum.net/ranking/kkomkkom'\r\n",
        "response = requests.get(url)\r\n",
        "print(response)"
      ],
      "execution_count": 42,
      "outputs": [
        {
          "output_type": "stream",
          "text": [
            "<Response [200]>\n"
          ],
          "name": "stdout"
        }
      ]
    },
    {
      "cell_type": "code",
      "metadata": {
        "colab": {
          "base_uri": "https://localhost:8080/"
        },
        "id": "fDP5PEU2rinx",
        "outputId": "bebb3e5a-a7a2-426a-d460-019daa80334a"
      },
      "source": [
        "html = response.text.strip()\r\n",
        "soup = BeautifulSoup(markup=html, features='html5lib')\r\n",
        "for i in range(1, 21):\r\n",
        "    selector = f'ul.list_news2 > li:nth-of-type({i}) > div.cont_thumb > strong > a.link_txt'\r\n",
        "    link = soup.select_one(selector)\r\n",
        "    print(f'[{i}] {link.text}')"
      ],
      "execution_count": 54,
      "outputs": [
        {
          "output_type": "stream",
          "text": [
            "[1] 2017년 로힝야 학살 책임자, 2021년 '미얀마의 봄'을 짓밟다\n",
            "[2] 새 임대차法이 쏘아올린 '전세대란'의 역설\n",
            "[3] 4번째 도전..KBS 수신료 인상 번번이 '좌절', 이유는?\n",
            "[4] 수소차부터 발전·에너지·운송까지..수소경제 '성큼'\n",
            "[5] 미 하원, '음모론' 의원에 시끌..매코널 \"공화당의 암\"(종합)\n",
            "[6] 공용 전기 뽑아 쓰는 전기도둑 잡아라..주차장은 전쟁터[TNA]\n",
            "[7] 노출 인터넷방송 거부한 직원 돈 뺏고 살해..BJ 징역 35년\n",
            "[8] 여야 '가덕도 신공항' 밀어붙이자..'TK 목소리' 세 갈래로 나뉘었다\n",
            "[9] 서정진부터 진양곤까지..'反공매도 운동' 발언 재조명\n",
            "[10] \"배달 늘어 좋아했는데\"..만취운전에 또 참변\n",
            "[11] 나경원 아들 특전사 차출 보도에 '딴지' 거는 이유\n",
            "[12] '죽도 폭행'에 '원산폭격'까지..딸 학대 부부 벌금형 논란(종합)\n",
            "[13] 중국, '미국의 동맹' 압박하나..캐나다·호주에 맹공\n",
            "[14] \"서울시장, 野 후보단일화 안되면 박영선 승리\"\n",
            "[15] '반중' 호주에 훈수 둔 뉴질랜드..미중 중재자 기대 '한몸에'\n",
            "[16] 오세훈·박주민, 원전문건 'V' 공방..VIP냐, Version이냐\n",
            "[17] 충남 인구 감소세 지속..보령시·홍성군 10만명 붕괴\n",
            "[18] 미, 텍사스에 희토류 공장 짓는다..호주 회사와 3천만불 계약\n",
            "[19] 시대전환 조정훈, 제3지대 단일화 여지..범여권서 이탈하나\n",
            "[20] 죽도 폭행에 '원산폭격'까지..딸 학대 부부 벌금형 논란\n"
          ],
          "name": "stdout"
        }
      ]
    },
    {
      "cell_type": "markdown",
      "metadata": {
        "id": "8p28bQP3t4rx"
      },
      "source": [
        "# DAUM 뉴스 랭킹 댓글 많은 뉴스 1~20위까지 뉴스의 순위, 제목, 댓글수를 출력"
      ]
    },
    {
      "cell_type": "code",
      "metadata": {
        "id": "z4PajKyat5Ed"
      },
      "source": [
        ""
      ],
      "execution_count": null,
      "outputs": []
    },
    {
      "cell_type": "markdown",
      "metadata": {
        "id": "ECkLxWbwt5kb"
      },
      "source": [
        "# DAUM 뉴스 랭킹 연령별 뉴스에서 연령별/성별 5위까지 뉴스의 제목 링크 URL을 출력"
      ]
    },
    {
      "cell_type": "code",
      "metadata": {
        "id": "-p0gdQGKt55Z"
      },
      "source": [
        ""
      ],
      "execution_count": null,
      "outputs": []
    }
  ]
}