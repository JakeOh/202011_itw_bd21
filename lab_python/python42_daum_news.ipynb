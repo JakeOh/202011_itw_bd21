{
  "nbformat": 4,
  "nbformat_minor": 0,
  "metadata": {
    "colab": {
      "name": "python42_daum_news.ipynb",
      "provenance": [],
      "collapsed_sections": [],
      "authorship_tag": "ABX9TyM7xKPZh2eBqZdOSTfVxdYx",
      "include_colab_link": true
    },
    "kernelspec": {
      "name": "python3",
      "display_name": "Python 3"
    }
  },
  "cells": [
    {
      "cell_type": "markdown",
      "metadata": {
        "id": "view-in-github",
        "colab_type": "text"
      },
      "source": [
        "<a href=\"https://colab.research.google.com/github/JakeOh/202011_itw_bd21/blob/main/lab_python/python42_daum_news.ipynb\" target=\"_parent\"><img src=\"https://colab.research.google.com/assets/colab-badge.svg\" alt=\"Open In Colab\"/></a>"
      ]
    },
    {
      "cell_type": "markdown",
      "metadata": {
        "id": "XFWlW-aGPqbi"
      },
      "source": [
        "# DAUM에서 많이 본 랭킹 뉴스"
      ]
    },
    {
      "cell_type": "code",
      "metadata": {
        "id": "rZxZNHSDPf27"
      },
      "source": [
        "import requests\r\n",
        "# Python 기본 모듈 중 하나. 웹 서버에 request(요청)을 보내고 response(응답)을 받는 기능을 함.\r\n",
        "\r\n",
        "from bs4 import BeautifulSoup  # HTML parsing"
      ],
      "execution_count": 1,
      "outputs": []
    },
    {
      "cell_type": "code",
      "metadata": {
        "id": "jH2T5oUhTpg6"
      },
      "source": [
        "url = 'https://news.daum.net/ranking/popular'  # request를 보낼 웹 사이트 주소(URL)"
      ],
      "execution_count": 15,
      "outputs": []
    },
    {
      "cell_type": "code",
      "metadata": {
        "colab": {
          "base_uri": "https://localhost:8080/"
        },
        "id": "Le18e2zWT-Qj",
        "outputId": "62466f39-ccac-42ae-847f-035d036804fa"
      },
      "source": [
        "response = requests.get(url)  # 웹 서버에 GET 방식의 request(요청)을 보냄.\r\n",
        "#> get() 함수의 리턴 값이 웹 서버가 보내 준 response(응답).\r\n",
        "\r\n",
        "print(response)\r\n",
        "#> Response [200]: 요청 처리 성공(Success)"
      ],
      "execution_count": 16,
      "outputs": [
        {
          "output_type": "stream",
          "text": [
            "<Response [200]>\n"
          ],
          "name": "stdout"
        }
      ]
    },
    {
      "cell_type": "code",
      "metadata": {
        "colab": {
          "base_uri": "https://localhost:8080/"
        },
        "id": "tBONLJb-V4L0",
        "outputId": "db492efb-bd12-47bf-9f29-660369d74f03"
      },
      "source": [
        "html = response.text.strip()  # Response 객체의 text 속성의 값 - HTML 코드\r\n",
        "print(html[:300])"
      ],
      "execution_count": 4,
      "outputs": [
        {
          "output_type": "stream",
          "text": [
            "<!DOCTYPE html>\n",
            "\n",
            "\n",
            "\n",
            "<html lang=\"ko\" class=\"os_unknown none unknown version_0 \">\n",
            "<head>\n",
            "<meta charset=\"utf-8\">\n",
            "<meta name=\"referrer\" content=\"always\" />\n",
            "\n",
            "<meta property=\"og:author\" content=\"Daum 뉴스\" />\n",
            "<meta property=\"og:site_name\" content=\"다음뉴스\" />\n",
            "<meta property=\"og:title\" content=\"뉴스 랭킹\"/>\n",
            "<meta pr\n"
          ],
          "name": "stdout"
        }
      ]
    },
    {
      "cell_type": "code",
      "metadata": {
        "colab": {
          "base_uri": "https://localhost:8080/"
        },
        "id": "Wv3741KmXih1",
        "outputId": "f474262d-9dde-4a20-ca84-41ee607730a9"
      },
      "source": [
        "print(html[-300:])"
      ],
      "execution_count": 5,
      "outputs": [
        {
          "output_type": "stream",
          "text": [
            " class=\"link_kakao\">Kakao Corp.</a></strong> All rights reserved.</small>\n",
            "\t\t</div>\n",
            "\t</div>\n",
            "</div>\n",
            "\n",
            "<script src=\"//t1.daumcdn.net/media/kraken/news/d2170e8/footer.merged.js\"></script>\n",
            "    <script async type=\"text/javascript\" src=\"//t1.daumcdn.net/kas/static/ba.min.js\"></script>\n",
            "</div>\n",
            "</body>\n",
            "</html>\n"
          ],
          "name": "stdout"
        }
      ]
    },
    {
      "cell_type": "code",
      "metadata": {
        "id": "D3BLGYmxXxml"
      },
      "source": [
        "# HTML을 분석하기 위한 BeautifulSoup 객체를 생성\r\n",
        "soup = BeautifulSoup(markup=html, features='html5lib')"
      ],
      "execution_count": 6,
      "outputs": []
    },
    {
      "cell_type": "code",
      "metadata": {
        "colab": {
          "base_uri": "https://localhost:8080/"
        },
        "id": "gSAYG8pdYEox",
        "outputId": "6d73a3b8-d854-4646-ffb7-6e1cf756a38e"
      },
      "source": [
        "# 웹 브라우저의 개발자 도구를 사용해서, \r\n",
        "# HTML 페이지에서 원하는 element를 찾을 수 있는 CSS selector를 찾음.\r\n",
        "len(soup.select('a.link_txt'))"
      ],
      "execution_count": 7,
      "outputs": [
        {
          "output_type": "execute_result",
          "data": {
            "text/plain": [
              "159"
            ]
          },
          "metadata": {
            "tags": []
          },
          "execution_count": 7
        }
      ]
    },
    {
      "cell_type": "code",
      "metadata": {
        "id": "UlmOz6OKfdxC"
      },
      "source": [
        "selector = 'ul.list_news2 > li a.link_txt'"
      ],
      "execution_count": 8,
      "outputs": []
    },
    {
      "cell_type": "code",
      "metadata": {
        "colab": {
          "base_uri": "https://localhost:8080/"
        },
        "id": "dmGjmrIxeyE0",
        "outputId": "636d7cc8-e28d-4ca7-edda-db58b2b625c6"
      },
      "source": [
        "len(soup.select(selector))"
      ],
      "execution_count": 9,
      "outputs": [
        {
          "output_type": "execute_result",
          "data": {
            "text/plain": [
              "50"
            ]
          },
          "metadata": {
            "tags": []
          },
          "execution_count": 9
        }
      ]
    },
    {
      "cell_type": "code",
      "metadata": {
        "colab": {
          "base_uri": "https://localhost:8080/"
        },
        "id": "CVDO4syDg_a1",
        "outputId": "1addab3f-48b6-4746-e615-8418a199dcee"
      },
      "source": [
        "for link in soup.select(selector):\r\n",
        "    print(link.text.strip())\r\n",
        "    print(link['href'])  # link.get('href')"
      ],
      "execution_count": 10,
      "outputs": [
        {
          "output_type": "stream",
          "text": [
            "\"셋째야, 등록금 걱정 말고 대학 가자\"..내년부터 전액 지원\n",
            "https://v.daum.net/v/20210203060110508\n",
            "김종인, '이적행위' 이어 '성폭행 프레임' 논란, 어쩌나\n",
            "https://v.daum.net/v/20210203075016083\n",
            "\"명품 없으면 인정 못받아\"..나이키 만족하던 아들이 변했다\n",
            "https://v.daum.net/v/20210203050059654\n",
            "\"文의 中공산당 축하 실망.. 이러려고 우리가 피흘려 한국 지켰나\"\n",
            "https://v.daum.net/v/20210203031312834\n",
            "아파트 경비원 코뼈 부러뜨린 중국인 호텔 데려다 준 경찰관 2명 징계\n",
            "https://v.daum.net/v/20210203073545854\n",
            "[단독] 임성근 판사 \"사직하겠다\".. 김명수 \"그럼 탄핵 안되지 않나\"\n",
            "https://v.daum.net/v/20210203050033639\n",
            "한국, 변이 바이러스 3종 동시 발생.. \"4차 대유행 우려\"\n",
            "https://v.daum.net/v/20210203030040506\n",
            "\"속옷 색까지 말해야 했다\" 성추행 당한 교사의 눈물 호소\n",
            "https://v.daum.net/v/20210203090952276\n",
            "'목사에게 교인은 봉?'..5조 헌금 강요 교회의 '이면' [탐사이다]\n",
            "https://v.daum.net/v/20210203070013307\n",
            "\"헬멧 벗으란 말도 못하나\"..'라이더 갑질' 지목 아파트들의 항변\n",
            "https://v.daum.net/v/20210203061002748\n",
            "美 '미얀마 사태=쿠데타' 이틀 만에 공식화..미얀마 정부 원조 중단\n",
            "https://v.daum.net/v/20210203072854752\n",
            "[단독]'아무도 도와주지 않았다'..암투병 60대 자가격리자의 죽음\n",
            "https://v.daum.net/v/20210203071550594\n",
            "[제보는Y] \"3분 만에 60만 원 빠져나가\"..'콘텐츠 결제' 해킹 피해 속출\n",
            "https://v.daum.net/v/20210203055212283\n",
            "미국 레딧 개미들 절망, 게임스톱-은선물 모두 폭락(종합2)\n",
            "https://v.daum.net/v/20210203063652018\n",
            "스페이스X 화성 우주선 스타십, 착륙 과정서 또 폭발\n",
            "https://v.daum.net/v/20210203062504887\n",
            "[제로웨이스트] '홈런볼' 낙하실험, 플라스틱 트레이 없으면 부서질까\n",
            "https://v.daum.net/v/20210203043039393\n",
            "오신환 \"강경보수로 회귀한 나경원으로 가면 서울시장 선거 '필패'\" [뼈때뷰]\n",
            "https://v.daum.net/v/20210203080120327\n",
            "부산시장 후보 여론조사 박형준 '선두'..가상 양자 대결서도 우세\n",
            "https://v.daum.net/v/20210203051311900\n",
            "남성호르몬 과다, 꽉 막힌 모공.. 짜지 말고 꼼꼼히 씻으세요\n",
            "https://v.daum.net/v/20210203050658789\n",
            "\"선수 출신 구합니다\"..운동 동호회의 '꼼수 집합'\n",
            "https://v.daum.net/v/20210203061006749\n",
            "박영선 \"서울 與지지 6주만에 역전..박영선 효과라 하더라\"\n",
            "https://v.daum.net/v/20210203050126670\n",
            "'킹덤' 좀비 물리친 전술, 이 칼끝에서 나왔소\n",
            "https://v.daum.net/v/20210203050656787\n",
            "작년 2조5000억 적자 낸 기업이 올해 주가 67% 급등한 이유는\n",
            "https://v.daum.net/v/20210203064506114\n",
            "\"아스트라제네카 백신, 1회만 맞아도 보호효과 76% 석달 유지\"(종합)\n",
            "https://v.daum.net/v/20210203090553064\n",
            "\"폭우 때 치킨시켜 배달원 괴롭혀야지\"..기초의원 예비후보 SNS\n",
            "https://v.daum.net/v/20210203090316964\n",
            "집주인 58%가 10년이상 보유.. 양도세-보유세 인상카드 안먹혀\n",
            "https://v.daum.net/v/20210203030140566\n",
            "\"누가 설 음식 사겠어요\"..5인이상 집합금지 '싸늘한' 전통시장\n",
            "https://v.daum.net/v/20210203043003372\n",
            "5년 생존률 37%에 불과..증상없어 골든타임 놓치기 쉬운 암\n",
            "https://v.daum.net/v/20210203040603197\n",
            "오세훈 'v' 촌극에..\"대통령 칭할 땐 대문자로 씁니다\"\n",
            "https://v.daum.net/v/20210203000502568\n",
            "'116조원 실탄' 보유한 삼성전자..차량용 반도체 M&A에 쏟아붓나\n",
            "https://v.daum.net/v/20210203050724815\n",
            "뉴욕에 60cm.. 美북동부 '괴물 눈폭풍'\n",
            "https://v.daum.net/v/20210203030229627\n",
            "육아휴직후 기초생활비 4000만원 타낸 공무원\n",
            "https://v.daum.net/v/20210203030108537\n",
            "착한 소비의 힘.. 초등생 편지에 우유 빨대 없앴다\n",
            "https://v.daum.net/v/20210203030849818\n",
            "\"함께 이겨내요 코로나\" 30만원 주고 2085% 이자 떼갔다\n",
            "https://v.daum.net/v/20210203050119666\n",
            "다시 400명대, 집단감염 속출에 재확산 우려..위험요인 상존\n",
            "https://v.daum.net/v/20210203045040515\n",
            "DJ·盧가 띄우고 MB가 덮은 '한일 해저터널'..10년만에 공수 교대\n",
            "https://v.daum.net/v/20210203053824150\n",
            "'고드름 빽빽' 방치된 원숭이..고발당한 대구 동물원\n",
            "https://v.daum.net/v/20210203040047126\n",
            "친딸 성폭행한 아버지 신상공개 대상 제외, 어떻게 생각하십니까\n",
            "https://v.daum.net/v/20210203071144532\n",
            "썩는 데만 400년..마스크 쓰레기, 여의도 17번 덮는다\n",
            "https://v.daum.net/v/20210203050212691\n",
            "공매도 풀리기만 벼르나..물량 쌓아둔 큰손, 94.8% '외국인'\n",
            "https://v.daum.net/v/20210203033002947\n",
            "정의용 \"北에 건넨 USB, 美에도 줬다\".. 靑은 'USB 비공개' 가닥\n",
            "https://v.daum.net/v/20210203050614742\n",
            "\"이낙연은 간첩\" 허위사실 방송한 유튜버 징역 6월\n",
            "https://v.daum.net/v/20210203060100490\n",
            "\"공산국 같다\" 비판에도..1명 확진에 200만 발묶은 나라\n",
            "https://v.daum.net/v/20210203043009377\n",
            "[단독]애플, 기아에 4조원 규모 투자.. 이달 '애플카' 협력 계약 추진\n",
            "https://v.daum.net/v/20210203090009791\n",
            "서울 사립유치원 1~2월 수업료 전액 환불시 교육청이 절반 보전\n",
            "https://v.daum.net/v/20210203060124541\n",
            "파장 일으킨 한겨레 성명사태 어떻게 볼 것인가\n",
            "https://v.daum.net/v/20210203045502553\n",
            "대한항공도 국제선 관광비행 시작..항공사 '생존경쟁' 치열\n",
            "https://v.daum.net/v/20210203063105956\n",
            "\"군부라는 '미친개'와 함께 걸어왔다.. 우리는 다시 싸울 것이다\"\n",
            "https://v.daum.net/v/20210203040309149\n",
            "\"총학생회에 신천지가?\" 전남대 시끌..학교도 뾰족한 수 없어 골머리\n",
            "https://v.daum.net/v/20210202170131110\n",
            "법관탄핵 동참 안한 죄..극성 친문, 이번엔 24명 좌표 찍었다\n",
            "https://v.daum.net/v/20210203050144675\n"
          ],
          "name": "stdout"
        }
      ]
    },
    {
      "cell_type": "markdown",
      "metadata": {
        "id": "KJnwZtr3idjj"
      },
      "source": [
        "# DAUM 뉴스 랭킹 열독률 높은 뉴스 1 ~ 20위의 제목과 링크 출력"
      ]
    },
    {
      "cell_type": "code",
      "metadata": {
        "colab": {
          "base_uri": "https://localhost:8080/"
        },
        "id": "hZGyrZx-hFEK",
        "outputId": "f89067c8-dda8-4ae3-b212-73ce3e9ad261"
      },
      "source": [
        "url = 'https://news.daum.net/ranking/kkomkkom'\r\n",
        "response = requests.get(url)\r\n",
        "print(response)"
      ],
      "execution_count": 11,
      "outputs": [
        {
          "output_type": "stream",
          "text": [
            "<Response [200]>\n"
          ],
          "name": "stdout"
        }
      ]
    },
    {
      "cell_type": "code",
      "metadata": {
        "colab": {
          "base_uri": "https://localhost:8080/"
        },
        "id": "fDP5PEU2rinx",
        "outputId": "735d67c7-2ee6-4d04-a64f-be231709d12f"
      },
      "source": [
        "html = response.text.strip()\r\n",
        "soup = BeautifulSoup(markup=html, features='html5lib')\r\n",
        "for i in range(1, 21):\r\n",
        "    selector = f'ul.list_news2 > li:nth-of-type({i}) > div.cont_thumb > strong > a.link_txt'\r\n",
        "    link = soup.select_one(selector)\r\n",
        "    print(f'[{i}] {link.text}')"
      ],
      "execution_count": 12,
      "outputs": [
        {
          "output_type": "stream",
          "text": [
            "[1] 오세훈 'v' 촌극에..\"대통령 칭할 땐 대문자로 씁니다\"\n",
            "[2] 오세훈 \"v는 VIP\" 주장에 정치권 'V-log' 'V3' 패러디 봇물\n",
            "[3] 법관탄핵 동참 안한 죄..극성 친문, 이번엔 24명 좌표 찍었다\n",
            "[4] \"우린 10년간 당했다\" 反공매도 전쟁터된 셀트리온\n",
            "[5] 미얀마 군부 1인자 흘라잉, 쿠데타 20일 전 왕이 만났다\n",
            "[6] \"수신료 왜 올리나\" 野 총공세·여론 뭇매..난감한 KBS\n",
            "[7] [단독]'아무도 도와주지 않았다'..암투병 60대 자가격리자의 죽음\n",
            "[8] 공매도 풀리기만 벼르나..물량 쌓아둔 큰손, 94.8% '외국인'\n",
            "[9] 미국식 민주주의 패배 규정..中, 경제력으로 미얀마 장악 노림수\n",
            "[10] \"속옷 색까지 말해야 했다\" 성추행 당한 교사의 눈물 호소\n",
            "[11] 육아휴직후 기초생활비 4000만원 타낸 공무원\n",
            "[12] 미 플로리다 총격에 수색영장 집행 FBI 요원 2명 사망·3명 부상(종합)\n",
            "[13] 일본, 韓국방백서에 공개 반발..주일 무관 불러 항의(종합)\n",
            "[14] 첫 돌 안된 '원주 남매 살해 혐의' 부부 1심 무죄..오늘 항소심 선고 주목\n",
            "[15] 옥천군 대청호 주변 낚시통제구역 지정에 뜻밖 '암초'\n",
            "[16] 미국 레딧 개미들 절망, 게임스톱-은선물 모두 폭락(종합2)\n",
            "[17] [인터뷰] 군부 쿠데타 미얀마..현지 분위기는?\n",
            "[18] \"헬멧 벗으란 말도 못하나\"..'라이더 갑질' 지목 아파트들의 항변\n",
            "[19] 정의선 실용주의.. 'GBC' 50층 3개동으로 바꿔 일부 매각 검토\n",
            "[20] '목사에게 교인은 봉?'..5조 헌금 강요 교회의 '이면' [탐사이다]\n"
          ],
          "name": "stdout"
        }
      ]
    },
    {
      "cell_type": "markdown",
      "metadata": {
        "id": "8p28bQP3t4rx"
      },
      "source": [
        "# DAUM 뉴스 랭킹 댓글 많은 뉴스 1~20위까지 뉴스의 순위, 댓글수, 제목을 출력"
      ]
    },
    {
      "cell_type": "code",
      "metadata": {
        "colab": {
          "base_uri": "https://localhost:8080/"
        },
        "id": "z4PajKyat5Ed",
        "outputId": "85b5525c-610e-4166-e9c7-2475796be199"
      },
      "source": [
        "url = 'https://news.daum.net/ranking/bestreply'  # 요청을 보낼 주소\r\n",
        "response = requests.get(url)  # 서버로 요청을 보내고 응답을 받음\r\n",
        "print(response)"
      ],
      "execution_count": 27,
      "outputs": [
        {
          "output_type": "stream",
          "text": [
            "<Response [200]>\n"
          ],
          "name": "stdout"
        }
      ]
    },
    {
      "cell_type": "code",
      "metadata": {
        "colab": {
          "base_uri": "https://localhost:8080/"
        },
        "id": "tnSJaEF8aoAL",
        "outputId": "f7289988-9614-4510-823d-c22f5042ba7e"
      },
      "source": [
        "html = response.text.strip()  # 응답에서 HTML 코드를 추출\r\n",
        "print(html[:300])"
      ],
      "execution_count": 28,
      "outputs": [
        {
          "output_type": "stream",
          "text": [
            "<!DOCTYPE html>\n",
            "\n",
            "\n",
            "\n",
            "<html lang=\"ko\" class=\"os_unknown none unknown version_0 \">\n",
            "<head>\n",
            "<meta charset=\"utf-8\">\n",
            "<meta name=\"referrer\" content=\"always\" />\n",
            "\n",
            "<meta property=\"og:author\" content=\"Daum 뉴스\" />\n",
            "<meta property=\"og:site_name\" content=\"다음뉴스\" />\n",
            "<meta property=\"og:title\" content=\"뉴스 랭킹\"/>\n",
            "<meta pr\n"
          ],
          "name": "stdout"
        }
      ]
    },
    {
      "cell_type": "code",
      "metadata": {
        "colab": {
          "base_uri": "https://localhost:8080/"
        },
        "id": "ryh3Fhb0bfHu",
        "outputId": "623e6123-a88a-4b45-c503-550562b862c7"
      },
      "source": [
        "print(html[-300:])"
      ],
      "execution_count": 19,
      "outputs": [
        {
          "output_type": "stream",
          "text": [
            " class=\"link_kakao\">Kakao Corp.</a></strong> All rights reserved.</small>\n",
            "\t\t</div>\n",
            "\t</div>\n",
            "</div>\n",
            "\n",
            "<script src=\"//t1.daumcdn.net/media/kraken/news/d2170e8/footer.merged.js\"></script>\n",
            "    <script async type=\"text/javascript\" src=\"//t1.daumcdn.net/kas/static/ba.min.js\"></script>\n",
            "</div>\n",
            "</body>\n",
            "</html>\n"
          ],
          "name": "stdout"
        }
      ]
    },
    {
      "cell_type": "code",
      "metadata": {
        "id": "mCxebEvCb-yb"
      },
      "source": [
        "soup = BeautifulSoup(markup=html, features='html5lib')  # BS 객체 생성"
      ],
      "execution_count": 29,
      "outputs": []
    },
    {
      "cell_type": "code",
      "metadata": {
        "colab": {
          "base_uri": "https://localhost:8080/"
        },
        "id": "fRHGd3mPcKft",
        "outputId": "bac7b7a1-f891-4c8a-dc1a-65e5573c3828"
      },
      "source": [
        "title_selector = 'ul.list_news2 > li:nth-of-type(2) > div.cont_thumb > strong > a.link_txt'\r\n",
        "print(soup.select_one(title_selector))"
      ],
      "execution_count": 22,
      "outputs": [
        {
          "output_type": "stream",
          "text": [
            "<a class=\"link_txt\" href=\"https://news.v.daum.net/v/20210202172652174\">이재명 \"조선일보, 경기도 감당못할 빚더미 나앉은 양 왜곡\"</a>\n"
          ],
          "name": "stdout"
        }
      ]
    },
    {
      "cell_type": "code",
      "metadata": {
        "colab": {
          "base_uri": "https://localhost:8080/"
        },
        "id": "X6CrsCwSiDXL",
        "outputId": "0ee199d7-bb38-4f50-84c9-80e689b7efdc"
      },
      "source": [
        "reply_selector = 'ul.list_news2 > li:nth-of-type(3) > div.rank_num > span.info_rank > span.ico_news2'\r\n",
        "print(soup.select_one(reply_selector))"
      ],
      "execution_count": 25,
      "outputs": [
        {
          "output_type": "stream",
          "text": [
            "<span class=\"ico_news2\">4,391</span>\n"
          ],
          "name": "stdout"
        }
      ]
    },
    {
      "cell_type": "code",
      "metadata": {
        "colab": {
          "base_uri": "https://localhost:8080/"
        },
        "id": "GnSjZ8nejU5q",
        "outputId": "496a8fbc-c18e-40c1-d3de-cc35f060e149"
      },
      "source": [
        "for i in range(1, 21):  # 1~20위까지 반복\r\n",
        "    title_selector = f'ul.list_news2 > li:nth-of-type({i}) > div.cont_thumb > strong > a.link_txt'\r\n",
        "    reply_selector = f'ul.list_news2 > li:nth-of-type({i}) > div.rank_num > span.info_rank > span.ico_news2'\r\n",
        "    title = soup.select_one(title_selector).text.strip()\r\n",
        "    reply = soup.select_one(reply_selector).text.strip()\r\n",
        "    print(f'[{i}]', reply, title)"
      ],
      "execution_count": 30,
      "outputs": [
        {
          "output_type": "stream",
          "text": [
            "[1] 8,645 \"文의 中공산당 축하 실망.. 이러려고 우리가 피흘려 한국 지켰나\"\n",
            "[2] 4,569 이재명 \"조선일보, 경기도 감당못할 빚더미 나앉은 양 왜곡\"\n",
            "[3] 4,421 나경원 아들 특전사 차출 보도에 '딴지' 거는 이유\n",
            "[4] 4,133 김종인, '이적행위' 이어 '성폭행 프레임' 논란, 어쩌나\n",
            "[5] 3,120 [단독] 임성근 판사 \"사직하겠다\".. 김명수 \"그럼 탄핵 안되지 않나\"\n",
            "[6] 3,064 \"셋째야, 등록금 걱정 말고 대학 가자\"..내년부터 전액 지원\n",
            "[7] 2,590 \"헬멧 벗으란 말도 못하나\"..'라이더 갑질' 지목 아파트들의 항변\n",
            "[8] 2,032 한국, 변이 바이러스 3종 동시 발생.. \"4차 대유행 우려\"\n",
            "[9] 1,847 '목사에게 교인은 봉?'..5조 헌금 강요 교회의 '이면' [탐사이다]\n",
            "[10] 1,270 아파트 경비원 코뼈 부러뜨린 중국인 호텔 데려다 준 경찰관 2명 징계\n",
            "[11] 1,110 \"명품 없으면 인정 못받아\"..나이키 만족하던 아들이 변했다\n",
            "[12] 1,089 부산시장 후보 여론조사 박형준 '선두'..가상 양자 대결서도 우세\n",
            "[13] 1,043 \"속옷 색까지 말해야 했다\" 성추행 당한 교사의 눈물 호소\n",
            "[14] 1,021 오세훈 'v' 촌극에..\"대통령 칭할 땐 대문자로 씁니다\"\n",
            "[15] 978 [최강시사] 나경원 \"김대중·노무현 대통령도 해저터널 거론..'친일'은 낡은 선거 프레임\"\n",
            "[16] 948 \"폭우 때 치킨시켜 배달원 괴롭혀야지\"..기초의원 예비후보 SNS\n",
            "[17] 897 박형준 \"해저터널 日 대륙 진출 기지화? 옛날 얘기\"\n",
            "[18] 875 정의용 \"北에 건넨 USB, 美에도 줬다\".. 靑은 'USB 비공개' 가닥\n",
            "[19] 828 [단독] 임현택 \"한일병원에 조국 딸 인턴 지원..응시 자격 박탈해야\"\n",
            "[20] 750 DJ·盧가 띄우고 MB가 덮은 '한일 해저터널'..10년만에 공수 교대\n"
          ],
          "name": "stdout"
        }
      ]
    },
    {
      "cell_type": "markdown",
      "metadata": {
        "id": "ECkLxWbwt5kb"
      },
      "source": [
        "# DAUM 뉴스 랭킹 연령별 뉴스에서 연령별/성별 5위까지 뉴스의 제목 링크 URL을 출력"
      ]
    },
    {
      "cell_type": "code",
      "metadata": {
        "colab": {
          "base_uri": "https://localhost:8080/"
        },
        "id": "-p0gdQGKt55Z",
        "outputId": "30e52746-a3db-4dcb-a36a-d3cb3e249011"
      },
      "source": [
        "url = 'https://news.daum.net/ranking/age'  # request를 보낼 URL\r\n",
        "response = requests.get(url)  # 서버로 request를 보내고, response를 받음\r\n",
        "print(response)"
      ],
      "execution_count": 49,
      "outputs": [
        {
          "output_type": "stream",
          "text": [
            "<Response [200]>\n"
          ],
          "name": "stdout"
        }
      ]
    },
    {
      "cell_type": "code",
      "metadata": {
        "id": "2qAZSzruljBM"
      },
      "source": [
        "html = response.text.strip()  # 서버로부터 받은 response에서 HTML 코드를 추출\r\n",
        "soup = BeautifulSoup(markup=html, features='html5lib')  # HTML을 분석할 수 있는 BS 객체를 생성"
      ],
      "execution_count": 50,
      "outputs": []
    },
    {
      "cell_type": "code",
      "metadata": {
        "colab": {
          "base_uri": "https://localhost:8080/"
        },
        "id": "OrOwfUI4ltjX",
        "outputId": "45a38fb5-4562-4f04-d317-fa0a8e686c43"
      },
      "source": [
        "selector = 'div.item_age.item_20s > div.rank_female > ol > li.num_news.num1 > a.link_txt'\r\n",
        "soup.select_one(selector)"
      ],
      "execution_count": 51,
      "outputs": [
        {
          "output_type": "execute_result",
          "data": {
            "text/plain": [
              "<a class=\"link_txt\" href=\"https://v.daum.net/v/20210203090952276\">\"속옷 색까지 말해야 했다\" 성추행 당한 여교사의 눈물 호소</a>"
            ]
          },
          "metadata": {
            "tags": []
          },
          "execution_count": 51
        }
      ]
    },
    {
      "cell_type": "code",
      "metadata": {
        "colab": {
          "base_uri": "https://localhost:8080/"
        },
        "id": "asyMGC9hoSos",
        "outputId": "9ab22d7d-a5ad-4640-c324-634de6ec8c45"
      },
      "source": [
        "selector = 'div.item_age.item_20s > div.rank_female > ol > li.num_news.num2 > a.link_txt'\r\n",
        "soup.select_one(selector)"
      ],
      "execution_count": 52,
      "outputs": [
        {
          "output_type": "execute_result",
          "data": {
            "text/plain": [
              "<a class=\"link_txt\" href=\"https://v.daum.net/v/20210203094048757\">해운대 4성급 호텔 미성년자 혼숙 적발돼 2개월 영업정지</a>"
            ]
          },
          "metadata": {
            "tags": []
          },
          "execution_count": 52
        }
      ]
    },
    {
      "cell_type": "code",
      "metadata": {
        "colab": {
          "base_uri": "https://localhost:8080/"
        },
        "id": "3YwHncyzoi1F",
        "outputId": "d44d55bb-68ec-4e38-f58c-f081cbd411e3"
      },
      "source": [
        "selector = 'div.item_20s > div.rank_female > ol a.link_txt'\r\n",
        "soup.select(selector)"
      ],
      "execution_count": 53,
      "outputs": [
        {
          "output_type": "execute_result",
          "data": {
            "text/plain": [
              "[<a class=\"link_txt\" href=\"https://v.daum.net/v/20210203090952276\">\"속옷 색까지 말해야 했다\" 성추행 당한 여교사의 눈물 호소</a>,\n",
              " <a class=\"link_txt\" href=\"https://v.daum.net/v/20210203094048757\">해운대 4성급 호텔 미성년자 혼숙 적발돼 2개월 영업정지</a>,\n",
              " <a class=\"link_txt\" href=\"https://v.daum.net/v/20210203102712257\">[시선집중] 오은영 \"5시간 원산폭격 시킨 부모, 벌금형? 이건 고문\"</a>,\n",
              " <a class=\"link_txt\" href=\"https://v.daum.net/v/20210203090316964\">\"폭우 때 치킨시켜 배달원 괴롭혀야지\"..기초의원 예비후보 SNS</a>,\n",
              " <a class=\"link_txt\" href=\"https://v.daum.net/v/20210203100621028\">목 매달아 죽이고 똥 범벅 사육장에 방치..대구동물원 지옥의 1년</a>]"
            ]
          },
          "metadata": {
            "tags": []
          },
          "execution_count": 53
        }
      ]
    },
    {
      "cell_type": "code",
      "metadata": {
        "colab": {
          "base_uri": "https://localhost:8080/"
        },
        "id": "P-CiGepLpQQt",
        "outputId": "d0b89693-a960-4f9a-da43-46db9d24c969"
      },
      "source": [
        "selector = 'div.item_20s > div.rank_male > ol a.link_txt'\r\n",
        "soup.select(selector)"
      ],
      "execution_count": 54,
      "outputs": [
        {
          "output_type": "execute_result",
          "data": {
            "text/plain": [
              "[<a class=\"link_txt\" href=\"https://v.daum.net/v/20210203094956160\">아파트 단지 옥상은 누구 것.. '텃밭' 놓고 소송전 벌어진 사연</a>,\n",
              " <a class=\"link_txt\" href=\"https://v.daum.net/v/20210203090316964\">\"폭우 때 치킨시켜 배달원 괴롭혀야지\"..기초의원 예비후보 SNS</a>,\n",
              " <a class=\"link_txt\" href=\"https://v.daum.net/v/20210203094048757\">해운대 4성급 호텔 미성년자 혼숙 적발돼 2개월 영업정지</a>,\n",
              " <a class=\"link_txt\" href=\"https://v.daum.net/v/20210203100602010\">억류 한국 선원 '전격' 석방..싸늘하던 이란은 왜 태도 바꿨나</a>,\n",
              " <a class=\"link_txt\" href=\"https://v.daum.net/v/20210203101044302\">정세균, 국민의힘 '성폭행 프레임' 내부문건에 \"차라리 가짜뉴스면\"</a>]"
            ]
          },
          "metadata": {
            "tags": []
          },
          "execution_count": 54
        }
      ]
    },
    {
      "cell_type": "code",
      "metadata": {
        "colab": {
          "base_uri": "https://localhost:8080/"
        },
        "id": "mzzN1NNCq3q6",
        "outputId": "03ca4dd8-604b-4542-aef4-bfdd58ee4100"
      },
      "source": [
        "selector = 'div.item_30s > div.rank_female > ol a.link_txt'\r\n",
        "soup.select(selector)"
      ],
      "execution_count": 55,
      "outputs": [
        {
          "output_type": "execute_result",
          "data": {
            "text/plain": [
              "[<a class=\"link_txt\" href=\"https://v.daum.net/v/20210203094048757\">해운대 4성급 호텔 미성년자 혼숙 적발돼 2개월 영업정지</a>,\n",
              " <a class=\"link_txt\" href=\"https://v.daum.net/v/20210203102258016\">기름까지 두른 프라이팬에 계란프라이가 눌어붙는 이유는?</a>,\n",
              " <a class=\"link_txt\" href=\"https://v.daum.net/v/20210203090316964\">\"폭우 때 치킨시켜 배달원 괴롭혀야지\"..기초의원 예비후보 SNS</a>,\n",
              " <a class=\"link_txt\" href=\"https://v.daum.net/v/20210203100621028\">목 매달아 죽이고 똥 범벅 사육장에 방치..대구동물원 지옥의 1년</a>,\n",
              " <a class=\"link_txt\" href=\"https://v.daum.net/v/20210203100953232\">\"아리아 살려줘\" 한마디에 춘천 독거노인 구한 AI 스피커</a>]"
            ]
          },
          "metadata": {
            "tags": []
          },
          "execution_count": 55
        }
      ]
    },
    {
      "cell_type": "code",
      "metadata": {
        "colab": {
          "base_uri": "https://localhost:8080/"
        },
        "id": "QcHL8ZelrFFC",
        "outputId": "db8b7599-de97-4a16-9d6f-0a427f06c758"
      },
      "source": [
        "ages = range(20, 60, 10)  # 연령대: 20, 30, 40, 50대\r\n",
        "genders = ('female', 'male')  # 성별\r\n",
        "\r\n",
        "for age in ages:\r\n",
        "    for gender in genders:\r\n",
        "        category_selector = f'div.item_age.item_{age}s > div.rank_{gender} > strong.txt_news'\r\n",
        "        category = soup.select_one(category_selector).text.strip()\r\n",
        "        print('---', category, '---')\r\n",
        "\r\n",
        "        selector = f'div.item_{age}s > div.rank_{gender} > ol a.link_txt'\r\n",
        "        news_top5 = soup.select(selector)\r\n",
        "        for link in news_top5:\r\n",
        "            print(link['href'], link.text)"
      ],
      "execution_count": 56,
      "outputs": [
        {
          "output_type": "stream",
          "text": [
            "--- 20대 여성 ---\n",
            "https://v.daum.net/v/20210203090952276 \"속옷 색까지 말해야 했다\" 성추행 당한 여교사의 눈물 호소\n",
            "https://v.daum.net/v/20210203094048757 해운대 4성급 호텔 미성년자 혼숙 적발돼 2개월 영업정지\n",
            "https://v.daum.net/v/20210203102712257 [시선집중] 오은영 \"5시간 원산폭격 시킨 부모, 벌금형? 이건 고문\"\n",
            "https://v.daum.net/v/20210203090316964 \"폭우 때 치킨시켜 배달원 괴롭혀야지\"..기초의원 예비후보 SNS\n",
            "https://v.daum.net/v/20210203100621028 목 매달아 죽이고 똥 범벅 사육장에 방치..대구동물원 지옥의 1년\n",
            "--- 20대 남성 ---\n",
            "https://v.daum.net/v/20210203094956160 아파트 단지 옥상은 누구 것.. '텃밭' 놓고 소송전 벌어진 사연\n",
            "https://v.daum.net/v/20210203090316964 \"폭우 때 치킨시켜 배달원 괴롭혀야지\"..기초의원 예비후보 SNS\n",
            "https://v.daum.net/v/20210203094048757 해운대 4성급 호텔 미성년자 혼숙 적발돼 2개월 영업정지\n",
            "https://v.daum.net/v/20210203100602010 억류 한국 선원 '전격' 석방..싸늘하던 이란은 왜 태도 바꿨나\n",
            "https://v.daum.net/v/20210203101044302 정세균, 국민의힘 '성폭행 프레임' 내부문건에 \"차라리 가짜뉴스면\"\n",
            "--- 30대 여성 ---\n",
            "https://v.daum.net/v/20210203094048757 해운대 4성급 호텔 미성년자 혼숙 적발돼 2개월 영업정지\n",
            "https://v.daum.net/v/20210203102258016 기름까지 두른 프라이팬에 계란프라이가 눌어붙는 이유는?\n",
            "https://v.daum.net/v/20210203090316964 \"폭우 때 치킨시켜 배달원 괴롭혀야지\"..기초의원 예비후보 SNS\n",
            "https://v.daum.net/v/20210203100621028 목 매달아 죽이고 똥 범벅 사육장에 방치..대구동물원 지옥의 1년\n",
            "https://v.daum.net/v/20210203100953232 \"아리아 살려줘\" 한마디에 춘천 독거노인 구한 AI 스피커\n",
            "--- 30대 남성 ---\n",
            "https://v.daum.net/v/20210203090316964 \"폭우 때 치킨시켜 배달원 괴롭혀야지\"..기초의원 예비후보 SNS\n",
            "https://v.daum.net/v/20210203103204569 블룸버그 \"한국, 가장 혁신적인 나라..美 11위, 日 12위\"\n",
            "https://v.daum.net/v/20210203094048757 해운대 4성급 호텔 미성년자 혼숙 적발돼 2개월 영업정지\n",
            "https://v.daum.net/v/20210203100602010 억류 한국 선원 '전격' 석방..싸늘하던 이란은 왜 태도 바꿨나\n",
            "https://v.daum.net/v/20210203102258016 기름까지 두른 프라이팬에 계란프라이가 눌어붙는 이유는?\n",
            "--- 40대 여성 ---\n",
            "https://v.daum.net/v/20210203102712257 [시선집중] 오은영 \"5시간 원산폭격 시킨 부모, 벌금형? 이건 고문\"\n",
            "https://v.daum.net/v/20210203100953232 \"아리아 살려줘\" 한마디에 춘천 독거노인 구한 AI 스피커\n",
            "https://v.daum.net/v/20210203090952276 \"속옷 색까지 말해야 했다\" 성추행 당한 여교사의 눈물 호소\n",
            "https://v.daum.net/v/20210203090316964 \"폭우 때 치킨시켜 배달원 괴롭혀야지\"..기초의원 예비후보 SNS\n",
            "https://v.daum.net/v/20210203094048757 해운대 4성급 호텔 미성년자 혼숙 적발돼 2개월 영업정지\n",
            "--- 40대 남성 ---\n",
            "https://v.daum.net/v/20210203103303607 \"둘뿐이던 세상 무너졌다\" 모텔 방치 사망 피해자 여자친구의 편지\n",
            "https://v.daum.net/v/20210203100602010 억류 한국 선원 '전격' 석방..싸늘하던 이란은 왜 태도 바꿨나\n",
            "https://v.daum.net/v/20210203103204569 블룸버그 \"한국, 가장 혁신적인 나라..美 11위, 日 12위\"\n",
            "https://v.daum.net/v/20210203101044302 정세균, 국민의힘 '성폭행 프레임' 내부문건에 \"차라리 가짜뉴스면\"\n",
            "https://v.daum.net/v/20210203090952276 \"속옷 색까지 말해야 했다\" 성추행 당한 여교사의 눈물 호소\n",
            "--- 50대 여성 ---\n",
            "https://v.daum.net/v/20210203102258016 기름까지 두른 프라이팬에 계란프라이가 눌어붙는 이유는?\n",
            "https://v.daum.net/v/20210203090952276 \"속옷 색까지 말해야 했다\" 성추행 당한 여교사의 눈물 호소\n",
            "https://v.daum.net/v/20210203094956160 아파트 단지 옥상은 누구 것.. '텃밭' 놓고 소송전 벌어진 사연\n",
            "https://v.daum.net/v/20210203100721077 금값 훨훨 나는데..저축은행, 골드바 사업 줄줄이 철수\n",
            "https://v.daum.net/v/20210203102712257 [시선집중] 오은영 \"5시간 원산폭격 시킨 부모, 벌금형? 이건 고문\"\n",
            "--- 50대 남성 ---\n",
            "https://v.daum.net/v/20210203101044302 정세균, 국민의힘 '성폭행 프레임' 내부문건에 \"차라리 가짜뉴스면\"\n",
            "https://v.daum.net/v/20210203100602010 억류 한국 선원 '전격' 석방..싸늘하던 이란은 왜 태도 바꿨나\n",
            "https://v.daum.net/v/20210203090952276 \"속옷 색까지 말해야 했다\" 성추행 당한 여교사의 눈물 호소\n",
            "https://v.daum.net/v/20210203103204569 블룸버그 \"한국, 가장 혁신적인 나라..美 11위, 日 12위\"\n",
            "https://v.daum.net/v/20210203103303607 \"둘뿐이던 세상 무너졌다\" 모텔 방치 사망 피해자 여자친구의 편지\n"
          ],
          "name": "stdout"
        }
      ]
    }
  ]
}