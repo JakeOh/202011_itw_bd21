{
  "nbformat": 4,
  "nbformat_minor": 0,
  "metadata": {
    "colab": {
      "name": "python04_conditional.ipynb",
      "provenance": [],
      "collapsed_sections": [],
      "authorship_tag": "ABX9TyN83pgAPoARn5s8XauyD4E1",
      "include_colab_link": true
    },
    "kernelspec": {
      "name": "python3",
      "display_name": "Python 3"
    }
  },
  "cells": [
    {
      "cell_type": "markdown",
      "metadata": {
        "id": "view-in-github",
        "colab_type": "text"
      },
      "source": [
        "<a href=\"https://colab.research.google.com/github/JakeOh/202011_itw_bd21/blob/main/lab_python/python04_conditional.ipynb\" target=\"_parent\"><img src=\"https://colab.research.google.com/assets/colab-badge.svg\" alt=\"Open In Colab\"/></a>"
      ]
    },
    {
      "cell_type": "markdown",
      "metadata": {
        "id": "nrHL0F5bHZWZ"
      },
      "source": [
        "# 가위/바위/보 승패 결정"
      ]
    },
    {
      "cell_type": "code",
      "metadata": {
        "id": "r7omH7ETIhVQ"
      },
      "source": [
        "import random\r\n",
        "# random 파이썬 모듈을 사용\r\n",
        "# 모듈(module): 파이썬 언어로 함수와 변수들을 작성한 파이썬 스크립트 파일(확장자: py)"
      ],
      "execution_count": 3,
      "outputs": []
    },
    {
      "cell_type": "code",
      "metadata": {
        "colab": {
          "base_uri": "https://localhost:8080/"
        },
        "id": "LeQc8MLcJQSQ",
        "outputId": "301439ea-d3a1-4480-f5c0-cad6c97a9c48"
      },
      "source": [
        "# random 모듈에서 작성된 함수를 사용: random.함수이름()\r\n",
        "# random.randrange(start, stop): start <= r < stop 범위의 정수 난수\r\n",
        "random.randrange(1, 4)\r\n",
        "\r\n",
        "# random.randrange(stop): 0 <= r < stop 범위의 정수 난수\r\n",
        "# random.randint(start, stop): start <= r <= stop 범위의 정수 난수\r\n",
        "# random.randint(stop): 0 <= r <= stop 범위의 정수 난수"
      ],
      "execution_count": 33,
      "outputs": [
        {
          "output_type": "execute_result",
          "data": {
            "text/plain": [
              "3"
            ]
          },
          "metadata": {
            "tags": []
          },
          "execution_count": 33
        }
      ]
    },
    {
      "cell_type": "code",
      "metadata": {
        "colab": {
          "base_uri": "https://localhost:8080/"
        },
        "id": "i489Gii0LTqf",
        "outputId": "f7ef158e-c656-4db6-8767-1cb278fba940"
      },
      "source": [
        "# random.random(): 0 <= r < 1 범위의 실수 난수\r\n",
        "random.random()"
      ],
      "execution_count": 42,
      "outputs": [
        {
          "output_type": "execute_result",
          "data": {
            "text/plain": [
              "0.7505763942927525"
            ]
          },
          "metadata": {
            "tags": []
          },
          "execution_count": 42
        }
      ]
    },
    {
      "cell_type": "code",
      "metadata": {
        "colab": {
          "base_uri": "https://localhost:8080/"
        },
        "id": "Zr0WAoWXHHze",
        "outputId": "4547054b-8839-4e99-fd0d-db69a3c32d66"
      },
      "source": [
        "print('=== 가위/바위/보 ===')\r\n",
        "print('[1] 가위')\r\n",
        "print('[2] 바위')\r\n",
        "print('[3] 보')\r\n",
        "user = int(input('선택>>> '))"
      ],
      "execution_count": 63,
      "outputs": [
        {
          "output_type": "stream",
          "text": [
            "=== 가위/바위/보 ===\n",
            "[1] 가위\n",
            "[2] 바위\n",
            "[3] 보\n",
            "선택>>> 2\n"
          ],
          "name": "stdout"
        }
      ]
    },
    {
      "cell_type": "code",
      "metadata": {
        "colab": {
          "base_uri": "https://localhost:8080/"
        },
        "id": "meOxr1XlL8om",
        "outputId": "21cf5d55-5a7a-409a-9dad-cf5189235de8"
      },
      "source": [
        "# computer의 가위/바위/보 선택\r\n",
        "computer = random.randrange(1, 4)\r\n",
        "print(computer)"
      ],
      "execution_count": 64,
      "outputs": [
        {
          "output_type": "stream",
          "text": [
            "3\n"
          ],
          "name": "stdout"
        }
      ]
    },
    {
      "cell_type": "code",
      "metadata": {
        "colab": {
          "base_uri": "https://localhost:8080/"
        },
        "id": "RFsyMaMzMabw",
        "outputId": "44681c1d-bf17-4d7c-c503-c188e6e712e7"
      },
      "source": [
        "# if-elif-else 문을 사용해서 user와 computer의 가위/바위/보 승패 결정\r\n",
        "if user == 1:  # user: 가위\r\n",
        "    if computer == 1:  # computer: 가위\r\n",
        "        print('Tie')\r\n",
        "    elif computer == 2:  # computer: 바위\r\n",
        "        print('Computer Won ㅜ.ㅜ')\r\n",
        "    else:  # computer: 보\r\n",
        "        print('User Won! ^.^')\r\n",
        "elif user == 2:  # user: 바위\r\n",
        "    if computer == 1:  # computer: 가위\r\n",
        "        print('User Won! ^.^')\r\n",
        "    elif computer == 2:  # computer: 바위\r\n",
        "        print('Tie')\r\n",
        "    else:  # computer: 보\r\n",
        "        print('Computer Won ㅜ.ㅜ')\r\n",
        "else:  # user: 보\r\n",
        "    if computer == 1:  # computer: 가위\r\n",
        "        print('Computer Won ㅜ.ㅜ')\r\n",
        "    elif computer == 2:  # computer: 바위\r\n",
        "        print('User Won! ^.^')\r\n",
        "    else:  # computer: 보\r\n",
        "        print('Tie')"
      ],
      "execution_count": 65,
      "outputs": [
        {
          "output_type": "stream",
          "text": [
            "Computer Won ㅜ.ㅜ\n"
          ],
          "name": "stdout"
        }
      ]
    },
    {
      "cell_type": "code",
      "metadata": {
        "id": "9CEigXwKYEg3"
      },
      "source": [
        "# 다른 방법:\r\n",
        "if user == computer:  # 같은 것 선택\r\n",
        "    pass  # 비김.\r\n",
        "elif user == 1:  # user: 가위\r\n",
        "    if computer == 2:  # computer: 바위\r\n",
        "        pass\r\n",
        "    else:  # computer: 보\r\n",
        "        pass\r\n",
        "elif user == 2:  # user: 바위\r\n",
        "    if computer == 1:  # computer: 가위\r\n",
        "        pass\r\n",
        "    else:  # computer: 보\r\n",
        "        pass\r\n",
        "else:  # user: 보\r\n",
        "    if computer == 1:  # computer: 가위\r\n",
        "        pass\r\n",
        "    else:  # computer: 바위\r\n",
        "        pass"
      ],
      "execution_count": 69,
      "outputs": []
    },
    {
      "cell_type": "code",
      "metadata": {
        "id": "768Q49hUaA-P"
      },
      "source": [
        "# 또 다른 방법\r\n",
        "if user == computer:\r\n",
        "    pass  # Tie\r\n",
        "elif (user == 1 and computer == 3) or \\\r\n",
        "(user == 2 and computer == 1) or \\\r\n",
        "(user == 3 and computer == 2):\r\n",
        "    pass  # User Won\r\n",
        "else:\r\n",
        "    pass  # Computer Won"
      ],
      "execution_count": null,
      "outputs": []
    },
    {
      "cell_type": "code",
      "metadata": {
        "id": "zGIj94PAcLW3"
      },
      "source": [
        "# 또 다른 방법\r\n",
        "score = user - computer\r\n",
        "if score == 0:  # score % 3 == 0\r\n",
        "    pass  # 비김\r\n",
        "elif score == 1 or score == -2:  # score % 3 == 1\r\n",
        "    pass  # user won\r\n",
        "else:  # score == 2 or score == -1  # score % 3 == 2\r\n",
        "    pass  # computer won"
      ],
      "execution_count": null,
      "outputs": []
    }
  ]
}