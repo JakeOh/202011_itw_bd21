{
  "nbformat": 4,
  "nbformat_minor": 0,
  "metadata": {
    "colab": {
      "name": "python15_loop.ipynb",
      "provenance": [],
      "collapsed_sections": [],
      "authorship_tag": "ABX9TyPQG3I0sJKWDgPndbEwlNcC",
      "include_colab_link": true
    },
    "kernelspec": {
      "name": "python3",
      "display_name": "Python 3"
    }
  },
  "cells": [
    {
      "cell_type": "markdown",
      "metadata": {
        "id": "view-in-github",
        "colab_type": "text"
      },
      "source": [
        "<a href=\"https://colab.research.google.com/github/JakeOh/202011_itw_bd21/blob/main/lab_python/python15_loop.ipynb\" target=\"_parent\"><img src=\"https://colab.research.google.com/assets/colab-badge.svg\" alt=\"Open In Colab\"/></a>"
      ]
    },
    {
      "cell_type": "markdown",
      "metadata": {
        "id": "xlY7-eheiCCg"
      },
      "source": [
        "아래와 같은 출력을 하는 코드를 작성\r\n",
        "\r\n",
        "\r\n",
        "```\r\n",
        "*****\r\n",
        "****\r\n",
        "***\r\n",
        "**\r\n",
        "*\r\n",
        "```\r\n",
        "\r\n"
      ]
    },
    {
      "cell_type": "code",
      "metadata": {
        "colab": {
          "base_uri": "https://localhost:8080/"
        },
        "id": "Aa5x4DNgh53k",
        "outputId": "3daebfd6-5441-4e87-c810-897b95e914c8"
      },
      "source": [
        "for n in range(5, 0, -1):  # (5, 4, 3, 2, 1)\r\n",
        "    print('*' * n)"
      ],
      "execution_count": 1,
      "outputs": [
        {
          "output_type": "stream",
          "text": [
            "*****\n",
            "****\n",
            "***\n",
            "**\n",
            "*\n"
          ],
          "name": "stdout"
        }
      ]
    },
    {
      "cell_type": "code",
      "metadata": {
        "colab": {
          "base_uri": "https://localhost:8080/"
        },
        "id": "ukFvE73YIcWj",
        "outputId": "d405e21e-871e-407e-a247-d9189f5f56d1"
      },
      "source": [
        "n = 5\r\n",
        "while n > 0:\r\n",
        "    print('*' * n)\r\n",
        "    n -= 1  # n = n - 1"
      ],
      "execution_count": 2,
      "outputs": [
        {
          "output_type": "stream",
          "text": [
            "*****\n",
            "****\n",
            "***\n",
            "**\n",
            "*\n"
          ],
          "name": "stdout"
        }
      ]
    },
    {
      "cell_type": "markdown",
      "metadata": {
        "id": "QZ7p7ACnibix"
      },
      "source": [
        "주사위 2개를 던졌을 때 나오는 눈의 조합(36가지)을 저장하는 리스트를 생성\r\n",
        "\r\n",
        "\r\n",
        "```\r\n",
        "dice = [(1, 1), (1, 2), (1, 3), ..., (6, 4), (6, 5), (6, 6)]\r\n",
        "```\r\n",
        "\r\n"
      ]
    },
    {
      "cell_type": "code",
      "metadata": {
        "colab": {
          "base_uri": "https://localhost:8080/"
        },
        "id": "LLgGMjfpjBZZ",
        "outputId": "0b813609-971f-4c46-ac50-c37e4b7aa091"
      },
      "source": [
        "dice = []  # empty list\r\n",
        "for x in range(1, 7):\r\n",
        "    for y in range(1, 7):\r\n",
        "        # eyes = (x, y)  # tuple\r\n",
        "        # dice.append(eyes)\r\n",
        "        dice.append((x, y))\r\n",
        "print(dice)"
      ],
      "execution_count": 3,
      "outputs": [
        {
          "output_type": "stream",
          "text": [
            "[(1, 1), (1, 2), (1, 3), (1, 4), (1, 5), (1, 6), (2, 1), (2, 2), (2, 3), (2, 4), (2, 5), (2, 6), (3, 1), (3, 2), (3, 3), (3, 4), (3, 5), (3, 6), (4, 1), (4, 2), (4, 3), (4, 4), (4, 5), (4, 6), (5, 1), (5, 2), (5, 3), (5, 4), (5, 5), (5, 6), (6, 1), (6, 2), (6, 3), (6, 4), (6, 5), (6, 6)]\n"
          ],
          "name": "stdout"
        }
      ]
    },
    {
      "cell_type": "code",
      "metadata": {
        "colab": {
          "base_uri": "https://localhost:8080/"
        },
        "id": "bcaV3T1PMdAT",
        "outputId": "86523635-575c-4642-aa2c-b0aea8bd838d"
      },
      "source": [
        "dice = [(x, y) for x in range(1, 7) for y in range(1, 7)]\r\n",
        "print(dice)"
      ],
      "execution_count": 4,
      "outputs": [
        {
          "output_type": "stream",
          "text": [
            "[(1, 1), (1, 2), (1, 3), (1, 4), (1, 5), (1, 6), (2, 1), (2, 2), (2, 3), (2, 4), (2, 5), (2, 6), (3, 1), (3, 2), (3, 3), (3, 4), (3, 5), (3, 6), (4, 1), (4, 2), (4, 3), (4, 4), (4, 5), (4, 6), (5, 1), (5, 2), (5, 3), (5, 4), (5, 5), (5, 6), (6, 1), (6, 2), (6, 3), (6, 4), (6, 5), (6, 6)]\n"
          ],
          "name": "stdout"
        }
      ]
    },
    {
      "cell_type": "code",
      "metadata": {
        "colab": {
          "base_uri": "https://localhost:8080/"
        },
        "id": "QpcdbIEZNBjB",
        "outputId": "79d5489a-4193-49eb-9eab-b6939032a943"
      },
      "source": [
        "dice = []\r\n",
        "x = 1    \r\n",
        "while x < 7:  # while x <= 6:\r\n",
        "    y = 1\r\n",
        "    while y < 7:  # while y <= 6\r\n",
        "        dice.append((x, y))\r\n",
        "        y += 1\r\n",
        "    x += 1\r\n",
        "\r\n",
        "print(dice)"
      ],
      "execution_count": 6,
      "outputs": [
        {
          "output_type": "stream",
          "text": [
            "[(1, 1), (1, 2), (1, 3), (1, 4), (1, 5), (1, 6)]\n"
          ],
          "name": "stdout"
        }
      ]
    },
    {
      "cell_type": "markdown",
      "metadata": {
        "id": "3QXK2Gg3jCFn"
      },
      "source": [
        "주사위 2개를 던졌을 때 나오는 눈의 합이 10 이상인 조합들을 저장하는 리스트를 생성\r\n",
        "\r\n",
        "\r\n",
        "```\r\n",
        "dice_above10 = [(4, 6), (5, 5), (5, 6), (6, 4), (6, 5), (6, 6)]\r\n",
        "```\r\n",
        "\r\n"
      ]
    },
    {
      "cell_type": "code",
      "metadata": {
        "colab": {
          "base_uri": "https://localhost:8080/"
        },
        "id": "57zkXjhUjwzA",
        "outputId": "1b6b912c-df0d-4d4f-84aa-f907799adf66"
      },
      "source": [
        "dice_above10 = []\r\n",
        "for x in range(1, 7):\r\n",
        "    for y in range(1, 7):\r\n",
        "        if x + y >= 10:\r\n",
        "            dice_above10.append((x, y))\r\n",
        "print(dice_above10)"
      ],
      "execution_count": 7,
      "outputs": [
        {
          "output_type": "stream",
          "text": [
            "[(4, 6), (5, 5), (5, 6), (6, 4), (6, 5), (6, 6)]\n"
          ],
          "name": "stdout"
        }
      ]
    },
    {
      "cell_type": "code",
      "metadata": {
        "colab": {
          "base_uri": "https://localhost:8080/"
        },
        "id": "xGBF0Y8STg8I",
        "outputId": "15e247ef-fde9-4bfe-ff39-248eee9d0892"
      },
      "source": [
        "dice_above10 = [(x, y) for x in range(1, 7) for y in range(1, 7) if x + y >= 10]\r\n",
        "print(dice_above10)"
      ],
      "execution_count": 8,
      "outputs": [
        {
          "output_type": "stream",
          "text": [
            "[(4, 6), (5, 5), (5, 6), (6, 4), (6, 5), (6, 6)]\n"
          ],
          "name": "stdout"
        }
      ]
    },
    {
      "cell_type": "code",
      "metadata": {
        "colab": {
          "base_uri": "https://localhost:8080/"
        },
        "id": "PijuMKfoUJXr",
        "outputId": "4ece5f38-ccb3-4b42-8337-5a5b857898ef"
      },
      "source": [
        "dice_above10 = []\r\n",
        "x = 1\r\n",
        "while x < 7:\r\n",
        "    y = 1\r\n",
        "    while y < 7:\r\n",
        "        if x + y >= 10:\r\n",
        "            dice_above10.append((x, y))\r\n",
        "        y += 1\r\n",
        "    x += 1\r\n",
        "print(dice_above10)"
      ],
      "execution_count": 9,
      "outputs": [
        {
          "output_type": "stream",
          "text": [
            "[(4, 6), (5, 5), (5, 6), (6, 4), (6, 5), (6, 6)]\n"
          ],
          "name": "stdout"
        }
      ]
    },
    {
      "cell_type": "markdown",
      "metadata": {
        "id": "azLTiNsYjxUX"
      },
      "source": [
        "\r\n",
        "\r\n",
        "```\r\n",
        "1 + 2 + 3 + ... + 99 + 100 = ?\r\n",
        "```\r\n",
        "\r\n"
      ]
    },
    {
      "cell_type": "code",
      "metadata": {
        "colab": {
          "base_uri": "https://localhost:8080/"
        },
        "id": "Cz_ADopOkCAI",
        "outputId": "e95e9dee-176c-40eb-ebf0-ab53d138be2f"
      },
      "source": [
        "# 1 + 2 + 3 + ... + (n-1) + n = n * (n+1) / 2\r\n",
        "100 * (100 + 1) / 2"
      ],
      "execution_count": 10,
      "outputs": [
        {
          "output_type": "execute_result",
          "data": {
            "text/plain": [
              "5050.0"
            ]
          },
          "metadata": {
            "tags": []
          },
          "execution_count": 10
        }
      ]
    },
    {
      "cell_type": "code",
      "metadata": {
        "colab": {
          "base_uri": "https://localhost:8080/"
        },
        "id": "qCMTTpMWVXGx",
        "outputId": "64d81206-4142-4fd8-b6c3-2d19434f4716"
      },
      "source": [
        "total = 0  # 1부터 100까지 더해갈 변수. total = 1 + 2 + 3 + ... + 99 + 100\r\n",
        "for n in range(1, 101):\r\n",
        "    total += n  # total = total + n\r\n",
        "print(total)"
      ],
      "execution_count": 11,
      "outputs": [
        {
          "output_type": "stream",
          "text": [
            "5050\n"
          ],
          "name": "stdout"
        }
      ]
    },
    {
      "cell_type": "code",
      "metadata": {
        "colab": {
          "base_uri": "https://localhost:8080/"
        },
        "id": "tGqDDVtmWXqS",
        "outputId": "16b8dc10-f229-4234-bfad-ff51c43cb123"
      },
      "source": [
        "total = sum([x for x in range(1, 101)])  # [1, 2, 3, ..., 99, 100]\r\n",
        "print(total)"
      ],
      "execution_count": 12,
      "outputs": [
        {
          "output_type": "stream",
          "text": [
            "5050\n"
          ],
          "name": "stdout"
        }
      ]
    },
    {
      "cell_type": "code",
      "metadata": {
        "colab": {
          "base_uri": "https://localhost:8080/"
        },
        "id": "JaZIEkUoXD2z",
        "outputId": "3071c229-2b70-4706-b38c-d2a16b23493c"
      },
      "source": [
        "total  = 0\r\n",
        "n = 1\r\n",
        "while n <= 100:  # while n < 101:\r\n",
        "    total += n\r\n",
        "    n += 1\r\n",
        "print(total)"
      ],
      "execution_count": 13,
      "outputs": [
        {
          "output_type": "stream",
          "text": [
            "5050\n"
          ],
          "name": "stdout"
        }
      ]
    },
    {
      "cell_type": "markdown",
      "metadata": {
        "id": "cIlHHfx4kSzI"
      },
      "source": [
        "\r\n",
        "\r\n",
        "```\r\n",
        "1 + 4 + 9 + 16 + ... + 81 + 100 = ?\r\n",
        "```\r\n",
        "\r\n"
      ]
    },
    {
      "cell_type": "code",
      "metadata": {
        "colab": {
          "base_uri": "https://localhost:8080/"
        },
        "id": "Y0ESr_cZktPX",
        "outputId": "403a6310-6265-4560-8643-d29dbd8de5be"
      },
      "source": [
        "# 1^2 + 2^2 + 3^2 + ... + (n-1)^2 + n^2 = n * (n+1) * (2*n+1) / 6\r\n",
        "10 * (10 + 1) * (2 * 10 + 1) / 6"
      ],
      "execution_count": 14,
      "outputs": [
        {
          "output_type": "execute_result",
          "data": {
            "text/plain": [
              "385.0"
            ]
          },
          "metadata": {
            "tags": []
          },
          "execution_count": 14
        }
      ]
    },
    {
      "cell_type": "code",
      "metadata": {
        "colab": {
          "base_uri": "https://localhost:8080/"
        },
        "id": "4spEEg-iYaX7",
        "outputId": "25d8df3b-2756-4051-c290-6ede1a95d7e5"
      },
      "source": [
        "total = sum([x ** 2 for x in range(1, 11)])  # [1, 4, 9, ..., 81, 100]\r\n",
        "print(total)"
      ],
      "execution_count": 15,
      "outputs": [
        {
          "output_type": "stream",
          "text": [
            "385\n"
          ],
          "name": "stdout"
        }
      ]
    },
    {
      "cell_type": "code",
      "metadata": {
        "colab": {
          "base_uri": "https://localhost:8080/"
        },
        "id": "cpWbYh2RY21K",
        "outputId": "73a1248c-5c94-4dde-b0ab-4e3804362182"
      },
      "source": [
        "total = 0\r\n",
        "for n in range(1, 11):\r\n",
        "    total += n ** 2\r\n",
        "print(total)"
      ],
      "execution_count": 16,
      "outputs": [
        {
          "output_type": "stream",
          "text": [
            "385\n"
          ],
          "name": "stdout"
        }
      ]
    },
    {
      "cell_type": "code",
      "metadata": {
        "colab": {
          "base_uri": "https://localhost:8080/"
        },
        "id": "A1MUgIeBZROg",
        "outputId": "8fd9c3c9-c2c1-461e-a589-e9ea158f6a95"
      },
      "source": [
        "total = 0\r\n",
        "n = 1\r\n",
        "while n <= 10:\r\n",
        "    total += n ** 2\r\n",
        "    n += 1\r\n",
        "print(total)"
      ],
      "execution_count": 17,
      "outputs": [
        {
          "output_type": "stream",
          "text": [
            "385\n"
          ],
          "name": "stdout"
        }
      ]
    },
    {
      "cell_type": "markdown",
      "metadata": {
        "id": "iYCzKek1ku_n"
      },
      "source": [
        "\r\n",
        "\r\n",
        "```\r\n",
        "1 + 2 + 3 + ... + (n - 1) + n <= 100를 만족하는 가장 큰 정수 n?\r\n",
        "```\r\n",
        "\r\n"
      ]
    },
    {
      "cell_type": "code",
      "metadata": {
        "colab": {
          "base_uri": "https://localhost:8080/"
        },
        "id": "fGru9Jc-lXjM",
        "outputId": "fd35c728-4281-4f98-f339-9a287e2f3d30"
      },
      "source": [
        "total = 0\r\n",
        "n = 1\r\n",
        "while total <= 100:\r\n",
        "    total += n\r\n",
        "    print(f'n={n}, total={total}')\r\n",
        "    n += 1"
      ],
      "execution_count": 19,
      "outputs": [
        {
          "output_type": "stream",
          "text": [
            "n=1, total=1\n",
            "n=2, total=3\n",
            "n=3, total=6\n",
            "n=4, total=10\n",
            "n=5, total=15\n",
            "n=6, total=21\n",
            "n=7, total=28\n",
            "n=8, total=36\n",
            "n=9, total=45\n",
            "n=10, total=55\n",
            "n=11, total=66\n",
            "n=12, total=78\n",
            "n=13, total=91\n",
            "n=14, total=105\n"
          ],
          "name": "stdout"
        }
      ]
    },
    {
      "cell_type": "code",
      "metadata": {
        "colab": {
          "base_uri": "https://localhost:8080/"
        },
        "id": "buaXePKNbKia",
        "outputId": "f6d3c3ce-3853-46a7-834e-5f3b15ff0b17"
      },
      "source": [
        "total = 0\r\n",
        "n = 1\r\n",
        "while True:  # 무한 루프(infinite loop)\r\n",
        "    total += n\r\n",
        "    \r\n",
        "    if total > 100:\r\n",
        "        break  # 무한 루프 종료\r\n",
        "    else:\r\n",
        "        print(f'n={n}, total={total}')\r\n",
        "        \r\n",
        "    n += 1"
      ],
      "execution_count": 23,
      "outputs": [
        {
          "output_type": "stream",
          "text": [
            "n=1, total=1\n",
            "n=2, total=3\n",
            "n=3, total=6\n",
            "n=4, total=10\n",
            "n=5, total=15\n",
            "n=6, total=21\n",
            "n=7, total=28\n",
            "n=8, total=36\n",
            "n=9, total=45\n",
            "n=10, total=55\n",
            "n=11, total=66\n",
            "n=12, total=78\n",
            "n=13, total=91\n"
          ],
          "name": "stdout"
        }
      ]
    },
    {
      "cell_type": "code",
      "metadata": {
        "colab": {
          "base_uri": "https://localhost:8080/"
        },
        "id": "G7Y1O0f9aU8Z",
        "outputId": "c057b7e7-10c8-4431-ec9d-fa4288e188e5"
      },
      "source": [
        "total = 0\r\n",
        "for n in range(1, 100):\r\n",
        "    total += n\r\n",
        "    print(f'n={n}, total={total}')\r\n",
        "    if total > 100:\r\n",
        "        break"
      ],
      "execution_count": 22,
      "outputs": [
        {
          "output_type": "stream",
          "text": [
            "n=1, total=1\n",
            "n=2, total=3\n",
            "n=3, total=6\n",
            "n=4, total=10\n",
            "n=5, total=15\n",
            "n=6, total=21\n",
            "n=7, total=28\n",
            "n=8, total=36\n",
            "n=9, total=45\n",
            "n=10, total=55\n",
            "n=11, total=66\n",
            "n=12, total=78\n",
            "n=13, total=91\n",
            "n=14, total=105\n"
          ],
          "name": "stdout"
        }
      ]
    },
    {
      "cell_type": "code",
      "metadata": {
        "colab": {
          "base_uri": "https://localhost:8080/"
        },
        "id": "2PM5T8oqdjEy",
        "outputId": "20bab6af-93d6-43a9-b7a8-73b8744c042f"
      },
      "source": [
        "x = int(input('정수 입력>>> '))\r\n",
        "print(type(x))"
      ],
      "execution_count": 25,
      "outputs": [
        {
          "output_type": "stream",
          "text": [
            "정수 입력>>> 100\n",
            "<class 'int'>\n"
          ],
          "name": "stdout"
        }
      ]
    }
  ]
}