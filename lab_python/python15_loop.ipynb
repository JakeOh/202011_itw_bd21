{
  "nbformat": 4,
  "nbformat_minor": 0,
  "metadata": {
    "colab": {
      "name": "python15_loop.ipynb",
      "provenance": [],
      "collapsed_sections": [],
      "authorship_tag": "ABX9TyPN4yR5InI1/gupWJp8wUZI",
      "include_colab_link": true
    },
    "kernelspec": {
      "name": "python3",
      "display_name": "Python 3"
    }
  },
  "cells": [
    {
      "cell_type": "markdown",
      "metadata": {
        "id": "view-in-github",
        "colab_type": "text"
      },
      "source": [
        "<a href=\"https://colab.research.google.com/github/JakeOh/202011_itw_bd21/blob/main/lab_python/python15_loop.ipynb\" target=\"_parent\"><img src=\"https://colab.research.google.com/assets/colab-badge.svg\" alt=\"Open In Colab\"/></a>"
      ]
    },
    {
      "cell_type": "markdown",
      "metadata": {
        "id": "xlY7-eheiCCg"
      },
      "source": [
        "아래와 같은 출력을 하는 코드를 작성\r\n",
        "\r\n",
        "\r\n",
        "```\r\n",
        "*****\r\n",
        "****\r\n",
        "***\r\n",
        "**\r\n",
        "*\r\n",
        "```\r\n",
        "\r\n"
      ]
    },
    {
      "cell_type": "code",
      "metadata": {
        "id": "Aa5x4DNgh53k"
      },
      "source": [
        ""
      ],
      "execution_count": null,
      "outputs": []
    },
    {
      "cell_type": "markdown",
      "metadata": {
        "id": "QZ7p7ACnibix"
      },
      "source": [
        "주사위 2개를 던졌을 때 나오는 눈의 조합(36가지)을 저장하는 리스트를 생성\r\n",
        "\r\n",
        "\r\n",
        "```\r\n",
        "dice = [(1, 1), (1, 2), (1, 3), ..., (6, 4), (6, 5), (6, 6)]\r\n",
        "```\r\n",
        "\r\n"
      ]
    },
    {
      "cell_type": "code",
      "metadata": {
        "id": "LLgGMjfpjBZZ"
      },
      "source": [
        ""
      ],
      "execution_count": null,
      "outputs": []
    },
    {
      "cell_type": "markdown",
      "metadata": {
        "id": "3QXK2Gg3jCFn"
      },
      "source": [
        "주사위 2개를 던졌을 때 나오는 눈의 합이 10 이상인 조합들을 저장하는 리스트를 생성\r\n",
        "\r\n",
        "\r\n",
        "```\r\n",
        "dice_above10 = [(4, 6), (5, 5), (5, 6), (6, 4), (6, 5), (6, 6)]\r\n",
        "```\r\n",
        "\r\n"
      ]
    },
    {
      "cell_type": "code",
      "metadata": {
        "id": "57zkXjhUjwzA"
      },
      "source": [
        ""
      ],
      "execution_count": null,
      "outputs": []
    },
    {
      "cell_type": "markdown",
      "metadata": {
        "id": "azLTiNsYjxUX"
      },
      "source": [
        "\r\n",
        "\r\n",
        "```\r\n",
        "1 + 2 + 3 + ... + 99 + 100 = ?\r\n",
        "```\r\n",
        "\r\n"
      ]
    },
    {
      "cell_type": "code",
      "metadata": {
        "id": "Cz_ADopOkCAI"
      },
      "source": [
        ""
      ],
      "execution_count": null,
      "outputs": []
    },
    {
      "cell_type": "markdown",
      "metadata": {
        "id": "cIlHHfx4kSzI"
      },
      "source": [
        "\r\n",
        "\r\n",
        "```\r\n",
        "1 + 4 + 9 + 16 + ... + 81 + 100 = ?\r\n",
        "```\r\n",
        "\r\n"
      ]
    },
    {
      "cell_type": "code",
      "metadata": {
        "id": "Y0ESr_cZktPX"
      },
      "source": [
        ""
      ],
      "execution_count": null,
      "outputs": []
    },
    {
      "cell_type": "markdown",
      "metadata": {
        "id": "iYCzKek1ku_n"
      },
      "source": [
        "\r\n",
        "\r\n",
        "```\r\n",
        "1 + 2 + 3 + ... + (n - 1) + n <= 100를 만족하는 가장 큰 정수 n?\r\n",
        "```\r\n",
        "\r\n"
      ]
    },
    {
      "cell_type": "code",
      "metadata": {
        "id": "fGru9Jc-lXjM"
      },
      "source": [
        ""
      ],
      "execution_count": null,
      "outputs": []
    }
  ]
}