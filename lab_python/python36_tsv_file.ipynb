{
  "nbformat": 4,
  "nbformat_minor": 0,
  "metadata": {
    "colab": {
      "name": "python36_tsv_file.ipynb",
      "provenance": [],
      "collapsed_sections": [],
      "authorship_tag": "ABX9TyMF+zlcgLfNhXRKGDGUxer0",
      "include_colab_link": true
    },
    "kernelspec": {
      "name": "python3",
      "display_name": "Python 3"
    }
  },
  "cells": [
    {
      "cell_type": "markdown",
      "metadata": {
        "id": "view-in-github",
        "colab_type": "text"
      },
      "source": [
        "<a href=\"https://colab.research.google.com/github/JakeOh/202011_itw_bd21/blob/main/lab_python/python36_tsv_file.ipynb\" target=\"_parent\"><img src=\"https://colab.research.google.com/assets/colab-badge.svg\" alt=\"Open In Colab\"/></a>"
      ]
    },
    {
      "cell_type": "code",
      "metadata": {
        "colab": {
          "base_uri": "https://localhost:8080/"
        },
        "id": "ifCHQFxQlgXV",
        "outputId": "06ab35f6-ece0-4c1a-c927-57e6f79642fe"
      },
      "source": [
        "texts = '''2021-01-28\\tAPL\\t1500\r\n",
        "2021-01-28\\tBBB\\t2000\r\n",
        "2021-01-28\\tCCC\\t1700\r\n",
        "2021-01-29\\tAPL\\t2000\r\n",
        "2021-01-29\\tBBB\\t1900\r\n",
        "2021-01-29\\tCCC\\t1600\r\n",
        "'''\r\n",
        "\r\n",
        "print(texts)"
      ],
      "execution_count": 4,
      "outputs": [
        {
          "output_type": "stream",
          "text": [
            "2021-01-28\tAPL\t1500\n",
            "2021-01-28\tBBB\t2000\n",
            "2021-01-28\tCCC\t1700\n",
            "2021-01-29\tAPL\t2000\n",
            "2021-01-29\tBBB\t1900\n",
            "2021-01-29\tCCC\t1600\n",
            "\n"
          ],
          "name": "stdout"
        }
      ]
    },
    {
      "cell_type": "code",
      "metadata": {
        "id": "bKOo3dbbnU3j"
      },
      "source": [
        "with open(file='prices.tsv', mode='w') as f:\r\n",
        "    f.write(texts)"
      ],
      "execution_count": 5,
      "outputs": []
    },
    {
      "cell_type": "markdown",
      "metadata": {
        "id": "7B-O8phrovaD"
      },
      "source": [
        "*   prices.tsv 파일을 읽기 모드로 open\r\n",
        "*   파일을 한 줄씩 읽음\r\n",
        "*   각 줄을 탭('\\t')으로 분리한 결과를 리스트(prices)에 저장\r\n",
        "*   2차원 리스트 prices를 출력\r\n",
        ">   `[['2021-01-28', 'APL', '1500'], ['2021-01-28', 'BBB', '2000,], ....]`"
      ]
    },
    {
      "cell_type": "code",
      "metadata": {
        "colab": {
          "base_uri": "https://localhost:8080/"
        },
        "id": "14dan1ztobta",
        "outputId": "aeba59f6-d778-474e-da18-3a25fe62c85d"
      },
      "source": [
        "with open(file='prices.tsv', mode='r') as f:\r\n",
        "    prices = []\r\n",
        "    for line in f:\r\n",
        "        data = line.strip().split(sep='\\t')\r\n",
        "        prices.append(data)\r\n",
        "    # prices = [line.strip().split(sep='\\t') for line in f]\r\n",
        "\r\n",
        "# print(prices)\r\n",
        "prices"
      ],
      "execution_count": 8,
      "outputs": [
        {
          "output_type": "execute_result",
          "data": {
            "text/plain": [
              "[['2021-01-28', 'APL', '1500'],\n",
              " ['2021-01-28', 'BBB', '2000'],\n",
              " ['2021-01-28', 'CCC', '1700'],\n",
              " ['2021-01-29', 'APL', '2000'],\n",
              " ['2021-01-29', 'BBB', '1900'],\n",
              " ['2021-01-29', 'CCC', '1600']]"
            ]
          },
          "metadata": {
            "tags": []
          },
          "execution_count": 8
        }
      ]
    },
    {
      "cell_type": "markdown",
      "metadata": {
        "id": "2BX__TyPrzGh"
      },
      "source": [
        "prices 리스트에서 가격(`prices[i][2]`)을 int 타입으로 변환"
      ]
    },
    {
      "cell_type": "code",
      "metadata": {
        "colab": {
          "base_uri": "https://localhost:8080/"
        },
        "id": "ITfX43lGsSz5",
        "outputId": "2f6893bd-33ce-4d23-9501-0c26d4904941"
      },
      "source": [
        "for i, x in enumerate(prices):\r\n",
        "    prices[i][2] = int(x[2])\r\n",
        "\r\n",
        "prices    "
      ],
      "execution_count": 10,
      "outputs": [
        {
          "output_type": "execute_result",
          "data": {
            "text/plain": [
              "[['2021-01-28', 'APL', 1500],\n",
              " ['2021-01-28', 'BBB', 2000],\n",
              " ['2021-01-28', 'CCC', 1700],\n",
              " ['2021-01-29', 'APL', 2000],\n",
              " ['2021-01-29', 'BBB', 1900],\n",
              " ['2021-01-29', 'CCC', 1600]]"
            ]
          },
          "metadata": {
            "tags": []
          },
          "execution_count": 10
        }
      ]
    },
    {
      "cell_type": "markdown",
      "metadata": {
        "id": "dPDgD4oVukFS"
      },
      "source": [
        "Stock 클래스\r\n",
        "\r\n",
        "*   속성: 거래날짜(date), 종목코드(code), 가격(price)\r\n",
        "*   메서드: `__init__, __repr__`\r\n"
      ]
    },
    {
      "cell_type": "code",
      "metadata": {
        "id": "P9YyWv_WzKS9"
      },
      "source": [
        "class Stock:\r\n",
        "    def __init__(self, date: str, code: str, price: int):\r\n",
        "        self.date = date\r\n",
        "        self.code = code\r\n",
        "        self.price = price\r\n",
        "\r\n",
        "    def __repr__(self):\r\n",
        "        return f'Stock(date={self.date}, code={self.code}, price={self.price})'"
      ],
      "execution_count": 11,
      "outputs": []
    },
    {
      "cell_type": "code",
      "metadata": {
        "colab": {
          "base_uri": "https://localhost:8080/"
        },
        "id": "xEnl0kBpz3p_",
        "outputId": "ead63316-32c4-4a36-a052-17e6d591e616"
      },
      "source": [
        "s = Stock('2021-01-29', 'ABC', 1234)\r\n",
        "print(s)"
      ],
      "execution_count": 12,
      "outputs": [
        {
          "output_type": "stream",
          "text": [
            "Stock(date=2021-01-29, code=ABC, price=1234)\n"
          ],
          "name": "stdout"
        }
      ]
    },
    {
      "cell_type": "markdown",
      "metadata": {
        "id": "iKn0WOy40O-p"
      },
      "source": [
        "*   prices.tsv 파일을 한 줄씩 읽으면서\r\n",
        "*   Stock 클래스의 인스턴스를 생성\r\n",
        "*   Stock 객체를 리스트에 저장."
      ]
    }
  ]
}