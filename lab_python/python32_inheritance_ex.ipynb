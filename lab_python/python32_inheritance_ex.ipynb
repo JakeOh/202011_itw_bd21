{
  "nbformat": 4,
  "nbformat_minor": 0,
  "metadata": {
    "colab": {
      "name": "python32_inheritance_ex.ipynb",
      "provenance": [],
      "collapsed_sections": [],
      "authorship_tag": "ABX9TyPkkw8iWIf39j0+Tu4Ir2m1",
      "include_colab_link": true
    },
    "kernelspec": {
      "name": "python3",
      "display_name": "Python 3"
    }
  },
  "cells": [
    {
      "cell_type": "markdown",
      "metadata": {
        "id": "view-in-github",
        "colab_type": "text"
      },
      "source": [
        "<a href=\"https://colab.research.google.com/github/JakeOh/202011_itw_bd21/blob/main/lab_python/python32_inheritance_ex.ipynb\" target=\"_parent\"><img src=\"https://colab.research.google.com/assets/colab-badge.svg\" alt=\"Open In Colab\"/></a>"
      ]
    },
    {
      "cell_type": "code",
      "metadata": {
        "id": "_V_dvrGUWqlw"
      },
      "source": [
        "class Point:\r\n",
        "    \"\"\"2차원 평면 상의 점의 좌표를 표현하는 클래스.\"\"\"\r\n",
        "    def __init__():\r\n",
        "        # default argument 사용하지 말 것.\r\n",
        "        pass  # TODO\r\n",
        "\r\n",
        "    def __repr__():\r\n",
        "        # Point(0, 0) 형태로 출력\r\n",
        "        pass  # TODO\r\n",
        "\r\n",
        "    def move():\r\n",
        "        \"\"\"점의 좌표를 x축의 방향으로 dx만큼, y축의 방향으로 dy만큼 이동.\"\"\"\r\n",
        "        pass  # TODO"
      ],
      "execution_count": null,
      "outputs": []
    },
    {
      "cell_type": "code",
      "metadata": {
        "id": "HeR3IBT-YKTO"
      },
      "source": [
        "class Shape:\r\n",
        "    \"\"\"2차원 평면 상의 도형을 표현하는 클래스.\"\"\"\r\n",
        "    def __init__(self, x, y):\r\n",
        "        self.point = Point(x, y)\r\n",
        "\r\n",
        "    def move():\r\n",
        "        \"\"\"도형을 x축의 방향으로 dx만큼, y축의 방향으로 dy만큼 이동시키는 메서드.\"\"\"\r\n",
        "        pass  # TODO\r\n",
        "\r\n",
        "    def area(self):\r\n",
        "        raise NotImplementedError('넓이를 리턴할 수 있는 메서드가 구현되어야 함!')\r\n",
        "\r\n",
        "    def perimeter(self):\r\n",
        "        raise NotImplementedError('둘레의 길이를 리턴할 수 있는 메서드가 구현되어야 함!')"
      ],
      "execution_count": null,
      "outputs": []
    },
    {
      "cell_type": "code",
      "metadata": {
        "id": "DSi7UXnaawaR"
      },
      "source": [
        "class Circle():\r\n",
        "    \"\"\"중심의 좌표가 (x, y)이고, 반지름의 길이 radius인 원을 표현하는 클래스.\"\"\"\r\n",
        "    # TODO\r\n",
        "    # 1. Shape 클래스를 상속\r\n",
        "    # 2. __init__ 메서드를 작성\r\n",
        "    # 3. __repr__ 메서드를 작성: Circle(center=Point(0, 0), radius=1)\r\n",
        "    # 4. area(), perimeter() 메서드를 override\r\n",
        "    pass"
      ],
      "execution_count": null,
      "outputs": []
    },
    {
      "cell_type": "code",
      "metadata": {
        "id": "EVR11D15bimx"
      },
      "source": [
        "class Rectangle():\r\n",
        "    \"\"\"꼭지점의 좌표가 (x, y)이고, 가로 길이가 width, 세로 길이가 height인 직사각형을 표현하는 클래스.\"\"\"\r\n",
        "    # TODO\r\n",
        "    # 1. Shape 클래스를 상속\r\n",
        "    # 2. __init__ 메서드 작성\r\n",
        "    # 3. __repr__ 메서드 작성: Rectangle(corner=Point(0, 0), width=3, height=4)\r\n",
        "    # 4. area(), perimeter() 메서드를 override\r\n",
        "    pass"
      ],
      "execution_count": null,
      "outputs": []
    },
    {
      "cell_type": "code",
      "metadata": {
        "id": "GzvGW8E1cJmn"
      },
      "source": [
        "class Square:\r\n",
        "    \"\"\"꼭지점의 좌표가 (x, y)이고, 한 변의 길이가 length인 정사각형을 표현하는 클래스.\"\"\"\r\n",
        "    pass"
      ],
      "execution_count": null,
      "outputs": []
    }
  ]
}