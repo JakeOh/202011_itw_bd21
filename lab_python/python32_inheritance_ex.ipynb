{
  "nbformat": 4,
  "nbformat_minor": 0,
  "metadata": {
    "colab": {
      "name": "python32_inheritance_ex.ipynb",
      "provenance": [],
      "collapsed_sections": [],
      "authorship_tag": "ABX9TyO9+UrhZwaKflmrlOjjdpzx",
      "include_colab_link": true
    },
    "kernelspec": {
      "name": "python3",
      "display_name": "Python 3"
    }
  },
  "cells": [
    {
      "cell_type": "markdown",
      "metadata": {
        "id": "view-in-github",
        "colab_type": "text"
      },
      "source": [
        "<a href=\"https://colab.research.google.com/github/JakeOh/202011_itw_bd21/blob/main/lab_python/python32_inheritance_ex.ipynb\" target=\"_parent\"><img src=\"https://colab.research.google.com/assets/colab-badge.svg\" alt=\"Open In Colab\"/></a>"
      ]
    },
    {
      "cell_type": "code",
      "metadata": {
        "id": "BvqpeW7AzJS9"
      },
      "source": [
        "import math  # pi 값을 사용하기 위해서"
      ],
      "execution_count": 12,
      "outputs": []
    },
    {
      "cell_type": "code",
      "metadata": {
        "colab": {
          "base_uri": "https://localhost:8080/"
        },
        "id": "Jni0XVAWzPlN",
        "outputId": "3f3e2b1e-2a22-4044-d049-2fd292985a66"
      },
      "source": [
        "print(math.pi)"
      ],
      "execution_count": 13,
      "outputs": [
        {
          "output_type": "stream",
          "text": [
            "3.141592653589793\n"
          ],
          "name": "stdout"
        }
      ]
    },
    {
      "cell_type": "code",
      "metadata": {
        "id": "_V_dvrGUWqlw"
      },
      "source": [
        "class Point:\r\n",
        "    \"\"\"2차원 평면 상의 점의 좌표를 표현하는 클래스.\"\"\"\r\n",
        "    def __init__(self, x, y):\r\n",
        "        self.x = x\r\n",
        "        self.y = y\r\n",
        "\r\n",
        "    def __repr__(self):\r\n",
        "        # Point(0, 0) 형태로 출력되도록\r\n",
        "        return f'Point({self.x}, {self.y})'\r\n",
        "\r\n",
        "    def move(self, dx, dy):\r\n",
        "        \"\"\"점의 좌표를 x축의 방향으로 dx만큼, y축의 방향으로 dy만큼 이동.\"\"\"\r\n",
        "        self.x += dx\r\n",
        "        self.y += dy"
      ],
      "execution_count": 1,
      "outputs": []
    },
    {
      "cell_type": "code",
      "metadata": {
        "colab": {
          "base_uri": "https://localhost:8080/"
        },
        "id": "nhxyTcT3usru",
        "outputId": "aa7bdbe6-d51d-4800-802b-77d9884d1984"
      },
      "source": [
        "pt = Point(0, 0)\r\n",
        "print(pt)\r\n",
        "# print(pt.__repr__())\r\n",
        "# print 함수는 객체가 argument로 전달되면 그 객체의 __repr__() 메서드를 호출해서 문자열을 리턴받고,\r\n",
        "# 리턴받은 문자열을 콘솔에 출력해줌."
      ],
      "execution_count": 2,
      "outputs": [
        {
          "output_type": "stream",
          "text": [
            "Point(0, 0)\n"
          ],
          "name": "stdout"
        }
      ]
    },
    {
      "cell_type": "code",
      "metadata": {
        "colab": {
          "base_uri": "https://localhost:8080/"
        },
        "id": "sv0xtBMHv3q2",
        "outputId": "402d8681-eeb5-4787-eb70-5b20ddb5a9ae"
      },
      "source": [
        "pt.move(1, 2)\r\n",
        "print(pt)"
      ],
      "execution_count": 3,
      "outputs": [
        {
          "output_type": "stream",
          "text": [
            "Point(1, 2)\n"
          ],
          "name": "stdout"
        }
      ]
    },
    {
      "cell_type": "code",
      "metadata": {
        "id": "HeR3IBT-YKTO"
      },
      "source": [
        "class Shape:\r\n",
        "    \"\"\"2차원 평면 상의 도형을 표현하는 클래스.\"\"\"\r\n",
        "    def __init__(self, x, y):\r\n",
        "        self.point = Point(x, y)\r\n",
        "\r\n",
        "    def __repr__(self):\r\n",
        "        return f'Shape[point={self.point}]'\r\n",
        "        # return f'Shape[point={self.point.__repr__()}]'\r\n",
        "        # return f'Shape[point=({self.point.x}, {self.point.y})]'\r\n",
        "        \r\n",
        "    def move(self, dx, dy):\r\n",
        "        \"\"\"도형을 x축의 방향으로 dx만큼, y축의 방향으로 dy만큼 이동시키는 메서드.\"\"\"\r\n",
        "        self.point.move(dx, dy)\r\n",
        "        # self.point.x += dx\r\n",
        "        # self.point.y += dy\r\n",
        "\r\n",
        "    def area(self):\r\n",
        "        raise NotImplementedError('넓이를 리턴할 수 있는 메서드가 구현되어야 함!')\r\n",
        "\r\n",
        "    def perimeter(self):\r\n",
        "        raise NotImplementedError('둘레의 길이를 리턴할 수 있는 메서드가 구현되어야 함!')"
      ],
      "execution_count": 8,
      "outputs": []
    },
    {
      "cell_type": "code",
      "metadata": {
        "colab": {
          "base_uri": "https://localhost:8080/"
        },
        "id": "RzrxOI6xxPHW",
        "outputId": "2dade489-8c8b-46f6-eabc-e68649c2099a"
      },
      "source": [
        "sh = Shape(0, 0)\r\n",
        "print(sh)"
      ],
      "execution_count": 9,
      "outputs": [
        {
          "output_type": "stream",
          "text": [
            "Shape[point=Point(0, 0)]\n"
          ],
          "name": "stdout"
        }
      ]
    },
    {
      "cell_type": "code",
      "metadata": {
        "colab": {
          "base_uri": "https://localhost:8080/"
        },
        "id": "4TgLZYY9yo9d",
        "outputId": "66ffd095-70b9-4741-e2a8-ea227a43149a"
      },
      "source": [
        "sh.move(3, 4)\r\n",
        "print(sh)"
      ],
      "execution_count": 10,
      "outputs": [
        {
          "output_type": "stream",
          "text": [
            "Shape[point=Point(3, 4)]\n"
          ],
          "name": "stdout"
        }
      ]
    },
    {
      "cell_type": "code",
      "metadata": {
        "colab": {
          "base_uri": "https://localhost:8080/",
          "height": 339
        },
        "id": "tNTEsoDVy2qa",
        "outputId": "fcff90f8-7bce-4303-cd7a-37c160a3f80a"
      },
      "source": [
        "sh.area()"
      ],
      "execution_count": 11,
      "outputs": [
        {
          "output_type": "error",
          "ename": "NotImplementedError",
          "evalue": "ignored",
          "traceback": [
            "\u001b[0;31m---------------------------------------------------------------------------\u001b[0m",
            "\u001b[0;31mNotImplementedError\u001b[0m                       Traceback (most recent call last)",
            "\u001b[0;32m<ipython-input-11-9f299a607301>\u001b[0m in \u001b[0;36m<module>\u001b[0;34m()\u001b[0m\n\u001b[0;32m----> 1\u001b[0;31m \u001b[0msh\u001b[0m\u001b[0;34m.\u001b[0m\u001b[0marea\u001b[0m\u001b[0;34m(\u001b[0m\u001b[0;34m)\u001b[0m\u001b[0;34m\u001b[0m\u001b[0;34m\u001b[0m\u001b[0m\n\u001b[0m",
            "\u001b[0;32m<ipython-input-8-5fe0376f4b26>\u001b[0m in \u001b[0;36marea\u001b[0;34m(self)\u001b[0m\n\u001b[1;32m     16\u001b[0m \u001b[0;34m\u001b[0m\u001b[0m\n\u001b[1;32m     17\u001b[0m     \u001b[0;32mdef\u001b[0m \u001b[0marea\u001b[0m\u001b[0;34m(\u001b[0m\u001b[0mself\u001b[0m\u001b[0;34m)\u001b[0m\u001b[0;34m:\u001b[0m\u001b[0;34m\u001b[0m\u001b[0;34m\u001b[0m\u001b[0m\n\u001b[0;32m---> 18\u001b[0;31m         \u001b[0;32mraise\u001b[0m \u001b[0mNotImplementedError\u001b[0m\u001b[0;34m(\u001b[0m\u001b[0;34m'넓이를 리턴할 수 있는 메서드가 구현되어야 함!'\u001b[0m\u001b[0;34m)\u001b[0m\u001b[0;34m\u001b[0m\u001b[0;34m\u001b[0m\u001b[0m\n\u001b[0m\u001b[1;32m     19\u001b[0m \u001b[0;34m\u001b[0m\u001b[0m\n\u001b[1;32m     20\u001b[0m     \u001b[0;32mdef\u001b[0m \u001b[0mperimeter\u001b[0m\u001b[0;34m(\u001b[0m\u001b[0mself\u001b[0m\u001b[0;34m)\u001b[0m\u001b[0;34m:\u001b[0m\u001b[0;34m\u001b[0m\u001b[0;34m\u001b[0m\u001b[0m\n",
            "\u001b[0;31mNotImplementedError\u001b[0m: 넓이를 리턴할 수 있는 메서드가 구현되어야 함!"
          ]
        }
      ]
    },
    {
      "cell_type": "code",
      "metadata": {
        "id": "DSi7UXnaawaR"
      },
      "source": [
        "class Circle(Shape):  # 1. Shape 클래스를 상속\r\n",
        "    \"\"\"중심의 좌표가 (x, y)이고, 반지름의 길이 radius인 원을 표현하는 클래스.\"\"\"\r\n",
        "    # 2. __init__ 메서드를 작성\r\n",
        "    def __init__(self, x, y, radius):\r\n",
        "        super().__init__(x, y)\r\n",
        "        self.radius = radius\r\n",
        "\r\n",
        "    # 3. __repr__ 메서드를 작성: Circle(center=Point(0, 0), radius=1)\r\n",
        "    def __repr__(self):\r\n",
        "        return f'Circle(center={self.point}, radius={self.radius})'\r\n",
        "\r\n",
        "    # 4. area(), perimeter() 메서드를 override\r\n",
        "    def area(self):\r\n",
        "        return math.pi * self.radius ** 2\r\n",
        "\r\n",
        "    def perimeter(self):\r\n",
        "        return 2 * math.pi * self.radius"
      ],
      "execution_count": 19,
      "outputs": []
    },
    {
      "cell_type": "code",
      "metadata": {
        "colab": {
          "base_uri": "https://localhost:8080/"
        },
        "id": "RP4SKC8_1D8m",
        "outputId": "19e63c35-a55b-4ca8-eb00-2cb451533a8a"
      },
      "source": [
        "c = Circle(0, 0, 1)\r\n",
        "print(c)"
      ],
      "execution_count": 20,
      "outputs": [
        {
          "output_type": "stream",
          "text": [
            "Circle(center=Point(0, 0), radius=1)\n"
          ],
          "name": "stdout"
        }
      ]
    },
    {
      "cell_type": "code",
      "metadata": {
        "colab": {
          "base_uri": "https://localhost:8080/"
        },
        "id": "J8I0XkmN1Mw1",
        "outputId": "6b9ee9fc-9fae-4e94-cc27-143b7e806260"
      },
      "source": [
        "c.move(1, 1)  # 부모 클래스인 Shape으로부터 상속받은 move() 메서드 호출.\r\n",
        "print(c)"
      ],
      "execution_count": 21,
      "outputs": [
        {
          "output_type": "stream",
          "text": [
            "Circle(center=Point(1, 1), radius=1)\n"
          ],
          "name": "stdout"
        }
      ]
    },
    {
      "cell_type": "code",
      "metadata": {
        "colab": {
          "base_uri": "https://localhost:8080/"
        },
        "id": "C1Mj_xaD1_QN",
        "outputId": "1b8c7192-b229-4165-8275-c493f2051d31"
      },
      "source": [
        "print('넓이:', c.area())\r\n",
        "print('둘레:', c.perimeter())"
      ],
      "execution_count": 22,
      "outputs": [
        {
          "output_type": "stream",
          "text": [
            "넓이: 3.141592653589793\n",
            "둘레: 6.283185307179586\n"
          ],
          "name": "stdout"
        }
      ]
    },
    {
      "cell_type": "code",
      "metadata": {
        "id": "EVR11D15bimx"
      },
      "source": [
        "class Rectangle(Shape):  # 1. Shape 클래스를 상속\r\n",
        "    \"\"\"꼭지점의 좌표가 (x, y)이고, 가로 길이가 width, 세로 길이가 height인 직사각형을 표현하는 클래스.\"\"\"\r\n",
        "    # 2. __init__ 메서드 작성\r\n",
        "    def __init__(self, x, y, width, height):\r\n",
        "        super().__init__(x, y)\r\n",
        "        self.width = width\r\n",
        "        self.height = height\r\n",
        "\r\n",
        "    # 3. __repr__ 메서드 작성: Rectangle(corner=Point(0, 0), width=3, height=4)\r\n",
        "    def __repr__(self):\r\n",
        "        return f'Rectangle(corner={self.point}, width={self.width}, height={self.height})'\r\n",
        "\r\n",
        "    # 4. area(), perimeter() 메서드를 override\r\n",
        "    def area(self):\r\n",
        "        return self.width * self.height\r\n",
        "\r\n",
        "    def perimeter(self):\r\n",
        "        return 2 * (self.width + self.height)"
      ],
      "execution_count": 23,
      "outputs": []
    },
    {
      "cell_type": "code",
      "metadata": {
        "colab": {
          "base_uri": "https://localhost:8080/"
        },
        "id": "qsCfb9RhKX08",
        "outputId": "c6683399-b5a8-42c1-d296-f702ac5a50df"
      },
      "source": [
        "rect = Rectangle(0, 0, 3, 4)\r\n",
        "print(rect)"
      ],
      "execution_count": 24,
      "outputs": [
        {
          "output_type": "stream",
          "text": [
            "Rectangle(corner=Point(0, 0), width=3, height=4)\n"
          ],
          "name": "stdout"
        }
      ]
    },
    {
      "cell_type": "code",
      "metadata": {
        "colab": {
          "base_uri": "https://localhost:8080/"
        },
        "id": "oVawWkmnKmak",
        "outputId": "10d523bc-7856-427e-f84a-c418f54a36b1"
      },
      "source": [
        "rect.move(-1, 2)\r\n",
        "print(rect)"
      ],
      "execution_count": 25,
      "outputs": [
        {
          "output_type": "stream",
          "text": [
            "Rectangle(corner=Point(-1, 2), width=3, height=4)\n"
          ],
          "name": "stdout"
        }
      ]
    },
    {
      "cell_type": "code",
      "metadata": {
        "colab": {
          "base_uri": "https://localhost:8080/"
        },
        "id": "GeAA1GhMK30U",
        "outputId": "f3e5a922-8143-467f-9f39-d4b3594d9d32"
      },
      "source": [
        "print('넓이:', rect.area())\r\n",
        "print('둘레:', rect.perimeter())"
      ],
      "execution_count": 26,
      "outputs": [
        {
          "output_type": "stream",
          "text": [
            "넓이: 12\n",
            "둘레: 14\n"
          ],
          "name": "stdout"
        }
      ]
    },
    {
      "cell_type": "code",
      "metadata": {
        "id": "GzvGW8E1cJmn"
      },
      "source": [
        "class Square(Rectangle):\r\n",
        "    \"\"\"꼭지점의 좌표가 (x, y)이고, 한 변의 길이가 length인 정사각형을 표현하는 클래스.\"\"\"\r\n",
        "    def __init__(self, x, y, length):\r\n",
        "        super().__init__(x, y, length, length)\r\n",
        "\r\n",
        "    def __repr__(self):\r\n",
        "        return f'Square(corner={self.point}, length={self.width})'"
      ],
      "execution_count": 29,
      "outputs": []
    },
    {
      "cell_type": "code",
      "metadata": {
        "colab": {
          "base_uri": "https://localhost:8080/"
        },
        "id": "GmXm_vI3LxTL",
        "outputId": "5a386fc1-78c8-4dad-c65a-78163cb449a0"
      },
      "source": [
        "sq = Square(0, 0, 3)\r\n",
        "print(sq)"
      ],
      "execution_count": 30,
      "outputs": [
        {
          "output_type": "stream",
          "text": [
            "Square(corner=Point(0, 0), length=3)\n"
          ],
          "name": "stdout"
        }
      ]
    },
    {
      "cell_type": "code",
      "metadata": {
        "colab": {
          "base_uri": "https://localhost:8080/"
        },
        "id": "q2rltAAxNIxE",
        "outputId": "cf24eded-225a-407d-94d3-7ea345e0b9e7"
      },
      "source": [
        "sq.move(-1, -2)\r\n",
        "print(sq)"
      ],
      "execution_count": 31,
      "outputs": [
        {
          "output_type": "stream",
          "text": [
            "Square(corner=Point(-1, -2), length=3)\n"
          ],
          "name": "stdout"
        }
      ]
    },
    {
      "cell_type": "code",
      "metadata": {
        "colab": {
          "base_uri": "https://localhost:8080/"
        },
        "id": "JUGNMViXNS5T",
        "outputId": "295f8b64-0eaa-4d84-80b7-26837c1abc36"
      },
      "source": [
        "print('넓이:', sq.area())\r\n",
        "print('둘레:', sq.perimeter())"
      ],
      "execution_count": 32,
      "outputs": [
        {
          "output_type": "stream",
          "text": [
            "넓이: 9\n",
            "둘레: 12\n"
          ],
          "name": "stdout"
        }
      ]
    }
  ]
}