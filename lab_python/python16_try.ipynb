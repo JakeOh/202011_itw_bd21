{
  "nbformat": 4,
  "nbformat_minor": 0,
  "metadata": {
    "colab": {
      "name": "python16_try.ipynb",
      "provenance": [],
      "collapsed_sections": [],
      "authorship_tag": "ABX9TyO7qKMFxruSw9JhACqhZ5Hr",
      "include_colab_link": true
    },
    "kernelspec": {
      "name": "python3",
      "display_name": "Python 3"
    }
  },
  "cells": [
    {
      "cell_type": "markdown",
      "metadata": {
        "id": "view-in-github",
        "colab_type": "text"
      },
      "source": [
        "<a href=\"https://colab.research.google.com/github/JakeOh/202011_itw_bd21/blob/main/lab_python/python16_try.ipynb\" target=\"_parent\"><img src=\"https://colab.research.google.com/assets/colab-badge.svg\" alt=\"Open In Colab\"/></a>"
      ]
    },
    {
      "cell_type": "code",
      "metadata": {
        "colab": {
          "base_uri": "https://localhost:8080/"
        },
        "id": "rb3n7_T1he6w",
        "outputId": "e5bba879-dd0b-4c7f-e71b-3c8a065b5bea"
      },
      "source": [
        "# prnit('hello')  #> NameError\r\n",
        "print('hello')"
      ],
      "execution_count": 2,
      "outputs": [
        {
          "output_type": "stream",
          "text": [
            "hello\n"
          ],
          "name": "stdout"
        }
      ]
    },
    {
      "cell_type": "code",
      "metadata": {
        "id": "7hs9cs_8icSw"
      },
      "source": [
        "# n = int('100.')  #> ValueError\r\n",
        "n = int('100')"
      ],
      "execution_count": 4,
      "outputs": []
    },
    {
      "cell_type": "code",
      "metadata": {
        "colab": {
          "base_uri": "https://localhost:8080/"
        },
        "id": "4jrUdxtqjAsv",
        "outputId": "d65c3b45-8acf-4dc3-c6b4-04b6f3e571a7"
      },
      "source": [
        "numbers = [1, 2, 3]\r\n",
        "# print(numbers[3])  #> IndexError\r\n",
        "print(numbers[2])"
      ],
      "execution_count": 6,
      "outputs": [
        {
          "output_type": "stream",
          "text": [
            "3\n"
          ],
          "name": "stdout"
        }
      ]
    },
    {
      "cell_type": "code",
      "metadata": {
        "colab": {
          "base_uri": "https://localhost:8080/"
        },
        "id": "A5p3gEYrjieu",
        "outputId": "828db1ce-d828-4831-c511-8283b9712d85"
      },
      "source": [
        "# 123 + '100'  #> TypeError\r\n",
        "print(123 + 100)\r\n",
        "print('123' + '100')"
      ],
      "execution_count": 10,
      "outputs": [
        {
          "output_type": "stream",
          "text": [
            "223\n",
            "123100\n"
          ],
          "name": "stdout"
        }
      ]
    },
    {
      "cell_type": "code",
      "metadata": {
        "colab": {
          "base_uri": "https://localhost:8080/"
        },
        "id": "RwN2fFcukXu_",
        "outputId": "86cf1e29-650d-42e0-c6c0-4aca061d289f"
      },
      "source": [
        "# 123 / 0  #> ZeroDivisionError\r\n",
        "123 / 0.1"
      ],
      "execution_count": 12,
      "outputs": [
        {
          "output_type": "execute_result",
          "data": {
            "text/plain": [
              "1230.0"
            ]
          },
          "metadata": {
            "tags": []
          },
          "execution_count": 12
        }
      ]
    },
    {
      "cell_type": "markdown",
      "metadata": {
        "id": "UlL3BZSLlI2s"
      },
      "source": [
        "프로그램 실행 중에 오류(error, exception)가 발생하는 경우 해결 방법:\r\n",
        "\r\n",
        "* 오류가 발생한 위치와 원인을 파악해서 오류가 발생하지 않도록 코드 수정.\r\n",
        "* 오류가 발생하더라도 프로그램이 계속 실행될 수 있도록 처리 -> try ~ except 구문\r\n",
        "\r\n",
        "\r\n",
        "```\r\n",
        "try:\r\n",
        "    실행할 블록(문장들)\r\n",
        "except [에러이름 [as 별명]]:\r\n",
        "    에러가 발생했을 때 실행할 블록(문장들)\r\n",
        "[else:\r\n",
        "    try 블록이 에러없이 정상적으로 실행됐을 때 실행할 블록(문장들)]\r\n",
        "[finally:\r\n",
        "    try 블록이 실행중에 에러가 발생했는지 발생하지 않았는지 여부에 상관없이 항상 실행할 블록(문장들)]\r\n",
        "```\r\n",
        "\r\n"
      ]
    },
    {
      "cell_type": "code",
      "metadata": {
        "colab": {
          "base_uri": "https://localhost:8080/"
        },
        "id": "hnCbxsQMnfUf",
        "outputId": "7e217380-9547-4fa5-8dbe-d84c4f23667b"
      },
      "source": [
        "try:\r\n",
        "    print('1 + 2 + 3 + ... + n')\r\n",
        "    n = int(input('n을 정수로 입력>>> '))\r\n",
        "    total = n * (n + 1) / 2\r\n",
        "    print('sum =', total)\r\n",
        "except:\r\n",
        "    print('sum을 계산할 수 없어요...')"
      ],
      "execution_count": 18,
      "outputs": [
        {
          "output_type": "stream",
          "text": [
            "1 + 2 + 3 + ... + n\n",
            "n을 정수로 입력>>> 10.\n",
            "sum을 계산할 수 없어요...\n"
          ],
          "name": "stdout"
        }
      ]
    },
    {
      "cell_type": "code",
      "metadata": {
        "colab": {
          "base_uri": "https://localhost:8080/"
        },
        "id": "dHLXy-Gd9TKo",
        "outputId": "a1c84159-c447-4c41-b7f5-7ce69b1a97fc"
      },
      "source": [
        "try:\r\n",
        "    numbers = [1, 2, 3]\r\n",
        "    for i in range(10):\r\n",
        "        print(i, ':', numbers[i])\r\n",
        "    print('try 정상 종료')\r\n",
        "except ValueError:\r\n",
        "    # try 블록 실행 중에 ValueError가 발생했을 때, ValueError를 처리하는 블록\r\n",
        "    print('ValueError 발생')\r\n",
        "except IndexError:\r\n",
        "    # try 블록 실행 중에 IndexError가 발생했을 때, IndexError를 처리하는 블록\r\n",
        "    print('IndexError 발생')"
      ],
      "execution_count": 23,
      "outputs": [
        {
          "output_type": "stream",
          "text": [
            "0 : 1\n",
            "1 : 2\n",
            "2 : 3\n",
            "IndexError 발생\n"
          ],
          "name": "stdout"
        }
      ]
    },
    {
      "cell_type": "code",
      "metadata": {
        "colab": {
          "base_uri": "https://localhost:8080/"
        },
        "id": "jsJtnXupBAA1",
        "outputId": "03c30d8a-dbc9-4c43-ebb1-fcb9043aad66"
      },
      "source": [
        "try:\r\n",
        "    numbers = [1, 2, 3]\r\n",
        "    for i in range(100):\r\n",
        "        print(numbers[i])\r\n",
        "    print('try 정상 종료')\r\n",
        "except IndexError as e:\r\n",
        "    print('오류:', e)  # 에러 메시지의 내용을 확인\r\n",
        "else:\r\n",
        "    print('오류가 발생하지 않았음!')\r\n",
        "finally:\r\n",
        "    print('finally 블록')"
      ],
      "execution_count": 25,
      "outputs": [
        {
          "output_type": "stream",
          "text": [
            "1\n",
            "2\n",
            "3\n",
            "오류: list index out of range\n",
            "finally 블록\n"
          ],
          "name": "stdout"
        }
      ]
    },
    {
      "cell_type": "code",
      "metadata": {
        "colab": {
          "base_uri": "https://localhost:8080/"
        },
        "id": "e1agPjPTD0QV",
        "outputId": "6edee534-3c53-4b93-d760-67a1379f2aac"
      },
      "source": [
        "# 사용자 정의 오류를 발생시키는 방법: raise\r\n",
        "\r\n",
        "try:\r\n",
        "    age = int(input('나이 입력>>> '))\r\n",
        "    if age < 0:\r\n",
        "        raise ValueError('나이는 0 또는 양의 정수여야 합니다...')\r\n",
        "except ValueError as e:\r\n",
        "    print(e)\r\n",
        "else:\r\n",
        "    print('나이:', age)"
      ],
      "execution_count": 34,
      "outputs": [
        {
          "output_type": "stream",
          "text": [
            "나이 입력>>> -13\n",
            "나이는 0 또는 양의 정수여야 합니다...\n"
          ],
          "name": "stdout"
        }
      ]
    }
  ]
}