{
  "nbformat": 4,
  "nbformat_minor": 0,
  "metadata": {
    "colab": {
      "name": "python16_try.ipynb",
      "provenance": [],
      "collapsed_sections": [],
      "authorship_tag": "ABX9TyPXFH+J4/UZblFgF6Hl5CC+",
      "include_colab_link": true
    },
    "kernelspec": {
      "name": "python3",
      "display_name": "Python 3"
    }
  },
  "cells": [
    {
      "cell_type": "markdown",
      "metadata": {
        "id": "view-in-github",
        "colab_type": "text"
      },
      "source": [
        "<a href=\"https://colab.research.google.com/github/JakeOh/202011_itw_bd21/blob/main/lab_python/python16_try.ipynb\" target=\"_parent\"><img src=\"https://colab.research.google.com/assets/colab-badge.svg\" alt=\"Open In Colab\"/></a>"
      ]
    },
    {
      "cell_type": "code",
      "metadata": {
        "colab": {
          "base_uri": "https://localhost:8080/"
        },
        "id": "rb3n7_T1he6w",
        "outputId": "e5bba879-dd0b-4c7f-e71b-3c8a065b5bea"
      },
      "source": [
        "# prnit('hello')  #> NameError\r\n",
        "print('hello')"
      ],
      "execution_count": 2,
      "outputs": [
        {
          "output_type": "stream",
          "text": [
            "hello\n"
          ],
          "name": "stdout"
        }
      ]
    },
    {
      "cell_type": "code",
      "metadata": {
        "id": "7hs9cs_8icSw"
      },
      "source": [
        "# n = int('100.')  #> ValueError\r\n",
        "n = int('100')"
      ],
      "execution_count": 4,
      "outputs": []
    },
    {
      "cell_type": "code",
      "metadata": {
        "colab": {
          "base_uri": "https://localhost:8080/"
        },
        "id": "4jrUdxtqjAsv",
        "outputId": "d65c3b45-8acf-4dc3-c6b4-04b6f3e571a7"
      },
      "source": [
        "numbers = [1, 2, 3]\r\n",
        "# print(numbers[3])  #> IndexError\r\n",
        "print(numbers[2])"
      ],
      "execution_count": 6,
      "outputs": [
        {
          "output_type": "stream",
          "text": [
            "3\n"
          ],
          "name": "stdout"
        }
      ]
    },
    {
      "cell_type": "code",
      "metadata": {
        "colab": {
          "base_uri": "https://localhost:8080/"
        },
        "id": "A5p3gEYrjieu",
        "outputId": "828db1ce-d828-4831-c511-8283b9712d85"
      },
      "source": [
        "# 123 + '100'  #> TypeError\r\n",
        "print(123 + 100)\r\n",
        "print('123' + '100')"
      ],
      "execution_count": 10,
      "outputs": [
        {
          "output_type": "stream",
          "text": [
            "223\n",
            "123100\n"
          ],
          "name": "stdout"
        }
      ]
    },
    {
      "cell_type": "code",
      "metadata": {
        "colab": {
          "base_uri": "https://localhost:8080/"
        },
        "id": "RwN2fFcukXu_",
        "outputId": "86cf1e29-650d-42e0-c6c0-4aca061d289f"
      },
      "source": [
        "# 123 / 0  #> ZeroDivisionError\r\n",
        "123 / 0.1"
      ],
      "execution_count": 12,
      "outputs": [
        {
          "output_type": "execute_result",
          "data": {
            "text/plain": [
              "1230.0"
            ]
          },
          "metadata": {
            "tags": []
          },
          "execution_count": 12
        }
      ]
    },
    {
      "cell_type": "markdown",
      "metadata": {
        "id": "UlL3BZSLlI2s"
      },
      "source": [
        "프로그램 실행 중에 오류(error, exception)가 발생하는 경우 해결 방법:\r\n",
        "\r\n",
        "* 오류가 발생한 위치와 원인을 파악해서 오류가 발생하지 않도록 코드 수정.\r\n",
        "* 오류가 발생하더라도 프로그램이 계속 실행될 수 있도록 처리 -> try ~ except 구문\r\n",
        "\r\n",
        "\r\n",
        "```\r\n",
        "try:\r\n",
        "    실행할 블록(문장들)\r\n",
        "except [에러이름 [as 별명]]:\r\n",
        "    에러가 발생했을 때 실행할 블록(문장들)\r\n",
        "[else:\r\n",
        "    try 블록이 에러없이 정상적으로 실행됐을 때 실행할 블록(문장들)]\r\n",
        "[finally:\r\n",
        "    try 블록이 실행중에 에러가 발생했는지 발생하지 않았는지 여부에 상관없이 항상 실행할 블록(문장들)]\r\n",
        "```\r\n",
        "\r\n"
      ]
    },
    {
      "cell_type": "code",
      "metadata": {
        "colab": {
          "base_uri": "https://localhost:8080/"
        },
        "id": "hnCbxsQMnfUf",
        "outputId": "7e217380-9547-4fa5-8dbe-d84c4f23667b"
      },
      "source": [
        "try:\r\n",
        "    print('1 + 2 + 3 + ... + n')\r\n",
        "    n = int(input('n을 정수로 입력>>> '))\r\n",
        "    total = n * (n + 1) / 2\r\n",
        "    print('sum =', total)\r\n",
        "except:\r\n",
        "    print('sum을 계산할 수 없어요...')"
      ],
      "execution_count": 18,
      "outputs": [
        {
          "output_type": "stream",
          "text": [
            "1 + 2 + 3 + ... + n\n",
            "n을 정수로 입력>>> 10.\n",
            "sum을 계산할 수 없어요...\n"
          ],
          "name": "stdout"
        }
      ]
    },
    {
      "cell_type": "code",
      "metadata": {
        "colab": {
          "base_uri": "https://localhost:8080/"
        },
        "id": "dHLXy-Gd9TKo",
        "outputId": "a1c84159-c447-4c41-b7f5-7ce69b1a97fc"
      },
      "source": [
        "try:\r\n",
        "    numbers = [1, 2, 3]\r\n",
        "    for i in range(10):\r\n",
        "        print(i, ':', numbers[i])\r\n",
        "    print('try 정상 종료')\r\n",
        "except ValueError:\r\n",
        "    # try 블록 실행 중에 ValueError가 발생했을 때, ValueError를 처리하는 블록\r\n",
        "    print('ValueError 발생')\r\n",
        "except IndexError:\r\n",
        "    # try 블록 실행 중에 IndexError가 발생했을 때, IndexError를 처리하는 블록\r\n",
        "    print('IndexError 발생')"
      ],
      "execution_count": 23,
      "outputs": [
        {
          "output_type": "stream",
          "text": [
            "0 : 1\n",
            "1 : 2\n",
            "2 : 3\n",
            "IndexError 발생\n"
          ],
          "name": "stdout"
        }
      ]
    },
    {
      "cell_type": "code",
      "metadata": {
        "colab": {
          "base_uri": "https://localhost:8080/"
        },
        "id": "jsJtnXupBAA1",
        "outputId": "03c30d8a-dbc9-4c43-ebb1-fcb9043aad66"
      },
      "source": [
        "try:\r\n",
        "    numbers = [1, 2, 3]\r\n",
        "    for i in range(100):\r\n",
        "        print(numbers[i])\r\n",
        "    print('try 정상 종료')\r\n",
        "except IndexError as e:\r\n",
        "    # IndexError가 발생한 경우 처리할 블록\r\n",
        "    print('오류:', e)  # 에러 메시지의 내용을 확인\r\n",
        "else:\r\n",
        "    # 오류가 발생하지 않은 경우 실행할 블록\r\n",
        "    print('오류가 발생하지 않았음!')\r\n",
        "finally:\r\n",
        "    # 오류 발생 여부와 상관없이 항상 실행할 블록\r\n",
        "    print('finally 블록')"
      ],
      "execution_count": 25,
      "outputs": [
        {
          "output_type": "stream",
          "text": [
            "1\n",
            "2\n",
            "3\n",
            "오류: list index out of range\n",
            "finally 블록\n"
          ],
          "name": "stdout"
        }
      ]
    },
    {
      "cell_type": "code",
      "metadata": {
        "colab": {
          "base_uri": "https://localhost:8080/"
        },
        "id": "e1agPjPTD0QV",
        "outputId": "6edee534-3c53-4b93-d760-67a1379f2aac"
      },
      "source": [
        "# 사용자 정의 오류를 발생시키는 방법: raise\r\n",
        "\r\n",
        "try:\r\n",
        "    age = int(input('나이 입력>>> '))\r\n",
        "    if age < 0:\r\n",
        "        raise ValueError('나이는 0 또는 양의 정수여야 합니다...')\r\n",
        "except ValueError as e:\r\n",
        "    print(e)\r\n",
        "else:\r\n",
        "    print('나이:', age)"
      ],
      "execution_count": 34,
      "outputs": [
        {
          "output_type": "stream",
          "text": [
            "나이 입력>>> -13\n",
            "나이는 0 또는 양의 정수여야 합니다...\n"
          ],
          "name": "stdout"
        }
      ]
    },
    {
      "cell_type": "markdown",
      "metadata": {
        "id": "BZ9k4Z5ILZ9_"
      },
      "source": [
        "* 키보드로 정수 입력\r\n",
        "* 입력받은 정수를 출력하고 종료\r\n",
        "* 키보드로 입력받은 문자열을 정수로 변환할 수 없는 경우(에러가 발생하는 경우), 정수가 입력될 때까지 반복"
      ]
    },
    {
      "cell_type": "code",
      "metadata": {
        "colab": {
          "base_uri": "https://localhost:8080/"
        },
        "id": "8-hUzGYXMBHx",
        "outputId": "1174322a-5aa5-47a7-f75d-e29e8b0db426"
      },
      "source": [
        "while True:\r\n",
        "    try:\r\n",
        "        number = int(input('정수 입력 >>> '))\r\n",
        "        # print(number)\r\n",
        "        # break\r\n",
        "    except ValueError:\r\n",
        "        print('정수가 아닙니다')\r\n",
        "    else:\r\n",
        "        print(number)\r\n",
        "        break\r\n"
      ],
      "execution_count": 36,
      "outputs": [
        {
          "output_type": "stream",
          "text": [
            "정수 입력 >>> 10.\n",
            "정수가 아닙니다\n",
            "정수 입력 >>> 12e\n",
            "정수가 아닙니다\n",
            "정수 입력 >>> 123\n",
            "123\n"
          ],
          "name": "stdout"
        }
      ]
    },
    {
      "cell_type": "markdown",
      "metadata": {
        "id": "lvWGpSPjMKzk"
      },
      "source": [
        "리스트 `words = ['apple', 'banana', 'cherry', 'apple', 'cherry', 'cherry']`의 단어 개수를 세는 코드를 작성.\r\n",
        "\r\n",
        "결과: `word_counts = {'apple': 2, 'banana': 1, 'cherry': 3}`\r\n"
      ]
    },
    {
      "cell_type": "code",
      "metadata": {
        "colab": {
          "base_uri": "https://localhost:8080/"
        },
        "id": "ZyKYEGfAMfKd",
        "outputId": "b30c696d-8af4-4ed0-9a3e-66c338087cd0"
      },
      "source": [
        "words = ['apple', 'banana', 'cherry', 'apple', 'cherry', 'cherry']\r\n",
        "print(words)"
      ],
      "execution_count": 38,
      "outputs": [
        {
          "output_type": "stream",
          "text": [
            "['apple', 'banana', 'cherry', 'apple', 'cherry', 'cherry']\n"
          ],
          "name": "stdout"
        }
      ]
    },
    {
      "cell_type": "code",
      "metadata": {
        "colab": {
          "base_uri": "https://localhost:8080/"
        },
        "id": "2vyGynkwRp7-",
        "outputId": "68c472d6-fee7-4317-feb4-c15faab344d7"
      },
      "source": [
        "word_counts2 = {}  # empty dict\r\n",
        "for x in words:  # 리스트 words에 있는 모든 단어 x에 대해서 반복(iteration)\r\n",
        "    try:\r\n",
        "        word_counts2[x] += 1  # word_counts2[x] = word_counts2[x] + 1\r\n",
        "    except:\r\n",
        "        word_counts2[x] = 1  # dict에 새로운 아이템 추가(x: 1)\r\n",
        "print(word_counts2)"
      ],
      "execution_count": 42,
      "outputs": [
        {
          "output_type": "stream",
          "text": [
            "{'apple': 2, 'banana': 1, 'cherry': 3}\n"
          ],
          "name": "stdout"
        }
      ]
    },
    {
      "cell_type": "code",
      "metadata": {
        "colab": {
          "base_uri": "https://localhost:8080/"
        },
        "id": "o7FAGuTDTraU",
        "outputId": "c3e48b68-237f-430c-ce01-1ad4c1103000"
      },
      "source": [
        "word_counts = {}\r\n",
        "for w in words:\r\n",
        "    if w in word_counts:\r\n",
        "        word_counts[w] += 1\r\n",
        "    else:\r\n",
        "        word_counts[w] = 1\r\n",
        "\r\n",
        "print(word_counts)"
      ],
      "execution_count": 46,
      "outputs": [
        {
          "output_type": "stream",
          "text": [
            "{'apple': 2, 'banana': 1, 'cherry': 3}\n"
          ],
          "name": "stdout"
        }
      ]
    }
  ]
}