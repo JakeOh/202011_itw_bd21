{
  "nbformat": 4,
  "nbformat_minor": 0,
  "metadata": {
    "colab": {
      "name": "python11_list_comprehension.ipynb",
      "provenance": [],
      "collapsed_sections": [],
      "authorship_tag": "ABX9TyN7iQPwI+YHIDat/v/H3pPO",
      "include_colab_link": true
    },
    "kernelspec": {
      "name": "python3",
      "display_name": "Python 3"
    }
  },
  "cells": [
    {
      "cell_type": "markdown",
      "metadata": {
        "id": "view-in-github",
        "colab_type": "text"
      },
      "source": [
        "<a href=\"https://colab.research.google.com/github/JakeOh/202011_itw_bd21/blob/main/lab_python/python11_list_comprehension.ipynb\" target=\"_parent\"><img src=\"https://colab.research.google.com/assets/colab-badge.svg\" alt=\"Open In Colab\"/></a>"
      ]
    },
    {
      "cell_type": "markdown",
      "metadata": {
        "id": "ZuSOa1nsWt85"
      },
      "source": [
        "# List Comprehension"
      ]
    },
    {
      "cell_type": "markdown",
      "metadata": {
        "id": "yDvVtrPDW0Cb"
      },
      "source": [
        "1 이상 10 이하의 정수들을 리스트에 추가"
      ]
    },
    {
      "cell_type": "code",
      "metadata": {
        "colab": {
          "base_uri": "https://localhost:8080/"
        },
        "id": "XRcTkXCmWihP",
        "outputId": "f8e0b4d0-9de1-40fb-db7e-df5a1919a8dd"
      },
      "source": [
        "numbers = []  # empty list\r\n",
        "for x in range(1, 11):\r\n",
        "    numbers.append(x)\r\n",
        "\r\n",
        "print(numbers)"
      ],
      "execution_count": 1,
      "outputs": [
        {
          "output_type": "stream",
          "text": [
            "[1, 2, 3, 4, 5, 6, 7, 8, 9, 10]\n"
          ],
          "name": "stdout"
        }
      ]
    },
    {
      "cell_type": "code",
      "metadata": {
        "colab": {
          "base_uri": "https://localhost:8080/"
        },
        "id": "BV3KCRUqXXqS",
        "outputId": "cb6a0dd6-5eec-4d2c-977e-644f0ad5fb58"
      },
      "source": [
        "numbers2 = [x for x in range(1, 11)]  # list comprehension\r\n",
        "print(numbers2)"
      ],
      "execution_count": 2,
      "outputs": [
        {
          "output_type": "stream",
          "text": [
            "[1, 2, 3, 4, 5, 6, 7, 8, 9, 10]\n"
          ],
          "name": "stdout"
        }
      ]
    },
    {
      "cell_type": "markdown",
      "metadata": {
        "id": "cHlUktAzYDSw"
      },
      "source": [
        "10 이하의 양의 정수들 중에서 짝수들을 리스트에 추가"
      ]
    },
    {
      "cell_type": "code",
      "metadata": {
        "colab": {
          "base_uri": "https://localhost:8080/"
        },
        "id": "_KLVItFEXsfY",
        "outputId": "06397aea-372a-4c84-e7c7-d2eb7d6b8586"
      },
      "source": [
        "# for loop + append()\r\n",
        "evens = []\r\n",
        "for n in range(2, 11, 2):\r\n",
        "    evens.append(n)\r\n",
        "\r\n",
        "print(evens)"
      ],
      "execution_count": 3,
      "outputs": [
        {
          "output_type": "stream",
          "text": [
            "[2, 4, 6, 8, 10]\n"
          ],
          "name": "stdout"
        }
      ]
    },
    {
      "cell_type": "code",
      "metadata": {
        "colab": {
          "base_uri": "https://localhost:8080/"
        },
        "id": "KbGQdEexYKuY",
        "outputId": "06402565-04b7-4633-d863-ae0dd3ea6ab7"
      },
      "source": [
        "# list comprehension\r\n",
        "evens = [n for n in range(2, 11, 2)]\r\n",
        "print(evens)"
      ],
      "execution_count": 4,
      "outputs": [
        {
          "output_type": "stream",
          "text": [
            "[2, 4, 6, 8, 10]\n"
          ],
          "name": "stdout"
        }
      ]
    },
    {
      "cell_type": "code",
      "metadata": {
        "colab": {
          "base_uri": "https://localhost:8080/"
        },
        "id": "YXUOoUupZ07Z",
        "outputId": "2e4448b5-4f74-4ba2-f177-4436fd43b199"
      },
      "source": [
        "evens = []\r\n",
        "for n in range(1, 6):\r\n",
        "    evens.append(n * 2)\r\n",
        "print(evens)"
      ],
      "execution_count": 5,
      "outputs": [
        {
          "output_type": "stream",
          "text": [
            "[2, 4, 6, 8, 10]\n"
          ],
          "name": "stdout"
        }
      ]
    },
    {
      "cell_type": "code",
      "metadata": {
        "colab": {
          "base_uri": "https://localhost:8080/"
        },
        "id": "MpXkJjKkZqwZ",
        "outputId": "763a5372-9c26-427d-a89f-8afe62109421"
      },
      "source": [
        "evens = [n * 2 for n in range(1, 6)]\r\n",
        "print(evens)"
      ],
      "execution_count": 6,
      "outputs": [
        {
          "output_type": "stream",
          "text": [
            "[2, 4, 6, 8, 10]\n"
          ],
          "name": "stdout"
        }
      ]
    },
    {
      "cell_type": "markdown",
      "metadata": {
        "id": "WIXmMc1DasWY"
      },
      "source": [
        "1 ~ 5 숫자들의 제곱을 리스트에 추가: `[1, 4, 9, 16, 25]`"
      ]
    },
    {
      "cell_type": "code",
      "metadata": {
        "colab": {
          "base_uri": "https://localhost:8080/"
        },
        "id": "zGmKpeita3qI",
        "outputId": "550237d6-6a90-48ab-eed6-2df229499ad0"
      },
      "source": [
        "squares = []\r\n",
        "for x in range(1, 6):\r\n",
        "    squares.append(x ** 2)\r\n",
        "print(squares)"
      ],
      "execution_count": 7,
      "outputs": [
        {
          "output_type": "stream",
          "text": [
            "[1, 4, 9, 16, 25]\n"
          ],
          "name": "stdout"
        }
      ]
    },
    {
      "cell_type": "code",
      "metadata": {
        "colab": {
          "base_uri": "https://localhost:8080/"
        },
        "id": "21fMXMaEbsiJ",
        "outputId": "0f557b92-d044-4aa5-f764-5dec104069cb"
      },
      "source": [
        "squares = [x ** 2 for x in range(1, 6)]\r\n",
        "print(squares)"
      ],
      "execution_count": 9,
      "outputs": [
        {
          "output_type": "stream",
          "text": [
            "[1, 4, 9, 16, 25]\n"
          ],
          "name": "stdout"
        }
      ]
    },
    {
      "cell_type": "markdown",
      "metadata": {
        "id": "dKqI3HrYb9P3"
      },
      "source": [
        "0 이상 100 이하인 정수 난수 10개를 리스트에 저장."
      ]
    },
    {
      "cell_type": "code",
      "metadata": {
        "id": "rbddQdPMb05O"
      },
      "source": [
        "import random"
      ],
      "execution_count": 10,
      "outputs": []
    },
    {
      "cell_type": "code",
      "metadata": {
        "colab": {
          "base_uri": "https://localhost:8080/"
        },
        "id": "55y8Yh3icLgY",
        "outputId": "45ddf47c-f9d4-428d-f92f-cf8da2603ce3"
      },
      "source": [
        "random.seed(1)\r\n",
        "\r\n",
        "rands = []\r\n",
        "for _ in range(10):\r\n",
        "    rands.append(random.randrange(0, 101))\r\n",
        "\r\n",
        "print(rands)    "
      ],
      "execution_count": 11,
      "outputs": [
        {
          "output_type": "stream",
          "text": [
            "[17, 72, 97, 8, 32, 15, 63, 97, 57, 60]\n"
          ],
          "name": "stdout"
        }
      ]
    },
    {
      "cell_type": "code",
      "metadata": {
        "colab": {
          "base_uri": "https://localhost:8080/"
        },
        "id": "fc7RL1RZdasp",
        "outputId": "79cf6c2a-a95a-46a5-acd0-f6dc7cf6964c"
      },
      "source": [
        "random.seed(1)\r\n",
        "rands = [random.randrange(0, 101) for _ in range(10)]\r\n",
        "print(rands)"
      ],
      "execution_count": 12,
      "outputs": [
        {
          "output_type": "stream",
          "text": [
            "[17, 72, 97, 8, 32, 15, 63, 97, 57, 60]\n"
          ],
          "name": "stdout"
        }
      ]
    },
    {
      "cell_type": "markdown",
      "metadata": {
        "id": "_sLKYdN8eMsb"
      },
      "source": [
        "## if 문장이 list comprehension 함께 사용되는 경우"
      ]
    },
    {
      "cell_type": "markdown",
      "metadata": {
        "id": "s7Hm0t97eXif"
      },
      "source": [
        "1 ~ 10까지 정수들 중에서 짝수들을 리스트에 추가"
      ]
    },
    {
      "cell_type": "code",
      "metadata": {
        "colab": {
          "base_uri": "https://localhost:8080/"
        },
        "id": "xvmk8loFefH9",
        "outputId": "43983381-7f72-4e96-f7b4-8f697cc84227"
      },
      "source": [
        "evens = []\r\n",
        "for x in range(1, 11):\r\n",
        "    if x % 2 == 0:\r\n",
        "        evens.append(x)\r\n",
        "\r\n",
        "print(evens)"
      ],
      "execution_count": 13,
      "outputs": [
        {
          "output_type": "stream",
          "text": [
            "[2, 4, 6, 8, 10]\n"
          ],
          "name": "stdout"
        }
      ]
    },
    {
      "cell_type": "code",
      "metadata": {
        "colab": {
          "base_uri": "https://localhost:8080/"
        },
        "id": "54TIkcBge1y_",
        "outputId": "045b0745-95cd-458e-f025-a38d967809a5"
      },
      "source": [
        "evens = [x for x in range(1, 11) if x % 2 == 0]\r\n",
        "print(evens)"
      ],
      "execution_count": 14,
      "outputs": [
        {
          "output_type": "stream",
          "text": [
            "[2, 4, 6, 8, 10]\n"
          ],
          "name": "stdout"
        }
      ]
    },
    {
      "cell_type": "code",
      "metadata": {
        "colab": {
          "base_uri": "https://localhost:8080/"
        },
        "id": "ImoKRAeEfz8n",
        "outputId": "c090197a-56a9-4c5d-dac4-f4ef7099a5db"
      },
      "source": [
        "print(rands)"
      ],
      "execution_count": 15,
      "outputs": [
        {
          "output_type": "stream",
          "text": [
            "[17, 72, 97, 8, 32, 15, 63, 97, 57, 60]\n"
          ],
          "name": "stdout"
        }
      ]
    },
    {
      "cell_type": "markdown",
      "metadata": {
        "id": "5cgcE5zyfbA6"
      },
      "source": [
        "난수 10개를 저장하고 있는 리스트 rands에서 짝수들로만 이루어진 새로운 리스트를 만들고 출력."
      ]
    },
    {
      "cell_type": "code",
      "metadata": {
        "colab": {
          "base_uri": "https://localhost:8080/"
        },
        "id": "zNK1FKC7fsKn",
        "outputId": "6e4f95d5-d7e1-4bd6-e782-302fda6625cf"
      },
      "source": [
        "evens = []\r\n",
        "for x in rands:\r\n",
        "    if x % 2 == 0:\r\n",
        "        evens.append(x)\r\n",
        "print(evens)   "
      ],
      "execution_count": 16,
      "outputs": [
        {
          "output_type": "stream",
          "text": [
            "[72, 8, 32, 60]\n"
          ],
          "name": "stdout"
        }
      ]
    },
    {
      "cell_type": "code",
      "metadata": {
        "colab": {
          "base_uri": "https://localhost:8080/"
        },
        "id": "n4CEa2atkcqg",
        "outputId": "5cde9732-e850-4590-d5c4-4cc344642150"
      },
      "source": [
        "evens = [x for x in rands if x % 2 == 0]\r\n",
        "print(evens)"
      ],
      "execution_count": 17,
      "outputs": [
        {
          "output_type": "stream",
          "text": [
            "[72, 8, 32, 60]\n"
          ],
          "name": "stdout"
        }
      ]
    },
    {
      "cell_type": "markdown",
      "metadata": {
        "id": "AWUV55UdfswH"
      },
      "source": [
        "난수 10개를 저장하고 있는 리스트 rands에서 홀수들로만 이루어진 새로운 리스트를 만들고 출력."
      ]
    },
    {
      "cell_type": "code",
      "metadata": {
        "colab": {
          "base_uri": "https://localhost:8080/"
        },
        "id": "f97gyUZXfwoH",
        "outputId": "a5888c60-152f-4845-bc18-89b4f4ee1e04"
      },
      "source": [
        "odds = [x for x in rands if x % 2]\r\n",
        "print(odds)"
      ],
      "execution_count": 18,
      "outputs": [
        {
          "output_type": "stream",
          "text": [
            "[17, 97, 15, 63, 97, 57]\n"
          ],
          "name": "stdout"
        }
      ]
    },
    {
      "cell_type": "code",
      "metadata": {
        "colab": {
          "base_uri": "https://localhost:8080/"
        },
        "id": "ZQlYo-mYlmoR",
        "outputId": "df2daea0-f0cc-4f0d-ef23-4b860c021cd2"
      },
      "source": [
        "x = 2\r\n",
        "if x % 2 == 0:\r\n",
        "    is_even = True\r\n",
        "else:\r\n",
        "    is_even = False\r\n",
        "\r\n",
        "print(is_even)"
      ],
      "execution_count": 20,
      "outputs": [
        {
          "output_type": "stream",
          "text": [
            "True\n"
          ],
          "name": "stdout"
        }
      ]
    },
    {
      "cell_type": "code",
      "metadata": {
        "colab": {
          "base_uri": "https://localhost:8080/"
        },
        "id": "FWsk_UovmGYI",
        "outputId": "f268bc21-4dd7-4b2b-fbb8-547639799883"
      },
      "source": [
        "x = 2\r\n",
        "is_even = True if x % 2 == 0 else False\r\n",
        "# (조건식이 참일 때 저장할 값) if (조건식) else (조건식이 거짓일 때 저장할 값)\r\n",
        "print(is_even)"
      ],
      "execution_count": 23,
      "outputs": [
        {
          "output_type": "stream",
          "text": [
            "True\n"
          ],
          "name": "stdout"
        }
      ]
    },
    {
      "cell_type": "code",
      "metadata": {
        "colab": {
          "base_uri": "https://localhost:8080/"
        },
        "id": "xpT-oxx-naNI",
        "outputId": "bc7ef8de-b236-4383-ca53-84df15f6d15b"
      },
      "source": [
        "print(rands)"
      ],
      "execution_count": 24,
      "outputs": [
        {
          "output_type": "stream",
          "text": [
            "[17, 72, 97, 8, 32, 15, 63, 97, 57, 60]\n"
          ],
          "name": "stdout"
        }
      ]
    },
    {
      "cell_type": "markdown",
      "metadata": {
        "id": "bRkt_HUknHb5"
      },
      "source": [
        "10개의 난수를 저장하고 있는 리스트 rands의 값이 짝수이면 True, 홀수이면 False 저장하는 새로운 리스트를 생성\r\n",
        "```\r\n",
        "[False, True, False, True, True, ...]\r\n",
        "```"
      ]
    },
    {
      "cell_type": "code",
      "metadata": {
        "colab": {
          "base_uri": "https://localhost:8080/"
        },
        "id": "sPJWZQfgnGIx",
        "outputId": "b2d408be-c512-4591-a2c2-5c4c3e34854e"
      },
      "source": [
        "is_even = []\r\n",
        "for x in rands:\r\n",
        "    if x % 2 == 0:\r\n",
        "        is_even.append(True)\r\n",
        "    else:\r\n",
        "        is_even.append(False)\r\n",
        "\r\n",
        "print(is_even)"
      ],
      "execution_count": 25,
      "outputs": [
        {
          "output_type": "stream",
          "text": [
            "[False, True, False, True, True, False, False, False, False, True]\n"
          ],
          "name": "stdout"
        }
      ]
    },
    {
      "cell_type": "code",
      "metadata": {
        "colab": {
          "base_uri": "https://localhost:8080/"
        },
        "id": "qcogLoyrpN1C",
        "outputId": "eddb69bc-ec03-46fd-8942-369518e1205f"
      },
      "source": [
        "is_even = [True if x % 2 == 0 else False for x in rands]\r\n",
        "print(is_even)"
      ],
      "execution_count": 26,
      "outputs": [
        {
          "output_type": "stream",
          "text": [
            "[False, True, False, True, True, False, False, False, False, True]\n"
          ],
          "name": "stdout"
        }
      ]
    },
    {
      "cell_type": "code",
      "metadata": {
        "colab": {
          "base_uri": "https://localhost:8080/"
        },
        "id": "Jmo8ee0tqPc5",
        "outputId": "f8c4eca4-8536-4a77-ea51-2aee65f235b6"
      },
      "source": [
        "x = 0\r\n",
        "if x > 0:\r\n",
        "    result = 'positive'\r\n",
        "elif x < 0:\r\n",
        "    result = 'negative'\r\n",
        "else:\r\n",
        "    result = 'zero'\r\n",
        "\r\n",
        "print(result)"
      ],
      "execution_count": 29,
      "outputs": [
        {
          "output_type": "stream",
          "text": [
            "zero\n"
          ],
          "name": "stdout"
        }
      ]
    },
    {
      "cell_type": "code",
      "metadata": {
        "colab": {
          "base_uri": "https://localhost:8080/"
        },
        "id": "-CLBen86qb7i",
        "outputId": "a395763b-9b5f-4a7f-eb50-bb9a3440f9e9"
      },
      "source": [
        "x = 0\r\n",
        "result = 'positive' if x > 0 else 'negative' if x < 0 else 'zero'\r\n",
        "# 값1 if 조건식 else 값2\r\n",
        "print(result)"
      ],
      "execution_count": 32,
      "outputs": [
        {
          "output_type": "stream",
          "text": [
            "zero\n"
          ],
          "name": "stdout"
        }
      ]
    },
    {
      "cell_type": "code",
      "metadata": {
        "id": "tQGxykVFrCoH"
      },
      "source": [
        "# 0 또는 1을 무작위로 10개 저장하는 리스트 gender1을 생성\r\n",
        "\r\n",
        "# gender1의 원소의 값이 0이면 'male', 1이면 'female'을 갖는 리스트 gender2를 생성\r\n"
      ],
      "execution_count": null,
      "outputs": []
    }
  ]
}