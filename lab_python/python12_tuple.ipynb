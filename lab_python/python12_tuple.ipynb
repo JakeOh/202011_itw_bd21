{
  "nbformat": 4,
  "nbformat_minor": 0,
  "metadata": {
    "colab": {
      "name": "python12_tuple.ipynb",
      "provenance": [],
      "collapsed_sections": [],
      "authorship_tag": "ABX9TyM9eRDNQjJHSRWvRxt7PUCE",
      "include_colab_link": true
    },
    "kernelspec": {
      "name": "python3",
      "display_name": "Python 3"
    }
  },
  "cells": [
    {
      "cell_type": "markdown",
      "metadata": {
        "id": "view-in-github",
        "colab_type": "text"
      },
      "source": [
        "<a href=\"https://colab.research.google.com/github/JakeOh/202011_itw_bd21/blob/main/lab_python/python12_tuple.ipynb\" target=\"_parent\"><img src=\"https://colab.research.google.com/assets/colab-badge.svg\" alt=\"Open In Colab\"/></a>"
      ]
    },
    {
      "cell_type": "markdown",
      "metadata": {
        "id": "SjgBtpKl6p9X"
      },
      "source": [
        "# tuple"
      ]
    },
    {
      "cell_type": "markdown",
      "metadata": {
        "id": "ZDaNqfcd6vN2"
      },
      "source": [
        "**tuple**\r\n",
        "\r\n",
        "* 원소들을 변경할 수 없는 리스트\r\n",
        "* 인덱스(index)를 사용해서 원소를 접근할 수 있음.\r\n",
        "* append(), insert(), extend(), remove(), pop()와 같은 기능(메서드)들은 제공되지 않음."
      ]
    },
    {
      "cell_type": "code",
      "metadata": {
        "colab": {
          "base_uri": "https://localhost:8080/"
        },
        "id": "OjkhP3396aKT",
        "outputId": "ca5ec1be-bf7a-40fe-9afd-654414b3c85d"
      },
      "source": [
        "numbers = (1, 2, 3, 4, 5)\r\n",
        "print(numbers)\r\n",
        "print(type(numbers))\r\n",
        "# []: 인덱스 연산자\r\n",
        "print(numbers[0])\r\n",
        "print(numbers[-1])"
      ],
      "execution_count": 4,
      "outputs": [
        {
          "output_type": "stream",
          "text": [
            "(1, 2, 3, 4, 5)\n",
            "<class 'tuple'>\n",
            "1\n",
            "5\n"
          ],
          "name": "stdout"
        }
      ]
    },
    {
      "cell_type": "markdown",
      "metadata": {
        "id": "LX44qQVJ_4IB"
      },
      "source": [
        "## tuple slicing"
      ]
    },
    {
      "cell_type": "code",
      "metadata": {
        "colab": {
          "base_uri": "https://localhost:8080/"
        },
        "id": "s5dATSbS_7sI",
        "outputId": "36eb8762-e8ff-4de6-ea03-42e4efb61aef"
      },
      "source": [
        "print(numbers[1:3])"
      ],
      "execution_count": 5,
      "outputs": [
        {
          "output_type": "stream",
          "text": [
            "(2, 3)\n"
          ],
          "name": "stdout"
        }
      ]
    },
    {
      "cell_type": "code",
      "metadata": {
        "colab": {
          "base_uri": "https://localhost:8080/"
        },
        "id": "1p3SDKZoAnsx",
        "outputId": "4ac34118-7970-468d-83b7-5cf493bf9695"
      },
      "source": [
        "print(numbers[:3])"
      ],
      "execution_count": 6,
      "outputs": [
        {
          "output_type": "stream",
          "text": [
            "(1, 2, 3)\n"
          ],
          "name": "stdout"
        }
      ]
    },
    {
      "cell_type": "code",
      "metadata": {
        "colab": {
          "base_uri": "https://localhost:8080/"
        },
        "id": "CxRWFFBhAsMd",
        "outputId": "00da3164-8cef-414b-a80a-3d9a0630bd37"
      },
      "source": [
        "print(numbers[3:])"
      ],
      "execution_count": 7,
      "outputs": [
        {
          "output_type": "stream",
          "text": [
            "(4, 5)\n"
          ],
          "name": "stdout"
        }
      ]
    },
    {
      "cell_type": "code",
      "metadata": {
        "colab": {
          "base_uri": "https://localhost:8080/"
        },
        "id": "_AqSaaPgAzIG",
        "outputId": "71decbe7-7d27-4868-ca43-4bb012e00ce6"
      },
      "source": [
        "print(numbers[-1:])  #> tuple slicing의 결과: tuple."
      ],
      "execution_count": 8,
      "outputs": [
        {
          "output_type": "stream",
          "text": [
            "(5,)\n"
          ],
          "name": "stdout"
        }
      ]
    },
    {
      "cell_type": "code",
      "metadata": {
        "colab": {
          "base_uri": "https://localhost:8080/",
          "height": 195
        },
        "id": "yjecRLGFBgRu",
        "outputId": "879cb7a9-bfd2-4d5f-eda4-b7e9539658df"
      },
      "source": [
        "numbers[0] = 100\r\n",
        "#> tuple은 변경 불가능하기 때문에, 원소의 값을 바꾸려고 하면 에러가 발생됨."
      ],
      "execution_count": 10,
      "outputs": [
        {
          "output_type": "error",
          "ename": "TypeError",
          "evalue": "ignored",
          "traceback": [
            "\u001b[0;31m---------------------------------------------------------------------------\u001b[0m",
            "\u001b[0;31mTypeError\u001b[0m                                 Traceback (most recent call last)",
            "\u001b[0;32m<ipython-input-10-1f618eefd498>\u001b[0m in \u001b[0;36m<module>\u001b[0;34m()\u001b[0m\n\u001b[0;32m----> 1\u001b[0;31m \u001b[0mnumbers\u001b[0m\u001b[0;34m[\u001b[0m\u001b[0;36m0\u001b[0m\u001b[0;34m]\u001b[0m \u001b[0;34m=\u001b[0m \u001b[0;36m100\u001b[0m\u001b[0;34m\u001b[0m\u001b[0;34m\u001b[0m\u001b[0m\n\u001b[0m",
            "\u001b[0;31mTypeError\u001b[0m: 'tuple' object does not support item assignment"
          ]
        }
      ]
    },
    {
      "cell_type": "markdown",
      "metadata": {
        "id": "UPChbgNICLr1"
      },
      "source": [
        "tuple과 for loop"
      ]
    },
    {
      "cell_type": "code",
      "metadata": {
        "colab": {
          "base_uri": "https://localhost:8080/"
        },
        "id": "EU_8FOHcCKg1",
        "outputId": "dbac0348-deb8-48b7-be20-f9fd5291900a"
      },
      "source": [
        "print(numbers)\r\n",
        "for x in numbers:\r\n",
        "    print(x)"
      ],
      "execution_count": 13,
      "outputs": [
        {
          "output_type": "stream",
          "text": [
            "(1, 2, 3, 4, 5)\n",
            "1\n",
            "2\n",
            "3\n",
            "4\n",
            "5\n"
          ],
          "name": "stdout"
        }
      ]
    },
    {
      "cell_type": "code",
      "metadata": {
        "colab": {
          "base_uri": "https://localhost:8080/"
        },
        "id": "pVJpIMfJC9Nm",
        "outputId": "d90ce8a3-0081-4e75-a599-d2467f0948ea"
      },
      "source": [
        "num_list = [x for x in range(10)]  # list comprehension\r\n",
        "print(num_list)"
      ],
      "execution_count": 14,
      "outputs": [
        {
          "output_type": "stream",
          "text": [
            "[0, 1, 2, 3, 4, 5, 6, 7, 8, 9]\n"
          ],
          "name": "stdout"
        }
      ]
    },
    {
      "cell_type": "code",
      "metadata": {
        "colab": {
          "base_uri": "https://localhost:8080/",
          "height": 277
        },
        "id": "hn1oFvUgDIe2",
        "outputId": "589aaba9-2174-4a50-8cb9-b36841c6a13f"
      },
      "source": [
        "# empty_tuple = tuple()\r\n",
        "empty_tuple = ()\r\n",
        "for x in range(10):\r\n",
        "    empty_tuple.append(x)\r\n",
        "    #> tuple은 append() 메서드가 없음!\r\n",
        "\r\n",
        "print(empty_tuple)"
      ],
      "execution_count": 19,
      "outputs": [
        {
          "output_type": "error",
          "ename": "AttributeError",
          "evalue": "ignored",
          "traceback": [
            "\u001b[0;31m---------------------------------------------------------------------------\u001b[0m",
            "\u001b[0;31mAttributeError\u001b[0m                            Traceback (most recent call last)",
            "\u001b[0;32m<ipython-input-19-b7722aeda471>\u001b[0m in \u001b[0;36m<module>\u001b[0;34m()\u001b[0m\n\u001b[1;32m      2\u001b[0m \u001b[0mempty_tuple\u001b[0m \u001b[0;34m=\u001b[0m \u001b[0;34m(\u001b[0m\u001b[0;34m)\u001b[0m\u001b[0;34m\u001b[0m\u001b[0;34m\u001b[0m\u001b[0m\n\u001b[1;32m      3\u001b[0m \u001b[0;32mfor\u001b[0m \u001b[0mx\u001b[0m \u001b[0;32min\u001b[0m \u001b[0mrange\u001b[0m\u001b[0;34m(\u001b[0m\u001b[0;36m10\u001b[0m\u001b[0;34m)\u001b[0m\u001b[0;34m:\u001b[0m\u001b[0;34m\u001b[0m\u001b[0;34m\u001b[0m\u001b[0m\n\u001b[0;32m----> 4\u001b[0;31m     \u001b[0mempty_tuple\u001b[0m\u001b[0;34m.\u001b[0m\u001b[0mappend\u001b[0m\u001b[0;34m(\u001b[0m\u001b[0mx\u001b[0m\u001b[0;34m)\u001b[0m\u001b[0;34m\u001b[0m\u001b[0;34m\u001b[0m\u001b[0m\n\u001b[0m\u001b[1;32m      5\u001b[0m \u001b[0;34m\u001b[0m\u001b[0m\n\u001b[1;32m      6\u001b[0m \u001b[0mprint\u001b[0m\u001b[0;34m(\u001b[0m\u001b[0mempty_tuple\u001b[0m\u001b[0;34m)\u001b[0m\u001b[0;34m\u001b[0m\u001b[0;34m\u001b[0m\u001b[0m\n",
            "\u001b[0;31mAttributeError\u001b[0m: 'tuple' object has no attribute 'append'"
          ]
        }
      ]
    },
    {
      "cell_type": "markdown",
      "metadata": {
        "id": "Pzpq1huAEGcW"
      },
      "source": [
        "## tuple decomposition(분해)"
      ]
    },
    {
      "cell_type": "code",
      "metadata": {
        "colab": {
          "base_uri": "https://localhost:8080/"
        },
        "id": "hn9ZbTknET4f",
        "outputId": "1ad8b928-55e1-401d-fa4f-affe456254f6"
      },
      "source": [
        "one, two = (1, 2)\r\n",
        "print(one)\r\n",
        "print(two)"
      ],
      "execution_count": 20,
      "outputs": [
        {
          "output_type": "stream",
          "text": [
            "1\n",
            "2\n"
          ],
          "name": "stdout"
        }
      ]
    },
    {
      "cell_type": "code",
      "metadata": {
        "colab": {
          "base_uri": "https://localhost:8080/"
        },
        "id": "9GKDN_3uExLt",
        "outputId": "e021e96f-6ec8-41cc-c251-3efd56ad9509"
      },
      "source": [
        "# list decomposition\r\n",
        "gender1, gender2 = ['male', 'female']\r\n",
        "print(gender1)\r\n",
        "print(gender2)"
      ],
      "execution_count": 21,
      "outputs": [
        {
          "output_type": "stream",
          "text": [
            "male\n",
            "female\n"
          ],
          "name": "stdout"
        }
      ]
    },
    {
      "cell_type": "code",
      "metadata": {
        "colab": {
          "base_uri": "https://localhost:8080/"
        },
        "id": "grxoj677FIA2",
        "outputId": "4743efdf-efcd-4ee8-90d8-82c08e0096c0"
      },
      "source": [
        "numbers = [1, 3, 2, 4, 10]\r\n",
        "for index, value in enumerate(numbers):\r\n",
        "    print(index, ':', value)"
      ],
      "execution_count": 22,
      "outputs": [
        {
          "output_type": "stream",
          "text": [
            "0 : 1\n",
            "1 : 3\n",
            "2 : 2\n",
            "3 : 4\n",
            "4 : 10\n"
          ],
          "name": "stdout"
        }
      ]
    }
  ]
}