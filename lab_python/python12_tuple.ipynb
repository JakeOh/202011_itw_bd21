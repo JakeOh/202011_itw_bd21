{
  "nbformat": 4,
  "nbformat_minor": 0,
  "metadata": {
    "colab": {
      "name": "python12_tuple.ipynb",
      "provenance": [],
      "collapsed_sections": [],
      "authorship_tag": "ABX9TyNPw6roYybClHGro9y+w0u3",
      "include_colab_link": true
    },
    "kernelspec": {
      "name": "python3",
      "display_name": "Python 3"
    }
  },
  "cells": [
    {
      "cell_type": "markdown",
      "metadata": {
        "id": "view-in-github",
        "colab_type": "text"
      },
      "source": [
        "<a href=\"https://colab.research.google.com/github/JakeOh/202011_itw_bd21/blob/main/lab_python/python12_tuple.ipynb\" target=\"_parent\"><img src=\"https://colab.research.google.com/assets/colab-badge.svg\" alt=\"Open In Colab\"/></a>"
      ]
    },
    {
      "cell_type": "markdown",
      "metadata": {
        "id": "SjgBtpKl6p9X"
      },
      "source": [
        "# tuple"
      ]
    },
    {
      "cell_type": "markdown",
      "metadata": {
        "id": "ZDaNqfcd6vN2"
      },
      "source": [
        "**tuple**\r\n",
        "\r\n",
        "* 원소들을 변경할 수 없는 리스트\r\n",
        "* 인덱스(index)를 사용해서 원소를 접근할 수 있음.\r\n",
        "* append(), insert(), extend(), remove(), pop()와 같은 기능(메서드)들은 제공되지 않음."
      ]
    },
    {
      "cell_type": "code",
      "metadata": {
        "colab": {
          "base_uri": "https://localhost:8080/"
        },
        "id": "OjkhP3396aKT",
        "outputId": "ca5ec1be-bf7a-40fe-9afd-654414b3c85d"
      },
      "source": [
        "numbers = (1, 2, 3, 4, 5)\r\n",
        "print(numbers)\r\n",
        "print(type(numbers))\r\n",
        "print(numbers[0])\r\n",
        "print(numbers[-1])"
      ],
      "execution_count": 4,
      "outputs": [
        {
          "output_type": "stream",
          "text": [
            "(1, 2, 3, 4, 5)\n",
            "<class 'tuple'>\n",
            "1\n",
            "5\n"
          ],
          "name": "stdout"
        }
      ]
    }
  ]
}