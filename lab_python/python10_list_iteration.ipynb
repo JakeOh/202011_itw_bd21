{
  "nbformat": 4,
  "nbformat_minor": 0,
  "metadata": {
    "colab": {
      "name": "python10_list_iteration.ipynb",
      "provenance": [],
      "collapsed_sections": [],
      "authorship_tag": "ABX9TyPOddHkowLJbCbk6+ky6R3l",
      "include_colab_link": true
    },
    "kernelspec": {
      "name": "python3",
      "display_name": "Python 3"
    }
  },
  "cells": [
    {
      "cell_type": "markdown",
      "metadata": {
        "id": "view-in-github",
        "colab_type": "text"
      },
      "source": [
        "<a href=\"https://colab.research.google.com/github/JakeOh/202011_itw_bd21/blob/main/lab_python/python10_list_iteration.ipynb\" target=\"_parent\"><img src=\"https://colab.research.google.com/assets/colab-badge.svg\" alt=\"Open In Colab\"/></a>"
      ]
    },
    {
      "cell_type": "code",
      "metadata": {
        "id": "5fD8f3-Zhuo4"
      },
      "source": [
        "# 난수를 사용하기 위해 필요한 모듈을 import\r\n",
        "import random"
      ],
      "execution_count": 1,
      "outputs": []
    },
    {
      "cell_type": "code",
      "metadata": {
        "colab": {
          "base_uri": "https://localhost:8080/"
        },
        "id": "z12FRTWziNdL",
        "outputId": "3d7cd46e-6282-43d9-ec4d-b0c547c930bf"
      },
      "source": [
        "# 빈 리스트(empty list) 생성\r\n",
        "# scores = list()\r\n",
        "scores = []\r\n",
        "print(scores)"
      ],
      "execution_count": 8,
      "outputs": [
        {
          "output_type": "stream",
          "text": [
            "[]\n"
          ],
          "name": "stdout"
        }
      ]
    },
    {
      "cell_type": "code",
      "metadata": {
        "colab": {
          "base_uri": "https://localhost:8080/"
        },
        "id": "pdIAvHnDixQM",
        "outputId": "cee2e547-fd10-4f55-b1cc-3a54b5576f1a"
      },
      "source": [
        "# 리스트 scores에 0 이상 100 이하의 정수 난수 5개를 추가\r\n",
        "# random.randrange(start, stop) 함수 사용.\r\n",
        "# list.append() 메서드 사용.\r\n",
        "\r\n",
        "for _ in range(5):\r\n",
        "    # s = random.randrange(0, 101)\r\n",
        "    # scores.append(s)\r\n",
        "    scores.append(random.randrange(0, 101))\r\n",
        "\r\n",
        "print(scores)"
      ],
      "execution_count": 9,
      "outputs": [
        {
          "output_type": "stream",
          "text": [
            "[80, 37, 15, 28, 47]\n"
          ],
          "name": "stdout"
        }
      ]
    },
    {
      "cell_type": "code",
      "metadata": {
        "colab": {
          "base_uri": "https://localhost:8080/"
        },
        "id": "8Jk-k-njl1nk",
        "outputId": "0f89f026-a529-415a-9b07-b7eb617a62f8"
      },
      "source": [
        "# 리스트 scores에 저장된 값들의 합계(총점)\r\n",
        "total = 0  # 총점을 저장할 변수\r\n",
        "for s in scores:\r\n",
        "    # total = total + s\r\n",
        "    total += s\r\n",
        "\r\n",
        "print(f'총점 = {total}')"
      ],
      "execution_count": 11,
      "outputs": [
        {
          "output_type": "stream",
          "text": [
            "총점 = 207\n"
          ],
          "name": "stdout"
        }
      ]
    },
    {
      "cell_type": "code",
      "metadata": {
        "colab": {
          "base_uri": "https://localhost:8080/"
        },
        "id": "wSnP0yOeopJE",
        "outputId": "d72dab92-9f12-418f-b35b-8521d631e69c"
      },
      "source": [
        "# 리스트 scores에 저장된 값들의 평균\r\n",
        "average = total / len(scores)\r\n",
        "print(f'평균 = {average}')"
      ],
      "execution_count": 12,
      "outputs": [
        {
          "output_type": "stream",
          "text": [
            "평균 = 41.4\n"
          ],
          "name": "stdout"
        }
      ]
    },
    {
      "cell_type": "code",
      "metadata": {
        "colab": {
          "base_uri": "https://localhost:8080/"
        },
        "id": "OzgEeJ8JtSSr",
        "outputId": "69054f13-4464-46e2-8f0a-22dd31e8488c"
      },
      "source": [
        "# 리스트 scores에 저장된 값들의 분산(variance)\r\n",
        "# 분산 = 각 점수에서 평균을 뺀 값의 제곱들의 평균\r\n",
        "\r\n",
        "# 각 점수에서 평균을 뺀 값을 제곱해서 누적해 나갈 변수\r\n",
        "sum_of_squares = 0\r\n",
        "for s in scores:\r\n",
        "    sum_of_squares += (s - average) ** 2\r\n",
        "\r\n",
        "variance = sum_of_squares / len(scores)\r\n",
        "print(f'분산 = {variance}')"
      ],
      "execution_count": 13,
      "outputs": [
        {
          "output_type": "stream",
          "text": [
            "분산 = 483.43999999999994\n"
          ],
          "name": "stdout"
        }
      ]
    },
    {
      "cell_type": "code",
      "metadata": {
        "id": "EMNuJ9u6wKE7"
      },
      "source": [
        "import math  # 수학 함수들이 정의되어 있는 모듈"
      ],
      "execution_count": 14,
      "outputs": []
    },
    {
      "cell_type": "code",
      "metadata": {
        "colab": {
          "base_uri": "https://localhost:8080/"
        },
        "id": "YbDXNorFwcUd",
        "outputId": "6217c27f-1f61-4ed6-8cde-7ade15f6d191"
      },
      "source": [
        "# 표준편차(standard deviation) = sqrt(분산)\r\n",
        "std_dev = math.sqrt(variance)\r\n",
        "print(f'표준편차 = {std_dev}')"
      ],
      "execution_count": 15,
      "outputs": [
        {
          "output_type": "stream",
          "text": [
            "표준편차 = 21.987269043698902\n"
          ],
          "name": "stdout"
        }
      ]
    },
    {
      "cell_type": "code",
      "metadata": {
        "colab": {
          "base_uri": "https://localhost:8080/"
        },
        "id": "vRA1uIRGxaZc",
        "outputId": "86a13c84-dd17-4ea6-db24-f4fb6499a963"
      },
      "source": [
        "# 리스트 scores의 값들 중에서 최댓값 찾기\r\n",
        "print(scores)\r\n",
        "\r\n",
        "# 1. 리스트의 첫번째 값을 최댓값이라고 가정.\r\n",
        "max_score = scores[0]\r\n",
        "\r\n",
        "# 2. 리스트의 원소들을 하나씩 꺼내면서\r\n",
        "for s in scores:\r\n",
        "    # 3. 리스트의 원소가 가정한 최댓값보다 더 크다면, 찾은 값을 최댓값으로 저장.\r\n",
        "    if s > max_score:\r\n",
        "        max_score = s\r\n",
        "    # 2~3 과정을 리스트의 전체 원소들에 대해서 반복.\r\n",
        "\r\n",
        "print(f'최댓값 = {max_score}')"
      ],
      "execution_count": 17,
      "outputs": [
        {
          "output_type": "stream",
          "text": [
            "[80, 37, 15, 28, 47]\n",
            "최댓값 = 80\n"
          ],
          "name": "stdout"
        }
      ]
    },
    {
      "cell_type": "code",
      "metadata": {
        "id": "yahvskhg1MXO"
      },
      "source": [
        "# 리스트 scores의 값들 중에서 최솟값 찾기\r\n",
        "print(scores)\r\n",
        "\r\n"
      ],
      "execution_count": null,
      "outputs": []
    }
  ]
}