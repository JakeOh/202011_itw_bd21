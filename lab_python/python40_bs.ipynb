{
  "nbformat": 4,
  "nbformat_minor": 0,
  "metadata": {
    "colab": {
      "name": "python40_bs.ipynb",
      "provenance": [],
      "collapsed_sections": [],
      "authorship_tag": "ABX9TyOAqQol8BNaMNwWCgaeif/D",
      "include_colab_link": true
    },
    "kernelspec": {
      "name": "python3",
      "display_name": "Python 3"
    }
  },
  "cells": [
    {
      "cell_type": "markdown",
      "metadata": {
        "id": "view-in-github",
        "colab_type": "text"
      },
      "source": [
        "<a href=\"https://colab.research.google.com/github/JakeOh/202011_itw_bd21/blob/main/lab_python/python40_bs.ipynb\" target=\"_parent\"><img src=\"https://colab.research.google.com/assets/colab-badge.svg\" alt=\"Open In Colab\"/></a>"
      ]
    },
    {
      "cell_type": "markdown",
      "metadata": {
        "id": "5cKzx8ukIuuN"
      },
      "source": [
        "# [BeautifulSoup](https://www.crummy.com/software/BeautifulSoup/bs4/doc/)"
      ]
    },
    {
      "cell_type": "code",
      "metadata": {
        "id": "t6-uxowPIkCo"
      },
      "source": [
        "from bs4 import BeautifulSoup\r\n",
        "# bs4 모듈에서 BeautifulSoup 클래스를 메모리 로드(import)"
      ],
      "execution_count": 1,
      "outputs": []
    },
    {
      "cell_type": "markdown",
      "metadata": {
        "id": "Tqa6jzl8KJDj"
      },
      "source": [
        "0. Colab 현재 작업 디렉토리에 HTML 파일들을 업로드"
      ]
    },
    {
      "cell_type": "markdown",
      "metadata": {
        "id": "1qV-eOtILJPN"
      },
      "source": [
        "1. HTML 문서를 open"
      ]
    },
    {
      "cell_type": "code",
      "metadata": {
        "id": "YLfz95qUJWCt"
      },
      "source": [
        "f = open('web01.html', mode='r')"
      ],
      "execution_count": 2,
      "outputs": []
    },
    {
      "cell_type": "markdown",
      "metadata": {
        "id": "FOLPo5AdLPdc"
      },
      "source": [
        "2. BeautifulSoup 클래스의 인스턴스를 생성 <- 생성자 함수 호출"
      ]
    },
    {
      "cell_type": "code",
      "metadata": {
        "id": "OKmfRHJsK8Mq"
      },
      "source": [
        "soup = BeautifulSoup(markup=f, features='html.parser') \r\n",
        "# markup: open된 HTML 파일 객체\r\n",
        "# feature: HTML 문서를 분석(parse)할 수 있는 라이브러리 이름."
      ],
      "execution_count": 3,
      "outputs": []
    },
    {
      "cell_type": "code",
      "metadata": {
        "colab": {
          "base_uri": "https://localhost:8080/"
        },
        "id": "WpELd8s6MyQc",
        "outputId": "6594a7ff-3099-402b-c7f6-038f2c35ac7e"
      },
      "source": [
        "type(soup)"
      ],
      "execution_count": 4,
      "outputs": [
        {
          "output_type": "execute_result",
          "data": {
            "text/plain": [
              "bs4.BeautifulSoup"
            ]
          },
          "metadata": {
            "tags": []
          },
          "execution_count": 4
        }
      ]
    },
    {
      "cell_type": "code",
      "metadata": {
        "colab": {
          "base_uri": "https://localhost:8080/"
        },
        "id": "YTj3MV4rM7vs",
        "outputId": "30bb9f98-0982-4802-df93-541fd40486ca"
      },
      "source": [
        "soup\r\n",
        "# BeautifuouSoup.__repr__() 메서드는 분석(parsing)한 HTML 문서의 내용을 문자열로 리턴."
      ],
      "execution_count": 5,
      "outputs": [
        {
          "output_type": "execute_result",
          "data": {
            "text/plain": [
              "<!DOCTYPE html>\n",
              "\n",
              "<!-- HTML 문서의 주석\n",
              "HTML 문서의 구조:\n",
              "    <tag attribute_name=\"attribute_value\">content</tag>\n",
              "Content가 없는 태그인 경우:\n",
              "    <tag attr_name=\"attr_val\" /> 또는\n",
              "    <tag attr_name=\"attr_val\">\n",
              "-->\n",
              "<html lang=\"en\">\n",
              "<head>\n",
              "<meta charset=\"utf-8\"/>\n",
              "<title>Web 1</title>\n",
              "</head>\n",
              "<body>\n",
              "<!-- h1 ~ h6: heading -->\n",
              "<h1>처음 만드는 HTML 파일</h1>\n",
              "<h2>HTML: HyperText Markup Language</h2>\n",
              "<!-- a(anchor): HTML 파일에서 링크 생성 -->\n",
              "<a href=\"https://www.daum.net/\">다음 카카오</a>\n",
              "<br/> <!-- br(line break): 줄바꿈 -->\n",
              "<a href=\"https://www.naver.com/\">네이버</a>\n",
              "<br/>\n",
              "<a href=\"https://www.google.com/\">\n",
              "<img src=\"googlelogo.png\" style=\"width: 100px;\"/>\n",
              "</a>\n",
              "<div>여기는 division입니다.<br/>\n",
              "    div는 여백(margin)이 없습니다.\n",
              "    </div>\n",
              "<p>여기는 <strong>paragraph</strong>입니다.<br/>\n",
              "    p는 <em>여백(margin)</em>이 있습니다.\n",
              "    </p>\n",
              "<!-- HTML 요소(태그)\n",
              "        1) block-level 요소(태그): 브라우저의 가로 길이 전체를 차지하는 태그\n",
              "            줄바꿈이 자동으로 생김.\n",
              "            <h1>, <h6>, <div>, <p>, <table>, <ul>, <li>, ...\n",
              "        2) inline 요소(태그): 컨텐츠의 가로 길이 크기만 차지하는 태그\n",
              "            줄바꿈이 자동으로 생기지 않음. 줄을 바꾸려면 <br>을 사용해야 함.\n",
              "            <a>, <img>, <span>, ...\n",
              "    -->\n",
              "</body>\n",
              "</html>"
            ]
          },
          "metadata": {
            "tags": []
          },
          "execution_count": 5
        }
      ]
    },
    {
      "cell_type": "markdown",
      "metadata": {
        "id": "SJ53c5dNOCgp"
      },
      "source": [
        "3. BeatifulSoup 객체를 사용해서 원하는 정보들을 추출."
      ]
    },
    {
      "cell_type": "code",
      "metadata": {
        "colab": {
          "base_uri": "https://localhost:8080/"
        },
        "id": "bgxjvg1-NyHm",
        "outputId": "7603c31f-ea41-414a-aae3-5e9ae1bb862d"
      },
      "source": [
        "# BS.find('HTML 태그 이름'): HTML 문서에서 argument로 전달한 태그 요소를 찾아서 리턴.\r\n",
        "element = soup.find(name='h1')\r\n",
        "element"
      ],
      "execution_count": 6,
      "outputs": [
        {
          "output_type": "execute_result",
          "data": {
            "text/plain": [
              "<h1>처음 만드는 HTML 파일</h1>"
            ]
          },
          "metadata": {
            "tags": []
          },
          "execution_count": 6
        }
      ]
    },
    {
      "cell_type": "code",
      "metadata": {
        "colab": {
          "base_uri": "https://localhost:8080/"
        },
        "id": "mh6xhje1PeU1",
        "outputId": "9a9e0484-ad05-40e2-eb8b-d9bf6e201fd2"
      },
      "source": [
        "soup.find(name='h2')"
      ],
      "execution_count": 7,
      "outputs": [
        {
          "output_type": "execute_result",
          "data": {
            "text/plain": [
              "<h2>HTML: HyperText Markup Language</h2>"
            ]
          },
          "metadata": {
            "tags": []
          },
          "execution_count": 7
        }
      ]
    },
    {
      "cell_type": "code",
      "metadata": {
        "colab": {
          "base_uri": "https://localhost:8080/"
        },
        "id": "gWr2_C6aPwFz",
        "outputId": "8f3096cd-b594-4457-eebc-bdaa386fb7c7"
      },
      "source": [
        "soup.find(name='a')\r\n",
        "# find 메서드는 문서에서 가장 먼저 등장하는 HTML 요소 하나를 찾아서 리턴."
      ],
      "execution_count": 8,
      "outputs": [
        {
          "output_type": "execute_result",
          "data": {
            "text/plain": [
              "<a href=\"https://www.daum.net/\">다음 카카오</a>"
            ]
          },
          "metadata": {
            "tags": []
          },
          "execution_count": 8
        }
      ]
    },
    {
      "cell_type": "code",
      "metadata": {
        "colab": {
          "base_uri": "https://localhost:8080/"
        },
        "id": "CfKQSEGgQR3b",
        "outputId": "6abc0168-4552-415a-9aa3-7012c76025d0"
      },
      "source": [
        "# find_all 메서드는 문서에 나오는 모든 HTML 요소를 찾아서 리스트로 리턴.\r\n",
        "elements = soup.find_all(name='a')\r\n",
        "elements"
      ],
      "execution_count": 9,
      "outputs": [
        {
          "output_type": "execute_result",
          "data": {
            "text/plain": [
              "[<a href=\"https://www.daum.net/\">다음 카카오</a>,\n",
              " <a href=\"https://www.naver.com/\">네이버</a>,\n",
              " <a href=\"https://www.google.com/\">\n",
              " <img src=\"googlelogo.png\" style=\"width: 100px;\"/>\n",
              " </a>]"
            ]
          },
          "metadata": {
            "tags": []
          },
          "execution_count": 9
        }
      ]
    },
    {
      "cell_type": "markdown",
      "metadata": {
        "id": "2WaI8WBgVgjU"
      },
      "source": [
        "HTML tag 요소의 텍스트(text) 또는 속성(attribute)의 값을 찾는 방법"
      ]
    },
    {
      "cell_type": "code",
      "metadata": {
        "colab": {
          "base_uri": "https://localhost:8080/"
        },
        "id": "RfidRh8MVpZM",
        "outputId": "0d452a35-735b-42a7-d236-331da201c9d7"
      },
      "source": [
        "link1 = soup.find('a')\r\n",
        "print(link1)  #> HTML tag element\r\n",
        "print(link1.text)  #> HTML tag 텍스트(start tag와 end tag 사이에 있는 문자열)\r\n",
        "print(link1.get(key='href'))  #> HTML tag의 'href' 속성의 값"
      ],
      "execution_count": 15,
      "outputs": [
        {
          "output_type": "stream",
          "text": [
            "<a href=\"https://www.daum.net/\">다음 카카오</a>\n",
            "다음 카카오\n",
            "https://www.daum.net/\n"
          ],
          "name": "stdout"
        }
      ]
    },
    {
      "cell_type": "code",
      "metadata": {
        "colab": {
          "base_uri": "https://localhost:8080/"
        },
        "id": "kZj-XBqSW-LN",
        "outputId": "92153c0a-cd56-4d2b-f220-2e4dac626ac1"
      },
      "source": [
        "# soup 객체에 있는 모든 <a> element의 href 속성을 출력\r\n",
        "elements = soup.find_all('a')\r\n",
        "for tag in elements:\r\n",
        "    print(tag.get('href'))"
      ],
      "execution_count": 10,
      "outputs": [
        {
          "output_type": "stream",
          "text": [
            "https://www.daum.net/\n",
            "https://www.naver.com/\n",
            "https://www.google.com/\n"
          ],
          "name": "stdout"
        }
      ]
    },
    {
      "cell_type": "code",
      "metadata": {
        "colab": {
          "base_uri": "https://localhost:8080/"
        },
        "id": "01xTPhq8YFm9",
        "outputId": "9955e3df-3194-4f06-9d41-e4db0c1c7c18"
      },
      "source": [
        "# BS.find('tag_name') = BS.tag_name\r\n",
        "print(soup.find('h1'))\r\n",
        "print(soup.h1)"
      ],
      "execution_count": 11,
      "outputs": [
        {
          "output_type": "stream",
          "text": [
            "<h1>처음 만드는 HTML 파일</h1>\n",
            "<h1>처음 만드는 HTML 파일</h1>\n"
          ],
          "name": "stdout"
        }
      ]
    },
    {
      "cell_type": "code",
      "metadata": {
        "colab": {
          "base_uri": "https://localhost:8080/"
        },
        "id": "5Pr-olaAYqHk",
        "outputId": "d5bcacf7-aa76-417a-c936-85d444aff0f1"
      },
      "source": [
        "print(soup.find('h1').text)\r\n",
        "print(soup.h1.text)"
      ],
      "execution_count": 12,
      "outputs": [
        {
          "output_type": "stream",
          "text": [
            "처음 만드는 HTML 파일\n",
            "처음 만드는 HTML 파일\n"
          ],
          "name": "stdout"
        }
      ]
    },
    {
      "cell_type": "code",
      "metadata": {
        "colab": {
          "base_uri": "https://localhost:8080/"
        },
        "id": "yKGDNz8YZRpb",
        "outputId": "b1ad1f91-8231-4f07-dee9-d1c5036d9cfc"
      },
      "source": [
        "# tag.get('attr_name') = tag['attr_name']\r\n",
        "link1 = soup.find('a')\r\n",
        "print(link1.get('href'))\r\n",
        "print(link1['href'])\r\n",
        "\r\n",
        "print(soup.find('a').get('href'))\r\n",
        "print(soup.find('a')['href'])\r\n",
        "print(soup.a.get('href'))\r\n",
        "print(soup.a['href'])"
      ],
      "execution_count": 13,
      "outputs": [
        {
          "output_type": "stream",
          "text": [
            "https://www.daum.net/\n",
            "https://www.daum.net/\n",
            "https://www.daum.net/\n",
            "https://www.daum.net/\n",
            "https://www.daum.net/\n",
            "https://www.daum.net/\n"
          ],
          "name": "stdout"
        }
      ]
    },
    {
      "cell_type": "markdown",
      "metadata": {
        "id": "V0GLkMvZaTLk"
      },
      "source": [
        "4. open했던 HTML 파일을 close"
      ]
    },
    {
      "cell_type": "code",
      "metadata": {
        "id": "7AS173_nZt4b"
      },
      "source": [
        "f.close()"
      ],
      "execution_count": 14,
      "outputs": []
    },
    {
      "cell_type": "code",
      "metadata": {
        "colab": {
          "base_uri": "https://localhost:8080/"
        },
        "id": "bl-vv2aOacx1",
        "outputId": "f3cf35fc-3492-4c33-c338-6785129b1c2a"
      },
      "source": [
        "with open(file='web01.html', mode='r') as f:\r\n",
        "    # 1) BeautifulSoup 인스턴스 생성\r\n",
        "    soup = BeautifulSoup(markup=f, features='html5lib')\r\n",
        "    # 2) BS 인스턴스에서 <a> tag element 중에서 href 속성의 값이 'https://www.naver.com/'인 요소의 텍스트를 찾아서 출력\r\n",
        "    link = soup.find(name='a', attrs={'href': 'https://www.naver.com/'})\r\n",
        "    print(link.text)"
      ],
      "execution_count": 15,
      "outputs": [
        {
          "output_type": "stream",
          "text": [
            "네이버\n"
          ],
          "name": "stdout"
        }
      ]
    },
    {
      "cell_type": "code",
      "metadata": {
        "colab": {
          "base_uri": "https://localhost:8080/"
        },
        "id": "GkZazma8nQxS",
        "outputId": "f2e50aa9-e5d3-4964-eb7f-47d8102b53b4"
      },
      "source": [
        "# tag 이름으로 HTML element를 찾는 방법:\r\n",
        "with open(file='web03.html', mode='r') as f:\r\n",
        "    soup = BeautifulSoup(markup=f, features='html5lib')\r\n",
        "    # HTML 문서의 모든 <div> 태그 element들을 찾음\r\n",
        "    # divs = soup.find_all(name='div')\r\n",
        "    divs = soup(name='div')\r\n",
        "    for el in divs:\r\n",
        "        print(el)"
      ],
      "execution_count": 17,
      "outputs": [
        {
          "output_type": "stream",
          "text": [
            "<div class=\"c1\">여기는 c1 클래스입니다.</div>\n",
            "<div class=\"c1\">여기도 c1 클래스입니다.</div>\n",
            "<div class=\"c2\">여기는 c2 클래스입니다.</div>\n",
            "<div class=\"c2\" id=\"id1\">여기는 c2 클래스, 아이디는 id1입니다.</div>\n"
          ],
          "name": "stdout"
        }
      ]
    },
    {
      "cell_type": "code",
      "metadata": {
        "colab": {
          "base_uri": "https://localhost:8080/"
        },
        "id": "VGx71F6Vogdj",
        "outputId": "763c88f4-dc1c-4ad6-aad9-9fa21ff56892"
      },
      "source": [
        "# class 속성의 값으로 HTML element를 찾는 방법:\r\n",
        "with open(file='web03.html', mode='r') as f:\r\n",
        "    soup = BeautifulSoup(markup=f, features='html5lib')\r\n",
        "    # class 속성의 값이 'c1'인 모든 HTML element들을 찾음\r\n",
        "    # class_c1s = soup.find_all(attrs={'class': 'c1'})\r\n",
        "    class_c1s = soup(attrs={'class': 'c1'})\r\n",
        "    for el in class_c1s:\r\n",
        "        print(el)"
      ],
      "execution_count": 18,
      "outputs": [
        {
          "output_type": "stream",
          "text": [
            "<div class=\"c1\">여기는 c1 클래스입니다.</div>\n",
            "<div class=\"c1\">여기도 c1 클래스입니다.</div>\n"
          ],
          "name": "stdout"
        }
      ]
    },
    {
      "cell_type": "code",
      "metadata": {
        "colab": {
          "base_uri": "https://localhost:8080/"
        },
        "id": "qKoOsT6Jp1mL",
        "outputId": "d3cf1d87-aad6-4aa5-cc60-f7c78a4c4077"
      },
      "source": [
        "# id 속성의 값이 'id1'인 모든 HTML element를 찾음.\r\n",
        "with open(file='web03.html', mode='r') as f:\r\n",
        "    soup = BeautifulSoup(markup=f, features='html5lib')\r\n",
        "    # id_id1s = soup.find_all(attrs={'id': 'id1'})\r\n",
        "    id_id1s = soup(attrs={'id': 'id1'})\r\n",
        "    for el in id_id1s:\r\n",
        "        print(el)"
      ],
      "execution_count": 19,
      "outputs": [
        {
          "output_type": "stream",
          "text": [
            "<div class=\"c2\" id=\"id1\">여기는 c2 클래스, 아이디는 id1입니다.</div>\n"
          ],
          "name": "stdout"
        }
      ]
    },
    {
      "cell_type": "markdown",
      "metadata": {
        "id": "JXbox85Pc0FW"
      },
      "source": [
        "\r\n",
        "*   `BeautifulSoup.find(name='태그이름', attrs={'속성이름': '속성값'})`\r\n",
        "*   `BeautifulSoup.tag`는 `BeautifulSoup.find(name='tag')`과 동일\r\n",
        "*   `BeautifulSoup.find_all(name='태그이름', attrs={'속성이름': '속성값'})`\r\n",
        "*   `BeautifulSoup([name=]'tag')`는 `BeautifulSoup.find_all(name='tag')`과 동일\r\n",
        "*   `BeautifulSoup(attrs={})`는 `BeautifulSoup.find_all(attrs={})`과 동일\r\n",
        "*   `BeautifulSoup.find(**kwargs)`, `BeautifulSoup.find_all(**kwargs)`\r\n",
        "    *   `BeautifulSoup.find(class_='클래스이름', id='아이디값')`\r\n",
        "    *   `BeautifulSoup.find_all(class_='클래스이름', id='아이디값')`\r\n"
      ]
    },
    {
      "cell_type": "code",
      "metadata": {
        "id": "8XUWk7UdfKBg"
      },
      "source": [
        "f = open(file='web03.html', mode='r')"
      ],
      "execution_count": 20,
      "outputs": []
    },
    {
      "cell_type": "code",
      "metadata": {
        "id": "GHHzi3JkfSV-"
      },
      "source": [
        "soup = BeautifulSoup(markup=f, features='html5lib')"
      ],
      "execution_count": 21,
      "outputs": []
    },
    {
      "cell_type": "code",
      "metadata": {
        "colab": {
          "base_uri": "https://localhost:8080/"
        },
        "id": "86N693p4fYwd",
        "outputId": "a8fcbada-b558-4326-dcc7-5970409b6c2b"
      },
      "source": [
        "# class 속성의 값이 'menu_item'인 element들의 text를 출력\r\n",
        "for menu_item in soup.find_all(attrs={'class': 'menu_item'}):\r\n",
        "    print(menu_item.text.strip())"
      ],
      "execution_count": 24,
      "outputs": [
        {
          "output_type": "stream",
          "text": [
            "다음\n",
            "네이버\n",
            "구글\n"
          ],
          "name": "stdout"
        }
      ]
    },
    {
      "cell_type": "code",
      "metadata": {
        "colab": {
          "base_uri": "https://localhost:8080/"
        },
        "id": "2AqYptm7hTRX",
        "outputId": "5b6ab6e3-e747-44e4-baba-53235a53ad36"
      },
      "source": [
        "# find_all 메서드의 variable-length keyword argument를 사용:\r\n",
        "for menu_item in soup.find_all(class_='menu_item'):\r\n",
        "    print(menu_item.text.strip())"
      ],
      "execution_count": 26,
      "outputs": [
        {
          "output_type": "stream",
          "text": [
            "다음\n",
            "네이버\n",
            "구글\n"
          ],
          "name": "stdout"
        }
      ]
    },
    {
      "cell_type": "code",
      "metadata": {
        "colab": {
          "base_uri": "https://localhost:8080/"
        },
        "id": "_Wh23UqEhzzN",
        "outputId": "e310f3fc-2d45-491e-dc7e-aa95462d6592"
      },
      "source": [
        "for item in soup(attrs={'class': 'menu_item'}):\r\n",
        "    print(item.text.strip())"
      ],
      "execution_count": 28,
      "outputs": [
        {
          "output_type": "stream",
          "text": [
            "다음\n",
            "네이버\n",
            "구글\n"
          ],
          "name": "stdout"
        }
      ]
    },
    {
      "cell_type": "code",
      "metadata": {
        "colab": {
          "base_uri": "https://localhost:8080/"
        },
        "id": "IGCdsb48iPqw",
        "outputId": "01d6ce5a-696f-4c82-8a9f-7bba186cccf8"
      },
      "source": [
        "for item in soup(class_='menu_item'):\r\n",
        "    print(item.text.strip())"
      ],
      "execution_count": 29,
      "outputs": [
        {
          "output_type": "stream",
          "text": [
            "다음\n",
            "네이버\n",
            "구글\n"
          ],
          "name": "stdout"
        }
      ]
    }
  ]
}