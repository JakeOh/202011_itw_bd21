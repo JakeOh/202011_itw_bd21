{
  "nbformat": 4,
  "nbformat_minor": 0,
  "metadata": {
    "colab": {
      "name": "python40_bs.ipynb",
      "provenance": [],
      "collapsed_sections": [],
      "authorship_tag": "ABX9TyOYoUGEEEPz33SgWgtLrycY",
      "include_colab_link": true
    },
    "kernelspec": {
      "name": "python3",
      "display_name": "Python 3"
    }
  },
  "cells": [
    {
      "cell_type": "markdown",
      "metadata": {
        "id": "view-in-github",
        "colab_type": "text"
      },
      "source": [
        "<a href=\"https://colab.research.google.com/github/JakeOh/202011_itw_bd21/blob/main/lab_python/python40_bs.ipynb\" target=\"_parent\"><img src=\"https://colab.research.google.com/assets/colab-badge.svg\" alt=\"Open In Colab\"/></a>"
      ]
    },
    {
      "cell_type": "markdown",
      "metadata": {
        "id": "5cKzx8ukIuuN"
      },
      "source": [
        "# [BeautifulSoup](https://www.crummy.com/software/BeautifulSoup/bs4/doc/)"
      ]
    },
    {
      "cell_type": "code",
      "metadata": {
        "id": "t6-uxowPIkCo"
      },
      "source": [
        "from bs4 import BeautifulSoup\r\n",
        "# bs4 모듈에서 BeautifulSoup 클래스를 메모리 로드(import)"
      ],
      "execution_count": 2,
      "outputs": []
    },
    {
      "cell_type": "markdown",
      "metadata": {
        "id": "Tqa6jzl8KJDj"
      },
      "source": [
        "0. Colab 현재 작업 디렉토리에 HTML 파일들을 업로드"
      ]
    },
    {
      "cell_type": "markdown",
      "metadata": {
        "id": "1qV-eOtILJPN"
      },
      "source": [
        "1. HTML 문서를 open"
      ]
    },
    {
      "cell_type": "code",
      "metadata": {
        "id": "YLfz95qUJWCt"
      },
      "source": [
        "f = open('web01.html', mode='r')"
      ],
      "execution_count": 3,
      "outputs": []
    },
    {
      "cell_type": "markdown",
      "metadata": {
        "id": "FOLPo5AdLPdc"
      },
      "source": [
        "2. BeautifulSoup 클래스의 인스턴스를 생성 <- 생성자 함수 호출"
      ]
    },
    {
      "cell_type": "code",
      "metadata": {
        "id": "OKmfRHJsK8Mq"
      },
      "source": [
        "soup = BeautifulSoup(markup=f, features='html.parser') \r\n",
        "# markup: open된 HTML 파일 객체\r\n",
        "# feature: HTML 문서를 분석(parse)할 수 있는 라이브러리 이름."
      ],
      "execution_count": 4,
      "outputs": []
    },
    {
      "cell_type": "code",
      "metadata": {
        "colab": {
          "base_uri": "https://localhost:8080/"
        },
        "id": "WpELd8s6MyQc",
        "outputId": "4ffb3de3-77d1-44ac-fe4b-72dbbc07b998"
      },
      "source": [
        "type(soup)"
      ],
      "execution_count": 5,
      "outputs": [
        {
          "output_type": "execute_result",
          "data": {
            "text/plain": [
              "bs4.BeautifulSoup"
            ]
          },
          "metadata": {
            "tags": []
          },
          "execution_count": 5
        }
      ]
    },
    {
      "cell_type": "code",
      "metadata": {
        "colab": {
          "base_uri": "https://localhost:8080/"
        },
        "id": "YTj3MV4rM7vs",
        "outputId": "605467c6-4a49-4272-e057-e62dc6c0c564"
      },
      "source": [
        "soup\r\n",
        "# BeautifuouSoup.__repr__() 메서드는 분석(parsing)한 HTML 문서의 내용을 문자열로 리턴."
      ],
      "execution_count": 7,
      "outputs": [
        {
          "output_type": "execute_result",
          "data": {
            "text/plain": [
              "<!DOCTYPE html>\n",
              "\n",
              "<!-- HTML 문서의 주석\n",
              "HTML 문서의 구조:\n",
              "    <tag attribute_name=\"attribute_value\">content</tag>\n",
              "Content가 없는 태그인 경우:\n",
              "    <tag attr_name=\"attr_val\" /> 또는\n",
              "    <tag attr_name=\"attr_val\">\n",
              "-->\n",
              "<html lang=\"en\">\n",
              "<head>\n",
              "<meta charset=\"utf-8\"/>\n",
              "<title>Web 1</title>\n",
              "</head>\n",
              "<body>\n",
              "<!-- h1 ~ h6: heading -->\n",
              "<h1>처음 만드는 HTML 파일</h1>\n",
              "<h2>HTML: HyperText Markup Language</h2>\n",
              "<!-- a(anchor): HTML 파일에서 링크 생성 -->\n",
              "<a href=\"https://www.daum.net/\">다음 카카오</a>\n",
              "<br/> <!-- br(line break): 줄바꿈 -->\n",
              "<a href=\"https://www.naver.com/\">네이버</a>\n",
              "<br/>\n",
              "<a href=\"https://www.google.com/\">\n",
              "<img src=\"googlelogo.png\" style=\"width: 100px;\"/>\n",
              "</a>\n",
              "<div>여기는 division입니다.<br/>\n",
              "    div는 여백(margin)이 없습니다.\n",
              "    </div>\n",
              "<p>여기는 <strong>paragraph</strong>입니다.<br/>\n",
              "    p는 <em>여백(margin)</em>이 있습니다.\n",
              "    </p>\n",
              "<!-- HTML 요소(태그)\n",
              "        1) block-level 요소(태그): 브라우저의 가로 길이 전체를 차지하는 태그\n",
              "            줄바꿈이 자동으로 생김.\n",
              "            <h1>, <h6>, <div>, <p>, <table>, <ul>, <li>, ...\n",
              "        2) inline 요소(태그): 컨텐츠의 가로 길이 크기만 차지하는 태그\n",
              "            줄바꿈이 자동으로 생기지 않음. 줄을 바꾸려면 <br>을 사용해야 함.\n",
              "            <a>, <img>, <span>, ...\n",
              "    -->\n",
              "</body>\n",
              "</html>"
            ]
          },
          "metadata": {
            "tags": []
          },
          "execution_count": 7
        }
      ]
    },
    {
      "cell_type": "markdown",
      "metadata": {
        "id": "SJ53c5dNOCgp"
      },
      "source": [
        "3. BeatifulSoup 객체를 사용해서 원하는 정보들을 추출."
      ]
    },
    {
      "cell_type": "code",
      "metadata": {
        "colab": {
          "base_uri": "https://localhost:8080/"
        },
        "id": "bgxjvg1-NyHm",
        "outputId": "19626665-e510-4fc0-91f1-3957ffb6757a"
      },
      "source": [
        "# BS.find('HTML 태그 이름'): HTML 문서에서 argument로 전달한 태그 요소를 찾아서 리턴.\r\n",
        "element = soup.find(name='h1')\r\n",
        "element"
      ],
      "execution_count": 9,
      "outputs": [
        {
          "output_type": "execute_result",
          "data": {
            "text/plain": [
              "<h1>처음 만드는 HTML 파일</h1>"
            ]
          },
          "metadata": {
            "tags": []
          },
          "execution_count": 9
        }
      ]
    },
    {
      "cell_type": "code",
      "metadata": {
        "colab": {
          "base_uri": "https://localhost:8080/"
        },
        "id": "mh6xhje1PeU1",
        "outputId": "ec660c9b-785b-4d1b-d163-88db99f2f254"
      },
      "source": [
        "soup.find(name='h2')"
      ],
      "execution_count": 10,
      "outputs": [
        {
          "output_type": "execute_result",
          "data": {
            "text/plain": [
              "<h2>HTML: HyperText Markup Language</h2>"
            ]
          },
          "metadata": {
            "tags": []
          },
          "execution_count": 10
        }
      ]
    },
    {
      "cell_type": "code",
      "metadata": {
        "colab": {
          "base_uri": "https://localhost:8080/"
        },
        "id": "gWr2_C6aPwFz",
        "outputId": "33dd5d0d-8b72-4a4f-ee54-cd12c67fcda3"
      },
      "source": [
        "soup.find(name='a')\r\n",
        "# find 메서드는 문서에서 가장 먼저 등장하는 HTML 요소 하나를 찾아서 리턴."
      ],
      "execution_count": 11,
      "outputs": [
        {
          "output_type": "execute_result",
          "data": {
            "text/plain": [
              "<a href=\"https://www.daum.net/\">다음 카카오</a>"
            ]
          },
          "metadata": {
            "tags": []
          },
          "execution_count": 11
        }
      ]
    },
    {
      "cell_type": "code",
      "metadata": {
        "colab": {
          "base_uri": "https://localhost:8080/"
        },
        "id": "CfKQSEGgQR3b",
        "outputId": "1eaa806a-4153-4f89-cb07-389fbca219e8"
      },
      "source": [
        "# find_all 메서드는 문서에 나오는 모든 HTML 요소를 찾아서 리스트로 리턴.\r\n",
        "elements = soup.find_all(name='a')\r\n",
        "elements"
      ],
      "execution_count": 12,
      "outputs": [
        {
          "output_type": "execute_result",
          "data": {
            "text/plain": [
              "[<a href=\"https://www.daum.net/\">다음 카카오</a>,\n",
              " <a href=\"https://www.naver.com/\">네이버</a>,\n",
              " <a href=\"https://www.google.com/\">\n",
              " <img src=\"googlelogo.png\" style=\"width: 100px;\"/>\n",
              " </a>]"
            ]
          },
          "metadata": {
            "tags": []
          },
          "execution_count": 12
        }
      ]
    },
    {
      "cell_type": "markdown",
      "metadata": {
        "id": "2WaI8WBgVgjU"
      },
      "source": [
        "HTML tag 요소의 텍스트(text) 또는 속성(attribute)의 값을 찾는 방법"
      ]
    },
    {
      "cell_type": "code",
      "metadata": {
        "colab": {
          "base_uri": "https://localhost:8080/"
        },
        "id": "RfidRh8MVpZM",
        "outputId": "0d452a35-735b-42a7-d236-331da201c9d7"
      },
      "source": [
        "link1 = soup.find('a')\r\n",
        "print(link1)  #> HTML tag element\r\n",
        "print(link1.text)  #> HTML tag 텍스트(start tag와 end tag 사이에 있는 문자열)\r\n",
        "print(link1.get(key='href'))  #> HTML tag의 'href' 속성의 값"
      ],
      "execution_count": 15,
      "outputs": [
        {
          "output_type": "stream",
          "text": [
            "<a href=\"https://www.daum.net/\">다음 카카오</a>\n",
            "다음 카카오\n",
            "https://www.daum.net/\n"
          ],
          "name": "stdout"
        }
      ]
    },
    {
      "cell_type": "code",
      "metadata": {
        "colab": {
          "base_uri": "https://localhost:8080/"
        },
        "id": "kZj-XBqSW-LN",
        "outputId": "cf5cd224-c186-4e2d-c83f-ba4367ef26b3"
      },
      "source": [
        "# soup 객체에 있는 모든 <a> element의 href 속성을 출력\r\n",
        "elements = soup.find_all('a')\r\n",
        "for tag in elements:\r\n",
        "    print(tag.get('href'))"
      ],
      "execution_count": 16,
      "outputs": [
        {
          "output_type": "stream",
          "text": [
            "https://www.daum.net/\n",
            "https://www.naver.com/\n",
            "https://www.google.com/\n"
          ],
          "name": "stdout"
        }
      ]
    },
    {
      "cell_type": "code",
      "metadata": {
        "colab": {
          "base_uri": "https://localhost:8080/"
        },
        "id": "01xTPhq8YFm9",
        "outputId": "ab7e5c6d-03c4-4703-8052-5bc0d84a2f90"
      },
      "source": [
        "# BS.find('tag_name') = BS.tag_name\r\n",
        "print(soup.find('h1'))\r\n",
        "print(soup.h1)"
      ],
      "execution_count": 18,
      "outputs": [
        {
          "output_type": "stream",
          "text": [
            "<h1>처음 만드는 HTML 파일</h1>\n",
            "<h1>처음 만드는 HTML 파일</h1>\n"
          ],
          "name": "stdout"
        }
      ]
    },
    {
      "cell_type": "code",
      "metadata": {
        "colab": {
          "base_uri": "https://localhost:8080/"
        },
        "id": "5Pr-olaAYqHk",
        "outputId": "41f4f72d-8f98-4e1c-98f4-c5a1796e83e7"
      },
      "source": [
        "print(soup.find('h1').text)\r\n",
        "print(soup.h1.text)"
      ],
      "execution_count": 20,
      "outputs": [
        {
          "output_type": "stream",
          "text": [
            "처음 만드는 HTML 파일\n",
            "처음 만드는 HTML 파일\n"
          ],
          "name": "stdout"
        }
      ]
    },
    {
      "cell_type": "code",
      "metadata": {
        "colab": {
          "base_uri": "https://localhost:8080/"
        },
        "id": "yKGDNz8YZRpb",
        "outputId": "e761dce9-0342-4a31-ccce-37a2b170bba1"
      },
      "source": [
        "# tag.get('attr_name') = tag['attr_name']\r\n",
        "link1 = soup.find('a')\r\n",
        "print(link1.get('href'))\r\n",
        "print(link1['href'])\r\n",
        "\r\n",
        "print(soup.find('a').get('href'))\r\n",
        "print(soup.find('a')['href'])\r\n",
        "print(soup.a.get('href'))\r\n",
        "print(soup.a['href'])"
      ],
      "execution_count": 27,
      "outputs": [
        {
          "output_type": "stream",
          "text": [
            "https://www.daum.net/\n",
            "https://www.daum.net/\n",
            "https://www.daum.net/\n",
            "https://www.daum.net/\n",
            "https://www.daum.net/\n",
            "https://www.daum.net/\n"
          ],
          "name": "stdout"
        }
      ]
    },
    {
      "cell_type": "markdown",
      "metadata": {
        "id": "V0GLkMvZaTLk"
      },
      "source": [
        "4. open했던 HTML 파일을 close"
      ]
    },
    {
      "cell_type": "code",
      "metadata": {
        "id": "7AS173_nZt4b"
      },
      "source": [
        "f.close()"
      ],
      "execution_count": 28,
      "outputs": []
    },
    {
      "cell_type": "code",
      "metadata": {
        "colab": {
          "base_uri": "https://localhost:8080/"
        },
        "id": "bl-vv2aOacx1",
        "outputId": "85f5bdc7-cfe4-40da-ea3e-a293052fcda0"
      },
      "source": [
        "with open(file='web01.html', mode='r') as f:\r\n",
        "    # 1) BeautifulSoup 인스턴스 생성\r\n",
        "    soup = BeautifulSoup(markup=f, features='html5lib')\r\n",
        "    # 2) BS 인스턴스에서 <a> tag element 중에서 href 속성의 값이 'https://www.naver.com/'인 요소의 텍스트를 찾아서 출력\r\n",
        "    link = soup.find(name='a', attrs={'href': 'https://www.naver.com/'})\r\n",
        "    print(link.text)"
      ],
      "execution_count": 32,
      "outputs": [
        {
          "output_type": "stream",
          "text": [
            "네이버\n"
          ],
          "name": "stdout"
        }
      ]
    },
    {
      "cell_type": "code",
      "metadata": {
        "colab": {
          "base_uri": "https://localhost:8080/"
        },
        "id": "GkZazma8nQxS",
        "outputId": "ad005acd-2af0-405f-da25-9ee4291f714a"
      },
      "source": [
        "# tag 이름으로 HTML element를 찾는 방법:\r\n",
        "with open(file='web03.html', mode='r') as f:\r\n",
        "    soup = BeautifulSoup(markup=f, features='html5lib')\r\n",
        "    # HTML 문서의 모든 <div> 태그 element들을 찾음\r\n",
        "    # divs = soup.find_all(name='div')\r\n",
        "    divs = soup(name='div')\r\n",
        "    for el in divs:\r\n",
        "        print(el)"
      ],
      "execution_count": 35,
      "outputs": [
        {
          "output_type": "stream",
          "text": [
            "<div class=\"c1\">여기는 c1 클래스입니다.</div>\n",
            "<div class=\"c1\">여기도 c1 클래스입니다.</div>\n",
            "<div class=\"c2\">여기는 c2 클래스입니다.</div>\n",
            "<div class=\"c2\" id=\"id1\">여기는 c2 클래스, 아이디는 id1입니다.</div>\n"
          ],
          "name": "stdout"
        }
      ]
    },
    {
      "cell_type": "code",
      "metadata": {
        "colab": {
          "base_uri": "https://localhost:8080/"
        },
        "id": "VGx71F6Vogdj",
        "outputId": "41ca9404-0bd5-4db4-8a8d-612fbf42378e"
      },
      "source": [
        "# class 속성의 값으로 HTML element를 찾는 방법:\r\n",
        "with open(file='web03.html', mode='r') as f:\r\n",
        "    soup = BeautifulSoup(markup=f, features='html5lib')\r\n",
        "    # class 속성의 값이 'c1'인 모든 HTML element들을 찾음\r\n",
        "    # class_c1s = soup.find_all(attrs={'class': 'c1'})\r\n",
        "    class_c1s = soup(attrs={'class': 'c1'})\r\n",
        "    for el in class_c1s:\r\n",
        "        print(el)"
      ],
      "execution_count": 38,
      "outputs": [
        {
          "output_type": "stream",
          "text": [
            "<div class=\"c1\">여기는 c1 클래스입니다.</div>\n",
            "<div class=\"c1\">여기도 c1 클래스입니다.</div>\n"
          ],
          "name": "stdout"
        }
      ]
    },
    {
      "cell_type": "code",
      "metadata": {
        "colab": {
          "base_uri": "https://localhost:8080/"
        },
        "id": "qKoOsT6Jp1mL",
        "outputId": "4c557db8-76d4-4743-8aef-13659583407d"
      },
      "source": [
        "# id 속성의 값이 'id1'인 모든 HTML element를 찾음.\r\n",
        "with open(file='web03.html', mode='r') as f:\r\n",
        "    soup = BeautifulSoup(markup=f, features='html5lib')\r\n",
        "    # id_id1s = soup.find_all(attrs={'id': 'id1'})\r\n",
        "    id_id1s = soup(attrs={'id': 'id1'})\r\n",
        "    for el in id_id1s:\r\n",
        "        print(el)"
      ],
      "execution_count": 41,
      "outputs": [
        {
          "output_type": "stream",
          "text": [
            "<div class=\"c2\" id=\"id1\">여기는 c2 클래스, 아이디는 id1입니다.</div>\n"
          ],
          "name": "stdout"
        }
      ]
    }
  ]
}