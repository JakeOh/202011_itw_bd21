{
  "nbformat": 4,
  "nbformat_minor": 0,
  "metadata": {
    "colab": {
      "name": "ml17_dnn.ipynb",
      "provenance": [],
      "collapsed_sections": [],
      "authorship_tag": "ABX9TyOI912mZs4UG3fnBUZac6X+",
      "include_colab_link": true
    },
    "kernelspec": {
      "name": "python3",
      "display_name": "Python 3"
    },
    "language_info": {
      "name": "python"
    },
    "accelerator": "GPU"
  },
  "cells": [
    {
      "cell_type": "markdown",
      "metadata": {
        "id": "view-in-github",
        "colab_type": "text"
      },
      "source": [
        "<a href=\"https://colab.research.google.com/github/JakeOh/202011_itw_bd21/blob/main/lab_ml/ml17_dnn.ipynb\" target=\"_parent\"><img src=\"https://colab.research.google.com/assets/colab-badge.svg\" alt=\"Open In Colab\"/></a>"
      ]
    },
    {
      "cell_type": "markdown",
      "metadata": {
        "id": "Nhs0clFYoTF4"
      },
      "source": [
        "# Imports"
      ]
    },
    {
      "cell_type": "code",
      "metadata": {
        "id": "juxIQi11oGt6"
      },
      "source": [
        "import numpy as np\n",
        "import pandas as pd\n",
        "import matplotlib.pyplot as plt\n",
        "\n",
        "from sklearn.model_selection import train_test_split\n",
        "\n",
        "import tensorflow as tf\n",
        "from tensorflow import keras"
      ],
      "execution_count": 1,
      "outputs": []
    },
    {
      "cell_type": "markdown",
      "metadata": {
        "id": "GHIIPO7Hoqkm"
      },
      "source": [
        "# Fashion MNIST datasets"
      ]
    },
    {
      "cell_type": "code",
      "metadata": {
        "colab": {
          "base_uri": "https://localhost:8080/"
        },
        "id": "zQnherdCoo11",
        "outputId": "fd9aeeff-a703-4b51-f038-8e4dd2b9e8e9"
      },
      "source": [
        "(x_train_full, y_train_full), (x_test, y_test) = keras.datasets.fashion_mnist.load_data()"
      ],
      "execution_count": 2,
      "outputs": [
        {
          "output_type": "stream",
          "text": [
            "Downloading data from https://storage.googleapis.com/tensorflow/tf-keras-datasets/train-labels-idx1-ubyte.gz\n",
            "32768/29515 [=================================] - 0s 0us/step\n",
            "Downloading data from https://storage.googleapis.com/tensorflow/tf-keras-datasets/train-images-idx3-ubyte.gz\n",
            "26427392/26421880 [==============================] - 0s 0us/step\n",
            "Downloading data from https://storage.googleapis.com/tensorflow/tf-keras-datasets/t10k-labels-idx1-ubyte.gz\n",
            "8192/5148 [===============================================] - 0s 0us/step\n",
            "Downloading data from https://storage.googleapis.com/tensorflow/tf-keras-datasets/t10k-images-idx3-ubyte.gz\n",
            "4423680/4422102 [==============================] - 0s 0us/step\n"
          ],
          "name": "stdout"
        }
      ]
    },
    {
      "cell_type": "code",
      "metadata": {
        "colab": {
          "base_uri": "https://localhost:8080/"
        },
        "id": "nu1frOhDpkJ4",
        "outputId": "d3bad353-2549-4d92-c8dd-f3a11d888065"
      },
      "source": [
        "x_train_full.shape"
      ],
      "execution_count": 3,
      "outputs": [
        {
          "output_type": "execute_result",
          "data": {
            "text/plain": [
              "(60000, 28, 28)"
            ]
          },
          "metadata": {
            "tags": []
          },
          "execution_count": 3
        }
      ]
    },
    {
      "cell_type": "code",
      "metadata": {
        "colab": {
          "base_uri": "https://localhost:8080/"
        },
        "id": "xKs06zxbpn_N",
        "outputId": "3d767c39-9afc-412f-f7c6-66a3e23d6a28"
      },
      "source": [
        "x_test.shape"
      ],
      "execution_count": 4,
      "outputs": [
        {
          "output_type": "execute_result",
          "data": {
            "text/plain": [
              "(10000, 28, 28)"
            ]
          },
          "metadata": {
            "tags": []
          },
          "execution_count": 4
        }
      ]
    },
    {
      "cell_type": "markdown",
      "metadata": {
        "id": "USAXVYJRrBid"
      },
      "source": [
        "0 ~ 255 정수 범위의 입력값들을 0.0 ~ 1.0 범위의 실수(float)으로 변환 -> 훈련 성능을 높이기 위해서"
      ]
    },
    {
      "cell_type": "code",
      "metadata": {
        "colab": {
          "base_uri": "https://localhost:8080/"
        },
        "id": "uBtOLCZgqSFe",
        "outputId": "cf9bd352-609e-4848-f3b5-d0f0adaa63d9"
      },
      "source": [
        "np.min(x_train_full), np.max(x_train_full)"
      ],
      "execution_count": 5,
      "outputs": [
        {
          "output_type": "execute_result",
          "data": {
            "text/plain": [
              "(0, 255)"
            ]
          },
          "metadata": {
            "tags": []
          },
          "execution_count": 5
        }
      ]
    },
    {
      "cell_type": "code",
      "metadata": {
        "id": "3J2N7ha2rl8u"
      },
      "source": [
        "x_train_full_scaled = x_train_full / 255.0\n",
        "x_test_scaled = x_test / 255.0"
      ],
      "execution_count": 6,
      "outputs": []
    },
    {
      "cell_type": "code",
      "metadata": {
        "colab": {
          "base_uri": "https://localhost:8080/"
        },
        "id": "scqYCvwKruu0",
        "outputId": "646534a5-5dc6-4127-d6f7-2c5ba68b9708"
      },
      "source": [
        "np.min(x_train_full_scaled), np.max(x_train_full_scaled)"
      ],
      "execution_count": 7,
      "outputs": [
        {
          "output_type": "execute_result",
          "data": {
            "text/plain": [
              "(0.0, 1.0)"
            ]
          },
          "metadata": {
            "tags": []
          },
          "execution_count": 7
        }
      ]
    },
    {
      "cell_type": "markdown",
      "metadata": {
        "id": "AeYlVFBDsA0l"
      },
      "source": [
        "훈련 셋 전체를 훈련 셋(train set)과 검증 셋(validation set)으로 나눔."
      ]
    },
    {
      "cell_type": "code",
      "metadata": {
        "id": "q2bh9Y4Tr0j0"
      },
      "source": [
        "x_train, x_val, y_train, y_val = train_test_split(x_train_full_scaled, y_train_full,\n",
        "                                                  stratify=y_train_full,\n",
        "                                                  test_size=0.1,\n",
        "                                                  random_state=42)\n",
        "#> 훈련 셋(x_train), 검증 셋(x_val), 훈련 타겟(y_train), 검증 타겟(y_val)"
      ],
      "execution_count": 8,
      "outputs": []
    },
    {
      "cell_type": "code",
      "metadata": {
        "colab": {
          "base_uri": "https://localhost:8080/"
        },
        "id": "ItD5GVbTs9-t",
        "outputId": "cd506ea9-c7eb-45f7-fe55-66752c285282"
      },
      "source": [
        "x_train.shape, x_val.shape"
      ],
      "execution_count": 9,
      "outputs": [
        {
          "output_type": "execute_result",
          "data": {
            "text/plain": [
              "((54000, 28, 28), (6000, 28, 28))"
            ]
          },
          "metadata": {
            "tags": []
          },
          "execution_count": 9
        }
      ]
    },
    {
      "cell_type": "code",
      "metadata": {
        "colab": {
          "base_uri": "https://localhost:8080/"
        },
        "id": "ooS7GW8StBEM",
        "outputId": "1e0bbf77-2536-4996-edf2-4429be0163ef"
      },
      "source": [
        "y_train.shape, y_val.shape"
      ],
      "execution_count": 10,
      "outputs": [
        {
          "output_type": "execute_result",
          "data": {
            "text/plain": [
              "((54000,), (6000,))"
            ]
          },
          "metadata": {
            "tags": []
          },
          "execution_count": 10
        }
      ]
    },
    {
      "cell_type": "markdown",
      "metadata": {
        "id": "TNEDg6UtteAU"
      },
      "source": [
        "# DNN"
      ]
    },
    {
      "cell_type": "markdown",
      "metadata": {
        "id": "F1ZIljZBuqj8"
      },
      "source": [
        "input layer --> flatten layer --> dense layer(300 units) --> dense layer(100 units) --> output layer"
      ]
    },
    {
      "cell_type": "code",
      "metadata": {
        "colab": {
          "base_uri": "https://localhost:8080/"
        },
        "id": "1OqMZmEFtGjs",
        "outputId": "2cae5245-dbd5-4fb4-8921-15aead921446"
      },
      "source": [
        "# Sequential 모델 생성\n",
        "model = keras.Sequential()\n",
        "# flatten layer 추가: (28, 28) shape 배열 --> (784,) shape 배열\n",
        "model.add(keras.layers.Flatten(input_shape=(28, 28)))\n",
        "# 첫번째 hidden layer\n",
        "model.add(keras.layers.Dense(units=300, activation='relu'))\n",
        "# 두번째 hidden layer\n",
        "model.add(keras.layers.Dense(units=100, activation='relu'))\n",
        "# output layer\n",
        "model.add(keras.layers.Dense(units=10, activation='softmax'))\n",
        "\n",
        "# 모델 확인\n",
        "model.summary()"
      ],
      "execution_count": 11,
      "outputs": [
        {
          "output_type": "stream",
          "text": [
            "Model: \"sequential\"\n",
            "_________________________________________________________________\n",
            "Layer (type)                 Output Shape              Param #   \n",
            "=================================================================\n",
            "flatten (Flatten)            (None, 784)               0         \n",
            "_________________________________________________________________\n",
            "dense (Dense)                (None, 300)               235500    \n",
            "_________________________________________________________________\n",
            "dense_1 (Dense)              (None, 100)               30100     \n",
            "_________________________________________________________________\n",
            "dense_2 (Dense)              (None, 10)                1010      \n",
            "=================================================================\n",
            "Total params: 266,610\n",
            "Trainable params: 266,610\n",
            "Non-trainable params: 0\n",
            "_________________________________________________________________\n"
          ],
          "name": "stdout"
        }
      ]
    },
    {
      "cell_type": "code",
      "metadata": {
        "colab": {
          "base_uri": "https://localhost:8080/",
          "height": 533
        },
        "id": "ioigEjNlwNKF",
        "outputId": "cc6da49f-6c10-442f-e4b3-f5ef5d88db38"
      },
      "source": [
        "keras.utils.plot_model(model, show_shapes=True, to_file='dnn1.png')"
      ],
      "execution_count": 12,
      "outputs": [
        {
          "output_type": "execute_result",
          "data": {
            "image/png": "[encoded data removed]",
            "text/plain": [
              "<IPython.core.display.Image object>"
            ]
          },
          "metadata": {
            "tags": []
          },
          "execution_count": 12
        }
      ]
    },
    {
      "cell_type": "code",
      "metadata": {
        "id": "-EUp12IvyJ00"
      },
      "source": [
        "# 모델 컴파일\n",
        "model.compile(optimizer='sgd', loss='sparse_categorical_crossentropy', metrics='accuracy')"
      ],
      "execution_count": 13,
      "outputs": []
    },
    {
      "cell_type": "code",
      "metadata": {
        "colab": {
          "base_uri": "https://localhost:8080/"
        },
        "id": "TSfqCfxMydL1",
        "outputId": "0614fe11-79b9-47ef-9609-15b7066f76d9"
      },
      "source": [
        "# 모델 훈련\n",
        "history = model.fit(x_train, y_train, epochs=30, validation_data=(x_val, y_val))"
      ],
      "execution_count": 14,
      "outputs": [
        {
          "output_type": "stream",
          "text": [
            "Epoch 1/30\n",
            "1688/1688 [==============================] - 7s 2ms/step - loss: 0.9733 - accuracy: 0.6910 - val_loss: 0.5154 - val_accuracy: 0.8197\n",
            "Epoch 2/30\n",
            "1688/1688 [==============================] - 4s 2ms/step - loss: 0.5023 - accuracy: 0.8260 - val_loss: 0.4507 - val_accuracy: 0.8413\n",
            "Epoch 3/30\n",
            "1688/1688 [==============================] - 4s 2ms/step - loss: 0.4491 - accuracy: 0.8449 - val_loss: 0.4171 - val_accuracy: 0.8562\n",
            "Epoch 4/30\n",
            "1688/1688 [==============================] - 4s 2ms/step - loss: 0.4211 - accuracy: 0.8546 - val_loss: 0.4090 - val_accuracy: 0.8568\n",
            "Epoch 5/30\n",
            "1688/1688 [==============================] - 4s 2ms/step - loss: 0.3943 - accuracy: 0.8619 - val_loss: 0.3863 - val_accuracy: 0.8635\n",
            "Epoch 6/30\n",
            "1688/1688 [==============================] - 4s 2ms/step - loss: 0.3760 - accuracy: 0.8672 - val_loss: 0.3979 - val_accuracy: 0.8582\n",
            "Epoch 7/30\n",
            "1688/1688 [==============================] - 4s 2ms/step - loss: 0.3652 - accuracy: 0.8707 - val_loss: 0.3504 - val_accuracy: 0.8775\n",
            "Epoch 8/30\n",
            "1688/1688 [==============================] - 4s 2ms/step - loss: 0.3479 - accuracy: 0.8762 - val_loss: 0.3521 - val_accuracy: 0.8747\n",
            "Epoch 9/30\n",
            "1688/1688 [==============================] - 4s 2ms/step - loss: 0.3424 - accuracy: 0.8785 - val_loss: 0.3445 - val_accuracy: 0.8765\n",
            "Epoch 10/30\n",
            "1688/1688 [==============================] - 4s 2ms/step - loss: 0.3317 - accuracy: 0.8841 - val_loss: 0.3409 - val_accuracy: 0.8785\n",
            "Epoch 11/30\n",
            "1688/1688 [==============================] - 4s 2ms/step - loss: 0.3257 - accuracy: 0.8830 - val_loss: 0.3220 - val_accuracy: 0.8852\n",
            "Epoch 12/30\n",
            "1688/1688 [==============================] - 4s 2ms/step - loss: 0.3100 - accuracy: 0.8890 - val_loss: 0.3196 - val_accuracy: 0.8875\n",
            "Epoch 13/30\n",
            "1688/1688 [==============================] - 4s 2ms/step - loss: 0.3045 - accuracy: 0.8909 - val_loss: 0.3716 - val_accuracy: 0.8602\n",
            "Epoch 14/30\n",
            "1688/1688 [==============================] - 4s 2ms/step - loss: 0.3024 - accuracy: 0.8909 - val_loss: 0.3292 - val_accuracy: 0.8812\n",
            "Epoch 15/30\n",
            "1688/1688 [==============================] - 4s 2ms/step - loss: 0.2951 - accuracy: 0.8952 - val_loss: 0.3141 - val_accuracy: 0.8873\n",
            "Epoch 16/30\n",
            "1688/1688 [==============================] - 4s 2ms/step - loss: 0.2841 - accuracy: 0.8974 - val_loss: 0.3250 - val_accuracy: 0.8823\n",
            "Epoch 17/30\n",
            "1688/1688 [==============================] - 4s 2ms/step - loss: 0.2804 - accuracy: 0.8987 - val_loss: 0.3428 - val_accuracy: 0.8755\n",
            "Epoch 18/30\n",
            "1688/1688 [==============================] - 4s 2ms/step - loss: 0.2778 - accuracy: 0.8997 - val_loss: 0.3094 - val_accuracy: 0.8862\n",
            "Epoch 19/30\n",
            "1688/1688 [==============================] - 4s 2ms/step - loss: 0.2676 - accuracy: 0.9024 - val_loss: 0.3465 - val_accuracy: 0.8725\n",
            "Epoch 20/30\n",
            "1688/1688 [==============================] - 4s 2ms/step - loss: 0.2668 - accuracy: 0.9043 - val_loss: 0.3474 - val_accuracy: 0.8757\n",
            "Epoch 21/30\n",
            "1688/1688 [==============================] - 4s 2ms/step - loss: 0.2586 - accuracy: 0.9064 - val_loss: 0.3048 - val_accuracy: 0.8897\n",
            "Epoch 22/30\n",
            "1688/1688 [==============================] - 4s 2ms/step - loss: 0.2537 - accuracy: 0.9095 - val_loss: 0.3104 - val_accuracy: 0.8887\n",
            "Epoch 23/30\n",
            "1688/1688 [==============================] - 4s 2ms/step - loss: 0.2517 - accuracy: 0.9101 - val_loss: 0.2980 - val_accuracy: 0.8925\n",
            "Epoch 24/30\n",
            "1688/1688 [==============================] - 4s 2ms/step - loss: 0.2437 - accuracy: 0.9128 - val_loss: 0.2981 - val_accuracy: 0.8930\n",
            "Epoch 25/30\n",
            "1688/1688 [==============================] - 4s 2ms/step - loss: 0.2400 - accuracy: 0.9139 - val_loss: 0.2992 - val_accuracy: 0.8930\n",
            "Epoch 26/30\n",
            "1688/1688 [==============================] - 4s 2ms/step - loss: 0.2397 - accuracy: 0.9141 - val_loss: 0.3344 - val_accuracy: 0.8772\n",
            "Epoch 27/30\n",
            "1688/1688 [==============================] - 4s 2ms/step - loss: 0.2361 - accuracy: 0.9157 - val_loss: 0.2975 - val_accuracy: 0.8912\n",
            "Epoch 28/30\n",
            "1688/1688 [==============================] - 4s 2ms/step - loss: 0.2320 - accuracy: 0.9163 - val_loss: 0.2857 - val_accuracy: 0.8950\n",
            "Epoch 29/30\n",
            "1688/1688 [==============================] - 4s 2ms/step - loss: 0.2272 - accuracy: 0.9169 - val_loss: 0.2924 - val_accuracy: 0.8932\n",
            "Epoch 30/30\n",
            "1688/1688 [==============================] - 4s 2ms/step - loss: 0.2207 - accuracy: 0.9210 - val_loss: 0.3074 - val_accuracy: 0.8885\n"
          ],
          "name": "stdout"
        }
      ]
    },
    {
      "cell_type": "code",
      "metadata": {
        "colab": {
          "base_uri": "https://localhost:8080/"
        },
        "id": "1ccT-7Qm19fO",
        "outputId": "67eec8ca-5c2c-473b-c331-486f927e9049"
      },
      "source": [
        "print(history.epoch)"
      ],
      "execution_count": 25,
      "outputs": [
        {
          "output_type": "stream",
          "text": [
            "[0, 1, 2, 3, 4, 5, 6, 7, 8, 9, 10, 11, 12, 13, 14, 15, 16, 17, 18, 19, 20, 21, 22, 23, 24, 25, 26, 27, 28, 29]\n"
          ],
          "name": "stdout"
        }
      ]
    },
    {
      "cell_type": "code",
      "metadata": {
        "colab": {
          "base_uri": "https://localhost:8080/"
        },
        "id": "_1OQEHZF2IVr",
        "outputId": "ebaba38a-8958-4129-a01f-9298a2803f75"
      },
      "source": [
        "history.params"
      ],
      "execution_count": 16,
      "outputs": [
        {
          "output_type": "execute_result",
          "data": {
            "text/plain": [
              "{'epochs': 30, 'steps': 1688, 'verbose': 1}"
            ]
          },
          "metadata": {
            "tags": []
          },
          "execution_count": 16
        }
      ]
    },
    {
      "cell_type": "code",
      "metadata": {
        "colab": {
          "base_uri": "https://localhost:8080/"
        },
        "id": "rWPFPI0D2Y_r",
        "outputId": "e8343b1c-c320-497c-e994-360999f52737"
      },
      "source": [
        "history.history.keys()"
      ],
      "execution_count": 17,
      "outputs": [
        {
          "output_type": "execute_result",
          "data": {
            "text/plain": [
              "dict_keys(['loss', 'accuracy', 'val_loss', 'val_accuracy'])"
            ]
          },
          "metadata": {
            "tags": []
          },
          "execution_count": 17
        }
      ]
    },
    {
      "cell_type": "code",
      "metadata": {
        "colab": {
          "base_uri": "https://localhost:8080/"
        },
        "id": "je0py3DE4TFf",
        "outputId": "ffa6091e-1b11-431f-ac40-74d62b56bdce"
      },
      "source": [
        "np.around(history.history['loss'], decimals=4)"
      ],
      "execution_count": 18,
      "outputs": [
        {
          "output_type": "execute_result",
          "data": {
            "text/plain": [
              "array([0.7064, 0.4846, 0.4409, 0.4138, 0.3928, 0.3764, 0.3643, 0.3515,\n",
              "       0.3416, 0.3319, 0.3226, 0.3149, 0.3074, 0.3009, 0.2935, 0.2874,\n",
              "       0.2816, 0.2768, 0.2698, 0.2653, 0.2609, 0.2561, 0.2513, 0.2465,\n",
              "       0.2426, 0.239 , 0.2345, 0.2301, 0.2258, 0.2221])"
            ]
          },
          "metadata": {
            "tags": []
          },
          "execution_count": 18
        }
      ]
    },
    {
      "cell_type": "code",
      "metadata": {
        "colab": {
          "base_uri": "https://localhost:8080/"
        },
        "id": "KxACEIer2cN8",
        "outputId": "e9679932-16a1-4aa3-df6e-eb4ff90ddcfe"
      },
      "source": [
        "np.around(history.history['val_loss'], decimals=4)"
      ],
      "execution_count": 19,
      "outputs": [
        {
          "output_type": "execute_result",
          "data": {
            "text/plain": [
              "array([0.5154, 0.4507, 0.4171, 0.409 , 0.3863, 0.3979, 0.3504, 0.3521,\n",
              "       0.3445, 0.3409, 0.322 , 0.3196, 0.3716, 0.3292, 0.3141, 0.325 ,\n",
              "       0.3428, 0.3094, 0.3465, 0.3474, 0.3048, 0.3104, 0.298 , 0.2981,\n",
              "       0.2992, 0.3344, 0.2975, 0.2857, 0.2924, 0.3074])"
            ]
          },
          "metadata": {
            "tags": []
          },
          "execution_count": 19
        }
      ]
    },
    {
      "cell_type": "code",
      "metadata": {
        "colab": {
          "base_uri": "https://localhost:8080/",
          "height": 279
        },
        "id": "lsCU9-iQ3J38",
        "outputId": "b1028156-d1fa-43a4-8d06-9c2471f025ea"
      },
      "source": [
        "# 손실 곡선\n",
        "plt.plot(history.epoch, history.history['loss'], label='train loss')\n",
        "plt.plot(history.epoch, history.history['val_loss'], label='validation loss')\n",
        "\n",
        "plt.legend()\n",
        "plt.grid()\n",
        "plt.xlabel('epoch')\n",
        "plt.ylabel('loss')\n",
        "plt.show()"
      ],
      "execution_count": 20,
      "outputs": [
        {
          "output_type": "display_data",
          "data": {
            "image/png": "[encoded data removed]",
            "text/plain": [
              "<Figure size 432x288 with 1 Axes>"
            ]
          },
          "metadata": {
            "tags": [],
            "needs_background": "light"
          }
        }
      ]
    },
    {
      "cell_type": "code",
      "metadata": {
        "colab": {
          "base_uri": "https://localhost:8080/",
          "height": 279
        },
        "id": "kOUK63-X5QVE",
        "outputId": "cc4b8f17-c0a2-4732-cfde-02ab447e4056"
      },
      "source": [
        "# 정확도 곡선\n",
        "plt.plot(history.epoch, history.history['accuracy'], label='train accuracy')\n",
        "plt.plot(history.epoch, history.history['val_accuracy'], label='validation accuracy')\n",
        "\n",
        "plt.legend()\n",
        "plt.grid()\n",
        "plt.xlabel('epoch')\n",
        "plt.ylabel('accurarcy')\n",
        "plt.show()"
      ],
      "execution_count": 21,
      "outputs": [
        {
          "output_type": "display_data",
          "data": {
            "image/png": "[encoded data removed]",
            "text/plain": [
              "<Figure size 432x288 with 1 Axes>"
            ]
          },
          "metadata": {
            "tags": [],
            "needs_background": "light"
          }
        }
      ]
    },
    {
      "cell_type": "markdown",
      "metadata": {
        "id": "iKxgajuD8sOU"
      },
      "source": [
        "손실 곡선과 정확도 곡선을 그려보면\n",
        "\n",
        "*   훈련 셋에서는 손실은 작아지고 정확도는 좋아짐.\n",
        "*   검증 셋에서는 어느 순간(epoch)까지는 손실이 줄어들고 정확도도 좋아지다가, 어느 순간 이후로는 더이상 개선되지 않음 - 과대적합(overfitting)\n",
        "*   epoch를 적절한 순간에 멈추는 기법이 필요.\n"
      ]
    },
    {
      "cell_type": "code",
      "metadata": {
        "colab": {
          "base_uri": "https://localhost:8080/",
          "height": 214
        },
        "id": "wnqBrsbm6VPT",
        "outputId": "5a935d27-c47a-4a56-9a1b-8de95ddb2bd6"
      },
      "source": [
        "loss_acc_hist = pd.DataFrame(history.history)\n",
        "loss_acc_hist.head()"
      ],
      "execution_count": 22,
      "outputs": [
        {
          "output_type": "execute_result",
          "data": {
            "text/html": [
              "<div>\n",
              "<style scoped>\n",
              "    .dataframe tbody tr th:only-of-type {\n",
              "        vertical-align: middle;\n",
              "    }\n",
              "\n",
              "    .dataframe tbody tr th {\n",
              "        vertical-align: top;\n",
              "    }\n",
              "\n",
              "    .dataframe thead th {\n",
              "        text-align: right;\n",
              "    }\n",
              "</style>\n",
              "<table border=\"1\" class=\"dataframe\">\n",
              "  <thead>\n",
              "    <tr style=\"text-align: right;\">\n",
              "      <th></th>\n",
              "      <th>loss</th>\n",
              "      <th>accuracy</th>\n",
              "      <th>val_loss</th>\n",
              "      <th>val_accuracy</th>\n",
              "    </tr>\n",
              "  </thead>\n",
              "  <tbody>\n",
              "    <tr>\n",
              "      <th>0</th>\n",
              "      <td>0.706439</td>\n",
              "      <td>0.767167</td>\n",
              "      <td>0.515391</td>\n",
              "      <td>0.819667</td>\n",
              "    </tr>\n",
              "    <tr>\n",
              "      <th>1</th>\n",
              "      <td>0.484557</td>\n",
              "      <td>0.832630</td>\n",
              "      <td>0.450716</td>\n",
              "      <td>0.841333</td>\n",
              "    </tr>\n",
              "    <tr>\n",
              "      <th>2</th>\n",
              "      <td>0.440859</td>\n",
              "      <td>0.847537</td>\n",
              "      <td>0.417089</td>\n",
              "      <td>0.856167</td>\n",
              "    </tr>\n",
              "    <tr>\n",
              "      <th>3</th>\n",
              "      <td>0.413770</td>\n",
              "      <td>0.855889</td>\n",
              "      <td>0.409035</td>\n",
              "      <td>0.856833</td>\n",
              "    </tr>\n",
              "    <tr>\n",
              "      <th>4</th>\n",
              "      <td>0.392839</td>\n",
              "      <td>0.862444</td>\n",
              "      <td>0.386261</td>\n",
              "      <td>0.863500</td>\n",
              "    </tr>\n",
              "  </tbody>\n",
              "</table>\n",
              "</div>"
            ],
            "text/plain": [
              "       loss  accuracy  val_loss  val_accuracy\n",
              "0  0.706439  0.767167  0.515391      0.819667\n",
              "1  0.484557  0.832630  0.450716      0.841333\n",
              "2  0.440859  0.847537  0.417089      0.856167\n",
              "3  0.413770  0.855889  0.409035      0.856833\n",
              "4  0.392839  0.862444  0.386261      0.863500"
            ]
          },
          "metadata": {
            "tags": []
          },
          "execution_count": 22
        }
      ]
    },
    {
      "cell_type": "code",
      "metadata": {
        "colab": {
          "base_uri": "https://localhost:8080/",
          "height": 214
        },
        "id": "HL9-yFAJ9jB1",
        "outputId": "c6a10d51-029e-433e-9f66-cbd1aab83ff8"
      },
      "source": [
        "loss_acc_hist.tail()"
      ],
      "execution_count": 23,
      "outputs": [
        {
          "output_type": "execute_result",
          "data": {
            "text/html": [
              "<div>\n",
              "<style scoped>\n",
              "    .dataframe tbody tr th:only-of-type {\n",
              "        vertical-align: middle;\n",
              "    }\n",
              "\n",
              "    .dataframe tbody tr th {\n",
              "        vertical-align: top;\n",
              "    }\n",
              "\n",
              "    .dataframe thead th {\n",
              "        text-align: right;\n",
              "    }\n",
              "</style>\n",
              "<table border=\"1\" class=\"dataframe\">\n",
              "  <thead>\n",
              "    <tr style=\"text-align: right;\">\n",
              "      <th></th>\n",
              "      <th>loss</th>\n",
              "      <th>accuracy</th>\n",
              "      <th>val_loss</th>\n",
              "      <th>val_accuracy</th>\n",
              "    </tr>\n",
              "  </thead>\n",
              "  <tbody>\n",
              "    <tr>\n",
              "      <th>25</th>\n",
              "      <td>0.239037</td>\n",
              "      <td>0.913704</td>\n",
              "      <td>0.334426</td>\n",
              "      <td>0.877167</td>\n",
              "    </tr>\n",
              "    <tr>\n",
              "      <th>26</th>\n",
              "      <td>0.234489</td>\n",
              "      <td>0.915130</td>\n",
              "      <td>0.297495</td>\n",
              "      <td>0.891167</td>\n",
              "    </tr>\n",
              "    <tr>\n",
              "      <th>27</th>\n",
              "      <td>0.230073</td>\n",
              "      <td>0.916963</td>\n",
              "      <td>0.285741</td>\n",
              "      <td>0.895000</td>\n",
              "    </tr>\n",
              "    <tr>\n",
              "      <th>28</th>\n",
              "      <td>0.225848</td>\n",
              "      <td>0.917463</td>\n",
              "      <td>0.292375</td>\n",
              "      <td>0.893167</td>\n",
              "    </tr>\n",
              "    <tr>\n",
              "      <th>29</th>\n",
              "      <td>0.222063</td>\n",
              "      <td>0.919759</td>\n",
              "      <td>0.307368</td>\n",
              "      <td>0.888500</td>\n",
              "    </tr>\n",
              "  </tbody>\n",
              "</table>\n",
              "</div>"
            ],
            "text/plain": [
              "        loss  accuracy  val_loss  val_accuracy\n",
              "25  0.239037  0.913704  0.334426      0.877167\n",
              "26  0.234489  0.915130  0.297495      0.891167\n",
              "27  0.230073  0.916963  0.285741      0.895000\n",
              "28  0.225848  0.917463  0.292375      0.893167\n",
              "29  0.222063  0.919759  0.307368      0.888500"
            ]
          },
          "metadata": {
            "tags": []
          },
          "execution_count": 23
        }
      ]
    },
    {
      "cell_type": "code",
      "metadata": {
        "colab": {
          "base_uri": "https://localhost:8080/",
          "height": 265
        },
        "id": "KuEzWCQ19osi",
        "outputId": "215eebf2-b7f9-4161-c6a8-85087154a90d"
      },
      "source": [
        "loss_acc_hist.plot()\n",
        "\n",
        "plt.grid()\n",
        "plt.show()"
      ],
      "execution_count": 24,
      "outputs": [
        {
          "output_type": "display_data",
          "data": {
            "image/png": "[encoded data removed]",
            "text/plain": [
              "<Figure size 432x288 with 1 Axes>"
            ]
          },
          "metadata": {
            "tags": [],
            "needs_background": "light"
          }
        }
      ]
    },
    {
      "cell_type": "markdown",
      "metadata": {
        "id": "WaaFGVJ6UoNJ"
      },
      "source": [
        "# Optimizer 튜닝"
      ]
    },
    {
      "cell_type": "markdown",
      "metadata": {
        "id": "SsjRvOdwUvGA"
      },
      "source": [
        "Optimizer - 밑바닥부터 시작하는 딥러닝 6장 참고\n",
        "\n",
        "*   sgd\n",
        "*   RMSProp\n",
        "*   Adam"
      ]
    },
    {
      "cell_type": "markdown",
      "metadata": {
        "id": "BLxpFIwCZlUI"
      },
      "source": [
        "## Momentum"
      ]
    },
    {
      "cell_type": "code",
      "metadata": {
        "id": "sVnjzBG-9xDD"
      },
      "source": [
        "def create_model():\n",
        "    model = keras.Sequential()\n",
        "    model.add(keras.layers.Flatten(input_shape=(28, 28)))\n",
        "    model.add(keras.layers.Dense(units=300, activation='relu'))\n",
        "    model.add(keras.layers.Dense(units=100, activation='relu'))\n",
        "    model.add(keras.layers.Dense(units=10, activation='softmax'))\n",
        "    return model"
      ],
      "execution_count": 27,
      "outputs": []
    },
    {
      "cell_type": "code",
      "metadata": {
        "colab": {
          "base_uri": "https://localhost:8080/"
        },
        "id": "SSt67fRPVH64",
        "outputId": "c14e6154-a0cb-42d4-91be-8b373728d47c"
      },
      "source": [
        "model1 = create_model()\n",
        "model1.summary()"
      ],
      "execution_count": 28,
      "outputs": [
        {
          "output_type": "stream",
          "text": [
            "Model: \"sequential_1\"\n",
            "_________________________________________________________________\n",
            "Layer (type)                 Output Shape              Param #   \n",
            "=================================================================\n",
            "flatten_1 (Flatten)          (None, 784)               0         \n",
            "_________________________________________________________________\n",
            "dense_3 (Dense)              (None, 300)               235500    \n",
            "_________________________________________________________________\n",
            "dense_4 (Dense)              (None, 100)               30100     \n",
            "_________________________________________________________________\n",
            "dense_5 (Dense)              (None, 10)                1010      \n",
            "=================================================================\n",
            "Total params: 266,610\n",
            "Trainable params: 266,610\n",
            "Non-trainable params: 0\n",
            "_________________________________________________________________\n"
          ],
          "name": "stdout"
        }
      ]
    },
    {
      "cell_type": "code",
      "metadata": {
        "id": "qxACzQGQVpn4"
      },
      "source": [
        "optimizer = keras.optimizers.SGD(momentum=0.9)\n",
        "model1.compile(optimizer=optimizer, loss='sparse_categorical_crossentropy', metrics='accuracy')"
      ],
      "execution_count": 29,
      "outputs": []
    },
    {
      "cell_type": "code",
      "metadata": {
        "colab": {
          "base_uri": "https://localhost:8080/"
        },
        "id": "A49ZKAwcXA_Z",
        "outputId": "3eb7d39e-ff5e-4788-e07f-5985f8a2d127"
      },
      "source": [
        "history1 = model1.fit(x_train, y_train, epochs=30, validation_data=(x_val, y_val))"
      ],
      "execution_count": 30,
      "outputs": [
        {
          "output_type": "stream",
          "text": [
            "Epoch 1/30\n",
            "1688/1688 [==============================] - 4s 2ms/step - loss: 0.7043 - accuracy: 0.7468 - val_loss: 0.4067 - val_accuracy: 0.8502\n",
            "Epoch 2/30\n",
            "1688/1688 [==============================] - 4s 2ms/step - loss: 0.4011 - accuracy: 0.8531 - val_loss: 0.3432 - val_accuracy: 0.8748\n",
            "Epoch 3/30\n",
            "1688/1688 [==============================] - 4s 2ms/step - loss: 0.3516 - accuracy: 0.8719 - val_loss: 0.3320 - val_accuracy: 0.8790\n",
            "Epoch 4/30\n",
            "1688/1688 [==============================] - 4s 2ms/step - loss: 0.3213 - accuracy: 0.8820 - val_loss: 0.3596 - val_accuracy: 0.8638\n",
            "Epoch 5/30\n",
            "1688/1688 [==============================] - 4s 2ms/step - loss: 0.3036 - accuracy: 0.8857 - val_loss: 0.3092 - val_accuracy: 0.8897\n",
            "Epoch 6/30\n",
            "1688/1688 [==============================] - 4s 2ms/step - loss: 0.2836 - accuracy: 0.8940 - val_loss: 0.3220 - val_accuracy: 0.8825\n",
            "Epoch 7/30\n",
            "1688/1688 [==============================] - 4s 2ms/step - loss: 0.2779 - accuracy: 0.8943 - val_loss: 0.3197 - val_accuracy: 0.8867\n",
            "Epoch 8/30\n",
            "1688/1688 [==============================] - 4s 2ms/step - loss: 0.2603 - accuracy: 0.9001 - val_loss: 0.2923 - val_accuracy: 0.8957\n",
            "Epoch 9/30\n",
            "1688/1688 [==============================] - 4s 2ms/step - loss: 0.2508 - accuracy: 0.9057 - val_loss: 0.3144 - val_accuracy: 0.8912\n",
            "Epoch 10/30\n",
            "1688/1688 [==============================] - 4s 2ms/step - loss: 0.2404 - accuracy: 0.9100 - val_loss: 0.3036 - val_accuracy: 0.8887\n",
            "Epoch 11/30\n",
            "1688/1688 [==============================] - 4s 2ms/step - loss: 0.2330 - accuracy: 0.9115 - val_loss: 0.2860 - val_accuracy: 0.8985\n",
            "Epoch 12/30\n",
            "1688/1688 [==============================] - 3s 2ms/step - loss: 0.2251 - accuracy: 0.9158 - val_loss: 0.2927 - val_accuracy: 0.8973\n",
            "Epoch 13/30\n",
            "1688/1688 [==============================] - 4s 2ms/step - loss: 0.2202 - accuracy: 0.9164 - val_loss: 0.3110 - val_accuracy: 0.8887\n",
            "Epoch 14/30\n",
            "1688/1688 [==============================] - 4s 2ms/step - loss: 0.2099 - accuracy: 0.9206 - val_loss: 0.2913 - val_accuracy: 0.8972\n",
            "Epoch 15/30\n",
            "1688/1688 [==============================] - 4s 2ms/step - loss: 0.2003 - accuracy: 0.9253 - val_loss: 0.3042 - val_accuracy: 0.8945\n",
            "Epoch 16/30\n",
            "1688/1688 [==============================] - 4s 2ms/step - loss: 0.2008 - accuracy: 0.9240 - val_loss: 0.3087 - val_accuracy: 0.8918\n",
            "Epoch 17/30\n",
            "1688/1688 [==============================] - 4s 2ms/step - loss: 0.1942 - accuracy: 0.9251 - val_loss: 0.3083 - val_accuracy: 0.8990\n",
            "Epoch 18/30\n",
            "1688/1688 [==============================] - 4s 2ms/step - loss: 0.1804 - accuracy: 0.9331 - val_loss: 0.3123 - val_accuracy: 0.8968\n",
            "Epoch 19/30\n",
            "1688/1688 [==============================] - 4s 2ms/step - loss: 0.1779 - accuracy: 0.9313 - val_loss: 0.2870 - val_accuracy: 0.9047\n",
            "Epoch 20/30\n",
            "1688/1688 [==============================] - 4s 2ms/step - loss: 0.1752 - accuracy: 0.9323 - val_loss: 0.3014 - val_accuracy: 0.9013\n",
            "Epoch 21/30\n",
            "1688/1688 [==============================] - 4s 2ms/step - loss: 0.1758 - accuracy: 0.9315 - val_loss: 0.3110 - val_accuracy: 0.8968\n",
            "Epoch 22/30\n",
            "1688/1688 [==============================] - 4s 2ms/step - loss: 0.1683 - accuracy: 0.9364 - val_loss: 0.3189 - val_accuracy: 0.9015\n",
            "Epoch 23/30\n",
            "1688/1688 [==============================] - 4s 2ms/step - loss: 0.1666 - accuracy: 0.9375 - val_loss: 0.3087 - val_accuracy: 0.8985\n",
            "Epoch 24/30\n",
            "1688/1688 [==============================] - 4s 3ms/step - loss: 0.1561 - accuracy: 0.9409 - val_loss: 0.3304 - val_accuracy: 0.8923\n",
            "Epoch 25/30\n",
            "1688/1688 [==============================] - 4s 2ms/step - loss: 0.1561 - accuracy: 0.9386 - val_loss: 0.3387 - val_accuracy: 0.8910\n",
            "Epoch 26/30\n",
            "1688/1688 [==============================] - 4s 2ms/step - loss: 0.1544 - accuracy: 0.9406 - val_loss: 0.3484 - val_accuracy: 0.8945\n",
            "Epoch 27/30\n",
            "1688/1688 [==============================] - 4s 2ms/step - loss: 0.1510 - accuracy: 0.9418 - val_loss: 0.3359 - val_accuracy: 0.8988\n",
            "Epoch 28/30\n",
            "1688/1688 [==============================] - 4s 2ms/step - loss: 0.1464 - accuracy: 0.9427 - val_loss: 0.3220 - val_accuracy: 0.9023\n",
            "Epoch 29/30\n",
            "1688/1688 [==============================] - 4s 2ms/step - loss: 0.1392 - accuracy: 0.9472 - val_loss: 0.3369 - val_accuracy: 0.8995\n",
            "Epoch 30/30\n",
            "1688/1688 [==============================] - 4s 2ms/step - loss: 0.1393 - accuracy: 0.9466 - val_loss: 0.3242 - val_accuracy: 0.9015\n"
          ],
          "name": "stdout"
        }
      ]
    },
    {
      "cell_type": "code",
      "metadata": {
        "colab": {
          "base_uri": "https://localhost:8080/",
          "height": 214
        },
        "id": "bUPIkRQVXLMn",
        "outputId": "fdd4e3f0-3bd4-48df-ae0d-22728ac16b91"
      },
      "source": [
        "hist1 = pd.DataFrame(history1.history)  # dict --> DataFrame\n",
        "hist1.head()"
      ],
      "execution_count": 31,
      "outputs": [
        {
          "output_type": "execute_result",
          "data": {
            "text/html": [
              "<div>\n",
              "<style scoped>\n",
              "    .dataframe tbody tr th:only-of-type {\n",
              "        vertical-align: middle;\n",
              "    }\n",
              "\n",
              "    .dataframe tbody tr th {\n",
              "        vertical-align: top;\n",
              "    }\n",
              "\n",
              "    .dataframe thead th {\n",
              "        text-align: right;\n",
              "    }\n",
              "</style>\n",
              "<table border=\"1\" class=\"dataframe\">\n",
              "  <thead>\n",
              "    <tr style=\"text-align: right;\">\n",
              "      <th></th>\n",
              "      <th>loss</th>\n",
              "      <th>accuracy</th>\n",
              "      <th>val_loss</th>\n",
              "      <th>val_accuracy</th>\n",
              "    </tr>\n",
              "  </thead>\n",
              "  <tbody>\n",
              "    <tr>\n",
              "      <th>0</th>\n",
              "      <td>0.527536</td>\n",
              "      <td>0.810167</td>\n",
              "      <td>0.406696</td>\n",
              "      <td>0.850167</td>\n",
              "    </tr>\n",
              "    <tr>\n",
              "      <th>1</th>\n",
              "      <td>0.390022</td>\n",
              "      <td>0.857185</td>\n",
              "      <td>0.343186</td>\n",
              "      <td>0.874833</td>\n",
              "    </tr>\n",
              "    <tr>\n",
              "      <th>2</th>\n",
              "      <td>0.347356</td>\n",
              "      <td>0.872019</td>\n",
              "      <td>0.332018</td>\n",
              "      <td>0.879000</td>\n",
              "    </tr>\n",
              "    <tr>\n",
              "      <th>3</th>\n",
              "      <td>0.322401</td>\n",
              "      <td>0.880889</td>\n",
              "      <td>0.359626</td>\n",
              "      <td>0.863833</td>\n",
              "    </tr>\n",
              "    <tr>\n",
              "      <th>4</th>\n",
              "      <td>0.302178</td>\n",
              "      <td>0.886778</td>\n",
              "      <td>0.309193</td>\n",
              "      <td>0.889667</td>\n",
              "    </tr>\n",
              "  </tbody>\n",
              "</table>\n",
              "</div>"
            ],
            "text/plain": [
              "       loss  accuracy  val_loss  val_accuracy\n",
              "0  0.527536  0.810167  0.406696      0.850167\n",
              "1  0.390022  0.857185  0.343186      0.874833\n",
              "2  0.347356  0.872019  0.332018      0.879000\n",
              "3  0.322401  0.880889  0.359626      0.863833\n",
              "4  0.302178  0.886778  0.309193      0.889667"
            ]
          },
          "metadata": {
            "tags": []
          },
          "execution_count": 31
        }
      ]
    },
    {
      "cell_type": "code",
      "metadata": {
        "colab": {
          "base_uri": "https://localhost:8080/",
          "height": 265
        },
        "id": "ONo1vVj6Xz_x",
        "outputId": "1d22a100-07fb-4dbe-c267-2ec2f690e5ce"
      },
      "source": [
        "hist1.plot()\n",
        "plt.grid()\n",
        "plt.show()"
      ],
      "execution_count": 32,
      "outputs": [
        {
          "output_type": "display_data",
          "data": {
            "image/png": "[encoded data removed]",
            "text/plain": [
              "<Figure size 432x288 with 1 Axes>"
            ]
          },
          "metadata": {
            "tags": [],
            "needs_background": "light"
          }
        }
      ]
    },
    {
      "cell_type": "code",
      "metadata": {
        "colab": {
          "base_uri": "https://localhost:8080/"
        },
        "id": "EJa3rNf0X8dQ",
        "outputId": "588858bb-755b-4ac9-ab74-dab0ddf211fc"
      },
      "source": [
        "np.argmin(hist1['val_loss'])"
      ],
      "execution_count": 34,
      "outputs": [
        {
          "output_type": "execute_result",
          "data": {
            "text/plain": [
              "10"
            ]
          },
          "metadata": {
            "tags": []
          },
          "execution_count": 34
        }
      ]
    },
    {
      "cell_type": "code",
      "metadata": {
        "colab": {
          "base_uri": "https://localhost:8080/"
        },
        "id": "A9hMUx_IYnI9",
        "outputId": "2bc025cd-fe0a-4ccd-945d-11e2866e7349"
      },
      "source": [
        "np.argmax(hist1['val_accuracy'])"
      ],
      "execution_count": 35,
      "outputs": [
        {
          "output_type": "execute_result",
          "data": {
            "text/plain": [
              "18"
            ]
          },
          "metadata": {
            "tags": []
          },
          "execution_count": 35
        }
      ]
    },
    {
      "cell_type": "markdown",
      "metadata": {
        "id": "BZz_aRLXaCt4"
      },
      "source": [
        "## RMSProp"
      ]
    },
    {
      "cell_type": "code",
      "metadata": {
        "colab": {
          "base_uri": "https://localhost:8080/"
        },
        "id": "WP3hjgrjYrcw",
        "outputId": "15fe042f-a601-4a9d-ed1d-a22d6a14406e"
      },
      "source": [
        "model2 = create_model()\n",
        "model2.compile(optimizer='rmsprop', loss='sparse_categorical_crossentropy', metrics='accuracy')\n",
        "history2 = model2.fit(x_train, y_train, epochs=30, validation_data=(x_val, y_val))"
      ],
      "execution_count": 37,
      "outputs": [
        {
          "output_type": "stream",
          "text": [
            "Epoch 1/30\n",
            "1688/1688 [==============================] - 5s 3ms/step - loss: 0.6397 - accuracy: 0.7677 - val_loss: 0.3882 - val_accuracy: 0.8547\n",
            "Epoch 2/30\n",
            "1688/1688 [==============================] - 4s 2ms/step - loss: 0.4008 - accuracy: 0.8550 - val_loss: 0.3839 - val_accuracy: 0.8605\n",
            "Epoch 3/30\n",
            "1688/1688 [==============================] - 5s 3ms/step - loss: 0.3737 - accuracy: 0.8685 - val_loss: 0.4118 - val_accuracy: 0.8652\n",
            "Epoch 4/30\n",
            "1688/1688 [==============================] - 4s 3ms/step - loss: 0.3558 - accuracy: 0.8757 - val_loss: 0.3784 - val_accuracy: 0.8740\n",
            "Epoch 5/30\n",
            "1688/1688 [==============================] - 4s 3ms/step - loss: 0.3403 - accuracy: 0.8828 - val_loss: 0.3621 - val_accuracy: 0.8813\n",
            "Epoch 6/30\n",
            "1688/1688 [==============================] - 4s 3ms/step - loss: 0.3301 - accuracy: 0.8851 - val_loss: 0.4244 - val_accuracy: 0.8672\n",
            "Epoch 7/30\n",
            "1688/1688 [==============================] - 4s 3ms/step - loss: 0.3336 - accuracy: 0.8863 - val_loss: 0.3663 - val_accuracy: 0.8803\n",
            "Epoch 8/30\n",
            "1688/1688 [==============================] - 4s 3ms/step - loss: 0.3230 - accuracy: 0.8887 - val_loss: 0.4028 - val_accuracy: 0.8858\n",
            "Epoch 9/30\n",
            "1688/1688 [==============================] - 4s 3ms/step - loss: 0.3230 - accuracy: 0.8922 - val_loss: 0.4180 - val_accuracy: 0.8742\n",
            "Epoch 10/30\n",
            "1688/1688 [==============================] - 4s 2ms/step - loss: 0.3133 - accuracy: 0.8923 - val_loss: 0.4209 - val_accuracy: 0.8752\n",
            "Epoch 11/30\n",
            "1688/1688 [==============================] - 4s 3ms/step - loss: 0.2979 - accuracy: 0.8995 - val_loss: 0.4536 - val_accuracy: 0.8822\n",
            "Epoch 12/30\n",
            "1688/1688 [==============================] - 4s 3ms/step - loss: 0.3069 - accuracy: 0.8984 - val_loss: 0.3849 - val_accuracy: 0.8882\n",
            "Epoch 13/30\n",
            "1688/1688 [==============================] - 4s 2ms/step - loss: 0.2945 - accuracy: 0.9029 - val_loss: 0.4583 - val_accuracy: 0.8863\n",
            "Epoch 14/30\n",
            "1688/1688 [==============================] - 4s 2ms/step - loss: 0.2959 - accuracy: 0.9026 - val_loss: 0.4273 - val_accuracy: 0.8915\n",
            "Epoch 15/30\n",
            "1688/1688 [==============================] - 4s 2ms/step - loss: 0.2986 - accuracy: 0.9034 - val_loss: 0.4857 - val_accuracy: 0.8885\n",
            "Epoch 16/30\n",
            "1688/1688 [==============================] - 4s 3ms/step - loss: 0.2858 - accuracy: 0.9067 - val_loss: 0.4813 - val_accuracy: 0.8698\n",
            "Epoch 17/30\n",
            "1688/1688 [==============================] - 4s 2ms/step - loss: 0.2916 - accuracy: 0.9042 - val_loss: 0.4394 - val_accuracy: 0.8952\n",
            "Epoch 18/30\n",
            "1688/1688 [==============================] - 4s 3ms/step - loss: 0.2758 - accuracy: 0.9088 - val_loss: 0.5731 - val_accuracy: 0.8685\n",
            "Epoch 19/30\n",
            "1688/1688 [==============================] - 4s 2ms/step - loss: 0.2803 - accuracy: 0.9089 - val_loss: 0.4773 - val_accuracy: 0.8917\n",
            "Epoch 20/30\n",
            "1688/1688 [==============================] - 4s 3ms/step - loss: 0.2700 - accuracy: 0.9122 - val_loss: 0.4729 - val_accuracy: 0.8908\n",
            "Epoch 21/30\n",
            "1688/1688 [==============================] - 4s 2ms/step - loss: 0.2747 - accuracy: 0.9122 - val_loss: 0.5150 - val_accuracy: 0.8848\n",
            "Epoch 22/30\n",
            "1688/1688 [==============================] - 4s 3ms/step - loss: 0.2643 - accuracy: 0.9138 - val_loss: 0.5128 - val_accuracy: 0.8855\n",
            "Epoch 23/30\n",
            "1688/1688 [==============================] - 4s 3ms/step - loss: 0.2688 - accuracy: 0.9142 - val_loss: 0.5236 - val_accuracy: 0.8853\n",
            "Epoch 24/30\n",
            "1688/1688 [==============================] - 4s 3ms/step - loss: 0.2727 - accuracy: 0.9149 - val_loss: 0.5711 - val_accuracy: 0.8913\n",
            "Epoch 25/30\n",
            "1688/1688 [==============================] - 4s 2ms/step - loss: 0.2661 - accuracy: 0.9134 - val_loss: 0.5782 - val_accuracy: 0.8903\n",
            "Epoch 26/30\n",
            "1688/1688 [==============================] - 4s 2ms/step - loss: 0.2636 - accuracy: 0.9183 - val_loss: 0.5496 - val_accuracy: 0.8827\n",
            "Epoch 27/30\n",
            "1688/1688 [==============================] - 5s 3ms/step - loss: 0.2592 - accuracy: 0.9153 - val_loss: 0.6282 - val_accuracy: 0.8758\n",
            "Epoch 28/30\n",
            "1688/1688 [==============================] - 5s 3ms/step - loss: 0.2632 - accuracy: 0.9181 - val_loss: 0.6509 - val_accuracy: 0.8842\n",
            "Epoch 29/30\n",
            "1688/1688 [==============================] - 4s 3ms/step - loss: 0.2541 - accuracy: 0.9205 - val_loss: 0.7504 - val_accuracy: 0.8753\n",
            "Epoch 30/30\n",
            "1688/1688 [==============================] - 4s 2ms/step - loss: 0.2590 - accuracy: 0.9175 - val_loss: 1.0047 - val_accuracy: 0.8533\n"
          ],
          "name": "stdout"
        }
      ]
    },
    {
      "cell_type": "code",
      "metadata": {
        "id": "oi2KXlnaar4B"
      },
      "source": [
        "hist2 = history2.history"
      ],
      "execution_count": 38,
      "outputs": []
    },
    {
      "cell_type": "code",
      "metadata": {
        "id": "oVAR7ScrdiWY"
      },
      "source": [
        ""
      ],
      "execution_count": null,
      "outputs": []
    }
  ]
}