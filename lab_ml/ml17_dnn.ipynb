{
  "nbformat": 4,
  "nbformat_minor": 0,
  "metadata": {
    "colab": {
      "name": "ml17_dnn.ipynb",
      "provenance": [],
      "collapsed_sections": [],
      "authorship_tag": "ABX9TyM9WQIjiBMwEptCpRvgoAAJ",
      "include_colab_link": true
    },
    "kernelspec": {
      "name": "python3",
      "display_name": "Python 3"
    },
    "language_info": {
      "name": "python"
    },
    "accelerator": "GPU"
  },
  "cells": [
    {
      "cell_type": "markdown",
      "metadata": {
        "id": "view-in-github",
        "colab_type": "text"
      },
      "source": [
        "<a href=\"https://colab.research.google.com/github/JakeOh/202011_itw_bd21/blob/main/lab_ml/ml17_dnn.ipynb\" target=\"_parent\"><img src=\"https://colab.research.google.com/assets/colab-badge.svg\" alt=\"Open In Colab\"/></a>"
      ]
    },
    {
      "cell_type": "markdown",
      "metadata": {
        "id": "Nhs0clFYoTF4"
      },
      "source": [
        "# Imports"
      ]
    },
    {
      "cell_type": "code",
      "metadata": {
        "id": "juxIQi11oGt6"
      },
      "source": [
        "import numpy as np\n",
        "import pandas as pd\n",
        "import matplotlib.pyplot as plt\n",
        "\n",
        "from sklearn.model_selection import train_test_split\n",
        "\n",
        "import tensorflow as tf\n",
        "from tensorflow import keras"
      ],
      "execution_count": 1,
      "outputs": []
    },
    {
      "cell_type": "markdown",
      "metadata": {
        "id": "GHIIPO7Hoqkm"
      },
      "source": [
        "# Fashion MNIST datasets"
      ]
    },
    {
      "cell_type": "code",
      "metadata": {
        "colab": {
          "base_uri": "https://localhost:8080/"
        },
        "id": "zQnherdCoo11",
        "outputId": "fd9aeeff-a703-4b51-f038-8e4dd2b9e8e9"
      },
      "source": [
        "(x_train_full, y_train_full), (x_test, y_test) = keras.datasets.fashion_mnist.load_data()"
      ],
      "execution_count": 2,
      "outputs": [
        {
          "output_type": "stream",
          "text": [
            "Downloading data from https://storage.googleapis.com/tensorflow/tf-keras-datasets/train-labels-idx1-ubyte.gz\n",
            "32768/29515 [=================================] - 0s 0us/step\n",
            "Downloading data from https://storage.googleapis.com/tensorflow/tf-keras-datasets/train-images-idx3-ubyte.gz\n",
            "26427392/26421880 [==============================] - 0s 0us/step\n",
            "Downloading data from https://storage.googleapis.com/tensorflow/tf-keras-datasets/t10k-labels-idx1-ubyte.gz\n",
            "8192/5148 [===============================================] - 0s 0us/step\n",
            "Downloading data from https://storage.googleapis.com/tensorflow/tf-keras-datasets/t10k-images-idx3-ubyte.gz\n",
            "4423680/4422102 [==============================] - 0s 0us/step\n"
          ],
          "name": "stdout"
        }
      ]
    },
    {
      "cell_type": "code",
      "metadata": {
        "colab": {
          "base_uri": "https://localhost:8080/"
        },
        "id": "nu1frOhDpkJ4",
        "outputId": "d3bad353-2549-4d92-c8dd-f3a11d888065"
      },
      "source": [
        "x_train_full.shape"
      ],
      "execution_count": 3,
      "outputs": [
        {
          "output_type": "execute_result",
          "data": {
            "text/plain": [
              "(60000, 28, 28)"
            ]
          },
          "metadata": {
            "tags": []
          },
          "execution_count": 3
        }
      ]
    },
    {
      "cell_type": "code",
      "metadata": {
        "colab": {
          "base_uri": "https://localhost:8080/"
        },
        "id": "xKs06zxbpn_N",
        "outputId": "3d767c39-9afc-412f-f7c6-66a3e23d6a28"
      },
      "source": [
        "x_test.shape"
      ],
      "execution_count": 4,
      "outputs": [
        {
          "output_type": "execute_result",
          "data": {
            "text/plain": [
              "(10000, 28, 28)"
            ]
          },
          "metadata": {
            "tags": []
          },
          "execution_count": 4
        }
      ]
    },
    {
      "cell_type": "markdown",
      "metadata": {
        "id": "USAXVYJRrBid"
      },
      "source": [
        "0 ~ 255 정수 범위의 입력값들을 0.0 ~ 1.0 범위의 실수(float)으로 변환 -> 훈련 성능을 높이기 위해서"
      ]
    },
    {
      "cell_type": "code",
      "metadata": {
        "colab": {
          "base_uri": "https://localhost:8080/"
        },
        "id": "uBtOLCZgqSFe",
        "outputId": "cf9bd352-609e-4848-f3b5-d0f0adaa63d9"
      },
      "source": [
        "np.min(x_train_full), np.max(x_train_full)"
      ],
      "execution_count": 5,
      "outputs": [
        {
          "output_type": "execute_result",
          "data": {
            "text/plain": [
              "(0, 255)"
            ]
          },
          "metadata": {
            "tags": []
          },
          "execution_count": 5
        }
      ]
    },
    {
      "cell_type": "code",
      "metadata": {
        "id": "3J2N7ha2rl8u"
      },
      "source": [
        "x_train_full_scaled = x_train_full / 255.0\n",
        "x_test_scaled = x_test / 255.0"
      ],
      "execution_count": 6,
      "outputs": []
    },
    {
      "cell_type": "code",
      "metadata": {
        "colab": {
          "base_uri": "https://localhost:8080/"
        },
        "id": "scqYCvwKruu0",
        "outputId": "646534a5-5dc6-4127-d6f7-2c5ba68b9708"
      },
      "source": [
        "np.min(x_train_full_scaled), np.max(x_train_full_scaled)"
      ],
      "execution_count": 7,
      "outputs": [
        {
          "output_type": "execute_result",
          "data": {
            "text/plain": [
              "(0.0, 1.0)"
            ]
          },
          "metadata": {
            "tags": []
          },
          "execution_count": 7
        }
      ]
    },
    {
      "cell_type": "markdown",
      "metadata": {
        "id": "AeYlVFBDsA0l"
      },
      "source": [
        "훈련 셋 전체를 훈련 셋(train set)과 검증 셋(validation set)으로 나눔."
      ]
    },
    {
      "cell_type": "code",
      "metadata": {
        "id": "q2bh9Y4Tr0j0"
      },
      "source": [
        "x_train, x_val, y_train, y_val = train_test_split(x_train_full_scaled, y_train_full,\n",
        "                                                  stratify=y_train_full,\n",
        "                                                  test_size=0.1,\n",
        "                                                  random_state=42)\n",
        "#> 훈련 셋(x_train), 검증 셋(x_val), 훈련 타겟(y_train), 검증 타겟(y_val)"
      ],
      "execution_count": 8,
      "outputs": []
    },
    {
      "cell_type": "code",
      "metadata": {
        "colab": {
          "base_uri": "https://localhost:8080/"
        },
        "id": "ItD5GVbTs9-t",
        "outputId": "cd506ea9-c7eb-45f7-fe55-66752c285282"
      },
      "source": [
        "x_train.shape, x_val.shape"
      ],
      "execution_count": 9,
      "outputs": [
        {
          "output_type": "execute_result",
          "data": {
            "text/plain": [
              "((54000, 28, 28), (6000, 28, 28))"
            ]
          },
          "metadata": {
            "tags": []
          },
          "execution_count": 9
        }
      ]
    },
    {
      "cell_type": "code",
      "metadata": {
        "colab": {
          "base_uri": "https://localhost:8080/"
        },
        "id": "ooS7GW8StBEM",
        "outputId": "1e0bbf77-2536-4996-edf2-4429be0163ef"
      },
      "source": [
        "y_train.shape, y_val.shape"
      ],
      "execution_count": 10,
      "outputs": [
        {
          "output_type": "execute_result",
          "data": {
            "text/plain": [
              "((54000,), (6000,))"
            ]
          },
          "metadata": {
            "tags": []
          },
          "execution_count": 10
        }
      ]
    },
    {
      "cell_type": "markdown",
      "metadata": {
        "id": "TNEDg6UtteAU"
      },
      "source": [
        "# DNN"
      ]
    },
    {
      "cell_type": "markdown",
      "metadata": {
        "id": "F1ZIljZBuqj8"
      },
      "source": [
        "input layer --> flatten layer --> dense layer(300 units) --> dense layer(100 units) --> output layer"
      ]
    },
    {
      "cell_type": "code",
      "metadata": {
        "colab": {
          "base_uri": "https://localhost:8080/"
        },
        "id": "1OqMZmEFtGjs",
        "outputId": "2cae5245-dbd5-4fb4-8921-15aead921446"
      },
      "source": [
        "# Sequential 모델 생성\n",
        "model = keras.Sequential()\n",
        "# flatten layer 추가: (28, 28) shape 배열 --> (784,) shape 배열\n",
        "model.add(keras.layers.Flatten(input_shape=(28, 28)))\n",
        "# 첫번째 hidden layer\n",
        "model.add(keras.layers.Dense(units=300, activation='relu'))\n",
        "# 두번째 hidden layer\n",
        "model.add(keras.layers.Dense(units=100, activation='relu'))\n",
        "# output layer\n",
        "model.add(keras.layers.Dense(units=10, activation='softmax'))\n",
        "\n",
        "# 모델 확인\n",
        "model.summary()"
      ],
      "execution_count": 11,
      "outputs": [
        {
          "output_type": "stream",
          "text": [
            "Model: \"sequential\"\n",
            "_________________________________________________________________\n",
            "Layer (type)                 Output Shape              Param #   \n",
            "=================================================================\n",
            "flatten (Flatten)            (None, 784)               0         \n",
            "_________________________________________________________________\n",
            "dense (Dense)                (None, 300)               235500    \n",
            "_________________________________________________________________\n",
            "dense_1 (Dense)              (None, 100)               30100     \n",
            "_________________________________________________________________\n",
            "dense_2 (Dense)              (None, 10)                1010      \n",
            "=================================================================\n",
            "Total params: 266,610\n",
            "Trainable params: 266,610\n",
            "Non-trainable params: 0\n",
            "_________________________________________________________________\n"
          ],
          "name": "stdout"
        }
      ]
    },
    {
      "cell_type": "code",
      "metadata": {
        "colab": {
          "base_uri": "https://localhost:8080/",
          "height": 533
        },
        "id": "ioigEjNlwNKF",
        "outputId": "cc6da49f-6c10-442f-e4b3-f5ef5d88db38"
      },
      "source": [
        "keras.utils.plot_model(model, show_shapes=True, to_file='dnn1.png')"
      ],
      "execution_count": 12,
      "outputs": [
        {
          "output_type": "execute_result",
          "data": {
            "image/png": "[encoded data removed]",
            "text/plain": [
              "<IPython.core.display.Image object>"
            ]
          },
          "metadata": {
            "tags": []
          },
          "execution_count": 12
        }
      ]
    },
    {
      "cell_type": "code",
      "metadata": {
        "id": "-EUp12IvyJ00"
      },
      "source": [
        "# 모델 컴파일\n",
        "model.compile(optimizer='sgd', loss='sparse_categorical_crossentropy', metrics='accuracy')"
      ],
      "execution_count": 13,
      "outputs": []
    },
    {
      "cell_type": "code",
      "metadata": {
        "colab": {
          "base_uri": "https://localhost:8080/"
        },
        "id": "TSfqCfxMydL1",
        "outputId": "0614fe11-79b9-47ef-9609-15b7066f76d9"
      },
      "source": [
        "# 모델 훈련\n",
        "history = model.fit(x_train, y_train, epochs=30, validation_data=(x_val, y_val))"
      ],
      "execution_count": 14,
      "outputs": [
        {
          "output_type": "stream",
          "text": [
            "Epoch 1/30\n",
            "1688/1688 [==============================] - 7s 2ms/step - loss: 0.9733 - accuracy: 0.6910 - val_loss: 0.5154 - val_accuracy: 0.8197\n",
            "Epoch 2/30\n",
            "1688/1688 [==============================] - 4s 2ms/step - loss: 0.5023 - accuracy: 0.8260 - val_loss: 0.4507 - val_accuracy: 0.8413\n",
            "Epoch 3/30\n",
            "1688/1688 [==============================] - 4s 2ms/step - loss: 0.4491 - accuracy: 0.8449 - val_loss: 0.4171 - val_accuracy: 0.8562\n",
            "Epoch 4/30\n",
            "1688/1688 [==============================] - 4s 2ms/step - loss: 0.4211 - accuracy: 0.8546 - val_loss: 0.4090 - val_accuracy: 0.8568\n",
            "Epoch 5/30\n",
            "1688/1688 [==============================] - 4s 2ms/step - loss: 0.3943 - accuracy: 0.8619 - val_loss: 0.3863 - val_accuracy: 0.8635\n",
            "Epoch 6/30\n",
            "1688/1688 [==============================] - 4s 2ms/step - loss: 0.3760 - accuracy: 0.8672 - val_loss: 0.3979 - val_accuracy: 0.8582\n",
            "Epoch 7/30\n",
            "1688/1688 [==============================] - 4s 2ms/step - loss: 0.3652 - accuracy: 0.8707 - val_loss: 0.3504 - val_accuracy: 0.8775\n",
            "Epoch 8/30\n",
            "1688/1688 [==============================] - 4s 2ms/step - loss: 0.3479 - accuracy: 0.8762 - val_loss: 0.3521 - val_accuracy: 0.8747\n",
            "Epoch 9/30\n",
            "1688/1688 [==============================] - 4s 2ms/step - loss: 0.3424 - accuracy: 0.8785 - val_loss: 0.3445 - val_accuracy: 0.8765\n",
            "Epoch 10/30\n",
            "1688/1688 [==============================] - 4s 2ms/step - loss: 0.3317 - accuracy: 0.8841 - val_loss: 0.3409 - val_accuracy: 0.8785\n",
            "Epoch 11/30\n",
            "1688/1688 [==============================] - 4s 2ms/step - loss: 0.3257 - accuracy: 0.8830 - val_loss: 0.3220 - val_accuracy: 0.8852\n",
            "Epoch 12/30\n",
            "1688/1688 [==============================] - 4s 2ms/step - loss: 0.3100 - accuracy: 0.8890 - val_loss: 0.3196 - val_accuracy: 0.8875\n",
            "Epoch 13/30\n",
            "1688/1688 [==============================] - 4s 2ms/step - loss: 0.3045 - accuracy: 0.8909 - val_loss: 0.3716 - val_accuracy: 0.8602\n",
            "Epoch 14/30\n",
            "1688/1688 [==============================] - 4s 2ms/step - loss: 0.3024 - accuracy: 0.8909 - val_loss: 0.3292 - val_accuracy: 0.8812\n",
            "Epoch 15/30\n",
            "1688/1688 [==============================] - 4s 2ms/step - loss: 0.2951 - accuracy: 0.8952 - val_loss: 0.3141 - val_accuracy: 0.8873\n",
            "Epoch 16/30\n",
            "1688/1688 [==============================] - 4s 2ms/step - loss: 0.2841 - accuracy: 0.8974 - val_loss: 0.3250 - val_accuracy: 0.8823\n",
            "Epoch 17/30\n",
            "1688/1688 [==============================] - 4s 2ms/step - loss: 0.2804 - accuracy: 0.8987 - val_loss: 0.3428 - val_accuracy: 0.8755\n",
            "Epoch 18/30\n",
            "1688/1688 [==============================] - 4s 2ms/step - loss: 0.2778 - accuracy: 0.8997 - val_loss: 0.3094 - val_accuracy: 0.8862\n",
            "Epoch 19/30\n",
            "1688/1688 [==============================] - 4s 2ms/step - loss: 0.2676 - accuracy: 0.9024 - val_loss: 0.3465 - val_accuracy: 0.8725\n",
            "Epoch 20/30\n",
            "1688/1688 [==============================] - 4s 2ms/step - loss: 0.2668 - accuracy: 0.9043 - val_loss: 0.3474 - val_accuracy: 0.8757\n",
            "Epoch 21/30\n",
            "1688/1688 [==============================] - 4s 2ms/step - loss: 0.2586 - accuracy: 0.9064 - val_loss: 0.3048 - val_accuracy: 0.8897\n",
            "Epoch 22/30\n",
            "1688/1688 [==============================] - 4s 2ms/step - loss: 0.2537 - accuracy: 0.9095 - val_loss: 0.3104 - val_accuracy: 0.8887\n",
            "Epoch 23/30\n",
            "1688/1688 [==============================] - 4s 2ms/step - loss: 0.2517 - accuracy: 0.9101 - val_loss: 0.2980 - val_accuracy: 0.8925\n",
            "Epoch 24/30\n",
            "1688/1688 [==============================] - 4s 2ms/step - loss: 0.2437 - accuracy: 0.9128 - val_loss: 0.2981 - val_accuracy: 0.8930\n",
            "Epoch 25/30\n",
            "1688/1688 [==============================] - 4s 2ms/step - loss: 0.2400 - accuracy: 0.9139 - val_loss: 0.2992 - val_accuracy: 0.8930\n",
            "Epoch 26/30\n",
            "1688/1688 [==============================] - 4s 2ms/step - loss: 0.2397 - accuracy: 0.9141 - val_loss: 0.3344 - val_accuracy: 0.8772\n",
            "Epoch 27/30\n",
            "1688/1688 [==============================] - 4s 2ms/step - loss: 0.2361 - accuracy: 0.9157 - val_loss: 0.2975 - val_accuracy: 0.8912\n",
            "Epoch 28/30\n",
            "1688/1688 [==============================] - 4s 2ms/step - loss: 0.2320 - accuracy: 0.9163 - val_loss: 0.2857 - val_accuracy: 0.8950\n",
            "Epoch 29/30\n",
            "1688/1688 [==============================] - 4s 2ms/step - loss: 0.2272 - accuracy: 0.9169 - val_loss: 0.2924 - val_accuracy: 0.8932\n",
            "Epoch 30/30\n",
            "1688/1688 [==============================] - 4s 2ms/step - loss: 0.2207 - accuracy: 0.9210 - val_loss: 0.3074 - val_accuracy: 0.8885\n"
          ],
          "name": "stdout"
        }
      ]
    },
    {
      "cell_type": "code",
      "metadata": {
        "colab": {
          "base_uri": "https://localhost:8080/"
        },
        "id": "1ccT-7Qm19fO",
        "outputId": "67eec8ca-5c2c-473b-c331-486f927e9049"
      },
      "source": [
        "print(history.epoch)"
      ],
      "execution_count": 25,
      "outputs": [
        {
          "output_type": "stream",
          "text": [
            "[0, 1, 2, 3, 4, 5, 6, 7, 8, 9, 10, 11, 12, 13, 14, 15, 16, 17, 18, 19, 20, 21, 22, 23, 24, 25, 26, 27, 28, 29]\n"
          ],
          "name": "stdout"
        }
      ]
    },
    {
      "cell_type": "code",
      "metadata": {
        "colab": {
          "base_uri": "https://localhost:8080/"
        },
        "id": "_1OQEHZF2IVr",
        "outputId": "ebaba38a-8958-4129-a01f-9298a2803f75"
      },
      "source": [
        "history.params"
      ],
      "execution_count": 16,
      "outputs": [
        {
          "output_type": "execute_result",
          "data": {
            "text/plain": [
              "{'epochs': 30, 'steps': 1688, 'verbose': 1}"
            ]
          },
          "metadata": {
            "tags": []
          },
          "execution_count": 16
        }
      ]
    },
    {
      "cell_type": "code",
      "metadata": {
        "colab": {
          "base_uri": "https://localhost:8080/"
        },
        "id": "rWPFPI0D2Y_r",
        "outputId": "e8343b1c-c320-497c-e994-360999f52737"
      },
      "source": [
        "history.history.keys()"
      ],
      "execution_count": 17,
      "outputs": [
        {
          "output_type": "execute_result",
          "data": {
            "text/plain": [
              "dict_keys(['loss', 'accuracy', 'val_loss', 'val_accuracy'])"
            ]
          },
          "metadata": {
            "tags": []
          },
          "execution_count": 17
        }
      ]
    },
    {
      "cell_type": "code",
      "metadata": {
        "colab": {
          "base_uri": "https://localhost:8080/"
        },
        "id": "je0py3DE4TFf",
        "outputId": "ffa6091e-1b11-431f-ac40-74d62b56bdce"
      },
      "source": [
        "np.around(history.history['loss'], decimals=4)"
      ],
      "execution_count": 18,
      "outputs": [
        {
          "output_type": "execute_result",
          "data": {
            "text/plain": [
              "array([0.7064, 0.4846, 0.4409, 0.4138, 0.3928, 0.3764, 0.3643, 0.3515,\n",
              "       0.3416, 0.3319, 0.3226, 0.3149, 0.3074, 0.3009, 0.2935, 0.2874,\n",
              "       0.2816, 0.2768, 0.2698, 0.2653, 0.2609, 0.2561, 0.2513, 0.2465,\n",
              "       0.2426, 0.239 , 0.2345, 0.2301, 0.2258, 0.2221])"
            ]
          },
          "metadata": {
            "tags": []
          },
          "execution_count": 18
        }
      ]
    },
    {
      "cell_type": "code",
      "metadata": {
        "colab": {
          "base_uri": "https://localhost:8080/"
        },
        "id": "KxACEIer2cN8",
        "outputId": "e9679932-16a1-4aa3-df6e-eb4ff90ddcfe"
      },
      "source": [
        "np.around(history.history['val_loss'], decimals=4)"
      ],
      "execution_count": 19,
      "outputs": [
        {
          "output_type": "execute_result",
          "data": {
            "text/plain": [
              "array([0.5154, 0.4507, 0.4171, 0.409 , 0.3863, 0.3979, 0.3504, 0.3521,\n",
              "       0.3445, 0.3409, 0.322 , 0.3196, 0.3716, 0.3292, 0.3141, 0.325 ,\n",
              "       0.3428, 0.3094, 0.3465, 0.3474, 0.3048, 0.3104, 0.298 , 0.2981,\n",
              "       0.2992, 0.3344, 0.2975, 0.2857, 0.2924, 0.3074])"
            ]
          },
          "metadata": {
            "tags": []
          },
          "execution_count": 19
        }
      ]
    },
    {
      "cell_type": "code",
      "metadata": {
        "colab": {
          "base_uri": "https://localhost:8080/",
          "height": 279
        },
        "id": "lsCU9-iQ3J38",
        "outputId": "b1028156-d1fa-43a4-8d06-9c2471f025ea"
      },
      "source": [
        "# 손실 곡선\n",
        "plt.plot(history.epoch, history.history['loss'], label='train loss')\n",
        "plt.plot(history.epoch, history.history['val_loss'], label='validation loss')\n",
        "\n",
        "plt.legend()\n",
        "plt.grid()\n",
        "plt.xlabel('epoch')\n",
        "plt.ylabel('loss')\n",
        "plt.show()"
      ],
      "execution_count": 20,
      "outputs": [
        {
          "output_type": "display_data",
          "data": {
            "image/png": "[encoded data removed]",
            "text/plain": [
              "<Figure size 432x288 with 1 Axes>"
            ]
          },
          "metadata": {
            "tags": [],
            "needs_background": "light"
          }
        }
      ]
    },
    {
      "cell_type": "code",
      "metadata": {
        "colab": {
          "base_uri": "https://localhost:8080/",
          "height": 279
        },
        "id": "kOUK63-X5QVE",
        "outputId": "cc4b8f17-c0a2-4732-cfde-02ab447e4056"
      },
      "source": [
        "# 정확도 곡선\n",
        "plt.plot(history.epoch, history.history['accuracy'], label='train accuracy')\n",
        "plt.plot(history.epoch, history.history['val_accuracy'], label='validation accuracy')\n",
        "\n",
        "plt.legend()\n",
        "plt.grid()\n",
        "plt.xlabel('epoch')\n",
        "plt.ylabel('accurarcy')\n",
        "plt.show()"
      ],
      "execution_count": 21,
      "outputs": [
        {
          "output_type": "display_data",
          "data": {
            "image/png": "[encoded data removed]",
            "text/plain": [
              "<Figure size 432x288 with 1 Axes>"
            ]
          },
          "metadata": {
            "tags": [],
            "needs_background": "light"
          }
        }
      ]
    },
    {
      "cell_type": "markdown",
      "metadata": {
        "id": "iKxgajuD8sOU"
      },
      "source": [
        "손실 곡선과 정확도 곡선을 그려보면\n",
        "\n",
        "*   훈련 셋에서는 손실은 작아지고 정확도는 좋아짐.\n",
        "*   검증 셋에서는 어느 순간(epoch)까지는 손실이 줄어들고 정확도도 좋아지다가, 어느 순간 이후로는 더이상 개선되지 않음 - 과대적합(overfitting)\n",
        "*   epoch를 적절한 순간에 멈추는 기법이 필요.\n"
      ]
    },
    {
      "cell_type": "code",
      "metadata": {
        "colab": {
          "base_uri": "https://localhost:8080/",
          "height": 214
        },
        "id": "wnqBrsbm6VPT",
        "outputId": "5a935d27-c47a-4a56-9a1b-8de95ddb2bd6"
      },
      "source": [
        "loss_acc_hist = pd.DataFrame(history.history)\n",
        "loss_acc_hist.head()"
      ],
      "execution_count": 22,
      "outputs": [
        {
          "output_type": "execute_result",
          "data": {
            "text/html": [
              "<div>\n",
              "<style scoped>\n",
              "    .dataframe tbody tr th:only-of-type {\n",
              "        vertical-align: middle;\n",
              "    }\n",
              "\n",
              "    .dataframe tbody tr th {\n",
              "        vertical-align: top;\n",
              "    }\n",
              "\n",
              "    .dataframe thead th {\n",
              "        text-align: right;\n",
              "    }\n",
              "</style>\n",
              "<table border=\"1\" class=\"dataframe\">\n",
              "  <thead>\n",
              "    <tr style=\"text-align: right;\">\n",
              "      <th></th>\n",
              "      <th>loss</th>\n",
              "      <th>accuracy</th>\n",
              "      <th>val_loss</th>\n",
              "      <th>val_accuracy</th>\n",
              "    </tr>\n",
              "  </thead>\n",
              "  <tbody>\n",
              "    <tr>\n",
              "      <th>0</th>\n",
              "      <td>0.706439</td>\n",
              "      <td>0.767167</td>\n",
              "      <td>0.515391</td>\n",
              "      <td>0.819667</td>\n",
              "    </tr>\n",
              "    <tr>\n",
              "      <th>1</th>\n",
              "      <td>0.484557</td>\n",
              "      <td>0.832630</td>\n",
              "      <td>0.450716</td>\n",
              "      <td>0.841333</td>\n",
              "    </tr>\n",
              "    <tr>\n",
              "      <th>2</th>\n",
              "      <td>0.440859</td>\n",
              "      <td>0.847537</td>\n",
              "      <td>0.417089</td>\n",
              "      <td>0.856167</td>\n",
              "    </tr>\n",
              "    <tr>\n",
              "      <th>3</th>\n",
              "      <td>0.413770</td>\n",
              "      <td>0.855889</td>\n",
              "      <td>0.409035</td>\n",
              "      <td>0.856833</td>\n",
              "    </tr>\n",
              "    <tr>\n",
              "      <th>4</th>\n",
              "      <td>0.392839</td>\n",
              "      <td>0.862444</td>\n",
              "      <td>0.386261</td>\n",
              "      <td>0.863500</td>\n",
              "    </tr>\n",
              "  </tbody>\n",
              "</table>\n",
              "</div>"
            ],
            "text/plain": [
              "       loss  accuracy  val_loss  val_accuracy\n",
              "0  0.706439  0.767167  0.515391      0.819667\n",
              "1  0.484557  0.832630  0.450716      0.841333\n",
              "2  0.440859  0.847537  0.417089      0.856167\n",
              "3  0.413770  0.855889  0.409035      0.856833\n",
              "4  0.392839  0.862444  0.386261      0.863500"
            ]
          },
          "metadata": {
            "tags": []
          },
          "execution_count": 22
        }
      ]
    },
    {
      "cell_type": "code",
      "metadata": {
        "colab": {
          "base_uri": "https://localhost:8080/",
          "height": 214
        },
        "id": "HL9-yFAJ9jB1",
        "outputId": "c6a10d51-029e-433e-9f66-cbd1aab83ff8"
      },
      "source": [
        "loss_acc_hist.tail()"
      ],
      "execution_count": 23,
      "outputs": [
        {
          "output_type": "execute_result",
          "data": {
            "text/html": [
              "<div>\n",
              "<style scoped>\n",
              "    .dataframe tbody tr th:only-of-type {\n",
              "        vertical-align: middle;\n",
              "    }\n",
              "\n",
              "    .dataframe tbody tr th {\n",
              "        vertical-align: top;\n",
              "    }\n",
              "\n",
              "    .dataframe thead th {\n",
              "        text-align: right;\n",
              "    }\n",
              "</style>\n",
              "<table border=\"1\" class=\"dataframe\">\n",
              "  <thead>\n",
              "    <tr style=\"text-align: right;\">\n",
              "      <th></th>\n",
              "      <th>loss</th>\n",
              "      <th>accuracy</th>\n",
              "      <th>val_loss</th>\n",
              "      <th>val_accuracy</th>\n",
              "    </tr>\n",
              "  </thead>\n",
              "  <tbody>\n",
              "    <tr>\n",
              "      <th>25</th>\n",
              "      <td>0.239037</td>\n",
              "      <td>0.913704</td>\n",
              "      <td>0.334426</td>\n",
              "      <td>0.877167</td>\n",
              "    </tr>\n",
              "    <tr>\n",
              "      <th>26</th>\n",
              "      <td>0.234489</td>\n",
              "      <td>0.915130</td>\n",
              "      <td>0.297495</td>\n",
              "      <td>0.891167</td>\n",
              "    </tr>\n",
              "    <tr>\n",
              "      <th>27</th>\n",
              "      <td>0.230073</td>\n",
              "      <td>0.916963</td>\n",
              "      <td>0.285741</td>\n",
              "      <td>0.895000</td>\n",
              "    </tr>\n",
              "    <tr>\n",
              "      <th>28</th>\n",
              "      <td>0.225848</td>\n",
              "      <td>0.917463</td>\n",
              "      <td>0.292375</td>\n",
              "      <td>0.893167</td>\n",
              "    </tr>\n",
              "    <tr>\n",
              "      <th>29</th>\n",
              "      <td>0.222063</td>\n",
              "      <td>0.919759</td>\n",
              "      <td>0.307368</td>\n",
              "      <td>0.888500</td>\n",
              "    </tr>\n",
              "  </tbody>\n",
              "</table>\n",
              "</div>"
            ],
            "text/plain": [
              "        loss  accuracy  val_loss  val_accuracy\n",
              "25  0.239037  0.913704  0.334426      0.877167\n",
              "26  0.234489  0.915130  0.297495      0.891167\n",
              "27  0.230073  0.916963  0.285741      0.895000\n",
              "28  0.225848  0.917463  0.292375      0.893167\n",
              "29  0.222063  0.919759  0.307368      0.888500"
            ]
          },
          "metadata": {
            "tags": []
          },
          "execution_count": 23
        }
      ]
    },
    {
      "cell_type": "code",
      "metadata": {
        "colab": {
          "base_uri": "https://localhost:8080/",
          "height": 265
        },
        "id": "KuEzWCQ19osi",
        "outputId": "215eebf2-b7f9-4161-c6a8-85087154a90d"
      },
      "source": [
        "loss_acc_hist.plot()\n",
        "\n",
        "plt.grid()\n",
        "plt.show()"
      ],
      "execution_count": 24,
      "outputs": [
        {
          "output_type": "display_data",
          "data": {
            "image/png": "[encoded data removed]",
            "text/plain": [
              "<Figure size 432x288 with 1 Axes>"
            ]
          },
          "metadata": {
            "tags": [],
            "needs_background": "light"
          }
        }
      ]
    },
    {
      "cell_type": "markdown",
      "metadata": {
        "id": "WaaFGVJ6UoNJ"
      },
      "source": [
        "# Optimizer 튜닝"
      ]
    },
    {
      "cell_type": "markdown",
      "metadata": {
        "id": "SsjRvOdwUvGA"
      },
      "source": [
        "Optimizer - 밑바닥부터 시작하는 딥러닝 6장 참고\n",
        "\n",
        "*   sgd\n",
        "*   RMSProp\n",
        "*   Adam"
      ]
    },
    {
      "cell_type": "markdown",
      "metadata": {
        "id": "BLxpFIwCZlUI"
      },
      "source": [
        "## Momentum"
      ]
    },
    {
      "cell_type": "code",
      "metadata": {
        "id": "sVnjzBG-9xDD"
      },
      "source": [
        "def create_model():\n",
        "    model = keras.Sequential()\n",
        "    model.add(keras.layers.Flatten(input_shape=(28, 28)))\n",
        "    model.add(keras.layers.Dense(units=300, activation='relu'))\n",
        "    model.add(keras.layers.Dense(units=100, activation='relu'))\n",
        "    model.add(keras.layers.Dense(units=10, activation='softmax'))\n",
        "    return model"
      ],
      "execution_count": 27,
      "outputs": []
    },
    {
      "cell_type": "code",
      "metadata": {
        "colab": {
          "base_uri": "https://localhost:8080/"
        },
        "id": "SSt67fRPVH64",
        "outputId": "c14e6154-a0cb-42d4-91be-8b373728d47c"
      },
      "source": [
        "model1 = create_model()\n",
        "model1.summary()"
      ],
      "execution_count": 28,
      "outputs": [
        {
          "output_type": "stream",
          "text": [
            "Model: \"sequential_1\"\n",
            "_________________________________________________________________\n",
            "Layer (type)                 Output Shape              Param #   \n",
            "=================================================================\n",
            "flatten_1 (Flatten)          (None, 784)               0         \n",
            "_________________________________________________________________\n",
            "dense_3 (Dense)              (None, 300)               235500    \n",
            "_________________________________________________________________\n",
            "dense_4 (Dense)              (None, 100)               30100     \n",
            "_________________________________________________________________\n",
            "dense_5 (Dense)              (None, 10)                1010      \n",
            "=================================================================\n",
            "Total params: 266,610\n",
            "Trainable params: 266,610\n",
            "Non-trainable params: 0\n",
            "_________________________________________________________________\n"
          ],
          "name": "stdout"
        }
      ]
    },
    {
      "cell_type": "code",
      "metadata": {
        "id": "qxACzQGQVpn4"
      },
      "source": [
        "optimizer = keras.optimizers.SGD(momentum=0.9)\n",
        "model1.compile(optimizer=optimizer, loss='sparse_categorical_crossentropy', metrics='accuracy')"
      ],
      "execution_count": 29,
      "outputs": []
    },
    {
      "cell_type": "code",
      "metadata": {
        "colab": {
          "base_uri": "https://localhost:8080/"
        },
        "id": "A49ZKAwcXA_Z",
        "outputId": "3eb7d39e-ff5e-4788-e07f-5985f8a2d127"
      },
      "source": [
        "history1 = model1.fit(x_train, y_train, epochs=30, validation_data=(x_val, y_val))"
      ],
      "execution_count": 30,
      "outputs": [
        {
          "output_type": "stream",
          "text": [
            "Epoch 1/30\n",
            "1688/1688 [==============================] - 4s 2ms/step - loss: 0.7043 - accuracy: 0.7468 - val_loss: 0.4067 - val_accuracy: 0.8502\n",
            "Epoch 2/30\n",
            "1688/1688 [==============================] - 4s 2ms/step - loss: 0.4011 - accuracy: 0.8531 - val_loss: 0.3432 - val_accuracy: 0.8748\n",
            "Epoch 3/30\n",
            "1688/1688 [==============================] - 4s 2ms/step - loss: 0.3516 - accuracy: 0.8719 - val_loss: 0.3320 - val_accuracy: 0.8790\n",
            "Epoch 4/30\n",
            "1688/1688 [==============================] - 4s 2ms/step - loss: 0.3213 - accuracy: 0.8820 - val_loss: 0.3596 - val_accuracy: 0.8638\n",
            "Epoch 5/30\n",
            "1688/1688 [==============================] - 4s 2ms/step - loss: 0.3036 - accuracy: 0.8857 - val_loss: 0.3092 - val_accuracy: 0.8897\n",
            "Epoch 6/30\n",
            "1688/1688 [==============================] - 4s 2ms/step - loss: 0.2836 - accuracy: 0.8940 - val_loss: 0.3220 - val_accuracy: 0.8825\n",
            "Epoch 7/30\n",
            "1688/1688 [==============================] - 4s 2ms/step - loss: 0.2779 - accuracy: 0.8943 - val_loss: 0.3197 - val_accuracy: 0.8867\n",
            "Epoch 8/30\n",
            "1688/1688 [==============================] - 4s 2ms/step - loss: 0.2603 - accuracy: 0.9001 - val_loss: 0.2923 - val_accuracy: 0.8957\n",
            "Epoch 9/30\n",
            "1688/1688 [==============================] - 4s 2ms/step - loss: 0.2508 - accuracy: 0.9057 - val_loss: 0.3144 - val_accuracy: 0.8912\n",
            "Epoch 10/30\n",
            "1688/1688 [==============================] - 4s 2ms/step - loss: 0.2404 - accuracy: 0.9100 - val_loss: 0.3036 - val_accuracy: 0.8887\n",
            "Epoch 11/30\n",
            "1688/1688 [==============================] - 4s 2ms/step - loss: 0.2330 - accuracy: 0.9115 - val_loss: 0.2860 - val_accuracy: 0.8985\n",
            "Epoch 12/30\n",
            "1688/1688 [==============================] - 3s 2ms/step - loss: 0.2251 - accuracy: 0.9158 - val_loss: 0.2927 - val_accuracy: 0.8973\n",
            "Epoch 13/30\n",
            "1688/1688 [==============================] - 4s 2ms/step - loss: 0.2202 - accuracy: 0.9164 - val_loss: 0.3110 - val_accuracy: 0.8887\n",
            "Epoch 14/30\n",
            "1688/1688 [==============================] - 4s 2ms/step - loss: 0.2099 - accuracy: 0.9206 - val_loss: 0.2913 - val_accuracy: 0.8972\n",
            "Epoch 15/30\n",
            "1688/1688 [==============================] - 4s 2ms/step - loss: 0.2003 - accuracy: 0.9253 - val_loss: 0.3042 - val_accuracy: 0.8945\n",
            "Epoch 16/30\n",
            "1688/1688 [==============================] - 4s 2ms/step - loss: 0.2008 - accuracy: 0.9240 - val_loss: 0.3087 - val_accuracy: 0.8918\n",
            "Epoch 17/30\n",
            "1688/1688 [==============================] - 4s 2ms/step - loss: 0.1942 - accuracy: 0.9251 - val_loss: 0.3083 - val_accuracy: 0.8990\n",
            "Epoch 18/30\n",
            "1688/1688 [==============================] - 4s 2ms/step - loss: 0.1804 - accuracy: 0.9331 - val_loss: 0.3123 - val_accuracy: 0.8968\n",
            "Epoch 19/30\n",
            "1688/1688 [==============================] - 4s 2ms/step - loss: 0.1779 - accuracy: 0.9313 - val_loss: 0.2870 - val_accuracy: 0.9047\n",
            "Epoch 20/30\n",
            "1688/1688 [==============================] - 4s 2ms/step - loss: 0.1752 - accuracy: 0.9323 - val_loss: 0.3014 - val_accuracy: 0.9013\n",
            "Epoch 21/30\n",
            "1688/1688 [==============================] - 4s 2ms/step - loss: 0.1758 - accuracy: 0.9315 - val_loss: 0.3110 - val_accuracy: 0.8968\n",
            "Epoch 22/30\n",
            "1688/1688 [==============================] - 4s 2ms/step - loss: 0.1683 - accuracy: 0.9364 - val_loss: 0.3189 - val_accuracy: 0.9015\n",
            "Epoch 23/30\n",
            "1688/1688 [==============================] - 4s 2ms/step - loss: 0.1666 - accuracy: 0.9375 - val_loss: 0.3087 - val_accuracy: 0.8985\n",
            "Epoch 24/30\n",
            "1688/1688 [==============================] - 4s 3ms/step - loss: 0.1561 - accuracy: 0.9409 - val_loss: 0.3304 - val_accuracy: 0.8923\n",
            "Epoch 25/30\n",
            "1688/1688 [==============================] - 4s 2ms/step - loss: 0.1561 - accuracy: 0.9386 - val_loss: 0.3387 - val_accuracy: 0.8910\n",
            "Epoch 26/30\n",
            "1688/1688 [==============================] - 4s 2ms/step - loss: 0.1544 - accuracy: 0.9406 - val_loss: 0.3484 - val_accuracy: 0.8945\n",
            "Epoch 27/30\n",
            "1688/1688 [==============================] - 4s 2ms/step - loss: 0.1510 - accuracy: 0.9418 - val_loss: 0.3359 - val_accuracy: 0.8988\n",
            "Epoch 28/30\n",
            "1688/1688 [==============================] - 4s 2ms/step - loss: 0.1464 - accuracy: 0.9427 - val_loss: 0.3220 - val_accuracy: 0.9023\n",
            "Epoch 29/30\n",
            "1688/1688 [==============================] - 4s 2ms/step - loss: 0.1392 - accuracy: 0.9472 - val_loss: 0.3369 - val_accuracy: 0.8995\n",
            "Epoch 30/30\n",
            "1688/1688 [==============================] - 4s 2ms/step - loss: 0.1393 - accuracy: 0.9466 - val_loss: 0.3242 - val_accuracy: 0.9015\n"
          ],
          "name": "stdout"
        }
      ]
    },
    {
      "cell_type": "code",
      "metadata": {
        "colab": {
          "base_uri": "https://localhost:8080/",
          "height": 214
        },
        "id": "bUPIkRQVXLMn",
        "outputId": "fdd4e3f0-3bd4-48df-ae0d-22728ac16b91"
      },
      "source": [
        "hist1 = pd.DataFrame(history1.history)  # dict --> DataFrame\n",
        "hist1.head()"
      ],
      "execution_count": 31,
      "outputs": [
        {
          "output_type": "execute_result",
          "data": {
            "text/html": [
              "<div>\n",
              "<style scoped>\n",
              "    .dataframe tbody tr th:only-of-type {\n",
              "        vertical-align: middle;\n",
              "    }\n",
              "\n",
              "    .dataframe tbody tr th {\n",
              "        vertical-align: top;\n",
              "    }\n",
              "\n",
              "    .dataframe thead th {\n",
              "        text-align: right;\n",
              "    }\n",
              "</style>\n",
              "<table border=\"1\" class=\"dataframe\">\n",
              "  <thead>\n",
              "    <tr style=\"text-align: right;\">\n",
              "      <th></th>\n",
              "      <th>loss</th>\n",
              "      <th>accuracy</th>\n",
              "      <th>val_loss</th>\n",
              "      <th>val_accuracy</th>\n",
              "    </tr>\n",
              "  </thead>\n",
              "  <tbody>\n",
              "    <tr>\n",
              "      <th>0</th>\n",
              "      <td>0.527536</td>\n",
              "      <td>0.810167</td>\n",
              "      <td>0.406696</td>\n",
              "      <td>0.850167</td>\n",
              "    </tr>\n",
              "    <tr>\n",
              "      <th>1</th>\n",
              "      <td>0.390022</td>\n",
              "      <td>0.857185</td>\n",
              "      <td>0.343186</td>\n",
              "      <td>0.874833</td>\n",
              "    </tr>\n",
              "    <tr>\n",
              "      <th>2</th>\n",
              "      <td>0.347356</td>\n",
              "      <td>0.872019</td>\n",
              "      <td>0.332018</td>\n",
              "      <td>0.879000</td>\n",
              "    </tr>\n",
              "    <tr>\n",
              "      <th>3</th>\n",
              "      <td>0.322401</td>\n",
              "      <td>0.880889</td>\n",
              "      <td>0.359626</td>\n",
              "      <td>0.863833</td>\n",
              "    </tr>\n",
              "    <tr>\n",
              "      <th>4</th>\n",
              "      <td>0.302178</td>\n",
              "      <td>0.886778</td>\n",
              "      <td>0.309193</td>\n",
              "      <td>0.889667</td>\n",
              "    </tr>\n",
              "  </tbody>\n",
              "</table>\n",
              "</div>"
            ],
            "text/plain": [
              "       loss  accuracy  val_loss  val_accuracy\n",
              "0  0.527536  0.810167  0.406696      0.850167\n",
              "1  0.390022  0.857185  0.343186      0.874833\n",
              "2  0.347356  0.872019  0.332018      0.879000\n",
              "3  0.322401  0.880889  0.359626      0.863833\n",
              "4  0.302178  0.886778  0.309193      0.889667"
            ]
          },
          "metadata": {
            "tags": []
          },
          "execution_count": 31
        }
      ]
    },
    {
      "cell_type": "code",
      "metadata": {
        "colab": {
          "base_uri": "https://localhost:8080/",
          "height": 265
        },
        "id": "ONo1vVj6Xz_x",
        "outputId": "1d22a100-07fb-4dbe-c267-2ec2f690e5ce"
      },
      "source": [
        "hist1.plot()\n",
        "plt.grid()\n",
        "plt.show()"
      ],
      "execution_count": 32,
      "outputs": [
        {
          "output_type": "display_data",
          "data": {
            "image/png": "[encoded data removed]",
            "text/plain": [
              "<Figure size 432x288 with 1 Axes>"
            ]
          },
          "metadata": {
            "tags": [],
            "needs_background": "light"
          }
        }
      ]
    },
    {
      "cell_type": "code",
      "metadata": {
        "colab": {
          "base_uri": "https://localhost:8080/"
        },
        "id": "EJa3rNf0X8dQ",
        "outputId": "588858bb-755b-4ac9-ab74-dab0ddf211fc"
      },
      "source": [
        "np.argmin(hist1['val_loss'])"
      ],
      "execution_count": 34,
      "outputs": [
        {
          "output_type": "execute_result",
          "data": {
            "text/plain": [
              "10"
            ]
          },
          "metadata": {
            "tags": []
          },
          "execution_count": 34
        }
      ]
    },
    {
      "cell_type": "code",
      "metadata": {
        "colab": {
          "base_uri": "https://localhost:8080/"
        },
        "id": "A9hMUx_IYnI9",
        "outputId": "2bc025cd-fe0a-4ccd-945d-11e2866e7349"
      },
      "source": [
        "np.argmax(hist1['val_accuracy'])"
      ],
      "execution_count": 35,
      "outputs": [
        {
          "output_type": "execute_result",
          "data": {
            "text/plain": [
              "18"
            ]
          },
          "metadata": {
            "tags": []
          },
          "execution_count": 35
        }
      ]
    },
    {
      "cell_type": "markdown",
      "metadata": {
        "id": "BZz_aRLXaCt4"
      },
      "source": [
        "## RMSProp"
      ]
    },
    {
      "cell_type": "code",
      "metadata": {
        "colab": {
          "base_uri": "https://localhost:8080/"
        },
        "id": "WP3hjgrjYrcw",
        "outputId": "15fe042f-a601-4a9d-ed1d-a22d6a14406e"
      },
      "source": [
        "model2 = create_model()\n",
        "model2.compile(optimizer='rmsprop', loss='sparse_categorical_crossentropy', metrics='accuracy')\n",
        "history2 = model2.fit(x_train, y_train, epochs=30, validation_data=(x_val, y_val))"
      ],
      "execution_count": 37,
      "outputs": [
        {
          "output_type": "stream",
          "text": [
            "Epoch 1/30\n",
            "1688/1688 [==============================] - 5s 3ms/step - loss: 0.6397 - accuracy: 0.7677 - val_loss: 0.3882 - val_accuracy: 0.8547\n",
            "Epoch 2/30\n",
            "1688/1688 [==============================] - 4s 2ms/step - loss: 0.4008 - accuracy: 0.8550 - val_loss: 0.3839 - val_accuracy: 0.8605\n",
            "Epoch 3/30\n",
            "1688/1688 [==============================] - 5s 3ms/step - loss: 0.3737 - accuracy: 0.8685 - val_loss: 0.4118 - val_accuracy: 0.8652\n",
            "Epoch 4/30\n",
            "1688/1688 [==============================] - 4s 3ms/step - loss: 0.3558 - accuracy: 0.8757 - val_loss: 0.3784 - val_accuracy: 0.8740\n",
            "Epoch 5/30\n",
            "1688/1688 [==============================] - 4s 3ms/step - loss: 0.3403 - accuracy: 0.8828 - val_loss: 0.3621 - val_accuracy: 0.8813\n",
            "Epoch 6/30\n",
            "1688/1688 [==============================] - 4s 3ms/step - loss: 0.3301 - accuracy: 0.8851 - val_loss: 0.4244 - val_accuracy: 0.8672\n",
            "Epoch 7/30\n",
            "1688/1688 [==============================] - 4s 3ms/step - loss: 0.3336 - accuracy: 0.8863 - val_loss: 0.3663 - val_accuracy: 0.8803\n",
            "Epoch 8/30\n",
            "1688/1688 [==============================] - 4s 3ms/step - loss: 0.3230 - accuracy: 0.8887 - val_loss: 0.4028 - val_accuracy: 0.8858\n",
            "Epoch 9/30\n",
            "1688/1688 [==============================] - 4s 3ms/step - loss: 0.3230 - accuracy: 0.8922 - val_loss: 0.4180 - val_accuracy: 0.8742\n",
            "Epoch 10/30\n",
            "1688/1688 [==============================] - 4s 2ms/step - loss: 0.3133 - accuracy: 0.8923 - val_loss: 0.4209 - val_accuracy: 0.8752\n",
            "Epoch 11/30\n",
            "1688/1688 [==============================] - 4s 3ms/step - loss: 0.2979 - accuracy: 0.8995 - val_loss: 0.4536 - val_accuracy: 0.8822\n",
            "Epoch 12/30\n",
            "1688/1688 [==============================] - 4s 3ms/step - loss: 0.3069 - accuracy: 0.8984 - val_loss: 0.3849 - val_accuracy: 0.8882\n",
            "Epoch 13/30\n",
            "1688/1688 [==============================] - 4s 2ms/step - loss: 0.2945 - accuracy: 0.9029 - val_loss: 0.4583 - val_accuracy: 0.8863\n",
            "Epoch 14/30\n",
            "1688/1688 [==============================] - 4s 2ms/step - loss: 0.2959 - accuracy: 0.9026 - val_loss: 0.4273 - val_accuracy: 0.8915\n",
            "Epoch 15/30\n",
            "1688/1688 [==============================] - 4s 2ms/step - loss: 0.2986 - accuracy: 0.9034 - val_loss: 0.4857 - val_accuracy: 0.8885\n",
            "Epoch 16/30\n",
            "1688/1688 [==============================] - 4s 3ms/step - loss: 0.2858 - accuracy: 0.9067 - val_loss: 0.4813 - val_accuracy: 0.8698\n",
            "Epoch 17/30\n",
            "1688/1688 [==============================] - 4s 2ms/step - loss: 0.2916 - accuracy: 0.9042 - val_loss: 0.4394 - val_accuracy: 0.8952\n",
            "Epoch 18/30\n",
            "1688/1688 [==============================] - 4s 3ms/step - loss: 0.2758 - accuracy: 0.9088 - val_loss: 0.5731 - val_accuracy: 0.8685\n",
            "Epoch 19/30\n",
            "1688/1688 [==============================] - 4s 2ms/step - loss: 0.2803 - accuracy: 0.9089 - val_loss: 0.4773 - val_accuracy: 0.8917\n",
            "Epoch 20/30\n",
            "1688/1688 [==============================] - 4s 3ms/step - loss: 0.2700 - accuracy: 0.9122 - val_loss: 0.4729 - val_accuracy: 0.8908\n",
            "Epoch 21/30\n",
            "1688/1688 [==============================] - 4s 2ms/step - loss: 0.2747 - accuracy: 0.9122 - val_loss: 0.5150 - val_accuracy: 0.8848\n",
            "Epoch 22/30\n",
            "1688/1688 [==============================] - 4s 3ms/step - loss: 0.2643 - accuracy: 0.9138 - val_loss: 0.5128 - val_accuracy: 0.8855\n",
            "Epoch 23/30\n",
            "1688/1688 [==============================] - 4s 3ms/step - loss: 0.2688 - accuracy: 0.9142 - val_loss: 0.5236 - val_accuracy: 0.8853\n",
            "Epoch 24/30\n",
            "1688/1688 [==============================] - 4s 3ms/step - loss: 0.2727 - accuracy: 0.9149 - val_loss: 0.5711 - val_accuracy: 0.8913\n",
            "Epoch 25/30\n",
            "1688/1688 [==============================] - 4s 2ms/step - loss: 0.2661 - accuracy: 0.9134 - val_loss: 0.5782 - val_accuracy: 0.8903\n",
            "Epoch 26/30\n",
            "1688/1688 [==============================] - 4s 2ms/step - loss: 0.2636 - accuracy: 0.9183 - val_loss: 0.5496 - val_accuracy: 0.8827\n",
            "Epoch 27/30\n",
            "1688/1688 [==============================] - 5s 3ms/step - loss: 0.2592 - accuracy: 0.9153 - val_loss: 0.6282 - val_accuracy: 0.8758\n",
            "Epoch 28/30\n",
            "1688/1688 [==============================] - 5s 3ms/step - loss: 0.2632 - accuracy: 0.9181 - val_loss: 0.6509 - val_accuracy: 0.8842\n",
            "Epoch 29/30\n",
            "1688/1688 [==============================] - 4s 3ms/step - loss: 0.2541 - accuracy: 0.9205 - val_loss: 0.7504 - val_accuracy: 0.8753\n",
            "Epoch 30/30\n",
            "1688/1688 [==============================] - 4s 2ms/step - loss: 0.2590 - accuracy: 0.9175 - val_loss: 1.0047 - val_accuracy: 0.8533\n"
          ],
          "name": "stdout"
        }
      ]
    },
    {
      "cell_type": "code",
      "metadata": {
        "colab": {
          "base_uri": "https://localhost:8080/",
          "height": 214
        },
        "id": "oi2KXlnaar4B",
        "outputId": "12a4d0fa-0fbd-4c86-e117-548950173cc4"
      },
      "source": [
        "hist2 = pd.DataFrame(history2.history)\n",
        "hist2.head()"
      ],
      "execution_count": 39,
      "outputs": [
        {
          "output_type": "execute_result",
          "data": {
            "text/html": [
              "<div>\n",
              "<style scoped>\n",
              "    .dataframe tbody tr th:only-of-type {\n",
              "        vertical-align: middle;\n",
              "    }\n",
              "\n",
              "    .dataframe tbody tr th {\n",
              "        vertical-align: top;\n",
              "    }\n",
              "\n",
              "    .dataframe thead th {\n",
              "        text-align: right;\n",
              "    }\n",
              "</style>\n",
              "<table border=\"1\" class=\"dataframe\">\n",
              "  <thead>\n",
              "    <tr style=\"text-align: right;\">\n",
              "      <th></th>\n",
              "      <th>loss</th>\n",
              "      <th>accuracy</th>\n",
              "      <th>val_loss</th>\n",
              "      <th>val_accuracy</th>\n",
              "    </tr>\n",
              "  </thead>\n",
              "  <tbody>\n",
              "    <tr>\n",
              "      <th>0</th>\n",
              "      <td>0.504256</td>\n",
              "      <td>0.815982</td>\n",
              "      <td>0.388229</td>\n",
              "      <td>0.854667</td>\n",
              "    </tr>\n",
              "    <tr>\n",
              "      <th>1</th>\n",
              "      <td>0.392466</td>\n",
              "      <td>0.859111</td>\n",
              "      <td>0.383862</td>\n",
              "      <td>0.860500</td>\n",
              "    </tr>\n",
              "    <tr>\n",
              "      <th>2</th>\n",
              "      <td>0.368989</td>\n",
              "      <td>0.870889</td>\n",
              "      <td>0.411835</td>\n",
              "      <td>0.865167</td>\n",
              "    </tr>\n",
              "    <tr>\n",
              "      <th>3</th>\n",
              "      <td>0.357505</td>\n",
              "      <td>0.877148</td>\n",
              "      <td>0.378405</td>\n",
              "      <td>0.874000</td>\n",
              "    </tr>\n",
              "    <tr>\n",
              "      <th>4</th>\n",
              "      <td>0.347874</td>\n",
              "      <td>0.881463</td>\n",
              "      <td>0.362138</td>\n",
              "      <td>0.881333</td>\n",
              "    </tr>\n",
              "  </tbody>\n",
              "</table>\n",
              "</div>"
            ],
            "text/plain": [
              "       loss  accuracy  val_loss  val_accuracy\n",
              "0  0.504256  0.815982  0.388229      0.854667\n",
              "1  0.392466  0.859111  0.383862      0.860500\n",
              "2  0.368989  0.870889  0.411835      0.865167\n",
              "3  0.357505  0.877148  0.378405      0.874000\n",
              "4  0.347874  0.881463  0.362138      0.881333"
            ]
          },
          "metadata": {
            "tags": []
          },
          "execution_count": 39
        }
      ]
    },
    {
      "cell_type": "code",
      "metadata": {
        "colab": {
          "base_uri": "https://localhost:8080/",
          "height": 265
        },
        "id": "oVAR7ScrdiWY",
        "outputId": "55e007d0-ceba-40da-c665-97948a435b12"
      },
      "source": [
        "hist2.plot()  # 정확도/손실 곡선\n",
        "plt.grid()\n",
        "plt.show()"
      ],
      "execution_count": 41,
      "outputs": [
        {
          "output_type": "display_data",
          "data": {
            "image/png": "[encoded data removed]",
            "text/plain": [
              "<Figure size 432x288 with 1 Axes>"
            ]
          },
          "metadata": {
            "tags": [],
            "needs_background": "light"
          }
        }
      ]
    },
    {
      "cell_type": "code",
      "metadata": {
        "colab": {
          "base_uri": "https://localhost:8080/"
        },
        "id": "SR-ADMNTgUcm",
        "outputId": "28b6b09d-a362-4930-c821-53f717e9e3f7"
      },
      "source": [
        "np.argmin(hist2['val_loss'])"
      ],
      "execution_count": 42,
      "outputs": [
        {
          "output_type": "execute_result",
          "data": {
            "text/plain": [
              "4"
            ]
          },
          "metadata": {
            "tags": []
          },
          "execution_count": 42
        }
      ]
    },
    {
      "cell_type": "code",
      "metadata": {
        "colab": {
          "base_uri": "https://localhost:8080/"
        },
        "id": "32X_LsT3hHXF",
        "outputId": "48bb49b7-c868-45a9-9b06-c0f6564874ad"
      },
      "source": [
        "np.min(hist2['val_loss'])"
      ],
      "execution_count": 43,
      "outputs": [
        {
          "output_type": "execute_result",
          "data": {
            "text/plain": [
              "0.3621375858783722"
            ]
          },
          "metadata": {
            "tags": []
          },
          "execution_count": 43
        }
      ]
    },
    {
      "cell_type": "markdown",
      "metadata": {
        "id": "DVwKYufyhnRV"
      },
      "source": [
        "## Adam, Nadam"
      ]
    },
    {
      "cell_type": "markdown",
      "metadata": {
        "id": "uyyeVlenhzm3"
      },
      "source": [
        "# Callbacks"
      ]
    },
    {
      "cell_type": "markdown",
      "metadata": {
        "id": "Cjo0iH2vh_t_"
      },
      "source": [
        "콜백(callback): 훈련 과정(fit) 중간에 어떤 작업을 수행할 수 있도록 하는 함수.\n",
        "모델을 훈련(fit)할 때 등록."
      ]
    },
    {
      "cell_type": "markdown",
      "metadata": {
        "id": "pp-GodTniUb_"
      },
      "source": [
        "## EarlyStopping 콜백"
      ]
    },
    {
      "cell_type": "code",
      "metadata": {
        "id": "lBDAevubhJwH"
      },
      "source": [
        "model3 = create_model()"
      ],
      "execution_count": 44,
      "outputs": []
    },
    {
      "cell_type": "code",
      "metadata": {
        "id": "QjIlH17-ifr4"
      },
      "source": [
        "model3.compile(optimizer='adam', loss='sparse_categorical_crossentropy', metrics='accuracy')"
      ],
      "execution_count": 45,
      "outputs": []
    },
    {
      "cell_type": "code",
      "metadata": {
        "colab": {
          "base_uri": "https://localhost:8080/"
        },
        "id": "1qMjyojajwB4",
        "outputId": "10cb2109-7107-4d6d-a30e-35f3d93e6ba8"
      },
      "source": [
        "early_stop = keras.callbacks.EarlyStopping(patience=2)  # 조기 종료 콜백\n",
        "#> val_loss를 모니터링하다가 val_loss가 patience 횟수동안에 더이상 감소하지 않으면 epoch를 강제 종료\n",
        "\n",
        "history3 = model3.fit(x_train, y_train, epochs=30,\n",
        "                      validation_data=(x_val, y_val),\n",
        "                      callbacks=[early_stop])"
      ],
      "execution_count": 46,
      "outputs": [
        {
          "output_type": "stream",
          "text": [
            "Epoch 1/30\n",
            "1688/1688 [==============================] - 4s 2ms/step - loss: 0.6249 - accuracy: 0.7794 - val_loss: 0.3590 - val_accuracy: 0.8703\n",
            "Epoch 2/30\n",
            "1688/1688 [==============================] - 4s 2ms/step - loss: 0.3782 - accuracy: 0.8613 - val_loss: 0.3257 - val_accuracy: 0.8810\n",
            "Epoch 3/30\n",
            "1688/1688 [==============================] - 4s 2ms/step - loss: 0.3338 - accuracy: 0.8770 - val_loss: 0.3282 - val_accuracy: 0.8762\n",
            "Epoch 4/30\n",
            "1688/1688 [==============================] - 4s 2ms/step - loss: 0.3040 - accuracy: 0.8866 - val_loss: 0.3087 - val_accuracy: 0.8875\n",
            "Epoch 5/30\n",
            "1688/1688 [==============================] - 4s 2ms/step - loss: 0.2804 - accuracy: 0.8945 - val_loss: 0.2950 - val_accuracy: 0.8937\n",
            "Epoch 6/30\n",
            "1688/1688 [==============================] - 4s 2ms/step - loss: 0.2717 - accuracy: 0.8990 - val_loss: 0.3092 - val_accuracy: 0.8853\n",
            "Epoch 7/30\n",
            "1688/1688 [==============================] - 4s 2ms/step - loss: 0.2538 - accuracy: 0.9042 - val_loss: 0.3070 - val_accuracy: 0.8885\n"
          ],
          "name": "stdout"
        }
      ]
    },
    {
      "cell_type": "code",
      "metadata": {
        "colab": {
          "base_uri": "https://localhost:8080/",
          "height": 265
        },
        "id": "TDuOXUKOlghg",
        "outputId": "1f915054-69de-4334-80d8-7c692b5096c1"
      },
      "source": [
        "hist3 = pd.DataFrame(history3.history)\n",
        "\n",
        "hist3.plot()\n",
        "plt.grid()\n",
        "plt.show()"
      ],
      "execution_count": 47,
      "outputs": [
        {
          "output_type": "display_data",
          "data": {
            "image/png": "[encoded data removed]",
            "text/plain": [
              "<Figure size 432x288 with 1 Axes>"
            ]
          },
          "metadata": {
            "tags": [],
            "needs_background": "light"
          }
        }
      ]
    },
    {
      "cell_type": "code",
      "metadata": {
        "id": "2Q1tqd54mFVS"
      },
      "source": [
        "model4 = create_model()"
      ],
      "execution_count": 48,
      "outputs": []
    },
    {
      "cell_type": "code",
      "metadata": {
        "id": "guQfLzV6mHzl"
      },
      "source": [
        "model4.compile(optimizer='rmsprop', loss='sparse_categorical_crossentropy', metrics='accuracy')"
      ],
      "execution_count": 49,
      "outputs": []
    },
    {
      "cell_type": "code",
      "metadata": {
        "colab": {
          "base_uri": "https://localhost:8080/"
        },
        "id": "s7KRcvi6mSVX",
        "outputId": "54d00511-aba1-425e-9d71-b492676c8b16"
      },
      "source": [
        "history4 = model4.fit(x_train, y_train, epochs=30, \n",
        "                      validation_data=(x_val, y_val), callbacks=[early_stop])"
      ],
      "execution_count": 50,
      "outputs": [
        {
          "output_type": "stream",
          "text": [
            "Epoch 1/30\n",
            "1688/1688 [==============================] - 5s 3ms/step - loss: 0.6339 - accuracy: 0.7708 - val_loss: 0.3897 - val_accuracy: 0.8510\n",
            "Epoch 2/30\n",
            "1688/1688 [==============================] - 5s 3ms/step - loss: 0.3932 - accuracy: 0.8581 - val_loss: 0.3575 - val_accuracy: 0.8708\n",
            "Epoch 3/30\n",
            "1688/1688 [==============================] - 4s 3ms/step - loss: 0.3725 - accuracy: 0.8676 - val_loss: 0.3773 - val_accuracy: 0.8712\n",
            "Epoch 4/30\n",
            "1688/1688 [==============================] - 5s 3ms/step - loss: 0.3574 - accuracy: 0.8752 - val_loss: 0.3445 - val_accuracy: 0.8823\n",
            "Epoch 5/30\n",
            "1688/1688 [==============================] - 4s 3ms/step - loss: 0.3410 - accuracy: 0.8821 - val_loss: 0.4067 - val_accuracy: 0.8455\n",
            "Epoch 6/30\n",
            "1688/1688 [==============================] - 5s 3ms/step - loss: 0.3387 - accuracy: 0.8843 - val_loss: 0.4082 - val_accuracy: 0.8732\n"
          ],
          "name": "stdout"
        }
      ]
    },
    {
      "cell_type": "code",
      "metadata": {
        "colab": {
          "base_uri": "https://localhost:8080/",
          "height": 265
        },
        "id": "ufGxu49XmkTe",
        "outputId": "775de6c0-3113-4072-baad-74bf6025171f"
      },
      "source": [
        "hist4 = pd.DataFrame(history4.history)\n",
        "\n",
        "hist4.plot()\n",
        "plt.grid()\n",
        "plt.show()"
      ],
      "execution_count": 52,
      "outputs": [
        {
          "output_type": "display_data",
          "data": {
            "image/png": "[encoded data removed]",
            "text/plain": [
              "<Figure size 432x288 with 1 Axes>"
            ]
          },
          "metadata": {
            "tags": [],
            "needs_background": "light"
          }
        }
      ]
    },
    {
      "cell_type": "code",
      "metadata": {
        "colab": {
          "base_uri": "https://localhost:8080/"
        },
        "id": "oSz0pUptnSrn",
        "outputId": "3559fc9b-00b6-4ef3-c619-aa491327e0a2"
      },
      "source": [
        "model4.evaluate(x_val, y_val)\n",
        "#> 에포크가 종료된 상태의 가중치 값들을 가지고 있는 모델.\n",
        "#> val_loss가 가장 작은 상태의 가중치들을 가지고 있지 못함."
      ],
      "execution_count": 54,
      "outputs": [
        {
          "output_type": "stream",
          "text": [
            "188/188 [==============================] - 0s 2ms/step - loss: 0.4082 - accuracy: 0.8732\n"
          ],
          "name": "stdout"
        },
        {
          "output_type": "execute_result",
          "data": {
            "text/plain": [
              "[0.4082309305667877, 0.8731666803359985]"
            ]
          },
          "metadata": {
            "tags": []
          },
          "execution_count": 54
        }
      ]
    },
    {
      "cell_type": "markdown",
      "metadata": {
        "id": "U0dAR4QMpO42"
      },
      "source": [
        "## ModelCheckpoint 콜백"
      ]
    },
    {
      "cell_type": "code",
      "metadata": {
        "id": "tXZkv1PMpSEe"
      },
      "source": [
        "model5 = create_model()"
      ],
      "execution_count": 62,
      "outputs": []
    },
    {
      "cell_type": "code",
      "metadata": {
        "id": "nl3r-5AtuJB3"
      },
      "source": [
        "model5.compile(optimizer='rmsprop', loss='sparse_categorical_crossentropy', metrics='accuracy')"
      ],
      "execution_count": 63,
      "outputs": []
    },
    {
      "cell_type": "code",
      "metadata": {
        "colab": {
          "base_uri": "https://localhost:8080/"
        },
        "id": "fWOKM4EPuVA1",
        "outputId": "64682233-e587-4dba-992a-6ab6845ea669"
      },
      "source": [
        "model_check = keras.callbacks.ModelCheckpoint(filepath='best_model.h5', save_best_only=True)\n",
        "#> 훈련(fit) 중에 val_loss값이 가장 작은 에포크에서의 모델 상태(가중치, 층, 옵티마이저, ...)를 저장.\n",
        "\n",
        "history5 = model5.fit(x_train, y_train, epochs=30, validation_data=(x_val, y_val),\n",
        "                      callbacks=[model_check, early_stop])"
      ],
      "execution_count": 64,
      "outputs": [
        {
          "output_type": "stream",
          "text": [
            "Epoch 1/30\n",
            "1688/1688 [==============================] - 5s 3ms/step - loss: 0.6365 - accuracy: 0.7736 - val_loss: 0.4212 - val_accuracy: 0.8420\n",
            "Epoch 2/30\n",
            "1688/1688 [==============================] - 4s 3ms/step - loss: 0.3947 - accuracy: 0.8584 - val_loss: 0.4144 - val_accuracy: 0.8525\n",
            "Epoch 3/30\n",
            "1688/1688 [==============================] - 5s 3ms/step - loss: 0.3715 - accuracy: 0.8699 - val_loss: 0.4430 - val_accuracy: 0.8670\n",
            "Epoch 4/30\n",
            "1688/1688 [==============================] - 4s 3ms/step - loss: 0.3503 - accuracy: 0.8773 - val_loss: 0.4045 - val_accuracy: 0.8763\n",
            "Epoch 5/30\n",
            "1688/1688 [==============================] - 4s 3ms/step - loss: 0.3400 - accuracy: 0.8824 - val_loss: 0.4162 - val_accuracy: 0.8683\n",
            "Epoch 6/30\n",
            "1688/1688 [==============================] - 5s 3ms/step - loss: 0.3260 - accuracy: 0.8862 - val_loss: 0.4358 - val_accuracy: 0.8497\n"
          ],
          "name": "stdout"
        }
      ]
    },
    {
      "cell_type": "code",
      "metadata": {
        "colab": {
          "base_uri": "https://localhost:8080/"
        },
        "id": "vVOdd_41vX7N",
        "outputId": "a4686024-a1e0-4c3e-8d78-6f2b0bbd190b"
      },
      "source": [
        "model5.evaluate(x_val, y_val)\n",
        "#> fit의 마지막 epoch 결과와 동일."
      ],
      "execution_count": 65,
      "outputs": [
        {
          "output_type": "stream",
          "text": [
            "188/188 [==============================] - 0s 2ms/step - loss: 0.4358 - accuracy: 0.8497\n"
          ],
          "name": "stdout"
        },
        {
          "output_type": "execute_result",
          "data": {
            "text/plain": [
              "[0.43584179878234863, 0.8496666550636292]"
            ]
          },
          "metadata": {
            "tags": []
          },
          "execution_count": 65
        }
      ]
    },
    {
      "cell_type": "code",
      "metadata": {
        "id": "TxjYSXk3vwhe"
      },
      "source": [
        "# HDF5(.h5) 형식으로 저장된 keras 신경망 모델을 메모리에 로드\n",
        "best_model = keras.models.load_model(filepath='best_model.h5')"
      ],
      "execution_count": 66,
      "outputs": []
    },
    {
      "cell_type": "code",
      "metadata": {
        "colab": {
          "base_uri": "https://localhost:8080/"
        },
        "id": "KxvIvfXowQkW",
        "outputId": "64ad1402-e7ad-4368-ca1e-b713bfbae60f"
      },
      "source": [
        "best_model.evaluate(x_val, y_val)\n",
        "#> 훈련 과정에서 val_loss가 가장 작은 결과와 동일."
      ],
      "execution_count": 67,
      "outputs": [
        {
          "output_type": "stream",
          "text": [
            "188/188 [==============================] - 0s 2ms/step - loss: 0.4045 - accuracy: 0.8763\n"
          ],
          "name": "stdout"
        },
        {
          "output_type": "execute_result",
          "data": {
            "text/plain": [
              "[0.4044610857963562, 0.8763333559036255]"
            ]
          },
          "metadata": {
            "tags": []
          },
          "execution_count": 67
        }
      ]
    },
    {
      "cell_type": "markdown",
      "metadata": {
        "id": "nI67AkPhybZW"
      },
      "source": [
        "# 케라스 모델 저장/가중치 저장과 복원"
      ]
    },
    {
      "cell_type": "markdown",
      "metadata": {
        "id": "ZyasSEIyyv_e"
      },
      "source": [
        "## 모델 전체를 저장/복원"
      ]
    },
    {
      "cell_type": "code",
      "metadata": {
        "id": "U4zkdCNhwUxc"
      },
      "source": [
        "# 모델 전체 저장\n",
        "keras.models.save_model(model=best_model, filepath='save_test.h5')"
      ],
      "execution_count": 68,
      "outputs": []
    },
    {
      "cell_type": "code",
      "metadata": {
        "id": "FYSe-nwQzAwu"
      },
      "source": [
        "# 모델 전체 복원\n",
        "recovered_model = keras.models.load_model('save_test.h5')"
      ],
      "execution_count": 69,
      "outputs": []
    },
    {
      "cell_type": "code",
      "metadata": {
        "colab": {
          "base_uri": "https://localhost:8080/"
        },
        "id": "1VbsVc-ZzYV-",
        "outputId": "0686469c-8fd6-4f99-91a3-9d5cc0c985e3"
      },
      "source": [
        "recovered_model.predict(x_val[:2])"
      ],
      "execution_count": 70,
      "outputs": [
        {
          "output_type": "execute_result",
          "data": {
            "text/plain": [
              "array([[1.1031154e-02, 1.1927068e-05, 1.7434870e-05, 9.8108429e-01,\n",
              "        1.8408797e-05, 2.9968318e-13, 7.8367963e-03, 1.5555397e-13,\n",
              "        1.0574554e-08, 1.6361013e-16],\n",
              "       [1.1503553e-17, 1.0000000e+00, 2.4833917e-24, 2.8283268e-13,\n",
              "        1.8584558e-25, 4.4806920e-25, 1.0034896e-21, 6.1460450e-27,\n",
              "        7.3291470e-23, 2.5359833e-35]], dtype=float32)"
            ]
          },
          "metadata": {
            "tags": []
          },
          "execution_count": 70
        }
      ]
    },
    {
      "cell_type": "code",
      "metadata": {
        "colab": {
          "base_uri": "https://localhost:8080/"
        },
        "id": "rvaRtAvYzwfF",
        "outputId": "b406e555-254e-4c79-cbe4-0d895166597f"
      },
      "source": [
        "recovered_model.evaluate(x_val, y_val)"
      ],
      "execution_count": 71,
      "outputs": [
        {
          "output_type": "stream",
          "text": [
            "188/188 [==============================] - 0s 2ms/step - loss: 0.4045 - accuracy: 0.8763\n"
          ],
          "name": "stdout"
        },
        {
          "output_type": "execute_result",
          "data": {
            "text/plain": [
              "[0.4044610857963562, 0.8763333559036255]"
            ]
          },
          "metadata": {
            "tags": []
          },
          "execution_count": 71
        }
      ]
    },
    {
      "cell_type": "markdown",
      "metadata": {
        "id": "14NLbStQ0Gmu"
      },
      "source": [
        "## 모델의 가중치 저장/복원"
      ]
    },
    {
      "cell_type": "code",
      "metadata": {
        "id": "w9NZxxnv0FEe"
      },
      "source": [
        "# 모델의 가중치만 저장\n",
        "best_model.save_weights(filepath='best_weight.h5')"
      ],
      "execution_count": 72,
      "outputs": []
    },
    {
      "cell_type": "code",
      "metadata": {
        "id": "V52kJhL10dDO"
      },
      "source": [
        "# 파일에 저장된 가중치를 메모리에 로드하려면, 가중치를 저장했었던 모델과 동일한 모델을 먼저 생성.\n",
        "# 동일한 layer 개수, 각 층에서 동일한 unit들의 개수와 동일한 활성화 함수\n",
        "model = create_model()"
      ],
      "execution_count": 73,
      "outputs": []
    },
    {
      "cell_type": "code",
      "metadata": {
        "id": "bIhjOU5K1Lgd"
      },
      "source": [
        "# 구조가 동일한 모델에서 load_weights 메서드 호출\n",
        "model.load_weights(filepath='best_weight.h5')"
      ],
      "execution_count": 74,
      "outputs": []
    },
    {
      "cell_type": "code",
      "metadata": {
        "colab": {
          "base_uri": "https://localhost:8080/"
        },
        "id": "6KRRWks81vZN",
        "outputId": "6b783a82-84e1-4549-fa0f-d4d3a8ba6ea2"
      },
      "source": [
        "# weight가 로드가 되면 예측(predict)가 가능.\n",
        "model.predict(x_val[:2])"
      ],
      "execution_count": 75,
      "outputs": [
        {
          "output_type": "execute_result",
          "data": {
            "text/plain": [
              "array([[1.1031154e-02, 1.1927068e-05, 1.7434870e-05, 9.8108429e-01,\n",
              "        1.8408797e-05, 2.9968318e-13, 7.8367963e-03, 1.5555397e-13,\n",
              "        1.0574554e-08, 1.6361013e-16],\n",
              "       [1.1503553e-17, 1.0000000e+00, 2.4833917e-24, 2.8283268e-13,\n",
              "        1.8584558e-25, 4.4806920e-25, 1.0034896e-21, 6.1460450e-27,\n",
              "        7.3291470e-23, 2.5359833e-35]], dtype=float32)"
            ]
          },
          "metadata": {
            "tags": []
          },
          "execution_count": 75
        }
      ]
    },
    {
      "cell_type": "code",
      "metadata": {
        "colab": {
          "base_uri": "https://localhost:8080/"
        },
        "id": "QADV1MLw11rM",
        "outputId": "76ca4aba-c0cb-40ec-8983-dde7439729a1"
      },
      "source": [
        "# 가중치들만 로드한 모델인 경우에는 컴파일되지 않으면, loss와 metrics이 설정되어 있지 않기 때문에,\n",
        "# evaluate 메서드가 에러를 발생시킴.\n",
        "# 가중치들만 로드한 경우에는 evaluate를 사용하기 위해서는 compile을 먼저 호출해야 함!\n",
        "model.compile(loss='sparse_categorical_crossentropy', metrics='accuracy')\n",
        "model.evaluate(x_val, y_val)"
      ],
      "execution_count": 79,
      "outputs": [
        {
          "output_type": "stream",
          "text": [
            "188/188 [==============================] - 1s 2ms/step - loss: 0.3738 - accuracy: 0.8795\n"
          ],
          "name": "stdout"
        },
        {
          "output_type": "execute_result",
          "data": {
            "text/plain": [
              "[0.4044610857963562, 0.8763333559036255]"
            ]
          },
          "metadata": {
            "tags": []
          },
          "execution_count": 79
        }
      ]
    },
    {
      "cell_type": "markdown",
      "metadata": {
        "id": "UMTxpJL87hgM"
      },
      "source": [
        "# Dropout 규제"
      ]
    },
    {
      "cell_type": "markdown",
      "metadata": {
        "id": "E09EwEij-HEZ"
      },
      "source": [
        "input layer --> flatten layer --> dense layer --> dropout --> dense layer --> dropout --> output layer"
      ]
    },
    {
      "cell_type": "code",
      "metadata": {
        "colab": {
          "base_uri": "https://localhost:8080/"
        },
        "id": "qaRU9BxX2L8W",
        "outputId": "62c9cc8b-3c29-45a0-f4be-5bae2cb083bd"
      },
      "source": [
        "model = keras.Sequential()\n",
        "model.add(keras.layers.Flatten(input_shape=(28, 28)))\n",
        "model.add(keras.layers.Dense(units=300, activation='relu'))\n",
        "model.add(keras.layers.Dropout(rate=0.3))\n",
        "model.add(keras.layers.Dense(units=100, activation='relu'))\n",
        "model.add(keras.layers.Dropout(rate=0.3))\n",
        "model.add(keras.layers.Dense(units=10, activation='softmax'))\n",
        "\n",
        "model.summary()"
      ],
      "execution_count": 86,
      "outputs": [
        {
          "output_type": "stream",
          "text": [
            "Model: \"sequential_10\"\n",
            "_________________________________________________________________\n",
            "Layer (type)                 Output Shape              Param #   \n",
            "=================================================================\n",
            "flatten_10 (Flatten)         (None, 784)               0         \n",
            "_________________________________________________________________\n",
            "dense_30 (Dense)             (None, 300)               235500    \n",
            "_________________________________________________________________\n",
            "dropout_2 (Dropout)          (None, 300)               0         \n",
            "_________________________________________________________________\n",
            "dense_31 (Dense)             (None, 100)               30100     \n",
            "_________________________________________________________________\n",
            "dropout_3 (Dropout)          (None, 100)               0         \n",
            "_________________________________________________________________\n",
            "dense_32 (Dense)             (None, 10)                1010      \n",
            "=================================================================\n",
            "Total params: 266,610\n",
            "Trainable params: 266,610\n",
            "Non-trainable params: 0\n",
            "_________________________________________________________________\n"
          ],
          "name": "stdout"
        }
      ]
    },
    {
      "cell_type": "code",
      "metadata": {
        "colab": {
          "base_uri": "https://localhost:8080/",
          "height": 754
        },
        "id": "iD2mr2n3_2yU",
        "outputId": "1d411056-21e3-4758-fffc-cbc3fd23923f"
      },
      "source": [
        "keras.utils.plot_model(model, show_shapes=True, to_file='dropout_model.png')"
      ],
      "execution_count": 87,
      "outputs": [
        {
          "output_type": "execute_result",
          "data": {
            "image/png": "[encoded data removed]",
            "text/plain": [
              "<IPython.core.display.Image object>"
            ]
          },
          "metadata": {
            "tags": []
          },
          "execution_count": 87
        }
      ]
    },
    {
      "cell_type": "code",
      "metadata": {
        "id": "2lwWvvZmAVHM"
      },
      "source": [
        "model.compile(optimizer='rmsprop', loss='sparse_categorical_crossentropy', metrics='accuracy')"
      ],
      "execution_count": 88,
      "outputs": []
    },
    {
      "cell_type": "code",
      "metadata": {
        "colab": {
          "base_uri": "https://localhost:8080/"
        },
        "id": "i9adEkTLAx2c",
        "outputId": "930c3ac0-19c1-47ca-8f6f-f754a869e6dc"
      },
      "source": [
        "model_check = keras.callbacks.ModelCheckpoint(filepath='dropout_best.h5', save_best_only=True)\n",
        "early_stop = keras.callbacks.EarlyStopping(patience=2)\n",
        "\n",
        "history = model.fit(x_train, y_train, epochs=30, validation_data=(x_val, y_val),\n",
        "                    callbacks=[model_check])"
      ],
      "execution_count": 89,
      "outputs": [
        {
          "output_type": "stream",
          "text": [
            "Epoch 1/30\n",
            "1688/1688 [==============================] - 5s 3ms/step - loss: 0.7677 - accuracy: 0.7277 - val_loss: 0.4346 - val_accuracy: 0.8437\n",
            "Epoch 2/30\n",
            "1688/1688 [==============================] - 4s 2ms/step - loss: 0.4889 - accuracy: 0.8311 - val_loss: 0.4053 - val_accuracy: 0.8563\n",
            "Epoch 3/30\n",
            "1688/1688 [==============================] - 4s 3ms/step - loss: 0.4856 - accuracy: 0.8388 - val_loss: 0.4249 - val_accuracy: 0.8472\n",
            "Epoch 4/30\n",
            "1688/1688 [==============================] - 4s 3ms/step - loss: 0.4826 - accuracy: 0.8450 - val_loss: 0.4008 - val_accuracy: 0.8697\n",
            "Epoch 5/30\n",
            "1688/1688 [==============================] - 4s 2ms/step - loss: 0.4857 - accuracy: 0.8461 - val_loss: 0.4259 - val_accuracy: 0.8532\n",
            "Epoch 6/30\n",
            "1688/1688 [==============================] - 4s 3ms/step - loss: 0.4858 - accuracy: 0.8476 - val_loss: 0.4360 - val_accuracy: 0.8590\n",
            "Epoch 7/30\n",
            "1688/1688 [==============================] - 4s 3ms/step - loss: 0.4957 - accuracy: 0.8474 - val_loss: 0.3912 - val_accuracy: 0.8752\n",
            "Epoch 8/30\n",
            "1688/1688 [==============================] - 4s 3ms/step - loss: 0.5090 - accuracy: 0.8515 - val_loss: 0.4125 - val_accuracy: 0.8712\n",
            "Epoch 9/30\n",
            "1688/1688 [==============================] - 4s 3ms/step - loss: 0.5038 - accuracy: 0.8460 - val_loss: 0.4158 - val_accuracy: 0.8722\n",
            "Epoch 10/30\n",
            "1688/1688 [==============================] - 4s 3ms/step - loss: 0.5198 - accuracy: 0.8473 - val_loss: 0.5048 - val_accuracy: 0.8533\n",
            "Epoch 11/30\n",
            "1688/1688 [==============================] - 5s 3ms/step - loss: 0.5365 - accuracy: 0.8448 - val_loss: 0.4512 - val_accuracy: 0.8613\n",
            "Epoch 12/30\n",
            "1688/1688 [==============================] - 4s 3ms/step - loss: 0.5246 - accuracy: 0.8478 - val_loss: 0.4487 - val_accuracy: 0.8783\n",
            "Epoch 13/30\n",
            "1688/1688 [==============================] - 4s 3ms/step - loss: 0.5405 - accuracy: 0.8448 - val_loss: 0.4340 - val_accuracy: 0.8720\n",
            "Epoch 14/30\n",
            "1688/1688 [==============================] - 5s 3ms/step - loss: 0.5407 - accuracy: 0.8461 - val_loss: 0.4217 - val_accuracy: 0.8765\n",
            "Epoch 15/30\n",
            "1688/1688 [==============================] - 4s 3ms/step - loss: 0.5377 - accuracy: 0.8446 - val_loss: 0.4548 - val_accuracy: 0.8807\n",
            "Epoch 16/30\n",
            "1688/1688 [==============================] - 4s 3ms/step - loss: 0.5512 - accuracy: 0.8459 - val_loss: 0.4878 - val_accuracy: 0.8663\n",
            "Epoch 17/30\n",
            "1688/1688 [==============================] - 4s 3ms/step - loss: 0.5582 - accuracy: 0.8450 - val_loss: 0.4931 - val_accuracy: 0.8700\n",
            "Epoch 18/30\n",
            "1688/1688 [==============================] - 4s 3ms/step - loss: 0.5617 - accuracy: 0.8473 - val_loss: 0.4722 - val_accuracy: 0.8685\n",
            "Epoch 19/30\n",
            "1688/1688 [==============================] - 4s 3ms/step - loss: 0.5775 - accuracy: 0.8444 - val_loss: 0.5702 - val_accuracy: 0.8757\n",
            "Epoch 20/30\n",
            "1688/1688 [==============================] - 5s 3ms/step - loss: 0.5885 - accuracy: 0.8439 - val_loss: 0.5533 - val_accuracy: 0.8667\n",
            "Epoch 21/30\n",
            "1688/1688 [==============================] - 4s 3ms/step - loss: 0.5870 - accuracy: 0.8407 - val_loss: 0.4781 - val_accuracy: 0.8633\n",
            "Epoch 22/30\n",
            "1688/1688 [==============================] - 4s 3ms/step - loss: 0.5890 - accuracy: 0.8385 - val_loss: 0.4900 - val_accuracy: 0.8742\n",
            "Epoch 23/30\n",
            "1688/1688 [==============================] - 4s 3ms/step - loss: 0.6057 - accuracy: 0.8416 - val_loss: 0.5597 - val_accuracy: 0.8725\n",
            "Epoch 24/30\n",
            "1688/1688 [==============================] - 4s 3ms/step - loss: 0.6131 - accuracy: 0.8434 - val_loss: 0.4796 - val_accuracy: 0.8747\n",
            "Epoch 25/30\n",
            "1688/1688 [==============================] - 4s 3ms/step - loss: 0.6181 - accuracy: 0.8364 - val_loss: 0.5140 - val_accuracy: 0.8607\n",
            "Epoch 26/30\n",
            "1688/1688 [==============================] - 4s 3ms/step - loss: 0.6083 - accuracy: 0.8390 - val_loss: 0.5095 - val_accuracy: 0.8648\n",
            "Epoch 27/30\n",
            "1688/1688 [==============================] - 5s 3ms/step - loss: 0.5907 - accuracy: 0.8396 - val_loss: 0.5370 - val_accuracy: 0.8707\n",
            "Epoch 28/30\n",
            "1688/1688 [==============================] - 4s 2ms/step - loss: 0.6161 - accuracy: 0.8416 - val_loss: 0.5534 - val_accuracy: 0.8710\n",
            "Epoch 29/30\n",
            "1688/1688 [==============================] - 4s 3ms/step - loss: 0.6166 - accuracy: 0.8376 - val_loss: 0.4988 - val_accuracy: 0.8758\n",
            "Epoch 30/30\n",
            "1688/1688 [==============================] - 4s 3ms/step - loss: 0.6130 - accuracy: 0.8414 - val_loss: 0.5709 - val_accuracy: 0.8702\n"
          ],
          "name": "stdout"
        }
      ]
    },
    {
      "cell_type": "code",
      "metadata": {
        "colab": {
          "base_uri": "https://localhost:8080/",
          "height": 267
        },
        "id": "8cRHWtaeDXEc",
        "outputId": "8a6da5ce-5298-466e-d59e-a96febc08197"
      },
      "source": [
        "hist = pd.DataFrame(history.history)\n",
        "\n",
        "hist.plot()\n",
        "plt.grid()\n",
        "plt.show()"
      ],
      "execution_count": 90,
      "outputs": [
        {
          "output_type": "display_data",
          "data": {
            "image/png": "[encoded data removed]",
            "text/plain": [
              "<Figure size 432x288 with 1 Axes>"
            ]
          },
          "metadata": {
            "tags": [],
            "needs_background": "light"
          }
        }
      ]
    },
    {
      "cell_type": "code",
      "metadata": {
        "colab": {
          "base_uri": "https://localhost:8080/"
        },
        "id": "NIIHC4vGDlcD",
        "outputId": "0897d500-aaf6-4d4f-e014-b973ebf3cf26"
      },
      "source": [
        "np.argmin(hist['val_loss'])"
      ],
      "execution_count": 91,
      "outputs": [
        {
          "output_type": "execute_result",
          "data": {
            "text/plain": [
              "6"
            ]
          },
          "metadata": {
            "tags": []
          },
          "execution_count": 91
        }
      ]
    }
  ]
}