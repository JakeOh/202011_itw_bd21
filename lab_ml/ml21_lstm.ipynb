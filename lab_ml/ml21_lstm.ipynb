{
  "nbformat": 4,
  "nbformat_minor": 0,
  "metadata": {
    "colab": {
      "name": "ml21_lstm.ipynb",
      "provenance": [],
      "collapsed_sections": [],
      "authorship_tag": "ABX9TyNzHQsrvbgeu0LYI6en8fFk",
      "include_colab_link": true
    },
    "kernelspec": {
      "name": "python3",
      "display_name": "Python 3"
    },
    "language_info": {
      "name": "python"
    }
  },
  "cells": [
    {
      "cell_type": "markdown",
      "metadata": {
        "id": "view-in-github",
        "colab_type": "text"
      },
      "source": [
        "<a href=\"https://colab.research.google.com/github/JakeOh/202011_itw_bd21/blob/main/lab_ml/ml21_lstm.ipynb\" target=\"_parent\"><img src=\"https://colab.research.google.com/assets/colab-badge.svg\" alt=\"Open In Colab\"/></a>"
      ]
    },
    {
      "cell_type": "markdown",
      "metadata": {
        "id": "ArVTJyFwDygI"
      },
      "source": [
        "*   IMDB 데이터 셋을 다운로드 - 가장 자주 사용되는 500개의 어휘 사전을 사용.\n",
        "*   각 샘플(리뷰)의 최대 단어 숫자가 100이 되도록 자르거나 패딩.\n",
        "*   LSTM 순환 층을 2개를 연결하는 모델을 생성\n",
        "    *   Input --> Embedding --> LSTM  --> LSTM --> Output\n",
        "        *   LSTM 층의 unit 개수 = 16\n",
        "        *   LSTM 층의 dropout 비율 = 0.3\n",
        "*   모델 컴파일\n",
        "*   모델 훈련\n",
        "*   학습 곡선 - 손실 곡선, 정확도 곡선\n",
        "*   모델 평가"
      ]
    },
    {
      "cell_type": "code",
      "metadata": {
        "id": "tG1QHF7MDtlI"
      },
      "source": [
        ""
      ],
      "execution_count": null,
      "outputs": []
    }
  ]
}