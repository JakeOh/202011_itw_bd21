{
  "nbformat": 4,
  "nbformat_minor": 0,
  "metadata": {
    "colab": {
      "name": "ml21_lstm.ipynb",
      "provenance": [],
      "collapsed_sections": [],
      "authorship_tag": "ABX9TyMZopYP/q1PjiYce19M99Aq",
      "include_colab_link": true
    },
    "kernelspec": {
      "name": "python3",
      "display_name": "Python 3"
    },
    "language_info": {
      "name": "python"
    },
    "accelerator": "GPU"
  },
  "cells": [
    {
      "cell_type": "markdown",
      "metadata": {
        "id": "view-in-github",
        "colab_type": "text"
      },
      "source": [
        "<a href=\"https://colab.research.google.com/github/JakeOh/202011_itw_bd21/blob/main/lab_ml/ml21_lstm.ipynb\" target=\"_parent\"><img src=\"https://colab.research.google.com/assets/colab-badge.svg\" alt=\"Open In Colab\"/></a>"
      ]
    },
    {
      "cell_type": "markdown",
      "metadata": {
        "id": "ArVTJyFwDygI"
      },
      "source": [
        "*   IMDB 데이터 셋을 다운로드 - 가장 자주 사용되는 500개의 어휘 사전을 사용.\n",
        "*   각 샘플(리뷰)의 최대 단어 숫자가 100이 되도록 자르거나 패딩.\n",
        "*   LSTM 순환 층을 2개를 연결하는 모델을 생성\n",
        "    *   Input --> Embedding --> LSTM  --> LSTM --> Output\n",
        "        *   LSTM 층의 unit 개수 = 16\n",
        "        *   LSTM 층의 dropout 비율 = 0.3\n",
        "*   모델 컴파일\n",
        "*   모델 훈련\n",
        "*   학습 곡선 - 손실 곡선, 정확도 곡선\n",
        "*   모델 평가"
      ]
    },
    {
      "cell_type": "markdown",
      "metadata": {
        "id": "HLUo3bHwzVVz"
      },
      "source": [
        "# Imports"
      ]
    },
    {
      "cell_type": "code",
      "metadata": {
        "id": "tG1QHF7MDtlI"
      },
      "source": [
        "import matplotlib.pyplot as plt\n",
        "import numpy as np\n",
        "import pandas as pd\n",
        "\n",
        "from sklearn.model_selection import train_test_split\n",
        "\n",
        "import tensorflow as tf\n",
        "from tensorflow import keras"
      ],
      "execution_count": 1,
      "outputs": []
    },
    {
      "cell_type": "markdown",
      "metadata": {
        "id": "QrSExYIGzwK2"
      },
      "source": [
        "# IMDB dataset"
      ]
    },
    {
      "cell_type": "code",
      "metadata": {
        "colab": {
          "base_uri": "https://localhost:8080/"
        },
        "id": "NXrfDk-GzuCt",
        "outputId": "0b515bf6-3727-4785-b294-5cfbaaf09bc1"
      },
      "source": [
        "(x_train_full, y_train_full), (x_test, y_test) = keras.datasets.imdb.load_data(num_words=10_000)\n",
        "# 어휘 사전에서 자주 등장하는 단어 10,000개를 사용한 데이터 셋"
      ],
      "execution_count": 2,
      "outputs": [
        {
          "output_type": "stream",
          "text": [
            "Downloading data from https://storage.googleapis.com/tensorflow/tf-keras-datasets/imdb.npz\n",
            "17465344/17464789 [==============================] - 0s 0us/step\n"
          ],
          "name": "stdout"
        },
        {
          "output_type": "stream",
          "text": [
            "<string>:6: VisibleDeprecationWarning: Creating an ndarray from ragged nested sequences (which is a list-or-tuple of lists-or-tuples-or ndarrays with different lengths or shapes) is deprecated. If you meant to do this, you must specify 'dtype=object' when creating the ndarray\n",
            "/usr/local/lib/python3.7/dist-packages/tensorflow/python/keras/datasets/imdb.py:159: VisibleDeprecationWarning: Creating an ndarray from ragged nested sequences (which is a list-or-tuple of lists-or-tuples-or ndarrays with different lengths or shapes) is deprecated. If you meant to do this, you must specify 'dtype=object' when creating the ndarray\n",
            "  x_train, y_train = np.array(xs[:idx]), np.array(labels[:idx])\n",
            "/usr/local/lib/python3.7/dist-packages/tensorflow/python/keras/datasets/imdb.py:160: VisibleDeprecationWarning: Creating an ndarray from ragged nested sequences (which is a list-or-tuple of lists-or-tuples-or ndarrays with different lengths or shapes) is deprecated. If you meant to do this, you must specify 'dtype=object' when creating the ndarray\n",
            "  x_test, y_test = np.array(xs[idx:]), np.array(labels[idx:])\n"
          ],
          "name": "stderr"
        }
      ]
    },
    {
      "cell_type": "code",
      "metadata": {
        "colab": {
          "base_uri": "https://localhost:8080/"
        },
        "id": "rqQVq_oW0fZS",
        "outputId": "7b10b7d3-5364-49b3-e4bd-15e486760cb1"
      },
      "source": [
        "x_train_full.shape"
      ],
      "execution_count": 3,
      "outputs": [
        {
          "output_type": "execute_result",
          "data": {
            "text/plain": [
              "(25000,)"
            ]
          },
          "metadata": {
            "tags": []
          },
          "execution_count": 3
        }
      ]
    },
    {
      "cell_type": "code",
      "metadata": {
        "colab": {
          "base_uri": "https://localhost:8080/"
        },
        "id": "uxQ61ilg09yK",
        "outputId": "87634359-bf71-4b62-e147-92bafac098a6"
      },
      "source": [
        "for i in range(5):\n",
        "    print(len(x_train_full[i]))"
      ],
      "execution_count": 4,
      "outputs": [
        {
          "output_type": "stream",
          "text": [
            "218\n",
            "189\n",
            "141\n",
            "550\n",
            "147\n"
          ],
          "name": "stdout"
        }
      ]
    },
    {
      "cell_type": "code",
      "metadata": {
        "colab": {
          "base_uri": "https://localhost:8080/"
        },
        "id": "1EySKVau1SGb",
        "outputId": "be10a0bc-b79d-4438-e3d1-dcee96a428d7"
      },
      "source": [
        "np.unique(y_train_full, return_counts=True)"
      ],
      "execution_count": 5,
      "outputs": [
        {
          "output_type": "execute_result",
          "data": {
            "text/plain": [
              "(array([0, 1]), array([12500, 12500]))"
            ]
          },
          "metadata": {
            "tags": []
          },
          "execution_count": 5
        }
      ]
    },
    {
      "cell_type": "markdown",
      "metadata": {
        "id": "gEpKJHvb1yxh"
      },
      "source": [
        "샘플(영화 리뷰)들마다 사용된 단어 수가 다르기 때문에 일정한 크기로 맞춰줄 필요가 있음. --> 모든 샘플의 길이(단어 수)를 500개로 자르거나 패딩."
      ]
    },
    {
      "cell_type": "code",
      "metadata": {
        "id": "a4y8R4S21Yzy"
      },
      "source": [
        "x_train_seq = keras.preprocessing.sequence.pad_sequences(sequences=x_train_full, maxlen=500)\n",
        "x_test_seq = keras.preprocessing.sequence.pad_sequences(sequences=x_test, maxlen=500)"
      ],
      "execution_count": 6,
      "outputs": []
    },
    {
      "cell_type": "code",
      "metadata": {
        "colab": {
          "base_uri": "https://localhost:8080/"
        },
        "id": "tKkxUtnL2oEK",
        "outputId": "e33b10a5-baf3-4ce6-fb60-97325b34b73b"
      },
      "source": [
        "x_train_seq.shape"
      ],
      "execution_count": 7,
      "outputs": [
        {
          "output_type": "execute_result",
          "data": {
            "text/plain": [
              "(25000, 500)"
            ]
          },
          "metadata": {
            "tags": []
          },
          "execution_count": 7
        }
      ]
    },
    {
      "cell_type": "code",
      "metadata": {
        "colab": {
          "base_uri": "https://localhost:8080/"
        },
        "id": "7GXmZeFM2uB7",
        "outputId": "c51d1922-4956-4eb7-f923-163812d63486"
      },
      "source": [
        "x_test_seq.shape"
      ],
      "execution_count": 9,
      "outputs": [
        {
          "output_type": "execute_result",
          "data": {
            "text/plain": [
              "(25000, 500)"
            ]
          },
          "metadata": {
            "tags": []
          },
          "execution_count": 9
        }
      ]
    },
    {
      "cell_type": "markdown",
      "metadata": {
        "id": "StTIeJ8J3OVi"
      },
      "source": [
        "전처리가 끝난 전체 훈련 셋을 훈련 셋/검증 셋으로 분리"
      ]
    },
    {
      "cell_type": "code",
      "metadata": {
        "id": "9V1fa8rJ3KMK"
      },
      "source": [
        "x_train, x_val, y_train, y_val = train_test_split(x_train_seq, y_train_full,\n",
        "                                                  test_size=0.2,\n",
        "                                                  stratify=y_train_full,\n",
        "                                                  random_state=42)"
      ],
      "execution_count": 10,
      "outputs": []
    },
    {
      "cell_type": "code",
      "metadata": {
        "colab": {
          "base_uri": "https://localhost:8080/"
        },
        "id": "gxofp6m33ryC",
        "outputId": "f03ac413-0ad8-4c92-ad77-f10c4ab556bc"
      },
      "source": [
        "x_train.shape, x_val.shape"
      ],
      "execution_count": 11,
      "outputs": [
        {
          "output_type": "execute_result",
          "data": {
            "text/plain": [
              "((20000, 500), (5000, 500))"
            ]
          },
          "metadata": {
            "tags": []
          },
          "execution_count": 11
        }
      ]
    },
    {
      "cell_type": "code",
      "metadata": {
        "colab": {
          "base_uri": "https://localhost:8080/"
        },
        "id": "reLKjL-M31Lq",
        "outputId": "b6d0ba76-b902-4f0f-b0d1-4d23d7e6136e"
      },
      "source": [
        "np.unique(y_train, return_counts=True)"
      ],
      "execution_count": 12,
      "outputs": [
        {
          "output_type": "execute_result",
          "data": {
            "text/plain": [
              "(array([0, 1]), array([10000, 10000]))"
            ]
          },
          "metadata": {
            "tags": []
          },
          "execution_count": 12
        }
      ]
    },
    {
      "cell_type": "markdown",
      "metadata": {
        "id": "XG8r3xYn4DzD"
      },
      "source": [
        "# LSTM model"
      ]
    },
    {
      "cell_type": "code",
      "metadata": {
        "id": "ihLjo0ds39QC"
      },
      "source": [
        "model = keras.Sequential(layers=[\n",
        "    # Embedding layer\n",
        "    keras.layers.Embedding(input_dim=10_000, output_dim=16, input_length=500),\n",
        "        #> input_dim=최대 특성 개수(어휘 사전에서 선택한 단어 수)\n",
        "        #> input_length=샘플 하나가 가지고 있는 특성 수(단어 수)\n",
        "        #> output_dim=순환층의 unit의 개수\n",
        "    # LSTM layer\n",
        "    keras.layers.LSTM(units=16, dropout=0.3, return_sequences=True),\n",
        "        #> return_sequences=순환층의 출력이 다른 순환층의 입력으로 사용될 때 True로 설정\n",
        "    keras.layers.LSTM(units=16, dropout=0.3),\n",
        "    # Output layer\n",
        "    keras.layers.Dense(units=1, activation='sigmoid')\n",
        "])"
      ],
      "execution_count": 16,
      "outputs": []
    },
    {
      "cell_type": "code",
      "metadata": {
        "colab": {
          "base_uri": "https://localhost:8080/"
        },
        "id": "U42i_cIM8Pdz",
        "outputId": "90acc238-9c42-412f-a512-ebf5733d6ded"
      },
      "source": [
        "model.summary()"
      ],
      "execution_count": 17,
      "outputs": [
        {
          "output_type": "stream",
          "text": [
            "Model: \"sequential_2\"\n",
            "_________________________________________________________________\n",
            "Layer (type)                 Output Shape              Param #   \n",
            "=================================================================\n",
            "embedding_2 (Embedding)      (None, 500, 16)           160000    \n",
            "_________________________________________________________________\n",
            "lstm_4 (LSTM)                (None, 500, 16)           2112      \n",
            "_________________________________________________________________\n",
            "lstm_5 (LSTM)                (None, 16)                2112      \n",
            "_________________________________________________________________\n",
            "dense_2 (Dense)              (None, 1)                 17        \n",
            "=================================================================\n",
            "Total params: 164,241\n",
            "Trainable params: 164,241\n",
            "Non-trainable params: 0\n",
            "_________________________________________________________________\n"
          ],
          "name": "stdout"
        }
      ]
    },
    {
      "cell_type": "code",
      "metadata": {
        "colab": {
          "base_uri": "https://localhost:8080/",
          "height": 533
        },
        "id": "fpASFILvA_gj",
        "outputId": "bb3f3957-71c2-4400-b542-091ded4fd5db"
      },
      "source": [
        "keras.utils.plot_model(model, show_shapes=True)"
      ],
      "execution_count": 18,
      "outputs": [
        {
          "output_type": "execute_result",
          "data": {
            "image/png": "[encoded data removed]",
            "text/plain": [
              "<IPython.core.display.Image object>"
            ]
          },
          "metadata": {
            "tags": []
          },
          "execution_count": 18
        }
      ]
    },
    {
      "cell_type": "markdown",
      "metadata": {
        "id": "IbHyeL68BjVB"
      },
      "source": [
        "## 모델 컴파일"
      ]
    },
    {
      "cell_type": "code",
      "metadata": {
        "id": "5yUF_-8ABdWh"
      },
      "source": [
        "model.compile(optimizer='rmsprop', loss='binary_crossentropy', metrics='accuracy')"
      ],
      "execution_count": 19,
      "outputs": []
    },
    {
      "cell_type": "markdown",
      "metadata": {
        "id": "jaKg8th1CDX5"
      },
      "source": [
        "## 모델 훈련"
      ]
    },
    {
      "cell_type": "code",
      "metadata": {
        "colab": {
          "base_uri": "https://localhost:8080/"
        },
        "id": "EFu20nnICCE5",
        "outputId": "ab16d1e7-6b0f-40d5-c3de-682e81fc0519"
      },
      "source": [
        "# 콜백(조기 종료, 상태 저장)\n",
        "early_stop_cb = keras.callbacks.EarlyStopping(patience=5, restore_best_weights=True)\n",
        "checkpoint_cb = keras.callbacks.ModelCheckpoint('lstm2_model.h5', save_best_only=True)\n",
        "\n",
        "# 훈련\n",
        "history = model.fit(x_train, y_train, batch_size=64, epochs=100,\n",
        "                    callbacks=[early_stop_cb, checkpoint_cb],\n",
        "                    validation_data=(x_val, y_val))"
      ],
      "execution_count": 20,
      "outputs": [
        {
          "output_type": "stream",
          "text": [
            "Epoch 1/100\n",
            "313/313 [==============================] - 45s 36ms/step - loss: 0.5861 - accuracy: 0.6650 - val_loss: 0.3547 - val_accuracy: 0.8578\n",
            "Epoch 2/100\n",
            "313/313 [==============================] - 11s 34ms/step - loss: 0.3081 - accuracy: 0.8781 - val_loss: 0.3445 - val_accuracy: 0.8554\n",
            "Epoch 3/100\n",
            "313/313 [==============================] - 11s 34ms/step - loss: 0.2365 - accuracy: 0.9103 - val_loss: 0.3710 - val_accuracy: 0.8568\n",
            "Epoch 4/100\n",
            "313/313 [==============================] - 10s 33ms/step - loss: 0.2038 - accuracy: 0.9202 - val_loss: 0.2998 - val_accuracy: 0.8886\n",
            "Epoch 5/100\n",
            "313/313 [==============================] - 11s 34ms/step - loss: 0.1780 - accuracy: 0.9363 - val_loss: 0.2957 - val_accuracy: 0.8796\n",
            "Epoch 6/100\n",
            "313/313 [==============================] - 11s 34ms/step - loss: 0.1675 - accuracy: 0.9420 - val_loss: 0.2965 - val_accuracy: 0.8872\n",
            "Epoch 7/100\n",
            "313/313 [==============================] - 11s 34ms/step - loss: 0.1538 - accuracy: 0.9443 - val_loss: 0.3021 - val_accuracy: 0.8880\n",
            "Epoch 8/100\n",
            "313/313 [==============================] - 11s 34ms/step - loss: 0.1444 - accuracy: 0.9501 - val_loss: 0.3365 - val_accuracy: 0.8846\n",
            "Epoch 9/100\n",
            "313/313 [==============================] - 11s 35ms/step - loss: 0.1299 - accuracy: 0.9551 - val_loss: 0.3207 - val_accuracy: 0.8714\n",
            "Epoch 10/100\n",
            "313/313 [==============================] - 11s 34ms/step - loss: 0.1284 - accuracy: 0.9547 - val_loss: 0.3050 - val_accuracy: 0.8832\n"
          ],
          "name": "stdout"
        }
      ]
    },
    {
      "cell_type": "code",
      "metadata": {
        "id": "54KtVYZjC2yD"
      },
      "source": [
        "hist = pd.DataFrame(history.history)"
      ],
      "execution_count": 21,
      "outputs": []
    },
    {
      "cell_type": "code",
      "metadata": {
        "colab": {
          "base_uri": "https://localhost:8080/",
          "height": 268
        },
        "id": "HrNXTf3jDwxy",
        "outputId": "236862d2-29b6-4519-b307-506320122d07"
      },
      "source": [
        "# 손실 곡선\n",
        "hist[['loss', 'val_loss']].plot(marker='o')\n",
        "plt.grid()\n",
        "plt.show()"
      ],
      "execution_count": 23,
      "outputs": [
        {
          "output_type": "display_data",
          "data": {
            "image/png": "[encoded data removed]",
            "text/plain": [
              "<Figure size 432x288 with 1 Axes>"
            ]
          },
          "metadata": {
            "tags": [],
            "needs_background": "light"
          }
        }
      ]
    },
    {
      "cell_type": "code",
      "metadata": {
        "colab": {
          "base_uri": "https://localhost:8080/",
          "height": 265
        },
        "id": "SM6gxmRwD5aR",
        "outputId": "1d18a71a-e6dc-4060-a3db-742d384be814"
      },
      "source": [
        "# 정확도 곡선\n",
        "hist[['accuracy', 'val_accuracy']].plot(marker='o')\n",
        "plt.grid()\n",
        "plt.show()"
      ],
      "execution_count": 24,
      "outputs": [
        {
          "output_type": "display_data",
          "data": {
            "image/png": "[encoded data removed]",
            "text/plain": [
              "<Figure size 432x288 with 1 Axes>"
            ]
          },
          "metadata": {
            "tags": [],
            "needs_background": "light"
          }
        }
      ]
    },
    {
      "cell_type": "code",
      "metadata": {
        "colab": {
          "base_uri": "https://localhost:8080/"
        },
        "id": "QnbjWc3NElvQ",
        "outputId": "f0670cc3-e076-44c3-d595-67a5129de04c"
      },
      "source": [
        "# 검증 셋 평가\n",
        "model.evaluate(x_val, y_val)"
      ],
      "execution_count": 25,
      "outputs": [
        {
          "output_type": "stream",
          "text": [
            "157/157 [==============================] - 2s 15ms/step - loss: 0.2957 - accuracy: 0.8796\n"
          ],
          "name": "stdout"
        },
        {
          "output_type": "execute_result",
          "data": {
            "text/plain": [
              "[0.29570436477661133, 0.8795999884605408]"
            ]
          },
          "metadata": {
            "tags": []
          },
          "execution_count": 25
        }
      ]
    },
    {
      "cell_type": "code",
      "metadata": {
        "colab": {
          "base_uri": "https://localhost:8080/"
        },
        "id": "6b9ZzTQzFDg6",
        "outputId": "fb92f593-32d7-46f3-ae22-bbfe596afcde"
      },
      "source": [
        "# 테스트 셋 평가\n",
        "model.evaluate(x_test_seq, y_test)"
      ],
      "execution_count": 26,
      "outputs": [
        {
          "output_type": "stream",
          "text": [
            "782/782 [==============================] - 11s 14ms/step - loss: 0.3187 - accuracy: 0.8689\n"
          ],
          "name": "stdout"
        },
        {
          "output_type": "execute_result",
          "data": {
            "text/plain": [
              "[0.3187044858932495, 0.8688799738883972]"
            ]
          },
          "metadata": {
            "tags": []
          },
          "execution_count": 26
        }
      ]
    },
    {
      "cell_type": "code",
      "metadata": {
        "id": "vdVWM6x2Fpfh"
      },
      "source": [
        ""
      ],
      "execution_count": null,
      "outputs": []
    }
  ]
}