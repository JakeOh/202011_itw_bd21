{
  "nbformat": 4,
  "nbformat_minor": 0,
  "metadata": {
    "colab": {
      "name": "ml20_rnn.ipynb",
      "provenance": [],
      "collapsed_sections": [],
      "authorship_tag": "ABX9TyPLdc4b4vLEjhI/Bu/Dz3BT",
      "include_colab_link": true
    },
    "kernelspec": {
      "name": "python3",
      "display_name": "Python 3"
    },
    "language_info": {
      "name": "python"
    }
  },
  "cells": [
    {
      "cell_type": "markdown",
      "metadata": {
        "id": "view-in-github",
        "colab_type": "text"
      },
      "source": [
        "<a href=\"https://colab.research.google.com/github/JakeOh/202011_itw_bd21/blob/main/lab_ml/ml20_rnn.ipynb\" target=\"_parent\"><img src=\"https://colab.research.google.com/assets/colab-badge.svg\" alt=\"Open In Colab\"/></a>"
      ]
    },
    {
      "cell_type": "markdown",
      "metadata": {
        "id": "ziXo3SC2wZln"
      },
      "source": [
        "# RNN(Recurrent Neural Netowrk, 순환 신경망)\n",
        "\n",
        "시계열 데이터, 텍스트 데이터와 같이 순서가 중요한 데이터(순차 데이터, sequence)를 다룰 때 많이 사용하는 신경망."
      ]
    },
    {
      "cell_type": "markdown",
      "metadata": {
        "id": "awO18Sz0w3SG"
      },
      "source": [
        "# Imports"
      ]
    },
    {
      "cell_type": "code",
      "metadata": {
        "id": "9fwISlQzfVVm"
      },
      "source": [
        "import matplotlib.pyplot as plt\n",
        "import numpy as np\n",
        "import pandas as pd\n",
        "\n",
        "import tensorflow as tf\n",
        "from tensorflow import keras"
      ],
      "execution_count": 1,
      "outputs": []
    },
    {
      "cell_type": "markdown",
      "metadata": {
        "id": "H3n-jpEGxZJu"
      },
      "source": [
        "# 단어 수준 one-hot encoding"
      ]
    },
    {
      "cell_type": "markdown",
      "metadata": {
        "id": "Ufk-umAIxjIu"
      },
      "source": [
        "## 단어-인덱스 매핑"
      ]
    },
    {
      "cell_type": "code",
      "metadata": {
        "id": "ITOfbl-qxidm"
      },
      "source": [
        "sentence = 'The cat sat on the table.'"
      ],
      "execution_count": 2,
      "outputs": []
    },
    {
      "cell_type": "code",
      "metadata": {
        "colab": {
          "base_uri": "https://localhost:8080/"
        },
        "id": "L--UZ0uQxFWV",
        "outputId": "a9d191aa-0687-4e83-db52-d66aa812ba03"
      },
      "source": [
        "word_index = {}  # 단어를 키로 하고, 숫자를 값(value)로 저장할 dict\n",
        "for word in sentence.split():  # 하나의 문장 공백으로 구분된 단어 리스트에서 반복하면서\n",
        "    if word not in word_index:  # 단어가 dict에 없다면,\n",
        "        word_index[word] = len(word_index) + 1\n",
        "print(word_index)"
      ],
      "execution_count": 5,
      "outputs": [
        {
          "output_type": "stream",
          "text": [
            "{'The': 1, 'cat': 2, 'sat': 3, 'on': 4, 'the': 5, 'table.': 6}\n"
          ],
          "name": "stdout"
        }
      ]
    },
    {
      "cell_type": "code",
      "metadata": {
        "id": "48u7omi0y-we"
      },
      "source": [
        "samples = ['The cat sat on the table.', 'The dog ate my laptop.']"
      ],
      "execution_count": 6,
      "outputs": []
    },
    {
      "cell_type": "code",
      "metadata": {
        "colab": {
          "base_uri": "https://localhost:8080/"
        },
        "id": "gZkURpYS08A3",
        "outputId": "4cd03991-d9e2-42d1-8d00-c96c3137ffe8"
      },
      "source": [
        "# samples 리스트에 등장하는 단어들의 word-index 사전을 만드세요.\n",
        "word_index = {}\n",
        "for s in samples:\n",
        "    for w in s.split():\n",
        "        if w not in word_index:\n",
        "            word_index[w] = len(word_index) + 1\n",
        "print(word_index)"
      ],
      "execution_count": 7,
      "outputs": [
        {
          "output_type": "stream",
          "text": [
            "{'The': 1, 'cat': 2, 'sat': 3, 'on': 4, 'the': 5, 'table.': 6, 'dog': 7, 'ate': 8, 'my': 9, 'laptop.': 10}\n"
          ],
          "name": "stdout"
        }
      ]
    },
    {
      "cell_type": "markdown",
      "metadata": {
        "id": "rKOO8oGL6QWU"
      },
      "source": [
        "## 텍스트를 숫자들의 리스트로 변환"
      ]
    },
    {
      "cell_type": "code",
      "metadata": {
        "colab": {
          "base_uri": "https://localhost:8080/"
        },
        "id": "ofRAkFnV6PtV",
        "outputId": "c756e759-1f46-41cd-d2df-24dec3d8bf0c"
      },
      "source": [
        "samples_to_sequences = []  # 숫자들의 리스트를 저장할 리스트\n",
        "for s in samples:\n",
        "    sequence = []  # 하나의 문장을 숫자들로 변환한 리스트\n",
        "    for w in s.split():\n",
        "        sequence.append(word_index[w])  # 사전에서 단어에 매핑된 인덱스를 찾아서 리스트에 추가.\n",
        "    samples_to_sequences.append(sequence)\n",
        "\n",
        "print(samples_to_sequences)\n",
        "#> [[1, 2, 3, 4, 5, 6], [1, 7, 8, 9, 10]]"
      ],
      "execution_count": 8,
      "outputs": [
        {
          "output_type": "stream",
          "text": [
            "[[1, 2, 3, 4, 5, 6], [1, 7, 8, 9, 10]]\n"
          ],
          "name": "stdout"
        }
      ]
    },
    {
      "cell_type": "markdown",
      "metadata": {
        "id": "LExAWXXG-VoN"
      },
      "source": [
        "샘플 문장들마다 사용된 단어의 개수가 다르기 때문에 scikit-learn, keras 패키지의 모델들을 훈련시킬 수 없다."
      ]
    },
    {
      "cell_type": "markdown",
      "metadata": {
        "id": "BVIGTlMN-inN"
      },
      "source": [
        "## One-hot encoding"
      ]
    },
    {
      "cell_type": "code",
      "metadata": {
        "colab": {
          "base_uri": "https://localhost:8080/"
        },
        "id": "1UI7oYkC-VM1",
        "outputId": "3752b8c0-a40b-4a8e-de29-71e4d534c66d"
      },
      "source": [
        "max_rows = 10  # 한 문장의 최대 단어 수\n",
        "max_cols = max(word_index.values()) + 1  # word_index의 값 = column index\n",
        "samples_1hot = np.zeros(shape=(len(samples), max_rows, max_cols))\n",
        "for i, s in enumerate(samples):\n",
        "    for j, w in list(enumerate(s.split()))[:max_rows]:\n",
        "        index = word_index[w]\n",
        "        samples_1hot[i, j, index] = 1\n",
        "\n",
        "print(samples_1hot)"
      ],
      "execution_count": 12,
      "outputs": [
        {
          "output_type": "stream",
          "text": [
            "[[[0. 1. 0. 0. 0. 0. 0. 0. 0. 0. 0.]\n",
            "  [0. 0. 1. 0. 0. 0. 0. 0. 0. 0. 0.]\n",
            "  [0. 0. 0. 1. 0. 0. 0. 0. 0. 0. 0.]\n",
            "  [0. 0. 0. 0. 1. 0. 0. 0. 0. 0. 0.]\n",
            "  [0. 0. 0. 0. 0. 1. 0. 0. 0. 0. 0.]\n",
            "  [0. 0. 0. 0. 0. 0. 1. 0. 0. 0. 0.]\n",
            "  [0. 0. 0. 0. 0. 0. 0. 0. 0. 0. 0.]\n",
            "  [0. 0. 0. 0. 0. 0. 0. 0. 0. 0. 0.]\n",
            "  [0. 0. 0. 0. 0. 0. 0. 0. 0. 0. 0.]\n",
            "  [0. 0. 0. 0. 0. 0. 0. 0. 0. 0. 0.]]\n",
            "\n",
            " [[0. 1. 0. 0. 0. 0. 0. 0. 0. 0. 0.]\n",
            "  [0. 0. 0. 0. 0. 0. 0. 1. 0. 0. 0.]\n",
            "  [0. 0. 0. 0. 0. 0. 0. 0. 1. 0. 0.]\n",
            "  [0. 0. 0. 0. 0. 0. 0. 0. 0. 1. 0.]\n",
            "  [0. 0. 0. 0. 0. 0. 0. 0. 0. 0. 1.]\n",
            "  [0. 0. 0. 0. 0. 0. 0. 0. 0. 0. 0.]\n",
            "  [0. 0. 0. 0. 0. 0. 0. 0. 0. 0. 0.]\n",
            "  [0. 0. 0. 0. 0. 0. 0. 0. 0. 0. 0.]\n",
            "  [0. 0. 0. 0. 0. 0. 0. 0. 0. 0. 0.]\n",
            "  [0. 0. 0. 0. 0. 0. 0. 0. 0. 0. 0.]]]\n"
          ],
          "name": "stdout"
        }
      ]
    },
    {
      "cell_type": "code",
      "metadata": {
        "colab": {
          "base_uri": "https://localhost:8080/"
        },
        "id": "-524TOOS9H4J",
        "outputId": "54e74ec5-bf1c-4324-da6b-ecabf97f7416"
      },
      "source": [
        "print(word_index)"
      ],
      "execution_count": 13,
      "outputs": [
        {
          "output_type": "stream",
          "text": [
            "{'The': 1, 'cat': 2, 'sat': 3, 'on': 4, 'the': 5, 'table.': 6, 'dog': 7, 'ate': 8, 'my': 9, 'laptop.': 10}\n"
          ],
          "name": "stdout"
        }
      ]
    },
    {
      "cell_type": "code",
      "metadata": {
        "colab": {
          "base_uri": "https://localhost:8080/"
        },
        "id": "k3fteSxNXzBk",
        "outputId": "f0e6444d-8906-4b74-f358-ee77bdb4e9a5"
      },
      "source": [
        "# 다른 one-hot encoding 방법: 사용된 단어 인덱스에는 1, 사용되지 않은 인덱스에는 0\n",
        "max_cols = max(word_index.values()) + 1\n",
        "samples_1hot_2 = np.zeros(shape=(len(samples), max_cols),\n",
        "                          dtype=np.int32)\n",
        "for i, s in enumerate(samples):\n",
        "    for w in s.split()[:max_cols]:\n",
        "        j = word_index[w]\n",
        "        samples_1hot_2[i, j] = 1\n",
        "\n",
        "print(samples_1hot_2)\n",
        "#> [[0, 1, 1, 1, 1, 1, 1, 0, 0, 0, 0], [0, 1, 0, 0, 0, 0, 0, 1, 1, 1, 1]]"
      ],
      "execution_count": 16,
      "outputs": [
        {
          "output_type": "stream",
          "text": [
            "[[0 1 1 1 1 1 1 0 0 0 0]\n",
            " [0 1 0 0 0 0 0 1 1 1 1]]\n"
          ],
          "name": "stdout"
        }
      ]
    },
    {
      "cell_type": "markdown",
      "metadata": {
        "id": "0dHSU6zWiMYd"
      },
      "source": [
        "# Tokenizer"
      ]
    },
    {
      "cell_type": "code",
      "metadata": {
        "colab": {
          "base_uri": "https://localhost:8080/"
        },
        "id": "qjbXuZ_FizvQ",
        "outputId": "bd56c3d7-dc00-429f-8664-de6a74cb36d2"
      },
      "source": [
        "samples"
      ],
      "execution_count": 17,
      "outputs": [
        {
          "output_type": "execute_result",
          "data": {
            "text/plain": [
              "['The cat sat on the table.', 'The dog ate my laptop.']"
            ]
          },
          "metadata": {
            "tags": []
          },
          "execution_count": 17
        }
      ]
    },
    {
      "cell_type": "code",
      "metadata": {
        "id": "K-FOodOtc0Jz"
      },
      "source": [
        "tokenizer = keras.preprocessing.text.Tokenizer(num_words=1_000)\n",
        "# 가장 빈도가 높은 1,000개의 단어만 선택하는 Tokenizer 객체를 생성."
      ],
      "execution_count": 33,
      "outputs": []
    },
    {
      "cell_type": "code",
      "metadata": {
        "id": "-7gZDECyjSXZ"
      },
      "source": [
        "tokenizer.fit_on_texts(samples)  # 단어 인덱스를 구축"
      ],
      "execution_count": 34,
      "outputs": []
    },
    {
      "cell_type": "code",
      "metadata": {
        "colab": {
          "base_uri": "https://localhost:8080/"
        },
        "id": "JouXXI22jeDB",
        "outputId": "4c747aa0-cc15-4f96-ada4-aaca67eef2a0"
      },
      "source": [
        "tokenizer.word_index  #> {word: index} 사전(dict)"
      ],
      "execution_count": 35,
      "outputs": [
        {
          "output_type": "execute_result",
          "data": {
            "text/plain": [
              "{'ate': 7,\n",
              " 'cat': 2,\n",
              " 'dog': 6,\n",
              " 'laptop': 9,\n",
              " 'my': 8,\n",
              " 'on': 4,\n",
              " 'sat': 3,\n",
              " 'table': 5,\n",
              " 'the': 1}"
            ]
          },
          "metadata": {
            "tags": []
          },
          "execution_count": 35
        }
      ]
    },
    {
      "cell_type": "code",
      "metadata": {
        "colab": {
          "base_uri": "https://localhost:8080/"
        },
        "id": "HJx9Ot6wjlSR",
        "outputId": "41e1512e-174f-4555-8f20-6b59223f42c6"
      },
      "source": [
        "tokenizer.index_word  #> {index: word} 사전(dict)"
      ],
      "execution_count": 36,
      "outputs": [
        {
          "output_type": "execute_result",
          "data": {
            "text/plain": [
              "{1: 'the',\n",
              " 2: 'cat',\n",
              " 3: 'sat',\n",
              " 4: 'on',\n",
              " 5: 'table',\n",
              " 6: 'dog',\n",
              " 7: 'ate',\n",
              " 8: 'my',\n",
              " 9: 'laptop'}"
            ]
          },
          "metadata": {
            "tags": []
          },
          "execution_count": 36
        }
      ]
    },
    {
      "cell_type": "code",
      "metadata": {
        "colab": {
          "base_uri": "https://localhost:8080/"
        },
        "id": "YA1oX0nUj-AY",
        "outputId": "0e917864-ef2d-4373-d863-0ee34024e8fd"
      },
      "source": [
        "tokenizer.word_counts  #> [(word, count)]"
      ],
      "execution_count": 37,
      "outputs": [
        {
          "output_type": "execute_result",
          "data": {
            "text/plain": [
              "OrderedDict([('the', 3),\n",
              "             ('cat', 1),\n",
              "             ('sat', 1),\n",
              "             ('on', 1),\n",
              "             ('table', 1),\n",
              "             ('dog', 1),\n",
              "             ('ate', 1),\n",
              "             ('my', 1),\n",
              "             ('laptop', 1)])"
            ]
          },
          "metadata": {
            "tags": []
          },
          "execution_count": 37
        }
      ]
    },
    {
      "cell_type": "code",
      "metadata": {
        "colab": {
          "base_uri": "https://localhost:8080/"
        },
        "id": "hcE03Zc8kcxn",
        "outputId": "45ff0e85-21f5-4352-ff9a-5564928fb601"
      },
      "source": [
        "# 문자열(텍스트)를 정수 인덱스들의 리스트로 변환 리턴.\n",
        "tokenizer.texts_to_sequences(samples)"
      ],
      "execution_count": 38,
      "outputs": [
        {
          "output_type": "execute_result",
          "data": {
            "text/plain": [
              "[[1, 2, 3, 4, 1, 5], [1, 6, 7, 8, 9]]"
            ]
          },
          "metadata": {
            "tags": []
          },
          "execution_count": 38
        }
      ]
    },
    {
      "cell_type": "code",
      "metadata": {
        "colab": {
          "base_uri": "https://localhost:8080/"
        },
        "id": "QgrsJeFJluVd",
        "outputId": "59ca2c89-2190-41b6-c5f6-23387d55d117"
      },
      "source": [
        "# Tokenizer를 사용한 one-hot encoding\n",
        "result = tokenizer.texts_to_matrix(samples)\n",
        "result.shape  #> (n_sample, max_token)"
      ],
      "execution_count": 39,
      "outputs": [
        {
          "output_type": "execute_result",
          "data": {
            "text/plain": [
              "(2, 1000)"
            ]
          },
          "metadata": {
            "tags": []
          },
          "execution_count": 39
        }
      ]
    },
    {
      "cell_type": "code",
      "metadata": {
        "colab": {
          "base_uri": "https://localhost:8080/"
        },
        "id": "coApExCmmXxL",
        "outputId": "336c45be-9b5f-418c-f609-98d22cd1dc3c"
      },
      "source": [
        "result[:, :15]"
      ],
      "execution_count": 40,
      "outputs": [
        {
          "output_type": "execute_result",
          "data": {
            "text/plain": [
              "array([[0., 1., 1., 1., 1., 1., 0., 0., 0., 0., 0., 0., 0., 0., 0.],\n",
              "       [0., 1., 0., 0., 0., 0., 1., 1., 1., 1., 0., 0., 0., 0., 0.]])"
            ]
          },
          "metadata": {
            "tags": []
          },
          "execution_count": 40
        }
      ]
    },
    {
      "cell_type": "markdown",
      "metadata": {
        "id": "wxFc0Moiok6K"
      },
      "source": [
        "# IMDB dataset"
      ]
    },
    {
      "cell_type": "code",
      "metadata": {
        "colab": {
          "base_uri": "https://localhost:8080/"
        },
        "id": "NX_gnCi0omt6",
        "outputId": "844e7e98-76a4-4deb-b9e5-bbc18505cf52"
      },
      "source": [
        "(x_train_full, y_train_full), (x_test, y_test) = keras.datasets.imdb.load_data(num_words=500)\n",
        "# IMDB 리뷰에서 가장 자주 등장하는 단어 500개를 어휘 사전(word index)로 사용하는 데이터 셋을 로드."
      ],
      "execution_count": 41,
      "outputs": [
        {
          "output_type": "stream",
          "text": [
            "Downloading data from https://storage.googleapis.com/tensorflow/tf-keras-datasets/imdb.npz\n",
            "17465344/17464789 [==============================] - 0s 0us/step\n"
          ],
          "name": "stdout"
        },
        {
          "output_type": "stream",
          "text": [
            "<string>:6: VisibleDeprecationWarning: Creating an ndarray from ragged nested sequences (which is a list-or-tuple of lists-or-tuples-or ndarrays with different lengths or shapes) is deprecated. If you meant to do this, you must specify 'dtype=object' when creating the ndarray\n",
            "/usr/local/lib/python3.7/dist-packages/tensorflow/python/keras/datasets/imdb.py:159: VisibleDeprecationWarning: Creating an ndarray from ragged nested sequences (which is a list-or-tuple of lists-or-tuples-or ndarrays with different lengths or shapes) is deprecated. If you meant to do this, you must specify 'dtype=object' when creating the ndarray\n",
            "  x_train, y_train = np.array(xs[:idx]), np.array(labels[:idx])\n",
            "/usr/local/lib/python3.7/dist-packages/tensorflow/python/keras/datasets/imdb.py:160: VisibleDeprecationWarning: Creating an ndarray from ragged nested sequences (which is a list-or-tuple of lists-or-tuples-or ndarrays with different lengths or shapes) is deprecated. If you meant to do this, you must specify 'dtype=object' when creating the ndarray\n",
            "  x_test, y_test = np.array(xs[idx:]), np.array(labels[idx:])\n"
          ],
          "name": "stderr"
        }
      ]
    },
    {
      "cell_type": "code",
      "metadata": {
        "colab": {
          "base_uri": "https://localhost:8080/"
        },
        "id": "B2S4L-N5qfu6",
        "outputId": "392a1140-dff8-4041-e33e-837f2dd1e473"
      },
      "source": [
        "x_train_full.shape"
      ],
      "execution_count": 42,
      "outputs": [
        {
          "output_type": "execute_result",
          "data": {
            "text/plain": [
              "(25000,)"
            ]
          },
          "metadata": {
            "tags": []
          },
          "execution_count": 42
        }
      ]
    },
    {
      "cell_type": "code",
      "metadata": {
        "colab": {
          "base_uri": "https://localhost:8080/"
        },
        "id": "T-xbeiHeq4iY",
        "outputId": "6364cece-7baf-4af5-969a-e52cbf68f367"
      },
      "source": [
        "x_train_full.dtype  #> object들을 원소로 갖는 1d array"
      ],
      "execution_count": 43,
      "outputs": [
        {
          "output_type": "execute_result",
          "data": {
            "text/plain": [
              "dtype('O')"
            ]
          },
          "metadata": {
            "tags": []
          },
          "execution_count": 43
        }
      ]
    },
    {
      "cell_type": "code",
      "metadata": {
        "colab": {
          "base_uri": "https://localhost:8080/"
        },
        "id": "CkiNCD8mrHVv",
        "outputId": "5bf3dda2-e902-4b1b-d5f9-5f5192284f55"
      },
      "source": [
        "print(x_train_full[0])\n",
        "#> x_train_full은 25,000개의 (정수) 리스트를 원소로 하는 1d 배열"
      ],
      "execution_count": 45,
      "outputs": [
        {
          "output_type": "stream",
          "text": [
            "[1, 14, 22, 16, 43, 2, 2, 2, 2, 65, 458, 2, 66, 2, 4, 173, 36, 256, 5, 25, 100, 43, 2, 112, 50, 2, 2, 9, 35, 480, 284, 5, 150, 4, 172, 112, 167, 2, 336, 385, 39, 4, 172, 2, 2, 17, 2, 38, 13, 447, 4, 192, 50, 16, 6, 147, 2, 19, 14, 22, 4, 2, 2, 469, 4, 22, 71, 87, 12, 16, 43, 2, 38, 76, 15, 13, 2, 4, 22, 17, 2, 17, 12, 16, 2, 18, 2, 5, 62, 386, 12, 8, 316, 8, 106, 5, 4, 2, 2, 16, 480, 66, 2, 33, 4, 130, 12, 16, 38, 2, 5, 25, 124, 51, 36, 135, 48, 25, 2, 33, 6, 22, 12, 215, 28, 77, 52, 5, 14, 407, 16, 82, 2, 8, 4, 107, 117, 2, 15, 256, 4, 2, 7, 2, 5, 2, 36, 71, 43, 2, 476, 26, 400, 317, 46, 7, 4, 2, 2, 13, 104, 88, 4, 381, 15, 297, 98, 32, 2, 56, 26, 141, 6, 194, 2, 18, 4, 226, 22, 21, 134, 476, 26, 480, 5, 144, 30, 2, 18, 51, 36, 28, 224, 92, 25, 104, 4, 226, 65, 16, 38, 2, 88, 12, 16, 283, 5, 16, 2, 113, 103, 32, 15, 16, 2, 19, 178, 32]\n"
          ],
          "name": "stdout"
        }
      ]
    },
    {
      "cell_type": "code",
      "metadata": {
        "colab": {
          "base_uri": "https://localhost:8080/"
        },
        "id": "DByTttTYsHdK",
        "outputId": "23950657-2b3a-4b84-87ba-3fece3d1cdf0"
      },
      "source": [
        "y_train_full.shape"
      ],
      "execution_count": 46,
      "outputs": [
        {
          "output_type": "execute_result",
          "data": {
            "text/plain": [
              "(25000,)"
            ]
          },
          "metadata": {
            "tags": []
          },
          "execution_count": 46
        }
      ]
    },
    {
      "cell_type": "code",
      "metadata": {
        "colab": {
          "base_uri": "https://localhost:8080/"
        },
        "id": "wJ5AmmnlsJ3Y",
        "outputId": "c2325767-0570-4011-c026-243f89bc23ef"
      },
      "source": [
        "np.unique(y_train_full, return_counts=True)\n",
        "#> 타겟: 0-부정, 1-긍정"
      ],
      "execution_count": 47,
      "outputs": [
        {
          "output_type": "execute_result",
          "data": {
            "text/plain": [
              "(array([0, 1]), array([12500, 12500]))"
            ]
          },
          "metadata": {
            "tags": []
          },
          "execution_count": 47
        }
      ]
    },
    {
      "cell_type": "code",
      "metadata": {
        "colab": {
          "base_uri": "https://localhost:8080/"
        },
        "id": "IpgEvtnhsRvK",
        "outputId": "28230bbe-0695-430a-8a2b-872209b85c91"
      },
      "source": [
        "x_test.shape  # 25,000개의 리스트를 원소로 갖는 1d 배열"
      ],
      "execution_count": 48,
      "outputs": [
        {
          "output_type": "execute_result",
          "data": {
            "text/plain": [
              "(25000,)"
            ]
          },
          "metadata": {
            "tags": []
          },
          "execution_count": 48
        }
      ]
    },
    {
      "cell_type": "code",
      "metadata": {
        "colab": {
          "base_uri": "https://localhost:8080/"
        },
        "id": "XyII5abtsnqf",
        "outputId": "e3f06c40-f0fd-4412-9f91-4f092d7f1d4c"
      },
      "source": [
        "y_test.shape  # 긍정/부정 리뷰"
      ],
      "execution_count": 49,
      "outputs": [
        {
          "output_type": "execute_result",
          "data": {
            "text/plain": [
              "(25000,)"
            ]
          },
          "metadata": {
            "tags": []
          },
          "execution_count": 49
        }
      ]
    },
    {
      "cell_type": "code",
      "metadata": {
        "id": "IBwKNtIAspOX"
      },
      "source": [
        ""
      ],
      "execution_count": null,
      "outputs": []
    }
  ]
}