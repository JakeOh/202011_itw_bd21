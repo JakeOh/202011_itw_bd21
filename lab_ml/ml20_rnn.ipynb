{
  "nbformat": 4,
  "nbformat_minor": 0,
  "metadata": {
    "colab": {
      "name": "ml20_rnn.ipynb",
      "provenance": [],
      "collapsed_sections": [],
      "authorship_tag": "ABX9TyNcRz6KplW2uNTyXAIkC4Xd",
      "include_colab_link": true
    },
    "kernelspec": {
      "name": "python3",
      "display_name": "Python 3"
    },
    "language_info": {
      "name": "python"
    }
  },
  "cells": [
    {
      "cell_type": "markdown",
      "metadata": {
        "id": "view-in-github",
        "colab_type": "text"
      },
      "source": [
        "<a href=\"https://colab.research.google.com/github/JakeOh/202011_itw_bd21/blob/main/lab_ml/ml20_rnn.ipynb\" target=\"_parent\"><img src=\"https://colab.research.google.com/assets/colab-badge.svg\" alt=\"Open In Colab\"/></a>"
      ]
    },
    {
      "cell_type": "markdown",
      "metadata": {
        "id": "ziXo3SC2wZln"
      },
      "source": [
        "# RNN(Recurrent Neural Netowrk, 순환 신경망)\n",
        "\n",
        "시계열 데이터, 텍스트 데이터와 같이 순서가 중요한 데이터(순차 데이터, sequence)를 다룰 때 많이 사용하는 신경망."
      ]
    },
    {
      "cell_type": "markdown",
      "metadata": {
        "id": "awO18Sz0w3SG"
      },
      "source": [
        "# Imports"
      ]
    },
    {
      "cell_type": "code",
      "metadata": {
        "id": "9fwISlQzfVVm"
      },
      "source": [
        "import matplotlib.pyplot as plt\n",
        "import numpy as np\n",
        "import pandas as pd\n",
        "\n",
        "import tensorflow as tf\n",
        "from tensorflow import keras"
      ],
      "execution_count": 1,
      "outputs": []
    },
    {
      "cell_type": "markdown",
      "metadata": {
        "id": "H3n-jpEGxZJu"
      },
      "source": [
        "# 단어 수준 one-hot encoding"
      ]
    },
    {
      "cell_type": "markdown",
      "metadata": {
        "id": "Ufk-umAIxjIu"
      },
      "source": [
        "## 단어-인덱스 매핑"
      ]
    },
    {
      "cell_type": "code",
      "metadata": {
        "id": "ITOfbl-qxidm"
      },
      "source": [
        "sentence = 'The cat sat on the table.'"
      ],
      "execution_count": 2,
      "outputs": []
    },
    {
      "cell_type": "code",
      "metadata": {
        "colab": {
          "base_uri": "https://localhost:8080/"
        },
        "id": "L--UZ0uQxFWV",
        "outputId": "a9d191aa-0687-4e83-db52-d66aa812ba03"
      },
      "source": [
        "word_index = {}  # 단어를 키로 하고, 숫자를 값(value)로 저장할 dict\n",
        "for word in sentence.split():  # 하나의 문장 공백으로 구분된 단어 리스트에서 반복하면서\n",
        "    if word not in word_index:  # 단어가 dict에 없다면,\n",
        "        word_index[word] = len(word_index) + 1\n",
        "print(word_index)"
      ],
      "execution_count": 5,
      "outputs": [
        {
          "output_type": "stream",
          "text": [
            "{'The': 1, 'cat': 2, 'sat': 3, 'on': 4, 'the': 5, 'table.': 6}\n"
          ],
          "name": "stdout"
        }
      ]
    },
    {
      "cell_type": "code",
      "metadata": {
        "id": "48u7omi0y-we"
      },
      "source": [
        "samples = ['The cat sat on the table.', 'The dog ate my laptop.']"
      ],
      "execution_count": 6,
      "outputs": []
    },
    {
      "cell_type": "code",
      "metadata": {
        "id": "gZkURpYS08A3"
      },
      "source": [
        "# samples 리스트에 등장하는 단어들의 word-index 사전을 만드세요.\n"
      ],
      "execution_count": null,
      "outputs": []
    }
  ]
}