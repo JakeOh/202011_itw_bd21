{
  "nbformat": 4,
  "nbformat_minor": 0,
  "metadata": {
    "colab": {
      "name": "ml20_rnn.ipynb",
      "provenance": [],
      "collapsed_sections": [],
      "authorship_tag": "ABX9TyP82oL8w8Oo168P7z6W7ZRr",
      "include_colab_link": true
    },
    "kernelspec": {
      "name": "python3",
      "display_name": "Python 3"
    },
    "language_info": {
      "name": "python"
    },
    "accelerator": "GPU"
  },
  "cells": [
    {
      "cell_type": "markdown",
      "metadata": {
        "id": "view-in-github",
        "colab_type": "text"
      },
      "source": [
        "<a href=\"https://colab.research.google.com/github/JakeOh/202011_itw_bd21/blob/main/lab_ml/ml20_rnn.ipynb\" target=\"_parent\"><img src=\"https://colab.research.google.com/assets/colab-badge.svg\" alt=\"Open In Colab\"/></a>"
      ]
    },
    {
      "cell_type": "markdown",
      "metadata": {
        "id": "ziXo3SC2wZln"
      },
      "source": [
        "# RNN(Recurrent Neural Netowrk, 순환 신경망)\n",
        "\n",
        "시계열 데이터, 텍스트 데이터와 같이 순서가 중요한 데이터(순차 데이터, sequence)를 다룰 때 많이 사용하는 신경망."
      ]
    },
    {
      "cell_type": "markdown",
      "metadata": {
        "id": "awO18Sz0w3SG"
      },
      "source": [
        "# Imports"
      ]
    },
    {
      "cell_type": "code",
      "metadata": {
        "id": "9fwISlQzfVVm"
      },
      "source": [
        "import matplotlib.pyplot as plt\n",
        "import numpy as np\n",
        "import pandas as pd\n",
        "\n",
        "from sklearn.model_selection import train_test_split\n",
        "\n",
        "import tensorflow as tf\n",
        "from tensorflow import keras"
      ],
      "execution_count": 1,
      "outputs": []
    },
    {
      "cell_type": "markdown",
      "metadata": {
        "id": "H3n-jpEGxZJu"
      },
      "source": [
        "# 단어 수준 one-hot encoding"
      ]
    },
    {
      "cell_type": "markdown",
      "metadata": {
        "id": "Ufk-umAIxjIu"
      },
      "source": [
        "## 단어-인덱스 매핑"
      ]
    },
    {
      "cell_type": "code",
      "metadata": {
        "id": "ITOfbl-qxidm"
      },
      "source": [
        "sentence = 'The cat sat on the table.'"
      ],
      "execution_count": 2,
      "outputs": []
    },
    {
      "cell_type": "code",
      "metadata": {
        "colab": {
          "base_uri": "https://localhost:8080/"
        },
        "id": "L--UZ0uQxFWV",
        "outputId": "f3c3aae3-72b8-474a-f4f2-8d19bed64580"
      },
      "source": [
        "word_index = {}  # 단어를 키로 하고, 숫자를 값(value)로 저장할 dict\n",
        "for word in sentence.split():  # 하나의 문장 공백으로 구분된 단어 리스트에서 반복하면서\n",
        "    if word not in word_index:  # 단어가 dict에 없다면,\n",
        "        word_index[word] = len(word_index) + 1\n",
        "print(word_index)"
      ],
      "execution_count": 3,
      "outputs": [
        {
          "output_type": "stream",
          "text": [
            "{'The': 1, 'cat': 2, 'sat': 3, 'on': 4, 'the': 5, 'table.': 6}\n"
          ],
          "name": "stdout"
        }
      ]
    },
    {
      "cell_type": "code",
      "metadata": {
        "id": "48u7omi0y-we"
      },
      "source": [
        "samples = ['The cat sat on the table.', 'The dog ate my laptop.']"
      ],
      "execution_count": 4,
      "outputs": []
    },
    {
      "cell_type": "code",
      "metadata": {
        "colab": {
          "base_uri": "https://localhost:8080/"
        },
        "id": "gZkURpYS08A3",
        "outputId": "d8d1f631-5e45-42da-fd3f-3bc674342c26"
      },
      "source": [
        "# samples 리스트에 등장하는 단어들의 word-index 사전을 만드세요.\n",
        "word_index = {}\n",
        "for s in samples:\n",
        "    for w in s.split():\n",
        "        if w not in word_index:\n",
        "            word_index[w] = len(word_index) + 1\n",
        "print(word_index)"
      ],
      "execution_count": 5,
      "outputs": [
        {
          "output_type": "stream",
          "text": [
            "{'The': 1, 'cat': 2, 'sat': 3, 'on': 4, 'the': 5, 'table.': 6, 'dog': 7, 'ate': 8, 'my': 9, 'laptop.': 10}\n"
          ],
          "name": "stdout"
        }
      ]
    },
    {
      "cell_type": "markdown",
      "metadata": {
        "id": "rKOO8oGL6QWU"
      },
      "source": [
        "## 텍스트를 숫자들의 리스트로 변환"
      ]
    },
    {
      "cell_type": "code",
      "metadata": {
        "colab": {
          "base_uri": "https://localhost:8080/"
        },
        "id": "ofRAkFnV6PtV",
        "outputId": "e2f31f87-38e9-4342-adaa-872aa7b64951"
      },
      "source": [
        "samples_to_sequences = []  # 숫자들의 리스트를 저장할 리스트\n",
        "for s in samples:\n",
        "    sequence = []  # 하나의 문장을 숫자들로 변환한 리스트\n",
        "    for w in s.split():\n",
        "        sequence.append(word_index[w])  # 사전에서 단어에 매핑된 인덱스를 찾아서 리스트에 추가.\n",
        "    samples_to_sequences.append(sequence)\n",
        "\n",
        "print(samples_to_sequences)\n",
        "#> [[1, 2, 3, 4, 5, 6], [1, 7, 8, 9, 10]]"
      ],
      "execution_count": 6,
      "outputs": [
        {
          "output_type": "stream",
          "text": [
            "[[1, 2, 3, 4, 5, 6], [1, 7, 8, 9, 10]]\n"
          ],
          "name": "stdout"
        }
      ]
    },
    {
      "cell_type": "markdown",
      "metadata": {
        "id": "LExAWXXG-VoN"
      },
      "source": [
        "샘플 문장들마다 사용된 단어의 개수가 다르기 때문에 scikit-learn, keras 패키지의 모델들을 훈련시킬 수 없다."
      ]
    },
    {
      "cell_type": "markdown",
      "metadata": {
        "id": "BVIGTlMN-inN"
      },
      "source": [
        "## One-hot encoding"
      ]
    },
    {
      "cell_type": "code",
      "metadata": {
        "colab": {
          "base_uri": "https://localhost:8080/"
        },
        "id": "1UI7oYkC-VM1",
        "outputId": "36a7b493-1068-4c76-9a5a-49f6fe552c87"
      },
      "source": [
        "max_rows = 10  # 한 문장의 최대 단어 수\n",
        "max_cols = max(word_index.values()) + 1  # word_index의 값 = column index\n",
        "samples_1hot = np.zeros(shape=(len(samples), max_rows, max_cols))\n",
        "for i, s in enumerate(samples):\n",
        "    for j, w in list(enumerate(s.split()))[:max_rows]:\n",
        "        index = word_index[w]\n",
        "        samples_1hot[i, j, index] = 1\n",
        "\n",
        "print(samples_1hot)"
      ],
      "execution_count": 7,
      "outputs": [
        {
          "output_type": "stream",
          "text": [
            "[[[0. 1. 0. 0. 0. 0. 0. 0. 0. 0. 0.]\n",
            "  [0. 0. 1. 0. 0. 0. 0. 0. 0. 0. 0.]\n",
            "  [0. 0. 0. 1. 0. 0. 0. 0. 0. 0. 0.]\n",
            "  [0. 0. 0. 0. 1. 0. 0. 0. 0. 0. 0.]\n",
            "  [0. 0. 0. 0. 0. 1. 0. 0. 0. 0. 0.]\n",
            "  [0. 0. 0. 0. 0. 0. 1. 0. 0. 0. 0.]\n",
            "  [0. 0. 0. 0. 0. 0. 0. 0. 0. 0. 0.]\n",
            "  [0. 0. 0. 0. 0. 0. 0. 0. 0. 0. 0.]\n",
            "  [0. 0. 0. 0. 0. 0. 0. 0. 0. 0. 0.]\n",
            "  [0. 0. 0. 0. 0. 0. 0. 0. 0. 0. 0.]]\n",
            "\n",
            " [[0. 1. 0. 0. 0. 0. 0. 0. 0. 0. 0.]\n",
            "  [0. 0. 0. 0. 0. 0. 0. 1. 0. 0. 0.]\n",
            "  [0. 0. 0. 0. 0. 0. 0. 0. 1. 0. 0.]\n",
            "  [0. 0. 0. 0. 0. 0. 0. 0. 0. 1. 0.]\n",
            "  [0. 0. 0. 0. 0. 0. 0. 0. 0. 0. 1.]\n",
            "  [0. 0. 0. 0. 0. 0. 0. 0. 0. 0. 0.]\n",
            "  [0. 0. 0. 0. 0. 0. 0. 0. 0. 0. 0.]\n",
            "  [0. 0. 0. 0. 0. 0. 0. 0. 0. 0. 0.]\n",
            "  [0. 0. 0. 0. 0. 0. 0. 0. 0. 0. 0.]\n",
            "  [0. 0. 0. 0. 0. 0. 0. 0. 0. 0. 0.]]]\n"
          ],
          "name": "stdout"
        }
      ]
    },
    {
      "cell_type": "code",
      "metadata": {
        "colab": {
          "base_uri": "https://localhost:8080/"
        },
        "id": "-524TOOS9H4J",
        "outputId": "d7737996-9948-498f-b123-f367da04e1b2"
      },
      "source": [
        "print(word_index)"
      ],
      "execution_count": 8,
      "outputs": [
        {
          "output_type": "stream",
          "text": [
            "{'The': 1, 'cat': 2, 'sat': 3, 'on': 4, 'the': 5, 'table.': 6, 'dog': 7, 'ate': 8, 'my': 9, 'laptop.': 10}\n"
          ],
          "name": "stdout"
        }
      ]
    },
    {
      "cell_type": "code",
      "metadata": {
        "colab": {
          "base_uri": "https://localhost:8080/"
        },
        "id": "k3fteSxNXzBk",
        "outputId": "1d719843-8a27-4c47-cabb-d099a79ef68d"
      },
      "source": [
        "# 다른 one-hot encoding 방법: 사용된 단어 인덱스에는 1, 사용되지 않은 인덱스에는 0\n",
        "max_cols = max(word_index.values()) + 1\n",
        "samples_1hot_2 = np.zeros(shape=(len(samples), max_cols),\n",
        "                          dtype=np.int32)\n",
        "for i, s in enumerate(samples):\n",
        "    for w in s.split()[:max_cols]:\n",
        "        j = word_index[w]\n",
        "        samples_1hot_2[i, j] = 1\n",
        "\n",
        "print(samples_1hot_2)\n",
        "#> [[0, 1, 1, 1, 1, 1, 1, 0, 0, 0, 0], [0, 1, 0, 0, 0, 0, 0, 1, 1, 1, 1]]"
      ],
      "execution_count": 9,
      "outputs": [
        {
          "output_type": "stream",
          "text": [
            "[[0 1 1 1 1 1 1 0 0 0 0]\n",
            " [0 1 0 0 0 0 0 1 1 1 1]]\n"
          ],
          "name": "stdout"
        }
      ]
    },
    {
      "cell_type": "markdown",
      "metadata": {
        "id": "0dHSU6zWiMYd"
      },
      "source": [
        "# Tokenizer"
      ]
    },
    {
      "cell_type": "code",
      "metadata": {
        "colab": {
          "base_uri": "https://localhost:8080/"
        },
        "id": "qjbXuZ_FizvQ",
        "outputId": "db88a7e5-3da9-4602-8227-45e34a6a4885"
      },
      "source": [
        "samples"
      ],
      "execution_count": 10,
      "outputs": [
        {
          "output_type": "execute_result",
          "data": {
            "text/plain": [
              "['The cat sat on the table.', 'The dog ate my laptop.']"
            ]
          },
          "metadata": {
            "tags": []
          },
          "execution_count": 10
        }
      ]
    },
    {
      "cell_type": "code",
      "metadata": {
        "id": "K-FOodOtc0Jz"
      },
      "source": [
        "tokenizer = keras.preprocessing.text.Tokenizer(num_words=1_000)\n",
        "# 가장 빈도가 높은 1,000개의 단어만 선택하는 Tokenizer 객체를 생성."
      ],
      "execution_count": 11,
      "outputs": []
    },
    {
      "cell_type": "code",
      "metadata": {
        "id": "-7gZDECyjSXZ"
      },
      "source": [
        "tokenizer.fit_on_texts(samples)  # 단어 인덱스를 구축"
      ],
      "execution_count": 12,
      "outputs": []
    },
    {
      "cell_type": "code",
      "metadata": {
        "colab": {
          "base_uri": "https://localhost:8080/"
        },
        "id": "JouXXI22jeDB",
        "outputId": "3e073a00-2af5-4538-dadf-1054d33e3cb4"
      },
      "source": [
        "tokenizer.word_index  #> {word: index} 사전(dict)"
      ],
      "execution_count": 13,
      "outputs": [
        {
          "output_type": "execute_result",
          "data": {
            "text/plain": [
              "{'ate': 7,\n",
              " 'cat': 2,\n",
              " 'dog': 6,\n",
              " 'laptop': 9,\n",
              " 'my': 8,\n",
              " 'on': 4,\n",
              " 'sat': 3,\n",
              " 'table': 5,\n",
              " 'the': 1}"
            ]
          },
          "metadata": {
            "tags": []
          },
          "execution_count": 13
        }
      ]
    },
    {
      "cell_type": "code",
      "metadata": {
        "colab": {
          "base_uri": "https://localhost:8080/"
        },
        "id": "HJx9Ot6wjlSR",
        "outputId": "8c5ec730-813d-4af7-a8fb-bb07d55a1397"
      },
      "source": [
        "tokenizer.index_word  #> {index: word} 사전(dict)"
      ],
      "execution_count": 14,
      "outputs": [
        {
          "output_type": "execute_result",
          "data": {
            "text/plain": [
              "{1: 'the',\n",
              " 2: 'cat',\n",
              " 3: 'sat',\n",
              " 4: 'on',\n",
              " 5: 'table',\n",
              " 6: 'dog',\n",
              " 7: 'ate',\n",
              " 8: 'my',\n",
              " 9: 'laptop'}"
            ]
          },
          "metadata": {
            "tags": []
          },
          "execution_count": 14
        }
      ]
    },
    {
      "cell_type": "code",
      "metadata": {
        "colab": {
          "base_uri": "https://localhost:8080/"
        },
        "id": "YA1oX0nUj-AY",
        "outputId": "9e652997-8202-4f14-e553-12dc6d21cb5a"
      },
      "source": [
        "tokenizer.word_counts  #> [(word, count)]"
      ],
      "execution_count": 15,
      "outputs": [
        {
          "output_type": "execute_result",
          "data": {
            "text/plain": [
              "OrderedDict([('the', 3),\n",
              "             ('cat', 1),\n",
              "             ('sat', 1),\n",
              "             ('on', 1),\n",
              "             ('table', 1),\n",
              "             ('dog', 1),\n",
              "             ('ate', 1),\n",
              "             ('my', 1),\n",
              "             ('laptop', 1)])"
            ]
          },
          "metadata": {
            "tags": []
          },
          "execution_count": 15
        }
      ]
    },
    {
      "cell_type": "code",
      "metadata": {
        "colab": {
          "base_uri": "https://localhost:8080/"
        },
        "id": "hcE03Zc8kcxn",
        "outputId": "ea47d904-2493-48de-89bf-c17d1ed82ff0"
      },
      "source": [
        "# 문자열(텍스트)를 정수 인덱스들의 리스트로 변환 리턴.\n",
        "tokenizer.texts_to_sequences(samples)"
      ],
      "execution_count": 16,
      "outputs": [
        {
          "output_type": "execute_result",
          "data": {
            "text/plain": [
              "[[1, 2, 3, 4, 1, 5], [1, 6, 7, 8, 9]]"
            ]
          },
          "metadata": {
            "tags": []
          },
          "execution_count": 16
        }
      ]
    },
    {
      "cell_type": "code",
      "metadata": {
        "colab": {
          "base_uri": "https://localhost:8080/"
        },
        "id": "QgrsJeFJluVd",
        "outputId": "7d84ae29-4123-4c0d-b8c3-0b9469208783"
      },
      "source": [
        "# Tokenizer를 사용한 one-hot encoding\n",
        "result = tokenizer.texts_to_matrix(samples)\n",
        "result.shape  #> (n_sample, max_token)"
      ],
      "execution_count": 17,
      "outputs": [
        {
          "output_type": "execute_result",
          "data": {
            "text/plain": [
              "(2, 1000)"
            ]
          },
          "metadata": {
            "tags": []
          },
          "execution_count": 17
        }
      ]
    },
    {
      "cell_type": "code",
      "metadata": {
        "colab": {
          "base_uri": "https://localhost:8080/"
        },
        "id": "coApExCmmXxL",
        "outputId": "1428e7a9-0b28-48c2-dd10-e9bd39ae02be"
      },
      "source": [
        "result[:, :15]"
      ],
      "execution_count": 18,
      "outputs": [
        {
          "output_type": "execute_result",
          "data": {
            "text/plain": [
              "array([[0., 1., 1., 1., 1., 1., 0., 0., 0., 0., 0., 0., 0., 0., 0.],\n",
              "       [0., 1., 0., 0., 0., 0., 1., 1., 1., 1., 0., 0., 0., 0., 0.]])"
            ]
          },
          "metadata": {
            "tags": []
          },
          "execution_count": 18
        }
      ]
    },
    {
      "cell_type": "markdown",
      "metadata": {
        "id": "wxFc0Moiok6K"
      },
      "source": [
        "# IMDB dataset"
      ]
    },
    {
      "cell_type": "code",
      "metadata": {
        "colab": {
          "base_uri": "https://localhost:8080/"
        },
        "id": "NX_gnCi0omt6",
        "outputId": "2c80d2b1-a106-4722-b4b6-9c18da1644ee"
      },
      "source": [
        "(x_train_full, y_train_full), (x_test, y_test) = keras.datasets.imdb.load_data(num_words=500)\n",
        "# IMDB 리뷰에서 가장 자주 등장하는 단어 500개를 어휘 사전(word index)로 사용하는 데이터 셋을 로드."
      ],
      "execution_count": 19,
      "outputs": [
        {
          "output_type": "stream",
          "text": [
            "<string>:6: VisibleDeprecationWarning: Creating an ndarray from ragged nested sequences (which is a list-or-tuple of lists-or-tuples-or ndarrays with different lengths or shapes) is deprecated. If you meant to do this, you must specify 'dtype=object' when creating the ndarray\n",
            "/usr/local/lib/python3.7/dist-packages/tensorflow/python/keras/datasets/imdb.py:159: VisibleDeprecationWarning: Creating an ndarray from ragged nested sequences (which is a list-or-tuple of lists-or-tuples-or ndarrays with different lengths or shapes) is deprecated. If you meant to do this, you must specify 'dtype=object' when creating the ndarray\n",
            "  x_train, y_train = np.array(xs[:idx]), np.array(labels[:idx])\n",
            "/usr/local/lib/python3.7/dist-packages/tensorflow/python/keras/datasets/imdb.py:160: VisibleDeprecationWarning: Creating an ndarray from ragged nested sequences (which is a list-or-tuple of lists-or-tuples-or ndarrays with different lengths or shapes) is deprecated. If you meant to do this, you must specify 'dtype=object' when creating the ndarray\n",
            "  x_test, y_test = np.array(xs[idx:]), np.array(labels[idx:])\n"
          ],
          "name": "stderr"
        }
      ]
    },
    {
      "cell_type": "code",
      "metadata": {
        "colab": {
          "base_uri": "https://localhost:8080/"
        },
        "id": "B2S4L-N5qfu6",
        "outputId": "8b81375e-a37f-434b-e2f5-5e620435a318"
      },
      "source": [
        "x_train_full.shape"
      ],
      "execution_count": 20,
      "outputs": [
        {
          "output_type": "execute_result",
          "data": {
            "text/plain": [
              "(25000,)"
            ]
          },
          "metadata": {
            "tags": []
          },
          "execution_count": 20
        }
      ]
    },
    {
      "cell_type": "code",
      "metadata": {
        "colab": {
          "base_uri": "https://localhost:8080/"
        },
        "id": "T-xbeiHeq4iY",
        "outputId": "c0b1068a-d75a-4e42-df9a-53bcb9fe5444"
      },
      "source": [
        "x_train_full.dtype  #> object들을 원소로 갖는 1d array"
      ],
      "execution_count": 21,
      "outputs": [
        {
          "output_type": "execute_result",
          "data": {
            "text/plain": [
              "dtype('O')"
            ]
          },
          "metadata": {
            "tags": []
          },
          "execution_count": 21
        }
      ]
    },
    {
      "cell_type": "code",
      "metadata": {
        "colab": {
          "base_uri": "https://localhost:8080/"
        },
        "id": "CkiNCD8mrHVv",
        "outputId": "3765570a-e6ba-4913-eaa5-dec681178482"
      },
      "source": [
        "print(x_train_full[0])\n",
        "#> x_train_full은 25,000개의 (정수) 리스트를 원소로 하는 1d 배열"
      ],
      "execution_count": 22,
      "outputs": [
        {
          "output_type": "stream",
          "text": [
            "[1, 14, 22, 16, 43, 2, 2, 2, 2, 65, 458, 2, 66, 2, 4, 173, 36, 256, 5, 25, 100, 43, 2, 112, 50, 2, 2, 9, 35, 480, 284, 5, 150, 4, 172, 112, 167, 2, 336, 385, 39, 4, 172, 2, 2, 17, 2, 38, 13, 447, 4, 192, 50, 16, 6, 147, 2, 19, 14, 22, 4, 2, 2, 469, 4, 22, 71, 87, 12, 16, 43, 2, 38, 76, 15, 13, 2, 4, 22, 17, 2, 17, 12, 16, 2, 18, 2, 5, 62, 386, 12, 8, 316, 8, 106, 5, 4, 2, 2, 16, 480, 66, 2, 33, 4, 130, 12, 16, 38, 2, 5, 25, 124, 51, 36, 135, 48, 25, 2, 33, 6, 22, 12, 215, 28, 77, 52, 5, 14, 407, 16, 82, 2, 8, 4, 107, 117, 2, 15, 256, 4, 2, 7, 2, 5, 2, 36, 71, 43, 2, 476, 26, 400, 317, 46, 7, 4, 2, 2, 13, 104, 88, 4, 381, 15, 297, 98, 32, 2, 56, 26, 141, 6, 194, 2, 18, 4, 226, 22, 21, 134, 476, 26, 480, 5, 144, 30, 2, 18, 51, 36, 28, 224, 92, 25, 104, 4, 226, 65, 16, 38, 2, 88, 12, 16, 283, 5, 16, 2, 113, 103, 32, 15, 16, 2, 19, 178, 32]\n"
          ],
          "name": "stdout"
        }
      ]
    },
    {
      "cell_type": "code",
      "metadata": {
        "colab": {
          "base_uri": "https://localhost:8080/"
        },
        "id": "DByTttTYsHdK",
        "outputId": "6b85f665-a9c8-4eda-e0d9-748f5948f676"
      },
      "source": [
        "y_train_full.shape"
      ],
      "execution_count": 23,
      "outputs": [
        {
          "output_type": "execute_result",
          "data": {
            "text/plain": [
              "(25000,)"
            ]
          },
          "metadata": {
            "tags": []
          },
          "execution_count": 23
        }
      ]
    },
    {
      "cell_type": "code",
      "metadata": {
        "colab": {
          "base_uri": "https://localhost:8080/"
        },
        "id": "wJ5AmmnlsJ3Y",
        "outputId": "aa00e3cc-92a3-470e-892c-49081fc0da61"
      },
      "source": [
        "np.unique(y_train_full, return_counts=True)\n",
        "#> 타겟: 0-부정, 1-긍정"
      ],
      "execution_count": 24,
      "outputs": [
        {
          "output_type": "execute_result",
          "data": {
            "text/plain": [
              "(array([0, 1]), array([12500, 12500]))"
            ]
          },
          "metadata": {
            "tags": []
          },
          "execution_count": 24
        }
      ]
    },
    {
      "cell_type": "code",
      "metadata": {
        "colab": {
          "base_uri": "https://localhost:8080/"
        },
        "id": "IpgEvtnhsRvK",
        "outputId": "943a3d3e-53f7-407a-bb48-7246a915562e"
      },
      "source": [
        "x_test.shape  # 25,000개의 리스트를 원소로 갖는 1d 배열"
      ],
      "execution_count": 25,
      "outputs": [
        {
          "output_type": "execute_result",
          "data": {
            "text/plain": [
              "(25000,)"
            ]
          },
          "metadata": {
            "tags": []
          },
          "execution_count": 25
        }
      ]
    },
    {
      "cell_type": "code",
      "metadata": {
        "colab": {
          "base_uri": "https://localhost:8080/"
        },
        "id": "XyII5abtsnqf",
        "outputId": "3a8ad429-c79c-4fef-d4fe-7bf8fafdae5a"
      },
      "source": [
        "y_test.shape  # 긍정/부정 리뷰"
      ],
      "execution_count": 26,
      "outputs": [
        {
          "output_type": "execute_result",
          "data": {
            "text/plain": [
              "(25000,)"
            ]
          },
          "metadata": {
            "tags": []
          },
          "execution_count": 26
        }
      ]
    },
    {
      "cell_type": "code",
      "metadata": {
        "colab": {
          "base_uri": "https://localhost:8080/"
        },
        "id": "IBwKNtIAspOX",
        "outputId": "f3d0d192-1ffb-48ed-baad-44d83ec71881"
      },
      "source": [
        "print(x_test[0])"
      ],
      "execution_count": 27,
      "outputs": [
        {
          "output_type": "stream",
          "text": [
            "[1, 2, 202, 14, 31, 6, 2, 10, 10, 2, 2, 5, 4, 360, 7, 4, 177, 2, 394, 354, 4, 123, 9, 2, 2, 2, 10, 10, 13, 92, 124, 89, 488, 2, 100, 28, 2, 14, 31, 23, 27, 2, 29, 220, 468, 8, 124, 14, 286, 170, 8, 157, 46, 5, 27, 239, 16, 179, 2, 38, 32, 25, 2, 451, 202, 14, 6, 2]\n"
          ],
          "name": "stdout"
        }
      ]
    },
    {
      "cell_type": "markdown",
      "metadata": {
        "id": "DxA2IjmOwlr_"
      },
      "source": [
        "*   0: padding\n",
        "*   1: 문장의 시작\n",
        "*   2: 어휘 사전에 없는 단어\n",
        "*   인덱스: 어휘 사전의 인덱스"
      ]
    },
    {
      "cell_type": "code",
      "metadata": {
        "id": "v7-i4HLdxAS_"
      },
      "source": [
        "# 어휘 사전을 로드\n",
        "word_index = keras.datasets.imdb.get_word_index()"
      ],
      "execution_count": 28,
      "outputs": []
    },
    {
      "cell_type": "code",
      "metadata": {
        "colab": {
          "base_uri": "https://localhost:8080/"
        },
        "id": "ti1K0_JqxIwQ",
        "outputId": "5edad4e9-7867-4a31-a377-12796d0bbfec"
      },
      "source": [
        "len(word_index)"
      ],
      "execution_count": 29,
      "outputs": [
        {
          "output_type": "execute_result",
          "data": {
            "text/plain": [
              "88584"
            ]
          },
          "metadata": {
            "tags": []
          },
          "execution_count": 29
        }
      ]
    },
    {
      "cell_type": "code",
      "metadata": {
        "colab": {
          "base_uri": "https://localhost:8080/"
        },
        "id": "hupm5zsnxLBH",
        "outputId": "9a266249-a669-4e4f-89aa-6721ffb09420"
      },
      "source": [
        "type(word_index)"
      ],
      "execution_count": 30,
      "outputs": [
        {
          "output_type": "execute_result",
          "data": {
            "text/plain": [
              "dict"
            ]
          },
          "metadata": {
            "tags": []
          },
          "execution_count": 30
        }
      ]
    },
    {
      "cell_type": "code",
      "metadata": {
        "colab": {
          "base_uri": "https://localhost:8080/"
        },
        "id": "xkAO3OlhxWBf",
        "outputId": "1f2fdf10-d732-4654-8074-91c1ef6e54b9"
      },
      "source": [
        "\n",
        "for i, (k, v) in enumerate(word_index.items()):\n",
        "    print(k, ':', v)\n",
        "    if i == 5:\n",
        "        break"
      ],
      "execution_count": 31,
      "outputs": [
        {
          "output_type": "stream",
          "text": [
            "fawn : 34701\n",
            "tsukino : 52006\n",
            "nunnery : 52007\n",
            "sonja : 16816\n",
            "vani : 63951\n",
            "woods : 1408\n"
          ],
          "name": "stdout"
        }
      ]
    },
    {
      "cell_type": "code",
      "metadata": {
        "colab": {
          "base_uri": "https://localhost:8080/"
        },
        "id": "Q3Cv94hNxxAX",
        "outputId": "5f49fa51-6d96-4124-f3bb-f8918b50557a"
      },
      "source": [
        "# word_index에서 index의 오름차순으로 6개 출력\n",
        "sorted(word_index.items(), key=lambda x: x[1])[:6]"
      ],
      "execution_count": 32,
      "outputs": [
        {
          "output_type": "execute_result",
          "data": {
            "text/plain": [
              "[('the', 1), ('and', 2), ('a', 3), ('of', 4), ('to', 5), ('is', 6)]"
            ]
          },
          "metadata": {
            "tags": []
          },
          "execution_count": 32
        }
      ]
    },
    {
      "cell_type": "markdown",
      "metadata": {
        "id": "N5Q0K4Ag1mYn"
      },
      "source": [
        "## Train/Validation split"
      ]
    },
    {
      "cell_type": "code",
      "metadata": {
        "id": "kutUe8kgziQv"
      },
      "source": [
        "x_train, x_val, y_train, y_val = train_test_split(x_train_full, y_train_full,\n",
        "                                                  test_size=0.2,\n",
        "                                                  stratify=y_train_full,\n",
        "                                                  random_state=42)"
      ],
      "execution_count": 33,
      "outputs": []
    },
    {
      "cell_type": "code",
      "metadata": {
        "colab": {
          "base_uri": "https://localhost:8080/"
        },
        "id": "7ExCU9pc2Tl_",
        "outputId": "7ae7407f-e8f9-4926-9b88-08061afcb2bb"
      },
      "source": [
        "x_train.shape"
      ],
      "execution_count": 34,
      "outputs": [
        {
          "output_type": "execute_result",
          "data": {
            "text/plain": [
              "(20000,)"
            ]
          },
          "metadata": {
            "tags": []
          },
          "execution_count": 34
        }
      ]
    },
    {
      "cell_type": "code",
      "metadata": {
        "colab": {
          "base_uri": "https://localhost:8080/"
        },
        "id": "3_CvIRLM2VSm",
        "outputId": "28a94cad-2509-44ef-ff2f-acc66003a7ba"
      },
      "source": [
        "np.unique(y_train, return_counts=True)"
      ],
      "execution_count": 35,
      "outputs": [
        {
          "output_type": "execute_result",
          "data": {
            "text/plain": [
              "(array([0, 1]), array([10000, 10000]))"
            ]
          },
          "metadata": {
            "tags": []
          },
          "execution_count": 35
        }
      ]
    },
    {
      "cell_type": "markdown",
      "metadata": {
        "id": "kkulYttP2qKH"
      },
      "source": [
        "## 데이터 탐색"
      ]
    },
    {
      "cell_type": "code",
      "metadata": {
        "colab": {
          "base_uri": "https://localhost:8080/"
        },
        "id": "DsPLgNfG2faO",
        "outputId": "39780ec9-24d5-45d2-c2e5-aee6cca799cd"
      },
      "source": [
        "# 훈련 셋에 있는 각 리뷰의 길이(각 리뷰에서 사용된 단어 수)\n",
        "review_lengths = pd.Series([len(x) for x in x_train])\n",
        "print(review_lengths)"
      ],
      "execution_count": 36,
      "outputs": [
        {
          "output_type": "stream",
          "text": [
            "0        133\n",
            "1        398\n",
            "2        384\n",
            "3        205\n",
            "4        230\n",
            "        ... \n",
            "19995     95\n",
            "19996    138\n",
            "19997    148\n",
            "19998    138\n",
            "19999    116\n",
            "Length: 20000, dtype: int64\n"
          ],
          "name": "stdout"
        }
      ]
    },
    {
      "cell_type": "code",
      "metadata": {
        "colab": {
          "base_uri": "https://localhost:8080/"
        },
        "id": "uHlh-whM3EUw",
        "outputId": "0838bafd-64c3-4c92-ff1f-33ab99297d3b"
      },
      "source": [
        "review_lengths.describe()"
      ],
      "execution_count": 37,
      "outputs": [
        {
          "output_type": "execute_result",
          "data": {
            "text/plain": [
              "count    20000.000000\n",
              "mean       238.493400\n",
              "std        176.785035\n",
              "min         11.000000\n",
              "25%        130.000000\n",
              "50%        178.000000\n",
              "75%        290.000000\n",
              "max       2494.000000\n",
              "dtype: float64"
            ]
          },
          "metadata": {
            "tags": []
          },
          "execution_count": 37
        }
      ]
    },
    {
      "cell_type": "code",
      "metadata": {
        "colab": {
          "base_uri": "https://localhost:8080/",
          "height": 265
        },
        "id": "fge6HG-13jc-",
        "outputId": "f1c21c78-4521-4830-d365-1bed01c86b01"
      },
      "source": [
        "review_lengths.hist(bins=20)\n",
        "plt.show()"
      ],
      "execution_count": 38,
      "outputs": [
        {
          "output_type": "display_data",
          "data": {
            "image/png": "[encoded data removed]",
            "text/plain": [
              "<Figure size 432x288 with 1 Axes>"
            ]
          },
          "metadata": {
            "tags": [],
            "needs_background": "light"
          }
        }
      ]
    },
    {
      "cell_type": "code",
      "metadata": {
        "colab": {
          "base_uri": "https://localhost:8080/",
          "height": 265
        },
        "id": "itNxzUt14Jru",
        "outputId": "964651a1-414c-4886-d119-189c63dba75d"
      },
      "source": [
        "review_lengths.plot.box()\n",
        "plt.show()"
      ],
      "execution_count": 39,
      "outputs": [
        {
          "output_type": "display_data",
          "data": {
            "image/png": "[encoded data removed]",
            "text/plain": [
              "<Figure size 432x288 with 1 Axes>"
            ]
          },
          "metadata": {
            "tags": [],
            "needs_background": "light"
          }
        }
      ]
    },
    {
      "cell_type": "code",
      "metadata": {
        "colab": {
          "base_uri": "https://localhost:8080/"
        },
        "id": "irMVtC1K9jBG",
        "outputId": "ea924128-8495-4253-e3eb-bb6144e4857b"
      },
      "source": [
        "for review in x_train[:5]:\n",
        "    print(review[:10])"
      ],
      "execution_count": 40,
      "outputs": [
        {
          "output_type": "stream",
          "text": [
            "[1, 2, 8, 135, 13, 28, 57, 326, 51, 363]\n",
            "[1, 2, 2, 2, 18, 116, 9, 4, 2, 2]\n",
            "[1, 14, 2, 2, 2, 201, 2, 2, 11, 4]\n",
            "[1, 321, 123, 305, 7, 149, 4, 172, 154, 2]\n",
            "[1, 2, 2, 2, 270, 11, 4, 2, 2, 7]\n"
          ],
          "name": "stdout"
        }
      ]
    },
    {
      "cell_type": "markdown",
      "metadata": {
        "id": "P708EU96029H"
      },
      "source": [
        "## 데이터 정제"
      ]
    },
    {
      "cell_type": "markdown",
      "metadata": {
        "id": "IThV5mQc06a-"
      },
      "source": [
        "샘플(IMDB 리뷰)마다 사용되는 단어 수가 다르기 때문에 훈련시키기 어려움.\n",
        "\n",
        "샘플(리뷰)마다 100개의 단어(token)만 사용.\n",
        "100개 이상의 단어가 사용되는 샘플은 잘라내고, 100개 미만의 단어가 사용되는 샘플들은 0으로 채움(padding).\n",
        ">   `keras.preprocessing.sequence.pad_sequences()` 함수 사용\n"
      ]
    },
    {
      "cell_type": "code",
      "metadata": {
        "id": "9FUj9sWs1yFG"
      },
      "source": [
        "x_train_seq = keras.preprocessing.sequence.pad_sequences(sequences=x_train, maxlen=100)\n",
        "# pad_sequences() 함수의 parameter:\n",
        "# maxlen: sequence의 최대 길이\n",
        "# padding='pre': maxlen보다 길이가 짧은 시퀀스일 때 패딩을 앞에서부터 채움\n",
        "# truncating='pre': maxlen보다 길이가 긴 시퀀스일 때 앞에서 자름."
      ],
      "execution_count": 41,
      "outputs": []
    },
    {
      "cell_type": "code",
      "metadata": {
        "colab": {
          "base_uri": "https://localhost:8080/"
        },
        "id": "xjYdYFSc2ib5",
        "outputId": "c07a1518-0dd4-401f-a760-19f0056528c9"
      },
      "source": [
        "x_train.shape  #> 1d array"
      ],
      "execution_count": 42,
      "outputs": [
        {
          "output_type": "execute_result",
          "data": {
            "text/plain": [
              "(20000,)"
            ]
          },
          "metadata": {
            "tags": []
          },
          "execution_count": 42
        }
      ]
    },
    {
      "cell_type": "code",
      "metadata": {
        "colab": {
          "base_uri": "https://localhost:8080/"
        },
        "id": "2OeFUDFS2ehv",
        "outputId": "5a4dc7d0-97e6-4d61-d794-86cbd28cbb40"
      },
      "source": [
        "x_train_seq.shape  #> 2d array"
      ],
      "execution_count": 43,
      "outputs": [
        {
          "output_type": "execute_result",
          "data": {
            "text/plain": [
              "(20000, 100)"
            ]
          },
          "metadata": {
            "tags": []
          },
          "execution_count": 43
        }
      ]
    },
    {
      "cell_type": "code",
      "metadata": {
        "colab": {
          "base_uri": "https://localhost:8080/"
        },
        "id": "cFBItmrM2g9G",
        "outputId": "0221dc7f-4749-4ef4-df1e-0722d3730e07"
      },
      "source": [
        "x_train[0][:10]  # 훈련 셋 중에서 첫번째 샘플(리뷰)의 첫 10개 단어"
      ],
      "execution_count": 44,
      "outputs": [
        {
          "output_type": "execute_result",
          "data": {
            "text/plain": [
              "[1, 2, 8, 135, 13, 28, 57, 326, 51, 363]"
            ]
          },
          "metadata": {
            "tags": []
          },
          "execution_count": 44
        }
      ]
    },
    {
      "cell_type": "code",
      "metadata": {
        "colab": {
          "base_uri": "https://localhost:8080/"
        },
        "id": "Pg88Y0pO5Kdy",
        "outputId": "80c19d11-3ca3-406f-a69c-09db53207dbb"
      },
      "source": [
        "x_train[0][-10:]  # 훈련 셋 중에서 첫번째 샘플(리뷰)의 마지막 10개 단어"
      ],
      "execution_count": 45,
      "outputs": [
        {
          "output_type": "execute_result",
          "data": {
            "text/plain": [
              "[18, 399, 14, 8, 72, 25, 317, 72, 2, 53]"
            ]
          },
          "metadata": {
            "tags": []
          },
          "execution_count": 45
        }
      ]
    },
    {
      "cell_type": "code",
      "metadata": {
        "colab": {
          "base_uri": "https://localhost:8080/"
        },
        "id": "7W_0g6Ac5aI2",
        "outputId": "3090edcf-d288-4983-a5ac-2d39a25de2d9"
      },
      "source": [
        "x_train_seq[0][:10]"
      ],
      "execution_count": 46,
      "outputs": [
        {
          "output_type": "execute_result",
          "data": {
            "text/plain": [
              "array([  4,  20,   2,  21,   2,  92,   2, 178,  51,  75], dtype=int32)"
            ]
          },
          "metadata": {
            "tags": []
          },
          "execution_count": 46
        }
      ]
    },
    {
      "cell_type": "code",
      "metadata": {
        "colab": {
          "base_uri": "https://localhost:8080/"
        },
        "id": "3pN9F3PF5pC4",
        "outputId": "08ba74d7-9afd-4fcf-9db3-6aefa6efdb5c"
      },
      "source": [
        "x_train_seq[0][-10:]\n",
        "#> 시퀀스가 잘릴 때는 앞에서 잘림."
      ],
      "execution_count": 47,
      "outputs": [
        {
          "output_type": "execute_result",
          "data": {
            "text/plain": [
              "array([ 18, 399,  14,   8,  72,  25, 317,  72,   2,  53], dtype=int32)"
            ]
          },
          "metadata": {
            "tags": []
          },
          "execution_count": 47
        }
      ]
    },
    {
      "cell_type": "code",
      "metadata": {
        "colab": {
          "base_uri": "https://localhost:8080/"
        },
        "id": "XfrkKZqA5rlX",
        "outputId": "9ec4fe4b-b3aa-485d-b414-b7d681e6c909"
      },
      "source": [
        "print(x_train_seq[19995])\n",
        "#> 시퀀스에 패딩이 채워질 때는 앞에 채워짐."
      ],
      "execution_count": 48,
      "outputs": [
        {
          "output_type": "stream",
          "text": [
            "[  0   0   0   0   0   1  13 244   6   2 194 337   7  91   7   4 108  15\n",
            "  28  77 448  23   2   2   2  14  31   2  17  31   7   4   2   5  91   2\n",
            "  10  10  13  28  43   2   2  12  18  44   4   2  58   5  13 131 169  12\n",
            " 483   2  17  73  17   2  10  10   4 136 121   2   9  23   6 252   2 265\n",
            "  19   4   2   2   9  31  63   2  46   5   4  57   2   2  34 117   2   2\n",
            "   2   4 130   9   6   2   7   2  10  10]\n"
          ],
          "name": "stdout"
        }
      ]
    },
    {
      "cell_type": "markdown",
      "metadata": {
        "id": "17gyv-pz6edH"
      },
      "source": [
        "검증 셋과 테스트 셋도 훈련 셋과 마찬가지로 자르거나 또는 패딩을 채워야 함."
      ]
    },
    {
      "cell_type": "code",
      "metadata": {
        "colab": {
          "base_uri": "https://localhost:8080/"
        },
        "id": "z_7hooo16don",
        "outputId": "736d3aa1-cf29-4828-aff5-95a237ab7531"
      },
      "source": [
        "x_val_seq = keras.preprocessing.sequence.pad_sequences(sequences=x_val, maxlen=100)\n",
        "x_val_seq.shape  #> (5000,) --> (5000, 100) 2d array"
      ],
      "execution_count": 49,
      "outputs": [
        {
          "output_type": "execute_result",
          "data": {
            "text/plain": [
              "(5000, 100)"
            ]
          },
          "metadata": {
            "tags": []
          },
          "execution_count": 49
        }
      ]
    },
    {
      "cell_type": "code",
      "metadata": {
        "colab": {
          "base_uri": "https://localhost:8080/"
        },
        "id": "sVnX7m7v6tEX",
        "outputId": "99f306fd-15dd-4f9d-d05e-a60597d51c0f"
      },
      "source": [
        "x_test_seq = keras.preprocessing.sequence.pad_sequences(sequences=x_test, maxlen=100)\n",
        "x_test_seq.shape # (25000,) --> (25000, 100) 2d array"
      ],
      "execution_count": 50,
      "outputs": [
        {
          "output_type": "execute_result",
          "data": {
            "text/plain": [
              "(25000, 100)"
            ]
          },
          "metadata": {
            "tags": []
          },
          "execution_count": 50
        }
      ]
    },
    {
      "cell_type": "markdown",
      "metadata": {
        "id": "u_kHi9xz8bw9"
      },
      "source": [
        "NLP(Natural Language Processing, 자연어 처리)에서는 숫자(정수)가 신경망을 훈련시킬 때 사요됨. 그런데 예를 들어서 20번 단어가 10번 단어보다 더 중요할 이유는 없기 때문에, word index의 인덱스를 그대로 훈련 데이터로 사용하는 것은 좋은 방법이 아님. 해결 방법:\n",
        "*   one-hot encoding\n",
        "*   word embedding"
      ]
    },
    {
      "cell_type": "code",
      "metadata": {
        "id": "F6YQ4WzN7JYP"
      },
      "source": [
        "x_train_1hot = keras.utils.to_categorical(x_train_seq)\n",
        "#> x_train_seq: (20000, 100)  -->  x_train_1hot: (20000, 100, 500)"
      ],
      "execution_count": 51,
      "outputs": []
    },
    {
      "cell_type": "code",
      "metadata": {
        "colab": {
          "base_uri": "https://localhost:8080/"
        },
        "id": "eaadOdzl9S4u",
        "outputId": "ac415589-0400-4512-a46c-aad955562188"
      },
      "source": [
        "x_train_1hot.shape"
      ],
      "execution_count": 52,
      "outputs": [
        {
          "output_type": "execute_result",
          "data": {
            "text/plain": [
              "(20000, 100, 500)"
            ]
          },
          "metadata": {
            "tags": []
          },
          "execution_count": 52
        }
      ]
    },
    {
      "cell_type": "code",
      "metadata": {
        "id": "AxSTVjPV9VJ-"
      },
      "source": [
        "x_val_1hot = keras.utils.to_categorical(x_val_seq)\n",
        "x_test_1hot = keras.utils.to_categorical(x_test_seq)"
      ],
      "execution_count": 53,
      "outputs": []
    },
    {
      "cell_type": "code",
      "metadata": {
        "colab": {
          "base_uri": "https://localhost:8080/"
        },
        "id": "hyeyPz8V-UsP",
        "outputId": "0915ba25-3fcf-4788-d5e0-f9672ff81227"
      },
      "source": [
        "x_val_1hot.shape  #> (5000, 100, 500)"
      ],
      "execution_count": 54,
      "outputs": [
        {
          "output_type": "execute_result",
          "data": {
            "text/plain": [
              "(5000, 100, 500)"
            ]
          },
          "metadata": {
            "tags": []
          },
          "execution_count": 54
        }
      ]
    },
    {
      "cell_type": "code",
      "metadata": {
        "colab": {
          "base_uri": "https://localhost:8080/"
        },
        "id": "46bHj4lK-bqu",
        "outputId": "58fae1be-7704-4b50-fc24-00d451027c64"
      },
      "source": [
        "x_test_1hot.shape  #> (25000, 100, 500)"
      ],
      "execution_count": 55,
      "outputs": [
        {
          "output_type": "execute_result",
          "data": {
            "text/plain": [
              "(25000, 100, 500)"
            ]
          },
          "metadata": {
            "tags": []
          },
          "execution_count": 55
        }
      ]
    },
    {
      "cell_type": "code",
      "metadata": {
        "colab": {
          "base_uri": "https://localhost:8080/"
        },
        "id": "t6ipJc1H-iY-",
        "outputId": "0c66fa67-0429-4df2-accd-dcfe19071f2b"
      },
      "source": [
        "x_train_1hot"
      ],
      "execution_count": 56,
      "outputs": [
        {
          "output_type": "execute_result",
          "data": {
            "text/plain": [
              "array([[[0., 0., 0., ..., 0., 0., 0.],\n",
              "        [0., 0., 0., ..., 0., 0., 0.],\n",
              "        [0., 0., 1., ..., 0., 0., 0.],\n",
              "        ...,\n",
              "        [0., 0., 0., ..., 0., 0., 0.],\n",
              "        [0., 0., 1., ..., 0., 0., 0.],\n",
              "        [0., 0., 0., ..., 0., 0., 0.]],\n",
              "\n",
              "       [[0., 0., 0., ..., 0., 0., 0.],\n",
              "        [0., 0., 0., ..., 0., 0., 0.],\n",
              "        [0., 0., 1., ..., 0., 0., 0.],\n",
              "        ...,\n",
              "        [0., 0., 0., ..., 0., 0., 0.],\n",
              "        [0., 0., 1., ..., 0., 0., 0.],\n",
              "        [0., 0., 0., ..., 0., 0., 0.]],\n",
              "\n",
              "       [[0., 0., 0., ..., 0., 0., 0.],\n",
              "        [0., 0., 0., ..., 0., 0., 0.],\n",
              "        [0., 0., 0., ..., 0., 0., 0.],\n",
              "        ...,\n",
              "        [0., 0., 0., ..., 0., 0., 0.],\n",
              "        [0., 0., 0., ..., 0., 0., 0.],\n",
              "        [0., 0., 0., ..., 0., 0., 0.]],\n",
              "\n",
              "       ...,\n",
              "\n",
              "       [[0., 0., 0., ..., 0., 0., 0.],\n",
              "        [0., 0., 0., ..., 0., 0., 0.],\n",
              "        [0., 0., 1., ..., 0., 0., 0.],\n",
              "        ...,\n",
              "        [0., 0., 1., ..., 0., 0., 0.],\n",
              "        [0., 0., 0., ..., 0., 0., 0.],\n",
              "        [0., 0., 0., ..., 0., 0., 0.]],\n",
              "\n",
              "       [[0., 0., 0., ..., 0., 0., 0.],\n",
              "        [0., 0., 0., ..., 0., 0., 0.],\n",
              "        [0., 0., 1., ..., 0., 0., 0.],\n",
              "        ...,\n",
              "        [0., 0., 0., ..., 0., 0., 0.],\n",
              "        [0., 0., 1., ..., 0., 0., 0.],\n",
              "        [0., 0., 0., ..., 0., 0., 0.]],\n",
              "\n",
              "       [[0., 0., 0., ..., 0., 0., 0.],\n",
              "        [0., 0., 0., ..., 0., 0., 0.],\n",
              "        [0., 0., 0., ..., 0., 0., 0.],\n",
              "        ...,\n",
              "        [0., 0., 1., ..., 0., 0., 0.],\n",
              "        [0., 0., 1., ..., 0., 0., 0.],\n",
              "        [0., 0., 0., ..., 0., 0., 0.]]], dtype=float32)"
            ]
          },
          "metadata": {
            "tags": []
          },
          "execution_count": 56
        }
      ]
    },
    {
      "cell_type": "markdown",
      "metadata": {
        "id": "7NmFP_z7CSgW"
      },
      "source": [
        "\n",
        "\n",
        "---\n",
        "\n"
      ]
    },
    {
      "cell_type": "code",
      "metadata": {
        "colab": {
          "base_uri": "https://localhost:8080/"
        },
        "id": "rjeM5Hkd_sum",
        "outputId": "faa33988-ae25-4668-9a10-b7e169e04000"
      },
      "source": [
        "index_word = {v: k for k, v in word_index.items()}\n",
        "index_word"
      ],
      "execution_count": 57,
      "outputs": [
        {
          "output_type": "execute_result",
          "data": {
            "text/plain": [
              "{34701: 'fawn',\n",
              " 52006: 'tsukino',\n",
              " 52007: 'nunnery',\n",
              " 16816: 'sonja',\n",
              " 63951: 'vani',\n",
              " 1408: 'woods',\n",
              " 16115: 'spiders',\n",
              " 2345: 'hanging',\n",
              " 2289: 'woody',\n",
              " 52008: 'trawling',\n",
              " 52009: \"hold's\",\n",
              " 11307: 'comically',\n",
              " 40830: 'localized',\n",
              " 30568: 'disobeying',\n",
              " 52010: \"'royale\",\n",
              " 40831: \"harpo's\",\n",
              " 52011: 'canet',\n",
              " 19313: 'aileen',\n",
              " 52012: 'acurately',\n",
              " 52013: \"diplomat's\",\n",
              " 25242: 'rickman',\n",
              " 6746: 'arranged',\n",
              " 52014: 'rumbustious',\n",
              " 52015: 'familiarness',\n",
              " 52016: \"spider'\",\n",
              " 68804: 'hahahah',\n",
              " 52017: \"wood'\",\n",
              " 40833: 'transvestism',\n",
              " 34702: \"hangin'\",\n",
              " 2338: 'bringing',\n",
              " 40834: 'seamier',\n",
              " 34703: 'wooded',\n",
              " 52018: 'bravora',\n",
              " 16817: 'grueling',\n",
              " 1636: 'wooden',\n",
              " 16818: 'wednesday',\n",
              " 52019: \"'prix\",\n",
              " 34704: 'altagracia',\n",
              " 52020: 'circuitry',\n",
              " 11585: 'crotch',\n",
              " 57766: 'busybody',\n",
              " 52021: \"tart'n'tangy\",\n",
              " 14129: 'burgade',\n",
              " 52023: 'thrace',\n",
              " 11038: \"tom's\",\n",
              " 52025: 'snuggles',\n",
              " 29114: 'francesco',\n",
              " 52027: 'complainers',\n",
              " 52125: 'templarios',\n",
              " 40835: '272',\n",
              " 52028: '273',\n",
              " 52130: 'zaniacs',\n",
              " 34706: '275',\n",
              " 27631: 'consenting',\n",
              " 40836: 'snuggled',\n",
              " 15492: 'inanimate',\n",
              " 52030: 'uality',\n",
              " 11926: 'bronte',\n",
              " 4010: 'errors',\n",
              " 3230: 'dialogs',\n",
              " 52031: \"yomada's\",\n",
              " 34707: \"madman's\",\n",
              " 30585: 'dialoge',\n",
              " 52033: 'usenet',\n",
              " 40837: 'videodrome',\n",
              " 26338: \"kid'\",\n",
              " 52034: 'pawed',\n",
              " 30569: \"'girlfriend'\",\n",
              " 52035: \"'pleasure\",\n",
              " 52036: \"'reloaded'\",\n",
              " 40839: \"kazakos'\",\n",
              " 52037: 'rocque',\n",
              " 52038: 'mailings',\n",
              " 11927: 'brainwashed',\n",
              " 16819: 'mcanally',\n",
              " 52039: \"tom''\",\n",
              " 25243: 'kurupt',\n",
              " 21905: 'affiliated',\n",
              " 52040: 'babaganoosh',\n",
              " 40840: \"noe's\",\n",
              " 40841: 'quart',\n",
              " 359: 'kids',\n",
              " 5034: 'uplifting',\n",
              " 7093: 'controversy',\n",
              " 21906: 'kida',\n",
              " 23379: 'kidd',\n",
              " 52041: \"error'\",\n",
              " 52042: 'neurologist',\n",
              " 18510: 'spotty',\n",
              " 30570: 'cobblers',\n",
              " 9878: 'projection',\n",
              " 40842: 'fastforwarding',\n",
              " 52043: 'sters',\n",
              " 52044: \"eggar's\",\n",
              " 52045: 'etherything',\n",
              " 40843: 'gateshead',\n",
              " 34708: 'airball',\n",
              " 25244: 'unsinkable',\n",
              " 7180: 'stern',\n",
              " 52046: \"cervi's\",\n",
              " 40844: 'dnd',\n",
              " 11586: 'dna',\n",
              " 20598: 'insecurity',\n",
              " 52047: \"'reboot'\",\n",
              " 11037: 'trelkovsky',\n",
              " 52048: 'jaekel',\n",
              " 52049: 'sidebars',\n",
              " 52050: \"sforza's\",\n",
              " 17633: 'distortions',\n",
              " 52051: 'mutinies',\n",
              " 30602: 'sermons',\n",
              " 40846: '7ft',\n",
              " 52052: 'boobage',\n",
              " 52053: \"o'bannon's\",\n",
              " 23380: 'populations',\n",
              " 52054: 'chulak',\n",
              " 27633: 'mesmerize',\n",
              " 52055: 'quinnell',\n",
              " 10307: 'yahoo',\n",
              " 52057: 'meteorologist',\n",
              " 42577: 'beswick',\n",
              " 15493: 'boorman',\n",
              " 40847: 'voicework',\n",
              " 52058: \"ster'\",\n",
              " 22922: 'blustering',\n",
              " 52059: 'hj',\n",
              " 27634: 'intake',\n",
              " 5621: 'morally',\n",
              " 40849: 'jumbling',\n",
              " 52060: 'bowersock',\n",
              " 52061: \"'porky's'\",\n",
              " 16821: 'gershon',\n",
              " 40850: 'ludicrosity',\n",
              " 52062: 'coprophilia',\n",
              " 40851: 'expressively',\n",
              " 19500: \"india's\",\n",
              " 34710: \"post's\",\n",
              " 52063: 'wana',\n",
              " 5283: 'wang',\n",
              " 30571: 'wand',\n",
              " 25245: 'wane',\n",
              " 52321: 'edgeways',\n",
              " 34711: 'titanium',\n",
              " 40852: 'pinta',\n",
              " 178: 'want',\n",
              " 30572: 'pinto',\n",
              " 52065: 'whoopdedoodles',\n",
              " 21908: 'tchaikovsky',\n",
              " 2103: 'travel',\n",
              " 52066: \"'victory'\",\n",
              " 11928: 'copious',\n",
              " 22433: 'gouge',\n",
              " 52067: \"chapters'\",\n",
              " 6702: 'barbra',\n",
              " 30573: 'uselessness',\n",
              " 52068: \"wan'\",\n",
              " 27635: 'assimilated',\n",
              " 16116: 'petiot',\n",
              " 52069: 'most\\x85and',\n",
              " 3930: 'dinosaurs',\n",
              " 352: 'wrong',\n",
              " 52070: 'seda',\n",
              " 52071: 'stollen',\n",
              " 34712: 'sentencing',\n",
              " 40853: 'ouroboros',\n",
              " 40854: 'assimilates',\n",
              " 40855: 'colorfully',\n",
              " 27636: 'glenne',\n",
              " 52072: 'dongen',\n",
              " 4760: 'subplots',\n",
              " 52073: 'kiloton',\n",
              " 23381: 'chandon',\n",
              " 34713: \"effect'\",\n",
              " 27637: 'snugly',\n",
              " 40856: 'kuei',\n",
              " 9092: 'welcomed',\n",
              " 30071: 'dishonor',\n",
              " 52075: 'concurrence',\n",
              " 23382: 'stoicism',\n",
              " 14896: \"guys'\",\n",
              " 52077: \"beroemd'\",\n",
              " 6703: 'butcher',\n",
              " 40857: \"melfi's\",\n",
              " 30623: 'aargh',\n",
              " 20599: 'playhouse',\n",
              " 11308: 'wickedly',\n",
              " 1180: 'fit',\n",
              " 52078: 'labratory',\n",
              " 40859: 'lifeline',\n",
              " 1927: 'screaming',\n",
              " 4287: 'fix',\n",
              " 52079: 'cineliterate',\n",
              " 52080: 'fic',\n",
              " 52081: 'fia',\n",
              " 34714: 'fig',\n",
              " 52082: 'fmvs',\n",
              " 52083: 'fie',\n",
              " 52084: 'reentered',\n",
              " 30574: 'fin',\n",
              " 52085: 'doctresses',\n",
              " 52086: 'fil',\n",
              " 12606: 'zucker',\n",
              " 31931: 'ached',\n",
              " 52088: 'counsil',\n",
              " 52089: 'paterfamilias',\n",
              " 13885: 'songwriter',\n",
              " 34715: 'shivam',\n",
              " 9654: 'hurting',\n",
              " 299: 'effects',\n",
              " 52090: 'slauther',\n",
              " 52091: \"'flame'\",\n",
              " 52092: 'sommerset',\n",
              " 52093: 'interwhined',\n",
              " 27638: 'whacking',\n",
              " 52094: 'bartok',\n",
              " 8775: 'barton',\n",
              " 21909: 'frewer',\n",
              " 52095: \"fi'\",\n",
              " 6192: 'ingrid',\n",
              " 30575: 'stribor',\n",
              " 52096: 'approporiately',\n",
              " 52097: 'wobblyhand',\n",
              " 52098: 'tantalisingly',\n",
              " 52099: 'ankylosaurus',\n",
              " 17634: 'parasites',\n",
              " 52100: 'childen',\n",
              " 52101: \"jenkins'\",\n",
              " 52102: 'metafiction',\n",
              " 17635: 'golem',\n",
              " 40860: 'indiscretion',\n",
              " 23383: \"reeves'\",\n",
              " 57781: \"inamorata's\",\n",
              " 52104: 'brittannica',\n",
              " 7916: 'adapt',\n",
              " 30576: \"russo's\",\n",
              " 48246: 'guitarists',\n",
              " 10553: 'abbott',\n",
              " 40861: 'abbots',\n",
              " 17649: 'lanisha',\n",
              " 40863: 'magickal',\n",
              " 52105: 'mattter',\n",
              " 52106: \"'willy\",\n",
              " 34716: 'pumpkins',\n",
              " 52107: 'stuntpeople',\n",
              " 30577: 'estimate',\n",
              " 40864: 'ugghhh',\n",
              " 11309: 'gameplay',\n",
              " 52108: \"wern't\",\n",
              " 40865: \"n'sync\",\n",
              " 16117: 'sickeningly',\n",
              " 40866: 'chiara',\n",
              " 4011: 'disturbed',\n",
              " 40867: 'portmanteau',\n",
              " 52109: 'ineffectively',\n",
              " 82143: \"duchonvey's\",\n",
              " 37519: \"nasty'\",\n",
              " 1285: 'purpose',\n",
              " 52112: 'lazers',\n",
              " 28105: 'lightened',\n",
              " 52113: 'kaliganj',\n",
              " 52114: 'popularism',\n",
              " 18511: \"damme's\",\n",
              " 30578: 'stylistics',\n",
              " 52115: 'mindgaming',\n",
              " 46449: 'spoilerish',\n",
              " 52117: \"'corny'\",\n",
              " 34718: 'boerner',\n",
              " 6792: 'olds',\n",
              " 52118: 'bakelite',\n",
              " 27639: 'renovated',\n",
              " 27640: 'forrester',\n",
              " 52119: \"lumiere's\",\n",
              " 52024: 'gaskets',\n",
              " 884: 'needed',\n",
              " 34719: 'smight',\n",
              " 1297: 'master',\n",
              " 25905: \"edie's\",\n",
              " 40868: 'seeber',\n",
              " 52120: 'hiya',\n",
              " 52121: 'fuzziness',\n",
              " 14897: 'genesis',\n",
              " 12607: 'rewards',\n",
              " 30579: 'enthrall',\n",
              " 40869: \"'about\",\n",
              " 52122: \"recollection's\",\n",
              " 11039: 'mutilated',\n",
              " 52123: 'fatherlands',\n",
              " 52124: \"fischer's\",\n",
              " 5399: 'positively',\n",
              " 34705: '270',\n",
              " 34720: 'ahmed',\n",
              " 9836: 'zatoichi',\n",
              " 13886: 'bannister',\n",
              " 52127: 'anniversaries',\n",
              " 30580: \"helm's\",\n",
              " 52128: \"'work'\",\n",
              " 34721: 'exclaimed',\n",
              " 52129: \"'unfunny'\",\n",
              " 52029: '274',\n",
              " 544: 'feeling',\n",
              " 52131: \"wanda's\",\n",
              " 33266: 'dolan',\n",
              " 52133: '278',\n",
              " 52134: 'peacoat',\n",
              " 40870: 'brawny',\n",
              " 40871: 'mishra',\n",
              " 40872: 'worlders',\n",
              " 52135: 'protags',\n",
              " 52136: 'skullcap',\n",
              " 57596: 'dastagir',\n",
              " 5622: 'affairs',\n",
              " 7799: 'wholesome',\n",
              " 52137: 'hymen',\n",
              " 25246: 'paramedics',\n",
              " 52138: 'unpersons',\n",
              " 52139: 'heavyarms',\n",
              " 52140: 'affaire',\n",
              " 52141: 'coulisses',\n",
              " 40873: 'hymer',\n",
              " 52142: 'kremlin',\n",
              " 30581: 'shipments',\n",
              " 52143: 'pixilated',\n",
              " 30582: \"'00s\",\n",
              " 18512: 'diminishing',\n",
              " 1357: 'cinematic',\n",
              " 14898: 'resonates',\n",
              " 40874: 'simplify',\n",
              " 40875: \"nature'\",\n",
              " 40876: 'temptresses',\n",
              " 16822: 'reverence',\n",
              " 19502: 'resonated',\n",
              " 34722: 'dailey',\n",
              " 52144: '2\\x85',\n",
              " 27641: 'treize',\n",
              " 52145: 'majo',\n",
              " 21910: 'kiya',\n",
              " 52146: 'woolnough',\n",
              " 39797: 'thanatos',\n",
              " 35731: 'sandoval',\n",
              " 40879: 'dorama',\n",
              " 52147: \"o'shaughnessy\",\n",
              " 4988: 'tech',\n",
              " 32018: 'fugitives',\n",
              " 30583: 'teck',\n",
              " 76125: \"'e'\",\n",
              " 40881: 'doesn’t',\n",
              " 52149: 'purged',\n",
              " 657: 'saying',\n",
              " 41095: \"martians'\",\n",
              " 23418: 'norliss',\n",
              " 27642: 'dickey',\n",
              " 52152: 'dicker',\n",
              " 52153: \"'sependipity\",\n",
              " 8422: 'padded',\n",
              " 57792: 'ordell',\n",
              " 40882: \"sturges'\",\n",
              " 52154: 'independentcritics',\n",
              " 5745: 'tempted',\n",
              " 34724: \"atkinson's\",\n",
              " 25247: 'hounded',\n",
              " 52155: 'apace',\n",
              " 15494: 'clicked',\n",
              " 30584: \"'humor'\",\n",
              " 17177: \"martino's\",\n",
              " 52156: \"'supporting\",\n",
              " 52032: 'warmongering',\n",
              " 34725: \"zemeckis's\",\n",
              " 21911: 'lube',\n",
              " 52157: 'shocky',\n",
              " 7476: 'plate',\n",
              " 40883: 'plata',\n",
              " 40884: 'sturgess',\n",
              " 40885: \"nerds'\",\n",
              " 20600: 'plato',\n",
              " 34726: 'plath',\n",
              " 40886: 'platt',\n",
              " 52159: 'mcnab',\n",
              " 27643: 'clumsiness',\n",
              " 3899: 'altogether',\n",
              " 42584: 'massacring',\n",
              " 52160: 'bicenntinial',\n",
              " 40887: 'skaal',\n",
              " 14360: 'droning',\n",
              " 8776: 'lds',\n",
              " 21912: 'jaguar',\n",
              " 34727: \"cale's\",\n",
              " 1777: 'nicely',\n",
              " 4588: 'mummy',\n",
              " 18513: \"lot's\",\n",
              " 10086: 'patch',\n",
              " 50202: 'kerkhof',\n",
              " 52161: \"leader's\",\n",
              " 27644: \"'movie\",\n",
              " 52162: 'uncomfirmed',\n",
              " 40888: 'heirloom',\n",
              " 47360: 'wrangle',\n",
              " 52163: 'emotion\\x85',\n",
              " 52164: \"'stargate'\",\n",
              " 40889: 'pinoy',\n",
              " 40890: 'conchatta',\n",
              " 41128: 'broeke',\n",
              " 40891: 'advisedly',\n",
              " 17636: \"barker's\",\n",
              " 52166: 'descours',\n",
              " 772: 'lots',\n",
              " 9259: 'lotr',\n",
              " 9879: 'irs',\n",
              " 52167: 'lott',\n",
              " 40892: 'xvi',\n",
              " 34728: 'irk',\n",
              " 52168: 'irl',\n",
              " 6887: 'ira',\n",
              " 21913: 'belzer',\n",
              " 52169: 'irc',\n",
              " 27645: 'ire',\n",
              " 40893: 'requisites',\n",
              " 7693: 'discipline',\n",
              " 52961: 'lyoko',\n",
              " 11310: 'extend',\n",
              " 873: 'nature',\n",
              " 52170: \"'dickie'\",\n",
              " 40894: 'optimist',\n",
              " 30586: 'lapping',\n",
              " 3900: 'superficial',\n",
              " 52171: 'vestment',\n",
              " 2823: 'extent',\n",
              " 52172: 'tendons',\n",
              " 52173: \"heller's\",\n",
              " 52174: 'quagmires',\n",
              " 52175: 'miyako',\n",
              " 20601: 'moocow',\n",
              " 52176: \"coles'\",\n",
              " 40895: 'lookit',\n",
              " 52177: 'ravenously',\n",
              " 40896: 'levitating',\n",
              " 52178: 'perfunctorily',\n",
              " 30587: 'lookin',\n",
              " 40898: \"lot'\",\n",
              " 52179: 'lookie',\n",
              " 34870: 'fearlessly',\n",
              " 52181: 'libyan',\n",
              " 40899: 'fondles',\n",
              " 35714: 'gopher',\n",
              " 40901: 'wearying',\n",
              " 52182: \"nz's\",\n",
              " 27646: 'minuses',\n",
              " 52183: 'puposelessly',\n",
              " 52184: 'shandling',\n",
              " 31268: 'decapitates',\n",
              " 11929: 'humming',\n",
              " 40902: \"'nother\",\n",
              " 21914: 'smackdown',\n",
              " 30588: 'underdone',\n",
              " 40903: 'frf',\n",
              " 52185: 'triviality',\n",
              " 25248: 'fro',\n",
              " 8777: 'bothers',\n",
              " 52186: \"'kensington\",\n",
              " 73: 'much',\n",
              " 34730: 'muco',\n",
              " 22615: 'wiseguy',\n",
              " 27648: \"richie's\",\n",
              " 40904: 'tonino',\n",
              " 52187: 'unleavened',\n",
              " 11587: 'fry',\n",
              " 40905: \"'tv'\",\n",
              " 40906: 'toning',\n",
              " 14361: 'obese',\n",
              " 30589: 'sensationalized',\n",
              " 40907: 'spiv',\n",
              " 6259: 'spit',\n",
              " 7364: 'arkin',\n",
              " 21915: 'charleton',\n",
              " 16823: 'jeon',\n",
              " 21916: 'boardroom',\n",
              " 4989: 'doubts',\n",
              " 3084: 'spin',\n",
              " 53083: 'hepo',\n",
              " 27649: 'wildcat',\n",
              " 10584: 'venoms',\n",
              " 52191: 'misconstrues',\n",
              " 18514: 'mesmerising',\n",
              " 40908: 'misconstrued',\n",
              " 52192: 'rescinds',\n",
              " 52193: 'prostrate',\n",
              " 40909: 'majid',\n",
              " 16479: 'climbed',\n",
              " 34731: 'canoeing',\n",
              " 52195: 'majin',\n",
              " 57804: 'animie',\n",
              " 40910: 'sylke',\n",
              " 14899: 'conditioned',\n",
              " 40911: 'waddell',\n",
              " 52196: '3\\x85',\n",
              " 41188: 'hyperdrive',\n",
              " 34732: 'conditioner',\n",
              " 53153: 'bricklayer',\n",
              " 2576: 'hong',\n",
              " 52198: 'memoriam',\n",
              " 30592: 'inventively',\n",
              " 25249: \"levant's\",\n",
              " 20638: 'portobello',\n",
              " 52200: 'remand',\n",
              " 19504: 'mummified',\n",
              " 27650: 'honk',\n",
              " 19505: 'spews',\n",
              " 40912: 'visitations',\n",
              " 52201: 'mummifies',\n",
              " 25250: 'cavanaugh',\n",
              " 23385: 'zeon',\n",
              " 40913: \"jungle's\",\n",
              " 34733: 'viertel',\n",
              " 27651: 'frenchmen',\n",
              " 52202: 'torpedoes',\n",
              " 52203: 'schlessinger',\n",
              " 34734: 'torpedoed',\n",
              " 69876: 'blister',\n",
              " 52204: 'cinefest',\n",
              " 34735: 'furlough',\n",
              " 52205: 'mainsequence',\n",
              " 40914: 'mentors',\n",
              " 9094: 'academic',\n",
              " 20602: 'stillness',\n",
              " 40915: 'academia',\n",
              " 52206: 'lonelier',\n",
              " 52207: 'nibby',\n",
              " 52208: \"losers'\",\n",
              " 40916: 'cineastes',\n",
              " 4449: 'corporate',\n",
              " 40917: 'massaging',\n",
              " 30593: 'bellow',\n",
              " 19506: 'absurdities',\n",
              " 53241: 'expetations',\n",
              " 40918: 'nyfiken',\n",
              " 75638: 'mehras',\n",
              " 52209: 'lasse',\n",
              " 52210: 'visability',\n",
              " 33946: 'militarily',\n",
              " 52211: \"elder'\",\n",
              " 19023: 'gainsbourg',\n",
              " 20603: 'hah',\n",
              " 13420: 'hai',\n",
              " 34736: 'haj',\n",
              " 25251: 'hak',\n",
              " 4311: 'hal',\n",
              " 4892: 'ham',\n",
              " 53259: 'duffer',\n",
              " 52213: 'haa',\n",
              " 66: 'had',\n",
              " 11930: 'advancement',\n",
              " 16825: 'hag',\n",
              " 25252: \"hand'\",\n",
              " 13421: 'hay',\n",
              " 20604: 'mcnamara',\n",
              " 52214: \"mozart's\",\n",
              " 30731: 'duffel',\n",
              " 30594: 'haq',\n",
              " 13887: 'har',\n",
              " 44: 'has',\n",
              " 2401: 'hat',\n",
              " 40919: 'hav',\n",
              " 30595: 'haw',\n",
              " 52215: 'figtings',\n",
              " 15495: 'elders',\n",
              " 52216: 'underpanted',\n",
              " 52217: 'pninson',\n",
              " 27652: 'unequivocally',\n",
              " 23673: \"barbara's\",\n",
              " 52219: \"bello'\",\n",
              " 12997: 'indicative',\n",
              " 40920: 'yawnfest',\n",
              " 52220: 'hexploitation',\n",
              " 52221: \"loder's\",\n",
              " 27653: 'sleuthing',\n",
              " 32622: \"justin's\",\n",
              " 52222: \"'ball\",\n",
              " 52223: \"'summer\",\n",
              " 34935: \"'demons'\",\n",
              " 52225: \"mormon's\",\n",
              " 34737: \"laughton's\",\n",
              " 52226: 'debell',\n",
              " 39724: 'shipyard',\n",
              " 30597: 'unabashedly',\n",
              " 40401: 'disks',\n",
              " 2290: 'crowd',\n",
              " 10087: 'crowe',\n",
              " 56434: \"vancouver's\",\n",
              " 34738: 'mosques',\n",
              " 6627: 'crown',\n",
              " 52227: 'culpas',\n",
              " 27654: 'crows',\n",
              " 53344: 'surrell',\n",
              " 52229: 'flowless',\n",
              " 52230: 'sheirk',\n",
              " 40923: \"'three\",\n",
              " 52231: \"peterson'\",\n",
              " 52232: 'ooverall',\n",
              " 40924: 'perchance',\n",
              " 1321: 'bottom',\n",
              " 53363: 'chabert',\n",
              " 52233: 'sneha',\n",
              " 13888: 'inhuman',\n",
              " 52234: 'ichii',\n",
              " 52235: 'ursla',\n",
              " 30598: 'completly',\n",
              " 40925: 'moviedom',\n",
              " 52236: 'raddick',\n",
              " 51995: 'brundage',\n",
              " 40926: 'brigades',\n",
              " 1181: 'starring',\n",
              " 52237: \"'goal'\",\n",
              " 52238: 'caskets',\n",
              " 52239: 'willcock',\n",
              " 52240: \"threesome's\",\n",
              " 52241: \"mosque'\",\n",
              " 52242: \"cover's\",\n",
              " 17637: 'spaceships',\n",
              " 40927: 'anomalous',\n",
              " 27655: 'ptsd',\n",
              " 52243: 'shirdan',\n",
              " 21962: 'obscenity',\n",
              " 30599: 'lemmings',\n",
              " 30600: 'duccio',\n",
              " 52244: \"levene's\",\n",
              " 52245: \"'gorby'\",\n",
              " 25255: \"teenager's\",\n",
              " 5340: 'marshall',\n",
              " 9095: 'honeymoon',\n",
              " 3231: 'shoots',\n",
              " 12258: 'despised',\n",
              " 52246: 'okabasho',\n",
              " 8289: 'fabric',\n",
              " 18515: 'cannavale',\n",
              " 3537: 'raped',\n",
              " 52247: \"tutt's\",\n",
              " 17638: 'grasping',\n",
              " 18516: 'despises',\n",
              " 40928: \"thief's\",\n",
              " 8926: 'rapes',\n",
              " 52248: 'raper',\n",
              " 27656: \"eyre'\",\n",
              " 52249: 'walchek',\n",
              " 23386: \"elmo's\",\n",
              " 40929: 'perfumes',\n",
              " 21918: 'spurting',\n",
              " 52250: \"exposition'\\x85\",\n",
              " 52251: 'denoting',\n",
              " 34740: 'thesaurus',\n",
              " 40930: \"shoot'\",\n",
              " 49759: 'bonejack',\n",
              " 52253: 'simpsonian',\n",
              " 30601: 'hebetude',\n",
              " 34741: \"hallow's\",\n",
              " 52254: 'desperation\\x85',\n",
              " 34742: 'incinerator',\n",
              " 10308: 'congratulations',\n",
              " 52255: 'humbled',\n",
              " 5924: \"else's\",\n",
              " 40845: 'trelkovski',\n",
              " 52256: \"rape'\",\n",
              " 59386: \"'chapters'\",\n",
              " 52257: '1600s',\n",
              " 7253: 'martian',\n",
              " 25256: 'nicest',\n",
              " 52259: 'eyred',\n",
              " 9457: 'passenger',\n",
              " 6041: 'disgrace',\n",
              " 52260: 'moderne',\n",
              " 5120: 'barrymore',\n",
              " 52261: 'yankovich',\n",
              " 40931: 'moderns',\n",
              " 52262: 'studliest',\n",
              " 52263: 'bedsheet',\n",
              " 14900: 'decapitation',\n",
              " 52264: 'slurring',\n",
              " 52265: \"'nunsploitation'\",\n",
              " 34743: \"'character'\",\n",
              " 9880: 'cambodia',\n",
              " 52266: 'rebelious',\n",
              " 27657: 'pasadena',\n",
              " 40932: 'crowne',\n",
              " 52267: \"'bedchamber\",\n",
              " 52268: 'conjectural',\n",
              " 52269: 'appologize',\n",
              " 52270: 'halfassing',\n",
              " 57816: 'paycheque',\n",
              " 20606: 'palms',\n",
              " 52271: \"'islands\",\n",
              " 40933: 'hawked',\n",
              " 21919: 'palme',\n",
              " 40934: 'conservatively',\n",
              " 64007: 'larp',\n",
              " 5558: 'palma',\n",
              " 21920: 'smelling',\n",
              " 12998: 'aragorn',\n",
              " 52272: 'hawker',\n",
              " 52273: 'hawkes',\n",
              " 3975: 'explosions',\n",
              " 8059: 'loren',\n",
              " 52274: \"pyle's\",\n",
              " 6704: 'shootout',\n",
              " 18517: \"mike's\",\n",
              " 52275: \"driscoll's\",\n",
              " 40935: 'cogsworth',\n",
              " 52276: \"britian's\",\n",
              " 34744: 'childs',\n",
              " 52277: \"portrait's\",\n",
              " 3626: 'chain',\n",
              " 2497: 'whoever',\n",
              " 52278: 'puttered',\n",
              " 52279: 'childe',\n",
              " 52280: 'maywether',\n",
              " 3036: 'chair',\n",
              " 52281: \"rance's\",\n",
              " 34745: 'machu',\n",
              " 4517: 'ballet',\n",
              " 34746: 'grapples',\n",
              " 76152: 'summerize',\n",
              " 30603: 'freelance',\n",
              " 52283: \"andrea's\",\n",
              " 52284: '\\x91very',\n",
              " 45879: 'coolidge',\n",
              " 18518: 'mache',\n",
              " 52285: 'balled',\n",
              " 40937: 'grappled',\n",
              " 18519: 'macha',\n",
              " 21921: 'underlining',\n",
              " 5623: 'macho',\n",
              " 19507: 'oversight',\n",
              " 25257: 'machi',\n",
              " 11311: 'verbally',\n",
              " 21922: 'tenacious',\n",
              " 40938: 'windshields',\n",
              " 18557: 'paychecks',\n",
              " 3396: 'jerk',\n",
              " 11931: \"good'\",\n",
              " 34748: 'prancer',\n",
              " 21923: 'prances',\n",
              " 52286: 'olympus',\n",
              " 21924: 'lark',\n",
              " 10785: 'embark',\n",
              " 7365: 'gloomy',\n",
              " 52287: 'jehaan',\n",
              " 52288: 'turaqui',\n",
              " 20607: \"child'\",\n",
              " 2894: 'locked',\n",
              " 52289: 'pranced',\n",
              " 2588: 'exact',\n",
              " 52290: 'unattuned',\n",
              " 783: 'minute',\n",
              " 16118: 'skewed',\n",
              " 40940: 'hodgins',\n",
              " 34749: 'skewer',\n",
              " 52291: 'think\\x85',\n",
              " 38765: 'rosenstein',\n",
              " 52292: 'helmit',\n",
              " 34750: 'wrestlemanias',\n",
              " 16826: 'hindered',\n",
              " 30604: \"martha's\",\n",
              " 52293: 'cheree',\n",
              " 52294: \"pluckin'\",\n",
              " 40941: 'ogles',\n",
              " 11932: 'heavyweight',\n",
              " 82190: 'aada',\n",
              " 11312: 'chopping',\n",
              " 61534: 'strongboy',\n",
              " 41342: 'hegemonic',\n",
              " 40942: 'adorns',\n",
              " 41346: 'xxth',\n",
              " 34751: 'nobuhiro',\n",
              " 52298: 'capitães',\n",
              " 52299: 'kavogianni',\n",
              " 13422: 'antwerp',\n",
              " 6538: 'celebrated',\n",
              " 52300: 'roarke',\n",
              " 40943: 'baggins',\n",
              " 31270: 'cheeseburgers',\n",
              " 52301: 'matras',\n",
              " 52302: \"nineties'\",\n",
              " 52303: \"'craig'\",\n",
              " 12999: 'celebrates',\n",
              " 3383: 'unintentionally',\n",
              " 14362: 'drafted',\n",
              " 52304: 'climby',\n",
              " 52305: '303',\n",
              " 18520: 'oldies',\n",
              " 9096: 'climbs',\n",
              " 9655: 'honour',\n",
              " 34752: 'plucking',\n",
              " 30074: '305',\n",
              " 5514: 'address',\n",
              " 40944: 'menjou',\n",
              " 42592: \"'freak'\",\n",
              " 19508: 'dwindling',\n",
              " 9458: 'benson',\n",
              " 52307: 'white’s',\n",
              " 40945: 'shamelessness',\n",
              " 21925: 'impacted',\n",
              " 52308: 'upatz',\n",
              " 3840: 'cusack',\n",
              " 37567: \"flavia's\",\n",
              " 52309: 'effette',\n",
              " 34753: 'influx',\n",
              " 52310: 'boooooooo',\n",
              " 52311: 'dimitrova',\n",
              " 13423: 'houseman',\n",
              " 25259: 'bigas',\n",
              " 52312: 'boylen',\n",
              " 52313: 'phillipenes',\n",
              " 40946: 'fakery',\n",
              " 27658: \"grandpa's\",\n",
              " 27659: 'darnell',\n",
              " 19509: 'undergone',\n",
              " 52315: 'handbags',\n",
              " 21926: 'perished',\n",
              " 37778: 'pooped',\n",
              " 27660: 'vigour',\n",
              " 3627: 'opposed',\n",
              " 52316: 'etude',\n",
              " 11799: \"caine's\",\n",
              " 52317: 'doozers',\n",
              " 34754: 'photojournals',\n",
              " 52318: 'perishes',\n",
              " 34755: 'constrains',\n",
              " 40948: 'migenes',\n",
              " 30605: 'consoled',\n",
              " 16827: 'alastair',\n",
              " 52319: 'wvs',\n",
              " 52320: 'ooooooh',\n",
              " 34756: 'approving',\n",
              " 40949: 'consoles',\n",
              " 52064: 'disparagement',\n",
              " 52322: 'futureistic',\n",
              " 52323: 'rebounding',\n",
              " 52324: \"'date\",\n",
              " 52325: 'gregoire',\n",
              " 21927: 'rutherford',\n",
              " 34757: 'americanised',\n",
              " 82196: 'novikov',\n",
              " 1042: 'following',\n",
              " 34758: 'munroe',\n",
              " 52326: \"morita'\",\n",
              " 52327: 'christenssen',\n",
              " 23106: 'oatmeal',\n",
              " 25260: 'fossey',\n",
              " 40950: 'livered',\n",
              " 13000: 'listens',\n",
              " 76164: \"'marci\",\n",
              " 52330: \"otis's\",\n",
              " 23387: 'thanking',\n",
              " 16019: 'maude',\n",
              " 34759: 'extensions',\n",
              " 52332: 'ameteurish',\n",
              " 52333: \"commender's\",\n",
              " 27661: 'agricultural',\n",
              " 4518: 'convincingly',\n",
              " 17639: 'fueled',\n",
              " 54014: 'mahattan',\n",
              " 40952: \"paris's\",\n",
              " 52336: 'vulkan',\n",
              " 52337: 'stapes',\n",
              " 52338: 'odysessy',\n",
              " 12259: 'harmon',\n",
              " 4252: 'surfing',\n",
              " 23494: 'halloran',\n",
              " 49580: 'unbelieveably',\n",
              " 52339: \"'offed'\",\n",
              " 30607: 'quadrant',\n",
              " 19510: 'inhabiting',\n",
              " 34760: 'nebbish',\n",
              " 40953: 'forebears',\n",
              " 34761: 'skirmish',\n",
              " 52340: 'ocassionally',\n",
              " 52341: \"'resist\",\n",
              " 21928: 'impactful',\n",
              " 52342: 'spicier',\n",
              " 40954: 'touristy',\n",
              " 52343: \"'football'\",\n",
              " 40955: 'webpage',\n",
              " 52345: 'exurbia',\n",
              " 52346: 'jucier',\n",
              " 14901: 'professors',\n",
              " 34762: 'structuring',\n",
              " 30608: 'jig',\n",
              " 40956: 'overlord',\n",
              " 25261: 'disconnect',\n",
              " 82201: 'sniffle',\n",
              " 40957: 'slimeball',\n",
              " 40958: 'jia',\n",
              " 16828: 'milked',\n",
              " 40959: 'banjoes',\n",
              " 1237: 'jim',\n",
              " 52348: 'workforces',\n",
              " 52349: 'jip',\n",
              " 52350: 'rotweiller',\n",
              " 34763: 'mundaneness',\n",
              " 52351: \"'ninja'\",\n",
              " 11040: \"dead'\",\n",
              " 40960: \"cipriani's\",\n",
              " 20608: 'modestly',\n",
              " 52352: \"professor'\",\n",
              " 40961: 'shacked',\n",
              " 34764: 'bashful',\n",
              " 23388: 'sorter',\n",
              " 16120: 'overpowering',\n",
              " 18521: 'workmanlike',\n",
              " 27662: 'henpecked',\n",
              " 18522: 'sorted',\n",
              " 52354: \"jōb's\",\n",
              " 52355: \"'always\",\n",
              " 34765: \"'baptists\",\n",
              " 52356: 'dreamcatchers',\n",
              " 52357: \"'silence'\",\n",
              " 21929: 'hickory',\n",
              " 52358: 'fun\\x97yet',\n",
              " 52359: 'breakumentary',\n",
              " 15496: 'didn',\n",
              " 52360: 'didi',\n",
              " 52361: 'pealing',\n",
              " 40962: 'dispite',\n",
              " 25262: \"italy's\",\n",
              " 21930: 'instability',\n",
              " 6539: 'quarter',\n",
              " 12608: 'quartet',\n",
              " 52362: 'padmé',\n",
              " 52363: \"'bleedmedry\",\n",
              " 52364: 'pahalniuk',\n",
              " 52365: 'honduras',\n",
              " 10786: 'bursting',\n",
              " 41465: \"pablo's\",\n",
              " 52367: 'irremediably',\n",
              " 40963: 'presages',\n",
              " 57832: 'bowlegged',\n",
              " 65183: 'dalip',\n",
              " 6260: 'entering',\n",
              " 76172: 'newsradio',\n",
              " 54150: 'presaged',\n",
              " 27663: \"giallo's\",\n",
              " 40964: 'bouyant',\n",
              " 52368: 'amerterish',\n",
              " 18523: 'rajni',\n",
              " 30610: 'leeves',\n",
              " 34767: 'macauley',\n",
              " 612: 'seriously',\n",
              " 52369: 'sugercoma',\n",
              " 52370: 'grimstead',\n",
              " 52371: \"'fairy'\",\n",
              " 30611: 'zenda',\n",
              " 52372: \"'twins'\",\n",
              " 17640: 'realisation',\n",
              " 27664: 'highsmith',\n",
              " 7817: 'raunchy',\n",
              " 40965: 'incentives',\n",
              " 52374: 'flatson',\n",
              " 35097: 'snooker',\n",
              " 16829: 'crazies',\n",
              " 14902: 'crazier',\n",
              " 7094: 'grandma',\n",
              " 52375: 'napunsaktha',\n",
              " 30612: 'workmanship',\n",
              " 52376: 'reisner',\n",
              " 61306: \"sanford's\",\n",
              " 52377: '\\x91doña',\n",
              " 6108: 'modest',\n",
              " 19153: \"everything's\",\n",
              " 40966: 'hamer',\n",
              " 52379: \"couldn't'\",\n",
              " 13001: 'quibble',\n",
              " 52380: 'socking',\n",
              " 21931: 'tingler',\n",
              " 52381: 'gutman',\n",
              " 40967: 'lachlan',\n",
              " 52382: 'tableaus',\n",
              " 52383: 'headbanger',\n",
              " 2847: 'spoken',\n",
              " 34768: 'cerebrally',\n",
              " 23490: \"'road\",\n",
              " 21932: 'tableaux',\n",
              " 40968: \"proust's\",\n",
              " 40969: 'periodical',\n",
              " 52385: \"shoveller's\",\n",
              " 25263: 'tamara',\n",
              " 17641: 'affords',\n",
              " 3249: 'concert',\n",
              " 87955: \"yara's\",\n",
              " 52386: 'someome',\n",
              " 8424: 'lingering',\n",
              " 41511: \"abraham's\",\n",
              " 34769: 'beesley',\n",
              " 34770: 'cherbourg',\n",
              " 28624: 'kagan',\n",
              " 9097: 'snatch',\n",
              " 9260: \"miyazaki's\",\n",
              " 25264: 'absorbs',\n",
              " 40970: \"koltai's\",\n",
              " 64027: 'tingled',\n",
              " 19511: 'crossroads',\n",
              " 16121: 'rehab',\n",
              " 52389: 'falworth',\n",
              " 52390: 'sequals',\n",
              " ...}"
            ]
          },
          "metadata": {
            "tags": []
          },
          "execution_count": 57
        }
      ]
    },
    {
      "cell_type": "code",
      "metadata": {
        "colab": {
          "base_uri": "https://localhost:8080/"
        },
        "id": "SOsFcArI_2y8",
        "outputId": "7b68abac-833f-416f-dc88-d24a38a477c6"
      },
      "source": [
        "print(x_train_full[0])"
      ],
      "execution_count": 58,
      "outputs": [
        {
          "output_type": "stream",
          "text": [
            "[1, 14, 22, 16, 43, 2, 2, 2, 2, 65, 458, 2, 66, 2, 4, 173, 36, 256, 5, 25, 100, 43, 2, 112, 50, 2, 2, 9, 35, 480, 284, 5, 150, 4, 172, 112, 167, 2, 336, 385, 39, 4, 172, 2, 2, 17, 2, 38, 13, 447, 4, 192, 50, 16, 6, 147, 2, 19, 14, 22, 4, 2, 2, 469, 4, 22, 71, 87, 12, 16, 43, 2, 38, 76, 15, 13, 2, 4, 22, 17, 2, 17, 12, 16, 2, 18, 2, 5, 62, 386, 12, 8, 316, 8, 106, 5, 4, 2, 2, 16, 480, 66, 2, 33, 4, 130, 12, 16, 38, 2, 5, 25, 124, 51, 36, 135, 48, 25, 2, 33, 6, 22, 12, 215, 28, 77, 52, 5, 14, 407, 16, 82, 2, 8, 4, 107, 117, 2, 15, 256, 4, 2, 7, 2, 5, 2, 36, 71, 43, 2, 476, 26, 400, 317, 46, 7, 4, 2, 2, 13, 104, 88, 4, 381, 15, 297, 98, 32, 2, 56, 26, 141, 6, 194, 2, 18, 4, 226, 22, 21, 134, 476, 26, 480, 5, 144, 30, 2, 18, 51, 36, 28, 224, 92, 25, 104, 4, 226, 65, 16, 38, 2, 88, 12, 16, 283, 5, 16, 2, 113, 103, 32, 15, 16, 2, 19, 178, 32]\n"
          ],
          "name": "stdout"
        }
      ]
    },
    {
      "cell_type": "code",
      "metadata": {
        "colab": {
          "base_uri": "https://localhost:8080/"
        },
        "id": "Jh8yeY6A__A3",
        "outputId": "9fcc2e5c-730e-42ea-ecd0-e5f4827756db"
      },
      "source": [
        "for x in x_train_full[0]:\n",
        "    if x == 2:\n",
        "        print('?', end=' ')\n",
        "    elif x > 2:\n",
        "        print(index_word[x-3], end=' ')"
      ],
      "execution_count": 59,
      "outputs": [
        {
          "output_type": "stream",
          "text": [
            "this film was just ? ? ? ? story direction ? really ? the part they played and you could just ? being there ? ? is an amazing actor and now the same being director ? father came from the same ? ? as ? so i loved the fact there was a real ? with this film the ? ? throughout the film were great it was just ? so much that i ? the film as ? as it was ? for ? and would recommend it to everyone to watch and the ? ? was amazing really ? at the end it was so ? and you know what they say if you ? at a film it must have been good and this definitely was also ? to the two little ? that played the ? of ? and ? they were just ? children are often left out of the ? ? i think because the stars that play them all ? up are such a big ? for the whole film but these children are amazing and should be ? for what they have done don't you think the whole story was so ? because it was true and was ? life after all that was ? with us all "
          ],
          "name": "stdout"
        }
      ]
    },
    {
      "cell_type": "markdown",
      "metadata": {
        "id": "MI3nkphwCTdq"
      },
      "source": [
        "\n",
        "\n",
        "---\n",
        "\n"
      ]
    },
    {
      "cell_type": "markdown",
      "metadata": {
        "id": "xe0zITvoDeAl"
      },
      "source": [
        "# RNN 생성, 훈련"
      ]
    },
    {
      "cell_type": "markdown",
      "metadata": {
        "id": "4umJWyfAIURW"
      },
      "source": [
        "## 모델 생성"
      ]
    },
    {
      "cell_type": "code",
      "metadata": {
        "id": "QounW1bgCUpV"
      },
      "source": [
        "model = keras.Sequential()"
      ],
      "execution_count": 60,
      "outputs": []
    },
    {
      "cell_type": "code",
      "metadata": {
        "id": "gqS05-hEF0pG"
      },
      "source": [
        "# 순환 층(recurrent layer): activation='tanh' - 기본값\n",
        "model.add(keras.layers.SimpleRNN(units=8, input_shape=(100, 500)))\n",
        "# 출력 층(output layer)\n",
        "model.add(keras.layers.Dense(units=1, activation='sigmoid'))"
      ],
      "execution_count": 61,
      "outputs": []
    },
    {
      "cell_type": "code",
      "metadata": {
        "colab": {
          "base_uri": "https://localhost:8080/"
        },
        "id": "fRMYJXF5G7Zw",
        "outputId": "eab97ea7-bc6b-48b6-bb7a-74006050cad3"
      },
      "source": [
        "model.summary()"
      ],
      "execution_count": 62,
      "outputs": [
        {
          "output_type": "stream",
          "text": [
            "Model: \"sequential\"\n",
            "_________________________________________________________________\n",
            "Layer (type)                 Output Shape              Param #   \n",
            "=================================================================\n",
            "simple_rnn (SimpleRNN)       (None, 8)                 4072      \n",
            "_________________________________________________________________\n",
            "dense (Dense)                (None, 1)                 9         \n",
            "=================================================================\n",
            "Total params: 4,081\n",
            "Trainable params: 4,081\n",
            "Non-trainable params: 0\n",
            "_________________________________________________________________\n"
          ],
          "name": "stdout"
        }
      ]
    },
    {
      "cell_type": "code",
      "metadata": {
        "colab": {
          "base_uri": "https://localhost:8080/",
          "height": 312
        },
        "id": "62FkH37YG9c-",
        "outputId": "d013b7d7-33f5-41ef-aad3-6d3a65151160"
      },
      "source": [
        "keras.utils.plot_model(model, show_shapes=True)"
      ],
      "execution_count": 63,
      "outputs": [
        {
          "output_type": "execute_result",
          "data": {
            "image/png": "[encoded data removed]",
            "text/plain": [
              "<IPython.core.display.Image object>"
            ]
          },
          "metadata": {
            "tags": []
          },
          "execution_count": 63
        }
      ]
    },
    {
      "cell_type": "markdown",
      "metadata": {
        "id": "tR8HS-pxIXFl"
      },
      "source": [
        "## 모델 컴파일"
      ]
    },
    {
      "cell_type": "code",
      "metadata": {
        "id": "j670zAdsIN8s"
      },
      "source": [
        "rmsprop = keras.optimizers.RMSprop(learning_rate=1e-4)"
      ],
      "execution_count": 64,
      "outputs": []
    },
    {
      "cell_type": "code",
      "metadata": {
        "id": "amxBGHo8IoR8"
      },
      "source": [
        "model.compile(optimizer=rmsprop, loss='binary_crossentropy', metrics='accuracy')"
      ],
      "execution_count": 65,
      "outputs": []
    },
    {
      "cell_type": "markdown",
      "metadata": {
        "id": "ILw536EyI1m0"
      },
      "source": [
        "## 모델 훈련"
      ]
    },
    {
      "cell_type": "code",
      "metadata": {
        "colab": {
          "base_uri": "https://localhost:8080/"
        },
        "id": "0OtD6at0I0qV",
        "outputId": "41f2efc4-e501-4784-9786-6ada969c1dbc"
      },
      "source": [
        "# 조기 종료 콜백\n",
        "early_stop_cb = keras.callbacks.EarlyStopping(patience=3, restore_best_weights=True)\n",
        "# 훈련 단계 저장 콜백\n",
        "checkpoint_cb = keras.callbacks.ModelCheckpoint('simplernn.h5', save_best_only=True)\n",
        "# 콜백을 적용해서 모델 훈련\n",
        "history = model.fit(x_train_1hot, y_train, batch_size=64, epochs=100,\n",
        "                    callbacks=[early_stop_cb, checkpoint_cb],\n",
        "                    validation_data=(x_val_1hot, y_val))"
      ],
      "execution_count": 66,
      "outputs": [
        {
          "output_type": "stream",
          "text": [
            "Epoch 1/100\n",
            "313/313 [==============================] - 27s 75ms/step - loss: 0.6980 - accuracy: 0.4946 - val_loss: 0.6942 - val_accuracy: 0.5064\n",
            "INFO:tensorflow:Assets written to: simplernn_h5/assets\n",
            "Epoch 2/100\n",
            "313/313 [==============================] - 23s 74ms/step - loss: 0.6939 - accuracy: 0.5047 - val_loss: 0.6928 - val_accuracy: 0.5132\n",
            "INFO:tensorflow:Assets written to: simplernn_h5/assets\n",
            "Epoch 3/100\n",
            "313/313 [==============================] - 24s 77ms/step - loss: 0.6921 - accuracy: 0.5166 - val_loss: 0.6918 - val_accuracy: 0.5222\n",
            "INFO:tensorflow:Assets written to: simplernn_h5/assets\n",
            "Epoch 4/100\n",
            "313/313 [==============================] - 24s 77ms/step - loss: 0.6910 - accuracy: 0.5196 - val_loss: 0.6909 - val_accuracy: 0.5286\n",
            "INFO:tensorflow:Assets written to: simplernn_h5/assets\n",
            "Epoch 5/100\n",
            "313/313 [==============================] - 23s 75ms/step - loss: 0.6889 - accuracy: 0.5408 - val_loss: 0.6901 - val_accuracy: 0.5322\n",
            "INFO:tensorflow:Assets written to: simplernn_h5/assets\n",
            "Epoch 6/100\n",
            "313/313 [==============================] - 23s 75ms/step - loss: 0.6880 - accuracy: 0.5417 - val_loss: 0.6893 - val_accuracy: 0.5340\n",
            "INFO:tensorflow:Assets written to: simplernn_h5/assets\n",
            "Epoch 7/100\n",
            "313/313 [==============================] - 23s 75ms/step - loss: 0.6866 - accuracy: 0.5567 - val_loss: 0.6887 - val_accuracy: 0.5360\n",
            "INFO:tensorflow:Assets written to: simplernn_h5/assets\n",
            "Epoch 8/100\n",
            "313/313 [==============================] - 23s 75ms/step - loss: 0.6852 - accuracy: 0.5613 - val_loss: 0.6881 - val_accuracy: 0.5400\n",
            "INFO:tensorflow:Assets written to: simplernn_h5/assets\n",
            "Epoch 9/100\n",
            "313/313 [==============================] - 23s 75ms/step - loss: 0.6830 - accuracy: 0.5698 - val_loss: 0.6875 - val_accuracy: 0.5384\n",
            "INFO:tensorflow:Assets written to: simplernn_h5/assets\n",
            "Epoch 10/100\n",
            "313/313 [==============================] - 24s 75ms/step - loss: 0.6815 - accuracy: 0.5750 - val_loss: 0.6870 - val_accuracy: 0.5422\n",
            "INFO:tensorflow:Assets written to: simplernn_h5/assets\n",
            "Epoch 11/100\n",
            "313/313 [==============================] - 23s 75ms/step - loss: 0.6814 - accuracy: 0.5732 - val_loss: 0.6866 - val_accuracy: 0.5442\n",
            "INFO:tensorflow:Assets written to: simplernn_h5/assets\n",
            "Epoch 12/100\n",
            "313/313 [==============================] - 23s 73ms/step - loss: 0.6794 - accuracy: 0.5735 - val_loss: 0.6860 - val_accuracy: 0.5432\n",
            "INFO:tensorflow:Assets written to: simplernn_h5/assets\n",
            "Epoch 13/100\n",
            "313/313 [==============================] - 23s 73ms/step - loss: 0.6769 - accuracy: 0.5835 - val_loss: 0.6854 - val_accuracy: 0.5460\n",
            "INFO:tensorflow:Assets written to: simplernn_h5/assets\n",
            "Epoch 14/100\n",
            "313/313 [==============================] - 23s 74ms/step - loss: 0.6751 - accuracy: 0.5894 - val_loss: 0.6849 - val_accuracy: 0.5456\n",
            "INFO:tensorflow:Assets written to: simplernn_h5/assets\n",
            "Epoch 15/100\n",
            "313/313 [==============================] - 23s 72ms/step - loss: 0.6732 - accuracy: 0.5930 - val_loss: 0.6840 - val_accuracy: 0.5480\n",
            "INFO:tensorflow:Assets written to: simplernn_h5/assets\n",
            "Epoch 16/100\n",
            "313/313 [==============================] - 23s 74ms/step - loss: 0.6732 - accuracy: 0.5907 - val_loss: 0.6831 - val_accuracy: 0.5480\n",
            "INFO:tensorflow:Assets written to: simplernn_h5/assets\n",
            "Epoch 17/100\n",
            "313/313 [==============================] - 23s 73ms/step - loss: 0.6705 - accuracy: 0.5948 - val_loss: 0.6820 - val_accuracy: 0.5530\n",
            "INFO:tensorflow:Assets written to: simplernn_h5/assets\n",
            "Epoch 18/100\n",
            "313/313 [==============================] - 23s 72ms/step - loss: 0.6662 - accuracy: 0.5993 - val_loss: 0.6772 - val_accuracy: 0.5684\n",
            "INFO:tensorflow:Assets written to: simplernn_h5/assets\n",
            "Epoch 19/100\n",
            "313/313 [==============================] - 23s 74ms/step - loss: 0.6593 - accuracy: 0.6223 - val_loss: 0.6623 - val_accuracy: 0.6110\n",
            "INFO:tensorflow:Assets written to: simplernn_h5/assets\n",
            "Epoch 20/100\n",
            "313/313 [==============================] - 23s 73ms/step - loss: 0.6429 - accuracy: 0.6568 - val_loss: 0.6450 - val_accuracy: 0.6430\n",
            "INFO:tensorflow:Assets written to: simplernn_h5/assets\n",
            "Epoch 21/100\n",
            "313/313 [==============================] - 23s 72ms/step - loss: 0.6256 - accuracy: 0.6800 - val_loss: 0.6242 - val_accuracy: 0.6730\n",
            "INFO:tensorflow:Assets written to: simplernn_h5/assets\n",
            "Epoch 22/100\n",
            "313/313 [==============================] - 23s 73ms/step - loss: 0.6031 - accuracy: 0.7007 - val_loss: 0.6029 - val_accuracy: 0.7002\n",
            "INFO:tensorflow:Assets written to: simplernn_h5/assets\n",
            "Epoch 23/100\n",
            "313/313 [==============================] - 23s 73ms/step - loss: 0.5818 - accuracy: 0.7241 - val_loss: 0.5796 - val_accuracy: 0.7230\n",
            "INFO:tensorflow:Assets written to: simplernn_h5/assets\n",
            "Epoch 24/100\n",
            "313/313 [==============================] - 23s 73ms/step - loss: 0.5610 - accuracy: 0.7388 - val_loss: 0.5607 - val_accuracy: 0.7386\n",
            "INFO:tensorflow:Assets written to: simplernn_h5/assets\n",
            "Epoch 25/100\n",
            "313/313 [==============================] - 23s 72ms/step - loss: 0.5366 - accuracy: 0.7616 - val_loss: 0.5465 - val_accuracy: 0.7472\n",
            "INFO:tensorflow:Assets written to: simplernn_h5/assets\n",
            "Epoch 26/100\n",
            "313/313 [==============================] - 23s 73ms/step - loss: 0.5245 - accuracy: 0.7670 - val_loss: 0.5340 - val_accuracy: 0.7554\n",
            "INFO:tensorflow:Assets written to: simplernn_h5/assets\n",
            "Epoch 27/100\n",
            "313/313 [==============================] - 23s 73ms/step - loss: 0.5127 - accuracy: 0.7721 - val_loss: 0.5204 - val_accuracy: 0.7630\n",
            "INFO:tensorflow:Assets written to: simplernn_h5/assets\n",
            "Epoch 28/100\n",
            "313/313 [==============================] - 23s 73ms/step - loss: 0.4976 - accuracy: 0.7783 - val_loss: 0.5111 - val_accuracy: 0.7644\n",
            "INFO:tensorflow:Assets written to: simplernn_h5/assets\n",
            "Epoch 29/100\n",
            "313/313 [==============================] - 23s 73ms/step - loss: 0.4855 - accuracy: 0.7889 - val_loss: 0.5051 - val_accuracy: 0.7646\n",
            "INFO:tensorflow:Assets written to: simplernn_h5/assets\n",
            "Epoch 30/100\n",
            "313/313 [==============================] - 23s 72ms/step - loss: 0.4767 - accuracy: 0.7918 - val_loss: 0.4946 - val_accuracy: 0.7758\n",
            "INFO:tensorflow:Assets written to: simplernn_h5/assets\n",
            "Epoch 31/100\n",
            "313/313 [==============================] - 23s 73ms/step - loss: 0.4665 - accuracy: 0.7958 - val_loss: 0.4869 - val_accuracy: 0.7792\n",
            "INFO:tensorflow:Assets written to: simplernn_h5/assets\n",
            "Epoch 32/100\n",
            "313/313 [==============================] - 23s 74ms/step - loss: 0.4650 - accuracy: 0.7955 - val_loss: 0.4823 - val_accuracy: 0.7794\n",
            "INFO:tensorflow:Assets written to: simplernn_h5/assets\n",
            "Epoch 33/100\n",
            "313/313 [==============================] - 23s 74ms/step - loss: 0.4580 - accuracy: 0.7979 - val_loss: 0.4775 - val_accuracy: 0.7776\n",
            "INFO:tensorflow:Assets written to: simplernn_h5/assets\n",
            "Epoch 34/100\n",
            "313/313 [==============================] - 23s 73ms/step - loss: 0.4478 - accuracy: 0.8067 - val_loss: 0.4726 - val_accuracy: 0.7802\n",
            "INFO:tensorflow:Assets written to: simplernn_h5/assets\n",
            "Epoch 35/100\n",
            "313/313 [==============================] - 23s 73ms/step - loss: 0.4392 - accuracy: 0.8102 - val_loss: 0.4697 - val_accuracy: 0.7828\n",
            "INFO:tensorflow:Assets written to: simplernn_h5/assets\n",
            "Epoch 36/100\n",
            "313/313 [==============================] - 23s 72ms/step - loss: 0.4338 - accuracy: 0.8094 - val_loss: 0.4681 - val_accuracy: 0.7822\n",
            "INFO:tensorflow:Assets written to: simplernn_h5/assets\n",
            "Epoch 37/100\n",
            "313/313 [==============================] - 23s 73ms/step - loss: 0.4337 - accuracy: 0.8106 - val_loss: 0.4658 - val_accuracy: 0.7830\n",
            "INFO:tensorflow:Assets written to: simplernn_h5/assets\n",
            "Epoch 38/100\n",
            "313/313 [==============================] - 23s 74ms/step - loss: 0.4293 - accuracy: 0.8077 - val_loss: 0.4626 - val_accuracy: 0.7858\n",
            "INFO:tensorflow:Assets written to: simplernn_h5/assets\n",
            "Epoch 39/100\n",
            "313/313 [==============================] - 23s 74ms/step - loss: 0.4165 - accuracy: 0.8189 - val_loss: 0.4665 - val_accuracy: 0.7848\n",
            "Epoch 40/100\n",
            "313/313 [==============================] - 23s 74ms/step - loss: 0.4195 - accuracy: 0.8164 - val_loss: 0.4609 - val_accuracy: 0.7862\n",
            "INFO:tensorflow:Assets written to: simplernn_h5/assets\n",
            "Epoch 41/100\n",
            "313/313 [==============================] - 23s 74ms/step - loss: 0.4143 - accuracy: 0.8184 - val_loss: 0.4652 - val_accuracy: 0.7836\n",
            "Epoch 42/100\n",
            "313/313 [==============================] - 22s 72ms/step - loss: 0.4082 - accuracy: 0.8210 - val_loss: 0.4595 - val_accuracy: 0.7888\n",
            "INFO:tensorflow:Assets written to: simplernn_h5/assets\n",
            "Epoch 43/100\n",
            "313/313 [==============================] - 24s 75ms/step - loss: 0.4076 - accuracy: 0.8218 - val_loss: 0.4603 - val_accuracy: 0.7866\n",
            "Epoch 44/100\n",
            "313/313 [==============================] - 23s 73ms/step - loss: 0.4065 - accuracy: 0.8222 - val_loss: 0.4636 - val_accuracy: 0.7806\n",
            "Epoch 45/100\n",
            "313/313 [==============================] - 23s 74ms/step - loss: 0.4106 - accuracy: 0.8189 - val_loss: 0.4633 - val_accuracy: 0.7876\n"
          ],
          "name": "stdout"
        }
      ]
    },
    {
      "cell_type": "code",
      "metadata": {
        "id": "KsZNEb7kJ5OW"
      },
      "source": [
        "hist = pd.DataFrame(history.history)"
      ],
      "execution_count": 68,
      "outputs": []
    },
    {
      "cell_type": "code",
      "metadata": {
        "colab": {
          "base_uri": "https://localhost:8080/",
          "height": 214
        },
        "id": "jB7C1QQbkitb",
        "outputId": "e850482e-7b1c-4a10-d1e5-cd1d35d9a6ff"
      },
      "source": [
        "hist.tail()"
      ],
      "execution_count": 70,
      "outputs": [
        {
          "output_type": "execute_result",
          "data": {
            "text/html": [
              "<div>\n",
              "<style scoped>\n",
              "    .dataframe tbody tr th:only-of-type {\n",
              "        vertical-align: middle;\n",
              "    }\n",
              "\n",
              "    .dataframe tbody tr th {\n",
              "        vertical-align: top;\n",
              "    }\n",
              "\n",
              "    .dataframe thead th {\n",
              "        text-align: right;\n",
              "    }\n",
              "</style>\n",
              "<table border=\"1\" class=\"dataframe\">\n",
              "  <thead>\n",
              "    <tr style=\"text-align: right;\">\n",
              "      <th></th>\n",
              "      <th>loss</th>\n",
              "      <th>accuracy</th>\n",
              "      <th>val_loss</th>\n",
              "      <th>val_accuracy</th>\n",
              "    </tr>\n",
              "  </thead>\n",
              "  <tbody>\n",
              "    <tr>\n",
              "      <th>40</th>\n",
              "      <td>0.416093</td>\n",
              "      <td>0.81785</td>\n",
              "      <td>0.465205</td>\n",
              "      <td>0.7836</td>\n",
              "    </tr>\n",
              "    <tr>\n",
              "      <th>41</th>\n",
              "      <td>0.412788</td>\n",
              "      <td>0.81995</td>\n",
              "      <td>0.459524</td>\n",
              "      <td>0.7888</td>\n",
              "    </tr>\n",
              "    <tr>\n",
              "      <th>42</th>\n",
              "      <td>0.411302</td>\n",
              "      <td>0.81905</td>\n",
              "      <td>0.460252</td>\n",
              "      <td>0.7866</td>\n",
              "    </tr>\n",
              "    <tr>\n",
              "      <th>43</th>\n",
              "      <td>0.408578</td>\n",
              "      <td>0.82035</td>\n",
              "      <td>0.463640</td>\n",
              "      <td>0.7806</td>\n",
              "    </tr>\n",
              "    <tr>\n",
              "      <th>44</th>\n",
              "      <td>0.406386</td>\n",
              "      <td>0.82215</td>\n",
              "      <td>0.463316</td>\n",
              "      <td>0.7876</td>\n",
              "    </tr>\n",
              "  </tbody>\n",
              "</table>\n",
              "</div>"
            ],
            "text/plain": [
              "        loss  accuracy  val_loss  val_accuracy\n",
              "40  0.416093   0.81785  0.465205        0.7836\n",
              "41  0.412788   0.81995  0.459524        0.7888\n",
              "42  0.411302   0.81905  0.460252        0.7866\n",
              "43  0.408578   0.82035  0.463640        0.7806\n",
              "44  0.406386   0.82215  0.463316        0.7876"
            ]
          },
          "metadata": {
            "tags": []
          },
          "execution_count": 70
        }
      ]
    },
    {
      "cell_type": "code",
      "metadata": {
        "colab": {
          "base_uri": "https://localhost:8080/",
          "height": 265
        },
        "id": "izzz0KUDkjUp",
        "outputId": "62ab9555-cfe5-437d-cfa0-e6efc56b5598"
      },
      "source": [
        "# 손실 곡선\n",
        "hist[['loss', 'val_loss']].plot()\n",
        "plt.grid()\n",
        "plt.show()"
      ],
      "execution_count": 76,
      "outputs": [
        {
          "output_type": "display_data",
          "data": {
            "image/png": "[encoded data removed]",
            "text/plain": [
              "<Figure size 432x288 with 1 Axes>"
            ]
          },
          "metadata": {
            "tags": [],
            "needs_background": "light"
          }
        }
      ]
    },
    {
      "cell_type": "code",
      "metadata": {
        "colab": {
          "base_uri": "https://localhost:8080/",
          "height": 265
        },
        "id": "cl9-sQpwkxOp",
        "outputId": "49820fa1-71de-4774-f934-9b43be8560d3"
      },
      "source": [
        "# 정확도 곡선\n",
        "hist[['accuracy', 'val_accuracy']].plot()\n",
        "plt.grid()\n",
        "plt.show()"
      ],
      "execution_count": 77,
      "outputs": [
        {
          "output_type": "display_data",
          "data": {
            "image/png": "[encoded data removed]",
            "text/plain": [
              "<Figure size 432x288 with 1 Axes>"
            ]
          },
          "metadata": {
            "tags": [],
            "needs_background": "light"
          }
        }
      ]
    },
    {
      "cell_type": "code",
      "metadata": {
        "colab": {
          "base_uri": "https://localhost:8080/"
        },
        "id": "-UTUZOn4lgIh",
        "outputId": "197de281-1f4c-40e3-8836-63780e614224"
      },
      "source": [
        "model.evaluate(x_val_1hot, y_val)"
      ],
      "execution_count": 78,
      "outputs": [
        {
          "output_type": "stream",
          "text": [
            "157/157 [==============================] - 2s 11ms/step - loss: 0.4595 - accuracy: 0.7888\n"
          ],
          "name": "stdout"
        },
        {
          "output_type": "execute_result",
          "data": {
            "text/plain": [
              "[0.45952436327934265, 0.7888000011444092]"
            ]
          },
          "metadata": {
            "tags": []
          },
          "execution_count": 78
        }
      ]
    },
    {
      "cell_type": "markdown",
      "metadata": {
        "id": "TXtRCzRumzyc"
      },
      "source": [
        "num_words 값을 증가: 500 -> 1_000, 10_000\n",
        "\n",
        "pad_sequences: 100 -> 200 (샘플 당 단어 수의 평균 또는중위값)\n"
      ]
    },
    {
      "cell_type": "markdown",
      "metadata": {
        "id": "t9_0iPuKnUH6"
      },
      "source": [
        "# Embedding을 사용한 RNN"
      ]
    },
    {
      "cell_type": "markdown",
      "metadata": {
        "id": "fYpULXYMr5_C"
      },
      "source": [
        "word embedding: 단어들을 고정된 길이의 실수 벡터(1차원 배열)로 변환. 단어들 간의 연관이 있는 단어들은 거리가 가깝게 되도록 변환."
      ]
    },
    {
      "cell_type": "code",
      "metadata": {
        "id": "mntKYQjpnXbp"
      },
      "source": [
        "model2 = keras.Sequential()"
      ],
      "execution_count": 92,
      "outputs": []
    },
    {
      "cell_type": "code",
      "metadata": {
        "id": "2WiR4TNqs_jB"
      },
      "source": [
        "# Embedding layer 추가\n",
        "model2.add(keras.layers.Embedding(input_dim=500, output_dim=16, input_length=100))\n",
        "#> input_dim: num_words(샘플에서 사용하는 단어 수)\n",
        "#> input_length: 각 샘플이 가질 수 있는 단어 수\n",
        "#> (input_length, input_dim): SimpleRNN에서 input_shape 역할\n",
        "#> output_dim: 단어들을 embedding시키는 차원. embedding layer의 뉴런 개수\n",
        "\n",
        "# RNN 추가\n",
        "model2.add(keras.layers.SimpleRNN(units=8))\n",
        "\n",
        "# output layer 추가\n",
        "model2.add(keras.layers.Dense(units=1, activation='sigmoid'))"
      ],
      "execution_count": 93,
      "outputs": []
    },
    {
      "cell_type": "code",
      "metadata": {
        "colab": {
          "base_uri": "https://localhost:8080/"
        },
        "id": "tXtxedV1wO4q",
        "outputId": "8c3a2881-d981-4bcc-cefd-1c205bbbae5f"
      },
      "source": [
        "model2.summary()"
      ],
      "execution_count": 94,
      "outputs": [
        {
          "output_type": "stream",
          "text": [
            "Model: \"sequential_2\"\n",
            "_________________________________________________________________\n",
            "Layer (type)                 Output Shape              Param #   \n",
            "=================================================================\n",
            "embedding_1 (Embedding)      (None, 100, 16)           8000      \n",
            "_________________________________________________________________\n",
            "simple_rnn_2 (SimpleRNN)     (None, 8)                 200       \n",
            "_________________________________________________________________\n",
            "dense_2 (Dense)              (None, 1)                 9         \n",
            "=================================================================\n",
            "Total params: 8,209\n",
            "Trainable params: 8,209\n",
            "Non-trainable params: 0\n",
            "_________________________________________________________________\n"
          ],
          "name": "stdout"
        }
      ]
    },
    {
      "cell_type": "code",
      "metadata": {
        "colab": {
          "base_uri": "https://localhost:8080/",
          "height": 422
        },
        "id": "uksDG59rwTMY",
        "outputId": "eb36ef57-9103-4926-b640-63a3962f1a67"
      },
      "source": [
        "keras.utils.plot_model(model2, show_shapes=True)"
      ],
      "execution_count": 95,
      "outputs": [
        {
          "output_type": "execute_result",
          "data": {
            "image/png": "[encoded data removed]",
            "text/plain": [
              "<IPython.core.display.Image object>"
            ]
          },
          "metadata": {
            "tags": []
          },
          "execution_count": 95
        }
      ]
    },
    {
      "cell_type": "code",
      "metadata": {
        "id": "5UOdnNNlwkuw"
      },
      "source": [
        "# 모델 컴파일\n",
        "rmsprop = keras.optimizers.RMSprop(learning_rate=1e-4)\n",
        "model2.compile(optimizer=rmsprop, loss='binary_crossentropy', metrics='accuracy')"
      ],
      "execution_count": 96,
      "outputs": []
    },
    {
      "cell_type": "code",
      "metadata": {
        "id": "LhGP6wvRxd9d"
      },
      "source": [
        "# 콜백\n",
        "early_stop_cb = keras.callbacks.EarlyStopping(patience=10, restore_best_weights=True)\n",
        "checkpoint_cb = keras.callbacks.ModelCheckpoint('embed_rnn_model.h5', save_best_only=True)"
      ],
      "execution_count": 97,
      "outputs": []
    },
    {
      "cell_type": "code",
      "metadata": {
        "colab": {
          "base_uri": "https://localhost:8080/"
        },
        "id": "ZAQiToHgx_Wo",
        "outputId": "233154d3-ae9a-471e-a461-c02583b4261b"
      },
      "source": [
        "x_train.shape  # 각 샘플의 길이가 같은 길이로 정제되지 않은 상태"
      ],
      "execution_count": 98,
      "outputs": [
        {
          "output_type": "execute_result",
          "data": {
            "text/plain": [
              "(20000,)"
            ]
          },
          "metadata": {
            "tags": []
          },
          "execution_count": 98
        }
      ]
    },
    {
      "cell_type": "code",
      "metadata": {
        "colab": {
          "base_uri": "https://localhost:8080/"
        },
        "id": "eeycgXcnyD2n",
        "outputId": "dd71932b-8c52-4bba-cd68-cb18e7710f4c"
      },
      "source": [
        "x_train_seq.shape  # pad_sequences() 함수의 결과: 각 샘플의 길이를 모두 100으로 맞춤."
      ],
      "execution_count": 99,
      "outputs": [
        {
          "output_type": "execute_result",
          "data": {
            "text/plain": [
              "(20000, 100)"
            ]
          },
          "metadata": {
            "tags": []
          },
          "execution_count": 99
        }
      ]
    },
    {
      "cell_type": "code",
      "metadata": {
        "colab": {
          "base_uri": "https://localhost:8080/"
        },
        "id": "k_dgJGNdyMyf",
        "outputId": "524c6ff7-53e3-4868-f297-aed451d34b97"
      },
      "source": [
        "x_train_1hot.shape  # to_categorical() 함수의 결과: 각 샘플의 길이를 100으로 맞춘 후 one-hot encoding까지 실행."
      ],
      "execution_count": 100,
      "outputs": [
        {
          "output_type": "execute_result",
          "data": {
            "text/plain": [
              "(20000, 100, 500)"
            ]
          },
          "metadata": {
            "tags": []
          },
          "execution_count": 100
        }
      ]
    },
    {
      "cell_type": "code",
      "metadata": {
        "colab": {
          "base_uri": "https://localhost:8080/"
        },
        "id": "aB-1VxfYyenO",
        "outputId": "e82ac82d-2898-460d-9148-80747203219e"
      },
      "source": [
        "# 모델 훈련\n",
        "history2 = model2.fit(x_train_seq, y_train, batch_size=64, epochs=100,\n",
        "                      callbacks=[early_stop_cb, checkpoint_cb],\n",
        "                      validation_data=(x_val_seq, y_val))"
      ],
      "execution_count": 101,
      "outputs": [
        {
          "output_type": "stream",
          "text": [
            "Epoch 1/100\n",
            "313/313 [==============================] - 25s 76ms/step - loss: 0.6909 - accuracy: 0.5259 - val_loss: 0.6595 - val_accuracy: 0.6386\n",
            "Epoch 2/100\n",
            "313/313 [==============================] - 23s 74ms/step - loss: 0.6503 - accuracy: 0.6519 - val_loss: 0.6182 - val_accuracy: 0.7002\n",
            "Epoch 3/100\n",
            "313/313 [==============================] - 23s 74ms/step - loss: 0.6103 - accuracy: 0.7101 - val_loss: 0.5969 - val_accuracy: 0.7252\n",
            "Epoch 4/100\n",
            "313/313 [==============================] - 23s 73ms/step - loss: 0.5846 - accuracy: 0.7350 - val_loss: 0.5726 - val_accuracy: 0.7456\n",
            "Epoch 5/100\n",
            "313/313 [==============================] - 23s 74ms/step - loss: 0.5622 - accuracy: 0.7518 - val_loss: 0.5593 - val_accuracy: 0.7494\n",
            "Epoch 6/100\n",
            "313/313 [==============================] - 23s 73ms/step - loss: 0.5429 - accuracy: 0.7675 - val_loss: 0.5447 - val_accuracy: 0.7598\n",
            "Epoch 7/100\n",
            "313/313 [==============================] - 23s 74ms/step - loss: 0.5279 - accuracy: 0.7745 - val_loss: 0.5323 - val_accuracy: 0.7628\n",
            "Epoch 8/100\n",
            "313/313 [==============================] - 23s 73ms/step - loss: 0.5118 - accuracy: 0.7841 - val_loss: 0.5218 - val_accuracy: 0.7684\n",
            "Epoch 9/100\n",
            "313/313 [==============================] - 23s 74ms/step - loss: 0.5056 - accuracy: 0.7835 - val_loss: 0.5120 - val_accuracy: 0.7714\n",
            "Epoch 10/100\n",
            "313/313 [==============================] - 23s 75ms/step - loss: 0.4945 - accuracy: 0.7883 - val_loss: 0.5064 - val_accuracy: 0.7722\n",
            "Epoch 11/100\n",
            "313/313 [==============================] - 24s 76ms/step - loss: 0.4851 - accuracy: 0.7908 - val_loss: 0.4992 - val_accuracy: 0.7752\n",
            "Epoch 12/100\n",
            "313/313 [==============================] - 23s 75ms/step - loss: 0.4731 - accuracy: 0.7983 - val_loss: 0.4979 - val_accuracy: 0.7754\n",
            "Epoch 13/100\n",
            "313/313 [==============================] - 23s 74ms/step - loss: 0.4661 - accuracy: 0.8017 - val_loss: 0.4906 - val_accuracy: 0.7792\n",
            "Epoch 14/100\n",
            "313/313 [==============================] - 23s 75ms/step - loss: 0.4618 - accuracy: 0.7997 - val_loss: 0.4918 - val_accuracy: 0.7760\n",
            "Epoch 15/100\n",
            "313/313 [==============================] - 23s 74ms/step - loss: 0.4587 - accuracy: 0.8065 - val_loss: 0.4851 - val_accuracy: 0.7794\n",
            "Epoch 16/100\n",
            "313/313 [==============================] - 23s 74ms/step - loss: 0.4540 - accuracy: 0.8034 - val_loss: 0.4844 - val_accuracy: 0.7768\n",
            "Epoch 17/100\n",
            "313/313 [==============================] - 24s 75ms/step - loss: 0.4481 - accuracy: 0.8054 - val_loss: 0.4833 - val_accuracy: 0.7778\n",
            "Epoch 18/100\n",
            "313/313 [==============================] - 23s 74ms/step - loss: 0.4508 - accuracy: 0.8044 - val_loss: 0.4793 - val_accuracy: 0.7802\n",
            "Epoch 19/100\n",
            "313/313 [==============================] - 23s 74ms/step - loss: 0.4388 - accuracy: 0.8107 - val_loss: 0.4867 - val_accuracy: 0.7738\n",
            "Epoch 20/100\n",
            "313/313 [==============================] - 23s 73ms/step - loss: 0.4317 - accuracy: 0.8151 - val_loss: 0.4830 - val_accuracy: 0.7796\n",
            "Epoch 21/100\n",
            "313/313 [==============================] - 23s 73ms/step - loss: 0.4350 - accuracy: 0.8099 - val_loss: 0.4775 - val_accuracy: 0.7812\n",
            "Epoch 22/100\n",
            "313/313 [==============================] - 23s 74ms/step - loss: 0.4327 - accuracy: 0.8146 - val_loss: 0.4702 - val_accuracy: 0.7844\n",
            "Epoch 23/100\n",
            "313/313 [==============================] - 24s 75ms/step - loss: 0.4327 - accuracy: 0.8120 - val_loss: 0.4814 - val_accuracy: 0.7754\n",
            "Epoch 24/100\n",
            "313/313 [==============================] - 23s 75ms/step - loss: 0.4290 - accuracy: 0.8159 - val_loss: 0.4733 - val_accuracy: 0.7810\n",
            "Epoch 25/100\n",
            "313/313 [==============================] - 23s 75ms/step - loss: 0.4259 - accuracy: 0.8154 - val_loss: 0.4725 - val_accuracy: 0.7794\n",
            "Epoch 26/100\n",
            "313/313 [==============================] - 23s 75ms/step - loss: 0.4303 - accuracy: 0.8133 - val_loss: 0.4780 - val_accuracy: 0.7794\n",
            "Epoch 27/100\n",
            "313/313 [==============================] - 23s 75ms/step - loss: 0.4249 - accuracy: 0.8171 - val_loss: 0.4789 - val_accuracy: 0.7750\n",
            "Epoch 28/100\n",
            "313/313 [==============================] - 23s 75ms/step - loss: 0.4240 - accuracy: 0.8145 - val_loss: 0.4762 - val_accuracy: 0.7746\n",
            "Epoch 29/100\n",
            "313/313 [==============================] - 23s 74ms/step - loss: 0.4146 - accuracy: 0.8232 - val_loss: 0.4786 - val_accuracy: 0.7772\n",
            "Epoch 30/100\n",
            "313/313 [==============================] - 23s 74ms/step - loss: 0.4175 - accuracy: 0.8205 - val_loss: 0.4628 - val_accuracy: 0.7824\n",
            "Epoch 31/100\n",
            "313/313 [==============================] - 24s 75ms/step - loss: 0.4156 - accuracy: 0.8231 - val_loss: 0.4665 - val_accuracy: 0.7786\n",
            "Epoch 32/100\n",
            "313/313 [==============================] - 24s 75ms/step - loss: 0.4164 - accuracy: 0.8213 - val_loss: 0.4727 - val_accuracy: 0.7814\n",
            "Epoch 33/100\n",
            "313/313 [==============================] - 24s 75ms/step - loss: 0.4097 - accuracy: 0.8269 - val_loss: 0.4759 - val_accuracy: 0.7732\n",
            "Epoch 34/100\n",
            "313/313 [==============================] - 24s 76ms/step - loss: 0.4187 - accuracy: 0.8225 - val_loss: 0.4708 - val_accuracy: 0.7824\n",
            "Epoch 35/100\n",
            "313/313 [==============================] - 24s 76ms/step - loss: 0.4040 - accuracy: 0.8311 - val_loss: 0.4690 - val_accuracy: 0.7784\n",
            "Epoch 36/100\n",
            "313/313 [==============================] - 23s 75ms/step - loss: 0.4053 - accuracy: 0.8301 - val_loss: 0.4641 - val_accuracy: 0.7822\n",
            "Epoch 37/100\n",
            "313/313 [==============================] - 24s 75ms/step - loss: 0.4083 - accuracy: 0.8271 - val_loss: 0.4661 - val_accuracy: 0.7824\n",
            "Epoch 38/100\n",
            "313/313 [==============================] - 24s 77ms/step - loss: 0.4130 - accuracy: 0.8204 - val_loss: 0.4651 - val_accuracy: 0.7810\n",
            "Epoch 39/100\n",
            "313/313 [==============================] - 23s 75ms/step - loss: 0.4049 - accuracy: 0.8282 - val_loss: 0.4604 - val_accuracy: 0.7820\n",
            "Epoch 40/100\n",
            "313/313 [==============================] - 24s 76ms/step - loss: 0.4063 - accuracy: 0.8263 - val_loss: 0.4708 - val_accuracy: 0.7794\n",
            "Epoch 41/100\n",
            "313/313 [==============================] - 23s 75ms/step - loss: 0.4033 - accuracy: 0.8273 - val_loss: 0.4665 - val_accuracy: 0.7830\n",
            "Epoch 42/100\n",
            "313/313 [==============================] - 23s 75ms/step - loss: 0.3921 - accuracy: 0.8334 - val_loss: 0.4607 - val_accuracy: 0.7840\n",
            "Epoch 43/100\n",
            "313/313 [==============================] - 24s 75ms/step - loss: 0.4000 - accuracy: 0.8291 - val_loss: 0.4794 - val_accuracy: 0.7766\n",
            "Epoch 44/100\n",
            "313/313 [==============================] - 24s 76ms/step - loss: 0.3985 - accuracy: 0.8319 - val_loss: 0.4682 - val_accuracy: 0.7840\n",
            "Epoch 45/100\n",
            "313/313 [==============================] - 24s 76ms/step - loss: 0.3922 - accuracy: 0.8339 - val_loss: 0.4639 - val_accuracy: 0.7850\n",
            "Epoch 46/100\n",
            "313/313 [==============================] - 23s 75ms/step - loss: 0.3934 - accuracy: 0.8372 - val_loss: 0.4648 - val_accuracy: 0.7840\n",
            "Epoch 47/100\n",
            "313/313 [==============================] - 23s 74ms/step - loss: 0.3970 - accuracy: 0.8334 - val_loss: 0.4664 - val_accuracy: 0.7838\n",
            "Epoch 48/100\n",
            "313/313 [==============================] - 24s 75ms/step - loss: 0.3916 - accuracy: 0.8363 - val_loss: 0.4789 - val_accuracy: 0.7762\n",
            "Epoch 49/100\n",
            "313/313 [==============================] - 23s 74ms/step - loss: 0.3893 - accuracy: 0.8373 - val_loss: 0.4688 - val_accuracy: 0.7832\n"
          ],
          "name": "stdout"
        }
      ]
    },
    {
      "cell_type": "code",
      "metadata": {
        "colab": {
          "base_uri": "https://localhost:8080/",
          "height": 214
        },
        "id": "4mrAa5NMzL9x",
        "outputId": "4cd80473-2e43-4cf9-f169-b94bfe680480"
      },
      "source": [
        "hist2 = pd.DataFrame(history2.history)\n",
        "hist2.tail()"
      ],
      "execution_count": 102,
      "outputs": [
        {
          "output_type": "execute_result",
          "data": {
            "text/html": [
              "<div>\n",
              "<style scoped>\n",
              "    .dataframe tbody tr th:only-of-type {\n",
              "        vertical-align: middle;\n",
              "    }\n",
              "\n",
              "    .dataframe tbody tr th {\n",
              "        vertical-align: top;\n",
              "    }\n",
              "\n",
              "    .dataframe thead th {\n",
              "        text-align: right;\n",
              "    }\n",
              "</style>\n",
              "<table border=\"1\" class=\"dataframe\">\n",
              "  <thead>\n",
              "    <tr style=\"text-align: right;\">\n",
              "      <th></th>\n",
              "      <th>loss</th>\n",
              "      <th>accuracy</th>\n",
              "      <th>val_loss</th>\n",
              "      <th>val_accuracy</th>\n",
              "    </tr>\n",
              "  </thead>\n",
              "  <tbody>\n",
              "    <tr>\n",
              "      <th>44</th>\n",
              "      <td>0.395753</td>\n",
              "      <td>0.83310</td>\n",
              "      <td>0.463920</td>\n",
              "      <td>0.7850</td>\n",
              "    </tr>\n",
              "    <tr>\n",
              "      <th>45</th>\n",
              "      <td>0.395120</td>\n",
              "      <td>0.83310</td>\n",
              "      <td>0.464773</td>\n",
              "      <td>0.7840</td>\n",
              "    </tr>\n",
              "    <tr>\n",
              "      <th>46</th>\n",
              "      <td>0.393162</td>\n",
              "      <td>0.83310</td>\n",
              "      <td>0.466428</td>\n",
              "      <td>0.7838</td>\n",
              "    </tr>\n",
              "    <tr>\n",
              "      <th>47</th>\n",
              "      <td>0.392218</td>\n",
              "      <td>0.83535</td>\n",
              "      <td>0.478901</td>\n",
              "      <td>0.7762</td>\n",
              "    </tr>\n",
              "    <tr>\n",
              "      <th>48</th>\n",
              "      <td>0.390864</td>\n",
              "      <td>0.83515</td>\n",
              "      <td>0.468763</td>\n",
              "      <td>0.7832</td>\n",
              "    </tr>\n",
              "  </tbody>\n",
              "</table>\n",
              "</div>"
            ],
            "text/plain": [
              "        loss  accuracy  val_loss  val_accuracy\n",
              "44  0.395753   0.83310  0.463920        0.7850\n",
              "45  0.395120   0.83310  0.464773        0.7840\n",
              "46  0.393162   0.83310  0.466428        0.7838\n",
              "47  0.392218   0.83535  0.478901        0.7762\n",
              "48  0.390864   0.83515  0.468763        0.7832"
            ]
          },
          "metadata": {
            "tags": []
          },
          "execution_count": 102
        }
      ]
    },
    {
      "cell_type": "code",
      "metadata": {
        "colab": {
          "base_uri": "https://localhost:8080/",
          "height": 265
        },
        "id": "JLE9jp565s_Z",
        "outputId": "a054a69c-622e-4b71-ef67-5df52ea1d345"
      },
      "source": [
        "# 손실 곡선\n",
        "hist2[['loss', 'val_loss']].plot()\n",
        "plt.grid()\n",
        "plt.show()"
      ],
      "execution_count": 103,
      "outputs": [
        {
          "output_type": "display_data",
          "data": {
            "image/png": "[encoded data removed]",
            "text/plain": [
              "<Figure size 432x288 with 1 Axes>"
            ]
          },
          "metadata": {
            "tags": [],
            "needs_background": "light"
          }
        }
      ]
    },
    {
      "cell_type": "code",
      "metadata": {
        "colab": {
          "base_uri": "https://localhost:8080/",
          "height": 265
        },
        "id": "ovAQcQNq51Y2",
        "outputId": "910cc27f-9338-4f9e-a4f7-f48c8a8a45c0"
      },
      "source": [
        "# 정확도 곡선\n",
        "hist2[['accuracy', 'val_accuracy']].plot()\n",
        "plt.grid()\n",
        "plt.show()"
      ],
      "execution_count": 104,
      "outputs": [
        {
          "output_type": "display_data",
          "data": {
            "image/png": "[encoded data removed]",
            "text/plain": [
              "<Figure size 432x288 with 1 Axes>"
            ]
          },
          "metadata": {
            "tags": [],
            "needs_background": "light"
          }
        }
      ]
    },
    {
      "cell_type": "code",
      "metadata": {
        "colab": {
          "base_uri": "https://localhost:8080/"
        },
        "id": "WKx6jiMB6JwI",
        "outputId": "61545404-5957-49bb-e53e-62b6802dbc45"
      },
      "source": [
        "model2.evaluate(x_val_seq, y_val)"
      ],
      "execution_count": 105,
      "outputs": [
        {
          "output_type": "stream",
          "text": [
            "157/157 [==============================] - 1s 9ms/step - loss: 0.4604 - accuracy: 0.7820\n"
          ],
          "name": "stdout"
        },
        {
          "output_type": "execute_result",
          "data": {
            "text/plain": [
              "[0.460402250289917, 0.7820000052452087]"
            ]
          },
          "metadata": {
            "tags": []
          },
          "execution_count": 105
        }
      ]
    },
    {
      "cell_type": "markdown",
      "metadata": {
        "id": "yMj3eI5v65M6"
      },
      "source": [
        "# LSTM(Long-Short Term Memory) 순환 신경망"
      ]
    },
    {
      "cell_type": "code",
      "metadata": {
        "id": "7FZSAnl36tk_"
      },
      "source": [
        "model3 = keras.Sequential(layers=[\n",
        "    keras.layers.Embedding(input_dim=500, output_dim=16, input_length=100),  # Embedding\n",
        "    keras.layers.LSTM(units=8),  # LSTM\n",
        "    keras.layers.Dense(units=1, activation='sigmoid')  # output\n",
        "])"
      ],
      "execution_count": 51,
      "outputs": []
    },
    {
      "cell_type": "code",
      "metadata": {
        "colab": {
          "base_uri": "https://localhost:8080/"
        },
        "id": "58TvffO28VdX",
        "outputId": "e566f6c9-3fce-49a3-aa24-8ec041d8a17b"
      },
      "source": [
        "model3.summary()"
      ],
      "execution_count": 52,
      "outputs": [
        {
          "output_type": "stream",
          "text": [
            "Model: \"sequential\"\n",
            "_________________________________________________________________\n",
            "Layer (type)                 Output Shape              Param #   \n",
            "=================================================================\n",
            "embedding (Embedding)        (None, 100, 16)           8000      \n",
            "_________________________________________________________________\n",
            "lstm (LSTM)                  (None, 8)                 800       \n",
            "_________________________________________________________________\n",
            "dense (Dense)                (None, 1)                 9         \n",
            "=================================================================\n",
            "Total params: 8,809\n",
            "Trainable params: 8,809\n",
            "Non-trainable params: 0\n",
            "_________________________________________________________________\n"
          ],
          "name": "stdout"
        }
      ]
    },
    {
      "cell_type": "code",
      "metadata": {
        "colab": {
          "base_uri": "https://localhost:8080/",
          "height": 422
        },
        "id": "2A3-kl8p9LiG",
        "outputId": "314a39d0-6db8-40cc-a79c-5d187e6681f8"
      },
      "source": [
        "keras.utils.plot_model(model3, show_shapes=True)"
      ],
      "execution_count": 53,
      "outputs": [
        {
          "output_type": "execute_result",
          "data": {
            "image/png": "[encoded data removed]",
            "text/plain": [
              "<IPython.core.display.Image object>"
            ]
          },
          "metadata": {
            "tags": []
          },
          "execution_count": 53
        }
      ]
    },
    {
      "cell_type": "code",
      "metadata": {
        "id": "m4jSPyU29fSG"
      },
      "source": [
        "# 모델 컴파일\n",
        "model3.compile(optimizer=keras.optimizers.RMSprop(learning_rate=1e-4),\n",
        "               loss='binary_crossentropy', metrics='accuracy')"
      ],
      "execution_count": 54,
      "outputs": []
    },
    {
      "cell_type": "code",
      "metadata": {
        "id": "myFteywA92tV"
      },
      "source": [
        "# 콜백\n",
        "early_stop_cb = keras.callbacks.EarlyStopping(patience=3, restore_best_weights=True)\n",
        "checkpoint_cb = keras.callbacks.ModelCheckpoint('lstm_mode.h5', save_best_only=True)"
      ],
      "execution_count": 55,
      "outputs": []
    },
    {
      "cell_type": "code",
      "metadata": {
        "colab": {
          "base_uri": "https://localhost:8080/"
        },
        "id": "c5gdNztw-KaF",
        "outputId": "2fdf064b-434a-421c-d8e5-9c02ad65aeb2"
      },
      "source": [
        "# 모델 훈련\n",
        "history3 = model3.fit(x_train_seq, y_train, batch_size=64, epochs=100,\n",
        "                      callbacks=[early_stop_cb, checkpoint_cb],\n",
        "                      validation_data=(x_val_seq, y_val))"
      ],
      "execution_count": 56,
      "outputs": [
        {
          "output_type": "stream",
          "text": [
            "Epoch 1/100\n",
            "313/313 [==============================] - 36s 10ms/step - loss: 0.6928 - accuracy: 0.5241 - val_loss: 0.6914 - val_accuracy: 0.5882\n",
            "Epoch 2/100\n",
            "313/313 [==============================] - 2s 8ms/step - loss: 0.6904 - accuracy: 0.6122 - val_loss: 0.6870 - val_accuracy: 0.6370\n",
            "Epoch 3/100\n",
            "313/313 [==============================] - 2s 8ms/step - loss: 0.6830 - accuracy: 0.6564 - val_loss: 0.6583 - val_accuracy: 0.6818\n",
            "Epoch 4/100\n",
            "313/313 [==============================] - 2s 8ms/step - loss: 0.6371 - accuracy: 0.7107 - val_loss: 0.6052 - val_accuracy: 0.7266\n",
            "Epoch 5/100\n",
            "313/313 [==============================] - 2s 8ms/step - loss: 0.5945 - accuracy: 0.7404 - val_loss: 0.5838 - val_accuracy: 0.7346\n",
            "Epoch 6/100\n",
            "313/313 [==============================] - 2s 8ms/step - loss: 0.5746 - accuracy: 0.7470 - val_loss: 0.5657 - val_accuracy: 0.7480\n",
            "Epoch 7/100\n",
            "313/313 [==============================] - 2s 8ms/step - loss: 0.5504 - accuracy: 0.7627 - val_loss: 0.5499 - val_accuracy: 0.7550\n",
            "Epoch 8/100\n",
            "313/313 [==============================] - 2s 8ms/step - loss: 0.5389 - accuracy: 0.7650 - val_loss: 0.5346 - val_accuracy: 0.7616\n",
            "Epoch 9/100\n",
            "313/313 [==============================] - 2s 8ms/step - loss: 0.5225 - accuracy: 0.7758 - val_loss: 0.5201 - val_accuracy: 0.7712\n",
            "Epoch 10/100\n",
            "313/313 [==============================] - 2s 8ms/step - loss: 0.5091 - accuracy: 0.7768 - val_loss: 0.5066 - val_accuracy: 0.7766\n",
            "Epoch 11/100\n",
            "313/313 [==============================] - 3s 8ms/step - loss: 0.4854 - accuracy: 0.7912 - val_loss: 0.4962 - val_accuracy: 0.7814\n",
            "Epoch 12/100\n",
            "313/313 [==============================] - 2s 8ms/step - loss: 0.4758 - accuracy: 0.7943 - val_loss: 0.4855 - val_accuracy: 0.7838\n",
            "Epoch 13/100\n",
            "313/313 [==============================] - 2s 8ms/step - loss: 0.4673 - accuracy: 0.7945 - val_loss: 0.4747 - val_accuracy: 0.7874\n",
            "Epoch 14/100\n",
            "313/313 [==============================] - 2s 8ms/step - loss: 0.4573 - accuracy: 0.8013 - val_loss: 0.4692 - val_accuracy: 0.7840\n",
            "Epoch 15/100\n",
            "313/313 [==============================] - 2s 8ms/step - loss: 0.4455 - accuracy: 0.8053 - val_loss: 0.4638 - val_accuracy: 0.7882\n",
            "Epoch 16/100\n",
            "313/313 [==============================] - 3s 8ms/step - loss: 0.4428 - accuracy: 0.8026 - val_loss: 0.4582 - val_accuracy: 0.7926\n",
            "Epoch 17/100\n",
            "313/313 [==============================] - 2s 8ms/step - loss: 0.4298 - accuracy: 0.8132 - val_loss: 0.4589 - val_accuracy: 0.7904\n",
            "Epoch 18/100\n",
            "313/313 [==============================] - 2s 8ms/step - loss: 0.4281 - accuracy: 0.8132 - val_loss: 0.4561 - val_accuracy: 0.7912\n",
            "Epoch 19/100\n",
            "313/313 [==============================] - 2s 8ms/step - loss: 0.4250 - accuracy: 0.8139 - val_loss: 0.4483 - val_accuracy: 0.7940\n",
            "Epoch 20/100\n",
            "313/313 [==============================] - 2s 8ms/step - loss: 0.4156 - accuracy: 0.8179 - val_loss: 0.4481 - val_accuracy: 0.7936\n",
            "Epoch 21/100\n",
            "313/313 [==============================] - 2s 8ms/step - loss: 0.4192 - accuracy: 0.8162 - val_loss: 0.4557 - val_accuracy: 0.7858\n",
            "Epoch 22/100\n",
            "313/313 [==============================] - 2s 8ms/step - loss: 0.4220 - accuracy: 0.8177 - val_loss: 0.4450 - val_accuracy: 0.7950\n",
            "Epoch 23/100\n",
            "313/313 [==============================] - 3s 8ms/step - loss: 0.4132 - accuracy: 0.8167 - val_loss: 0.4513 - val_accuracy: 0.7912\n",
            "Epoch 24/100\n",
            "313/313 [==============================] - 2s 8ms/step - loss: 0.4128 - accuracy: 0.8166 - val_loss: 0.4448 - val_accuracy: 0.7952\n",
            "Epoch 25/100\n",
            "313/313 [==============================] - 3s 8ms/step - loss: 0.4137 - accuracy: 0.8157 - val_loss: 0.4421 - val_accuracy: 0.7970\n",
            "Epoch 26/100\n",
            "313/313 [==============================] - 2s 8ms/step - loss: 0.4055 - accuracy: 0.8215 - val_loss: 0.4426 - val_accuracy: 0.7988\n",
            "Epoch 27/100\n",
            "313/313 [==============================] - 3s 8ms/step - loss: 0.4083 - accuracy: 0.8180 - val_loss: 0.4406 - val_accuracy: 0.7958\n",
            "Epoch 28/100\n",
            "313/313 [==============================] - 3s 8ms/step - loss: 0.4043 - accuracy: 0.8224 - val_loss: 0.4437 - val_accuracy: 0.7972\n",
            "Epoch 29/100\n",
            "313/313 [==============================] - 3s 8ms/step - loss: 0.4080 - accuracy: 0.8212 - val_loss: 0.4412 - val_accuracy: 0.7956\n",
            "Epoch 30/100\n",
            "313/313 [==============================] - 3s 8ms/step - loss: 0.4038 - accuracy: 0.8195 - val_loss: 0.4385 - val_accuracy: 0.7962\n",
            "Epoch 31/100\n",
            "313/313 [==============================] - 3s 8ms/step - loss: 0.4088 - accuracy: 0.8188 - val_loss: 0.4389 - val_accuracy: 0.7994\n",
            "Epoch 32/100\n",
            "313/313 [==============================] - 3s 8ms/step - loss: 0.4029 - accuracy: 0.8201 - val_loss: 0.4397 - val_accuracy: 0.8004\n",
            "Epoch 33/100\n",
            "313/313 [==============================] - 3s 8ms/step - loss: 0.4007 - accuracy: 0.8216 - val_loss: 0.4402 - val_accuracy: 0.7964\n"
          ],
          "name": "stdout"
        }
      ]
    },
    {
      "cell_type": "code",
      "metadata": {
        "colab": {
          "base_uri": "https://localhost:8080/",
          "height": 265
        },
        "id": "555SQaA9-hI-",
        "outputId": "c571c5d8-accb-4b66-8cc5-0ff925146ffa"
      },
      "source": [
        "# 손실 곡선\n",
        "hist3 = pd.DataFrame(history3.history)\n",
        "\n",
        "hist3[['loss', 'val_loss']].plot()\n",
        "plt.grid()\n",
        "plt.show()"
      ],
      "execution_count": 57,
      "outputs": [
        {
          "output_type": "display_data",
          "data": {
            "image/png": "[encoded data removed]",
            "text/plain": [
              "<Figure size 432x288 with 1 Axes>"
            ]
          },
          "metadata": {
            "tags": [],
            "needs_background": "light"
          }
        }
      ]
    },
    {
      "cell_type": "code",
      "metadata": {
        "colab": {
          "base_uri": "https://localhost:8080/",
          "height": 265
        },
        "id": "qpYGf0Rk-ocn",
        "outputId": "61148c3e-d2c3-491e-cb5e-51350a60d536"
      },
      "source": [
        "# 정확도 곡선\n",
        "hist3[['accuracy', 'val_accuracy']].plot()\n",
        "plt.grid()\n",
        "plt.show()"
      ],
      "execution_count": 58,
      "outputs": [
        {
          "output_type": "display_data",
          "data": {
            "image/png": "[encoded data removed]",
            "text/plain": [
              "<Figure size 432x288 with 1 Axes>"
            ]
          },
          "metadata": {
            "tags": [],
            "needs_background": "light"
          }
        }
      ]
    },
    {
      "cell_type": "code",
      "metadata": {
        "colab": {
          "base_uri": "https://localhost:8080/"
        },
        "id": "mIwCT4RwBe6G",
        "outputId": "a49eb268-d5e4-4eb4-e8ae-da4f5be296af"
      },
      "source": [
        "model3.evaluate(x_val_seq, y_val)"
      ],
      "execution_count": 59,
      "outputs": [
        {
          "output_type": "stream",
          "text": [
            "157/157 [==============================] - 1s 4ms/step - loss: 0.4385 - accuracy: 0.7962\n"
          ],
          "name": "stdout"
        },
        {
          "output_type": "execute_result",
          "data": {
            "text/plain": [
              "[0.4385339319705963, 0.7961999773979187]"
            ]
          },
          "metadata": {
            "tags": []
          },
          "execution_count": 59
        }
      ]
    },
    {
      "cell_type": "code",
      "metadata": {
        "id": "jthM-9wyBufe"
      },
      "source": [
        ""
      ],
      "execution_count": null,
      "outputs": []
    }
  ]
}