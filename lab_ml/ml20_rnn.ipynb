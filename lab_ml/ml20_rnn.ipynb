{
  "nbformat": 4,
  "nbformat_minor": 0,
  "metadata": {
    "colab": {
      "name": "ml20_rnn.ipynb",
      "provenance": [],
      "collapsed_sections": [],
      "authorship_tag": "ABX9TyM79Ck+WVW7a1cSnkQZQIB6",
      "include_colab_link": true
    },
    "kernelspec": {
      "name": "python3",
      "display_name": "Python 3"
    },
    "language_info": {
      "name": "python"
    },
    "accelerator": "GPU"
  },
  "cells": [
    {
      "cell_type": "markdown",
      "metadata": {
        "id": "view-in-github",
        "colab_type": "text"
      },
      "source": [
        "<a href=\"https://colab.research.google.com/github/JakeOh/202011_itw_bd21/blob/main/lab_ml/ml20_rnn.ipynb\" target=\"_parent\"><img src=\"https://colab.research.google.com/assets/colab-badge.svg\" alt=\"Open In Colab\"/></a>"
      ]
    },
    {
      "cell_type": "markdown",
      "metadata": {
        "id": "ziXo3SC2wZln"
      },
      "source": [
        "# RNN(Recurrent Neural Netowrk, 순환 신경망)\n",
        "\n",
        "시계열 데이터, 텍스트 데이터와 같이 순서가 중요한 데이터(순차 데이터, sequence)를 다룰 때 많이 사용하는 신경망."
      ]
    },
    {
      "cell_type": "markdown",
      "metadata": {
        "id": "awO18Sz0w3SG"
      },
      "source": [
        "# Imports"
      ]
    },
    {
      "cell_type": "code",
      "metadata": {
        "id": "9fwISlQzfVVm"
      },
      "source": [
        "import matplotlib.pyplot as plt\n",
        "import numpy as np\n",
        "import pandas as pd\n",
        "\n",
        "from sklearn.model_selection import train_test_split\n",
        "\n",
        "import tensorflow as tf\n",
        "from tensorflow import keras"
      ],
      "execution_count": 1,
      "outputs": []
    },
    {
      "cell_type": "markdown",
      "metadata": {
        "id": "H3n-jpEGxZJu"
      },
      "source": [
        "# 단어 수준 one-hot encoding"
      ]
    },
    {
      "cell_type": "markdown",
      "metadata": {
        "id": "Ufk-umAIxjIu"
      },
      "source": [
        "## 단어-인덱스 매핑"
      ]
    },
    {
      "cell_type": "code",
      "metadata": {
        "id": "ITOfbl-qxidm"
      },
      "source": [
        "sentence = 'The cat sat on the table.'"
      ],
      "execution_count": 2,
      "outputs": []
    },
    {
      "cell_type": "code",
      "metadata": {
        "colab": {
          "base_uri": "https://localhost:8080/"
        },
        "id": "L--UZ0uQxFWV",
        "outputId": "c3dcbb3b-985f-4a43-c41f-5479b6b5a8df"
      },
      "source": [
        "word_index = {}  # 단어를 키로 하고, 숫자를 값(value)로 저장할 dict\n",
        "for word in sentence.split():  # 하나의 문장 공백으로 구분된 단어 리스트에서 반복하면서\n",
        "    if word not in word_index:  # 단어가 dict에 없다면,\n",
        "        word_index[word] = len(word_index) + 1\n",
        "print(word_index)"
      ],
      "execution_count": 3,
      "outputs": [
        {
          "output_type": "stream",
          "text": [
            "{'The': 1, 'cat': 2, 'sat': 3, 'on': 4, 'the': 5, 'table.': 6}\n"
          ],
          "name": "stdout"
        }
      ]
    },
    {
      "cell_type": "code",
      "metadata": {
        "id": "48u7omi0y-we"
      },
      "source": [
        "samples = ['The cat sat on the table.', 'The dog ate my laptop.']"
      ],
      "execution_count": 4,
      "outputs": []
    },
    {
      "cell_type": "code",
      "metadata": {
        "colab": {
          "base_uri": "https://localhost:8080/"
        },
        "id": "gZkURpYS08A3",
        "outputId": "f0a6aaad-e3c0-4ae5-f24e-207db62e40c8"
      },
      "source": [
        "# samples 리스트에 등장하는 단어들의 word-index 사전을 만드세요.\n",
        "word_index = {}\n",
        "for s in samples:\n",
        "    for w in s.split():\n",
        "        if w not in word_index:\n",
        "            word_index[w] = len(word_index) + 1\n",
        "print(word_index)"
      ],
      "execution_count": 5,
      "outputs": [
        {
          "output_type": "stream",
          "text": [
            "{'The': 1, 'cat': 2, 'sat': 3, 'on': 4, 'the': 5, 'table.': 6, 'dog': 7, 'ate': 8, 'my': 9, 'laptop.': 10}\n"
          ],
          "name": "stdout"
        }
      ]
    },
    {
      "cell_type": "markdown",
      "metadata": {
        "id": "rKOO8oGL6QWU"
      },
      "source": [
        "## 텍스트를 숫자들의 리스트로 변환"
      ]
    },
    {
      "cell_type": "code",
      "metadata": {
        "colab": {
          "base_uri": "https://localhost:8080/"
        },
        "id": "ofRAkFnV6PtV",
        "outputId": "9d7a6789-9751-4d5e-c350-69c5904b2026"
      },
      "source": [
        "samples_to_sequences = []  # 숫자들의 리스트를 저장할 리스트\n",
        "for s in samples:\n",
        "    sequence = []  # 하나의 문장을 숫자들로 변환한 리스트\n",
        "    for w in s.split():\n",
        "        sequence.append(word_index[w])  # 사전에서 단어에 매핑된 인덱스를 찾아서 리스트에 추가.\n",
        "    samples_to_sequences.append(sequence)\n",
        "\n",
        "print(samples_to_sequences)\n",
        "#> [[1, 2, 3, 4, 5, 6], [1, 7, 8, 9, 10]]"
      ],
      "execution_count": 6,
      "outputs": [
        {
          "output_type": "stream",
          "text": [
            "[[1, 2, 3, 4, 5, 6], [1, 7, 8, 9, 10]]\n"
          ],
          "name": "stdout"
        }
      ]
    },
    {
      "cell_type": "markdown",
      "metadata": {
        "id": "LExAWXXG-VoN"
      },
      "source": [
        "샘플 문장들마다 사용된 단어의 개수가 다르기 때문에 scikit-learn, keras 패키지의 모델들을 훈련시킬 수 없다."
      ]
    },
    {
      "cell_type": "markdown",
      "metadata": {
        "id": "BVIGTlMN-inN"
      },
      "source": [
        "## One-hot encoding"
      ]
    },
    {
      "cell_type": "code",
      "metadata": {
        "colab": {
          "base_uri": "https://localhost:8080/"
        },
        "id": "1UI7oYkC-VM1",
        "outputId": "2fd4c1e2-6a41-435d-b239-a8f65665f032"
      },
      "source": [
        "max_rows = 10  # 한 문장의 최대 단어 수\n",
        "max_cols = max(word_index.values()) + 1  # word_index의 값 = column index\n",
        "samples_1hot = np.zeros(shape=(len(samples), max_rows, max_cols))\n",
        "for i, s in enumerate(samples):\n",
        "    for j, w in list(enumerate(s.split()))[:max_rows]:\n",
        "        index = word_index[w]\n",
        "        samples_1hot[i, j, index] = 1\n",
        "\n",
        "print(samples_1hot)"
      ],
      "execution_count": 7,
      "outputs": [
        {
          "output_type": "stream",
          "text": [
            "[[[0. 1. 0. 0. 0. 0. 0. 0. 0. 0. 0.]\n",
            "  [0. 0. 1. 0. 0. 0. 0. 0. 0. 0. 0.]\n",
            "  [0. 0. 0. 1. 0. 0. 0. 0. 0. 0. 0.]\n",
            "  [0. 0. 0. 0. 1. 0. 0. 0. 0. 0. 0.]\n",
            "  [0. 0. 0. 0. 0. 1. 0. 0. 0. 0. 0.]\n",
            "  [0. 0. 0. 0. 0. 0. 1. 0. 0. 0. 0.]\n",
            "  [0. 0. 0. 0. 0. 0. 0. 0. 0. 0. 0.]\n",
            "  [0. 0. 0. 0. 0. 0. 0. 0. 0. 0. 0.]\n",
            "  [0. 0. 0. 0. 0. 0. 0. 0. 0. 0. 0.]\n",
            "  [0. 0. 0. 0. 0. 0. 0. 0. 0. 0. 0.]]\n",
            "\n",
            " [[0. 1. 0. 0. 0. 0. 0. 0. 0. 0. 0.]\n",
            "  [0. 0. 0. 0. 0. 0. 0. 1. 0. 0. 0.]\n",
            "  [0. 0. 0. 0. 0. 0. 0. 0. 1. 0. 0.]\n",
            "  [0. 0. 0. 0. 0. 0. 0. 0. 0. 1. 0.]\n",
            "  [0. 0. 0. 0. 0. 0. 0. 0. 0. 0. 1.]\n",
            "  [0. 0. 0. 0. 0. 0. 0. 0. 0. 0. 0.]\n",
            "  [0. 0. 0. 0. 0. 0. 0. 0. 0. 0. 0.]\n",
            "  [0. 0. 0. 0. 0. 0. 0. 0. 0. 0. 0.]\n",
            "  [0. 0. 0. 0. 0. 0. 0. 0. 0. 0. 0.]\n",
            "  [0. 0. 0. 0. 0. 0. 0. 0. 0. 0. 0.]]]\n"
          ],
          "name": "stdout"
        }
      ]
    },
    {
      "cell_type": "code",
      "metadata": {
        "colab": {
          "base_uri": "https://localhost:8080/"
        },
        "id": "-524TOOS9H4J",
        "outputId": "bc78724e-cbaa-4c7d-8ab6-de378a70a0b8"
      },
      "source": [
        "print(word_index)"
      ],
      "execution_count": 8,
      "outputs": [
        {
          "output_type": "stream",
          "text": [
            "{'The': 1, 'cat': 2, 'sat': 3, 'on': 4, 'the': 5, 'table.': 6, 'dog': 7, 'ate': 8, 'my': 9, 'laptop.': 10}\n"
          ],
          "name": "stdout"
        }
      ]
    },
    {
      "cell_type": "code",
      "metadata": {
        "colab": {
          "base_uri": "https://localhost:8080/"
        },
        "id": "k3fteSxNXzBk",
        "outputId": "2d703e33-7098-48a6-d4da-3125c0398597"
      },
      "source": [
        "# 다른 one-hot encoding 방법: 사용된 단어 인덱스에는 1, 사용되지 않은 인덱스에는 0\n",
        "max_cols = max(word_index.values()) + 1\n",
        "samples_1hot_2 = np.zeros(shape=(len(samples), max_cols),\n",
        "                          dtype=np.int32)\n",
        "for i, s in enumerate(samples):\n",
        "    for w in s.split()[:max_cols]:\n",
        "        j = word_index[w]\n",
        "        samples_1hot_2[i, j] = 1\n",
        "\n",
        "print(samples_1hot_2)\n",
        "#> [[0, 1, 1, 1, 1, 1, 1, 0, 0, 0, 0], [0, 1, 0, 0, 0, 0, 0, 1, 1, 1, 1]]"
      ],
      "execution_count": 9,
      "outputs": [
        {
          "output_type": "stream",
          "text": [
            "[[0 1 1 1 1 1 1 0 0 0 0]\n",
            " [0 1 0 0 0 0 0 1 1 1 1]]\n"
          ],
          "name": "stdout"
        }
      ]
    },
    {
      "cell_type": "markdown",
      "metadata": {
        "id": "0dHSU6zWiMYd"
      },
      "source": [
        "# Tokenizer"
      ]
    },
    {
      "cell_type": "code",
      "metadata": {
        "colab": {
          "base_uri": "https://localhost:8080/"
        },
        "id": "qjbXuZ_FizvQ",
        "outputId": "e96af470-2de1-4f10-f951-f43aa9cbe2ff"
      },
      "source": [
        "samples"
      ],
      "execution_count": 10,
      "outputs": [
        {
          "output_type": "execute_result",
          "data": {
            "text/plain": [
              "['The cat sat on the table.', 'The dog ate my laptop.']"
            ]
          },
          "metadata": {
            "tags": []
          },
          "execution_count": 10
        }
      ]
    },
    {
      "cell_type": "code",
      "metadata": {
        "id": "K-FOodOtc0Jz"
      },
      "source": [
        "tokenizer = keras.preprocessing.text.Tokenizer(num_words=1_000)\n",
        "# 가장 빈도가 높은 1,000개의 단어만 선택하는 Tokenizer 객체를 생성."
      ],
      "execution_count": 11,
      "outputs": []
    },
    {
      "cell_type": "code",
      "metadata": {
        "id": "-7gZDECyjSXZ"
      },
      "source": [
        "tokenizer.fit_on_texts(samples)  # 단어 인덱스를 구축"
      ],
      "execution_count": 12,
      "outputs": []
    },
    {
      "cell_type": "code",
      "metadata": {
        "colab": {
          "base_uri": "https://localhost:8080/"
        },
        "id": "JouXXI22jeDB",
        "outputId": "5401f6a7-4e66-4ecc-b30a-887f2031c131"
      },
      "source": [
        "tokenizer.word_index  #> {word: index} 사전(dict)"
      ],
      "execution_count": 13,
      "outputs": [
        {
          "output_type": "execute_result",
          "data": {
            "text/plain": [
              "{'ate': 7,\n",
              " 'cat': 2,\n",
              " 'dog': 6,\n",
              " 'laptop': 9,\n",
              " 'my': 8,\n",
              " 'on': 4,\n",
              " 'sat': 3,\n",
              " 'table': 5,\n",
              " 'the': 1}"
            ]
          },
          "metadata": {
            "tags": []
          },
          "execution_count": 13
        }
      ]
    },
    {
      "cell_type": "code",
      "metadata": {
        "colab": {
          "base_uri": "https://localhost:8080/"
        },
        "id": "HJx9Ot6wjlSR",
        "outputId": "8eb290e4-8ca7-4168-f54f-f5a3d242f1e7"
      },
      "source": [
        "tokenizer.index_word  #> {index: word} 사전(dict)"
      ],
      "execution_count": 14,
      "outputs": [
        {
          "output_type": "execute_result",
          "data": {
            "text/plain": [
              "{1: 'the',\n",
              " 2: 'cat',\n",
              " 3: 'sat',\n",
              " 4: 'on',\n",
              " 5: 'table',\n",
              " 6: 'dog',\n",
              " 7: 'ate',\n",
              " 8: 'my',\n",
              " 9: 'laptop'}"
            ]
          },
          "metadata": {
            "tags": []
          },
          "execution_count": 14
        }
      ]
    },
    {
      "cell_type": "code",
      "metadata": {
        "colab": {
          "base_uri": "https://localhost:8080/"
        },
        "id": "YA1oX0nUj-AY",
        "outputId": "ecf18a3a-79ad-4ae1-b56c-62113849ceeb"
      },
      "source": [
        "tokenizer.word_counts  #> [(word, count)]"
      ],
      "execution_count": 15,
      "outputs": [
        {
          "output_type": "execute_result",
          "data": {
            "text/plain": [
              "OrderedDict([('the', 3),\n",
              "             ('cat', 1),\n",
              "             ('sat', 1),\n",
              "             ('on', 1),\n",
              "             ('table', 1),\n",
              "             ('dog', 1),\n",
              "             ('ate', 1),\n",
              "             ('my', 1),\n",
              "             ('laptop', 1)])"
            ]
          },
          "metadata": {
            "tags": []
          },
          "execution_count": 15
        }
      ]
    },
    {
      "cell_type": "code",
      "metadata": {
        "colab": {
          "base_uri": "https://localhost:8080/"
        },
        "id": "hcE03Zc8kcxn",
        "outputId": "d818d389-4f6f-4f92-ed9a-fc8afe41d2b9"
      },
      "source": [
        "# 문자열(텍스트)를 정수 인덱스들의 리스트로 변환 리턴.\n",
        "tokenizer.texts_to_sequences(samples)"
      ],
      "execution_count": 16,
      "outputs": [
        {
          "output_type": "execute_result",
          "data": {
            "text/plain": [
              "[[1, 2, 3, 4, 1, 5], [1, 6, 7, 8, 9]]"
            ]
          },
          "metadata": {
            "tags": []
          },
          "execution_count": 16
        }
      ]
    },
    {
      "cell_type": "code",
      "metadata": {
        "colab": {
          "base_uri": "https://localhost:8080/"
        },
        "id": "QgrsJeFJluVd",
        "outputId": "fbe7f643-eb0d-46b2-ea7b-5d49d51cc421"
      },
      "source": [
        "# Tokenizer를 사용한 one-hot encoding\n",
        "result = tokenizer.texts_to_matrix(samples)\n",
        "result.shape  #> (n_sample, max_token)"
      ],
      "execution_count": 17,
      "outputs": [
        {
          "output_type": "execute_result",
          "data": {
            "text/plain": [
              "(2, 1000)"
            ]
          },
          "metadata": {
            "tags": []
          },
          "execution_count": 17
        }
      ]
    },
    {
      "cell_type": "code",
      "metadata": {
        "colab": {
          "base_uri": "https://localhost:8080/"
        },
        "id": "coApExCmmXxL",
        "outputId": "9103aebe-d065-4752-f3bd-b0cc72aaba84"
      },
      "source": [
        "result[:, :15]"
      ],
      "execution_count": 18,
      "outputs": [
        {
          "output_type": "execute_result",
          "data": {
            "text/plain": [
              "array([[0., 1., 1., 1., 1., 1., 0., 0., 0., 0., 0., 0., 0., 0., 0.],\n",
              "       [0., 1., 0., 0., 0., 0., 1., 1., 1., 1., 0., 0., 0., 0., 0.]])"
            ]
          },
          "metadata": {
            "tags": []
          },
          "execution_count": 18
        }
      ]
    },
    {
      "cell_type": "markdown",
      "metadata": {
        "id": "wxFc0Moiok6K"
      },
      "source": [
        "# IMDB dataset"
      ]
    },
    {
      "cell_type": "code",
      "metadata": {
        "colab": {
          "base_uri": "https://localhost:8080/"
        },
        "id": "NX_gnCi0omt6",
        "outputId": "3af3f6d8-1833-42ab-f664-24dfecb5567c"
      },
      "source": [
        "(x_train_full, y_train_full), (x_test, y_test) = keras.datasets.imdb.load_data(num_words=500)\n",
        "# IMDB 리뷰에서 가장 자주 등장하는 단어 500개를 어휘 사전(word index)로 사용하는 데이터 셋을 로드."
      ],
      "execution_count": 19,
      "outputs": [
        {
          "output_type": "stream",
          "text": [
            "Downloading data from https://storage.googleapis.com/tensorflow/tf-keras-datasets/imdb.npz\n",
            "17465344/17464789 [==============================] - 0s 0us/step\n"
          ],
          "name": "stdout"
        },
        {
          "output_type": "stream",
          "text": [
            "<string>:6: VisibleDeprecationWarning: Creating an ndarray from ragged nested sequences (which is a list-or-tuple of lists-or-tuples-or ndarrays with different lengths or shapes) is deprecated. If you meant to do this, you must specify 'dtype=object' when creating the ndarray\n",
            "/usr/local/lib/python3.7/dist-packages/tensorflow/python/keras/datasets/imdb.py:159: VisibleDeprecationWarning: Creating an ndarray from ragged nested sequences (which is a list-or-tuple of lists-or-tuples-or ndarrays with different lengths or shapes) is deprecated. If you meant to do this, you must specify 'dtype=object' when creating the ndarray\n",
            "  x_train, y_train = np.array(xs[:idx]), np.array(labels[:idx])\n",
            "/usr/local/lib/python3.7/dist-packages/tensorflow/python/keras/datasets/imdb.py:160: VisibleDeprecationWarning: Creating an ndarray from ragged nested sequences (which is a list-or-tuple of lists-or-tuples-or ndarrays with different lengths or shapes) is deprecated. If you meant to do this, you must specify 'dtype=object' when creating the ndarray\n",
            "  x_test, y_test = np.array(xs[idx:]), np.array(labels[idx:])\n"
          ],
          "name": "stderr"
        }
      ]
    },
    {
      "cell_type": "code",
      "metadata": {
        "colab": {
          "base_uri": "https://localhost:8080/"
        },
        "id": "B2S4L-N5qfu6",
        "outputId": "1ebce182-884a-4e07-a1b7-243aedda6cb2"
      },
      "source": [
        "x_train_full.shape"
      ],
      "execution_count": 20,
      "outputs": [
        {
          "output_type": "execute_result",
          "data": {
            "text/plain": [
              "(25000,)"
            ]
          },
          "metadata": {
            "tags": []
          },
          "execution_count": 20
        }
      ]
    },
    {
      "cell_type": "code",
      "metadata": {
        "colab": {
          "base_uri": "https://localhost:8080/"
        },
        "id": "T-xbeiHeq4iY",
        "outputId": "6a9cf79e-229f-445b-9499-7279f3f6283f"
      },
      "source": [
        "x_train_full.dtype  #> object들을 원소로 갖는 1d array"
      ],
      "execution_count": 21,
      "outputs": [
        {
          "output_type": "execute_result",
          "data": {
            "text/plain": [
              "dtype('O')"
            ]
          },
          "metadata": {
            "tags": []
          },
          "execution_count": 21
        }
      ]
    },
    {
      "cell_type": "code",
      "metadata": {
        "colab": {
          "base_uri": "https://localhost:8080/"
        },
        "id": "CkiNCD8mrHVv",
        "outputId": "25d47b52-fdda-4f63-ce0d-d63a297ee34e"
      },
      "source": [
        "print(x_train_full[0])\n",
        "#> x_train_full은 25,000개의 (정수) 리스트를 원소로 하는 1d 배열"
      ],
      "execution_count": 22,
      "outputs": [
        {
          "output_type": "stream",
          "text": [
            "[1, 14, 22, 16, 43, 2, 2, 2, 2, 65, 458, 2, 66, 2, 4, 173, 36, 256, 5, 25, 100, 43, 2, 112, 50, 2, 2, 9, 35, 480, 284, 5, 150, 4, 172, 112, 167, 2, 336, 385, 39, 4, 172, 2, 2, 17, 2, 38, 13, 447, 4, 192, 50, 16, 6, 147, 2, 19, 14, 22, 4, 2, 2, 469, 4, 22, 71, 87, 12, 16, 43, 2, 38, 76, 15, 13, 2, 4, 22, 17, 2, 17, 12, 16, 2, 18, 2, 5, 62, 386, 12, 8, 316, 8, 106, 5, 4, 2, 2, 16, 480, 66, 2, 33, 4, 130, 12, 16, 38, 2, 5, 25, 124, 51, 36, 135, 48, 25, 2, 33, 6, 22, 12, 215, 28, 77, 52, 5, 14, 407, 16, 82, 2, 8, 4, 107, 117, 2, 15, 256, 4, 2, 7, 2, 5, 2, 36, 71, 43, 2, 476, 26, 400, 317, 46, 7, 4, 2, 2, 13, 104, 88, 4, 381, 15, 297, 98, 32, 2, 56, 26, 141, 6, 194, 2, 18, 4, 226, 22, 21, 134, 476, 26, 480, 5, 144, 30, 2, 18, 51, 36, 28, 224, 92, 25, 104, 4, 226, 65, 16, 38, 2, 88, 12, 16, 283, 5, 16, 2, 113, 103, 32, 15, 16, 2, 19, 178, 32]\n"
          ],
          "name": "stdout"
        }
      ]
    },
    {
      "cell_type": "code",
      "metadata": {
        "colab": {
          "base_uri": "https://localhost:8080/"
        },
        "id": "DByTttTYsHdK",
        "outputId": "81e5bc4c-5e54-4770-bfc1-8d4e6487d6ff"
      },
      "source": [
        "y_train_full.shape"
      ],
      "execution_count": 23,
      "outputs": [
        {
          "output_type": "execute_result",
          "data": {
            "text/plain": [
              "(25000,)"
            ]
          },
          "metadata": {
            "tags": []
          },
          "execution_count": 23
        }
      ]
    },
    {
      "cell_type": "code",
      "metadata": {
        "colab": {
          "base_uri": "https://localhost:8080/"
        },
        "id": "wJ5AmmnlsJ3Y",
        "outputId": "a406daf6-4283-4a77-a706-6c30da89e9b8"
      },
      "source": [
        "np.unique(y_train_full, return_counts=True)\n",
        "#> 타겟: 0-부정, 1-긍정"
      ],
      "execution_count": 24,
      "outputs": [
        {
          "output_type": "execute_result",
          "data": {
            "text/plain": [
              "(array([0, 1]), array([12500, 12500]))"
            ]
          },
          "metadata": {
            "tags": []
          },
          "execution_count": 24
        }
      ]
    },
    {
      "cell_type": "code",
      "metadata": {
        "colab": {
          "base_uri": "https://localhost:8080/"
        },
        "id": "IpgEvtnhsRvK",
        "outputId": "e0a2eeaa-3746-43b6-c9dc-0d5cc719c55d"
      },
      "source": [
        "x_test.shape  # 25,000개의 리스트를 원소로 갖는 1d 배열"
      ],
      "execution_count": 25,
      "outputs": [
        {
          "output_type": "execute_result",
          "data": {
            "text/plain": [
              "(25000,)"
            ]
          },
          "metadata": {
            "tags": []
          },
          "execution_count": 25
        }
      ]
    },
    {
      "cell_type": "code",
      "metadata": {
        "colab": {
          "base_uri": "https://localhost:8080/"
        },
        "id": "XyII5abtsnqf",
        "outputId": "5d73a72e-e8a9-42b3-9a2e-ef14691f0412"
      },
      "source": [
        "y_test.shape  # 긍정/부정 리뷰"
      ],
      "execution_count": 26,
      "outputs": [
        {
          "output_type": "execute_result",
          "data": {
            "text/plain": [
              "(25000,)"
            ]
          },
          "metadata": {
            "tags": []
          },
          "execution_count": 26
        }
      ]
    },
    {
      "cell_type": "code",
      "metadata": {
        "colab": {
          "base_uri": "https://localhost:8080/"
        },
        "id": "IBwKNtIAspOX",
        "outputId": "55aaccb7-50c3-42e6-ea3e-d87393a6a905"
      },
      "source": [
        "print(x_test[0])"
      ],
      "execution_count": 27,
      "outputs": [
        {
          "output_type": "stream",
          "text": [
            "[1, 2, 202, 14, 31, 6, 2, 10, 10, 2, 2, 5, 4, 360, 7, 4, 177, 2, 394, 354, 4, 123, 9, 2, 2, 2, 10, 10, 13, 92, 124, 89, 488, 2, 100, 28, 2, 14, 31, 23, 27, 2, 29, 220, 468, 8, 124, 14, 286, 170, 8, 157, 46, 5, 27, 239, 16, 179, 2, 38, 32, 25, 2, 451, 202, 14, 6, 2]\n"
          ],
          "name": "stdout"
        }
      ]
    },
    {
      "cell_type": "markdown",
      "metadata": {
        "id": "DxA2IjmOwlr_"
      },
      "source": [
        "*   0: padding\n",
        "*   1: 문장의 시작\n",
        "*   2: 어휘 사전에 없는 단어\n",
        "*   인덱스: 어휘 사전의 인덱스"
      ]
    },
    {
      "cell_type": "code",
      "metadata": {
        "colab": {
          "base_uri": "https://localhost:8080/"
        },
        "id": "v7-i4HLdxAS_",
        "outputId": "2baf1fa4-e154-47c8-f59e-8607497cd61f"
      },
      "source": [
        "# 어휘 사전을 로드\n",
        "word_index = keras.datasets.imdb.get_word_index()"
      ],
      "execution_count": 28,
      "outputs": [
        {
          "output_type": "stream",
          "text": [
            "Downloading data from https://storage.googleapis.com/tensorflow/tf-keras-datasets/imdb_word_index.json\n",
            "1646592/1641221 [==============================] - 0s 0us/step\n"
          ],
          "name": "stdout"
        }
      ]
    },
    {
      "cell_type": "code",
      "metadata": {
        "colab": {
          "base_uri": "https://localhost:8080/"
        },
        "id": "ti1K0_JqxIwQ",
        "outputId": "fe231b48-7039-44c0-ac44-1f86d15dc570"
      },
      "source": [
        "len(word_index)"
      ],
      "execution_count": 29,
      "outputs": [
        {
          "output_type": "execute_result",
          "data": {
            "text/plain": [
              "88584"
            ]
          },
          "metadata": {
            "tags": []
          },
          "execution_count": 29
        }
      ]
    },
    {
      "cell_type": "code",
      "metadata": {
        "colab": {
          "base_uri": "https://localhost:8080/"
        },
        "id": "hupm5zsnxLBH",
        "outputId": "0afbdc69-64f0-4d4d-d0d1-ad21bfd3af3f"
      },
      "source": [
        "type(word_index)"
      ],
      "execution_count": 30,
      "outputs": [
        {
          "output_type": "execute_result",
          "data": {
            "text/plain": [
              "dict"
            ]
          },
          "metadata": {
            "tags": []
          },
          "execution_count": 30
        }
      ]
    },
    {
      "cell_type": "code",
      "metadata": {
        "colab": {
          "base_uri": "https://localhost:8080/"
        },
        "id": "xkAO3OlhxWBf",
        "outputId": "f3032c29-ee33-4551-df11-6ab00ca19daf"
      },
      "source": [
        "\n",
        "for i, (k, v) in enumerate(word_index.items()):\n",
        "    print(k, ':', v)\n",
        "    if i == 5:\n",
        "        break"
      ],
      "execution_count": 31,
      "outputs": [
        {
          "output_type": "stream",
          "text": [
            "fawn : 34701\n",
            "tsukino : 52006\n",
            "nunnery : 52007\n",
            "sonja : 16816\n",
            "vani : 63951\n",
            "woods : 1408\n"
          ],
          "name": "stdout"
        }
      ]
    },
    {
      "cell_type": "code",
      "metadata": {
        "colab": {
          "base_uri": "https://localhost:8080/"
        },
        "id": "Q3Cv94hNxxAX",
        "outputId": "6fd499da-2874-47d6-d32d-f80409cb571c"
      },
      "source": [
        "# word_index에서 index의 오름차순으로 6개 출력\n",
        "sorted(word_index.items(), key=lambda x: x[1])[:6]"
      ],
      "execution_count": 32,
      "outputs": [
        {
          "output_type": "execute_result",
          "data": {
            "text/plain": [
              "[('the', 1), ('and', 2), ('a', 3), ('of', 4), ('to', 5), ('is', 6)]"
            ]
          },
          "metadata": {
            "tags": []
          },
          "execution_count": 32
        }
      ]
    },
    {
      "cell_type": "markdown",
      "metadata": {
        "id": "N5Q0K4Ag1mYn"
      },
      "source": [
        "## Train/Validation split"
      ]
    },
    {
      "cell_type": "code",
      "metadata": {
        "id": "kutUe8kgziQv"
      },
      "source": [
        "x_train, x_val, y_train, y_val = train_test_split(x_train_full, y_train_full,\n",
        "                                                  test_size=0.2,\n",
        "                                                  stratify=y_train_full,\n",
        "                                                  random_state=42)"
      ],
      "execution_count": 33,
      "outputs": []
    },
    {
      "cell_type": "code",
      "metadata": {
        "colab": {
          "base_uri": "https://localhost:8080/"
        },
        "id": "7ExCU9pc2Tl_",
        "outputId": "39989b93-56c6-4456-a77b-99089e2d7319"
      },
      "source": [
        "x_train.shape"
      ],
      "execution_count": 34,
      "outputs": [
        {
          "output_type": "execute_result",
          "data": {
            "text/plain": [
              "(20000,)"
            ]
          },
          "metadata": {
            "tags": []
          },
          "execution_count": 34
        }
      ]
    },
    {
      "cell_type": "code",
      "metadata": {
        "colab": {
          "base_uri": "https://localhost:8080/"
        },
        "id": "3_CvIRLM2VSm",
        "outputId": "c0e10e87-2368-4eef-b4af-645d27cc71af"
      },
      "source": [
        "np.unique(y_train, return_counts=True)"
      ],
      "execution_count": 35,
      "outputs": [
        {
          "output_type": "execute_result",
          "data": {
            "text/plain": [
              "(array([0, 1]), array([10000, 10000]))"
            ]
          },
          "metadata": {
            "tags": []
          },
          "execution_count": 35
        }
      ]
    },
    {
      "cell_type": "markdown",
      "metadata": {
        "id": "kkulYttP2qKH"
      },
      "source": [
        "## 데이터 탐색"
      ]
    },
    {
      "cell_type": "code",
      "metadata": {
        "colab": {
          "base_uri": "https://localhost:8080/"
        },
        "id": "DsPLgNfG2faO",
        "outputId": "7e4a67b2-ed6a-431e-dcb0-f5342ef81847"
      },
      "source": [
        "# 훈련 셋에 있는 각 리뷰의 길이(각 리뷰에서 사용된 단어 수)\n",
        "review_lengths = pd.Series([len(x) for x in x_train])\n",
        "print(review_lengths)"
      ],
      "execution_count": 36,
      "outputs": [
        {
          "output_type": "stream",
          "text": [
            "0        133\n",
            "1        398\n",
            "2        384\n",
            "3        205\n",
            "4        230\n",
            "        ... \n",
            "19995     95\n",
            "19996    138\n",
            "19997    148\n",
            "19998    138\n",
            "19999    116\n",
            "Length: 20000, dtype: int64\n"
          ],
          "name": "stdout"
        }
      ]
    },
    {
      "cell_type": "code",
      "metadata": {
        "colab": {
          "base_uri": "https://localhost:8080/"
        },
        "id": "uHlh-whM3EUw",
        "outputId": "036a23bb-418a-4c51-bb9d-2511548a131f"
      },
      "source": [
        "review_lengths.describe()"
      ],
      "execution_count": 37,
      "outputs": [
        {
          "output_type": "execute_result",
          "data": {
            "text/plain": [
              "count    20000.000000\n",
              "mean       238.493400\n",
              "std        176.785035\n",
              "min         11.000000\n",
              "25%        130.000000\n",
              "50%        178.000000\n",
              "75%        290.000000\n",
              "max       2494.000000\n",
              "dtype: float64"
            ]
          },
          "metadata": {
            "tags": []
          },
          "execution_count": 37
        }
      ]
    },
    {
      "cell_type": "code",
      "metadata": {
        "colab": {
          "base_uri": "https://localhost:8080/",
          "height": 265
        },
        "id": "fge6HG-13jc-",
        "outputId": "30b2a8b0-4555-46f4-dfad-264dc092ee21"
      },
      "source": [
        "review_lengths.hist(bins=20)\n",
        "plt.show()"
      ],
      "execution_count": 38,
      "outputs": [
        {
          "output_type": "display_data",
          "data": {
            "image/png": "[encoded data removed]",
            "text/plain": [
              "<Figure size 432x288 with 1 Axes>"
            ]
          },
          "metadata": {
            "tags": [],
            "needs_background": "light"
          }
        }
      ]
    },
    {
      "cell_type": "code",
      "metadata": {
        "colab": {
          "base_uri": "https://localhost:8080/",
          "height": 265
        },
        "id": "itNxzUt14Jru",
        "outputId": "00175187-6116-4730-cae6-cdc40b5aa159"
      },
      "source": [
        "review_lengths.plot.box()\n",
        "plt.show()"
      ],
      "execution_count": 39,
      "outputs": [
        {
          "output_type": "display_data",
          "data": {
            "image/png": "[encoded data removed]",
            "text/plain": [
              "<Figure size 432x288 with 1 Axes>"
            ]
          },
          "metadata": {
            "tags": [],
            "needs_background": "light"
          }
        }
      ]
    },
    {
      "cell_type": "code",
      "metadata": {
        "colab": {
          "base_uri": "https://localhost:8080/"
        },
        "id": "irMVtC1K9jBG",
        "outputId": "b7a927aa-3f91-4ab9-a38c-27650ae45327"
      },
      "source": [
        "for review in x_train[:5]:\n",
        "    print(review[:10])"
      ],
      "execution_count": 40,
      "outputs": [
        {
          "output_type": "stream",
          "text": [
            "[1, 2, 8, 135, 13, 28, 57, 326, 51, 363]\n",
            "[1, 2, 2, 2, 18, 116, 9, 4, 2, 2]\n",
            "[1, 14, 2, 2, 2, 201, 2, 2, 11, 4]\n",
            "[1, 321, 123, 305, 7, 149, 4, 172, 154, 2]\n",
            "[1, 2, 2, 2, 270, 11, 4, 2, 2, 7]\n"
          ],
          "name": "stdout"
        }
      ]
    },
    {
      "cell_type": "markdown",
      "metadata": {
        "id": "P708EU96029H"
      },
      "source": [
        "## 데이터 정제"
      ]
    },
    {
      "cell_type": "markdown",
      "metadata": {
        "id": "IThV5mQc06a-"
      },
      "source": [
        "샘플(IMDB 리뷰)마다 사용되는 단어 수가 다르기 때문에 훈련시키기 어려움.\n",
        "\n",
        "샘플(리뷰)마다 100개의 단어(token)만 사용.\n",
        "100개 이상의 단어가 사용되는 샘플은 잘라내고, 100개 미만의 단어가 사용되는 샘플들은 0으로 채움(padding).\n",
        ">   `keras.preprocessing.sequence.pad_sequences()` 함수 사용\n"
      ]
    },
    {
      "cell_type": "code",
      "metadata": {
        "id": "9FUj9sWs1yFG"
      },
      "source": [
        "x_train_seq = keras.preprocessing.sequence.pad_sequences(sequences=x_train, maxlen=100)\n",
        "# pad_sequences() 함수의 parameter:\n",
        "# maxlen: sequence의 최대 길이\n",
        "# padding='pre': maxlen보다 길이가 짧은 시퀀스일 때 패딩을 앞에서부터 채움\n",
        "# truncating='pre': maxlen보다 길이가 긴 시퀀스일 때 앞에서 자름."
      ],
      "execution_count": 41,
      "outputs": []
    },
    {
      "cell_type": "code",
      "metadata": {
        "colab": {
          "base_uri": "https://localhost:8080/"
        },
        "id": "xjYdYFSc2ib5",
        "outputId": "6def3807-da82-49ec-c41a-37c615c4b6db"
      },
      "source": [
        "x_train.shape  #> 1d array"
      ],
      "execution_count": 43,
      "outputs": [
        {
          "output_type": "execute_result",
          "data": {
            "text/plain": [
              "(20000,)"
            ]
          },
          "metadata": {
            "tags": []
          },
          "execution_count": 43
        }
      ]
    },
    {
      "cell_type": "code",
      "metadata": {
        "colab": {
          "base_uri": "https://localhost:8080/"
        },
        "id": "2OeFUDFS2ehv",
        "outputId": "b6bc1689-9dfb-4546-ba17-49fe6dfbe331"
      },
      "source": [
        "x_train_seq.shape  #> 2d array"
      ],
      "execution_count": 42,
      "outputs": [
        {
          "output_type": "execute_result",
          "data": {
            "text/plain": [
              "(20000, 100)"
            ]
          },
          "metadata": {
            "tags": []
          },
          "execution_count": 42
        }
      ]
    },
    {
      "cell_type": "code",
      "metadata": {
        "colab": {
          "base_uri": "https://localhost:8080/"
        },
        "id": "cFBItmrM2g9G",
        "outputId": "c81674a9-3558-4c66-8433-288a8adbc62b"
      },
      "source": [
        "x_train[0][:10]  # 훈련 셋 중에서 첫번째 샘플(리뷰)의 첫 10개 단어"
      ],
      "execution_count": 44,
      "outputs": [
        {
          "output_type": "execute_result",
          "data": {
            "text/plain": [
              "[1, 2, 8, 135, 13, 28, 57, 326, 51, 363]"
            ]
          },
          "metadata": {
            "tags": []
          },
          "execution_count": 44
        }
      ]
    },
    {
      "cell_type": "code",
      "metadata": {
        "colab": {
          "base_uri": "https://localhost:8080/"
        },
        "id": "Pg88Y0pO5Kdy",
        "outputId": "2b180473-f0c3-4ed2-b73a-053d9ef3a0c0"
      },
      "source": [
        "x_train[0][-10:]  # 훈련 셋 중에서 첫번째 샘플(리뷰)의 마지막 10개 단어"
      ],
      "execution_count": 45,
      "outputs": [
        {
          "output_type": "execute_result",
          "data": {
            "text/plain": [
              "[18, 399, 14, 8, 72, 25, 317, 72, 2, 53]"
            ]
          },
          "metadata": {
            "tags": []
          },
          "execution_count": 45
        }
      ]
    },
    {
      "cell_type": "code",
      "metadata": {
        "colab": {
          "base_uri": "https://localhost:8080/"
        },
        "id": "7W_0g6Ac5aI2",
        "outputId": "c2e50e30-9f6d-46a7-8811-a0ee3dc16939"
      },
      "source": [
        "x_train_seq[0][:10]"
      ],
      "execution_count": 46,
      "outputs": [
        {
          "output_type": "execute_result",
          "data": {
            "text/plain": [
              "array([  4,  20,   2,  21,   2,  92,   2, 178,  51,  75], dtype=int32)"
            ]
          },
          "metadata": {
            "tags": []
          },
          "execution_count": 46
        }
      ]
    },
    {
      "cell_type": "code",
      "metadata": {
        "colab": {
          "base_uri": "https://localhost:8080/"
        },
        "id": "3pN9F3PF5pC4",
        "outputId": "512e3802-e71f-4487-9bc5-a106cbfcbacf"
      },
      "source": [
        "x_train_seq[0][-10:]\n",
        "#> 시퀀스가 잘릴 때는 앞에서 잘림."
      ],
      "execution_count": 47,
      "outputs": [
        {
          "output_type": "execute_result",
          "data": {
            "text/plain": [
              "array([ 18, 399,  14,   8,  72,  25, 317,  72,   2,  53], dtype=int32)"
            ]
          },
          "metadata": {
            "tags": []
          },
          "execution_count": 47
        }
      ]
    },
    {
      "cell_type": "code",
      "metadata": {
        "colab": {
          "base_uri": "https://localhost:8080/"
        },
        "id": "XfrkKZqA5rlX",
        "outputId": "eaa5299e-c47a-4a19-e23d-34e378935cab"
      },
      "source": [
        "print(x_train_seq[19995])\n",
        "#> 시퀀스에 패딩이 채워질 때는 앞에 채워짐."
      ],
      "execution_count": 48,
      "outputs": [
        {
          "output_type": "stream",
          "text": [
            "[  0   0   0   0   0   1  13 244   6   2 194 337   7  91   7   4 108  15\n",
            "  28  77 448  23   2   2   2  14  31   2  17  31   7   4   2   5  91   2\n",
            "  10  10  13  28  43   2   2  12  18  44   4   2  58   5  13 131 169  12\n",
            " 483   2  17  73  17   2  10  10   4 136 121   2   9  23   6 252   2 265\n",
            "  19   4   2   2   9  31  63   2  46   5   4  57   2   2  34 117   2   2\n",
            "   2   4 130   9   6   2   7   2  10  10]\n"
          ],
          "name": "stdout"
        }
      ]
    },
    {
      "cell_type": "markdown",
      "metadata": {
        "id": "17gyv-pz6edH"
      },
      "source": [
        "검증 셋과 테스트 셋도 훈련 셋과 마찬가지로 자르거나 또는 패딩을 채워야 함."
      ]
    },
    {
      "cell_type": "code",
      "metadata": {
        "colab": {
          "base_uri": "https://localhost:8080/"
        },
        "id": "z_7hooo16don",
        "outputId": "7b75d807-4a72-4917-a834-da0e468dabed"
      },
      "source": [
        "x_val_seq = keras.preprocessing.sequence.pad_sequences(sequences=x_val, maxlen=100)\n",
        "x_val_seq.shape  #> (5000,) --> (5000, 100) 2d array"
      ],
      "execution_count": 49,
      "outputs": [
        {
          "output_type": "execute_result",
          "data": {
            "text/plain": [
              "(5000, 100)"
            ]
          },
          "metadata": {
            "tags": []
          },
          "execution_count": 49
        }
      ]
    },
    {
      "cell_type": "code",
      "metadata": {
        "colab": {
          "base_uri": "https://localhost:8080/"
        },
        "id": "sVnX7m7v6tEX",
        "outputId": "a679fce3-6362-433a-c52b-a6edcc7463cb"
      },
      "source": [
        "x_test_seq = keras.preprocessing.sequence.pad_sequences(sequences=x_test, maxlen=100)\n",
        "x_test_seq.shape # (25000,) --> (25000, 100) 2d array"
      ],
      "execution_count": 50,
      "outputs": [
        {
          "output_type": "execute_result",
          "data": {
            "text/plain": [
              "(25000, 100)"
            ]
          },
          "metadata": {
            "tags": []
          },
          "execution_count": 50
        }
      ]
    },
    {
      "cell_type": "markdown",
      "metadata": {
        "id": "u_kHi9xz8bw9"
      },
      "source": [
        "NLP(Natural Language Processing, 자연어 처리)에서는 숫자(정수)가 신경망을 훈련시킬 때 사요됨. 그런데 예를 들어서 20번 단어가 10번 단어보다 더 중요할 이유는 없기 때문에, word index의 인덱스를 그대로 훈련 데이터로 사용하는 것은 좋은 방법이 아님. 해결 방법:\n",
        "*   one-hot encoding\n",
        "*   word embedding"
      ]
    },
    {
      "cell_type": "code",
      "metadata": {
        "id": "F6YQ4WzN7JYP"
      },
      "source": [
        "x_train_1hot = keras.utils.to_categorical(x_train_seq)\n",
        "#> x_train_seq: (20000, 100)  -->  x_train_1hot: (20000, 100, 500)"
      ],
      "execution_count": 51,
      "outputs": []
    },
    {
      "cell_type": "code",
      "metadata": {
        "colab": {
          "base_uri": "https://localhost:8080/"
        },
        "id": "eaadOdzl9S4u",
        "outputId": "fb55a8fa-2a7a-42aa-c05f-4605d9feda7d"
      },
      "source": [
        "x_train_1hot.shape"
      ],
      "execution_count": 52,
      "outputs": [
        {
          "output_type": "execute_result",
          "data": {
            "text/plain": [
              "(20000, 100, 500)"
            ]
          },
          "metadata": {
            "tags": []
          },
          "execution_count": 52
        }
      ]
    },
    {
      "cell_type": "code",
      "metadata": {
        "id": "AxSTVjPV9VJ-"
      },
      "source": [
        "x_val_1hot = keras.utils.to_categorical(x_val_seq)\n",
        "x_test_1hot = keras.utils.to_categorical(x_test_seq)"
      ],
      "execution_count": 53,
      "outputs": []
    },
    {
      "cell_type": "code",
      "metadata": {
        "colab": {
          "base_uri": "https://localhost:8080/"
        },
        "id": "hyeyPz8V-UsP",
        "outputId": "fae80e04-c696-4b47-f0fb-47a85d423be7"
      },
      "source": [
        "x_val_1hot.shape  #> (5000, 100, 500)"
      ],
      "execution_count": 54,
      "outputs": [
        {
          "output_type": "execute_result",
          "data": {
            "text/plain": [
              "(5000, 100, 500)"
            ]
          },
          "metadata": {
            "tags": []
          },
          "execution_count": 54
        }
      ]
    },
    {
      "cell_type": "code",
      "metadata": {
        "colab": {
          "base_uri": "https://localhost:8080/"
        },
        "id": "46bHj4lK-bqu",
        "outputId": "62b81306-c47c-4a08-adc7-8f59a6de2e6d"
      },
      "source": [
        "x_test_1hot.shape  #> (25000, 100, 500)"
      ],
      "execution_count": 56,
      "outputs": [
        {
          "output_type": "execute_result",
          "data": {
            "text/plain": [
              "(25000, 100, 500)"
            ]
          },
          "metadata": {
            "tags": []
          },
          "execution_count": 56
        }
      ]
    },
    {
      "cell_type": "code",
      "metadata": {
        "colab": {
          "base_uri": "https://localhost:8080/"
        },
        "id": "t6ipJc1H-iY-",
        "outputId": "41ebd0cb-7404-4590-be3f-bdc4669df188"
      },
      "source": [
        "x_train_1hot"
      ],
      "execution_count": 57,
      "outputs": [
        {
          "output_type": "execute_result",
          "data": {
            "text/plain": [
              "array([[[0., 0., 0., ..., 0., 0., 0.],\n",
              "        [0., 0., 0., ..., 0., 0., 0.],\n",
              "        [0., 0., 1., ..., 0., 0., 0.],\n",
              "        ...,\n",
              "        [0., 0., 0., ..., 0., 0., 0.],\n",
              "        [0., 0., 1., ..., 0., 0., 0.],\n",
              "        [0., 0., 0., ..., 0., 0., 0.]],\n",
              "\n",
              "       [[0., 0., 0., ..., 0., 0., 0.],\n",
              "        [0., 0., 0., ..., 0., 0., 0.],\n",
              "        [0., 0., 1., ..., 0., 0., 0.],\n",
              "        ...,\n",
              "        [0., 0., 0., ..., 0., 0., 0.],\n",
              "        [0., 0., 1., ..., 0., 0., 0.],\n",
              "        [0., 0., 0., ..., 0., 0., 0.]],\n",
              "\n",
              "       [[0., 0., 0., ..., 0., 0., 0.],\n",
              "        [0., 0., 0., ..., 0., 0., 0.],\n",
              "        [0., 0., 0., ..., 0., 0., 0.],\n",
              "        ...,\n",
              "        [0., 0., 0., ..., 0., 0., 0.],\n",
              "        [0., 0., 0., ..., 0., 0., 0.],\n",
              "        [0., 0., 0., ..., 0., 0., 0.]],\n",
              "\n",
              "       ...,\n",
              "\n",
              "       [[0., 0., 0., ..., 0., 0., 0.],\n",
              "        [0., 0., 0., ..., 0., 0., 0.],\n",
              "        [0., 0., 1., ..., 0., 0., 0.],\n",
              "        ...,\n",
              "        [0., 0., 1., ..., 0., 0., 0.],\n",
              "        [0., 0., 0., ..., 0., 0., 0.],\n",
              "        [0., 0., 0., ..., 0., 0., 0.]],\n",
              "\n",
              "       [[0., 0., 0., ..., 0., 0., 0.],\n",
              "        [0., 0., 0., ..., 0., 0., 0.],\n",
              "        [0., 0., 1., ..., 0., 0., 0.],\n",
              "        ...,\n",
              "        [0., 0., 0., ..., 0., 0., 0.],\n",
              "        [0., 0., 1., ..., 0., 0., 0.],\n",
              "        [0., 0., 0., ..., 0., 0., 0.]],\n",
              "\n",
              "       [[0., 0., 0., ..., 0., 0., 0.],\n",
              "        [0., 0., 0., ..., 0., 0., 0.],\n",
              "        [0., 0., 0., ..., 0., 0., 0.],\n",
              "        ...,\n",
              "        [0., 0., 1., ..., 0., 0., 0.],\n",
              "        [0., 0., 1., ..., 0., 0., 0.],\n",
              "        [0., 0., 0., ..., 0., 0., 0.]]], dtype=float32)"
            ]
          },
          "metadata": {
            "tags": []
          },
          "execution_count": 57
        }
      ]
    }
  ]
}