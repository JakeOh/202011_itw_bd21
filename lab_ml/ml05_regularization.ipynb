{
  "nbformat": 4,
  "nbformat_minor": 0,
  "metadata": {
    "colab": {
      "name": "ml05_regularization.ipynb",
      "provenance": [],
      "collapsed_sections": [],
      "authorship_tag": "ABX9TyNkKBMYZVnPKjwmn8dCBg3U",
      "include_colab_link": true
    },
    "kernelspec": {
      "name": "python3",
      "display_name": "Python 3"
    }
  },
  "cells": [
    {
      "cell_type": "markdown",
      "metadata": {
        "id": "view-in-github",
        "colab_type": "text"
      },
      "source": [
        "<a href=\"https://colab.research.google.com/github/JakeOh/202011_itw_bd21/blob/main/lab_ml/ml05_regularization.ipynb\" target=\"_parent\"><img src=\"https://colab.research.google.com/assets/colab-badge.svg\" alt=\"Open In Colab\"/></a>"
      ]
    },
    {
      "cell_type": "markdown",
      "metadata": {
        "id": "Yl6jlCNj5N83"
      },
      "source": [
        "# Imports"
      ]
    },
    {
      "cell_type": "code",
      "metadata": {
        "id": "12ztFynP466v"
      },
      "source": [
        "import numpy as np\r\n",
        "import pandas as pd\r\n",
        "import matplotlib.pyplot as plt\r\n",
        "import seaborn as sns\r\n",
        "\r\n",
        "from sklearn.model_selection import train_test_split\r\n",
        "from sklearn.linear_model import LinearRegression, Ridge, Lasso, ElasticNet\r\n",
        "from sklearn.preprocessing import PolynomialFeatures, StandardScaler\r\n",
        "from sklearn.pipeline import Pipeline"
      ],
      "execution_count": 1,
      "outputs": []
    },
    {
      "cell_type": "markdown",
      "metadata": {
        "id": "7tdi3WHI6gcG"
      },
      "source": [
        "# Data"
      ]
    },
    {
      "cell_type": "code",
      "metadata": {
        "id": "5xgTuIb36epa"
      },
      "source": [
        "fish_file = 'https://github.com/JakeOh/202011_itw_bd21/raw/main/datasets/Fish.csv'"
      ],
      "execution_count": 2,
      "outputs": []
    },
    {
      "cell_type": "code",
      "metadata": {
        "id": "2Vs925-_6syO"
      },
      "source": [
        "fish_df = pd.read_csv(fish_file)"
      ],
      "execution_count": 3,
      "outputs": []
    },
    {
      "cell_type": "code",
      "metadata": {
        "colab": {
          "base_uri": "https://localhost:8080/",
          "height": 214
        },
        "id": "TNPA7R7c61G-",
        "outputId": "3bb65b45-0c38-4aa8-dabb-98752d23443a"
      },
      "source": [
        "fish_df.head()"
      ],
      "execution_count": 4,
      "outputs": [
        {
          "output_type": "execute_result",
          "data": {
            "text/html": [
              "<div>\n",
              "<style scoped>\n",
              "    .dataframe tbody tr th:only-of-type {\n",
              "        vertical-align: middle;\n",
              "    }\n",
              "\n",
              "    .dataframe tbody tr th {\n",
              "        vertical-align: top;\n",
              "    }\n",
              "\n",
              "    .dataframe thead th {\n",
              "        text-align: right;\n",
              "    }\n",
              "</style>\n",
              "<table border=\"1\" class=\"dataframe\">\n",
              "  <thead>\n",
              "    <tr style=\"text-align: right;\">\n",
              "      <th></th>\n",
              "      <th>Species</th>\n",
              "      <th>Weight</th>\n",
              "      <th>Length1</th>\n",
              "      <th>Length2</th>\n",
              "      <th>Length3</th>\n",
              "      <th>Height</th>\n",
              "      <th>Width</th>\n",
              "    </tr>\n",
              "  </thead>\n",
              "  <tbody>\n",
              "    <tr>\n",
              "      <th>0</th>\n",
              "      <td>Bream</td>\n",
              "      <td>242.0</td>\n",
              "      <td>23.2</td>\n",
              "      <td>25.4</td>\n",
              "      <td>30.0</td>\n",
              "      <td>11.5200</td>\n",
              "      <td>4.0200</td>\n",
              "    </tr>\n",
              "    <tr>\n",
              "      <th>1</th>\n",
              "      <td>Bream</td>\n",
              "      <td>290.0</td>\n",
              "      <td>24.0</td>\n",
              "      <td>26.3</td>\n",
              "      <td>31.2</td>\n",
              "      <td>12.4800</td>\n",
              "      <td>4.3056</td>\n",
              "    </tr>\n",
              "    <tr>\n",
              "      <th>2</th>\n",
              "      <td>Bream</td>\n",
              "      <td>340.0</td>\n",
              "      <td>23.9</td>\n",
              "      <td>26.5</td>\n",
              "      <td>31.1</td>\n",
              "      <td>12.3778</td>\n",
              "      <td>4.6961</td>\n",
              "    </tr>\n",
              "    <tr>\n",
              "      <th>3</th>\n",
              "      <td>Bream</td>\n",
              "      <td>363.0</td>\n",
              "      <td>26.3</td>\n",
              "      <td>29.0</td>\n",
              "      <td>33.5</td>\n",
              "      <td>12.7300</td>\n",
              "      <td>4.4555</td>\n",
              "    </tr>\n",
              "    <tr>\n",
              "      <th>4</th>\n",
              "      <td>Bream</td>\n",
              "      <td>430.0</td>\n",
              "      <td>26.5</td>\n",
              "      <td>29.0</td>\n",
              "      <td>34.0</td>\n",
              "      <td>12.4440</td>\n",
              "      <td>5.1340</td>\n",
              "    </tr>\n",
              "  </tbody>\n",
              "</table>\n",
              "</div>"
            ],
            "text/plain": [
              "  Species  Weight  Length1  Length2  Length3   Height   Width\n",
              "0   Bream   242.0     23.2     25.4     30.0  11.5200  4.0200\n",
              "1   Bream   290.0     24.0     26.3     31.2  12.4800  4.3056\n",
              "2   Bream   340.0     23.9     26.5     31.1  12.3778  4.6961\n",
              "3   Bream   363.0     26.3     29.0     33.5  12.7300  4.4555\n",
              "4   Bream   430.0     26.5     29.0     34.0  12.4440  5.1340"
            ]
          },
          "metadata": {
            "tags": []
          },
          "execution_count": 4
        }
      ]
    },
    {
      "cell_type": "code",
      "metadata": {
        "colab": {
          "base_uri": "https://localhost:8080/",
          "height": 214
        },
        "id": "yN0p7flq63i4",
        "outputId": "caad02e6-7ae1-48dd-cfac-d3e1d0b34490"
      },
      "source": [
        "# 농어(perch) 데이터\r\n",
        "perch = fish_df[fish_df['Species'] == 'Perch']\r\n",
        "perch.head()"
      ],
      "execution_count": 5,
      "outputs": [
        {
          "output_type": "execute_result",
          "data": {
            "text/html": [
              "<div>\n",
              "<style scoped>\n",
              "    .dataframe tbody tr th:only-of-type {\n",
              "        vertical-align: middle;\n",
              "    }\n",
              "\n",
              "    .dataframe tbody tr th {\n",
              "        vertical-align: top;\n",
              "    }\n",
              "\n",
              "    .dataframe thead th {\n",
              "        text-align: right;\n",
              "    }\n",
              "</style>\n",
              "<table border=\"1\" class=\"dataframe\">\n",
              "  <thead>\n",
              "    <tr style=\"text-align: right;\">\n",
              "      <th></th>\n",
              "      <th>Species</th>\n",
              "      <th>Weight</th>\n",
              "      <th>Length1</th>\n",
              "      <th>Length2</th>\n",
              "      <th>Length3</th>\n",
              "      <th>Height</th>\n",
              "      <th>Width</th>\n",
              "    </tr>\n",
              "  </thead>\n",
              "  <tbody>\n",
              "    <tr>\n",
              "      <th>72</th>\n",
              "      <td>Perch</td>\n",
              "      <td>5.9</td>\n",
              "      <td>7.5</td>\n",
              "      <td>8.4</td>\n",
              "      <td>8.8</td>\n",
              "      <td>2.1120</td>\n",
              "      <td>1.4080</td>\n",
              "    </tr>\n",
              "    <tr>\n",
              "      <th>73</th>\n",
              "      <td>Perch</td>\n",
              "      <td>32.0</td>\n",
              "      <td>12.5</td>\n",
              "      <td>13.7</td>\n",
              "      <td>14.7</td>\n",
              "      <td>3.5280</td>\n",
              "      <td>1.9992</td>\n",
              "    </tr>\n",
              "    <tr>\n",
              "      <th>74</th>\n",
              "      <td>Perch</td>\n",
              "      <td>40.0</td>\n",
              "      <td>13.8</td>\n",
              "      <td>15.0</td>\n",
              "      <td>16.0</td>\n",
              "      <td>3.8240</td>\n",
              "      <td>2.4320</td>\n",
              "    </tr>\n",
              "    <tr>\n",
              "      <th>75</th>\n",
              "      <td>Perch</td>\n",
              "      <td>51.5</td>\n",
              "      <td>15.0</td>\n",
              "      <td>16.2</td>\n",
              "      <td>17.2</td>\n",
              "      <td>4.5924</td>\n",
              "      <td>2.6316</td>\n",
              "    </tr>\n",
              "    <tr>\n",
              "      <th>76</th>\n",
              "      <td>Perch</td>\n",
              "      <td>70.0</td>\n",
              "      <td>15.7</td>\n",
              "      <td>17.4</td>\n",
              "      <td>18.5</td>\n",
              "      <td>4.5880</td>\n",
              "      <td>2.9415</td>\n",
              "    </tr>\n",
              "  </tbody>\n",
              "</table>\n",
              "</div>"
            ],
            "text/plain": [
              "   Species  Weight  Length1  Length2  Length3  Height   Width\n",
              "72   Perch     5.9      7.5      8.4      8.8  2.1120  1.4080\n",
              "73   Perch    32.0     12.5     13.7     14.7  3.5280  1.9992\n",
              "74   Perch    40.0     13.8     15.0     16.0  3.8240  2.4320\n",
              "75   Perch    51.5     15.0     16.2     17.2  4.5924  2.6316\n",
              "76   Perch    70.0     15.7     17.4     18.5  4.5880  2.9415"
            ]
          },
          "metadata": {
            "tags": []
          },
          "execution_count": 5
        }
      ]
    },
    {
      "cell_type": "code",
      "metadata": {
        "id": "4R5rCfQo7MpO"
      },
      "source": [
        "# 농어의 Length2로 Weight를 예측\r\n",
        "X = perch['Length2'].values.reshape((-1, 1))  # 데이터: (1, 1) 모양의 2d 배열\r\n",
        "y = perch['Weight'].values  # 타겟: 1d 배열"
      ],
      "execution_count": 10,
      "outputs": []
    },
    {
      "cell_type": "code",
      "metadata": {
        "colab": {
          "base_uri": "https://localhost:8080/"
        },
        "id": "RTsfbnvk8l-2",
        "outputId": "ad72eba4-2919-4a46-bcca-cc0c461adbfa"
      },
      "source": [
        "X.shape  # (n_samples, n_features)"
      ],
      "execution_count": 11,
      "outputs": [
        {
          "output_type": "execute_result",
          "data": {
            "text/plain": [
              "(56, 1)"
            ]
          },
          "metadata": {
            "tags": []
          },
          "execution_count": 11
        }
      ]
    },
    {
      "cell_type": "code",
      "metadata": {
        "colab": {
          "base_uri": "https://localhost:8080/"
        },
        "id": "QMgXFf188n4_",
        "outputId": "b11071e3-0336-40a3-8244-9def32023144"
      },
      "source": [
        "y.shape"
      ],
      "execution_count": 13,
      "outputs": [
        {
          "output_type": "execute_result",
          "data": {
            "text/plain": [
              "(56,)"
            ]
          },
          "metadata": {
            "tags": []
          },
          "execution_count": 13
        }
      ]
    },
    {
      "cell_type": "markdown",
      "metadata": {
        "id": "mSweSae99GuX"
      },
      "source": [
        "Train/Test split"
      ]
    },
    {
      "cell_type": "code",
      "metadata": {
        "id": "8CYkjdnq8xBH"
      },
      "source": [
        "X_train, X_test, y_train, y_test = train_test_split(X, y,\r\n",
        "                                                    test_size=0.25,\r\n",
        "                                                    random_state=42)"
      ],
      "execution_count": 14,
      "outputs": []
    },
    {
      "cell_type": "code",
      "metadata": {
        "colab": {
          "base_uri": "https://localhost:8080/"
        },
        "id": "OAYGxnmM9dGH",
        "outputId": "106fd1f8-5fea-404a-f3b7-afa67f1799b8"
      },
      "source": [
        "X_train.shape, y_train.shape"
      ],
      "execution_count": 15,
      "outputs": [
        {
          "output_type": "execute_result",
          "data": {
            "text/plain": [
              "((42, 1), (42,))"
            ]
          },
          "metadata": {
            "tags": []
          },
          "execution_count": 15
        }
      ]
    },
    {
      "cell_type": "code",
      "metadata": {
        "colab": {
          "base_uri": "https://localhost:8080/",
          "height": 279
        },
        "id": "BC3VIibQ90He",
        "outputId": "028c944b-38c5-492b-ad2c-0ac1252fd0b9"
      },
      "source": [
        "plt.scatter(X_train, y_train, color='black')\r\n",
        "\r\n",
        "plt.xlabel('Length (cm)')\r\n",
        "plt.ylabel('Weight (g)')\r\n",
        "plt.show()"
      ],
      "execution_count": 16,
      "outputs": [
        {
          "output_type": "display_data",
          "data": {
            "image/png": "[encoded data removed]",
            "text/plain": [
              "<Figure size 432x288 with 1 Axes>"
            ]
          },
          "metadata": {
            "tags": [],
            "needs_background": "light"
          }
        }
      ]
    },
    {
      "cell_type": "markdown",
      "metadata": {
        "id": "tZ7JBPPR9ru4"
      },
      "source": [
        "# Polynomial을 이용한 LinearRegression"
      ]
    },
    {
      "cell_type": "code",
      "metadata": {
        "id": "TZU_AuVS9hKJ"
      },
      "source": [
        "# 선형 회귀 결과를 시각화할 때 사용하기 위해서\r\n",
        "Xs = np.arange(14, 45, 0.001).reshape((-1, 1))  # predict() 메서드에서 사용할 수 있는 shape"
      ],
      "execution_count": 17,
      "outputs": []
    },
    {
      "cell_type": "code",
      "metadata": {
        "id": "V65pw0wA_4j3"
      },
      "source": [
        "def visualize_regression(estimator, X, y):\r\n",
        "    Xs = np.arange(14, 45, 0.001).reshape((-1, 1))\r\n",
        "    degrees = (1, 2, 5, 100)\r\n",
        "    for d in degrees:\r\n",
        "        # 훈련 모델: Polynomial -> Scale -> L.R.\r\n",
        "        poly_features = PolynomialFeatures(degree=d, include_bias=False)\r\n",
        "        std_scaler = StandardScaler()\r\n",
        "        lin_reg = estimator\r\n",
        "        model = Pipeline([('poly', poly_features),\r\n",
        "                        ('scaler', std_scaler),\r\n",
        "                        ('reg', lin_reg)])\r\n",
        "        # 모델을 훈련 셋에 fitting(학습시킴)\r\n",
        "        model.fit(X, y)\r\n",
        "        # 회귀 훈련의 결과\r\n",
        "        print(model['reg'].coef_)\r\n",
        "\r\n",
        "        # 회귀의 결과를 시각화하기 위한 y값들\r\n",
        "        ys = model.predict(Xs)\r\n",
        "        # 시각화\r\n",
        "        plt.plot(Xs, ys, label=f'degree={d}')\r\n",
        "\r\n",
        "    # 훈련 데이터 시각화\r\n",
        "    plt.scatter(X, y, color='black', alpha=0.5)\r\n",
        "\r\n",
        "    plt.legend()\r\n",
        "    plt.xlabel('Length (cm)')\r\n",
        "    plt.ylabel('Weight (g)')\r\n",
        "    plt.xlim((14, 45))\r\n",
        "    plt.ylim((-200, 1400))\r\n",
        "    plt.show()"
      ],
      "execution_count": 22,
      "outputs": []
    },
    {
      "cell_type": "code",
      "metadata": {
        "colab": {
          "base_uri": "https://localhost:8080/",
          "height": 924
        },
        "id": "WTbWoQGPCNRU",
        "outputId": "1a822e53-1113-4ef5-8e66-3e44852984c8"
      },
      "source": [
        "regressor = LinearRegression()  # 선형 회귀 모델 생성\r\n",
        "visualize_regression(estimator=regressor, X=X_train, y=y_train)  # 함수 호출"
      ],
      "execution_count": 24,
      "outputs": [
        {
          "output_type": "stream",
          "text": [
            "[340.55381311]\n",
            "[-188.16429447  532.30423546]\n",
            "[ 1090.51349849 -4377.12096334  5960.80924384 -2038.47216236\n",
            "  -298.04297802]\n",
            "[ 2.00557630e+10 -2.58408022e+11  1.49532847e+12 -4.90418675e+12\n",
            "  9.34291430e+12 -8.67392996e+12 -7.82611682e+11  7.69668003e+12\n",
            " -5.58109456e+09 -6.79558407e+12 -2.46010065e+12  4.99817517e+12\n",
            "  5.20423172e+12 -1.63569143e+11 -5.04386991e+12 -4.58103039e+12\n",
            " -2.92727936e+11  3.58006339e+12  4.82124023e+12  2.56502444e+12\n",
            " -1.02653972e+12 -3.84050839e+12 -4.08225740e+12 -2.38407359e+12\n",
            "  1.98148411e+11  2.61238310e+12  3.62406355e+12  3.27104682e+12\n",
            "  1.54929950e+12 -4.44063972e+11 -2.07165132e+12 -3.00069992e+12\n",
            " -3.00183843e+12 -2.13789600e+12 -6.78418491e+11  7.14760716e+11\n",
            "  2.02103482e+12  2.55576738e+12  2.52470076e+12  1.91395216e+12\n",
            "  1.04869405e+12  8.39890755e+10 -9.16363136e+11 -1.73570552e+12\n",
            " -2.04897502e+12 -2.09658188e+12 -1.65299115e+12 -1.16987146e+12\n",
            " -4.25185309e+11  2.76530253e+11  9.12030793e+11  1.36269923e+12\n",
            "  1.62030446e+12  1.62185850e+12  1.35146135e+12  1.18636212e+12\n",
            "  6.37891497e+11  9.30442761e+10 -3.07087213e+11 -7.97525808e+11\n",
            " -1.09119222e+12 -1.25596811e+12 -1.20076999e+12 -1.27951426e+12\n",
            " -1.01833445e+12 -5.97085554e+11 -3.60526253e+11  1.73064071e+11\n",
            "  4.90102798e+11  7.60390219e+11  8.76080358e+11  1.08675824e+12\n",
            "  8.93363876e+11  8.47995801e+11  7.48071791e+11  3.58460868e+11\n",
            "  1.88892254e+11 -2.12754968e+11 -5.09387572e+11 -4.66983886e+11\n",
            " -7.17846515e+11 -8.15320173e+11 -8.04217164e+11 -6.39844011e+11\n",
            " -4.69151884e+11 -4.69548440e+10  3.62721502e+11  4.90415492e+11\n",
            "  7.22326490e+11  8.93030174e+11  5.34427578e+11 -4.26221271e+10\n",
            " -1.02153095e+12  0.00000000e+00  0.00000000e+00  0.00000000e+00\n",
            "  0.00000000e+00  0.00000000e+00  0.00000000e+00  0.00000000e+00]\n"
          ],
          "name": "stdout"
        },
        {
          "output_type": "stream",
          "text": [
            "/usr/local/lib/python3.7/dist-packages/numpy/lib/nanfunctions.py:1544: RuntimeWarning: overflow encountered in multiply\n",
            "  sqr = np.multiply(arr, arr, out=arr)\n"
          ],
          "name": "stderr"
        },
        {
          "output_type": "display_data",
          "data": {
            "image/png": "[encoded data removed]",
            "text/plain": [
              "<Figure size 432x288 with 1 Axes>"
            ]
          },
          "metadata": {
            "tags": [],
            "needs_background": "light"
          }
        }
      ]
    },
    {
      "cell_type": "markdown",
      "metadata": {
        "id": "tLQkGx7sLqsj"
      },
      "source": [
        "## Ridge(l2) Regularization(규제) 효과"
      ]
    },
    {
      "cell_type": "code",
      "metadata": {
        "colab": {
          "base_uri": "https://localhost:8080/",
          "height": 903
        },
        "id": "Ka2BKA-WLhkk",
        "outputId": "2a192a49-5f8c-4a42-f640-c2aff7581413"
      },
      "source": [
        "regressor = Ridge()\r\n",
        "visualize_regression(regressor, X_train, y_train)"
      ],
      "execution_count": 25,
      "outputs": [
        {
          "output_type": "stream",
          "text": [
            "[332.63395699]\n",
            "[ 90.58971122 249.48800198]\n",
            "[71.46390274 95.36902828 90.24481144 64.15690222 24.69095831]\n",
            "[ 5.68458773e+01  7.11425789e+01  7.19548031e+01  6.42812775e+01\n",
            "  5.23489678e+01  3.91902142e+01  2.67131342e+01  1.59431315e+01\n",
            "  7.28932355e+00  7.73385834e-01 -3.79884638e+00 -6.72086082e+00\n",
            " -8.31296552e+00 -8.88121060e+00 -8.69698510e+00 -7.98930587e+00\n",
            " -6.94436388e+00 -5.70885132e+00 -4.39495875e+00 -3.08582633e+00\n",
            " -1.84079404e+00 -7.00133384e-01  3.10859884e-01  1.17842459e+00\n",
            "  1.89750069e+00  2.46943497e+00  2.90014981e+00  3.19870069e+00\n",
            "  3.37615470e+00  3.44473059e+00  3.41714966e+00  3.30615492e+00\n",
            "  3.12416328e+00  2.88302224e+00  2.59384748e+00  2.26692283e+00\n",
            "  1.91164759e+00  1.53651914e+00  1.14914171e+00  7.56253695e-01\n",
            "  3.63767984e-01 -2.31792990e-02 -4.00174914e-01 -7.63472115e-01\n",
            " -1.10993364e+00 -1.43697553e+00 -1.74251269e+00 -2.02490700e+00\n",
            " -2.28291835e+00 -2.51565892e+00 -2.72255076e+00 -2.90328676e+00\n",
            " -3.05779501e+00 -3.18620626e+00 -3.28882457e+00 -3.36610077e+00\n",
            " -3.41860873e+00 -3.44702409e+00 -3.45210537e+00 -3.43467726e+00\n",
            " -3.39561579e+00 -3.33583541e+00 -3.25627759e+00 -3.15790099e+00\n",
            " -3.04167284e+00 -2.90856165e+00 -2.75953086e+00 -2.59553350e+00\n",
            " -2.41750771e+00 -2.22637298e+00 -2.02302706e+00 -1.80834346e+00\n",
            " -1.58316945e+00 -1.34832457e+00 -1.10459943e+00 -8.52754959e-01\n",
            " -5.93521859e-01 -3.27600388e-01 -5.56603146e-02  2.21658924e-01\n",
            "  5.03747911e-01  7.90026804e-01  1.07994478e+00  1.37297941e+00\n",
            "  1.66863589e+00  1.96644634e+00  2.26596893e+00  2.56678705e+00\n",
            "  2.86850844e+00  3.17076429e+00  3.47320836e+00  3.77551605e+00\n",
            "  4.07738357e+00  0.00000000e+00  0.00000000e+00  0.00000000e+00\n",
            "  0.00000000e+00  0.00000000e+00  0.00000000e+00  0.00000000e+00]\n"
          ],
          "name": "stdout"
        },
        {
          "output_type": "stream",
          "text": [
            "/usr/local/lib/python3.7/dist-packages/numpy/lib/nanfunctions.py:1544: RuntimeWarning: overflow encountered in multiply\n",
            "  sqr = np.multiply(arr, arr, out=arr)\n"
          ],
          "name": "stderr"
        },
        {
          "output_type": "display_data",
          "data": {
            "image/png": "[encoded data removed]",
            "text/plain": [
              "<Figure size 432x288 with 1 Axes>"
            ]
          },
          "metadata": {
            "tags": [],
            "needs_background": "light"
          }
        }
      ]
    },
    {
      "cell_type": "markdown",
      "metadata": {
        "id": "TRYLgE4MNwMN"
      },
      "source": [
        "Ridge 규제는 고차항들의 계수를 작게 만들어서 곡선의 기울기 완만해지게 만들어 줌으써, 더 일반화가 잘 되는(테스트 셋에서 더 좋은 점수가 나오는) 모델을 만들어 줌."
      ]
    },
    {
      "cell_type": "markdown",
      "metadata": {
        "id": "ZWgFEiwoOMpE"
      },
      "source": [
        "## Lasso(l1) Regularization(규제)의 효과"
      ]
    },
    {
      "cell_type": "code",
      "metadata": {
        "colab": {
          "base_uri": "https://localhost:8080/",
          "height": 861
        },
        "id": "cjSgWWAQOTo9",
        "outputId": "6da7d962-6270-4296-b93b-5b1150b10e7a"
      },
      "source": [
        "regressor = Lasso()\r\n",
        "visualize_regression(regressor, X_train, y_train)"
      ],
      "execution_count": 27,
      "outputs": [
        {
          "output_type": "stream",
          "text": [
            "[339.55381311]\n",
            "[-37.56688954 381.72140363]\n",
            "[  0.         169.86798493 175.39652371   0.          -0.        ]\n",
            "[  0.          63.2765925  268.72581206  29.02636369   0.\n",
            "   0.           0.           0.          -0.          -0.\n",
            "  -0.          -0.          -0.          -0.          -0.\n",
            "  -0.          -0.          -0.          -0.          -0.\n",
            "  -0.          -0.          -0.          -0.          -0.\n",
            "  -0.          -0.          -0.          -0.          -0.\n",
            "  -0.          -0.          -0.          -0.          -0.\n",
            "  -0.          -0.          -0.          -0.          -0.\n",
            "  -0.          -0.          -0.          -0.          -0.\n",
            "  -0.          -0.          -0.          -0.          -0.\n",
            "  -0.          -0.          -0.          -0.          -6.77634564\n",
            "  -6.07574687  -5.17017489  -4.29993019  -3.4658082   -2.66828008\n",
            "  -1.90753532  -1.18352019  -0.49597256  -0.          -0.\n",
            "  -0.          -0.          -0.          -0.          -0.\n",
            "  -0.          -0.          -0.          -0.          -0.\n",
            "  -0.          -0.          -0.          -0.          -0.\n",
            "  -0.          -0.          -0.          -0.          -0.\n",
            "  -0.          -0.          -0.          -0.          -0.\n",
            "  -0.          -0.          -0.           0.           0.\n",
            "   0.           0.           0.           0.           0.        ]\n"
          ],
          "name": "stdout"
        },
        {
          "output_type": "stream",
          "text": [
            "/usr/local/lib/python3.7/dist-packages/numpy/lib/nanfunctions.py:1544: RuntimeWarning: overflow encountered in multiply\n",
            "  sqr = np.multiply(arr, arr, out=arr)\n",
            "/usr/local/lib/python3.7/dist-packages/sklearn/linear_model/_coordinate_descent.py:476: ConvergenceWarning: Objective did not converge. You might want to increase the number of iterations. Duality gap: 761.342244306521, tolerance: 518.2793833333334\n",
            "  positive)\n"
          ],
          "name": "stderr"
        },
        {
          "output_type": "display_data",
          "data": {
            "image/png": "[encoded data removed]",
            "text/plain": [
              "<Figure size 432x288 with 1 Axes>"
            ]
          },
          "metadata": {
            "tags": [],
            "needs_background": "light"
          }
        }
      ]
    },
    {
      "cell_type": "markdown",
      "metadata": {
        "id": "6r2Y30xLPfX0"
      },
      "source": [
        "Lasso 규제는 중요하지 고차항의 계수들을 0으로 만들어 줌으로써, 곡선을 완만하게 만들어서 일반화 성능을 높여주는(테스트 셋을 더 잘 예측하는) 모델을 만들어 줌."
      ]
    },
    {
      "cell_type": "markdown",
      "metadata": {
        "id": "T-so8xkOQB8t"
      },
      "source": [
        "## ElasticNet Regularization"
      ]
    },
    {
      "cell_type": "code",
      "metadata": {
        "colab": {
          "base_uri": "https://localhost:8080/",
          "height": 903
        },
        "id": "KHybISVpOZ90",
        "outputId": "430eaf77-809c-4e10-b09f-42fcf4cdee21"
      },
      "source": [
        "visualize_regression(ElasticNet(), X_train, y_train)"
      ],
      "execution_count": 28,
      "outputs": [
        {
          "output_type": "stream",
          "text": [
            "[226.70254207]\n",
            "[132.58403091 142.14452539]\n",
            "[65.81871932 66.12553502 64.44511229 61.45264451 57.66069996]\n",
            "[ 5.37266781e+01  5.02547097e+01  4.56276297e+01  4.04950707e+01\n",
            "  3.52929284e+01  3.02982404e+01  2.56736771e+01  2.15003478e+01\n",
            "  1.78033024e+01  1.45715607e+01  1.17731829e+01  9.36589058e+00\n",
            "  7.30403328e+00  5.54281382e+00  4.04060776e+00  2.76004271e+00\n",
            "  1.66831789e+00  7.37088409e-01  0.00000000e+00  0.00000000e+00\n",
            " -0.00000000e+00 -0.00000000e+00 -2.27791529e-01 -5.90474953e-01\n",
            " -9.00842714e-01 -1.16612354e+00 -1.39237937e+00 -1.58470077e+00\n",
            " -1.74737049e+00 -1.88399987e+00 -1.99764224e+00 -2.09088710e+00\n",
            " -2.16593838e+00 -2.22467956e+00 -2.26872791e+00 -2.29947991e+00\n",
            " -2.31814926e+00 -2.32579877e+00 -2.32336730e+00 -2.31169228e+00\n",
            " -2.29152875e+00 -2.26356518e+00 -2.22843668e+00 -2.18673587e+00\n",
            " -2.13902157e+00 -2.08582576e+00 -2.02765877e+00 -1.96501303e+00\n",
            " -1.89836548e+00 -1.82817884e+00 -1.75490190e+00 -1.67896900e+00\n",
            " -1.60079893e+00 -1.52079329e+00 -1.43933470e+00 -1.35678479e+00\n",
            " -1.27348228e+00 -1.18974115e+00 -1.10584901e+00 -1.02206592e+00\n",
            " -9.38623352e-01 -8.55723712e-01 -7.73540144e-01 -6.92216761e-01\n",
            " -6.11869231e-01 -5.32585704e-01 -4.54428042e-01 -3.77433330e-01\n",
            " -3.01615619e-01 -2.26967876e-01 -1.53464107e-01 -8.10616212e-02\n",
            " -9.70341472e-03 -0.00000000e+00 -0.00000000e+00 -0.00000000e+00\n",
            " -0.00000000e+00 -0.00000000e+00 -0.00000000e+00 -0.00000000e+00\n",
            " -0.00000000e+00 -0.00000000e+00 -0.00000000e+00 -0.00000000e+00\n",
            " -0.00000000e+00 -0.00000000e+00 -0.00000000e+00  0.00000000e+00\n",
            "  0.00000000e+00  0.00000000e+00  0.00000000e+00  0.00000000e+00\n",
            "  0.00000000e+00  0.00000000e+00  0.00000000e+00  0.00000000e+00\n",
            "  0.00000000e+00  0.00000000e+00  0.00000000e+00  0.00000000e+00]\n"
          ],
          "name": "stdout"
        },
        {
          "output_type": "stream",
          "text": [
            "/usr/local/lib/python3.7/dist-packages/numpy/lib/nanfunctions.py:1544: RuntimeWarning: overflow encountered in multiply\n",
            "  sqr = np.multiply(arr, arr, out=arr)\n"
          ],
          "name": "stderr"
        },
        {
          "output_type": "display_data",
          "data": {
            "image/png": "[encoded data removed]",
            "text/plain": [
              "<Figure size 432x288 with 1 Axes>"
            ]
          },
          "metadata": {
            "tags": [],
            "needs_background": "light"
          }
        }
      ]
    },
    {
      "cell_type": "markdown",
      "metadata": {
        "id": "uV8ry3R0UWrm"
      },
      "source": [
        "ElasticNet 규제는 Ridge(l2) 규제와 Lasso(l1) 규제의 효과를 모두 갖고 있습니다."
      ]
    },
    {
      "cell_type": "markdown",
      "metadata": {
        "id": "oTOvqUKUVArl"
      },
      "source": [
        "# Ridge(l2) Regularization"
      ]
    },
    {
      "cell_type": "markdown",
      "metadata": {
        "id": "wRM4PPmmYmMZ"
      },
      "source": [
        "$\\hat{y} = w_0 + w_1 \\times x$ : 예측값\r\n",
        "\r\n",
        "$y$ : 실제값\r\n",
        "\r\n",
        "$MSE(w) = \\frac{1}{N} \\sum{(y - \\hat{y})^2} = \\frac{1}{N} \\sum{(y - (w_0 + w_1 \\times x))^2}$\r\n",
        "\r\n",
        "선형 회귀(Linear Regression)의 목적은 MSE(mean squared errors)를 최소화할 수 있는 계수 $w$($w_0$와 $w_1$)를 찾는 것.\r\n",
        "\r\n",
        "MSE를 선형 회귀의 비용(손실) 함수라 부름.\r\n",
        "\r\n",
        "머신 러닝이란 비용 함수(cost function) 또는 손실 함수(loss function)를 최소화하는 값들(coefficient, 계수)을 찾는 알고리즘.\r\n",
        "\r\n",
        "규제(regularization)란 계수들을 찾기 위한 비용(손실) 함수에 추가적인 에러항을 더 추가해서 비용(손실)을 더 늘려주는 것."
      ]
    },
    {
      "cell_type": "markdown",
      "metadata": {
        "id": "RaZM2ci8bLSh"
      },
      "source": [
        "**Ridge(l2)**\r\n",
        "\r\n",
        "$J(w) = MSE(w) + \\alpha \\times \\mid\\mid w \\mid\\mid ^2 $"
      ]
    },
    {
      "cell_type": "code",
      "metadata": {
        "id": "AaPxWeiCQeCY"
      },
      "source": [
        ""
      ],
      "execution_count": null,
      "outputs": []
    }
  ]
}