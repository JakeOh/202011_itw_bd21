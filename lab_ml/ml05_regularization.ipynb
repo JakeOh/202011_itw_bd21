{
  "nbformat": 4,
  "nbformat_minor": 0,
  "metadata": {
    "colab": {
      "name": "ml05_regularization.ipynb",
      "provenance": [],
      "collapsed_sections": [],
      "authorship_tag": "ABX9TyPN2hophoFTQbB6dyFC1dbU",
      "include_colab_link": true
    },
    "kernelspec": {
      "name": "python3",
      "display_name": "Python 3"
    }
  },
  "cells": [
    {
      "cell_type": "markdown",
      "metadata": {
        "id": "view-in-github",
        "colab_type": "text"
      },
      "source": [
        "<a href=\"https://colab.research.google.com/github/JakeOh/202011_itw_bd21/blob/main/lab_ml/ml05_regularization.ipynb\" target=\"_parent\"><img src=\"https://colab.research.google.com/assets/colab-badge.svg\" alt=\"Open In Colab\"/></a>"
      ]
    },
    {
      "cell_type": "markdown",
      "metadata": {
        "id": "Yl6jlCNj5N83"
      },
      "source": [
        "# Imports"
      ]
    },
    {
      "cell_type": "code",
      "metadata": {
        "id": "12ztFynP466v"
      },
      "source": [
        "import numpy as np\r\n",
        "import pandas as pd\r\n",
        "import matplotlib.pyplot as plt\r\n",
        "import seaborn as sns\r\n",
        "\r\n",
        "from sklearn.model_selection import train_test_split\r\n",
        "from sklearn.linear_model import LinearRegression, Ridge, Lasso, ElasticNet\r\n",
        "from sklearn.preprocessing import PolynomialFeatures, StandardScaler\r\n",
        "from sklearn.pipeline import Pipeline"
      ],
      "execution_count": 1,
      "outputs": []
    },
    {
      "cell_type": "markdown",
      "metadata": {
        "id": "7tdi3WHI6gcG"
      },
      "source": [
        "# Data"
      ]
    },
    {
      "cell_type": "code",
      "metadata": {
        "id": "5xgTuIb36epa"
      },
      "source": [
        "fish_file = 'https://github.com/JakeOh/202011_itw_bd21/raw/main/datasets/Fish.csv'"
      ],
      "execution_count": 2,
      "outputs": []
    },
    {
      "cell_type": "code",
      "metadata": {
        "id": "2Vs925-_6syO"
      },
      "source": [
        "fish_df = pd.read_csv(fish_file)"
      ],
      "execution_count": 3,
      "outputs": []
    },
    {
      "cell_type": "code",
      "metadata": {
        "colab": {
          "base_uri": "https://localhost:8080/",
          "height": 214
        },
        "id": "TNPA7R7c61G-",
        "outputId": "3bb65b45-0c38-4aa8-dabb-98752d23443a"
      },
      "source": [
        "fish_df.head()"
      ],
      "execution_count": 4,
      "outputs": [
        {
          "output_type": "execute_result",
          "data": {
            "text/html": [
              "<div>\n",
              "<style scoped>\n",
              "    .dataframe tbody tr th:only-of-type {\n",
              "        vertical-align: middle;\n",
              "    }\n",
              "\n",
              "    .dataframe tbody tr th {\n",
              "        vertical-align: top;\n",
              "    }\n",
              "\n",
              "    .dataframe thead th {\n",
              "        text-align: right;\n",
              "    }\n",
              "</style>\n",
              "<table border=\"1\" class=\"dataframe\">\n",
              "  <thead>\n",
              "    <tr style=\"text-align: right;\">\n",
              "      <th></th>\n",
              "      <th>Species</th>\n",
              "      <th>Weight</th>\n",
              "      <th>Length1</th>\n",
              "      <th>Length2</th>\n",
              "      <th>Length3</th>\n",
              "      <th>Height</th>\n",
              "      <th>Width</th>\n",
              "    </tr>\n",
              "  </thead>\n",
              "  <tbody>\n",
              "    <tr>\n",
              "      <th>0</th>\n",
              "      <td>Bream</td>\n",
              "      <td>242.0</td>\n",
              "      <td>23.2</td>\n",
              "      <td>25.4</td>\n",
              "      <td>30.0</td>\n",
              "      <td>11.5200</td>\n",
              "      <td>4.0200</td>\n",
              "    </tr>\n",
              "    <tr>\n",
              "      <th>1</th>\n",
              "      <td>Bream</td>\n",
              "      <td>290.0</td>\n",
              "      <td>24.0</td>\n",
              "      <td>26.3</td>\n",
              "      <td>31.2</td>\n",
              "      <td>12.4800</td>\n",
              "      <td>4.3056</td>\n",
              "    </tr>\n",
              "    <tr>\n",
              "      <th>2</th>\n",
              "      <td>Bream</td>\n",
              "      <td>340.0</td>\n",
              "      <td>23.9</td>\n",
              "      <td>26.5</td>\n",
              "      <td>31.1</td>\n",
              "      <td>12.3778</td>\n",
              "      <td>4.6961</td>\n",
              "    </tr>\n",
              "    <tr>\n",
              "      <th>3</th>\n",
              "      <td>Bream</td>\n",
              "      <td>363.0</td>\n",
              "      <td>26.3</td>\n",
              "      <td>29.0</td>\n",
              "      <td>33.5</td>\n",
              "      <td>12.7300</td>\n",
              "      <td>4.4555</td>\n",
              "    </tr>\n",
              "    <tr>\n",
              "      <th>4</th>\n",
              "      <td>Bream</td>\n",
              "      <td>430.0</td>\n",
              "      <td>26.5</td>\n",
              "      <td>29.0</td>\n",
              "      <td>34.0</td>\n",
              "      <td>12.4440</td>\n",
              "      <td>5.1340</td>\n",
              "    </tr>\n",
              "  </tbody>\n",
              "</table>\n",
              "</div>"
            ],
            "text/plain": [
              "  Species  Weight  Length1  Length2  Length3   Height   Width\n",
              "0   Bream   242.0     23.2     25.4     30.0  11.5200  4.0200\n",
              "1   Bream   290.0     24.0     26.3     31.2  12.4800  4.3056\n",
              "2   Bream   340.0     23.9     26.5     31.1  12.3778  4.6961\n",
              "3   Bream   363.0     26.3     29.0     33.5  12.7300  4.4555\n",
              "4   Bream   430.0     26.5     29.0     34.0  12.4440  5.1340"
            ]
          },
          "metadata": {
            "tags": []
          },
          "execution_count": 4
        }
      ]
    },
    {
      "cell_type": "code",
      "metadata": {
        "colab": {
          "base_uri": "https://localhost:8080/",
          "height": 214
        },
        "id": "yN0p7flq63i4",
        "outputId": "caad02e6-7ae1-48dd-cfac-d3e1d0b34490"
      },
      "source": [
        "# 농어(perch) 데이터\r\n",
        "perch = fish_df[fish_df['Species'] == 'Perch']\r\n",
        "perch.head()"
      ],
      "execution_count": 5,
      "outputs": [
        {
          "output_type": "execute_result",
          "data": {
            "text/html": [
              "<div>\n",
              "<style scoped>\n",
              "    .dataframe tbody tr th:only-of-type {\n",
              "        vertical-align: middle;\n",
              "    }\n",
              "\n",
              "    .dataframe tbody tr th {\n",
              "        vertical-align: top;\n",
              "    }\n",
              "\n",
              "    .dataframe thead th {\n",
              "        text-align: right;\n",
              "    }\n",
              "</style>\n",
              "<table border=\"1\" class=\"dataframe\">\n",
              "  <thead>\n",
              "    <tr style=\"text-align: right;\">\n",
              "      <th></th>\n",
              "      <th>Species</th>\n",
              "      <th>Weight</th>\n",
              "      <th>Length1</th>\n",
              "      <th>Length2</th>\n",
              "      <th>Length3</th>\n",
              "      <th>Height</th>\n",
              "      <th>Width</th>\n",
              "    </tr>\n",
              "  </thead>\n",
              "  <tbody>\n",
              "    <tr>\n",
              "      <th>72</th>\n",
              "      <td>Perch</td>\n",
              "      <td>5.9</td>\n",
              "      <td>7.5</td>\n",
              "      <td>8.4</td>\n",
              "      <td>8.8</td>\n",
              "      <td>2.1120</td>\n",
              "      <td>1.4080</td>\n",
              "    </tr>\n",
              "    <tr>\n",
              "      <th>73</th>\n",
              "      <td>Perch</td>\n",
              "      <td>32.0</td>\n",
              "      <td>12.5</td>\n",
              "      <td>13.7</td>\n",
              "      <td>14.7</td>\n",
              "      <td>3.5280</td>\n",
              "      <td>1.9992</td>\n",
              "    </tr>\n",
              "    <tr>\n",
              "      <th>74</th>\n",
              "      <td>Perch</td>\n",
              "      <td>40.0</td>\n",
              "      <td>13.8</td>\n",
              "      <td>15.0</td>\n",
              "      <td>16.0</td>\n",
              "      <td>3.8240</td>\n",
              "      <td>2.4320</td>\n",
              "    </tr>\n",
              "    <tr>\n",
              "      <th>75</th>\n",
              "      <td>Perch</td>\n",
              "      <td>51.5</td>\n",
              "      <td>15.0</td>\n",
              "      <td>16.2</td>\n",
              "      <td>17.2</td>\n",
              "      <td>4.5924</td>\n",
              "      <td>2.6316</td>\n",
              "    </tr>\n",
              "    <tr>\n",
              "      <th>76</th>\n",
              "      <td>Perch</td>\n",
              "      <td>70.0</td>\n",
              "      <td>15.7</td>\n",
              "      <td>17.4</td>\n",
              "      <td>18.5</td>\n",
              "      <td>4.5880</td>\n",
              "      <td>2.9415</td>\n",
              "    </tr>\n",
              "  </tbody>\n",
              "</table>\n",
              "</div>"
            ],
            "text/plain": [
              "   Species  Weight  Length1  Length2  Length3  Height   Width\n",
              "72   Perch     5.9      7.5      8.4      8.8  2.1120  1.4080\n",
              "73   Perch    32.0     12.5     13.7     14.7  3.5280  1.9992\n",
              "74   Perch    40.0     13.8     15.0     16.0  3.8240  2.4320\n",
              "75   Perch    51.5     15.0     16.2     17.2  4.5924  2.6316\n",
              "76   Perch    70.0     15.7     17.4     18.5  4.5880  2.9415"
            ]
          },
          "metadata": {
            "tags": []
          },
          "execution_count": 5
        }
      ]
    },
    {
      "cell_type": "code",
      "metadata": {
        "id": "4R5rCfQo7MpO"
      },
      "source": [
        "# 농어의 Length2로 Weight를 예측\r\n",
        "X = perch['Length2'].values.reshape((-1, 1))  # 데이터: (1, 1) 모양의 2d 배열\r\n",
        "y = perch['Weight'].values  # 타겟: 1d 배열"
      ],
      "execution_count": 10,
      "outputs": []
    },
    {
      "cell_type": "code",
      "metadata": {
        "colab": {
          "base_uri": "https://localhost:8080/"
        },
        "id": "RTsfbnvk8l-2",
        "outputId": "ad72eba4-2919-4a46-bcca-cc0c461adbfa"
      },
      "source": [
        "X.shape  # (n_samples, n_features)"
      ],
      "execution_count": 11,
      "outputs": [
        {
          "output_type": "execute_result",
          "data": {
            "text/plain": [
              "(56, 1)"
            ]
          },
          "metadata": {
            "tags": []
          },
          "execution_count": 11
        }
      ]
    },
    {
      "cell_type": "code",
      "metadata": {
        "colab": {
          "base_uri": "https://localhost:8080/"
        },
        "id": "QMgXFf188n4_",
        "outputId": "b11071e3-0336-40a3-8244-9def32023144"
      },
      "source": [
        "y.shape"
      ],
      "execution_count": 13,
      "outputs": [
        {
          "output_type": "execute_result",
          "data": {
            "text/plain": [
              "(56,)"
            ]
          },
          "metadata": {
            "tags": []
          },
          "execution_count": 13
        }
      ]
    },
    {
      "cell_type": "markdown",
      "metadata": {
        "id": "mSweSae99GuX"
      },
      "source": [
        "Train/Test split"
      ]
    },
    {
      "cell_type": "code",
      "metadata": {
        "id": "8CYkjdnq8xBH"
      },
      "source": [
        "X_train, X_test, y_train, y_test = train_test_split(X, y,\r\n",
        "                                                    test_size=0.25,\r\n",
        "                                                    random_state=42)"
      ],
      "execution_count": 14,
      "outputs": []
    },
    {
      "cell_type": "code",
      "metadata": {
        "colab": {
          "base_uri": "https://localhost:8080/"
        },
        "id": "OAYGxnmM9dGH",
        "outputId": "106fd1f8-5fea-404a-f3b7-afa67f1799b8"
      },
      "source": [
        "X_train.shape, y_train.shape"
      ],
      "execution_count": 15,
      "outputs": [
        {
          "output_type": "execute_result",
          "data": {
            "text/plain": [
              "((42, 1), (42,))"
            ]
          },
          "metadata": {
            "tags": []
          },
          "execution_count": 15
        }
      ]
    },
    {
      "cell_type": "code",
      "metadata": {
        "colab": {
          "base_uri": "https://localhost:8080/",
          "height": 279
        },
        "id": "BC3VIibQ90He",
        "outputId": "028c944b-38c5-492b-ad2c-0ac1252fd0b9"
      },
      "source": [
        "plt.scatter(X_train, y_train, color='black')\r\n",
        "\r\n",
        "plt.xlabel('Length (cm)')\r\n",
        "plt.ylabel('Weight (g)')\r\n",
        "plt.show()"
      ],
      "execution_count": 16,
      "outputs": [
        {
          "output_type": "display_data",
          "data": {
            "image/png": "[encoded data removed]",
            "text/plain": [
              "<Figure size 432x288 with 1 Axes>"
            ]
          },
          "metadata": {
            "tags": [],
            "needs_background": "light"
          }
        }
      ]
    },
    {
      "cell_type": "markdown",
      "metadata": {
        "id": "tZ7JBPPR9ru4"
      },
      "source": [
        "# Polynomial을 이용한 LinearRegression"
      ]
    },
    {
      "cell_type": "code",
      "metadata": {
        "id": "TZU_AuVS9hKJ"
      },
      "source": [
        "# 선형 회귀 결과를 시각화할 때 사용하기 위해서\r\n",
        "Xs = np.arange(14, 45, 0.001).reshape((-1, 1))  # predict() 메서드에서 사용할 수 있는 shape"
      ],
      "execution_count": 17,
      "outputs": []
    },
    {
      "cell_type": "code",
      "metadata": {
        "colab": {
          "base_uri": "https://localhost:8080/"
        },
        "id": "V65pw0wA_4j3",
        "outputId": "5b391ea6-61bd-4d8f-e891-f07e07c3d4b8"
      },
      "source": [
        "degrees = (1, 2, 5, 100)\r\n",
        "for d in degrees:\r\n",
        "    # 훈련 모델: Polynomial -> Scale -> L.R.\r\n",
        "    poly_features = PolynomialFeatures(degree=d, include_bias=False)\r\n",
        "    std_scaler = StandardScaler()\r\n",
        "    lin_reg = LinearRegression()\r\n",
        "    model = Pipeline([('poly', poly_features),\r\n",
        "                      ('scaler', std_scaler),\r\n",
        "                      ('reg', lin_reg)])\r\n",
        "    # 모델을 훈련 셋에 fitting(학습시킴)\r\n",
        "    model.fit(X_train, y_train)\r\n",
        "    # 회귀 훈련의 결과\r\n",
        "    print(model['reg'].coef_)"
      ],
      "execution_count": 18,
      "outputs": [
        {
          "output_type": "stream",
          "text": [
            "[340.55381311]\n",
            "[-188.16429447  532.30423546]\n",
            "[ 1090.51349849 -4377.12096334  5960.80924384 -2038.47216236\n",
            "  -298.04297802]\n",
            "[ 2.00557630e+10 -2.58408022e+11  1.49532847e+12 -4.90418675e+12\n",
            "  9.34291430e+12 -8.67392996e+12 -7.82611682e+11  7.69668003e+12\n",
            " -5.58109456e+09 -6.79558407e+12 -2.46010065e+12  4.99817517e+12\n",
            "  5.20423172e+12 -1.63569143e+11 -5.04386991e+12 -4.58103039e+12\n",
            " -2.92727936e+11  3.58006339e+12  4.82124023e+12  2.56502444e+12\n",
            " -1.02653972e+12 -3.84050839e+12 -4.08225740e+12 -2.38407359e+12\n",
            "  1.98148411e+11  2.61238310e+12  3.62406355e+12  3.27104682e+12\n",
            "  1.54929950e+12 -4.44063972e+11 -2.07165132e+12 -3.00069992e+12\n",
            " -3.00183843e+12 -2.13789600e+12 -6.78418491e+11  7.14760716e+11\n",
            "  2.02103482e+12  2.55576738e+12  2.52470076e+12  1.91395216e+12\n",
            "  1.04869405e+12  8.39890755e+10 -9.16363136e+11 -1.73570552e+12\n",
            " -2.04897502e+12 -2.09658188e+12 -1.65299115e+12 -1.16987146e+12\n",
            " -4.25185309e+11  2.76530253e+11  9.12030793e+11  1.36269923e+12\n",
            "  1.62030446e+12  1.62185850e+12  1.35146135e+12  1.18636212e+12\n",
            "  6.37891497e+11  9.30442761e+10 -3.07087213e+11 -7.97525808e+11\n",
            " -1.09119222e+12 -1.25596811e+12 -1.20076999e+12 -1.27951426e+12\n",
            " -1.01833445e+12 -5.97085554e+11 -3.60526253e+11  1.73064071e+11\n",
            "  4.90102798e+11  7.60390219e+11  8.76080358e+11  1.08675824e+12\n",
            "  8.93363876e+11  8.47995801e+11  7.48071791e+11  3.58460868e+11\n",
            "  1.88892254e+11 -2.12754968e+11 -5.09387572e+11 -4.66983886e+11\n",
            " -7.17846515e+11 -8.15320173e+11 -8.04217164e+11 -6.39844011e+11\n",
            " -4.69151884e+11 -4.69548440e+10  3.62721502e+11  4.90415492e+11\n",
            "  7.22326490e+11  8.93030174e+11  5.34427578e+11 -4.26221271e+10\n",
            " -1.02153095e+12  0.00000000e+00  0.00000000e+00  0.00000000e+00\n",
            "  0.00000000e+00  0.00000000e+00  0.00000000e+00  0.00000000e+00]\n"
          ],
          "name": "stdout"
        },
        {
          "output_type": "stream",
          "text": [
            "/usr/local/lib/python3.7/dist-packages/numpy/lib/nanfunctions.py:1544: RuntimeWarning: overflow encountered in multiply\n",
            "  sqr = np.multiply(arr, arr, out=arr)\n"
          ],
          "name": "stderr"
        }
      ]
    },
    {
      "cell_type": "code",
      "metadata": {
        "id": "WTbWoQGPCNRU"
      },
      "source": [
        ""
      ],
      "execution_count": null,
      "outputs": []
    }
  ]
}