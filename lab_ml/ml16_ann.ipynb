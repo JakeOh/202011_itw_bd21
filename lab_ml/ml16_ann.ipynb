{
  "nbformat": 4,
  "nbformat_minor": 0,
  "metadata": {
    "colab": {
      "name": "ml16_ann.ipynb",
      "provenance": [],
      "authorship_tag": "ABX9TyPAw+T7WNlok7e6lQxxKW3E",
      "include_colab_link": true
    },
    "kernelspec": {
      "name": "python3",
      "display_name": "Python 3"
    },
    "language_info": {
      "name": "python"
    },
    "accelerator": "GPU"
  },
  "cells": [
    {
      "cell_type": "markdown",
      "metadata": {
        "id": "view-in-github",
        "colab_type": "text"
      },
      "source": [
        "<a href=\"https://colab.research.google.com/github/JakeOh/202011_itw_bd21/blob/main/lab_ml/ml16_ann.ipynb\" target=\"_parent\"><img src=\"https://colab.research.google.com/assets/colab-badge.svg\" alt=\"Open In Colab\"/></a>"
      ]
    },
    {
      "cell_type": "markdown",
      "metadata": {
        "id": "KrhCQFysHdQB"
      },
      "source": [
        "**Artificial Neural Network(인공 신경망)**"
      ]
    },
    {
      "cell_type": "markdown",
      "metadata": {
        "id": "-oZTGD9aMXB3"
      },
      "source": [
        "# Imports"
      ]
    },
    {
      "cell_type": "code",
      "metadata": {
        "id": "yTmwjuY_HUWA"
      },
      "source": [
        "import numpy as np\n",
        "import matplotlib.pyplot as plt\n",
        "\n",
        "from sklearn.datasets import load_iris\n",
        "\n",
        "import tensorflow as tf\n",
        "from tensorflow import keras"
      ],
      "execution_count": 1,
      "outputs": []
    },
    {
      "cell_type": "code",
      "metadata": {
        "colab": {
          "base_uri": "https://localhost:8080/",
          "height": 38
        },
        "id": "vN7l4uGgNFZA",
        "outputId": "0571c8dd-a23a-4183-e19b-9d2a80aa368e"
      },
      "source": [
        "tf.__version__  # Google Colab의 Tensorflow 버전 확인"
      ],
      "execution_count": 2,
      "outputs": [
        {
          "output_type": "execute_result",
          "data": {
            "application/vnd.google.colaboratory.intrinsic+json": {
              "type": "string"
            },
            "text/plain": [
              "'2.4.1'"
            ]
          },
          "metadata": {
            "tags": []
          },
          "execution_count": 2
        }
      ]
    },
    {
      "cell_type": "code",
      "metadata": {
        "colab": {
          "base_uri": "https://localhost:8080/",
          "height": 38
        },
        "id": "UwuwL2n-NNsX",
        "outputId": "561583fc-0c39-4f34-b62f-852db34af51e"
      },
      "source": [
        "keras.__version__  # Google Colab의 tensorflow.keras 버전 확인"
      ],
      "execution_count": 3,
      "outputs": [
        {
          "output_type": "execute_result",
          "data": {
            "application/vnd.google.colaboratory.intrinsic+json": {
              "type": "string"
            },
            "text/plain": [
              "'2.4.0'"
            ]
          },
          "metadata": {
            "tags": []
          },
          "execution_count": 3
        }
      ]
    },
    {
      "cell_type": "markdown",
      "metadata": {
        "id": "7uIdCDliOBPa"
      },
      "source": [
        "# Iris Data"
      ]
    },
    {
      "cell_type": "code",
      "metadata": {
        "id": "bZD7fAuuNflW"
      },
      "source": [
        "iris_data, iris_target = load_iris(return_X_y=True)"
      ],
      "execution_count": 4,
      "outputs": []
    },
    {
      "cell_type": "code",
      "metadata": {
        "colab": {
          "base_uri": "https://localhost:8080/"
        },
        "id": "7hqw0BRQOMVY",
        "outputId": "ea324b98-b129-4b48-9f18-76a8a5af9080"
      },
      "source": [
        "iris_data.shape, iris_target.shape"
      ],
      "execution_count": 5,
      "outputs": [
        {
          "output_type": "execute_result",
          "data": {
            "text/plain": [
              "((150, 4), (150,))"
            ]
          },
          "metadata": {
            "tags": []
          },
          "execution_count": 5
        }
      ]
    },
    {
      "cell_type": "code",
      "metadata": {
        "colab": {
          "base_uri": "https://localhost:8080/"
        },
        "id": "_jQMvOC-OPju",
        "outputId": "c069b9e3-ae7b-4984-ae43-bb16f8d4394a"
      },
      "source": [
        "iris_data[:5]"
      ],
      "execution_count": 6,
      "outputs": [
        {
          "output_type": "execute_result",
          "data": {
            "text/plain": [
              "array([[5.1, 3.5, 1.4, 0.2],\n",
              "       [4.9, 3. , 1.4, 0.2],\n",
              "       [4.7, 3.2, 1.3, 0.2],\n",
              "       [4.6, 3.1, 1.5, 0.2],\n",
              "       [5. , 3.6, 1.4, 0.2]])"
            ]
          },
          "metadata": {
            "tags": []
          },
          "execution_count": 6
        }
      ]
    },
    {
      "cell_type": "code",
      "metadata": {
        "colab": {
          "base_uri": "https://localhost:8080/"
        },
        "id": "7SZCyuOIOXJX",
        "outputId": "c788f488-20a8-4cef-b0e8-dfda233a986d"
      },
      "source": [
        "np.unique(iris_target, return_counts=True)"
      ],
      "execution_count": 7,
      "outputs": [
        {
          "output_type": "execute_result",
          "data": {
            "text/plain": [
              "(array([0, 1, 2]), array([50, 50, 50]))"
            ]
          },
          "metadata": {
            "tags": []
          },
          "execution_count": 7
        }
      ]
    },
    {
      "cell_type": "markdown",
      "metadata": {
        "id": "3Kb9oS8ZOhdf"
      },
      "source": [
        "샘플의 변수는 2개로 축소. 타겟(0:setosa, 1:non-setosa)."
      ]
    },
    {
      "cell_type": "code",
      "metadata": {
        "id": "ffSoDzJ0Oc4_"
      },
      "source": [
        "X = iris_data[:, -2:]\n",
        "y = (iris_target != 0).astype(np.int32)"
      ],
      "execution_count": 8,
      "outputs": []
    },
    {
      "cell_type": "code",
      "metadata": {
        "colab": {
          "base_uri": "https://localhost:8080/"
        },
        "id": "-gFnQ5y0O-9n",
        "outputId": "3fafdc93-7d23-44af-8f2b-4aa51c5d22d2"
      },
      "source": [
        "X[:5]"
      ],
      "execution_count": 9,
      "outputs": [
        {
          "output_type": "execute_result",
          "data": {
            "text/plain": [
              "array([[1.4, 0.2],\n",
              "       [1.4, 0.2],\n",
              "       [1.3, 0.2],\n",
              "       [1.5, 0.2],\n",
              "       [1.4, 0.2]])"
            ]
          },
          "metadata": {
            "tags": []
          },
          "execution_count": 9
        }
      ]
    },
    {
      "cell_type": "code",
      "metadata": {
        "colab": {
          "base_uri": "https://localhost:8080/"
        },
        "id": "gzvGIZMqPBln",
        "outputId": "63ead944-ab41-4983-929f-5efe0352531c"
      },
      "source": [
        "np.unique(y, return_counts=True)"
      ],
      "execution_count": 10,
      "outputs": [
        {
          "output_type": "execute_result",
          "data": {
            "text/plain": [
              "(array([0, 1], dtype=int32), array([ 50, 100]))"
            ]
          },
          "metadata": {
            "tags": []
          },
          "execution_count": 10
        }
      ]
    },
    {
      "cell_type": "markdown",
      "metadata": {
        "id": "vb1abdmDPPkn"
      },
      "source": [
        "## Single-layer 신경망"
      ]
    },
    {
      "cell_type": "code",
      "metadata": {
        "id": "4Km7ZrfqPIH2"
      },
      "source": [
        "# 신경망 모델 생성 - 설계\n",
        "model = keras.Sequential(layers=[keras.layers.Dense(units=1, activation='sigmoid', input_shape=(2,))], \n",
        "                         name='iris_single_layer')"
      ],
      "execution_count": 11,
      "outputs": []
    },
    {
      "cell_type": "markdown",
      "metadata": {
        "id": "NCtyyaHPSFzu"
      },
      "source": [
        "\n",
        "*   `keras.Sequential` 클래스: 신경망 모델(input-hidden-output layer)\n",
        "*   `keras.layers.Dense` 클래스: Dense 층(한개 이상의 unit(neuron)으로 이루어진 층)\n",
        "    *   `units` 파라미터: dense layer가 갖는 유닛의 개수\n",
        "    *   `activation` 파라미터: 활성화 함수 이름\n",
        "    *   `input_shape` 파라미터: 한개의 유닛으로 입력되는 input data의 shape(튜플)\n",
        "        *   신경망 모델이 찾아야 하는 파라미터(weights, bias)의 개수를 결정하기 위해서 필요.\n"
      ]
    },
    {
      "cell_type": "code",
      "metadata": {
        "colab": {
          "base_uri": "https://localhost:8080/"
        },
        "id": "YsRziyHFSAaF",
        "outputId": "ec5f1679-aa13-434f-d796-199df300865a"
      },
      "source": [
        "# 생성된 신경망 모델 요약: layers, parameters\n",
        "model.summary()"
      ],
      "execution_count": 12,
      "outputs": [
        {
          "output_type": "stream",
          "text": [
            "Model: \"iris_single_layer\"\n",
            "_________________________________________________________________\n",
            "Layer (type)                 Output Shape              Param #   \n",
            "=================================================================\n",
            "dense (Dense)                (None, 1)                 3         \n",
            "=================================================================\n",
            "Total params: 3\n",
            "Trainable params: 3\n",
            "Non-trainable params: 0\n",
            "_________________________________________________________________\n"
          ],
          "name": "stdout"
        }
      ]
    },
    {
      "cell_type": "code",
      "metadata": {
        "id": "xT13744MTtMn"
      },
      "source": [
        "# 신경망 모델 컴파일: optimizer, loss, metrics 등을 설정\n",
        "#   optimizer: weight와 bias를 찾기위한 훈련 방법\n",
        "#   loss: 비용 함수 (이름)\n",
        "#   metrics: 성능 평가 지표(정확도, R2 score, RMSE 등)\n",
        "model.compile(optimizer='sgd', loss='binary_crossentropy', metrics='accuracy')"
      ],
      "execution_count": 13,
      "outputs": []
    },
    {
      "cell_type": "code",
      "metadata": {
        "colab": {
          "base_uri": "https://localhost:8080/"
        },
        "id": "zJdzfmxQV_Tn",
        "outputId": "30598a37-f145-4a43-e5e4-d67c2ced7473"
      },
      "source": [
        "# 신경망 모델 훈련 - loss를 줄여주는, metric를 크게 만들어주는 weight와 bias를 찾는 과정.\n",
        "model.fit(X, y, epochs=10)"
      ],
      "execution_count": 14,
      "outputs": [
        {
          "output_type": "stream",
          "text": [
            "Epoch 1/10\n",
            "5/5 [==============================] - 3s 3ms/step - loss: 1.2617 - accuracy: 0.3247\n",
            "Epoch 2/10\n",
            "5/5 [==============================] - 0s 3ms/step - loss: 0.9466 - accuracy: 0.3452\n",
            "Epoch 3/10\n",
            "5/5 [==============================] - 0s 3ms/step - loss: 0.7469 - accuracy: 0.4951\n",
            "Epoch 4/10\n",
            "5/5 [==============================] - 0s 3ms/step - loss: 0.6267 - accuracy: 0.6650\n",
            "Epoch 5/10\n",
            "5/5 [==============================] - 0s 3ms/step - loss: 0.5243 - accuracy: 0.9560\n",
            "Epoch 6/10\n",
            "5/5 [==============================] - 0s 3ms/step - loss: 0.4779 - accuracy: 0.9428\n",
            "Epoch 7/10\n",
            "5/5 [==============================] - 0s 3ms/step - loss: 0.4595 - accuracy: 0.8767\n",
            "Epoch 8/10\n",
            "5/5 [==============================] - 0s 3ms/step - loss: 0.4222 - accuracy: 0.8491\n",
            "Epoch 9/10\n",
            "5/5 [==============================] - 0s 3ms/step - loss: 0.3988 - accuracy: 0.8089\n",
            "Epoch 10/10\n",
            "5/5 [==============================] - 0s 3ms/step - loss: 0.4199 - accuracy: 0.7097\n"
          ],
          "name": "stdout"
        },
        {
          "output_type": "execute_result",
          "data": {
            "text/plain": [
              "<tensorflow.python.keras.callbacks.History at 0x7f7ac598e210>"
            ]
          },
          "metadata": {
            "tags": []
          },
          "execution_count": 14
        }
      ]
    },
    {
      "cell_type": "code",
      "metadata": {
        "id": "MEVuhVx1WdJA"
      },
      "source": [
        ""
      ],
      "execution_count": null,
      "outputs": []
    }
  ]
}