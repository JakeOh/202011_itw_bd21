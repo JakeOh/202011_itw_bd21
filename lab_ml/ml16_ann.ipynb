{
  "nbformat": 4,
  "nbformat_minor": 0,
  "metadata": {
    "colab": {
      "name": "ml16_ann.ipynb",
      "provenance": [],
      "collapsed_sections": [],
      "authorship_tag": "ABX9TyN/50HNBHsSjakCxVN0J3iF",
      "include_colab_link": true
    },
    "kernelspec": {
      "name": "python3",
      "display_name": "Python 3"
    },
    "language_info": {
      "name": "python"
    },
    "accelerator": "GPU"
  },
  "cells": [
    {
      "cell_type": "markdown",
      "metadata": {
        "id": "view-in-github",
        "colab_type": "text"
      },
      "source": [
        "<a href=\"https://colab.research.google.com/github/JakeOh/202011_itw_bd21/blob/main/lab_ml/ml16_ann.ipynb\" target=\"_parent\"><img src=\"https://colab.research.google.com/assets/colab-badge.svg\" alt=\"Open In Colab\"/></a>"
      ]
    },
    {
      "cell_type": "markdown",
      "metadata": {
        "id": "KrhCQFysHdQB"
      },
      "source": [
        "**Artificial Neural Network(인공 신경망)**"
      ]
    },
    {
      "cell_type": "markdown",
      "metadata": {
        "id": "-oZTGD9aMXB3"
      },
      "source": [
        "# Imports"
      ]
    },
    {
      "cell_type": "code",
      "metadata": {
        "id": "yTmwjuY_HUWA"
      },
      "source": [
        "import numpy as np\n",
        "import matplotlib.pyplot as plt\n",
        "\n",
        "from sklearn.datasets import load_iris\n",
        "\n",
        "import tensorflow as tf\n",
        "from tensorflow import keras"
      ],
      "execution_count": 1,
      "outputs": []
    },
    {
      "cell_type": "code",
      "metadata": {
        "colab": {
          "base_uri": "https://localhost:8080/",
          "height": 38
        },
        "id": "vN7l4uGgNFZA",
        "outputId": "0571c8dd-a23a-4183-e19b-9d2a80aa368e"
      },
      "source": [
        "tf.__version__  # Google Colab의 Tensorflow 버전 확인"
      ],
      "execution_count": 2,
      "outputs": [
        {
          "output_type": "execute_result",
          "data": {
            "application/vnd.google.colaboratory.intrinsic+json": {
              "type": "string"
            },
            "text/plain": [
              "'2.4.1'"
            ]
          },
          "metadata": {
            "tags": []
          },
          "execution_count": 2
        }
      ]
    },
    {
      "cell_type": "code",
      "metadata": {
        "colab": {
          "base_uri": "https://localhost:8080/",
          "height": 38
        },
        "id": "UwuwL2n-NNsX",
        "outputId": "561583fc-0c39-4f34-b62f-852db34af51e"
      },
      "source": [
        "keras.__version__  # Google Colab의 tensorflow.keras 버전 확인"
      ],
      "execution_count": 3,
      "outputs": [
        {
          "output_type": "execute_result",
          "data": {
            "application/vnd.google.colaboratory.intrinsic+json": {
              "type": "string"
            },
            "text/plain": [
              "'2.4.0'"
            ]
          },
          "metadata": {
            "tags": []
          },
          "execution_count": 3
        }
      ]
    },
    {
      "cell_type": "markdown",
      "metadata": {
        "id": "7uIdCDliOBPa"
      },
      "source": [
        "# Iris Data"
      ]
    },
    {
      "cell_type": "code",
      "metadata": {
        "id": "bZD7fAuuNflW"
      },
      "source": [
        "iris_data, iris_target = load_iris(return_X_y=True)"
      ],
      "execution_count": 4,
      "outputs": []
    },
    {
      "cell_type": "code",
      "metadata": {
        "colab": {
          "base_uri": "https://localhost:8080/"
        },
        "id": "7hqw0BRQOMVY",
        "outputId": "ea324b98-b129-4b48-9f18-76a8a5af9080"
      },
      "source": [
        "iris_data.shape, iris_target.shape"
      ],
      "execution_count": 5,
      "outputs": [
        {
          "output_type": "execute_result",
          "data": {
            "text/plain": [
              "((150, 4), (150,))"
            ]
          },
          "metadata": {
            "tags": []
          },
          "execution_count": 5
        }
      ]
    },
    {
      "cell_type": "code",
      "metadata": {
        "colab": {
          "base_uri": "https://localhost:8080/"
        },
        "id": "_jQMvOC-OPju",
        "outputId": "c069b9e3-ae7b-4984-ae43-bb16f8d4394a"
      },
      "source": [
        "iris_data[:5]"
      ],
      "execution_count": 6,
      "outputs": [
        {
          "output_type": "execute_result",
          "data": {
            "text/plain": [
              "array([[5.1, 3.5, 1.4, 0.2],\n",
              "       [4.9, 3. , 1.4, 0.2],\n",
              "       [4.7, 3.2, 1.3, 0.2],\n",
              "       [4.6, 3.1, 1.5, 0.2],\n",
              "       [5. , 3.6, 1.4, 0.2]])"
            ]
          },
          "metadata": {
            "tags": []
          },
          "execution_count": 6
        }
      ]
    },
    {
      "cell_type": "code",
      "metadata": {
        "colab": {
          "base_uri": "https://localhost:8080/"
        },
        "id": "7SZCyuOIOXJX",
        "outputId": "c788f488-20a8-4cef-b0e8-dfda233a986d"
      },
      "source": [
        "np.unique(iris_target, return_counts=True)"
      ],
      "execution_count": 7,
      "outputs": [
        {
          "output_type": "execute_result",
          "data": {
            "text/plain": [
              "(array([0, 1, 2]), array([50, 50, 50]))"
            ]
          },
          "metadata": {
            "tags": []
          },
          "execution_count": 7
        }
      ]
    },
    {
      "cell_type": "markdown",
      "metadata": {
        "id": "3Kb9oS8ZOhdf"
      },
      "source": [
        "샘플의 변수는 2개로 축소. 타겟(0:setosa, 1:non-setosa)."
      ]
    },
    {
      "cell_type": "code",
      "metadata": {
        "id": "ffSoDzJ0Oc4_"
      },
      "source": [
        "X = iris_data[:, -2:]\n",
        "y = (iris_target != 0).astype(np.int32)"
      ],
      "execution_count": 8,
      "outputs": []
    },
    {
      "cell_type": "code",
      "metadata": {
        "colab": {
          "base_uri": "https://localhost:8080/"
        },
        "id": "-gFnQ5y0O-9n",
        "outputId": "3fafdc93-7d23-44af-8f2b-4aa51c5d22d2"
      },
      "source": [
        "X[:5]"
      ],
      "execution_count": 9,
      "outputs": [
        {
          "output_type": "execute_result",
          "data": {
            "text/plain": [
              "array([[1.4, 0.2],\n",
              "       [1.4, 0.2],\n",
              "       [1.3, 0.2],\n",
              "       [1.5, 0.2],\n",
              "       [1.4, 0.2]])"
            ]
          },
          "metadata": {
            "tags": []
          },
          "execution_count": 9
        }
      ]
    },
    {
      "cell_type": "code",
      "metadata": {
        "colab": {
          "base_uri": "https://localhost:8080/"
        },
        "id": "gzvGIZMqPBln",
        "outputId": "63ead944-ab41-4983-929f-5efe0352531c"
      },
      "source": [
        "np.unique(y, return_counts=True)"
      ],
      "execution_count": 10,
      "outputs": [
        {
          "output_type": "execute_result",
          "data": {
            "text/plain": [
              "(array([0, 1], dtype=int32), array([ 50, 100]))"
            ]
          },
          "metadata": {
            "tags": []
          },
          "execution_count": 10
        }
      ]
    },
    {
      "cell_type": "markdown",
      "metadata": {
        "id": "vb1abdmDPPkn"
      },
      "source": [
        "## Single-layer 신경망"
      ]
    },
    {
      "cell_type": "code",
      "metadata": {
        "id": "4Km7ZrfqPIH2"
      },
      "source": [
        "# 신경망 모델 생성 - 설계\n",
        "model = keras.Sequential(layers=[keras.layers.Dense(units=1, activation='sigmoid', input_shape=(2,))], \n",
        "                         name='iris_single_layer')"
      ],
      "execution_count": 11,
      "outputs": []
    },
    {
      "cell_type": "markdown",
      "metadata": {
        "id": "NCtyyaHPSFzu"
      },
      "source": [
        "\n",
        "*   `keras.Sequential` 클래스: 신경망 모델(input-hidden-output layer)\n",
        "*   `keras.layers.Dense` 클래스: Dense 층(한개 이상의 unit(neuron)으로 이루어진 층)\n",
        "    *   `units` 파라미터: dense layer가 갖는 유닛의 개수\n",
        "    *   `activation` 파라미터: 활성화 함수 이름\n",
        "    *   `input_shape` 파라미터: 한개의 유닛으로 입력되는 input data의 shape(튜플)\n",
        "        *   신경망 모델이 찾아야 하는 파라미터(weights, bias)의 개수를 결정하기 위해서 필요.\n"
      ]
    },
    {
      "cell_type": "code",
      "metadata": {
        "colab": {
          "base_uri": "https://localhost:8080/"
        },
        "id": "YsRziyHFSAaF",
        "outputId": "ec5f1679-aa13-434f-d796-199df300865a"
      },
      "source": [
        "# 생성된 신경망 모델 요약: layers, parameters\n",
        "model.summary()"
      ],
      "execution_count": 12,
      "outputs": [
        {
          "output_type": "stream",
          "text": [
            "Model: \"iris_single_layer\"\n",
            "_________________________________________________________________\n",
            "Layer (type)                 Output Shape              Param #   \n",
            "=================================================================\n",
            "dense (Dense)                (None, 1)                 3         \n",
            "=================================================================\n",
            "Total params: 3\n",
            "Trainable params: 3\n",
            "Non-trainable params: 0\n",
            "_________________________________________________________________\n"
          ],
          "name": "stdout"
        }
      ]
    },
    {
      "cell_type": "code",
      "metadata": {
        "id": "xT13744MTtMn"
      },
      "source": [
        "# 신경망 모델 컴파일: optimizer, loss, metrics 등을 설정\n",
        "#   optimizer: weight와 bias를 찾기위한 훈련 방법\n",
        "#   loss: 비용 함수 (이름)\n",
        "#   metrics: 성능 평가 지표(정확도, R2 score, RMSE 등)\n",
        "model.compile(optimizer='sgd', loss='binary_crossentropy', metrics='accuracy')"
      ],
      "execution_count": 13,
      "outputs": []
    },
    {
      "cell_type": "code",
      "metadata": {
        "colab": {
          "base_uri": "https://localhost:8080/"
        },
        "id": "zJdzfmxQV_Tn",
        "outputId": "30598a37-f145-4a43-e5e4-d67c2ced7473"
      },
      "source": [
        "# 신경망 모델 훈련: 훈련 데이터를 반복(epoch)해서 사용하면서,\n",
        "# loss(손실)은 줄여주고 metric(성능 평가 점수)는 크게 만들어주는 파라미터들(weights, biases)를 찾는 과정.\n",
        "model.fit(X, y, epochs=10)"
      ],
      "execution_count": 14,
      "outputs": [
        {
          "output_type": "stream",
          "text": [
            "Epoch 1/10\n",
            "5/5 [==============================] - 3s 3ms/step - loss: 1.2617 - accuracy: 0.3247\n",
            "Epoch 2/10\n",
            "5/5 [==============================] - 0s 3ms/step - loss: 0.9466 - accuracy: 0.3452\n",
            "Epoch 3/10\n",
            "5/5 [==============================] - 0s 3ms/step - loss: 0.7469 - accuracy: 0.4951\n",
            "Epoch 4/10\n",
            "5/5 [==============================] - 0s 3ms/step - loss: 0.6267 - accuracy: 0.6650\n",
            "Epoch 5/10\n",
            "5/5 [==============================] - 0s 3ms/step - loss: 0.5243 - accuracy: 0.9560\n",
            "Epoch 6/10\n",
            "5/5 [==============================] - 0s 3ms/step - loss: 0.4779 - accuracy: 0.9428\n",
            "Epoch 7/10\n",
            "5/5 [==============================] - 0s 3ms/step - loss: 0.4595 - accuracy: 0.8767\n",
            "Epoch 8/10\n",
            "5/5 [==============================] - 0s 3ms/step - loss: 0.4222 - accuracy: 0.8491\n",
            "Epoch 9/10\n",
            "5/5 [==============================] - 0s 3ms/step - loss: 0.3988 - accuracy: 0.8089\n",
            "Epoch 10/10\n",
            "5/5 [==============================] - 0s 3ms/step - loss: 0.4199 - accuracy: 0.7097\n"
          ],
          "name": "stdout"
        },
        {
          "output_type": "execute_result",
          "data": {
            "text/plain": [
              "<tensorflow.python.keras.callbacks.History at 0x7f7ac598e210>"
            ]
          },
          "metadata": {
            "tags": []
          },
          "execution_count": 14
        }
      ]
    },
    {
      "cell_type": "code",
      "metadata": {
        "colab": {
          "base_uri": "https://localhost:8080/"
        },
        "id": "MEVuhVx1WdJA",
        "outputId": "874c60f3-018a-4759-ed95-579bad733dba"
      },
      "source": [
        "# 신경망 모델의 훈련이 끝난 후 파라미터들(weight, bias)\n",
        "model.weights"
      ],
      "execution_count": 15,
      "outputs": [
        {
          "output_type": "execute_result",
          "data": {
            "text/plain": [
              "[<tf.Variable 'dense/kernel:0' shape=(2, 1) dtype=float32, numpy=\n",
              " array([[-0.20719218],\n",
              "        [ 1.4455947 ]], dtype=float32)>,\n",
              " <tf.Variable 'dense/bias:0' shape=(1,) dtype=float32, numpy=array([0.06050187], dtype=float32)>]"
            ]
          },
          "metadata": {
            "tags": []
          },
          "execution_count": 15
        }
      ]
    },
    {
      "cell_type": "code",
      "metadata": {
        "colab": {
          "base_uri": "https://localhost:8080/"
        },
        "id": "Vw5ea8CWbhuu",
        "outputId": "5745d64b-4e33-4b15-ba3f-567d0cd6a024"
      },
      "source": [
        "# 훈련된 모델 평가\n",
        "model.evaluate(X, y)"
      ],
      "execution_count": 16,
      "outputs": [
        {
          "output_type": "stream",
          "text": [
            "5/5 [==============================] - 0s 2ms/step - loss: 0.4009 - accuracy: 0.7133\n"
          ],
          "name": "stdout"
        },
        {
          "output_type": "execute_result",
          "data": {
            "text/plain": [
              "[0.40093016624450684, 0.7133333086967468]"
            ]
          },
          "metadata": {
            "tags": []
          },
          "execution_count": 16
        }
      ]
    },
    {
      "cell_type": "code",
      "metadata": {
        "colab": {
          "base_uri": "https://localhost:8080/"
        },
        "id": "VPY1KUejckk2",
        "outputId": "cb528ec0-0c25-443a-c993-c30ece179fc8"
      },
      "source": [
        "# 훈련된 모델을 사용해서 예측\n",
        "model.predict(X[[0, 50, 100]])\n",
        "#> 이진 분류(binary class classification)에서 predict() 메서드는 양성 샘플(class=1)이 될 확률을 리턴.\n",
        "#> (비교) scikit-learn 패키지의 머신 러닝 클래스들의 predict() 메서드는 예측 결과를 리턴함."
      ],
      "execution_count": 17,
      "outputs": [
        {
          "output_type": "execute_result",
          "data": {
            "text/plain": [
              "array([[0.5148835 ],\n",
              "       [0.75222814],\n",
              "       [0.91918576]], dtype=float32)"
            ]
          },
          "metadata": {
            "tags": []
          },
          "execution_count": 17
        }
      ]
    },
    {
      "cell_type": "code",
      "metadata": {
        "colab": {
          "base_uri": "https://localhost:8080/"
        },
        "id": "a2sslOy5d3EZ",
        "outputId": "acf17268-984e-4185-f2c3-faea5897bbba"
      },
      "source": [
        "model.predict_proba(X[[0, 50, 100]])\n",
        "#> deprecated: 미래에 없어질 예정인 기능."
      ],
      "execution_count": 18,
      "outputs": [
        {
          "output_type": "stream",
          "text": [
            "/usr/local/lib/python3.7/dist-packages/tensorflow/python/keras/engine/sequential.py:425: UserWarning: `model.predict_proba()` is deprecated and will be removed after 2021-01-01. Please use `model.predict()` instead.\n",
            "  warnings.warn('`model.predict_proba()` is deprecated and '\n"
          ],
          "name": "stderr"
        },
        {
          "output_type": "execute_result",
          "data": {
            "text/plain": [
              "array([[0.5148835 ],\n",
              "       [0.75222814],\n",
              "       [0.91918576]], dtype=float32)"
            ]
          },
          "metadata": {
            "tags": []
          },
          "execution_count": 18
        }
      ]
    },
    {
      "cell_type": "code",
      "metadata": {
        "colab": {
          "base_uri": "https://localhost:8080/"
        },
        "id": "rfDBAkLTe6V1",
        "outputId": "f9923a10-4840-4219-c6a5-14a59aa1f93a"
      },
      "source": [
        "model.predict_classes(X[[0, 50, 100]])\n",
        "#> deprecated: 미래에 없어질 예정인 기능."
      ],
      "execution_count": 19,
      "outputs": [
        {
          "output_type": "stream",
          "text": [
            "/usr/local/lib/python3.7/dist-packages/tensorflow/python/keras/engine/sequential.py:450: UserWarning: `model.predict_classes()` is deprecated and will be removed after 2021-01-01. Please use instead:* `np.argmax(model.predict(x), axis=-1)`,   if your model does multi-class classification   (e.g. if it uses a `softmax` last-layer activation).* `(model.predict(x) > 0.5).astype(\"int32\")`,   if your model does binary classification   (e.g. if it uses a `sigmoid` last-layer activation).\n",
            "  warnings.warn('`model.predict_classes()` is deprecated and '\n"
          ],
          "name": "stderr"
        },
        {
          "output_type": "execute_result",
          "data": {
            "text/plain": [
              "array([[1],\n",
              "       [1],\n",
              "       [1]], dtype=int32)"
            ]
          },
          "metadata": {
            "tags": []
          },
          "execution_count": 19
        }
      ]
    },
    {
      "cell_type": "markdown",
      "metadata": {
        "id": "TOSaawPbfZLv"
      },
      "source": [
        "## DNN(Deep Neural Network)\n",
        "\n",
        "Hidden layer(은닉층)이 한개 이상인 신경망 모델"
      ]
    },
    {
      "cell_type": "code",
      "metadata": {
        "id": "YGTbhYxLfnXV"
      },
      "source": [
        "# 모델 생성\n",
        "model2 = keras.Sequential(name='iris_2_layers')"
      ],
      "execution_count": 20,
      "outputs": []
    },
    {
      "cell_type": "code",
      "metadata": {
        "id": "fPJm5akugvKf"
      },
      "source": [
        "# Sequential 객체에 hidden layer를 추가\n",
        "model2.add(keras.layers.Dense(units=10, activation='sigmoid', input_shape=(2,)))\n",
        "# hidden layer 뒤에 output layer를 추가\n",
        "model2.add(keras.layers.Dense(units=1, activation='sigmoid'))\n",
        "# 첫번째 layer에서만 input_shape을 결정해 주면, \n",
        "# 두번째부터 연결되는 layer에서는 input_shape이 자동으로 계산되서 결정됨."
      ],
      "execution_count": 21,
      "outputs": []
    },
    {
      "cell_type": "code",
      "metadata": {
        "colab": {
          "base_uri": "https://localhost:8080/"
        },
        "id": "JMDtEW5FiKtG",
        "outputId": "1293477d-7b17-4b0b-e7a8-dcd1fff2c3f1"
      },
      "source": [
        "# 생성된 모델 요약\n",
        "model2.summary()"
      ],
      "execution_count": 23,
      "outputs": [
        {
          "output_type": "stream",
          "text": [
            "Model: \"iris_2_layers\"\n",
            "_________________________________________________________________\n",
            "Layer (type)                 Output Shape              Param #   \n",
            "=================================================================\n",
            "dense_1 (Dense)              (None, 10)                30        \n",
            "_________________________________________________________________\n",
            "dense_2 (Dense)              (None, 1)                 11        \n",
            "=================================================================\n",
            "Total params: 41\n",
            "Trainable params: 41\n",
            "Non-trainable params: 0\n",
            "_________________________________________________________________\n"
          ],
          "name": "stdout"
        }
      ]
    },
    {
      "cell_type": "code",
      "metadata": {
        "id": "VSl2uQAniQiN"
      },
      "source": [
        ""
      ],
      "execution_count": null,
      "outputs": []
    }
  ]
}