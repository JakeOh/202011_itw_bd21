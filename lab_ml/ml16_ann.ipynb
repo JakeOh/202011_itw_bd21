{
  "nbformat": 4,
  "nbformat_minor": 0,
  "metadata": {
    "colab": {
      "name": "ml16_ann.ipynb",
      "provenance": [],
      "collapsed_sections": [],
      "authorship_tag": "ABX9TyNMnYnHa/RNPBC9jodUQqIK",
      "include_colab_link": true
    },
    "kernelspec": {
      "name": "python3",
      "display_name": "Python 3"
    },
    "language_info": {
      "name": "python"
    },
    "accelerator": "GPU"
  },
  "cells": [
    {
      "cell_type": "markdown",
      "metadata": {
        "id": "view-in-github",
        "colab_type": "text"
      },
      "source": [
        "<a href=\"https://colab.research.google.com/github/JakeOh/202011_itw_bd21/blob/main/lab_ml/ml16_ann.ipynb\" target=\"_parent\"><img src=\"https://colab.research.google.com/assets/colab-badge.svg\" alt=\"Open In Colab\"/></a>"
      ]
    },
    {
      "cell_type": "markdown",
      "metadata": {
        "id": "KrhCQFysHdQB"
      },
      "source": [
        "**Artificial Neural Network(인공 신경망)**"
      ]
    },
    {
      "cell_type": "markdown",
      "metadata": {
        "id": "-oZTGD9aMXB3"
      },
      "source": [
        "# Imports"
      ]
    },
    {
      "cell_type": "code",
      "metadata": {
        "id": "yTmwjuY_HUWA"
      },
      "source": [
        "import numpy as np\n",
        "import matplotlib.pyplot as plt\n",
        "\n",
        "from sklearn.datasets import load_iris\n",
        "\n",
        "import tensorflow as tf\n",
        "from tensorflow import keras"
      ],
      "execution_count": 1,
      "outputs": []
    },
    {
      "cell_type": "code",
      "metadata": {
        "colab": {
          "base_uri": "https://localhost:8080/",
          "height": 38
        },
        "id": "vN7l4uGgNFZA",
        "outputId": "0571c8dd-a23a-4183-e19b-9d2a80aa368e"
      },
      "source": [
        "tf.__version__  # Google Colab의 Tensorflow 버전 확인"
      ],
      "execution_count": 2,
      "outputs": [
        {
          "output_type": "execute_result",
          "data": {
            "application/vnd.google.colaboratory.intrinsic+json": {
              "type": "string"
            },
            "text/plain": [
              "'2.4.1'"
            ]
          },
          "metadata": {
            "tags": []
          },
          "execution_count": 2
        }
      ]
    },
    {
      "cell_type": "code",
      "metadata": {
        "colab": {
          "base_uri": "https://localhost:8080/",
          "height": 38
        },
        "id": "UwuwL2n-NNsX",
        "outputId": "561583fc-0c39-4f34-b62f-852db34af51e"
      },
      "source": [
        "keras.__version__  # Google Colab의 tensorflow.keras 버전 확인"
      ],
      "execution_count": 3,
      "outputs": [
        {
          "output_type": "execute_result",
          "data": {
            "application/vnd.google.colaboratory.intrinsic+json": {
              "type": "string"
            },
            "text/plain": [
              "'2.4.0'"
            ]
          },
          "metadata": {
            "tags": []
          },
          "execution_count": 3
        }
      ]
    },
    {
      "cell_type": "markdown",
      "metadata": {
        "id": "7uIdCDliOBPa"
      },
      "source": [
        "# Iris Data"
      ]
    },
    {
      "cell_type": "code",
      "metadata": {
        "id": "bZD7fAuuNflW"
      },
      "source": [
        "iris_data, iris_target = load_iris(return_X_y=True)"
      ],
      "execution_count": 4,
      "outputs": []
    },
    {
      "cell_type": "code",
      "metadata": {
        "colab": {
          "base_uri": "https://localhost:8080/"
        },
        "id": "7hqw0BRQOMVY",
        "outputId": "ea324b98-b129-4b48-9f18-76a8a5af9080"
      },
      "source": [
        "iris_data.shape, iris_target.shape"
      ],
      "execution_count": 5,
      "outputs": [
        {
          "output_type": "execute_result",
          "data": {
            "text/plain": [
              "((150, 4), (150,))"
            ]
          },
          "metadata": {
            "tags": []
          },
          "execution_count": 5
        }
      ]
    },
    {
      "cell_type": "code",
      "metadata": {
        "colab": {
          "base_uri": "https://localhost:8080/"
        },
        "id": "_jQMvOC-OPju",
        "outputId": "c069b9e3-ae7b-4984-ae43-bb16f8d4394a"
      },
      "source": [
        "iris_data[:5]"
      ],
      "execution_count": 6,
      "outputs": [
        {
          "output_type": "execute_result",
          "data": {
            "text/plain": [
              "array([[5.1, 3.5, 1.4, 0.2],\n",
              "       [4.9, 3. , 1.4, 0.2],\n",
              "       [4.7, 3.2, 1.3, 0.2],\n",
              "       [4.6, 3.1, 1.5, 0.2],\n",
              "       [5. , 3.6, 1.4, 0.2]])"
            ]
          },
          "metadata": {
            "tags": []
          },
          "execution_count": 6
        }
      ]
    },
    {
      "cell_type": "code",
      "metadata": {
        "colab": {
          "base_uri": "https://localhost:8080/"
        },
        "id": "7SZCyuOIOXJX",
        "outputId": "c788f488-20a8-4cef-b0e8-dfda233a986d"
      },
      "source": [
        "np.unique(iris_target, return_counts=True)"
      ],
      "execution_count": 7,
      "outputs": [
        {
          "output_type": "execute_result",
          "data": {
            "text/plain": [
              "(array([0, 1, 2]), array([50, 50, 50]))"
            ]
          },
          "metadata": {
            "tags": []
          },
          "execution_count": 7
        }
      ]
    },
    {
      "cell_type": "markdown",
      "metadata": {
        "id": "3Kb9oS8ZOhdf"
      },
      "source": [
        "샘플의 변수는 2개로 축소. 타겟(0:setosa, 1:non-setosa)."
      ]
    },
    {
      "cell_type": "code",
      "metadata": {
        "id": "ffSoDzJ0Oc4_"
      },
      "source": [
        "X = iris_data[:, -2:]\n",
        "y = (iris_target != 0).astype(np.int32)"
      ],
      "execution_count": 8,
      "outputs": []
    },
    {
      "cell_type": "code",
      "metadata": {
        "colab": {
          "base_uri": "https://localhost:8080/"
        },
        "id": "-gFnQ5y0O-9n",
        "outputId": "3fafdc93-7d23-44af-8f2b-4aa51c5d22d2"
      },
      "source": [
        "X[:5]"
      ],
      "execution_count": 9,
      "outputs": [
        {
          "output_type": "execute_result",
          "data": {
            "text/plain": [
              "array([[1.4, 0.2],\n",
              "       [1.4, 0.2],\n",
              "       [1.3, 0.2],\n",
              "       [1.5, 0.2],\n",
              "       [1.4, 0.2]])"
            ]
          },
          "metadata": {
            "tags": []
          },
          "execution_count": 9
        }
      ]
    },
    {
      "cell_type": "code",
      "metadata": {
        "colab": {
          "base_uri": "https://localhost:8080/"
        },
        "id": "gzvGIZMqPBln",
        "outputId": "63ead944-ab41-4983-929f-5efe0352531c"
      },
      "source": [
        "np.unique(y, return_counts=True)"
      ],
      "execution_count": 10,
      "outputs": [
        {
          "output_type": "execute_result",
          "data": {
            "text/plain": [
              "(array([0, 1], dtype=int32), array([ 50, 100]))"
            ]
          },
          "metadata": {
            "tags": []
          },
          "execution_count": 10
        }
      ]
    },
    {
      "cell_type": "markdown",
      "metadata": {
        "id": "vb1abdmDPPkn"
      },
      "source": [
        "## Single-layer 신경망"
      ]
    },
    {
      "cell_type": "code",
      "metadata": {
        "id": "4Km7ZrfqPIH2"
      },
      "source": [
        "# 신경망 모델 생성 - 설계\n",
        "model = keras.Sequential(layers=[keras.layers.Dense(units=1, activation='sigmoid', input_shape=(2,))], \n",
        "                         name='iris_single_layer')"
      ],
      "execution_count": 11,
      "outputs": []
    },
    {
      "cell_type": "markdown",
      "metadata": {
        "id": "NCtyyaHPSFzu"
      },
      "source": [
        "\n",
        "*   `keras.Sequential` 클래스: 신경망 모델(input-hidden-output layer)\n",
        "*   `keras.layers.Dense` 클래스: Dense 층(한개 이상의 unit(neuron)으로 이루어진 층)\n",
        "    *   `units` 파라미터: dense layer가 갖는 유닛의 개수\n",
        "    *   `activation` 파라미터: 활성화 함수 이름\n",
        "    *   `input_shape` 파라미터: 한개의 유닛으로 입력되는 input data의 shape(튜플)\n",
        "        *   신경망 모델이 찾아야 하는 파라미터(weights, bias)의 개수를 결정하기 위해서 필요.\n"
      ]
    },
    {
      "cell_type": "code",
      "metadata": {
        "colab": {
          "base_uri": "https://localhost:8080/"
        },
        "id": "YsRziyHFSAaF",
        "outputId": "ec5f1679-aa13-434f-d796-199df300865a"
      },
      "source": [
        "# 생성된 신경망 모델 요약: layers, parameters\n",
        "model.summary()"
      ],
      "execution_count": 12,
      "outputs": [
        {
          "output_type": "stream",
          "text": [
            "Model: \"iris_single_layer\"\n",
            "_________________________________________________________________\n",
            "Layer (type)                 Output Shape              Param #   \n",
            "=================================================================\n",
            "dense (Dense)                (None, 1)                 3         \n",
            "=================================================================\n",
            "Total params: 3\n",
            "Trainable params: 3\n",
            "Non-trainable params: 0\n",
            "_________________________________________________________________\n"
          ],
          "name": "stdout"
        }
      ]
    },
    {
      "cell_type": "code",
      "metadata": {
        "id": "xT13744MTtMn"
      },
      "source": [
        "# 신경망 모델 컴파일: optimizer, loss, metrics 등을 설정\n",
        "#   optimizer: weight와 bias를 찾기위한 훈련 방법\n",
        "#   loss: 비용 함수 (이름)\n",
        "#   metrics: 성능 평가 지표(정확도, R2 score, RMSE 등)\n",
        "model.compile(optimizer='sgd', loss='binary_crossentropy', metrics='accuracy')"
      ],
      "execution_count": 13,
      "outputs": []
    },
    {
      "cell_type": "code",
      "metadata": {
        "colab": {
          "base_uri": "https://localhost:8080/"
        },
        "id": "zJdzfmxQV_Tn",
        "outputId": "30598a37-f145-4a43-e5e4-d67c2ced7473"
      },
      "source": [
        "# 신경망 모델 훈련: 훈련 데이터를 반복(epoch)해서 사용하면서,\n",
        "# loss(손실)은 줄여주고 metric(성능 평가 점수)는 크게 만들어주는 파라미터들(weights, biases)를 찾는 과정.\n",
        "model.fit(X, y, epochs=10)"
      ],
      "execution_count": 14,
      "outputs": [
        {
          "output_type": "stream",
          "text": [
            "Epoch 1/10\n",
            "5/5 [==============================] - 3s 3ms/step - loss: 1.2617 - accuracy: 0.3247\n",
            "Epoch 2/10\n",
            "5/5 [==============================] - 0s 3ms/step - loss: 0.9466 - accuracy: 0.3452\n",
            "Epoch 3/10\n",
            "5/5 [==============================] - 0s 3ms/step - loss: 0.7469 - accuracy: 0.4951\n",
            "Epoch 4/10\n",
            "5/5 [==============================] - 0s 3ms/step - loss: 0.6267 - accuracy: 0.6650\n",
            "Epoch 5/10\n",
            "5/5 [==============================] - 0s 3ms/step - loss: 0.5243 - accuracy: 0.9560\n",
            "Epoch 6/10\n",
            "5/5 [==============================] - 0s 3ms/step - loss: 0.4779 - accuracy: 0.9428\n",
            "Epoch 7/10\n",
            "5/5 [==============================] - 0s 3ms/step - loss: 0.4595 - accuracy: 0.8767\n",
            "Epoch 8/10\n",
            "5/5 [==============================] - 0s 3ms/step - loss: 0.4222 - accuracy: 0.8491\n",
            "Epoch 9/10\n",
            "5/5 [==============================] - 0s 3ms/step - loss: 0.3988 - accuracy: 0.8089\n",
            "Epoch 10/10\n",
            "5/5 [==============================] - 0s 3ms/step - loss: 0.4199 - accuracy: 0.7097\n"
          ],
          "name": "stdout"
        },
        {
          "output_type": "execute_result",
          "data": {
            "text/plain": [
              "<tensorflow.python.keras.callbacks.History at 0x7f7ac598e210>"
            ]
          },
          "metadata": {
            "tags": []
          },
          "execution_count": 14
        }
      ]
    },
    {
      "cell_type": "code",
      "metadata": {
        "colab": {
          "base_uri": "https://localhost:8080/"
        },
        "id": "MEVuhVx1WdJA",
        "outputId": "874c60f3-018a-4759-ed95-579bad733dba"
      },
      "source": [
        "# 신경망 모델의 훈련이 끝난 후 파라미터들(weight, bias)\n",
        "model.weights"
      ],
      "execution_count": 15,
      "outputs": [
        {
          "output_type": "execute_result",
          "data": {
            "text/plain": [
              "[<tf.Variable 'dense/kernel:0' shape=(2, 1) dtype=float32, numpy=\n",
              " array([[-0.20719218],\n",
              "        [ 1.4455947 ]], dtype=float32)>,\n",
              " <tf.Variable 'dense/bias:0' shape=(1,) dtype=float32, numpy=array([0.06050187], dtype=float32)>]"
            ]
          },
          "metadata": {
            "tags": []
          },
          "execution_count": 15
        }
      ]
    },
    {
      "cell_type": "code",
      "metadata": {
        "colab": {
          "base_uri": "https://localhost:8080/"
        },
        "id": "Vw5ea8CWbhuu",
        "outputId": "5745d64b-4e33-4b15-ba3f-567d0cd6a024"
      },
      "source": [
        "# 훈련된 모델 평가\n",
        "model.evaluate(X, y)"
      ],
      "execution_count": 16,
      "outputs": [
        {
          "output_type": "stream",
          "text": [
            "5/5 [==============================] - 0s 2ms/step - loss: 0.4009 - accuracy: 0.7133\n"
          ],
          "name": "stdout"
        },
        {
          "output_type": "execute_result",
          "data": {
            "text/plain": [
              "[0.40093016624450684, 0.7133333086967468]"
            ]
          },
          "metadata": {
            "tags": []
          },
          "execution_count": 16
        }
      ]
    },
    {
      "cell_type": "code",
      "metadata": {
        "colab": {
          "base_uri": "https://localhost:8080/"
        },
        "id": "VPY1KUejckk2",
        "outputId": "cb528ec0-0c25-443a-c993-c30ece179fc8"
      },
      "source": [
        "# 훈련된 모델을 사용해서 예측\n",
        "model.predict(X[[0, 50, 100]])\n",
        "#> 이진 분류(binary class classification)에서 predict() 메서드는 양성 샘플(class=1)이 될 확률을 리턴.\n",
        "#> (비교) scikit-learn 패키지의 머신 러닝 클래스들의 predict() 메서드는 예측 결과를 리턴함."
      ],
      "execution_count": 17,
      "outputs": [
        {
          "output_type": "execute_result",
          "data": {
            "text/plain": [
              "array([[0.5148835 ],\n",
              "       [0.75222814],\n",
              "       [0.91918576]], dtype=float32)"
            ]
          },
          "metadata": {
            "tags": []
          },
          "execution_count": 17
        }
      ]
    },
    {
      "cell_type": "code",
      "metadata": {
        "colab": {
          "base_uri": "https://localhost:8080/"
        },
        "id": "a2sslOy5d3EZ",
        "outputId": "acf17268-984e-4185-f2c3-faea5897bbba"
      },
      "source": [
        "model.predict_proba(X[[0, 50, 100]])\n",
        "#> deprecated: 미래에 없어질 예정인 기능."
      ],
      "execution_count": 18,
      "outputs": [
        {
          "output_type": "stream",
          "text": [
            "/usr/local/lib/python3.7/dist-packages/tensorflow/python/keras/engine/sequential.py:425: UserWarning: `model.predict_proba()` is deprecated and will be removed after 2021-01-01. Please use `model.predict()` instead.\n",
            "  warnings.warn('`model.predict_proba()` is deprecated and '\n"
          ],
          "name": "stderr"
        },
        {
          "output_type": "execute_result",
          "data": {
            "text/plain": [
              "array([[0.5148835 ],\n",
              "       [0.75222814],\n",
              "       [0.91918576]], dtype=float32)"
            ]
          },
          "metadata": {
            "tags": []
          },
          "execution_count": 18
        }
      ]
    },
    {
      "cell_type": "code",
      "metadata": {
        "colab": {
          "base_uri": "https://localhost:8080/"
        },
        "id": "rfDBAkLTe6V1",
        "outputId": "f9923a10-4840-4219-c6a5-14a59aa1f93a"
      },
      "source": [
        "model.predict_classes(X[[0, 50, 100]])\n",
        "#> deprecated: 미래에 없어질 예정인 기능."
      ],
      "execution_count": 19,
      "outputs": [
        {
          "output_type": "stream",
          "text": [
            "/usr/local/lib/python3.7/dist-packages/tensorflow/python/keras/engine/sequential.py:450: UserWarning: `model.predict_classes()` is deprecated and will be removed after 2021-01-01. Please use instead:* `np.argmax(model.predict(x), axis=-1)`,   if your model does multi-class classification   (e.g. if it uses a `softmax` last-layer activation).* `(model.predict(x) > 0.5).astype(\"int32\")`,   if your model does binary classification   (e.g. if it uses a `sigmoid` last-layer activation).\n",
            "  warnings.warn('`model.predict_classes()` is deprecated and '\n"
          ],
          "name": "stderr"
        },
        {
          "output_type": "execute_result",
          "data": {
            "text/plain": [
              "array([[1],\n",
              "       [1],\n",
              "       [1]], dtype=int32)"
            ]
          },
          "metadata": {
            "tags": []
          },
          "execution_count": 19
        }
      ]
    },
    {
      "cell_type": "markdown",
      "metadata": {
        "id": "TOSaawPbfZLv"
      },
      "source": [
        "## DNN(Deep Neural Network)\n",
        "\n",
        "Hidden layer(은닉층)이 한개 이상인 신경망 모델"
      ]
    },
    {
      "cell_type": "code",
      "metadata": {
        "id": "YGTbhYxLfnXV"
      },
      "source": [
        "# 모델 생성\n",
        "model2 = keras.Sequential(name='iris_2_layers')"
      ],
      "execution_count": 27,
      "outputs": []
    },
    {
      "cell_type": "code",
      "metadata": {
        "id": "fPJm5akugvKf"
      },
      "source": [
        "# Sequential 객체에 hidden layer를 추가\n",
        "model2.add(keras.layers.Dense(units=10, activation='sigmoid', input_shape=(2,)))\n",
        "# hidden layer 뒤에 output layer를 추가\n",
        "model2.add(keras.layers.Dense(units=1, activation='sigmoid'))\n",
        "# 첫번째 layer에서만 input_shape을 결정해 주면, \n",
        "# 두번째부터 연결되는 layer에서는 input_shape이 자동으로 계산되서 결정됨."
      ],
      "execution_count": 28,
      "outputs": []
    },
    {
      "cell_type": "code",
      "metadata": {
        "colab": {
          "base_uri": "https://localhost:8080/"
        },
        "id": "JMDtEW5FiKtG",
        "outputId": "99eaa798-7076-4db7-fae0-f1e6fe63329f"
      },
      "source": [
        "# 생성된 모델 요약\n",
        "model2.summary()"
      ],
      "execution_count": 29,
      "outputs": [
        {
          "output_type": "stream",
          "text": [
            "Model: \"iris_2_layers\"\n",
            "_________________________________________________________________\n",
            "Layer (type)                 Output Shape              Param #   \n",
            "=================================================================\n",
            "dense_3 (Dense)              (None, 10)                30        \n",
            "_________________________________________________________________\n",
            "dense_4 (Dense)              (None, 1)                 11        \n",
            "=================================================================\n",
            "Total params: 41\n",
            "Trainable params: 41\n",
            "Non-trainable params: 0\n",
            "_________________________________________________________________\n"
          ],
          "name": "stdout"
        }
      ]
    },
    {
      "cell_type": "code",
      "metadata": {
        "id": "VSl2uQAniQiN"
      },
      "source": [
        "# 모델 컴파일: 최적화 알고리즘, 손실 함수, 평가 지표 등을 설정\n",
        "model2.compile(optimizer='sgd', loss='binary_crossentropy', metrics='accuracy')"
      ],
      "execution_count": 30,
      "outputs": []
    },
    {
      "cell_type": "code",
      "metadata": {
        "colab": {
          "base_uri": "https://localhost:8080/"
        },
        "id": "CKC8art84oyN",
        "outputId": "72ec524f-56c9-491b-89e0-b266af8592a2"
      },
      "source": [
        "# 모델 훈련\n",
        "model2.fit(X, y, epochs=10)"
      ],
      "execution_count": 31,
      "outputs": [
        {
          "output_type": "stream",
          "text": [
            "Epoch 1/10\n",
            "5/5 [==============================] - 0s 3ms/step - loss: 0.7170 - accuracy: 0.6775\n",
            "Epoch 2/10\n",
            "5/5 [==============================] - 0s 3ms/step - loss: 0.7208 - accuracy: 0.6528\n",
            "Epoch 3/10\n",
            "5/5 [==============================] - 0s 3ms/step - loss: 0.7269 - accuracy: 0.6254\n",
            "Epoch 4/10\n",
            "5/5 [==============================] - 0s 4ms/step - loss: 0.7270 - accuracy: 0.6150\n",
            "Epoch 5/10\n",
            "5/5 [==============================] - 0s 3ms/step - loss: 0.7122 - accuracy: 0.6437\n",
            "Epoch 6/10\n",
            "5/5 [==============================] - 0s 3ms/step - loss: 0.7183 - accuracy: 0.6189\n",
            "Epoch 7/10\n",
            "5/5 [==============================] - 0s 3ms/step - loss: 0.6975 - accuracy: 0.6649\n",
            "Epoch 8/10\n",
            "5/5 [==============================] - 0s 3ms/step - loss: 0.7034 - accuracy: 0.6411\n",
            "Epoch 9/10\n",
            "5/5 [==============================] - 0s 2ms/step - loss: 0.6965 - accuracy: 0.6541\n",
            "Epoch 10/10\n",
            "5/5 [==============================] - 0s 2ms/step - loss: 0.6865 - accuracy: 0.6710\n"
          ],
          "name": "stdout"
        },
        {
          "output_type": "execute_result",
          "data": {
            "text/plain": [
              "<tensorflow.python.keras.callbacks.History at 0x7f7ab022ca90>"
            ]
          },
          "metadata": {
            "tags": []
          },
          "execution_count": 31
        }
      ]
    },
    {
      "cell_type": "code",
      "metadata": {
        "colab": {
          "base_uri": "https://localhost:8080/"
        },
        "id": "9EL3-eO55VAy",
        "outputId": "93d0cde7-252c-4a9d-bf76-4e537b9d86d8"
      },
      "source": [
        "model2.weights\n",
        "#> tf.Variable 클래스의 객체들을 저장하고 있는 리스트"
      ],
      "execution_count": 33,
      "outputs": [
        {
          "output_type": "execute_result",
          "data": {
            "text/plain": [
              "[<tf.Variable 'dense_3/kernel:0' shape=(2, 10) dtype=float32, numpy=\n",
              " array([[ 0.12983035,  0.1786017 , -0.7036748 , -0.47096318, -0.22127809,\n",
              "         -0.28041258, -0.3515727 ,  0.18599683, -0.7140175 ,  0.13760027],\n",
              "        [-0.16443525, -0.16980414, -0.18544117,  0.22741961, -0.7120339 ,\n",
              "          0.62472165,  0.03728396,  0.45265484, -0.70624876,  0.5159945 ]],\n",
              "       dtype=float32)>,\n",
              " <tf.Variable 'dense_3/bias:0' shape=(10,) dtype=float32, numpy=\n",
              " array([ 0.00056472,  0.00226899, -0.00851901, -0.00413155,  0.00525536,\n",
              "         0.00225923,  0.00010678,  0.00155552, -0.00732538, -0.00057578],\n",
              "       dtype=float32)>,\n",
              " <tf.Variable 'dense_4/kernel:0' shape=(10, 1) dtype=float32, numpy=\n",
              " array([[ 0.07390097],\n",
              "        [ 0.2806682 ],\n",
              "        [ 0.53257453],\n",
              "        [ 0.5385329 ],\n",
              "        [-0.49020708],\n",
              "        [ 0.2471488 ],\n",
              "        [-0.03128878],\n",
              "        [-0.24562272],\n",
              "        [ 0.4378515 ],\n",
              "        [ 0.1934674 ]], dtype=float32)>,\n",
              " <tf.Variable 'dense_4/bias:0' shape=(1,) dtype=float32, numpy=array([0.04254942], dtype=float32)>]"
            ]
          },
          "metadata": {
            "tags": []
          },
          "execution_count": 33
        }
      ]
    },
    {
      "cell_type": "code",
      "metadata": {
        "colab": {
          "base_uri": "https://localhost:8080/"
        },
        "id": "Lshhn5E971X5",
        "outputId": "9eddf159-3a2a-4af8-a95b-0fc5346270a8"
      },
      "source": [
        "model2.weights[0]  #> 입력 데이터들이 첫번째 layer로 입력될 때 곱해지게 될 weight 텐서"
      ],
      "execution_count": 34,
      "outputs": [
        {
          "output_type": "execute_result",
          "data": {
            "text/plain": [
              "<tf.Variable 'dense_3/kernel:0' shape=(2, 10) dtype=float32, numpy=\n",
              "array([[ 0.12983035,  0.1786017 , -0.7036748 , -0.47096318, -0.22127809,\n",
              "        -0.28041258, -0.3515727 ,  0.18599683, -0.7140175 ,  0.13760027],\n",
              "       [-0.16443525, -0.16980414, -0.18544117,  0.22741961, -0.7120339 ,\n",
              "         0.62472165,  0.03728396,  0.45265484, -0.70624876,  0.5159945 ]],\n",
              "      dtype=float32)>"
            ]
          },
          "metadata": {
            "tags": []
          },
          "execution_count": 34
        }
      ]
    },
    {
      "cell_type": "code",
      "metadata": {
        "colab": {
          "base_uri": "https://localhost:8080/"
        },
        "id": "19xPVBDM74gq",
        "outputId": "cc85ab3a-e6cd-45b2-ddd7-6de33e034465"
      },
      "source": [
        "model2.weights[1]  #> 입력 데이터들이 첫번째 layer로 입력될 때 더해지게 될 bias 텐서(tensor)"
      ],
      "execution_count": 35,
      "outputs": [
        {
          "output_type": "execute_result",
          "data": {
            "text/plain": [
              "<tf.Variable 'dense_3/bias:0' shape=(10,) dtype=float32, numpy=\n",
              "array([ 0.00056472,  0.00226899, -0.00851901, -0.00413155,  0.00525536,\n",
              "        0.00225923,  0.00010678,  0.00155552, -0.00732538, -0.00057578],\n",
              "      dtype=float32)>"
            ]
          },
          "metadata": {
            "tags": []
          },
          "execution_count": 35
        }
      ]
    },
    {
      "cell_type": "code",
      "metadata": {
        "colab": {
          "base_uri": "https://localhost:8080/"
        },
        "id": "efiXQGp68GjR",
        "outputId": "fa531d01-9e13-4b49-f6c6-a603b38d87f6"
      },
      "source": [
        "# 평가\n",
        "model2.evaluate(X, y)"
      ],
      "execution_count": 36,
      "outputs": [
        {
          "output_type": "stream",
          "text": [
            "5/5 [==============================] - 0s 3ms/step - loss: 0.6854 - accuracy: 0.6667\n"
          ],
          "name": "stdout"
        },
        {
          "output_type": "execute_result",
          "data": {
            "text/plain": [
              "[0.6854140162467957, 0.6666666865348816]"
            ]
          },
          "metadata": {
            "tags": []
          },
          "execution_count": 36
        }
      ]
    },
    {
      "cell_type": "code",
      "metadata": {
        "colab": {
          "base_uri": "https://localhost:8080/"
        },
        "id": "WdwU-nEb8mfK",
        "outputId": "a16a486d-3e89-4a9b-9ff6-1f619bb38f6f"
      },
      "source": [
        "# 예측\n",
        "preds = model2.predict(X)\n",
        "preds[[0, 1, 50, 51, 100, 101]]"
      ],
      "execution_count": 37,
      "outputs": [
        {
          "output_type": "execute_result",
          "data": {
            "text/plain": [
              "array([[0.6324501 ],\n",
              "       [0.6324501 ],\n",
              "       [0.5856083 ],\n",
              "       [0.58901244],\n",
              "       [0.5912734 ],\n",
              "       [0.5898272 ]], dtype=float32)"
            ]
          },
          "metadata": {
            "tags": []
          },
          "execution_count": 37
        }
      ]
    },
    {
      "cell_type": "markdown",
      "metadata": {
        "id": "Ww7f8zfO9Y_L"
      },
      "source": [
        "## iris 다중 클래스 분류"
      ]
    },
    {
      "cell_type": "code",
      "metadata": {
        "colab": {
          "base_uri": "https://localhost:8080/"
        },
        "id": "Xw09Hy1Q87f5",
        "outputId": "4576b6a3-741b-4b96-eac1-23d172826c91"
      },
      "source": [
        "iris_data[:5]"
      ],
      "execution_count": 38,
      "outputs": [
        {
          "output_type": "execute_result",
          "data": {
            "text/plain": [
              "array([[5.1, 3.5, 1.4, 0.2],\n",
              "       [4.9, 3. , 1.4, 0.2],\n",
              "       [4.7, 3.2, 1.3, 0.2],\n",
              "       [4.6, 3.1, 1.5, 0.2],\n",
              "       [5. , 3.6, 1.4, 0.2]])"
            ]
          },
          "metadata": {
            "tags": []
          },
          "execution_count": 38
        }
      ]
    },
    {
      "cell_type": "code",
      "metadata": {
        "colab": {
          "base_uri": "https://localhost:8080/"
        },
        "id": "r4VRJwWj9vpC",
        "outputId": "61110b26-1d34-4d88-e4b7-d564b245f043"
      },
      "source": [
        "iris_target"
      ],
      "execution_count": 39,
      "outputs": [
        {
          "output_type": "execute_result",
          "data": {
            "text/plain": [
              "array([0, 0, 0, 0, 0, 0, 0, 0, 0, 0, 0, 0, 0, 0, 0, 0, 0, 0, 0, 0, 0, 0,\n",
              "       0, 0, 0, 0, 0, 0, 0, 0, 0, 0, 0, 0, 0, 0, 0, 0, 0, 0, 0, 0, 0, 0,\n",
              "       0, 0, 0, 0, 0, 0, 1, 1, 1, 1, 1, 1, 1, 1, 1, 1, 1, 1, 1, 1, 1, 1,\n",
              "       1, 1, 1, 1, 1, 1, 1, 1, 1, 1, 1, 1, 1, 1, 1, 1, 1, 1, 1, 1, 1, 1,\n",
              "       1, 1, 1, 1, 1, 1, 1, 1, 1, 1, 1, 1, 2, 2, 2, 2, 2, 2, 2, 2, 2, 2,\n",
              "       2, 2, 2, 2, 2, 2, 2, 2, 2, 2, 2, 2, 2, 2, 2, 2, 2, 2, 2, 2, 2, 2,\n",
              "       2, 2, 2, 2, 2, 2, 2, 2, 2, 2, 2, 2, 2, 2, 2, 2, 2, 2])"
            ]
          },
          "metadata": {
            "tags": []
          },
          "execution_count": 39
        }
      ]
    },
    {
      "cell_type": "code",
      "metadata": {
        "id": "HCBw9hEN9zG5"
      },
      "source": [
        "model = keras.Sequential()  # 신경망 생성"
      ],
      "execution_count": 40,
      "outputs": []
    },
    {
      "cell_type": "code",
      "metadata": {
        "id": "N5hGkv8u-Gra"
      },
      "source": [
        "# 출력층 추가: 다중 클래스 분류인 경우 활성화 함수는 softmax를 사용.\n",
        "model.add(keras.layers.Dense(units=3, activation='softmax', input_shape=(4,)))"
      ],
      "execution_count": 41,
      "outputs": []
    },
    {
      "cell_type": "code",
      "metadata": {
        "colab": {
          "base_uri": "https://localhost:8080/"
        },
        "id": "IOOGjQmS_scz",
        "outputId": "92271f95-1241-4d63-d1a9-b4746cbcc8f6"
      },
      "source": [
        "model.summary()"
      ],
      "execution_count": 42,
      "outputs": [
        {
          "output_type": "stream",
          "text": [
            "Model: \"sequential\"\n",
            "_________________________________________________________________\n",
            "Layer (type)                 Output Shape              Param #   \n",
            "=================================================================\n",
            "dense_5 (Dense)              (None, 3)                 15        \n",
            "=================================================================\n",
            "Total params: 15\n",
            "Trainable params: 15\n",
            "Non-trainable params: 0\n",
            "_________________________________________________________________\n"
          ],
          "name": "stdout"
        }
      ]
    },
    {
      "cell_type": "code",
      "metadata": {
        "id": "MJQ_nzOb_uBx"
      },
      "source": [
        ""
      ],
      "execution_count": null,
      "outputs": []
    }
  ]
}