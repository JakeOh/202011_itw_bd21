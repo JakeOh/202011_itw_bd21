{
  "nbformat": 4,
  "nbformat_minor": 0,
  "metadata": {
    "colab": {
      "name": "ml10_ensemble.ipynb",
      "provenance": [],
      "collapsed_sections": [],
      "authorship_tag": "ABX9TyPlyRw1+kMpjVYLio7E5Z4Y",
      "include_colab_link": true
    },
    "kernelspec": {
      "name": "python3",
      "display_name": "Python 3"
    }
  },
  "cells": [
    {
      "cell_type": "markdown",
      "metadata": {
        "id": "view-in-github",
        "colab_type": "text"
      },
      "source": [
        "<a href=\"https://colab.research.google.com/github/JakeOh/202011_itw_bd21/blob/main/lab_ml/ml10_ensemble.ipynb\" target=\"_parent\"><img src=\"https://colab.research.google.com/assets/colab-badge.svg\" alt=\"Open In Colab\"/></a>"
      ]
    },
    {
      "cell_type": "markdown",
      "metadata": {
        "id": "9-5EP1kBC7Hf"
      },
      "source": [
        "# Ensembel Learning(앙상블 학습 방법)\r\n",
        "\r\n",
        "*   **앙상블(ensemble)**: 머신 러닝에서 사용되는 일련의 모델(알고리즘)들.\r\n",
        "    *   서로 다른 알고리즘 여러개를 훈련시키는 방법.\r\n",
        "    *   같은 알고리즘을 서로 다른 훈련 셋에서 훈련시키는 방법.\r\n",
        "\r\n",
        "*   앙상블 학습 방법: 앙상블을 사용한 머신 러닝 방법.\r\n",
        "    *   투표(voting) 방식: 여러 모델을 학습시켜서 각각의 예측값을 투표(다수결) 또는 평균으로 예측하는 학습 방법.\r\n",
        "    *   **Bagging(Bootstrap Aggregating)**: ***중복을 허용해서 샘플링***한 훈련 셋의 부분집합들을 하나의 알고리즘에 학습시켜셔 예측(다수결, 평균)하는 학습 방법.\r\n",
        "    *   **Pasting**: ***중복을 허용하지 않고 샘플링***한 훈련 셋의 부분집합들을 하나의 알고리즘에 훈련시켜서 예측하는 학습 방법.\r\n",
        "\r\n",
        "*   Random Forest: Bagging을 사용한 Decision Tree의 Ensemble 학습 방법."
      ]
    },
    {
      "cell_type": "markdown",
      "metadata": {
        "id": "zRi5M2GJFI7u"
      },
      "source": [
        "# Imports"
      ]
    },
    {
      "cell_type": "code",
      "metadata": {
        "id": "WGeFMnvtCyYV"
      },
      "source": [
        "import numpy as np\r\n",
        "import pandas as pd\r\n",
        "import matplotlib.pyplot as plt\r\n",
        "\r\n",
        "from sklearn.datasets import make_moons\r\n",
        "from sklearn.model_selection import train_test_split\r\n",
        "from sklearn.linear_model import LogisticRegression, SGDClassifier\r\n",
        "from sklearn.tree import DecisionTreeClassifier\r\n",
        "from sklearn.svm import SVC\r\n",
        "from sklearn.ensemble import RandomForestClassifier, VotingClassifier, BaggingClassifier"
      ],
      "execution_count": 2,
      "outputs": []
    },
    {
      "cell_type": "markdown",
      "metadata": {
        "id": "BDLNZu_GGdlF"
      },
      "source": [
        "# Data"
      ]
    },
    {
      "cell_type": "code",
      "metadata": {
        "id": "C1XykPM6Gbms"
      },
      "source": [
        "X, y = make_moons(n_samples=500, noise=0.3, random_state=42)"
      ],
      "execution_count": 16,
      "outputs": []
    },
    {
      "cell_type": "code",
      "metadata": {
        "colab": {
          "base_uri": "https://localhost:8080/"
        },
        "id": "F0gtTyv8G7Zg",
        "outputId": "62941932-e92a-4b15-ed03-89af4e59821b"
      },
      "source": [
        "X.shape, y.shape"
      ],
      "execution_count": 17,
      "outputs": [
        {
          "output_type": "execute_result",
          "data": {
            "text/plain": [
              "((500, 2), (500,))"
            ]
          },
          "metadata": {
            "tags": []
          },
          "execution_count": 17
        }
      ]
    },
    {
      "cell_type": "code",
      "metadata": {
        "colab": {
          "base_uri": "https://localhost:8080/"
        },
        "id": "IT8La-JPG8oU",
        "outputId": "f5992b2c-1069-45b7-fbd6-bc897a7f0b60"
      },
      "source": [
        "X[:5]  # data"
      ],
      "execution_count": 18,
      "outputs": [
        {
          "output_type": "execute_result",
          "data": {
            "text/plain": [
              "array([[ 0.83103915, -0.25874875],\n",
              "       [ 1.18506381,  0.92038714],\n",
              "       [ 1.16402213, -0.45552558],\n",
              "       [-0.0236556 ,  1.08628844],\n",
              "       [ 0.48050273,  1.50942444]])"
            ]
          },
          "metadata": {
            "tags": []
          },
          "execution_count": 18
        }
      ]
    },
    {
      "cell_type": "code",
      "metadata": {
        "colab": {
          "base_uri": "https://localhost:8080/"
        },
        "id": "zwYEX2SwHBOW",
        "outputId": "95308def-c509-4f8f-8286-3ac675be5494"
      },
      "source": [
        "y[:5]  # target"
      ],
      "execution_count": 19,
      "outputs": [
        {
          "output_type": "execute_result",
          "data": {
            "text/plain": [
              "array([1, 0, 1, 0, 0])"
            ]
          },
          "metadata": {
            "tags": []
          },
          "execution_count": 19
        }
      ]
    },
    {
      "cell_type": "code",
      "metadata": {
        "colab": {
          "base_uri": "https://localhost:8080/"
        },
        "id": "i1bnXDOfHIEN",
        "outputId": "44ea7b5d-2e7e-441f-ffc6-7f2db95e6c3e"
      },
      "source": [
        "np.unique(y)  # 0, 1 분류"
      ],
      "execution_count": 20,
      "outputs": [
        {
          "output_type": "execute_result",
          "data": {
            "text/plain": [
              "array([0, 1])"
            ]
          },
          "metadata": {
            "tags": []
          },
          "execution_count": 20
        }
      ]
    },
    {
      "cell_type": "code",
      "metadata": {
        "colab": {
          "base_uri": "https://localhost:8080/",
          "height": 279
        },
        "id": "HQ7ZTR24HREs",
        "outputId": "9bf380e5-473b-4f87-ee15-11e1b44b5985"
      },
      "source": [
        "# 타겟 y값에 따라서 다른 색깔로 산점도 그래프\r\n",
        "plt.scatter(X[:, 0], X[:, 1])\r\n",
        "\r\n",
        "plt.xlabel('x1')\r\n",
        "plt.ylabel('x2')\r\n",
        "plt.grid()\r\n",
        "plt.show()"
      ],
      "execution_count": 21,
      "outputs": [
        {
          "output_type": "display_data",
          "data": {
            "image/png": "[encoded data removed]",
            "text/plain": [
              "<Figure size 432x288 with 1 Axes>"
            ]
          },
          "metadata": {
            "tags": [],
            "needs_background": "light"
          }
        }
      ]
    }
  ]
}