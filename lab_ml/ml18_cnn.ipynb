{
  "nbformat": 4,
  "nbformat_minor": 0,
  "metadata": {
    "colab": {
      "name": "ml18_cnn.ipynb",
      "provenance": [],
      "collapsed_sections": [],
      "authorship_tag": "ABX9TyOVmn+8hs1vim0hEelPwfpk",
      "include_colab_link": true
    },
    "kernelspec": {
      "name": "python3",
      "display_name": "Python 3"
    },
    "language_info": {
      "name": "python"
    }
  },
  "cells": [
    {
      "cell_type": "markdown",
      "metadata": {
        "id": "view-in-github",
        "colab_type": "text"
      },
      "source": [
        "<a href=\"https://colab.research.google.com/github/JakeOh/202011_itw_bd21/blob/main/lab_ml/ml18_cnn.ipynb\" target=\"_parent\"><img src=\"https://colab.research.google.com/assets/colab-badge.svg\" alt=\"Open In Colab\"/></a>"
      ]
    },
    {
      "cell_type": "markdown",
      "metadata": {
        "id": "8jujl-9xp00N"
      },
      "source": [
        "# Imports"
      ]
    },
    {
      "cell_type": "code",
      "metadata": {
        "id": "-DUVHBMzpsWK"
      },
      "source": [
        "import numpy as np\n",
        "import pandas as pd\n",
        "import matplotlib.pyplot as plt\n",
        "from scipy.signal import convolve, correlate  # 합성곱(convolution) 연산\n",
        "\n",
        "from sklearn.datasets import load_sample_image  # 예제 이미지 로드\n",
        "from sklearn.model_selection import train_test_split\n",
        "\n",
        "import tensorflow as tf\n",
        "from tensorflow import keras"
      ],
      "execution_count": 2,
      "outputs": []
    },
    {
      "cell_type": "markdown",
      "metadata": {
        "id": "XLwKVUOTq2ad"
      },
      "source": [
        "# Convolution(합성곱)"
      ]
    },
    {
      "cell_type": "markdown",
      "metadata": {
        "id": "2T87ZcOkq8gO"
      },
      "source": [
        "## 1차원 합성곱"
      ]
    },
    {
      "cell_type": "code",
      "metadata": {
        "colab": {
          "base_uri": "https://localhost:8080/"
        },
        "id": "8q4YAd2Zq6gk",
        "outputId": "179a06c8-f0e6-46b9-c688-a1f68cc175ef"
      },
      "source": [
        "x = np.arange(1, 5)\n",
        "x"
      ],
      "execution_count": 3,
      "outputs": [
        {
          "output_type": "execute_result",
          "data": {
            "text/plain": [
              "array([1, 2, 3, 4])"
            ]
          },
          "metadata": {
            "tags": []
          },
          "execution_count": 3
        }
      ]
    },
    {
      "cell_type": "code",
      "metadata": {
        "colab": {
          "base_uri": "https://localhost:8080/"
        },
        "id": "zu5ieGHyqKsG",
        "outputId": "5a507a7c-ed73-4ff9-9df8-3de3e7bf5c3b"
      },
      "source": [
        "y = np.array([1, 2])\n",
        "y"
      ],
      "execution_count": 4,
      "outputs": [
        {
          "output_type": "execute_result",
          "data": {
            "text/plain": [
              "array([1, 2])"
            ]
          },
          "metadata": {
            "tags": []
          },
          "execution_count": 4
        }
      ]
    },
    {
      "cell_type": "code",
      "metadata": {
        "colab": {
          "base_uri": "https://localhost:8080/"
        },
        "id": "mgDTv-uLtRVG",
        "outputId": "8da2d3a2-3b88-477c-c42f-e3a813b25568"
      },
      "source": [
        "y_flipped = np.flip(y)\n",
        "y_flipped  # 좌/우가 반전된 배열"
      ],
      "execution_count": 7,
      "outputs": [
        {
          "output_type": "execute_result",
          "data": {
            "text/plain": [
              "array([2, 1])"
            ]
          },
          "metadata": {
            "tags": []
          },
          "execution_count": 7
        }
      ]
    },
    {
      "cell_type": "code",
      "metadata": {
        "colab": {
          "base_uri": "https://localhost:8080/"
        },
        "id": "PAd377OIrI-N",
        "outputId": "486c4cd0-5bf7-40da-c0bf-7e5775ea21cb"
      },
      "source": [
        "convolve(x, y, mode='valid')\n",
        "#> mode='valid': 출력 길이 = len(x) -len(y) + 1"
      ],
      "execution_count": 5,
      "outputs": [
        {
          "output_type": "execute_result",
          "data": {
            "text/plain": [
              "array([ 4,  7, 10])"
            ]
          },
          "metadata": {
            "tags": []
          },
          "execution_count": 5
        }
      ]
    },
    {
      "cell_type": "code",
      "metadata": {
        "colab": {
          "base_uri": "https://localhost:8080/"
        },
        "id": "BB1mUIdLrmQt",
        "outputId": "eac8cbfe-6b61-41c9-d01b-7540d8fc18d0"
      },
      "source": [
        "convolve(x, y, mode='same')\n",
        "#> mode='same': 출력 길이 = len(x)\n",
        "# 출력 배열의 길이가 원본 배열 x의 길이와 같아지도록 zero padding을 추가함."
      ],
      "execution_count": 8,
      "outputs": [
        {
          "output_type": "execute_result",
          "data": {
            "text/plain": [
              "array([ 1,  4,  7, 10])"
            ]
          },
          "metadata": {
            "tags": []
          },
          "execution_count": 8
        }
      ]
    },
    {
      "cell_type": "code",
      "metadata": {
        "colab": {
          "base_uri": "https://localhost:8080/"
        },
        "id": "s4nujm_8t8Il",
        "outputId": "1913137b-8add-49de-d01e-a06ae3f24afc"
      },
      "source": [
        "convolve(x, y, mode='full')\n",
        "#> mode='full': 출력 길이 = len(x) + len(y) - 1\n",
        "# 원본 배열 x의 모든 원소가 동일한 횟수로 합성곱 연산에 기여할 수 있도록 zero padding을 추가함."
      ],
      "execution_count": 9,
      "outputs": [
        {
          "output_type": "execute_result",
          "data": {
            "text/plain": [
              "array([ 1,  4,  7, 10,  8])"
            ]
          },
          "metadata": {
            "tags": []
          },
          "execution_count": 9
        }
      ]
    },
    {
      "cell_type": "code",
      "metadata": {
        "id": "jxbvUyBVuzUN"
      },
      "source": [
        ""
      ],
      "execution_count": null,
      "outputs": []
    }
  ]
}