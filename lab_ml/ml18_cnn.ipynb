{
  "nbformat": 4,
  "nbformat_minor": 0,
  "metadata": {
    "colab": {
      "name": "ml18_cnn.ipynb",
      "provenance": [],
      "collapsed_sections": [],
      "authorship_tag": "ABX9TyOXzUVOmkUCqyr9UIE8Hcls",
      "include_colab_link": true
    },
    "kernelspec": {
      "name": "python3",
      "display_name": "Python 3"
    },
    "language_info": {
      "name": "python"
    }
  },
  "cells": [
    {
      "cell_type": "markdown",
      "metadata": {
        "id": "view-in-github",
        "colab_type": "text"
      },
      "source": [
        "<a href=\"https://colab.research.google.com/github/JakeOh/202011_itw_bd21/blob/main/lab_ml/ml18_cnn.ipynb\" target=\"_parent\"><img src=\"https://colab.research.google.com/assets/colab-badge.svg\" alt=\"Open In Colab\"/></a>"
      ]
    },
    {
      "cell_type": "markdown",
      "metadata": {
        "id": "8jujl-9xp00N"
      },
      "source": [
        "# Imports"
      ]
    },
    {
      "cell_type": "code",
      "metadata": {
        "id": "-DUVHBMzpsWK"
      },
      "source": [
        "import numpy as np\n",
        "import pandas as pd\n",
        "import matplotlib.pyplot as plt\n",
        "from scipy.signal import convolve, correlate  # 합성곱(convolution) 연산\n",
        "\n",
        "from sklearn.datasets import load_sample_image  # 예제 이미지 로드\n",
        "from sklearn.model_selection import train_test_split\n",
        "\n",
        "import tensorflow as tf\n",
        "from tensorflow import keras"
      ],
      "execution_count": 2,
      "outputs": []
    },
    {
      "cell_type": "markdown",
      "metadata": {
        "id": "XLwKVUOTq2ad"
      },
      "source": [
        "# Convolution(합성곱)"
      ]
    },
    {
      "cell_type": "markdown",
      "metadata": {
        "id": "2T87ZcOkq8gO"
      },
      "source": [
        "## 1차원 합성곱"
      ]
    },
    {
      "cell_type": "code",
      "metadata": {
        "colab": {
          "base_uri": "https://localhost:8080/"
        },
        "id": "8q4YAd2Zq6gk",
        "outputId": "179a06c8-f0e6-46b9-c688-a1f68cc175ef"
      },
      "source": [
        "x = np.arange(1, 5)\n",
        "x"
      ],
      "execution_count": 3,
      "outputs": [
        {
          "output_type": "execute_result",
          "data": {
            "text/plain": [
              "array([1, 2, 3, 4])"
            ]
          },
          "metadata": {
            "tags": []
          },
          "execution_count": 3
        }
      ]
    },
    {
      "cell_type": "code",
      "metadata": {
        "colab": {
          "base_uri": "https://localhost:8080/"
        },
        "id": "zu5ieGHyqKsG",
        "outputId": "5a507a7c-ed73-4ff9-9df8-3de3e7bf5c3b"
      },
      "source": [
        "y = np.array([1, 2])\n",
        "y"
      ],
      "execution_count": 4,
      "outputs": [
        {
          "output_type": "execute_result",
          "data": {
            "text/plain": [
              "array([1, 2])"
            ]
          },
          "metadata": {
            "tags": []
          },
          "execution_count": 4
        }
      ]
    },
    {
      "cell_type": "code",
      "metadata": {
        "colab": {
          "base_uri": "https://localhost:8080/"
        },
        "id": "mgDTv-uLtRVG",
        "outputId": "8da2d3a2-3b88-477c-c42f-e3a813b25568"
      },
      "source": [
        "y_flipped = np.flip(y)\n",
        "y_flipped  # 좌/우가 반전된 배열"
      ],
      "execution_count": 7,
      "outputs": [
        {
          "output_type": "execute_result",
          "data": {
            "text/plain": [
              "array([2, 1])"
            ]
          },
          "metadata": {
            "tags": []
          },
          "execution_count": 7
        }
      ]
    },
    {
      "cell_type": "code",
      "metadata": {
        "colab": {
          "base_uri": "https://localhost:8080/"
        },
        "id": "PAd377OIrI-N",
        "outputId": "486c4cd0-5bf7-40da-c0bf-7e5775ea21cb"
      },
      "source": [
        "convolve(x, y, mode='valid')\n",
        "#> mode='valid': 출력 길이 = len(x) -len(y) + 1"
      ],
      "execution_count": 5,
      "outputs": [
        {
          "output_type": "execute_result",
          "data": {
            "text/plain": [
              "array([ 4,  7, 10])"
            ]
          },
          "metadata": {
            "tags": []
          },
          "execution_count": 5
        }
      ]
    },
    {
      "cell_type": "code",
      "metadata": {
        "colab": {
          "base_uri": "https://localhost:8080/"
        },
        "id": "BB1mUIdLrmQt",
        "outputId": "eac8cbfe-6b61-41c9-d01b-7540d8fc18d0"
      },
      "source": [
        "convolve(x, y, mode='same')\n",
        "#> mode='same': 출력 길이 = len(x)\n",
        "# 출력 배열의 길이가 원본 배열 x의 길이와 같아지도록 zero padding을 추가함."
      ],
      "execution_count": 8,
      "outputs": [
        {
          "output_type": "execute_result",
          "data": {
            "text/plain": [
              "array([ 1,  4,  7, 10])"
            ]
          },
          "metadata": {
            "tags": []
          },
          "execution_count": 8
        }
      ]
    },
    {
      "cell_type": "code",
      "metadata": {
        "colab": {
          "base_uri": "https://localhost:8080/"
        },
        "id": "s4nujm_8t8Il",
        "outputId": "1913137b-8add-49de-d01e-a06ae3f24afc"
      },
      "source": [
        "convolve(x, y, mode='full')\n",
        "#> mode='full': 출력 길이 = len(x) + len(y) - 1\n",
        "# 원본 배열 x의 모든 원소가 동일한 횟수로 합성곱 연산에 기여할 수 있도록 zero padding을 추가함."
      ],
      "execution_count": 9,
      "outputs": [
        {
          "output_type": "execute_result",
          "data": {
            "text/plain": [
              "array([ 1,  4,  7, 10,  8])"
            ]
          },
          "metadata": {
            "tags": []
          },
          "execution_count": 9
        }
      ]
    },
    {
      "cell_type": "markdown",
      "metadata": {
        "id": "BAAg8lRl0AEU"
      },
      "source": [
        "## 2차원 합성곱"
      ]
    },
    {
      "cell_type": "code",
      "metadata": {
        "colab": {
          "base_uri": "https://localhost:8080/"
        },
        "id": "jxbvUyBVuzUN",
        "outputId": "abf7c560-ca57-4b0e-bf1e-fa5c94a840d8"
      },
      "source": [
        "x2 = np.arange(1, 17).reshape((4, 4))\n",
        "x2"
      ],
      "execution_count": 10,
      "outputs": [
        {
          "output_type": "execute_result",
          "data": {
            "text/plain": [
              "array([[ 1,  2,  3,  4],\n",
              "       [ 5,  6,  7,  8],\n",
              "       [ 9, 10, 11, 12],\n",
              "       [13, 14, 15, 16]])"
            ]
          },
          "metadata": {
            "tags": []
          },
          "execution_count": 10
        }
      ]
    },
    {
      "cell_type": "code",
      "metadata": {
        "colab": {
          "base_uri": "https://localhost:8080/"
        },
        "id": "R0tfhB6n0OBF",
        "outputId": "fc1f2f29-ca0b-4eab-f3da-9ea5d2c73130"
      },
      "source": [
        "y2 = np.array([[0, 1], [2, 0]])\n",
        "y2"
      ],
      "execution_count": 11,
      "outputs": [
        {
          "output_type": "execute_result",
          "data": {
            "text/plain": [
              "array([[0, 1],\n",
              "       [2, 0]])"
            ]
          },
          "metadata": {
            "tags": []
          },
          "execution_count": 11
        }
      ]
    },
    {
      "cell_type": "code",
      "metadata": {
        "colab": {
          "base_uri": "https://localhost:8080/"
        },
        "id": "1ktyLCaU1Ja9",
        "outputId": "6e0af43e-55da-46d2-c9dd-dfabe92eba26"
      },
      "source": [
        "np.flip(y2, axis=0)  # 상/하 반전"
      ],
      "execution_count": 12,
      "outputs": [
        {
          "output_type": "execute_result",
          "data": {
            "text/plain": [
              "array([[2, 0],\n",
              "       [0, 1]])"
            ]
          },
          "metadata": {
            "tags": []
          },
          "execution_count": 12
        }
      ]
    },
    {
      "cell_type": "code",
      "metadata": {
        "colab": {
          "base_uri": "https://localhost:8080/"
        },
        "id": "I2g5xq-M1TzN",
        "outputId": "df5e493d-d450-4a83-ceef-4eb98ad0fe4e"
      },
      "source": [
        "np.flip(y2, axis=1)  # 좌/우 반전"
      ],
      "execution_count": 13,
      "outputs": [
        {
          "output_type": "execute_result",
          "data": {
            "text/plain": [
              "array([[1, 0],\n",
              "       [0, 2]])"
            ]
          },
          "metadata": {
            "tags": []
          },
          "execution_count": 13
        }
      ]
    },
    {
      "cell_type": "code",
      "metadata": {
        "colab": {
          "base_uri": "https://localhost:8080/"
        },
        "id": "7_ozoToG1X5i",
        "outputId": "e3957fff-ff48-4e3d-bc7c-1591468a9a93"
      },
      "source": [
        "y2_flipped = np.flip(y2)  # 상/하/좌/우 반전\n",
        "y2_flipped"
      ],
      "execution_count": 14,
      "outputs": [
        {
          "output_type": "execute_result",
          "data": {
            "text/plain": [
              "array([[0, 2],\n",
              "       [1, 0]])"
            ]
          },
          "metadata": {
            "tags": []
          },
          "execution_count": 14
        }
      ]
    },
    {
      "cell_type": "code",
      "metadata": {
        "colab": {
          "base_uri": "https://localhost:8080/"
        },
        "id": "kBXpA8Te1oor",
        "outputId": "5e116a1c-be03-4012-fc48-d0a82c18c2df"
      },
      "source": [
        "convolve(x2, y2, mode='valid')"
      ],
      "execution_count": 15,
      "outputs": [
        {
          "output_type": "execute_result",
          "data": {
            "text/plain": [
              "array([[ 9, 12, 15],\n",
              "       [21, 24, 27],\n",
              "       [33, 36, 39]])"
            ]
          },
          "metadata": {
            "tags": []
          },
          "execution_count": 15
        }
      ]
    },
    {
      "cell_type": "code",
      "metadata": {
        "colab": {
          "base_uri": "https://localhost:8080/"
        },
        "id": "FwxyHtaI168-",
        "outputId": "af768c37-ba15-45e8-f2df-2ac2763be7f7"
      },
      "source": [
        "convolve(x2, y2, mode='same')"
      ],
      "execution_count": 16,
      "outputs": [
        {
          "output_type": "execute_result",
          "data": {
            "text/plain": [
              "array([[ 0,  1,  2,  3],\n",
              "       [ 2,  9, 12, 15],\n",
              "       [10, 21, 24, 27],\n",
              "       [18, 33, 36, 39]])"
            ]
          },
          "metadata": {
            "tags": []
          },
          "execution_count": 16
        }
      ]
    },
    {
      "cell_type": "code",
      "metadata": {
        "colab": {
          "base_uri": "https://localhost:8080/"
        },
        "id": "0zSKx3r43cF-",
        "outputId": "d9a3ad29-a16e-47b8-e2be-0a0899dbc8ce"
      },
      "source": [
        "convolve(x2, y2, mode='full')"
      ],
      "execution_count": 17,
      "outputs": [
        {
          "output_type": "execute_result",
          "data": {
            "text/plain": [
              "array([[ 0,  1,  2,  3,  4],\n",
              "       [ 2,  9, 12, 15,  8],\n",
              "       [10, 21, 24, 27, 12],\n",
              "       [18, 33, 36, 39, 16],\n",
              "       [26, 28, 30, 32,  0]])"
            ]
          },
          "metadata": {
            "tags": []
          },
          "execution_count": 17
        }
      ]
    },
    {
      "cell_type": "markdown",
      "metadata": {
        "id": "AkMHBbFb69Dz"
      },
      "source": [
        "# Cross-correlation(교차상관)"
      ]
    },
    {
      "cell_type": "code",
      "metadata": {
        "colab": {
          "base_uri": "https://localhost:8080/"
        },
        "id": "iPxHkWmP4z1z",
        "outputId": "beecdb40-f744-4512-c342-46b65b3ec240"
      },
      "source": [
        "x"
      ],
      "execution_count": 18,
      "outputs": [
        {
          "output_type": "execute_result",
          "data": {
            "text/plain": [
              "array([1, 2, 3, 4])"
            ]
          },
          "metadata": {
            "tags": []
          },
          "execution_count": 18
        }
      ]
    },
    {
      "cell_type": "code",
      "metadata": {
        "colab": {
          "base_uri": "https://localhost:8080/"
        },
        "id": "flAyYpXq7a6s",
        "outputId": "223191c3-b2f4-4684-bd94-529d29c6ab8f"
      },
      "source": [
        "y"
      ],
      "execution_count": 19,
      "outputs": [
        {
          "output_type": "execute_result",
          "data": {
            "text/plain": [
              "array([1, 2])"
            ]
          },
          "metadata": {
            "tags": []
          },
          "execution_count": 19
        }
      ]
    },
    {
      "cell_type": "code",
      "metadata": {
        "colab": {
          "base_uri": "https://localhost:8080/"
        },
        "id": "lMEPrvXK7bnq",
        "outputId": "5e088ee8-e778-4337-9b86-035d22e4faae"
      },
      "source": [
        "correlate(x, y, mode='valid')"
      ],
      "execution_count": 21,
      "outputs": [
        {
          "output_type": "execute_result",
          "data": {
            "text/plain": [
              "array([ 5,  8, 11])"
            ]
          },
          "metadata": {
            "tags": []
          },
          "execution_count": 21
        }
      ]
    },
    {
      "cell_type": "code",
      "metadata": {
        "colab": {
          "base_uri": "https://localhost:8080/"
        },
        "id": "R_fp74z97dPL",
        "outputId": "f1a2972d-feb1-4967-d00b-fc1e9e860dd0"
      },
      "source": [
        "correlate(x, y, mode='same')"
      ],
      "execution_count": 22,
      "outputs": [
        {
          "output_type": "execute_result",
          "data": {
            "text/plain": [
              "array([ 2,  5,  8, 11])"
            ]
          },
          "metadata": {
            "tags": []
          },
          "execution_count": 22
        }
      ]
    },
    {
      "cell_type": "code",
      "metadata": {
        "colab": {
          "base_uri": "https://localhost:8080/"
        },
        "id": "H9Qdgo3y8at2",
        "outputId": "abca64de-5f2c-4b24-e2d9-2b59be2465fe"
      },
      "source": [
        "correlate(x, y, mode='full')"
      ],
      "execution_count": 23,
      "outputs": [
        {
          "output_type": "execute_result",
          "data": {
            "text/plain": [
              "array([ 2,  5,  8, 11,  4])"
            ]
          },
          "metadata": {
            "tags": []
          },
          "execution_count": 23
        }
      ]
    },
    {
      "cell_type": "code",
      "metadata": {
        "colab": {
          "base_uri": "https://localhost:8080/"
        },
        "id": "UtTq_aYN8c4r",
        "outputId": "396fee56-d8f8-4605-eb21-aaa9bd8853a5"
      },
      "source": [
        "correlate(x2, y2, mode='valid')"
      ],
      "execution_count": 24,
      "outputs": [
        {
          "output_type": "execute_result",
          "data": {
            "text/plain": [
              "array([[12, 15, 18],\n",
              "       [24, 27, 30],\n",
              "       [36, 39, 42]])"
            ]
          },
          "metadata": {
            "tags": []
          },
          "execution_count": 24
        }
      ]
    },
    {
      "cell_type": "code",
      "metadata": {
        "colab": {
          "base_uri": "https://localhost:8080/"
        },
        "id": "rgRaB0iR83I7",
        "outputId": "33a452f4-e865-44ae-ba61-a617d9470471"
      },
      "source": [
        "correlate(x2, y2, mode='same')"
      ],
      "execution_count": 25,
      "outputs": [
        {
          "output_type": "execute_result",
          "data": {
            "text/plain": [
              "array([[ 0,  2,  4,  6],\n",
              "       [ 1, 12, 15, 18],\n",
              "       [ 5, 24, 27, 30],\n",
              "       [ 9, 36, 39, 42]])"
            ]
          },
          "metadata": {
            "tags": []
          },
          "execution_count": 25
        }
      ]
    },
    {
      "cell_type": "code",
      "metadata": {
        "colab": {
          "base_uri": "https://localhost:8080/"
        },
        "id": "P9ziXcyT858D",
        "outputId": "9fc717fb-2380-4fde-cdd2-b094441b5587"
      },
      "source": [
        "correlate(x2, y2, mode='full')"
      ],
      "execution_count": 27,
      "outputs": [
        {
          "output_type": "execute_result",
          "data": {
            "text/plain": [
              "array([[ 0,  2,  4,  6,  8],\n",
              "       [ 1, 12, 15, 18, 16],\n",
              "       [ 5, 24, 27, 30, 24],\n",
              "       [ 9, 36, 39, 42, 32],\n",
              "       [13, 14, 15, 16,  0]])"
            ]
          },
          "metadata": {
            "tags": []
          },
          "execution_count": 27
        }
      ]
    }
  ]
}