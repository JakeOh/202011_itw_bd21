{
  "nbformat": 4,
  "nbformat_minor": 0,
  "metadata": {
    "colab": {
      "name": "ml08_sgd.ipynb",
      "provenance": [],
      "collapsed_sections": [],
      "authorship_tag": "ABX9TyNBAHimwlTUkl+S0byqY5yK",
      "include_colab_link": true
    },
    "kernelspec": {
      "name": "python3",
      "display_name": "Python 3"
    }
  },
  "cells": [
    {
      "cell_type": "markdown",
      "metadata": {
        "id": "view-in-github",
        "colab_type": "text"
      },
      "source": [
        "<a href=\"https://colab.research.google.com/github/JakeOh/202011_itw_bd21/blob/main/lab_ml/ml08_sgd.ipynb\" target=\"_parent\"><img src=\"https://colab.research.google.com/assets/colab-badge.svg\" alt=\"Open In Colab\"/></a>"
      ]
    },
    {
      "cell_type": "markdown",
      "metadata": {
        "id": "DXpr-Q8HBQ4H"
      },
      "source": [
        "# Imports"
      ]
    },
    {
      "cell_type": "code",
      "metadata": {
        "id": "RaEYwZzMwXmw"
      },
      "source": [
        "import numpy as np\r\n",
        "import pandas as pd\r\n",
        "import matplotlib.pyplot as plt\r\n",
        "\r\n",
        "from sklearn.model_selection import train_test_split\r\n",
        "from sklearn.preprocessing import StandardScaler\r\n",
        "from sklearn.linear_model import SGDClassifier\r\n",
        "from sklearn.metrics import confusion_matrix, classification_report"
      ],
      "execution_count": 34,
      "outputs": []
    },
    {
      "cell_type": "markdown",
      "metadata": {
        "id": "iSi_bJwZwLof"
      },
      "source": [
        "# Stochastic Gradient Descent(SGD, 확률적 경사 하강법)"
      ]
    },
    {
      "cell_type": "code",
      "metadata": {
        "id": "h0mKmdDcwG74"
      },
      "source": [
        "w = np.arange(-5, 5, 0.001)\r\n",
        "cost = w**2  # 비용 함수"
      ],
      "execution_count": 2,
      "outputs": []
    },
    {
      "cell_type": "code",
      "metadata": {
        "colab": {
          "base_uri": "https://localhost:8080/",
          "height": 265
        },
        "id": "rl5ieBTww5eH",
        "outputId": "f0623848-d8e1-49fd-f57e-7cbeaffa7280"
      },
      "source": [
        "plt.plot(w, cost)\r\n",
        "\r\n",
        "plt.grid()\r\n",
        "plt.show()"
      ],
      "execution_count": 3,
      "outputs": [
        {
          "output_type": "display_data",
          "data": {
            "image/png": "[encoded data removed]",
            "text/plain": [
              "<Figure size 432x288 with 1 Axes>"
            ]
          },
          "metadata": {
            "tags": [],
            "needs_background": "light"
          }
        }
      ]
    },
    {
      "cell_type": "code",
      "metadata": {
        "id": "wnZomqpJw-pP"
      },
      "source": [
        "w_init = -4"
      ],
      "execution_count": 4,
      "outputs": []
    },
    {
      "cell_type": "code",
      "metadata": {
        "id": "WaVoCNSwyS-W"
      },
      "source": [
        "w_grad = 2 * w_init"
      ],
      "execution_count": 5,
      "outputs": []
    },
    {
      "cell_type": "code",
      "metadata": {
        "id": "VgRtTZsRyeBN"
      },
      "source": [
        "learning_rate = 0.1"
      ],
      "execution_count": 6,
      "outputs": []
    },
    {
      "cell_type": "code",
      "metadata": {
        "id": "65lJ1NvlyjKd"
      },
      "source": [
        "w_new = w_init - learning_rate * w_grad"
      ],
      "execution_count": 7,
      "outputs": []
    },
    {
      "cell_type": "code",
      "metadata": {
        "colab": {
          "base_uri": "https://localhost:8080/"
        },
        "id": "jCYuVtPWyrhW",
        "outputId": "63525a62-74e4-4bf2-8e8a-95e0468edafe"
      },
      "source": [
        "w_new"
      ],
      "execution_count": 8,
      "outputs": [
        {
          "output_type": "execute_result",
          "data": {
            "text/plain": [
              "-3.2"
            ]
          },
          "metadata": {
            "tags": []
          },
          "execution_count": 8
        }
      ]
    },
    {
      "cell_type": "code",
      "metadata": {
        "colab": {
          "base_uri": "https://localhost:8080/"
        },
        "id": "YDtKoU4xysrt",
        "outputId": "b9976c16-f0a9-4968-86df-96c06eda875d"
      },
      "source": [
        "w_init = w_new\r\n",
        "w_grad = 2 * w_init\r\n",
        "w_new = w_init - learning_rate * w_grad\r\n",
        "w_new"
      ],
      "execution_count": 9,
      "outputs": [
        {
          "output_type": "execute_result",
          "data": {
            "text/plain": [
              "-2.56"
            ]
          },
          "metadata": {
            "tags": []
          },
          "execution_count": 9
        }
      ]
    },
    {
      "cell_type": "code",
      "metadata": {
        "colab": {
          "base_uri": "https://localhost:8080/",
          "height": 279
        },
        "id": "yoWjwgeXzQV9",
        "outputId": "25743cb6-8696-4540-c887-cab3a62bebef"
      },
      "source": [
        "plt.plot(w, cost, color='darkgray')  # 비용 함수 시각화\r\n",
        "\r\n",
        "w_init = -4  # 임의의 w 시작값\r\n",
        "cost_init = w_init ** 2\r\n",
        "plt.scatter(w_init, cost_init, color='red', label='0')\r\n",
        "\r\n",
        "learning_rate = 0.1 # 학습률(0.2, 0.3, 0.5, 0.8, 1.0, 1.1 테스트)\r\n",
        "for epoch in range(10):\r\n",
        "    w_grad = 2 * w_init  # 임의의 w에서의 grdient를 계산\r\n",
        "    w_new = w_init - learning_rate * w_grad  # 경사 하강법 알고리즘\r\n",
        "    cost_new = w_new ** 2\r\n",
        "    plt.scatter(w_new, cost_new, label=f'{epoch+1}')\r\n",
        "    w_init = w_new\r\n",
        "\r\n",
        "plt.legend()\r\n",
        "plt.grid()\r\n",
        "plt.xlabel('w')\r\n",
        "plt.ylabel('cost')\r\n",
        "plt.show()"
      ],
      "execution_count": 33,
      "outputs": [
        {
          "output_type": "display_data",
          "data": {
            "image/png": "[encoded data removed]",
            "text/plain": [
              "<Figure size 432x288 with 1 Axes>"
            ]
          },
          "metadata": {
            "tags": [],
            "needs_background": "light"
          }
        }
      ]
    },
    {
      "cell_type": "markdown",
      "metadata": {
        "id": "QY3GaBNI9cVZ"
      },
      "source": [
        "경사 하강법에서의 학습률(learning rate):\r\n",
        "\r\n",
        "*   학습률이 작은 경우, 최솟값을 향해 천천히 움직임.\r\n",
        "*   학습률이 큰 경우, 최솟값을 향해 빠르게 움직이거나 혹은 불안정하게 움직일 수 있음.\r\n",
        "*   학습률이 너무 작으면, 최대 반복 횟수(max_iter) 안에서 최솟값으로 수렴(converge)하지 못함.\r\n",
        "    * 학습률을 크게 하거나 최대 반복 횟수를 늘려주면 수렴하게 만들 수 있음.\r\n",
        "*   학습률이 너무 크면, 최솟값으로 수렴하는 것이 아니라 발산(diverge)하는 경우가 발생할 수도 있음.\r\n",
        "*   학습률은 머신 러닝 알고리즘의 성능을 향상시키기 위해서 튜닝하는 하이퍼파라미터 중 하나.\r\n",
        "    *   머신 러닝 알고리즘들 중에서는 처음에는 학습률을 크게 하고, 에포크가 진행될 때마다 학습률을 점점 작게 줄이는 방식으로 조정하는 알고리즘도 있음.\r\n"
      ]
    },
    {
      "cell_type": "markdown",
      "metadata": {
        "id": "fRCdeq43BIgG"
      },
      "source": [
        "# SGDClassifier"
      ]
    },
    {
      "cell_type": "code",
      "metadata": {
        "id": "fOOXUnuL0WpM"
      },
      "source": [
        ""
      ],
      "execution_count": null,
      "outputs": []
    }
  ]
}