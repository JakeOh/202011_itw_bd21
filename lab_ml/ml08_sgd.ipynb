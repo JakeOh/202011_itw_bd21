{
  "nbformat": 4,
  "nbformat_minor": 0,
  "metadata": {
    "colab": {
      "name": "ml08_sgd.ipynb",
      "provenance": [],
      "authorship_tag": "ABX9TyMGKSAdGj/1d8/ZGeyB713S",
      "include_colab_link": true
    },
    "kernelspec": {
      "name": "python3",
      "display_name": "Python 3"
    }
  },
  "cells": [
    {
      "cell_type": "markdown",
      "metadata": {
        "id": "view-in-github",
        "colab_type": "text"
      },
      "source": [
        "<a href=\"https://colab.research.google.com/github/JakeOh/202011_itw_bd21/blob/main/lab_ml/ml08_sgd.ipynb\" target=\"_parent\"><img src=\"https://colab.research.google.com/assets/colab-badge.svg\" alt=\"Open In Colab\"/></a>"
      ]
    },
    {
      "cell_type": "code",
      "metadata": {
        "id": "RaEYwZzMwXmw"
      },
      "source": [
        "import numpy as np\r\n",
        "import pandas as pd\r\n",
        "import matplotlib.pyplot as plt"
      ],
      "execution_count": 1,
      "outputs": []
    },
    {
      "cell_type": "markdown",
      "metadata": {
        "id": "iSi_bJwZwLof"
      },
      "source": [
        "# Stochastic Gradient Descent(SGD, 확률적 경사 하강법)"
      ]
    },
    {
      "cell_type": "code",
      "metadata": {
        "id": "h0mKmdDcwG74"
      },
      "source": [
        "w = np.arange(-5, 5, 0.001)\r\n",
        "cost = w**2  # 비용 함수"
      ],
      "execution_count": 2,
      "outputs": []
    },
    {
      "cell_type": "code",
      "metadata": {
        "colab": {
          "base_uri": "https://localhost:8080/",
          "height": 265
        },
        "id": "rl5ieBTww5eH",
        "outputId": "f0623848-d8e1-49fd-f57e-7cbeaffa7280"
      },
      "source": [
        "plt.plot(w, cost)\r\n",
        "\r\n",
        "plt.grid()\r\n",
        "plt.show()"
      ],
      "execution_count": 3,
      "outputs": [
        {
          "output_type": "display_data",
          "data": {
            "image/png": "[encoded data removed]",
            "text/plain": [
              "<Figure size 432x288 with 1 Axes>"
            ]
          },
          "metadata": {
            "tags": [],
            "needs_background": "light"
          }
        }
      ]
    },
    {
      "cell_type": "code",
      "metadata": {
        "id": "wnZomqpJw-pP"
      },
      "source": [
        "w_init = -4"
      ],
      "execution_count": 4,
      "outputs": []
    },
    {
      "cell_type": "code",
      "metadata": {
        "id": "WaVoCNSwyS-W"
      },
      "source": [
        "w_grad = 2 * w_init"
      ],
      "execution_count": 5,
      "outputs": []
    },
    {
      "cell_type": "code",
      "metadata": {
        "id": "VgRtTZsRyeBN"
      },
      "source": [
        "learning_rate = 0.1"
      ],
      "execution_count": 6,
      "outputs": []
    },
    {
      "cell_type": "code",
      "metadata": {
        "id": "65lJ1NvlyjKd"
      },
      "source": [
        "w_new = w_init - learning_rate * w_grad"
      ],
      "execution_count": 7,
      "outputs": []
    },
    {
      "cell_type": "code",
      "metadata": {
        "colab": {
          "base_uri": "https://localhost:8080/"
        },
        "id": "jCYuVtPWyrhW",
        "outputId": "63525a62-74e4-4bf2-8e8a-95e0468edafe"
      },
      "source": [
        "w_new"
      ],
      "execution_count": 8,
      "outputs": [
        {
          "output_type": "execute_result",
          "data": {
            "text/plain": [
              "-3.2"
            ]
          },
          "metadata": {
            "tags": []
          },
          "execution_count": 8
        }
      ]
    },
    {
      "cell_type": "code",
      "metadata": {
        "colab": {
          "base_uri": "https://localhost:8080/"
        },
        "id": "YDtKoU4xysrt",
        "outputId": "b9976c16-f0a9-4968-86df-96c06eda875d"
      },
      "source": [
        "w_init = w_new\r\n",
        "w_grad = 2 * w_init\r\n",
        "w_new = w_init - learning_rate * w_grad\r\n",
        "w_new"
      ],
      "execution_count": 9,
      "outputs": [
        {
          "output_type": "execute_result",
          "data": {
            "text/plain": [
              "-2.56"
            ]
          },
          "metadata": {
            "tags": []
          },
          "execution_count": 9
        }
      ]
    },
    {
      "cell_type": "code",
      "metadata": {
        "colab": {
          "base_uri": "https://localhost:8080/",
          "height": 279
        },
        "id": "yoWjwgeXzQV9",
        "outputId": "47112d2e-5c8b-4667-c85a-0e216057c7e6"
      },
      "source": [
        "plt.plot(w, cost, color='darkgray')\r\n",
        "\r\n",
        "w_init = 4\r\n",
        "cost_init = w_init ** 2\r\n",
        "plt.scatter(w_init, cost_init, color='red', label='0')\r\n",
        "\r\n",
        "learning_rate = 0.1\r\n",
        "for epoch in range(10):\r\n",
        "    w_grad = 2 * w_init\r\n",
        "    w_new = w_init - learning_rate * w_grad\r\n",
        "    cost_new = w_new ** 2\r\n",
        "    plt.scatter(w_new, cost_new, label=f'{epoch+1}')\r\n",
        "    w_init = w_new\r\n",
        "\r\n",
        "plt.legend()\r\n",
        "plt.grid()\r\n",
        "plt.xlabel('w')\r\n",
        "plt.ylabel('cost')\r\n",
        "plt.show()"
      ],
      "execution_count": 19,
      "outputs": [
        {
          "output_type": "display_data",
          "data": {
            "image/png": "[encoded data removed]",
            "text/plain": [
              "<Figure size 432x288 with 1 Axes>"
            ]
          },
          "metadata": {
            "tags": [],
            "needs_background": "light"
          }
        }
      ]
    },
    {
      "cell_type": "code",
      "metadata": {
        "id": "fOOXUnuL0WpM"
      },
      "source": [
        ""
      ],
      "execution_count": null,
      "outputs": []
    }
  ]
}