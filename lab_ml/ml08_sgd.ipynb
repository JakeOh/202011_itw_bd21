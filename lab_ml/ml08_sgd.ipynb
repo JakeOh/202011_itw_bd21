{
  "nbformat": 4,
  "nbformat_minor": 0,
  "metadata": {
    "colab": {
      "name": "ml08_sgd.ipynb",
      "provenance": [],
      "collapsed_sections": [],
      "authorship_tag": "ABX9TyM36GUKnC78yUvdZzH2Sj6X",
      "include_colab_link": true
    },
    "kernelspec": {
      "name": "python3",
      "display_name": "Python 3"
    }
  },
  "cells": [
    {
      "cell_type": "markdown",
      "metadata": {
        "id": "view-in-github",
        "colab_type": "text"
      },
      "source": [
        "<a href=\"https://colab.research.google.com/github/JakeOh/202011_itw_bd21/blob/main/lab_ml/ml08_sgd.ipynb\" target=\"_parent\"><img src=\"https://colab.research.google.com/assets/colab-badge.svg\" alt=\"Open In Colab\"/></a>"
      ]
    },
    {
      "cell_type": "markdown",
      "metadata": {
        "id": "DXpr-Q8HBQ4H"
      },
      "source": [
        "# Imports"
      ]
    },
    {
      "cell_type": "code",
      "metadata": {
        "id": "RaEYwZzMwXmw"
      },
      "source": [
        "import numpy as np\r\n",
        "import pandas as pd\r\n",
        "import matplotlib.pyplot as plt\r\n",
        "\r\n",
        "from sklearn.model_selection import train_test_split\r\n",
        "from sklearn.preprocessing import StandardScaler\r\n",
        "from sklearn.linear_model import SGDClassifier\r\n",
        "from sklearn.metrics import confusion_matrix, classification_report"
      ],
      "execution_count": 90,
      "outputs": []
    },
    {
      "cell_type": "markdown",
      "metadata": {
        "id": "iSi_bJwZwLof"
      },
      "source": [
        "# Stochastic Gradient Descent(SGD, 확률적 경사 하강법)"
      ]
    },
    {
      "cell_type": "code",
      "metadata": {
        "id": "h0mKmdDcwG74"
      },
      "source": [
        "w = np.arange(-5, 5, 0.001)\r\n",
        "cost = w**2  # 비용 함수"
      ],
      "execution_count": 91,
      "outputs": []
    },
    {
      "cell_type": "code",
      "metadata": {
        "colab": {
          "base_uri": "https://localhost:8080/",
          "height": 265
        },
        "id": "rl5ieBTww5eH",
        "outputId": "dfec5897-0f59-4de9-e218-67ee4bffa6a4"
      },
      "source": [
        "plt.plot(w, cost)\r\n",
        "\r\n",
        "plt.grid()\r\n",
        "plt.show()"
      ],
      "execution_count": 92,
      "outputs": [
        {
          "output_type": "display_data",
          "data": {
            "image/png": "[encoded data removed]",
            "text/plain": [
              "<Figure size 432x288 with 1 Axes>"
            ]
          },
          "metadata": {
            "tags": [],
            "needs_background": "light"
          }
        }
      ]
    },
    {
      "cell_type": "code",
      "metadata": {
        "id": "wnZomqpJw-pP"
      },
      "source": [
        "w_init = -4"
      ],
      "execution_count": 93,
      "outputs": []
    },
    {
      "cell_type": "code",
      "metadata": {
        "id": "WaVoCNSwyS-W"
      },
      "source": [
        "w_grad = 2 * w_init"
      ],
      "execution_count": 94,
      "outputs": []
    },
    {
      "cell_type": "code",
      "metadata": {
        "id": "VgRtTZsRyeBN"
      },
      "source": [
        "learning_rate = 0.1"
      ],
      "execution_count": 95,
      "outputs": []
    },
    {
      "cell_type": "code",
      "metadata": {
        "id": "65lJ1NvlyjKd"
      },
      "source": [
        "w_new = w_init - learning_rate * w_grad"
      ],
      "execution_count": 96,
      "outputs": []
    },
    {
      "cell_type": "code",
      "metadata": {
        "colab": {
          "base_uri": "https://localhost:8080/"
        },
        "id": "jCYuVtPWyrhW",
        "outputId": "bd657676-110a-4299-b82b-6edfa89a52e9"
      },
      "source": [
        "w_new"
      ],
      "execution_count": 97,
      "outputs": [
        {
          "output_type": "execute_result",
          "data": {
            "text/plain": [
              "-3.2"
            ]
          },
          "metadata": {
            "tags": []
          },
          "execution_count": 97
        }
      ]
    },
    {
      "cell_type": "code",
      "metadata": {
        "colab": {
          "base_uri": "https://localhost:8080/"
        },
        "id": "YDtKoU4xysrt",
        "outputId": "d113b447-9963-4be5-e7f6-2ae23fe7ccb4"
      },
      "source": [
        "w_init = w_new\r\n",
        "w_grad = 2 * w_init\r\n",
        "w_new = w_init - learning_rate * w_grad\r\n",
        "w_new"
      ],
      "execution_count": 98,
      "outputs": [
        {
          "output_type": "execute_result",
          "data": {
            "text/plain": [
              "-2.56"
            ]
          },
          "metadata": {
            "tags": []
          },
          "execution_count": 98
        }
      ]
    },
    {
      "cell_type": "code",
      "metadata": {
        "colab": {
          "base_uri": "https://localhost:8080/",
          "height": 279
        },
        "id": "yoWjwgeXzQV9",
        "outputId": "8b1a6826-9c83-4913-deb6-09f0694186dc"
      },
      "source": [
        "plt.plot(w, cost, color='darkgray')  # 비용 함수 시각화\r\n",
        "\r\n",
        "w_init = -4  # 임의의 w 시작값\r\n",
        "cost_init = w_init ** 2\r\n",
        "plt.scatter(w_init, cost_init, color='red', label='0')\r\n",
        "\r\n",
        "learning_rate = 0.1 # 학습률(0.2, 0.3, 0.5, 0.8, 1.0, 1.1 테스트)\r\n",
        "for epoch in range(10):\r\n",
        "    w_grad = 2 * w_init  # 임의의 w에서의 grdient를 계산\r\n",
        "    w_new = w_init - learning_rate * w_grad  # 경사 하강법 알고리즘\r\n",
        "    cost_new = w_new ** 2\r\n",
        "    plt.scatter(w_new, cost_new, label=f'{epoch+1}')\r\n",
        "    w_init = w_new\r\n",
        "\r\n",
        "plt.legend()\r\n",
        "plt.grid()\r\n",
        "plt.xlabel('w')\r\n",
        "plt.ylabel('cost')\r\n",
        "plt.show()"
      ],
      "execution_count": 99,
      "outputs": [
        {
          "output_type": "display_data",
          "data": {
            "image/png": "[encoded data removed]",
            "text/plain": [
              "<Figure size 432x288 with 1 Axes>"
            ]
          },
          "metadata": {
            "tags": [],
            "needs_background": "light"
          }
        }
      ]
    },
    {
      "cell_type": "markdown",
      "metadata": {
        "id": "QY3GaBNI9cVZ"
      },
      "source": [
        "경사 하강법에서의 학습률(learning rate):\r\n",
        "\r\n",
        "*   학습률이 작은 경우, 최솟값을 향해 천천히 움직임.\r\n",
        "*   학습률이 큰 경우, 최솟값을 향해 빠르게 움직이거나 혹은 불안정하게 움직일 수 있음.\r\n",
        "*   학습률이 너무 작으면, 최대 반복 횟수(max_iter) 안에서 최솟값으로 수렴(converge)하지 못함.\r\n",
        "    * 학습률을 크게 하거나 최대 반복 횟수를 늘려주면 수렴하게 만들 수 있음.\r\n",
        "*   학습률이 너무 크면, 최솟값으로 수렴하는 것이 아니라 발산(diverge)하는 경우가 발생할 수도 있음.\r\n",
        "*   학습률은 머신 러닝 알고리즘의 성능을 향상시키기 위해서 튜닝하는 하이퍼파라미터 중 하나.\r\n",
        "    *   머신 러닝 알고리즘들 중에서는 처음에는 학습률을 크게 하고, 에포크가 진행될 때마다 학습률을 점점 작게 줄이는 방식으로 조정하는 알고리즘도 있음.\r\n"
      ]
    },
    {
      "cell_type": "markdown",
      "metadata": {
        "id": "fRCdeq43BIgG"
      },
      "source": [
        "# SGDClassifier"
      ]
    },
    {
      "cell_type": "markdown",
      "metadata": {
        "id": "jpBSWNHmaaFp"
      },
      "source": [
        "## Data"
      ]
    },
    {
      "cell_type": "code",
      "metadata": {
        "id": "fOOXUnuL0WpM"
      },
      "source": [
        "fish_df = pd.read_csv('https://bit.ly/fish_csv')"
      ],
      "execution_count": 100,
      "outputs": []
    },
    {
      "cell_type": "code",
      "metadata": {
        "colab": {
          "base_uri": "https://localhost:8080/",
          "height": 214
        },
        "id": "9OlwXRyBWafe",
        "outputId": "b8a60922-364f-4573-87f2-485cce37615a"
      },
      "source": [
        "fish_df.head()"
      ],
      "execution_count": 101,
      "outputs": [
        {
          "output_type": "execute_result",
          "data": {
            "text/html": [
              "<div>\n",
              "<style scoped>\n",
              "    .dataframe tbody tr th:only-of-type {\n",
              "        vertical-align: middle;\n",
              "    }\n",
              "\n",
              "    .dataframe tbody tr th {\n",
              "        vertical-align: top;\n",
              "    }\n",
              "\n",
              "    .dataframe thead th {\n",
              "        text-align: right;\n",
              "    }\n",
              "</style>\n",
              "<table border=\"1\" class=\"dataframe\">\n",
              "  <thead>\n",
              "    <tr style=\"text-align: right;\">\n",
              "      <th></th>\n",
              "      <th>Species</th>\n",
              "      <th>Weight</th>\n",
              "      <th>Length</th>\n",
              "      <th>Diagonal</th>\n",
              "      <th>Height</th>\n",
              "      <th>Width</th>\n",
              "    </tr>\n",
              "  </thead>\n",
              "  <tbody>\n",
              "    <tr>\n",
              "      <th>0</th>\n",
              "      <td>Bream</td>\n",
              "      <td>242.0</td>\n",
              "      <td>25.4</td>\n",
              "      <td>30.0</td>\n",
              "      <td>11.5200</td>\n",
              "      <td>4.0200</td>\n",
              "    </tr>\n",
              "    <tr>\n",
              "      <th>1</th>\n",
              "      <td>Bream</td>\n",
              "      <td>290.0</td>\n",
              "      <td>26.3</td>\n",
              "      <td>31.2</td>\n",
              "      <td>12.4800</td>\n",
              "      <td>4.3056</td>\n",
              "    </tr>\n",
              "    <tr>\n",
              "      <th>2</th>\n",
              "      <td>Bream</td>\n",
              "      <td>340.0</td>\n",
              "      <td>26.5</td>\n",
              "      <td>31.1</td>\n",
              "      <td>12.3778</td>\n",
              "      <td>4.6961</td>\n",
              "    </tr>\n",
              "    <tr>\n",
              "      <th>3</th>\n",
              "      <td>Bream</td>\n",
              "      <td>363.0</td>\n",
              "      <td>29.0</td>\n",
              "      <td>33.5</td>\n",
              "      <td>12.7300</td>\n",
              "      <td>4.4555</td>\n",
              "    </tr>\n",
              "    <tr>\n",
              "      <th>4</th>\n",
              "      <td>Bream</td>\n",
              "      <td>430.0</td>\n",
              "      <td>29.0</td>\n",
              "      <td>34.0</td>\n",
              "      <td>12.4440</td>\n",
              "      <td>5.1340</td>\n",
              "    </tr>\n",
              "  </tbody>\n",
              "</table>\n",
              "</div>"
            ],
            "text/plain": [
              "  Species  Weight  Length  Diagonal   Height   Width\n",
              "0   Bream   242.0    25.4      30.0  11.5200  4.0200\n",
              "1   Bream   290.0    26.3      31.2  12.4800  4.3056\n",
              "2   Bream   340.0    26.5      31.1  12.3778  4.6961\n",
              "3   Bream   363.0    29.0      33.5  12.7300  4.4555\n",
              "4   Bream   430.0    29.0      34.0  12.4440  5.1340"
            ]
          },
          "metadata": {
            "tags": []
          },
          "execution_count": 101
        }
      ]
    },
    {
      "cell_type": "code",
      "metadata": {
        "colab": {
          "base_uri": "https://localhost:8080/"
        },
        "id": "rmh4kPSgYh0h",
        "outputId": "70914adf-532c-4daf-f40f-92cf6eca14db"
      },
      "source": [
        "fish_df.info()"
      ],
      "execution_count": 102,
      "outputs": [
        {
          "output_type": "stream",
          "text": [
            "<class 'pandas.core.frame.DataFrame'>\n",
            "RangeIndex: 159 entries, 0 to 158\n",
            "Data columns (total 6 columns):\n",
            " #   Column    Non-Null Count  Dtype  \n",
            "---  ------    --------------  -----  \n",
            " 0   Species   159 non-null    object \n",
            " 1   Weight    159 non-null    float64\n",
            " 2   Length    159 non-null    float64\n",
            " 3   Diagonal  159 non-null    float64\n",
            " 4   Height    159 non-null    float64\n",
            " 5   Width     159 non-null    float64\n",
            "dtypes: float64(5), object(1)\n",
            "memory usage: 7.6+ KB\n"
          ],
          "name": "stdout"
        }
      ]
    },
    {
      "cell_type": "markdown",
      "metadata": {
        "id": "cRIHbF7xZRWi"
      },
      "source": [
        "데이터 프레임에서 Species 특성을 target으로, 나머지 특성들을 데이터로 해서 분류."
      ]
    },
    {
      "cell_type": "code",
      "metadata": {
        "id": "xIugZtkcY0Wa"
      },
      "source": [
        "X = fish_df.drop(columns='Species').to_numpy()  # data\r\n",
        "y = fish_df['Species'].values  # target"
      ],
      "execution_count": 103,
      "outputs": []
    },
    {
      "cell_type": "code",
      "metadata": {
        "colab": {
          "base_uri": "https://localhost:8080/"
        },
        "id": "ccb-GOeLaIFK",
        "outputId": "8266fe55-165d-4fd1-db45-2b96389dd4d6"
      },
      "source": [
        "X[:5]"
      ],
      "execution_count": 104,
      "outputs": [
        {
          "output_type": "execute_result",
          "data": {
            "text/plain": [
              "array([[242.    ,  25.4   ,  30.    ,  11.52  ,   4.02  ],\n",
              "       [290.    ,  26.3   ,  31.2   ,  12.48  ,   4.3056],\n",
              "       [340.    ,  26.5   ,  31.1   ,  12.3778,   4.6961],\n",
              "       [363.    ,  29.    ,  33.5   ,  12.73  ,   4.4555],\n",
              "       [430.    ,  29.    ,  34.    ,  12.444 ,   5.134 ]])"
            ]
          },
          "metadata": {
            "tags": []
          },
          "execution_count": 104
        }
      ]
    },
    {
      "cell_type": "code",
      "metadata": {
        "colab": {
          "base_uri": "https://localhost:8080/"
        },
        "id": "S_HC597zaKYR",
        "outputId": "4e15c385-931e-466f-e000-e3448b6599f4"
      },
      "source": [
        "y[:5]"
      ],
      "execution_count": 105,
      "outputs": [
        {
          "output_type": "execute_result",
          "data": {
            "text/plain": [
              "array(['Bream', 'Bream', 'Bream', 'Bream', 'Bream'], dtype=object)"
            ]
          },
          "metadata": {
            "tags": []
          },
          "execution_count": 105
        }
      ]
    },
    {
      "cell_type": "markdown",
      "metadata": {
        "id": "kdCBkAyCalwg"
      },
      "source": [
        "## Train/Test split"
      ]
    },
    {
      "cell_type": "code",
      "metadata": {
        "id": "JLSxog3kaQRZ"
      },
      "source": [
        "X_train, X_test, y_train, y_test = train_test_split(X, y, random_state=42)"
      ],
      "execution_count": 106,
      "outputs": []
    },
    {
      "cell_type": "code",
      "metadata": {
        "colab": {
          "base_uri": "https://localhost:8080/"
        },
        "id": "Yuho3JQla5Nx",
        "outputId": "fe88d8b3-3745-4e40-bf82-fd93bba04e8d"
      },
      "source": [
        "X_train.shape, y_train.shape"
      ],
      "execution_count": 107,
      "outputs": [
        {
          "output_type": "execute_result",
          "data": {
            "text/plain": [
              "((119, 5), (119,))"
            ]
          },
          "metadata": {
            "tags": []
          },
          "execution_count": 107
        }
      ]
    },
    {
      "cell_type": "code",
      "metadata": {
        "colab": {
          "base_uri": "https://localhost:8080/"
        },
        "id": "2E1opNyYa8Cw",
        "outputId": "5f474ecd-3ec2-47e8-fddd-1244c859fe8a"
      },
      "source": [
        "X_test.shape, y_test.shape"
      ],
      "execution_count": 108,
      "outputs": [
        {
          "output_type": "execute_result",
          "data": {
            "text/plain": [
              "((40, 5), (40,))"
            ]
          },
          "metadata": {
            "tags": []
          },
          "execution_count": 108
        }
      ]
    },
    {
      "cell_type": "markdown",
      "metadata": {
        "id": "FjOhYUZ8bUOQ"
      },
      "source": [
        "## 전처리 - 특성 스케일링"
      ]
    },
    {
      "cell_type": "code",
      "metadata": {
        "id": "cP2s6T71bDxY"
      },
      "source": [
        "scaler = StandardScaler()"
      ],
      "execution_count": 109,
      "outputs": []
    },
    {
      "cell_type": "code",
      "metadata": {
        "id": "PHGi0ETubc2i"
      },
      "source": [
        "X_train_scaled = scaler.fit_transform(X_train)\r\n",
        "X_test_scaled = scaler.transform(X_test)"
      ],
      "execution_count": 110,
      "outputs": []
    },
    {
      "cell_type": "code",
      "metadata": {
        "colab": {
          "base_uri": "https://localhost:8080/"
        },
        "id": "gwk4W5ehblfA",
        "outputId": "c384f944-3e01-4c27-8583-dd24590d0651"
      },
      "source": [
        "np.mean(X_train_scaled, axis=0)  # 훈련 셋의 모든 특성들의 평균 ~ 0"
      ],
      "execution_count": 111,
      "outputs": [
        {
          "output_type": "execute_result",
          "data": {
            "text/plain": [
              "array([-1.81927302e-16, -1.52772286e-17, -3.93942582e-16, -7.29575130e-16,\n",
              "        7.18846084e-16])"
            ]
          },
          "metadata": {
            "tags": []
          },
          "execution_count": 111
        }
      ]
    },
    {
      "cell_type": "code",
      "metadata": {
        "colab": {
          "base_uri": "https://localhost:8080/"
        },
        "id": "Oif2ga1JbuIA",
        "outputId": "193e46a4-71f3-4558-eeff-dff2013b96b6"
      },
      "source": [
        "np.std(X_train_scaled, axis=0)  # 훈련 셋의 모든 특성들의 표준편차 ~ 1"
      ],
      "execution_count": 112,
      "outputs": [
        {
          "output_type": "execute_result",
          "data": {
            "text/plain": [
              "array([1., 1., 1., 1., 1.])"
            ]
          },
          "metadata": {
            "tags": []
          },
          "execution_count": 112
        }
      ]
    },
    {
      "cell_type": "markdown",
      "metadata": {
        "id": "UnqBd-s6cN8I"
      },
      "source": [
        "## 모델 훈련(train)"
      ]
    },
    {
      "cell_type": "code",
      "metadata": {
        "id": "fpo-ONVzb7WQ"
      },
      "source": [
        "sgd_clf = SGDClassifier(loss='log', random_state=42)  # 모델 생성"
      ],
      "execution_count": 113,
      "outputs": []
    },
    {
      "cell_type": "code",
      "metadata": {
        "colab": {
          "base_uri": "https://localhost:8080/"
        },
        "id": "yfeWwq-qd20R",
        "outputId": "89984a42-8d04-4b0c-9997-19b38348db89"
      },
      "source": [
        "sgd_clf.fit(X_train_scaled, y_train)  # 모델 훈련"
      ],
      "execution_count": 114,
      "outputs": [
        {
          "output_type": "execute_result",
          "data": {
            "text/plain": [
              "SGDClassifier(alpha=0.0001, average=False, class_weight=None,\n",
              "              early_stopping=False, epsilon=0.1, eta0=0.0, fit_intercept=True,\n",
              "              l1_ratio=0.15, learning_rate='optimal', loss='log', max_iter=1000,\n",
              "              n_iter_no_change=5, n_jobs=None, penalty='l2', power_t=0.5,\n",
              "              random_state=42, shuffle=True, tol=0.001, validation_fraction=0.1,\n",
              "              verbose=0, warm_start=False)"
            ]
          },
          "metadata": {
            "tags": []
          },
          "execution_count": 114
        }
      ]
    },
    {
      "cell_type": "code",
      "metadata": {
        "colab": {
          "base_uri": "https://localhost:8080/"
        },
        "id": "eSsNnQSId8tf",
        "outputId": "b63a5096-b5c8-4aae-f9a9-75c82916465a"
      },
      "source": [
        "# 학습 셋의 성능\r\n",
        "sgd_clf.score(X_train_scaled, y_train)"
      ],
      "execution_count": 115,
      "outputs": [
        {
          "output_type": "execute_result",
          "data": {
            "text/plain": [
              "0.8319327731092437"
            ]
          },
          "metadata": {
            "tags": []
          },
          "execution_count": 115
        }
      ]
    },
    {
      "cell_type": "code",
      "metadata": {
        "colab": {
          "base_uri": "https://localhost:8080/"
        },
        "id": "1neFNeEtevz3",
        "outputId": "3a9f28e5-a0f2-4186-fd2b-ac92ce132fc9"
      },
      "source": [
        "sgd_clf.intercept_  # (7,): n_classes"
      ],
      "execution_count": 116,
      "outputs": [
        {
          "output_type": "execute_result",
          "data": {
            "text/plain": [
              "array([-21.30540045, -43.1249902 ,  -3.3990157 , -30.38561783,\n",
              "        -8.39222504, -62.17137674, -10.2687345 ])"
            ]
          },
          "metadata": {
            "tags": []
          },
          "execution_count": 116
        }
      ]
    },
    {
      "cell_type": "code",
      "metadata": {
        "colab": {
          "base_uri": "https://localhost:8080/"
        },
        "id": "kO3AqX2Xey9L",
        "outputId": "05285c31-5824-4df8-e5c4-d6b82fc921d7"
      },
      "source": [
        "sgd_clf.coef_  # (7, 5): n_classes, n_features"
      ],
      "execution_count": 117,
      "outputs": [
        {
          "output_type": "execute_result",
          "data": {
            "text/plain": [
              "array([[ -6.30108425,  -0.59572877,   7.88184358,  28.50725844,\n",
              "         -4.57524048],\n",
              "       [-28.03749392, -13.01864322, -24.28354615,  37.56556064,\n",
              "         -4.99368983],\n",
              "       [ -3.25439388,  28.59201965, -45.12726245, -11.25240619,\n",
              "         29.33632453],\n",
              "       [  4.33466212,  15.13001677,  12.21938065, -24.53199057,\n",
              "         -0.61293767],\n",
              "       [-23.45929132, -24.10259789,  23.51603172,  -3.61712191,\n",
              "         14.60754478],\n",
              "       [  7.03785146,   6.44153908,   8.0385569 , -19.38693385,\n",
              "        -24.29711606],\n",
              "       [ -9.50657123,  -4.09669305,   1.36710436,  -0.56202204,\n",
              "         11.60507989]])"
            ]
          },
          "metadata": {
            "tags": []
          },
          "execution_count": 117
        }
      ]
    },
    {
      "cell_type": "markdown",
      "metadata": {
        "id": "G8cGa7sJeRIX"
      },
      "source": [
        "## 모델 평가"
      ]
    },
    {
      "cell_type": "code",
      "metadata": {
        "colab": {
          "base_uri": "https://localhost:8080/"
        },
        "id": "fuv5RTr0eORm",
        "outputId": "83ea6d46-3f32-4199-cc0c-45abc20d002f"
      },
      "source": [
        "# 테스트 셋의 성능(정확도) -> 일반화 성능\r\n",
        "sgd_clf.score(X_test_scaled, y_test)"
      ],
      "execution_count": 118,
      "outputs": [
        {
          "output_type": "execute_result",
          "data": {
            "text/plain": [
              "0.775"
            ]
          },
          "metadata": {
            "tags": []
          },
          "execution_count": 118
        }
      ]
    },
    {
      "cell_type": "code",
      "metadata": {
        "id": "-quFwZfreaM2"
      },
      "source": [
        "test_pred = sgd_clf.predict(X_test_scaled)  # 테스트 셋의 예측값"
      ],
      "execution_count": 119,
      "outputs": []
    },
    {
      "cell_type": "code",
      "metadata": {
        "colab": {
          "base_uri": "https://localhost:8080/"
        },
        "id": "8VwRyw3_f6xp",
        "outputId": "9095a83b-fbd1-4a8a-985f-c83238af2c8f"
      },
      "source": [
        "confusion_matrix(y_test, test_pred)"
      ],
      "execution_count": 120,
      "outputs": [
        {
          "output_type": "execute_result",
          "data": {
            "text/plain": [
              "array([[11,  0,  0,  0,  0,  0,  0],\n",
              "       [ 0,  2,  0,  0,  0,  0,  0],\n",
              "       [ 0,  0, 11,  0,  1,  0,  0],\n",
              "       [ 0,  0,  0,  4,  0,  0,  0],\n",
              "       [ 0,  0,  0,  0,  3,  0,  0],\n",
              "       [ 0,  2,  0,  0,  3,  0,  0],\n",
              "       [ 0,  0,  2,  0,  1,  0,  0]])"
            ]
          },
          "metadata": {
            "tags": []
          },
          "execution_count": 120
        }
      ]
    },
    {
      "cell_type": "markdown",
      "metadata": {
        "id": "jyrhLh6EjP4d"
      },
      "source": [
        "# Online 학습 방법"
      ]
    },
    {
      "cell_type": "markdown",
      "metadata": {
        "id": "7g-y-Ojxjpej"
      },
      "source": [
        "*   epoch(에포크): 훈련 셋의 전체 샘플이 한번 학습(fitting)되는 것.\r\n",
        "*   max_iter: epoch를 반복하는 최대 횟수."
      ]
    },
    {
      "cell_type": "code",
      "metadata": {
        "id": "n3B-PGyZgAq2"
      },
      "source": [
        "sgd_clf = SGDClassifier(loss='log', random_state=42, max_iter=10)"
      ],
      "execution_count": 121,
      "outputs": []
    },
    {
      "cell_type": "code",
      "metadata": {
        "colab": {
          "base_uri": "https://localhost:8080/"
        },
        "id": "dW2mP1VHkdI9",
        "outputId": "5c6fb79a-ba6c-447e-c96f-8d4c4c6b2992"
      },
      "source": [
        "sgd_clf.fit(X_train_scaled, y_train)"
      ],
      "execution_count": 122,
      "outputs": [
        {
          "output_type": "stream",
          "text": [
            "/usr/local/lib/python3.7/dist-packages/sklearn/linear_model/_stochastic_gradient.py:557: ConvergenceWarning: Maximum number of iteration reached before convergence. Consider increasing max_iter to improve the fit.\n",
            "  ConvergenceWarning)\n"
          ],
          "name": "stderr"
        },
        {
          "output_type": "execute_result",
          "data": {
            "text/plain": [
              "SGDClassifier(alpha=0.0001, average=False, class_weight=None,\n",
              "              early_stopping=False, epsilon=0.1, eta0=0.0, fit_intercept=True,\n",
              "              l1_ratio=0.15, learning_rate='optimal', loss='log', max_iter=10,\n",
              "              n_iter_no_change=5, n_jobs=None, penalty='l2', power_t=0.5,\n",
              "              random_state=42, shuffle=True, tol=0.001, validation_fraction=0.1,\n",
              "              verbose=0, warm_start=False)"
            ]
          },
          "metadata": {
            "tags": []
          },
          "execution_count": 122
        }
      ]
    },
    {
      "cell_type": "code",
      "metadata": {
        "colab": {
          "base_uri": "https://localhost:8080/"
        },
        "id": "LJxPNMbPkfwv",
        "outputId": "6dd13195-636e-4221-f7cb-89fb175440ec"
      },
      "source": [
        "sgd_clf.intercept_"
      ],
      "execution_count": 123,
      "outputs": [
        {
          "output_type": "execute_result",
          "data": {
            "text/plain": [
              "array([-21.30540045, -43.1249902 , -14.51022923, -30.38561783,\n",
              "       -17.12077511, -62.17137674, -25.16714949])"
            ]
          },
          "metadata": {
            "tags": []
          },
          "execution_count": 123
        }
      ]
    },
    {
      "cell_type": "code",
      "metadata": {
        "colab": {
          "base_uri": "https://localhost:8080/"
        },
        "id": "bQLAraY0krr0",
        "outputId": "caa67e45-94fc-425f-817a-6b72f9f1cc6f"
      },
      "source": [
        "sgd_clf.coef_"
      ],
      "execution_count": 124,
      "outputs": [
        {
          "output_type": "execute_result",
          "data": {
            "text/plain": [
              "array([[ -6.30108425,  -0.59572877,   7.88184358,  28.50725844,\n",
              "         -4.57524048],\n",
              "       [-28.03749392, -13.01864322, -24.28354615,  37.56556064,\n",
              "         -4.99368983],\n",
              "       [ -3.60592802,  17.34855902, -49.65498791, -26.99712078,\n",
              "         47.58058864],\n",
              "       [  4.33466212,  15.13001677,  12.21938065, -24.53199057,\n",
              "         -0.61293767],\n",
              "       [-47.59621038, -19.7141122 ,  21.76713845,   1.91422976,\n",
              "         21.00699325],\n",
              "       [  7.03785146,   6.44153908,   8.0385569 , -19.38693385,\n",
              "        -24.29711606],\n",
              "       [-19.43087985,  -7.13217691,  -2.58092476,   0.7050211 ,\n",
              "         11.6470326 ]])"
            ]
          },
          "metadata": {
            "tags": []
          },
          "execution_count": 124
        }
      ]
    },
    {
      "cell_type": "code",
      "metadata": {
        "colab": {
          "base_uri": "https://localhost:8080/"
        },
        "id": "C6Aw1yk3k3HL",
        "outputId": "ff1267d6-1d92-429e-a826-8d08e6142b77"
      },
      "source": [
        "# 훈련 셋 성능(정확도)\r\n",
        "sgd_clf.score(X_train_scaled, y_train)\r\n",
        "#> max_iter=1000인 경우에 비해서 정확도가 많이 낮음."
      ],
      "execution_count": 125,
      "outputs": [
        {
          "output_type": "execute_result",
          "data": {
            "text/plain": [
              "0.773109243697479"
            ]
          },
          "metadata": {
            "tags": []
          },
          "execution_count": 125
        }
      ]
    },
    {
      "cell_type": "markdown",
      "metadata": {
        "id": "u8490EyDlnvb"
      },
      "source": [
        "SGD 알고리즘은 기존에 훈련된 상태에서 이어서 계속 훈련할 수 있는 기능이 있음."
      ]
    },
    {
      "cell_type": "code",
      "metadata": {
        "colab": {
          "base_uri": "https://localhost:8080/"
        },
        "id": "DhoeScdZlGmy",
        "outputId": "6363d5f4-6849-477b-c6d4-43c98cacdf4d"
      },
      "source": [
        "sgd_clf.partial_fit(X_train_scaled, y_train)"
      ],
      "execution_count": 126,
      "outputs": [
        {
          "output_type": "execute_result",
          "data": {
            "text/plain": [
              "SGDClassifier(alpha=0.0001, average=False, class_weight=None,\n",
              "              early_stopping=False, epsilon=0.1, eta0=0.0, fit_intercept=True,\n",
              "              l1_ratio=0.15, learning_rate='optimal', loss='log', max_iter=10,\n",
              "              n_iter_no_change=5, n_jobs=None, penalty='l2', power_t=0.5,\n",
              "              random_state=42, shuffle=True, tol=0.001, validation_fraction=0.1,\n",
              "              verbose=0, warm_start=False)"
            ]
          },
          "metadata": {
            "tags": []
          },
          "execution_count": 126
        }
      ]
    },
    {
      "cell_type": "code",
      "metadata": {
        "colab": {
          "base_uri": "https://localhost:8080/"
        },
        "id": "sJGkw2lemC4q",
        "outputId": "031b3343-3e70-4f27-dcaa-a0d200d6b8ce"
      },
      "source": [
        "sgd_clf.score(X_train_scaled, y_train)\r\n",
        "#> 처음 훈련(fit)했을 때 보다 부분 훈련(partial_fit)을 한 후 정확도가 더 좋아짐."
      ],
      "execution_count": 127,
      "outputs": [
        {
          "output_type": "execute_result",
          "data": {
            "text/plain": [
              "0.8151260504201681"
            ]
          },
          "metadata": {
            "tags": []
          },
          "execution_count": 127
        }
      ]
    },
    {
      "cell_type": "markdown",
      "metadata": {
        "id": "6yXfr2g1ndQa"
      },
      "source": [
        "## partial_fit train/test 성능 비교"
      ]
    },
    {
      "cell_type": "code",
      "metadata": {
        "colab": {
          "base_uri": "https://localhost:8080/"
        },
        "id": "RYt_89OKmQ-6",
        "outputId": "ca4bb650-376f-4f0d-fc50-e7fef6e0fc45"
      },
      "source": [
        "target_names = np.unique(y_train)\r\n",
        "target_names  #> fit을 호출하지 않은 상태에서 parital_fit을 호출할 때 필요."
      ],
      "execution_count": 128,
      "outputs": [
        {
          "output_type": "execute_result",
          "data": {
            "text/plain": [
              "array(['Bream', 'Parkki', 'Perch', 'Pike', 'Roach', 'Smelt', 'Whitefish'],\n",
              "      dtype=object)"
            ]
          },
          "metadata": {
            "tags": []
          },
          "execution_count": 128
        }
      ]
    },
    {
      "cell_type": "code",
      "metadata": {
        "id": "qy-juLRyoBOr"
      },
      "source": [
        "sgd_clf = SGDClassifier(loss='log', random_state=42)\r\n",
        "train_scores = []  # 각각의 partial_fit에서 평가한 훈련 셋의 점수(정확도)를 저장할 리스트\r\n",
        "test_scores = []  # 각각의 partial_fit에서 평가한 테스트 셋의 점수(정확도)를 저장할 리스트"
      ],
      "execution_count": 129,
      "outputs": []
    },
    {
      "cell_type": "code",
      "metadata": {
        "id": "gXktjNZOosb0"
      },
      "source": [
        "for _ in range(300):\r\n",
        "    # online 학습\r\n",
        "    sgd_clf.partial_fit(X_train_scaled, y_train, classes=target_names)\r\n",
        "    # 훈련 셋 평가\r\n",
        "    tr_sc = sgd_clf.score(X_train_scaled, y_train)\r\n",
        "    train_scores.append(tr_sc)\r\n",
        "    # 테스트 셋 평가\r\n",
        "    te_sc = sgd_clf.score(X_test_scaled, y_test)\r\n",
        "    test_scores.append(te_sc)"
      ],
      "execution_count": 130,
      "outputs": []
    },
    {
      "cell_type": "code",
      "metadata": {
        "colab": {
          "base_uri": "https://localhost:8080/"
        },
        "id": "jJPPlCz0ptl7",
        "outputId": "4b29263a-0041-405f-c74f-fca4a76e55ad"
      },
      "source": [
        "train_scores[:10]"
      ],
      "execution_count": 131,
      "outputs": [
        {
          "output_type": "execute_result",
          "data": {
            "text/plain": [
              "[0.5294117647058824,\n",
              " 0.6218487394957983,\n",
              " 0.6386554621848739,\n",
              " 0.7310924369747899,\n",
              " 0.7226890756302521,\n",
              " 0.7310924369747899,\n",
              " 0.7647058823529411,\n",
              " 0.7310924369747899,\n",
              " 0.8151260504201681,\n",
              " 0.7478991596638656]"
            ]
          },
          "metadata": {
            "tags": []
          },
          "execution_count": 131
        }
      ]
    },
    {
      "cell_type": "code",
      "metadata": {
        "colab": {
          "base_uri": "https://localhost:8080/"
        },
        "id": "8-gzT-Vnpupp",
        "outputId": "3a9964b0-0193-4f49-c451-ba175c63e31c"
      },
      "source": [
        "test_scores[:10]"
      ],
      "execution_count": 132,
      "outputs": [
        {
          "output_type": "execute_result",
          "data": {
            "text/plain": [
              "[0.65, 0.55, 0.575, 0.7, 0.7, 0.7, 0.725, 0.775, 0.825, 0.7]"
            ]
          },
          "metadata": {
            "tags": []
          },
          "execution_count": 132
        }
      ]
    },
    {
      "cell_type": "code",
      "metadata": {
        "colab": {
          "base_uri": "https://localhost:8080/",
          "height": 279
        },
        "id": "J_5giT9Cp7Q5",
        "outputId": "17312f80-0493-4e3e-9169-766ed6dc4765"
      },
      "source": [
        "plt.plot(train_scores, label='train')\r\n",
        "plt.plot(test_scores, label='test')\r\n",
        "\r\n",
        "plt.xlabel('epoch')\r\n",
        "plt.ylabel('accuracy')\r\n",
        "plt.legend()\r\n",
        "plt.show()"
      ],
      "execution_count": 133,
      "outputs": [
        {
          "output_type": "display_data",
          "data": {
            "image/png": "[encoded data removed]",
            "text/plain": [
              "<Figure size 432x288 with 1 Axes>"
            ]
          },
          "metadata": {
            "tags": [],
            "needs_background": "light"
          }
        }
      ]
    },
    {
      "cell_type": "code",
      "metadata": {
        "colab": {
          "base_uri": "https://localhost:8080/"
        },
        "id": "6mt2lOK_qdap",
        "outputId": "1952fa4a-6a4a-4e51-90a9-b0ff7043b3d7"
      },
      "source": [
        "# test score의 최댓값의 인덱스(위치)\r\n",
        "np.argmax(test_scores)"
      ],
      "execution_count": 134,
      "outputs": [
        {
          "output_type": "execute_result",
          "data": {
            "text/plain": [
              "67"
            ]
          },
          "metadata": {
            "tags": []
          },
          "execution_count": 134
        }
      ]
    },
    {
      "cell_type": "code",
      "metadata": {
        "colab": {
          "base_uri": "https://localhost:8080/"
        },
        "id": "uiFbqP81sCX7",
        "outputId": "57acb51d-797a-4fd3-ef7b-3bb9089403b2"
      },
      "source": [
        "test_scores[67]"
      ],
      "execution_count": 135,
      "outputs": [
        {
          "output_type": "execute_result",
          "data": {
            "text/plain": [
              "0.925"
            ]
          },
          "metadata": {
            "tags": []
          },
          "execution_count": 135
        }
      ]
    },
    {
      "cell_type": "code",
      "metadata": {
        "colab": {
          "base_uri": "https://localhost:8080/"
        },
        "id": "S2E6S9OKruLy",
        "outputId": "4f70da68-0817-4148-c208-21e0466f496a"
      },
      "source": [
        "# online 학습에서 찾은 max_iter 값으로 모델을 다시 훈련 -> 평가\r\n",
        "sgd_clf = SGDClassifier(loss='log', max_iter=68, tol=None, random_state=42)\r\n",
        "sgd_clf.fit(X_train_scaled, y_train)"
      ],
      "execution_count": 136,
      "outputs": [
        {
          "output_type": "execute_result",
          "data": {
            "text/plain": [
              "SGDClassifier(alpha=0.0001, average=False, class_weight=None,\n",
              "              early_stopping=False, epsilon=0.1, eta0=0.0, fit_intercept=True,\n",
              "              l1_ratio=0.15, learning_rate='optimal', loss='log', max_iter=68,\n",
              "              n_iter_no_change=5, n_jobs=None, penalty='l2', power_t=0.5,\n",
              "              random_state=42, shuffle=True, tol=None, validation_fraction=0.1,\n",
              "              verbose=0, warm_start=False)"
            ]
          },
          "metadata": {
            "tags": []
          },
          "execution_count": 136
        }
      ]
    },
    {
      "cell_type": "code",
      "metadata": {
        "colab": {
          "base_uri": "https://localhost:8080/"
        },
        "id": "fy7yGXUusqUp",
        "outputId": "ac1999e0-5a87-4036-b588-79dc2c08c47e"
      },
      "source": [
        "sgd_clf.score(X_train_scaled, y_train)"
      ],
      "execution_count": 137,
      "outputs": [
        {
          "output_type": "execute_result",
          "data": {
            "text/plain": [
              "0.8991596638655462"
            ]
          },
          "metadata": {
            "tags": []
          },
          "execution_count": 137
        }
      ]
    },
    {
      "cell_type": "code",
      "metadata": {
        "colab": {
          "base_uri": "https://localhost:8080/"
        },
        "id": "n6Ivu_jysu3g",
        "outputId": "9ca8b5c2-1a40-49f5-b882-721820199f5a"
      },
      "source": [
        "sgd_clf.score(X_test_scaled, y_test)"
      ],
      "execution_count": 138,
      "outputs": [
        {
          "output_type": "execute_result",
          "data": {
            "text/plain": [
              "0.925"
            ]
          },
          "metadata": {
            "tags": []
          },
          "execution_count": 138
        }
      ]
    },
    {
      "cell_type": "code",
      "metadata": {
        "id": "TZm-NEksstHG"
      },
      "source": [
        ""
      ],
      "execution_count": 138,
      "outputs": []
    }
  ]
}