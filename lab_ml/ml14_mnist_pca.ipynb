{
  "nbformat": 4,
  "nbformat_minor": 0,
  "metadata": {
    "colab": {
      "name": "ml14_mnist_pca.ipynb",
      "provenance": [],
      "collapsed_sections": [],
      "authorship_tag": "ABX9TyN7V4liDdbjtRW/iCRDYJSY",
      "include_colab_link": true
    },
    "kernelspec": {
      "name": "python3",
      "display_name": "Python 3"
    },
    "language_info": {
      "name": "python"
    }
  },
  "cells": [
    {
      "cell_type": "markdown",
      "metadata": {
        "id": "view-in-github",
        "colab_type": "text"
      },
      "source": [
        "<a href=\"https://colab.research.google.com/github/JakeOh/202011_itw_bd21/blob/main/lab_ml/ml14_mnist_pca.ipynb\" target=\"_parent\"><img src=\"https://colab.research.google.com/assets/colab-badge.svg\" alt=\"Open In Colab\"/></a>"
      ]
    },
    {
      "cell_type": "markdown",
      "metadata": {
        "id": "P-qe_fcctGjz"
      },
      "source": [
        "# Imports"
      ]
    },
    {
      "cell_type": "code",
      "metadata": {
        "id": "0KWJ9ZVLs-k-"
      },
      "source": [
        "import time\n",
        "\n",
        "import numpy as np\n",
        "import matplotlib.pyplot as plt\n",
        "\n",
        "from sklearn.datasets import fetch_openml\n",
        "from sklearn.decomposition import PCA\n",
        "from sklearn.ensemble import RandomForestClassifier\n",
        "from sklearn.linear_model import SGDClassifier"
      ],
      "execution_count": 1,
      "outputs": []
    },
    {
      "cell_type": "markdown",
      "metadata": {
        "id": "9XkCE756uDQa"
      },
      "source": [
        "# MNIST Data"
      ]
    },
    {
      "cell_type": "code",
      "metadata": {
        "id": "_K-L2QGNuBUp"
      },
      "source": [
        "X, y = fetch_openml(name='mnist_784', return_X_y=True)"
      ],
      "execution_count": 2,
      "outputs": []
    },
    {
      "cell_type": "code",
      "metadata": {
        "colab": {
          "base_uri": "https://localhost:8080/"
        },
        "id": "z0L_DjIiur6K",
        "outputId": "2786e6f2-8157-4b00-c3a7-5220587dbdc1"
      },
      "source": [
        "X.shape  # (n_samples, n_features)"
      ],
      "execution_count": 3,
      "outputs": [
        {
          "output_type": "execute_result",
          "data": {
            "text/plain": [
              "(70000, 784)"
            ]
          },
          "metadata": {
            "tags": []
          },
          "execution_count": 3
        }
      ]
    },
    {
      "cell_type": "code",
      "metadata": {
        "colab": {
          "base_uri": "https://localhost:8080/"
        },
        "id": "OGRuohQ6u3UR",
        "outputId": "a34009e5-c631-4cc5-e762-f4d3df7f8cac"
      },
      "source": [
        "y.shape  # (n_samples,)"
      ],
      "execution_count": 4,
      "outputs": [
        {
          "output_type": "execute_result",
          "data": {
            "text/plain": [
              "(70000,)"
            ]
          },
          "metadata": {
            "tags": []
          },
          "execution_count": 4
        }
      ]
    },
    {
      "cell_type": "code",
      "metadata": {
        "colab": {
          "base_uri": "https://localhost:8080/"
        },
        "id": "9RYDOBErvsWx",
        "outputId": "b570fb71-b86a-42a9-dc8a-1d1bee8face1"
      },
      "source": [
        "y = y.astype(np.int8)  # str 타입을 int 타입으로 변환\n",
        "y.dtype"
      ],
      "execution_count": 9,
      "outputs": [
        {
          "output_type": "execute_result",
          "data": {
            "text/plain": [
              "dtype('int8')"
            ]
          },
          "metadata": {
            "tags": []
          },
          "execution_count": 9
        }
      ]
    },
    {
      "cell_type": "code",
      "metadata": {
        "colab": {
          "base_uri": "https://localhost:8080/"
        },
        "id": "zPMLJEGPvALZ",
        "outputId": "2b07d708-703f-4fe5-92df-67e0de1cbdea"
      },
      "source": [
        "X.dtype"
      ],
      "execution_count": 12,
      "outputs": [
        {
          "output_type": "execute_result",
          "data": {
            "text/plain": [
              "dtype('float64')"
            ]
          },
          "metadata": {
            "tags": []
          },
          "execution_count": 12
        }
      ]
    },
    {
      "cell_type": "code",
      "metadata": {
        "colab": {
          "base_uri": "https://localhost:8080/"
        },
        "id": "MjaNIxxixK_B",
        "outputId": "c60af1e1-c7b3-4fac-ccf9-09e25a976333"
      },
      "source": [
        "np.min(X[0])"
      ],
      "execution_count": 13,
      "outputs": [
        {
          "output_type": "execute_result",
          "data": {
            "text/plain": [
              "0.0"
            ]
          },
          "metadata": {
            "tags": []
          },
          "execution_count": 13
        }
      ]
    },
    {
      "cell_type": "code",
      "metadata": {
        "colab": {
          "base_uri": "https://localhost:8080/"
        },
        "id": "WS7QSsFXxQ7K",
        "outputId": "a5cee7c2-184f-4e26-a3b6-5d8a65e5ad2c"
      },
      "source": [
        "np.max(X[0])"
      ],
      "execution_count": 14,
      "outputs": [
        {
          "output_type": "execute_result",
          "data": {
            "text/plain": [
              "255.0"
            ]
          },
          "metadata": {
            "tags": []
          },
          "execution_count": 14
        }
      ]
    },
    {
      "cell_type": "code",
      "metadata": {
        "id": "jAjlgKeWxbZw"
      },
      "source": [
        "X_scaled = X / 255.0  # 데이터의 값의 범위를 0 ~ 255에서  0 ~ 1 범위로 스케일링"
      ],
      "execution_count": 15,
      "outputs": []
    },
    {
      "cell_type": "code",
      "metadata": {
        "colab": {
          "base_uri": "https://localhost:8080/",
          "height": 265
        },
        "id": "LpptxdIRx2Wc",
        "outputId": "944d90ea-3fca-4d7b-89a5-8145ddfe3b2b"
      },
      "source": [
        "plt.imshow(X_scaled[0].reshape((28, 28)), cmap=plt.cm.binary)\n",
        "plt.show()"
      ],
      "execution_count": 16,
      "outputs": [
        {
          "output_type": "display_data",
          "data": {
            "image/png": "[encoded data removed]",
            "text/plain": [
              "<Figure size 432x288 with 1 Axes>"
            ]
          },
          "metadata": {
            "tags": [],
            "needs_background": "light"
          }
        }
      ]
    },
    {
      "cell_type": "markdown",
      "metadata": {
        "id": "xu9vghIszJ-p"
      },
      "source": [
        "## Train/Test split"
      ]
    },
    {
      "cell_type": "code",
      "metadata": {
        "id": "sAaH_tB-y1Ix"
      },
      "source": [
        "num_train = 60_000"
      ],
      "execution_count": 17,
      "outputs": []
    },
    {
      "cell_type": "code",
      "metadata": {
        "id": "HV8hI_QgzPfB"
      },
      "source": [
        "X_train, X_test = X[:num_train], X[num_train:]\n",
        "y_train, y_test = y[:num_train], y[num_train:]"
      ],
      "execution_count": 18,
      "outputs": []
    },
    {
      "cell_type": "code",
      "metadata": {
        "colab": {
          "base_uri": "https://localhost:8080/"
        },
        "id": "UoBDcnPgzago",
        "outputId": "43824387-7d3f-4494-b4c9-461f36448643"
      },
      "source": [
        "X_train.shape, y_train.shape"
      ],
      "execution_count": 19,
      "outputs": [
        {
          "output_type": "execute_result",
          "data": {
            "text/plain": [
              "((60000, 784), (60000,))"
            ]
          },
          "metadata": {
            "tags": []
          },
          "execution_count": 19
        }
      ]
    },
    {
      "cell_type": "code",
      "metadata": {
        "colab": {
          "base_uri": "https://localhost:8080/"
        },
        "id": "IENsYBP5zfNh",
        "outputId": "b18e6c4b-6394-407d-dc83-b2f1f6d4a2e1"
      },
      "source": [
        "np.unique(y_train, return_counts=True)"
      ],
      "execution_count": 22,
      "outputs": [
        {
          "output_type": "execute_result",
          "data": {
            "text/plain": [
              "(array([0, 1, 2, 3, 4, 5, 6, 7, 8, 9], dtype=int8),\n",
              " array([5923, 6742, 5958, 6131, 5842, 5421, 5918, 6265, 5851, 5949]))"
            ]
          },
          "metadata": {
            "tags": []
          },
          "execution_count": 22
        }
      ]
    },
    {
      "cell_type": "markdown",
      "metadata": {
        "id": "WSO3SGnr0ImC"
      },
      "source": [
        "# PCA(Principal Component Analysis)"
      ]
    },
    {
      "cell_type": "markdown",
      "metadata": {
        "id": "-iz2soA60O9Z"
      },
      "source": [
        "## MNIST 데이터의 차원을 2차원으로 축소 후 시각화"
      ]
    },
    {
      "cell_type": "code",
      "metadata": {
        "id": "2NFBstn0zoXJ"
      },
      "source": [
        "pca = PCA(n_components=2)  # PCA 객체 생성"
      ],
      "execution_count": 23,
      "outputs": []
    },
    {
      "cell_type": "code",
      "metadata": {
        "id": "_JS-S3_n0j_Z"
      },
      "source": [
        "X_train_reduced = pca.fit_transform(X_train)\n",
        "# fit: 주성분 찾음.\n",
        "# transform: 주성분 방향으로 투영(projection) -> 차원 축소"
      ],
      "execution_count": 24,
      "outputs": []
    },
    {
      "cell_type": "code",
      "metadata": {
        "colab": {
          "base_uri": "https://localhost:8080/"
        },
        "id": "lPSJLROm1TsR",
        "outputId": "dd437e2c-b1d1-4826-e9e6-87ceb18443bb"
      },
      "source": [
        "X_train_reduced.shape  # (60_000, 2): 샘플 개수, 축소된 차원수"
      ],
      "execution_count": 25,
      "outputs": [
        {
          "output_type": "execute_result",
          "data": {
            "text/plain": [
              "(60000, 2)"
            ]
          },
          "metadata": {
            "tags": []
          },
          "execution_count": 25
        }
      ]
    },
    {
      "cell_type": "code",
      "metadata": {
        "colab": {
          "base_uri": "https://localhost:8080/",
          "height": 265
        },
        "id": "K71Z8KgT5kNq",
        "outputId": "1db7eaa9-b201-4074-b9b4-678246497eeb"
      },
      "source": [
        "# 훈련 셋에서 숫자 2, 3, 5를 주성분 평면 위에 시각화\n",
        "for n in (2, 3, 8):\n",
        "    subset = X_train_reduced[y_train == n]\n",
        "    plt.scatter(subset[:, 0], subset[:, 1], alpha=0.3, label=n)\n",
        "\n",
        "plt.legend()\n",
        "plt.show()"
      ],
      "execution_count": 33,
      "outputs": [
        {
          "output_type": "display_data",
          "data": {
            "image/png": "[encoded data removed]",
            "text/plain": [
              "<Figure size 432x288 with 1 Axes>"
            ]
          },
          "metadata": {
            "tags": [],
            "needs_background": "light"
          }
        }
      ]
    },
    {
      "cell_type": "markdown",
      "metadata": {
        "id": "QnHJZW3o750I"
      },
      "source": [
        "# 95% explained variance ratio"
      ]
    },
    {
      "cell_type": "code",
      "metadata": {
        "id": "oyv_tvlT5tZ6"
      },
      "source": [
        "pca = PCA(n_components=0.95, random_state=42)"
      ],
      "execution_count": 34,
      "outputs": []
    },
    {
      "cell_type": "code",
      "metadata": {
        "id": "qcDl27YK8SHJ"
      },
      "source": [
        "start_time = time.time()  # fit 시작 시간 기록\n",
        "pca.fit(X_train)\n",
        "end_time = time.time()  # fit 종료 시간 기록"
      ],
      "execution_count": 38,
      "outputs": []
    },
    {
      "cell_type": "code",
      "metadata": {
        "colab": {
          "base_uri": "https://localhost:8080/"
        },
        "id": "Mn30EWTn8YdA",
        "outputId": "d367bdbe-b573-483b-a5a7-57e12559edad"
      },
      "source": [
        "end_time - start_time  # 95% 분산을 설명하는 주성분을 찾는데 걸린 시간(초)."
      ],
      "execution_count": 39,
      "outputs": [
        {
          "output_type": "execute_result",
          "data": {
            "text/plain": [
              "13.010912418365479"
            ]
          },
          "metadata": {
            "tags": []
          },
          "execution_count": 39
        }
      ]
    },
    {
      "cell_type": "code",
      "metadata": {
        "id": "4eDYj0-H883B"
      },
      "source": [
        "start_time = time.time()\n",
        "X_train_reduced = pca.transform(X_train)  # 차원 축소\n",
        "end_time = time.time()"
      ],
      "execution_count": 40,
      "outputs": []
    },
    {
      "cell_type": "code",
      "metadata": {
        "colab": {
          "base_uri": "https://localhost:8080/"
        },
        "id": "ypGemkpf9pIx",
        "outputId": "1abf3b1c-3b40-4cc0-9df6-49480e3d84f6"
      },
      "source": [
        "end_time - start_time  # 차원을 축소하는데 걸린 시간(초)"
      ],
      "execution_count": 41,
      "outputs": [
        {
          "output_type": "execute_result",
          "data": {
            "text/plain": [
              "0.8792998790740967"
            ]
          },
          "metadata": {
            "tags": []
          },
          "execution_count": 41
        }
      ]
    },
    {
      "cell_type": "markdown",
      "metadata": {
        "id": "Pvnp5lQj97xQ"
      },
      "source": [
        "### 차원 축소 전 훈련 셋 fit 시간 측정, 성능 평가"
      ]
    },
    {
      "cell_type": "code",
      "metadata": {
        "id": "nAX5HB6b9vFA"
      },
      "source": [
        "forest_clf = RandomForestClassifier(n_jobs=-1, random_state=42)  # 모델 생성"
      ],
      "execution_count": 42,
      "outputs": []
    },
    {
      "cell_type": "code",
      "metadata": {
        "id": "J-M1VTVd-Rb_"
      },
      "source": [
        "start_time = time.time()  # 시작 시간 기록\n",
        "forest_clf.fit(X_train, y_train)  # 모델 훈련\n",
        "end_time = time.time()  # 종료 시간 기록"
      ],
      "execution_count": 43,
      "outputs": []
    },
    {
      "cell_type": "code",
      "metadata": {
        "colab": {
          "base_uri": "https://localhost:8080/"
        },
        "id": "KD5OAkUK-dHo",
        "outputId": "4f00cd59-5c36-4a8b-d3f0-e0db11b38382"
      },
      "source": [
        "fit_time = end_time - start_time\n",
        "fit_time"
      ],
      "execution_count": 45,
      "outputs": [
        {
          "output_type": "execute_result",
          "data": {
            "text/plain": [
              "43.10956406593323"
            ]
          },
          "metadata": {
            "tags": []
          },
          "execution_count": 45
        }
      ]
    },
    {
      "cell_type": "code",
      "metadata": {
        "id": "RMIRCtj9-0yw"
      },
      "source": [
        "# 테스트 셋 평가 시간\n",
        "start_time = time.time()\n",
        "acc = forest_clf.score(X_test, y_test)\n",
        "end_time = time.time()"
      ],
      "execution_count": 48,
      "outputs": []
    },
    {
      "cell_type": "code",
      "metadata": {
        "colab": {
          "base_uri": "https://localhost:8080/"
        },
        "id": "KKU2Kl2X_dng",
        "outputId": "e9710425-c04e-4532-d0a8-e44f0f923197"
      },
      "source": [
        "score_time = end_time - start_time\n",
        "score_time"
      ],
      "execution_count": 49,
      "outputs": [
        {
          "output_type": "execute_result",
          "data": {
            "text/plain": [
              "0.5371825695037842"
            ]
          },
          "metadata": {
            "tags": []
          },
          "execution_count": 49
        }
      ]
    },
    {
      "cell_type": "code",
      "metadata": {
        "colab": {
          "base_uri": "https://localhost:8080/"
        },
        "id": "6E76YWcV_hpb",
        "outputId": "0bc6bd36-0a30-4b5b-999b-44433c8ab97c"
      },
      "source": [
        "acc  # 테스트 셋 정확도"
      ],
      "execution_count": 50,
      "outputs": [
        {
          "output_type": "execute_result",
          "data": {
            "text/plain": [
              "0.9705"
            ]
          },
          "metadata": {
            "tags": []
          },
          "execution_count": 50
        }
      ]
    },
    {
      "cell_type": "markdown",
      "metadata": {
        "id": "sOc0z2VuAFIA"
      },
      "source": [
        "### 차원 축소 후 fit 시간, 성능 측정"
      ]
    },
    {
      "cell_type": "code",
      "metadata": {
        "colab": {
          "base_uri": "https://localhost:8080/"
        },
        "id": "VPhOQWf7_yQY",
        "outputId": "f630fee0-a1b5-4306-dccf-d57629845428"
      },
      "source": [
        "pca.n_components_"
      ],
      "execution_count": 52,
      "outputs": [
        {
          "output_type": "execute_result",
          "data": {
            "text/plain": [
              "154"
            ]
          },
          "metadata": {
            "tags": []
          },
          "execution_count": 52
        }
      ]
    },
    {
      "cell_type": "code",
      "metadata": {
        "id": "59XVm2JxAgT5"
      },
      "source": [
        "start_time = time.time()\n",
        "forest_clf.fit(X_train_reduced, y_train)  # 차원이 축소된 훈련 셋을 학습.\n",
        "end_time = time.time()"
      ],
      "execution_count": 53,
      "outputs": []
    },
    {
      "cell_type": "code",
      "metadata": {
        "colab": {
          "base_uri": "https://localhost:8080/"
        },
        "id": "dKv3l4BFA1-3",
        "outputId": "1ea1d618-773c-4210-f2ad-b72fe084e10e"
      },
      "source": [
        "fit_time_pca = end_time - start_time\n",
        "fit_time_pca"
      ],
      "execution_count": 54,
      "outputs": [
        {
          "output_type": "execute_result",
          "data": {
            "text/plain": [
              "93.26362872123718"
            ]
          },
          "metadata": {
            "tags": []
          },
          "execution_count": 54
        }
      ]
    },
    {
      "cell_type": "markdown",
      "metadata": {
        "id": "tOMy0vCZBVXf"
      },
      "source": [
        "차원 축소된 훈련 셋이 항상 학습 시간을 줄여주는 것은 아님!"
      ]
    },
    {
      "cell_type": "code",
      "metadata": {
        "id": "mj0vrLLJBQPQ"
      },
      "source": [
        "# 테스트 셋으로 모델을 평가하려면,\n",
        "# 차원 축소된 훈련 셋으로 학습됐기 때문에, 테스트 셋도 차원 축소 후에 예측, 평가를 수행해야 함!\n",
        "X_test_reduce = pca.transform(X_test)  # 테스트 셋 차원 축소"
      ],
      "execution_count": 56,
      "outputs": []
    },
    {
      "cell_type": "code",
      "metadata": {
        "id": "cCJrZqKzB5TX"
      },
      "source": [
        "start_time = time.time()\n",
        "acc_pca = forest_clf.score(X_test_reduce, y_test)\n",
        "end_time = time.time()"
      ],
      "execution_count": 57,
      "outputs": []
    },
    {
      "cell_type": "code",
      "metadata": {
        "colab": {
          "base_uri": "https://localhost:8080/"
        },
        "id": "FPrHwLtzCi3I",
        "outputId": "30d046ca-f221-44cc-95d8-515c612aaeba"
      },
      "source": [
        "score_time_pca = end_time - start_time\n",
        "score_time_pca"
      ],
      "execution_count": 59,
      "outputs": [
        {
          "output_type": "execute_result",
          "data": {
            "text/plain": [
              "0.42055320739746094"
            ]
          },
          "metadata": {
            "tags": []
          },
          "execution_count": 59
        }
      ]
    },
    {
      "cell_type": "code",
      "metadata": {
        "colab": {
          "base_uri": "https://localhost:8080/"
        },
        "id": "R9XlDlKvCnmP",
        "outputId": "118ce01d-be5a-4a49-cec6-e2d229a77d09"
      },
      "source": [
        "acc_pca"
      ],
      "execution_count": 60,
      "outputs": [
        {
          "output_type": "execute_result",
          "data": {
            "text/plain": [
              "0.9481"
            ]
          },
          "metadata": {
            "tags": []
          },
          "execution_count": 60
        }
      ]
    },
    {
      "cell_type": "markdown",
      "metadata": {
        "id": "qbdWEsKXCxM3"
      },
      "source": [
        "차원 축소가 오히려 성능을 더 안좋게 만듦!"
      ]
    },
    {
      "cell_type": "markdown",
      "metadata": {
        "id": "5SsJTkq4HDmf"
      },
      "source": [
        "## SGDClassifier 비교"
      ]
    },
    {
      "cell_type": "code",
      "metadata": {
        "id": "O8OJveYVCr3X"
      },
      "source": [
        "sgd_clf = SGDClassifier(loss='log', n_jobs=-1, random_state=42)"
      ],
      "execution_count": 61,
      "outputs": []
    },
    {
      "cell_type": "markdown",
      "metadata": {
        "id": "cHmPHurcHiGI"
      },
      "source": [
        "차원 축소 전 훈련 셋 학습, 평가"
      ]
    },
    {
      "cell_type": "code",
      "metadata": {
        "id": "uD8fHPwZHgmh"
      },
      "source": [
        "start_time = time.time()  # 학습 시작 시간 기록\n",
        "sgd_clf.fit(X_train, y_train)  # 학습\n",
        "end_time = time.time()  # 학습 종료 시간 기록"
      ],
      "execution_count": 62,
      "outputs": []
    },
    {
      "cell_type": "code",
      "metadata": {
        "colab": {
          "base_uri": "https://localhost:8080/"
        },
        "id": "vy0EnQ4LH0j-",
        "outputId": "f6832f83-37ed-4c9a-c543-d176725c0bd2"
      },
      "source": [
        "fit_time = end_time - start_time\n",
        "fit_time"
      ],
      "execution_count": 63,
      "outputs": [
        {
          "output_type": "execute_result",
          "data": {
            "text/plain": [
              "127.13540554046631"
            ]
          },
          "metadata": {
            "tags": []
          },
          "execution_count": 63
        }
      ]
    },
    {
      "cell_type": "code",
      "metadata": {
        "id": "wb7n8wcuJNPf"
      },
      "source": [
        "start_time = time.time()\n",
        "acc = sgd_clf.score(X_test, y_test)\n",
        "end_time = time.time()"
      ],
      "execution_count": 65,
      "outputs": []
    },
    {
      "cell_type": "code",
      "metadata": {
        "colab": {
          "base_uri": "https://localhost:8080/"
        },
        "id": "Rw9FSbgtJcQQ",
        "outputId": "88c7d6e6-c7ae-4cf1-a894-0f726493af35"
      },
      "source": [
        "score_time = end_time - start_time\n",
        "score_time"
      ],
      "execution_count": 66,
      "outputs": [
        {
          "output_type": "execute_result",
          "data": {
            "text/plain": [
              "0.06506943702697754"
            ]
          },
          "metadata": {
            "tags": []
          },
          "execution_count": 66
        }
      ]
    },
    {
      "cell_type": "code",
      "metadata": {
        "colab": {
          "base_uri": "https://localhost:8080/"
        },
        "id": "4bfCP_64Juk-",
        "outputId": "2342fc51-1d2f-47cb-fe5e-a0edf388f0bf"
      },
      "source": [
        "acc"
      ],
      "execution_count": 67,
      "outputs": [
        {
          "output_type": "execute_result",
          "data": {
            "text/plain": [
              "0.8784"
            ]
          },
          "metadata": {
            "tags": []
          },
          "execution_count": 67
        }
      ]
    },
    {
      "cell_type": "markdown",
      "metadata": {
        "id": "sScipM3jJ9mP"
      },
      "source": [
        "차원 축소 후 훈련 시간, 성능"
      ]
    },
    {
      "cell_type": "code",
      "metadata": {
        "id": "xfhvBdEbJxge"
      },
      "source": [
        "sgd_clf = SGDClassifier(loss='log', n_jobs=-1, random_state=42)\n",
        "start_time = time.time()  # 훈련 시작 시간\n",
        "sgd_clf.fit(X_train_reduced, y_train)  # 훈련\n",
        "end_time = time.time()  # 훈련 종료 시간"
      ],
      "execution_count": 68,
      "outputs": []
    },
    {
      "cell_type": "code",
      "metadata": {
        "colab": {
          "base_uri": "https://localhost:8080/"
        },
        "id": "dZ-fCijPKY6o",
        "outputId": "7e1d7981-26a4-49b8-ab7e-ec854895c08e"
      },
      "source": [
        "fit_time_pca = end_time - start_time\n",
        "fit_time_pca  # 훈련 시간이 1/4 정도로 줄어듦."
      ],
      "execution_count": 69,
      "outputs": [
        {
          "output_type": "execute_result",
          "data": {
            "text/plain": [
              "33.11617398262024"
            ]
          },
          "metadata": {
            "tags": []
          },
          "execution_count": 69
        }
      ]
    },
    {
      "cell_type": "code",
      "metadata": {
        "id": "Iry0jseiKl9O"
      },
      "source": [
        "start_time = time.time()\n",
        "acc_pca = sgd_clf.score(X_test_reduce, y_test)\n",
        "end_time = time.time()"
      ],
      "execution_count": 71,
      "outputs": []
    },
    {
      "cell_type": "code",
      "metadata": {
        "colab": {
          "base_uri": "https://localhost:8080/"
        },
        "id": "07EeHZkzK81W",
        "outputId": "de654c9b-4d87-4027-c1c4-8a805fda1314"
      },
      "source": [
        "score_time_pca = end_time - start_time\n",
        "score_time_pca"
      ],
      "execution_count": 72,
      "outputs": [
        {
          "output_type": "execute_result",
          "data": {
            "text/plain": [
              "0.017032623291015625"
            ]
          },
          "metadata": {
            "tags": []
          },
          "execution_count": 72
        }
      ]
    },
    {
      "cell_type": "code",
      "metadata": {
        "colab": {
          "base_uri": "https://localhost:8080/"
        },
        "id": "qM54rHufLOJX",
        "outputId": "21ac7fd1-1b95-480b-a489-f1fdf99a14da"
      },
      "source": [
        "acc_pca"
      ],
      "execution_count": 73,
      "outputs": [
        {
          "output_type": "execute_result",
          "data": {
            "text/plain": [
              "0.8928"
            ]
          },
          "metadata": {
            "tags": []
          },
          "execution_count": 73
        }
      ]
    },
    {
      "cell_type": "markdown",
      "metadata": {
        "id": "wrEozzkgLaOe"
      },
      "source": [
        "PCA를 사용한 차원 축소가 SGDClassifier에서는 훈련 시간도 줄이고, 성능도 좋아짐."
      ]
    },
    {
      "cell_type": "code",
      "metadata": {
        "id": "xKDyeqqtLWDO"
      },
      "source": [
        ""
      ],
      "execution_count": null,
      "outputs": []
    }
  ]
}