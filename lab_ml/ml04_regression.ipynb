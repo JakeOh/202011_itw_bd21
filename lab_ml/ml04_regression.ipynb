{
  "nbformat": 4,
  "nbformat_minor": 0,
  "metadata": {
    "colab": {
      "name": "ml04_regression.ipynb",
      "provenance": [],
      "collapsed_sections": [],
      "toc_visible": true,
      "authorship_tag": "ABX9TyNx9sDKCdz4H15POiEzTgc2",
      "include_colab_link": true
    },
    "kernelspec": {
      "name": "python3",
      "display_name": "Python 3"
    }
  },
  "cells": [
    {
      "cell_type": "markdown",
      "metadata": {
        "id": "view-in-github",
        "colab_type": "text"
      },
      "source": [
        "<a href=\"https://colab.research.google.com/github/JakeOh/202011_itw_bd21/blob/main/lab_ml/ml04_regression.ipynb\" target=\"_parent\"><img src=\"https://colab.research.google.com/assets/colab-badge.svg\" alt=\"Open In Colab\"/></a>"
      ]
    },
    {
      "cell_type": "markdown",
      "metadata": {
        "id": "9boUW_vsoiaK"
      },
      "source": [
        "\r\n",
        "*   지도 학습(Supervised Learning)\r\n",
        "    *   분류(Classification)\r\n",
        "    *   회귀(Regression)\r\n"
      ]
    },
    {
      "cell_type": "markdown",
      "metadata": {
        "id": "NFCoMi7OpEpY"
      },
      "source": [
        "# Imports"
      ]
    },
    {
      "cell_type": "code",
      "metadata": {
        "id": "vZ6CNxpcklSi"
      },
      "source": [
        "import numpy as np\r\n",
        "import pandas as pd\r\n",
        "import matplotlib.pyplot as plt\r\n",
        "import seaborn as sns\r\n",
        "\r\n",
        "from sklearn.model_selection import train_test_split\r\n",
        "from sklearn.neighbors import KNeighborsRegressor\r\n",
        "from sklearn.linear_model import LinearRegression\r\n",
        "from sklearn.metrics import mean_absolute_error, mean_squared_error, r2_score\r\n",
        "from sklearn.preprocessing import StandardScaler, PolynomialFeatures\r\n",
        "from sklearn.pipeline import Pipeline"
      ],
      "execution_count": 1,
      "outputs": []
    },
    {
      "cell_type": "markdown",
      "metadata": {
        "id": "oW-h45mLryDw"
      },
      "source": [
        "# 데이터 준비"
      ]
    },
    {
      "cell_type": "markdown",
      "metadata": {
        "id": "j4FgjwNkr27A"
      },
      "source": [
        "Fish market 데이터에서 농어(Perch)의 무게를 농어의 길이로 예측"
      ]
    },
    {
      "cell_type": "code",
      "metadata": {
        "id": "eUAIkdWorMO7"
      },
      "source": [
        "file_path = 'https://github.com/JakeOh/202011_itw_bd21/raw/main/datasets/Fish.csv'"
      ],
      "execution_count": 2,
      "outputs": []
    },
    {
      "cell_type": "code",
      "metadata": {
        "id": "GQ_ZO1eIsfGR"
      },
      "source": [
        "fish_df = pd.read_csv(file_path)"
      ],
      "execution_count": 3,
      "outputs": []
    },
    {
      "cell_type": "code",
      "metadata": {
        "colab": {
          "base_uri": "https://localhost:8080/",
          "height": 214
        },
        "id": "d80IkSASsnyp",
        "outputId": "443d4388-53f0-4ee8-a086-0ac2e9367668"
      },
      "source": [
        "fish_df.head()"
      ],
      "execution_count": 4,
      "outputs": [
        {
          "output_type": "execute_result",
          "data": {
            "text/html": [
              "<div>\n",
              "<style scoped>\n",
              "    .dataframe tbody tr th:only-of-type {\n",
              "        vertical-align: middle;\n",
              "    }\n",
              "\n",
              "    .dataframe tbody tr th {\n",
              "        vertical-align: top;\n",
              "    }\n",
              "\n",
              "    .dataframe thead th {\n",
              "        text-align: right;\n",
              "    }\n",
              "</style>\n",
              "<table border=\"1\" class=\"dataframe\">\n",
              "  <thead>\n",
              "    <tr style=\"text-align: right;\">\n",
              "      <th></th>\n",
              "      <th>Species</th>\n",
              "      <th>Weight</th>\n",
              "      <th>Length1</th>\n",
              "      <th>Length2</th>\n",
              "      <th>Length3</th>\n",
              "      <th>Height</th>\n",
              "      <th>Width</th>\n",
              "    </tr>\n",
              "  </thead>\n",
              "  <tbody>\n",
              "    <tr>\n",
              "      <th>0</th>\n",
              "      <td>Bream</td>\n",
              "      <td>242.0</td>\n",
              "      <td>23.2</td>\n",
              "      <td>25.4</td>\n",
              "      <td>30.0</td>\n",
              "      <td>11.5200</td>\n",
              "      <td>4.0200</td>\n",
              "    </tr>\n",
              "    <tr>\n",
              "      <th>1</th>\n",
              "      <td>Bream</td>\n",
              "      <td>290.0</td>\n",
              "      <td>24.0</td>\n",
              "      <td>26.3</td>\n",
              "      <td>31.2</td>\n",
              "      <td>12.4800</td>\n",
              "      <td>4.3056</td>\n",
              "    </tr>\n",
              "    <tr>\n",
              "      <th>2</th>\n",
              "      <td>Bream</td>\n",
              "      <td>340.0</td>\n",
              "      <td>23.9</td>\n",
              "      <td>26.5</td>\n",
              "      <td>31.1</td>\n",
              "      <td>12.3778</td>\n",
              "      <td>4.6961</td>\n",
              "    </tr>\n",
              "    <tr>\n",
              "      <th>3</th>\n",
              "      <td>Bream</td>\n",
              "      <td>363.0</td>\n",
              "      <td>26.3</td>\n",
              "      <td>29.0</td>\n",
              "      <td>33.5</td>\n",
              "      <td>12.7300</td>\n",
              "      <td>4.4555</td>\n",
              "    </tr>\n",
              "    <tr>\n",
              "      <th>4</th>\n",
              "      <td>Bream</td>\n",
              "      <td>430.0</td>\n",
              "      <td>26.5</td>\n",
              "      <td>29.0</td>\n",
              "      <td>34.0</td>\n",
              "      <td>12.4440</td>\n",
              "      <td>5.1340</td>\n",
              "    </tr>\n",
              "  </tbody>\n",
              "</table>\n",
              "</div>"
            ],
            "text/plain": [
              "  Species  Weight  Length1  Length2  Length3   Height   Width\n",
              "0   Bream   242.0     23.2     25.4     30.0  11.5200  4.0200\n",
              "1   Bream   290.0     24.0     26.3     31.2  12.4800  4.3056\n",
              "2   Bream   340.0     23.9     26.5     31.1  12.3778  4.6961\n",
              "3   Bream   363.0     26.3     29.0     33.5  12.7300  4.4555\n",
              "4   Bream   430.0     26.5     29.0     34.0  12.4440  5.1340"
            ]
          },
          "metadata": {
            "tags": []
          },
          "execution_count": 4
        }
      ]
    },
    {
      "cell_type": "code",
      "metadata": {
        "id": "-0ib53gfs5Xh"
      },
      "source": [
        "# Perch(농어) 부분집합\r\n",
        "perch = fish_df[fish_df['Species'] == 'Perch']"
      ],
      "execution_count": 5,
      "outputs": []
    },
    {
      "cell_type": "code",
      "metadata": {
        "colab": {
          "base_uri": "https://localhost:8080/",
          "height": 214
        },
        "id": "U0rArECJspg5",
        "outputId": "f6365dfd-cfff-457b-e66a-f4da4611e322"
      },
      "source": [
        "perch.head()"
      ],
      "execution_count": 6,
      "outputs": [
        {
          "output_type": "execute_result",
          "data": {
            "text/html": [
              "<div>\n",
              "<style scoped>\n",
              "    .dataframe tbody tr th:only-of-type {\n",
              "        vertical-align: middle;\n",
              "    }\n",
              "\n",
              "    .dataframe tbody tr th {\n",
              "        vertical-align: top;\n",
              "    }\n",
              "\n",
              "    .dataframe thead th {\n",
              "        text-align: right;\n",
              "    }\n",
              "</style>\n",
              "<table border=\"1\" class=\"dataframe\">\n",
              "  <thead>\n",
              "    <tr style=\"text-align: right;\">\n",
              "      <th></th>\n",
              "      <th>Species</th>\n",
              "      <th>Weight</th>\n",
              "      <th>Length1</th>\n",
              "      <th>Length2</th>\n",
              "      <th>Length3</th>\n",
              "      <th>Height</th>\n",
              "      <th>Width</th>\n",
              "    </tr>\n",
              "  </thead>\n",
              "  <tbody>\n",
              "    <tr>\n",
              "      <th>72</th>\n",
              "      <td>Perch</td>\n",
              "      <td>5.9</td>\n",
              "      <td>7.5</td>\n",
              "      <td>8.4</td>\n",
              "      <td>8.8</td>\n",
              "      <td>2.1120</td>\n",
              "      <td>1.4080</td>\n",
              "    </tr>\n",
              "    <tr>\n",
              "      <th>73</th>\n",
              "      <td>Perch</td>\n",
              "      <td>32.0</td>\n",
              "      <td>12.5</td>\n",
              "      <td>13.7</td>\n",
              "      <td>14.7</td>\n",
              "      <td>3.5280</td>\n",
              "      <td>1.9992</td>\n",
              "    </tr>\n",
              "    <tr>\n",
              "      <th>74</th>\n",
              "      <td>Perch</td>\n",
              "      <td>40.0</td>\n",
              "      <td>13.8</td>\n",
              "      <td>15.0</td>\n",
              "      <td>16.0</td>\n",
              "      <td>3.8240</td>\n",
              "      <td>2.4320</td>\n",
              "    </tr>\n",
              "    <tr>\n",
              "      <th>75</th>\n",
              "      <td>Perch</td>\n",
              "      <td>51.5</td>\n",
              "      <td>15.0</td>\n",
              "      <td>16.2</td>\n",
              "      <td>17.2</td>\n",
              "      <td>4.5924</td>\n",
              "      <td>2.6316</td>\n",
              "    </tr>\n",
              "    <tr>\n",
              "      <th>76</th>\n",
              "      <td>Perch</td>\n",
              "      <td>70.0</td>\n",
              "      <td>15.7</td>\n",
              "      <td>17.4</td>\n",
              "      <td>18.5</td>\n",
              "      <td>4.5880</td>\n",
              "      <td>2.9415</td>\n",
              "    </tr>\n",
              "  </tbody>\n",
              "</table>\n",
              "</div>"
            ],
            "text/plain": [
              "   Species  Weight  Length1  Length2  Length3  Height   Width\n",
              "72   Perch     5.9      7.5      8.4      8.8  2.1120  1.4080\n",
              "73   Perch    32.0     12.5     13.7     14.7  3.5280  1.9992\n",
              "74   Perch    40.0     13.8     15.0     16.0  3.8240  2.4320\n",
              "75   Perch    51.5     15.0     16.2     17.2  4.5924  2.6316\n",
              "76   Perch    70.0     15.7     17.4     18.5  4.5880  2.9415"
            ]
          },
          "metadata": {
            "tags": []
          },
          "execution_count": 6
        }
      ]
    },
    {
      "cell_type": "code",
      "metadata": {
        "id": "DnErL9O0tMKS"
      },
      "source": [
        "# 관심 변수(종속 변수): 무게\r\n",
        "perch_weight = perch['Weight'].values"
      ],
      "execution_count": 7,
      "outputs": []
    },
    {
      "cell_type": "code",
      "metadata": {
        "colab": {
          "base_uri": "https://localhost:8080/"
        },
        "id": "g26VKnw2tkIh",
        "outputId": "1b9a3041-f56c-41f8-b433-d14ad7bf846b"
      },
      "source": [
        "perch_weight"
      ],
      "execution_count": 8,
      "outputs": [
        {
          "output_type": "execute_result",
          "data": {
            "text/plain": [
              "array([   5.9,   32. ,   40. ,   51.5,   70. ,  100. ,   78. ,   80. ,\n",
              "         85. ,   85. ,  110. ,  115. ,  125. ,  130. ,  120. ,  120. ,\n",
              "        130. ,  135. ,  110. ,  130. ,  150. ,  145. ,  150. ,  170. ,\n",
              "        225. ,  145. ,  188. ,  180. ,  197. ,  218. ,  300. ,  260. ,\n",
              "        265. ,  250. ,  250. ,  300. ,  320. ,  514. ,  556. ,  840. ,\n",
              "        685. ,  700. ,  700. ,  690. ,  900. ,  650. ,  820. ,  850. ,\n",
              "        900. , 1015. ,  820. , 1100. , 1000. , 1100. , 1000. , 1000. ])"
            ]
          },
          "metadata": {
            "tags": []
          },
          "execution_count": 8
        }
      ]
    },
    {
      "cell_type": "code",
      "metadata": {
        "id": "8Ub7oysatv9S"
      },
      "source": [
        "# 독립 변수(설명 변수): Length2\r\n",
        "perch_length = perch['Length2'].values"
      ],
      "execution_count": 9,
      "outputs": []
    },
    {
      "cell_type": "code",
      "metadata": {
        "colab": {
          "base_uri": "https://localhost:8080/"
        },
        "id": "D5qVQrf1uDpI",
        "outputId": "8b78ab67-33c5-4735-a4ab-3adfc193cb64"
      },
      "source": [
        "perch_length"
      ],
      "execution_count": 10,
      "outputs": [
        {
          "output_type": "execute_result",
          "data": {
            "text/plain": [
              "array([ 8.4, 13.7, 15. , 16.2, 17.4, 18. , 18.7, 19. , 19.6, 20. , 21. ,\n",
              "       21. , 21. , 21.3, 22. , 22. , 22. , 22. , 22. , 22.5, 22.5, 22.7,\n",
              "       23. , 23.5, 24. , 24. , 24.6, 25. , 25.6, 26.5, 27.3, 27.5, 27.5,\n",
              "       27.5, 28. , 28.7, 30. , 32.8, 34.5, 35. , 36.5, 36. , 37. , 37. ,\n",
              "       39. , 39. , 39. , 40. , 40. , 40. , 40. , 42. , 43. , 43. , 43.5,\n",
              "       44. ])"
            ]
          },
          "metadata": {
            "tags": []
          },
          "execution_count": 10
        }
      ]
    },
    {
      "cell_type": "code",
      "metadata": {
        "colab": {
          "base_uri": "https://localhost:8080/",
          "height": 279
        },
        "id": "ES4QzrwHuEd4",
        "outputId": "6de0e0b1-6ac1-4d38-d1a5-91cc3cbddc11"
      },
      "source": [
        "# weight ~ length 산점도 그래프\r\n",
        "plt.scatter(perch_length, perch_weight)\r\n",
        "\r\n",
        "plt.xlabel('length(cm)')\r\n",
        "plt.ylabel('weight(g)')\r\n",
        "\r\n",
        "plt.show()"
      ],
      "execution_count": 11,
      "outputs": [
        {
          "output_type": "display_data",
          "data": {
            "image/png": "[encoded data removed]",
            "text/plain": [
              "<Figure size 432x288 with 1 Axes>"
            ]
          },
          "metadata": {
            "tags": [],
            "needs_background": "light"
          }
        }
      ]
    },
    {
      "cell_type": "code",
      "metadata": {
        "colab": {
          "base_uri": "https://localhost:8080/"
        },
        "id": "rBN7syJHwJbB",
        "outputId": "3d2a8a9e-3950-44a0-db06-842a15c70853"
      },
      "source": [
        "perch_weight.shape  #> target - 1차원 배열"
      ],
      "execution_count": 12,
      "outputs": [
        {
          "output_type": "execute_result",
          "data": {
            "text/plain": [
              "(56,)"
            ]
          },
          "metadata": {
            "tags": []
          },
          "execution_count": 12
        }
      ]
    },
    {
      "cell_type": "code",
      "metadata": {
        "colab": {
          "base_uri": "https://localhost:8080/"
        },
        "id": "MiwoErhAwSXy",
        "outputId": "7e817168-596b-4334-cdb8-6ca658294338"
      },
      "source": [
        "perch_length.shape\r\n",
        "# scikit-learn 패키지에서는 데이터는 2차원 배열이어야 함."
      ],
      "execution_count": 13,
      "outputs": [
        {
          "output_type": "execute_result",
          "data": {
            "text/plain": [
              "(56,)"
            ]
          },
          "metadata": {
            "tags": []
          },
          "execution_count": 13
        }
      ]
    },
    {
      "cell_type": "code",
      "metadata": {
        "id": "Es2XlkJ1wopL"
      },
      "source": [
        "X = perch_length[:, np.newaxis]  # 데이터(data): perch_length를 2차원 배열로 변환\r\n",
        "y = perch_weight.copy()  # 타겟(target): perch_weight를 복사"
      ],
      "execution_count": 14,
      "outputs": []
    },
    {
      "cell_type": "code",
      "metadata": {
        "colab": {
          "base_uri": "https://localhost:8080/"
        },
        "id": "ezacpFETxh3x",
        "outputId": "bc2eeacd-5578-4b4f-ddfb-85b7d126ae32"
      },
      "source": [
        "X.shape"
      ],
      "execution_count": 15,
      "outputs": [
        {
          "output_type": "execute_result",
          "data": {
            "text/plain": [
              "(56, 1)"
            ]
          },
          "metadata": {
            "tags": []
          },
          "execution_count": 15
        }
      ]
    },
    {
      "cell_type": "code",
      "metadata": {
        "colab": {
          "base_uri": "https://localhost:8080/"
        },
        "id": "cVBrR6mRxjiJ",
        "outputId": "08f8be7e-96e3-44d5-813c-f729e2f7a58e"
      },
      "source": [
        "X[:5]"
      ],
      "execution_count": 16,
      "outputs": [
        {
          "output_type": "execute_result",
          "data": {
            "text/plain": [
              "array([[ 8.4],\n",
              "       [13.7],\n",
              "       [15. ],\n",
              "       [16.2],\n",
              "       [17.4]])"
            ]
          },
          "metadata": {
            "tags": []
          },
          "execution_count": 16
        }
      ]
    },
    {
      "cell_type": "markdown",
      "metadata": {
        "id": "Ntc8v2CnyDIF"
      },
      "source": [
        "\r\n",
        "\r\n",
        "---\r\n",
        "\r\n"
      ]
    },
    {
      "cell_type": "code",
      "metadata": {
        "colab": {
          "base_uri": "https://localhost:8080/"
        },
        "id": "nI5q6Pg1yB8M",
        "outputId": "979f19da-97b2-407e-98eb-47b980397650"
      },
      "source": [
        "perch_length.reshape((56, 1))"
      ],
      "execution_count": 17,
      "outputs": [
        {
          "output_type": "execute_result",
          "data": {
            "text/plain": [
              "array([[ 8.4],\n",
              "       [13.7],\n",
              "       [15. ],\n",
              "       [16.2],\n",
              "       [17.4],\n",
              "       [18. ],\n",
              "       [18.7],\n",
              "       [19. ],\n",
              "       [19.6],\n",
              "       [20. ],\n",
              "       [21. ],\n",
              "       [21. ],\n",
              "       [21. ],\n",
              "       [21.3],\n",
              "       [22. ],\n",
              "       [22. ],\n",
              "       [22. ],\n",
              "       [22. ],\n",
              "       [22. ],\n",
              "       [22.5],\n",
              "       [22.5],\n",
              "       [22.7],\n",
              "       [23. ],\n",
              "       [23.5],\n",
              "       [24. ],\n",
              "       [24. ],\n",
              "       [24.6],\n",
              "       [25. ],\n",
              "       [25.6],\n",
              "       [26.5],\n",
              "       [27.3],\n",
              "       [27.5],\n",
              "       [27.5],\n",
              "       [27.5],\n",
              "       [28. ],\n",
              "       [28.7],\n",
              "       [30. ],\n",
              "       [32.8],\n",
              "       [34.5],\n",
              "       [35. ],\n",
              "       [36.5],\n",
              "       [36. ],\n",
              "       [37. ],\n",
              "       [37. ],\n",
              "       [39. ],\n",
              "       [39. ],\n",
              "       [39. ],\n",
              "       [40. ],\n",
              "       [40. ],\n",
              "       [40. ],\n",
              "       [40. ],\n",
              "       [42. ],\n",
              "       [43. ],\n",
              "       [43. ],\n",
              "       [43.5],\n",
              "       [44. ]])"
            ]
          },
          "metadata": {
            "tags": []
          },
          "execution_count": 17
        }
      ]
    },
    {
      "cell_type": "code",
      "metadata": {
        "colab": {
          "base_uri": "https://localhost:8080/"
        },
        "id": "f-4A7zroyXYb",
        "outputId": "c932fb1e-652d-4b35-ad8f-e88bc7ab0d74"
      },
      "source": [
        "perch_length.reshape((-1, 1))"
      ],
      "execution_count": 18,
      "outputs": [
        {
          "output_type": "execute_result",
          "data": {
            "text/plain": [
              "array([[ 8.4],\n",
              "       [13.7],\n",
              "       [15. ],\n",
              "       [16.2],\n",
              "       [17.4],\n",
              "       [18. ],\n",
              "       [18.7],\n",
              "       [19. ],\n",
              "       [19.6],\n",
              "       [20. ],\n",
              "       [21. ],\n",
              "       [21. ],\n",
              "       [21. ],\n",
              "       [21.3],\n",
              "       [22. ],\n",
              "       [22. ],\n",
              "       [22. ],\n",
              "       [22. ],\n",
              "       [22. ],\n",
              "       [22.5],\n",
              "       [22.5],\n",
              "       [22.7],\n",
              "       [23. ],\n",
              "       [23.5],\n",
              "       [24. ],\n",
              "       [24. ],\n",
              "       [24.6],\n",
              "       [25. ],\n",
              "       [25.6],\n",
              "       [26.5],\n",
              "       [27.3],\n",
              "       [27.5],\n",
              "       [27.5],\n",
              "       [27.5],\n",
              "       [28. ],\n",
              "       [28.7],\n",
              "       [30. ],\n",
              "       [32.8],\n",
              "       [34.5],\n",
              "       [35. ],\n",
              "       [36.5],\n",
              "       [36. ],\n",
              "       [37. ],\n",
              "       [37. ],\n",
              "       [39. ],\n",
              "       [39. ],\n",
              "       [39. ],\n",
              "       [40. ],\n",
              "       [40. ],\n",
              "       [40. ],\n",
              "       [40. ],\n",
              "       [42. ],\n",
              "       [43. ],\n",
              "       [43. ],\n",
              "       [43.5],\n",
              "       [44. ]])"
            ]
          },
          "metadata": {
            "tags": []
          },
          "execution_count": 18
        }
      ]
    },
    {
      "cell_type": "markdown",
      "metadata": {
        "id": "1cQUL4AtyEJ5"
      },
      "source": [
        "\r\n",
        "\r\n",
        "---\r\n",
        "\r\n"
      ]
    },
    {
      "cell_type": "markdown",
      "metadata": {
        "id": "v1SvsVK9y1q6"
      },
      "source": [
        "# Train/Test Split"
      ]
    },
    {
      "cell_type": "code",
      "metadata": {
        "colab": {
          "base_uri": "https://localhost:8080/",
          "height": 265
        },
        "id": "vOJO18IUyFBq",
        "outputId": "e64ee9a9-5f32-41c6-e11c-3bbb04e25349"
      },
      "source": [
        "# 순차적 샘플링\r\n",
        "X_train, X_test = X[:42], X[42:]\r\n",
        "y_train, y_test = y[:42], y[42:]\r\n",
        "\r\n",
        "plt.scatter(X_train, y_train, label='Train Set')\r\n",
        "plt.scatter(X_test, y_test, label='Test Set')\r\n",
        "plt.legend()\r\n",
        "plt.show()"
      ],
      "execution_count": 19,
      "outputs": [
        {
          "output_type": "display_data",
          "data": {
            "image/png": "[encoded data removed]",
            "text/plain": [
              "<Figure size 432x288 with 1 Axes>"
            ]
          },
          "metadata": {
            "tags": [],
            "needs_background": "light"
          }
        }
      ]
    },
    {
      "cell_type": "markdown",
      "metadata": {
        "id": "n1pklUWo4VN6"
      },
      "source": [
        "샘플이 무작위로 섞여 있지 않고 length 순서로 정렬되어 있기 때문에, 훈련/테스트 셋을 나눌 때 순서대로 나누는 것은 좋은 방법이 아님!"
      ]
    },
    {
      "cell_type": "code",
      "metadata": {
        "id": "PauUegIy4UYj"
      },
      "source": [
        "X_train, X_test, y_train, y_test = train_test_split(X, y, \r\n",
        "                                                    test_size=0.25,\r\n",
        "                                                    random_state=42)"
      ],
      "execution_count": 20,
      "outputs": []
    },
    {
      "cell_type": "code",
      "metadata": {
        "colab": {
          "base_uri": "https://localhost:8080/"
        },
        "id": "CtvBOejn5WPD",
        "outputId": "d83d99fc-e2bd-400b-91ec-48feade5954d"
      },
      "source": [
        "X_train.shape, y_train.shape"
      ],
      "execution_count": 21,
      "outputs": [
        {
          "output_type": "execute_result",
          "data": {
            "text/plain": [
              "((42, 1), (42,))"
            ]
          },
          "metadata": {
            "tags": []
          },
          "execution_count": 21
        }
      ]
    },
    {
      "cell_type": "code",
      "metadata": {
        "colab": {
          "base_uri": "https://localhost:8080/",
          "height": 279
        },
        "id": "lj7EFTAv5iMS",
        "outputId": "fc8c8582-0cd9-41b2-c973-9bfa889d27a9"
      },
      "source": [
        "plt.scatter(X_train, y_train, label='Train Set')\r\n",
        "plt.scatter(X_test, y_test, label='Test Set')\r\n",
        "\r\n",
        "plt.legend()\r\n",
        "plt.xlabel('length(cm)')\r\n",
        "plt.ylabel('weight(g)')\r\n",
        "\r\n",
        "plt.show()"
      ],
      "execution_count": 22,
      "outputs": [
        {
          "output_type": "display_data",
          "data": {
            "image/png": "[encoded data removed]",
            "text/plain": [
              "<Figure size 432x288 with 1 Axes>"
            ]
          },
          "metadata": {
            "tags": [],
            "needs_background": "light"
          }
        }
      ]
    },
    {
      "cell_type": "markdown",
      "metadata": {
        "id": "_76fVIYY6LNz"
      },
      "source": [
        "# kNN(k-Nearest Neighbors) Regressor 학습/평가"
      ]
    },
    {
      "cell_type": "code",
      "metadata": {
        "id": "_BSSXkni7qsj"
      },
      "source": [
        "knn_reg = KNeighborsRegressor()  # 모델 생성"
      ],
      "execution_count": 23,
      "outputs": []
    },
    {
      "cell_type": "code",
      "metadata": {
        "colab": {
          "base_uri": "https://localhost:8080/"
        },
        "id": "3GQ1Scm-7zL9",
        "outputId": "c96e3fc2-bb72-44e4-e7d0-be8358548eda"
      },
      "source": [
        "knn_reg.fit(X_train, y_train)  # 훈련 셋으로 모델 학습"
      ],
      "execution_count": 24,
      "outputs": [
        {
          "output_type": "execute_result",
          "data": {
            "text/plain": [
              "KNeighborsRegressor(algorithm='auto', leaf_size=30, metric='minkowski',\n",
              "                    metric_params=None, n_jobs=None, n_neighbors=5, p=2,\n",
              "                    weights='uniform')"
            ]
          },
          "metadata": {
            "tags": []
          },
          "execution_count": 24
        }
      ]
    },
    {
      "cell_type": "code",
      "metadata": {
        "colab": {
          "base_uri": "https://localhost:8080/"
        },
        "id": "yI2Wiebf88fC",
        "outputId": "dd06e2a1-b983-4ed8-f25b-ed98dcb466e6"
      },
      "source": [
        "# 훈련 셋의 예측값\r\n",
        "train_pred = knn_reg.predict(X_train)\r\n",
        "train_pred"
      ],
      "execution_count": 25,
      "outputs": [
        {
          "output_type": "execute_result",
          "data": {
            "text/plain": [
              "array([  88.6,  123. ,   79.6,   70.6,  723. ,  193. ,  847. ,  847. ,\n",
              "       1010. ,  123. ,   95. ,  123. ,  174. ,  248. , 1010. ,  847. ,\n",
              "        174. ,  113. ,  248. ,  847. ,  659. ,  224. ,  723. ,   60. ,\n",
              "        140. ,   60. ,  719. ,  694.2,  248. ,  167. ,  847. ,  113. ,\n",
              "        168. ,  123. , 1010. ,  136. ,   79.6,  719. ,  123. ,  193. ,\n",
              "        990. ,  659. ])"
            ]
          },
          "metadata": {
            "tags": []
          },
          "execution_count": 25
        }
      ]
    },
    {
      "cell_type": "code",
      "metadata": {
        "colab": {
          "base_uri": "https://localhost:8080/"
        },
        "id": "LN8-O77c9Ohj",
        "outputId": "89eac9cf-d099-44e4-8e6a-ef4ec978d01c"
      },
      "source": [
        "# 훈련 셋의 타겟(실제값)\r\n",
        "y_train"
      ],
      "execution_count": 26,
      "outputs": [
        {
          "output_type": "execute_result",
          "data": {
            "text/plain": [
              "array([  85.,  135.,   78.,   70.,  700.,  180.,  850.,  820., 1000.,\n",
              "        120.,   85.,  130.,  225.,  260., 1100.,  900.,  145.,  115.,\n",
              "        265., 1015.,  514.,  218.,  685.,   32.,  145.,   40.,  690.,\n",
              "        840.,  300.,  170.,  650.,  110.,  150.,  110., 1000.,  150.,\n",
              "         80.,  700.,  120.,  197., 1100.,  556.])"
            ]
          },
          "metadata": {
            "tags": []
          },
          "execution_count": 26
        }
      ]
    },
    {
      "cell_type": "code",
      "metadata": {
        "colab": {
          "base_uri": "https://localhost:8080/"
        },
        "id": "i6jC66OP-Brb",
        "outputId": "0f3f5edc-3867-4a1d-b5e0-30e29b2dc18b"
      },
      "source": [
        "knn_reg.score(X_train, y_train)\r\n",
        "#> R^2 score(coefficient of determinant, 결정계수)"
      ],
      "execution_count": 27,
      "outputs": [
        {
          "output_type": "execute_result",
          "data": {
            "text/plain": [
              "0.9698823289099255"
            ]
          },
          "metadata": {
            "tags": []
          },
          "execution_count": 27
        }
      ]
    },
    {
      "cell_type": "markdown",
      "metadata": {
        "id": "04qs2M5MBFKk"
      },
      "source": [
        "**Coefficient of determinant(결정 계수) $R^2$**\r\n",
        "\r\n",
        "\r\n",
        "$R^2 = 1 - \\dfrac{\\sum{(target - prediction)^2}}{\\sum{(target - mean)^2}}$\r\n",
        "\r\n",
        "\r\n",
        "*   모델이 타겟을 정확이 예측하는 경우, `target = predict`이므로, 분자가 0이 되기 때문에 $R^2 = 1 - 0 = 1$.\r\n",
        "*   모델이 타겟을 평균값으로만 예측하는 경우, `분자 = 분모`이므로, $R^2 = 1 - 1 = 0$.\r\n",
        "*   $R^2$의 최댓값은 1.\r\n",
        "*   $R^2$은 음수가 될 수 있음.\r\n",
        "\r\n"
      ]
    },
    {
      "cell_type": "code",
      "metadata": {
        "colab": {
          "base_uri": "https://localhost:8080/"
        },
        "id": "dQyDVpOEFu10",
        "outputId": "2cd7afe8-ee83-4c89-bb69-3417ce9957e6"
      },
      "source": [
        "r2_score(y_true=y_train, y_pred=train_pred)"
      ],
      "execution_count": 28,
      "outputs": [
        {
          "output_type": "execute_result",
          "data": {
            "text/plain": [
              "0.9698823289099254"
            ]
          },
          "metadata": {
            "tags": []
          },
          "execution_count": 28
        }
      ]
    },
    {
      "cell_type": "code",
      "metadata": {
        "colab": {
          "base_uri": "https://localhost:8080/"
        },
        "id": "YO0T-Jo_GXtj",
        "outputId": "9d42c7eb-6a46-4aa7-ebb1-7595b12e2134"
      },
      "source": [
        "mu = np.mean(y_train)\r\n",
        "1 - np.sum((y_train - train_pred)**2) / np.sum((y_train - mu)**2)"
      ],
      "execution_count": 29,
      "outputs": [
        {
          "output_type": "execute_result",
          "data": {
            "text/plain": [
              "0.9698823289099254"
            ]
          },
          "metadata": {
            "tags": []
          },
          "execution_count": 29
        }
      ]
    },
    {
      "cell_type": "code",
      "metadata": {
        "colab": {
          "base_uri": "https://localhost:8080/"
        },
        "id": "ycECPKfJIZQX",
        "outputId": "23ab1547-9c4d-499c-d9d6-e77100be0c9e"
      },
      "source": [
        "# 테스트 셋 예측\r\n",
        "test_pred = knn_reg.predict(X_test)\r\n",
        "test_pred"
      ],
      "execution_count": 30,
      "outputs": [
        {
          "output_type": "execute_result",
          "data": {
            "text/plain": [
              "array([  60. ,   79.6,  248. ,  122. ,  136. ,  847. ,  311.4,  183.4,\n",
              "        847. ,  113. , 1010. ,   60. ,  248. ,  248. ])"
            ]
          },
          "metadata": {
            "tags": []
          },
          "execution_count": 30
        }
      ]
    },
    {
      "cell_type": "code",
      "metadata": {
        "colab": {
          "base_uri": "https://localhost:8080/"
        },
        "id": "x0jiGgStIkls",
        "outputId": "80aaa039-2728-4eee-fb2f-82a3695449c1"
      },
      "source": [
        "# 테스트 셋 타겟(실제값)\r\n",
        "y_test"
      ],
      "execution_count": 31,
      "outputs": [
        {
          "output_type": "execute_result",
          "data": {
            "text/plain": [
              "array([   5.9,  100. ,  250. ,  130. ,  130. ,  820. ,  320. ,  188. ,\n",
              "        900. ,  125. , 1000. ,   51.5,  250. ,  300. ])"
            ]
          },
          "metadata": {
            "tags": []
          },
          "execution_count": 31
        }
      ]
    },
    {
      "cell_type": "code",
      "metadata": {
        "colab": {
          "base_uri": "https://localhost:8080/"
        },
        "id": "HneBQfCcItv8",
        "outputId": "89fcdcc2-eb57-47d5-8dea-cb20176d3768"
      },
      "source": [
        "r2_score(y_true=y_test, y_pred=test_pred)"
      ],
      "execution_count": 32,
      "outputs": [
        {
          "output_type": "execute_result",
          "data": {
            "text/plain": [
              "0.992809406101064"
            ]
          },
          "metadata": {
            "tags": []
          },
          "execution_count": 32
        }
      ]
    },
    {
      "cell_type": "code",
      "metadata": {
        "colab": {
          "base_uri": "https://localhost:8080/"
        },
        "id": "wuooyIJkJbhl",
        "outputId": "27cf5f14-f990-425a-88dd-60c33c5165a7"
      },
      "source": [
        "knn_reg.score(X_test, y_test)"
      ],
      "execution_count": 33,
      "outputs": [
        {
          "output_type": "execute_result",
          "data": {
            "text/plain": [
              "0.9928094061010639"
            ]
          },
          "metadata": {
            "tags": []
          },
          "execution_count": 33
        }
      ]
    },
    {
      "cell_type": "code",
      "metadata": {
        "colab": {
          "base_uri": "https://localhost:8080/"
        },
        "id": "rFkuCgEZJ3ZF",
        "outputId": "1565200f-75cb-4b48-e45f-8d4ed20edd4c"
      },
      "source": [
        "# MSE(Mean Squared Error): 오차들의 제곱의 평균\r\n",
        "mean_squared_error(y_test, test_pred)"
      ],
      "execution_count": 34,
      "outputs": [
        {
          "output_type": "execute_result",
          "data": {
            "text/plain": [
              "721.7385714285714"
            ]
          },
          "metadata": {
            "tags": []
          },
          "execution_count": 34
        }
      ]
    },
    {
      "cell_type": "code",
      "metadata": {
        "colab": {
          "base_uri": "https://localhost:8080/"
        },
        "id": "pw_emiBGMiO1",
        "outputId": "2c335978-377a-4529-c3df-0ad1a910ccfa"
      },
      "source": [
        "np.mean((y_test - test_pred)**2)"
      ],
      "execution_count": 35,
      "outputs": [
        {
          "output_type": "execute_result",
          "data": {
            "text/plain": [
              "721.7385714285714"
            ]
          },
          "metadata": {
            "tags": []
          },
          "execution_count": 35
        }
      ]
    },
    {
      "cell_type": "code",
      "metadata": {
        "colab": {
          "base_uri": "https://localhost:8080/"
        },
        "id": "jid9pAsXKhx2",
        "outputId": "11721df1-bdbb-4397-f0ab-23ab30175a3d"
      },
      "source": [
        "# RMSE(Root Mean Squared Error): MSE의 square-root\r\n",
        "np.sqrt(mean_squared_error(y_test, test_pred))"
      ],
      "execution_count": 36,
      "outputs": [
        {
          "output_type": "execute_result",
          "data": {
            "text/plain": [
              "26.865192562655704"
            ]
          },
          "metadata": {
            "tags": []
          },
          "execution_count": 36
        }
      ]
    },
    {
      "cell_type": "code",
      "metadata": {
        "colab": {
          "base_uri": "https://localhost:8080/"
        },
        "id": "oORWj5riLLnV",
        "outputId": "237828f9-055c-47a3-ce96-067e58b15b72"
      },
      "source": [
        "# MAE(Mean Absolute Error): 오차들의 절대값의 평균\r\n",
        "mean_absolute_error(y_test, test_pred)"
      ],
      "execution_count": 37,
      "outputs": [
        {
          "output_type": "execute_result",
          "data": {
            "text/plain": [
              "19.157142857142862"
            ]
          },
          "metadata": {
            "tags": []
          },
          "execution_count": 37
        }
      ]
    },
    {
      "cell_type": "code",
      "metadata": {
        "colab": {
          "base_uri": "https://localhost:8080/"
        },
        "id": "ClHeqWNyM5Mo",
        "outputId": "a43b894b-d4bd-4856-d74c-48020a4f19c2"
      },
      "source": [
        "np.mean(np.abs((y_test - test_pred)))"
      ],
      "execution_count": 38,
      "outputs": [
        {
          "output_type": "execute_result",
          "data": {
            "text/plain": [
              "19.157142857142862"
            ]
          },
          "metadata": {
            "tags": []
          },
          "execution_count": 38
        }
      ]
    },
    {
      "cell_type": "markdown",
      "metadata": {
        "id": "LdPZswO3LkXg"
      },
      "source": [
        "Regression 모델의 성능을 평가할 때, \r\n",
        "\r\n",
        "*   RMSE와 MAE는 0보다 크거나 같은 값. RMSE 또는 MAE는 작을 수록(0에 가까울 수록) 좋음.\r\n",
        "*   결정계수 $R^2$은 1보다 작거나 같은 값. $R^2$은 클 수록(1에 가까울 수록) 좋음."
      ]
    },
    {
      "cell_type": "code",
      "metadata": {
        "colab": {
          "base_uri": "https://localhost:8080/"
        },
        "id": "MK9uHkELNsol",
        "outputId": "700f3caf-fd77-4026-9402-6ce08ceb8701"
      },
      "source": [
        "# 훈련 셋 R^2 < 테스트 셋 R^2: 과소적합\r\n",
        "# 훈련 셋의 RMSE > 테스트 셋 RMSE: 과소적합\r\n",
        "np.sqrt(mean_squared_error(y_train, train_pred))"
      ],
      "execution_count": 39,
      "outputs": [
        {
          "output_type": "execute_result",
          "data": {
            "text/plain": [
              "60.96323638453089"
            ]
          },
          "metadata": {
            "tags": []
          },
          "execution_count": 39
        }
      ]
    },
    {
      "cell_type": "markdown",
      "metadata": {
        "id": "mkIF9wJEOZxN"
      },
      "source": [
        "k=3인 kNN Regression 모델을 생성하고, 훈련 셋과 테스트 셋을 평가"
      ]
    },
    {
      "cell_type": "code",
      "metadata": {
        "colab": {
          "base_uri": "https://localhost:8080/"
        },
        "id": "Ikqv2fOZ0eti",
        "outputId": "a113e22d-ffc0-44da-8d9c-d79e82ec4d0e"
      },
      "source": [
        "train_scores = []  # 훈련 셋의 R^2 점수를 저장할 리스트\r\n",
        "test_scores = []  # 테스트 셋의 R^2 점수를 저장할 리스트\r\n",
        "for k in (1, 3, 5, 11):\r\n",
        "    # kNN 모델 생성\r\n",
        "    knn_reg = KNeighborsRegressor(n_neighbors=k)\r\n",
        "    # kNN 모델 학습\r\n",
        "    knn_reg.fit(X_train, y_train)\r\n",
        "    # predict -> 실제값과 비교 -> 평가 -> 점수\r\n",
        "    train_r2 = knn_reg.score(X_train, y_train)\r\n",
        "    train_scores.append(train_r2)\r\n",
        "    # 테스트 셋 평가\r\n",
        "    test_r2 = knn_reg.score(X_test, y_test)\r\n",
        "    test_scores.append(test_r2)\r\n",
        "\r\n",
        "print(train_scores)\r\n",
        "print(test_scores)"
      ],
      "execution_count": 40,
      "outputs": [
        {
          "output_type": "stream",
          "text": [
            "[0.9852830341215901, 0.9804899950518966, 0.9698823289099255, 0.9515761381539326]\n",
            "[0.991309195814175, 0.974645996398761, 0.9928094061010639, 0.970279643030474]\n"
          ],
          "name": "stdout"
        }
      ]
    },
    {
      "cell_type": "code",
      "metadata": {
        "colab": {
          "base_uri": "https://localhost:8080/",
          "height": 265
        },
        "id": "xC9P5aPs135R",
        "outputId": "d153af8b-8628-4734-8ebe-bb374ccaf824"
      },
      "source": [
        "ks = (1, 3, 5, 11)\r\n",
        "plt.plot(ks, train_scores, 'bo-', label=r'train $R^2$')\r\n",
        "plt.plot(ks, test_scores, 'ro-', label=r'test $R^2$')\r\n",
        "plt.legend()\r\n",
        "plt.xticks(ks)\r\n",
        "plt.show()"
      ],
      "execution_count": 42,
      "outputs": [
        {
          "output_type": "display_data",
          "data": {
            "image/png": "[encoded data removed]",
            "text/plain": [
              "<Figure size 432x288 with 1 Axes>"
            ]
          },
          "metadata": {
            "tags": [],
            "needs_background": "light"
          }
        }
      ]
    },
    {
      "cell_type": "markdown",
      "metadata": {
        "id": "HC5jueet9Z6j"
      },
      "source": [
        "# kNN Regressor의 문제점"
      ]
    },
    {
      "cell_type": "code",
      "metadata": {
        "id": "uCcqAP8F-aeJ"
      },
      "source": [
        "# 길이가 50cm이고, 무게가 1,500g인 가상의 물고기 데이터\r\n",
        "test_fish = np.array([[50]])  \r\n",
        "# (1, 1) 모양의 2d array로 만든 이유는\r\n",
        "# scikit-learn 모델 객체의 predict() 메서드를 사용하기 위해서"
      ],
      "execution_count": 43,
      "outputs": []
    },
    {
      "cell_type": "code",
      "metadata": {
        "colab": {
          "base_uri": "https://localhost:8080/",
          "height": 279
        },
        "id": "AZDhbF3S9daK",
        "outputId": "c6ea9c1d-59d1-44e5-9f30-5a581ce9e1bd"
      },
      "source": [
        "# Train set 시각화\r\n",
        "plt.scatter(X_train, y_train, label='train')\r\n",
        "\r\n",
        "# 가상의 물고기 시각화\r\n",
        "plt.scatter(50, 1_500, marker='^', color='green')\r\n",
        "\r\n",
        "plt.xlabel('Length(cm)')\r\n",
        "plt.ylabel('Weight(g)')\r\n",
        "plt.show()"
      ],
      "execution_count": 45,
      "outputs": [
        {
          "output_type": "display_data",
          "data": {
            "image/png": "[encoded data removed]",
            "text/plain": [
              "<Figure size 432x288 with 1 Axes>"
            ]
          },
          "metadata": {
            "tags": [],
            "needs_background": "light"
          }
        }
      ]
    },
    {
      "cell_type": "code",
      "metadata": {
        "id": "z3IyYxKfANNt"
      },
      "source": [
        "knn_reg = KNeighborsRegressor(n_neighbors=3)  # k=3인 kNN 모델 생성"
      ],
      "execution_count": 46,
      "outputs": []
    },
    {
      "cell_type": "code",
      "metadata": {
        "colab": {
          "base_uri": "https://localhost:8080/"
        },
        "id": "nnoqIz-zAUo7",
        "outputId": "9fa9d219-d007-437f-ec8b-bf6335f1c108"
      },
      "source": [
        "knn_reg.fit(X_train, y_train)  # 훈련 데이터로 모델 학습"
      ],
      "execution_count": 47,
      "outputs": [
        {
          "output_type": "execute_result",
          "data": {
            "text/plain": [
              "KNeighborsRegressor(algorithm='auto', leaf_size=30, metric='minkowski',\n",
              "                    metric_params=None, n_jobs=None, n_neighbors=3, p=2,\n",
              "                    weights='uniform')"
            ]
          },
          "metadata": {
            "tags": []
          },
          "execution_count": 47
        }
      ]
    },
    {
      "cell_type": "code",
      "metadata": {
        "colab": {
          "base_uri": "https://localhost:8080/"
        },
        "id": "qanynAgaAdvs",
        "outputId": "4f44e411-6112-41b7-acd0-d2e59bcde628"
      },
      "source": [
        "# 가상의 물고기의 무게 예측값\r\n",
        "knn_reg.predict(test_fish)  #> 1,033g - 오차가 큼"
      ],
      "execution_count": 51,
      "outputs": [
        {
          "output_type": "execute_result",
          "data": {
            "text/plain": [
              "array([1033.33333333])"
            ]
          },
          "metadata": {
            "tags": []
          },
          "execution_count": 51
        }
      ]
    },
    {
      "cell_type": "code",
      "metadata": {
        "id": "DMpWWDJlBTC8"
      },
      "source": [
        "# test_fish의 최근접 이웃들 찾기\r\n",
        "distances, neighbor_indice = knn_reg.kneighbors(test_fish)"
      ],
      "execution_count": 52,
      "outputs": []
    },
    {
      "cell_type": "code",
      "metadata": {
        "colab": {
          "base_uri": "https://localhost:8080/"
        },
        "id": "fYke6_WrCBuc",
        "outputId": "efb26f47-c9a8-4cf9-ae50-c4dfd4ae4a20"
      },
      "source": [
        "distances"
      ],
      "execution_count": 53,
      "outputs": [
        {
          "output_type": "execute_result",
          "data": {
            "text/plain": [
              "array([[6., 7., 7.]])"
            ]
          },
          "metadata": {
            "tags": []
          },
          "execution_count": 53
        }
      ]
    },
    {
      "cell_type": "code",
      "metadata": {
        "colab": {
          "base_uri": "https://localhost:8080/"
        },
        "id": "1ThJePb0CGGU",
        "outputId": "f52cc208-270a-4b58-ac71-ecea6e5bdc80"
      },
      "source": [
        "neighbor_indice"
      ],
      "execution_count": 54,
      "outputs": [
        {
          "output_type": "execute_result",
          "data": {
            "text/plain": [
              "array([[34,  8, 14]])"
            ]
          },
          "metadata": {
            "tags": []
          },
          "execution_count": 54
        }
      ]
    },
    {
      "cell_type": "code",
      "metadata": {
        "colab": {
          "base_uri": "https://localhost:8080/"
        },
        "id": "sD99NOs_CODc",
        "outputId": "a7733504-5d55-418f-9c02-286fbdc64d01"
      },
      "source": [
        "idx = neighbor_indice[0]  # test fish와 가장 가까운 이웃 3개의 인덱스\r\n",
        "neighbors = X_train[idx]  # fancy(list) indexing\r\n",
        "neighbors"
      ],
      "execution_count": 56,
      "outputs": [
        {
          "output_type": "execute_result",
          "data": {
            "text/plain": [
              "array([[44.],\n",
              "       [43.],\n",
              "       [43.]])"
            ]
          },
          "metadata": {
            "tags": []
          },
          "execution_count": 56
        }
      ]
    },
    {
      "cell_type": "code",
      "metadata": {
        "colab": {
          "base_uri": "https://localhost:8080/"
        },
        "id": "vkJjYvMqDl_3",
        "outputId": "c881dc57-0179-4f53-c8f9-426a682ee525"
      },
      "source": [
        "neigh_weights = y_train[idx]\r\n",
        "neigh_weights"
      ],
      "execution_count": 59,
      "outputs": [
        {
          "output_type": "execute_result",
          "data": {
            "text/plain": [
              "array([1000., 1000., 1100.])"
            ]
          },
          "metadata": {
            "tags": []
          },
          "execution_count": 59
        }
      ]
    },
    {
      "cell_type": "code",
      "metadata": {
        "colab": {
          "base_uri": "https://localhost:8080/"
        },
        "id": "MXt2qCf0EPwG",
        "outputId": "6f61f5b9-4e5e-4ae8-aaec-aeda3beb855e"
      },
      "source": [
        "np.mean(neigh_weights)  #> kNN regressor의 예측값"
      ],
      "execution_count": 61,
      "outputs": [
        {
          "output_type": "execute_result",
          "data": {
            "text/plain": [
              "1033.3333333333333"
            ]
          },
          "metadata": {
            "tags": []
          },
          "execution_count": 61
        }
      ]
    },
    {
      "cell_type": "code",
      "metadata": {
        "colab": {
          "base_uri": "https://localhost:8080/",
          "height": 279
        },
        "id": "cCTjZFdYC1Ks",
        "outputId": "3db5ed61-cd8e-46eb-d66e-98ee66513fc0"
      },
      "source": [
        "# Train set 시각화\r\n",
        "plt.scatter(X_train, y_train, label='train')\r\n",
        "\r\n",
        "# 가상의 물고기 시각화\r\n",
        "plt.scatter(50, 1_500, marker='^', color='green')\r\n",
        "\r\n",
        "# 가상의 물고기와 가장 가까운 이웃 3개 시각화\r\n",
        "plt.scatter(neighbors, neigh_weights, marker='D', color='orange')\r\n",
        "\r\n",
        "plt.xlabel('Length(cm)')\r\n",
        "plt.ylabel('Weight(g)')\r\n",
        "plt.show()"
      ],
      "execution_count": 60,
      "outputs": [
        {
          "output_type": "display_data",
          "data": {
            "image/png": "[encoded data removed]",
            "text/plain": [
              "<Figure size 432x288 with 1 Axes>"
            ]
          },
          "metadata": {
            "tags": [],
            "needs_background": "light"
          }
        }
      ]
    },
    {
      "cell_type": "markdown",
      "metadata": {
        "id": "s_5loZQXFN3G"
      },
      "source": [
        "# Linear Regression(선형 회귀)"
      ]
    },
    {
      "cell_type": "code",
      "metadata": {
        "id": "aJS6OxtyFNmE"
      },
      "source": [
        ""
      ],
      "execution_count": null,
      "outputs": []
    }
  ]
}