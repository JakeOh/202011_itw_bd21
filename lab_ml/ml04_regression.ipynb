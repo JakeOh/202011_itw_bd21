{
  "nbformat": 4,
  "nbformat_minor": 0,
  "metadata": {
    "colab": {
      "name": "ml04_regression.ipynb",
      "provenance": [],
      "collapsed_sections": [],
      "authorship_tag": "ABX9TyNV+TvR1XIKAzvRjj3Y0WiU",
      "include_colab_link": true
    },
    "kernelspec": {
      "name": "python3",
      "display_name": "Python 3"
    }
  },
  "cells": [
    {
      "cell_type": "markdown",
      "metadata": {
        "id": "view-in-github",
        "colab_type": "text"
      },
      "source": [
        "<a href=\"https://colab.research.google.com/github/JakeOh/202011_itw_bd21/blob/main/lab_ml/ml04_regression.ipynb\" target=\"_parent\"><img src=\"https://colab.research.google.com/assets/colab-badge.svg\" alt=\"Open In Colab\"/></a>"
      ]
    },
    {
      "cell_type": "markdown",
      "metadata": {
        "id": "9boUW_vsoiaK"
      },
      "source": [
        "\r\n",
        "*   지도 학습(Supervised Learning)\r\n",
        "    *   분류(Classification)\r\n",
        "    *   회귀(Regression)\r\n"
      ]
    },
    {
      "cell_type": "markdown",
      "metadata": {
        "id": "NFCoMi7OpEpY"
      },
      "source": [
        "# Imports"
      ]
    },
    {
      "cell_type": "code",
      "metadata": {
        "id": "vZ6CNxpcklSi"
      },
      "source": [
        "import numpy as np\r\n",
        "import pandas as pd\r\n",
        "import matplotlib.pyplot as plt\r\n",
        "import seaborn as sns\r\n",
        "\r\n",
        "from sklearn.model_selection import train_test_split\r\n",
        "from sklearn.neighbors import KNeighborsRegressor\r\n",
        "from sklearn.linear_model import LinearRegression\r\n",
        "from sklearn.metrics import mean_absolute_error, mean_squared_error, r2_score\r\n",
        "from sklearn.preprocessing import StandardScaler, PolynomialFeatures\r\n",
        "from sklearn.pipeline import Pipeline"
      ],
      "execution_count": 1,
      "outputs": []
    },
    {
      "cell_type": "markdown",
      "metadata": {
        "id": "oW-h45mLryDw"
      },
      "source": [
        "# 데이터 준비"
      ]
    },
    {
      "cell_type": "markdown",
      "metadata": {
        "id": "j4FgjwNkr27A"
      },
      "source": [
        "Fish market 데이터에서 농어(Perch)의 무게를 농어의 길이로 예측"
      ]
    },
    {
      "cell_type": "code",
      "metadata": {
        "id": "eUAIkdWorMO7"
      },
      "source": [
        "file_path = 'https://github.com/JakeOh/202011_itw_bd21/raw/main/datasets/Fish.csv'"
      ],
      "execution_count": 2,
      "outputs": []
    },
    {
      "cell_type": "code",
      "metadata": {
        "id": "GQ_ZO1eIsfGR"
      },
      "source": [
        "fish_df = pd.read_csv(file_path)"
      ],
      "execution_count": 3,
      "outputs": []
    },
    {
      "cell_type": "code",
      "metadata": {
        "colab": {
          "base_uri": "https://localhost:8080/",
          "height": 214
        },
        "id": "d80IkSASsnyp",
        "outputId": "0af67659-3b11-4110-9fee-e34f4429f4c9"
      },
      "source": [
        "fish_df.head()"
      ],
      "execution_count": 4,
      "outputs": [
        {
          "output_type": "execute_result",
          "data": {
            "text/html": [
              "<div>\n",
              "<style scoped>\n",
              "    .dataframe tbody tr th:only-of-type {\n",
              "        vertical-align: middle;\n",
              "    }\n",
              "\n",
              "    .dataframe tbody tr th {\n",
              "        vertical-align: top;\n",
              "    }\n",
              "\n",
              "    .dataframe thead th {\n",
              "        text-align: right;\n",
              "    }\n",
              "</style>\n",
              "<table border=\"1\" class=\"dataframe\">\n",
              "  <thead>\n",
              "    <tr style=\"text-align: right;\">\n",
              "      <th></th>\n",
              "      <th>Species</th>\n",
              "      <th>Weight</th>\n",
              "      <th>Length1</th>\n",
              "      <th>Length2</th>\n",
              "      <th>Length3</th>\n",
              "      <th>Height</th>\n",
              "      <th>Width</th>\n",
              "    </tr>\n",
              "  </thead>\n",
              "  <tbody>\n",
              "    <tr>\n",
              "      <th>0</th>\n",
              "      <td>Bream</td>\n",
              "      <td>242.0</td>\n",
              "      <td>23.2</td>\n",
              "      <td>25.4</td>\n",
              "      <td>30.0</td>\n",
              "      <td>11.5200</td>\n",
              "      <td>4.0200</td>\n",
              "    </tr>\n",
              "    <tr>\n",
              "      <th>1</th>\n",
              "      <td>Bream</td>\n",
              "      <td>290.0</td>\n",
              "      <td>24.0</td>\n",
              "      <td>26.3</td>\n",
              "      <td>31.2</td>\n",
              "      <td>12.4800</td>\n",
              "      <td>4.3056</td>\n",
              "    </tr>\n",
              "    <tr>\n",
              "      <th>2</th>\n",
              "      <td>Bream</td>\n",
              "      <td>340.0</td>\n",
              "      <td>23.9</td>\n",
              "      <td>26.5</td>\n",
              "      <td>31.1</td>\n",
              "      <td>12.3778</td>\n",
              "      <td>4.6961</td>\n",
              "    </tr>\n",
              "    <tr>\n",
              "      <th>3</th>\n",
              "      <td>Bream</td>\n",
              "      <td>363.0</td>\n",
              "      <td>26.3</td>\n",
              "      <td>29.0</td>\n",
              "      <td>33.5</td>\n",
              "      <td>12.7300</td>\n",
              "      <td>4.4555</td>\n",
              "    </tr>\n",
              "    <tr>\n",
              "      <th>4</th>\n",
              "      <td>Bream</td>\n",
              "      <td>430.0</td>\n",
              "      <td>26.5</td>\n",
              "      <td>29.0</td>\n",
              "      <td>34.0</td>\n",
              "      <td>12.4440</td>\n",
              "      <td>5.1340</td>\n",
              "    </tr>\n",
              "  </tbody>\n",
              "</table>\n",
              "</div>"
            ],
            "text/plain": [
              "  Species  Weight  Length1  Length2  Length3   Height   Width\n",
              "0   Bream   242.0     23.2     25.4     30.0  11.5200  4.0200\n",
              "1   Bream   290.0     24.0     26.3     31.2  12.4800  4.3056\n",
              "2   Bream   340.0     23.9     26.5     31.1  12.3778  4.6961\n",
              "3   Bream   363.0     26.3     29.0     33.5  12.7300  4.4555\n",
              "4   Bream   430.0     26.5     29.0     34.0  12.4440  5.1340"
            ]
          },
          "metadata": {
            "tags": []
          },
          "execution_count": 4
        }
      ]
    },
    {
      "cell_type": "code",
      "metadata": {
        "id": "-0ib53gfs5Xh"
      },
      "source": [
        "# Perch(농어) 부분집합\r\n",
        "perch = fish_df[fish_df['Species'] == 'Perch']"
      ],
      "execution_count": 5,
      "outputs": []
    },
    {
      "cell_type": "code",
      "metadata": {
        "colab": {
          "base_uri": "https://localhost:8080/",
          "height": 214
        },
        "id": "U0rArECJspg5",
        "outputId": "63ea18cf-fa51-4b63-a8ea-504aeac2a5ef"
      },
      "source": [
        "perch.head()"
      ],
      "execution_count": 6,
      "outputs": [
        {
          "output_type": "execute_result",
          "data": {
            "text/html": [
              "<div>\n",
              "<style scoped>\n",
              "    .dataframe tbody tr th:only-of-type {\n",
              "        vertical-align: middle;\n",
              "    }\n",
              "\n",
              "    .dataframe tbody tr th {\n",
              "        vertical-align: top;\n",
              "    }\n",
              "\n",
              "    .dataframe thead th {\n",
              "        text-align: right;\n",
              "    }\n",
              "</style>\n",
              "<table border=\"1\" class=\"dataframe\">\n",
              "  <thead>\n",
              "    <tr style=\"text-align: right;\">\n",
              "      <th></th>\n",
              "      <th>Species</th>\n",
              "      <th>Weight</th>\n",
              "      <th>Length1</th>\n",
              "      <th>Length2</th>\n",
              "      <th>Length3</th>\n",
              "      <th>Height</th>\n",
              "      <th>Width</th>\n",
              "    </tr>\n",
              "  </thead>\n",
              "  <tbody>\n",
              "    <tr>\n",
              "      <th>72</th>\n",
              "      <td>Perch</td>\n",
              "      <td>5.9</td>\n",
              "      <td>7.5</td>\n",
              "      <td>8.4</td>\n",
              "      <td>8.8</td>\n",
              "      <td>2.1120</td>\n",
              "      <td>1.4080</td>\n",
              "    </tr>\n",
              "    <tr>\n",
              "      <th>73</th>\n",
              "      <td>Perch</td>\n",
              "      <td>32.0</td>\n",
              "      <td>12.5</td>\n",
              "      <td>13.7</td>\n",
              "      <td>14.7</td>\n",
              "      <td>3.5280</td>\n",
              "      <td>1.9992</td>\n",
              "    </tr>\n",
              "    <tr>\n",
              "      <th>74</th>\n",
              "      <td>Perch</td>\n",
              "      <td>40.0</td>\n",
              "      <td>13.8</td>\n",
              "      <td>15.0</td>\n",
              "      <td>16.0</td>\n",
              "      <td>3.8240</td>\n",
              "      <td>2.4320</td>\n",
              "    </tr>\n",
              "    <tr>\n",
              "      <th>75</th>\n",
              "      <td>Perch</td>\n",
              "      <td>51.5</td>\n",
              "      <td>15.0</td>\n",
              "      <td>16.2</td>\n",
              "      <td>17.2</td>\n",
              "      <td>4.5924</td>\n",
              "      <td>2.6316</td>\n",
              "    </tr>\n",
              "    <tr>\n",
              "      <th>76</th>\n",
              "      <td>Perch</td>\n",
              "      <td>70.0</td>\n",
              "      <td>15.7</td>\n",
              "      <td>17.4</td>\n",
              "      <td>18.5</td>\n",
              "      <td>4.5880</td>\n",
              "      <td>2.9415</td>\n",
              "    </tr>\n",
              "  </tbody>\n",
              "</table>\n",
              "</div>"
            ],
            "text/plain": [
              "   Species  Weight  Length1  Length2  Length3  Height   Width\n",
              "72   Perch     5.9      7.5      8.4      8.8  2.1120  1.4080\n",
              "73   Perch    32.0     12.5     13.7     14.7  3.5280  1.9992\n",
              "74   Perch    40.0     13.8     15.0     16.0  3.8240  2.4320\n",
              "75   Perch    51.5     15.0     16.2     17.2  4.5924  2.6316\n",
              "76   Perch    70.0     15.7     17.4     18.5  4.5880  2.9415"
            ]
          },
          "metadata": {
            "tags": []
          },
          "execution_count": 6
        }
      ]
    },
    {
      "cell_type": "code",
      "metadata": {
        "id": "DnErL9O0tMKS"
      },
      "source": [
        "# 관심 변수(종속 변수): 무게\r\n",
        "perch_weight = perch['Weight'].values"
      ],
      "execution_count": 7,
      "outputs": []
    },
    {
      "cell_type": "code",
      "metadata": {
        "colab": {
          "base_uri": "https://localhost:8080/"
        },
        "id": "g26VKnw2tkIh",
        "outputId": "c92f6c15-ebb9-41bd-c64f-8dd6344d427b"
      },
      "source": [
        "perch_weight"
      ],
      "execution_count": 8,
      "outputs": [
        {
          "output_type": "execute_result",
          "data": {
            "text/plain": [
              "array([   5.9,   32. ,   40. ,   51.5,   70. ,  100. ,   78. ,   80. ,\n",
              "         85. ,   85. ,  110. ,  115. ,  125. ,  130. ,  120. ,  120. ,\n",
              "        130. ,  135. ,  110. ,  130. ,  150. ,  145. ,  150. ,  170. ,\n",
              "        225. ,  145. ,  188. ,  180. ,  197. ,  218. ,  300. ,  260. ,\n",
              "        265. ,  250. ,  250. ,  300. ,  320. ,  514. ,  556. ,  840. ,\n",
              "        685. ,  700. ,  700. ,  690. ,  900. ,  650. ,  820. ,  850. ,\n",
              "        900. , 1015. ,  820. , 1100. , 1000. , 1100. , 1000. , 1000. ])"
            ]
          },
          "metadata": {
            "tags": []
          },
          "execution_count": 8
        }
      ]
    },
    {
      "cell_type": "code",
      "metadata": {
        "id": "8Ub7oysatv9S"
      },
      "source": [
        "# 독립 변수(설명 변수): Length2\r\n",
        "perch_length = perch['Length2'].values"
      ],
      "execution_count": 9,
      "outputs": []
    },
    {
      "cell_type": "code",
      "metadata": {
        "colab": {
          "base_uri": "https://localhost:8080/"
        },
        "id": "D5qVQrf1uDpI",
        "outputId": "b8cecd13-ffe9-4fa3-de3d-371a6efc0efe"
      },
      "source": [
        "perch_length"
      ],
      "execution_count": 10,
      "outputs": [
        {
          "output_type": "execute_result",
          "data": {
            "text/plain": [
              "array([ 8.4, 13.7, 15. , 16.2, 17.4, 18. , 18.7, 19. , 19.6, 20. , 21. ,\n",
              "       21. , 21. , 21.3, 22. , 22. , 22. , 22. , 22. , 22.5, 22.5, 22.7,\n",
              "       23. , 23.5, 24. , 24. , 24.6, 25. , 25.6, 26.5, 27.3, 27.5, 27.5,\n",
              "       27.5, 28. , 28.7, 30. , 32.8, 34.5, 35. , 36.5, 36. , 37. , 37. ,\n",
              "       39. , 39. , 39. , 40. , 40. , 40. , 40. , 42. , 43. , 43. , 43.5,\n",
              "       44. ])"
            ]
          },
          "metadata": {
            "tags": []
          },
          "execution_count": 10
        }
      ]
    },
    {
      "cell_type": "code",
      "metadata": {
        "colab": {
          "base_uri": "https://localhost:8080/",
          "height": 279
        },
        "id": "ES4QzrwHuEd4",
        "outputId": "d526de0a-91f2-4e91-d9bb-c27b2370416c"
      },
      "source": [
        "# weight ~ length 산점도 그래프\r\n",
        "plt.scatter(perch_length, perch_weight)\r\n",
        "\r\n",
        "plt.xlabel('length(cm)')\r\n",
        "plt.ylabel('weight(g)')\r\n",
        "\r\n",
        "plt.show()"
      ],
      "execution_count": 13,
      "outputs": [
        {
          "output_type": "display_data",
          "data": {
            "image/png": "[encoded data removed]",
            "text/plain": [
              "<Figure size 432x288 with 1 Axes>"
            ]
          },
          "metadata": {
            "tags": [],
            "needs_background": "light"
          }
        }
      ]
    },
    {
      "cell_type": "code",
      "metadata": {
        "colab": {
          "base_uri": "https://localhost:8080/"
        },
        "id": "rBN7syJHwJbB",
        "outputId": "bbb2627d-bdee-4f67-f627-db19dade0cbe"
      },
      "source": [
        "perch_weight.shape  #> target - 1차원 배열"
      ],
      "execution_count": 14,
      "outputs": [
        {
          "output_type": "execute_result",
          "data": {
            "text/plain": [
              "(56,)"
            ]
          },
          "metadata": {
            "tags": []
          },
          "execution_count": 14
        }
      ]
    },
    {
      "cell_type": "code",
      "metadata": {
        "colab": {
          "base_uri": "https://localhost:8080/"
        },
        "id": "MiwoErhAwSXy",
        "outputId": "c1e87d66-0d7d-45cc-810a-51698779f56e"
      },
      "source": [
        "perch_length.shape\r\n",
        "# scikit-learn 패키지에서는 데이터는 2차원 배열이어야 함."
      ],
      "execution_count": 15,
      "outputs": [
        {
          "output_type": "execute_result",
          "data": {
            "text/plain": [
              "(56,)"
            ]
          },
          "metadata": {
            "tags": []
          },
          "execution_count": 15
        }
      ]
    },
    {
      "cell_type": "code",
      "metadata": {
        "id": "Es2XlkJ1wopL"
      },
      "source": [
        "X = perch_length[:, np.newaxis]  # 데이터(data): perch_length를 2차원 배열로 변환\r\n",
        "y = perch_weight.copy()  # 타겟(target): perch_weight를 복사"
      ],
      "execution_count": 16,
      "outputs": []
    },
    {
      "cell_type": "code",
      "metadata": {
        "colab": {
          "base_uri": "https://localhost:8080/"
        },
        "id": "ezacpFETxh3x",
        "outputId": "cef62afc-2c9f-45a0-ba27-fd5257109312"
      },
      "source": [
        "X.shape"
      ],
      "execution_count": 17,
      "outputs": [
        {
          "output_type": "execute_result",
          "data": {
            "text/plain": [
              "(56, 1)"
            ]
          },
          "metadata": {
            "tags": []
          },
          "execution_count": 17
        }
      ]
    },
    {
      "cell_type": "code",
      "metadata": {
        "colab": {
          "base_uri": "https://localhost:8080/"
        },
        "id": "cVBrR6mRxjiJ",
        "outputId": "fe5ab438-7d63-4e18-b3c6-22eac2a704df"
      },
      "source": [
        "X[:5]"
      ],
      "execution_count": 19,
      "outputs": [
        {
          "output_type": "execute_result",
          "data": {
            "text/plain": [
              "array([[ 8.4],\n",
              "       [13.7],\n",
              "       [15. ],\n",
              "       [16.2],\n",
              "       [17.4]])"
            ]
          },
          "metadata": {
            "tags": []
          },
          "execution_count": 19
        }
      ]
    },
    {
      "cell_type": "markdown",
      "metadata": {
        "id": "Ntc8v2CnyDIF"
      },
      "source": [
        "\r\n",
        "\r\n",
        "---\r\n",
        "\r\n"
      ]
    },
    {
      "cell_type": "code",
      "metadata": {
        "colab": {
          "base_uri": "https://localhost:8080/"
        },
        "id": "nI5q6Pg1yB8M",
        "outputId": "614c8992-a4d5-4848-bf0e-7bc2059d43e5"
      },
      "source": [
        "perch_length.reshape((56, 1))"
      ],
      "execution_count": 23,
      "outputs": [
        {
          "output_type": "execute_result",
          "data": {
            "text/plain": [
              "array([[ 8.4],\n",
              "       [13.7],\n",
              "       [15. ],\n",
              "       [16.2],\n",
              "       [17.4],\n",
              "       [18. ],\n",
              "       [18.7],\n",
              "       [19. ],\n",
              "       [19.6],\n",
              "       [20. ],\n",
              "       [21. ],\n",
              "       [21. ],\n",
              "       [21. ],\n",
              "       [21.3],\n",
              "       [22. ],\n",
              "       [22. ],\n",
              "       [22. ],\n",
              "       [22. ],\n",
              "       [22. ],\n",
              "       [22.5],\n",
              "       [22.5],\n",
              "       [22.7],\n",
              "       [23. ],\n",
              "       [23.5],\n",
              "       [24. ],\n",
              "       [24. ],\n",
              "       [24.6],\n",
              "       [25. ],\n",
              "       [25.6],\n",
              "       [26.5],\n",
              "       [27.3],\n",
              "       [27.5],\n",
              "       [27.5],\n",
              "       [27.5],\n",
              "       [28. ],\n",
              "       [28.7],\n",
              "       [30. ],\n",
              "       [32.8],\n",
              "       [34.5],\n",
              "       [35. ],\n",
              "       [36.5],\n",
              "       [36. ],\n",
              "       [37. ],\n",
              "       [37. ],\n",
              "       [39. ],\n",
              "       [39. ],\n",
              "       [39. ],\n",
              "       [40. ],\n",
              "       [40. ],\n",
              "       [40. ],\n",
              "       [40. ],\n",
              "       [42. ],\n",
              "       [43. ],\n",
              "       [43. ],\n",
              "       [43.5],\n",
              "       [44. ]])"
            ]
          },
          "metadata": {
            "tags": []
          },
          "execution_count": 23
        }
      ]
    },
    {
      "cell_type": "code",
      "metadata": {
        "colab": {
          "base_uri": "https://localhost:8080/"
        },
        "id": "f-4A7zroyXYb",
        "outputId": "69e27254-17f4-4a41-d42b-fd8c86227bb4"
      },
      "source": [
        "perch_length.reshape((-1, 1))"
      ],
      "execution_count": 25,
      "outputs": [
        {
          "output_type": "execute_result",
          "data": {
            "text/plain": [
              "array([[ 8.4],\n",
              "       [13.7],\n",
              "       [15. ],\n",
              "       [16.2],\n",
              "       [17.4],\n",
              "       [18. ],\n",
              "       [18.7],\n",
              "       [19. ],\n",
              "       [19.6],\n",
              "       [20. ],\n",
              "       [21. ],\n",
              "       [21. ],\n",
              "       [21. ],\n",
              "       [21.3],\n",
              "       [22. ],\n",
              "       [22. ],\n",
              "       [22. ],\n",
              "       [22. ],\n",
              "       [22. ],\n",
              "       [22.5],\n",
              "       [22.5],\n",
              "       [22.7],\n",
              "       [23. ],\n",
              "       [23.5],\n",
              "       [24. ],\n",
              "       [24. ],\n",
              "       [24.6],\n",
              "       [25. ],\n",
              "       [25.6],\n",
              "       [26.5],\n",
              "       [27.3],\n",
              "       [27.5],\n",
              "       [27.5],\n",
              "       [27.5],\n",
              "       [28. ],\n",
              "       [28.7],\n",
              "       [30. ],\n",
              "       [32.8],\n",
              "       [34.5],\n",
              "       [35. ],\n",
              "       [36.5],\n",
              "       [36. ],\n",
              "       [37. ],\n",
              "       [37. ],\n",
              "       [39. ],\n",
              "       [39. ],\n",
              "       [39. ],\n",
              "       [40. ],\n",
              "       [40. ],\n",
              "       [40. ],\n",
              "       [40. ],\n",
              "       [42. ],\n",
              "       [43. ],\n",
              "       [43. ],\n",
              "       [43.5],\n",
              "       [44. ]])"
            ]
          },
          "metadata": {
            "tags": []
          },
          "execution_count": 25
        }
      ]
    },
    {
      "cell_type": "markdown",
      "metadata": {
        "id": "1cQUL4AtyEJ5"
      },
      "source": [
        "\r\n",
        "\r\n",
        "---\r\n",
        "\r\n"
      ]
    },
    {
      "cell_type": "markdown",
      "metadata": {
        "id": "v1SvsVK9y1q6"
      },
      "source": [
        "# Train/Test Split"
      ]
    },
    {
      "cell_type": "code",
      "metadata": {
        "colab": {
          "base_uri": "https://localhost:8080/",
          "height": 265
        },
        "id": "vOJO18IUyFBq",
        "outputId": "c1577e93-9cab-4788-86a5-54b6ce05a010"
      },
      "source": [
        "# 순차적 샘플링\r\n",
        "X_train, X_test = X[:42], X[42:]\r\n",
        "y_train, y_test = y[:42], y[42:]\r\n",
        "\r\n",
        "plt.scatter(X_train, y_train, label='Train Set')\r\n",
        "plt.scatter(X_test, y_test, label='Test Set')\r\n",
        "plt.legend()\r\n",
        "plt.show()"
      ],
      "execution_count": 29,
      "outputs": [
        {
          "output_type": "display_data",
          "data": {
            "image/png": "[encoded data removed]",
            "text/plain": [
              "<Figure size 432x288 with 1 Axes>"
            ]
          },
          "metadata": {
            "tags": [],
            "needs_background": "light"
          }
        }
      ]
    },
    {
      "cell_type": "markdown",
      "metadata": {
        "id": "n1pklUWo4VN6"
      },
      "source": [
        "샘플이 무작위로 섞여 있지 않고 length 순서로 정렬되어 있기 때문에, 훈련/테스트 셋을 나눌 때 순서대로 나누는 것은 좋은 방법이 아님!"
      ]
    },
    {
      "cell_type": "code",
      "metadata": {
        "id": "PauUegIy4UYj"
      },
      "source": [
        "X_train, X_test, y_train, y_test = train_test_split(X, y, \r\n",
        "                                                    test_size=0.25,\r\n",
        "                                                    random_state=42)"
      ],
      "execution_count": 30,
      "outputs": []
    },
    {
      "cell_type": "code",
      "metadata": {
        "colab": {
          "base_uri": "https://localhost:8080/"
        },
        "id": "CtvBOejn5WPD",
        "outputId": "0b8f07e6-2057-47bb-fc74-0c9c8d0cefb0"
      },
      "source": [
        "X_train.shape, y_train.shape"
      ],
      "execution_count": 31,
      "outputs": [
        {
          "output_type": "execute_result",
          "data": {
            "text/plain": [
              "((42, 1), (42,))"
            ]
          },
          "metadata": {
            "tags": []
          },
          "execution_count": 31
        }
      ]
    },
    {
      "cell_type": "code",
      "metadata": {
        "colab": {
          "base_uri": "https://localhost:8080/",
          "height": 279
        },
        "id": "lj7EFTAv5iMS",
        "outputId": "4903ab86-aea8-436e-e1a0-155323ca8f21"
      },
      "source": [
        "plt.scatter(X_train, y_train, label='Train Set')\r\n",
        "plt.scatter(X_test, y_test, label='Test Set')\r\n",
        "\r\n",
        "plt.legend()\r\n",
        "plt.xlabel('length(cm)')\r\n",
        "plt.ylabel('weight(g)')\r\n",
        "\r\n",
        "plt.show()"
      ],
      "execution_count": 32,
      "outputs": [
        {
          "output_type": "display_data",
          "data": {
            "image/png": "[encoded data removed]",
            "text/plain": [
              "<Figure size 432x288 with 1 Axes>"
            ]
          },
          "metadata": {
            "tags": [],
            "needs_background": "light"
          }
        }
      ]
    },
    {
      "cell_type": "markdown",
      "metadata": {
        "id": "_76fVIYY6LNz"
      },
      "source": [
        "# kNN(k-Nearest Neighbors) Regressor 학습/평가"
      ]
    },
    {
      "cell_type": "code",
      "metadata": {
        "id": "_BSSXkni7qsj"
      },
      "source": [
        "knn_reg = KNeighborsRegressor()  # 모델 생성"
      ],
      "execution_count": 33,
      "outputs": []
    },
    {
      "cell_type": "code",
      "metadata": {
        "colab": {
          "base_uri": "https://localhost:8080/"
        },
        "id": "3GQ1Scm-7zL9",
        "outputId": "6dde83ec-8aec-45df-e971-b35abcec2651"
      },
      "source": [
        "knn_reg.fit(X_train, y_train)  # 훈련 셋으로 모델 학습"
      ],
      "execution_count": 36,
      "outputs": [
        {
          "output_type": "execute_result",
          "data": {
            "text/plain": [
              "KNeighborsRegressor(algorithm='auto', leaf_size=30, metric='minkowski',\n",
              "                    metric_params=None, n_jobs=None, n_neighbors=5, p=2,\n",
              "                    weights='uniform')"
            ]
          },
          "metadata": {
            "tags": []
          },
          "execution_count": 36
        }
      ]
    },
    {
      "cell_type": "code",
      "metadata": {
        "colab": {
          "base_uri": "https://localhost:8080/"
        },
        "id": "yI2Wiebf88fC",
        "outputId": "b5f8de3c-a013-4599-faf9-ebe6d0b0f51e"
      },
      "source": [
        "# 훈련 셋의 예측값\r\n",
        "train_pred = knn_reg.predict(X_train)\r\n",
        "train_pred"
      ],
      "execution_count": 37,
      "outputs": [
        {
          "output_type": "execute_result",
          "data": {
            "text/plain": [
              "array([  88.6,  123. ,   79.6,   70.6,  723. ,  193. ,  847. ,  847. ,\n",
              "       1010. ,  123. ,   95. ,  123. ,  174. ,  248. , 1010. ,  847. ,\n",
              "        174. ,  113. ,  248. ,  847. ,  659. ,  224. ,  723. ,   60. ,\n",
              "        140. ,   60. ,  719. ,  694.2,  248. ,  167. ,  847. ,  113. ,\n",
              "        168. ,  123. , 1010. ,  136. ,   79.6,  719. ,  123. ,  193. ,\n",
              "        990. ,  659. ])"
            ]
          },
          "metadata": {
            "tags": []
          },
          "execution_count": 37
        }
      ]
    },
    {
      "cell_type": "code",
      "metadata": {
        "colab": {
          "base_uri": "https://localhost:8080/"
        },
        "id": "LN8-O77c9Ohj",
        "outputId": "cdc385d1-367f-4ef6-b8a9-039a6e5cb2b0"
      },
      "source": [
        "# 훈련 셋의 타겟(실제값)\r\n",
        "y_train"
      ],
      "execution_count": 38,
      "outputs": [
        {
          "output_type": "execute_result",
          "data": {
            "text/plain": [
              "array([  85.,  135.,   78.,   70.,  700.,  180.,  850.,  820., 1000.,\n",
              "        120.,   85.,  130.,  225.,  260., 1100.,  900.,  145.,  115.,\n",
              "        265., 1015.,  514.,  218.,  685.,   32.,  145.,   40.,  690.,\n",
              "        840.,  300.,  170.,  650.,  110.,  150.,  110., 1000.,  150.,\n",
              "         80.,  700.,  120.,  197., 1100.,  556.])"
            ]
          },
          "metadata": {
            "tags": []
          },
          "execution_count": 38
        }
      ]
    },
    {
      "cell_type": "code",
      "metadata": {
        "colab": {
          "base_uri": "https://localhost:8080/"
        },
        "id": "i6jC66OP-Brb",
        "outputId": "40c0133b-d1a1-4967-871f-841605591f2e"
      },
      "source": [
        "knn_reg.score(X_train, y_train)\r\n",
        "#> R^2 score(coefficient of determinant, 결정계수)"
      ],
      "execution_count": 39,
      "outputs": [
        {
          "output_type": "execute_result",
          "data": {
            "text/plain": [
              "0.9698823289099255"
            ]
          },
          "metadata": {
            "tags": []
          },
          "execution_count": 39
        }
      ]
    },
    {
      "cell_type": "markdown",
      "metadata": {
        "id": "04qs2M5MBFKk"
      },
      "source": [
        ""
      ]
    }
  ]
}