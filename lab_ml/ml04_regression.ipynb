{
  "nbformat": 4,
  "nbformat_minor": 0,
  "metadata": {
    "colab": {
      "name": "ml04_regression.ipynb",
      "provenance": [],
      "collapsed_sections": [],
      "authorship_tag": "ABX9TyPDGDIUzEp/emy+dDd5nnqr",
      "include_colab_link": true
    },
    "kernelspec": {
      "name": "python3",
      "display_name": "Python 3"
    }
  },
  "cells": [
    {
      "cell_type": "markdown",
      "metadata": {
        "id": "view-in-github",
        "colab_type": "text"
      },
      "source": [
        "<a href=\"https://colab.research.google.com/github/JakeOh/202011_itw_bd21/blob/main/lab_ml/ml04_regression.ipynb\" target=\"_parent\"><img src=\"https://colab.research.google.com/assets/colab-badge.svg\" alt=\"Open In Colab\"/></a>"
      ]
    },
    {
      "cell_type": "markdown",
      "metadata": {
        "id": "9boUW_vsoiaK"
      },
      "source": [
        "\r\n",
        "*   지도 학습(Supervised Learning)\r\n",
        "    *   분류(Classification)\r\n",
        "    *   회귀(Regression)\r\n"
      ]
    },
    {
      "cell_type": "markdown",
      "metadata": {
        "id": "NFCoMi7OpEpY"
      },
      "source": [
        "# Imports"
      ]
    },
    {
      "cell_type": "code",
      "metadata": {
        "id": "vZ6CNxpcklSi"
      },
      "source": [
        "import numpy as np\r\n",
        "import pandas as pd\r\n",
        "import matplotlib.pyplot as plt\r\n",
        "import seaborn as sns\r\n",
        "\r\n",
        "from sklearn.model_selection import train_test_split\r\n",
        "from sklearn.neighbors import KNeighborsRegressor\r\n",
        "from sklearn.linear_model import LinearRegression\r\n",
        "from sklearn.metrics import mean_absolute_error, mean_squared_error, r2_score\r\n",
        "from sklearn.preprocessing import StandardScaler, PolynomialFeatures\r\n",
        "from sklearn.pipeline import Pipeline"
      ],
      "execution_count": 1,
      "outputs": []
    },
    {
      "cell_type": "markdown",
      "metadata": {
        "id": "oW-h45mLryDw"
      },
      "source": [
        "# 데이터 준비"
      ]
    },
    {
      "cell_type": "markdown",
      "metadata": {
        "id": "j4FgjwNkr27A"
      },
      "source": [
        "Fish market 데이터에서 농어(Perch)의 무게를 농어의 길이로 예측"
      ]
    },
    {
      "cell_type": "code",
      "metadata": {
        "id": "eUAIkdWorMO7"
      },
      "source": [
        "file_path = 'https://github.com/JakeOh/202011_itw_bd21/raw/main/datasets/Fish.csv'"
      ],
      "execution_count": 2,
      "outputs": []
    },
    {
      "cell_type": "code",
      "metadata": {
        "id": "GQ_ZO1eIsfGR"
      },
      "source": [
        "fish_df = pd.read_csv(file_path)"
      ],
      "execution_count": 3,
      "outputs": []
    },
    {
      "cell_type": "code",
      "metadata": {
        "colab": {
          "base_uri": "https://localhost:8080/",
          "height": 214
        },
        "id": "d80IkSASsnyp",
        "outputId": "443d4388-53f0-4ee8-a086-0ac2e9367668"
      },
      "source": [
        "fish_df.head()"
      ],
      "execution_count": 4,
      "outputs": [
        {
          "output_type": "execute_result",
          "data": {
            "text/html": [
              "<div>\n",
              "<style scoped>\n",
              "    .dataframe tbody tr th:only-of-type {\n",
              "        vertical-align: middle;\n",
              "    }\n",
              "\n",
              "    .dataframe tbody tr th {\n",
              "        vertical-align: top;\n",
              "    }\n",
              "\n",
              "    .dataframe thead th {\n",
              "        text-align: right;\n",
              "    }\n",
              "</style>\n",
              "<table border=\"1\" class=\"dataframe\">\n",
              "  <thead>\n",
              "    <tr style=\"text-align: right;\">\n",
              "      <th></th>\n",
              "      <th>Species</th>\n",
              "      <th>Weight</th>\n",
              "      <th>Length1</th>\n",
              "      <th>Length2</th>\n",
              "      <th>Length3</th>\n",
              "      <th>Height</th>\n",
              "      <th>Width</th>\n",
              "    </tr>\n",
              "  </thead>\n",
              "  <tbody>\n",
              "    <tr>\n",
              "      <th>0</th>\n",
              "      <td>Bream</td>\n",
              "      <td>242.0</td>\n",
              "      <td>23.2</td>\n",
              "      <td>25.4</td>\n",
              "      <td>30.0</td>\n",
              "      <td>11.5200</td>\n",
              "      <td>4.0200</td>\n",
              "    </tr>\n",
              "    <tr>\n",
              "      <th>1</th>\n",
              "      <td>Bream</td>\n",
              "      <td>290.0</td>\n",
              "      <td>24.0</td>\n",
              "      <td>26.3</td>\n",
              "      <td>31.2</td>\n",
              "      <td>12.4800</td>\n",
              "      <td>4.3056</td>\n",
              "    </tr>\n",
              "    <tr>\n",
              "      <th>2</th>\n",
              "      <td>Bream</td>\n",
              "      <td>340.0</td>\n",
              "      <td>23.9</td>\n",
              "      <td>26.5</td>\n",
              "      <td>31.1</td>\n",
              "      <td>12.3778</td>\n",
              "      <td>4.6961</td>\n",
              "    </tr>\n",
              "    <tr>\n",
              "      <th>3</th>\n",
              "      <td>Bream</td>\n",
              "      <td>363.0</td>\n",
              "      <td>26.3</td>\n",
              "      <td>29.0</td>\n",
              "      <td>33.5</td>\n",
              "      <td>12.7300</td>\n",
              "      <td>4.4555</td>\n",
              "    </tr>\n",
              "    <tr>\n",
              "      <th>4</th>\n",
              "      <td>Bream</td>\n",
              "      <td>430.0</td>\n",
              "      <td>26.5</td>\n",
              "      <td>29.0</td>\n",
              "      <td>34.0</td>\n",
              "      <td>12.4440</td>\n",
              "      <td>5.1340</td>\n",
              "    </tr>\n",
              "  </tbody>\n",
              "</table>\n",
              "</div>"
            ],
            "text/plain": [
              "  Species  Weight  Length1  Length2  Length3   Height   Width\n",
              "0   Bream   242.0     23.2     25.4     30.0  11.5200  4.0200\n",
              "1   Bream   290.0     24.0     26.3     31.2  12.4800  4.3056\n",
              "2   Bream   340.0     23.9     26.5     31.1  12.3778  4.6961\n",
              "3   Bream   363.0     26.3     29.0     33.5  12.7300  4.4555\n",
              "4   Bream   430.0     26.5     29.0     34.0  12.4440  5.1340"
            ]
          },
          "metadata": {
            "tags": []
          },
          "execution_count": 4
        }
      ]
    },
    {
      "cell_type": "code",
      "metadata": {
        "id": "-0ib53gfs5Xh"
      },
      "source": [
        "# Perch(농어) 부분집합\r\n",
        "perch = fish_df[fish_df['Species'] == 'Perch']"
      ],
      "execution_count": 5,
      "outputs": []
    },
    {
      "cell_type": "code",
      "metadata": {
        "colab": {
          "base_uri": "https://localhost:8080/",
          "height": 214
        },
        "id": "U0rArECJspg5",
        "outputId": "f6365dfd-cfff-457b-e66a-f4da4611e322"
      },
      "source": [
        "perch.head()"
      ],
      "execution_count": 6,
      "outputs": [
        {
          "output_type": "execute_result",
          "data": {
            "text/html": [
              "<div>\n",
              "<style scoped>\n",
              "    .dataframe tbody tr th:only-of-type {\n",
              "        vertical-align: middle;\n",
              "    }\n",
              "\n",
              "    .dataframe tbody tr th {\n",
              "        vertical-align: top;\n",
              "    }\n",
              "\n",
              "    .dataframe thead th {\n",
              "        text-align: right;\n",
              "    }\n",
              "</style>\n",
              "<table border=\"1\" class=\"dataframe\">\n",
              "  <thead>\n",
              "    <tr style=\"text-align: right;\">\n",
              "      <th></th>\n",
              "      <th>Species</th>\n",
              "      <th>Weight</th>\n",
              "      <th>Length1</th>\n",
              "      <th>Length2</th>\n",
              "      <th>Length3</th>\n",
              "      <th>Height</th>\n",
              "      <th>Width</th>\n",
              "    </tr>\n",
              "  </thead>\n",
              "  <tbody>\n",
              "    <tr>\n",
              "      <th>72</th>\n",
              "      <td>Perch</td>\n",
              "      <td>5.9</td>\n",
              "      <td>7.5</td>\n",
              "      <td>8.4</td>\n",
              "      <td>8.8</td>\n",
              "      <td>2.1120</td>\n",
              "      <td>1.4080</td>\n",
              "    </tr>\n",
              "    <tr>\n",
              "      <th>73</th>\n",
              "      <td>Perch</td>\n",
              "      <td>32.0</td>\n",
              "      <td>12.5</td>\n",
              "      <td>13.7</td>\n",
              "      <td>14.7</td>\n",
              "      <td>3.5280</td>\n",
              "      <td>1.9992</td>\n",
              "    </tr>\n",
              "    <tr>\n",
              "      <th>74</th>\n",
              "      <td>Perch</td>\n",
              "      <td>40.0</td>\n",
              "      <td>13.8</td>\n",
              "      <td>15.0</td>\n",
              "      <td>16.0</td>\n",
              "      <td>3.8240</td>\n",
              "      <td>2.4320</td>\n",
              "    </tr>\n",
              "    <tr>\n",
              "      <th>75</th>\n",
              "      <td>Perch</td>\n",
              "      <td>51.5</td>\n",
              "      <td>15.0</td>\n",
              "      <td>16.2</td>\n",
              "      <td>17.2</td>\n",
              "      <td>4.5924</td>\n",
              "      <td>2.6316</td>\n",
              "    </tr>\n",
              "    <tr>\n",
              "      <th>76</th>\n",
              "      <td>Perch</td>\n",
              "      <td>70.0</td>\n",
              "      <td>15.7</td>\n",
              "      <td>17.4</td>\n",
              "      <td>18.5</td>\n",
              "      <td>4.5880</td>\n",
              "      <td>2.9415</td>\n",
              "    </tr>\n",
              "  </tbody>\n",
              "</table>\n",
              "</div>"
            ],
            "text/plain": [
              "   Species  Weight  Length1  Length2  Length3  Height   Width\n",
              "72   Perch     5.9      7.5      8.4      8.8  2.1120  1.4080\n",
              "73   Perch    32.0     12.5     13.7     14.7  3.5280  1.9992\n",
              "74   Perch    40.0     13.8     15.0     16.0  3.8240  2.4320\n",
              "75   Perch    51.5     15.0     16.2     17.2  4.5924  2.6316\n",
              "76   Perch    70.0     15.7     17.4     18.5  4.5880  2.9415"
            ]
          },
          "metadata": {
            "tags": []
          },
          "execution_count": 6
        }
      ]
    },
    {
      "cell_type": "code",
      "metadata": {
        "id": "DnErL9O0tMKS"
      },
      "source": [
        "# 관심 변수(종속 변수): 무게\r\n",
        "perch_weight = perch['Weight'].values"
      ],
      "execution_count": 7,
      "outputs": []
    },
    {
      "cell_type": "code",
      "metadata": {
        "colab": {
          "base_uri": "https://localhost:8080/"
        },
        "id": "g26VKnw2tkIh",
        "outputId": "1b9a3041-f56c-41f8-b433-d14ad7bf846b"
      },
      "source": [
        "perch_weight"
      ],
      "execution_count": 8,
      "outputs": [
        {
          "output_type": "execute_result",
          "data": {
            "text/plain": [
              "array([   5.9,   32. ,   40. ,   51.5,   70. ,  100. ,   78. ,   80. ,\n",
              "         85. ,   85. ,  110. ,  115. ,  125. ,  130. ,  120. ,  120. ,\n",
              "        130. ,  135. ,  110. ,  130. ,  150. ,  145. ,  150. ,  170. ,\n",
              "        225. ,  145. ,  188. ,  180. ,  197. ,  218. ,  300. ,  260. ,\n",
              "        265. ,  250. ,  250. ,  300. ,  320. ,  514. ,  556. ,  840. ,\n",
              "        685. ,  700. ,  700. ,  690. ,  900. ,  650. ,  820. ,  850. ,\n",
              "        900. , 1015. ,  820. , 1100. , 1000. , 1100. , 1000. , 1000. ])"
            ]
          },
          "metadata": {
            "tags": []
          },
          "execution_count": 8
        }
      ]
    },
    {
      "cell_type": "code",
      "metadata": {
        "id": "8Ub7oysatv9S"
      },
      "source": [
        "# 독립 변수(설명 변수): Length2\r\n",
        "perch_length = perch['Length2'].values"
      ],
      "execution_count": 9,
      "outputs": []
    },
    {
      "cell_type": "code",
      "metadata": {
        "colab": {
          "base_uri": "https://localhost:8080/"
        },
        "id": "D5qVQrf1uDpI",
        "outputId": "8b78ab67-33c5-4735-a4ab-3adfc193cb64"
      },
      "source": [
        "perch_length"
      ],
      "execution_count": 10,
      "outputs": [
        {
          "output_type": "execute_result",
          "data": {
            "text/plain": [
              "array([ 8.4, 13.7, 15. , 16.2, 17.4, 18. , 18.7, 19. , 19.6, 20. , 21. ,\n",
              "       21. , 21. , 21.3, 22. , 22. , 22. , 22. , 22. , 22.5, 22.5, 22.7,\n",
              "       23. , 23.5, 24. , 24. , 24.6, 25. , 25.6, 26.5, 27.3, 27.5, 27.5,\n",
              "       27.5, 28. , 28.7, 30. , 32.8, 34.5, 35. , 36.5, 36. , 37. , 37. ,\n",
              "       39. , 39. , 39. , 40. , 40. , 40. , 40. , 42. , 43. , 43. , 43.5,\n",
              "       44. ])"
            ]
          },
          "metadata": {
            "tags": []
          },
          "execution_count": 10
        }
      ]
    },
    {
      "cell_type": "code",
      "metadata": {
        "colab": {
          "base_uri": "https://localhost:8080/",
          "height": 279
        },
        "id": "ES4QzrwHuEd4",
        "outputId": "6de0e0b1-6ac1-4d38-d1a5-91cc3cbddc11"
      },
      "source": [
        "# weight ~ length 산점도 그래프\r\n",
        "plt.scatter(perch_length, perch_weight)\r\n",
        "\r\n",
        "plt.xlabel('length(cm)')\r\n",
        "plt.ylabel('weight(g)')\r\n",
        "\r\n",
        "plt.show()"
      ],
      "execution_count": 11,
      "outputs": [
        {
          "output_type": "display_data",
          "data": {
            "image/png": "[encoded data removed]",
            "text/plain": [
              "<Figure size 432x288 with 1 Axes>"
            ]
          },
          "metadata": {
            "tags": [],
            "needs_background": "light"
          }
        }
      ]
    },
    {
      "cell_type": "code",
      "metadata": {
        "colab": {
          "base_uri": "https://localhost:8080/"
        },
        "id": "rBN7syJHwJbB",
        "outputId": "3d2a8a9e-3950-44a0-db06-842a15c70853"
      },
      "source": [
        "perch_weight.shape  #> target - 1차원 배열"
      ],
      "execution_count": 12,
      "outputs": [
        {
          "output_type": "execute_result",
          "data": {
            "text/plain": [
              "(56,)"
            ]
          },
          "metadata": {
            "tags": []
          },
          "execution_count": 12
        }
      ]
    },
    {
      "cell_type": "code",
      "metadata": {
        "colab": {
          "base_uri": "https://localhost:8080/"
        },
        "id": "MiwoErhAwSXy",
        "outputId": "7e817168-596b-4334-cdb8-6ca658294338"
      },
      "source": [
        "perch_length.shape\r\n",
        "# scikit-learn 패키지에서는 데이터는 2차원 배열이어야 함."
      ],
      "execution_count": 13,
      "outputs": [
        {
          "output_type": "execute_result",
          "data": {
            "text/plain": [
              "(56,)"
            ]
          },
          "metadata": {
            "tags": []
          },
          "execution_count": 13
        }
      ]
    },
    {
      "cell_type": "code",
      "metadata": {
        "id": "Es2XlkJ1wopL"
      },
      "source": [
        "X = perch_length[:, np.newaxis]  # 데이터(data): perch_length를 2차원 배열로 변환\r\n",
        "y = perch_weight.copy()  # 타겟(target): perch_weight를 복사"
      ],
      "execution_count": 14,
      "outputs": []
    },
    {
      "cell_type": "code",
      "metadata": {
        "colab": {
          "base_uri": "https://localhost:8080/"
        },
        "id": "ezacpFETxh3x",
        "outputId": "bc2eeacd-5578-4b4f-ddfb-85b7d126ae32"
      },
      "source": [
        "X.shape"
      ],
      "execution_count": 15,
      "outputs": [
        {
          "output_type": "execute_result",
          "data": {
            "text/plain": [
              "(56, 1)"
            ]
          },
          "metadata": {
            "tags": []
          },
          "execution_count": 15
        }
      ]
    },
    {
      "cell_type": "code",
      "metadata": {
        "colab": {
          "base_uri": "https://localhost:8080/"
        },
        "id": "cVBrR6mRxjiJ",
        "outputId": "08f8be7e-96e3-44d5-813c-f729e2f7a58e"
      },
      "source": [
        "X[:5]"
      ],
      "execution_count": 16,
      "outputs": [
        {
          "output_type": "execute_result",
          "data": {
            "text/plain": [
              "array([[ 8.4],\n",
              "       [13.7],\n",
              "       [15. ],\n",
              "       [16.2],\n",
              "       [17.4]])"
            ]
          },
          "metadata": {
            "tags": []
          },
          "execution_count": 16
        }
      ]
    },
    {
      "cell_type": "markdown",
      "metadata": {
        "id": "Ntc8v2CnyDIF"
      },
      "source": [
        "\r\n",
        "\r\n",
        "---\r\n",
        "\r\n"
      ]
    },
    {
      "cell_type": "code",
      "metadata": {
        "colab": {
          "base_uri": "https://localhost:8080/"
        },
        "id": "nI5q6Pg1yB8M",
        "outputId": "979f19da-97b2-407e-98eb-47b980397650"
      },
      "source": [
        "perch_length.reshape((56, 1))"
      ],
      "execution_count": 17,
      "outputs": [
        {
          "output_type": "execute_result",
          "data": {
            "text/plain": [
              "array([[ 8.4],\n",
              "       [13.7],\n",
              "       [15. ],\n",
              "       [16.2],\n",
              "       [17.4],\n",
              "       [18. ],\n",
              "       [18.7],\n",
              "       [19. ],\n",
              "       [19.6],\n",
              "       [20. ],\n",
              "       [21. ],\n",
              "       [21. ],\n",
              "       [21. ],\n",
              "       [21.3],\n",
              "       [22. ],\n",
              "       [22. ],\n",
              "       [22. ],\n",
              "       [22. ],\n",
              "       [22. ],\n",
              "       [22.5],\n",
              "       [22.5],\n",
              "       [22.7],\n",
              "       [23. ],\n",
              "       [23.5],\n",
              "       [24. ],\n",
              "       [24. ],\n",
              "       [24.6],\n",
              "       [25. ],\n",
              "       [25.6],\n",
              "       [26.5],\n",
              "       [27.3],\n",
              "       [27.5],\n",
              "       [27.5],\n",
              "       [27.5],\n",
              "       [28. ],\n",
              "       [28.7],\n",
              "       [30. ],\n",
              "       [32.8],\n",
              "       [34.5],\n",
              "       [35. ],\n",
              "       [36.5],\n",
              "       [36. ],\n",
              "       [37. ],\n",
              "       [37. ],\n",
              "       [39. ],\n",
              "       [39. ],\n",
              "       [39. ],\n",
              "       [40. ],\n",
              "       [40. ],\n",
              "       [40. ],\n",
              "       [40. ],\n",
              "       [42. ],\n",
              "       [43. ],\n",
              "       [43. ],\n",
              "       [43.5],\n",
              "       [44. ]])"
            ]
          },
          "metadata": {
            "tags": []
          },
          "execution_count": 17
        }
      ]
    },
    {
      "cell_type": "code",
      "metadata": {
        "colab": {
          "base_uri": "https://localhost:8080/"
        },
        "id": "f-4A7zroyXYb",
        "outputId": "c932fb1e-652d-4b35-ad8f-e88bc7ab0d74"
      },
      "source": [
        "perch_length.reshape((-1, 1))"
      ],
      "execution_count": 18,
      "outputs": [
        {
          "output_type": "execute_result",
          "data": {
            "text/plain": [
              "array([[ 8.4],\n",
              "       [13.7],\n",
              "       [15. ],\n",
              "       [16.2],\n",
              "       [17.4],\n",
              "       [18. ],\n",
              "       [18.7],\n",
              "       [19. ],\n",
              "       [19.6],\n",
              "       [20. ],\n",
              "       [21. ],\n",
              "       [21. ],\n",
              "       [21. ],\n",
              "       [21.3],\n",
              "       [22. ],\n",
              "       [22. ],\n",
              "       [22. ],\n",
              "       [22. ],\n",
              "       [22. ],\n",
              "       [22.5],\n",
              "       [22.5],\n",
              "       [22.7],\n",
              "       [23. ],\n",
              "       [23.5],\n",
              "       [24. ],\n",
              "       [24. ],\n",
              "       [24.6],\n",
              "       [25. ],\n",
              "       [25.6],\n",
              "       [26.5],\n",
              "       [27.3],\n",
              "       [27.5],\n",
              "       [27.5],\n",
              "       [27.5],\n",
              "       [28. ],\n",
              "       [28.7],\n",
              "       [30. ],\n",
              "       [32.8],\n",
              "       [34.5],\n",
              "       [35. ],\n",
              "       [36.5],\n",
              "       [36. ],\n",
              "       [37. ],\n",
              "       [37. ],\n",
              "       [39. ],\n",
              "       [39. ],\n",
              "       [39. ],\n",
              "       [40. ],\n",
              "       [40. ],\n",
              "       [40. ],\n",
              "       [40. ],\n",
              "       [42. ],\n",
              "       [43. ],\n",
              "       [43. ],\n",
              "       [43.5],\n",
              "       [44. ]])"
            ]
          },
          "metadata": {
            "tags": []
          },
          "execution_count": 18
        }
      ]
    },
    {
      "cell_type": "markdown",
      "metadata": {
        "id": "1cQUL4AtyEJ5"
      },
      "source": [
        "\r\n",
        "\r\n",
        "---\r\n",
        "\r\n"
      ]
    },
    {
      "cell_type": "markdown",
      "metadata": {
        "id": "v1SvsVK9y1q6"
      },
      "source": [
        "# Train/Test Split"
      ]
    },
    {
      "cell_type": "code",
      "metadata": {
        "colab": {
          "base_uri": "https://localhost:8080/",
          "height": 265
        },
        "id": "vOJO18IUyFBq",
        "outputId": "e64ee9a9-5f32-41c6-e11c-3bbb04e25349"
      },
      "source": [
        "# 순차적 샘플링\r\n",
        "X_train, X_test = X[:42], X[42:]\r\n",
        "y_train, y_test = y[:42], y[42:]\r\n",
        "\r\n",
        "plt.scatter(X_train, y_train, label='Train Set')\r\n",
        "plt.scatter(X_test, y_test, label='Test Set')\r\n",
        "plt.legend()\r\n",
        "plt.show()"
      ],
      "execution_count": 19,
      "outputs": [
        {
          "output_type": "display_data",
          "data": {
            "image/png": "[encoded data removed]",
            "text/plain": [
              "<Figure size 432x288 with 1 Axes>"
            ]
          },
          "metadata": {
            "tags": [],
            "needs_background": "light"
          }
        }
      ]
    },
    {
      "cell_type": "markdown",
      "metadata": {
        "id": "n1pklUWo4VN6"
      },
      "source": [
        "샘플이 무작위로 섞여 있지 않고 length 순서로 정렬되어 있기 때문에, 훈련/테스트 셋을 나눌 때 순서대로 나누는 것은 좋은 방법이 아님!"
      ]
    },
    {
      "cell_type": "code",
      "metadata": {
        "id": "PauUegIy4UYj"
      },
      "source": [
        "X_train, X_test, y_train, y_test = train_test_split(X, y, \r\n",
        "                                                    test_size=0.25,\r\n",
        "                                                    random_state=42)"
      ],
      "execution_count": 20,
      "outputs": []
    },
    {
      "cell_type": "code",
      "metadata": {
        "colab": {
          "base_uri": "https://localhost:8080/"
        },
        "id": "CtvBOejn5WPD",
        "outputId": "d83d99fc-e2bd-400b-91ec-48feade5954d"
      },
      "source": [
        "X_train.shape, y_train.shape"
      ],
      "execution_count": 21,
      "outputs": [
        {
          "output_type": "execute_result",
          "data": {
            "text/plain": [
              "((42, 1), (42,))"
            ]
          },
          "metadata": {
            "tags": []
          },
          "execution_count": 21
        }
      ]
    },
    {
      "cell_type": "code",
      "metadata": {
        "colab": {
          "base_uri": "https://localhost:8080/",
          "height": 279
        },
        "id": "lj7EFTAv5iMS",
        "outputId": "fc8c8582-0cd9-41b2-c973-9bfa889d27a9"
      },
      "source": [
        "plt.scatter(X_train, y_train, label='Train Set')\r\n",
        "plt.scatter(X_test, y_test, label='Test Set')\r\n",
        "\r\n",
        "plt.legend()\r\n",
        "plt.xlabel('length(cm)')\r\n",
        "plt.ylabel('weight(g)')\r\n",
        "\r\n",
        "plt.show()"
      ],
      "execution_count": 22,
      "outputs": [
        {
          "output_type": "display_data",
          "data": {
            "image/png": "[encoded data removed]",
            "text/plain": [
              "<Figure size 432x288 with 1 Axes>"
            ]
          },
          "metadata": {
            "tags": [],
            "needs_background": "light"
          }
        }
      ]
    },
    {
      "cell_type": "markdown",
      "metadata": {
        "id": "_76fVIYY6LNz"
      },
      "source": [
        "# kNN(k-Nearest Neighbors) Regressor 학습/평가"
      ]
    },
    {
      "cell_type": "code",
      "metadata": {
        "id": "_BSSXkni7qsj"
      },
      "source": [
        "knn_reg = KNeighborsRegressor()  # 모델 생성"
      ],
      "execution_count": 23,
      "outputs": []
    },
    {
      "cell_type": "code",
      "metadata": {
        "colab": {
          "base_uri": "https://localhost:8080/"
        },
        "id": "3GQ1Scm-7zL9",
        "outputId": "c96e3fc2-bb72-44e4-e7d0-be8358548eda"
      },
      "source": [
        "knn_reg.fit(X_train, y_train)  # 훈련 셋으로 모델 학습"
      ],
      "execution_count": 24,
      "outputs": [
        {
          "output_type": "execute_result",
          "data": {
            "text/plain": [
              "KNeighborsRegressor(algorithm='auto', leaf_size=30, metric='minkowski',\n",
              "                    metric_params=None, n_jobs=None, n_neighbors=5, p=2,\n",
              "                    weights='uniform')"
            ]
          },
          "metadata": {
            "tags": []
          },
          "execution_count": 24
        }
      ]
    },
    {
      "cell_type": "code",
      "metadata": {
        "colab": {
          "base_uri": "https://localhost:8080/"
        },
        "id": "yI2Wiebf88fC",
        "outputId": "dd06e2a1-b983-4ed8-f25b-ed98dcb466e6"
      },
      "source": [
        "# 훈련 셋의 예측값\r\n",
        "train_pred = knn_reg.predict(X_train)\r\n",
        "train_pred"
      ],
      "execution_count": 25,
      "outputs": [
        {
          "output_type": "execute_result",
          "data": {
            "text/plain": [
              "array([  88.6,  123. ,   79.6,   70.6,  723. ,  193. ,  847. ,  847. ,\n",
              "       1010. ,  123. ,   95. ,  123. ,  174. ,  248. , 1010. ,  847. ,\n",
              "        174. ,  113. ,  248. ,  847. ,  659. ,  224. ,  723. ,   60. ,\n",
              "        140. ,   60. ,  719. ,  694.2,  248. ,  167. ,  847. ,  113. ,\n",
              "        168. ,  123. , 1010. ,  136. ,   79.6,  719. ,  123. ,  193. ,\n",
              "        990. ,  659. ])"
            ]
          },
          "metadata": {
            "tags": []
          },
          "execution_count": 25
        }
      ]
    },
    {
      "cell_type": "code",
      "metadata": {
        "colab": {
          "base_uri": "https://localhost:8080/"
        },
        "id": "LN8-O77c9Ohj",
        "outputId": "89eac9cf-d099-44e4-8e6a-ef4ec978d01c"
      },
      "source": [
        "# 훈련 셋의 타겟(실제값)\r\n",
        "y_train"
      ],
      "execution_count": 26,
      "outputs": [
        {
          "output_type": "execute_result",
          "data": {
            "text/plain": [
              "array([  85.,  135.,   78.,   70.,  700.,  180.,  850.,  820., 1000.,\n",
              "        120.,   85.,  130.,  225.,  260., 1100.,  900.,  145.,  115.,\n",
              "        265., 1015.,  514.,  218.,  685.,   32.,  145.,   40.,  690.,\n",
              "        840.,  300.,  170.,  650.,  110.,  150.,  110., 1000.,  150.,\n",
              "         80.,  700.,  120.,  197., 1100.,  556.])"
            ]
          },
          "metadata": {
            "tags": []
          },
          "execution_count": 26
        }
      ]
    },
    {
      "cell_type": "code",
      "metadata": {
        "colab": {
          "base_uri": "https://localhost:8080/"
        },
        "id": "i6jC66OP-Brb",
        "outputId": "0f3f5edc-3867-4a1d-b5e0-30e29b2dc18b"
      },
      "source": [
        "knn_reg.score(X_train, y_train)\r\n",
        "#> R^2 score(coefficient of determinant, 결정계수)"
      ],
      "execution_count": 27,
      "outputs": [
        {
          "output_type": "execute_result",
          "data": {
            "text/plain": [
              "0.9698823289099255"
            ]
          },
          "metadata": {
            "tags": []
          },
          "execution_count": 27
        }
      ]
    },
    {
      "cell_type": "markdown",
      "metadata": {
        "id": "04qs2M5MBFKk"
      },
      "source": [
        "**Coefficient of determinant(결정 계수) $R^2$**\r\n",
        "\r\n",
        "\r\n",
        "$R^2 = 1 - \\dfrac{\\sum{(target - prediction)^2}}{\\sum{(target - mean)^2}}$\r\n",
        "\r\n",
        "\r\n",
        "*   모델이 타겟을 정확이 예측하는 경우, `target = predict`이므로, 분자가 0이 되기 때문에 $R^2 = 1 - 0 = 1$.\r\n",
        "*   모델이 타겟을 평균값으로만 예측하는 경우, `분자 = 분모`이므로, $R^2 = 1 - 1 = 0$.\r\n",
        "*   $R^2$의 최댓값은 1.\r\n",
        "*   $R^2$은 음수가 될 수 있음.\r\n",
        "\r\n"
      ]
    },
    {
      "cell_type": "code",
      "metadata": {
        "colab": {
          "base_uri": "https://localhost:8080/"
        },
        "id": "dQyDVpOEFu10",
        "outputId": "2cd7afe8-ee83-4c89-bb69-3417ce9957e6"
      },
      "source": [
        "r2_score(y_true=y_train, y_pred=train_pred)"
      ],
      "execution_count": 28,
      "outputs": [
        {
          "output_type": "execute_result",
          "data": {
            "text/plain": [
              "0.9698823289099254"
            ]
          },
          "metadata": {
            "tags": []
          },
          "execution_count": 28
        }
      ]
    },
    {
      "cell_type": "code",
      "metadata": {
        "colab": {
          "base_uri": "https://localhost:8080/"
        },
        "id": "YO0T-Jo_GXtj",
        "outputId": "9d42c7eb-6a46-4aa7-ebb1-7595b12e2134"
      },
      "source": [
        "mu = np.mean(y_train)\r\n",
        "1 - np.sum((y_train - train_pred)**2) / np.sum((y_train - mu)**2)"
      ],
      "execution_count": 29,
      "outputs": [
        {
          "output_type": "execute_result",
          "data": {
            "text/plain": [
              "0.9698823289099254"
            ]
          },
          "metadata": {
            "tags": []
          },
          "execution_count": 29
        }
      ]
    },
    {
      "cell_type": "code",
      "metadata": {
        "colab": {
          "base_uri": "https://localhost:8080/"
        },
        "id": "ycECPKfJIZQX",
        "outputId": "23ab1547-9c4d-499c-d9d6-e77100be0c9e"
      },
      "source": [
        "# 테스트 셋 예측\r\n",
        "test_pred = knn_reg.predict(X_test)\r\n",
        "test_pred"
      ],
      "execution_count": 30,
      "outputs": [
        {
          "output_type": "execute_result",
          "data": {
            "text/plain": [
              "array([  60. ,   79.6,  248. ,  122. ,  136. ,  847. ,  311.4,  183.4,\n",
              "        847. ,  113. , 1010. ,   60. ,  248. ,  248. ])"
            ]
          },
          "metadata": {
            "tags": []
          },
          "execution_count": 30
        }
      ]
    },
    {
      "cell_type": "code",
      "metadata": {
        "colab": {
          "base_uri": "https://localhost:8080/"
        },
        "id": "x0jiGgStIkls",
        "outputId": "80aaa039-2728-4eee-fb2f-82a3695449c1"
      },
      "source": [
        "# 테스트 셋 타겟(실제값)\r\n",
        "y_test"
      ],
      "execution_count": 31,
      "outputs": [
        {
          "output_type": "execute_result",
          "data": {
            "text/plain": [
              "array([   5.9,  100. ,  250. ,  130. ,  130. ,  820. ,  320. ,  188. ,\n",
              "        900. ,  125. , 1000. ,   51.5,  250. ,  300. ])"
            ]
          },
          "metadata": {
            "tags": []
          },
          "execution_count": 31
        }
      ]
    },
    {
      "cell_type": "code",
      "metadata": {
        "colab": {
          "base_uri": "https://localhost:8080/"
        },
        "id": "HneBQfCcItv8",
        "outputId": "89fcdcc2-eb57-47d5-8dea-cb20176d3768"
      },
      "source": [
        "r2_score(y_true=y_test, y_pred=test_pred)"
      ],
      "execution_count": 32,
      "outputs": [
        {
          "output_type": "execute_result",
          "data": {
            "text/plain": [
              "0.992809406101064"
            ]
          },
          "metadata": {
            "tags": []
          },
          "execution_count": 32
        }
      ]
    },
    {
      "cell_type": "code",
      "metadata": {
        "colab": {
          "base_uri": "https://localhost:8080/"
        },
        "id": "wuooyIJkJbhl",
        "outputId": "27cf5f14-f990-425a-88dd-60c33c5165a7"
      },
      "source": [
        "knn_reg.score(X_test, y_test)"
      ],
      "execution_count": 33,
      "outputs": [
        {
          "output_type": "execute_result",
          "data": {
            "text/plain": [
              "0.9928094061010639"
            ]
          },
          "metadata": {
            "tags": []
          },
          "execution_count": 33
        }
      ]
    },
    {
      "cell_type": "code",
      "metadata": {
        "colab": {
          "base_uri": "https://localhost:8080/"
        },
        "id": "rFkuCgEZJ3ZF",
        "outputId": "1565200f-75cb-4b48-e45f-8d4ed20edd4c"
      },
      "source": [
        "# MSE(Mean Squared Error): 오차들의 제곱의 평균\r\n",
        "mean_squared_error(y_test, test_pred)"
      ],
      "execution_count": 34,
      "outputs": [
        {
          "output_type": "execute_result",
          "data": {
            "text/plain": [
              "721.7385714285714"
            ]
          },
          "metadata": {
            "tags": []
          },
          "execution_count": 34
        }
      ]
    },
    {
      "cell_type": "code",
      "metadata": {
        "colab": {
          "base_uri": "https://localhost:8080/"
        },
        "id": "pw_emiBGMiO1",
        "outputId": "2c335978-377a-4529-c3df-0ad1a910ccfa"
      },
      "source": [
        "np.mean((y_test - test_pred)**2)"
      ],
      "execution_count": 35,
      "outputs": [
        {
          "output_type": "execute_result",
          "data": {
            "text/plain": [
              "721.7385714285714"
            ]
          },
          "metadata": {
            "tags": []
          },
          "execution_count": 35
        }
      ]
    },
    {
      "cell_type": "code",
      "metadata": {
        "colab": {
          "base_uri": "https://localhost:8080/"
        },
        "id": "jid9pAsXKhx2",
        "outputId": "11721df1-bdbb-4397-f0ab-23ab30175a3d"
      },
      "source": [
        "# RMSE(Root Mean Squared Error): MSE의 square-root\r\n",
        "np.sqrt(mean_squared_error(y_test, test_pred))"
      ],
      "execution_count": 36,
      "outputs": [
        {
          "output_type": "execute_result",
          "data": {
            "text/plain": [
              "26.865192562655704"
            ]
          },
          "metadata": {
            "tags": []
          },
          "execution_count": 36
        }
      ]
    },
    {
      "cell_type": "code",
      "metadata": {
        "colab": {
          "base_uri": "https://localhost:8080/"
        },
        "id": "oORWj5riLLnV",
        "outputId": "237828f9-055c-47a3-ce96-067e58b15b72"
      },
      "source": [
        "# MAE(Mean Absolute Error): 오차들의 절대값의 평균\r\n",
        "mean_absolute_error(y_test, test_pred)"
      ],
      "execution_count": 37,
      "outputs": [
        {
          "output_type": "execute_result",
          "data": {
            "text/plain": [
              "19.157142857142862"
            ]
          },
          "metadata": {
            "tags": []
          },
          "execution_count": 37
        }
      ]
    },
    {
      "cell_type": "code",
      "metadata": {
        "colab": {
          "base_uri": "https://localhost:8080/"
        },
        "id": "ClHeqWNyM5Mo",
        "outputId": "a43b894b-d4bd-4856-d74c-48020a4f19c2"
      },
      "source": [
        "np.mean(np.abs((y_test - test_pred)))"
      ],
      "execution_count": 38,
      "outputs": [
        {
          "output_type": "execute_result",
          "data": {
            "text/plain": [
              "19.157142857142862"
            ]
          },
          "metadata": {
            "tags": []
          },
          "execution_count": 38
        }
      ]
    },
    {
      "cell_type": "markdown",
      "metadata": {
        "id": "LdPZswO3LkXg"
      },
      "source": [
        "Regression 모델의 성능을 평가할 때, \r\n",
        "\r\n",
        "*   RMSE와 MAE는 0보다 크거나 같은 값. RMSE 또는 MAE는 작을 수록(0에 가까울 수록) 좋음.\r\n",
        "*   결정계수 $R^2$은 1보다 작거나 같은 값. $R^2$은 클 수록(1에 가까울 수록) 좋음."
      ]
    },
    {
      "cell_type": "code",
      "metadata": {
        "colab": {
          "base_uri": "https://localhost:8080/"
        },
        "id": "MK9uHkELNsol",
        "outputId": "700f3caf-fd77-4026-9402-6ce08ceb8701"
      },
      "source": [
        "# 훈련 셋 R^2 < 테스트 셋 R^2: 과소적합\r\n",
        "# 훈련 셋의 RMSE > 테스트 셋 RMSE: 과소적합\r\n",
        "np.sqrt(mean_squared_error(y_train, train_pred))"
      ],
      "execution_count": 39,
      "outputs": [
        {
          "output_type": "execute_result",
          "data": {
            "text/plain": [
              "60.96323638453089"
            ]
          },
          "metadata": {
            "tags": []
          },
          "execution_count": 39
        }
      ]
    },
    {
      "cell_type": "markdown",
      "metadata": {
        "id": "mkIF9wJEOZxN"
      },
      "source": [
        "k=3인 kNN Regression 모델을 생성하고, 훈련 셋과 테스트 셋을 평가"
      ]
    },
    {
      "cell_type": "code",
      "metadata": {
        "colab": {
          "base_uri": "https://localhost:8080/"
        },
        "id": "Ikqv2fOZ0eti",
        "outputId": "a113e22d-ffc0-44da-8d9c-d79e82ec4d0e"
      },
      "source": [
        "train_scores = []  # 훈련 셋의 R^2 점수를 저장할 리스트\r\n",
        "test_scores = []  # 테스트 셋의 R^2 점수를 저장할 리스트\r\n",
        "for k in (1, 3, 5, 11):\r\n",
        "    # kNN 모델 생성\r\n",
        "    knn_reg = KNeighborsRegressor(n_neighbors=k)\r\n",
        "    # kNN 모델 학습\r\n",
        "    knn_reg.fit(X_train, y_train)\r\n",
        "    # predict -> 실제값과 비교 -> 평가 -> 점수\r\n",
        "    train_r2 = knn_reg.score(X_train, y_train)\r\n",
        "    train_scores.append(train_r2)\r\n",
        "    # 테스트 셋 평가\r\n",
        "    test_r2 = knn_reg.score(X_test, y_test)\r\n",
        "    test_scores.append(test_r2)\r\n",
        "\r\n",
        "print(train_scores)\r\n",
        "print(test_scores)"
      ],
      "execution_count": 40,
      "outputs": [
        {
          "output_type": "stream",
          "text": [
            "[0.9852830341215901, 0.9804899950518966, 0.9698823289099255, 0.9515761381539326]\n",
            "[0.991309195814175, 0.974645996398761, 0.9928094061010639, 0.970279643030474]\n"
          ],
          "name": "stdout"
        }
      ]
    },
    {
      "cell_type": "code",
      "metadata": {
        "colab": {
          "base_uri": "https://localhost:8080/",
          "height": 265
        },
        "id": "xC9P5aPs135R",
        "outputId": "d153af8b-8628-4734-8ebe-bb374ccaf824"
      },
      "source": [
        "ks = (1, 3, 5, 11)\r\n",
        "plt.plot(ks, train_scores, 'bo-', label=r'train $R^2$')\r\n",
        "plt.plot(ks, test_scores, 'ro-', label=r'test $R^2$')\r\n",
        "plt.legend()\r\n",
        "plt.xticks(ks)\r\n",
        "plt.show()"
      ],
      "execution_count": 42,
      "outputs": [
        {
          "output_type": "display_data",
          "data": {
            "image/png": "[encoded data removed]",
            "text/plain": [
              "<Figure size 432x288 with 1 Axes>"
            ]
          },
          "metadata": {
            "tags": [],
            "needs_background": "light"
          }
        }
      ]
    },
    {
      "cell_type": "markdown",
      "metadata": {
        "id": "HC5jueet9Z6j"
      },
      "source": [
        "# kNN Regressor의 문제점"
      ]
    },
    {
      "cell_type": "code",
      "metadata": {
        "id": "uCcqAP8F-aeJ"
      },
      "source": [
        "# 길이가 50cm이고, 무게가 1,500g인 가상의 물고기 데이터\r\n",
        "test_fish = np.array([[50]])  \r\n",
        "# (1, 1) 모양의 2d array로 만든 이유는\r\n",
        "# scikit-learn 모델 객체의 predict() 메서드를 사용하기 위해서"
      ],
      "execution_count": 43,
      "outputs": []
    },
    {
      "cell_type": "code",
      "metadata": {
        "colab": {
          "base_uri": "https://localhost:8080/",
          "height": 279
        },
        "id": "AZDhbF3S9daK",
        "outputId": "c6ea9c1d-59d1-44e5-9f30-5a581ce9e1bd"
      },
      "source": [
        "# Train set 시각화\r\n",
        "plt.scatter(X_train, y_train, label='train')\r\n",
        "\r\n",
        "# 가상의 물고기 시각화\r\n",
        "plt.scatter(50, 1_500, marker='^', color='green')\r\n",
        "\r\n",
        "plt.xlabel('Length(cm)')\r\n",
        "plt.ylabel('Weight(g)')\r\n",
        "plt.show()"
      ],
      "execution_count": 45,
      "outputs": [
        {
          "output_type": "display_data",
          "data": {
            "image/png": "[encoded data removed]",
            "text/plain": [
              "<Figure size 432x288 with 1 Axes>"
            ]
          },
          "metadata": {
            "tags": [],
            "needs_background": "light"
          }
        }
      ]
    },
    {
      "cell_type": "code",
      "metadata": {
        "id": "z3IyYxKfANNt"
      },
      "source": [
        "knn_reg = KNeighborsRegressor(n_neighbors=3)  # k=3인 kNN 모델 생성"
      ],
      "execution_count": 46,
      "outputs": []
    },
    {
      "cell_type": "code",
      "metadata": {
        "colab": {
          "base_uri": "https://localhost:8080/"
        },
        "id": "nnoqIz-zAUo7",
        "outputId": "9fa9d219-d007-437f-ec8b-bf6335f1c108"
      },
      "source": [
        "knn_reg.fit(X_train, y_train)  # 훈련 데이터로 모델 학습"
      ],
      "execution_count": 47,
      "outputs": [
        {
          "output_type": "execute_result",
          "data": {
            "text/plain": [
              "KNeighborsRegressor(algorithm='auto', leaf_size=30, metric='minkowski',\n",
              "                    metric_params=None, n_jobs=None, n_neighbors=3, p=2,\n",
              "                    weights='uniform')"
            ]
          },
          "metadata": {
            "tags": []
          },
          "execution_count": 47
        }
      ]
    },
    {
      "cell_type": "code",
      "metadata": {
        "colab": {
          "base_uri": "https://localhost:8080/"
        },
        "id": "qanynAgaAdvs",
        "outputId": "4f44e411-6112-41b7-acd0-d2e59bcde628"
      },
      "source": [
        "# 가상의 물고기의 무게 예측값\r\n",
        "knn_reg.predict(test_fish)  #> 1,033g - 오차가 큼"
      ],
      "execution_count": 51,
      "outputs": [
        {
          "output_type": "execute_result",
          "data": {
            "text/plain": [
              "array([1033.33333333])"
            ]
          },
          "metadata": {
            "tags": []
          },
          "execution_count": 51
        }
      ]
    },
    {
      "cell_type": "code",
      "metadata": {
        "id": "DMpWWDJlBTC8"
      },
      "source": [
        "# test_fish의 최근접 이웃들 찾기\r\n",
        "distances, neighbor_indice = knn_reg.kneighbors(test_fish)"
      ],
      "execution_count": 52,
      "outputs": []
    },
    {
      "cell_type": "code",
      "metadata": {
        "colab": {
          "base_uri": "https://localhost:8080/"
        },
        "id": "fYke6_WrCBuc",
        "outputId": "efb26f47-c9a8-4cf9-ae50-c4dfd4ae4a20"
      },
      "source": [
        "distances"
      ],
      "execution_count": 53,
      "outputs": [
        {
          "output_type": "execute_result",
          "data": {
            "text/plain": [
              "array([[6., 7., 7.]])"
            ]
          },
          "metadata": {
            "tags": []
          },
          "execution_count": 53
        }
      ]
    },
    {
      "cell_type": "code",
      "metadata": {
        "colab": {
          "base_uri": "https://localhost:8080/"
        },
        "id": "1ThJePb0CGGU",
        "outputId": "f52cc208-270a-4b58-ac71-ecea6e5bdc80"
      },
      "source": [
        "neighbor_indice"
      ],
      "execution_count": 54,
      "outputs": [
        {
          "output_type": "execute_result",
          "data": {
            "text/plain": [
              "array([[34,  8, 14]])"
            ]
          },
          "metadata": {
            "tags": []
          },
          "execution_count": 54
        }
      ]
    },
    {
      "cell_type": "code",
      "metadata": {
        "colab": {
          "base_uri": "https://localhost:8080/"
        },
        "id": "sD99NOs_CODc",
        "outputId": "a7733504-5d55-418f-9c02-286fbdc64d01"
      },
      "source": [
        "idx = neighbor_indice[0]  # test fish와 가장 가까운 이웃 3개의 인덱스\r\n",
        "neighbors = X_train[idx]  # fancy(list) indexing\r\n",
        "neighbors"
      ],
      "execution_count": 56,
      "outputs": [
        {
          "output_type": "execute_result",
          "data": {
            "text/plain": [
              "array([[44.],\n",
              "       [43.],\n",
              "       [43.]])"
            ]
          },
          "metadata": {
            "tags": []
          },
          "execution_count": 56
        }
      ]
    },
    {
      "cell_type": "code",
      "metadata": {
        "colab": {
          "base_uri": "https://localhost:8080/"
        },
        "id": "vkJjYvMqDl_3",
        "outputId": "c881dc57-0179-4f53-c8f9-426a682ee525"
      },
      "source": [
        "neigh_weights = y_train[idx]\r\n",
        "neigh_weights"
      ],
      "execution_count": 59,
      "outputs": [
        {
          "output_type": "execute_result",
          "data": {
            "text/plain": [
              "array([1000., 1000., 1100.])"
            ]
          },
          "metadata": {
            "tags": []
          },
          "execution_count": 59
        }
      ]
    },
    {
      "cell_type": "code",
      "metadata": {
        "colab": {
          "base_uri": "https://localhost:8080/"
        },
        "id": "MXt2qCf0EPwG",
        "outputId": "6f61f5b9-4e5e-4ae8-aaec-aeda3beb855e"
      },
      "source": [
        "np.mean(neigh_weights)  #> kNN regressor의 예측값"
      ],
      "execution_count": 61,
      "outputs": [
        {
          "output_type": "execute_result",
          "data": {
            "text/plain": [
              "1033.3333333333333"
            ]
          },
          "metadata": {
            "tags": []
          },
          "execution_count": 61
        }
      ]
    },
    {
      "cell_type": "code",
      "metadata": {
        "colab": {
          "base_uri": "https://localhost:8080/",
          "height": 279
        },
        "id": "cCTjZFdYC1Ks",
        "outputId": "3db5ed61-cd8e-46eb-d66e-98ee66513fc0"
      },
      "source": [
        "# Train set 시각화\r\n",
        "plt.scatter(X_train, y_train, label='train')\r\n",
        "\r\n",
        "# 가상의 물고기 시각화\r\n",
        "plt.scatter(50, 1_500, marker='^', color='green')\r\n",
        "\r\n",
        "# 가상의 물고기와 가장 가까운 이웃 3개 시각화\r\n",
        "plt.scatter(neighbors, neigh_weights, marker='D', color='orange')\r\n",
        "\r\n",
        "plt.xlabel('Length(cm)')\r\n",
        "plt.ylabel('Weight(g)')\r\n",
        "plt.show()"
      ],
      "execution_count": 60,
      "outputs": [
        {
          "output_type": "display_data",
          "data": {
            "image/png": "[encoded data removed]",
            "text/plain": [
              "<Figure size 432x288 with 1 Axes>"
            ]
          },
          "metadata": {
            "tags": [],
            "needs_background": "light"
          }
        }
      ]
    },
    {
      "cell_type": "markdown",
      "metadata": {
        "id": "s_5loZQXFN3G"
      },
      "source": [
        "# Linear Regression(선형 회귀)"
      ]
    },
    {
      "cell_type": "code",
      "metadata": {
        "id": "aJS6OxtyFNmE"
      },
      "source": [
        "# Linear Regression 모델 생성\r\n",
        "lin_reg = LinearRegression()"
      ],
      "execution_count": 62,
      "outputs": []
    },
    {
      "cell_type": "code",
      "metadata": {
        "colab": {
          "base_uri": "https://localhost:8080/"
        },
        "id": "wvz5My9HKE0i",
        "outputId": "eb047b9c-d8f5-47ad-c247-c94c789c12eb"
      },
      "source": [
        "# 모델을 훈련 셋으로 학습시킴\r\n",
        "lin_reg.fit(X_train, y_train)"
      ],
      "execution_count": 63,
      "outputs": [
        {
          "output_type": "execute_result",
          "data": {
            "text/plain": [
              "LinearRegression(copy_X=True, fit_intercept=True, n_jobs=None, normalize=False)"
            ]
          },
          "metadata": {
            "tags": []
          },
          "execution_count": 63
        }
      ]
    },
    {
      "cell_type": "code",
      "metadata": {
        "colab": {
          "base_uri": "https://localhost:8080/"
        },
        "id": "afekXR03KVi4",
        "outputId": "17890c79-f33f-4e85-e914-5892dd796a5a"
      },
      "source": [
        "# 선형 회귀 모델의 학습이 끝난 후에는 \r\n",
        "# 선형 모델(y = w0 + w1 * x)의 절편(intercept)과 계수들(coefficients)을 찾을 수 있음.\r\n",
        "w0 = lin_reg.intercept_\r\n",
        "w0"
      ],
      "execution_count": 64,
      "outputs": [
        {
          "output_type": "execute_result",
          "data": {
            "text/plain": [
              "-709.0186449535477"
            ]
          },
          "metadata": {
            "tags": []
          },
          "execution_count": 64
        }
      ]
    },
    {
      "cell_type": "code",
      "metadata": {
        "colab": {
          "base_uri": "https://localhost:8080/"
        },
        "id": "diyRXfKVK9bA",
        "outputId": "b7744340-e6fb-4e13-a89e-4d686a2a7d0a"
      },
      "source": [
        "w1 = lin_reg.coef_\r\n",
        "w1"
      ],
      "execution_count": 65,
      "outputs": [
        {
          "output_type": "execute_result",
          "data": {
            "text/plain": [
              "array([39.01714496])"
            ]
          },
          "metadata": {
            "tags": []
          },
          "execution_count": 65
        }
      ]
    },
    {
      "cell_type": "code",
      "metadata": {
        "colab": {
          "base_uri": "https://localhost:8080/"
        },
        "id": "LDECJPD3MNJp",
        "outputId": "5f5dd256-f58b-416e-9d88-53571451fb29"
      },
      "source": [
        "# weight = -709 + 39 * length\r\n",
        "# 길이 50cm인 가상의 물고기의 무게 예측값\r\n",
        "-709 + 39 * 50"
      ],
      "execution_count": 66,
      "outputs": [
        {
          "output_type": "execute_result",
          "data": {
            "text/plain": [
              "1241"
            ]
          },
          "metadata": {
            "tags": []
          },
          "execution_count": 66
        }
      ]
    },
    {
      "cell_type": "code",
      "metadata": {
        "id": "eBtKc0IEMSdo"
      },
      "source": [
        "# 선형 회귀 모델 시각화\r\n",
        "xs = np.array([15, 50])\r\n",
        "ys = w0 + w1 * xs"
      ],
      "execution_count": 68,
      "outputs": []
    },
    {
      "cell_type": "code",
      "metadata": {
        "colab": {
          "base_uri": "https://localhost:8080/",
          "height": 279
        },
        "id": "qexonUheNrOh",
        "outputId": "d6173e0a-c0eb-44b1-b81f-03453216f2d4"
      },
      "source": [
        "# Train set 시각화\r\n",
        "plt.scatter(X_train, y_train, label='train')\r\n",
        "# 가상의 물고기 시각화\r\n",
        "plt.scatter(50, 1_500, marker='^', color='green')\r\n",
        "# 가상의 물고기와 가장 가까운 이웃 3개 시각화\r\n",
        "plt.scatter(neighbors, neigh_weights, marker='D', color='orange')\r\n",
        "\r\n",
        "# 선형 회귀 직선(y = w0 + w1 * x)\r\n",
        "plt.plot(xs, ys, color='red')\r\n",
        "\r\n",
        "plt.xlabel('Length(cm)')\r\n",
        "plt.ylabel('Weight(g)')\r\n",
        "plt.show()"
      ],
      "execution_count": 69,
      "outputs": [
        {
          "output_type": "display_data",
          "data": {
            "image/png": "[encoded data removed]",
            "text/plain": [
              "<Figure size 432x288 with 1 Axes>"
            ]
          },
          "metadata": {
            "tags": [],
            "needs_background": "light"
          }
        }
      ]
    },
    {
      "cell_type": "markdown",
      "metadata": {
        "id": "bOX81ehqPH7K"
      },
      "source": [
        "**OLS(Ordinary Least Squares) Linear Regression**\r\n",
        "\r\n",
        "선형 회귀식($y = w_0 + w_1 \\times x$)이 예측해 주는 값과 실제 타겟 값과의 차이(오차, residual)들의 제곱의 합을 최소화하는 $w_0$와 $w_1$을 찾는 과정."
      ]
    },
    {
      "cell_type": "code",
      "metadata": {
        "colab": {
          "base_uri": "https://localhost:8080/"
        },
        "id": "mq-ycyBePGJq",
        "outputId": "04d6eae6-e0e3-420d-aa3d-c243cdd74dff"
      },
      "source": [
        "# 훈련 셋의 예측값\r\n",
        "lin_reg.predict(X_train)"
      ],
      "execution_count": 70,
      "outputs": [
        {
          "output_type": "execute_result",
          "data": {
            "text/plain": [
              "array([  55.71739633,  149.35854425,   20.60196587,  -30.12032259,\n",
              "        695.59857374,  266.40997914,  851.66715359,  812.65000863,\n",
              "        968.71858848,  149.35854425,   71.32425432,  149.35854425,\n",
              "        227.39283417,  363.95284155,  968.71858848,  851.66715359,\n",
              "        227.39283417,  110.34139928,  363.95284155,  851.66715359,\n",
              "        570.74370985,  324.93569658,  715.10714622, -174.48375895,\n",
              "        176.67054572, -123.7614705 ,  734.6157187 ,  656.58142877,\n",
              "        410.7734155 ,  207.88426169,  812.65000863,  110.34139928,\n",
              "        188.37568921,  149.35854425, 1007.73573345,  168.86711673,\n",
              "         32.30710936,  734.6157187 ,  149.35854425,  289.82026612,\n",
              "        929.70144352,  637.07285629])"
            ]
          },
          "metadata": {
            "tags": []
          },
          "execution_count": 70
        }
      ]
    },
    {
      "cell_type": "code",
      "metadata": {
        "colab": {
          "base_uri": "https://localhost:8080/"
        },
        "id": "Seh6GddWQhOo",
        "outputId": "6094385e-045b-45dc-a825-38739d183e94"
      },
      "source": [
        "# w0 + X_train * w1  # (샘플개수, 1)인 모양의 2d 배열\r\n",
        "w0 + X_train @ w1  # (샘플개수,) 모양의 1d 배열"
      ],
      "execution_count": 72,
      "outputs": [
        {
          "output_type": "execute_result",
          "data": {
            "text/plain": [
              "array([  55.71739633,  149.35854425,   20.60196587,  -30.12032259,\n",
              "        695.59857374,  266.40997914,  851.66715359,  812.65000863,\n",
              "        968.71858848,  149.35854425,   71.32425432,  149.35854425,\n",
              "        227.39283417,  363.95284155,  968.71858848,  851.66715359,\n",
              "        227.39283417,  110.34139928,  363.95284155,  851.66715359,\n",
              "        570.74370985,  324.93569658,  715.10714622, -174.48375895,\n",
              "        176.67054572, -123.7614705 ,  734.6157187 ,  656.58142877,\n",
              "        410.7734155 ,  207.88426169,  812.65000863,  110.34139928,\n",
              "        188.37568921,  149.35854425, 1007.73573345,  168.86711673,\n",
              "         32.30710936,  734.6157187 ,  149.35854425,  289.82026612,\n",
              "        929.70144352,  637.07285629])"
            ]
          },
          "metadata": {
            "tags": []
          },
          "execution_count": 72
        }
      ]
    },
    {
      "cell_type": "code",
      "metadata": {
        "colab": {
          "base_uri": "https://localhost:8080/"
        },
        "id": "gVq9O_kUSLlq",
        "outputId": "9882cf5e-04f4-4d85-cc7b-e8de3f4ed8b2"
      },
      "source": [
        "# 훈련 셋의 R^2 점수\r\n",
        "lin_reg.score(X_train, y_train)"
      ],
      "execution_count": 73,
      "outputs": [
        {
          "output_type": "execute_result",
          "data": {
            "text/plain": [
              "0.9398463339976039"
            ]
          },
          "metadata": {
            "tags": []
          },
          "execution_count": 73
        }
      ]
    },
    {
      "cell_type": "code",
      "metadata": {
        "colab": {
          "base_uri": "https://localhost:8080/"
        },
        "id": "xH905XswSd9l",
        "outputId": "44c4b9b1-4e4f-42bb-ae9f-9d78a40bb565"
      },
      "source": [
        "# 테스트 셋의 R^2 점수\r\n",
        "lin_reg.score(X_test, y_test)"
      ],
      "execution_count": 74,
      "outputs": [
        {
          "output_type": "execute_result",
          "data": {
            "text/plain": [
              "0.8247503123313558"
            ]
          },
          "metadata": {
            "tags": []
          },
          "execution_count": 74
        }
      ]
    },
    {
      "cell_type": "markdown",
      "metadata": {
        "id": "M1oxm31LnKLe"
      },
      "source": [
        "# 2차 항(polynomial)을 포함한 선형 회귀"
      ]
    },
    {
      "cell_type": "code",
      "metadata": {
        "colab": {
          "base_uri": "https://localhost:8080/"
        },
        "id": "vpnEBaCHnppj",
        "outputId": "8f018840-62b7-47c1-fc44-53eb2a932ec7"
      },
      "source": [
        "X_train.shape"
      ],
      "execution_count": 77,
      "outputs": [
        {
          "output_type": "execute_result",
          "data": {
            "text/plain": [
              "(42, 1)"
            ]
          },
          "metadata": {
            "tags": []
          },
          "execution_count": 77
        }
      ]
    },
    {
      "cell_type": "code",
      "metadata": {
        "colab": {
          "base_uri": "https://localhost:8080/"
        },
        "id": "yd5B5LokSnQ0",
        "outputId": "0af4a904-15f9-4b86-e326-aae7d1107cb2"
      },
      "source": [
        "X_train[:5]"
      ],
      "execution_count": 76,
      "outputs": [
        {
          "output_type": "execute_result",
          "data": {
            "text/plain": [
              "array([[19.6],\n",
              "       [22. ],\n",
              "       [18.7],\n",
              "       [17.4],\n",
              "       [36. ]])"
            ]
          },
          "metadata": {
            "tags": []
          },
          "execution_count": 76
        }
      ]
    },
    {
      "cell_type": "code",
      "metadata": {
        "id": "HxZnikSQnvWk"
      },
      "source": [
        "# x^2항을 추가해서 (n_samples, 2) 모양의 2d 배열 생성\r\n",
        "X_train_poly = np.c_[X_train, X_train**2]"
      ],
      "execution_count": 78,
      "outputs": []
    },
    {
      "cell_type": "code",
      "metadata": {
        "colab": {
          "base_uri": "https://localhost:8080/"
        },
        "id": "rJNaf8ykoAQs",
        "outputId": "d0e69b2e-bd49-40c4-cad8-652cd165f2ae"
      },
      "source": [
        "X_train_poly.shape"
      ],
      "execution_count": 79,
      "outputs": [
        {
          "output_type": "execute_result",
          "data": {
            "text/plain": [
              "(42, 2)"
            ]
          },
          "metadata": {
            "tags": []
          },
          "execution_count": 79
        }
      ]
    },
    {
      "cell_type": "code",
      "metadata": {
        "colab": {
          "base_uri": "https://localhost:8080/"
        },
        "id": "tie6i4EPoBrk",
        "outputId": "749ca313-8b69-4b3b-98b2-b3537af8af01"
      },
      "source": [
        "X_train_poly[:5]"
      ],
      "execution_count": 80,
      "outputs": [
        {
          "output_type": "execute_result",
          "data": {
            "text/plain": [
              "array([[  19.6 ,  384.16],\n",
              "       [  22.  ,  484.  ],\n",
              "       [  18.7 ,  349.69],\n",
              "       [  17.4 ,  302.76],\n",
              "       [  36.  , 1296.  ]])"
            ]
          },
          "metadata": {
            "tags": []
          },
          "execution_count": 80
        }
      ]
    },
    {
      "cell_type": "code",
      "metadata": {
        "id": "P9NvLOaJpCSl"
      },
      "source": [
        "lin_reg = LinearRegression()  # 모델 생성"
      ],
      "execution_count": 81,
      "outputs": []
    },
    {
      "cell_type": "code",
      "metadata": {
        "colab": {
          "base_uri": "https://localhost:8080/"
        },
        "id": "ifpZRmakpGmU",
        "outputId": "348d3239-2f23-4c35-8d6b-352e94238d2b"
      },
      "source": [
        "lin_reg.fit(X_train_poly, y_train)  # 모델 학습"
      ],
      "execution_count": 82,
      "outputs": [
        {
          "output_type": "execute_result",
          "data": {
            "text/plain": [
              "LinearRegression(copy_X=True, fit_intercept=True, n_jobs=None, normalize=False)"
            ]
          },
          "metadata": {
            "tags": []
          },
          "execution_count": 82
        }
      ]
    },
    {
      "cell_type": "markdown",
      "metadata": {
        "id": "73TfHdbBp5Se"
      },
      "source": [
        "선형 모델\r\n",
        "\r\n",
        "$y = w_0 + w_1 \\times x + w_2 \\times x^2$\r\n",
        "\r\n",
        "절편(intercept)과 계수들(coefficients)들을 찾음.\r\n"
      ]
    },
    {
      "cell_type": "code",
      "metadata": {
        "colab": {
          "base_uri": "https://localhost:8080/"
        },
        "id": "p_G0wHcxpftc",
        "outputId": "90ca584c-5f22-4003-a5dd-a45908c6a14c"
      },
      "source": [
        "w0 = lin_reg.intercept_\r\n",
        "w0"
      ],
      "execution_count": 83,
      "outputs": [
        {
          "output_type": "execute_result",
          "data": {
            "text/plain": [
              "116.05021078278378"
            ]
          },
          "metadata": {
            "tags": []
          },
          "execution_count": 83
        }
      ]
    },
    {
      "cell_type": "code",
      "metadata": {
        "colab": {
          "base_uri": "https://localhost:8080/"
        },
        "id": "6M7tqGqdprAP",
        "outputId": "6220d080-9d16-4e85-c7e6-905c67bbf6f5"
      },
      "source": [
        "w = lin_reg.coef_\r\n",
        "w"
      ],
      "execution_count": 84,
      "outputs": [
        {
          "output_type": "execute_result",
          "data": {
            "text/plain": [
              "array([-21.55792498,   1.01433211])"
            ]
          },
          "metadata": {
            "tags": []
          },
          "execution_count": 84
        }
      ]
    },
    {
      "cell_type": "code",
      "metadata": {
        "colab": {
          "base_uri": "https://localhost:8080/"
        },
        "id": "iD2G5YSPpvE1",
        "outputId": "a1b458a0-fb2c-45c6-a593-182450920309"
      },
      "source": [
        "# 길이 50cm의 가상의 물고기의 무게 예측\r\n",
        "116 - 21 * 50 + 1 * 50**2"
      ],
      "execution_count": 86,
      "outputs": [
        {
          "output_type": "execute_result",
          "data": {
            "text/plain": [
              "1566"
            ]
          },
          "metadata": {
            "tags": []
          },
          "execution_count": 86
        }
      ]
    },
    {
      "cell_type": "code",
      "metadata": {
        "colab": {
          "base_uri": "https://localhost:8080/"
        },
        "id": "QwgKk3Ctq8-W",
        "outputId": "66f1b062-8445-4200-e18b-bf2dd6238c8f"
      },
      "source": [
        "# 훈련 셋의 R^2\r\n",
        "lin_reg.score(X_train_poly, y_train)"
      ],
      "execution_count": 89,
      "outputs": [
        {
          "output_type": "execute_result",
          "data": {
            "text/plain": [
              "0.9706807451768623"
            ]
          },
          "metadata": {
            "tags": []
          },
          "execution_count": 89
        }
      ]
    },
    {
      "cell_type": "code",
      "metadata": {
        "colab": {
          "base_uri": "https://localhost:8080/"
        },
        "id": "WfcWWbp_sBPe",
        "outputId": "160b2421-a933-4e20-d9d8-154faec24c25"
      },
      "source": [
        "# 테스트 셋의 R^2\r\n",
        "X_test_poly = np.c_[X_test, X_test**2]  # 테스트 셋에 X^2 항을 추가\r\n",
        "lin_reg.score(X_test_poly, y_test)  # 2차항이 포함된 테스트 셋으로 예측(predict) 및 평가(score)"
      ],
      "execution_count": 91,
      "outputs": [
        {
          "output_type": "execute_result",
          "data": {
            "text/plain": [
              "0.9775935108325122"
            ]
          },
          "metadata": {
            "tags": []
          },
          "execution_count": 91
        }
      ]
    },
    {
      "cell_type": "code",
      "metadata": {
        "colab": {
          "base_uri": "https://localhost:8080/"
        },
        "id": "QB9kmcAfshlV",
        "outputId": "73191c2b-677c-4150-da71-59718a0a5c6e"
      },
      "source": [
        "lin_reg.predict(X_test_poly)  # 테스트 셋의 예측값(무게)"
      ],
      "execution_count": 92,
      "outputs": [
        {
          "output_type": "execute_result",
          "data": {
            "text/plain": [
              "array([   6.5349146 ,   56.6511646 ,  290.29593158,  117.05874344,\n",
              "        144.50252913,  876.66458663,  382.21135986,  199.55847561,\n",
              "        818.09027497,  110.65424646, 1097.65040817,   33.01314491,\n",
              "        307.66468513,  283.49043666])"
            ]
          },
          "metadata": {
            "tags": []
          },
          "execution_count": 92
        }
      ]
    },
    {
      "cell_type": "code",
      "metadata": {
        "colab": {
          "base_uri": "https://localhost:8080/"
        },
        "id": "JLRv3c5OszLe",
        "outputId": "8bd94962-754e-4158-a555-9e74dc20f0af"
      },
      "source": [
        "y_test  # 테스트 셋의 실제값(무게)"
      ],
      "execution_count": 93,
      "outputs": [
        {
          "output_type": "execute_result",
          "data": {
            "text/plain": [
              "array([   5.9,  100. ,  250. ,  130. ,  130. ,  820. ,  320. ,  188. ,\n",
              "        900. ,  125. , 1000. ,   51.5,  250. ,  300. ])"
            ]
          },
          "metadata": {
            "tags": []
          },
          "execution_count": 93
        }
      ]
    },
    {
      "cell_type": "code",
      "metadata": {
        "colab": {
          "base_uri": "https://localhost:8080/"
        },
        "id": "WeGtkzIQs11w",
        "outputId": "95da571e-f028-4de8-e7a7-eb20f6bfd7d2"
      },
      "source": [
        "# predict() 메서드의 계산 과정\r\n",
        "w0 + X_test_poly @ w"
      ],
      "execution_count": 94,
      "outputs": [
        {
          "output_type": "execute_result",
          "data": {
            "text/plain": [
              "array([   6.5349146 ,   56.6511646 ,  290.29593158,  117.05874344,\n",
              "        144.50252913,  876.66458663,  382.21135986,  199.55847561,\n",
              "        818.09027497,  110.65424646, 1097.65040817,   33.01314491,\n",
              "        307.66468513,  283.49043666])"
            ]
          },
          "metadata": {
            "tags": []
          },
          "execution_count": 94
        }
      ]
    },
    {
      "cell_type": "code",
      "metadata": {
        "id": "RoRiAex9uZ6I"
      },
      "source": [
        "# 선형 회귀 곡선(y = w0 + w1 * x + w2 * x^2) 시각화\r\n",
        "xs = np.arange(14, 50, 0.001)\r\n",
        "ys = w0 + w[0] * xs + w[1] * xs**2"
      ],
      "execution_count": 99,
      "outputs": []
    },
    {
      "cell_type": "code",
      "metadata": {
        "colab": {
          "base_uri": "https://localhost:8080/",
          "height": 279
        },
        "id": "O2dX1c9avfRX",
        "outputId": "f3205eea-7d33-47fd-8ae4-8a7074ed3006"
      },
      "source": [
        "# Train set 시각화\r\n",
        "plt.scatter(X_train, y_train, label='train')\r\n",
        "# 가상의 물고기 시각화\r\n",
        "plt.scatter(50, 1_500, marker='^', color='green')\r\n",
        "# 가상의 물고기와 가장 가까운 이웃 3개 시각화\r\n",
        "plt.scatter(neighbors, neigh_weights, marker='D', color='orange')\r\n",
        "\r\n",
        "# 2차항 고려된 선형 회귀 곡선(y = w0 + w1 * x + w2 * x^2)\r\n",
        "plt.plot(xs, ys, color='red')\r\n",
        "\r\n",
        "plt.xlabel('Length(cm)')\r\n",
        "plt.ylabel('Weight(g)')\r\n",
        "plt.show()"
      ],
      "execution_count": 100,
      "outputs": [
        {
          "output_type": "display_data",
          "data": {
            "image/png": "[encoded data removed]",
            "text/plain": [
              "<Figure size 432x288 with 1 Axes>"
            ]
          },
          "metadata": {
            "tags": [],
            "needs_background": "light"
          }
        }
      ]
    },
    {
      "cell_type": "code",
      "metadata": {
        "colab": {
          "base_uri": "https://localhost:8080/"
        },
        "id": "RRGGOsMfz4BS",
        "outputId": "5058f3d7-f25e-4114-c318-71384167816b"
      },
      "source": [
        "Xs = np.arange(14, 50, 0.001).reshape((-1, 1))\r\n",
        "Xs = np.c_[Xs, Xs**2]\r\n",
        "w0 + Xs @ w"
      ],
      "execution_count": 104,
      "outputs": [
        {
          "output_type": "execute_result",
          "data": {
            "text/plain": [
              "array([  13.04835452,   13.05519891,   13.06204532, ..., 1573.74461855,\n",
              "       1573.82448877, 1573.90436101])"
            ]
          },
          "metadata": {
            "tags": []
          },
          "execution_count": 104
        }
      ]
    },
    {
      "cell_type": "markdown",
      "metadata": {
        "id": "Xc_bQbpV2MlL"
      },
      "source": [
        "# `PolynomialFeatures` 변환기 클래스를 사용한 다차항 추가"
      ]
    },
    {
      "cell_type": "markdown",
      "metadata": {
        "id": "JAM_ML682VHS"
      },
      "source": [
        "**scikit-learn 클래스**\r\n",
        "\r\n",
        "*   Estimator(추정기) 클래스\r\n",
        "    *   `fit`, `predict`, `score` 메서드를 가지고 있음\r\n",
        "    *   머신 러닝 알고리즘을 구현한 클래스\r\n",
        "    *   (예) `KNeighborsClassifier`, `KNeighborsRegressor`, `LinearRegression`\r\n",
        "*   Transformer(변환기) 클래스\r\n",
        "    *   `fit`, `transform`, `fit_transform` 메서드를 가지고 있음\r\n",
        "    *   전처리 과정에서, (훈련 또는 테스트) 데이터를 변환하기 위한 클래스\r\n",
        "    *   (예) `StandardScaler`, `MinMaxScaler`\r\n",
        "\r\n"
      ]
    },
    {
      "cell_type": "code",
      "metadata": {
        "id": "NbkL6GiZ2MD5"
      },
      "source": [
        "# 변환기 클래스 객체 생성\r\n",
        "poly_feat = PolynomialFeatures()"
      ],
      "execution_count": 105,
      "outputs": []
    },
    {
      "cell_type": "code",
      "metadata": {
        "colab": {
          "base_uri": "https://localhost:8080/"
        },
        "id": "BXIjHnD-5mK8",
        "outputId": "2e6c35cf-084a-4432-a1f7-84097f17cf76"
      },
      "source": [
        "# 변환기 클래스 fit_transform() 메서드 호출\r\n",
        "X_train_poly = poly_feat.fit_transform(X_train)\r\n",
        "X_train_poly[:5]\r\n",
        "#> [[1, X, X^2], ...]\r\n",
        "#> 맨 앞에 들어가는 컬럼(1) ==> bias"
      ],
      "execution_count": 107,
      "outputs": [
        {
          "output_type": "execute_result",
          "data": {
            "text/plain": [
              "array([[1.0000e+00, 1.9600e+01, 3.8416e+02],\n",
              "       [1.0000e+00, 2.2000e+01, 4.8400e+02],\n",
              "       [1.0000e+00, 1.8700e+01, 3.4969e+02],\n",
              "       [1.0000e+00, 1.7400e+01, 3.0276e+02],\n",
              "       [1.0000e+00, 3.6000e+01, 1.2960e+03]])"
            ]
          },
          "metadata": {
            "tags": []
          },
          "execution_count": 107
        }
      ]
    },
    {
      "cell_type": "code",
      "metadata": {
        "colab": {
          "base_uri": "https://localhost:8080/"
        },
        "id": "HmmHygBN6-wU",
        "outputId": "0358bed9-03f5-480e-c328-b337edd78c20"
      },
      "source": [
        "poly_feat = PolynomialFeatures(include_bias=False)\r\n",
        "X_train_poly = poly_feat.fit_transform(X_train)\r\n",
        "X_train_poly[:5]\r\n",
        "#> [[X, X^2]]"
      ],
      "execution_count": 108,
      "outputs": [
        {
          "output_type": "execute_result",
          "data": {
            "text/plain": [
              "array([[  19.6 ,  384.16],\n",
              "       [  22.  ,  484.  ],\n",
              "       [  18.7 ,  349.69],\n",
              "       [  17.4 ,  302.76],\n",
              "       [  36.  , 1296.  ]])"
            ]
          },
          "metadata": {
            "tags": []
          },
          "execution_count": 108
        }
      ]
    },
    {
      "cell_type": "code",
      "metadata": {
        "colab": {
          "base_uri": "https://localhost:8080/"
        },
        "id": "1TIm5G5Y7bpN",
        "outputId": "b4d9b165-e955-44bc-e49f-d22d0e7819f5"
      },
      "source": [
        "poly_feat.get_feature_names()"
      ],
      "execution_count": 109,
      "outputs": [
        {
          "output_type": "execute_result",
          "data": {
            "text/plain": [
              "['x0', 'x0^2']"
            ]
          },
          "metadata": {
            "tags": []
          },
          "execution_count": 109
        }
      ]
    },
    {
      "cell_type": "code",
      "metadata": {
        "colab": {
          "base_uri": "https://localhost:8080/"
        },
        "id": "5-uWYPHc8bG2",
        "outputId": "5eba41e5-b14c-4c18-c036-d817a0bfd3be"
      },
      "source": [
        "# 테스트 셋에 다차항 추가\r\n",
        "poly_feat.transform(X_test)"
      ],
      "execution_count": 110,
      "outputs": [
        {
          "output_type": "execute_result",
          "data": {
            "text/plain": [
              "array([[   8.4 ,   70.56],\n",
              "       [  18.  ,  324.  ],\n",
              "       [  27.5 ,  756.25],\n",
              "       [  21.3 ,  453.69],\n",
              "       [  22.5 ,  506.25],\n",
              "       [  40.  , 1600.  ],\n",
              "       [  30.  ,  900.  ],\n",
              "       [  24.6 ,  605.16],\n",
              "       [  39.  , 1521.  ],\n",
              "       [  21.  ,  441.  ],\n",
              "       [  43.5 , 1892.25],\n",
              "       [  16.2 ,  262.44],\n",
              "       [  28.  ,  784.  ],\n",
              "       [  27.3 ,  745.29]])"
            ]
          },
          "metadata": {
            "tags": []
          },
          "execution_count": 110
        }
      ]
    },
    {
      "cell_type": "code",
      "metadata": {
        "colab": {
          "base_uri": "https://localhost:8080/"
        },
        "id": "fWm02mOp8zOr",
        "outputId": "08e009af-34b4-4f11-97c5-fbb735598b22"
      },
      "source": [
        "poly_feat = PolynomialFeatures(degree=3, include_bias=False)\r\n",
        "X_train_poly = poly_feat.fit_transform(X_train)\r\n",
        "X_train_poly[:5]"
      ],
      "execution_count": 112,
      "outputs": [
        {
          "output_type": "execute_result",
          "data": {
            "text/plain": [
              "array([[1.960000e+01, 3.841600e+02, 7.529536e+03],\n",
              "       [2.200000e+01, 4.840000e+02, 1.064800e+04],\n",
              "       [1.870000e+01, 3.496900e+02, 6.539203e+03],\n",
              "       [1.740000e+01, 3.027600e+02, 5.268024e+03],\n",
              "       [3.600000e+01, 1.296000e+03, 4.665600e+04]])"
            ]
          },
          "metadata": {
            "tags": []
          },
          "execution_count": 112
        }
      ]
    },
    {
      "cell_type": "code",
      "metadata": {
        "colab": {
          "base_uri": "https://localhost:8080/"
        },
        "id": "PG8d-uv89ZCq",
        "outputId": "a4e28858-c446-4c33-d875-f0795f646b4b"
      },
      "source": [
        "poly_feat.get_feature_names()"
      ],
      "execution_count": 113,
      "outputs": [
        {
          "output_type": "execute_result",
          "data": {
            "text/plain": [
              "['x0', 'x0^2', 'x0^3']"
            ]
          },
          "metadata": {
            "tags": []
          },
          "execution_count": 113
        }
      ]
    },
    {
      "cell_type": "markdown",
      "metadata": {
        "id": "yJnZbqUMCe9Y"
      },
      "source": [
        "# PolynomialFeatures + StandardScaler"
      ]
    },
    {
      "cell_type": "markdown",
      "metadata": {
        "id": "l8pK39l7Ck2g"
      },
      "source": [
        "선형 회귀에서 차수(degree)가 커질 수록, 고차항이 저차항에 비해 예측값을 만들 때 영향이 더 커지게 됨.\r\n",
        "\r\n",
        "선형 회귀에서 고차항을 포함시킬 때는 일반적으로 Scaling을 함께 사용함."
      ]
    },
    {
      "cell_type": "code",
      "metadata": {
        "colab": {
          "base_uri": "https://localhost:8080/"
        },
        "id": "lMT1huLuDDDk",
        "outputId": "36cef8a9-52a0-41bd-d11d-d78c76a73399"
      },
      "source": [
        "X_train.shape  #> (n_samples, n_features)"
      ],
      "execution_count": 114,
      "outputs": [
        {
          "output_type": "execute_result",
          "data": {
            "text/plain": [
              "(42, 1)"
            ]
          },
          "metadata": {
            "tags": []
          },
          "execution_count": 114
        }
      ]
    },
    {
      "cell_type": "code",
      "metadata": {
        "id": "iflKzHGtDFX4"
      },
      "source": [
        "poly_feat = PolynomialFeatures(degree=100, include_bias=False)"
      ],
      "execution_count": 115,
      "outputs": []
    },
    {
      "cell_type": "code",
      "metadata": {
        "id": "hBm8jMVYDXxh"
      },
      "source": [
        "std_scaler = StandardScaler()"
      ],
      "execution_count": 116,
      "outputs": []
    },
    {
      "cell_type": "code",
      "metadata": {
        "id": "SBJJBBgVDdFH"
      },
      "source": [
        "lin_reg = LinearRegression()"
      ],
      "execution_count": 117,
      "outputs": []
    },
    {
      "cell_type": "code",
      "metadata": {
        "id": "WkCDZZtyDiPQ"
      },
      "source": [
        "X_train_poly = poly_feat.fit_transform(X_train)  # 100차항까지 추가"
      ],
      "execution_count": 120,
      "outputs": []
    },
    {
      "cell_type": "code",
      "metadata": {
        "colab": {
          "base_uri": "https://localhost:8080/"
        },
        "id": "rVQbkCfQD-2g",
        "outputId": "8244a9db-d876-4380-dbdc-0498ab0288f7"
      },
      "source": [
        "X_train_poly[0]"
      ],
      "execution_count": 122,
      "outputs": [
        {
          "output_type": "execute_result",
          "data": {
            "text/plain": [
              "array([1.96000000e+001, 3.84160000e+002, 7.52953600e+003, 1.47578906e+005,\n",
              "       2.89254655e+006, 5.66939124e+007, 1.11120068e+009, 2.17795334e+010,\n",
              "       4.26878854e+011, 8.36682554e+012, 1.63989781e+014, 3.21419970e+015,\n",
              "       6.29983141e+016, 1.23476696e+018, 2.42014324e+019, 4.74348074e+020,\n",
              "       9.29722225e+021, 1.82225556e+023, 3.57162090e+024, 7.00037697e+025,\n",
              "       1.37207389e+027, 2.68926482e+028, 5.27095904e+029, 1.03310797e+031,\n",
              "       2.02489162e+032, 3.96878758e+033, 7.77882366e+034, 1.52464944e+036,\n",
              "       2.98831290e+037, 5.85709328e+038, 1.14799028e+040, 2.25006095e+041,\n",
              "       4.41011947e+042, 8.64383416e+043, 1.69419150e+045, 3.32061533e+046,\n",
              "       6.50840605e+047, 1.27564759e+049, 2.50026927e+050, 4.90052777e+051,\n",
              "       9.60503442e+052, 1.88258675e+054, 3.68987002e+055, 7.23214525e+056,\n",
              "       1.41750047e+058, 2.77830092e+059, 5.44546980e+060, 1.06731208e+062,\n",
              "       2.09193168e+063, 4.10018609e+064, 8.03636473e+065, 1.57512749e+067,\n",
              "       3.08724988e+068, 6.05100976e+069, 1.18599791e+071, 2.32455591e+072,\n",
              "       4.55612958e+073, 8.93001398e+074, 1.75028274e+076, 3.43055417e+077,\n",
              "       6.72388617e+078, 1.31788169e+080, 2.58304811e+081, 5.06277430e+082,\n",
              "       9.92303763e+083, 1.94491537e+085, 3.81203413e+086, 7.47158690e+087,\n",
              "       1.46443103e+089, 2.87028483e+090, 5.62575826e+091, 1.10264862e+093,\n",
              "       2.16119129e+094, 4.23593493e+095, 8.30243247e+096, 1.62727676e+098,\n",
              "       3.18946246e+099, 6.25134642e+100, 1.22526390e+102, 2.40151724e+103,\n",
              "       4.70697379e+104, 9.22566863e+105, 1.80823105e+107, 3.54413286e+108,\n",
              "       6.94650040e+109, 1.36151408e+111, 2.66856760e+112, 5.23039249e+113,\n",
              "       1.02515693e+115, 2.00930758e+116, 3.93824285e+117, 7.71895599e+118,\n",
              "       1.51291537e+120, 2.96531413e+121, 5.81201570e+122, 1.13915508e+124,\n",
              "       2.23274395e+125, 4.37617815e+126, 8.57730916e+127, 1.68115260e+129])"
            ]
          },
          "metadata": {
            "tags": []
          },
          "execution_count": 122
        }
      ]
    },
    {
      "cell_type": "code",
      "metadata": {
        "colab": {
          "base_uri": "https://localhost:8080/"
        },
        "id": "ATMNxEplE4HI",
        "outputId": "6fb02d95-1910-4f24-90a8-5f8ee71b9967"
      },
      "source": [
        "# 100차항까지 포함된 훈련 셋을 표준화 적용\r\n",
        "X_train_poly_scaled = std_scaler.fit_transform(X_train_poly)"
      ],
      "execution_count": 123,
      "outputs": [
        {
          "output_type": "stream",
          "text": [
            "/usr/local/lib/python3.7/dist-packages/numpy/lib/nanfunctions.py:1544: RuntimeWarning: overflow encountered in multiply\n",
            "  sqr = np.multiply(arr, arr, out=arr)\n"
          ],
          "name": "stderr"
        }
      ]
    },
    {
      "cell_type": "code",
      "metadata": {
        "colab": {
          "base_uri": "https://localhost:8080/"
        },
        "id": "c2pJuY72FI-Q",
        "outputId": "829c00a2-34fc-43bf-9e23-682e5823fc08"
      },
      "source": [
        "np.mean(X_train_poly_scaled[:, 2]),  np.std(X_train_poly_scaled[:, 2])"
      ],
      "execution_count": 128,
      "outputs": [
        {
          "output_type": "execute_result",
          "data": {
            "text/plain": [
              "(-1.3349110177040572e-16, 1.0000000000000002)"
            ]
          },
          "metadata": {
            "tags": []
          },
          "execution_count": 128
        }
      ]
    },
    {
      "cell_type": "code",
      "metadata": {
        "colab": {
          "base_uri": "https://localhost:8080/"
        },
        "id": "qnfGE8PKGWuK",
        "outputId": "3568015a-f55d-4f64-c83e-a0977001d3a3"
      },
      "source": [
        "# 모든 전처리(다차항+표준화)가 끝난 데이터로 선형 회귀 모델을 학습시킴.\r\n",
        "lin_reg.fit(X_train_poly_scaled, y_train)"
      ],
      "execution_count": 129,
      "outputs": [
        {
          "output_type": "execute_result",
          "data": {
            "text/plain": [
              "LinearRegression(copy_X=True, fit_intercept=True, n_jobs=None, normalize=False)"
            ]
          },
          "metadata": {
            "tags": []
          },
          "execution_count": 129
        }
      ]
    },
    {
      "cell_type": "code",
      "metadata": {
        "colab": {
          "base_uri": "https://localhost:8080/"
        },
        "id": "KuEEVL9FGlpY",
        "outputId": "1e49a750-fb30-418c-d851-1698152e20a0"
      },
      "source": [
        "lin_reg.coef_"
      ],
      "execution_count": 130,
      "outputs": [
        {
          "output_type": "execute_result",
          "data": {
            "text/plain": [
              "array([ 2.00557630e+10, -2.58408022e+11,  1.49532847e+12, -4.90418675e+12,\n",
              "        9.34291430e+12, -8.67392996e+12, -7.82611682e+11,  7.69668003e+12,\n",
              "       -5.58109456e+09, -6.79558407e+12, -2.46010065e+12,  4.99817517e+12,\n",
              "        5.20423172e+12, -1.63569143e+11, -5.04386991e+12, -4.58103039e+12,\n",
              "       -2.92727936e+11,  3.58006339e+12,  4.82124023e+12,  2.56502444e+12,\n",
              "       -1.02653972e+12, -3.84050839e+12, -4.08225740e+12, -2.38407359e+12,\n",
              "        1.98148411e+11,  2.61238310e+12,  3.62406355e+12,  3.27104682e+12,\n",
              "        1.54929950e+12, -4.44063972e+11, -2.07165132e+12, -3.00069992e+12,\n",
              "       -3.00183843e+12, -2.13789600e+12, -6.78418491e+11,  7.14760716e+11,\n",
              "        2.02103482e+12,  2.55576738e+12,  2.52470076e+12,  1.91395216e+12,\n",
              "        1.04869405e+12,  8.39890755e+10, -9.16363136e+11, -1.73570552e+12,\n",
              "       -2.04897502e+12, -2.09658188e+12, -1.65299115e+12, -1.16987146e+12,\n",
              "       -4.25185309e+11,  2.76530253e+11,  9.12030793e+11,  1.36269923e+12,\n",
              "        1.62030446e+12,  1.62185850e+12,  1.35146135e+12,  1.18636212e+12,\n",
              "        6.37891497e+11,  9.30442761e+10, -3.07087213e+11, -7.97525808e+11,\n",
              "       -1.09119222e+12, -1.25596811e+12, -1.20076999e+12, -1.27951426e+12,\n",
              "       -1.01833445e+12, -5.97085554e+11, -3.60526253e+11,  1.73064071e+11,\n",
              "        4.90102798e+11,  7.60390219e+11,  8.76080358e+11,  1.08675824e+12,\n",
              "        8.93363876e+11,  8.47995801e+11,  7.48071791e+11,  3.58460868e+11,\n",
              "        1.88892254e+11, -2.12754968e+11, -5.09387572e+11, -4.66983886e+11,\n",
              "       -7.17846515e+11, -8.15320173e+11, -8.04217164e+11, -6.39844011e+11,\n",
              "       -4.69151884e+11, -4.69548440e+10,  3.62721502e+11,  4.90415492e+11,\n",
              "        7.22326490e+11,  8.93030174e+11,  5.34427578e+11, -4.26221271e+10,\n",
              "       -1.02153095e+12,  0.00000000e+00,  0.00000000e+00,  0.00000000e+00,\n",
              "        0.00000000e+00,  0.00000000e+00,  0.00000000e+00,  0.00000000e+00])"
            ]
          },
          "metadata": {
            "tags": []
          },
          "execution_count": 130
        }
      ]
    },
    {
      "cell_type": "code",
      "metadata": {
        "colab": {
          "base_uri": "https://localhost:8080/"
        },
        "id": "L-Rf9u4yG9vx",
        "outputId": "1089ad4f-0943-4437-de72-ce55ae89dc41"
      },
      "source": [
        "# 훈련 셋의 평가 점수(R^2)\r\n",
        "lin_reg.score(X_train_poly_scaled, y_train)"
      ],
      "execution_count": 131,
      "outputs": [
        {
          "output_type": "execute_result",
          "data": {
            "text/plain": [
              "0.9927110456541562"
            ]
          },
          "metadata": {
            "tags": []
          },
          "execution_count": 131
        }
      ]
    },
    {
      "cell_type": "markdown",
      "metadata": {
        "id": "XbASdDJ_HTTU"
      },
      "source": [
        "테스트 셋 평가\r\n",
        "\r\n",
        "*   테스트 셋에 100차항까지 추가\r\n",
        "*   고차항이 포함된 테스트 셋을 표준화\r\n",
        "*   훈련된 모델의 predict() 메서드 호출해서 예측\r\n",
        "*   실제값과 비교(평가)\r\n"
      ]
    },
    {
      "cell_type": "code",
      "metadata": {
        "colab": {
          "base_uri": "https://localhost:8080/"
        },
        "id": "8EC9wnT-HM4b",
        "outputId": "0bc245a9-a2c2-4d67-822b-4a8ec91531ea"
      },
      "source": [
        "X_test.shape"
      ],
      "execution_count": 132,
      "outputs": [
        {
          "output_type": "execute_result",
          "data": {
            "text/plain": [
              "(14, 1)"
            ]
          },
          "metadata": {
            "tags": []
          },
          "execution_count": 132
        }
      ]
    },
    {
      "cell_type": "code",
      "metadata": {
        "colab": {
          "base_uri": "https://localhost:8080/"
        },
        "id": "exQV6HItHyqr",
        "outputId": "12d715ad-243e-4ab2-a546-834a940db34a"
      },
      "source": [
        "# 고차항 추가\r\n",
        "X_test_poly = poly_feat.transform(X_test)\r\n",
        "# 표준화\r\n",
        "X_test_poly_scaled = std_scaler.transform(X_test_poly)\r\n",
        "# R^2 score 계산\r\n",
        "lin_reg.score(X_test_poly_scaled, y_test)"
      ],
      "execution_count": 133,
      "outputs": [
        {
          "output_type": "execute_result",
          "data": {
            "text/plain": [
              "-5539748134.396258"
            ]
          },
          "metadata": {
            "tags": []
          },
          "execution_count": 133
        }
      ]
    },
    {
      "cell_type": "code",
      "metadata": {
        "colab": {
          "base_uri": "https://localhost:8080/"
        },
        "id": "dENpBWfpIcT-",
        "outputId": "5041bae8-312d-483c-94f5-5087df00fb09"
      },
      "source": [
        "# 테스트 셋의 실제값(무게)\r\n",
        "y_test"
      ],
      "execution_count": 134,
      "outputs": [
        {
          "output_type": "execute_result",
          "data": {
            "text/plain": [
              "array([   5.9,  100. ,  250. ,  130. ,  130. ,  820. ,  320. ,  188. ,\n",
              "        900. ,  125. , 1000. ,   51.5,  250. ,  300. ])"
            ]
          },
          "metadata": {
            "tags": []
          },
          "execution_count": 134
        }
      ]
    },
    {
      "cell_type": "code",
      "metadata": {
        "colab": {
          "base_uri": "https://localhost:8080/"
        },
        "id": "Z6ks03yMIffx",
        "outputId": "c8f96970-75b8-4746-bc41-25f685522931"
      },
      "source": [
        "lin_reg.predict(X_test_poly_scaled)"
      ],
      "execution_count": 135,
      "outputs": [
        {
          "output_type": "execute_result",
          "data": {
            "text/plain": [
              "array([-1.51806024e+07,  9.09695646e+01,  2.62264487e+02,  1.13381674e+02,\n",
              "        1.38555502e+02,  9.21657065e+02,  5.97914877e+02,  1.86762533e+02,\n",
              "        7.34993002e+02,  1.09439291e+02, -8.69132894e+07, -1.95900553e+02,\n",
              "        2.74123373e+02,  2.55557455e+02])"
            ]
          },
          "metadata": {
            "tags": []
          },
          "execution_count": 135
        }
      ]
    },
    {
      "cell_type": "code",
      "metadata": {
        "colab": {
          "base_uri": "https://localhost:8080/",
          "height": 265
        },
        "id": "2-jPUDjmI-Z6",
        "outputId": "5df26b2f-ff57-49a2-b60b-983db45d7e35"
      },
      "source": [
        "# 훈련 셋 시각화\r\n",
        "plt.scatter(X_train, y_train, color='darkgray', label='train')\r\n",
        "# 테스트 셋 시각화\r\n",
        "plt.scatter(X_test, y_test, color='dodgerblue', label='test')\r\n",
        "\r\n",
        "# 100차 선형 회귀 곡선 시각화\r\n",
        "Xs = np.arange(5, 45, 0.001).reshape((-1, 1))  # (n_samples, 1) 모양의 2d 배열\r\n",
        "Xs_poly = poly_feat.transform(Xs)  # 100차항까지 추가\r\n",
        "Xs_poly_scaled = std_scaler.transform(Xs_poly)  # 표준화\r\n",
        "ys = lin_reg.predict(Xs_poly_scaled)  # 전처리 끝난 데이터의 예측값 계산\r\n",
        "plt.plot(Xs, ys, color='red')\r\n",
        "\r\n",
        "plt.legend()\r\n",
        "plt.ylim((-10, 1500))\r\n",
        "plt.show()\r\n",
        "# 매우 과도하게 overfitting된 모델!"
      ],
      "execution_count": 143,
      "outputs": [
        {
          "output_type": "display_data",
          "data": {
            "image/png": "[encoded data removed]",
            "text/plain": [
              "<Figure size 432x288 with 1 Axes>"
            ]
          },
          "metadata": {
            "tags": [],
            "needs_background": "light"
          }
        }
      ]
    }
  ]
}