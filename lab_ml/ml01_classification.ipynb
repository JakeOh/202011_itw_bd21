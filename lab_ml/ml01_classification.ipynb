{
  "nbformat": 4,
  "nbformat_minor": 0,
  "metadata": {
    "colab": {
      "name": "ml01_classification.ipynb",
      "provenance": [],
      "collapsed_sections": [],
      "authorship_tag": "ABX9TyPGZ0qToTBqmXUM2Kb1dxG0",
      "include_colab_link": true
    },
    "kernelspec": {
      "name": "python3",
      "display_name": "Python 3"
    }
  },
  "cells": [
    {
      "cell_type": "markdown",
      "metadata": {
        "id": "view-in-github",
        "colab_type": "text"
      },
      "source": [
        "<a href=\"https://colab.research.google.com/github/JakeOh/202011_itw_bd21/blob/main/lab_ml/ml01_classification.ipynb\" target=\"_parent\"><img src=\"https://colab.research.google.com/assets/colab-badge.svg\" alt=\"Open In Colab\"/></a>"
      ]
    },
    {
      "cell_type": "markdown",
      "metadata": {
        "id": "6hiVSU_ej4Dn"
      },
      "source": [
        "# 0. 라이브러리 import"
      ]
    },
    {
      "cell_type": "code",
      "metadata": {
        "id": "jeTNemxli8ma"
      },
      "source": [
        "import numpy as np\r\n",
        "import pandas as pd\r\n",
        "import matplotlib.pyplot as plt\r\n",
        "import seaborn as sns\r\n",
        "\r\n",
        "from sklearn.neighbors import KNeighborsClassifier  # kNN 분류기\r\n",
        "# sklearn(scikit-learn 패키지)의 neighbors 모듈의 KNeighborsClassifier 클래스를 import"
      ],
      "execution_count": 1,
      "outputs": []
    },
    {
      "cell_type": "markdown",
      "metadata": {
        "id": "mPhLhHtekAOQ"
      },
      "source": [
        "# 1. 생선 종류 분류 문제"
      ]
    },
    {
      "cell_type": "markdown",
      "metadata": {
        "id": "NCE4MITikWPK"
      },
      "source": [
        "[kaggle](https://www.kaggle.com)의 [Fish market](https://www.kaggle.com/aungpyaeap/fish-market) 데이터 셋 사용"
      ]
    },
    {
      "cell_type": "code",
      "metadata": {
        "id": "kl6Q2BtOf5lz"
      },
      "source": [
        "# kaggle Fish market 데이터 셋\r\n",
        "fish_file = 'https://github.com/JakeOh/202011_itw_bd21/raw/main/datasets/Fish.csv'"
      ],
      "execution_count": 2,
      "outputs": []
    },
    {
      "cell_type": "code",
      "metadata": {
        "id": "yrg276yckMB5"
      },
      "source": [
        "# CSV 파일을 읽어서 데이터 프레임 생성\r\n",
        "fish = pd.read_csv(fish_file)"
      ],
      "execution_count": 3,
      "outputs": []
    },
    {
      "cell_type": "code",
      "metadata": {
        "colab": {
          "base_uri": "https://localhost:8080/",
          "height": 214
        },
        "id": "ebIK143Qkt7Z",
        "outputId": "580737a6-154d-47cc-8ffc-411262631edb"
      },
      "source": [
        "fish.head()"
      ],
      "execution_count": 4,
      "outputs": [
        {
          "output_type": "execute_result",
          "data": {
            "text/html": [
              "<div>\n",
              "<style scoped>\n",
              "    .dataframe tbody tr th:only-of-type {\n",
              "        vertical-align: middle;\n",
              "    }\n",
              "\n",
              "    .dataframe tbody tr th {\n",
              "        vertical-align: top;\n",
              "    }\n",
              "\n",
              "    .dataframe thead th {\n",
              "        text-align: right;\n",
              "    }\n",
              "</style>\n",
              "<table border=\"1\" class=\"dataframe\">\n",
              "  <thead>\n",
              "    <tr style=\"text-align: right;\">\n",
              "      <th></th>\n",
              "      <th>Species</th>\n",
              "      <th>Weight</th>\n",
              "      <th>Length1</th>\n",
              "      <th>Length2</th>\n",
              "      <th>Length3</th>\n",
              "      <th>Height</th>\n",
              "      <th>Width</th>\n",
              "    </tr>\n",
              "  </thead>\n",
              "  <tbody>\n",
              "    <tr>\n",
              "      <th>0</th>\n",
              "      <td>Bream</td>\n",
              "      <td>242.0</td>\n",
              "      <td>23.2</td>\n",
              "      <td>25.4</td>\n",
              "      <td>30.0</td>\n",
              "      <td>11.5200</td>\n",
              "      <td>4.0200</td>\n",
              "    </tr>\n",
              "    <tr>\n",
              "      <th>1</th>\n",
              "      <td>Bream</td>\n",
              "      <td>290.0</td>\n",
              "      <td>24.0</td>\n",
              "      <td>26.3</td>\n",
              "      <td>31.2</td>\n",
              "      <td>12.4800</td>\n",
              "      <td>4.3056</td>\n",
              "    </tr>\n",
              "    <tr>\n",
              "      <th>2</th>\n",
              "      <td>Bream</td>\n",
              "      <td>340.0</td>\n",
              "      <td>23.9</td>\n",
              "      <td>26.5</td>\n",
              "      <td>31.1</td>\n",
              "      <td>12.3778</td>\n",
              "      <td>4.6961</td>\n",
              "    </tr>\n",
              "    <tr>\n",
              "      <th>3</th>\n",
              "      <td>Bream</td>\n",
              "      <td>363.0</td>\n",
              "      <td>26.3</td>\n",
              "      <td>29.0</td>\n",
              "      <td>33.5</td>\n",
              "      <td>12.7300</td>\n",
              "      <td>4.4555</td>\n",
              "    </tr>\n",
              "    <tr>\n",
              "      <th>4</th>\n",
              "      <td>Bream</td>\n",
              "      <td>430.0</td>\n",
              "      <td>26.5</td>\n",
              "      <td>29.0</td>\n",
              "      <td>34.0</td>\n",
              "      <td>12.4440</td>\n",
              "      <td>5.1340</td>\n",
              "    </tr>\n",
              "  </tbody>\n",
              "</table>\n",
              "</div>"
            ],
            "text/plain": [
              "  Species  Weight  Length1  Length2  Length3   Height   Width\n",
              "0   Bream   242.0     23.2     25.4     30.0  11.5200  4.0200\n",
              "1   Bream   290.0     24.0     26.3     31.2  12.4800  4.3056\n",
              "2   Bream   340.0     23.9     26.5     31.1  12.3778  4.6961\n",
              "3   Bream   363.0     26.3     29.0     33.5  12.7300  4.4555\n",
              "4   Bream   430.0     26.5     29.0     34.0  12.4440  5.1340"
            ]
          },
          "metadata": {
            "tags": []
          },
          "execution_count": 4
        }
      ]
    },
    {
      "cell_type": "markdown",
      "metadata": {
        "id": "omjF9V-_lHzZ"
      },
      "source": [
        "데이터 탐색"
      ]
    },
    {
      "cell_type": "code",
      "metadata": {
        "colab": {
          "base_uri": "https://localhost:8080/"
        },
        "id": "oJNbunVTlHfL",
        "outputId": "94990f09-9057-4aed-8777-0727dd5cef81"
      },
      "source": [
        "fish.info()"
      ],
      "execution_count": 5,
      "outputs": [
        {
          "output_type": "stream",
          "text": [
            "<class 'pandas.core.frame.DataFrame'>\n",
            "RangeIndex: 159 entries, 0 to 158\n",
            "Data columns (total 7 columns):\n",
            " #   Column   Non-Null Count  Dtype  \n",
            "---  ------   --------------  -----  \n",
            " 0   Species  159 non-null    object \n",
            " 1   Weight   159 non-null    float64\n",
            " 2   Length1  159 non-null    float64\n",
            " 3   Length2  159 non-null    float64\n",
            " 4   Length3  159 non-null    float64\n",
            " 5   Height   159 non-null    float64\n",
            " 6   Width    159 non-null    float64\n",
            "dtypes: float64(6), object(1)\n",
            "memory usage: 8.8+ KB\n"
          ],
          "name": "stdout"
        }
      ]
    },
    {
      "cell_type": "markdown",
      "metadata": {
        "id": "VMK3IHzOnUpb"
      },
      "source": [
        "\r\n",
        "*   Species: 타겟(target). 종속 변수. 레이블.\r\n",
        "*   Weight ~ Width 6개 변수: 데이터(훈련 셋). 독립 변수. 설명 변수.\r\n"
      ]
    },
    {
      "cell_type": "code",
      "metadata": {
        "colab": {
          "base_uri": "https://localhost:8080/"
        },
        "id": "MwLrpkDQllfp",
        "outputId": "7e77c37e-4d74-4b6a-82d3-28d40469992f"
      },
      "source": [
        "# Species의 분포\r\n",
        "fish['Species'].value_counts()"
      ],
      "execution_count": 6,
      "outputs": [
        {
          "output_type": "execute_result",
          "data": {
            "text/plain": [
              "Perch        56\n",
              "Bream        35\n",
              "Roach        20\n",
              "Pike         17\n",
              "Smelt        14\n",
              "Parkki       11\n",
              "Whitefish     6\n",
              "Name: Species, dtype: int64"
            ]
          },
          "metadata": {
            "tags": []
          },
          "execution_count": 6
        }
      ]
    },
    {
      "cell_type": "code",
      "metadata": {
        "colab": {
          "base_uri": "https://localhost:8080/",
          "height": 312
        },
        "id": "lIl3KK5IlzXT",
        "outputId": "e33c9bff-eba0-47d8-f33d-29b3fc801179"
      },
      "source": [
        "# 숫자 타입 데이터들의 분포\r\n",
        "fish.describe()"
      ],
      "execution_count": 7,
      "outputs": [
        {
          "output_type": "execute_result",
          "data": {
            "text/html": [
              "<div>\n",
              "<style scoped>\n",
              "    .dataframe tbody tr th:only-of-type {\n",
              "        vertical-align: middle;\n",
              "    }\n",
              "\n",
              "    .dataframe tbody tr th {\n",
              "        vertical-align: top;\n",
              "    }\n",
              "\n",
              "    .dataframe thead th {\n",
              "        text-align: right;\n",
              "    }\n",
              "</style>\n",
              "<table border=\"1\" class=\"dataframe\">\n",
              "  <thead>\n",
              "    <tr style=\"text-align: right;\">\n",
              "      <th></th>\n",
              "      <th>Weight</th>\n",
              "      <th>Length1</th>\n",
              "      <th>Length2</th>\n",
              "      <th>Length3</th>\n",
              "      <th>Height</th>\n",
              "      <th>Width</th>\n",
              "    </tr>\n",
              "  </thead>\n",
              "  <tbody>\n",
              "    <tr>\n",
              "      <th>count</th>\n",
              "      <td>159.000000</td>\n",
              "      <td>159.000000</td>\n",
              "      <td>159.000000</td>\n",
              "      <td>159.000000</td>\n",
              "      <td>159.000000</td>\n",
              "      <td>159.000000</td>\n",
              "    </tr>\n",
              "    <tr>\n",
              "      <th>mean</th>\n",
              "      <td>398.326415</td>\n",
              "      <td>26.247170</td>\n",
              "      <td>28.415723</td>\n",
              "      <td>31.227044</td>\n",
              "      <td>8.970994</td>\n",
              "      <td>4.417486</td>\n",
              "    </tr>\n",
              "    <tr>\n",
              "      <th>std</th>\n",
              "      <td>357.978317</td>\n",
              "      <td>9.996441</td>\n",
              "      <td>10.716328</td>\n",
              "      <td>11.610246</td>\n",
              "      <td>4.286208</td>\n",
              "      <td>1.685804</td>\n",
              "    </tr>\n",
              "    <tr>\n",
              "      <th>min</th>\n",
              "      <td>0.000000</td>\n",
              "      <td>7.500000</td>\n",
              "      <td>8.400000</td>\n",
              "      <td>8.800000</td>\n",
              "      <td>1.728400</td>\n",
              "      <td>1.047600</td>\n",
              "    </tr>\n",
              "    <tr>\n",
              "      <th>25%</th>\n",
              "      <td>120.000000</td>\n",
              "      <td>19.050000</td>\n",
              "      <td>21.000000</td>\n",
              "      <td>23.150000</td>\n",
              "      <td>5.944800</td>\n",
              "      <td>3.385650</td>\n",
              "    </tr>\n",
              "    <tr>\n",
              "      <th>50%</th>\n",
              "      <td>273.000000</td>\n",
              "      <td>25.200000</td>\n",
              "      <td>27.300000</td>\n",
              "      <td>29.400000</td>\n",
              "      <td>7.786000</td>\n",
              "      <td>4.248500</td>\n",
              "    </tr>\n",
              "    <tr>\n",
              "      <th>75%</th>\n",
              "      <td>650.000000</td>\n",
              "      <td>32.700000</td>\n",
              "      <td>35.500000</td>\n",
              "      <td>39.650000</td>\n",
              "      <td>12.365900</td>\n",
              "      <td>5.584500</td>\n",
              "    </tr>\n",
              "    <tr>\n",
              "      <th>max</th>\n",
              "      <td>1650.000000</td>\n",
              "      <td>59.000000</td>\n",
              "      <td>63.400000</td>\n",
              "      <td>68.000000</td>\n",
              "      <td>18.957000</td>\n",
              "      <td>8.142000</td>\n",
              "    </tr>\n",
              "  </tbody>\n",
              "</table>\n",
              "</div>"
            ],
            "text/plain": [
              "            Weight     Length1     Length2     Length3      Height       Width\n",
              "count   159.000000  159.000000  159.000000  159.000000  159.000000  159.000000\n",
              "mean    398.326415   26.247170   28.415723   31.227044    8.970994    4.417486\n",
              "std     357.978317    9.996441   10.716328   11.610246    4.286208    1.685804\n",
              "min       0.000000    7.500000    8.400000    8.800000    1.728400    1.047600\n",
              "25%     120.000000   19.050000   21.000000   23.150000    5.944800    3.385650\n",
              "50%     273.000000   25.200000   27.300000   29.400000    7.786000    4.248500\n",
              "75%     650.000000   32.700000   35.500000   39.650000   12.365900    5.584500\n",
              "max    1650.000000   59.000000   63.400000   68.000000   18.957000    8.142000"
            ]
          },
          "metadata": {
            "tags": []
          },
          "execution_count": 7
        }
      ]
    },
    {
      "cell_type": "code",
      "metadata": {
        "colab": {
          "base_uri": "https://localhost:8080/",
          "height": 281
        },
        "id": "FCOElYu1m8CL",
        "outputId": "bdf58c3c-7626-4b02-e058-5b9278eea98c"
      },
      "source": [
        "# 6개 히스토그램\r\n",
        "# 6개의 subplot을 생성\r\n",
        "fig, ax = plt.subplots(ncols=6, figsize=(20, 4))\r\n",
        "\r\n",
        "# 히스토그램을 그릴 5개 변수(특성, 컬럼)\r\n",
        "variables = fish.columns[1:]\r\n",
        "\r\n",
        "# 각 변수마다 반복하면서 히스토그램을 그림.\r\n",
        "for i, var in enumerate(variables):\r\n",
        "    # ax[i].hist(fish[var])\r\n",
        "    # ax[i].set_xlabel(var)\r\n",
        "    sns.histplot(data=fish, x=var, ax=ax[i])\r\n",
        "\r\n",
        "plt.show()"
      ],
      "execution_count": 17,
      "outputs": [
        {
          "output_type": "display_data",
          "data": {
            "image/png": "[encoded data removed]",
            "text/plain": [
              "<Figure size 1440x288 with 6 Axes>"
            ]
          },
          "metadata": {
            "tags": [],
            "needs_background": "light"
          }
        }
      ]
    },
    {
      "cell_type": "markdown",
      "metadata": {
        "id": "puhullH_vJYe"
      },
      "source": [
        "## 2개 어종 분류 문제"
      ]
    },
    {
      "cell_type": "markdown",
      "metadata": {
        "id": "QKWeYkEOvUVK"
      },
      "source": [
        "\r\n",
        "*   Bream(도미), Smelt(빙어) 어종 선택\r\n",
        "*   Weight, Length2 변수만 고려\r\n"
      ]
    },
    {
      "cell_type": "code",
      "metadata": {
        "colab": {
          "base_uri": "https://localhost:8080/"
        },
        "id": "vUZJw9HRvTga",
        "outputId": "0e643931-ab21-4135-eda4-236cf54a9a0a"
      },
      "source": [
        "# bream 어종만 가지고 있는 부분집합\r\n",
        "bream = fish[fish['Species'] == 'Bream']\r\n",
        "num_bream = len(bream)\r\n",
        "print(num_bream)"
      ],
      "execution_count": 18,
      "outputs": [
        {
          "output_type": "stream",
          "text": [
            "35\n"
          ],
          "name": "stdout"
        }
      ]
    },
    {
      "cell_type": "code",
      "metadata": {
        "colab": {
          "base_uri": "https://localhost:8080/",
          "height": 214
        },
        "id": "qzghyV6wxqyT",
        "outputId": "793267b6-c506-45d0-d372-7500cd9a17ba"
      },
      "source": [
        "bream.head()"
      ],
      "execution_count": 19,
      "outputs": [
        {
          "output_type": "execute_result",
          "data": {
            "text/html": [
              "<div>\n",
              "<style scoped>\n",
              "    .dataframe tbody tr th:only-of-type {\n",
              "        vertical-align: middle;\n",
              "    }\n",
              "\n",
              "    .dataframe tbody tr th {\n",
              "        vertical-align: top;\n",
              "    }\n",
              "\n",
              "    .dataframe thead th {\n",
              "        text-align: right;\n",
              "    }\n",
              "</style>\n",
              "<table border=\"1\" class=\"dataframe\">\n",
              "  <thead>\n",
              "    <tr style=\"text-align: right;\">\n",
              "      <th></th>\n",
              "      <th>Species</th>\n",
              "      <th>Weight</th>\n",
              "      <th>Length1</th>\n",
              "      <th>Length2</th>\n",
              "      <th>Length3</th>\n",
              "      <th>Height</th>\n",
              "      <th>Width</th>\n",
              "    </tr>\n",
              "  </thead>\n",
              "  <tbody>\n",
              "    <tr>\n",
              "      <th>0</th>\n",
              "      <td>Bream</td>\n",
              "      <td>242.0</td>\n",
              "      <td>23.2</td>\n",
              "      <td>25.4</td>\n",
              "      <td>30.0</td>\n",
              "      <td>11.5200</td>\n",
              "      <td>4.0200</td>\n",
              "    </tr>\n",
              "    <tr>\n",
              "      <th>1</th>\n",
              "      <td>Bream</td>\n",
              "      <td>290.0</td>\n",
              "      <td>24.0</td>\n",
              "      <td>26.3</td>\n",
              "      <td>31.2</td>\n",
              "      <td>12.4800</td>\n",
              "      <td>4.3056</td>\n",
              "    </tr>\n",
              "    <tr>\n",
              "      <th>2</th>\n",
              "      <td>Bream</td>\n",
              "      <td>340.0</td>\n",
              "      <td>23.9</td>\n",
              "      <td>26.5</td>\n",
              "      <td>31.1</td>\n",
              "      <td>12.3778</td>\n",
              "      <td>4.6961</td>\n",
              "    </tr>\n",
              "    <tr>\n",
              "      <th>3</th>\n",
              "      <td>Bream</td>\n",
              "      <td>363.0</td>\n",
              "      <td>26.3</td>\n",
              "      <td>29.0</td>\n",
              "      <td>33.5</td>\n",
              "      <td>12.7300</td>\n",
              "      <td>4.4555</td>\n",
              "    </tr>\n",
              "    <tr>\n",
              "      <th>4</th>\n",
              "      <td>Bream</td>\n",
              "      <td>430.0</td>\n",
              "      <td>26.5</td>\n",
              "      <td>29.0</td>\n",
              "      <td>34.0</td>\n",
              "      <td>12.4440</td>\n",
              "      <td>5.1340</td>\n",
              "    </tr>\n",
              "  </tbody>\n",
              "</table>\n",
              "</div>"
            ],
            "text/plain": [
              "  Species  Weight  Length1  Length2  Length3   Height   Width\n",
              "0   Bream   242.0     23.2     25.4     30.0  11.5200  4.0200\n",
              "1   Bream   290.0     24.0     26.3     31.2  12.4800  4.3056\n",
              "2   Bream   340.0     23.9     26.5     31.1  12.3778  4.6961\n",
              "3   Bream   363.0     26.3     29.0     33.5  12.7300  4.4555\n",
              "4   Bream   430.0     26.5     29.0     34.0  12.4440  5.1340"
            ]
          },
          "metadata": {
            "tags": []
          },
          "execution_count": 19
        }
      ]
    },
    {
      "cell_type": "code",
      "metadata": {
        "id": "NUTtKHxfvtb7"
      },
      "source": [
        "bream_weight = bream['Weight'].values  # Bream 어종의 Weight 값들의 배열\r\n",
        "bream_length = bream['Length2'].values  # Bream 어종의 Length2 값들의 배열"
      ],
      "execution_count": 26,
      "outputs": []
    },
    {
      "cell_type": "code",
      "metadata": {
        "colab": {
          "base_uri": "https://localhost:8080/"
        },
        "id": "XokGQk2hx2nr",
        "outputId": "07dd645b-9245-4a0f-e438-450ee0c18b1a"
      },
      "source": [
        "bream_weight"
      ],
      "execution_count": 27,
      "outputs": [
        {
          "output_type": "execute_result",
          "data": {
            "text/plain": [
              "array([ 242.,  290.,  340.,  363.,  430.,  450.,  500.,  390.,  450.,\n",
              "        500.,  475.,  500.,  500.,  340.,  600.,  600.,  700.,  700.,\n",
              "        610.,  650.,  575.,  685.,  620.,  680.,  700.,  725.,  720.,\n",
              "        714.,  850., 1000.,  920.,  955.,  925.,  975.,  950.])"
            ]
          },
          "metadata": {
            "tags": []
          },
          "execution_count": 27
        }
      ]
    },
    {
      "cell_type": "code",
      "metadata": {
        "colab": {
          "base_uri": "https://localhost:8080/"
        },
        "id": "O8S8o_TCyStM",
        "outputId": "72889228-037d-410e-a7cc-b3b591dd19ad"
      },
      "source": [
        "bream_length"
      ],
      "execution_count": 28,
      "outputs": [
        {
          "output_type": "execute_result",
          "data": {
            "text/plain": [
              "array([25.4, 26.3, 26.5, 29. , 29. , 29.7, 29.7, 30. , 30. , 30.7, 31. ,\n",
              "       31. , 31.5, 32. , 32. , 32. , 33. , 33. , 33.5, 33.5, 34. , 34. ,\n",
              "       34.5, 35. , 35. , 35. , 35. , 36. , 36. , 37. , 38.5, 38.5, 39.5,\n",
              "       41. , 41. ])"
            ]
          },
          "metadata": {
            "tags": []
          },
          "execution_count": 28
        }
      ]
    },
    {
      "cell_type": "code",
      "metadata": {
        "colab": {
          "base_uri": "https://localhost:8080/"
        },
        "id": "nv7D-YyowCsb",
        "outputId": "453e38b3-cdb3-4cad-d3b4-87f9756de1e4"
      },
      "source": [
        "# smelt 어종만 가지고 있는 부분집합\r\n",
        "smelt = fish[fish['Species'] == 'Smelt']\r\n",
        "num_smelt = len(smelt)\r\n",
        "print(num_smelt)"
      ],
      "execution_count": 30,
      "outputs": [
        {
          "output_type": "stream",
          "text": [
            "14\n"
          ],
          "name": "stdout"
        }
      ]
    },
    {
      "cell_type": "code",
      "metadata": {
        "id": "LbTwUkQUwJny"
      },
      "source": [
        "smelt_weight = smelt['Weight'].values\r\n",
        "smelt_length = smelt['Length2'].values"
      ],
      "execution_count": 31,
      "outputs": []
    },
    {
      "cell_type": "code",
      "metadata": {
        "colab": {
          "base_uri": "https://localhost:8080/"
        },
        "id": "ci5rigBMzF7r",
        "outputId": "40cd321c-b5ad-4747-b59a-e24f90666d58"
      },
      "source": [
        "smelt_weight"
      ],
      "execution_count": 32,
      "outputs": [
        {
          "output_type": "execute_result",
          "data": {
            "text/plain": [
              "array([ 6.7,  7.5,  7. ,  9.7,  9.8,  8.7, 10. ,  9.9,  9.8, 12.2, 13.4,\n",
              "       12.2, 19.7, 19.9])"
            ]
          },
          "metadata": {
            "tags": []
          },
          "execution_count": 32
        }
      ]
    },
    {
      "cell_type": "code",
      "metadata": {
        "colab": {
          "base_uri": "https://localhost:8080/"
        },
        "id": "gWlmHOIHzHRL",
        "outputId": "b7c28b15-699b-4b69-8e64-607d074e2b07"
      },
      "source": [
        "smelt_length"
      ],
      "execution_count": 33,
      "outputs": [
        {
          "output_type": "execute_result",
          "data": {
            "text/plain": [
              "array([ 9.8, 10.5, 10.6, 11. , 11.2, 11.3, 11.8, 11.8, 12. , 12.2, 12.4,\n",
              "       13. , 14.3, 15. ])"
            ]
          },
          "metadata": {
            "tags": []
          },
          "execution_count": 33
        }
      ]
    },
    {
      "cell_type": "code",
      "metadata": {
        "colab": {
          "base_uri": "https://localhost:8080/",
          "height": 279
        },
        "id": "HWh_WYVZzI-b",
        "outputId": "a5d07696-3c97-4435-c26a-5610b38e4b5d"
      },
      "source": [
        "# Weight ~ Length 산점도 그래프. 점의 색깔은 어종(Bream, Smelt)에 따라서 다르게.\r\n",
        "plt.scatter(x=bream_length, y=bream_weight, label='Bream')\r\n",
        "plt.scatter(x=smelt_length, y=smelt_weight, label='Smelt')\r\n",
        "\r\n",
        "plt.legend()\r\n",
        "plt.xlabel('Length(cm)')\r\n",
        "plt.ylabel('Weight(g)')\r\n",
        "plt.show()"
      ],
      "execution_count": 36,
      "outputs": [
        {
          "output_type": "display_data",
          "data": {
            "image/png": "[encoded data removed]",
            "text/plain": [
              "<Figure size 432x288 with 1 Axes>"
            ]
          },
          "metadata": {
            "tags": [],
            "needs_background": "light"
          }
        }
      ]
    },
    {
      "cell_type": "markdown",
      "metadata": {
        "id": "xX-R914w1b6r"
      },
      "source": [
        "## 머신 러닝 모델 훈련"
      ]
    },
    {
      "cell_type": "markdown",
      "metadata": {
        "id": "DDsqclF11e6s"
      },
      "source": [
        "지도 학습\r\n",
        "\r\n",
        "*   데이터 - 2차원 배열\r\n",
        "*   타겟(레이블) - 1차원 배열\r\n"
      ]
    },
    {
      "cell_type": "code",
      "metadata": {
        "colab": {
          "base_uri": "https://localhost:8080/"
        },
        "id": "HVoLHdzM1Aoj",
        "outputId": "063ad420-85ed-4abf-83a9-2ad6240c436b"
      },
      "source": [
        "# 도미 데이터: 도미(bream)의 weight와 length를 갖고 있는 2차원 배열.\r\n",
        "# [[w1, l1], [w2, l2], ...]\r\n",
        "# bream_data = [[w, l] for w, l in zip(bream_weight, bream_length)]\r\n",
        "bream_data = np.c_[bream_weight, bream_length]\r\n",
        "len(bream_data)"
      ],
      "execution_count": 42,
      "outputs": [
        {
          "output_type": "execute_result",
          "data": {
            "text/plain": [
              "35"
            ]
          },
          "metadata": {
            "tags": []
          },
          "execution_count": 42
        }
      ]
    },
    {
      "cell_type": "code",
      "metadata": {
        "colab": {
          "base_uri": "https://localhost:8080/"
        },
        "id": "tgbpEhuzNuG-",
        "outputId": "6db17f44-1672-4226-85ba-cb2eb9bc253f"
      },
      "source": [
        "bream_data[:5]"
      ],
      "execution_count": 39,
      "outputs": [
        {
          "output_type": "execute_result",
          "data": {
            "text/plain": [
              "array([[242. ,  25.4],\n",
              "       [290. ,  26.3],\n",
              "       [340. ,  26.5],\n",
              "       [363. ,  29. ],\n",
              "       [430. ,  29. ]])"
            ]
          },
          "metadata": {
            "tags": []
          },
          "execution_count": 39
        }
      ]
    },
    {
      "cell_type": "code",
      "metadata": {
        "colab": {
          "base_uri": "https://localhost:8080/"
        },
        "id": "XM000xYvNv7f",
        "outputId": "56e90765-40a2-4f1e-de58-e9ef72c51021"
      },
      "source": [
        "bream_data[-5:]"
      ],
      "execution_count": 40,
      "outputs": [
        {
          "output_type": "execute_result",
          "data": {
            "text/plain": [
              "array([[920. ,  38.5],\n",
              "       [955. ,  38.5],\n",
              "       [925. ,  39.5],\n",
              "       [975. ,  41. ],\n",
              "       [950. ,  41. ]])"
            ]
          },
          "metadata": {
            "tags": []
          },
          "execution_count": 40
        }
      ]
    },
    {
      "cell_type": "code",
      "metadata": {
        "colab": {
          "base_uri": "https://localhost:8080/"
        },
        "id": "WL-14y1DK3nW",
        "outputId": "72a53063-5c1f-4848-9761-e6c84c8b527c"
      },
      "source": [
        "# 빙어 데이터: 빙어(smelt)의 weight와 length를 갖고 있는 2차원배열.\r\n",
        "smelt_data = np.c_[smelt_weight, smelt_length]\r\n",
        "len(smelt_data)"
      ],
      "execution_count": 41,
      "outputs": [
        {
          "output_type": "execute_result",
          "data": {
            "text/plain": [
              "14"
            ]
          },
          "metadata": {
            "tags": []
          },
          "execution_count": 41
        }
      ]
    },
    {
      "cell_type": "code",
      "metadata": {
        "colab": {
          "base_uri": "https://localhost:8080/"
        },
        "id": "bp67QnGpOkfq",
        "outputId": "c2fc96c1-77a0-4aca-e876-b1abc69aa27a"
      },
      "source": [
        "smelt_data[:5]"
      ],
      "execution_count": 43,
      "outputs": [
        {
          "output_type": "execute_result",
          "data": {
            "text/plain": [
              "array([[ 6.7,  9.8],\n",
              "       [ 7.5, 10.5],\n",
              "       [ 7. , 10.6],\n",
              "       [ 9.7, 11. ],\n",
              "       [ 9.8, 11.2]])"
            ]
          },
          "metadata": {
            "tags": []
          },
          "execution_count": 43
        }
      ]
    },
    {
      "cell_type": "code",
      "metadata": {
        "colab": {
          "base_uri": "https://localhost:8080/"
        },
        "id": "EWaJ89oVLBu2",
        "outputId": "107e7abe-eb75-4519-cee5-72eaa7d8ec50"
      },
      "source": [
        "# 생선 데이터: 도미/빙어 데이터의 row들을 합쳐서 만들어진 2차원 배열. 훈련 데이터\r\n",
        "fish_data = np.r_[bream_data, smelt_data]\r\n",
        "len(fish_data)"
      ],
      "execution_count": 44,
      "outputs": [
        {
          "output_type": "execute_result",
          "data": {
            "text/plain": [
              "49"
            ]
          },
          "metadata": {
            "tags": []
          },
          "execution_count": 44
        }
      ]
    },
    {
      "cell_type": "code",
      "metadata": {
        "colab": {
          "base_uri": "https://localhost:8080/"
        },
        "id": "VIJ94HThPNpH",
        "outputId": "8181777c-f907-44cf-820a-232faede01cd"
      },
      "source": [
        "fish_data[:5]"
      ],
      "execution_count": 45,
      "outputs": [
        {
          "output_type": "execute_result",
          "data": {
            "text/plain": [
              "array([[242. ,  25.4],\n",
              "       [290. ,  26.3],\n",
              "       [340. ,  26.5],\n",
              "       [363. ,  29. ],\n",
              "       [430. ,  29. ]])"
            ]
          },
          "metadata": {
            "tags": []
          },
          "execution_count": 45
        }
      ]
    },
    {
      "cell_type": "code",
      "metadata": {
        "colab": {
          "base_uri": "https://localhost:8080/"
        },
        "id": "UtdvAP7UPQme",
        "outputId": "6fb37684-da89-4c9e-c13f-40af660f1f28"
      },
      "source": [
        "fish_data[-5:]"
      ],
      "execution_count": 46,
      "outputs": [
        {
          "output_type": "execute_result",
          "data": {
            "text/plain": [
              "array([[12.2, 12.2],\n",
              "       [13.4, 12.4],\n",
              "       [12.2, 13. ],\n",
              "       [19.7, 14.3],\n",
              "       [19.9, 15. ]])"
            ]
          },
          "metadata": {
            "tags": []
          },
          "execution_count": 46
        }
      ]
    },
    {
      "cell_type": "code",
      "metadata": {
        "colab": {
          "base_uri": "https://localhost:8080/"
        },
        "id": "Mtezn-7GLgWW",
        "outputId": "85f346b3-64e5-4d8f-a183-5f6fb57ec1c1"
      },
      "source": [
        "# 타겟(target): 레이블. 1-도미(bream), 0-빙어(smelt)들로 이루어진 1차원 배열\r\n",
        "fish_label = np.array([1] * num_bream + [0] * num_smelt)\r\n",
        "fish_label"
      ],
      "execution_count": 47,
      "outputs": [
        {
          "output_type": "execute_result",
          "data": {
            "text/plain": [
              "array([1, 1, 1, 1, 1, 1, 1, 1, 1, 1, 1, 1, 1, 1, 1, 1, 1, 1, 1, 1, 1, 1,\n",
              "       1, 1, 1, 1, 1, 1, 1, 1, 1, 1, 1, 1, 1, 0, 0, 0, 0, 0, 0, 0, 0, 0,\n",
              "       0, 0, 0, 0, 0])"
            ]
          },
          "metadata": {
            "tags": []
          },
          "execution_count": 47
        }
      ]
    },
    {
      "cell_type": "markdown",
      "metadata": {
        "id": "t7F3KmARQJ7v"
      },
      "source": [
        "### 훈련 모델 선택, 생성"
      ]
    },
    {
      "cell_type": "code",
      "metadata": {
        "id": "LWDhXqrSP_bA"
      },
      "source": [
        "# kNN 분류기 모델 생성.\r\n",
        "knn_cls = KNeighborsClassifier()"
      ],
      "execution_count": 48,
      "outputs": []
    },
    {
      "cell_type": "code",
      "metadata": {
        "colab": {
          "base_uri": "https://localhost:8080/"
        },
        "id": "f-e4yMz-RRZ5",
        "outputId": "dbf542ef-0435-4e69-cda6-6a3c42988b57"
      },
      "source": [
        "# 훈련 데이터, 레이블로 모델을 학습시킴.\r\n",
        "knn_cls.fit(X=fish_data, y=fish_label)"
      ],
      "execution_count": 49,
      "outputs": [
        {
          "output_type": "execute_result",
          "data": {
            "text/plain": [
              "KNeighborsClassifier(algorithm='auto', leaf_size=30, metric='minkowski',\n",
              "                     metric_params=None, n_jobs=None, n_neighbors=5, p=2,\n",
              "                     weights='uniform')"
            ]
          },
          "metadata": {
            "tags": []
          },
          "execution_count": 49
        }
      ]
    },
    {
      "cell_type": "markdown",
      "metadata": {
        "id": "sMPBQ85MVyC_"
      },
      "source": [
        "kNN(k-Nearest Neighbors, k-최근접 이웃) 분류기는 별도의 훈련 시간이 필요치 않음.\r\n",
        "\r\n",
        "모든 훈련 데이터와 훈련 레이블을 단순히 저장만 하고 있다가, 테스트 데이터가 입력됐을 때 가장 가까운 이웃 k개를 찾아서 예측을 하기 때문에."
      ]
    },
    {
      "cell_type": "code",
      "metadata": {
        "colab": {
          "base_uri": "https://localhost:8080/"
        },
        "id": "fA2dhC2yR7LV",
        "outputId": "fa84ca69-47c6-4829-f137-2e8632674153"
      },
      "source": [
        "# 숨겨진 속성(hidden attributes)\r\n",
        "# 1) _fit_X: fit() 메서드에서 파라미터 X에 전달한 훈련 데이터(2차원 배열)를 저장\r\n",
        "knn_cls._fit_X[:5]"
      ],
      "execution_count": 51,
      "outputs": [
        {
          "output_type": "execute_result",
          "data": {
            "text/plain": [
              "array([[242. ,  25.4],\n",
              "       [290. ,  26.3],\n",
              "       [340. ,  26.5],\n",
              "       [363. ,  29. ],\n",
              "       [430. ,  29. ]])"
            ]
          },
          "metadata": {
            "tags": []
          },
          "execution_count": 51
        }
      ]
    },
    {
      "cell_type": "code",
      "metadata": {
        "colab": {
          "base_uri": "https://localhost:8080/"
        },
        "id": "6foTaafwWuQf",
        "outputId": "da2b1f9d-8302-4d53-c844-4048f0980283"
      },
      "source": [
        "# 2) _y: fit() 메서드에서 파라미터 y에 전달한 훈련 레이블(1차원 배열)을 저장.\r\n",
        "knn_cls._y"
      ],
      "execution_count": 52,
      "outputs": [
        {
          "output_type": "execute_result",
          "data": {
            "text/plain": [
              "array([1, 1, 1, 1, 1, 1, 1, 1, 1, 1, 1, 1, 1, 1, 1, 1, 1, 1, 1, 1, 1, 1,\n",
              "       1, 1, 1, 1, 1, 1, 1, 1, 1, 1, 1, 1, 1, 0, 0, 0, 0, 0, 0, 0, 0, 0,\n",
              "       0, 0, 0, 0, 0])"
            ]
          },
          "metadata": {
            "tags": []
          },
          "execution_count": 52
        }
      ]
    },
    {
      "cell_type": "markdown",
      "metadata": {
        "id": "1Izn-yjAYnMY"
      },
      "source": [
        "### 모델 평가"
      ]
    },
    {
      "cell_type": "code",
      "metadata": {
        "colab": {
          "base_uri": "https://localhost:8080/"
        },
        "id": "3PUT8cqiXEbA",
        "outputId": "0c52fb58-fe10-4657-c3a8-f6951cec115e"
      },
      "source": [
        "# 훈련 데이터를 얼마나 잘 분류하는 지 평가.\r\n",
        "# 훈련 데이터의 예측값 계산 -> 훈련 데이터의 레이블과 비교\r\n",
        "train_predicts = knn_cls.predict(fish_data)\r\n",
        "train_predicts"
      ],
      "execution_count": 55,
      "outputs": [
        {
          "output_type": "execute_result",
          "data": {
            "text/plain": [
              "array([1, 1, 1, 1, 1, 1, 1, 1, 1, 1, 1, 1, 1, 1, 1, 1, 1, 1, 1, 1, 1, 1,\n",
              "       1, 1, 1, 1, 1, 1, 1, 1, 1, 1, 1, 1, 1, 0, 0, 0, 0, 0, 0, 0, 0, 0,\n",
              "       0, 0, 0, 0, 0])"
            ]
          },
          "metadata": {
            "tags": []
          },
          "execution_count": 55
        }
      ]
    },
    {
      "cell_type": "code",
      "metadata": {
        "colab": {
          "base_uri": "https://localhost:8080/"
        },
        "id": "BS0pVhk9ZvtC",
        "outputId": "3e735bdd-2d96-4ffd-e507-946ed611aa9e"
      },
      "source": [
        "train_predicts == fish_label  # 예측값 == 실제값"
      ],
      "execution_count": 56,
      "outputs": [
        {
          "output_type": "execute_result",
          "data": {
            "text/plain": [
              "array([ True,  True,  True,  True,  True,  True,  True,  True,  True,\n",
              "        True,  True,  True,  True,  True,  True,  True,  True,  True,\n",
              "        True,  True,  True,  True,  True,  True,  True,  True,  True,\n",
              "        True,  True,  True,  True,  True,  True,  True,  True,  True,\n",
              "        True,  True,  True,  True,  True,  True,  True,  True,  True,\n",
              "        True,  True,  True,  True])"
            ]
          },
          "metadata": {
            "tags": []
          },
          "execution_count": 56
        }
      ]
    },
    {
      "cell_type": "code",
      "metadata": {
        "colab": {
          "base_uri": "https://localhost:8080/"
        },
        "id": "UKjRtAm0Z0_A",
        "outputId": "9146ab7a-4f68-4acf-a89e-b237ab0ddd75"
      },
      "source": [
        "# 훈련 데이터 예측의 정확도\r\n",
        "np.mean(train_predicts == fish_label)"
      ],
      "execution_count": 57,
      "outputs": [
        {
          "output_type": "execute_result",
          "data": {
            "text/plain": [
              "1.0"
            ]
          },
          "metadata": {
            "tags": []
          },
          "execution_count": 57
        }
      ]
    },
    {
      "cell_type": "code",
      "metadata": {
        "colab": {
          "base_uri": "https://localhost:8080/"
        },
        "id": "L8QCCMn9aHRf",
        "outputId": "34eae47d-cabd-459c-bbe4-6a1c0d432404"
      },
      "source": [
        "knn_cls.score(X=fish_data, y=fish_label)"
      ],
      "execution_count": 58,
      "outputs": [
        {
          "output_type": "execute_result",
          "data": {
            "text/plain": [
              "1.0"
            ]
          },
          "metadata": {
            "tags": []
          },
          "execution_count": 58
        }
      ]
    },
    {
      "cell_type": "code",
      "metadata": {
        "colab": {
          "base_uri": "https://localhost:8080/",
          "height": 279
        },
        "id": "gAduUBkFemCJ",
        "outputId": "45f12703-d515-4a20-f399-83e28cf98471"
      },
      "source": [
        "# 가상의 생선 2마리: [[600g, 30cm], [50g, 14cm]]\r\n",
        "plt.scatter(bream_length, bream_weight, label='Bream')\r\n",
        "plt.scatter(smelt_length, smelt_weight, label='Smelt')\r\n",
        "plt.scatter([30, 14], [600, 50], marker='v', color='red', label='Want to know')\r\n",
        "\r\n",
        "plt.legend()\r\n",
        "plt.xlabel('Length(cm)')\r\n",
        "plt.ylabel('Weight(g)')\r\n",
        "plt.show()"
      ],
      "execution_count": 64,
      "outputs": [
        {
          "output_type": "display_data",
          "data": {
            "image/png": "[encoded data removed]",
            "text/plain": [
              "<Figure size 432x288 with 1 Axes>"
            ]
          },
          "metadata": {
            "tags": [],
            "needs_background": "light"
          }
        }
      ]
    },
    {
      "cell_type": "code",
      "metadata": {
        "colab": {
          "base_uri": "https://localhost:8080/"
        },
        "id": "Ko4KxYFrlLRK",
        "outputId": "8fa168ed-16e7-4227-e10b-e3588c8bb732"
      },
      "source": [
        "knn_cls.predict([[600, 30], [50, 14]])"
      ],
      "execution_count": 65,
      "outputs": [
        {
          "output_type": "execute_result",
          "data": {
            "text/plain": [
              "array([1, 0])"
            ]
          },
          "metadata": {
            "tags": []
          },
          "execution_count": 65
        }
      ]
    },
    {
      "cell_type": "code",
      "metadata": {
        "colab": {
          "base_uri": "https://localhost:8080/"
        },
        "id": "tInofbNSl3LB",
        "outputId": "aea47fc7-cb16-4de6-f252-6b1ad33c4e60"
      },
      "source": [
        "knn_cls.predict([[600, 30]])  # shape: (1, 2) -> 2차원 배열"
      ],
      "execution_count": 68,
      "outputs": [
        {
          "output_type": "execute_result",
          "data": {
            "text/plain": [
              "array([1])"
            ]
          },
          "metadata": {
            "tags": []
          },
          "execution_count": 68
        }
      ]
    },
    {
      "cell_type": "code",
      "metadata": {
        "colab": {
          "base_uri": "https://localhost:8080/"
        },
        "id": "PfwJ4B1RncQ7",
        "outputId": "f8b8b6c3-f662-4bad-fa86-55aaf91cbd01"
      },
      "source": [
        "knn_cls.predict([[50, 14]])"
      ],
      "execution_count": 69,
      "outputs": [
        {
          "output_type": "execute_result",
          "data": {
            "text/plain": [
              "array([0])"
            ]
          },
          "metadata": {
            "tags": []
          },
          "execution_count": 69
        }
      ]
    },
    {
      "cell_type": "markdown",
      "metadata": {
        "id": "VjZBnnoAns4C"
      },
      "source": [
        "# k값에 따른 성능 변환"
      ]
    },
    {
      "cell_type": "code",
      "metadata": {
        "colab": {
          "base_uri": "https://localhost:8080/"
        },
        "id": "PK8dt0jyn0JX",
        "outputId": "c056fc71-52d4-411d-8821-33df9c9505a0"
      },
      "source": [
        "knn_cls.get_params()  # 머신 러닝 알고리즘이 가지고 있는 모델 파라미터들과 설정된 값들."
      ],
      "execution_count": 70,
      "outputs": [
        {
          "output_type": "execute_result",
          "data": {
            "text/plain": [
              "{'algorithm': 'auto',\n",
              " 'leaf_size': 30,\n",
              " 'metric': 'minkowski',\n",
              " 'metric_params': None,\n",
              " 'n_jobs': None,\n",
              " 'n_neighbors': 5,\n",
              " 'p': 2,\n",
              " 'weights': 'uniform'}"
            ]
          },
          "metadata": {
            "tags": []
          },
          "execution_count": 70
        }
      ]
    },
    {
      "cell_type": "code",
      "metadata": {
        "colab": {
          "base_uri": "https://localhost:8080/"
        },
        "id": "bPl3Nb3Rn-iT",
        "outputId": "a9fe150a-94c4-460e-a5a9-ff0911735872"
      },
      "source": [
        "knn_cls.n_neighbors  # 머신 러닝 알고리즘의 모델 파라미터 하나의 값을 알아내거나 변경할 수 있음."
      ],
      "execution_count": 71,
      "outputs": [
        {
          "output_type": "execute_result",
          "data": {
            "text/plain": [
              "5"
            ]
          },
          "metadata": {
            "tags": []
          },
          "execution_count": 71
        }
      ]
    },
    {
      "cell_type": "markdown",
      "metadata": {
        "id": "I_nC8b4ppWdY"
      },
      "source": [
        "### k=1 kNN 모델 훈련/평가"
      ]
    },
    {
      "cell_type": "code",
      "metadata": {
        "colab": {
          "base_uri": "https://localhost:8080/"
        },
        "id": "kR8tlgx3pVhz",
        "outputId": "660c5c10-6094-4b04-de96-373c720deff7"
      },
      "source": [
        "knn_1 = KNeighborsClassifier(n_neighbors=1)\r\n",
        "#> 가장 가까운 이웃 1개의 레이블로 값을 예측\r\n",
        "knn_1.fit(X=fish_data, y=fish_label)\r\n",
        "knn_1.score(X=fish_data, y=fish_label)"
      ],
      "execution_count": 72,
      "outputs": [
        {
          "output_type": "execute_result",
          "data": {
            "text/plain": [
              "1.0"
            ]
          },
          "metadata": {
            "tags": []
          },
          "execution_count": 72
        }
      ]
    },
    {
      "cell_type": "code",
      "metadata": {
        "colab": {
          "base_uri": "https://localhost:8080/"
        },
        "id": "BaLYrsY3pwQz",
        "outputId": "117723d6-22ad-4fa1-e326-82e529e72a31"
      },
      "source": [
        "# 훈련 셋의 모든 샘플 간의 거리를 사용해서 예측\r\n",
        "knn_49 = KNeighborsClassifier(n_neighbors=49)  # bream(35) + smelt(14)\r\n",
        "knn_49.fit(fish_data, fish_label)\r\n",
        "knn_49.score(fish_data, fish_label)"
      ],
      "execution_count": 73,
      "outputs": [
        {
          "output_type": "execute_result",
          "data": {
            "text/plain": [
              "0.7142857142857143"
            ]
          },
          "metadata": {
            "tags": []
          },
          "execution_count": 73
        }
      ]
    },
    {
      "cell_type": "code",
      "metadata": {
        "colab": {
          "base_uri": "https://localhost:8080/"
        },
        "id": "okR8sj_7qht3",
        "outputId": "78d925a6-e26a-4080-d29a-659e01145f6a"
      },
      "source": [
        "num_bream / (num_bream + num_smelt)  # 35/49"
      ],
      "execution_count": 74,
      "outputs": [
        {
          "output_type": "execute_result",
          "data": {
            "text/plain": [
              "0.7142857142857143"
            ]
          },
          "metadata": {
            "tags": []
          },
          "execution_count": 74
        }
      ]
    },
    {
      "cell_type": "code",
      "metadata": {
        "colab": {
          "base_uri": "https://localhost:8080/"
        },
        "id": "2N3QompmsKNq",
        "outputId": "dd5fda0b-7204-4436-aeb9-3d65f6c58a46"
      },
      "source": [
        "knn = KNeighborsClassifier()  # k=5\r\n",
        "knn.fit(fish_data, fish_label)\r\n",
        "knn.n_neighbors = 49  # 모델 파라미터 변경\r\n",
        "knn.score(fish_data, fish_label)"
      ],
      "execution_count": 76,
      "outputs": [
        {
          "output_type": "execute_result",
          "data": {
            "text/plain": [
              "0.7142857142857143"
            ]
          },
          "metadata": {
            "tags": []
          },
          "execution_count": 76
        }
      ]
    },
    {
      "cell_type": "markdown",
      "metadata": {
        "id": "8P6SvTTEssKT"
      },
      "source": [
        "k값을 1 ~ 49까지 변화시키면서 score를 계산. 계산된 score들을 시각화."
      ]
    },
    {
      "cell_type": "code",
      "metadata": {
        "id": "cMSxVsiotcgI"
      },
      "source": [
        ""
      ],
      "execution_count": null,
      "outputs": []
    }
  ]
}