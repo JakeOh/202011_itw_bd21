{
  "nbformat": 4,
  "nbformat_minor": 0,
  "metadata": {
    "colab": {
      "name": "ml06_logistic_regression.ipynb",
      "provenance": [],
      "collapsed_sections": [],
      "authorship_tag": "ABX9TyNEfOkUeiFMN7wbpjl1zVLV",
      "include_colab_link": true
    },
    "kernelspec": {
      "name": "python3",
      "display_name": "Python 3"
    }
  },
  "cells": [
    {
      "cell_type": "markdown",
      "metadata": {
        "id": "view-in-github",
        "colab_type": "text"
      },
      "source": [
        "<a href=\"https://colab.research.google.com/github/JakeOh/202011_itw_bd21/blob/main/lab_ml/ml06_logistic_regression.ipynb\" target=\"_parent\"><img src=\"https://colab.research.google.com/assets/colab-badge.svg\" alt=\"Open In Colab\"/></a>"
      ]
    },
    {
      "cell_type": "markdown",
      "metadata": {
        "id": "Mt0M8YJZdIDB"
      },
      "source": [
        "# Imports"
      ]
    },
    {
      "cell_type": "code",
      "metadata": {
        "id": "vXjI97Zubfuu"
      },
      "source": [
        "import numpy as np\r\n",
        "import pandas as pd\r\n",
        "import matplotlib.pyplot as plt\r\n",
        "import scipy  # 과학기술, 공학용 패키지(배열, 특수함수). \r\n",
        "# scipy.special.expit(), scipy.special.softmax() 함수\r\n",
        "\r\n",
        "from sklearn.model_selection import train_test_split\r\n",
        "from sklearn.preprocessing import StandardScaler\r\n",
        "from sklearn.neighbors import KNeighborsClassifier\r\n",
        "from sklearn.linear_model import LogisticRegression\r\n",
        "from sklearn.metrics import confusion_matrix, classification_report"
      ],
      "execution_count": 1,
      "outputs": []
    },
    {
      "cell_type": "markdown",
      "metadata": {
        "id": "3Ph3eTQrdZ3C"
      },
      "source": [
        "# Data"
      ]
    },
    {
      "cell_type": "code",
      "metadata": {
        "id": "Om9tB9HDdHKD"
      },
      "source": [
        "fish_file = 'https://github.com/JakeOh/202011_itw_bd21/raw/main/datasets/Fish.csv'"
      ],
      "execution_count": 2,
      "outputs": []
    },
    {
      "cell_type": "code",
      "metadata": {
        "id": "EzZNXE_Ndn-3"
      },
      "source": [
        "df = pd.read_csv(fish_file)"
      ],
      "execution_count": 3,
      "outputs": []
    },
    {
      "cell_type": "code",
      "metadata": {
        "colab": {
          "base_uri": "https://localhost:8080/",
          "height": 214
        },
        "id": "IDX1pcgpdx74",
        "outputId": "ecc84b08-833d-423e-bb00-8ee22a29161c"
      },
      "source": [
        "df.head()"
      ],
      "execution_count": 4,
      "outputs": [
        {
          "output_type": "execute_result",
          "data": {
            "text/html": [
              "<div>\n",
              "<style scoped>\n",
              "    .dataframe tbody tr th:only-of-type {\n",
              "        vertical-align: middle;\n",
              "    }\n",
              "\n",
              "    .dataframe tbody tr th {\n",
              "        vertical-align: top;\n",
              "    }\n",
              "\n",
              "    .dataframe thead th {\n",
              "        text-align: right;\n",
              "    }\n",
              "</style>\n",
              "<table border=\"1\" class=\"dataframe\">\n",
              "  <thead>\n",
              "    <tr style=\"text-align: right;\">\n",
              "      <th></th>\n",
              "      <th>Species</th>\n",
              "      <th>Weight</th>\n",
              "      <th>Length1</th>\n",
              "      <th>Length2</th>\n",
              "      <th>Length3</th>\n",
              "      <th>Height</th>\n",
              "      <th>Width</th>\n",
              "    </tr>\n",
              "  </thead>\n",
              "  <tbody>\n",
              "    <tr>\n",
              "      <th>0</th>\n",
              "      <td>Bream</td>\n",
              "      <td>242.0</td>\n",
              "      <td>23.2</td>\n",
              "      <td>25.4</td>\n",
              "      <td>30.0</td>\n",
              "      <td>11.5200</td>\n",
              "      <td>4.0200</td>\n",
              "    </tr>\n",
              "    <tr>\n",
              "      <th>1</th>\n",
              "      <td>Bream</td>\n",
              "      <td>290.0</td>\n",
              "      <td>24.0</td>\n",
              "      <td>26.3</td>\n",
              "      <td>31.2</td>\n",
              "      <td>12.4800</td>\n",
              "      <td>4.3056</td>\n",
              "    </tr>\n",
              "    <tr>\n",
              "      <th>2</th>\n",
              "      <td>Bream</td>\n",
              "      <td>340.0</td>\n",
              "      <td>23.9</td>\n",
              "      <td>26.5</td>\n",
              "      <td>31.1</td>\n",
              "      <td>12.3778</td>\n",
              "      <td>4.6961</td>\n",
              "    </tr>\n",
              "    <tr>\n",
              "      <th>3</th>\n",
              "      <td>Bream</td>\n",
              "      <td>363.0</td>\n",
              "      <td>26.3</td>\n",
              "      <td>29.0</td>\n",
              "      <td>33.5</td>\n",
              "      <td>12.7300</td>\n",
              "      <td>4.4555</td>\n",
              "    </tr>\n",
              "    <tr>\n",
              "      <th>4</th>\n",
              "      <td>Bream</td>\n",
              "      <td>430.0</td>\n",
              "      <td>26.5</td>\n",
              "      <td>29.0</td>\n",
              "      <td>34.0</td>\n",
              "      <td>12.4440</td>\n",
              "      <td>5.1340</td>\n",
              "    </tr>\n",
              "  </tbody>\n",
              "</table>\n",
              "</div>"
            ],
            "text/plain": [
              "  Species  Weight  Length1  Length2  Length3   Height   Width\n",
              "0   Bream   242.0     23.2     25.4     30.0  11.5200  4.0200\n",
              "1   Bream   290.0     24.0     26.3     31.2  12.4800  4.3056\n",
              "2   Bream   340.0     23.9     26.5     31.1  12.3778  4.6961\n",
              "3   Bream   363.0     26.3     29.0     33.5  12.7300  4.4555\n",
              "4   Bream   430.0     26.5     29.0     34.0  12.4440  5.1340"
            ]
          },
          "metadata": {
            "tags": []
          },
          "execution_count": 4
        }
      ]
    },
    {
      "cell_type": "code",
      "metadata": {
        "colab": {
          "base_uri": "https://localhost:8080/"
        },
        "id": "-V6S12-GdzEw",
        "outputId": "03a8bdac-e41f-40ce-b412-c776ec8bd071"
      },
      "source": [
        "df.info()"
      ],
      "execution_count": 5,
      "outputs": [
        {
          "output_type": "stream",
          "text": [
            "<class 'pandas.core.frame.DataFrame'>\n",
            "RangeIndex: 159 entries, 0 to 158\n",
            "Data columns (total 7 columns):\n",
            " #   Column   Non-Null Count  Dtype  \n",
            "---  ------   --------------  -----  \n",
            " 0   Species  159 non-null    object \n",
            " 1   Weight   159 non-null    float64\n",
            " 2   Length1  159 non-null    float64\n",
            " 3   Length2  159 non-null    float64\n",
            " 4   Length3  159 non-null    float64\n",
            " 5   Height   159 non-null    float64\n",
            " 6   Width    159 non-null    float64\n",
            "dtypes: float64(6), object(1)\n",
            "memory usage: 8.8+ KB\n"
          ],
          "name": "stdout"
        }
      ]
    },
    {
      "cell_type": "code",
      "metadata": {
        "colab": {
          "base_uri": "https://localhost:8080/"
        },
        "id": "BW4U9Uolhz3L",
        "outputId": "7a7cdccb-11da-4867-e059-8b6af2182f04"
      },
      "source": [
        "np.unique(df['Species'])"
      ],
      "execution_count": 6,
      "outputs": [
        {
          "output_type": "execute_result",
          "data": {
            "text/plain": [
              "array(['Bream', 'Parkki', 'Perch', 'Pike', 'Roach', 'Smelt', 'Whitefish'],\n",
              "      dtype=object)"
            ]
          },
          "metadata": {
            "tags": []
          },
          "execution_count": 6
        }
      ]
    },
    {
      "cell_type": "markdown",
      "metadata": {
        "id": "xNTi49CVhrlu"
      },
      "source": [
        "# 이진 분류(binary-class classification)"
      ]
    },
    {
      "cell_type": "code",
      "metadata": {
        "id": "gD4_keVhd-SY"
      },
      "source": [
        "# df에서 Bream, Smelt 어종만 선택\r\n",
        "bream_smelt = df[(df['Species'] == 'Bream') | (df['Species'] == 'Smelt')]"
      ],
      "execution_count": 7,
      "outputs": []
    },
    {
      "cell_type": "code",
      "metadata": {
        "colab": {
          "base_uri": "https://localhost:8080/"
        },
        "id": "GYD1wDxwiale",
        "outputId": "98f461d3-d984-4b2a-d24d-33a1b77acebc"
      },
      "source": [
        "bream_smelt.info()"
      ],
      "execution_count": 8,
      "outputs": [
        {
          "output_type": "stream",
          "text": [
            "<class 'pandas.core.frame.DataFrame'>\n",
            "Int64Index: 49 entries, 0 to 158\n",
            "Data columns (total 7 columns):\n",
            " #   Column   Non-Null Count  Dtype  \n",
            "---  ------   --------------  -----  \n",
            " 0   Species  49 non-null     object \n",
            " 1   Weight   49 non-null     float64\n",
            " 2   Length1  49 non-null     float64\n",
            " 3   Length2  49 non-null     float64\n",
            " 4   Length3  49 non-null     float64\n",
            " 5   Height   49 non-null     float64\n",
            " 6   Width    49 non-null     float64\n",
            "dtypes: float64(6), object(1)\n",
            "memory usage: 3.1+ KB\n"
          ],
          "name": "stdout"
        }
      ]
    },
    {
      "cell_type": "markdown",
      "metadata": {
        "id": "bW-smMMAiuGF"
      },
      "source": [
        "## DF -> Array"
      ]
    },
    {
      "cell_type": "code",
      "metadata": {
        "id": "JGt2RD_AizQN"
      },
      "source": [
        "# data\r\n",
        "X = bream_smelt[['Weight', 'Length2', 'Height', 'Width']].to_numpy()\r\n",
        "# target\r\n",
        "y = bream_smelt['Species'].values"
      ],
      "execution_count": 9,
      "outputs": []
    },
    {
      "cell_type": "code",
      "metadata": {
        "colab": {
          "base_uri": "https://localhost:8080/"
        },
        "id": "6DLQMhDrjTT0",
        "outputId": "b6d5b4ca-d75c-4f77-aaac-4b7cfa0f09d6"
      },
      "source": [
        "X.shape"
      ],
      "execution_count": 10,
      "outputs": [
        {
          "output_type": "execute_result",
          "data": {
            "text/plain": [
              "(49, 4)"
            ]
          },
          "metadata": {
            "tags": []
          },
          "execution_count": 10
        }
      ]
    },
    {
      "cell_type": "code",
      "metadata": {
        "colab": {
          "base_uri": "https://localhost:8080/"
        },
        "id": "clCYO0UojaK1",
        "outputId": "745414ae-5182-42cb-c1f9-2f984bebf553"
      },
      "source": [
        "X[:5]"
      ],
      "execution_count": 11,
      "outputs": [
        {
          "output_type": "execute_result",
          "data": {
            "text/plain": [
              "array([[242.    ,  25.4   ,  11.52  ,   4.02  ],\n",
              "       [290.    ,  26.3   ,  12.48  ,   4.3056],\n",
              "       [340.    ,  26.5   ,  12.3778,   4.6961],\n",
              "       [363.    ,  29.    ,  12.73  ,   4.4555],\n",
              "       [430.    ,  29.    ,  12.444 ,   5.134 ]])"
            ]
          },
          "metadata": {
            "tags": []
          },
          "execution_count": 11
        }
      ]
    },
    {
      "cell_type": "code",
      "metadata": {
        "colab": {
          "base_uri": "https://localhost:8080/"
        },
        "id": "M0QBlyzqjcxd",
        "outputId": "be4ccab1-fc72-4a09-d5a3-197c93dc472c"
      },
      "source": [
        "y.shape"
      ],
      "execution_count": 12,
      "outputs": [
        {
          "output_type": "execute_result",
          "data": {
            "text/plain": [
              "(49,)"
            ]
          },
          "metadata": {
            "tags": []
          },
          "execution_count": 12
        }
      ]
    },
    {
      "cell_type": "code",
      "metadata": {
        "colab": {
          "base_uri": "https://localhost:8080/"
        },
        "id": "FKf4SBuIjkAW",
        "outputId": "a4800861-a92d-400a-cbe7-00a65afc23a6"
      },
      "source": [
        "y[:5]"
      ],
      "execution_count": 13,
      "outputs": [
        {
          "output_type": "execute_result",
          "data": {
            "text/plain": [
              "array(['Bream', 'Bream', 'Bream', 'Bream', 'Bream'], dtype=object)"
            ]
          },
          "metadata": {
            "tags": []
          },
          "execution_count": 13
        }
      ]
    },
    {
      "cell_type": "markdown",
      "metadata": {
        "id": "LO__0kfuj319"
      },
      "source": [
        "## train/test 분리"
      ]
    },
    {
      "cell_type": "code",
      "metadata": {
        "id": "mt-XgUMMjpS-"
      },
      "source": [
        "X_train, X_test, y_train, y_test = train_test_split(X, y, \r\n",
        "                                                    test_size=0.25,\r\n",
        "                                                    stratify=y,\r\n",
        "                                                    random_state=42)"
      ],
      "execution_count": 14,
      "outputs": []
    },
    {
      "cell_type": "code",
      "metadata": {
        "colab": {
          "base_uri": "https://localhost:8080/"
        },
        "id": "jUMZ1JYskOWW",
        "outputId": "d4130854-4a93-4674-e2b7-f1165d817647"
      },
      "source": [
        "X_train.shape"
      ],
      "execution_count": 15,
      "outputs": [
        {
          "output_type": "execute_result",
          "data": {
            "text/plain": [
              "(36, 4)"
            ]
          },
          "metadata": {
            "tags": []
          },
          "execution_count": 15
        }
      ]
    },
    {
      "cell_type": "code",
      "metadata": {
        "colab": {
          "base_uri": "https://localhost:8080/"
        },
        "id": "agdHfOqbkTHM",
        "outputId": "5b8b04e4-dba0-4177-8e70-2d29586abb92"
      },
      "source": [
        "y_train.shape"
      ],
      "execution_count": 17,
      "outputs": [
        {
          "output_type": "execute_result",
          "data": {
            "text/plain": [
              "(36,)"
            ]
          },
          "metadata": {
            "tags": []
          },
          "execution_count": 17
        }
      ]
    },
    {
      "cell_type": "markdown",
      "metadata": {
        "id": "WBH_RmQXka4F"
      },
      "source": [
        "## kNN 분류"
      ]
    },
    {
      "cell_type": "markdown",
      "metadata": {
        "id": "uXKwDTEYlQmF"
      },
      "source": [
        "### 특성 스케일링"
      ]
    },
    {
      "cell_type": "code",
      "metadata": {
        "id": "nw_82ZQKkV-m"
      },
      "source": [
        "std_scaler = StandardScaler()  # z = (x - mean) / std"
      ],
      "execution_count": 18,
      "outputs": []
    },
    {
      "cell_type": "code",
      "metadata": {
        "id": "GfeUHeHXlXDH"
      },
      "source": [
        "# 훈련 셋에서 특성들의 평균과 표준편차를 찾고(fit), 특성들의 스케일을 변환(transform)\r\n",
        "X_train_scaled = std_scaler.fit_transform(X_train)"
      ],
      "execution_count": 19,
      "outputs": []
    },
    {
      "cell_type": "code",
      "metadata": {
        "id": "2zL0pUoLlzws"
      },
      "source": [
        "# 훈련 셋에서 찾은 평균과 표준편차를 사용해서, 테스트 셋의 특성들의 스케일을 변환(transform)\r\n",
        "X_test_scaled = std_scaler.transform(X_test)"
      ],
      "execution_count": 20,
      "outputs": []
    },
    {
      "cell_type": "code",
      "metadata": {
        "colab": {
          "base_uri": "https://localhost:8080/"
        },
        "id": "z01h9OeKl4xT",
        "outputId": "5374881e-2d40-4de6-bba7-e94e0094b254"
      },
      "source": [
        "np.mean(X_train_scaled, axis=0)"
      ],
      "execution_count": 22,
      "outputs": [
        {
          "output_type": "execute_result",
          "data": {
            "text/plain": [
              "array([-8.94346325e-17, -5.24271984e-17,  1.29526020e-16,  5.48943607e-16])"
            ]
          },
          "metadata": {
            "tags": []
          },
          "execution_count": 22
        }
      ]
    },
    {
      "cell_type": "code",
      "metadata": {
        "colab": {
          "base_uri": "https://localhost:8080/"
        },
        "id": "FpCDQJcvmWTk",
        "outputId": "1472692a-7d48-41a2-a31b-b46d5e784872"
      },
      "source": [
        "np.std(X_train_scaled, axis=0)"
      ],
      "execution_count": 23,
      "outputs": [
        {
          "output_type": "execute_result",
          "data": {
            "text/plain": [
              "array([1., 1., 1., 1.])"
            ]
          },
          "metadata": {
            "tags": []
          },
          "execution_count": 23
        }
      ]
    },
    {
      "cell_type": "markdown",
      "metadata": {
        "id": "nh2fw8cMmv_s"
      },
      "source": [
        "### 모델 생성, 훈련"
      ]
    },
    {
      "cell_type": "code",
      "metadata": {
        "id": "CxPNOshhmpRL"
      },
      "source": [
        "knn_clf = KNeighborsClassifier(n_neighbors=5)  # 모델 생성"
      ],
      "execution_count": 32,
      "outputs": []
    },
    {
      "cell_type": "code",
      "metadata": {
        "colab": {
          "base_uri": "https://localhost:8080/"
        },
        "id": "oDW0yZy4nF6z",
        "outputId": "64758835-ed5d-4099-a1c4-b4fa489a5a77"
      },
      "source": [
        "knn_clf.fit(X_train_scaled, y_train)  # 모델 학습"
      ],
      "execution_count": 33,
      "outputs": [
        {
          "output_type": "execute_result",
          "data": {
            "text/plain": [
              "KNeighborsClassifier(algorithm='auto', leaf_size=30, metric='minkowski',\n",
              "                     metric_params=None, n_jobs=None, n_neighbors=5, p=2,\n",
              "                     weights='uniform')"
            ]
          },
          "metadata": {
            "tags": []
          },
          "execution_count": 33
        }
      ]
    },
    {
      "cell_type": "code",
      "metadata": {
        "colab": {
          "base_uri": "https://localhost:8080/"
        },
        "id": "VdTNqCRnnNkk",
        "outputId": "2845fa31-f9f8-472f-fdc2-374c9ba7d295"
      },
      "source": [
        "train_pred = knn_clf.predict(X_train_scaled)\r\n",
        "train_pred"
      ],
      "execution_count": 34,
      "outputs": [
        {
          "output_type": "execute_result",
          "data": {
            "text/plain": [
              "array(['Bream', 'Bream', 'Smelt', 'Bream', 'Smelt', 'Bream', 'Smelt',\n",
              "       'Bream', 'Smelt', 'Bream', 'Bream', 'Bream', 'Bream', 'Smelt',\n",
              "       'Smelt', 'Bream', 'Bream', 'Bream', 'Smelt', 'Bream', 'Smelt',\n",
              "       'Bream', 'Smelt', 'Bream', 'Bream', 'Bream', 'Bream', 'Smelt',\n",
              "       'Bream', 'Bream', 'Bream', 'Bream', 'Bream', 'Bream', 'Bream',\n",
              "       'Bream'], dtype=object)"
            ]
          },
          "metadata": {
            "tags": []
          },
          "execution_count": 34
        }
      ]
    },
    {
      "cell_type": "code",
      "metadata": {
        "colab": {
          "base_uri": "https://localhost:8080/"
        },
        "id": "uLx52rHHnWyj",
        "outputId": "3a873863-646f-4c77-a7a6-8e5d39b2d031"
      },
      "source": [
        "y_train"
      ],
      "execution_count": 35,
      "outputs": [
        {
          "output_type": "execute_result",
          "data": {
            "text/plain": [
              "array(['Bream', 'Bream', 'Smelt', 'Bream', 'Smelt', 'Bream', 'Smelt',\n",
              "       'Bream', 'Smelt', 'Bream', 'Bream', 'Bream', 'Bream', 'Smelt',\n",
              "       'Smelt', 'Bream', 'Bream', 'Bream', 'Smelt', 'Bream', 'Smelt',\n",
              "       'Bream', 'Smelt', 'Bream', 'Bream', 'Bream', 'Bream', 'Smelt',\n",
              "       'Bream', 'Bream', 'Bream', 'Bream', 'Bream', 'Bream', 'Bream',\n",
              "       'Bream'], dtype=object)"
            ]
          },
          "metadata": {
            "tags": []
          },
          "execution_count": 35
        }
      ]
    },
    {
      "cell_type": "code",
      "metadata": {
        "colab": {
          "base_uri": "https://localhost:8080/"
        },
        "id": "JWK5S2qxngrr",
        "outputId": "defced6e-bc23-4574-aa96-a610935f9630"
      },
      "source": [
        "knn_clf.score(X_train_scaled, y_train)"
      ],
      "execution_count": 36,
      "outputs": [
        {
          "output_type": "execute_result",
          "data": {
            "text/plain": [
              "1.0"
            ]
          },
          "metadata": {
            "tags": []
          },
          "execution_count": 36
        }
      ]
    },
    {
      "cell_type": "code",
      "metadata": {
        "colab": {
          "base_uri": "https://localhost:8080/"
        },
        "id": "LK7A3cwPnubE",
        "outputId": "aca97412-b5cf-4324-c886-410d1bb66d78"
      },
      "source": [
        "# kNN 분류기 가장 가까운 k개의 이웃들의 어종의 비율로 예측.\r\n",
        "knn_clf.predict_proba(X_train_scaled)  # predict probability(예측 확률)"
      ],
      "execution_count": 37,
      "outputs": [
        {
          "output_type": "execute_result",
          "data": {
            "text/plain": [
              "array([[1., 0.],\n",
              "       [1., 0.],\n",
              "       [0., 1.],\n",
              "       [1., 0.],\n",
              "       [0., 1.],\n",
              "       [1., 0.],\n",
              "       [0., 1.],\n",
              "       [1., 0.],\n",
              "       [0., 1.],\n",
              "       [1., 0.],\n",
              "       [1., 0.],\n",
              "       [1., 0.],\n",
              "       [1., 0.],\n",
              "       [0., 1.],\n",
              "       [0., 1.],\n",
              "       [1., 0.],\n",
              "       [1., 0.],\n",
              "       [1., 0.],\n",
              "       [0., 1.],\n",
              "       [1., 0.],\n",
              "       [0., 1.],\n",
              "       [1., 0.],\n",
              "       [0., 1.],\n",
              "       [1., 0.],\n",
              "       [1., 0.],\n",
              "       [1., 0.],\n",
              "       [1., 0.],\n",
              "       [0., 1.],\n",
              "       [1., 0.],\n",
              "       [1., 0.],\n",
              "       [1., 0.],\n",
              "       [1., 0.],\n",
              "       [1., 0.],\n",
              "       [1., 0.],\n",
              "       [1., 0.],\n",
              "       [1., 0.]])"
            ]
          },
          "metadata": {
            "tags": []
          },
          "execution_count": 37
        }
      ]
    },
    {
      "cell_type": "code",
      "metadata": {
        "colab": {
          "base_uri": "https://localhost:8080/"
        },
        "id": "jv_pKz3roVdb",
        "outputId": "589c3db3-781e-4467-97dd-34b06ea1e37a"
      },
      "source": [
        "# 테스트 셋의 예측 확률\r\n",
        "knn_clf.predict_proba(X_test_scaled)"
      ],
      "execution_count": 38,
      "outputs": [
        {
          "output_type": "execute_result",
          "data": {
            "text/plain": [
              "array([[1., 0.],\n",
              "       [1., 0.],\n",
              "       [1., 0.],\n",
              "       [0., 1.],\n",
              "       [0., 1.],\n",
              "       [1., 0.],\n",
              "       [0., 1.],\n",
              "       [1., 0.],\n",
              "       [0., 1.],\n",
              "       [1., 0.],\n",
              "       [1., 0.],\n",
              "       [1., 0.],\n",
              "       [1., 0.]])"
            ]
          },
          "metadata": {
            "tags": []
          },
          "execution_count": 38
        }
      ]
    },
    {
      "cell_type": "markdown",
      "metadata": {
        "id": "iptgFJ1xqH_6"
      },
      "source": [
        "# 다중 클래스 분류(multi-class classification)"
      ]
    },
    {
      "cell_type": "code",
      "metadata": {
        "id": "6ZrXFFdipUOT"
      },
      "source": [
        "X = df[['Weight', 'Length2', 'Width', 'Height']].to_numpy()\r\n",
        "y = df['Species'].values"
      ],
      "execution_count": 39,
      "outputs": []
    },
    {
      "cell_type": "code",
      "metadata": {
        "colab": {
          "base_uri": "https://localhost:8080/"
        },
        "id": "t8Kwqw-sql17",
        "outputId": "2cddb682-9098-4caf-d56b-745ebb9f07e2"
      },
      "source": [
        "X.shape"
      ],
      "execution_count": 40,
      "outputs": [
        {
          "output_type": "execute_result",
          "data": {
            "text/plain": [
              "(159, 4)"
            ]
          },
          "metadata": {
            "tags": []
          },
          "execution_count": 40
        }
      ]
    },
    {
      "cell_type": "code",
      "metadata": {
        "colab": {
          "base_uri": "https://localhost:8080/"
        },
        "id": "WRF9Vkm4qmqp",
        "outputId": "b0583929-8873-49d0-eb90-fdede1d7b302"
      },
      "source": [
        "y.shape"
      ],
      "execution_count": 41,
      "outputs": [
        {
          "output_type": "execute_result",
          "data": {
            "text/plain": [
              "(159,)"
            ]
          },
          "metadata": {
            "tags": []
          },
          "execution_count": 41
        }
      ]
    },
    {
      "cell_type": "markdown",
      "metadata": {
        "id": "AB8IR8NEqttm"
      },
      "source": [
        "## train/test split"
      ]
    },
    {
      "cell_type": "code",
      "metadata": {
        "id": "UPmVsD5gqp1z"
      },
      "source": [
        "X_train, X_test, y_train, y_test = train_test_split(X, y,\r\n",
        "                                                    test_size=0.25,\r\n",
        "                                                    stratify=y,\r\n",
        "                                                    random_state=42)"
      ],
      "execution_count": 42,
      "outputs": []
    },
    {
      "cell_type": "code",
      "metadata": {
        "id": "FDjTEJ8rrMJ6"
      },
      "source": [
        "std_scaler = StandardScaler()"
      ],
      "execution_count": 43,
      "outputs": []
    },
    {
      "cell_type": "code",
      "metadata": {
        "id": "9tG-Djy2rZ5Y"
      },
      "source": [
        "# 특성 스케일링\r\n",
        "X_train_scaled = std_scaler.fit_transform(X_train)\r\n",
        "X_test_scaled = std_scaler.transform(X_test)"
      ],
      "execution_count": 44,
      "outputs": []
    },
    {
      "cell_type": "markdown",
      "metadata": {
        "id": "TWC0lvv9rtrI"
      },
      "source": [
        "## 모델 훈련, 평가"
      ]
    },
    {
      "cell_type": "code",
      "metadata": {
        "id": "w13Eoa-FroSY"
      },
      "source": [
        "knn_clf = KNeighborsClassifier()  # 모델 생성"
      ],
      "execution_count": 45,
      "outputs": []
    },
    {
      "cell_type": "code",
      "metadata": {
        "colab": {
          "base_uri": "https://localhost:8080/"
        },
        "id": "nzmGlDeZr6Do",
        "outputId": "26693637-2bf2-48af-c32d-0fc2085cfb12"
      },
      "source": [
        "knn_clf.fit(X_train_scaled, y_train)  # 모델 학습"
      ],
      "execution_count": 46,
      "outputs": [
        {
          "output_type": "execute_result",
          "data": {
            "text/plain": [
              "KNeighborsClassifier(algorithm='auto', leaf_size=30, metric='minkowski',\n",
              "                     metric_params=None, n_jobs=None, n_neighbors=5, p=2,\n",
              "                     weights='uniform')"
            ]
          },
          "metadata": {
            "tags": []
          },
          "execution_count": 46
        }
      ]
    },
    {
      "cell_type": "code",
      "metadata": {
        "colab": {
          "base_uri": "https://localhost:8080/"
        },
        "id": "0oblhUwsr9ow",
        "outputId": "0d294d4b-41f8-4e4e-bc50-6aa5a11e344a"
      },
      "source": [
        "knn_clf.score(X_train_scaled, y_train)  # 훈련 셋의 정확도"
      ],
      "execution_count": 47,
      "outputs": [
        {
          "output_type": "execute_result",
          "data": {
            "text/plain": [
              "0.8403361344537815"
            ]
          },
          "metadata": {
            "tags": []
          },
          "execution_count": 47
        }
      ]
    },
    {
      "cell_type": "code",
      "metadata": {
        "colab": {
          "base_uri": "https://localhost:8080/"
        },
        "id": "qdm-jZsLsHqI",
        "outputId": "c0089206-37e3-44cb-f8b2-73a16966d53e"
      },
      "source": [
        "train_pred = knn_clf.predict(X_train_scaled)  # 훈련 셋의 예측값\r\n",
        "train_pred[:10]"
      ],
      "execution_count": 48,
      "outputs": [
        {
          "output_type": "execute_result",
          "data": {
            "text/plain": [
              "array(['Perch', 'Perch', 'Bream', 'Bream', 'Perch', 'Perch', 'Perch',\n",
              "       'Bream', 'Perch', 'Parkki'], dtype=object)"
            ]
          },
          "metadata": {
            "tags": []
          },
          "execution_count": 48
        }
      ]
    },
    {
      "cell_type": "code",
      "metadata": {
        "colab": {
          "base_uri": "https://localhost:8080/"
        },
        "id": "OiYd4sy9wGnJ",
        "outputId": "1862289b-6ad4-444d-9224-71d367e233a0"
      },
      "source": [
        "y_train[:10]  # 실제값(타겟)"
      ],
      "execution_count": 49,
      "outputs": [
        {
          "output_type": "execute_result",
          "data": {
            "text/plain": [
              "array(['Roach', 'Perch', 'Bream', 'Bream', 'Perch', 'Perch', 'Perch',\n",
              "       'Bream', 'Whitefish', 'Bream'], dtype=object)"
            ]
          },
          "metadata": {
            "tags": []
          },
          "execution_count": 49
        }
      ]
    },
    {
      "cell_type": "code",
      "metadata": {
        "colab": {
          "base_uri": "https://localhost:8080/"
        },
        "id": "fjB0dRGgwZEH",
        "outputId": "12969953-3b57-405d-e473-1f60f748de4b"
      },
      "source": [
        "# 훈련 셋의 예측 확률\r\n",
        "train_prob = knn_clf.predict_proba(X_train_scaled)\r\n",
        "train_prob[:3]"
      ],
      "execution_count": 50,
      "outputs": [
        {
          "output_type": "execute_result",
          "data": {
            "text/plain": [
              "array([[0. , 0. , 0.6, 0. , 0.4, 0. , 0. ],\n",
              "       [0. , 0. , 1. , 0. , 0. , 0. , 0. ],\n",
              "       [1. , 0. , 0. , 0. , 0. , 0. , 0. ]])"
            ]
          },
          "metadata": {
            "tags": []
          },
          "execution_count": 50
        }
      ]
    },
    {
      "cell_type": "code",
      "metadata": {
        "colab": {
          "base_uri": "https://localhost:8080/"
        },
        "id": "YvwW-PbKwsa_",
        "outputId": "d49d4371-4929-472d-b744-ee4f116ee8e1"
      },
      "source": [
        "np.unique(y)"
      ],
      "execution_count": 51,
      "outputs": [
        {
          "output_type": "execute_result",
          "data": {
            "text/plain": [
              "array(['Bream', 'Parkki', 'Perch', 'Pike', 'Roach', 'Smelt', 'Whitefish'],\n",
              "      dtype=object)"
            ]
          },
          "metadata": {
            "tags": []
          },
          "execution_count": 51
        }
      ]
    },
    {
      "cell_type": "code",
      "metadata": {
        "colab": {
          "base_uri": "https://localhost:8080/"
        },
        "id": "hk3OyeTAxVx-",
        "outputId": "ff6fe1b8-0218-40aa-abb1-9929b098fc44"
      },
      "source": [
        "train_prob[7:10]"
      ],
      "execution_count": 52,
      "outputs": [
        {
          "output_type": "execute_result",
          "data": {
            "text/plain": [
              "array([[1. , 0. , 0. , 0. , 0. , 0. , 0. ],\n",
              "       [0. , 0. , 0.4, 0. , 0.2, 0. , 0.4],\n",
              "       [0.4, 0.6, 0. , 0. , 0. , 0. , 0. ]])"
            ]
          },
          "metadata": {
            "tags": []
          },
          "execution_count": 52
        }
      ]
    },
    {
      "cell_type": "markdown",
      "metadata": {
        "id": "ql8jawVqy0RG"
      },
      "source": [
        "# sigmoid 함수"
      ]
    },
    {
      "cell_type": "markdown",
      "metadata": {
        "id": "ouwBGE7xy4wO"
      },
      "source": [
        "\r\n",
        "$\\phi (z) = \\dfrac{e^z}{1 + e^z} = \\dfrac{1}{1 + e^{-z}} $\r\n"
      ]
    },
    {
      "cell_type": "code",
      "metadata": {
        "colab": {
          "base_uri": "https://localhost:8080/",
          "height": 265
        },
        "id": "hQuPouI0y2_m",
        "outputId": "61c40243-270f-4b5d-ad4a-8c74cd02d9f9"
      },
      "source": [
        "z = np.arange(-5, 5, 0.001)\r\n",
        "# sigmoid = 1 / (1 + np.exp(-z))\r\n",
        "sigmoid = scipy.special.expit(z)\r\n",
        "\r\n",
        "plt.figure(figsize=(8, 4))\r\n",
        "plt.plot(z, sigmoid)\r\n",
        "\r\n",
        "plt.grid()\r\n",
        "plt.show()"
      ],
      "execution_count": 54,
      "outputs": [
        {
          "output_type": "display_data",
          "data": {
            "image/png": "[encoded data removed]",
            "text/plain": [
              "<Figure size 576x288 with 1 Axes>"
            ]
          },
          "metadata": {
            "tags": [],
            "needs_background": "light"
          }
        }
      ]
    },
    {
      "cell_type": "markdown",
      "metadata": {
        "id": "47QJohN92_ln"
      },
      "source": [
        "# Logistic Regression"
      ]
    },
    {
      "cell_type": "markdown",
      "metadata": {
        "id": "vY6vzwaG3HSL"
      },
      "source": [
        "Logistic Regression = Linear Regression + Sigmoid 함수 => 확률 추정\r\n",
        "\r\n",
        "선형 회귀\r\n",
        ">   $ z = w_0 + \\sum_{i} x_i \\cdot w_i = w_0 + x_1 w_1 + x_2 w_2 + ...$\r\n",
        "\r\n",
        "Sigmoid 함수\r\n",
        ">   $ \\phi (z) = \\dfrac{1}{1 + exp(-z)} = \\dfrac{1}{1 + exp(-(w_0 + \\sum_{i} x_i \\cdot w_i))} $"
      ]
    },
    {
      "cell_type": "code",
      "metadata": {
        "id": "f3EO5IBo5QOa"
      },
      "source": [
        ""
      ],
      "execution_count": null,
      "outputs": []
    }
  ]
}