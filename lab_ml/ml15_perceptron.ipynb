{
  "nbformat": 4,
  "nbformat_minor": 0,
  "metadata": {
    "colab": {
      "name": "ml15_perceptron.ipynb",
      "provenance": [],
      "collapsed_sections": [],
      "authorship_tag": "ABX9TyMVOwn/Or+pATAigiq5VObL",
      "include_colab_link": true
    },
    "kernelspec": {
      "name": "python3",
      "display_name": "Python 3"
    },
    "language_info": {
      "name": "python"
    }
  },
  "cells": [
    {
      "cell_type": "markdown",
      "metadata": {
        "id": "view-in-github",
        "colab_type": "text"
      },
      "source": [
        "<a href=\"https://colab.research.google.com/github/JakeOh/202011_itw_bd21/blob/main/lab_ml/ml15_perceptron.ipynb\" target=\"_parent\"><img src=\"https://colab.research.google.com/assets/colab-badge.svg\" alt=\"Open In Colab\"/></a>"
      ]
    },
    {
      "cell_type": "markdown",
      "metadata": {
        "id": "xB2gnS01nSg8"
      },
      "source": [
        "# Imports"
      ]
    },
    {
      "cell_type": "code",
      "metadata": {
        "id": "g_U1tKjKmZ9Q"
      },
      "source": [
        "import numpy as np\n",
        "import matplotlib.pyplot as plt\n",
        "from scipy.special import expit  # sigmoid"
      ],
      "execution_count": 41,
      "outputs": []
    },
    {
      "cell_type": "markdown",
      "metadata": {
        "id": "OoitSf7rndXz"
      },
      "source": [
        "# Perceptron"
      ]
    },
    {
      "cell_type": "code",
      "metadata": {
        "id": "rSLgO2genYR8"
      },
      "source": [
        "x = np.array([1, 2])\n",
        "w = np.array([0.1, 0.2])"
      ],
      "execution_count": 2,
      "outputs": []
    },
    {
      "cell_type": "code",
      "metadata": {
        "colab": {
          "base_uri": "https://localhost:8080/"
        },
        "id": "3vBXCrE_p5hr",
        "outputId": "ce3d8313-e885-43ef-83d1-ab74e8ff147d"
      },
      "source": [
        "x * w"
      ],
      "execution_count": 3,
      "outputs": [
        {
          "output_type": "execute_result",
          "data": {
            "text/plain": [
              "array([0.1, 0.4])"
            ]
          },
          "metadata": {
            "tags": []
          },
          "execution_count": 3
        }
      ]
    },
    {
      "cell_type": "code",
      "metadata": {
        "colab": {
          "base_uri": "https://localhost:8080/"
        },
        "id": "vFaWex5hp6XL",
        "outputId": "3c6aec1e-5138-4151-8135-d49fc655d495"
      },
      "source": [
        "np.sum(x * w)"
      ],
      "execution_count": 4,
      "outputs": [
        {
          "output_type": "execute_result",
          "data": {
            "text/plain": [
              "0.5"
            ]
          },
          "metadata": {
            "tags": []
          },
          "execution_count": 4
        }
      ]
    },
    {
      "cell_type": "code",
      "metadata": {
        "colab": {
          "base_uri": "https://localhost:8080/"
        },
        "id": "DW0LlfOWqE0b",
        "outputId": "0c2292c5-ba90-41aa-d877-aa31860db763"
      },
      "source": [
        "np.dot(x, w)"
      ],
      "execution_count": 5,
      "outputs": [
        {
          "output_type": "execute_result",
          "data": {
            "text/plain": [
              "0.5"
            ]
          },
          "metadata": {
            "tags": []
          },
          "execution_count": 5
        }
      ]
    },
    {
      "cell_type": "code",
      "metadata": {
        "colab": {
          "base_uri": "https://localhost:8080/"
        },
        "id": "dQ_NmCcoq0dd",
        "outputId": "71bd9a7a-3f6d-43aa-a020-5e2322172b91"
      },
      "source": [
        "x.dot(w)"
      ],
      "execution_count": 6,
      "outputs": [
        {
          "output_type": "execute_result",
          "data": {
            "text/plain": [
              "0.5"
            ]
          },
          "metadata": {
            "tags": []
          },
          "execution_count": 6
        }
      ]
    },
    {
      "cell_type": "code",
      "metadata": {
        "colab": {
          "base_uri": "https://localhost:8080/"
        },
        "id": "kLHdpX_VrGUj",
        "outputId": "3eaa1b66-bbf9-4c7e-adaf-2f652dce1d3d"
      },
      "source": [
        "x @ w"
      ],
      "execution_count": 7,
      "outputs": [
        {
          "output_type": "execute_result",
          "data": {
            "text/plain": [
              "0.5"
            ]
          },
          "metadata": {
            "tags": []
          },
          "execution_count": 7
        }
      ]
    },
    {
      "cell_type": "markdown",
      "metadata": {
        "id": "UI7ZvaFovKCS"
      },
      "source": [
        "## AND Gate"
      ]
    },
    {
      "cell_type": "markdown",
      "metadata": {
        "id": "acG2QLBcvQ6S"
      },
      "source": [
        "| $x_1$ | $x_2$ | $y$ |\n",
        "|---|---|---|\n",
        "| 0 | 0 | 0 |\n",
        "| 0 | 1 | 0 |\n",
        "| 1 | 0 | 0 |\n",
        "| 1 | 1 | 1 |"
      ]
    },
    {
      "cell_type": "code",
      "metadata": {
        "id": "2sXsPx9grJNj"
      },
      "source": [
        "def and_gate(x1, x2):\n",
        "    w1, w2, th = 0.5, 0.5, 0.7\n",
        "    result = x1 * w1 + x2 * w2\n",
        "    if result > th:\n",
        "        y = 1\n",
        "    else:\n",
        "        y = 0\n",
        "\n",
        "    return y"
      ],
      "execution_count": 8,
      "outputs": []
    },
    {
      "cell_type": "code",
      "metadata": {
        "colab": {
          "base_uri": "https://localhost:8080/"
        },
        "id": "NvjKXDn8xb40",
        "outputId": "481a43f7-25b3-4034-c325-2523d67d1f3d"
      },
      "source": [
        "and_gate(x1=0, x2=0)"
      ],
      "execution_count": 9,
      "outputs": [
        {
          "output_type": "execute_result",
          "data": {
            "text/plain": [
              "0"
            ]
          },
          "metadata": {
            "tags": []
          },
          "execution_count": 9
        }
      ]
    },
    {
      "cell_type": "code",
      "metadata": {
        "colab": {
          "base_uri": "https://localhost:8080/"
        },
        "id": "I_qkchJ_xlxL",
        "outputId": "4425f8be-b906-44d8-eefd-58cd5ccd9dbe"
      },
      "source": [
        "and_gate(x1=0, x2=1)"
      ],
      "execution_count": 10,
      "outputs": [
        {
          "output_type": "execute_result",
          "data": {
            "text/plain": [
              "0"
            ]
          },
          "metadata": {
            "tags": []
          },
          "execution_count": 10
        }
      ]
    },
    {
      "cell_type": "code",
      "metadata": {
        "colab": {
          "base_uri": "https://localhost:8080/"
        },
        "id": "TQYziNVKxqhC",
        "outputId": "67d38970-171d-4793-a212-6b5e370f542e"
      },
      "source": [
        "and_gate(x1=1, x2=0)"
      ],
      "execution_count": 11,
      "outputs": [
        {
          "output_type": "execute_result",
          "data": {
            "text/plain": [
              "0"
            ]
          },
          "metadata": {
            "tags": []
          },
          "execution_count": 11
        }
      ]
    },
    {
      "cell_type": "code",
      "metadata": {
        "colab": {
          "base_uri": "https://localhost:8080/"
        },
        "id": "wDWrqVePxyPa",
        "outputId": "deb7f34d-8764-4f70-b33c-b07ee7c45ef5"
      },
      "source": [
        "and_gate(x1=1, x2=1)"
      ],
      "execution_count": 12,
      "outputs": [
        {
          "output_type": "execute_result",
          "data": {
            "text/plain": [
              "1"
            ]
          },
          "metadata": {
            "tags": []
          },
          "execution_count": 12
        }
      ]
    },
    {
      "cell_type": "code",
      "metadata": {
        "id": "e9h4U001zAQC"
      },
      "source": [
        "def and_gate2(x1, x2):\n",
        "    w1, w2, th = 0.1, 0.1, 0.1\n",
        "    result = x1 * w1 + x2 * w2\n",
        "    y = 1 if result > th else 0\n",
        "    return y"
      ],
      "execution_count": 13,
      "outputs": []
    },
    {
      "cell_type": "code",
      "metadata": {
        "colab": {
          "base_uri": "https://localhost:8080/"
        },
        "id": "YMqzVkLyzgmj",
        "outputId": "7d61aa4e-fa57-4069-9cbe-ce4b863f761b"
      },
      "source": [
        "and_gate2(1, 1)"
      ],
      "execution_count": 14,
      "outputs": [
        {
          "output_type": "execute_result",
          "data": {
            "text/plain": [
              "1"
            ]
          },
          "metadata": {
            "tags": []
          },
          "execution_count": 14
        }
      ]
    },
    {
      "cell_type": "markdown",
      "metadata": {
        "id": "H4NfeDuFztlq"
      },
      "source": [
        "AND 게이트를 만들 수 있는 가중치(w1, w2), 임계값(threshold)은 무수히 많은 조합이 있을 수 있음."
      ]
    },
    {
      "cell_type": "code",
      "metadata": {
        "id": "kfzx07ePzj4q"
      },
      "source": [
        "def and_gate3(x):\n",
        "    \"\"\"x는 원소가 2개인 1차원 배열. AND 논리 연산의 결과를 리턴.\"\"\"\n",
        "    w = np.array([0.5, 0.5])\n",
        "    th = 0.7\n",
        "    # y = 1 if np.sum(x * w) > th else 0\n",
        "    y = 1 if np.dot(x, w) > th else 0\n",
        "    return y"
      ],
      "execution_count": 15,
      "outputs": []
    },
    {
      "cell_type": "code",
      "metadata": {
        "colab": {
          "base_uri": "https://localhost:8080/"
        },
        "id": "ytWUksPw2UYD",
        "outputId": "c06f876c-c394-4e69-d255-9253a3cc60a7"
      },
      "source": [
        "and_gate3(np.array([1, 1]))"
      ],
      "execution_count": 16,
      "outputs": [
        {
          "output_type": "execute_result",
          "data": {
            "text/plain": [
              "1"
            ]
          },
          "metadata": {
            "tags": []
          },
          "execution_count": 16
        }
      ]
    },
    {
      "cell_type": "code",
      "metadata": {
        "id": "63AiJcie3ZgD"
      },
      "source": [
        "def and_gate4(X):\n",
        "    \"\"\"X는 컬럼이 2개인 2차원 배열. 즉 shape은 (-1, 2). AND 논리 연산 결과를 리턴\"\"\"\n",
        "    w = np.array([0.5, 0.5])  # 가중치(weight)\n",
        "    th = 0.7\n",
        "    y = (np.dot(X, w) > th).astype(np.int_)\n",
        "    return y"
      ],
      "execution_count": 17,
      "outputs": []
    },
    {
      "cell_type": "code",
      "metadata": {
        "id": "gLXbusiA4rRK"
      },
      "source": [
        "X = np.array([[0, 0],\n",
        "              [0, 1],\n",
        "              [1, 0],\n",
        "              [1, 1]])"
      ],
      "execution_count": 18,
      "outputs": []
    },
    {
      "cell_type": "code",
      "metadata": {
        "colab": {
          "base_uri": "https://localhost:8080/"
        },
        "id": "RnEvO5fq4z-y",
        "outputId": "46ed6c82-7824-4982-dc3a-e3e3a855cd3d"
      },
      "source": [
        "and_gate4(X)"
      ],
      "execution_count": 19,
      "outputs": [
        {
          "output_type": "execute_result",
          "data": {
            "text/plain": [
              "array([0, 0, 0, 1])"
            ]
          },
          "metadata": {
            "tags": []
          },
          "execution_count": 19
        }
      ]
    },
    {
      "cell_type": "code",
      "metadata": {
        "id": "Q55pWwwT43ah"
      },
      "source": [
        "def and_gate5(X):\n",
        "    w = np.array([0.5, 0.5])  # 가중치(weight)\n",
        "    b = -0.7  # 편향(bias)\n",
        "    result = np.dot(X, w) + b  # linear equation\n",
        "    y = result > 0\n",
        "    return y.astype(np.int_)"
      ],
      "execution_count": 20,
      "outputs": []
    },
    {
      "cell_type": "code",
      "metadata": {
        "colab": {
          "base_uri": "https://localhost:8080/"
        },
        "id": "_OvnyGSlAnQp",
        "outputId": "61b85cfc-f064-4309-e0ef-cca186604a48"
      },
      "source": [
        "and_gate5(X)"
      ],
      "execution_count": 21,
      "outputs": [
        {
          "output_type": "execute_result",
          "data": {
            "text/plain": [
              "array([0, 0, 0, 1])"
            ]
          },
          "metadata": {
            "tags": []
          },
          "execution_count": 21
        }
      ]
    },
    {
      "cell_type": "code",
      "metadata": {
        "id": "aJ2zjGG2ApEI"
      },
      "source": [
        "def and_gate6(X):\n",
        "    w_bias = np.array([-0.7, 0.5, 0.5])  # bias를 포함한 weights: (bias, w1, w2)\n",
        "    n = len(X)\n",
        "    X_bias = np.c_[np.ones(n), X]  # bias에는 1이 곱해짐.\n",
        "    result = np.dot(X_bias, w_bias)  # X_bias @ w_bias\n",
        "    y = result > 0\n",
        "    return y.astype(np.int_)"
      ],
      "execution_count": 22,
      "outputs": []
    },
    {
      "cell_type": "code",
      "metadata": {
        "colab": {
          "base_uri": "https://localhost:8080/"
        },
        "id": "0AHQJiYwD1Ji",
        "outputId": "213949be-03e4-4ee6-9353-fff235ceb26f"
      },
      "source": [
        "and_gate6(X)"
      ],
      "execution_count": 23,
      "outputs": [
        {
          "output_type": "execute_result",
          "data": {
            "text/plain": [
              "array([0, 0, 0, 1])"
            ]
          },
          "metadata": {
            "tags": []
          },
          "execution_count": 23
        }
      ]
    },
    {
      "cell_type": "markdown",
      "metadata": {
        "id": "VedvJKuIFSAg"
      },
      "source": [
        "## NAND Gate"
      ]
    },
    {
      "cell_type": "markdown",
      "metadata": {
        "id": "x0Wy5kKHFWqX"
      },
      "source": [
        "| $x_1$ | $x_2$ | $y$ |\n",
        "|---|---|---|\n",
        "| 0 | 0 | 1 |\n",
        "| 0 | 1 | 1 |\n",
        "| 1 | 0 | 1 |\n",
        "| 1 | 1 | 0 |"
      ]
    },
    {
      "cell_type": "code",
      "metadata": {
        "id": "CIbAg9gVD2lB"
      },
      "source": [
        "def nand_gate(X):\n",
        "    w_bias = np.array([-0.7, 0.5, 0.5])  # (b, w1, w2)\n",
        "    n = len(X)\n",
        "    X_bias = np.c_[np.ones(n), X]\n",
        "    result = np.dot(X_bias, w_bias)\n",
        "    y = result <= 0\n",
        "    return y.astype(np.int_)"
      ],
      "execution_count": 24,
      "outputs": []
    },
    {
      "cell_type": "code",
      "metadata": {
        "colab": {
          "base_uri": "https://localhost:8080/"
        },
        "id": "SbeREnsPLath",
        "outputId": "d77a5414-c7a3-4bf4-be4a-b139c720f5d9"
      },
      "source": [
        "nand_gate(X)"
      ],
      "execution_count": 25,
      "outputs": [
        {
          "output_type": "execute_result",
          "data": {
            "text/plain": [
              "array([1, 1, 1, 0])"
            ]
          },
          "metadata": {
            "tags": []
          },
          "execution_count": 25
        }
      ]
    },
    {
      "cell_type": "markdown",
      "metadata": {
        "id": "--Uagm1lFqyx"
      },
      "source": [
        "## OR Gate"
      ]
    },
    {
      "cell_type": "markdown",
      "metadata": {
        "id": "ByK1YvD3FyCX"
      },
      "source": [
        "| $x_1$ | $x_2$ | $y$ |\n",
        "|---|---|---|\n",
        "| 0 | 0 | 0 |\n",
        "| 0 | 1 | 1 |\n",
        "| 1 | 0 | 1 |\n",
        "| 1 | 1 | 1 |"
      ]
    },
    {
      "cell_type": "code",
      "metadata": {
        "id": "Do2wDd4SFxk3"
      },
      "source": [
        "def or_gate(X):\n",
        "    w_bias = np.array([-0.5, 1, 1])\n",
        "    n = len(X)\n",
        "    X_bias = np.c_[np.ones(n), X]\n",
        "    y = np.dot(X_bias, w_bias) > 0\n",
        "    return y.astype(np.int_)"
      ],
      "execution_count": 26,
      "outputs": []
    },
    {
      "cell_type": "code",
      "metadata": {
        "colab": {
          "base_uri": "https://localhost:8080/"
        },
        "id": "kn2gaatANajC",
        "outputId": "50508a43-a44f-4623-9d62-f8052aeba2e8"
      },
      "source": [
        "or_gate(X)"
      ],
      "execution_count": 27,
      "outputs": [
        {
          "output_type": "execute_result",
          "data": {
            "text/plain": [
              "array([0, 1, 1, 1])"
            ]
          },
          "metadata": {
            "tags": []
          },
          "execution_count": 27
        }
      ]
    },
    {
      "cell_type": "markdown",
      "metadata": {
        "id": "Q1uc5GulGC1n"
      },
      "source": [
        "## XOR(Exclusive OR) Gate"
      ]
    },
    {
      "cell_type": "markdown",
      "metadata": {
        "id": "Qf_0nyWjGIOy"
      },
      "source": [
        "| $x_1$ | $x_2$ | NAND($y_1$) | OR($y_2$) | z($y_1$ AND $y_2$) |\n",
        "|---|---|---|---|---|\n",
        "| 0 | 0 | 1 | 0 | 0 |\n",
        "| 0 | 1 | 1 | 1 | 1 |\n",
        "| 1 | 0 | 1 | 1 | 1 |\n",
        "| 1 | 1 | 0 | 1 | 0 |"
      ]
    },
    {
      "cell_type": "code",
      "metadata": {
        "id": "MnV0WbCcGTlK"
      },
      "source": [
        "def xor_gate(X):\n",
        "    y1 = nand_gate(X)  # perceptron, neuron\n",
        "    y2 = or_gate(X)  \n",
        "    Y = np.c_[y1, y2]  # layer\n",
        "    z = and_gate6(Y)\n",
        "    return z"
      ],
      "execution_count": 28,
      "outputs": []
    },
    {
      "cell_type": "code",
      "metadata": {
        "colab": {
          "base_uri": "https://localhost:8080/"
        },
        "id": "kFV7Jnp8S_wX",
        "outputId": "155ee7c4-d51d-428b-cb26-b4d420b26fcc"
      },
      "source": [
        "xor_gate(X)"
      ],
      "execution_count": 29,
      "outputs": [
        {
          "output_type": "execute_result",
          "data": {
            "text/plain": [
              "array([0, 1, 1, 0])"
            ]
          },
          "metadata": {
            "tags": []
          },
          "execution_count": 29
        }
      ]
    },
    {
      "cell_type": "markdown",
      "metadata": {
        "id": "ZL3Po7ZmCtvM"
      },
      "source": [
        "# Activation Function(활성화 함수)"
      ]
    },
    {
      "cell_type": "markdown",
      "metadata": {
        "id": "EFq-USKbGqBz"
      },
      "source": [
        "활성화 함수를 사용하는 이유:\n",
        "\n",
        "1. 출력층에서 출력값을 특정 값(예: 0, 1) 또는 특정 값의 범위(예: 0 ~ 1)로 제한하기 위해서\n",
        "2. 여러 층을 쌓는 다층 신경망(multi-layer neural netwrok, deep neural network)에서 **비선형 함수**를 활성화 함수로 사용하지 않으면 단일 신경망과 동일해지기 때문에."
      ]
    },
    {
      "cell_type": "markdown",
      "metadata": {
        "id": "IdMsHQM6HuWs"
      },
      "source": [
        "## Step function(계단 함수)"
      ]
    },
    {
      "cell_type": "code",
      "metadata": {
        "id": "VeKCnNWuTBQm"
      },
      "source": [
        "def step(x):\n",
        "    # y = 1 if x > 0 else 0\n",
        "    y = x > 0\n",
        "    return y.astype(np.int_)"
      ],
      "execution_count": 30,
      "outputs": []
    },
    {
      "cell_type": "code",
      "metadata": {
        "id": "2itLcyfbJXi_"
      },
      "source": [
        "x = np.arange(-5, 5, 0.001)\n",
        "y = step(x)"
      ],
      "execution_count": 31,
      "outputs": []
    },
    {
      "cell_type": "code",
      "metadata": {
        "colab": {
          "base_uri": "https://localhost:8080/"
        },
        "id": "oAHC8J6RJf_j",
        "outputId": "8d107309-31e0-4971-8596-465ec401f3bf"
      },
      "source": [
        "print(x[:10])\n",
        "print(y[:10])"
      ],
      "execution_count": 32,
      "outputs": [
        {
          "output_type": "stream",
          "text": [
            "[-5.    -4.999 -4.998 -4.997 -4.996 -4.995 -4.994 -4.993 -4.992 -4.991]\n",
            "[0 0 0 0 0 0 0 0 0 0]\n"
          ],
          "name": "stdout"
        }
      ]
    },
    {
      "cell_type": "code",
      "metadata": {
        "colab": {
          "base_uri": "https://localhost:8080/"
        },
        "id": "tRlhxZSMJruz",
        "outputId": "1c653217-d3da-4976-ce6d-aa63304019fc"
      },
      "source": [
        "print(x[-10:])\n",
        "print(y[-10:])"
      ],
      "execution_count": 33,
      "outputs": [
        {
          "output_type": "stream",
          "text": [
            "[4.99  4.991 4.992 4.993 4.994 4.995 4.996 4.997 4.998 4.999]\n",
            "[1 1 1 1 1 1 1 1 1 1]\n"
          ],
          "name": "stdout"
        }
      ]
    },
    {
      "cell_type": "code",
      "metadata": {
        "colab": {
          "base_uri": "https://localhost:8080/",
          "height": 265
        },
        "id": "_lxXQLg-Juis",
        "outputId": "9ad70d05-e5b6-4d7d-83d3-4beedd1a87ef"
      },
      "source": [
        "plt.plot(x, y)\n",
        "plt.grid()\n",
        "plt.show()"
      ],
      "execution_count": 34,
      "outputs": [
        {
          "output_type": "display_data",
          "data": {
            "image/png": "[encoded data removed]",
            "text/plain": [
              "<Figure size 432x288 with 1 Axes>"
            ]
          },
          "metadata": {
            "tags": [],
            "needs_background": "light"
          }
        }
      ]
    },
    {
      "cell_type": "code",
      "metadata": {
        "id": "xMUdKK3zK94V"
      },
      "source": [
        "def plot_activation_fn(activation):\n",
        "    \"\"\"활성화 함수 activation을 파라미터로 전달받아서, 활성화 함수의 그래프를 그려주는 함수\"\"\"\n",
        "    x = np.arange(-5, 5, 0.0001)  # 그래프를 그릴 x 좌표들\n",
        "    y = activation(x)  # activation 함수의 리턴값(출력값)\n",
        "    plt.plot(x, y)\n",
        "    plt.grid()\n",
        "    plt.show()"
      ],
      "execution_count": 35,
      "outputs": []
    },
    {
      "cell_type": "code",
      "metadata": {
        "colab": {
          "base_uri": "https://localhost:8080/",
          "height": 265
        },
        "id": "4Vf7SH1KLw4c",
        "outputId": "4a7a7c9d-ec73-4248-d874-747e6533fad4"
      },
      "source": [
        "plot_activation_fn(activation=step)"
      ],
      "execution_count": 38,
      "outputs": [
        {
          "output_type": "display_data",
          "data": {
            "image/png": "[encoded data removed]",
            "text/plain": [
              "<Figure size 432x288 with 1 Axes>"
            ]
          },
          "metadata": {
            "tags": [],
            "needs_background": "light"
          }
        }
      ]
    },
    {
      "cell_type": "markdown",
      "metadata": {
        "id": "x3aCB63cRUHD"
      },
      "source": [
        "## Sigmoid 함수"
      ]
    },
    {
      "cell_type": "code",
      "metadata": {
        "id": "e-ONVp3IMEEc"
      },
      "source": [
        "def sigmoid(x):\n",
        "    y = 1 / (1 + np.exp(-x))\n",
        "    return y"
      ],
      "execution_count": 42,
      "outputs": []
    },
    {
      "cell_type": "code",
      "metadata": {
        "colab": {
          "base_uri": "https://localhost:8080/",
          "height": 265
        },
        "id": "4txOREjIR3jq",
        "outputId": "9f5aa1d1-6903-4241-e6dd-a7d307f27bcf"
      },
      "source": [
        "plot_activation_fn(sigmoid)"
      ],
      "execution_count": 43,
      "outputs": [
        {
          "output_type": "display_data",
          "data": {
            "image/png": "[encoded data removed]",
            "text/plain": [
              "<Figure size 432x288 with 1 Axes>"
            ]
          },
          "metadata": {
            "tags": [],
            "needs_background": "light"
          }
        }
      ]
    },
    {
      "cell_type": "code",
      "metadata": {
        "colab": {
          "base_uri": "https://localhost:8080/",
          "height": 265
        },
        "id": "sgpng_eiSe7q",
        "outputId": "efa480f1-b2f7-4326-ff23-eab45a1ab592"
      },
      "source": [
        "plot_activation_fn(expit)"
      ],
      "execution_count": 44,
      "outputs": [
        {
          "output_type": "display_data",
          "data": {
            "image/png": "[encoded data removed]",
            "text/plain": [
              "<Figure size 432x288 with 1 Axes>"
            ]
          },
          "metadata": {
            "tags": [],
            "needs_background": "light"
          }
        }
      ]
    },
    {
      "cell_type": "markdown",
      "metadata": {
        "id": "jGI5-5A-TVNR"
      },
      "source": [
        "## tanh(Hyperbolic tangent)"
      ]
    },
    {
      "cell_type": "code",
      "metadata": {
        "colab": {
          "base_uri": "https://localhost:8080/",
          "height": 265
        },
        "id": "nRRCCswOTckB",
        "outputId": "36542e60-3f85-4ba6-ab6c-28b637e648c0"
      },
      "source": [
        "plot_activation_fn(np.tanh)"
      ],
      "execution_count": 45,
      "outputs": [
        {
          "output_type": "display_data",
          "data": {
            "image/png": "[encoded data removed]",
            "text/plain": [
              "<Figure size 432x288 with 1 Axes>"
            ]
          },
          "metadata": {
            "tags": [],
            "needs_background": "light"
          }
        }
      ]
    },
    {
      "cell_type": "markdown",
      "metadata": {
        "id": "yXfjODC3UbFi"
      },
      "source": [
        "## ReLU(Rectified Linear Unit) 함수"
      ]
    },
    {
      "cell_type": "code",
      "metadata": {
        "id": "hdHsc-vjVUJi"
      },
      "source": [
        "def relu(x):\n",
        "    y = np.maximum(x, 0)\n",
        "    return y"
      ],
      "execution_count": 48,
      "outputs": []
    },
    {
      "cell_type": "code",
      "metadata": {
        "colab": {
          "base_uri": "https://localhost:8080/",
          "height": 265
        },
        "id": "LxkBFGpXVb-h",
        "outputId": "7aaa4e5f-be97-4657-ae2b-41aa7d88693c"
      },
      "source": [
        "plot_activation_fn(relu)"
      ],
      "execution_count": 49,
      "outputs": [
        {
          "output_type": "display_data",
          "data": {
            "image/png": "[encoded data removed]",
            "text/plain": [
              "<Figure size 432x288 with 1 Axes>"
            ]
          },
          "metadata": {
            "tags": [],
            "needs_background": "light"
          }
        }
      ]
    },
    {
      "cell_type": "code",
      "metadata": {
        "id": "U1EKOA2sWhWZ"
      },
      "source": [
        ""
      ],
      "execution_count": null,
      "outputs": []
    }
  ]
}