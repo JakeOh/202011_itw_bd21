{
  "nbformat": 4,
  "nbformat_minor": 0,
  "metadata": {
    "colab": {
      "name": "ml15_perceptron.ipynb",
      "provenance": [],
      "collapsed_sections": [],
      "authorship_tag": "ABX9TyOYHP30nFnJVgGc42qTYp3t",
      "include_colab_link": true
    },
    "kernelspec": {
      "name": "python3",
      "display_name": "Python 3"
    },
    "language_info": {
      "name": "python"
    }
  },
  "cells": [
    {
      "cell_type": "markdown",
      "metadata": {
        "id": "view-in-github",
        "colab_type": "text"
      },
      "source": [
        "<a href=\"https://colab.research.google.com/github/JakeOh/202011_itw_bd21/blob/main/lab_ml/ml15_perceptron.ipynb\" target=\"_parent\"><img src=\"https://colab.research.google.com/assets/colab-badge.svg\" alt=\"Open In Colab\"/></a>"
      ]
    },
    {
      "cell_type": "markdown",
      "metadata": {
        "id": "xB2gnS01nSg8"
      },
      "source": [
        "# Imports"
      ]
    },
    {
      "cell_type": "code",
      "metadata": {
        "id": "g_U1tKjKmZ9Q"
      },
      "source": [
        "import numpy as np\n",
        "import matplotlib.pyplot as plt"
      ],
      "execution_count": 1,
      "outputs": []
    },
    {
      "cell_type": "markdown",
      "metadata": {
        "id": "OoitSf7rndXz"
      },
      "source": [
        "# Perceptron"
      ]
    },
    {
      "cell_type": "code",
      "metadata": {
        "id": "rSLgO2genYR8"
      },
      "source": [
        "x = np.array([1, 2])\n",
        "w = np.array([0.1, 0.2])"
      ],
      "execution_count": 2,
      "outputs": []
    },
    {
      "cell_type": "code",
      "metadata": {
        "colab": {
          "base_uri": "https://localhost:8080/"
        },
        "id": "3vBXCrE_p5hr",
        "outputId": "2514348b-d063-490c-bcf4-bffc47349eed"
      },
      "source": [
        "x * w"
      ],
      "execution_count": 3,
      "outputs": [
        {
          "output_type": "execute_result",
          "data": {
            "text/plain": [
              "array([0.1, 0.4])"
            ]
          },
          "metadata": {
            "tags": []
          },
          "execution_count": 3
        }
      ]
    },
    {
      "cell_type": "code",
      "metadata": {
        "colab": {
          "base_uri": "https://localhost:8080/"
        },
        "id": "vFaWex5hp6XL",
        "outputId": "aea5b4a1-c2b7-4685-a127-85b07486be00"
      },
      "source": [
        "np.sum(x * w)"
      ],
      "execution_count": 4,
      "outputs": [
        {
          "output_type": "execute_result",
          "data": {
            "text/plain": [
              "0.5"
            ]
          },
          "metadata": {
            "tags": []
          },
          "execution_count": 4
        }
      ]
    },
    {
      "cell_type": "code",
      "metadata": {
        "colab": {
          "base_uri": "https://localhost:8080/"
        },
        "id": "DW0LlfOWqE0b",
        "outputId": "bac72928-cc68-4ccf-9134-2e55a751b65f"
      },
      "source": [
        "np.dot(x, w)"
      ],
      "execution_count": 5,
      "outputs": [
        {
          "output_type": "execute_result",
          "data": {
            "text/plain": [
              "0.5"
            ]
          },
          "metadata": {
            "tags": []
          },
          "execution_count": 5
        }
      ]
    },
    {
      "cell_type": "code",
      "metadata": {
        "colab": {
          "base_uri": "https://localhost:8080/"
        },
        "id": "dQ_NmCcoq0dd",
        "outputId": "945af273-7d6a-4218-ca89-30b7bbe50a85"
      },
      "source": [
        "x.dot(w)"
      ],
      "execution_count": 6,
      "outputs": [
        {
          "output_type": "execute_result",
          "data": {
            "text/plain": [
              "0.5"
            ]
          },
          "metadata": {
            "tags": []
          },
          "execution_count": 6
        }
      ]
    },
    {
      "cell_type": "code",
      "metadata": {
        "colab": {
          "base_uri": "https://localhost:8080/"
        },
        "id": "kLHdpX_VrGUj",
        "outputId": "25b70368-2941-4dbb-9805-da70a2484c53"
      },
      "source": [
        "x @ w"
      ],
      "execution_count": 7,
      "outputs": [
        {
          "output_type": "execute_result",
          "data": {
            "text/plain": [
              "0.5"
            ]
          },
          "metadata": {
            "tags": []
          },
          "execution_count": 7
        }
      ]
    },
    {
      "cell_type": "markdown",
      "metadata": {
        "id": "UI7ZvaFovKCS"
      },
      "source": [
        "## AND Gate"
      ]
    },
    {
      "cell_type": "markdown",
      "metadata": {
        "id": "acG2QLBcvQ6S"
      },
      "source": [
        "| $x_1$ | $x_2$ | $y$ |\n",
        "|---|---|---|\n",
        "| 0 | 0 | 0 |\n",
        "| 0 | 1 | 0 |\n",
        "| 1 | 0 | 0 |\n",
        "| 1 | 1 | 1 |"
      ]
    },
    {
      "cell_type": "code",
      "metadata": {
        "id": "2sXsPx9grJNj"
      },
      "source": [
        "def and_gate(x1, x2):\n",
        "    w1, w2, th = 0.5, 0.5, 0.7\n",
        "    result = x1 * w1 + x2 * w2\n",
        "    if result > th:\n",
        "        y = 1\n",
        "    else:\n",
        "        y = 0\n",
        "\n",
        "    return y"
      ],
      "execution_count": 14,
      "outputs": []
    },
    {
      "cell_type": "code",
      "metadata": {
        "colab": {
          "base_uri": "https://localhost:8080/"
        },
        "id": "NvjKXDn8xb40",
        "outputId": "0e7d2912-08aa-472c-86e1-fcb011b0f30c"
      },
      "source": [
        "and_gate(x1=0, x2=0)"
      ],
      "execution_count": 15,
      "outputs": [
        {
          "output_type": "execute_result",
          "data": {
            "text/plain": [
              "0"
            ]
          },
          "metadata": {
            "tags": []
          },
          "execution_count": 15
        }
      ]
    },
    {
      "cell_type": "code",
      "metadata": {
        "colab": {
          "base_uri": "https://localhost:8080/"
        },
        "id": "I_qkchJ_xlxL",
        "outputId": "2a966ac8-a038-4b93-dea5-3a08b83fc831"
      },
      "source": [
        "and_gate(x1=0, x2=1)"
      ],
      "execution_count": 16,
      "outputs": [
        {
          "output_type": "execute_result",
          "data": {
            "text/plain": [
              "0"
            ]
          },
          "metadata": {
            "tags": []
          },
          "execution_count": 16
        }
      ]
    },
    {
      "cell_type": "code",
      "metadata": {
        "colab": {
          "base_uri": "https://localhost:8080/"
        },
        "id": "TQYziNVKxqhC",
        "outputId": "c94620ff-a67c-4ae8-aff1-ed6415e6c2b9"
      },
      "source": [
        "and_gate(x1=1, x2=0)"
      ],
      "execution_count": 17,
      "outputs": [
        {
          "output_type": "execute_result",
          "data": {
            "text/plain": [
              "0"
            ]
          },
          "metadata": {
            "tags": []
          },
          "execution_count": 17
        }
      ]
    },
    {
      "cell_type": "code",
      "metadata": {
        "colab": {
          "base_uri": "https://localhost:8080/"
        },
        "id": "wDWrqVePxyPa",
        "outputId": "8578386f-de32-4fd3-ef99-40aa5c5e41d4"
      },
      "source": [
        "and_gate(x1=1, x2=1)"
      ],
      "execution_count": 18,
      "outputs": [
        {
          "output_type": "execute_result",
          "data": {
            "text/plain": [
              "1"
            ]
          },
          "metadata": {
            "tags": []
          },
          "execution_count": 18
        }
      ]
    },
    {
      "cell_type": "code",
      "metadata": {
        "id": "e9h4U001zAQC"
      },
      "source": [
        "def and_gate2(x1, x2):\n",
        "    w1, w2, th = 0.1, 0.1, 0.1\n",
        "    result = x1 * w1 + x2 * w2\n",
        "    y = 1 if result > th else 0\n",
        "    return y"
      ],
      "execution_count": 19,
      "outputs": []
    },
    {
      "cell_type": "code",
      "metadata": {
        "colab": {
          "base_uri": "https://localhost:8080/"
        },
        "id": "YMqzVkLyzgmj",
        "outputId": "c2b6a154-c3c7-449a-9b22-979eab77c5ba"
      },
      "source": [
        "and_gate2(1, 1)"
      ],
      "execution_count": 23,
      "outputs": [
        {
          "output_type": "execute_result",
          "data": {
            "text/plain": [
              "1"
            ]
          },
          "metadata": {
            "tags": []
          },
          "execution_count": 23
        }
      ]
    },
    {
      "cell_type": "markdown",
      "metadata": {
        "id": "H4NfeDuFztlq"
      },
      "source": [
        "AND 게이트를 만들 수 있는 가중치(w1, w2), 임계값(threshold)은 무수히 많은 조합이 있을 수 있음."
      ]
    },
    {
      "cell_type": "code",
      "metadata": {
        "id": "kfzx07ePzj4q"
      },
      "source": [
        "def and_gate3(x):\n",
        "    \"\"\"x는 원소가 2개인 1차원 배열. AND 논리 연산의 결과를 리턴.\"\"\"\n",
        "    w = np.array([0.5, 0.5])\n",
        "    th = 0.7\n",
        "    # y = 1 if np.sum(x * w) > th else 0\n",
        "    y = 1 if np.dot(x, w) > th else 0\n",
        "    return y"
      ],
      "execution_count": 30,
      "outputs": []
    },
    {
      "cell_type": "code",
      "metadata": {
        "colab": {
          "base_uri": "https://localhost:8080/"
        },
        "id": "ytWUksPw2UYD",
        "outputId": "804f923f-8777-49c4-ac93-4288286bd8b0"
      },
      "source": [
        "and_gate3(np.array([1, 1]))"
      ],
      "execution_count": 31,
      "outputs": [
        {
          "output_type": "execute_result",
          "data": {
            "text/plain": [
              "1"
            ]
          },
          "metadata": {
            "tags": []
          },
          "execution_count": 31
        }
      ]
    },
    {
      "cell_type": "code",
      "metadata": {
        "id": "63AiJcie3ZgD"
      },
      "source": [
        "def and_gate4(X):\n",
        "    \"\"\"X는 컬럼이 2개인 2차원 배열. 즉 shape은 (-1, 2). AND 논리 연산 결과를 리턴\"\"\"\n",
        "    w = np.array([0.5, 0.5])  # 가중치(weight)\n",
        "    th = 0.7\n",
        "    y = (np.dot(X, w) > th).astype(np.int_)\n",
        "    return y"
      ],
      "execution_count": 39,
      "outputs": []
    },
    {
      "cell_type": "code",
      "metadata": {
        "id": "gLXbusiA4rRK"
      },
      "source": [
        "X = np.array([[0, 0],\n",
        "              [0, 1],\n",
        "              [1, 0],\n",
        "              [1, 1]])"
      ],
      "execution_count": 33,
      "outputs": []
    },
    {
      "cell_type": "code",
      "metadata": {
        "colab": {
          "base_uri": "https://localhost:8080/"
        },
        "id": "RnEvO5fq4z-y",
        "outputId": "aa1f4c88-7d67-4c92-e87d-f631f407fe41"
      },
      "source": [
        "and_gate4(X)"
      ],
      "execution_count": 40,
      "outputs": [
        {
          "output_type": "execute_result",
          "data": {
            "text/plain": [
              "array([0, 0, 0, 1])"
            ]
          },
          "metadata": {
            "tags": []
          },
          "execution_count": 40
        }
      ]
    },
    {
      "cell_type": "code",
      "metadata": {
        "id": "Q55pWwwT43ah"
      },
      "source": [
        "def and_gate5(X):\n",
        "    w = np.array([0.5, 0.5])  # 가중치(weight)\n",
        "    b = -0.7  # 편향(bias)\n",
        "    result = np.dot(X, w) + b  # linear equation\n",
        "    y = result > 0\n",
        "    return y.astype(np.int_)"
      ],
      "execution_count": 46,
      "outputs": []
    },
    {
      "cell_type": "code",
      "metadata": {
        "colab": {
          "base_uri": "https://localhost:8080/"
        },
        "id": "_OvnyGSlAnQp",
        "outputId": "05259ce8-d1de-4355-9334-f66df3ea4dce"
      },
      "source": [
        "and_gate5(X)"
      ],
      "execution_count": 47,
      "outputs": [
        {
          "output_type": "execute_result",
          "data": {
            "text/plain": [
              "array([0, 0, 0, 1])"
            ]
          },
          "metadata": {
            "tags": []
          },
          "execution_count": 47
        }
      ]
    },
    {
      "cell_type": "code",
      "metadata": {
        "id": "aJ2zjGG2ApEI"
      },
      "source": [
        "def and_gate6(X):\n",
        "    w_bias = np.array([-0.7, 0.5, 0.5])  # bias를 포함한 weights: (bias, w1, w2)\n",
        "    n = len(X)\n",
        "    X_bias = np.c_[np.ones(n), X]  # bias에는 1이 곱해짐.\n",
        "    result = np.dot(X_bias, w_bias)  # X_bias @ w_bias\n",
        "    y = result > 0\n",
        "    return y.astype(np.int_)"
      ],
      "execution_count": 48,
      "outputs": []
    },
    {
      "cell_type": "code",
      "metadata": {
        "colab": {
          "base_uri": "https://localhost:8080/"
        },
        "id": "0AHQJiYwD1Ji",
        "outputId": "ca60f6af-f0c3-4064-d672-e2c764f95f28"
      },
      "source": [
        "and_gate6(X)"
      ],
      "execution_count": 49,
      "outputs": [
        {
          "output_type": "execute_result",
          "data": {
            "text/plain": [
              "array([0, 0, 0, 1])"
            ]
          },
          "metadata": {
            "tags": []
          },
          "execution_count": 49
        }
      ]
    },
    {
      "cell_type": "markdown",
      "metadata": {
        "id": "VedvJKuIFSAg"
      },
      "source": [
        "## NAND Gate"
      ]
    },
    {
      "cell_type": "markdown",
      "metadata": {
        "id": "x0Wy5kKHFWqX"
      },
      "source": [
        "| $x_1$ | $x_2$ | $y$ |\n",
        "|---|---|---|\n",
        "| 0 | 0 | 1 |\n",
        "| 0 | 1 | 1 |\n",
        "| 1 | 0 | 1 |\n",
        "| 1 | 1 | 0 |"
      ]
    },
    {
      "cell_type": "code",
      "metadata": {
        "id": "CIbAg9gVD2lB"
      },
      "source": [
        "def nand_gate(X):\n",
        "    w_bias = np.array([-0.7, 0.5, 0.5])  # (b, w1, w2)\n",
        "    n = len(X)\n",
        "    X_bias = np.c_[np.ones(n), X]\n",
        "    result = np.dot(X_bias, w_bias)\n",
        "    y = result <= 0\n",
        "    return y.astype(np.int_)"
      ],
      "execution_count": 50,
      "outputs": []
    },
    {
      "cell_type": "code",
      "metadata": {
        "colab": {
          "base_uri": "https://localhost:8080/"
        },
        "id": "SbeREnsPLath",
        "outputId": "735cff4b-aae7-49f3-aeee-d2e775aa8580"
      },
      "source": [
        "nand_gate(X)"
      ],
      "execution_count": 54,
      "outputs": [
        {
          "output_type": "execute_result",
          "data": {
            "text/plain": [
              "array([1, 1, 1, 0])"
            ]
          },
          "metadata": {
            "tags": []
          },
          "execution_count": 54
        }
      ]
    },
    {
      "cell_type": "markdown",
      "metadata": {
        "id": "--Uagm1lFqyx"
      },
      "source": [
        "## OR Gate"
      ]
    },
    {
      "cell_type": "markdown",
      "metadata": {
        "id": "ByK1YvD3FyCX"
      },
      "source": [
        "| $x_1$ | $x_2$ | $y$ |\n",
        "|---|---|---|\n",
        "| 0 | 0 | 0 |\n",
        "| 0 | 1 | 1 |\n",
        "| 1 | 0 | 1 |\n",
        "| 1 | 1 | 1 |"
      ]
    },
    {
      "cell_type": "code",
      "metadata": {
        "id": "Do2wDd4SFxk3"
      },
      "source": [
        "def or_gate(X):\n",
        "    w_bias = np.array([-0.5, 1, 1])\n",
        "    n = len(X)\n",
        "    X_bias = np.c_[np.ones(n), X]\n",
        "    y = np.dot(X_bias, w_bias) > 0\n",
        "    return y.astype(np.int_)"
      ],
      "execution_count": 57,
      "outputs": []
    },
    {
      "cell_type": "code",
      "metadata": {
        "colab": {
          "base_uri": "https://localhost:8080/"
        },
        "id": "kn2gaatANajC",
        "outputId": "736a9fa5-5577-413a-a061-615c528d6d67"
      },
      "source": [
        "or_gate(X)"
      ],
      "execution_count": 58,
      "outputs": [
        {
          "output_type": "execute_result",
          "data": {
            "text/plain": [
              "array([0, 1, 1, 1])"
            ]
          },
          "metadata": {
            "tags": []
          },
          "execution_count": 58
        }
      ]
    },
    {
      "cell_type": "markdown",
      "metadata": {
        "id": "Q1uc5GulGC1n"
      },
      "source": [
        "## XOR(Exclusive OR) Gate"
      ]
    },
    {
      "cell_type": "markdown",
      "metadata": {
        "id": "Qf_0nyWjGIOy"
      },
      "source": [
        "| $x_1$ | $x_2$ | NAND($y_1$) | OR($y_2$) | z($y_1$ AND $y_2$) |\n",
        "|---|---|---|---|---|\n",
        "| 0 | 0 | 1 | 0 | 0 |\n",
        "| 0 | 1 | 1 | 1 | 1 |\n",
        "| 1 | 0 | 1 | 1 | 1 |\n",
        "| 1 | 1 | 0 | 1 | 0 |"
      ]
    },
    {
      "cell_type": "code",
      "metadata": {
        "id": "MnV0WbCcGTlK"
      },
      "source": [
        "def xor_gate(X):\n",
        "    y1 = nand_gate(X)  # perceptron, neuron\n",
        "    y2 = or_gate(X)  \n",
        "    Y = np.c_[y1, y2]  # layer\n",
        "    z = and_gate6(Y)\n",
        "    return z"
      ],
      "execution_count": 59,
      "outputs": []
    },
    {
      "cell_type": "code",
      "metadata": {
        "colab": {
          "base_uri": "https://localhost:8080/"
        },
        "id": "kFV7Jnp8S_wX",
        "outputId": "b8caf745-716c-4666-93ce-0ff9a3350760"
      },
      "source": [
        "xor_gate(X)"
      ],
      "execution_count": 60,
      "outputs": [
        {
          "output_type": "execute_result",
          "data": {
            "text/plain": [
              "array([0, 1, 1, 0])"
            ]
          },
          "metadata": {
            "tags": []
          },
          "execution_count": 60
        }
      ]
    },
    {
      "cell_type": "code",
      "metadata": {
        "id": "VeKCnNWuTBQm"
      },
      "source": [
        ""
      ],
      "execution_count": null,
      "outputs": []
    }
  ]
}