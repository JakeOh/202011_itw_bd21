{
  "nbformat": 4,
  "nbformat_minor": 0,
  "metadata": {
    "colab": {
      "name": "ml15_perceptron.ipynb",
      "provenance": [],
      "authorship_tag": "ABX9TyOpWML6+LkcY0eu46LPfi3Z",
      "include_colab_link": true
    },
    "kernelspec": {
      "name": "python3",
      "display_name": "Python 3"
    },
    "language_info": {
      "name": "python"
    }
  },
  "cells": [
    {
      "cell_type": "markdown",
      "metadata": {
        "id": "view-in-github",
        "colab_type": "text"
      },
      "source": [
        "<a href=\"https://colab.research.google.com/github/JakeOh/202011_itw_bd21/blob/main/lab_ml/ml15_perceptron.ipynb\" target=\"_parent\"><img src=\"https://colab.research.google.com/assets/colab-badge.svg\" alt=\"Open In Colab\"/></a>"
      ]
    },
    {
      "cell_type": "markdown",
      "metadata": {
        "id": "xB2gnS01nSg8"
      },
      "source": [
        "# Imports"
      ]
    },
    {
      "cell_type": "code",
      "metadata": {
        "id": "g_U1tKjKmZ9Q"
      },
      "source": [
        "import numpy as np\n",
        "import matplotlib.pyplot as plt"
      ],
      "execution_count": 1,
      "outputs": []
    },
    {
      "cell_type": "markdown",
      "metadata": {
        "id": "OoitSf7rndXz"
      },
      "source": [
        "# Perceptron"
      ]
    },
    {
      "cell_type": "code",
      "metadata": {
        "id": "rSLgO2genYR8"
      },
      "source": [
        "x = np.array([1, 2])\n",
        "w = np.array([0.1, 0.2])"
      ],
      "execution_count": 2,
      "outputs": []
    },
    {
      "cell_type": "code",
      "metadata": {
        "colab": {
          "base_uri": "https://localhost:8080/"
        },
        "id": "3vBXCrE_p5hr",
        "outputId": "2514348b-d063-490c-bcf4-bffc47349eed"
      },
      "source": [
        "x * w"
      ],
      "execution_count": 3,
      "outputs": [
        {
          "output_type": "execute_result",
          "data": {
            "text/plain": [
              "array([0.1, 0.4])"
            ]
          },
          "metadata": {
            "tags": []
          },
          "execution_count": 3
        }
      ]
    },
    {
      "cell_type": "code",
      "metadata": {
        "colab": {
          "base_uri": "https://localhost:8080/"
        },
        "id": "vFaWex5hp6XL",
        "outputId": "aea5b4a1-c2b7-4685-a127-85b07486be00"
      },
      "source": [
        "np.sum(x * w)"
      ],
      "execution_count": 4,
      "outputs": [
        {
          "output_type": "execute_result",
          "data": {
            "text/plain": [
              "0.5"
            ]
          },
          "metadata": {
            "tags": []
          },
          "execution_count": 4
        }
      ]
    },
    {
      "cell_type": "code",
      "metadata": {
        "colab": {
          "base_uri": "https://localhost:8080/"
        },
        "id": "DW0LlfOWqE0b",
        "outputId": "bac72928-cc68-4ccf-9134-2e55a751b65f"
      },
      "source": [
        "np.dot(x, w)"
      ],
      "execution_count": 5,
      "outputs": [
        {
          "output_type": "execute_result",
          "data": {
            "text/plain": [
              "0.5"
            ]
          },
          "metadata": {
            "tags": []
          },
          "execution_count": 5
        }
      ]
    },
    {
      "cell_type": "code",
      "metadata": {
        "colab": {
          "base_uri": "https://localhost:8080/"
        },
        "id": "dQ_NmCcoq0dd",
        "outputId": "945af273-7d6a-4218-ca89-30b7bbe50a85"
      },
      "source": [
        "x.dot(w)"
      ],
      "execution_count": 6,
      "outputs": [
        {
          "output_type": "execute_result",
          "data": {
            "text/plain": [
              "0.5"
            ]
          },
          "metadata": {
            "tags": []
          },
          "execution_count": 6
        }
      ]
    },
    {
      "cell_type": "code",
      "metadata": {
        "colab": {
          "base_uri": "https://localhost:8080/"
        },
        "id": "kLHdpX_VrGUj",
        "outputId": "25b70368-2941-4dbb-9805-da70a2484c53"
      },
      "source": [
        "x @ w"
      ],
      "execution_count": 7,
      "outputs": [
        {
          "output_type": "execute_result",
          "data": {
            "text/plain": [
              "0.5"
            ]
          },
          "metadata": {
            "tags": []
          },
          "execution_count": 7
        }
      ]
    },
    {
      "cell_type": "markdown",
      "metadata": {
        "id": "UI7ZvaFovKCS"
      },
      "source": [
        "## AND Gate"
      ]
    },
    {
      "cell_type": "markdown",
      "metadata": {
        "id": "acG2QLBcvQ6S"
      },
      "source": [
        "| $x_1$ | $x_2$ | $y$ |\n",
        "|---|---|---|\n",
        "| 0 | 0 | 0 |\n",
        "| 0 | 1 | 0 |\n",
        "| 1 | 0 | 0 |\n",
        "| 1 | 1 | 1 |"
      ]
    },
    {
      "cell_type": "code",
      "metadata": {
        "id": "2sXsPx9grJNj"
      },
      "source": [
        "def and_gate(x1, x2):\n",
        "    w1, w2, th = 0.5, 0.5, 0.7\n",
        "    result = x1 * w1 + x2 * w2\n",
        "    if result > th:\n",
        "        y = 1\n",
        "    else:\n",
        "        y = 0\n",
        "\n",
        "    return y"
      ],
      "execution_count": 14,
      "outputs": []
    },
    {
      "cell_type": "code",
      "metadata": {
        "colab": {
          "base_uri": "https://localhost:8080/"
        },
        "id": "NvjKXDn8xb40",
        "outputId": "0e7d2912-08aa-472c-86e1-fcb011b0f30c"
      },
      "source": [
        "and_gate(x1=0, x2=0)"
      ],
      "execution_count": 15,
      "outputs": [
        {
          "output_type": "execute_result",
          "data": {
            "text/plain": [
              "0"
            ]
          },
          "metadata": {
            "tags": []
          },
          "execution_count": 15
        }
      ]
    },
    {
      "cell_type": "code",
      "metadata": {
        "colab": {
          "base_uri": "https://localhost:8080/"
        },
        "id": "I_qkchJ_xlxL",
        "outputId": "2a966ac8-a038-4b93-dea5-3a08b83fc831"
      },
      "source": [
        "and_gate(x1=0, x2=1)"
      ],
      "execution_count": 16,
      "outputs": [
        {
          "output_type": "execute_result",
          "data": {
            "text/plain": [
              "0"
            ]
          },
          "metadata": {
            "tags": []
          },
          "execution_count": 16
        }
      ]
    },
    {
      "cell_type": "code",
      "metadata": {
        "colab": {
          "base_uri": "https://localhost:8080/"
        },
        "id": "TQYziNVKxqhC",
        "outputId": "c94620ff-a67c-4ae8-aff1-ed6415e6c2b9"
      },
      "source": [
        "and_gate(x1=1, x2=0)"
      ],
      "execution_count": 17,
      "outputs": [
        {
          "output_type": "execute_result",
          "data": {
            "text/plain": [
              "0"
            ]
          },
          "metadata": {
            "tags": []
          },
          "execution_count": 17
        }
      ]
    },
    {
      "cell_type": "code",
      "metadata": {
        "colab": {
          "base_uri": "https://localhost:8080/"
        },
        "id": "wDWrqVePxyPa",
        "outputId": "8578386f-de32-4fd3-ef99-40aa5c5e41d4"
      },
      "source": [
        "and_gate(x1=1, x2=1)"
      ],
      "execution_count": 18,
      "outputs": [
        {
          "output_type": "execute_result",
          "data": {
            "text/plain": [
              "1"
            ]
          },
          "metadata": {
            "tags": []
          },
          "execution_count": 18
        }
      ]
    },
    {
      "cell_type": "code",
      "metadata": {
        "id": "e9h4U001zAQC"
      },
      "source": [
        "def and_gate2(x1, x2):\n",
        "    w1, w2, th = 0.1, 0.1, 0.1\n",
        "    result = x1 * w1 + x2 * w2\n",
        "    y = 1 if result > th else 0\n",
        "    return y"
      ],
      "execution_count": 19,
      "outputs": []
    },
    {
      "cell_type": "code",
      "metadata": {
        "colab": {
          "base_uri": "https://localhost:8080/"
        },
        "id": "YMqzVkLyzgmj",
        "outputId": "c2b6a154-c3c7-449a-9b22-979eab77c5ba"
      },
      "source": [
        "and_gate2(1, 1)"
      ],
      "execution_count": 23,
      "outputs": [
        {
          "output_type": "execute_result",
          "data": {
            "text/plain": [
              "1"
            ]
          },
          "metadata": {
            "tags": []
          },
          "execution_count": 23
        }
      ]
    },
    {
      "cell_type": "markdown",
      "metadata": {
        "id": "H4NfeDuFztlq"
      },
      "source": [
        "AND 게이트를 만들 수 있는 가중치(w1, w2), 임계값(threshold)은 무수히 많은 조합이 있을 수 있음."
      ]
    },
    {
      "cell_type": "code",
      "metadata": {
        "id": "kfzx07ePzj4q"
      },
      "source": [
        "def and_gate3(x):\n",
        "    \"\"\"x는 원소가 2개인 1차원 배열. AND 논리 연산의 결과를 리턴.\"\"\"\n",
        "    w = np.array([0.5, 0.5])\n",
        "    th = 0.7\n",
        "    # y = 1 if np.sum(x * w) > th else 0\n",
        "    y = 1 if np.dot(x, w) > th else 0\n",
        "    return y"
      ],
      "execution_count": 30,
      "outputs": []
    },
    {
      "cell_type": "code",
      "metadata": {
        "colab": {
          "base_uri": "https://localhost:8080/"
        },
        "id": "ytWUksPw2UYD",
        "outputId": "804f923f-8777-49c4-ac93-4288286bd8b0"
      },
      "source": [
        "and_gate3(np.array([1, 1]))"
      ],
      "execution_count": 31,
      "outputs": [
        {
          "output_type": "execute_result",
          "data": {
            "text/plain": [
              "1"
            ]
          },
          "metadata": {
            "tags": []
          },
          "execution_count": 31
        }
      ]
    },
    {
      "cell_type": "code",
      "metadata": {
        "id": "63AiJcie3ZgD"
      },
      "source": [
        "def and_gate4(X):\n",
        "    \"\"\"X는 컬럼이 2개인 2차원 배열. 즉 shape은 (-1, 2). AND 논리 연산 결과를 리턴\"\"\"\n",
        "    w = np.array([0.5, 0.5])\n",
        "    th = 0.7\n",
        "    y = (np.dot(X, w) > th).astype(np.int_)\n",
        "    return y"
      ],
      "execution_count": 39,
      "outputs": []
    },
    {
      "cell_type": "code",
      "metadata": {
        "id": "gLXbusiA4rRK"
      },
      "source": [
        "X = np.array([[0, 0],\n",
        "              [0, 1],\n",
        "              [1, 0],\n",
        "              [1, 1]])"
      ],
      "execution_count": 33,
      "outputs": []
    },
    {
      "cell_type": "code",
      "metadata": {
        "colab": {
          "base_uri": "https://localhost:8080/"
        },
        "id": "RnEvO5fq4z-y",
        "outputId": "aa1f4c88-7d67-4c92-e87d-f631f407fe41"
      },
      "source": [
        "and_gate4(X)"
      ],
      "execution_count": 40,
      "outputs": [
        {
          "output_type": "execute_result",
          "data": {
            "text/plain": [
              "array([0, 0, 0, 1])"
            ]
          },
          "metadata": {
            "tags": []
          },
          "execution_count": 40
        }
      ]
    },
    {
      "cell_type": "code",
      "metadata": {
        "id": "Q55pWwwT43ah"
      },
      "source": [
        ""
      ],
      "execution_count": null,
      "outputs": []
    }
  ]
}