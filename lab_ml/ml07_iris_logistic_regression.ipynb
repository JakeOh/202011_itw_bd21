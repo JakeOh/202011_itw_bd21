{
  "nbformat": 4,
  "nbformat_minor": 0,
  "metadata": {
    "colab": {
      "name": "ml07_iris_logistic_regression.ipynb",
      "provenance": [],
      "collapsed_sections": [],
      "authorship_tag": "ABX9TyPxnOb6Za+/vgjKp5ZTs8uX",
      "include_colab_link": true
    },
    "kernelspec": {
      "name": "python3",
      "display_name": "Python 3"
    }
  },
  "cells": [
    {
      "cell_type": "markdown",
      "metadata": {
        "id": "view-in-github",
        "colab_type": "text"
      },
      "source": [
        "<a href=\"https://colab.research.google.com/github/JakeOh/202011_itw_bd21/blob/main/lab_ml/ml07_iris_logistic_regression.ipynb\" target=\"_parent\"><img src=\"https://colab.research.google.com/assets/colab-badge.svg\" alt=\"Open In Colab\"/></a>"
      ]
    },
    {
      "cell_type": "markdown",
      "metadata": {
        "id": "ByDOZQ9duTkg"
      },
      "source": [
        "# Imports"
      ]
    },
    {
      "cell_type": "code",
      "metadata": {
        "id": "bGL_36hctkce"
      },
      "source": [
        "import numpy as np\r\n",
        "import pandas as pd\r\n",
        "import matplotlib.pyplot as plt\r\n",
        "import scipy\r\n",
        "\r\n",
        "from sklearn.datasets import load_iris\r\n",
        "from sklearn.model_selection import train_test_split\r\n",
        "from sklearn.preprocessing import StandardScaler\r\n",
        "from sklearn.linear_model import LogisticRegression\r\n",
        "from sklearn.metrics import confusion_matrix, classification_report"
      ],
      "execution_count": 39,
      "outputs": []
    },
    {
      "cell_type": "markdown",
      "metadata": {
        "id": "koHzuBgvuW6G"
      },
      "source": [
        "# Data"
      ]
    },
    {
      "cell_type": "code",
      "metadata": {
        "id": "Ghg0GJnHuRy-"
      },
      "source": [
        "iris = load_iris()"
      ],
      "execution_count": 2,
      "outputs": []
    },
    {
      "cell_type": "code",
      "metadata": {
        "colab": {
          "base_uri": "https://localhost:8080/"
        },
        "id": "334Mv6-Nuc29",
        "outputId": "0aeb9c59-6a3f-4c73-da58-aaa7fd4cd7bf"
      },
      "source": [
        "iris.keys()"
      ],
      "execution_count": 3,
      "outputs": [
        {
          "output_type": "execute_result",
          "data": {
            "text/plain": [
              "dict_keys(['data', 'target', 'target_names', 'DESCR', 'feature_names', 'filename'])"
            ]
          },
          "metadata": {
            "tags": []
          },
          "execution_count": 3
        }
      ]
    },
    {
      "cell_type": "code",
      "metadata": {
        "id": "H_IpK9hruoWG"
      },
      "source": [
        "X, y = iris['data'], iris['target']"
      ],
      "execution_count": 4,
      "outputs": []
    },
    {
      "cell_type": "code",
      "metadata": {
        "colab": {
          "base_uri": "https://localhost:8080/"
        },
        "id": "Yp1UzrS8u5Et",
        "outputId": "f8fe1ae2-ff22-431c-88e6-d4ff42c05b2d"
      },
      "source": [
        "X[:5]"
      ],
      "execution_count": 5,
      "outputs": [
        {
          "output_type": "execute_result",
          "data": {
            "text/plain": [
              "array([[5.1, 3.5, 1.4, 0.2],\n",
              "       [4.9, 3. , 1.4, 0.2],\n",
              "       [4.7, 3.2, 1.3, 0.2],\n",
              "       [4.6, 3.1, 1.5, 0.2],\n",
              "       [5. , 3.6, 1.4, 0.2]])"
            ]
          },
          "metadata": {
            "tags": []
          },
          "execution_count": 5
        }
      ]
    },
    {
      "cell_type": "code",
      "metadata": {
        "colab": {
          "base_uri": "https://localhost:8080/"
        },
        "id": "5irmdkb-u6O9",
        "outputId": "b04beb09-c13f-4545-9991-921d8e7053cc"
      },
      "source": [
        "y[:5]"
      ],
      "execution_count": 6,
      "outputs": [
        {
          "output_type": "execute_result",
          "data": {
            "text/plain": [
              "array([0, 0, 0, 0, 0])"
            ]
          },
          "metadata": {
            "tags": []
          },
          "execution_count": 6
        }
      ]
    },
    {
      "cell_type": "code",
      "metadata": {
        "colab": {
          "base_uri": "https://localhost:8080/"
        },
        "id": "Wyk-EqGWu8Sl",
        "outputId": "15e139f4-7d28-4d3c-b8f4-8141792b5b08"
      },
      "source": [
        "iris['feature_names']"
      ],
      "execution_count": 7,
      "outputs": [
        {
          "output_type": "execute_result",
          "data": {
            "text/plain": [
              "['sepal length (cm)',\n",
              " 'sepal width (cm)',\n",
              " 'petal length (cm)',\n",
              " 'petal width (cm)']"
            ]
          },
          "metadata": {
            "tags": []
          },
          "execution_count": 7
        }
      ]
    },
    {
      "cell_type": "code",
      "metadata": {
        "colab": {
          "base_uri": "https://localhost:8080/"
        },
        "id": "7oY_1OugvIg2",
        "outputId": "6eebbd1e-13e9-4049-c63b-32b4f762eaf4"
      },
      "source": [
        "iris['target_names']"
      ],
      "execution_count": 8,
      "outputs": [
        {
          "output_type": "execute_result",
          "data": {
            "text/plain": [
              "array(['setosa', 'versicolor', 'virginica'], dtype='<U10')"
            ]
          },
          "metadata": {
            "tags": []
          },
          "execution_count": 8
        }
      ]
    },
    {
      "cell_type": "code",
      "metadata": {
        "colab": {
          "base_uri": "https://localhost:8080/"
        },
        "id": "KdBBeYuvvRiV",
        "outputId": "1fd461f0-84ee-4c46-b1d2-cc5e662fbd15"
      },
      "source": [
        "np.unique(y)"
      ],
      "execution_count": 9,
      "outputs": [
        {
          "output_type": "execute_result",
          "data": {
            "text/plain": [
              "array([0, 1, 2])"
            ]
          },
          "metadata": {
            "tags": []
          },
          "execution_count": 9
        }
      ]
    },
    {
      "cell_type": "code",
      "metadata": {
        "colab": {
          "base_uri": "https://localhost:8080/"
        },
        "id": "9rdCbyI1vV7F",
        "outputId": "bce191d9-5b71-4ef6-eb5c-e1085b484833"
      },
      "source": [
        "X.shape  # iris data: 150 samples, 4 features"
      ],
      "execution_count": 10,
      "outputs": [
        {
          "output_type": "execute_result",
          "data": {
            "text/plain": [
              "(150, 4)"
            ]
          },
          "metadata": {
            "tags": []
          },
          "execution_count": 10
        }
      ]
    },
    {
      "cell_type": "code",
      "metadata": {
        "colab": {
          "base_uri": "https://localhost:8080/"
        },
        "id": "SImvutrJvgrF",
        "outputId": "fa01d5e5-7a0b-4a9c-a82c-27d4fc2ed247"
      },
      "source": [
        "y.shape  # iris target: 150 samples"
      ],
      "execution_count": 11,
      "outputs": [
        {
          "output_type": "execute_result",
          "data": {
            "text/plain": [
              "(150,)"
            ]
          },
          "metadata": {
            "tags": []
          },
          "execution_count": 11
        }
      ]
    },
    {
      "cell_type": "markdown",
      "metadata": {
        "id": "knISGYHavvh9"
      },
      "source": [
        "# Train/Test Split"
      ]
    },
    {
      "cell_type": "code",
      "metadata": {
        "id": "wJINgxymvkjG"
      },
      "source": [
        "X_train, X_test, y_train, y_test = train_test_split(X, y,\r\n",
        "                                                    test_size=0.2,\r\n",
        "                                                    stratify=y,\r\n",
        "                                                    random_state=42)"
      ],
      "execution_count": 12,
      "outputs": []
    },
    {
      "cell_type": "code",
      "metadata": {
        "colab": {
          "base_uri": "https://localhost:8080/"
        },
        "id": "8nYxPXMowDT9",
        "outputId": "f1825c7e-3f80-4ddb-cc0d-e44adc430434"
      },
      "source": [
        "X_train.shape, y_train.shape  # 훈련 셋: 120개 샘플(테스트 셋: 30개 샘플)"
      ],
      "execution_count": 14,
      "outputs": [
        {
          "output_type": "execute_result",
          "data": {
            "text/plain": [
              "((120, 4), (120,))"
            ]
          },
          "metadata": {
            "tags": []
          },
          "execution_count": 14
        }
      ]
    },
    {
      "cell_type": "code",
      "metadata": {
        "colab": {
          "base_uri": "https://localhost:8080/"
        },
        "id": "VQJN_ljbwOOF",
        "outputId": "2077fff6-8b01-41d8-a578-c3ad927f85a3"
      },
      "source": [
        "X_train[:5]"
      ],
      "execution_count": 15,
      "outputs": [
        {
          "output_type": "execute_result",
          "data": {
            "text/plain": [
              "array([[4.4, 2.9, 1.4, 0.2],\n",
              "       [4.9, 2.5, 4.5, 1.7],\n",
              "       [6.8, 2.8, 4.8, 1.4],\n",
              "       [4.9, 3.1, 1.5, 0.1],\n",
              "       [5.5, 2.5, 4. , 1.3]])"
            ]
          },
          "metadata": {
            "tags": []
          },
          "execution_count": 15
        }
      ]
    },
    {
      "cell_type": "code",
      "metadata": {
        "colab": {
          "base_uri": "https://localhost:8080/"
        },
        "id": "YWvQ_2c0wGX9",
        "outputId": "0d5ad670-b9d9-4b30-ce07-8da0c286c58d"
      },
      "source": [
        "y_train[:5]"
      ],
      "execution_count": 17,
      "outputs": [
        {
          "output_type": "execute_result",
          "data": {
            "text/plain": [
              "array([0, 2, 1, 0, 1])"
            ]
          },
          "metadata": {
            "tags": []
          },
          "execution_count": 17
        }
      ]
    },
    {
      "cell_type": "markdown",
      "metadata": {
        "id": "Pa8SxA5Wwd-d"
      },
      "source": [
        "# Train"
      ]
    },
    {
      "cell_type": "code",
      "metadata": {
        "id": "KMj31gXlwYVs"
      },
      "source": [
        "# 특성 스케일링\r\n",
        "scaler = StandardScaler()\r\n",
        "X_train_scaled = scaler.fit_transform(X_train)\r\n",
        "X_test_scaled = scaler.transform(X_test)"
      ],
      "execution_count": 19,
      "outputs": []
    },
    {
      "cell_type": "code",
      "metadata": {
        "colab": {
          "base_uri": "https://localhost:8080/"
        },
        "id": "tu_9gGas1AVj",
        "outputId": "0456fe56-ceb4-4238-de14-4e053d2e5d42"
      },
      "source": [
        "X_train_scaled[:5]"
      ],
      "execution_count": 20,
      "outputs": [
        {
          "output_type": "execute_result",
          "data": {
            "text/plain": [
              "array([[-1.72156775, -0.33210111, -1.34572231, -1.32327558],\n",
              "       [-1.12449223, -1.22765467,  0.41450518,  0.6517626 ],\n",
              "       [ 1.14439475, -0.5559895 ,  0.58484978,  0.25675496],\n",
              "       [-1.12449223,  0.11567567, -1.28894078, -1.45494479],\n",
              "       [-0.40800161, -1.22765467,  0.13059752,  0.12508575]])"
            ]
          },
          "metadata": {
            "tags": []
          },
          "execution_count": 20
        }
      ]
    },
    {
      "cell_type": "code",
      "metadata": {
        "colab": {
          "base_uri": "https://localhost:8080/"
        },
        "id": "kUR5XdZ71Fpb",
        "outputId": "a67e2aa1-ad40-46fb-f954-609edecb2b82"
      },
      "source": [
        "X_test_scaled[:5]"
      ],
      "execution_count": 23,
      "outputs": [
        {
          "output_type": "execute_result",
          "data": {
            "text/plain": [
              "array([[-1.72156775, -0.10821272, -1.40250384, -1.32327558],\n",
              "       [ 0.30848902, -0.10821272,  0.64163131,  0.78343181],\n",
              "       [-1.12449223, -1.45154306, -0.2668732 , -0.26992188],\n",
              "       [-1.00507713, -1.67543145, -0.2668732 , -0.26992188],\n",
              "       [-1.72156775,  0.33956406, -1.40250384, -1.32327558]])"
            ]
          },
          "metadata": {
            "tags": []
          },
          "execution_count": 23
        }
      ]
    },
    {
      "cell_type": "code",
      "metadata": {
        "id": "BZVpf5Rd1MZJ"
      },
      "source": [
        "# logistic regression 모델 생성\r\n",
        "logi_reg = LogisticRegression()"
      ],
      "execution_count": 24,
      "outputs": []
    },
    {
      "cell_type": "code",
      "metadata": {
        "colab": {
          "base_uri": "https://localhost:8080/"
        },
        "id": "nD_gbdAe1c0a",
        "outputId": "0c40415d-aa36-4069-a7a1-34a99a24d24a"
      },
      "source": [
        "# 모델 학습\r\n",
        "logi_reg.fit(X_train_scaled, y_train)"
      ],
      "execution_count": 25,
      "outputs": [
        {
          "output_type": "execute_result",
          "data": {
            "text/plain": [
              "LogisticRegression(C=1.0, class_weight=None, dual=False, fit_intercept=True,\n",
              "                   intercept_scaling=1, l1_ratio=None, max_iter=100,\n",
              "                   multi_class='auto', n_jobs=None, penalty='l2',\n",
              "                   random_state=None, solver='lbfgs', tol=0.0001, verbose=0,\n",
              "                   warm_start=False)"
            ]
          },
          "metadata": {
            "tags": []
          },
          "execution_count": 25
        }
      ]
    },
    {
      "cell_type": "markdown",
      "metadata": {
        "id": "N4uEXhCL1nHi"
      },
      "source": [
        "# 모델 평가"
      ]
    },
    {
      "cell_type": "markdown",
      "metadata": {
        "id": "Vzutbe_d13Gi"
      },
      "source": [
        "## 훈련 셋 평가"
      ]
    },
    {
      "cell_type": "code",
      "metadata": {
        "colab": {
          "base_uri": "https://localhost:8080/"
        },
        "id": "cxkKlbXg1k3z",
        "outputId": "6abd381e-2118-4d03-fd0f-b2c5d467563f"
      },
      "source": [
        "logi_reg.score(X_train_scaled, y_train)"
      ],
      "execution_count": 26,
      "outputs": [
        {
          "output_type": "execute_result",
          "data": {
            "text/plain": [
              "0.9583333333333334"
            ]
          },
          "metadata": {
            "tags": []
          },
          "execution_count": 26
        }
      ]
    },
    {
      "cell_type": "code",
      "metadata": {
        "colab": {
          "base_uri": "https://localhost:8080/"
        },
        "id": "YS5iNUB82NeC",
        "outputId": "d211f099-d80d-4d17-9fec-87ca8126f2d4"
      },
      "source": [
        "# 훈련 셋 예측값\r\n",
        "train_pred = logi_reg.predict(X_train_scaled)\r\n",
        "train_pred[:5]"
      ],
      "execution_count": 27,
      "outputs": [
        {
          "output_type": "execute_result",
          "data": {
            "text/plain": [
              "array([0, 1, 1, 0, 1])"
            ]
          },
          "metadata": {
            "tags": []
          },
          "execution_count": 27
        }
      ]
    },
    {
      "cell_type": "code",
      "metadata": {
        "colab": {
          "base_uri": "https://localhost:8080/"
        },
        "id": "0Jyu0pz91_wZ",
        "outputId": "becbd9d2-8ba2-4cda-a62e-1b5fca81d47a"
      },
      "source": [
        "confusion_matrix(y_train, train_pred)"
      ],
      "execution_count": 28,
      "outputs": [
        {
          "output_type": "execute_result",
          "data": {
            "text/plain": [
              "array([[40,  0,  0],\n",
              "       [ 0, 38,  2],\n",
              "       [ 0,  3, 37]])"
            ]
          },
          "metadata": {
            "tags": []
          },
          "execution_count": 28
        }
      ]
    },
    {
      "cell_type": "code",
      "metadata": {
        "colab": {
          "base_uri": "https://localhost:8080/"
        },
        "id": "3FiI05I22ph0",
        "outputId": "683a6a53-3aba-44bb-fda2-66ea853afb17"
      },
      "source": [
        "report = classification_report(y_train, train_pred, target_names=iris['target_names'])\r\n",
        "print(report)"
      ],
      "execution_count": 30,
      "outputs": [
        {
          "output_type": "stream",
          "text": [
            "              precision    recall  f1-score   support\n",
            "\n",
            "      setosa       1.00      1.00      1.00        40\n",
            "  versicolor       0.93      0.95      0.94        40\n",
            "   virginica       0.95      0.93      0.94        40\n",
            "\n",
            "    accuracy                           0.96       120\n",
            "   macro avg       0.96      0.96      0.96       120\n",
            "weighted avg       0.96      0.96      0.96       120\n",
            "\n"
          ],
          "name": "stdout"
        }
      ]
    },
    {
      "cell_type": "markdown",
      "metadata": {
        "id": "3f7NFskD3z1M"
      },
      "source": [
        "### 예측 확률, 결정 함수, 소프트맥스"
      ]
    },
    {
      "cell_type": "code",
      "metadata": {
        "colab": {
          "base_uri": "https://localhost:8080/"
        },
        "id": "dt2y-LRQ4RNh",
        "outputId": "cd1cb2a4-ca38-40be-ae19-a99d645161b5"
      },
      "source": [
        "train_pred[:5]  #> train_pred의 shape: (120,)"
      ],
      "execution_count": 33,
      "outputs": [
        {
          "output_type": "execute_result",
          "data": {
            "text/plain": [
              "array([0, 1, 1, 0, 1])"
            ]
          },
          "metadata": {
            "tags": []
          },
          "execution_count": 33
        }
      ]
    },
    {
      "cell_type": "code",
      "metadata": {
        "colab": {
          "base_uri": "https://localhost:8080/"
        },
        "id": "3Lq30F8I28ze",
        "outputId": "4d62b128-c98a-42d8-8f89-43f11b24187e"
      },
      "source": [
        "train_pred_pr = logi_reg.predict_proba(X_train_scaled)  #> 예측 확률 shape: (120, 3)\r\n",
        "np.around(train_pred_pr[:5], decimals=3)"
      ],
      "execution_count": 32,
      "outputs": [
        {
          "output_type": "execute_result",
          "data": {
            "text/plain": [
              "array([[0.969, 0.031, 0.   ],\n",
              "       [0.019, 0.513, 0.469],\n",
              "       [0.002, 0.764, 0.234],\n",
              "       [0.957, 0.043, 0.   ],\n",
              "       [0.025, 0.897, 0.078]])"
            ]
          },
          "metadata": {
            "tags": []
          },
          "execution_count": 32
        }
      ]
    },
    {
      "cell_type": "code",
      "metadata": {
        "colab": {
          "base_uri": "https://localhost:8080/"
        },
        "id": "Keky53C84H0T",
        "outputId": "69b9169f-487f-4968-db8f-1a75dcdfb41f"
      },
      "source": [
        "np.argmax(train_pred_pr, axis=1)  # 예측 확률을 사용해서 계산된 예측값"
      ],
      "execution_count": 34,
      "outputs": [
        {
          "output_type": "execute_result",
          "data": {
            "text/plain": [
              "array([0, 1, 1, 0, 1, 2, 1, 1, 2, 2, 2, 1, 1, 1, 1, 0, 0, 2, 2, 0, 1, 0,\n",
              "       2, 0, 1, 2, 2, 0, 2, 0, 0, 1, 1, 0, 2, 2, 1, 1, 2, 2, 0, 1, 0, 2,\n",
              "       0, 0, 2, 0, 0, 0, 0, 1, 2, 1, 0, 2, 1, 2, 0, 2, 0, 1, 2, 0, 2, 1,\n",
              "       2, 1, 1, 2, 0, 0, 0, 1, 1, 2, 1, 2, 2, 1, 0, 2, 1, 0, 2, 0, 2, 1,\n",
              "       1, 0, 1, 2, 0, 0, 2, 2, 2, 1, 2, 0, 2, 1, 2, 2, 0, 1, 1, 1, 1, 1,\n",
              "       0, 2, 1, 1, 0, 0, 0, 0, 1, 0])"
            ]
          },
          "metadata": {
            "tags": []
          },
          "execution_count": 34
        }
      ]
    },
    {
      "cell_type": "code",
      "metadata": {
        "colab": {
          "base_uri": "https://localhost:8080/"
        },
        "id": "zR0CKq9356p4",
        "outputId": "9d18995b-3058-44a7-b970-bd5c85cbee6e"
      },
      "source": [
        "# 결정 함수\r\n",
        "decision = logi_reg.decision_function(X_train_scaled)  #> shape: (120, 3)\r\n",
        "# decision.shape\r\n",
        "decision[:5]"
      ],
      "execution_count": 37,
      "outputs": [
        {
          "output_type": "execute_result",
          "data": {
            "text/plain": [
              "array([[ 5.87992851,  2.45018483, -8.33011334],\n",
              "       [-2.18187437,  1.13608798,  1.04578639],\n",
              "       [-3.6053981 ,  2.39516734,  1.21023076],\n",
              "       [ 5.80803392,  2.70389881, -8.51193274],\n",
              "       [-1.56377633,  2.00406408, -0.44028775]])"
            ]
          },
          "metadata": {
            "tags": []
          },
          "execution_count": 37
        }
      ]
    },
    {
      "cell_type": "code",
      "metadata": {
        "colab": {
          "base_uri": "https://localhost:8080/"
        },
        "id": "el_vQAH_6Ue5",
        "outputId": "4cdbf4e6-6d13-4c15-bcdb-53e2e1e094a1"
      },
      "source": [
        "softmax = np.exp(decision) / np.sum(np.exp(decision), axis=1, keepdims=True)\r\n",
        "# softmax.shape  # (120, 3)\r\n",
        "np.around(softmax[:5], decimals=3)"
      ],
      "execution_count": 43,
      "outputs": [
        {
          "output_type": "execute_result",
          "data": {
            "text/plain": [
              "array([[0.969, 0.031, 0.   ],\n",
              "       [0.019, 0.513, 0.469],\n",
              "       [0.002, 0.764, 0.234],\n",
              "       [0.957, 0.043, 0.   ],\n",
              "       [0.025, 0.897, 0.078]])"
            ]
          },
          "metadata": {
            "tags": []
          },
          "execution_count": 43
        }
      ]
    },
    {
      "cell_type": "code",
      "metadata": {
        "colab": {
          "base_uri": "https://localhost:8080/"
        },
        "id": "XBW4OxWG8Bfg",
        "outputId": "ad9efb13-2610-415a-e143-c0ca3776b1fe"
      },
      "source": [
        "softmax = scipy.special.softmax(decision, axis=1)\r\n",
        "# softmax.shape  # (120, 3)\r\n",
        "np.around(softmax[:5], decimals=3)"
      ],
      "execution_count": 46,
      "outputs": [
        {
          "output_type": "execute_result",
          "data": {
            "text/plain": [
              "array([[0.969, 0.031, 0.   ],\n",
              "       [0.019, 0.513, 0.469],\n",
              "       [0.002, 0.764, 0.234],\n",
              "       [0.957, 0.043, 0.   ],\n",
              "       [0.025, 0.897, 0.078]])"
            ]
          },
          "metadata": {
            "tags": []
          },
          "execution_count": 46
        }
      ]
    },
    {
      "cell_type": "code",
      "metadata": {
        "colab": {
          "base_uri": "https://localhost:8080/"
        },
        "id": "JFeGRz2i860f",
        "outputId": "56baff6a-c51f-4144-9dbb-88a1797ce2b0"
      },
      "source": [
        "# 결정 함수 = 선형 회귀 결과(y = w0 + x1 * w1 + ... + x4 * w4)\r\n",
        "w0 = logi_reg.intercept_\r\n",
        "w0  # shape: (3,) - (n_classes, )"
      ],
      "execution_count": 48,
      "outputs": [
        {
          "output_type": "execute_result",
          "data": {
            "text/plain": [
              "array([-0.30528152,  1.90861713, -1.60333562])"
            ]
          },
          "metadata": {
            "tags": []
          },
          "execution_count": 48
        }
      ]
    },
    {
      "cell_type": "code",
      "metadata": {
        "colab": {
          "base_uri": "https://localhost:8080/"
        },
        "id": "VSUBA_ep-TrO",
        "outputId": "e085416c-2c2c-4f01-dabd-70538d512bb7"
      },
      "source": [
        "W = logi_reg.coef_\r\n",
        "W  # shape: (3, 4) - (n_classes, n_features)"
      ],
      "execution_count": 49,
      "outputs": [
        {
          "output_type": "execute_result",
          "data": {
            "text/plain": [
              "array([[-1.0888546 ,  1.02392865, -1.79886876, -1.68516907],\n",
              "       [ 0.53614901, -0.36006071, -0.20459098, -0.80836173],\n",
              "       [ 0.55270559, -0.66386794,  2.00345974,  2.4935308 ]])"
            ]
          },
          "metadata": {
            "tags": []
          },
          "execution_count": 49
        }
      ]
    },
    {
      "cell_type": "code",
      "metadata": {
        "colab": {
          "base_uri": "https://localhost:8080/"
        },
        "id": "Utc2OQV9-oym",
        "outputId": "431ab514-e325-4526-f1d1-3fad35daf1b2"
      },
      "source": [
        "deci_fn = w0 + X_train_scaled @ W.T  # (3, ) + (120, 4) @ (4, 3)\r\n",
        "deci_fn[:5]"
      ],
      "execution_count": 51,
      "outputs": [
        {
          "output_type": "execute_result",
          "data": {
            "text/plain": [
              "array([[ 5.87992851,  2.45018483, -8.33011334],\n",
              "       [-2.18187437,  1.13608798,  1.04578639],\n",
              "       [-3.6053981 ,  2.39516734,  1.21023076],\n",
              "       [ 5.80803392,  2.70389881, -8.51193274],\n",
              "       [-1.56377633,  2.00406408, -0.44028775]])"
            ]
          },
          "metadata": {
            "tags": []
          },
          "execution_count": 51
        }
      ]
    },
    {
      "cell_type": "code",
      "metadata": {
        "id": "QUlKHY0I_y3W"
      },
      "source": [
        ""
      ],
      "execution_count": null,
      "outputs": []
    }
  ]
}