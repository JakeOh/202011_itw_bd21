{
  "nbformat": 4,
  "nbformat_minor": 0,
  "metadata": {
    "colab": {
      "name": "ml02_train_set_test_set.ipynb",
      "provenance": [],
      "collapsed_sections": [],
      "mount_file_id": "1YqBowbltjxik__HzKxcgmrvPEiFYvcSd",
      "authorship_tag": "ABX9TyNlOzXvGetw4y89AcZNzCKx",
      "include_colab_link": true
    },
    "kernelspec": {
      "name": "python3",
      "display_name": "Python 3"
    }
  },
  "cells": [
    {
      "cell_type": "markdown",
      "metadata": {
        "id": "view-in-github",
        "colab_type": "text"
      },
      "source": [
        "<a href=\"https://colab.research.google.com/github/JakeOh/202011_itw_bd21/blob/main/lab_ml/ml02_train_set_test_set.ipynb\" target=\"_parent\"><img src=\"https://colab.research.google.com/assets/colab-badge.svg\" alt=\"Open In Colab\"/></a>"
      ]
    },
    {
      "cell_type": "markdown",
      "metadata": {
        "id": "afRHgGKmfLgs"
      },
      "source": [
        "# Imports"
      ]
    },
    {
      "cell_type": "code",
      "metadata": {
        "id": "VqO6gefhfCKf"
      },
      "source": [
        "import pickle\r\n",
        "\r\n",
        "import numpy as np\r\n",
        "import pandas as pd\r\n",
        "import matplotlib.pyplot as plt\r\n",
        "import seaborn as sns\r\n",
        "\r\n",
        "from sklearn.neighbors import KNeighborsClassifier  # 클래스\r\n",
        "from sklearn.metrics import confusion_matrix, classification_report  # 함수, 속성\r\n",
        "from sklearn.model_selection import train_test_split\r\n",
        "from sklearn.preprocessing import StandardScaler"
      ],
      "execution_count": 1,
      "outputs": []
    },
    {
      "cell_type": "markdown",
      "metadata": {
        "id": "fMBbHYX-hhiM"
      },
      "source": [
        "# 데이터 준비"
      ]
    },
    {
      "cell_type": "markdown",
      "metadata": {
        "id": "qV5KUBDLhkh0"
      },
      "source": [
        "Google Drive에 저장된 fish.pickle 파일에서 데이터를 로드."
      ]
    },
    {
      "cell_type": "code",
      "metadata": {
        "id": "HA1yeV9ghP89"
      },
      "source": [
        "file_path = '/content/drive/MyDrive/Colab Notebooks/lab_ml/fish.pickle'"
      ],
      "execution_count": 2,
      "outputs": []
    },
    {
      "cell_type": "code",
      "metadata": {
        "id": "HO89CfBKifhn"
      },
      "source": [
        "with open(file_path, mode='rb') as f:\r\n",
        "    fish = pickle.load(f)"
      ],
      "execution_count": 3,
      "outputs": []
    },
    {
      "cell_type": "code",
      "metadata": {
        "colab": {
          "base_uri": "https://localhost:8080/"
        },
        "id": "t941Q3P0i1Vu",
        "outputId": "e74161d2-95e1-42ed-a2ca-f5e811c87043"
      },
      "source": [
        "type(fish)"
      ],
      "execution_count": 4,
      "outputs": [
        {
          "output_type": "execute_result",
          "data": {
            "text/plain": [
              "dict"
            ]
          },
          "metadata": {
            "tags": []
          },
          "execution_count": 4
        }
      ]
    },
    {
      "cell_type": "code",
      "metadata": {
        "colab": {
          "base_uri": "https://localhost:8080/"
        },
        "id": "g7Cr9cxMi2cF",
        "outputId": "36e12e9b-d602-4652-d6e0-56066157e7f4"
      },
      "source": [
        "fish.keys()"
      ],
      "execution_count": 5,
      "outputs": [
        {
          "output_type": "execute_result",
          "data": {
            "text/plain": [
              "dict_keys(['data', 'target'])"
            ]
          },
          "metadata": {
            "tags": []
          },
          "execution_count": 5
        }
      ]
    },
    {
      "cell_type": "code",
      "metadata": {
        "id": "AkMgRnqki8u0"
      },
      "source": [
        "fish_data = fish['data']"
      ],
      "execution_count": 7,
      "outputs": []
    },
    {
      "cell_type": "code",
      "metadata": {
        "colab": {
          "base_uri": "https://localhost:8080/"
        },
        "id": "_J2pwIT8jRK1",
        "outputId": "5edef2c5-f298-4246-8f14-63aaccd83492"
      },
      "source": [
        "fish_data.shape  \r\n",
        "# row: 35 bream + 14 smelt\r\n",
        "# column: Weigth + Length"
      ],
      "execution_count": 8,
      "outputs": [
        {
          "output_type": "execute_result",
          "data": {
            "text/plain": [
              "(49, 2)"
            ]
          },
          "metadata": {
            "tags": []
          },
          "execution_count": 8
        }
      ]
    },
    {
      "cell_type": "code",
      "metadata": {
        "colab": {
          "base_uri": "https://localhost:8080/"
        },
        "id": "Lsx_YKK0jTKF",
        "outputId": "b79a7ed5-a805-4a8f-aed0-5b63f647c500"
      },
      "source": [
        "fish_data[:5]"
      ],
      "execution_count": 9,
      "outputs": [
        {
          "output_type": "execute_result",
          "data": {
            "text/plain": [
              "array([[242. ,  25.4],\n",
              "       [290. ,  26.3],\n",
              "       [340. ,  26.5],\n",
              "       [363. ,  29. ],\n",
              "       [430. ,  29. ]])"
            ]
          },
          "metadata": {
            "tags": []
          },
          "execution_count": 9
        }
      ]
    },
    {
      "cell_type": "code",
      "metadata": {
        "id": "Z-bNEfxDji2V"
      },
      "source": [
        "fish_label = fish['target']"
      ],
      "execution_count": 10,
      "outputs": []
    },
    {
      "cell_type": "code",
      "metadata": {
        "colab": {
          "base_uri": "https://localhost:8080/"
        },
        "id": "dfpFxNl2juzL",
        "outputId": "bd9128c0-7d9f-46f4-b3e8-32ddde3ba57a"
      },
      "source": [
        "fish_label.shape"
      ],
      "execution_count": 11,
      "outputs": [
        {
          "output_type": "execute_result",
          "data": {
            "text/plain": [
              "(49,)"
            ]
          },
          "metadata": {
            "tags": []
          },
          "execution_count": 11
        }
      ]
    },
    {
      "cell_type": "code",
      "metadata": {
        "colab": {
          "base_uri": "https://localhost:8080/"
        },
        "id": "nWKLWauWjxyF",
        "outputId": "6567d8cd-86fa-4856-e68e-2b87192017af"
      },
      "source": [
        "fish_label[:5]"
      ],
      "execution_count": 12,
      "outputs": [
        {
          "output_type": "execute_result",
          "data": {
            "text/plain": [
              "array([1, 1, 1, 1, 1])"
            ]
          },
          "metadata": {
            "tags": []
          },
          "execution_count": 12
        }
      ]
    },
    {
      "cell_type": "markdown",
      "metadata": {
        "id": "C9aDhqMPoJQd"
      },
      "source": [
        "# Train/Test 분리, 훈련, 평가"
      ]
    },
    {
      "cell_type": "markdown",
      "metadata": {
        "id": "OxioGfVdo4xt"
      },
      "source": [
        "## 순차적인 샘플링"
      ]
    },
    {
      "cell_type": "code",
      "metadata": {
        "id": "zxDFlBYbj5kv"
      },
      "source": [
        "num_train = 35  # 훈련 셋의 샘플 개수"
      ],
      "execution_count": 13,
      "outputs": []
    },
    {
      "cell_type": "code",
      "metadata": {
        "id": "lFJDg8m9pQO2"
      },
      "source": [
        "X_train, X_test = fish_data[:num_train], fish_data[num_train:]"
      ],
      "execution_count": 16,
      "outputs": []
    },
    {
      "cell_type": "code",
      "metadata": {
        "colab": {
          "base_uri": "https://localhost:8080/"
        },
        "id": "JLlfEycap-J1",
        "outputId": "682fa0d4-92ab-416e-8ccb-7e065647de1b"
      },
      "source": [
        "X_train.shape, X_test.shape"
      ],
      "execution_count": 17,
      "outputs": [
        {
          "output_type": "execute_result",
          "data": {
            "text/plain": [
              "((35, 2), (14, 2))"
            ]
          },
          "metadata": {
            "tags": []
          },
          "execution_count": 17
        }
      ]
    },
    {
      "cell_type": "code",
      "metadata": {
        "id": "1Ryl63yzqAIu"
      },
      "source": [
        "y_train, y_test = fish_label[:num_train], fish_label[num_train:]"
      ],
      "execution_count": 18,
      "outputs": []
    },
    {
      "cell_type": "code",
      "metadata": {
        "colab": {
          "base_uri": "https://localhost:8080/"
        },
        "id": "-GncUcpyqfZ-",
        "outputId": "6fb47a51-0488-4ea5-d5df-3fef3eeb187f"
      },
      "source": [
        "y_train.shape, y_test.shape"
      ],
      "execution_count": 19,
      "outputs": [
        {
          "output_type": "execute_result",
          "data": {
            "text/plain": [
              "((35,), (14,))"
            ]
          },
          "metadata": {
            "tags": []
          },
          "execution_count": 19
        }
      ]
    },
    {
      "cell_type": "code",
      "metadata": {
        "id": "zRJkDL39qh8d"
      },
      "source": [
        "knn_clf = KNeighborsClassifier()  # kNN 모델 객체 생성"
      ],
      "execution_count": 20,
      "outputs": []
    },
    {
      "cell_type": "code",
      "metadata": {
        "colab": {
          "base_uri": "https://localhost:8080/"
        },
        "id": "ZD914gvDq0te",
        "outputId": "cdaeb0ff-b99f-450c-d8fd-a01b84993129"
      },
      "source": [
        "knn_clf.fit(X=X_train, y=y_train)  # 35개 훈련 셋 샘플들로 모델을 학습시킴."
      ],
      "execution_count": 21,
      "outputs": [
        {
          "output_type": "execute_result",
          "data": {
            "text/plain": [
              "KNeighborsClassifier(algorithm='auto', leaf_size=30, metric='minkowski',\n",
              "                     metric_params=None, n_jobs=None, n_neighbors=5, p=2,\n",
              "                     weights='uniform')"
            ]
          },
          "metadata": {
            "tags": []
          },
          "execution_count": 21
        }
      ]
    },
    {
      "cell_type": "code",
      "metadata": {
        "colab": {
          "base_uri": "https://localhost:8080/"
        },
        "id": "SMjDNvfpre_u",
        "outputId": "6990e5d6-cd7f-415d-a0d4-b8ea7a771c29"
      },
      "source": [
        "knn_clf.score(X_train, y_train)  #> 훈련 셋 평가 점수: 1.0(정확도)"
      ],
      "execution_count": 22,
      "outputs": [
        {
          "output_type": "execute_result",
          "data": {
            "text/plain": [
              "1.0"
            ]
          },
          "metadata": {
            "tags": []
          },
          "execution_count": 22
        }
      ]
    },
    {
      "cell_type": "code",
      "metadata": {
        "id": "F-HkLkCjr9_3"
      },
      "source": [
        "test_predicts = knn_clf.predict(X_test)  # 14개 테스트 셋 샘플들의 예측값을 계산"
      ],
      "execution_count": 23,
      "outputs": []
    },
    {
      "cell_type": "code",
      "metadata": {
        "colab": {
          "base_uri": "https://localhost:8080/"
        },
        "id": "5jmjul_RsRie",
        "outputId": "cca317b0-80c6-4de2-a20b-80f770294d01"
      },
      "source": [
        "test_predicts  # 모든 예측값 1(도미, bream)"
      ],
      "execution_count": 24,
      "outputs": [
        {
          "output_type": "execute_result",
          "data": {
            "text/plain": [
              "array([1, 1, 1, 1, 1, 1, 1, 1, 1, 1, 1, 1, 1, 1])"
            ]
          },
          "metadata": {
            "tags": []
          },
          "execution_count": 24
        }
      ]
    },
    {
      "cell_type": "markdown",
      "metadata": {
        "id": "ci0zK_Kvswpe"
      },
      "source": [
        "**샘플링 편향(sampling bias)**: 훈련 셋과 테스트 셋으로 나눌 때, 훈련 셋이 타겟들을 골고루 갖기 못하고, 특정 타겟이 너무 많이 샘플링되는 경우."
      ]
    },
    {
      "cell_type": "code",
      "metadata": {
        "colab": {
          "base_uri": "https://localhost:8080/"
        },
        "id": "mgSsDkGjsUJd",
        "outputId": "501b6004-1985-417e-b711-3164612fe46b"
      },
      "source": [
        "y_test  # 테스트 셋의 실제 target(레이블)"
      ],
      "execution_count": 25,
      "outputs": [
        {
          "output_type": "execute_result",
          "data": {
            "text/plain": [
              "array([0, 0, 0, 0, 0, 0, 0, 0, 0, 0, 0, 0, 0, 0])"
            ]
          },
          "metadata": {
            "tags": []
          },
          "execution_count": 25
        }
      ]
    },
    {
      "cell_type": "code",
      "metadata": {
        "colab": {
          "base_uri": "https://localhost:8080/"
        },
        "id": "y9xF1KuKtuMJ",
        "outputId": "02e584e6-bc49-46fb-f9e6-79f06f844f5b"
      },
      "source": [
        "knn_clf.score(X_test, y_test)  #> 테스트 셋의 평가 점수(정확도): 0"
      ],
      "execution_count": 26,
      "outputs": [
        {
          "output_type": "execute_result",
          "data": {
            "text/plain": [
              "0.0"
            ]
          },
          "metadata": {
            "tags": []
          },
          "execution_count": 26
        }
      ]
    },
    {
      "cell_type": "markdown",
      "metadata": {
        "id": "uW5PXX9duITm"
      },
      "source": [
        "## 무작위 샘플링(Random Sampling)"
      ]
    },
    {
      "cell_type": "markdown",
      "metadata": {
        "id": "i-oB3w2fuuqA"
      },
      "source": [
        "데이터 셋을 무작위로 섞은 후, 훈련/테스트 셋을 분리"
      ]
    },
    {
      "cell_type": "code",
      "metadata": {
        "colab": {
          "base_uri": "https://localhost:8080/"
        },
        "id": "P6zNfNert6JW",
        "outputId": "c34b16a2-5b18-4ec3-ccc9-6088e3a7301e"
      },
      "source": [
        "idx = [0, 1, 2, 3]\r\n",
        "np.random.shuffle(idx)\r\n",
        "idx  # 원본 배열 idx에서 아이템들의 순서가 무작위로 섞이게 됨."
      ],
      "execution_count": 32,
      "outputs": [
        {
          "output_type": "execute_result",
          "data": {
            "text/plain": [
              "[3, 2, 0, 1]"
            ]
          },
          "metadata": {
            "tags": []
          },
          "execution_count": 32
        }
      ]
    },
    {
      "cell_type": "code",
      "metadata": {
        "colab": {
          "base_uri": "https://localhost:8080/"
        },
        "id": "PweFJiQzvjQ3",
        "outputId": "c399cd52-5fbf-403d-94af-f128e83fd1e0"
      },
      "source": [
        "np.random.seed(1)\r\n",
        "idx = np.arange(49)  # [0, 1, 2, ..., 48]\r\n",
        "np.random.shuffle(idx)\r\n",
        "idx"
      ],
      "execution_count": 33,
      "outputs": [
        {
          "output_type": "execute_result",
          "data": {
            "text/plain": [
              "array([27, 34, 39, 48,  2,  3, 42, 29, 45, 30, 31, 38, 21, 35, 19, 41, 36,\n",
              "       26, 22, 13, 40, 17, 44, 24, 23,  4, 32, 14, 10, 28, 47, 33, 18, 20,\n",
              "       25,  6,  7, 46,  1, 16,  0, 15,  5, 11,  9,  8, 12, 43, 37])"
            ]
          },
          "metadata": {
            "tags": []
          },
          "execution_count": 33
        }
      ]
    },
    {
      "cell_type": "code",
      "metadata": {
        "id": "WKjo0UibwNV2"
      },
      "source": [
        "train_idx, test_idx = idx[:num_train], idx[num_train:]"
      ],
      "execution_count": 34,
      "outputs": []
    },
    {
      "cell_type": "code",
      "metadata": {
        "colab": {
          "base_uri": "https://localhost:8080/"
        },
        "id": "56KiOrc4waKO",
        "outputId": "6d600b78-6343-4a58-86ca-dd9f8b03a9fa"
      },
      "source": [
        "train_idx"
      ],
      "execution_count": 35,
      "outputs": [
        {
          "output_type": "execute_result",
          "data": {
            "text/plain": [
              "array([27, 34, 39, 48,  2,  3, 42, 29, 45, 30, 31, 38, 21, 35, 19, 41, 36,\n",
              "       26, 22, 13, 40, 17, 44, 24, 23,  4, 32, 14, 10, 28, 47, 33, 18, 20,\n",
              "       25])"
            ]
          },
          "metadata": {
            "tags": []
          },
          "execution_count": 35
        }
      ]
    },
    {
      "cell_type": "code",
      "metadata": {
        "colab": {
          "base_uri": "https://localhost:8080/"
        },
        "id": "ahjd5WhewbDO",
        "outputId": "95ae0a73-b02c-4364-ed4b-f54ed2b3bcf3"
      },
      "source": [
        "test_idx"
      ],
      "execution_count": 36,
      "outputs": [
        {
          "output_type": "execute_result",
          "data": {
            "text/plain": [
              "array([ 6,  7, 46,  1, 16,  0, 15,  5, 11,  9,  8, 12, 43, 37])"
            ]
          },
          "metadata": {
            "tags": []
          },
          "execution_count": 36
        }
      ]
    },
    {
      "cell_type": "code",
      "metadata": {
        "id": "ytPGSzG7wc0G"
      },
      "source": [
        "X_train, X_test = fish_data[train_idx], fish_data[test_idx]"
      ],
      "execution_count": 37,
      "outputs": []
    },
    {
      "cell_type": "code",
      "metadata": {
        "colab": {
          "base_uri": "https://localhost:8080/"
        },
        "id": "C4W3Eugow0g_",
        "outputId": "0903062d-961f-4687-daa6-1758cb64ba13"
      },
      "source": [
        "X_train.shape, X_test.shape"
      ],
      "execution_count": 39,
      "outputs": [
        {
          "output_type": "execute_result",
          "data": {
            "text/plain": [
              "((35, 2), (14, 2))"
            ]
          },
          "metadata": {
            "tags": []
          },
          "execution_count": 39
        }
      ]
    },
    {
      "cell_type": "code",
      "metadata": {
        "id": "o-u2N0gRw3zW"
      },
      "source": [
        "y_train, y_test = fish_label[train_idx], fish_label[test_idx]"
      ],
      "execution_count": 40,
      "outputs": []
    },
    {
      "cell_type": "code",
      "metadata": {
        "colab": {
          "base_uri": "https://localhost:8080/"
        },
        "id": "QgWU5QPsxDK3",
        "outputId": "c31bd29c-e214-4180-efce-eb0b213154b3"
      },
      "source": [
        "y_train.shape, y_test.shape"
      ],
      "execution_count": 41,
      "outputs": [
        {
          "output_type": "execute_result",
          "data": {
            "text/plain": [
              "((35,), (14,))"
            ]
          },
          "metadata": {
            "tags": []
          },
          "execution_count": 41
        }
      ]
    },
    {
      "cell_type": "code",
      "metadata": {
        "colab": {
          "base_uri": "https://localhost:8080/"
        },
        "id": "xHruKBcJxFz_",
        "outputId": "9a3879ec-7d86-4e09-8160-e3a3bf96aced"
      },
      "source": [
        "y_train"
      ],
      "execution_count": 42,
      "outputs": [
        {
          "output_type": "execute_result",
          "data": {
            "text/plain": [
              "array([1, 1, 0, 0, 1, 1, 0, 1, 0, 1, 1, 0, 1, 0, 1, 0, 0, 1, 1, 1, 0, 1,\n",
              "       0, 1, 1, 1, 1, 1, 1, 1, 0, 1, 1, 1, 1])"
            ]
          },
          "metadata": {
            "tags": []
          },
          "execution_count": 42
        }
      ]
    },
    {
      "cell_type": "code",
      "metadata": {
        "colab": {
          "base_uri": "https://localhost:8080/"
        },
        "id": "FST6ZeJQxIjn",
        "outputId": "7e8fb27e-5d47-4bfb-cbbd-5b2daf728986"
      },
      "source": [
        "y_test"
      ],
      "execution_count": 43,
      "outputs": [
        {
          "output_type": "execute_result",
          "data": {
            "text/plain": [
              "array([1, 1, 0, 1, 1, 1, 1, 1, 1, 1, 1, 1, 0, 0])"
            ]
          },
          "metadata": {
            "tags": []
          },
          "execution_count": 43
        }
      ]
    },
    {
      "cell_type": "markdown",
      "metadata": {
        "id": "sZi6XklAxcxI"
      },
      "source": [
        "numpy 배열의 unique한 값의 개수 확인"
      ]
    },
    {
      "cell_type": "code",
      "metadata": {
        "colab": {
          "base_uri": "https://localhost:8080/"
        },
        "id": "CiZKamAJxKaW",
        "outputId": "c679c732-3d23-4f5a-ef13-ba700c2002ac"
      },
      "source": [
        "np.unique(y_train, return_counts=True)"
      ],
      "execution_count": 45,
      "outputs": [
        {
          "output_type": "execute_result",
          "data": {
            "text/plain": [
              "(array([0, 1]), array([11, 24]))"
            ]
          },
          "metadata": {
            "tags": []
          },
          "execution_count": 45
        }
      ]
    },
    {
      "cell_type": "code",
      "metadata": {
        "colab": {
          "base_uri": "https://localhost:8080/"
        },
        "id": "flNlakt_xnnf",
        "outputId": "098f5c1f-d600-4934-ed25-b4d1ad24c265"
      },
      "source": [
        "11/35, 24/35  # 빙어(smelt)와 도미(bream)의 비율"
      ],
      "execution_count": 46,
      "outputs": [
        {
          "output_type": "execute_result",
          "data": {
            "text/plain": [
              "(0.3142857142857143, 0.6857142857142857)"
            ]
          },
          "metadata": {
            "tags": []
          },
          "execution_count": 46
        }
      ]
    },
    {
      "cell_type": "code",
      "metadata": {
        "colab": {
          "base_uri": "https://localhost:8080/"
        },
        "id": "HrlAdLEEx2qW",
        "outputId": "145c9525-3959-49b0-813d-9bd1dc8d019b"
      },
      "source": [
        "np.unique(y_test, return_counts=True)"
      ],
      "execution_count": 47,
      "outputs": [
        {
          "output_type": "execute_result",
          "data": {
            "text/plain": [
              "(array([0, 1]), array([ 3, 11]))"
            ]
          },
          "metadata": {
            "tags": []
          },
          "execution_count": 47
        }
      ]
    },
    {
      "cell_type": "code",
      "metadata": {
        "colab": {
          "base_uri": "https://localhost:8080/"
        },
        "id": "A0fl0KVZyGme",
        "outputId": "cb049a57-fb71-4674-813f-023a5fb318e7"
      },
      "source": [
        "3/14, 11/14"
      ],
      "execution_count": 48,
      "outputs": [
        {
          "output_type": "execute_result",
          "data": {
            "text/plain": [
              "(0.21428571428571427, 0.7857142857142857)"
            ]
          },
          "metadata": {
            "tags": []
          },
          "execution_count": 48
        }
      ]
    },
    {
      "cell_type": "code",
      "metadata": {
        "id": "ZbeMpt9RyMB3"
      },
      "source": [
        ""
      ],
      "execution_count": null,
      "outputs": []
    }
  ]
}