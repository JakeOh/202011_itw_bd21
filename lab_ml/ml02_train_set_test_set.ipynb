{
  "nbformat": 4,
  "nbformat_minor": 0,
  "metadata": {
    "colab": {
      "name": "ml02_train_set_test_set.ipynb",
      "provenance": [],
      "collapsed_sections": [],
      "mount_file_id": "1YqBowbltjxik__HzKxcgmrvPEiFYvcSd",
      "authorship_tag": "ABX9TyMX01tj5c5c+pJUJP/mSqZb",
      "include_colab_link": true
    },
    "kernelspec": {
      "name": "python3",
      "display_name": "Python 3"
    }
  },
  "cells": [
    {
      "cell_type": "markdown",
      "metadata": {
        "id": "view-in-github",
        "colab_type": "text"
      },
      "source": [
        "<a href=\"https://colab.research.google.com/github/JakeOh/202011_itw_bd21/blob/main/lab_ml/ml02_train_set_test_set.ipynb\" target=\"_parent\"><img src=\"https://colab.research.google.com/assets/colab-badge.svg\" alt=\"Open In Colab\"/></a>"
      ]
    },
    {
      "cell_type": "markdown",
      "metadata": {
        "id": "afRHgGKmfLgs"
      },
      "source": [
        "# Imports"
      ]
    },
    {
      "cell_type": "code",
      "metadata": {
        "id": "VqO6gefhfCKf"
      },
      "source": [
        "import pickle\r\n",
        "\r\n",
        "import numpy as np\r\n",
        "import pandas as pd\r\n",
        "import matplotlib.pyplot as plt\r\n",
        "import seaborn as sns\r\n",
        "\r\n",
        "from sklearn.neighbors import KNeighborsClassifier  # 클래스\r\n",
        "from sklearn.metrics import confusion_matrix, classification_report  # 함수, 속성\r\n",
        "from sklearn.model_selection import train_test_split\r\n",
        "from sklearn.preprocessing import StandardScaler"
      ],
      "execution_count": 1,
      "outputs": []
    },
    {
      "cell_type": "markdown",
      "metadata": {
        "id": "fMBbHYX-hhiM"
      },
      "source": [
        "# 데이터 준비"
      ]
    },
    {
      "cell_type": "markdown",
      "metadata": {
        "id": "qV5KUBDLhkh0"
      },
      "source": [
        "Google Drive에 저장된 fish.pickle 파일에서 데이터를 로드."
      ]
    },
    {
      "cell_type": "code",
      "metadata": {
        "id": "HA1yeV9ghP89"
      },
      "source": [
        "file_path = '/content/drive/MyDrive/Colab Notebooks/lab_ml/fish.pickle'"
      ],
      "execution_count": 2,
      "outputs": []
    },
    {
      "cell_type": "code",
      "metadata": {
        "id": "HO89CfBKifhn"
      },
      "source": [
        "with open(file_path, mode='rb') as f:\r\n",
        "    fish = pickle.load(f)"
      ],
      "execution_count": 3,
      "outputs": []
    },
    {
      "cell_type": "code",
      "metadata": {
        "colab": {
          "base_uri": "https://localhost:8080/"
        },
        "id": "t941Q3P0i1Vu",
        "outputId": "e74161d2-95e1-42ed-a2ca-f5e811c87043"
      },
      "source": [
        "type(fish)"
      ],
      "execution_count": 4,
      "outputs": [
        {
          "output_type": "execute_result",
          "data": {
            "text/plain": [
              "dict"
            ]
          },
          "metadata": {
            "tags": []
          },
          "execution_count": 4
        }
      ]
    },
    {
      "cell_type": "code",
      "metadata": {
        "colab": {
          "base_uri": "https://localhost:8080/"
        },
        "id": "g7Cr9cxMi2cF",
        "outputId": "36e12e9b-d602-4652-d6e0-56066157e7f4"
      },
      "source": [
        "fish.keys()"
      ],
      "execution_count": 5,
      "outputs": [
        {
          "output_type": "execute_result",
          "data": {
            "text/plain": [
              "dict_keys(['data', 'target'])"
            ]
          },
          "metadata": {
            "tags": []
          },
          "execution_count": 5
        }
      ]
    },
    {
      "cell_type": "code",
      "metadata": {
        "id": "AkMgRnqki8u0"
      },
      "source": [
        "fish_data = fish['data']"
      ],
      "execution_count": 7,
      "outputs": []
    },
    {
      "cell_type": "code",
      "metadata": {
        "colab": {
          "base_uri": "https://localhost:8080/"
        },
        "id": "_J2pwIT8jRK1",
        "outputId": "5edef2c5-f298-4246-8f14-63aaccd83492"
      },
      "source": [
        "fish_data.shape  \r\n",
        "# row: 35 bream + 14 smelt\r\n",
        "# column: Weigth + Length"
      ],
      "execution_count": 8,
      "outputs": [
        {
          "output_type": "execute_result",
          "data": {
            "text/plain": [
              "(49, 2)"
            ]
          },
          "metadata": {
            "tags": []
          },
          "execution_count": 8
        }
      ]
    },
    {
      "cell_type": "code",
      "metadata": {
        "colab": {
          "base_uri": "https://localhost:8080/"
        },
        "id": "Lsx_YKK0jTKF",
        "outputId": "b79a7ed5-a805-4a8f-aed0-5b63f647c500"
      },
      "source": [
        "fish_data[:5]"
      ],
      "execution_count": 9,
      "outputs": [
        {
          "output_type": "execute_result",
          "data": {
            "text/plain": [
              "array([[242. ,  25.4],\n",
              "       [290. ,  26.3],\n",
              "       [340. ,  26.5],\n",
              "       [363. ,  29. ],\n",
              "       [430. ,  29. ]])"
            ]
          },
          "metadata": {
            "tags": []
          },
          "execution_count": 9
        }
      ]
    },
    {
      "cell_type": "code",
      "metadata": {
        "id": "Z-bNEfxDji2V"
      },
      "source": [
        "fish_label = fish['target']"
      ],
      "execution_count": 10,
      "outputs": []
    },
    {
      "cell_type": "code",
      "metadata": {
        "colab": {
          "base_uri": "https://localhost:8080/"
        },
        "id": "dfpFxNl2juzL",
        "outputId": "bd9128c0-7d9f-46f4-b3e8-32ddde3ba57a"
      },
      "source": [
        "fish_label.shape"
      ],
      "execution_count": 11,
      "outputs": [
        {
          "output_type": "execute_result",
          "data": {
            "text/plain": [
              "(49,)"
            ]
          },
          "metadata": {
            "tags": []
          },
          "execution_count": 11
        }
      ]
    },
    {
      "cell_type": "code",
      "metadata": {
        "colab": {
          "base_uri": "https://localhost:8080/"
        },
        "id": "nWKLWauWjxyF",
        "outputId": "6567d8cd-86fa-4856-e68e-2b87192017af"
      },
      "source": [
        "fish_label[:5]"
      ],
      "execution_count": 12,
      "outputs": [
        {
          "output_type": "execute_result",
          "data": {
            "text/plain": [
              "array([1, 1, 1, 1, 1])"
            ]
          },
          "metadata": {
            "tags": []
          },
          "execution_count": 12
        }
      ]
    },
    {
      "cell_type": "code",
      "metadata": {
        "id": "zxDFlBYbj5kv"
      },
      "source": [
        ""
      ],
      "execution_count": null,
      "outputs": []
    }
  ]
}