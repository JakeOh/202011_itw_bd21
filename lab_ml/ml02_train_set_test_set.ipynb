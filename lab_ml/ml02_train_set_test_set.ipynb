{
  "nbformat": 4,
  "nbformat_minor": 0,
  "metadata": {
    "colab": {
      "name": "ml02_train_set_test_set.ipynb",
      "provenance": [],
      "collapsed_sections": [],
      "mount_file_id": "1YqBowbltjxik__HzKxcgmrvPEiFYvcSd",
      "authorship_tag": "ABX9TyOmg6npHJHO/YG1fP3MhTp0",
      "include_colab_link": true
    },
    "kernelspec": {
      "name": "python3",
      "display_name": "Python 3"
    }
  },
  "cells": [
    {
      "cell_type": "markdown",
      "metadata": {
        "id": "view-in-github",
        "colab_type": "text"
      },
      "source": [
        "<a href=\"https://colab.research.google.com/github/JakeOh/202011_itw_bd21/blob/main/lab_ml/ml02_train_set_test_set.ipynb\" target=\"_parent\"><img src=\"https://colab.research.google.com/assets/colab-badge.svg\" alt=\"Open In Colab\"/></a>"
      ]
    },
    {
      "cell_type": "markdown",
      "metadata": {
        "id": "afRHgGKmfLgs"
      },
      "source": [
        "# Imports"
      ]
    },
    {
      "cell_type": "code",
      "metadata": {
        "id": "VqO6gefhfCKf"
      },
      "source": [
        "import pickle\r\n",
        "\r\n",
        "import numpy as np\r\n",
        "import pandas as pd\r\n",
        "import matplotlib.pyplot as plt\r\n",
        "import seaborn as sns\r\n",
        "\r\n",
        "from sklearn.neighbors import KNeighborsClassifier  # 클래스\r\n",
        "from sklearn.metrics import confusion_matrix, classification_report  # 함수, 속성\r\n",
        "from sklearn.model_selection import train_test_split\r\n",
        "from sklearn.preprocessing import StandardScaler"
      ],
      "execution_count": 1,
      "outputs": []
    },
    {
      "cell_type": "markdown",
      "metadata": {
        "id": "fMBbHYX-hhiM"
      },
      "source": [
        "# 데이터 준비"
      ]
    },
    {
      "cell_type": "markdown",
      "metadata": {
        "id": "qV5KUBDLhkh0"
      },
      "source": [
        "Google Drive에 저장된 fish.pickle 파일에서 데이터를 로드."
      ]
    },
    {
      "cell_type": "code",
      "metadata": {
        "id": "HA1yeV9ghP89"
      },
      "source": [
        "file_path = '/content/drive/MyDrive/Colab Notebooks/lab_ml/fish.pickle'"
      ],
      "execution_count": 2,
      "outputs": []
    },
    {
      "cell_type": "code",
      "metadata": {
        "id": "HO89CfBKifhn"
      },
      "source": [
        "with open(file_path, mode='rb') as f:\r\n",
        "    fish = pickle.load(f)"
      ],
      "execution_count": 3,
      "outputs": []
    },
    {
      "cell_type": "code",
      "metadata": {
        "colab": {
          "base_uri": "https://localhost:8080/"
        },
        "id": "t941Q3P0i1Vu",
        "outputId": "e74161d2-95e1-42ed-a2ca-f5e811c87043"
      },
      "source": [
        "type(fish)"
      ],
      "execution_count": 4,
      "outputs": [
        {
          "output_type": "execute_result",
          "data": {
            "text/plain": [
              "dict"
            ]
          },
          "metadata": {
            "tags": []
          },
          "execution_count": 4
        }
      ]
    },
    {
      "cell_type": "code",
      "metadata": {
        "colab": {
          "base_uri": "https://localhost:8080/"
        },
        "id": "g7Cr9cxMi2cF",
        "outputId": "36e12e9b-d602-4652-d6e0-56066157e7f4"
      },
      "source": [
        "fish.keys()"
      ],
      "execution_count": 5,
      "outputs": [
        {
          "output_type": "execute_result",
          "data": {
            "text/plain": [
              "dict_keys(['data', 'target'])"
            ]
          },
          "metadata": {
            "tags": []
          },
          "execution_count": 5
        }
      ]
    },
    {
      "cell_type": "code",
      "metadata": {
        "id": "AkMgRnqki8u0"
      },
      "source": [
        "fish_data = fish['data']"
      ],
      "execution_count": 7,
      "outputs": []
    },
    {
      "cell_type": "code",
      "metadata": {
        "colab": {
          "base_uri": "https://localhost:8080/"
        },
        "id": "_J2pwIT8jRK1",
        "outputId": "5edef2c5-f298-4246-8f14-63aaccd83492"
      },
      "source": [
        "fish_data.shape  \r\n",
        "# row: 35 bream + 14 smelt\r\n",
        "# column: Weigth + Length"
      ],
      "execution_count": 8,
      "outputs": [
        {
          "output_type": "execute_result",
          "data": {
            "text/plain": [
              "(49, 2)"
            ]
          },
          "metadata": {
            "tags": []
          },
          "execution_count": 8
        }
      ]
    },
    {
      "cell_type": "code",
      "metadata": {
        "colab": {
          "base_uri": "https://localhost:8080/"
        },
        "id": "Lsx_YKK0jTKF",
        "outputId": "b79a7ed5-a805-4a8f-aed0-5b63f647c500"
      },
      "source": [
        "fish_data[:5]"
      ],
      "execution_count": 9,
      "outputs": [
        {
          "output_type": "execute_result",
          "data": {
            "text/plain": [
              "array([[242. ,  25.4],\n",
              "       [290. ,  26.3],\n",
              "       [340. ,  26.5],\n",
              "       [363. ,  29. ],\n",
              "       [430. ,  29. ]])"
            ]
          },
          "metadata": {
            "tags": []
          },
          "execution_count": 9
        }
      ]
    },
    {
      "cell_type": "code",
      "metadata": {
        "id": "Z-bNEfxDji2V"
      },
      "source": [
        "fish_label = fish['target']"
      ],
      "execution_count": 10,
      "outputs": []
    },
    {
      "cell_type": "code",
      "metadata": {
        "colab": {
          "base_uri": "https://localhost:8080/"
        },
        "id": "dfpFxNl2juzL",
        "outputId": "bd9128c0-7d9f-46f4-b3e8-32ddde3ba57a"
      },
      "source": [
        "fish_label.shape"
      ],
      "execution_count": 11,
      "outputs": [
        {
          "output_type": "execute_result",
          "data": {
            "text/plain": [
              "(49,)"
            ]
          },
          "metadata": {
            "tags": []
          },
          "execution_count": 11
        }
      ]
    },
    {
      "cell_type": "code",
      "metadata": {
        "colab": {
          "base_uri": "https://localhost:8080/"
        },
        "id": "nWKLWauWjxyF",
        "outputId": "6567d8cd-86fa-4856-e68e-2b87192017af"
      },
      "source": [
        "fish_label[:5]"
      ],
      "execution_count": 12,
      "outputs": [
        {
          "output_type": "execute_result",
          "data": {
            "text/plain": [
              "array([1, 1, 1, 1, 1])"
            ]
          },
          "metadata": {
            "tags": []
          },
          "execution_count": 12
        }
      ]
    },
    {
      "cell_type": "markdown",
      "metadata": {
        "id": "C9aDhqMPoJQd"
      },
      "source": [
        "# Train/Test 분리, 훈련, 평가"
      ]
    },
    {
      "cell_type": "markdown",
      "metadata": {
        "id": "OxioGfVdo4xt"
      },
      "source": [
        "## 순차적인 샘플링"
      ]
    },
    {
      "cell_type": "code",
      "metadata": {
        "id": "zxDFlBYbj5kv"
      },
      "source": [
        "num_train = 35  # 훈련 셋의 샘플 개수"
      ],
      "execution_count": 13,
      "outputs": []
    },
    {
      "cell_type": "code",
      "metadata": {
        "id": "lFJDg8m9pQO2"
      },
      "source": [
        "X_train, X_test = fish_data[:num_train], fish_data[num_train:]"
      ],
      "execution_count": 16,
      "outputs": []
    },
    {
      "cell_type": "code",
      "metadata": {
        "colab": {
          "base_uri": "https://localhost:8080/"
        },
        "id": "JLlfEycap-J1",
        "outputId": "682fa0d4-92ab-416e-8ccb-7e065647de1b"
      },
      "source": [
        "X_train.shape, X_test.shape"
      ],
      "execution_count": 17,
      "outputs": [
        {
          "output_type": "execute_result",
          "data": {
            "text/plain": [
              "((35, 2), (14, 2))"
            ]
          },
          "metadata": {
            "tags": []
          },
          "execution_count": 17
        }
      ]
    },
    {
      "cell_type": "code",
      "metadata": {
        "id": "1Ryl63yzqAIu"
      },
      "source": [
        "y_train, y_test = fish_label[:num_train], fish_label[num_train:]"
      ],
      "execution_count": 18,
      "outputs": []
    },
    {
      "cell_type": "code",
      "metadata": {
        "colab": {
          "base_uri": "https://localhost:8080/"
        },
        "id": "-GncUcpyqfZ-",
        "outputId": "6fb47a51-0488-4ea5-d5df-3fef3eeb187f"
      },
      "source": [
        "y_train.shape, y_test.shape"
      ],
      "execution_count": 19,
      "outputs": [
        {
          "output_type": "execute_result",
          "data": {
            "text/plain": [
              "((35,), (14,))"
            ]
          },
          "metadata": {
            "tags": []
          },
          "execution_count": 19
        }
      ]
    },
    {
      "cell_type": "code",
      "metadata": {
        "id": "zRJkDL39qh8d"
      },
      "source": [
        "knn_clf = KNeighborsClassifier()  # kNN 모델 객체 생성"
      ],
      "execution_count": 20,
      "outputs": []
    },
    {
      "cell_type": "code",
      "metadata": {
        "colab": {
          "base_uri": "https://localhost:8080/"
        },
        "id": "ZD914gvDq0te",
        "outputId": "cdaeb0ff-b99f-450c-d8fd-a01b84993129"
      },
      "source": [
        "knn_clf.fit(X=X_train, y=y_train)  # 35개 훈련 셋 샘플들로 모델을 학습시킴."
      ],
      "execution_count": 21,
      "outputs": [
        {
          "output_type": "execute_result",
          "data": {
            "text/plain": [
              "KNeighborsClassifier(algorithm='auto', leaf_size=30, metric='minkowski',\n",
              "                     metric_params=None, n_jobs=None, n_neighbors=5, p=2,\n",
              "                     weights='uniform')"
            ]
          },
          "metadata": {
            "tags": []
          },
          "execution_count": 21
        }
      ]
    },
    {
      "cell_type": "code",
      "metadata": {
        "colab": {
          "base_uri": "https://localhost:8080/"
        },
        "id": "SMjDNvfpre_u",
        "outputId": "6990e5d6-cd7f-415d-a0d4-b8ea7a771c29"
      },
      "source": [
        "knn_clf.score(X_train, y_train)  #> 훈련 셋 평가 점수: 1.0(정확도)"
      ],
      "execution_count": 22,
      "outputs": [
        {
          "output_type": "execute_result",
          "data": {
            "text/plain": [
              "1.0"
            ]
          },
          "metadata": {
            "tags": []
          },
          "execution_count": 22
        }
      ]
    },
    {
      "cell_type": "code",
      "metadata": {
        "id": "F-HkLkCjr9_3"
      },
      "source": [
        "test_predicts = knn_clf.predict(X_test)  # 14개 테스트 셋 샘플들의 예측값을 계산"
      ],
      "execution_count": 23,
      "outputs": []
    },
    {
      "cell_type": "code",
      "metadata": {
        "colab": {
          "base_uri": "https://localhost:8080/"
        },
        "id": "5jmjul_RsRie",
        "outputId": "cca317b0-80c6-4de2-a20b-80f770294d01"
      },
      "source": [
        "test_predicts  # 모든 예측값 1(도미, bream)"
      ],
      "execution_count": 24,
      "outputs": [
        {
          "output_type": "execute_result",
          "data": {
            "text/plain": [
              "array([1, 1, 1, 1, 1, 1, 1, 1, 1, 1, 1, 1, 1, 1])"
            ]
          },
          "metadata": {
            "tags": []
          },
          "execution_count": 24
        }
      ]
    },
    {
      "cell_type": "markdown",
      "metadata": {
        "id": "ci0zK_Kvswpe"
      },
      "source": [
        "**샘플링 편향(sampling bias)**: 훈련 셋과 테스트 셋으로 나눌 때, 훈련 셋이 타겟들을 골고루 갖기 못하고, 특정 타겟이 너무 많이 샘플링되는 경우."
      ]
    },
    {
      "cell_type": "code",
      "metadata": {
        "colab": {
          "base_uri": "https://localhost:8080/"
        },
        "id": "mgSsDkGjsUJd",
        "outputId": "501b6004-1985-417e-b711-3164612fe46b"
      },
      "source": [
        "y_test  # 테스트 셋의 실제 target(레이블)"
      ],
      "execution_count": 25,
      "outputs": [
        {
          "output_type": "execute_result",
          "data": {
            "text/plain": [
              "array([0, 0, 0, 0, 0, 0, 0, 0, 0, 0, 0, 0, 0, 0])"
            ]
          },
          "metadata": {
            "tags": []
          },
          "execution_count": 25
        }
      ]
    },
    {
      "cell_type": "code",
      "metadata": {
        "colab": {
          "base_uri": "https://localhost:8080/"
        },
        "id": "y9xF1KuKtuMJ",
        "outputId": "02e584e6-bc49-46fb-f9e6-79f06f844f5b"
      },
      "source": [
        "knn_clf.score(X_test, y_test)  #> 테스트 셋의 평가 점수(정확도): 0"
      ],
      "execution_count": 26,
      "outputs": [
        {
          "output_type": "execute_result",
          "data": {
            "text/plain": [
              "0.0"
            ]
          },
          "metadata": {
            "tags": []
          },
          "execution_count": 26
        }
      ]
    },
    {
      "cell_type": "markdown",
      "metadata": {
        "id": "wfNCpoBCUMC9"
      },
      "source": [
        "훈련 셋 성능 > 테스트 셋 성능: **과대적합(overfitting)**"
      ]
    },
    {
      "cell_type": "markdown",
      "metadata": {
        "id": "uW5PXX9duITm"
      },
      "source": [
        "## 무작위 샘플링(Random Sampling)"
      ]
    },
    {
      "cell_type": "markdown",
      "metadata": {
        "id": "i-oB3w2fuuqA"
      },
      "source": [
        "데이터 셋을 무작위로 섞은 후, 훈련/테스트 셋을 분리"
      ]
    },
    {
      "cell_type": "code",
      "metadata": {
        "colab": {
          "base_uri": "https://localhost:8080/"
        },
        "id": "P6zNfNert6JW",
        "outputId": "c34b16a2-5b18-4ec3-ccc9-6088e3a7301e"
      },
      "source": [
        "idx = [0, 1, 2, 3]\r\n",
        "np.random.shuffle(idx)\r\n",
        "idx  # 원본 배열 idx에서 아이템들의 순서가 무작위로 섞이게 됨."
      ],
      "execution_count": 32,
      "outputs": [
        {
          "output_type": "execute_result",
          "data": {
            "text/plain": [
              "[3, 2, 0, 1]"
            ]
          },
          "metadata": {
            "tags": []
          },
          "execution_count": 32
        }
      ]
    },
    {
      "cell_type": "code",
      "metadata": {
        "colab": {
          "base_uri": "https://localhost:8080/"
        },
        "id": "PweFJiQzvjQ3",
        "outputId": "c399cd52-5fbf-403d-94af-f128e83fd1e0"
      },
      "source": [
        "np.random.seed(1)\r\n",
        "idx = np.arange(49)  # [0, 1, 2, ..., 48]\r\n",
        "np.random.shuffle(idx)\r\n",
        "idx"
      ],
      "execution_count": 33,
      "outputs": [
        {
          "output_type": "execute_result",
          "data": {
            "text/plain": [
              "array([27, 34, 39, 48,  2,  3, 42, 29, 45, 30, 31, 38, 21, 35, 19, 41, 36,\n",
              "       26, 22, 13, 40, 17, 44, 24, 23,  4, 32, 14, 10, 28, 47, 33, 18, 20,\n",
              "       25,  6,  7, 46,  1, 16,  0, 15,  5, 11,  9,  8, 12, 43, 37])"
            ]
          },
          "metadata": {
            "tags": []
          },
          "execution_count": 33
        }
      ]
    },
    {
      "cell_type": "code",
      "metadata": {
        "id": "WKjo0UibwNV2"
      },
      "source": [
        "train_idx, test_idx = idx[:num_train], idx[num_train:]"
      ],
      "execution_count": 34,
      "outputs": []
    },
    {
      "cell_type": "code",
      "metadata": {
        "colab": {
          "base_uri": "https://localhost:8080/"
        },
        "id": "56KiOrc4waKO",
        "outputId": "6d600b78-6343-4a58-86ca-dd9f8b03a9fa"
      },
      "source": [
        "train_idx"
      ],
      "execution_count": 35,
      "outputs": [
        {
          "output_type": "execute_result",
          "data": {
            "text/plain": [
              "array([27, 34, 39, 48,  2,  3, 42, 29, 45, 30, 31, 38, 21, 35, 19, 41, 36,\n",
              "       26, 22, 13, 40, 17, 44, 24, 23,  4, 32, 14, 10, 28, 47, 33, 18, 20,\n",
              "       25])"
            ]
          },
          "metadata": {
            "tags": []
          },
          "execution_count": 35
        }
      ]
    },
    {
      "cell_type": "code",
      "metadata": {
        "colab": {
          "base_uri": "https://localhost:8080/"
        },
        "id": "ahjd5WhewbDO",
        "outputId": "95ae0a73-b02c-4364-ed4b-f54ed2b3bcf3"
      },
      "source": [
        "test_idx"
      ],
      "execution_count": 36,
      "outputs": [
        {
          "output_type": "execute_result",
          "data": {
            "text/plain": [
              "array([ 6,  7, 46,  1, 16,  0, 15,  5, 11,  9,  8, 12, 43, 37])"
            ]
          },
          "metadata": {
            "tags": []
          },
          "execution_count": 36
        }
      ]
    },
    {
      "cell_type": "code",
      "metadata": {
        "id": "ytPGSzG7wc0G"
      },
      "source": [
        "X_train, X_test = fish_data[train_idx], fish_data[test_idx]"
      ],
      "execution_count": 37,
      "outputs": []
    },
    {
      "cell_type": "code",
      "metadata": {
        "colab": {
          "base_uri": "https://localhost:8080/"
        },
        "id": "C4W3Eugow0g_",
        "outputId": "0903062d-961f-4687-daa6-1758cb64ba13"
      },
      "source": [
        "X_train.shape, X_test.shape"
      ],
      "execution_count": 39,
      "outputs": [
        {
          "output_type": "execute_result",
          "data": {
            "text/plain": [
              "((35, 2), (14, 2))"
            ]
          },
          "metadata": {
            "tags": []
          },
          "execution_count": 39
        }
      ]
    },
    {
      "cell_type": "code",
      "metadata": {
        "id": "o-u2N0gRw3zW"
      },
      "source": [
        "y_train, y_test = fish_label[train_idx], fish_label[test_idx]"
      ],
      "execution_count": 40,
      "outputs": []
    },
    {
      "cell_type": "code",
      "metadata": {
        "colab": {
          "base_uri": "https://localhost:8080/"
        },
        "id": "QgWU5QPsxDK3",
        "outputId": "c31bd29c-e214-4180-efce-eb0b213154b3"
      },
      "source": [
        "y_train.shape, y_test.shape"
      ],
      "execution_count": 41,
      "outputs": [
        {
          "output_type": "execute_result",
          "data": {
            "text/plain": [
              "((35,), (14,))"
            ]
          },
          "metadata": {
            "tags": []
          },
          "execution_count": 41
        }
      ]
    },
    {
      "cell_type": "code",
      "metadata": {
        "colab": {
          "base_uri": "https://localhost:8080/"
        },
        "id": "xHruKBcJxFz_",
        "outputId": "9a3879ec-7d86-4e09-8160-e3a3bf96aced"
      },
      "source": [
        "y_train"
      ],
      "execution_count": 42,
      "outputs": [
        {
          "output_type": "execute_result",
          "data": {
            "text/plain": [
              "array([1, 1, 0, 0, 1, 1, 0, 1, 0, 1, 1, 0, 1, 0, 1, 0, 0, 1, 1, 1, 0, 1,\n",
              "       0, 1, 1, 1, 1, 1, 1, 1, 0, 1, 1, 1, 1])"
            ]
          },
          "metadata": {
            "tags": []
          },
          "execution_count": 42
        }
      ]
    },
    {
      "cell_type": "code",
      "metadata": {
        "colab": {
          "base_uri": "https://localhost:8080/"
        },
        "id": "FST6ZeJQxIjn",
        "outputId": "7e8fb27e-5d47-4bfb-cbbd-5b2daf728986"
      },
      "source": [
        "y_test"
      ],
      "execution_count": 43,
      "outputs": [
        {
          "output_type": "execute_result",
          "data": {
            "text/plain": [
              "array([1, 1, 0, 1, 1, 1, 1, 1, 1, 1, 1, 1, 0, 0])"
            ]
          },
          "metadata": {
            "tags": []
          },
          "execution_count": 43
        }
      ]
    },
    {
      "cell_type": "markdown",
      "metadata": {
        "id": "sZi6XklAxcxI"
      },
      "source": [
        "numpy 배열의 unique한 값의 개수 확인"
      ]
    },
    {
      "cell_type": "code",
      "metadata": {
        "colab": {
          "base_uri": "https://localhost:8080/"
        },
        "id": "CiZKamAJxKaW",
        "outputId": "c679c732-3d23-4f5a-ef13-ba700c2002ac"
      },
      "source": [
        "np.unique(y_train, return_counts=True)"
      ],
      "execution_count": 45,
      "outputs": [
        {
          "output_type": "execute_result",
          "data": {
            "text/plain": [
              "(array([0, 1]), array([11, 24]))"
            ]
          },
          "metadata": {
            "tags": []
          },
          "execution_count": 45
        }
      ]
    },
    {
      "cell_type": "code",
      "metadata": {
        "colab": {
          "base_uri": "https://localhost:8080/"
        },
        "id": "flNlakt_xnnf",
        "outputId": "098f5c1f-d600-4934-ed25-b4d1ad24c265"
      },
      "source": [
        "11/35, 24/35  # 빙어(smelt)와 도미(bream)의 비율"
      ],
      "execution_count": 46,
      "outputs": [
        {
          "output_type": "execute_result",
          "data": {
            "text/plain": [
              "(0.3142857142857143, 0.6857142857142857)"
            ]
          },
          "metadata": {
            "tags": []
          },
          "execution_count": 46
        }
      ]
    },
    {
      "cell_type": "code",
      "metadata": {
        "colab": {
          "base_uri": "https://localhost:8080/"
        },
        "id": "HrlAdLEEx2qW",
        "outputId": "145c9525-3959-49b0-813d-9bd1dc8d019b"
      },
      "source": [
        "np.unique(y_test, return_counts=True)"
      ],
      "execution_count": 47,
      "outputs": [
        {
          "output_type": "execute_result",
          "data": {
            "text/plain": [
              "(array([0, 1]), array([ 3, 11]))"
            ]
          },
          "metadata": {
            "tags": []
          },
          "execution_count": 47
        }
      ]
    },
    {
      "cell_type": "code",
      "metadata": {
        "colab": {
          "base_uri": "https://localhost:8080/"
        },
        "id": "A0fl0KVZyGme",
        "outputId": "cb049a57-fb71-4674-813f-023a5fb318e7"
      },
      "source": [
        "3/14, 11/14"
      ],
      "execution_count": 48,
      "outputs": [
        {
          "output_type": "execute_result",
          "data": {
            "text/plain": [
              "(0.21428571428571427, 0.7857142857142857)"
            ]
          },
          "metadata": {
            "tags": []
          },
          "execution_count": 48
        }
      ]
    },
    {
      "cell_type": "code",
      "metadata": {
        "colab": {
          "base_uri": "https://localhost:8080/",
          "height": 279
        },
        "id": "ZbeMpt9RyMB3",
        "outputId": "87e6f532-b77e-4609-a47f-6626b812b2d7"
      },
      "source": [
        "# 훈련 셋/테스트 셋 시각화\r\n",
        "plt.scatter(X_train[:, 1], X_train[:, 0], label='Train', s=10)\r\n",
        "plt.scatter(X_test[:, 1], X_test[:, 0], label='Test', s=10)\r\n",
        "\r\n",
        "plt.legend()\r\n",
        "plt.xlabel('Length(cm)')\r\n",
        "plt.ylabel('Weight(g)')\r\n",
        "plt.show()"
      ],
      "execution_count": 55,
      "outputs": [
        {
          "output_type": "display_data",
          "data": {
            "image/png": "[encoded data removed]",
            "text/plain": [
              "<Figure size 432x288 with 1 Axes>"
            ]
          },
          "metadata": {
            "tags": [],
            "needs_background": "light"
          }
        }
      ]
    },
    {
      "cell_type": "code",
      "metadata": {
        "id": "sCMsUk-83M0a"
      },
      "source": [
        "knn_clf = KNeighborsClassifier()  # 모델 객체 생성"
      ],
      "execution_count": 56,
      "outputs": []
    },
    {
      "cell_type": "code",
      "metadata": {
        "colab": {
          "base_uri": "https://localhost:8080/"
        },
        "id": "fEp1LkHL4HtD",
        "outputId": "b1493fef-c5ae-4a21-8147-1e06fc33c8a5"
      },
      "source": [
        "knn_clf.fit(X_train, y_train)  # 모덱 객체를 훈련 데이터로 학습시킴(fit)"
      ],
      "execution_count": 57,
      "outputs": [
        {
          "output_type": "execute_result",
          "data": {
            "text/plain": [
              "KNeighborsClassifier(algorithm='auto', leaf_size=30, metric='minkowski',\n",
              "                     metric_params=None, n_jobs=None, n_neighbors=5, p=2,\n",
              "                     weights='uniform')"
            ]
          },
          "metadata": {
            "tags": []
          },
          "execution_count": 57
        }
      ]
    },
    {
      "cell_type": "code",
      "metadata": {
        "colab": {
          "base_uri": "https://localhost:8080/"
        },
        "id": "cAxNG3Aw4Q2X",
        "outputId": "4bc352c8-5e82-40c0-97f5-eeeb16e315d1"
      },
      "source": [
        "knn_clf.score(X_train, y_train)  # 훈련 셋의 평가 점수(정확도)"
      ],
      "execution_count": 58,
      "outputs": [
        {
          "output_type": "execute_result",
          "data": {
            "text/plain": [
              "1.0"
            ]
          },
          "metadata": {
            "tags": []
          },
          "execution_count": 58
        }
      ]
    },
    {
      "cell_type": "code",
      "metadata": {
        "colab": {
          "base_uri": "https://localhost:8080/"
        },
        "id": "xR9vTN9x4VsI",
        "outputId": "332b8cef-aa52-4982-a8c5-24ddca348cd6"
      },
      "source": [
        "knn_clf.score(X_test, y_test)  # 테스트 셋의 평가 점수(정확도)"
      ],
      "execution_count": 59,
      "outputs": [
        {
          "output_type": "execute_result",
          "data": {
            "text/plain": [
              "1.0"
            ]
          },
          "metadata": {
            "tags": []
          },
          "execution_count": 59
        }
      ]
    },
    {
      "cell_type": "markdown",
      "metadata": {
        "id": "1LHdv-xr5DCH"
      },
      "source": [
        "## 층화 샘플링(Stratified Sampling)"
      ]
    },
    {
      "cell_type": "markdown",
      "metadata": {
        "id": "HzYpniYY5MPX"
      },
      "source": [
        "**Stratified Sampling**: 데이터의 타겟의 비율을 훈련/테스트 셋에서도 동일하게 유지하면서 샘플링하는 방법."
      ]
    },
    {
      "cell_type": "code",
      "metadata": {
        "id": "zBeUw_H54iTv"
      },
      "source": [
        "# sklearn.model_selection.train_test_split() 함수\r\n",
        "X_train, X_test, y_train, y_test = train_test_split(fish_data,  # X_train/X_test로 나뉠 데이터 셋\r\n",
        "                                                    fish_label,  # y_train/y_test로 나뉠 타겟\r\n",
        "                                                    test_size=0.3,  # 테스트 셋의 비율(0 ~ 1)\r\n",
        "                                                    stratify=fish_label,  # stratified sampling 기준이 되는 배열\r\n",
        "                                                    random_state=1)  # 난수 seed"
      ],
      "execution_count": 60,
      "outputs": []
    },
    {
      "cell_type": "code",
      "metadata": {
        "colab": {
          "base_uri": "https://localhost:8080/"
        },
        "id": "wNFcRO1H8_1C",
        "outputId": "650d32ff-9d57-4dcd-f209-04a80d1eaad6"
      },
      "source": [
        "X_train.shape, X_test.shape"
      ],
      "execution_count": 61,
      "outputs": [
        {
          "output_type": "execute_result",
          "data": {
            "text/plain": [
              "((34, 2), (15, 2))"
            ]
          },
          "metadata": {
            "tags": []
          },
          "execution_count": 61
        }
      ]
    },
    {
      "cell_type": "code",
      "metadata": {
        "colab": {
          "base_uri": "https://localhost:8080/"
        },
        "id": "qNeT2HlD9C94",
        "outputId": "dd6cc175-2cea-4697-9775-dd6f689d70be"
      },
      "source": [
        "y_train.shape, y_test.shape"
      ],
      "execution_count": 62,
      "outputs": [
        {
          "output_type": "execute_result",
          "data": {
            "text/plain": [
              "((34,), (15,))"
            ]
          },
          "metadata": {
            "tags": []
          },
          "execution_count": 62
        }
      ]
    },
    {
      "cell_type": "code",
      "metadata": {
        "colab": {
          "base_uri": "https://localhost:8080/"
        },
        "id": "brD2j99e9J3Q",
        "outputId": "a16a8a40-2a4e-4332-e429-4fdd0be8a80d"
      },
      "source": [
        "np.unique(y_train, return_counts=True)"
      ],
      "execution_count": 63,
      "outputs": [
        {
          "output_type": "execute_result",
          "data": {
            "text/plain": [
              "(array([0, 1]), array([10, 24]))"
            ]
          },
          "metadata": {
            "tags": []
          },
          "execution_count": 63
        }
      ]
    },
    {
      "cell_type": "code",
      "metadata": {
        "colab": {
          "base_uri": "https://localhost:8080/"
        },
        "id": "k38GMTlV9Xmu",
        "outputId": "2ff5fe62-86fb-416c-ae35-64b74ee1f394"
      },
      "source": [
        "10/34, 24/34  # 훈련 셋에서 빙어:도미의 비율"
      ],
      "execution_count": 64,
      "outputs": [
        {
          "output_type": "execute_result",
          "data": {
            "text/plain": [
              "(0.29411764705882354, 0.7058823529411765)"
            ]
          },
          "metadata": {
            "tags": []
          },
          "execution_count": 64
        }
      ]
    },
    {
      "cell_type": "code",
      "metadata": {
        "colab": {
          "base_uri": "https://localhost:8080/"
        },
        "id": "9AahsKhw9coJ",
        "outputId": "86dc9fe7-8bcd-4e04-db7d-a6816e43f33e"
      },
      "source": [
        "np.unique(y_test, return_counts=True)"
      ],
      "execution_count": 65,
      "outputs": [
        {
          "output_type": "execute_result",
          "data": {
            "text/plain": [
              "(array([0, 1]), array([ 4, 11]))"
            ]
          },
          "metadata": {
            "tags": []
          },
          "execution_count": 65
        }
      ]
    },
    {
      "cell_type": "code",
      "metadata": {
        "colab": {
          "base_uri": "https://localhost:8080/"
        },
        "id": "pL42ITkM9l8_",
        "outputId": "cf34cdc6-35dc-4cf3-da69-6b03f2871eac"
      },
      "source": [
        "4/15, 11/15  # 테스트 셋에서 빙어:도미 비율"
      ],
      "execution_count": 66,
      "outputs": [
        {
          "output_type": "execute_result",
          "data": {
            "text/plain": [
              "(0.26666666666666666, 0.7333333333333333)"
            ]
          },
          "metadata": {
            "tags": []
          },
          "execution_count": 66
        }
      ]
    },
    {
      "cell_type": "code",
      "metadata": {
        "colab": {
          "base_uri": "https://localhost:8080/",
          "height": 279
        },
        "id": "9Ck8iYM-9qk_",
        "outputId": "fc677474-ad50-47ba-fb68-b2e73bf69cf9"
      },
      "source": [
        "plt.scatter(X_train[:, 1], X_train[:, 0], label='Train')\r\n",
        "plt.scatter(X_test[:, 1], X_test[:, 0], label='Test')\r\n",
        "\r\n",
        "plt.legend()\r\n",
        "plt.xlabel('Length(cm)')\r\n",
        "plt.ylabel('Weight(g)')\r\n",
        "plt.show()"
      ],
      "execution_count": 68,
      "outputs": [
        {
          "output_type": "display_data",
          "data": {
            "image/png": "[encoded data removed]",
            "text/plain": [
              "<Figure size 432x288 with 1 Axes>"
            ]
          },
          "metadata": {
            "tags": [],
            "needs_background": "light"
          }
        }
      ]
    },
    {
      "cell_type": "code",
      "metadata": {
        "id": "8nFZHLZ4-gED"
      },
      "source": [
        "# KNN 모델 생성\r\n",
        "knn_clf = KNeighborsClassifier()"
      ],
      "execution_count": 70,
      "outputs": []
    },
    {
      "cell_type": "code",
      "metadata": {
        "colab": {
          "base_uri": "https://localhost:8080/"
        },
        "id": "QwXK5y_oVepU",
        "outputId": "c42670a7-0ad8-4107-d8a2-c9030b041b6b"
      },
      "source": [
        "# 훈련 셋으로 모델 학습\r\n",
        "knn_clf.fit(X=X_train, y=y_train)"
      ],
      "execution_count": 71,
      "outputs": [
        {
          "output_type": "execute_result",
          "data": {
            "text/plain": [
              "KNeighborsClassifier(algorithm='auto', leaf_size=30, metric='minkowski',\n",
              "                     metric_params=None, n_jobs=None, n_neighbors=5, p=2,\n",
              "                     weights='uniform')"
            ]
          },
          "metadata": {
            "tags": []
          },
          "execution_count": 71
        }
      ]
    },
    {
      "cell_type": "code",
      "metadata": {
        "colab": {
          "base_uri": "https://localhost:8080/"
        },
        "id": "tPUlpQBuVkQK",
        "outputId": "7747ddbc-4042-4c0a-b8cd-fac6aa0fcca6"
      },
      "source": [
        "# 훈련 셋 평가\r\n",
        "knn_clf.score(X=X_train, y=y_train)"
      ],
      "execution_count": 72,
      "outputs": [
        {
          "output_type": "execute_result",
          "data": {
            "text/plain": [
              "1.0"
            ]
          },
          "metadata": {
            "tags": []
          },
          "execution_count": 72
        }
      ]
    },
    {
      "cell_type": "code",
      "metadata": {
        "colab": {
          "base_uri": "https://localhost:8080/"
        },
        "id": "Scrcp89xVrXr",
        "outputId": "6e3567a9-b33c-4e8d-aa1e-8517d7ba5cf2"
      },
      "source": [
        "# 테스트 셋 평가\r\n",
        "knn_clf.score(X=X_test, y=y_test)"
      ],
      "execution_count": 73,
      "outputs": [
        {
          "output_type": "execute_result",
          "data": {
            "text/plain": [
              "1.0"
            ]
          },
          "metadata": {
            "tags": []
          },
          "execution_count": 73
        }
      ]
    },
    {
      "cell_type": "code",
      "metadata": {
        "id": "4TGl6s8_V0_S"
      },
      "source": [
        "test_predicts = knn_clf.predict(X=X_test)"
      ],
      "execution_count": 78,
      "outputs": []
    },
    {
      "cell_type": "code",
      "metadata": {
        "colab": {
          "base_uri": "https://localhost:8080/"
        },
        "id": "WD095YPVWx90",
        "outputId": "e0886c09-e155-49e0-863e-8a32985918b6"
      },
      "source": [
        "test_predicts"
      ],
      "execution_count": 79,
      "outputs": [
        {
          "output_type": "execute_result",
          "data": {
            "text/plain": [
              "array([1, 1, 1, 1, 1, 1, 1, 0, 1, 1, 0, 0, 1, 1, 0])"
            ]
          },
          "metadata": {
            "tags": []
          },
          "execution_count": 79
        }
      ]
    },
    {
      "cell_type": "code",
      "metadata": {
        "colab": {
          "base_uri": "https://localhost:8080/"
        },
        "id": "bxR9HDSUWzV7",
        "outputId": "72bd7038-44dc-42b9-83c3-7f26a277d9a3"
      },
      "source": [
        "test_predicts == y_test  # 테스트 셋의 예측 결과 == 테스트 셋의 실제값"
      ],
      "execution_count": 80,
      "outputs": [
        {
          "output_type": "execute_result",
          "data": {
            "text/plain": [
              "array([ True,  True,  True,  True,  True,  True,  True,  True,  True,\n",
              "        True,  True,  True,  True,  True,  True])"
            ]
          },
          "metadata": {
            "tags": []
          },
          "execution_count": 80
        }
      ]
    },
    {
      "cell_type": "code",
      "metadata": {
        "colab": {
          "base_uri": "https://localhost:8080/"
        },
        "id": "mgtyIOCcW4UL",
        "outputId": "43853227-9d77-452b-a206-17c684561842"
      },
      "source": [
        "# 예측값과 실제값을 사용해서 confustion matrix 생성\r\n",
        "confusion_matrix(y_true=y_test, y_pred=test_predicts)"
      ],
      "execution_count": 81,
      "outputs": [
        {
          "output_type": "execute_result",
          "data": {
            "text/plain": [
              "array([[ 4,  0],\n",
              "       [ 0, 11]])"
            ]
          },
          "metadata": {
            "tags": []
          },
          "execution_count": 81
        }
      ]
    },
    {
      "cell_type": "markdown",
      "metadata": {
        "id": "_f4_CZ-ZYHls"
      },
      "source": [
        "**분류 문제의 성능 지표**\r\n",
        "\r\n",
        "*   정확도(accuracy): 샘플들을 정확하게 분류한 비율.\r\n",
        ">   `accurarcy = (TN + TP) / (TN + FP + FN + TP)`\r\n",
        "\r\n",
        "*   정밀도(precision): 양성 예측의 정확도.\r\n",
        "양성이라고 예측한 샘플들 중에서 정확하게 예측한 비율.\r\n",
        ">   `precision = TP / (FP + TP)`\r\n",
        "\r\n",
        "*   재현율(recall): 실제 양성 샘플들 중에서 정확하게 예측한 비율.\r\n",
        ">   `recall = TP / (FN + TP)`\r\n",
        "\r\n",
        "*   F1-score: 정밀도와 재현율의 조화 평균\r\n",
        ">   `f1 = 2 / (1/precision + 1/recall)`\r\n"
      ]
    },
    {
      "cell_type": "code",
      "metadata": {
        "colab": {
          "base_uri": "https://localhost:8080/"
        },
        "id": "DoVRSxLmXfh8",
        "outputId": "199af471-ee81-4468-cfa7-4a207498bbbd"
      },
      "source": [
        "clf_report = classification_report(y_true=y_test, y_pred=test_predicts,\r\n",
        "                                   labels=[0, 1],\r\n",
        "                                   target_names=['Smelt', 'Bream'])\r\n",
        "print(clf_report)"
      ],
      "execution_count": 83,
      "outputs": [
        {
          "output_type": "stream",
          "text": [
            "              precision    recall  f1-score   support\n",
            "\n",
            "       Smelt       1.00      1.00      1.00         4\n",
            "       Bream       1.00      1.00      1.00        11\n",
            "\n",
            "    accuracy                           1.00        15\n",
            "   macro avg       1.00      1.00      1.00        15\n",
            "weighted avg       1.00      1.00      1.00        15\n",
            "\n"
          ],
          "name": "stdout"
        }
      ]
    },
    {
      "cell_type": "markdown",
      "metadata": {
        "id": "NenFvm3HfQdG"
      },
      "source": [
        "# 데이터 전처리(Data Preprocessing)"
      ]
    },
    {
      "cell_type": "markdown",
      "metadata": {
        "id": "6spZgi7RfgpD"
      },
      "source": [
        "## 데이터 스케일링(Scaling)의 필요성"
      ]
    },
    {
      "cell_type": "code",
      "metadata": {
        "colab": {
          "base_uri": "https://localhost:8080/",
          "height": 279
        },
        "id": "WEHWiN7BaekU",
        "outputId": "c7d3c2fe-a092-4570-a1b9-599c56506504"
      },
      "source": [
        "# 가상의 데이터 (150g, 25cm) 생선 시각화\r\n",
        "plt.scatter(25, 150, marker='v', color='red')\r\n",
        "\r\n",
        "# 학습 셋을 시각화(Weight ~ Length)\r\n",
        "plt.scatter(X_train[:, 1], X_train[:, 0])\r\n",
        "\r\n",
        "plt.xlabel('Length')\r\n",
        "plt.ylabel('Weight')\r\n",
        "plt.show()"
      ],
      "execution_count": 85,
      "outputs": [
        {
          "output_type": "display_data",
          "data": {
            "image/png": "[encoded data removed]",
            "text/plain": [
              "<Figure size 432x288 with 1 Axes>"
            ]
          },
          "metadata": {
            "tags": [],
            "needs_background": "light"
          }
        }
      ]
    },
    {
      "cell_type": "code",
      "metadata": {
        "colab": {
          "base_uri": "https://localhost:8080/"
        },
        "id": "KqZm2VTVhCN1",
        "outputId": "c4b3b7d8-88f4-4b09-f685-946bb54e25e7"
      },
      "source": [
        "# 훈련시킨 kNN 모델에서 (150g, 25cm) 가상의 생선의 예측값?\r\n",
        "test_fish = [[150, 25]]  # (1, 2) shape의 배열\r\n",
        "test_pred = knn_clf.predict(X=test_fish)\r\n",
        "test_pred\r\n",
        "#> 예측 결과: 0 - Smelt(빙어)"
      ],
      "execution_count": 86,
      "outputs": [
        {
          "output_type": "execute_result",
          "data": {
            "text/plain": [
              "array([0])"
            ]
          },
          "metadata": {
            "tags": []
          },
          "execution_count": 86
        }
      ]
    },
    {
      "cell_type": "markdown",
      "metadata": {
        "id": "npMdFBZ4jQJQ"
      },
      "source": [
        "KNeighborsClassifier 클래스 객체(훈련된 kNN 모델)은 k개의 가장 가까운 이웃을 리턴하는 메서드를 가지고 있음."
      ]
    },
    {
      "cell_type": "code",
      "metadata": {
        "id": "erquEM81jOFu"
      },
      "source": [
        "distances, neighbor_indices = knn_clf.kneighbors(X=test_fish,\r\n",
        "                                                 n_neighbors=5,\r\n",
        "                                                 return_distance=True)"
      ],
      "execution_count": 87,
      "outputs": []
    },
    {
      "cell_type": "code",
      "metadata": {
        "colab": {
          "base_uri": "https://localhost:8080/"
        },
        "id": "jB6zRf2_k-GP",
        "outputId": "9e05fcca-c627-4ebb-934a-080915fb291d"
      },
      "source": [
        "distances  #> (1, 5) shape 2d array: 가장 가까운 이웃 5개까지의 거리들"
      ],
      "execution_count": 89,
      "outputs": [
        {
          "output_type": "execute_result",
          "data": {
            "text/plain": [
              "array([[ 92.00086956, 130.48375378, 130.73859415, 137.17988191,\n",
              "        140.00603558]])"
            ]
          },
          "metadata": {
            "tags": []
          },
          "execution_count": 89
        }
      ]
    },
    {
      "cell_type": "code",
      "metadata": {
        "colab": {
          "base_uri": "https://localhost:8080/"
        },
        "id": "epJIN1Wbk_dg",
        "outputId": "ec9c9c25-8086-4a5a-b650-9c8fd0227c47"
      },
      "source": [
        "neighbor_indices  #> (1, 5) shape 2d array: 가장 가까운 이웃 5개의 인덱스들(훈련 셋에서의 인덱스)"
      ],
      "execution_count": 90,
      "outputs": [
        {
          "output_type": "execute_result",
          "data": {
            "text/plain": [
              "array([[ 0, 18, 33, 26, 30]])"
            ]
          },
          "metadata": {
            "tags": []
          },
          "execution_count": 90
        }
      ]
    },
    {
      "cell_type": "code",
      "metadata": {
        "colab": {
          "base_uri": "https://localhost:8080/"
        },
        "id": "gxaevidMoO9a",
        "outputId": "86d0ff17-cdb5-4e0b-f9d1-d844f4aae064"
      },
      "source": [
        "X_train[neighbor_indices[0]]  # fancy(list) indexing"
      ],
      "execution_count": 93,
      "outputs": [
        {
          "output_type": "execute_result",
          "data": {
            "text/plain": [
              "array([[242. ,  25.4],\n",
              "       [ 19.9,  15. ],\n",
              "       [ 19.7,  14.3],\n",
              "       [ 13.4,  12.4],\n",
              "       [290. ,  26.3]])"
            ]
          },
          "metadata": {
            "tags": []
          },
          "execution_count": 93
        }
      ]
    },
    {
      "cell_type": "code",
      "metadata": {
        "colab": {
          "base_uri": "https://localhost:8080/",
          "height": 279
        },
        "id": "PGLpVu82lE2c",
        "outputId": "da55c85b-91b8-4357-cc8d-f05b85afad70"
      },
      "source": [
        "# 가상의 데이터 (150g, 25cm) 생선 시각화\r\n",
        "plt.scatter(25, 150, marker='v', color='red')\r\n",
        "\r\n",
        "# 학습 셋을 시각화(Weight ~ Length)\r\n",
        "plt.scatter(X_train[:, 1], X_train[:, 0])\r\n",
        "\r\n",
        "# 가장 가까운 이웃\r\n",
        "plt.scatter(X_train[0, 1], X_train[0, 0], marker='D', color='orange')\r\n",
        "# 두번째 가까운 이웃\r\n",
        "plt.scatter(X_train[18, 1], X_train[18, 0], marker='D', color='green')\r\n",
        "\r\n",
        "plt.xlabel('Length')\r\n",
        "plt.ylabel('Weight')\r\n",
        "plt.show()"
      ],
      "execution_count": 92,
      "outputs": [
        {
          "output_type": "display_data",
          "data": {
            "image/png": "[encoded data removed]",
            "text/plain": [
              "<Figure size 432x288 with 1 Axes>"
            ]
          },
          "metadata": {
            "tags": [],
            "needs_background": "light"
          }
        }
      ]
    },
    {
      "cell_type": "code",
      "metadata": {
        "colab": {
          "base_uri": "https://localhost:8080/",
          "height": 283
        },
        "id": "RShjw23lozIN",
        "outputId": "67661dc4-e1f2-4f74-e2f8-9f817770c441"
      },
      "source": [
        "# 가상의 데이터 (150g, 25cm) 생선 시각화\r\n",
        "plt.scatter(25, 150, marker='v', color='red')\r\n",
        "\r\n",
        "# 학습 셋을 시각화(Weight ~ Length)\r\n",
        "plt.scatter(X_train[:, 1], X_train[:, 0])\r\n",
        "\r\n",
        "# 가장 가까운 이웃\r\n",
        "plt.scatter(X_train[0, 1], X_train[0, 0], marker='D', color='orange')\r\n",
        "# 두번째 가까운 이웃\r\n",
        "plt.scatter(X_train[18, 1], X_train[18, 0], marker='D', color='green')\r\n",
        "\r\n",
        "# x축과 y축을 동일한 scale로\r\n",
        "plt.xlim((0, 1_000))\r\n",
        "plt.ylim((0, 1_000))\r\n",
        "plt.gca().set_aspect('equal')\r\n",
        "\r\n",
        "plt.xlabel('Length')\r\n",
        "plt.ylabel('Weight')\r\n",
        "plt.show()"
      ],
      "execution_count": 95,
      "outputs": [
        {
          "output_type": "display_data",
          "data": {
            "image/png": "[encoded data removed]",
            "text/plain": [
              "<Figure size 432x288 with 1 Axes>"
            ]
          },
          "metadata": {
            "tags": [],
            "needs_background": "light"
          }
        }
      ]
    }
  ]
}